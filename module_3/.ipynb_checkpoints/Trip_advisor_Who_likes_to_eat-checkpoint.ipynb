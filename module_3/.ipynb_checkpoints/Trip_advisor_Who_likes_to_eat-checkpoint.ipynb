{
 "cells": [
  {
   "cell_type": "markdown",
   "metadata": {},
   "source": [
    "# Find Dishonest Restaurant\n",
    "<img src=\"https://www.netclipart.com/pp/m/349-3494556_forex-scams-by-dishonest-person-lying-cartoon.png\" width=\"600px\">"
   ]
  },
  {
   "cell_type": "markdown",
   "metadata": {},
   "source": [
    "## Description\n",
    "\n",
    "Sometimes, some dishonest restaurants cheating TripAdvisor and their guests by winding up the rating higher than it should be.\n",
    "\n",
    "The main aim of the project is to try to predict the rating of the restaurant with given data.\n",
    "\n",
    "In case if the predictions of our model have significant differences from the actual result, then, most likely we found a dishonest restaurant. "
   ]
  },
  {
   "cell_type": "markdown",
   "metadata": {},
   "source": [
    "### Column Defination\n",
    "\n",
    "Restaurant_id — restaurant / restaurant chain identification number;\n",
    "\n",
    "City — In what city it is located;\n",
    "\n",
    "Cuisine Style — related to a restaurant cuisine;\n",
    "\n",
    "Ranking — the place that this restaurant occupies among all restaurants in its city;\n",
    "\n",
    "Rating — restaurant rating according to TripAdvisor (Target Variable);\n",
    "\n",
    "Price Range — restaurant price range;\n",
    "\n",
    "Number of Reviews — Number of Reviews ;\n",
    "\n",
    "Reviews — data about two reviews that are displayed on the restaurant's website;\n",
    "\n",
    "URL_TA — URL on TripAdvisor;\n",
    "\n",
    "ID_TA — Identificator of restaurant in TripAdvisor's DataBase.\n"
   ]
  },
  {
   "cell_type": "markdown",
   "metadata": {},
   "source": [
    "---\n",
    "### Import Libraries\n",
    "---"
   ]
  },
  {
   "cell_type": "code",
   "execution_count": 1,
   "metadata": {},
   "outputs": [],
   "source": [
    "import numpy as np\n",
    "import pandas as pd\n",
    "import seaborn as sns\n",
    "import matplotlib.pyplot as plt\n",
    "import warnings\n",
    "import re\n",
    "from datetime import timedelta \n",
    "\n",
    "warnings.filterwarnings('ignore')\n",
    "\n",
    "from jupyterthemes import jtplot\n",
    "\n",
    "pd.set_option('display.max_rows', 50)  # Show more rows\n",
    "pd.set_option('display.max_columns', 50)  # Show more columns\n",
    "plt.style.use('ggplot')  # Nice plotting\n",
    "\n",
    "%matplotlib inline\n",
    "\n",
    "jtplot.style(theme='monokai', context='notebook', ticks=True, grid=False)"
   ]
  },
  {
   "cell_type": "code",
   "execution_count": 2,
   "metadata": {},
   "outputs": [
    {
     "data": {
      "image/png": "[encoded data removed]",
      "text/plain": [
       "<Figure size 144x72 with 1 Axes>"
      ]
     },
     "metadata": {},
     "output_type": "display_data"
    }
   ],
   "source": [
    " #colors = ['#001c57', '#50248f', '#a6a6a6', '#38d1ff']\n",
    "colors = ['#50248f','#38d1ff']\n",
    "sns.palplot(sns.color_palette(colors))"
   ]
  },
  {
   "cell_type": "markdown",
   "metadata": {},
   "source": [
    "### 1.  Read and Chek the Dataset"
   ]
  },
  {
   "cell_type": "code",
   "execution_count": 3,
   "metadata": {
    "scrolled": true
   },
   "outputs": [
    {
     "name": "stdout",
     "output_type": "stream",
     "text": [
      "Dataset shape: (40000, 10)\n"
     ]
    }
   ],
   "source": [
    "df = pd.read_csv('main_task.csv')\n",
    "print(f'Dataset shape: {df.shape}')"
   ]
  },
  {
   "cell_type": "markdown",
   "metadata": {},
   "source": [
    "### 1.1 Show basic info"
   ]
  },
  {
   "cell_type": "code",
   "execution_count": 4,
   "metadata": {
    "scrolled": true
   },
   "outputs": [
    {
     "data": {
      "text/html": [
       "<div>\n",
       "<style scoped>\n",
       "    .dataframe tbody tr th:only-of-type {\n",
       "        vertical-align: middle;\n",
       "    }\n",
       "\n",
       "    .dataframe tbody tr th {\n",
       "        vertical-align: top;\n",
       "    }\n",
       "\n",
       "    .dataframe thead th {\n",
       "        text-align: right;\n",
       "    }\n",
       "</style>\n",
       "<table border=\"1\" class=\"dataframe\">\n",
       "  <thead>\n",
       "    <tr style=\"text-align: right;\">\n",
       "      <th></th>\n",
       "      <th>Restaurant_id</th>\n",
       "      <th>City</th>\n",
       "      <th>Cuisine Style</th>\n",
       "      <th>Ranking</th>\n",
       "      <th>Rating</th>\n",
       "      <th>Price Range</th>\n",
       "      <th>Number of Reviews</th>\n",
       "      <th>Reviews</th>\n",
       "      <th>URL_TA</th>\n",
       "      <th>ID_TA</th>\n",
       "    </tr>\n",
       "  </thead>\n",
       "  <tbody>\n",
       "    <tr>\n",
       "      <th>0</th>\n",
       "      <td>id_5569</td>\n",
       "      <td>Paris</td>\n",
       "      <td>['European', 'French', 'International']</td>\n",
       "      <td>5570.0</td>\n",
       "      <td>3.5</td>\n",
       "      <td>$$ - $$$</td>\n",
       "      <td>194.0</td>\n",
       "      <td>[['Good food at your doorstep', 'A good hotel ...</td>\n",
       "      <td>/Restaurant_Review-g187147-d1912643-Reviews-R_...</td>\n",
       "      <td>d1912643</td>\n",
       "    </tr>\n",
       "    <tr>\n",
       "      <th>1</th>\n",
       "      <td>id_1535</td>\n",
       "      <td>Stockholm</td>\n",
       "      <td>NaN</td>\n",
       "      <td>1537.0</td>\n",
       "      <td>4.0</td>\n",
       "      <td>NaN</td>\n",
       "      <td>10.0</td>\n",
       "      <td>[['Unique cuisine', 'Delicious Nepalese food']...</td>\n",
       "      <td>/Restaurant_Review-g189852-d7992032-Reviews-Bu...</td>\n",
       "      <td>d7992032</td>\n",
       "    </tr>\n",
       "    <tr>\n",
       "      <th>2</th>\n",
       "      <td>id_352</td>\n",
       "      <td>London</td>\n",
       "      <td>['Japanese', 'Sushi', 'Asian', 'Grill', 'Veget...</td>\n",
       "      <td>353.0</td>\n",
       "      <td>4.5</td>\n",
       "      <td>$$$$</td>\n",
       "      <td>688.0</td>\n",
       "      <td>[['Catch up with friends', 'Not exceptional'],...</td>\n",
       "      <td>/Restaurant_Review-g186338-d8632781-Reviews-RO...</td>\n",
       "      <td>d8632781</td>\n",
       "    </tr>\n",
       "    <tr>\n",
       "      <th>3</th>\n",
       "      <td>id_3456</td>\n",
       "      <td>Berlin</td>\n",
       "      <td>NaN</td>\n",
       "      <td>3458.0</td>\n",
       "      <td>5.0</td>\n",
       "      <td>NaN</td>\n",
       "      <td>3.0</td>\n",
       "      <td>[[], []]</td>\n",
       "      <td>/Restaurant_Review-g187323-d1358776-Reviews-Es...</td>\n",
       "      <td>d1358776</td>\n",
       "    </tr>\n",
       "    <tr>\n",
       "      <th>4</th>\n",
       "      <td>id_615</td>\n",
       "      <td>Munich</td>\n",
       "      <td>['German', 'Central European', 'Vegetarian Fri...</td>\n",
       "      <td>621.0</td>\n",
       "      <td>4.0</td>\n",
       "      <td>$$ - $$$</td>\n",
       "      <td>84.0</td>\n",
       "      <td>[['Best place to try a Bavarian food', 'Nice b...</td>\n",
       "      <td>/Restaurant_Review-g187309-d6864963-Reviews-Au...</td>\n",
       "      <td>d6864963</td>\n",
       "    </tr>\n",
       "  </tbody>\n",
       "</table>\n",
       "</div>"
      ],
      "text/plain": [
       "  Restaurant_id       City                                      Cuisine Style  \\\n",
       "0       id_5569      Paris            ['European', 'French', 'International']   \n",
       "1       id_1535  Stockholm                                                NaN   \n",
       "2        id_352     London  ['Japanese', 'Sushi', 'Asian', 'Grill', 'Veget...   \n",
       "3       id_3456     Berlin                                                NaN   \n",
       "4        id_615     Munich  ['German', 'Central European', 'Vegetarian Fri...   \n",
       "\n",
       "   Ranking  Rating Price Range  Number of Reviews  \\\n",
       "0   5570.0     3.5    $$ - $$$              194.0   \n",
       "1   1537.0     4.0         NaN               10.0   \n",
       "2    353.0     4.5        $$$$              688.0   \n",
       "3   3458.0     5.0         NaN                3.0   \n",
       "4    621.0     4.0    $$ - $$$               84.0   \n",
       "\n",
       "                                             Reviews  \\\n",
       "0  [['Good food at your doorstep', 'A good hotel ...   \n",
       "1  [['Unique cuisine', 'Delicious Nepalese food']...   \n",
       "2  [['Catch up with friends', 'Not exceptional'],...   \n",
       "3                                           [[], []]   \n",
       "4  [['Best place to try a Bavarian food', 'Nice b...   \n",
       "\n",
       "                                              URL_TA     ID_TA  \n",
       "0  /Restaurant_Review-g187147-d1912643-Reviews-R_...  d1912643  \n",
       "1  /Restaurant_Review-g189852-d7992032-Reviews-Bu...  d7992032  \n",
       "2  /Restaurant_Review-g186338-d8632781-Reviews-RO...  d8632781  \n",
       "3  /Restaurant_Review-g187323-d1358776-Reviews-Es...  d1358776  \n",
       "4  /Restaurant_Review-g187309-d6864963-Reviews-Au...  d6864963  "
      ]
     },
     "metadata": {},
     "output_type": "display_data"
    },
    {
     "name": "stdout",
     "output_type": "stream",
     "text": [
      "<class 'pandas.core.frame.DataFrame'>\n",
      "RangeIndex: 40000 entries, 0 to 39999\n",
      "Data columns (total 10 columns):\n",
      " #   Column             Non-Null Count  Dtype  \n",
      "---  ------             --------------  -----  \n",
      " 0   Restaurant_id      40000 non-null  object \n",
      " 1   City               40000 non-null  object \n",
      " 2   Cuisine Style      30717 non-null  object \n",
      " 3   Ranking            40000 non-null  float64\n",
      " 4   Rating             40000 non-null  float64\n",
      " 5   Price Range        26114 non-null  object \n",
      " 6   Number of Reviews  37457 non-null  float64\n",
      " 7   Reviews            40000 non-null  object \n",
      " 8   URL_TA             40000 non-null  object \n",
      " 9   ID_TA              40000 non-null  object \n",
      "dtypes: float64(3), object(7)\n",
      "memory usage: 3.1+ MB\n"
     ]
    }
   ],
   "source": [
    "display(df.head())\n",
    "df.info()"
   ]
  },
  {
   "cell_type": "markdown",
   "metadata": {},
   "source": [
    "### 1.2 Show the data types"
   ]
  },
  {
   "cell_type": "code",
   "execution_count": 5,
   "metadata": {},
   "outputs": [
    {
     "data": {
      "text/html": [
       "<div>\n",
       "<style scoped>\n",
       "    .dataframe tbody tr th:only-of-type {\n",
       "        vertical-align: middle;\n",
       "    }\n",
       "\n",
       "    .dataframe tbody tr th {\n",
       "        vertical-align: top;\n",
       "    }\n",
       "\n",
       "    .dataframe thead th {\n",
       "        text-align: right;\n",
       "    }\n",
       "</style>\n",
       "<table border=\"1\" class=\"dataframe\">\n",
       "  <thead>\n",
       "    <tr style=\"text-align: right;\">\n",
       "      <th></th>\n",
       "      <th>Column Type</th>\n",
       "      <th>Count</th>\n",
       "    </tr>\n",
       "  </thead>\n",
       "  <tbody>\n",
       "    <tr>\n",
       "      <th>0</th>\n",
       "      <td>float64</td>\n",
       "      <td>3</td>\n",
       "    </tr>\n",
       "    <tr>\n",
       "      <th>1</th>\n",
       "      <td>object</td>\n",
       "      <td>7</td>\n",
       "    </tr>\n",
       "  </tbody>\n",
       "</table>\n",
       "</div>"
      ],
      "text/plain": [
       "  Column Type  Count\n",
       "0     float64      3\n",
       "1      object      7"
      ]
     },
     "execution_count": 5,
     "metadata": {},
     "output_type": "execute_result"
    }
   ],
   "source": [
    "dtype_df = df.dtypes.reset_index()\n",
    "dtype_df.columns = ['Count', 'Column Type']\n",
    "dtype_df.groupby('Column Type').agg('count').reset_index()"
   ]
  },
  {
   "cell_type": "markdown",
   "metadata": {},
   "source": [
    "Let's see what type of data in each column-cell"
   ]
  },
  {
   "cell_type": "code",
   "execution_count": 6,
   "metadata": {},
   "outputs": [
    {
     "name": "stdout",
     "output_type": "stream",
     "text": [
      "Restaurant_id <class 'str'>\n",
      "City <class 'str'>\n",
      "Cuisine Style <class 'float'>\n",
      "Ranking <class 'numpy.float64'>\n",
      "Rating <class 'numpy.float64'>\n",
      "Price Range <class 'float'>\n",
      "Number of Reviews <class 'numpy.float64'>\n",
      "Reviews <class 'str'>\n",
      "URL_TA <class 'str'>\n",
      "ID_TA <class 'str'>\n"
     ]
    }
   ],
   "source": [
    "for i,j in enumerate(df.columns):\n",
    "    print(j,type(df.loc[1][i]))"
   ]
  },
  {
   "cell_type": "markdown",
   "metadata": {},
   "source": [
    "Well, it is more interesting. Let's briefly see at the content of object data."
   ]
  },
  {
   "cell_type": "code",
   "execution_count": 7,
   "metadata": {},
   "outputs": [
    {
     "name": "stdout",
     "output_type": "stream",
     "text": [
      "Index(['Restaurant_id', 'City', 'Cuisine Style', 'Price Range', 'Reviews',\n",
      "       'URL_TA', 'ID_TA'],\n",
      "      dtype='object')\n"
     ]
    }
   ],
   "source": [
    "obj = df.dtypes[df.dtypes == 'object'].index\n",
    "print(obj)"
   ]
  },
  {
   "cell_type": "code",
   "execution_count": 8,
   "metadata": {},
   "outputs": [
    {
     "name": "stdout",
     "output_type": "stream",
     "text": [
      "Col Name: Restaurant_id, Content: ['id_5569' 'id_1535' 'id_352' ... 'id_7068' 'id_8887' 'id_6057']\n",
      "\n",
      "Col Name: City, Content: ['Paris' 'Stockholm' 'London' 'Berlin' 'Munich' 'Oporto' 'Milan'\n",
      " 'Bratislava' 'Vienna' 'Rome' 'Barcelona' 'Madrid' 'Dublin' 'Brussels'\n",
      " 'Zurich' 'Warsaw' 'Budapest' 'Copenhagen' 'Amsterdam' 'Lyon' 'Hamburg'\n",
      " 'Lisbon' 'Prague' 'Oslo' 'Helsinki' 'Edinburgh' 'Geneva' 'Ljubljana'\n",
      " 'Athens' 'Luxembourg' 'Krakow']\n",
      "\n",
      "Col Name: Cuisine Style, Content: [\"['European', 'French', 'International']\" nan\n",
      " \"['Japanese', 'Sushi', 'Asian', 'Grill', 'Vegetarian Friendly', 'Vegan Options', 'Gluten Free Options']\"\n",
      " ...\n",
      " \"['Steakhouse', 'Barbecue', 'Australian', 'Argentinean', 'South American']\"\n",
      " \"['French', 'American', 'Cafe', 'Healthy', 'Soups']\"\n",
      " \"['French', 'Contemporary', 'Fusion', 'Gastropub']\"]\n",
      "\n",
      "Col Name: Price Range, Content: ['$$ - $$$' nan '$$$$' '$']\n",
      "\n",
      "Col Name: Reviews, Content: [\"[['Good food at your doorstep', 'A good hotel restaurant'], ['12/31/2017', '11/20/2017']]\"\n",
      " \"[['Unique cuisine', 'Delicious Nepalese food'], ['07/06/2017', '06/19/2016']]\"\n",
      " \"[['Catch up with friends', 'Not exceptional'], ['01/08/2018', '01/06/2018']]\"\n",
      " ...\n",
      " \"[['Good by swedish standards', 'A hidden jewel in the middle of Västertorp...'], ['11/03/2016', '04/12/2008']]\"\n",
      " \"[['Underground restaurant', 'Oldest Restaurant in Warsaw'], ['07/11/2017', '06/18/2017']]\"\n",
      " \"[['Average', 'Nice an informal'], ['01/31/2016', '07/04/2012']]\"]\n",
      "\n",
      "Col Name: URL_TA, Content: ['/Restaurant_Review-g187147-d1912643-Reviews-R_Yves-Paris_Ile_de_France.html'\n",
      " '/Restaurant_Review-g189852-d7992032-Reviews-Buddha_Nepal-Stockholm.html'\n",
      " '/Restaurant_Review-g186338-d8632781-Reviews-ROKA_Mayfair-London_England.html'\n",
      " ...\n",
      " '/Restaurant_Review-g189852-d947615-Reviews-Sushi_Bar_Anu-Stockholm.html'\n",
      " '/Restaurant_Review-g274856-d1100838-Reviews-Honoratka_dawna_Oberza_na_Miodowej-Warsaw_Mazovia_Province_Central_Poland.html'\n",
      " '/Restaurant_Review-g187849-d1109020-Reviews-Taberna_Vasca-Milan_Lombardy.html']\n",
      "\n",
      "Col Name: ID_TA, Content: ['d1912643' 'd7992032' 'd8632781' ... 'd947615' 'd1100838' 'd1109020']\n",
      "\n"
     ]
    }
   ],
   "source": [
    "for i in obj:\n",
    "    print(f'Col Name: {i}, Content: {df[i].unique()}\\n')"
   ]
  },
  {
   "cell_type": "markdown",
   "metadata": {},
   "source": [
    "Well, that is clearly obvious,that some data in columns pretend to be as a list, however it is string or float type.\n",
    "\n",
    "Such as:\n",
    " - column Cuisine Style is looks like a list, but has float64 type;\n",
    " - column Reviews looks like nested list with following template [[ comment_1 , comment_2 ], [date1 , date2]], but in fact it has str type of data."
   ]
  },
  {
   "cell_type": "markdown",
   "metadata": {},
   "source": [
    "Rename columns removing spaces and substituting capital letters"
   ]
  },
  {
   "cell_type": "code",
   "execution_count": 9,
   "metadata": {},
   "outputs": [],
   "source": [
    "df.rename(columns={'Restaurant_id': 'restaurant_id',\n",
    "                   'City' : 'city',\n",
    "                   'Cuisine Style': 'cuisine_style',\n",
    "                   'Ranking': 'ranking',\n",
    "                   'Rating': 'rating',\n",
    "                   'Price Range' :'price_range',\n",
    "                   'Number of Reviews': 'reviews_number',\n",
    "                   'Reviews': 'reviews',\n",
    "                   'URL_TA': 'url_ta',\n",
    "                   'ID_TA' : 'id_ta'},inplace=True)"
   ]
  },
  {
   "cell_type": "markdown",
   "metadata": {},
   "source": [
    "### 1.3 Missing values"
   ]
  },
  {
   "cell_type": "code",
   "execution_count": 10,
   "metadata": {
    "scrolled": true
   },
   "outputs": [
    {
     "name": "stdout",
     "output_type": "stream",
     "text": [
      "restaurant_id - 0.0%\n",
      "city - 0.0%\n",
      "cuisine_style - 23.0%\n",
      "ranking - 0.0%\n",
      "rating - 0.0%\n",
      "price_range - 35.0%\n",
      "reviews_number - 6.0%\n",
      "reviews - 0.0%\n",
      "url_ta - 0.0%\n",
      "id_ta - 0.0%\n"
     ]
    },
    {
     "data": {
      "image/png": "[encoded data removed]",
      "text/plain": [
       "<Figure size 720x720 with 2 Axes>"
      ]
     },
     "metadata": {},
     "output_type": "display_data"
    }
   ],
   "source": [
    "# Plot missing values\n",
    "cols = df.columns\n",
    "fig, ax = plt.subplots(figsize=(10, 10))\n",
    "sns.heatmap(df[cols].isnull(),cmap=sns.color_palette(colors))\n",
    "\n",
    "# Show in percents\n",
    "\n",
    "for col in df.columns:\n",
    "    pct_missing = np.mean(df[col].isnull())\n",
    "    print(f'{col} - {round(pct_missing*100)}%')"
   ]
  },
  {
   "cell_type": "markdown",
   "metadata": {},
   "source": [
    "---\n",
    "## Resume\n",
    "---\n",
    "\n",
    " - DataSet has 40k rows and 10 columns.\n",
    " - Column 'cuisine_style' has 23% of missing values\n",
    " - Column 'price_range' has 35% of missing values\n",
    " - Column 'reviews_number' has 6% of missing values while column 'reviews' has no any single missing value. Here is a discrepancy. If we visually check the content of the column 'reviews', we find the following value :'[[],[]]'. Definatelly it is a missing value which need to be treated in further data-preprocessing.\n",
    " - Type in particular cell sometimes differ with pd.dtypes. Need to take care about that in further.\n"
   ]
  },
  {
   "cell_type": "markdown",
   "metadata": {},
   "source": [
    "## 2. Exploratory Data Analysis"
   ]
  },
  {
   "cell_type": "markdown",
   "metadata": {},
   "source": [
    "### 2.1 Target Variable analysis"
   ]
  },
  {
   "cell_type": "code",
   "execution_count": 11,
   "metadata": {},
   "outputs": [
    {
     "data": {
      "text/plain": [
       "Text(0.5, 0, 'Rating')"
      ]
     },
     "execution_count": 11,
     "metadata": {},
     "output_type": "execute_result"
    },
    {
     "data": {
      "image/png": "[encoded data removed]",
      "text/plain": [
       "<Figure size 1080x360 with 2 Axes>"
      ]
     },
     "metadata": {},
     "output_type": "display_data"
    }
   ],
   "source": [
    "plt.figure(figsize=(15 ,5))\n",
    "plt.subplot(121)\n",
    "sns.distplot(df.rating.values, bins=10,color=colors[0])\n",
    "plt.title('Rating Distribution\\n', fontsize=15)\n",
    "plt.xlabel ('Rating')\n",
    "plt.ylabel ('Quantity (frequency)')\n",
    "\n",
    "plt.subplot(122)\n",
    "sns.boxplot(df.rating.values, color=colors[1])\n",
    "plt.title('Rating Distribution\\n', fontsize=15)\n",
    "plt.xlabel('Rating')"
   ]
  },
  {
   "cell_type": "code",
   "execution_count": 12,
   "metadata": {},
   "outputs": [
    {
     "data": {
      "text/plain": [
       "count    40000.000000\n",
       "mean         3.993037\n",
       "std          0.668417\n",
       "min          1.000000\n",
       "25%          3.500000\n",
       "50%          4.000000\n",
       "75%          4.500000\n",
       "max          5.000000\n",
       "Name: rating, dtype: float64"
      ]
     },
     "execution_count": 12,
     "metadata": {},
     "output_type": "execute_result"
    }
   ],
   "source": [
    "df['rating'].describe()"
   ]
  },
  {
   "cell_type": "markdown",
   "metadata": {},
   "source": [
    "The Target variable has a normal distribution shifted to the right side of 1 to 5. The first and third quartiles are in the range from  3.5 to 4.5, the median is 4. Also outliers has been observed for target variable."
   ]
  },
  {
   "cell_type": "markdown",
   "metadata": {},
   "source": [
    "### 2.2 Restaurant_Id column"
   ]
  },
  {
   "cell_type": "code",
   "execution_count": 13,
   "metadata": {},
   "outputs": [
    {
     "name": "stdout",
     "output_type": "stream",
     "text": [
      "Unique Id quantity: 11909\n"
     ]
    },
    {
     "data": {
      "text/plain": [
       "id_871      18\n",
       "id_633      18\n",
       "id_227      18\n",
       "id_436      18\n",
       "id_430      17\n",
       "            ..\n",
       "id_16251     1\n",
       "id_9086      1\n",
       "id_12317     1\n",
       "id_8811      1\n",
       "id_13839     1\n",
       "Name: restaurant_id, Length: 11909, dtype: int64"
      ]
     },
     "execution_count": 13,
     "metadata": {},
     "output_type": "execute_result"
    }
   ],
   "source": [
    "print(f'Unique Id quantity: {df.restaurant_id.nunique()}')\n",
    "df['restaurant_id'].value_counts()"
   ]
  },
  {
   "cell_type": "markdown",
   "metadata": {},
   "source": [
    "---\n",
    "\n",
    "Well, the total quantity of rows is 40k while number of unique id is 11k.\n",
    "\n",
    "We may see some dublicates here. But:\n",
    "\n",
    "With a reference to a column description it may says us that we have some chain restaurants in dataset.\n",
    "\n",
    "---"
   ]
  },
  {
   "cell_type": "markdown",
   "metadata": {},
   "source": [
    "### 2.3 City column"
   ]
  },
  {
   "cell_type": "markdown",
   "metadata": {},
   "source": [
    "How are cities distrubuted?"
   ]
  },
  {
   "cell_type": "code",
   "execution_count": 14,
   "metadata": {
    "scrolled": false
   },
   "outputs": [
    {
     "name": "stdout",
     "output_type": "stream",
     "text": [
      "Total Number of Cities in DataSet: 31\n"
     ]
    },
    {
     "data": {
      "image/png": "[encoded data removed]",
      "text/plain": [
       "<Figure size 1500x500 with 1 Axes>"
      ]
     },
     "metadata": {},
     "output_type": "display_data"
    }
   ],
   "source": [
    "plt.figure(figsize=(15 ,5),dpi = 100)\n",
    "sns.countplot(df['city'], order=df['city'].value_counts().index)\n",
    "plt.xticks(rotation=45)\n",
    "plt.title('Cities Distribution\\n', fontsize=15)\n",
    "plt.xlabel ('City Name')\n",
    "plt.ylabel ('Quantity (frequency)')\n",
    "\n",
    "print(f'Total Number of Cities in DataSet: {df.city.nunique()}')"
   ]
  },
  {
   "cell_type": "markdown",
   "metadata": {},
   "source": [
    "---\n",
    "\n",
    "The overwhelming majority of restaurants presented in the dataset located in London, Paris, Madrid. \n",
    "\n",
    "All cities are European.\n",
    "\n",
    "The city of Oporto is not identified. It is actually the name of the restaurant in Porto(Portugal)\n",
    "\n",
    "Most likely it shall be Porto instead of Oporto.\n",
    "\n",
    "---"
   ]
  },
  {
   "cell_type": "markdown",
   "metadata": {},
   "source": [
    "### 2.4 Cuisine_style column"
   ]
  },
  {
   "cell_type": "markdown",
   "metadata": {},
   "source": [
    "First of all, we have to manage the list of cuisines in a way that we can use the data and produce some statistics."
   ]
  },
  {
   "cell_type": "code",
   "execution_count": 15,
   "metadata": {},
   "outputs": [
    {
     "name": "stdout",
     "output_type": "stream",
     "text": [
      "125\n"
     ]
    }
   ],
   "source": [
    "# Before we start, we need to save an information in dataset, where there were a missing values\n",
    "\n",
    "# Create a column where indicate that Cuisine is not presented for this restaurant\n",
    "df['cuisine_ctyle_empty'] = df['cuisine_style'].isnull().astype('uint8')\n",
    "\n",
    "# Fill missed values in column with 'unknown'\n",
    "df['cuisine_style'] = df['cuisine_style'].fillna(\"['unknown']\")\n",
    "\n",
    "# convert string in the column into a list\n",
    "df['cuisine_style'] = df['cuisine_style'].apply(lambda x: eval(x))\n",
    "\n",
    "# Create separate dataframe for analyse\n",
    "\n",
    "df1 = df[['city','cuisine_style','ranking','rating','reviews_number']].explode('cuisine_style')\n",
    "\n",
    "print(df1['cuisine_style'].nunique()-1) # -1 cos we already filled missed value. Dont count it"
   ]
  },
  {
   "cell_type": "markdown",
   "metadata": {},
   "source": [
    "Check  a top 10 of the most common cuisine styles"
   ]
  },
  {
   "cell_type": "code",
   "execution_count": 16,
   "metadata": {},
   "outputs": [
    {
     "data": {
      "image/png": "[encoded data removed]",
      "text/plain": [
       "<Figure size 1080x360 with 1 Axes>"
      ]
     },
     "metadata": {},
     "output_type": "display_data"
    }
   ],
   "source": [
    "df_cuisine_style = df1.cuisine_style.value_counts().sort_values(ascending = False)[:10]\n",
    "\n",
    "count_ths = np.arange(0, 1.3e4, 5e3)\n",
    "count = np.arange(0, 20, 5)\n",
    "\n",
    "\n",
    "fig = plt.figure(figsize=(15, 5))\n",
    "ax = plt.subplot();\n",
    "\n",
    "\n",
    "plt.bar(x = df_cuisine_style.index, height=df_cuisine_style, color=colors[0]);\n",
    "\n",
    "plt.yticks(count_ths, count);\n",
    "plt.xticks(rotation=45)\n",
    "plt.ylabel('Total Places (Thousands)');\n",
    "ax.spines['right'].set_visible(False);\n",
    "ax.spines['top'].set_visible(False);\n",
    "ax.spines['left'].set_visible(False);\n",
    "plt.title('Top 10 most common cuisines');\n",
    "ax.tick_params(direction='out', length=0, width=0, colors='white');"
   ]
  },
  {
   "cell_type": "markdown",
   "metadata": {},
   "source": [
    "--- \n",
    "The dataset has 125 unique cuisines.\n",
    "\n",
    "Vegetarian Friendly places are clearly the most common ones around Europe, followed by mostly European-style cuisine.\n",
    "\n",
    "---"
   ]
  },
  {
   "cell_type": "markdown",
   "metadata": {},
   "source": [
    "Which are the cuisines that people tend to review?"
   ]
  },
  {
   "cell_type": "code",
   "execution_count": 17,
   "metadata": {},
   "outputs": [],
   "source": [
    "df_cuisine_style = df1.groupby('cuisine_style').reviews_number.sum().sort_values(ascending=False)[:10]"
   ]
  },
  {
   "cell_type": "code",
   "execution_count": 18,
   "metadata": {},
   "outputs": [
    {
     "data": {
      "image/png": "[encoded data removed]",
      "text/plain": [
       "<Figure size 1080x360 with 1 Axes>"
      ]
     },
     "metadata": {},
     "output_type": "display_data"
    }
   ],
   "source": [
    "count_ths = np.arange(0, 3.3e6, 5e5)\n",
    "count = np.arange(0, 9.3, 0.5)\n",
    "\n",
    "fig = plt.figure(figsize=(15, 5))\n",
    "ax = plt.subplot();\n",
    "\n",
    "plt.bar(x = df_cuisine_style.index, height=df_cuisine_style, color=colors[1]);\n",
    "\n",
    "plt.yticks(count_ths, count);\n",
    "plt.xticks(rotation=45)\n",
    "plt.ylabel('Total Reviews (Million)');\n",
    "ax.spines['right'].set_visible(False);\n",
    "ax.spines['top'].set_visible(False);\n",
    "ax.spines['left'].set_visible(False);\n",
    "plt.title('Top 10 most reviewed cuisines');\n",
    "ax.tick_params(direction='out', length=0, width=0, colors='grey');"
   ]
  },
  {
   "cell_type": "markdown",
   "metadata": {},
   "source": [
    "---\n",
    "\n",
    "The chart is more or less simillar with above one.But it's notable that the Vegan and Gluten Free Options are very likely to be reviewed by the customers.\n",
    "\n",
    "People are not tend to review restaurants where cuisins are not shown. So we made a right desicion to keep (but not delete) rows with missing cuisins by replacing nan value to 'unknown'. Perhaps this info may help us in further modeling.\n",
    "\n",
    "---"
   ]
  },
  {
   "cell_type": "markdown",
   "metadata": {},
   "source": [
    "### 2.5 Ranking column"
   ]
  },
  {
   "cell_type": "markdown",
   "metadata": {},
   "source": [
    "How is it distributed?"
   ]
  },
  {
   "cell_type": "code",
   "execution_count": 19,
   "metadata": {
    "scrolled": false
   },
   "outputs": [
    {
     "data": {
      "text/plain": [
       "Text(0.5, 0, 'Ranking')"
      ]
     },
     "execution_count": 19,
     "metadata": {},
     "output_type": "execute_result"
    },
    {
     "data": {
      "image/png": "[encoded data removed]",
      "text/plain": [
       "<Figure size 1080x360 with 2 Axes>"
      ]
     },
     "metadata": {},
     "output_type": "display_data"
    }
   ],
   "source": [
    "plt.figure(figsize=(15 ,5))\n",
    "plt.subplot(121)\n",
    "sns.distplot(df.ranking.values, bins=25,color=colors[0])\n",
    "plt.title('Ranking Distribution\\n', fontsize=15)\n",
    "plt.xlabel ('Ranking')\n",
    "plt.ylabel ('Quantity (frequency)')\n",
    "\n",
    "plt.subplot(122)\n",
    "sns.boxplot(df.ranking.values, color=colors[1])\n",
    "plt.title('Ranking Distribution\\n', fontsize=15)\n",
    "plt.xlabel('Ranking')"
   ]
  },
  {
   "cell_type": "code",
   "execution_count": 20,
   "metadata": {},
   "outputs": [
    {
     "data": {
      "text/plain": [
       "count    40000.000000\n",
       "mean      3676.028525\n",
       "std       3708.749567\n",
       "min          1.000000\n",
       "25%        973.000000\n",
       "50%       2285.000000\n",
       "75%       5260.000000\n",
       "max      16444.000000\n",
       "Name: ranking, dtype: float64"
      ]
     },
     "execution_count": 20,
     "metadata": {},
     "output_type": "execute_result"
    }
   ],
   "source": [
    "df['ranking'].describe()"
   ]
  },
  {
   "cell_type": "markdown",
   "metadata": {},
   "source": [
    "---\n",
    "\n",
    "The Ranking distribution shifted to the left side and scattered from 1 to 16444. The first and third quartiles are in the range from 973 to 5260, the median is 2285.\n",
    "\n",
    "However, with a reference to the data description, the Ranking is the place that this restaurant occupies among all restaurants in its city. So we cannot observe it separately from cities.\n",
    "\n",
    "---"
   ]
  },
  {
   "cell_type": "markdown",
   "metadata": {},
   "source": [
    "So, let's plot a distribution of a ranking depend on city (take 10-top cities in dataset)"
   ]
  },
  {
   "cell_type": "code",
   "execution_count": 21,
   "metadata": {},
   "outputs": [
    {
     "data": {
      "text/plain": [
       "Text(0, 0.5, 'Quantity (frequency)')"
      ]
     },
     "execution_count": 21,
     "metadata": {},
     "output_type": "execute_result"
    },
    {
     "data": {
      "image/png": "[encoded data removed]",
      "text/plain": [
       "<Figure size 1080x360 with 1 Axes>"
      ]
     },
     "metadata": {},
     "output_type": "display_data"
    }
   ],
   "source": [
    "plt.figure(figsize=(15 ,5))\n",
    "\n",
    "for city in (df['city'].value_counts())[0:10].index:  \n",
    "    sns.distplot(df['ranking'][df['city'] == city],kde=False,label = city)\n",
    "    \n",
    "plt.legend(prop={'size': 10})\n",
    "plt.title('Ranking Distribution among cities\\n', fontsize=15)\n",
    "plt.xlabel('Ranking')\n",
    "plt.ylabel('Quantity (frequency)')"
   ]
  },
  {
   "cell_type": "markdown",
   "metadata": {},
   "source": [
    "---\n",
    "\n",
    "Well, as we see the ranking has normal distribution in each separate city. And as we already know , London is taking a top place by presented restaurants. So it in not surprised, that why do we have a shifting of distribution in a left side. Big cities has lots of restaurants.\n",
    "\n",
    "Then in a further future engeniring section (below) we need to consider this by creating equivalent ranking.\n",
    "\n",
    "---"
   ]
  },
  {
   "cell_type": "markdown",
   "metadata": {},
   "source": [
    "Chek the correlation"
   ]
  },
  {
   "cell_type": "code",
   "execution_count": 22,
   "metadata": {},
   "outputs": [
    {
     "name": "stdout",
     "output_type": "stream",
     "text": [
      "Rank of Matrix: 4\n",
      "Determinat of matrix :0.778\n",
      "Shape of matrix :(4, 4)\n"
     ]
    },
    {
     "data": {
      "image/png": "[encoded data removed]",
      "text/plain": [
       "<Figure size 504x504 with 2 Axes>"
      ]
     },
     "metadata": {},
     "output_type": "display_data"
    }
   ],
   "source": [
    "X = df.corr()\n",
    "fig, ax = plt.subplots(figsize=(7, 7))\n",
    "sns.heatmap(X, vmax=.7, square=True, annot=True)\n",
    "\n",
    "print(f'Rank of Matrix: {np.linalg.matrix_rank(X)}')\n",
    "print(f'Determinat of matrix :{np.round(np.linalg.det(X),3)}')\n",
    "print(f'Shape of matrix :{np.shape(X)}')"
   ]
  },
  {
   "cell_type": "markdown",
   "metadata": {},
   "source": [
    "---\n",
    "\n",
    "Here we can see some correlations with target variable.\n",
    "\n",
    "There is no correlations between features. It is also confirmed by rank of correlation matrix. It has full rank.\n",
    "\n",
    "Most likely, we won't have a problems in a modeling\n",
    "\n",
    "----"
   ]
  },
  {
   "cell_type": "markdown",
   "metadata": {},
   "source": [
    "### 2.6 Price range column"
   ]
  },
  {
   "cell_type": "markdown",
   "metadata": {},
   "source": [
    "First of all, with a reference to a section 1, we know that this column has 35% of nan values and presented as dollar symbol\n",
    "\n",
    "Let's replace these symbols in the dataset for the three price ranges with  more intuitive (cheap - medium - high ranges) and replace the NaN ones (set as not available)"
   ]
  },
  {
   "cell_type": "code",
   "execution_count": 23,
   "metadata": {},
   "outputs": [],
   "source": [
    "df['price_range'] = df['price_range'].fillna('NA')\n",
    "price_ranges = {'$': 'Cheap', '$$ - $$$': 'Medium',\n",
    "                '$$$$': 'High', 'NA': 'NotAvailable'}\n",
    "df['price_range'] = df['price_range'].map(price_ranges)"
   ]
  },
  {
   "cell_type": "code",
   "execution_count": 24,
   "metadata": {},
   "outputs": [
    {
     "data": {
      "text/plain": [
       "Text(0, 0.5, 'Rating')"
      ]
     },
     "execution_count": 24,
     "metadata": {},
     "output_type": "execute_result"
    },
    {
     "data": {
      "image/png": "[encoded data removed]",
      "text/plain": [
       "<Figure size 720x360 with 1 Axes>"
      ]
     },
     "metadata": {},
     "output_type": "display_data"
    }
   ],
   "source": [
    "plt.figure(figsize=(10 ,5))\n",
    "\n",
    "sns.boxplot(x='price_range',y= 'rating',data=df)\n",
    "\n",
    "plt.title('Price Range to Rating\\n', fontsize=15)\n",
    "plt.xlabel ('Price range')\n",
    "plt.ylabel ('Rating')"
   ]
  },
  {
   "cell_type": "markdown",
   "metadata": {},
   "source": [
    "---\n",
    "\n",
    "Well, restaurants with high prices and cheap prices getting low ratings less often than restaurants with a medium level\n",
    "\n",
    "---"
   ]
  },
  {
   "cell_type": "markdown",
   "metadata": {},
   "source": [
    "### 2.7 Reviews number column"
   ]
  },
  {
   "cell_type": "markdown",
   "metadata": {},
   "source": [
    "---\n",
    "\n",
    "We already know that this column has nan values. Also we know that The most reviewable cuisin is vegan\n",
    "\n",
    "Missing values will be filled in Feature engineering section.\n",
    "\n",
    "Important Note. \n",
    "\n",
    "Filling the missing data must be done in a complex with proceeding the reviews column as we note that there is some descripancy between review numbers and revies itself\n",
    "\n",
    "---"
   ]
  },
  {
   "cell_type": "code",
   "execution_count": null,
   "metadata": {},
   "outputs": [],
   "source": []
  },
  {
   "cell_type": "code",
   "execution_count": null,
   "metadata": {},
   "outputs": [],
   "source": []
  },
  {
   "cell_type": "code",
   "execution_count": null,
   "metadata": {},
   "outputs": [],
   "source": []
  },
  {
   "cell_type": "code",
   "execution_count": null,
   "metadata": {},
   "outputs": [],
   "source": []
  },
  {
   "cell_type": "code",
   "execution_count": null,
   "metadata": {},
   "outputs": [],
   "source": []
  },
  {
   "cell_type": "code",
   "execution_count": null,
   "metadata": {},
   "outputs": [],
   "source": []
  },
  {
   "cell_type": "code",
   "execution_count": null,
   "metadata": {},
   "outputs": [],
   "source": []
  },
  {
   "cell_type": "code",
   "execution_count": null,
   "metadata": {},
   "outputs": [],
   "source": []
  },
  {
   "cell_type": "code",
   "execution_count": null,
   "metadata": {},
   "outputs": [],
   "source": []
  },
  {
   "cell_type": "code",
   "execution_count": null,
   "metadata": {},
   "outputs": [],
   "source": []
  },
  {
   "cell_type": "code",
   "execution_count": null,
   "metadata": {},
   "outputs": [],
   "source": []
  },
  {
   "cell_type": "code",
   "execution_count": null,
   "metadata": {},
   "outputs": [],
   "source": []
  },
  {
   "cell_type": "code",
   "execution_count": null,
   "metadata": {},
   "outputs": [],
   "source": []
  },
  {
   "cell_type": "code",
   "execution_count": null,
   "metadata": {},
   "outputs": [],
   "source": []
  },
  {
   "cell_type": "code",
   "execution_count": null,
   "metadata": {},
   "outputs": [],
   "source": []
  },
  {
   "cell_type": "code",
   "execution_count": null,
   "metadata": {},
   "outputs": [],
   "source": [
    "lx = re.compile('\\[\\[.*\\]\\]')\n",
    "hui = list()\n",
    "for x in df['reviews']:\n",
    "    if type(x) == str and lx.fullmatch(x):\n",
    "        hui.append(x)\n"
   ]
  },
  {
   "cell_type": "markdown",
   "metadata": {},
   "source": [
    "## 3. Feature Engineering and tidy dataset up"
   ]
  },
  {
   "cell_type": "markdown",
   "metadata": {},
   "source": [
    "### 3.1 Restaurant_Id column"
   ]
  },
  {
   "cell_type": "markdown",
   "metadata": {},
   "source": [
    "With a reference to EDA provided in Section 2, we may add one additional column which depict, whether the restaurant belongs to chain or not."
   ]
  },
  {
   "cell_type": "code",
   "execution_count": 25,
   "metadata": {},
   "outputs": [
    {
     "data": {
      "text/plain": [
       "1.0    35295\n",
       "0.0     4705\n",
       "Name: chained_rest, dtype: int64"
      ]
     },
     "execution_count": 25,
     "metadata": {},
     "output_type": "execute_result"
    }
   ],
   "source": [
    "# Create a list with restaurants which might be in chain\n",
    "\n",
    "chained_rest_list = list(df['restaurant_id'].value_counts()[\n",
    "    df['restaurant_id'].value_counts() > 1].index)\n",
    "\n",
    "# If it is in chain, we add in a new column the identificator '1', otherwise '0'\n",
    "df['chained_rest'] = df[df['restaurant_id'].isin(\n",
    "    chained_rest_list)].restaurant_id.apply(lambda x: 1)\n",
    "df['chained_rest'] = df['chained_rest'].fillna(0)\n",
    "\n",
    "# Check\n",
    "df['chained_rest'].value_counts()"
   ]
  },
  {
   "cell_type": "markdown",
   "metadata": {},
   "source": [
    "### 3.2 City column"
   ]
  },
  {
   "cell_type": "markdown",
   "metadata": {},
   "source": [
    "Reduce the quantity of presented cities. Substitute rare cities by 'other'.\n",
    "\n",
    "Fix name Oporto"
   ]
  },
  {
   "cell_type": "code",
   "execution_count": 26,
   "metadata": {},
   "outputs": [],
   "source": [
    "# Fix Oporto\n",
    "df['city'] = df['city'].replace(['Oporto'], 'Porto')"
   ]
  },
  {
   "cell_type": "markdown",
   "metadata": {},
   "source": [
    "# !!! It works. Add or remove depend on MAE !!!"
   ]
  },
  {
   "cell_type": "code",
   "execution_count": 27,
   "metadata": {},
   "outputs": [],
   "source": [
    "# Top cities\n",
    "\n",
    "all_cities = df['city'].value_counts().index\n",
    "\n",
    "# # Create a top Cites list (more than 20% in Dataset)\n",
    "# top_cities_list = df['city'].value_counts()[\n",
    "#     df['city'].value_counts() > np.percentile((df['city'].value_counts().values), 20)].index.tolist()\n",
    "\n",
    "# cities_to_drop = list(set(all_cities)-set(top_cities_list))\n",
    "# df.loc[df['city'].isin(cities_to_drop),'city'] = 'Other'\n",
    "\n",
    "\n",
    "\n",
    "\n",
    "# # If City is TOP, we add in new column the identificator '1', otherwise '0'\n",
    "# df['top_city'] = df[df['city'].isin(\n",
    "#     top_cities_list)].city.apply(lambda x: 1)\n",
    "# df['top_city'] = df['top_city'].fillna(0)"
   ]
  },
  {
   "cell_type": "markdown",
   "metadata": {},
   "source": [
    "Let's add a column with information about whether the Restaraunt in a capital or not"
   ]
  },
  {
   "cell_type": "code",
   "execution_count": 28,
   "metadata": {},
   "outputs": [],
   "source": [
    "# Cos we don't have too many cities, let's create a dict where mention whethere the city is a capital\n",
    "capital = [True, True, True, False, True, False, True, \n",
    "           True, True, True, True, True, False, False, \n",
    "           False, True, True, True, True, True, True, \n",
    "           True, False, False, False, False, True, \n",
    "           True, True, True, True]\n",
    "\n",
    "capital_dict = dict(zip(list(all_cities), capital))"
   ]
  },
  {
   "cell_type": "code",
   "execution_count": 29,
   "metadata": {},
   "outputs": [],
   "source": [
    "df['capital'] = df['city'].map(capital_dict)"
   ]
  },
  {
   "cell_type": "markdown",
   "metadata": {},
   "source": [
    "Encode the city Name"
   ]
  },
  {
   "cell_type": "code",
   "execution_count": null,
   "metadata": {},
   "outputs": [],
   "source": [
    "# Code here"
   ]
  },
  {
   "cell_type": "markdown",
   "metadata": {},
   "source": [
    "Add population and add information to what country the city belongs"
   ]
  },
  {
   "cell_type": "code",
   "execution_count": 30,
   "metadata": {},
   "outputs": [],
   "source": [
    "city_population = {\n",
    "    'London': 8787892,\n",
    "    'Paris': 2187526,\n",
    "    'Madrid': 3300000,\n",
    "    'Barcelona': 1593075,\n",
    "    'Berlin': 3726902,\n",
    "    'Milan': 1331586,\n",
    "    'Rome': 2860000,\n",
    "    'Prague': 1300000,\n",
    "    'Lisbon': 505526,\n",
    "    'Vienna': 1900000,\n",
    "    'Amsterdam': 872080,\n",
    "    'Brussels': 144784,\n",
    "    'Hamburg': 1840000,\n",
    "    'Munich': 1558395,\n",
    "    'Lyon': 506615,\n",
    "    'Stockholm': 975904,\n",
    "    'Budapest': 1752286,\n",
    "    'Warsaw': 1720398,\n",
    "    'Dublin': 1793579 ,\n",
    "    'Copenhagen': 1330993,\n",
    "    'Athens': 3090508,\n",
    "    'Edinburgh': 476100,\n",
    "    'Zurich': 402275,\n",
    "    'Porto': 237559,\n",
    "    'Geneva': 196150,\n",
    "    'Krakow': 779115,\n",
    "    'Oslo': 697549,\n",
    "    'Helsinki':  656229,\n",
    "    'Bratislava': 563682,\n",
    "    'Luxembourg': 626108,\n",
    "    'Ljubljana': 295504\n",
    "}"
   ]
  },
  {
   "cell_type": "markdown",
   "metadata": {},
   "source": [
    "--- "
   ]
  },
  {
   "cell_type": "code",
   "execution_count": 31,
   "metadata": {},
   "outputs": [],
   "source": [
    "city_country = {\n",
    "    'London': 'United Kingdom',\n",
    "    'Paris': 'France',\n",
    "    'Madrid': 'Spain',\n",
    "    'Barcelona': 'Spain',\n",
    "    'Berlin': 'Germany',\n",
    "    'Milan': 'Italy',\n",
    "    'Rome': 'Italy',\n",
    "    'Prague': 'Czech',\n",
    "    'Lisbon': 'Portugal',\n",
    "    'Vienna': 'Austria',\n",
    "    'Amsterdam': 'Netherlands',\n",
    "    'Brussels': 'Belgium',\n",
    "    'Hamburg': 'Germany',\n",
    "    'Munich': 'Germany',\n",
    "    'Lyon': 'France',\n",
    "    'Stockholm': 'Sweden',\n",
    "    'Budapest': 'Hungary',\n",
    "    'Warsaw': 'Poland',\n",
    "    'Dublin': 'Ireland' ,\n",
    "    'Copenhagen': 'Denmark',\n",
    "    'Athens': 'Greece',\n",
    "    'Edinburgh': 'Schotland',\n",
    "    'Zurich': 'Switzerland',\n",
    "    'Porto': 'Portugal',\n",
    "    'Geneva': 'Switzerland',\n",
    "    'Krakow': 'Poland',\n",
    "    'Oslo': 'Norway',\n",
    "    'Helsinki': 'Finland',\n",
    "    'Bratislava': 'Slovakia',\n",
    "    'Luxembourg': 'Luxembourg',\n",
    "    'Ljubljana': 'Slovenija'\n",
    "}"
   ]
  },
  {
   "cell_type": "code",
   "execution_count": 32,
   "metadata": {},
   "outputs": [],
   "source": [
    "df['city_population'] = df['city'].map(city_population)\n",
    "df['country'] = df['city'].map(city_country)"
   ]
  },
  {
   "cell_type": "markdown",
   "metadata": {},
   "source": [
    "!!! Add Rank of city if can !!!"
   ]
  },
  {
   "cell_type": "markdown",
   "metadata": {},
   "source": [
    "!!! Ad LEVEL OF LIFE !!!"
   ]
  },
  {
   "cell_type": "code",
   "execution_count": null,
   "metadata": {},
   "outputs": [],
   "source": []
  },
  {
   "cell_type": "markdown",
   "metadata": {},
   "source": [
    "### 3.3 Cuisine_style column"
   ]
  },
  {
   "cell_type": "markdown",
   "metadata": {},
   "source": [
    "Let's add new feature - quantity of quisins in a restaurant"
   ]
  },
  {
   "cell_type": "code",
   "execution_count": 33,
   "metadata": {},
   "outputs": [],
   "source": [
    "df['cuisine_count'] = df['cuisine_style'].apply(lambda x:len(x))"
   ]
  },
  {
   "cell_type": "markdown",
   "metadata": {},
   "source": [
    "Add one more feature which tells that restaurant has in its set rare cuisine.\n",
    "\n",
    "Assume rare value if it is met in dataset les than 50 times"
   ]
  },
  {
   "cell_type": "code",
   "execution_count": 34,
   "metadata": {},
   "outputs": [],
   "source": [
    "cuisine_rare_lst = df.explode('cuisine_style')['cuisine_style'].value_counts()[\n",
    "    df.explode('cuisine_style')['cuisine_style'].value_counts() < 50].index.tolist()"
   ]
  },
  {
   "cell_type": "code",
   "execution_count": 35,
   "metadata": {},
   "outputs": [],
   "source": [
    "def get_cuisine_rare(row):\n",
    "    \n",
    "    '''Function called for creating a number of\n",
    "    rare cuisins\n",
    "    INPUT: A cell from dataset\n",
    "    OUTPUT: Number of rare cuisins'''\n",
    "    \n",
    "    number = 0\n",
    "    for i in cuisine_rare_lst:\n",
    "        if i in row:\n",
    "            number += 1\n",
    "    return number"
   ]
  },
  {
   "cell_type": "code",
   "execution_count": 36,
   "metadata": {},
   "outputs": [],
   "source": [
    "df['rare_cuisine'] = df['cuisine_style'].apply(get_cuisine_rare)"
   ]
  },
  {
   "cell_type": "markdown",
   "metadata": {},
   "source": [
    "Is it important to know, whether the cuisine belongs to the region where it is comes from?\n",
    "\n",
    "Lets add this feature"
   ]
  },
  {
   "cell_type": "code",
   "execution_count": 37,
   "metadata": {},
   "outputs": [],
   "source": [
    "# Create a global variable (dict) with cuisines and related region of it\n",
    "# I don't know how to use NLP for this case, so this work need to be done by hands :(\n",
    "\n",
    "cuisine_region = {\n",
    "    'France': ['French','Central European'],\n",
    "    'Sweden':['Swedish','Scandinavian'],\n",
    "    'United Kingdom':['British'],\n",
    "    'Germany':['German','Central European'],\n",
    "    'Italy':['Pizza','Italian'],\n",
    "    'Slovakia':['Eastern European'],\n",
    "    'Austria':['Austrian'],\n",
    "    'Spain':['Spanish'],\n",
    "    'Ireland':['Irish'],\n",
    "    'Belgium':['Belgian'],\n",
    "    'Switzerland':['Swiss'],\n",
    "    'Poland':['Polish','Ukrainian'],\n",
    "    'Hungary':['Hungarian'],\n",
    "    'Denmark':['Scandinavian'],\n",
    "    'Netherlands':['Dutch'],\n",
    "    'Portugal':['Portuguese'],\n",
    "    'Czech':['Czech'],\n",
    "    'Norway':['Norwegian','Scandinavian'],\n",
    "    'Finland':['Central European'],\n",
    "    'Schotland':['Scottish'],\n",
    "    'Slovenija':['Slovenian'],\n",
    "    'Greece':['Greek'],\n",
    "    'Luxembourg':['Central European']\n",
    "}\n"
   ]
  },
  {
   "cell_type": "code",
   "execution_count": 38,
   "metadata": {},
   "outputs": [],
   "source": [
    "def get_local_cuisine (row):\n",
    "    \n",
    "    '''Function called for identifying\n",
    "    whether restaurant includes local\n",
    "    cuisine or not\n",
    "    INPUT: A cell from dataset\n",
    "    OUTPUT: 1 - if includes\n",
    "            0 - if does not include'''\n",
    "    \n",
    "    local_cuis = cuisine_region[row['country']]\n",
    "    for i in local_cuis:\n",
    "        if i in row['cuisine_style'] and i !='':\n",
    "            return 1\n",
    "    return 0"
   ]
  },
  {
   "cell_type": "code",
   "execution_count": 39,
   "metadata": {},
   "outputs": [],
   "source": [
    "df['local_cuisine'] = df.apply(get_local_cuisine,axis = 1)"
   ]
  },
  {
   "cell_type": "code",
   "execution_count": 40,
   "metadata": {},
   "outputs": [
    {
     "data": {
      "text/plain": [
       "0    26555\n",
       "1    13445\n",
       "Name: local_cuisine, dtype: int64"
      ]
     },
     "execution_count": 40,
     "metadata": {},
     "output_type": "execute_result"
    }
   ],
   "source": [
    "df['local_cuisine'].value_counts()"
   ]
  },
  {
   "cell_type": "markdown",
   "metadata": {},
   "source": [
    "With a reference to our EDA, we noticed that the Vegan and Gluten Free Options are very likely to be reviewed by the customers. Let's add the feature, whether restaurant includes a vegan food."
   ]
  },
  {
   "cell_type": "code",
   "execution_count": 41,
   "metadata": {},
   "outputs": [],
   "source": [
    "def get_vegan(row):\n",
    "    vegan_cuis = ['Vegetarian Friendly', 'Vegan Options',\n",
    "                  'Gluten Free Options', 'Healthy', ]\n",
    "    for i in vegan_cuis:\n",
    "        if i in row['cuisine_style'] and i != '':\n",
    "            return 1\n",
    "    return 0"
   ]
  },
  {
   "cell_type": "code",
   "execution_count": 42,
   "metadata": {},
   "outputs": [],
   "source": [
    "df['vegan_include'] = df.apply(get_vegan,axis = 1)"
   ]
  },
  {
   "cell_type": "markdown",
   "metadata": {},
   "source": [
    "### 3.4 Ranking column"
   ]
  },
  {
   "cell_type": "markdown",
   "metadata": {},
   "source": [
    "With a reference to EDA section 2.5 let's create a column with equivalent ranking"
   ]
  },
  {
   "cell_type": "markdown",
   "metadata": {},
   "source": [
    "Step 1: Create a total number of a restaurants in a single city"
   ]
  },
  {
   "cell_type": "code",
   "execution_count": 43,
   "metadata": {},
   "outputs": [],
   "source": [
    "city_restaurant = dict(df['city'].value_counts())\n",
    "df['restaurant_qty'] = df['city'].map(city_restaurant)"
   ]
  },
  {
   "cell_type": "markdown",
   "metadata": {},
   "source": [
    "Step 2: Create an equivalent ranking"
   ]
  },
  {
   "cell_type": "code",
   "execution_count": 44,
   "metadata": {},
   "outputs": [],
   "source": [
    "df['equiv_ranking'] = df['ranking']/df['restaurant_qty']"
   ]
  },
  {
   "cell_type": "markdown",
   "metadata": {},
   "source": [
    "Step 3. Check distribution of a normalized ranking"
   ]
  },
  {
   "cell_type": "code",
   "execution_count": 45,
   "metadata": {},
   "outputs": [
    {
     "data": {
      "text/plain": [
       "Text(0, 0.5, 'Quantity (frequency)')"
      ]
     },
     "execution_count": 45,
     "metadata": {},
     "output_type": "execute_result"
    },
    {
     "data": {
      "image/png": "[encoded data removed]",
      "text/plain": [
       "<Figure size 1080x504 with 1 Axes>"
      ]
     },
     "metadata": {},
     "output_type": "display_data"
    }
   ],
   "source": [
    "plt.figure(figsize=(15 ,7))\n",
    "\n",
    "for city in (df['city'].value_counts())[0:10].index:  \n",
    "    sns.distplot(df['equiv_ranking'][df['city'] == city],kde=False,label = city)\n",
    "    \n",
    "plt.legend(prop={'size': 10})\n",
    "plt.title('Equivalent ranking Distribution among cities\\n', fontsize=15)\n",
    "plt.xlabel('Equivalent ranking')\n",
    "plt.ylabel('Quantity (frequency)')"
   ]
  },
  {
   "cell_type": "markdown",
   "metadata": {},
   "source": [
    "Well, now it is looks better than in section 2.5. Distribution is normal"
   ]
  },
  {
   "cell_type": "markdown",
   "metadata": {},
   "source": [
    "Create a column with mean value of people to a single restaurant in a city"
   ]
  },
  {
   "cell_type": "code",
   "execution_count": 46,
   "metadata": {},
   "outputs": [],
   "source": [
    "df['people_per_restaur'] = df['city_population']/df['restaurant_qty']"
   ]
  },
  {
   "cell_type": "markdown",
   "metadata": {},
   "source": [
    "### 3.5 Price range column"
   ]
  },
  {
   "cell_type": "markdown",
   "metadata": {},
   "source": [
    "!!! ENcODE IT !!!"
   ]
  },
  {
   "cell_type": "markdown",
   "metadata": {},
   "source": [
    "### 3.6 Review Number column"
   ]
  },
  {
   "cell_type": "markdown",
   "metadata": {},
   "source": [
    "First of all let's re-call what have we seen in section 1 off this notebook"
   ]
  },
  {
   "cell_type": "code",
   "execution_count": 47,
   "metadata": {},
   "outputs": [
    {
     "name": "stdout",
     "output_type": "stream",
     "text": [
      "[['Good food at your doorstep', 'A good hotel restaurant'], ['12/31/2017', '11/20/2017']]\n",
      "[[], []]\n",
      "Govno <class 'str'>\n"
     ]
    }
   ],
   "source": [
    "print(df['reviews'][0])\n",
    "print(df['reviews'][3])\n",
    "print(f'Govno {type(df.loc[1][\"reviews\"])}')"
   ]
  },
  {
   "cell_type": "markdown",
   "metadata": {},
   "source": [
    "Well, as was mentioned above the content has structural data - [ [ ],[ ] ].\n",
    "\n",
    "However it is not a list, but just a string type.\n",
    "\n",
    "Then, we want to extract the data form the colums 'reviews' into a 4 independent colums and remove original one from dataset.\n",
    "\n",
    "In the end we shall get following columns in our dataset:\n",
    "\n",
    "Review_1 - we put review No.1 (if any).\n",
    "\n",
    "Date_1 - we put the date when the review was added\n",
    "\n",
    "Review_2 - we put review No.2 (if any).\n",
    "\n",
    "Date_2 - we put the date when the review was added\n",
    "\n",
    "Diff_rev - Time difference in days between first and second review\n",
    "\n"
   ]
  },
  {
   "cell_type": "code",
   "execution_count": 87,
   "metadata": {},
   "outputs": [],
   "source": [
    "# create a template for search\n",
    "lrx = re.compile('\\[\\[.*\\]\\]')\n",
    "\n",
    "\n",
    "def review_extraction(row):\n",
    "    \n",
    "    '''Function is called for extracting data from column \n",
    "    reviews and splitting it out into a separate columns\n",
    "    INPUT: Whole dataset\n",
    "    OUTPUT: Dataset with additional columns'''\n",
    "    \n",
    "    cell = row['reviews']\n",
    "    aux_list = [[], []]\n",
    "    if type(cell) == str and lrx.fullmatch(cell):\n",
    "        nan = ''\n",
    "        aux_list = eval(cell)\n",
    "\n",
    "\n",
    "    row['review_1'] = aux_list[0][0] if len(aux_list[0]) > 0 else 'no comments'\n",
    "    row['review_2'] = aux_list[0][1] if len(aux_list[0]) > 1 else 'no comments'\n",
    "\n",
    "    row['date_1'] = pd.to_datetime(aux_list[1][0] if len(\n",
    "        aux_list[1]) > 0 else nan, format='%m/%d/%Y', errors='coerce')\n",
    "    row['date_2'] = pd.to_datetime(aux_list[1][1] if len(aux_list[1]) > 1 else nan)\n",
    "\n",
    "    row['date_1'] = pd.to_datetime(row['date_1'])\n",
    "    row['date_2'] = pd.to_datetime(row['date_2'])\n",
    "\n",
    "    return row"
   ]
  },
  {
   "cell_type": "code",
   "execution_count": 83,
   "metadata": {},
   "outputs": [],
   "source": [
    "df = df.apply(review_extraction,axis=1)"
   ]
  },
  {
   "cell_type": "markdown",
   "metadata": {},
   "source": [
    "And now create a column with time difference between first and second reviews"
   ]
  },
  {
   "cell_type": "code",
   "execution_count": 51,
   "metadata": {},
   "outputs": [],
   "source": [
    "def get_days(timedelta):\n",
    "    '''transform date to a days'''\n",
    "    return timedelta.days"
   ]
  },
  {
   "cell_type": "code",
   "execution_count": 52,
   "metadata": {},
   "outputs": [],
   "source": [
    "df['diff_rev'] = df['date_1'] - df['date_2']"
   ]
  },
  {
   "cell_type": "code",
   "execution_count": 53,
   "metadata": {},
   "outputs": [],
   "source": [
    "df['diff_rev'] = df['diff_rev'].apply(get_days)"
   ]
  },
  {
   "cell_type": "code",
   "execution_count": 86,
   "metadata": {},
   "outputs": [
    {
     "data": {
      "text/html": [
       "<div>\n",
       "<style scoped>\n",
       "    .dataframe tbody tr th:only-of-type {\n",
       "        vertical-align: middle;\n",
       "    }\n",
       "\n",
       "    .dataframe tbody tr th {\n",
       "        vertical-align: top;\n",
       "    }\n",
       "\n",
       "    .dataframe thead th {\n",
       "        text-align: right;\n",
       "    }\n",
       "</style>\n",
       "<table border=\"1\" class=\"dataframe\">\n",
       "  <thead>\n",
       "    <tr style=\"text-align: right;\">\n",
       "      <th></th>\n",
       "      <th>restaurant_id</th>\n",
       "      <th>city</th>\n",
       "      <th>cuisine_style</th>\n",
       "      <th>ranking</th>\n",
       "      <th>rating</th>\n",
       "      <th>price_range</th>\n",
       "      <th>reviews_number</th>\n",
       "      <th>reviews</th>\n",
       "      <th>url_ta</th>\n",
       "      <th>id_ta</th>\n",
       "      <th>cuisine_ctyle_empty</th>\n",
       "      <th>chained_rest</th>\n",
       "      <th>capital</th>\n",
       "      <th>city_population</th>\n",
       "      <th>country</th>\n",
       "      <th>cuisine_count</th>\n",
       "      <th>rare_cuisine</th>\n",
       "      <th>local_cuisine</th>\n",
       "      <th>vegan_include</th>\n",
       "      <th>restaurant_qty</th>\n",
       "      <th>equiv_ranking</th>\n",
       "      <th>people_per_restaur</th>\n",
       "      <th>review_1</th>\n",
       "      <th>review_2</th>\n",
       "      <th>date_1</th>\n",
       "      <th>date_2</th>\n",
       "      <th>diff_rev</th>\n",
       "    </tr>\n",
       "  </thead>\n",
       "  <tbody>\n",
       "    <tr>\n",
       "      <th>0</th>\n",
       "      <td>id_5569</td>\n",
       "      <td>Paris</td>\n",
       "      <td>[European, French, International]</td>\n",
       "      <td>5570.0</td>\n",
       "      <td>3.5</td>\n",
       "      <td>Medium</td>\n",
       "      <td>194.0</td>\n",
       "      <td>[['Good food at your doorstep', 'A good hotel ...</td>\n",
       "      <td>/Restaurant_Review-g187147-d1912643-Reviews-R_...</td>\n",
       "      <td>d1912643</td>\n",
       "      <td>0</td>\n",
       "      <td>1.0</td>\n",
       "      <td>True</td>\n",
       "      <td>2187526</td>\n",
       "      <td>France</td>\n",
       "      <td>3</td>\n",
       "      <td>0</td>\n",
       "      <td>1</td>\n",
       "      <td>0</td>\n",
       "      <td>4897</td>\n",
       "      <td>1.137431</td>\n",
       "      <td>446.707372</td>\n",
       "      <td>Good food at your doorstep</td>\n",
       "      <td>A good hotel restaurant</td>\n",
       "      <td>2017-12-31</td>\n",
       "      <td>2017-11-20</td>\n",
       "      <td>41.0</td>\n",
       "    </tr>\n",
       "    <tr>\n",
       "      <th>1</th>\n",
       "      <td>id_1535</td>\n",
       "      <td>Stockholm</td>\n",
       "      <td>[unknown]</td>\n",
       "      <td>1537.0</td>\n",
       "      <td>4.0</td>\n",
       "      <td>NotAvailable</td>\n",
       "      <td>10.0</td>\n",
       "      <td>[['Unique cuisine', 'Delicious Nepalese food']...</td>\n",
       "      <td>/Restaurant_Review-g189852-d7992032-Reviews-Bu...</td>\n",
       "      <td>d7992032</td>\n",
       "      <td>1</td>\n",
       "      <td>1.0</td>\n",
       "      <td>True</td>\n",
       "      <td>975904</td>\n",
       "      <td>Sweden</td>\n",
       "      <td>1</td>\n",
       "      <td>0</td>\n",
       "      <td>0</td>\n",
       "      <td>0</td>\n",
       "      <td>820</td>\n",
       "      <td>1.874390</td>\n",
       "      <td>1190.126829</td>\n",
       "      <td>Unique cuisine</td>\n",
       "      <td>Delicious Nepalese food</td>\n",
       "      <td>2017-07-06</td>\n",
       "      <td>2016-06-19</td>\n",
       "      <td>382.0</td>\n",
       "    </tr>\n",
       "    <tr>\n",
       "      <th>2</th>\n",
       "      <td>id_352</td>\n",
       "      <td>London</td>\n",
       "      <td>[Japanese, Sushi, Asian, Grill, Vegetarian Fri...</td>\n",
       "      <td>353.0</td>\n",
       "      <td>4.5</td>\n",
       "      <td>High</td>\n",
       "      <td>688.0</td>\n",
       "      <td>[['Catch up with friends', 'Not exceptional'],...</td>\n",
       "      <td>/Restaurant_Review-g186338-d8632781-Reviews-RO...</td>\n",
       "      <td>d8632781</td>\n",
       "      <td>0</td>\n",
       "      <td>1.0</td>\n",
       "      <td>True</td>\n",
       "      <td>8787892</td>\n",
       "      <td>United Kingdom</td>\n",
       "      <td>7</td>\n",
       "      <td>0</td>\n",
       "      <td>0</td>\n",
       "      <td>1</td>\n",
       "      <td>5757</td>\n",
       "      <td>0.061317</td>\n",
       "      <td>1526.470731</td>\n",
       "      <td>Catch up with friends</td>\n",
       "      <td>Not exceptional</td>\n",
       "      <td>2018-01-08</td>\n",
       "      <td>2018-01-06</td>\n",
       "      <td>2.0</td>\n",
       "    </tr>\n",
       "    <tr>\n",
       "      <th>3</th>\n",
       "      <td>id_3456</td>\n",
       "      <td>Berlin</td>\n",
       "      <td>[unknown]</td>\n",
       "      <td>3458.0</td>\n",
       "      <td>5.0</td>\n",
       "      <td>NotAvailable</td>\n",
       "      <td>3.0</td>\n",
       "      <td>[[], []]</td>\n",
       "      <td>/Restaurant_Review-g187323-d1358776-Reviews-Es...</td>\n",
       "      <td>d1358776</td>\n",
       "      <td>1</td>\n",
       "      <td>1.0</td>\n",
       "      <td>True</td>\n",
       "      <td>3726902</td>\n",
       "      <td>Germany</td>\n",
       "      <td>1</td>\n",
       "      <td>0</td>\n",
       "      <td>0</td>\n",
       "      <td>0</td>\n",
       "      <td>2155</td>\n",
       "      <td>1.604640</td>\n",
       "      <td>1729.420882</td>\n",
       "      <td>Catch up with friends</td>\n",
       "      <td>no_comment</td>\n",
       "      <td>NaT</td>\n",
       "      <td>NaT</td>\n",
       "      <td>NaN</td>\n",
       "    </tr>\n",
       "    <tr>\n",
       "      <th>4</th>\n",
       "      <td>id_615</td>\n",
       "      <td>Munich</td>\n",
       "      <td>[German, Central European, Vegetarian Friendly]</td>\n",
       "      <td>621.0</td>\n",
       "      <td>4.0</td>\n",
       "      <td>Medium</td>\n",
       "      <td>84.0</td>\n",
       "      <td>[['Best place to try a Bavarian food', 'Nice b...</td>\n",
       "      <td>/Restaurant_Review-g187309-d6864963-Reviews-Au...</td>\n",
       "      <td>d6864963</td>\n",
       "      <td>0</td>\n",
       "      <td>1.0</td>\n",
       "      <td>False</td>\n",
       "      <td>1558395</td>\n",
       "      <td>Germany</td>\n",
       "      <td>3</td>\n",
       "      <td>0</td>\n",
       "      <td>1</td>\n",
       "      <td>1</td>\n",
       "      <td>893</td>\n",
       "      <td>0.695409</td>\n",
       "      <td>1745.123180</td>\n",
       "      <td>Best place to try a Bavarian food</td>\n",
       "      <td>Nice building but improvements need to be...</td>\n",
       "      <td>2017-11-18</td>\n",
       "      <td>2017-02-19</td>\n",
       "      <td>272.0</td>\n",
       "    </tr>\n",
       "    <tr>\n",
       "      <th>...</th>\n",
       "      <td>...</td>\n",
       "      <td>...</td>\n",
       "      <td>...</td>\n",
       "      <td>...</td>\n",
       "      <td>...</td>\n",
       "      <td>...</td>\n",
       "      <td>...</td>\n",
       "      <td>...</td>\n",
       "      <td>...</td>\n",
       "      <td>...</td>\n",
       "      <td>...</td>\n",
       "      <td>...</td>\n",
       "      <td>...</td>\n",
       "      <td>...</td>\n",
       "      <td>...</td>\n",
       "      <td>...</td>\n",
       "      <td>...</td>\n",
       "      <td>...</td>\n",
       "      <td>...</td>\n",
       "      <td>...</td>\n",
       "      <td>...</td>\n",
       "      <td>...</td>\n",
       "      <td>...</td>\n",
       "      <td>...</td>\n",
       "      <td>...</td>\n",
       "      <td>...</td>\n",
       "      <td>...</td>\n",
       "    </tr>\n",
       "    <tr>\n",
       "      <th>39995</th>\n",
       "      <td>id_499</td>\n",
       "      <td>Milan</td>\n",
       "      <td>[Italian, Vegetarian Friendly, Vegan Options, ...</td>\n",
       "      <td>500.0</td>\n",
       "      <td>4.5</td>\n",
       "      <td>Medium</td>\n",
       "      <td>79.0</td>\n",
       "      <td>[['The real Italian experience!', 'Wonderful f...</td>\n",
       "      <td>/Restaurant_Review-g187849-d2104414-Reviews-Ro...</td>\n",
       "      <td>d2104414</td>\n",
       "      <td>0</td>\n",
       "      <td>1.0</td>\n",
       "      <td>False</td>\n",
       "      <td>1331586</td>\n",
       "      <td>Italy</td>\n",
       "      <td>4</td>\n",
       "      <td>0</td>\n",
       "      <td>1</td>\n",
       "      <td>1</td>\n",
       "      <td>2133</td>\n",
       "      <td>0.234412</td>\n",
       "      <td>624.278481</td>\n",
       "      <td>The real Italian experience!</td>\n",
       "      <td>Wonderful food, wonderful experience</td>\n",
       "      <td>2017-12-16</td>\n",
       "      <td>2017-11-12</td>\n",
       "      <td>34.0</td>\n",
       "    </tr>\n",
       "    <tr>\n",
       "      <th>39996</th>\n",
       "      <td>id_6340</td>\n",
       "      <td>Paris</td>\n",
       "      <td>[French, American, Bar, European, Vegetarian F...</td>\n",
       "      <td>6341.0</td>\n",
       "      <td>3.5</td>\n",
       "      <td>Medium</td>\n",
       "      <td>542.0</td>\n",
       "      <td>[['Parisian atmosphere', 'Bit pricey but inter...</td>\n",
       "      <td>/Restaurant_Review-g187147-d1800036-Reviews-La...</td>\n",
       "      <td>d1800036</td>\n",
       "      <td>0</td>\n",
       "      <td>1.0</td>\n",
       "      <td>True</td>\n",
       "      <td>2187526</td>\n",
       "      <td>France</td>\n",
       "      <td>5</td>\n",
       "      <td>0</td>\n",
       "      <td>1</td>\n",
       "      <td>1</td>\n",
       "      <td>4897</td>\n",
       "      <td>1.294874</td>\n",
       "      <td>446.707372</td>\n",
       "      <td>Parisian atmosphere</td>\n",
       "      <td>Bit pricey but interesting decor and good...</td>\n",
       "      <td>2017-12-21</td>\n",
       "      <td>2017-12-12</td>\n",
       "      <td>9.0</td>\n",
       "    </tr>\n",
       "    <tr>\n",
       "      <th>39997</th>\n",
       "      <td>id_1649</td>\n",
       "      <td>Stockholm</td>\n",
       "      <td>[Japanese, Sushi]</td>\n",
       "      <td>1652.0</td>\n",
       "      <td>4.5</td>\n",
       "      <td>NotAvailable</td>\n",
       "      <td>4.0</td>\n",
       "      <td>[['Good by swedish standards', 'A hidden jewel...</td>\n",
       "      <td>/Restaurant_Review-g189852-d947615-Reviews-Sus...</td>\n",
       "      <td>d947615</td>\n",
       "      <td>0</td>\n",
       "      <td>1.0</td>\n",
       "      <td>True</td>\n",
       "      <td>975904</td>\n",
       "      <td>Sweden</td>\n",
       "      <td>2</td>\n",
       "      <td>0</td>\n",
       "      <td>0</td>\n",
       "      <td>0</td>\n",
       "      <td>820</td>\n",
       "      <td>2.014634</td>\n",
       "      <td>1190.126829</td>\n",
       "      <td>Good by swedish standards</td>\n",
       "      <td>A hidden jewel in the middle of Västertorp...</td>\n",
       "      <td>2016-11-03</td>\n",
       "      <td>2008-04-12</td>\n",
       "      <td>3127.0</td>\n",
       "    </tr>\n",
       "    <tr>\n",
       "      <th>39998</th>\n",
       "      <td>id_640</td>\n",
       "      <td>Warsaw</td>\n",
       "      <td>[Polish, European, Eastern European, Central E...</td>\n",
       "      <td>641.0</td>\n",
       "      <td>4.0</td>\n",
       "      <td>Medium</td>\n",
       "      <td>70.0</td>\n",
       "      <td>[['Underground restaurant', 'Oldest Restaurant...</td>\n",
       "      <td>/Restaurant_Review-g274856-d1100838-Reviews-Ho...</td>\n",
       "      <td>d1100838</td>\n",
       "      <td>0</td>\n",
       "      <td>1.0</td>\n",
       "      <td>True</td>\n",
       "      <td>1720398</td>\n",
       "      <td>Poland</td>\n",
       "      <td>5</td>\n",
       "      <td>0</td>\n",
       "      <td>1</td>\n",
       "      <td>1</td>\n",
       "      <td>727</td>\n",
       "      <td>0.881706</td>\n",
       "      <td>2366.434663</td>\n",
       "      <td>Underground restaurant</td>\n",
       "      <td>Oldest Restaurant in Warsaw</td>\n",
       "      <td>2017-07-11</td>\n",
       "      <td>2017-06-18</td>\n",
       "      <td>23.0</td>\n",
       "    </tr>\n",
       "    <tr>\n",
       "      <th>39999</th>\n",
       "      <td>id_4824</td>\n",
       "      <td>Milan</td>\n",
       "      <td>[Spanish]</td>\n",
       "      <td>4827.0</td>\n",
       "      <td>3.0</td>\n",
       "      <td>Medium</td>\n",
       "      <td>260.0</td>\n",
       "      <td>[['Average', 'Nice an informal'], ['01/31/2016...</td>\n",
       "      <td>/Restaurant_Review-g187849-d1109020-Reviews-Ta...</td>\n",
       "      <td>d1109020</td>\n",
       "      <td>0</td>\n",
       "      <td>1.0</td>\n",
       "      <td>False</td>\n",
       "      <td>1331586</td>\n",
       "      <td>Italy</td>\n",
       "      <td>1</td>\n",
       "      <td>0</td>\n",
       "      <td>0</td>\n",
       "      <td>0</td>\n",
       "      <td>2133</td>\n",
       "      <td>2.263010</td>\n",
       "      <td>624.278481</td>\n",
       "      <td>Average</td>\n",
       "      <td>Nice an informal</td>\n",
       "      <td>2016-01-31</td>\n",
       "      <td>2012-07-04</td>\n",
       "      <td>1306.0</td>\n",
       "    </tr>\n",
       "  </tbody>\n",
       "</table>\n",
       "<p>40000 rows × 27 columns</p>\n",
       "</div>"
      ],
      "text/plain": [
       "      restaurant_id       city  \\\n",
       "0           id_5569      Paris   \n",
       "1           id_1535  Stockholm   \n",
       "2            id_352     London   \n",
       "3           id_3456     Berlin   \n",
       "4            id_615     Munich   \n",
       "...             ...        ...   \n",
       "39995        id_499      Milan   \n",
       "39996       id_6340      Paris   \n",
       "39997       id_1649  Stockholm   \n",
       "39998        id_640     Warsaw   \n",
       "39999       id_4824      Milan   \n",
       "\n",
       "                                           cuisine_style  ranking  rating  \\\n",
       "0                      [European, French, International]   5570.0     3.5   \n",
       "1                                              [unknown]   1537.0     4.0   \n",
       "2      [Japanese, Sushi, Asian, Grill, Vegetarian Fri...    353.0     4.5   \n",
       "3                                              [unknown]   3458.0     5.0   \n",
       "4        [German, Central European, Vegetarian Friendly]    621.0     4.0   \n",
       "...                                                  ...      ...     ...   \n",
       "39995  [Italian, Vegetarian Friendly, Vegan Options, ...    500.0     4.5   \n",
       "39996  [French, American, Bar, European, Vegetarian F...   6341.0     3.5   \n",
       "39997                                  [Japanese, Sushi]   1652.0     4.5   \n",
       "39998  [Polish, European, Eastern European, Central E...    641.0     4.0   \n",
       "39999                                          [Spanish]   4827.0     3.0   \n",
       "\n",
       "        price_range  reviews_number  \\\n",
       "0            Medium           194.0   \n",
       "1      NotAvailable            10.0   \n",
       "2              High           688.0   \n",
       "3      NotAvailable             3.0   \n",
       "4            Medium            84.0   \n",
       "...             ...             ...   \n",
       "39995        Medium            79.0   \n",
       "39996        Medium           542.0   \n",
       "39997  NotAvailable             4.0   \n",
       "39998        Medium            70.0   \n",
       "39999        Medium           260.0   \n",
       "\n",
       "                                                 reviews  \\\n",
       "0      [['Good food at your doorstep', 'A good hotel ...   \n",
       "1      [['Unique cuisine', 'Delicious Nepalese food']...   \n",
       "2      [['Catch up with friends', 'Not exceptional'],...   \n",
       "3                                               [[], []]   \n",
       "4      [['Best place to try a Bavarian food', 'Nice b...   \n",
       "...                                                  ...   \n",
       "39995  [['The real Italian experience!', 'Wonderful f...   \n",
       "39996  [['Parisian atmosphere', 'Bit pricey but inter...   \n",
       "39997  [['Good by swedish standards', 'A hidden jewel...   \n",
       "39998  [['Underground restaurant', 'Oldest Restaurant...   \n",
       "39999  [['Average', 'Nice an informal'], ['01/31/2016...   \n",
       "\n",
       "                                                  url_ta     id_ta  \\\n",
       "0      /Restaurant_Review-g187147-d1912643-Reviews-R_...  d1912643   \n",
       "1      /Restaurant_Review-g189852-d7992032-Reviews-Bu...  d7992032   \n",
       "2      /Restaurant_Review-g186338-d8632781-Reviews-RO...  d8632781   \n",
       "3      /Restaurant_Review-g187323-d1358776-Reviews-Es...  d1358776   \n",
       "4      /Restaurant_Review-g187309-d6864963-Reviews-Au...  d6864963   \n",
       "...                                                  ...       ...   \n",
       "39995  /Restaurant_Review-g187849-d2104414-Reviews-Ro...  d2104414   \n",
       "39996  /Restaurant_Review-g187147-d1800036-Reviews-La...  d1800036   \n",
       "39997  /Restaurant_Review-g189852-d947615-Reviews-Sus...   d947615   \n",
       "39998  /Restaurant_Review-g274856-d1100838-Reviews-Ho...  d1100838   \n",
       "39999  /Restaurant_Review-g187849-d1109020-Reviews-Ta...  d1109020   \n",
       "\n",
       "       cuisine_ctyle_empty  chained_rest  capital  city_population  \\\n",
       "0                        0           1.0     True          2187526   \n",
       "1                        1           1.0     True           975904   \n",
       "2                        0           1.0     True          8787892   \n",
       "3                        1           1.0     True          3726902   \n",
       "4                        0           1.0    False          1558395   \n",
       "...                    ...           ...      ...              ...   \n",
       "39995                    0           1.0    False          1331586   \n",
       "39996                    0           1.0     True          2187526   \n",
       "39997                    0           1.0     True           975904   \n",
       "39998                    0           1.0     True          1720398   \n",
       "39999                    0           1.0    False          1331586   \n",
       "\n",
       "              country  cuisine_count  rare_cuisine  local_cuisine  \\\n",
       "0              France              3             0              1   \n",
       "1              Sweden              1             0              0   \n",
       "2      United Kingdom              7             0              0   \n",
       "3             Germany              1             0              0   \n",
       "4             Germany              3             0              1   \n",
       "...               ...            ...           ...            ...   \n",
       "39995           Italy              4             0              1   \n",
       "39996          France              5             0              1   \n",
       "39997          Sweden              2             0              0   \n",
       "39998          Poland              5             0              1   \n",
       "39999           Italy              1             0              0   \n",
       "\n",
       "       vegan_include  restaurant_qty  equiv_ranking  people_per_restaur  \\\n",
       "0                  0            4897       1.137431          446.707372   \n",
       "1                  0             820       1.874390         1190.126829   \n",
       "2                  1            5757       0.061317         1526.470731   \n",
       "3                  0            2155       1.604640         1729.420882   \n",
       "4                  1             893       0.695409         1745.123180   \n",
       "...              ...             ...            ...                 ...   \n",
       "39995              1            2133       0.234412          624.278481   \n",
       "39996              1            4897       1.294874          446.707372   \n",
       "39997              0             820       2.014634         1190.126829   \n",
       "39998              1             727       0.881706         2366.434663   \n",
       "39999              0            2133       2.263010          624.278481   \n",
       "\n",
       "                                review_1  \\\n",
       "0             Good food at your doorstep   \n",
       "1                         Unique cuisine   \n",
       "2                  Catch up with friends   \n",
       "3                  Catch up with friends   \n",
       "4      Best place to try a Bavarian food   \n",
       "...                                  ...   \n",
       "39995       The real Italian experience!   \n",
       "39996                Parisian atmosphere   \n",
       "39997          Good by swedish standards   \n",
       "39998             Underground restaurant   \n",
       "39999                            Average   \n",
       "\n",
       "                                            review_2     date_1     date_2  \\\n",
       "0                            A good hotel restaurant 2017-12-31 2017-11-20   \n",
       "1                            Delicious Nepalese food 2017-07-06 2016-06-19   \n",
       "2                                    Not exceptional 2018-01-08 2018-01-06   \n",
       "3                                         no_comment        NaT        NaT   \n",
       "4       Nice building but improvements need to be... 2017-11-18 2017-02-19   \n",
       "...                                              ...        ...        ...   \n",
       "39995           Wonderful food, wonderful experience 2017-12-16 2017-11-12   \n",
       "39996   Bit pricey but interesting decor and good... 2017-12-21 2017-12-12   \n",
       "39997  A hidden jewel in the middle of Västertorp... 2016-11-03 2008-04-12   \n",
       "39998                    Oldest Restaurant in Warsaw 2017-07-11 2017-06-18   \n",
       "39999                               Nice an informal 2016-01-31 2012-07-04   \n",
       "\n",
       "       diff_rev  \n",
       "0          41.0  \n",
       "1         382.0  \n",
       "2           2.0  \n",
       "3           NaN  \n",
       "4         272.0  \n",
       "...         ...  \n",
       "39995      34.0  \n",
       "39996       9.0  \n",
       "39997    3127.0  \n",
       "39998      23.0  \n",
       "39999    1306.0  \n",
       "\n",
       "[40000 rows x 27 columns]"
      ]
     },
     "execution_count": 86,
     "metadata": {},
     "output_type": "execute_result"
    }
   ],
   "source": [
    "df"
   ]
  },
  {
   "cell_type": "code",
   "execution_count": 85,
   "metadata": {},
   "outputs": [],
   "source": [
    "df['review_1'] =df['review_1'].replace((['no_comment'], None))"
   ]
  },
  {
   "cell_type": "code",
   "execution_count": 79,
   "metadata": {},
   "outputs": [
    {
     "data": {
      "text/plain": [
       "0        False\n",
       "1        False\n",
       "2        False\n",
       "3        False\n",
       "4        False\n",
       "         ...  \n",
       "39995    False\n",
       "39996    False\n",
       "39997    False\n",
       "39998    False\n",
       "39999    False\n",
       "Name: review_1, Length: 40000, dtype: bool"
      ]
     },
     "execution_count": 79,
     "metadata": {},
     "output_type": "execute_result"
    }
   ],
   "source": [
    "df['review_1']== 'no_comment'"
   ]
  },
  {
   "cell_type": "code",
   "execution_count": 80,
   "metadata": {},
   "outputs": [
    {
     "data": {
      "text/html": [
       "<div>\n",
       "<style scoped>\n",
       "    .dataframe tbody tr th:only-of-type {\n",
       "        vertical-align: middle;\n",
       "    }\n",
       "\n",
       "    .dataframe tbody tr th {\n",
       "        vertical-align: top;\n",
       "    }\n",
       "\n",
       "    .dataframe thead th {\n",
       "        text-align: right;\n",
       "    }\n",
       "</style>\n",
       "<table border=\"1\" class=\"dataframe\">\n",
       "  <thead>\n",
       "    <tr style=\"text-align: right;\">\n",
       "      <th></th>\n",
       "      <th>restaurant_id</th>\n",
       "      <th>city</th>\n",
       "      <th>cuisine_style</th>\n",
       "      <th>ranking</th>\n",
       "      <th>rating</th>\n",
       "      <th>price_range</th>\n",
       "      <th>reviews_number</th>\n",
       "      <th>reviews</th>\n",
       "      <th>url_ta</th>\n",
       "      <th>id_ta</th>\n",
       "      <th>cuisine_ctyle_empty</th>\n",
       "      <th>chained_rest</th>\n",
       "      <th>capital</th>\n",
       "      <th>city_population</th>\n",
       "      <th>country</th>\n",
       "      <th>cuisine_count</th>\n",
       "      <th>rare_cuisine</th>\n",
       "      <th>local_cuisine</th>\n",
       "      <th>vegan_include</th>\n",
       "      <th>restaurant_qty</th>\n",
       "      <th>equiv_ranking</th>\n",
       "      <th>people_per_restaur</th>\n",
       "      <th>review_1</th>\n",
       "      <th>review_2</th>\n",
       "      <th>date_1</th>\n",
       "      <th>date_2</th>\n",
       "      <th>diff_rev</th>\n",
       "    </tr>\n",
       "  </thead>\n",
       "  <tbody>\n",
       "    <tr>\n",
       "      <th>0</th>\n",
       "      <td>id_5569</td>\n",
       "      <td>Paris</td>\n",
       "      <td>[European, French, International]</td>\n",
       "      <td>5570.0</td>\n",
       "      <td>3.5</td>\n",
       "      <td>Medium</td>\n",
       "      <td>194.0</td>\n",
       "      <td>[['Good food at your doorstep', 'A good hotel ...</td>\n",
       "      <td>/Restaurant_Review-g187147-d1912643-Reviews-R_...</td>\n",
       "      <td>d1912643</td>\n",
       "      <td>0</td>\n",
       "      <td>1.0</td>\n",
       "      <td>True</td>\n",
       "      <td>2187526</td>\n",
       "      <td>France</td>\n",
       "      <td>3</td>\n",
       "      <td>0</td>\n",
       "      <td>1</td>\n",
       "      <td>0</td>\n",
       "      <td>4897</td>\n",
       "      <td>1.137431</td>\n",
       "      <td>446.707372</td>\n",
       "      <td>Good food at your doorstep</td>\n",
       "      <td>A good hotel restaurant</td>\n",
       "      <td>2017-12-31</td>\n",
       "      <td>2017-11-20</td>\n",
       "      <td>41.0</td>\n",
       "    </tr>\n",
       "    <tr>\n",
       "      <th>1</th>\n",
       "      <td>id_1535</td>\n",
       "      <td>Stockholm</td>\n",
       "      <td>[unknown]</td>\n",
       "      <td>1537.0</td>\n",
       "      <td>4.0</td>\n",
       "      <td>NotAvailable</td>\n",
       "      <td>10.0</td>\n",
       "      <td>[['Unique cuisine', 'Delicious Nepalese food']...</td>\n",
       "      <td>/Restaurant_Review-g189852-d7992032-Reviews-Bu...</td>\n",
       "      <td>d7992032</td>\n",
       "      <td>1</td>\n",
       "      <td>1.0</td>\n",
       "      <td>True</td>\n",
       "      <td>975904</td>\n",
       "      <td>Sweden</td>\n",
       "      <td>1</td>\n",
       "      <td>0</td>\n",
       "      <td>0</td>\n",
       "      <td>0</td>\n",
       "      <td>820</td>\n",
       "      <td>1.874390</td>\n",
       "      <td>1190.126829</td>\n",
       "      <td>Unique cuisine</td>\n",
       "      <td>Delicious Nepalese food</td>\n",
       "      <td>2017-07-06</td>\n",
       "      <td>2016-06-19</td>\n",
       "      <td>382.0</td>\n",
       "    </tr>\n",
       "    <tr>\n",
       "      <th>2</th>\n",
       "      <td>id_352</td>\n",
       "      <td>London</td>\n",
       "      <td>[Japanese, Sushi, Asian, Grill, Vegetarian Fri...</td>\n",
       "      <td>353.0</td>\n",
       "      <td>4.5</td>\n",
       "      <td>High</td>\n",
       "      <td>688.0</td>\n",
       "      <td>[['Catch up with friends', 'Not exceptional'],...</td>\n",
       "      <td>/Restaurant_Review-g186338-d8632781-Reviews-RO...</td>\n",
       "      <td>d8632781</td>\n",
       "      <td>0</td>\n",
       "      <td>1.0</td>\n",
       "      <td>True</td>\n",
       "      <td>8787892</td>\n",
       "      <td>United Kingdom</td>\n",
       "      <td>7</td>\n",
       "      <td>0</td>\n",
       "      <td>0</td>\n",
       "      <td>1</td>\n",
       "      <td>5757</td>\n",
       "      <td>0.061317</td>\n",
       "      <td>1526.470731</td>\n",
       "      <td>Catch up with friends</td>\n",
       "      <td>Not exceptional</td>\n",
       "      <td>2018-01-08</td>\n",
       "      <td>2018-01-06</td>\n",
       "      <td>2.0</td>\n",
       "    </tr>\n",
       "    <tr>\n",
       "      <th>3</th>\n",
       "      <td>id_3456</td>\n",
       "      <td>Berlin</td>\n",
       "      <td>[unknown]</td>\n",
       "      <td>3458.0</td>\n",
       "      <td>5.0</td>\n",
       "      <td>NotAvailable</td>\n",
       "      <td>3.0</td>\n",
       "      <td>[[], []]</td>\n",
       "      <td>/Restaurant_Review-g187323-d1358776-Reviews-Es...</td>\n",
       "      <td>d1358776</td>\n",
       "      <td>1</td>\n",
       "      <td>1.0</td>\n",
       "      <td>True</td>\n",
       "      <td>3726902</td>\n",
       "      <td>Germany</td>\n",
       "      <td>1</td>\n",
       "      <td>0</td>\n",
       "      <td>0</td>\n",
       "      <td>0</td>\n",
       "      <td>2155</td>\n",
       "      <td>1.604640</td>\n",
       "      <td>1729.420882</td>\n",
       "      <td>Catch up with friends</td>\n",
       "      <td>no_comment</td>\n",
       "      <td>NaT</td>\n",
       "      <td>NaT</td>\n",
       "      <td>NaN</td>\n",
       "    </tr>\n",
       "    <tr>\n",
       "      <th>4</th>\n",
       "      <td>id_615</td>\n",
       "      <td>Munich</td>\n",
       "      <td>[German, Central European, Vegetarian Friendly]</td>\n",
       "      <td>621.0</td>\n",
       "      <td>4.0</td>\n",
       "      <td>Medium</td>\n",
       "      <td>84.0</td>\n",
       "      <td>[['Best place to try a Bavarian food', 'Nice b...</td>\n",
       "      <td>/Restaurant_Review-g187309-d6864963-Reviews-Au...</td>\n",
       "      <td>d6864963</td>\n",
       "      <td>0</td>\n",
       "      <td>1.0</td>\n",
       "      <td>False</td>\n",
       "      <td>1558395</td>\n",
       "      <td>Germany</td>\n",
       "      <td>3</td>\n",
       "      <td>0</td>\n",
       "      <td>1</td>\n",
       "      <td>1</td>\n",
       "      <td>893</td>\n",
       "      <td>0.695409</td>\n",
       "      <td>1745.123180</td>\n",
       "      <td>Best place to try a Bavarian food</td>\n",
       "      <td>Nice building but improvements need to be...</td>\n",
       "      <td>2017-11-18</td>\n",
       "      <td>2017-02-19</td>\n",
       "      <td>272.0</td>\n",
       "    </tr>\n",
       "    <tr>\n",
       "      <th>...</th>\n",
       "      <td>...</td>\n",
       "      <td>...</td>\n",
       "      <td>...</td>\n",
       "      <td>...</td>\n",
       "      <td>...</td>\n",
       "      <td>...</td>\n",
       "      <td>...</td>\n",
       "      <td>...</td>\n",
       "      <td>...</td>\n",
       "      <td>...</td>\n",
       "      <td>...</td>\n",
       "      <td>...</td>\n",
       "      <td>...</td>\n",
       "      <td>...</td>\n",
       "      <td>...</td>\n",
       "      <td>...</td>\n",
       "      <td>...</td>\n",
       "      <td>...</td>\n",
       "      <td>...</td>\n",
       "      <td>...</td>\n",
       "      <td>...</td>\n",
       "      <td>...</td>\n",
       "      <td>...</td>\n",
       "      <td>...</td>\n",
       "      <td>...</td>\n",
       "      <td>...</td>\n",
       "      <td>...</td>\n",
       "    </tr>\n",
       "    <tr>\n",
       "      <th>39995</th>\n",
       "      <td>id_499</td>\n",
       "      <td>Milan</td>\n",
       "      <td>[Italian, Vegetarian Friendly, Vegan Options, ...</td>\n",
       "      <td>500.0</td>\n",
       "      <td>4.5</td>\n",
       "      <td>Medium</td>\n",
       "      <td>79.0</td>\n",
       "      <td>[['The real Italian experience!', 'Wonderful f...</td>\n",
       "      <td>/Restaurant_Review-g187849-d2104414-Reviews-Ro...</td>\n",
       "      <td>d2104414</td>\n",
       "      <td>0</td>\n",
       "      <td>1.0</td>\n",
       "      <td>False</td>\n",
       "      <td>1331586</td>\n",
       "      <td>Italy</td>\n",
       "      <td>4</td>\n",
       "      <td>0</td>\n",
       "      <td>1</td>\n",
       "      <td>1</td>\n",
       "      <td>2133</td>\n",
       "      <td>0.234412</td>\n",
       "      <td>624.278481</td>\n",
       "      <td>The real Italian experience!</td>\n",
       "      <td>Wonderful food, wonderful experience</td>\n",
       "      <td>2017-12-16</td>\n",
       "      <td>2017-11-12</td>\n",
       "      <td>34.0</td>\n",
       "    </tr>\n",
       "    <tr>\n",
       "      <th>39996</th>\n",
       "      <td>id_6340</td>\n",
       "      <td>Paris</td>\n",
       "      <td>[French, American, Bar, European, Vegetarian F...</td>\n",
       "      <td>6341.0</td>\n",
       "      <td>3.5</td>\n",
       "      <td>Medium</td>\n",
       "      <td>542.0</td>\n",
       "      <td>[['Parisian atmosphere', 'Bit pricey but inter...</td>\n",
       "      <td>/Restaurant_Review-g187147-d1800036-Reviews-La...</td>\n",
       "      <td>d1800036</td>\n",
       "      <td>0</td>\n",
       "      <td>1.0</td>\n",
       "      <td>True</td>\n",
       "      <td>2187526</td>\n",
       "      <td>France</td>\n",
       "      <td>5</td>\n",
       "      <td>0</td>\n",
       "      <td>1</td>\n",
       "      <td>1</td>\n",
       "      <td>4897</td>\n",
       "      <td>1.294874</td>\n",
       "      <td>446.707372</td>\n",
       "      <td>Parisian atmosphere</td>\n",
       "      <td>Bit pricey but interesting decor and good...</td>\n",
       "      <td>2017-12-21</td>\n",
       "      <td>2017-12-12</td>\n",
       "      <td>9.0</td>\n",
       "    </tr>\n",
       "    <tr>\n",
       "      <th>39997</th>\n",
       "      <td>id_1649</td>\n",
       "      <td>Stockholm</td>\n",
       "      <td>[Japanese, Sushi]</td>\n",
       "      <td>1652.0</td>\n",
       "      <td>4.5</td>\n",
       "      <td>NotAvailable</td>\n",
       "      <td>4.0</td>\n",
       "      <td>[['Good by swedish standards', 'A hidden jewel...</td>\n",
       "      <td>/Restaurant_Review-g189852-d947615-Reviews-Sus...</td>\n",
       "      <td>d947615</td>\n",
       "      <td>0</td>\n",
       "      <td>1.0</td>\n",
       "      <td>True</td>\n",
       "      <td>975904</td>\n",
       "      <td>Sweden</td>\n",
       "      <td>2</td>\n",
       "      <td>0</td>\n",
       "      <td>0</td>\n",
       "      <td>0</td>\n",
       "      <td>820</td>\n",
       "      <td>2.014634</td>\n",
       "      <td>1190.126829</td>\n",
       "      <td>Good by swedish standards</td>\n",
       "      <td>A hidden jewel in the middle of Västertorp...</td>\n",
       "      <td>2016-11-03</td>\n",
       "      <td>2008-04-12</td>\n",
       "      <td>3127.0</td>\n",
       "    </tr>\n",
       "    <tr>\n",
       "      <th>39998</th>\n",
       "      <td>id_640</td>\n",
       "      <td>Warsaw</td>\n",
       "      <td>[Polish, European, Eastern European, Central E...</td>\n",
       "      <td>641.0</td>\n",
       "      <td>4.0</td>\n",
       "      <td>Medium</td>\n",
       "      <td>70.0</td>\n",
       "      <td>[['Underground restaurant', 'Oldest Restaurant...</td>\n",
       "      <td>/Restaurant_Review-g274856-d1100838-Reviews-Ho...</td>\n",
       "      <td>d1100838</td>\n",
       "      <td>0</td>\n",
       "      <td>1.0</td>\n",
       "      <td>True</td>\n",
       "      <td>1720398</td>\n",
       "      <td>Poland</td>\n",
       "      <td>5</td>\n",
       "      <td>0</td>\n",
       "      <td>1</td>\n",
       "      <td>1</td>\n",
       "      <td>727</td>\n",
       "      <td>0.881706</td>\n",
       "      <td>2366.434663</td>\n",
       "      <td>Underground restaurant</td>\n",
       "      <td>Oldest Restaurant in Warsaw</td>\n",
       "      <td>2017-07-11</td>\n",
       "      <td>2017-06-18</td>\n",
       "      <td>23.0</td>\n",
       "    </tr>\n",
       "    <tr>\n",
       "      <th>39999</th>\n",
       "      <td>id_4824</td>\n",
       "      <td>Milan</td>\n",
       "      <td>[Spanish]</td>\n",
       "      <td>4827.0</td>\n",
       "      <td>3.0</td>\n",
       "      <td>Medium</td>\n",
       "      <td>260.0</td>\n",
       "      <td>[['Average', 'Nice an informal'], ['01/31/2016...</td>\n",
       "      <td>/Restaurant_Review-g187849-d1109020-Reviews-Ta...</td>\n",
       "      <td>d1109020</td>\n",
       "      <td>0</td>\n",
       "      <td>1.0</td>\n",
       "      <td>False</td>\n",
       "      <td>1331586</td>\n",
       "      <td>Italy</td>\n",
       "      <td>1</td>\n",
       "      <td>0</td>\n",
       "      <td>0</td>\n",
       "      <td>0</td>\n",
       "      <td>2133</td>\n",
       "      <td>2.263010</td>\n",
       "      <td>624.278481</td>\n",
       "      <td>Average</td>\n",
       "      <td>Nice an informal</td>\n",
       "      <td>2016-01-31</td>\n",
       "      <td>2012-07-04</td>\n",
       "      <td>1306.0</td>\n",
       "    </tr>\n",
       "  </tbody>\n",
       "</table>\n",
       "<p>40000 rows × 27 columns</p>\n",
       "</div>"
      ],
      "text/plain": [
       "      restaurant_id       city  \\\n",
       "0           id_5569      Paris   \n",
       "1           id_1535  Stockholm   \n",
       "2            id_352     London   \n",
       "3           id_3456     Berlin   \n",
       "4            id_615     Munich   \n",
       "...             ...        ...   \n",
       "39995        id_499      Milan   \n",
       "39996       id_6340      Paris   \n",
       "39997       id_1649  Stockholm   \n",
       "39998        id_640     Warsaw   \n",
       "39999       id_4824      Milan   \n",
       "\n",
       "                                           cuisine_style  ranking  rating  \\\n",
       "0                      [European, French, International]   5570.0     3.5   \n",
       "1                                              [unknown]   1537.0     4.0   \n",
       "2      [Japanese, Sushi, Asian, Grill, Vegetarian Fri...    353.0     4.5   \n",
       "3                                              [unknown]   3458.0     5.0   \n",
       "4        [German, Central European, Vegetarian Friendly]    621.0     4.0   \n",
       "...                                                  ...      ...     ...   \n",
       "39995  [Italian, Vegetarian Friendly, Vegan Options, ...    500.0     4.5   \n",
       "39996  [French, American, Bar, European, Vegetarian F...   6341.0     3.5   \n",
       "39997                                  [Japanese, Sushi]   1652.0     4.5   \n",
       "39998  [Polish, European, Eastern European, Central E...    641.0     4.0   \n",
       "39999                                          [Spanish]   4827.0     3.0   \n",
       "\n",
       "        price_range  reviews_number  \\\n",
       "0            Medium           194.0   \n",
       "1      NotAvailable            10.0   \n",
       "2              High           688.0   \n",
       "3      NotAvailable             3.0   \n",
       "4            Medium            84.0   \n",
       "...             ...             ...   \n",
       "39995        Medium            79.0   \n",
       "39996        Medium           542.0   \n",
       "39997  NotAvailable             4.0   \n",
       "39998        Medium            70.0   \n",
       "39999        Medium           260.0   \n",
       "\n",
       "                                                 reviews  \\\n",
       "0      [['Good food at your doorstep', 'A good hotel ...   \n",
       "1      [['Unique cuisine', 'Delicious Nepalese food']...   \n",
       "2      [['Catch up with friends', 'Not exceptional'],...   \n",
       "3                                               [[], []]   \n",
       "4      [['Best place to try a Bavarian food', 'Nice b...   \n",
       "...                                                  ...   \n",
       "39995  [['The real Italian experience!', 'Wonderful f...   \n",
       "39996  [['Parisian atmosphere', 'Bit pricey but inter...   \n",
       "39997  [['Good by swedish standards', 'A hidden jewel...   \n",
       "39998  [['Underground restaurant', 'Oldest Restaurant...   \n",
       "39999  [['Average', 'Nice an informal'], ['01/31/2016...   \n",
       "\n",
       "                                                  url_ta     id_ta  \\\n",
       "0      /Restaurant_Review-g187147-d1912643-Reviews-R_...  d1912643   \n",
       "1      /Restaurant_Review-g189852-d7992032-Reviews-Bu...  d7992032   \n",
       "2      /Restaurant_Review-g186338-d8632781-Reviews-RO...  d8632781   \n",
       "3      /Restaurant_Review-g187323-d1358776-Reviews-Es...  d1358776   \n",
       "4      /Restaurant_Review-g187309-d6864963-Reviews-Au...  d6864963   \n",
       "...                                                  ...       ...   \n",
       "39995  /Restaurant_Review-g187849-d2104414-Reviews-Ro...  d2104414   \n",
       "39996  /Restaurant_Review-g187147-d1800036-Reviews-La...  d1800036   \n",
       "39997  /Restaurant_Review-g189852-d947615-Reviews-Sus...   d947615   \n",
       "39998  /Restaurant_Review-g274856-d1100838-Reviews-Ho...  d1100838   \n",
       "39999  /Restaurant_Review-g187849-d1109020-Reviews-Ta...  d1109020   \n",
       "\n",
       "       cuisine_ctyle_empty  chained_rest  capital  city_population  \\\n",
       "0                        0           1.0     True          2187526   \n",
       "1                        1           1.0     True           975904   \n",
       "2                        0           1.0     True          8787892   \n",
       "3                        1           1.0     True          3726902   \n",
       "4                        0           1.0    False          1558395   \n",
       "...                    ...           ...      ...              ...   \n",
       "39995                    0           1.0    False          1331586   \n",
       "39996                    0           1.0     True          2187526   \n",
       "39997                    0           1.0     True           975904   \n",
       "39998                    0           1.0     True          1720398   \n",
       "39999                    0           1.0    False          1331586   \n",
       "\n",
       "              country  cuisine_count  rare_cuisine  local_cuisine  \\\n",
       "0              France              3             0              1   \n",
       "1              Sweden              1             0              0   \n",
       "2      United Kingdom              7             0              0   \n",
       "3             Germany              1             0              0   \n",
       "4             Germany              3             0              1   \n",
       "...               ...            ...           ...            ...   \n",
       "39995           Italy              4             0              1   \n",
       "39996          France              5             0              1   \n",
       "39997          Sweden              2             0              0   \n",
       "39998          Poland              5             0              1   \n",
       "39999           Italy              1             0              0   \n",
       "\n",
       "       vegan_include  restaurant_qty  equiv_ranking  people_per_restaur  \\\n",
       "0                  0            4897       1.137431          446.707372   \n",
       "1                  0             820       1.874390         1190.126829   \n",
       "2                  1            5757       0.061317         1526.470731   \n",
       "3                  0            2155       1.604640         1729.420882   \n",
       "4                  1             893       0.695409         1745.123180   \n",
       "...              ...             ...            ...                 ...   \n",
       "39995              1            2133       0.234412          624.278481   \n",
       "39996              1            4897       1.294874          446.707372   \n",
       "39997              0             820       2.014634         1190.126829   \n",
       "39998              1             727       0.881706         2366.434663   \n",
       "39999              0            2133       2.263010          624.278481   \n",
       "\n",
       "                                review_1  \\\n",
       "0             Good food at your doorstep   \n",
       "1                         Unique cuisine   \n",
       "2                  Catch up with friends   \n",
       "3                  Catch up with friends   \n",
       "4      Best place to try a Bavarian food   \n",
       "...                                  ...   \n",
       "39995       The real Italian experience!   \n",
       "39996                Parisian atmosphere   \n",
       "39997          Good by swedish standards   \n",
       "39998             Underground restaurant   \n",
       "39999                            Average   \n",
       "\n",
       "                                            review_2     date_1     date_2  \\\n",
       "0                            A good hotel restaurant 2017-12-31 2017-11-20   \n",
       "1                            Delicious Nepalese food 2017-07-06 2016-06-19   \n",
       "2                                    Not exceptional 2018-01-08 2018-01-06   \n",
       "3                                         no_comment        NaT        NaT   \n",
       "4       Nice building but improvements need to be... 2017-11-18 2017-02-19   \n",
       "...                                              ...        ...        ...   \n",
       "39995           Wonderful food, wonderful experience 2017-12-16 2017-11-12   \n",
       "39996   Bit pricey but interesting decor and good... 2017-12-21 2017-12-12   \n",
       "39997  A hidden jewel in the middle of Västertorp... 2016-11-03 2008-04-12   \n",
       "39998                    Oldest Restaurant in Warsaw 2017-07-11 2017-06-18   \n",
       "39999                               Nice an informal 2016-01-31 2012-07-04   \n",
       "\n",
       "       diff_rev  \n",
       "0          41.0  \n",
       "1         382.0  \n",
       "2           2.0  \n",
       "3           NaN  \n",
       "4         272.0  \n",
       "...         ...  \n",
       "39995      34.0  \n",
       "39996       9.0  \n",
       "39997    3127.0  \n",
       "39998      23.0  \n",
       "39999    1306.0  \n",
       "\n",
       "[40000 rows x 27 columns]"
      ]
     },
     "execution_count": 80,
     "metadata": {},
     "output_type": "execute_result"
    }
   ],
   "source": [
    "df"
   ]
  },
  {
   "cell_type": "code",
   "execution_count": null,
   "metadata": {},
   "outputs": [],
   "source": []
  },
  {
   "cell_type": "code",
   "execution_count": null,
   "metadata": {},
   "outputs": [],
   "source": []
  },
  {
   "cell_type": "code",
   "execution_count": null,
   "metadata": {},
   "outputs": [],
   "source": [
    "df['id_ta'] = df['id_ta'].apply(lambda x: int(x[1:]))"
   ]
  },
  {
   "cell_type": "code",
   "execution_count": null,
   "metadata": {},
   "outputs": [],
   "source": []
  },
  {
   "cell_type": "code",
   "execution_count": null,
   "metadata": {},
   "outputs": [],
   "source": []
  },
  {
   "cell_type": "code",
   "execution_count": null,
   "metadata": {},
   "outputs": [],
   "source": []
  },
  {
   "cell_type": "code",
   "execution_count": null,
   "metadata": {},
   "outputs": [],
   "source": []
  }
 ],
 "metadata": {
  "kernelspec": {
   "display_name": "Python 3",
   "language": "python",
   "name": "python3"
  },
  "language_info": {
   "codemirror_mode": {
    "name": "ipython",
    "version": 3
   },
   "file_extension": ".py",
   "mimetype": "text/x-python",
   "name": "python",
   "nbconvert_exporter": "python",
   "pygments_lexer": "ipython3",
   "version": "3.8.3"
  }
 },
 "nbformat": 4,
 "nbformat_minor": 4
}
