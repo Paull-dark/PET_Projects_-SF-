{
 "cells": [
  {
   "cell_type": "markdown",
   "metadata": {},
   "source": [
    "# Find Dishonest Restaurant\n",
    "<img src=\"https://www.netclipart.com/pp/m/349-3494556_forex-scams-by-dishonest-person-lying-cartoon.png\" width=\"600px\">"
   ]
  },
  {
   "cell_type": "markdown",
   "metadata": {},
   "source": [
    "## Description\n",
    "\n",
    "Sometimes, some dishonest restaurants cheating TripAdvisor and their guests by winding up the rating higher than it should be.\n",
    "\n",
    "The main aim of the project is to try to predict the rating of the restaurant with given data.\n",
    "\n",
    "In case if the predictions of our model have significant differences from the actual result, then, most likely we found a dishonest restaurant. "
   ]
  },
  {
   "cell_type": "markdown",
   "metadata": {},
   "source": [
    "### Column Defination\n",
    "\n",
    "Restaurant_id — restaurant / restaurant chain identification number;\n",
    "\n",
    "City — In what city it is located;\n",
    "\n",
    "Cuisine Style — related to a restaurant cuisine;\n",
    "\n",
    "Ranking — the place that this restaurant occupies among all restaurants in its city;\n",
    "\n",
    "Rating — restaurant rating according to TripAdvisor (Target Variable);\n",
    "\n",
    "Price Range — restaurant price range;\n",
    "\n",
    "Number of Reviews — Number of Reviews ;\n",
    "\n",
    "Reviews — data about two reviews that are displayed on the restaurant's website;\n",
    "\n",
    "URL_TA — URL on TripAdvisor;\n",
    "\n",
    "ID_TA — Identificator of restaurant in TripAdvisor's DataBase.\n"
   ]
  },
  {
   "cell_type": "markdown",
   "metadata": {},
   "source": [
    "---\n",
    "### Import Libraries\n",
    "---"
   ]
  },
  {
   "cell_type": "code",
   "execution_count": 1,
   "metadata": {},
   "outputs": [],
   "source": [
    "import numpy as np\n",
    "import pandas as pd\n",
    "import seaborn as sns\n",
    "import matplotlib.pyplot as plt\n",
    "import warnings\n",
    "import re\n",
    "warnings.filterwarnings('ignore')\n",
    "\n",
    "from jupyterthemes import jtplot\n",
    "\n",
    "pd.set_option('display.max_rows', 50)  # Show more rows\n",
    "pd.set_option('display.max_columns', 50)  # Show more columns\n",
    "plt.style.use('ggplot')  # Nice plotting\n",
    "\n",
    "%matplotlib inline\n",
    "\n",
    "jtplot.style(theme='monokai', context='notebook', ticks=True, grid=False)"
   ]
  },
  {
   "cell_type": "code",
   "execution_count": 2,
   "metadata": {},
   "outputs": [
    {
     "data": {
      "image/png": "[encoded data removed]",
      "text/plain": [
       "<Figure size 144x72 with 1 Axes>"
      ]
     },
     "metadata": {},
     "output_type": "display_data"
    }
   ],
   "source": [
    " #colors = ['#001c57', '#50248f', '#a6a6a6', '#38d1ff']\n",
    "colors = ['#50248f','#38d1ff']\n",
    "sns.palplot(sns.color_palette(colors))"
   ]
  },
  {
   "cell_type": "markdown",
   "metadata": {},
   "source": [
    "## 1. Read and Chek the Dataset"
   ]
  },
  {
   "cell_type": "code",
   "execution_count": 3,
   "metadata": {
    "scrolled": true
   },
   "outputs": [
    {
     "name": "stdout",
     "output_type": "stream",
     "text": [
      "Dataset shape: (40000, 10)\n"
     ]
    }
   ],
   "source": [
    "df = pd.read_csv('main_task.csv')\n",
    "print(f'Dataset shape: {df.shape}')"
   ]
  },
  {
   "cell_type": "markdown",
   "metadata": {},
   "source": [
    "### 1.1 Show basic info"
   ]
  },
  {
   "cell_type": "code",
   "execution_count": 4,
   "metadata": {
    "scrolled": true
   },
   "outputs": [
    {
     "data": {
      "text/html": [
       "<div>\n",
       "<style scoped>\n",
       "    .dataframe tbody tr th:only-of-type {\n",
       "        vertical-align: middle;\n",
       "    }\n",
       "\n",
       "    .dataframe tbody tr th {\n",
       "        vertical-align: top;\n",
       "    }\n",
       "\n",
       "    .dataframe thead th {\n",
       "        text-align: right;\n",
       "    }\n",
       "</style>\n",
       "<table border=\"1\" class=\"dataframe\">\n",
       "  <thead>\n",
       "    <tr style=\"text-align: right;\">\n",
       "      <th></th>\n",
       "      <th>Restaurant_id</th>\n",
       "      <th>City</th>\n",
       "      <th>Cuisine Style</th>\n",
       "      <th>Ranking</th>\n",
       "      <th>Rating</th>\n",
       "      <th>Price Range</th>\n",
       "      <th>Number of Reviews</th>\n",
       "      <th>Reviews</th>\n",
       "      <th>URL_TA</th>\n",
       "      <th>ID_TA</th>\n",
       "    </tr>\n",
       "  </thead>\n",
       "  <tbody>\n",
       "    <tr>\n",
       "      <th>0</th>\n",
       "      <td>id_5569</td>\n",
       "      <td>Paris</td>\n",
       "      <td>['European', 'French', 'International']</td>\n",
       "      <td>5570.0</td>\n",
       "      <td>3.5</td>\n",
       "      <td>$$ - $$$</td>\n",
       "      <td>194.0</td>\n",
       "      <td>[['Good food at your doorstep', 'A good hotel ...</td>\n",
       "      <td>/Restaurant_Review-g187147-d1912643-Reviews-R_...</td>\n",
       "      <td>d1912643</td>\n",
       "    </tr>\n",
       "    <tr>\n",
       "      <th>1</th>\n",
       "      <td>id_1535</td>\n",
       "      <td>Stockholm</td>\n",
       "      <td>NaN</td>\n",
       "      <td>1537.0</td>\n",
       "      <td>4.0</td>\n",
       "      <td>NaN</td>\n",
       "      <td>10.0</td>\n",
       "      <td>[['Unique cuisine', 'Delicious Nepalese food']...</td>\n",
       "      <td>/Restaurant_Review-g189852-d7992032-Reviews-Bu...</td>\n",
       "      <td>d7992032</td>\n",
       "    </tr>\n",
       "    <tr>\n",
       "      <th>2</th>\n",
       "      <td>id_352</td>\n",
       "      <td>London</td>\n",
       "      <td>['Japanese', 'Sushi', 'Asian', 'Grill', 'Veget...</td>\n",
       "      <td>353.0</td>\n",
       "      <td>4.5</td>\n",
       "      <td>$$$$</td>\n",
       "      <td>688.0</td>\n",
       "      <td>[['Catch up with friends', 'Not exceptional'],...</td>\n",
       "      <td>/Restaurant_Review-g186338-d8632781-Reviews-RO...</td>\n",
       "      <td>d8632781</td>\n",
       "    </tr>\n",
       "    <tr>\n",
       "      <th>3</th>\n",
       "      <td>id_3456</td>\n",
       "      <td>Berlin</td>\n",
       "      <td>NaN</td>\n",
       "      <td>3458.0</td>\n",
       "      <td>5.0</td>\n",
       "      <td>NaN</td>\n",
       "      <td>3.0</td>\n",
       "      <td>[[], []]</td>\n",
       "      <td>/Restaurant_Review-g187323-d1358776-Reviews-Es...</td>\n",
       "      <td>d1358776</td>\n",
       "    </tr>\n",
       "    <tr>\n",
       "      <th>4</th>\n",
       "      <td>id_615</td>\n",
       "      <td>Munich</td>\n",
       "      <td>['German', 'Central European', 'Vegetarian Fri...</td>\n",
       "      <td>621.0</td>\n",
       "      <td>4.0</td>\n",
       "      <td>$$ - $$$</td>\n",
       "      <td>84.0</td>\n",
       "      <td>[['Best place to try a Bavarian food', 'Nice b...</td>\n",
       "      <td>/Restaurant_Review-g187309-d6864963-Reviews-Au...</td>\n",
       "      <td>d6864963</td>\n",
       "    </tr>\n",
       "  </tbody>\n",
       "</table>\n",
       "</div>"
      ],
      "text/plain": [
       "  Restaurant_id       City                                      Cuisine Style  \\\n",
       "0       id_5569      Paris            ['European', 'French', 'International']   \n",
       "1       id_1535  Stockholm                                                NaN   \n",
       "2        id_352     London  ['Japanese', 'Sushi', 'Asian', 'Grill', 'Veget...   \n",
       "3       id_3456     Berlin                                                NaN   \n",
       "4        id_615     Munich  ['German', 'Central European', 'Vegetarian Fri...   \n",
       "\n",
       "   Ranking  Rating Price Range  Number of Reviews  \\\n",
       "0   5570.0     3.5    $$ - $$$              194.0   \n",
       "1   1537.0     4.0         NaN               10.0   \n",
       "2    353.0     4.5        $$$$              688.0   \n",
       "3   3458.0     5.0         NaN                3.0   \n",
       "4    621.0     4.0    $$ - $$$               84.0   \n",
       "\n",
       "                                             Reviews  \\\n",
       "0  [['Good food at your doorstep', 'A good hotel ...   \n",
       "1  [['Unique cuisine', 'Delicious Nepalese food']...   \n",
       "2  [['Catch up with friends', 'Not exceptional'],...   \n",
       "3                                           [[], []]   \n",
       "4  [['Best place to try a Bavarian food', 'Nice b...   \n",
       "\n",
       "                                              URL_TA     ID_TA  \n",
       "0  /Restaurant_Review-g187147-d1912643-Reviews-R_...  d1912643  \n",
       "1  /Restaurant_Review-g189852-d7992032-Reviews-Bu...  d7992032  \n",
       "2  /Restaurant_Review-g186338-d8632781-Reviews-RO...  d8632781  \n",
       "3  /Restaurant_Review-g187323-d1358776-Reviews-Es...  d1358776  \n",
       "4  /Restaurant_Review-g187309-d6864963-Reviews-Au...  d6864963  "
      ]
     },
     "metadata": {},
     "output_type": "display_data"
    },
    {
     "name": "stdout",
     "output_type": "stream",
     "text": [
      "<class 'pandas.core.frame.DataFrame'>\n",
      "RangeIndex: 40000 entries, 0 to 39999\n",
      "Data columns (total 10 columns):\n",
      " #   Column             Non-Null Count  Dtype  \n",
      "---  ------             --------------  -----  \n",
      " 0   Restaurant_id      40000 non-null  object \n",
      " 1   City               40000 non-null  object \n",
      " 2   Cuisine Style      30717 non-null  object \n",
      " 3   Ranking            40000 non-null  float64\n",
      " 4   Rating             40000 non-null  float64\n",
      " 5   Price Range        26114 non-null  object \n",
      " 6   Number of Reviews  37457 non-null  float64\n",
      " 7   Reviews            40000 non-null  object \n",
      " 8   URL_TA             40000 non-null  object \n",
      " 9   ID_TA              40000 non-null  object \n",
      "dtypes: float64(3), object(7)\n",
      "memory usage: 3.1+ MB\n"
     ]
    }
   ],
   "source": [
    "display(df.head())\n",
    "df.info()"
   ]
  },
  {
   "cell_type": "markdown",
   "metadata": {},
   "source": [
    "### 1.2 Show the data types"
   ]
  },
  {
   "cell_type": "code",
   "execution_count": 5,
   "metadata": {},
   "outputs": [
    {
     "data": {
      "text/html": [
       "<div>\n",
       "<style scoped>\n",
       "    .dataframe tbody tr th:only-of-type {\n",
       "        vertical-align: middle;\n",
       "    }\n",
       "\n",
       "    .dataframe tbody tr th {\n",
       "        vertical-align: top;\n",
       "    }\n",
       "\n",
       "    .dataframe thead th {\n",
       "        text-align: right;\n",
       "    }\n",
       "</style>\n",
       "<table border=\"1\" class=\"dataframe\">\n",
       "  <thead>\n",
       "    <tr style=\"text-align: right;\">\n",
       "      <th></th>\n",
       "      <th>Column Type</th>\n",
       "      <th>Count</th>\n",
       "    </tr>\n",
       "  </thead>\n",
       "  <tbody>\n",
       "    <tr>\n",
       "      <th>0</th>\n",
       "      <td>float64</td>\n",
       "      <td>3</td>\n",
       "    </tr>\n",
       "    <tr>\n",
       "      <th>1</th>\n",
       "      <td>object</td>\n",
       "      <td>7</td>\n",
       "    </tr>\n",
       "  </tbody>\n",
       "</table>\n",
       "</div>"
      ],
      "text/plain": [
       "  Column Type  Count\n",
       "0     float64      3\n",
       "1      object      7"
      ]
     },
     "execution_count": 5,
     "metadata": {},
     "output_type": "execute_result"
    }
   ],
   "source": [
    "dtype_df = df.dtypes.reset_index()\n",
    "dtype_df.columns = ['Count', 'Column Type']\n",
    "dtype_df.groupby('Column Type').agg('count').reset_index()"
   ]
  },
  {
   "cell_type": "markdown",
   "metadata": {},
   "source": [
    "Let's see what type of data in each column-cell"
   ]
  },
  {
   "cell_type": "code",
   "execution_count": 6,
   "metadata": {},
   "outputs": [
    {
     "name": "stdout",
     "output_type": "stream",
     "text": [
      "Restaurant_id <class 'str'>\n",
      "City <class 'str'>\n",
      "Cuisine Style <class 'float'>\n",
      "Ranking <class 'numpy.float64'>\n",
      "Rating <class 'numpy.float64'>\n",
      "Price Range <class 'float'>\n",
      "Number of Reviews <class 'numpy.float64'>\n",
      "Reviews <class 'str'>\n",
      "URL_TA <class 'str'>\n",
      "ID_TA <class 'str'>\n"
     ]
    }
   ],
   "source": [
    "for i,j in enumerate(df.columns):\n",
    "    print(j,type(df.loc[1][i]))"
   ]
  },
  {
   "cell_type": "markdown",
   "metadata": {},
   "source": [
    "Well, it is more interesting. Let's briefly see at the content of object data."
   ]
  },
  {
   "cell_type": "code",
   "execution_count": 7,
   "metadata": {},
   "outputs": [
    {
     "name": "stdout",
     "output_type": "stream",
     "text": [
      "Index(['Restaurant_id', 'City', 'Cuisine Style', 'Price Range', 'Reviews',\n",
      "       'URL_TA', 'ID_TA'],\n",
      "      dtype='object')\n"
     ]
    }
   ],
   "source": [
    "obj = df.dtypes[df.dtypes == 'object'].index\n",
    "print(obj)"
   ]
  },
  {
   "cell_type": "code",
   "execution_count": 8,
   "metadata": {},
   "outputs": [
    {
     "name": "stdout",
     "output_type": "stream",
     "text": [
      "Col Name: Restaurant_id, Content: ['id_5569' 'id_1535' 'id_352' ... 'id_7068' 'id_8887' 'id_6057']\n",
      "\n",
      "Col Name: City, Content: ['Paris' 'Stockholm' 'London' 'Berlin' 'Munich' 'Oporto' 'Milan'\n",
      " 'Bratislava' 'Vienna' 'Rome' 'Barcelona' 'Madrid' 'Dublin' 'Brussels'\n",
      " 'Zurich' 'Warsaw' 'Budapest' 'Copenhagen' 'Amsterdam' 'Lyon' 'Hamburg'\n",
      " 'Lisbon' 'Prague' 'Oslo' 'Helsinki' 'Edinburgh' 'Geneva' 'Ljubljana'\n",
      " 'Athens' 'Luxembourg' 'Krakow']\n",
      "\n",
      "Col Name: Cuisine Style, Content: [\"['European', 'French', 'International']\" nan\n",
      " \"['Japanese', 'Sushi', 'Asian', 'Grill', 'Vegetarian Friendly', 'Vegan Options', 'Gluten Free Options']\"\n",
      " ...\n",
      " \"['Steakhouse', 'Barbecue', 'Australian', 'Argentinean', 'South American']\"\n",
      " \"['French', 'American', 'Cafe', 'Healthy', 'Soups']\"\n",
      " \"['French', 'Contemporary', 'Fusion', 'Gastropub']\"]\n",
      "\n",
      "Col Name: Price Range, Content: ['$$ - $$$' nan '$$$$' '$']\n",
      "\n",
      "Col Name: Reviews, Content: [\"[['Good food at your doorstep', 'A good hotel restaurant'], ['12/31/2017', '11/20/2017']]\"\n",
      " \"[['Unique cuisine', 'Delicious Nepalese food'], ['07/06/2017', '06/19/2016']]\"\n",
      " \"[['Catch up with friends', 'Not exceptional'], ['01/08/2018', '01/06/2018']]\"\n",
      " ...\n",
      " \"[['Good by swedish standards', 'A hidden jewel in the middle of Västertorp...'], ['11/03/2016', '04/12/2008']]\"\n",
      " \"[['Underground restaurant', 'Oldest Restaurant in Warsaw'], ['07/11/2017', '06/18/2017']]\"\n",
      " \"[['Average', 'Nice an informal'], ['01/31/2016', '07/04/2012']]\"]\n",
      "\n",
      "Col Name: URL_TA, Content: ['/Restaurant_Review-g187147-d1912643-Reviews-R_Yves-Paris_Ile_de_France.html'\n",
      " '/Restaurant_Review-g189852-d7992032-Reviews-Buddha_Nepal-Stockholm.html'\n",
      " '/Restaurant_Review-g186338-d8632781-Reviews-ROKA_Mayfair-London_England.html'\n",
      " ...\n",
      " '/Restaurant_Review-g189852-d947615-Reviews-Sushi_Bar_Anu-Stockholm.html'\n",
      " '/Restaurant_Review-g274856-d1100838-Reviews-Honoratka_dawna_Oberza_na_Miodowej-Warsaw_Mazovia_Province_Central_Poland.html'\n",
      " '/Restaurant_Review-g187849-d1109020-Reviews-Taberna_Vasca-Milan_Lombardy.html']\n",
      "\n",
      "Col Name: ID_TA, Content: ['d1912643' 'd7992032' 'd8632781' ... 'd947615' 'd1100838' 'd1109020']\n",
      "\n"
     ]
    }
   ],
   "source": [
    "for i in obj:\n",
    "    print(f'Col Name: {i}, Content: {df[i].unique()}\\n')"
   ]
  },
  {
   "cell_type": "markdown",
   "metadata": {},
   "source": [
    "Well, that is clearly obvious,that some data in columns pretend to be as a list, however it is string or float type.\n",
    "\n",
    "Such as:\n",
    " - column Cuisine Style is looks like a list, but has float64 type;\n",
    " - column Reviews looks like nested list with following template [[ comment_1 , comment_2 ], [date1 , date2]], but in fact it has str type of data."
   ]
  },
  {
   "cell_type": "markdown",
   "metadata": {},
   "source": [
    "Rename columns removing spaces and substituting capital letters"
   ]
  },
  {
   "cell_type": "code",
   "execution_count": 9,
   "metadata": {},
   "outputs": [],
   "source": [
    "df.rename(columns={'Restaurant_id': 'restaurant_id',\n",
    "                   'City' : 'city',\n",
    "                   'Cuisine Style': 'cuisine_style',\n",
    "                   'Ranking': 'ranking',\n",
    "                   'Rating': 'rating',\n",
    "                   'Price Range' :'price_range',\n",
    "                   'Number of Reviews': 'reviews_number',\n",
    "                   'Reviews': 'reviews',\n",
    "                   'URL_TA': 'url_ta',\n",
    "                   'ID_TA' : 'id_ta'},inplace=True)"
   ]
  },
  {
   "cell_type": "markdown",
   "metadata": {},
   "source": [
    "### 1.3 Missing values"
   ]
  },
  {
   "cell_type": "code",
   "execution_count": 10,
   "metadata": {
    "scrolled": true
   },
   "outputs": [
    {
     "name": "stdout",
     "output_type": "stream",
     "text": [
      "restaurant_id - 0.0%\n",
      "city - 0.0%\n",
      "cuisine_style - 23.0%\n",
      "ranking - 0.0%\n",
      "rating - 0.0%\n",
      "price_range - 35.0%\n",
      "reviews_number - 6.0%\n",
      "reviews - 0.0%\n",
      "url_ta - 0.0%\n",
      "id_ta - 0.0%\n"
     ]
    },
    {
     "data": {
      "image/png": "[encoded data removed]",
      "text/plain": [
       "<Figure size 720x720 with 2 Axes>"
      ]
     },
     "metadata": {},
     "output_type": "display_data"
    }
   ],
   "source": [
    "# Plot missing values\n",
    "cols = df.columns\n",
    "fig, ax = plt.subplots(figsize=(10, 10))\n",
    "sns.heatmap(df[cols].isnull(),cmap=sns.color_palette(colors))\n",
    "\n",
    "# Show in percents\n",
    "\n",
    "for col in df.columns:\n",
    "    pct_missing = np.mean(df[col].isnull())\n",
    "    print(f'{col} - {round(pct_missing*100)}%')"
   ]
  },
  {
   "cell_type": "markdown",
   "metadata": {},
   "source": [
    "---\n",
    "## Resume\n",
    "---\n",
    "\n",
    " - DataSet has 40k rows and 10 columns.\n",
    " - Column 'cuisine_style' has 23% of missing values\n",
    " - Column 'price_range' has 35% of missing values\n",
    " - Column 'reviews_number' has 6% of missing values while column 'reviews' has no any single missing value. Here is a discrepancy. If we visually check the content of the column 'reviews', we find the following value :'[[],[]]'. Definatelly it is a missing value which need to be treated in further data-preprocessing.\n",
    " - Type in particular cell sometimes differ with pd.dtypes. Need to take care about that in further.\n"
   ]
  },
  {
   "cell_type": "markdown",
   "metadata": {},
   "source": [
    "## 2. Exploratory Data Analysis"
   ]
  },
  {
   "cell_type": "markdown",
   "metadata": {},
   "source": [
    "### 2.1 Target Variable analysis"
   ]
  },
  {
   "cell_type": "code",
   "execution_count": 11,
   "metadata": {},
   "outputs": [
    {
     "data": {
      "text/plain": [
       "Text(0.5, 0, 'Rating')"
      ]
     },
     "execution_count": 11,
     "metadata": {},
     "output_type": "execute_result"
    },
    {
     "data": {
      "image/png": "[encoded data removed]",
      "text/plain": [
       "<Figure size 1080x360 with 2 Axes>"
      ]
     },
     "metadata": {},
     "output_type": "display_data"
    }
   ],
   "source": [
    "plt.figure(figsize=(15 ,5))\n",
    "plt.subplot(121)\n",
    "sns.distplot(df.rating.values, bins=10,color=colors[0])\n",
    "plt.title('Rating Distribution\\n', fontsize=15)\n",
    "plt.xlabel ('Rating')\n",
    "plt.ylabel ('Quantity (frequency)')\n",
    "\n",
    "plt.subplot(122)\n",
    "sns.boxplot(df.rating.values, color=colors[1])\n",
    "plt.title('Rating Distribution\\n', fontsize=15)\n",
    "plt.xlabel('Rating')"
   ]
  },
  {
   "cell_type": "code",
   "execution_count": 12,
   "metadata": {},
   "outputs": [
    {
     "data": {
      "text/plain": [
       "count    40000.000000\n",
       "mean         3.993037\n",
       "std          0.668417\n",
       "min          1.000000\n",
       "25%          3.500000\n",
       "50%          4.000000\n",
       "75%          4.500000\n",
       "max          5.000000\n",
       "Name: rating, dtype: float64"
      ]
     },
     "execution_count": 12,
     "metadata": {},
     "output_type": "execute_result"
    }
   ],
   "source": [
    "df['rating'].describe()"
   ]
  },
  {
   "cell_type": "markdown",
   "metadata": {},
   "source": [
    "The Target variable has a normal distribution shifted to the right side of 1 to 5. The first and third quartiles are in the range from  3.5 to 4.5, the median is 4. Also outliers has been observed for target variable."
   ]
  },
  {
   "cell_type": "markdown",
   "metadata": {},
   "source": [
    "### 2.2 Restaurant_Id column"
   ]
  },
  {
   "cell_type": "code",
   "execution_count": 13,
   "metadata": {},
   "outputs": [
    {
     "name": "stdout",
     "output_type": "stream",
     "text": [
      "Unique Id quantity: 11909\n"
     ]
    },
    {
     "data": {
      "text/plain": [
       "id_436      18\n",
       "id_871      18\n",
       "id_227      18\n",
       "id_633      18\n",
       "id_534      17\n",
       "            ..\n",
       "id_7950      1\n",
       "id_6262      1\n",
       "id_14968     1\n",
       "id_3956      1\n",
       "id_6849      1\n",
       "Name: restaurant_id, Length: 11909, dtype: int64"
      ]
     },
     "execution_count": 13,
     "metadata": {},
     "output_type": "execute_result"
    }
   ],
   "source": [
    "print(f'Unique Id quantity: {df.restaurant_id.nunique()}')\n",
    "df['restaurant_id'].value_counts()"
   ]
  },
  {
   "cell_type": "markdown",
   "metadata": {},
   "source": [
    "Well, the total quantity of rows is 40k while number of unique id is 11k.\n",
    "\n",
    "We may see some dublicates here.\n",
    "\n",
    "With a reference to a column description it may says us that we have some chainrestaurants here in dataset."
   ]
  },
  {
   "cell_type": "markdown",
   "metadata": {},
   "source": [
    "### 2.3 City column"
   ]
  },
  {
   "cell_type": "code",
   "execution_count": 14,
   "metadata": {
    "scrolled": true
   },
   "outputs": [
    {
     "name": "stdout",
     "output_type": "stream",
     "text": [
      "Total Number of Cities in DataSet: 31\n"
     ]
    },
    {
     "data": {
      "image/png": "[encoded data removed]",
      "text/plain": [
       "<Figure size 1080x360 with 1 Axes>"
      ]
     },
     "metadata": {},
     "output_type": "display_data"
    }
   ],
   "source": [
    "plt.figure(figsize=(15 ,5))\n",
    "sns.countplot(x = 'city', data=df)\n",
    "plt.xticks(rotation=45)\n",
    "plt.title('Cities Distribution\\n', fontsize=20)\n",
    "plt.xlabel ('City Name')\n",
    "plt.ylabel ('Quantity (frequency)')\n",
    "\n",
    "print(f'Total Number of Cities in DataSet: {df.city.nunique()}')"
   ]
  },
  {
   "cell_type": "markdown",
   "metadata": {},
   "source": [
    "The overwhelming majority of restaurants presented in the dataset located in London, Paris, Madrid. \n",
    "\n",
    "All cities are European.\n",
    "\n",
    "The city of Oporto is not identified. It is actually the name of the restaurant in Porto(Portugal)\n",
    "\n",
    "Most likely it shall be Porto instead of Oporto."
   ]
  },
  {
   "cell_type": "markdown",
   "metadata": {},
   "source": [
    "### 2.4 Cuisine_style column"
   ]
  },
  {
   "cell_type": "markdown",
   "metadata": {},
   "source": [
    "First of all, we have to manage the list of cuisines in a way that we can use the data and produce some statistics."
   ]
  },
  {
   "cell_type": "code",
   "execution_count": 15,
   "metadata": {},
   "outputs": [
    {
     "name": "stdout",
     "output_type": "stream",
     "text": [
      "125\n"
     ]
    }
   ],
   "source": [
    "# Before we start, we need to save an information in dataset, where there were a missing values\n",
    "\n",
    "# Create a column where indicate that Cuisine is not presented for this restaurant\n",
    "df['cuisine_ctyle_empty'] = df['cuisine_style'].isnull().astype('uint8')\n",
    "\n",
    "# Fill missed values in column with 'unknown'\n",
    "df['cuisine_style'] = df['cuisine_style'].fillna(\"['unknown']\")\n",
    "\n",
    "# convert string in the column into a list\n",
    "df['cuisine_style'] = df['cuisine_style'].apply(lambda x: eval(x))\n",
    "\n",
    "# Create separate dataframe for analyse\n",
    "\n",
    "df1 = df[['city','cuisine_style','ranking','rating','reviews_number']].explode('cuisine_style')\n",
    "\n",
    "print(df1['cuisine_style'].nunique()-1) # -1 cos we already filled missed value. Dont count it"
   ]
  },
  {
   "cell_type": "markdown",
   "metadata": {},
   "source": [
    "Check  a top 10 of the most common cuisine styles"
   ]
  },
  {
   "cell_type": "code",
   "execution_count": 16,
   "metadata": {},
   "outputs": [
    {
     "data": {
      "image/png": "[encoded data removed]",
      "text/plain": [
       "<Figure size 1440x720 with 1 Axes>"
      ]
     },
     "metadata": {},
     "output_type": "display_data"
    }
   ],
   "source": [
    "df_cuisine_style = df1.cuisine_style.value_counts().sort_values(ascending = False)[:10]\n",
    "\n",
    "count_ths = np.arange(0, 1.3e4, 5e3)\n",
    "count = np.arange(0, 20, 5)\n",
    "\n",
    "\n",
    "fig = plt.figure(figsize=(20, 10))\n",
    "ax = plt.subplot();\n",
    "\n",
    "\n",
    "plt.bar(x = df_cuisine_style.index, height=df_cuisine_style, color=colors[0]);\n",
    "\n",
    "plt.yticks(count_ths, count);\n",
    "plt.ylabel('Total Places (Thousands)');\n",
    "ax.spines['right'].set_visible(False);\n",
    "ax.spines['top'].set_visible(False);\n",
    "ax.spines['left'].set_visible(False);\n",
    "plt.title('Top 10 most common cuisines');\n",
    "ax.tick_params(direction='out', length=0, width=0, colors='black');"
   ]
  },
  {
   "cell_type": "markdown",
   "metadata": {},
   "source": [
    "The dataset has 125 unique quisins.\n",
    "\n",
    "Vegetarian Friendly places are clearly the most common ones around Europe, followed by mostly European-style cuisine."
   ]
  },
  {
   "cell_type": "code",
   "execution_count": 19,
   "metadata": {},
   "outputs": [],
   "source": [
    "df_cuisine_style = df1.groupby('cuisine_style').reviews_number.sum().sort_values(ascending=False)[:10]"
   ]
  },
  {
   "cell_type": "code",
   "execution_count": 22,
   "metadata": {},
   "outputs": [
    {
     "data": {
      "image/png": "[encoded data removed]",
      "text/plain": [
       "<Figure size 1440x648 with 1 Axes>"
      ]
     },
     "metadata": {},
     "output_type": "display_data"
    }
   ],
   "source": [
    "count_ths = np.arange(0, 3.3e6, 5e5)\n",
    "count = np.arange(0, 9.3, 0.5)\n",
    "\n",
    "fig = plt.figure(figsize=(20, 9))\n",
    "ax = plt.subplot();\n",
    "\n",
    "plt.bar(x = df_cuisine_style.index, height=df_cuisine_style, color=colors[1]);\n",
    "\n",
    "plt.yticks(count_ths, count);\n",
    "plt.ylabel('Total Reviews (Million)');\n",
    "ax.spines['right'].set_visible(False);\n",
    "ax.spines['top'].set_visible(False);\n",
    "ax.spines['left'].set_visible(False);\n",
    "plt.title('Top 10 most reviewed cuisines');\n",
    "ax.tick_params(direction='out', length=0, width=0, colors='black');"
   ]
  },
  {
   "cell_type": "markdown",
   "metadata": {},
   "source": [
    "The chart is more or less simillar with above one.But it's notable that the Vegan and Gluten Free Options are very likely to be reviewed by the customers. Also, There is no reviews for restaurants where cuisins are not shown. So we made a right desicion to keep (but not delete) rows with missing cuisins by replacing nan value to 'unknown'. Perhaps it may help us in further modeling."
   ]
  },
  {
   "cell_type": "code",
   "execution_count": null,
   "metadata": {},
   "outputs": [],
   "source": []
  },
  {
   "cell_type": "code",
   "execution_count": null,
   "metadata": {},
   "outputs": [],
   "source": []
  },
  {
   "cell_type": "code",
   "execution_count": null,
   "metadata": {},
   "outputs": [],
   "source": [
    "# Rare cuisine\n",
    "\n",
    "cuisine_rare_lst = data.explode('Cuisine Style')['Cuisine Style'].value_counts()[\n",
    "    data.explode('Cuisine Style')['Cuisine Style'].value_counts() < 50].index.tolist()"
   ]
  },
  {
   "cell_type": "code",
   "execution_count": null,
   "metadata": {},
   "outputs": [],
   "source": [
    "def cuisine_rare_count(cell):\n",
    "    '''Количество редких кухонь в ресторане'''\n",
    "    x = 0\n",
    "    for i in cuisine_rare_lst:\n",
    "        if i in cell:\n",
    "            x += 1\n",
    "    return x"
   ]
  },
  {
   "cell_type": "code",
   "execution_count": null,
   "metadata": {},
   "outputs": [],
   "source": [
    "data['cuisine_rare'] = data['Cuisine Style'].apply(cuisine_rare_count)"
   ]
  },
  {
   "cell_type": "code",
   "execution_count": null,
   "metadata": {},
   "outputs": [],
   "source": []
  },
  {
   "cell_type": "code",
   "execution_count": null,
   "metadata": {},
   "outputs": [],
   "source": []
  },
  {
   "cell_type": "code",
   "execution_count": null,
   "metadata": {},
   "outputs": [],
   "source": []
  },
  {
   "cell_type": "code",
   "execution_count": null,
   "metadata": {},
   "outputs": [],
   "source": []
  },
  {
   "cell_type": "code",
   "execution_count": null,
   "metadata": {},
   "outputs": [],
   "source": [
    "lx = re.compile('\\[\\[.*\\]\\]')\n",
    "hui = list()\n",
    "for x in df['Reviews']:\n",
    "    if type(x) == str and lx.fullmatch(x):\n",
    "        hui.append(x)\n",
    "hui"
   ]
  },
  {
   "cell_type": "markdown",
   "metadata": {},
   "source": [
    "## 3. Feature Engineering and tidy dataset up"
   ]
  },
  {
   "cell_type": "markdown",
   "metadata": {},
   "source": [
    "### 3.1 Restaurant_Id column"
   ]
  },
  {
   "cell_type": "markdown",
   "metadata": {},
   "source": [
    "With a reference to EDA provided in Section 2, we may add one additional column which depict, whether the restaurant belongs to chain or not."
   ]
  },
  {
   "cell_type": "code",
   "execution_count": null,
   "metadata": {},
   "outputs": [],
   "source": [
    "# Create a list with restaurants which might be in chain\n",
    "\n",
    "chained_rest_list = list(df['restaurant_id'].value_counts()[\n",
    "    df['restaurant_id'].value_counts() > 1].index)\n",
    "\n",
    "# If it is in chain, we add in new column the identificator '1', otherwise '0'\n",
    "df['chained_rest'] = df[df['restaurant_id'].isin(\n",
    "    chained_rest_list)].restaurant_id.apply(lambda x: 1)\n",
    "df['chained_rest'] = df['chained_rest'].fillna(0)\n",
    "\n",
    "# Check\n",
    "df['chained_rest'].value_counts()"
   ]
  },
  {
   "cell_type": "markdown",
   "metadata": {},
   "source": [
    "### 3.2 City column"
   ]
  },
  {
   "cell_type": "markdown",
   "metadata": {},
   "source": [
    "Reduce the quantity of presented cities. Substitute rare cities by 'other'.\n",
    "\n",
    "Fix name Oporto"
   ]
  },
  {
   "cell_type": "code",
   "execution_count": null,
   "metadata": {},
   "outputs": [],
   "source": [
    "# Fix Oporto\n",
    "df['city'] = df['city'].replace(['Oporto'], 'Porto')"
   ]
  },
  {
   "cell_type": "markdown",
   "metadata": {},
   "source": [
    "# !!! It works. Add or remove depend on MAE !!!"
   ]
  },
  {
   "cell_type": "code",
   "execution_count": null,
   "metadata": {},
   "outputs": [],
   "source": [
    "# Top cities\n",
    "\n",
    "all_cities = df['city'].value_counts().index\n",
    "\n",
    "# # Create a top Cites list (more than 20% in Dataset)\n",
    "# top_cities_list = df['city'].value_counts()[\n",
    "#     df['city'].value_counts() > np.percentile((df['city'].value_counts().values), 20)].index.tolist()\n",
    "\n",
    "# cities_to_drop = list(set(all_cities)-set(top_cities_list))\n",
    "# df.loc[df['city'].isin(cities_to_drop),'city'] = 'Other'\n",
    "\n",
    "\n",
    "\n",
    "\n",
    "# # If City is TOP, we add in new column the identificator '1', otherwise '0'\n",
    "# df['top_city'] = df[df['city'].isin(\n",
    "#     top_cities_list)].city.apply(lambda x: 1)\n",
    "# df['top_city'] = df['top_city'].fillna(0)"
   ]
  },
  {
   "cell_type": "markdown",
   "metadata": {},
   "source": [
    "Let's add a column with information about whether the Restaraunt in a capital or not"
   ]
  },
  {
   "cell_type": "code",
   "execution_count": null,
   "metadata": {},
   "outputs": [],
   "source": [
    "# Cos we don't have too many cities, let's create a dict where mention whethere the city is a capital\n",
    "capital = [True, True, True, False, True, False, True, \n",
    "           True, True, True, True, True, False, False, \n",
    "           False, True, True, True, True, True, True, \n",
    "           True, False, False, False, False, True, \n",
    "           True, True, True, True]\n",
    "\n",
    "capital_dict = dict(zip(list(all_cities), capital))"
   ]
  },
  {
   "cell_type": "code",
   "execution_count": null,
   "metadata": {},
   "outputs": [],
   "source": [
    "df['capital'] = df['city'].map(capital_dict)"
   ]
  },
  {
   "cell_type": "markdown",
   "metadata": {},
   "source": [
    "Encode the city Name"
   ]
  },
  {
   "cell_type": "code",
   "execution_count": null,
   "metadata": {},
   "outputs": [],
   "source": [
    "# Code here"
   ]
  },
  {
   "cell_type": "markdown",
   "metadata": {},
   "source": [
    "Add population"
   ]
  },
  {
   "cell_type": "code",
   "execution_count": null,
   "metadata": {},
   "outputs": [],
   "source": [
    "city_population = {\n",
    "    'London': 8787892,\n",
    "    'Paris': 2187526,\n",
    "    'Madrid': 3300000,\n",
    "    'Barcelona': 1593075,\n",
    "    'Berlin': 3726902,\n",
    "    'Milan': 1331586,\n",
    "    'Rome': 2860000,\n",
    "    'Prague': 1300000,\n",
    "    'Lisbon': 505526,\n",
    "    'Vienna': 1900000,\n",
    "    'Amsterdam': 872080,\n",
    "    'Brussels': 144784,\n",
    "    'Hamburg': 1840000,\n",
    "    'Munich': 1558395,\n",
    "    'Lyon': 506615,\n",
    "    'Stockholm': 975904,\n",
    "    'Budapest': 1752286,\n",
    "    'Warsaw': 1720398,\n",
    "    'Dublin': 1793579 ,\n",
    "    'Copenhagen': 1330993,\n",
    "    'Athens': 3090508,\n",
    "    'Edinburgh': 476100,\n",
    "    'Zurich': 402275,\n",
    "    'Porto': 237559,\n",
    "    'Geneva': 196150,\n",
    "    'Krakow': 779115,\n",
    "    'Oslo': 697549,\n",
    "    'Helsinki':  656229,\n",
    "    'Bratislava': 563682,\n",
    "    'Luxembourg': 626108,\n",
    "    'Ljubljana': 295504\n",
    "}"
   ]
  },
  {
   "cell_type": "code",
   "execution_count": null,
   "metadata": {},
   "outputs": [],
   "source": [
    "city_country = {\n",
    "    'London': 'United Kingdom',\n",
    "    'Paris': 'France',\n",
    "    'Madrid': 'Spain',\n",
    "    'Barcelona': 'Spain',\n",
    "    'Berlin': 'Germany',\n",
    "    'Milan': 'Italy',\n",
    "    'Rome': 'Italy',\n",
    "    'Prague': 'Czech',\n",
    "    'Lisbon': 'Portugalia',\n",
    "    'Vienna': 'Austria',\n",
    "    'Amsterdam': 'Netherlands',\n",
    "    'Brussels': 'Belgium',\n",
    "    'Hamburg': 'Germany',\n",
    "    'Munich': 'Germany',\n",
    "    'Lyon': 'France',\n",
    "    'Stockholm': 'Sweden',\n",
    "    'Budapest': 'Hungary',\n",
    "    'Warsaw': 'Poland',\n",
    "    'Dublin': 'Ireland' ,\n",
    "    'Copenhagen': 'Denmark',\n",
    "    'Athens': 'Greece',\n",
    "    'Edinburgh': 'Schotland',\n",
    "    'Zurich': 'Switzerland',\n",
    "    'Porto': 'Portugalia',\n",
    "    'Geneva': 'Switzerland',\n",
    "    'Krakow': 'Poland',\n",
    "    'Oslo': 'Norway',\n",
    "    'Helsinki': 'Finland',\n",
    "    'Bratislava': 'Slovakia',\n",
    "    'Luxembourg': 'Luxembourg',\n",
    "    'Ljubljana': 'Slovenija'\n",
    "}"
   ]
  },
  {
   "cell_type": "code",
   "execution_count": null,
   "metadata": {},
   "outputs": [],
   "source": [
    "df['city_population'] = df['city'].map(city_population)\n",
    "df['country'] = df['city'].map(city_country)"
   ]
  },
  {
   "cell_type": "markdown",
   "metadata": {},
   "source": [
    "!!! Add Rank of city if can !!!"
   ]
  },
  {
   "cell_type": "markdown",
   "metadata": {},
   "source": [
    "!!! Ad LEVEL OF LIFE !!!"
   ]
  },
  {
   "cell_type": "code",
   "execution_count": null,
   "metadata": {},
   "outputs": [],
   "source": []
  },
  {
   "cell_type": "markdown",
   "metadata": {},
   "source": [
    "### 3.2 Cuisine_style column"
   ]
  },
  {
   "cell_type": "markdown",
   "metadata": {},
   "source": [
    "Let's add new feature - quantity of quisins in a restaurant"
   ]
  },
  {
   "cell_type": "code",
   "execution_count": 23,
   "metadata": {},
   "outputs": [],
   "source": [
    "df['cuisine_count'] = df['cuisine_style'].apply(lambda x:len(x))"
   ]
  },
  {
   "cell_type": "markdown",
   "metadata": {},
   "source": [
    "Add one more feature which tells that restaurant has in its set rare cuisine"
   ]
  },
  {
   "cell_type": "code",
   "execution_count": 25,
   "metadata": {},
   "outputs": [],
   "source": [
    "cuisine_rare_lst = df.explode('cuisine_style')['cuisine_style'].value_counts()[\n",
    "    df.explode('cuisine_style')['cuisine_style'].value_counts() < 50].index.tolist()"
   ]
  },
  {
   "cell_type": "code",
   "execution_count": 27,
   "metadata": {},
   "outputs": [],
   "source": [
    "def get_cuisine_rare(row):\n",
    "    \n",
    "    '''Function called for creating a number of\n",
    "    rare cuisins\n",
    "    INPUT: A cell from dataset\n",
    "    OUTPUT: Number of rare cuisins'''\n",
    "    \n",
    "    number = 0\n",
    "    for i in cuisine_rare_lst:\n",
    "        if i in row:\n",
    "            number += 1\n",
    "    return number"
   ]
  },
  {
   "cell_type": "code",
   "execution_count": 28,
   "metadata": {},
   "outputs": [],
   "source": [
    "df['rare_cuisine'] = df['cuisine_style'].apply(get_cuisine_rare)"
   ]
  },
  {
   "cell_type": "markdown",
   "metadata": {},
   "source": [
    "Let's create one more feature. It is (probably) important to know, whether the cuisine belongs to the region where it is comes from?"
   ]
  },
  {
   "cell_type": "code",
   "execution_count": null,
   "metadata": {},
   "outputs": [],
   "source": []
  }
 ],
 "metadata": {
  "kernelspec": {
   "display_name": "Python 3",
   "language": "python",
   "name": "python3"
  },
  "language_info": {
   "codemirror_mode": {
    "name": "ipython",
    "version": 3
   },
   "file_extension": ".py",
   "mimetype": "text/x-python",
   "name": "python",
   "nbconvert_exporter": "python",
   "pygments_lexer": "ipython3",
   "version": "3.8.3"
  }
 },
 "nbformat": 4,
 "nbformat_minor": 4
}
