{
  "nbformat": 4,
  "nbformat_minor": 0,
  "metadata": {
    "kernelspec": {
      "display_name": "Python 3",
      "language": "python",
      "name": "python3"
    },
    "language_info": {
      "codemirror_mode": {
        "name": "ipython",
        "version": 3
      },
      "file_extension": ".py",
      "mimetype": "text/x-python",
      "name": "python",
      "nbconvert_exporter": "python",
      "pygments_lexer": "ipython3",
      "version": "3.8.3"
    },
    "colab": {
      "name": "Trip_advisor_Who_likes_to_eat.ipynb",
      "provenance": [],
      "collapsed_sections": []
    }
  },
  "cells": [
    {
      "cell_type": "markdown",
      "metadata": {
        "id": "_lZjmJDLgPfw"
      },
      "source": [
        "# Find Dishonest Restaurant\n",
        "<img src=\"https://www.netclipart.com/pp/m/349-3494556_forex-scams-by-dishonest-person-lying-cartoon.png\" width=\"600px\">"
      ]
    },
    {
      "cell_type": "markdown",
      "metadata": {
        "id": "N7w1uEcTgPf6"
      },
      "source": [
        "## Description\n",
        "\n",
        "Sometimes, some dishonest restaurants cheating TripAdvisor and their guests by winding up the rating higher than it should be.\n",
        "\n",
        "The main aim of the project is to try to predict the rating of the restaurant with given data.\n",
        "\n",
        "In case if the predictions of our model have significant differences from the actual result, then, most likely we found a dishonest restaurant. "
      ]
    },
    {
      "cell_type": "markdown",
      "metadata": {
        "id": "-hKo_pDegPf6"
      },
      "source": [
        "### Column Defination\n",
        "\n",
        "Restaurant_id — restaurant / restaurant chain identification number;\n",
        "\n",
        "City — In what city it is located;\n",
        "\n",
        "Cuisine Style — related to a restaurant cuisine;\n",
        "\n",
        "Ranking — the place that this restaurant occupies among all restaurants in its city;\n",
        "\n",
        "Rating — restaurant rating according to TripAdvisor (Target Variable);\n",
        "\n",
        "Price Range — restaurant price range;\n",
        "\n",
        "Number of Reviews — Number of Reviews ;\n",
        "\n",
        "Reviews — data about two reviews that are displayed on the restaurant's website;\n",
        "\n",
        "URL_TA — URL on TripAdvisor;\n",
        "\n",
        "ID_TA — Identificator of restaurant in TripAdvisor's DataBase.\n"
      ]
    },
    {
      "cell_type": "markdown",
      "metadata": {
        "id": "OOeC7IIagPf7"
      },
      "source": [
        "---\n",
        "### Import Libraries\n",
        "---"
      ]
    },
    {
      "cell_type": "code",
      "metadata": {
        "id": "w64WuxVRgPf7"
      },
      "source": [
        "import numpy as np\n",
        "import pandas as pd\n",
        "import seaborn as sns\n",
        "import matplotlib.pyplot as plt\n",
        "import warnings\n",
        "import re\n",
        "from datetime import timedelta\n",
        "from textblob import TextBlob # for sentiment analysis\n",
        "from wordcloud import WordCloud # for sentiment analysis\n",
        "\n",
        "warnings.filterwarnings('ignore')\n",
        "\n",
        "#from jupyterthemes import jtplot\n",
        "\n",
        "pd.set_option('display.max_rows', 50)  # Show more rows\n",
        "pd.set_option('display.max_columns', 50)  # Show more columns\n",
        "plt.style.use('ggplot')  # Nice plotting\n",
        "\n",
        "%matplotlib inline\n",
        "\n",
        "#jtplot.style(theme='monokai', context='notebook', ticks=True, grid=False)"
      ],
      "execution_count": 1,
      "outputs": []
    },
    {
      "cell_type": "code",
      "metadata": {
        "colab": {
          "base_uri": "https://localhost:8080/",
          "height": 89
        },
        "id": "C1L6-RcygPf9",
        "outputId": "0e77a01b-716b-4e23-ea2d-b4ab683708cf"
      },
      "source": [
        " #colors = ['#001c57', '#50248f', '#a6a6a6', '#38d1ff']\n",
        "colors = ['#50248f','#38d1ff']\n",
        "sns.palplot(sns.color_palette(colors))"
      ],
      "execution_count": 2,
      "outputs": [
        {
          "output_type": "display_data",
          "data": {
            "image/png": "[encoded data removed]",
            "text/plain": [
              "<Figure size 144x72 with 1 Axes>"
            ]
          },
          "metadata": {
            "tags": [],
            "needs_background": "light"
          }
        }
      ]
    },
    {
      "cell_type": "markdown",
      "metadata": {
        "id": "m0llH3NBgPf-"
      },
      "source": [
        "### 1.  Read and Chek the Dataset"
      ]
    },
    {
      "cell_type": "code",
      "metadata": {
        "scrolled": true,
        "colab": {
          "base_uri": "https://localhost:8080/"
        },
        "id": "jTSEgJp7gPf_",
        "outputId": "6c0a8770-a1f9-4a8a-ef80-7128336de054"
      },
      "source": [
        "df = pd.read_csv('main_task.csv')\n",
        "print(f'Dataset shape: {df.shape}')"
      ],
      "execution_count": 3,
      "outputs": [
        {
          "output_type": "stream",
          "text": [
            "Dataset shape: (40000, 10)\n"
          ],
          "name": "stdout"
        }
      ]
    },
    {
      "cell_type": "markdown",
      "metadata": {
        "id": "j2aRTDR9gPf_"
      },
      "source": [
        "### 1.1 Show basic info"
      ]
    },
    {
      "cell_type": "code",
      "metadata": {
        "scrolled": true,
        "colab": {
          "base_uri": "https://localhost:8080/",
          "height": 595
        },
        "id": "4KAklvTAgPf_",
        "outputId": "a8577476-4ff6-4774-e495-7f6a3a6ca3ba"
      },
      "source": [
        "display(df.head())\n",
        "df.info()"
      ],
      "execution_count": 4,
      "outputs": [
        {
          "output_type": "display_data",
          "data": {
            "text/html": [
              "<div>\n",
              "<style scoped>\n",
              "    .dataframe tbody tr th:only-of-type {\n",
              "        vertical-align: middle;\n",
              "    }\n",
              "\n",
              "    .dataframe tbody tr th {\n",
              "        vertical-align: top;\n",
              "    }\n",
              "\n",
              "    .dataframe thead th {\n",
              "        text-align: right;\n",
              "    }\n",
              "</style>\n",
              "<table border=\"1\" class=\"dataframe\">\n",
              "  <thead>\n",
              "    <tr style=\"text-align: right;\">\n",
              "      <th></th>\n",
              "      <th>Restaurant_id</th>\n",
              "      <th>City</th>\n",
              "      <th>Cuisine Style</th>\n",
              "      <th>Ranking</th>\n",
              "      <th>Rating</th>\n",
              "      <th>Price Range</th>\n",
              "      <th>Number of Reviews</th>\n",
              "      <th>Reviews</th>\n",
              "      <th>URL_TA</th>\n",
              "      <th>ID_TA</th>\n",
              "    </tr>\n",
              "  </thead>\n",
              "  <tbody>\n",
              "    <tr>\n",
              "      <th>0</th>\n",
              "      <td>id_5569</td>\n",
              "      <td>Paris</td>\n",
              "      <td>['European', 'French', 'International']</td>\n",
              "      <td>5570.0</td>\n",
              "      <td>3.5</td>\n",
              "      <td>$$ - $$$</td>\n",
              "      <td>194.0</td>\n",
              "      <td>[['Good food at your doorstep', 'A good hotel ...</td>\n",
              "      <td>/Restaurant_Review-g187147-d1912643-Reviews-R_...</td>\n",
              "      <td>d1912643</td>\n",
              "    </tr>\n",
              "    <tr>\n",
              "      <th>1</th>\n",
              "      <td>id_1535</td>\n",
              "      <td>Stockholm</td>\n",
              "      <td>NaN</td>\n",
              "      <td>1537.0</td>\n",
              "      <td>4.0</td>\n",
              "      <td>NaN</td>\n",
              "      <td>10.0</td>\n",
              "      <td>[['Unique cuisine', 'Delicious Nepalese food']...</td>\n",
              "      <td>/Restaurant_Review-g189852-d7992032-Reviews-Bu...</td>\n",
              "      <td>d7992032</td>\n",
              "    </tr>\n",
              "    <tr>\n",
              "      <th>2</th>\n",
              "      <td>id_352</td>\n",
              "      <td>London</td>\n",
              "      <td>['Japanese', 'Sushi', 'Asian', 'Grill', 'Veget...</td>\n",
              "      <td>353.0</td>\n",
              "      <td>4.5</td>\n",
              "      <td>$$$$</td>\n",
              "      <td>688.0</td>\n",
              "      <td>[['Catch up with friends', 'Not exceptional'],...</td>\n",
              "      <td>/Restaurant_Review-g186338-d8632781-Reviews-RO...</td>\n",
              "      <td>d8632781</td>\n",
              "    </tr>\n",
              "    <tr>\n",
              "      <th>3</th>\n",
              "      <td>id_3456</td>\n",
              "      <td>Berlin</td>\n",
              "      <td>NaN</td>\n",
              "      <td>3458.0</td>\n",
              "      <td>5.0</td>\n",
              "      <td>NaN</td>\n",
              "      <td>3.0</td>\n",
              "      <td>[[], []]</td>\n",
              "      <td>/Restaurant_Review-g187323-d1358776-Reviews-Es...</td>\n",
              "      <td>d1358776</td>\n",
              "    </tr>\n",
              "    <tr>\n",
              "      <th>4</th>\n",
              "      <td>id_615</td>\n",
              "      <td>Munich</td>\n",
              "      <td>['German', 'Central European', 'Vegetarian Fri...</td>\n",
              "      <td>621.0</td>\n",
              "      <td>4.0</td>\n",
              "      <td>$$ - $$$</td>\n",
              "      <td>84.0</td>\n",
              "      <td>[['Best place to try a Bavarian food', 'Nice b...</td>\n",
              "      <td>/Restaurant_Review-g187309-d6864963-Reviews-Au...</td>\n",
              "      <td>d6864963</td>\n",
              "    </tr>\n",
              "  </tbody>\n",
              "</table>\n",
              "</div>"
            ],
            "text/plain": [
              "  Restaurant_id       City                                      Cuisine Style  \\\n",
              "0       id_5569      Paris            ['European', 'French', 'International']   \n",
              "1       id_1535  Stockholm                                                NaN   \n",
              "2        id_352     London  ['Japanese', 'Sushi', 'Asian', 'Grill', 'Veget...   \n",
              "3       id_3456     Berlin                                                NaN   \n",
              "4        id_615     Munich  ['German', 'Central European', 'Vegetarian Fri...   \n",
              "\n",
              "   Ranking  Rating Price Range  Number of Reviews  \\\n",
              "0   5570.0     3.5    $$ - $$$              194.0   \n",
              "1   1537.0     4.0         NaN               10.0   \n",
              "2    353.0     4.5        $$$$              688.0   \n",
              "3   3458.0     5.0         NaN                3.0   \n",
              "4    621.0     4.0    $$ - $$$               84.0   \n",
              "\n",
              "                                             Reviews  \\\n",
              "0  [['Good food at your doorstep', 'A good hotel ...   \n",
              "1  [['Unique cuisine', 'Delicious Nepalese food']...   \n",
              "2  [['Catch up with friends', 'Not exceptional'],...   \n",
              "3                                           [[], []]   \n",
              "4  [['Best place to try a Bavarian food', 'Nice b...   \n",
              "\n",
              "                                              URL_TA     ID_TA  \n",
              "0  /Restaurant_Review-g187147-d1912643-Reviews-R_...  d1912643  \n",
              "1  /Restaurant_Review-g189852-d7992032-Reviews-Bu...  d7992032  \n",
              "2  /Restaurant_Review-g186338-d8632781-Reviews-RO...  d8632781  \n",
              "3  /Restaurant_Review-g187323-d1358776-Reviews-Es...  d1358776  \n",
              "4  /Restaurant_Review-g187309-d6864963-Reviews-Au...  d6864963  "
            ]
          },
          "metadata": {
            "tags": []
          }
        },
        {
          "output_type": "stream",
          "text": [
            "<class 'pandas.core.frame.DataFrame'>\n",
            "RangeIndex: 40000 entries, 0 to 39999\n",
            "Data columns (total 10 columns):\n",
            " #   Column             Non-Null Count  Dtype  \n",
            "---  ------             --------------  -----  \n",
            " 0   Restaurant_id      40000 non-null  object \n",
            " 1   City               40000 non-null  object \n",
            " 2   Cuisine Style      30717 non-null  object \n",
            " 3   Ranking            40000 non-null  float64\n",
            " 4   Rating             40000 non-null  float64\n",
            " 5   Price Range        26114 non-null  object \n",
            " 6   Number of Reviews  37457 non-null  float64\n",
            " 7   Reviews            40000 non-null  object \n",
            " 8   URL_TA             40000 non-null  object \n",
            " 9   ID_TA              40000 non-null  object \n",
            "dtypes: float64(3), object(7)\n",
            "memory usage: 3.1+ MB\n"
          ],
          "name": "stdout"
        }
      ]
    },
    {
      "cell_type": "markdown",
      "metadata": {
        "id": "0vE_Hr9ngPgA"
      },
      "source": [
        "### 1.2 Show the data types"
      ]
    },
    {
      "cell_type": "code",
      "metadata": {
        "colab": {
          "base_uri": "https://localhost:8080/",
          "height": 111
        },
        "id": "wLhLhPXHgPgA",
        "outputId": "59b8a637-dbc5-4e23-8007-59999ecfe316"
      },
      "source": [
        "dtype_df = df.dtypes.reset_index()\n",
        "dtype_df.columns = ['Count', 'Column Type']\n",
        "dtype_df.groupby('Column Type').agg('count').reset_index()"
      ],
      "execution_count": 5,
      "outputs": [
        {
          "output_type": "execute_result",
          "data": {
            "text/html": [
              "<div>\n",
              "<style scoped>\n",
              "    .dataframe tbody tr th:only-of-type {\n",
              "        vertical-align: middle;\n",
              "    }\n",
              "\n",
              "    .dataframe tbody tr th {\n",
              "        vertical-align: top;\n",
              "    }\n",
              "\n",
              "    .dataframe thead th {\n",
              "        text-align: right;\n",
              "    }\n",
              "</style>\n",
              "<table border=\"1\" class=\"dataframe\">\n",
              "  <thead>\n",
              "    <tr style=\"text-align: right;\">\n",
              "      <th></th>\n",
              "      <th>Column Type</th>\n",
              "      <th>Count</th>\n",
              "    </tr>\n",
              "  </thead>\n",
              "  <tbody>\n",
              "    <tr>\n",
              "      <th>0</th>\n",
              "      <td>float64</td>\n",
              "      <td>3</td>\n",
              "    </tr>\n",
              "    <tr>\n",
              "      <th>1</th>\n",
              "      <td>object</td>\n",
              "      <td>7</td>\n",
              "    </tr>\n",
              "  </tbody>\n",
              "</table>\n",
              "</div>"
            ],
            "text/plain": [
              "  Column Type  Count\n",
              "0     float64      3\n",
              "1      object      7"
            ]
          },
          "metadata": {
            "tags": []
          },
          "execution_count": 5
        }
      ]
    },
    {
      "cell_type": "markdown",
      "metadata": {
        "id": "B37DPQsEgPgA"
      },
      "source": [
        "Let's see what type of data in each column-cell"
      ]
    },
    {
      "cell_type": "code",
      "metadata": {
        "colab": {
          "base_uri": "https://localhost:8080/"
        },
        "id": "JiUZ8pBBgPgA",
        "outputId": "d82a9866-9f48-4c2c-d65e-e6da0d4761ed"
      },
      "source": [
        "for i,j in enumerate(df.columns):\n",
        "    print(j,type(df.loc[1][i]))"
      ],
      "execution_count": 6,
      "outputs": [
        {
          "output_type": "stream",
          "text": [
            "Restaurant_id <class 'str'>\n",
            "City <class 'str'>\n",
            "Cuisine Style <class 'float'>\n",
            "Ranking <class 'numpy.float64'>\n",
            "Rating <class 'numpy.float64'>\n",
            "Price Range <class 'float'>\n",
            "Number of Reviews <class 'numpy.float64'>\n",
            "Reviews <class 'str'>\n",
            "URL_TA <class 'str'>\n",
            "ID_TA <class 'str'>\n"
          ],
          "name": "stdout"
        }
      ]
    },
    {
      "cell_type": "markdown",
      "metadata": {
        "id": "_-lj-48BgPgB"
      },
      "source": [
        "Well, it is more interesting. Let's briefly see at the content of object data."
      ]
    },
    {
      "cell_type": "code",
      "metadata": {
        "colab": {
          "base_uri": "https://localhost:8080/"
        },
        "id": "hW_qI4l9gPgB",
        "outputId": "4547aca3-9229-46dc-b4a6-6d4477592dab"
      },
      "source": [
        "obj = df.dtypes[df.dtypes == 'object'].index\n",
        "print(obj)"
      ],
      "execution_count": 7,
      "outputs": [
        {
          "output_type": "stream",
          "text": [
            "Index(['Restaurant_id', 'City', 'Cuisine Style', 'Price Range', 'Reviews',\n",
            "       'URL_TA', 'ID_TA'],\n",
            "      dtype='object')\n"
          ],
          "name": "stdout"
        }
      ]
    },
    {
      "cell_type": "code",
      "metadata": {
        "colab": {
          "base_uri": "https://localhost:8080/"
        },
        "id": "Szp3C1ajgPgB",
        "outputId": "62095637-da1b-4156-aca8-d51d7f796143"
      },
      "source": [
        "for i in obj:\n",
        "    print(f'Col Name: {i}, Content: {df[i].unique()}\\n')"
      ],
      "execution_count": 8,
      "outputs": [
        {
          "output_type": "stream",
          "text": [
            "Col Name: Restaurant_id, Content: ['id_5569' 'id_1535' 'id_352' ... 'id_7068' 'id_8887' 'id_6057']\n",
            "\n",
            "Col Name: City, Content: ['Paris' 'Stockholm' 'London' 'Berlin' 'Munich' 'Oporto' 'Milan'\n",
            " 'Bratislava' 'Vienna' 'Rome' 'Barcelona' 'Madrid' 'Dublin' 'Brussels'\n",
            " 'Zurich' 'Warsaw' 'Budapest' 'Copenhagen' 'Amsterdam' 'Lyon' 'Hamburg'\n",
            " 'Lisbon' 'Prague' 'Oslo' 'Helsinki' 'Edinburgh' 'Geneva' 'Ljubljana'\n",
            " 'Athens' 'Luxembourg' 'Krakow']\n",
            "\n",
            "Col Name: Cuisine Style, Content: [\"['European', 'French', 'International']\" nan\n",
            " \"['Japanese', 'Sushi', 'Asian', 'Grill', 'Vegetarian Friendly', 'Vegan Options', 'Gluten Free Options']\"\n",
            " ...\n",
            " \"['Steakhouse', 'Barbecue', 'Australian', 'Argentinean', 'South American']\"\n",
            " \"['French', 'American', 'Cafe', 'Healthy', 'Soups']\"\n",
            " \"['French', 'Contemporary', 'Fusion', 'Gastropub']\"]\n",
            "\n",
            "Col Name: Price Range, Content: ['$$ - $$$' nan '$$$$' '$']\n",
            "\n",
            "Col Name: Reviews, Content: [\"[['Good food at your doorstep', 'A good hotel restaurant'], ['12/31/2017', '11/20/2017']]\"\n",
            " \"[['Unique cuisine', 'Delicious Nepalese food'], ['07/06/2017', '06/19/2016']]\"\n",
            " \"[['Catch up with friends', 'Not exceptional'], ['01/08/2018', '01/06/2018']]\"\n",
            " ...\n",
            " \"[['Good by swedish standards', 'A hidden jewel in the middle of Västertorp...'], ['11/03/2016', '04/12/2008']]\"\n",
            " \"[['Underground restaurant', 'Oldest Restaurant in Warsaw'], ['07/11/2017', '06/18/2017']]\"\n",
            " \"[['Average', 'Nice an informal'], ['01/31/2016', '07/04/2012']]\"]\n",
            "\n",
            "Col Name: URL_TA, Content: ['/Restaurant_Review-g187147-d1912643-Reviews-R_Yves-Paris_Ile_de_France.html'\n",
            " '/Restaurant_Review-g189852-d7992032-Reviews-Buddha_Nepal-Stockholm.html'\n",
            " '/Restaurant_Review-g186338-d8632781-Reviews-ROKA_Mayfair-London_England.html'\n",
            " ...\n",
            " '/Restaurant_Review-g189852-d947615-Reviews-Sushi_Bar_Anu-Stockholm.html'\n",
            " '/Restaurant_Review-g274856-d1100838-Reviews-Honoratka_dawna_Oberza_na_Miodowej-Warsaw_Mazovia_Province_Central_Poland.html'\n",
            " '/Restaurant_Review-g187849-d1109020-Reviews-Taberna_Vasca-Milan_Lombardy.html']\n",
            "\n",
            "Col Name: ID_TA, Content: ['d1912643' 'd7992032' 'd8632781' ... 'd947615' 'd1100838' 'd1109020']\n",
            "\n"
          ],
          "name": "stdout"
        }
      ]
    },
    {
      "cell_type": "markdown",
      "metadata": {
        "id": "raMEideGgPgC"
      },
      "source": [
        "Well, that is clearly obvious,that some data in columns pretend to be as a list, however it is string or float type.\n",
        "\n",
        "Such as:\n",
        " - column Cuisine Style is looks like a list, but has float64 type;\n",
        " - column Reviews looks like nested list with following template [[ comment_1 , comment_2 ], [date1 , date2]], but in fact it has str type of data."
      ]
    },
    {
      "cell_type": "markdown",
      "metadata": {
        "id": "8V4nw58ogPgC"
      },
      "source": [
        "Rename columns removing spaces and substituting capital letters"
      ]
    },
    {
      "cell_type": "code",
      "metadata": {
        "id": "lCMKwu-zgPgC",
        "colab": {
          "base_uri": "https://localhost:8080/",
          "height": 97
        },
        "outputId": "66085232-5373-459b-ff8c-726528f01c8f"
      },
      "source": [
        "df.rename(columns={'Restaurant_id': 'restaurant_id',\n",
        "                   'City' : 'city',\n",
        "                   'Cuisine Style': 'cuisine_style',\n",
        "                   'Ranking': 'ranking',\n",
        "                   'Rating': 'rating',\n",
        "                   'Price Range' :'price_range',\n",
        "                   'Number of Reviews': 'reviews_number',\n",
        "                   'Reviews': 'reviews',\n",
        "                   'URL_TA': 'url_ta',\n",
        "                   'ID_TA' : 'id_ta'},inplace=True)\n",
        "# show the data\n",
        "df.head(1)"
      ],
      "execution_count": 9,
      "outputs": [
        {
          "output_type": "execute_result",
          "data": {
            "text/html": [
              "<div>\n",
              "<style scoped>\n",
              "    .dataframe tbody tr th:only-of-type {\n",
              "        vertical-align: middle;\n",
              "    }\n",
              "\n",
              "    .dataframe tbody tr th {\n",
              "        vertical-align: top;\n",
              "    }\n",
              "\n",
              "    .dataframe thead th {\n",
              "        text-align: right;\n",
              "    }\n",
              "</style>\n",
              "<table border=\"1\" class=\"dataframe\">\n",
              "  <thead>\n",
              "    <tr style=\"text-align: right;\">\n",
              "      <th></th>\n",
              "      <th>restaurant_id</th>\n",
              "      <th>city</th>\n",
              "      <th>cuisine_style</th>\n",
              "      <th>ranking</th>\n",
              "      <th>rating</th>\n",
              "      <th>price_range</th>\n",
              "      <th>reviews_number</th>\n",
              "      <th>reviews</th>\n",
              "      <th>url_ta</th>\n",
              "      <th>id_ta</th>\n",
              "    </tr>\n",
              "  </thead>\n",
              "  <tbody>\n",
              "    <tr>\n",
              "      <th>0</th>\n",
              "      <td>id_5569</td>\n",
              "      <td>Paris</td>\n",
              "      <td>['European', 'French', 'International']</td>\n",
              "      <td>5570.0</td>\n",
              "      <td>3.5</td>\n",
              "      <td>$$ - $$$</td>\n",
              "      <td>194.0</td>\n",
              "      <td>[['Good food at your doorstep', 'A good hotel ...</td>\n",
              "      <td>/Restaurant_Review-g187147-d1912643-Reviews-R_...</td>\n",
              "      <td>d1912643</td>\n",
              "    </tr>\n",
              "  </tbody>\n",
              "</table>\n",
              "</div>"
            ],
            "text/plain": [
              "  restaurant_id   city                            cuisine_style  ranking  \\\n",
              "0       id_5569  Paris  ['European', 'French', 'International']   5570.0   \n",
              "\n",
              "   rating price_range  reviews_number  \\\n",
              "0     3.5    $$ - $$$           194.0   \n",
              "\n",
              "                                             reviews  \\\n",
              "0  [['Good food at your doorstep', 'A good hotel ...   \n",
              "\n",
              "                                              url_ta     id_ta  \n",
              "0  /Restaurant_Review-g187147-d1912643-Reviews-R_...  d1912643  "
            ]
          },
          "metadata": {
            "tags": []
          },
          "execution_count": 9
        }
      ]
    },
    {
      "cell_type": "markdown",
      "metadata": {
        "id": "jOWS7OTegPgC"
      },
      "source": [
        "### 1.3 Missing values"
      ]
    },
    {
      "cell_type": "code",
      "metadata": {
        "scrolled": true,
        "colab": {
          "base_uri": "https://localhost:8080/",
          "height": 838
        },
        "id": "TB0vtl07gPgD",
        "outputId": "5b333bc3-bfc0-4811-da58-340ba6e0ec4f"
      },
      "source": [
        "# Plot missing values\n",
        "cols = df.columns\n",
        "fig, ax = plt.subplots(figsize=(10, 10))\n",
        "sns.heatmap(df[cols].isnull(),cmap=sns.color_palette(colors))\n",
        "\n",
        "# Show in percents\n",
        "\n",
        "for col in df.columns:\n",
        "    pct_missing = np.mean(df[col].isnull())\n",
        "    print(f'{col} - {round(pct_missing*100)}%')"
      ],
      "execution_count": 10,
      "outputs": [
        {
          "output_type": "stream",
          "text": [
            "restaurant_id - 0%\n",
            "city - 0%\n",
            "cuisine_style - 23%\n",
            "ranking - 0%\n",
            "rating - 0%\n",
            "price_range - 35%\n",
            "reviews_number - 6%\n",
            "reviews - 0%\n",
            "url_ta - 0%\n",
            "id_ta - 0%\n"
          ],
          "name": "stdout"
        },
        {
          "output_type": "display_data",
          "data": {
            "image/png": "[encoded data removed]",
            "text/plain": [
              "<Figure size 720x720 with 2 Axes>"
            ]
          },
          "metadata": {
            "tags": [],
            "needs_background": "light"
          }
        }
      ]
    },
    {
      "cell_type": "markdown",
      "metadata": {
        "id": "3vs619a5gPgD"
      },
      "source": [
        "---\n",
        "## Resume\n",
        "---\n",
        "\n",
        " - DataSet has 40k rows and 10 columns.\n",
        " - Column 'cuisine_style' has 23% of missing values\n",
        " - Column 'price_range' has 35% of missing values\n",
        " - Column 'reviews_number' has 6% of missing values while column 'reviews' has no any single missing value. Here is a discrepancy. If we visually check the content of the column 'reviews', we find the following value :'[[],[]]'. Definatelly it is a missing value which need to be treated in further data-preprocessing.\n",
        " - Type in particular cell sometimes differ with pd.dtypes. Need to take care about that in further.\n"
      ]
    },
    {
      "cell_type": "markdown",
      "metadata": {
        "id": "GAktq2EygPgD"
      },
      "source": [
        "## 2. Exploratory Data Analysis"
      ]
    },
    {
      "cell_type": "markdown",
      "metadata": {
        "id": "uxf9-HJWgPgD"
      },
      "source": [
        "### 2.1 Target Variable analysis"
      ]
    },
    {
      "cell_type": "code",
      "metadata": {
        "colab": {
          "base_uri": "https://localhost:8080/",
          "height": 389
        },
        "id": "TrHLnTRhgPgE",
        "outputId": "69bce60f-cf38-47ca-b5b7-6a33cfefdc63"
      },
      "source": [
        "plt.figure(figsize=(15 ,5))\n",
        "plt.subplot(121)\n",
        "sns.distplot(df.rating.values, bins=10,color=colors[0])\n",
        "plt.title('Rating Distribution\\n', fontsize=15)\n",
        "plt.xlabel ('Rating')\n",
        "plt.ylabel ('Quantity (frequency)')\n",
        "\n",
        "plt.subplot(122)\n",
        "sns.boxplot(df.rating.values, color=colors[1])\n",
        "plt.title('Rating Distribution\\n', fontsize=15)\n",
        "plt.xlabel('Rating')"
      ],
      "execution_count": 11,
      "outputs": [
        {
          "output_type": "execute_result",
          "data": {
            "text/plain": [
              "Text(0.5, 0, 'Rating')"
            ]
          },
          "metadata": {
            "tags": []
          },
          "execution_count": 11
        },
        {
          "output_type": "display_data",
          "data": {
            "image/png": "[encoded data removed]",
            "text/plain": [
              "<Figure size 1080x360 with 2 Axes>"
            ]
          },
          "metadata": {
            "tags": [],
            "needs_background": "light"
          }
        }
      ]
    },
    {
      "cell_type": "code",
      "metadata": {
        "colab": {
          "base_uri": "https://localhost:8080/"
        },
        "id": "wjhAGLzpgPgE",
        "outputId": "23f032c8-4158-45f9-db7a-fc5162c5193b"
      },
      "source": [
        "df['rating'].describe()"
      ],
      "execution_count": 12,
      "outputs": [
        {
          "output_type": "execute_result",
          "data": {
            "text/plain": [
              "count    40000.000000\n",
              "mean         3.993037\n",
              "std          0.668417\n",
              "min          1.000000\n",
              "25%          3.500000\n",
              "50%          4.000000\n",
              "75%          4.500000\n",
              "max          5.000000\n",
              "Name: rating, dtype: float64"
            ]
          },
          "metadata": {
            "tags": []
          },
          "execution_count": 12
        }
      ]
    },
    {
      "cell_type": "markdown",
      "metadata": {
        "id": "eFhG_djvgPgE"
      },
      "source": [
        "The Target variable has a normal distribution shifted to the right side of 1 to 5. The first and third quartiles are in the range from  3.5 to 4.5, the median is 4. Also outliers has been observed for target variable."
      ]
    },
    {
      "cell_type": "markdown",
      "metadata": {
        "id": "sVeCm-5JgPgE"
      },
      "source": [
        "### 2.2 Restaurant_Id column"
      ]
    },
    {
      "cell_type": "code",
      "metadata": {
        "colab": {
          "base_uri": "https://localhost:8080/"
        },
        "id": "NdLlm2epgPgF",
        "outputId": "8bf20546-471a-4f85-b230-298b3646faa1"
      },
      "source": [
        "print(f'Unique Id quantity: {df.restaurant_id.nunique()}')\n",
        "df['restaurant_id'].value_counts()"
      ],
      "execution_count": 13,
      "outputs": [
        {
          "output_type": "stream",
          "text": [
            "Unique Id quantity: 11909\n"
          ],
          "name": "stdout"
        },
        {
          "output_type": "execute_result",
          "data": {
            "text/plain": [
              "id_436      18\n",
              "id_227      18\n",
              "id_871      18\n",
              "id_633      18\n",
              "id_71       17\n",
              "            ..\n",
              "id_5080      1\n",
              "id_10427     1\n",
              "id_10344     1\n",
              "id_13155     1\n",
              "id_9815      1\n",
              "Name: restaurant_id, Length: 11909, dtype: int64"
            ]
          },
          "metadata": {
            "tags": []
          },
          "execution_count": 13
        }
      ]
    },
    {
      "cell_type": "markdown",
      "metadata": {
        "id": "-ghaCEM-gPgF"
      },
      "source": [
        "---\n",
        "\n",
        "Well, the total quantity of rows is 40k while number of unique id is 11k.\n",
        "\n",
        "We may see some dublicates here. But:\n",
        "\n",
        "With a reference to a column description it may says us that we have some chain restaurants in dataset.\n",
        "\n",
        "---"
      ]
    },
    {
      "cell_type": "markdown",
      "metadata": {
        "id": "WdMmXH_pgPgF"
      },
      "source": [
        "### 2.3 City column"
      ]
    },
    {
      "cell_type": "markdown",
      "metadata": {
        "id": "U7TG5xGBgPgF"
      },
      "source": [
        "How are cities distrubuted?"
      ]
    },
    {
      "cell_type": "code",
      "metadata": {
        "scrolled": false,
        "id": "tBbYCjS9gPgF",
        "colab": {
          "base_uri": "https://localhost:8080/",
          "height": 584
        },
        "outputId": "afe9c83c-840a-4a0a-de07-c06ddf59ab6d"
      },
      "source": [
        "plt.figure(figsize=(15 ,5),dpi = 100)\n",
        "sns.countplot(df['city'], order=df['city'].value_counts().index)\n",
        "plt.xticks(rotation=45)\n",
        "plt.title('Cities Distribution\\n', fontsize=15)\n",
        "plt.xlabel ('City Name')\n",
        "plt.ylabel ('Quantity (frequency)')\n",
        "\n",
        "print(f'Total Number of Cities in DataSet: {df.city.nunique()}')"
      ],
      "execution_count": 14,
      "outputs": [
        {
          "output_type": "stream",
          "text": [
            "Total Number of Cities in DataSet: 31\n"
          ],
          "name": "stdout"
        },
        {
          "output_type": "display_data",
          "data": {
            "image/png": "[encoded data removed]",
            "text/plain": [
              "<Figure size 1500x500 with 1 Axes>"
            ]
          },
          "metadata": {
            "tags": [],
            "needs_background": "light"
          }
        }
      ]
    },
    {
      "cell_type": "markdown",
      "metadata": {
        "id": "rprEXiv-gPgG"
      },
      "source": [
        "---\n",
        "\n",
        "The overwhelming majority of restaurants presented in the dataset located in London, Paris, Madrid. \n",
        "\n",
        "All cities are European.\n",
        "\n",
        "The city of Oporto is not identified. It is actually the name of the restaurant in Porto(Portugal)\n",
        "\n",
        "Most likely it shall be Porto instead of Oporto.\n",
        "\n",
        "---"
      ]
    },
    {
      "cell_type": "markdown",
      "metadata": {
        "id": "PObNaFkbgPgG"
      },
      "source": [
        "### 2.4 Cuisine_style column"
      ]
    },
    {
      "cell_type": "markdown",
      "metadata": {
        "id": "uFyjkAGWgPgH"
      },
      "source": [
        "First of all, we have to manage the list of cuisines in a way that we can use the data and produce some statistics."
      ]
    },
    {
      "cell_type": "code",
      "metadata": {
        "colab": {
          "base_uri": "https://localhost:8080/"
        },
        "id": "hN2ull82gPgH",
        "outputId": "83a56de8-a169-4259-dd8e-cb5e799c7ba2"
      },
      "source": [
        "# Before we start, we need to save an information in dataset, where there were a missing values\n",
        "\n",
        "# Create a column where indicate that Cuisine is not presented for this restaurant\n",
        "df['cuisine_ctyle_empty'] = df['cuisine_style'].isnull().astype('uint8')\n",
        "\n",
        "# Fill missed values in column with 'unknown'\n",
        "df['cuisine_style'] = df['cuisine_style'].fillna(\"['unknown']\")\n",
        "\n",
        "# convert string in the column into a list\n",
        "df['cuisine_style'] = df['cuisine_style'].apply(lambda x: eval(x))\n",
        "\n",
        "# Create separate dataframe for analyse\n",
        "\n",
        "df1 = df[['city','cuisine_style','ranking','rating','reviews_number']].explode('cuisine_style')\n",
        "\n",
        "print(df1['cuisine_style'].nunique()-1) # -1 cos we already filled missed value. Dont count it"
      ],
      "execution_count": 15,
      "outputs": [
        {
          "output_type": "stream",
          "text": [
            "125\n"
          ],
          "name": "stdout"
        }
      ]
    },
    {
      "cell_type": "markdown",
      "metadata": {
        "id": "3NH5P7DhgPgI"
      },
      "source": [
        "Check  a top 10 of the most common cuisine styles"
      ]
    },
    {
      "cell_type": "code",
      "metadata": {
        "id": "-Nur_JO6gPgI",
        "colab": {
          "base_uri": "https://localhost:8080/",
          "height": 400
        },
        "outputId": "c67ef566-0df9-4822-fef9-cb8a008714d3"
      },
      "source": [
        "df_cuisine_style = df1.cuisine_style.value_counts().sort_values(ascending = False)[:10]\n",
        "\n",
        "count_ths = np.arange(0, 1.3e4, 5e3)\n",
        "count = np.arange(0, 20, 5)\n",
        "\n",
        "\n",
        "fig = plt.figure(figsize=(15, 5))\n",
        "ax = plt.subplot();\n",
        "\n",
        "\n",
        "plt.bar(x = df_cuisine_style.index, height=df_cuisine_style, color=colors[0]);\n",
        "\n",
        "plt.yticks(count_ths, count);\n",
        "plt.xticks(rotation=45)\n",
        "plt.ylabel('Total Places (Thousands)');\n",
        "ax.spines['right'].set_visible(False);\n",
        "ax.spines['top'].set_visible(False);\n",
        "ax.spines['left'].set_visible(False);\n",
        "plt.title('Top 10 most common cuisines');\n",
        "ax.tick_params(direction='out', length=0, width=0, colors='white');"
      ],
      "execution_count": 16,
      "outputs": [
        {
          "output_type": "display_data",
          "data": {
            "image/png": "[encoded data removed]",
            "text/plain": [
              "<Figure size 1080x360 with 1 Axes>"
            ]
          },
          "metadata": {
            "tags": [],
            "needs_background": "dark"
          }
        }
      ]
    },
    {
      "cell_type": "markdown",
      "metadata": {
        "id": "nTrCem1mgPgI"
      },
      "source": [
        "--- \n",
        "The dataset has 125 unique cuisines.\n",
        "\n",
        "Vegetarian Friendly places are clearly the most common ones around Europe, followed by mostly European-style cuisine.\n",
        "\n",
        "---"
      ]
    },
    {
      "cell_type": "markdown",
      "metadata": {
        "id": "wAu0hNkLgPgI"
      },
      "source": [
        "Which are the cuisines that people tend to review?"
      ]
    },
    {
      "cell_type": "code",
      "metadata": {
        "id": "1FlmIT_GgPgI"
      },
      "source": [
        "df_cuisine_style = df1.groupby('cuisine_style').reviews_number.sum().sort_values(ascending=False)[:10]"
      ],
      "execution_count": 17,
      "outputs": []
    },
    {
      "cell_type": "code",
      "metadata": {
        "id": "Oem4Ka6tgPgJ",
        "colab": {
          "base_uri": "https://localhost:8080/",
          "height": 400
        },
        "outputId": "5873ce04-b8e6-400d-f9c1-52c21976648c"
      },
      "source": [
        "count_ths = np.arange(0, 3.3e6, 5e5)\n",
        "count = np.arange(0, 9.3, 0.5)\n",
        "\n",
        "fig = plt.figure(figsize=(15, 5))\n",
        "ax = plt.subplot();\n",
        "\n",
        "plt.bar(x = df_cuisine_style.index, height=df_cuisine_style, color=colors[1]);\n",
        "\n",
        "plt.yticks(count_ths, count);\n",
        "plt.xticks(rotation=45)\n",
        "plt.ylabel('Total Reviews (Million)');\n",
        "ax.spines['right'].set_visible(False);\n",
        "ax.spines['top'].set_visible(False);\n",
        "ax.spines['left'].set_visible(False);\n",
        "plt.title('Top 10 most reviewed cuisines');\n",
        "ax.tick_params(direction='out', length=0, width=0, colors='grey');"
      ],
      "execution_count": 18,
      "outputs": [
        {
          "output_type": "display_data",
          "data": {
            "image/png": "[encoded data removed]",
            "text/plain": [
              "<Figure size 1080x360 with 1 Axes>"
            ]
          },
          "metadata": {
            "tags": [],
            "needs_background": "dark"
          }
        }
      ]
    },
    {
      "cell_type": "markdown",
      "metadata": {
        "id": "ubeIx9XZgPgJ"
      },
      "source": [
        "---\n",
        "\n",
        "The chart is more or less simillar with above one.But it's notable that the Vegan and Gluten Free Options are very likely to be reviewed by the customers.\n",
        "\n",
        "People are not tend to review restaurants where cuisins are not shown. So we made a right desicion to keep (but not delete) rows with missing cuisins by replacing nan value to 'unknown'. Perhaps this info may help us in further modeling.\n",
        "\n",
        "---"
      ]
    },
    {
      "cell_type": "markdown",
      "metadata": {
        "id": "58o-xckCgPgJ"
      },
      "source": [
        "### 2.5 Ranking column"
      ]
    },
    {
      "cell_type": "markdown",
      "metadata": {
        "id": "39kD3s3agPgK"
      },
      "source": [
        "How is it distributed?"
      ]
    },
    {
      "cell_type": "code",
      "metadata": {
        "scrolled": false,
        "colab": {
          "base_uri": "https://localhost:8080/",
          "height": 389
        },
        "id": "cmaMMJklgPgK",
        "outputId": "6f06e8fa-c9e6-4872-9acf-2f2dd7da34a7"
      },
      "source": [
        "plt.figure(figsize=(15 ,5))\n",
        "plt.subplot(121)\n",
        "sns.distplot(df.ranking.values, bins=25,color=colors[0])\n",
        "plt.title('Ranking Distribution\\n', fontsize=15)\n",
        "plt.xlabel ('Ranking')\n",
        "plt.ylabel ('Quantity (frequency)')\n",
        "\n",
        "plt.subplot(122)\n",
        "sns.boxplot(df.ranking.values, color=colors[1])\n",
        "plt.title('Ranking Distribution\\n', fontsize=15)\n",
        "plt.xlabel('Ranking')"
      ],
      "execution_count": 19,
      "outputs": [
        {
          "output_type": "execute_result",
          "data": {
            "text/plain": [
              "Text(0.5, 0, 'Ranking')"
            ]
          },
          "metadata": {
            "tags": []
          },
          "execution_count": 19
        },
        {
          "output_type": "display_data",
          "data": {
            "image/png": "[encoded data removed]",
            "text/plain": [
              "<Figure size 1080x360 with 2 Axes>"
            ]
          },
          "metadata": {
            "tags": [],
            "needs_background": "light"
          }
        }
      ]
    },
    {
      "cell_type": "code",
      "metadata": {
        "colab": {
          "base_uri": "https://localhost:8080/"
        },
        "id": "tWdVCdYtgPgK",
        "outputId": "2f160d4a-9db4-45a1-f761-d9484aade671"
      },
      "source": [
        "df['ranking'].describe()"
      ],
      "execution_count": 20,
      "outputs": [
        {
          "output_type": "execute_result",
          "data": {
            "text/plain": [
              "count    40000.000000\n",
              "mean      3676.028525\n",
              "std       3708.749567\n",
              "min          1.000000\n",
              "25%        973.000000\n",
              "50%       2285.000000\n",
              "75%       5260.000000\n",
              "max      16444.000000\n",
              "Name: ranking, dtype: float64"
            ]
          },
          "metadata": {
            "tags": []
          },
          "execution_count": 20
        }
      ]
    },
    {
      "cell_type": "markdown",
      "metadata": {
        "id": "jk5YXuyQgPgK"
      },
      "source": [
        "---\n",
        "\n",
        "The Ranking distribution shifted to the left side and scattered from 1 to 16444. The first and third quartiles are in the range from 973 to 5260, the median is 2285.\n",
        "\n",
        "However, with a reference to the data description, the Ranking is the place that this restaurant occupies among all restaurants in its city. So we cannot observe it separately from cities.\n",
        "\n",
        "---"
      ]
    },
    {
      "cell_type": "markdown",
      "metadata": {
        "id": "p35OUCbSgPgL"
      },
      "source": [
        "So, let's plot a distribution of a ranking depend on city (take 10-top cities in dataset)"
      ]
    },
    {
      "cell_type": "code",
      "metadata": {
        "colab": {
          "base_uri": "https://localhost:8080/",
          "height": 389
        },
        "id": "YlKyhDG7gPgL",
        "outputId": "5ad005f0-6ac6-439d-8925-ea13057ed2a2"
      },
      "source": [
        "plt.figure(figsize=(15 ,5))\n",
        "\n",
        "for city in (df['city'].value_counts())[0:10].index:  \n",
        "    sns.distplot(df['ranking'][df['city'] == city],kde=False,label = city)\n",
        "    \n",
        "plt.legend(prop={'size': 10})\n",
        "plt.title('Ranking Distribution among cities\\n', fontsize=15)\n",
        "plt.xlabel('Ranking')\n",
        "plt.ylabel('Quantity (frequency)')"
      ],
      "execution_count": 21,
      "outputs": [
        {
          "output_type": "execute_result",
          "data": {
            "text/plain": [
              "Text(0, 0.5, 'Quantity (frequency)')"
            ]
          },
          "metadata": {
            "tags": []
          },
          "execution_count": 21
        },
        {
          "output_type": "display_data",
          "data": {
            "image/png": "[encoded data removed]",
            "text/plain": [
              "<Figure size 1080x360 with 1 Axes>"
            ]
          },
          "metadata": {
            "tags": [],
            "needs_background": "light"
          }
        }
      ]
    },
    {
      "cell_type": "markdown",
      "metadata": {
        "id": "IfGrw4brgPgL"
      },
      "source": [
        "---\n",
        "\n",
        "Well, as we see the ranking has normal distribution in each separate city. And as we already know , London is taking a top place by presented restaurants. So it in not surprised, that why do we have a shifting of distribution in a left side. Big cities has lots of restaurants.\n",
        "\n",
        "Then in a further future engeniring section (below) we need to consider this by creating equivalent ranking.\n",
        "\n",
        "---"
      ]
    },
    {
      "cell_type": "markdown",
      "metadata": {
        "id": "ct1SMYqvgPgL"
      },
      "source": [
        "Chek the correlation"
      ]
    },
    {
      "cell_type": "code",
      "metadata": {
        "colab": {
          "base_uri": "https://localhost:8080/",
          "height": 537
        },
        "id": "zFPOqb1FgPgL",
        "outputId": "7d44c5b2-9476-4901-934f-ce8d6c6cc0e7"
      },
      "source": [
        "X = df.corr()\n",
        "fig, ax = plt.subplots(figsize=(7, 7))\n",
        "sns.heatmap(X, vmax=.7, square=True, annot=True)\n",
        "\n",
        "print(f'Rank of Matrix: {np.linalg.matrix_rank(X)}')\n",
        "print(f'Determinat of matrix :{np.round(np.linalg.det(X),3)}')\n",
        "print(f'Shape of matrix :{np.shape(X)}')"
      ],
      "execution_count": 22,
      "outputs": [
        {
          "output_type": "stream",
          "text": [
            "Rank of Matrix: 4\n",
            "Determinat of matrix :0.778\n",
            "Shape of matrix :(4, 4)\n"
          ],
          "name": "stdout"
        },
        {
          "output_type": "display_data",
          "data": {
            "image/png": "[encoded data removed]",
            "text/plain": [
              "<Figure size 504x504 with 2 Axes>"
            ]
          },
          "metadata": {
            "tags": [],
            "needs_background": "light"
          }
        }
      ]
    },
    {
      "cell_type": "markdown",
      "metadata": {
        "id": "oevBTnNfgPgM"
      },
      "source": [
        "---\n",
        "\n",
        "Here we can see some correlations with target variable.\n",
        "\n",
        "There is no correlations between features. It is also confirmed by rank of correlation matrix. It has full rank.\n",
        "\n",
        "Most likely, we won't have a problems in a modeling\n",
        "\n",
        "----"
      ]
    },
    {
      "cell_type": "markdown",
      "metadata": {
        "id": "VbFKr1H0gPgM"
      },
      "source": [
        "### 2.6 Price range column"
      ]
    },
    {
      "cell_type": "markdown",
      "metadata": {
        "id": "tU5g3Hl6gPgM"
      },
      "source": [
        "First of all, with a reference to a section 1, we know that this column has 35% of nan values and presented as dollar symbol\n",
        "\n",
        "Let's replace these symbols in the dataset for the three price ranges with  more intuitive (cheap - medium - high ranges) and replace the NaN ones (set as not available)"
      ]
    },
    {
      "cell_type": "code",
      "metadata": {
        "id": "opvZNlbbgPgM"
      },
      "source": [
        "df['price_range'] = df['price_range'].fillna('NA')\n",
        "price_ranges = {'$': 'Cheap', '$$ - $$$': 'Medium',\n",
        "                '$$$$': 'High', 'NA': 'NotAvailable'}\n",
        "df['price_range'] = df['price_range'].map(price_ranges)"
      ],
      "execution_count": 23,
      "outputs": []
    },
    {
      "cell_type": "code",
      "metadata": {
        "colab": {
          "base_uri": "https://localhost:8080/",
          "height": 389
        },
        "id": "LNgqpqObgPgM",
        "outputId": "ebfe8b0b-2d29-4959-ab36-01ad7cd89838"
      },
      "source": [
        "plt.figure(figsize=(10 ,5))\n",
        "\n",
        "sns.boxplot(x='price_range',y= 'rating',data=df)\n",
        "\n",
        "plt.title('Price Range to Rating\\n', fontsize=15)\n",
        "plt.xlabel ('Price range')\n",
        "plt.ylabel ('Rating')"
      ],
      "execution_count": 24,
      "outputs": [
        {
          "output_type": "execute_result",
          "data": {
            "text/plain": [
              "Text(0, 0.5, 'Rating')"
            ]
          },
          "metadata": {
            "tags": []
          },
          "execution_count": 24
        },
        {
          "output_type": "display_data",
          "data": {
            "image/png": "[encoded data removed]",
            "text/plain": [
              "<Figure size 720x360 with 1 Axes>"
            ]
          },
          "metadata": {
            "tags": [],
            "needs_background": "light"
          }
        }
      ]
    },
    {
      "cell_type": "markdown",
      "metadata": {
        "id": "vF6etQKvgPgN"
      },
      "source": [
        "---\n",
        "\n",
        "Well, restaurants with high prices and cheap prices getting low ratings less often than restaurants with a medium level\n",
        "\n",
        "---"
      ]
    },
    {
      "cell_type": "markdown",
      "metadata": {
        "id": "MrRkHaQtgPgN"
      },
      "source": [
        "### 2.7 Reviews number column"
      ]
    },
    {
      "cell_type": "markdown",
      "metadata": {
        "id": "_bQy0-gmgPgO"
      },
      "source": [
        "---\n",
        "\n",
        "We already know that this column has nan values. Also we know that The most reviewable cuisin is vegan\n",
        "\n",
        "Missing values will be filled in Feature engineering section.\n",
        "\n",
        "Important Note. \n",
        "\n",
        "Filling the missing data must be done in a complex with proceeding the reviews column as we note that there is some descripancy between review numbers and revies itself\n",
        "\n",
        "---"
      ]
    },
    {
      "cell_type": "markdown",
      "metadata": {
        "id": "txIErOrTOJgn"
      },
      "source": [
        "### 2.8 Reviews column"
      ]
    },
    {
      "cell_type": "markdown",
      "metadata": {
        "id": "1G0y6H-ec4ie"
      },
      "source": [
        "#### 2.8.1 Pre-processing and analyse of missing values"
      ]
    },
    {
      "cell_type": "markdown",
      "metadata": {
        "id": "Wgbga4TpOvxm"
      },
      "source": [
        "Let's re-call what have we seen in section 1 of this notebook"
      ]
    },
    {
      "cell_type": "code",
      "metadata": {
        "id": "2OQhLsFXgPgP",
        "colab": {
          "base_uri": "https://localhost:8080/"
        },
        "outputId": "647217fe-3ca3-4166-c886-802be9b72835"
      },
      "source": [
        "print(df['reviews'][0])\r\n",
        "print(df['reviews'][3])\r\n",
        "print(f'Govno {type(df.loc[1][\"reviews\"])}')"
      ],
      "execution_count": 25,
      "outputs": [
        {
          "output_type": "stream",
          "text": [
            "[['Good food at your doorstep', 'A good hotel restaurant'], ['12/31/2017', '11/20/2017']]\n",
            "[[], []]\n",
            "Govno <class 'str'>\n"
          ],
          "name": "stdout"
        }
      ]
    },
    {
      "cell_type": "markdown",
      "metadata": {
        "id": "SEKP2JL_PCTV"
      },
      "source": [
        "Well, as was mentioned above the content has structural data - [ [ ],[ ] ].\r\n",
        "\r\n",
        "**However** it is not a list, but just a string type.\r\n",
        "\r\n",
        "Then, we want to extract the data form the colums 'reviews' into a 4 independent colums and remove original one from dataset.\r\n",
        "\r\n",
        "In the end we shall get following columns in our dataset:\r\n",
        "\r\n",
        "***Review_1*** - we put review No.1 (if any).\r\n",
        "\r\n",
        "***Date_1*** - we put the date when the review was added\r\n",
        "\r\n",
        "***Review_2*** - we put review No.2 (if any).\r\n",
        "\r\n",
        "***Date_2*** - we put the date when the review was added\r\n",
        "\r\n",
        "***Diff_rev*** - Time difference in days between first and second review\r\n"
      ]
    },
    {
      "cell_type": "code",
      "metadata": {
        "id": "J4ZRu8v-gPgQ"
      },
      "source": [
        "# create a template for search\r\n",
        "lrx = re.compile('\\[\\[.*\\]\\]')\r\n",
        "\r\n",
        "\r\n",
        "def review_extraction(row):\r\n",
        "    \r\n",
        "    '''Function is called for extracting data from column \r\n",
        "    reviews and splitting it out into a separate columns\r\n",
        "    INPUT: Whole dataset\r\n",
        "    OUTPUT: Dataset with additional columns'''\r\n",
        "    \r\n",
        "    cell = row['reviews']\r\n",
        "    aux_list = [[], []] # create an auxilliary list for saving temp.data\r\n",
        "    if type(cell) == str and lrx.fullmatch(cell): # compare with searech template\r\n",
        "        nan = None\r\n",
        "        aux_list = eval(cell) # transform into a list\r\n",
        "\r\n",
        "\r\n",
        "    row['first_review'] = aux_list[0][1] if len(aux_list[0]) > 1 else nan\r\n",
        "    row['last_review'] = aux_list[0][0] if len(aux_list[0]) > 0 else nan\r\n",
        "\r\n",
        "    row['first_date'] = pd.to_datetime(aux_list[1][1] if len(aux_list[1]) > 1 else nan)\r\n",
        "    row['last_date'] = pd.to_datetime(aux_list[1][0] if len(\r\n",
        "        aux_list[1]) > 0 else nan, format='%m/%d/%Y', errors='coerce')\r\n",
        "    \r\n",
        "    row['first_date'] = pd.to_datetime(row['first_date'])\r\n",
        "    row['last_date'] = pd.to_datetime(row['last_date'])\r\n",
        "    \r\n",
        "    return row"
      ],
      "execution_count": 26,
      "outputs": []
    },
    {
      "cell_type": "code",
      "metadata": {
        "id": "wDWwJCkugPgQ",
        "colab": {
          "base_uri": "https://localhost:8080/",
          "height": 309
        },
        "outputId": "a4ff13ca-bd2d-48bd-8290-184ba5c347e0"
      },
      "source": [
        "# apply the function to dataset and see the result\r\n",
        "df = df.apply(review_extraction,axis=1)\r\n",
        "\r\n",
        "#show data\r\n",
        "df.head(4)"
      ],
      "execution_count": 27,
      "outputs": [
        {
          "output_type": "execute_result",
          "data": {
            "text/html": [
              "<div>\n",
              "<style scoped>\n",
              "    .dataframe tbody tr th:only-of-type {\n",
              "        vertical-align: middle;\n",
              "    }\n",
              "\n",
              "    .dataframe tbody tr th {\n",
              "        vertical-align: top;\n",
              "    }\n",
              "\n",
              "    .dataframe thead th {\n",
              "        text-align: right;\n",
              "    }\n",
              "</style>\n",
              "<table border=\"1\" class=\"dataframe\">\n",
              "  <thead>\n",
              "    <tr style=\"text-align: right;\">\n",
              "      <th></th>\n",
              "      <th>restaurant_id</th>\n",
              "      <th>city</th>\n",
              "      <th>cuisine_style</th>\n",
              "      <th>ranking</th>\n",
              "      <th>rating</th>\n",
              "      <th>price_range</th>\n",
              "      <th>reviews_number</th>\n",
              "      <th>reviews</th>\n",
              "      <th>url_ta</th>\n",
              "      <th>id_ta</th>\n",
              "      <th>cuisine_ctyle_empty</th>\n",
              "      <th>first_review</th>\n",
              "      <th>last_review</th>\n",
              "      <th>first_date</th>\n",
              "      <th>last_date</th>\n",
              "    </tr>\n",
              "  </thead>\n",
              "  <tbody>\n",
              "    <tr>\n",
              "      <th>0</th>\n",
              "      <td>id_5569</td>\n",
              "      <td>Paris</td>\n",
              "      <td>[European, French, International]</td>\n",
              "      <td>5570.0</td>\n",
              "      <td>3.5</td>\n",
              "      <td>Medium</td>\n",
              "      <td>194.0</td>\n",
              "      <td>[['Good food at your doorstep', 'A good hotel ...</td>\n",
              "      <td>/Restaurant_Review-g187147-d1912643-Reviews-R_...</td>\n",
              "      <td>d1912643</td>\n",
              "      <td>0</td>\n",
              "      <td>A good hotel restaurant</td>\n",
              "      <td>Good food at your doorstep</td>\n",
              "      <td>2017-11-20</td>\n",
              "      <td>2017-12-31</td>\n",
              "    </tr>\n",
              "    <tr>\n",
              "      <th>1</th>\n",
              "      <td>id_1535</td>\n",
              "      <td>Stockholm</td>\n",
              "      <td>[unknown]</td>\n",
              "      <td>1537.0</td>\n",
              "      <td>4.0</td>\n",
              "      <td>NotAvailable</td>\n",
              "      <td>10.0</td>\n",
              "      <td>[['Unique cuisine', 'Delicious Nepalese food']...</td>\n",
              "      <td>/Restaurant_Review-g189852-d7992032-Reviews-Bu...</td>\n",
              "      <td>d7992032</td>\n",
              "      <td>1</td>\n",
              "      <td>Delicious Nepalese food</td>\n",
              "      <td>Unique cuisine</td>\n",
              "      <td>2016-06-19</td>\n",
              "      <td>2017-07-06</td>\n",
              "    </tr>\n",
              "    <tr>\n",
              "      <th>2</th>\n",
              "      <td>id_352</td>\n",
              "      <td>London</td>\n",
              "      <td>[Japanese, Sushi, Asian, Grill, Vegetarian Fri...</td>\n",
              "      <td>353.0</td>\n",
              "      <td>4.5</td>\n",
              "      <td>High</td>\n",
              "      <td>688.0</td>\n",
              "      <td>[['Catch up with friends', 'Not exceptional'],...</td>\n",
              "      <td>/Restaurant_Review-g186338-d8632781-Reviews-RO...</td>\n",
              "      <td>d8632781</td>\n",
              "      <td>0</td>\n",
              "      <td>Not exceptional</td>\n",
              "      <td>Catch up with friends</td>\n",
              "      <td>2018-01-06</td>\n",
              "      <td>2018-01-08</td>\n",
              "    </tr>\n",
              "    <tr>\n",
              "      <th>3</th>\n",
              "      <td>id_3456</td>\n",
              "      <td>Berlin</td>\n",
              "      <td>[unknown]</td>\n",
              "      <td>3458.0</td>\n",
              "      <td>5.0</td>\n",
              "      <td>NotAvailable</td>\n",
              "      <td>3.0</td>\n",
              "      <td>[[], []]</td>\n",
              "      <td>/Restaurant_Review-g187323-d1358776-Reviews-Es...</td>\n",
              "      <td>d1358776</td>\n",
              "      <td>1</td>\n",
              "      <td>None</td>\n",
              "      <td>None</td>\n",
              "      <td>NaT</td>\n",
              "      <td>NaT</td>\n",
              "    </tr>\n",
              "  </tbody>\n",
              "</table>\n",
              "</div>"
            ],
            "text/plain": [
              "  restaurant_id       city                                      cuisine_style  \\\n",
              "0       id_5569      Paris                  [European, French, International]   \n",
              "1       id_1535  Stockholm                                          [unknown]   \n",
              "2        id_352     London  [Japanese, Sushi, Asian, Grill, Vegetarian Fri...   \n",
              "3       id_3456     Berlin                                          [unknown]   \n",
              "\n",
              "   ranking  rating   price_range  reviews_number  \\\n",
              "0   5570.0     3.5        Medium           194.0   \n",
              "1   1537.0     4.0  NotAvailable            10.0   \n",
              "2    353.0     4.5          High           688.0   \n",
              "3   3458.0     5.0  NotAvailable             3.0   \n",
              "\n",
              "                                             reviews  \\\n",
              "0  [['Good food at your doorstep', 'A good hotel ...   \n",
              "1  [['Unique cuisine', 'Delicious Nepalese food']...   \n",
              "2  [['Catch up with friends', 'Not exceptional'],...   \n",
              "3                                           [[], []]   \n",
              "\n",
              "                                              url_ta     id_ta  \\\n",
              "0  /Restaurant_Review-g187147-d1912643-Reviews-R_...  d1912643   \n",
              "1  /Restaurant_Review-g189852-d7992032-Reviews-Bu...  d7992032   \n",
              "2  /Restaurant_Review-g186338-d8632781-Reviews-RO...  d8632781   \n",
              "3  /Restaurant_Review-g187323-d1358776-Reviews-Es...  d1358776   \n",
              "\n",
              "   cuisine_ctyle_empty             first_review                 last_review  \\\n",
              "0                    0  A good hotel restaurant  Good food at your doorstep   \n",
              "1                    1  Delicious Nepalese food              Unique cuisine   \n",
              "2                    0          Not exceptional       Catch up with friends   \n",
              "3                    1                     None                        None   \n",
              "\n",
              "  first_date  last_date  \n",
              "0 2017-11-20 2017-12-31  \n",
              "1 2016-06-19 2017-07-06  \n",
              "2 2018-01-06 2018-01-08  \n",
              "3        NaT        NaT  "
            ]
          },
          "metadata": {
            "tags": []
          },
          "execution_count": 27
        }
      ]
    },
    {
      "cell_type": "markdown",
      "metadata": {
        "id": "m2KAjw9eRkws"
      },
      "source": [
        "Create a column with time difference between first and second reviews"
      ]
    },
    {
      "cell_type": "code",
      "metadata": {
        "id": "-mu6eRQ6gPgQ"
      },
      "source": [
        "# Create a function to transform date to days\r\n",
        "\r\n",
        "def get_days(timedelta):\r\n",
        "    '''transform date to a days'''\r\n",
        "    return timedelta.days"
      ],
      "execution_count": 28,
      "outputs": []
    },
    {
      "cell_type": "code",
      "metadata": {
        "id": "XoO0FO-cgPgQ",
        "colab": {
          "base_uri": "https://localhost:8080/",
          "height": 131
        },
        "outputId": "3c2f0db1-487f-4775-f1dc-292ca5e245a4"
      },
      "source": [
        "# find a diffderence between date of first review and last one\r\n",
        "# add this information into a new column\r\n",
        "\r\n",
        "df['diff_rev'] = df['last_date'] - df['first_date']\r\n",
        "\r\n",
        "# call the function and get difference in days\r\n",
        "df['diff_rev'] = df['diff_rev'].apply(get_days)\r\n",
        "\r\n",
        "# show data\r\n",
        "df.head(1)"
      ],
      "execution_count": 29,
      "outputs": [
        {
          "output_type": "execute_result",
          "data": {
            "text/html": [
              "<div>\n",
              "<style scoped>\n",
              "    .dataframe tbody tr th:only-of-type {\n",
              "        vertical-align: middle;\n",
              "    }\n",
              "\n",
              "    .dataframe tbody tr th {\n",
              "        vertical-align: top;\n",
              "    }\n",
              "\n",
              "    .dataframe thead th {\n",
              "        text-align: right;\n",
              "    }\n",
              "</style>\n",
              "<table border=\"1\" class=\"dataframe\">\n",
              "  <thead>\n",
              "    <tr style=\"text-align: right;\">\n",
              "      <th></th>\n",
              "      <th>restaurant_id</th>\n",
              "      <th>city</th>\n",
              "      <th>cuisine_style</th>\n",
              "      <th>ranking</th>\n",
              "      <th>rating</th>\n",
              "      <th>price_range</th>\n",
              "      <th>reviews_number</th>\n",
              "      <th>reviews</th>\n",
              "      <th>url_ta</th>\n",
              "      <th>id_ta</th>\n",
              "      <th>cuisine_ctyle_empty</th>\n",
              "      <th>first_review</th>\n",
              "      <th>last_review</th>\n",
              "      <th>first_date</th>\n",
              "      <th>last_date</th>\n",
              "      <th>diff_rev</th>\n",
              "    </tr>\n",
              "  </thead>\n",
              "  <tbody>\n",
              "    <tr>\n",
              "      <th>0</th>\n",
              "      <td>id_5569</td>\n",
              "      <td>Paris</td>\n",
              "      <td>[European, French, International]</td>\n",
              "      <td>5570.0</td>\n",
              "      <td>3.5</td>\n",
              "      <td>Medium</td>\n",
              "      <td>194.0</td>\n",
              "      <td>[['Good food at your doorstep', 'A good hotel ...</td>\n",
              "      <td>/Restaurant_Review-g187147-d1912643-Reviews-R_...</td>\n",
              "      <td>d1912643</td>\n",
              "      <td>0</td>\n",
              "      <td>A good hotel restaurant</td>\n",
              "      <td>Good food at your doorstep</td>\n",
              "      <td>2017-11-20</td>\n",
              "      <td>2017-12-31</td>\n",
              "      <td>41.0</td>\n",
              "    </tr>\n",
              "  </tbody>\n",
              "</table>\n",
              "</div>"
            ],
            "text/plain": [
              "  restaurant_id   city                      cuisine_style  ranking  rating  \\\n",
              "0       id_5569  Paris  [European, French, International]   5570.0     3.5   \n",
              "\n",
              "  price_range  reviews_number  \\\n",
              "0      Medium           194.0   \n",
              "\n",
              "                                             reviews  \\\n",
              "0  [['Good food at your doorstep', 'A good hotel ...   \n",
              "\n",
              "                                              url_ta     id_ta  \\\n",
              "0  /Restaurant_Review-g187147-d1912643-Reviews-R_...  d1912643   \n",
              "\n",
              "   cuisine_ctyle_empty             first_review                 last_review  \\\n",
              "0                    0  A good hotel restaurant  Good food at your doorstep   \n",
              "\n",
              "  first_date  last_date  diff_rev  \n",
              "0 2017-11-20 2017-12-31      41.0  "
            ]
          },
          "metadata": {
            "tags": []
          },
          "execution_count": 29
        }
      ]
    },
    {
      "cell_type": "code",
      "metadata": {
        "id": "yfYILPLlgPgR",
        "colab": {
          "base_uri": "https://localhost:8080/"
        },
        "outputId": "53260535-9308-495d-bc6c-7aad9420a30a"
      },
      "source": [
        "# check how many cells with reviews have no revierw\r\n",
        "df[['first_review', 'last_review']].isnull().sum()"
      ],
      "execution_count": 30,
      "outputs": [
        {
          "output_type": "execute_result",
          "data": {
            "text/plain": [
              "first_review    11028\n",
              "last_review      6472\n",
              "dtype: int64"
            ]
          },
          "metadata": {
            "tags": []
          },
          "execution_count": 30
        }
      ]
    },
    {
      "cell_type": "code",
      "metadata": {
        "colab": {
          "base_uri": "https://localhost:8080/"
        },
        "id": "zd4ZzJZETUXU",
        "outputId": "2924b19b-1e2e-429d-f7e4-389257b1327c"
      },
      "source": [
        "# check how many cells reviews_number has no review\r\n",
        "df['reviews_number'].isnull().sum()"
      ],
      "execution_count": 31,
      "outputs": [
        {
          "output_type": "execute_result",
          "data": {
            "text/plain": [
              "2543"
            ]
          },
          "metadata": {
            "tags": []
          },
          "execution_count": 31
        }
      ]
    },
    {
      "cell_type": "markdown",
      "metadata": {
        "id": "Cf-ype5MZCai"
      },
      "source": [
        "Now, let's sort our dataset and compare mising reviews with missing reviews number"
      ]
    },
    {
      "cell_type": "code",
      "metadata": {
        "colab": {
          "base_uri": "https://localhost:8080/",
          "height": 479
        },
        "id": "441CNpfOZRYI",
        "outputId": "11eca37a-3ab5-4478-fcc6-1f289f5484ff"
      },
      "source": [
        "no_rev_num = df[df['reviews_number'].isnull()]\r\n",
        "no_rev_num.head()"
      ],
      "execution_count": 36,
      "outputs": [
        {
          "output_type": "execute_result",
          "data": {
            "text/html": [
              "<div>\n",
              "<style scoped>\n",
              "    .dataframe tbody tr th:only-of-type {\n",
              "        vertical-align: middle;\n",
              "    }\n",
              "\n",
              "    .dataframe tbody tr th {\n",
              "        vertical-align: top;\n",
              "    }\n",
              "\n",
              "    .dataframe thead th {\n",
              "        text-align: right;\n",
              "    }\n",
              "</style>\n",
              "<table border=\"1\" class=\"dataframe\">\n",
              "  <thead>\n",
              "    <tr style=\"text-align: right;\">\n",
              "      <th></th>\n",
              "      <th>restaurant_id</th>\n",
              "      <th>city</th>\n",
              "      <th>cuisine_style</th>\n",
              "      <th>ranking</th>\n",
              "      <th>rating</th>\n",
              "      <th>price_range</th>\n",
              "      <th>reviews_number</th>\n",
              "      <th>reviews</th>\n",
              "      <th>url_ta</th>\n",
              "      <th>id_ta</th>\n",
              "      <th>cuisine_ctyle_empty</th>\n",
              "      <th>first_review</th>\n",
              "      <th>last_review</th>\n",
              "      <th>first_date</th>\n",
              "      <th>last_date</th>\n",
              "      <th>diff_rev</th>\n",
              "    </tr>\n",
              "  </thead>\n",
              "  <tbody>\n",
              "    <tr>\n",
              "      <th>8</th>\n",
              "      <td>id_2690</td>\n",
              "      <td>Vienna</td>\n",
              "      <td>[unknown]</td>\n",
              "      <td>2692.0</td>\n",
              "      <td>4.0</td>\n",
              "      <td>NotAvailable</td>\n",
              "      <td>NaN</td>\n",
              "      <td>[[], []]</td>\n",
              "      <td>/Restaurant_Review-g190454-d12845029-Reviews-G...</td>\n",
              "      <td>d12845029</td>\n",
              "      <td>1</td>\n",
              "      <td>None</td>\n",
              "      <td>None</td>\n",
              "      <td>NaT</td>\n",
              "      <td>NaT</td>\n",
              "      <td>NaN</td>\n",
              "    </tr>\n",
              "    <tr>\n",
              "      <th>21</th>\n",
              "      <td>id_5844</td>\n",
              "      <td>Madrid</td>\n",
              "      <td>[unknown]</td>\n",
              "      <td>5847.0</td>\n",
              "      <td>4.0</td>\n",
              "      <td>NotAvailable</td>\n",
              "      <td>NaN</td>\n",
              "      <td>[[], []]</td>\n",
              "      <td>/Restaurant_Review-g187514-d10058810-Reviews-B...</td>\n",
              "      <td>d10058810</td>\n",
              "      <td>1</td>\n",
              "      <td>None</td>\n",
              "      <td>None</td>\n",
              "      <td>NaT</td>\n",
              "      <td>NaT</td>\n",
              "      <td>NaN</td>\n",
              "    </tr>\n",
              "    <tr>\n",
              "      <th>32</th>\n",
              "      <td>id_1327</td>\n",
              "      <td>Budapest</td>\n",
              "      <td>[unknown]</td>\n",
              "      <td>1328.0</td>\n",
              "      <td>5.0</td>\n",
              "      <td>NotAvailable</td>\n",
              "      <td>NaN</td>\n",
              "      <td>[['Absolutely amazing, tasty, fresh, cheap Ch....</td>\n",
              "      <td>/Restaurant_Review-g274887-d8791087-Reviews-Bu...</td>\n",
              "      <td>d8791087</td>\n",
              "      <td>1</td>\n",
              "      <td>None</td>\n",
              "      <td>Absolutely amazing, tasty, fresh, cheap Ch...</td>\n",
              "      <td>NaT</td>\n",
              "      <td>2015-10-26</td>\n",
              "      <td>NaN</td>\n",
              "    </tr>\n",
              "    <tr>\n",
              "      <th>102</th>\n",
              "      <td>id_1409</td>\n",
              "      <td>Budapest</td>\n",
              "      <td>[French, European, Hungarian]</td>\n",
              "      <td>1410.0</td>\n",
              "      <td>5.0</td>\n",
              "      <td>NotAvailable</td>\n",
              "      <td>NaN</td>\n",
              "      <td>[[], []]</td>\n",
              "      <td>/Restaurant_Review-g274887-d13197631-Reviews-L...</td>\n",
              "      <td>d13197631</td>\n",
              "      <td>0</td>\n",
              "      <td>None</td>\n",
              "      <td>None</td>\n",
              "      <td>NaT</td>\n",
              "      <td>NaT</td>\n",
              "      <td>NaN</td>\n",
              "    </tr>\n",
              "    <tr>\n",
              "      <th>108</th>\n",
              "      <td>id_2047</td>\n",
              "      <td>Prague</td>\n",
              "      <td>[Italian, Mediterranean]</td>\n",
              "      <td>2050.0</td>\n",
              "      <td>5.0</td>\n",
              "      <td>Medium</td>\n",
              "      <td>NaN</td>\n",
              "      <td>[[], []]</td>\n",
              "      <td>/Restaurant_Review-g274707-d12243659-Reviews-T...</td>\n",
              "      <td>d12243659</td>\n",
              "      <td>0</td>\n",
              "      <td>None</td>\n",
              "      <td>None</td>\n",
              "      <td>NaT</td>\n",
              "      <td>NaT</td>\n",
              "      <td>NaN</td>\n",
              "    </tr>\n",
              "  </tbody>\n",
              "</table>\n",
              "</div>"
            ],
            "text/plain": [
              "    restaurant_id      city                  cuisine_style  ranking  rating  \\\n",
              "8         id_2690    Vienna                      [unknown]   2692.0     4.0   \n",
              "21        id_5844    Madrid                      [unknown]   5847.0     4.0   \n",
              "32        id_1327  Budapest                      [unknown]   1328.0     5.0   \n",
              "102       id_1409  Budapest  [French, European, Hungarian]   1410.0     5.0   \n",
              "108       id_2047    Prague       [Italian, Mediterranean]   2050.0     5.0   \n",
              "\n",
              "      price_range  reviews_number  \\\n",
              "8    NotAvailable             NaN   \n",
              "21   NotAvailable             NaN   \n",
              "32   NotAvailable             NaN   \n",
              "102  NotAvailable             NaN   \n",
              "108        Medium             NaN   \n",
              "\n",
              "                                               reviews  \\\n",
              "8                                             [[], []]   \n",
              "21                                            [[], []]   \n",
              "32   [['Absolutely amazing, tasty, fresh, cheap Ch....   \n",
              "102                                           [[], []]   \n",
              "108                                           [[], []]   \n",
              "\n",
              "                                                url_ta      id_ta  \\\n",
              "8    /Restaurant_Review-g190454-d12845029-Reviews-G...  d12845029   \n",
              "21   /Restaurant_Review-g187514-d10058810-Reviews-B...  d10058810   \n",
              "32   /Restaurant_Review-g274887-d8791087-Reviews-Bu...   d8791087   \n",
              "102  /Restaurant_Review-g274887-d13197631-Reviews-L...  d13197631   \n",
              "108  /Restaurant_Review-g274707-d12243659-Reviews-T...  d12243659   \n",
              "\n",
              "     cuisine_ctyle_empty first_review  \\\n",
              "8                      1         None   \n",
              "21                     1         None   \n",
              "32                     1         None   \n",
              "102                    0         None   \n",
              "108                    0         None   \n",
              "\n",
              "                                       last_review first_date  last_date  \\\n",
              "8                                             None        NaT        NaT   \n",
              "21                                            None        NaT        NaT   \n",
              "32   Absolutely amazing, tasty, fresh, cheap Ch...        NaT 2015-10-26   \n",
              "102                                           None        NaT        NaT   \n",
              "108                                           None        NaT        NaT   \n",
              "\n",
              "     diff_rev  \n",
              "8         NaN  \n",
              "21        NaN  \n",
              "32        NaN  \n",
              "102       NaN  \n",
              "108       NaN  "
            ]
          },
          "metadata": {
            "tags": []
          },
          "execution_count": 36
        }
      ]
    },
    {
      "cell_type": "code",
      "metadata": {
        "colab": {
          "base_uri": "https://localhost:8080/"
        },
        "id": "YGRs2pyZZp7p",
        "outputId": "d1fe74a7-8e22-449d-b22c-b56c151adda6"
      },
      "source": [
        "no_rev_num[['first_review', 'last_review']].isnull().sum()"
      ],
      "execution_count": 37,
      "outputs": [
        {
          "output_type": "execute_result",
          "data": {
            "text/plain": [
              "first_review    2543\n",
              "last_review     1597\n",
              "dtype: int64"
            ]
          },
          "metadata": {
            "tags": []
          },
          "execution_count": 37
        }
      ]
    },
    {
      "cell_type": "markdown",
      "metadata": {
        "id": "q1wLnKWpaN5i"
      },
      "source": [
        "That's pretty interesting. The revierw number actually doesn't show accurate information with number of reviews. For example in the feedback colums we have at least one review but it is not depicted in review's number.\r\n",
        "\r\n",
        "Probably we need to drop the colums with number or reviews or fill somehow the missing data. We will deside it in section 3 'Feature engineering'\r\n",
        "\r\n",
        "Let's go ahead with analyse"
      ]
    },
    {
      "cell_type": "markdown",
      "metadata": {
        "id": "vj-7WdNrbJPC"
      },
      "source": [
        "Before we start, let's create two new vectors which indicate us what review has missing values"
      ]
    },
    {
      "cell_type": "code",
      "metadata": {
        "id": "KeJcOjVWbk5G"
      },
      "source": [
        "# Create a column where indicate that review is not avaliable\r\n",
        "df['first_review_miss'] = df['first_review'].isnull().astype('uint8')\r\n",
        "df['last_review_miss'] = df['last_review'].isnull().astype('uint8')"
      ],
      "execution_count": 38,
      "outputs": []
    },
    {
      "cell_type": "code",
      "metadata": {
        "colab": {
          "base_uri": "https://localhost:8080/",
          "height": 397
        },
        "id": "An8x_bzIb_wN",
        "outputId": "ce70efa8-85dd-43f6-fa37-7f29b4770911"
      },
      "source": [
        "# Replace Nan values with 'No comment' for further data proceeding\r\n",
        "df['last_review'] = df['last_review'].fillna('no comment')\r\n",
        "df['first_review'] = df['first_review'].fillna('no comment')\r\n",
        "\r\n",
        "# show data\r\n",
        "df.head(4)"
      ],
      "execution_count": 42,
      "outputs": [
        {
          "output_type": "execute_result",
          "data": {
            "text/html": [
              "<div>\n",
              "<style scoped>\n",
              "    .dataframe tbody tr th:only-of-type {\n",
              "        vertical-align: middle;\n",
              "    }\n",
              "\n",
              "    .dataframe tbody tr th {\n",
              "        vertical-align: top;\n",
              "    }\n",
              "\n",
              "    .dataframe thead th {\n",
              "        text-align: right;\n",
              "    }\n",
              "</style>\n",
              "<table border=\"1\" class=\"dataframe\">\n",
              "  <thead>\n",
              "    <tr style=\"text-align: right;\">\n",
              "      <th></th>\n",
              "      <th>restaurant_id</th>\n",
              "      <th>city</th>\n",
              "      <th>cuisine_style</th>\n",
              "      <th>ranking</th>\n",
              "      <th>rating</th>\n",
              "      <th>price_range</th>\n",
              "      <th>reviews_number</th>\n",
              "      <th>reviews</th>\n",
              "      <th>url_ta</th>\n",
              "      <th>id_ta</th>\n",
              "      <th>cuisine_ctyle_empty</th>\n",
              "      <th>first_review</th>\n",
              "      <th>last_review</th>\n",
              "      <th>first_date</th>\n",
              "      <th>last_date</th>\n",
              "      <th>diff_rev</th>\n",
              "      <th>first_review_miss</th>\n",
              "      <th>last_review_miss</th>\n",
              "    </tr>\n",
              "  </thead>\n",
              "  <tbody>\n",
              "    <tr>\n",
              "      <th>0</th>\n",
              "      <td>id_5569</td>\n",
              "      <td>Paris</td>\n",
              "      <td>[European, French, International]</td>\n",
              "      <td>5570.0</td>\n",
              "      <td>3.5</td>\n",
              "      <td>Medium</td>\n",
              "      <td>194.0</td>\n",
              "      <td>[['Good food at your doorstep', 'A good hotel ...</td>\n",
              "      <td>/Restaurant_Review-g187147-d1912643-Reviews-R_...</td>\n",
              "      <td>d1912643</td>\n",
              "      <td>0</td>\n",
              "      <td>A good hotel restaurant</td>\n",
              "      <td>Good food at your doorstep</td>\n",
              "      <td>2017-11-20</td>\n",
              "      <td>2017-12-31</td>\n",
              "      <td>41.0</td>\n",
              "      <td>0</td>\n",
              "      <td>0</td>\n",
              "    </tr>\n",
              "    <tr>\n",
              "      <th>1</th>\n",
              "      <td>id_1535</td>\n",
              "      <td>Stockholm</td>\n",
              "      <td>[unknown]</td>\n",
              "      <td>1537.0</td>\n",
              "      <td>4.0</td>\n",
              "      <td>NotAvailable</td>\n",
              "      <td>10.0</td>\n",
              "      <td>[['Unique cuisine', 'Delicious Nepalese food']...</td>\n",
              "      <td>/Restaurant_Review-g189852-d7992032-Reviews-Bu...</td>\n",
              "      <td>d7992032</td>\n",
              "      <td>1</td>\n",
              "      <td>Delicious Nepalese food</td>\n",
              "      <td>Unique cuisine</td>\n",
              "      <td>2016-06-19</td>\n",
              "      <td>2017-07-06</td>\n",
              "      <td>382.0</td>\n",
              "      <td>0</td>\n",
              "      <td>0</td>\n",
              "    </tr>\n",
              "    <tr>\n",
              "      <th>2</th>\n",
              "      <td>id_352</td>\n",
              "      <td>London</td>\n",
              "      <td>[Japanese, Sushi, Asian, Grill, Vegetarian Fri...</td>\n",
              "      <td>353.0</td>\n",
              "      <td>4.5</td>\n",
              "      <td>High</td>\n",
              "      <td>688.0</td>\n",
              "      <td>[['Catch up with friends', 'Not exceptional'],...</td>\n",
              "      <td>/Restaurant_Review-g186338-d8632781-Reviews-RO...</td>\n",
              "      <td>d8632781</td>\n",
              "      <td>0</td>\n",
              "      <td>Not exceptional</td>\n",
              "      <td>Catch up with friends</td>\n",
              "      <td>2018-01-06</td>\n",
              "      <td>2018-01-08</td>\n",
              "      <td>2.0</td>\n",
              "      <td>0</td>\n",
              "      <td>0</td>\n",
              "    </tr>\n",
              "    <tr>\n",
              "      <th>3</th>\n",
              "      <td>id_3456</td>\n",
              "      <td>Berlin</td>\n",
              "      <td>[unknown]</td>\n",
              "      <td>3458.0</td>\n",
              "      <td>5.0</td>\n",
              "      <td>NotAvailable</td>\n",
              "      <td>3.0</td>\n",
              "      <td>[[], []]</td>\n",
              "      <td>/Restaurant_Review-g187323-d1358776-Reviews-Es...</td>\n",
              "      <td>d1358776</td>\n",
              "      <td>1</td>\n",
              "      <td>no comment</td>\n",
              "      <td>no comment</td>\n",
              "      <td>NaT</td>\n",
              "      <td>NaT</td>\n",
              "      <td>NaN</td>\n",
              "      <td>1</td>\n",
              "      <td>1</td>\n",
              "    </tr>\n",
              "  </tbody>\n",
              "</table>\n",
              "</div>"
            ],
            "text/plain": [
              "  restaurant_id       city                                      cuisine_style  \\\n",
              "0       id_5569      Paris                  [European, French, International]   \n",
              "1       id_1535  Stockholm                                          [unknown]   \n",
              "2        id_352     London  [Japanese, Sushi, Asian, Grill, Vegetarian Fri...   \n",
              "3       id_3456     Berlin                                          [unknown]   \n",
              "\n",
              "   ranking  rating   price_range  reviews_number  \\\n",
              "0   5570.0     3.5        Medium           194.0   \n",
              "1   1537.0     4.0  NotAvailable            10.0   \n",
              "2    353.0     4.5          High           688.0   \n",
              "3   3458.0     5.0  NotAvailable             3.0   \n",
              "\n",
              "                                             reviews  \\\n",
              "0  [['Good food at your doorstep', 'A good hotel ...   \n",
              "1  [['Unique cuisine', 'Delicious Nepalese food']...   \n",
              "2  [['Catch up with friends', 'Not exceptional'],...   \n",
              "3                                           [[], []]   \n",
              "\n",
              "                                              url_ta     id_ta  \\\n",
              "0  /Restaurant_Review-g187147-d1912643-Reviews-R_...  d1912643   \n",
              "1  /Restaurant_Review-g189852-d7992032-Reviews-Bu...  d7992032   \n",
              "2  /Restaurant_Review-g186338-d8632781-Reviews-RO...  d8632781   \n",
              "3  /Restaurant_Review-g187323-d1358776-Reviews-Es...  d1358776   \n",
              "\n",
              "   cuisine_ctyle_empty             first_review                 last_review  \\\n",
              "0                    0  A good hotel restaurant  Good food at your doorstep   \n",
              "1                    1  Delicious Nepalese food              Unique cuisine   \n",
              "2                    0          Not exceptional       Catch up with friends   \n",
              "3                    1               no comment                  no comment   \n",
              "\n",
              "  first_date  last_date  diff_rev  first_review_miss  last_review_miss  \n",
              "0 2017-11-20 2017-12-31      41.0                  0                 0  \n",
              "1 2016-06-19 2017-07-06     382.0                  0                 0  \n",
              "2 2018-01-06 2018-01-08       2.0                  0                 0  \n",
              "3        NaT        NaT       NaN                  1                 1  "
            ]
          },
          "metadata": {
            "tags": []
          },
          "execution_count": 42
        }
      ]
    },
    {
      "cell_type": "markdown",
      "metadata": {
        "id": "qNcTbGaedIn-"
      },
      "source": [
        "#### 2.8.2 Sentiment Analysis"
      ]
    },
    {
      "cell_type": "markdown",
      "metadata": {
        "id": "WSASzJr-dWN4"
      },
      "source": [
        "For a more convenient analyze let's withdraw columns with reviews only and create a new data frame"
      ]
    },
    {
      "cell_type": "code",
      "metadata": {
        "colab": {
          "base_uri": "https://localhost:8080/",
          "height": 80
        },
        "id": "sdHUDSLycn3G",
        "outputId": "0fffcb48-9f7c-4ee9-cb64-29f90b155fe1"
      },
      "source": [
        "df_sentiment = df[['first_review','last_review']]\r\n",
        "\r\n",
        "# show data\r\n",
        "df_sentiment.head(1)"
      ],
      "execution_count": 45,
      "outputs": [
        {
          "output_type": "execute_result",
          "data": {
            "text/html": [
              "<div>\n",
              "<style scoped>\n",
              "    .dataframe tbody tr th:only-of-type {\n",
              "        vertical-align: middle;\n",
              "    }\n",
              "\n",
              "    .dataframe tbody tr th {\n",
              "        vertical-align: top;\n",
              "    }\n",
              "\n",
              "    .dataframe thead th {\n",
              "        text-align: right;\n",
              "    }\n",
              "</style>\n",
              "<table border=\"1\" class=\"dataframe\">\n",
              "  <thead>\n",
              "    <tr style=\"text-align: right;\">\n",
              "      <th></th>\n",
              "      <th>first_review</th>\n",
              "      <th>last_review</th>\n",
              "    </tr>\n",
              "  </thead>\n",
              "  <tbody>\n",
              "    <tr>\n",
              "      <th>0</th>\n",
              "      <td>A good hotel restaurant</td>\n",
              "      <td>Good food at your doorstep</td>\n",
              "    </tr>\n",
              "  </tbody>\n",
              "</table>\n",
              "</div>"
            ],
            "text/plain": [
              "              first_review                 last_review\n",
              "0  A good hotel restaurant  Good food at your doorstep"
            ]
          },
          "metadata": {
            "tags": []
          },
          "execution_count": 45
        }
      ]
    },
    {
      "cell_type": "markdown",
      "metadata": {
        "id": "T4VTSuVBd7cV"
      },
      "source": [
        "Clean the text "
      ]
    },
    {
      "cell_type": "code",
      "metadata": {
        "id": "J-fgegfMcn9C"
      },
      "source": [
        "# Create a function to clean comments\r\n",
        "\r\n",
        "def cleanTxt(text):\r\n",
        "\r\n",
        "  '''Function is called for cleaning text from trash\r\n",
        "  INPUT: dirty string\r\n",
        "  OUTPUT: More or less clean string'''\r\n",
        "\r\n",
        "  text = re.sub(r'@[A-Za-z0-9]+','',text) # Remove @\r\n",
        "  text = re.sub(r'#','',text) # remove #\r\n",
        "  text = re.sub('^a-zA-Z',' ',text)\r\n",
        "  text = re.sub(r'https?:\\/\\/\\S+','',text) #remove hyperlink\r\n",
        "  text = re.sub(r'👍🏻','',text)\r\n",
        "  text = re.sub(r'🍕','',text) # there are much more emoji. I don't know how to identify them so far\r\n",
        "\r\n",
        "  text = text.lower()\r\n",
        "  text = text.strip()\r\n",
        "  #text = text.split()\r\n",
        "  return text\r\n"
      ],
      "execution_count": 46,
      "outputs": []
    },
    {
      "cell_type": "code",
      "metadata": {
        "id": "7KQ-uUrjcn_6"
      },
      "source": [
        "# Apply function to clean a text\r\n",
        "\r\n",
        "df_sentiment['first_review'] = df_sentiment['first_review'].apply(cleanTxt)\r\n",
        "df_sentiment['last_review'] = df_sentiment['last_review'].apply(cleanTxt)"
      ],
      "execution_count": 47,
      "outputs": []
    },
    {
      "cell_type": "markdown",
      "metadata": {
        "id": "gxFCtIsLgOb6"
      },
      "source": [
        "Generate subjectivity and polarity"
      ]
    },
    {
      "cell_type": "code",
      "metadata": {
        "id": "5kGv_94qcoCZ"
      },
      "source": [
        "# Create a function to get the subjectivity\r\n",
        "def get_subjectivity(text):\r\n",
        "  return TextBlob(text).sentiment.subjectivity\r\n",
        "\r\n",
        "# Create a function to get the polarity\r\n",
        "def get_polarity(text):\r\n",
        "  return TextBlob(text).sentiment.polarity"
      ],
      "execution_count": 48,
      "outputs": []
    },
    {
      "cell_type": "code",
      "metadata": {
        "colab": {
          "base_uri": "https://localhost:8080/",
          "height": 419
        },
        "id": "mQRAjW4PcoE0",
        "outputId": "d9feb820-188a-4fc5-ee84-ce40817f0de1"
      },
      "source": [
        "# Create new cols and call func\r\n",
        "\r\n",
        "df_sentiment['subjectivity_fst'] = df_sentiment['first_review'].apply(get_subjectivity)\r\n",
        "df_sentiment['subjectivity_snd'] = df_sentiment['last_review'].apply(get_subjectivity)\r\n",
        "df_sentiment['polarity_fst'] = df_sentiment['first_review'].apply(get_polarity)\r\n",
        "df_sentiment['polarity_snd'] = df_sentiment['last_review'].apply(get_polarity)\r\n",
        "#show data\r\n",
        "df_sentiment.head()"
      ],
      "execution_count": 50,
      "outputs": [
        {
          "output_type": "execute_result",
          "data": {
            "text/html": [
              "<div>\n",
              "<style scoped>\n",
              "    .dataframe tbody tr th:only-of-type {\n",
              "        vertical-align: middle;\n",
              "    }\n",
              "\n",
              "    .dataframe tbody tr th {\n",
              "        vertical-align: top;\n",
              "    }\n",
              "\n",
              "    .dataframe thead th {\n",
              "        text-align: right;\n",
              "    }\n",
              "</style>\n",
              "<table border=\"1\" class=\"dataframe\">\n",
              "  <thead>\n",
              "    <tr style=\"text-align: right;\">\n",
              "      <th></th>\n",
              "      <th>first_review</th>\n",
              "      <th>last_review</th>\n",
              "      <th>subjectivity_fst</th>\n",
              "      <th>subjectivity_snd</th>\n",
              "      <th>polarity_fst</th>\n",
              "      <th>polarity_snd</th>\n",
              "    </tr>\n",
              "  </thead>\n",
              "  <tbody>\n",
              "    <tr>\n",
              "      <th>0</th>\n",
              "      <td>a good hotel restaurant</td>\n",
              "      <td>good food at your doorstep</td>\n",
              "      <td>0.600000</td>\n",
              "      <td>0.6</td>\n",
              "      <td>0.700000</td>\n",
              "      <td>0.700</td>\n",
              "    </tr>\n",
              "    <tr>\n",
              "      <th>1</th>\n",
              "      <td>delicious nepalese food</td>\n",
              "      <td>unique cuisine</td>\n",
              "      <td>1.000000</td>\n",
              "      <td>1.0</td>\n",
              "      <td>1.000000</td>\n",
              "      <td>0.375</td>\n",
              "    </tr>\n",
              "    <tr>\n",
              "      <th>2</th>\n",
              "      <td>not exceptional</td>\n",
              "      <td>catch up with friends</td>\n",
              "      <td>1.000000</td>\n",
              "      <td>0.0</td>\n",
              "      <td>-0.333333</td>\n",
              "      <td>0.000</td>\n",
              "    </tr>\n",
              "    <tr>\n",
              "      <th>3</th>\n",
              "      <td>no comment</td>\n",
              "      <td>no comment</td>\n",
              "      <td>0.000000</td>\n",
              "      <td>0.0</td>\n",
              "      <td>0.000000</td>\n",
              "      <td>0.000</td>\n",
              "    </tr>\n",
              "    <tr>\n",
              "      <th>4</th>\n",
              "      <td>nice building but improvements need to be...</td>\n",
              "      <td>best place to try a bavarian food</td>\n",
              "      <td>1.000000</td>\n",
              "      <td>0.3</td>\n",
              "      <td>0.600000</td>\n",
              "      <td>1.000</td>\n",
              "    </tr>\n",
              "    <tr>\n",
              "      <th>...</th>\n",
              "      <td>...</td>\n",
              "      <td>...</td>\n",
              "      <td>...</td>\n",
              "      <td>...</td>\n",
              "      <td>...</td>\n",
              "      <td>...</td>\n",
              "    </tr>\n",
              "    <tr>\n",
              "      <th>39995</th>\n",
              "      <td>wonderful food, wonderful experience</td>\n",
              "      <td>the real italian experience!</td>\n",
              "      <td>1.000000</td>\n",
              "      <td>0.0</td>\n",
              "      <td>1.000000</td>\n",
              "      <td>0.000</td>\n",
              "    </tr>\n",
              "    <tr>\n",
              "      <th>39996</th>\n",
              "      <td>bit pricey but interesting decor and good...</td>\n",
              "      <td>parisian atmosphere</td>\n",
              "      <td>0.550000</td>\n",
              "      <td>0.0</td>\n",
              "      <td>0.600000</td>\n",
              "      <td>0.000</td>\n",
              "    </tr>\n",
              "    <tr>\n",
              "      <th>39997</th>\n",
              "      <td>a hidden jewel in the middle of västertorp...</td>\n",
              "      <td>good by swedish standards</td>\n",
              "      <td>0.166667</td>\n",
              "      <td>0.6</td>\n",
              "      <td>-0.083333</td>\n",
              "      <td>0.700</td>\n",
              "    </tr>\n",
              "    <tr>\n",
              "      <th>39998</th>\n",
              "      <td>oldest restaurant in warsaw</td>\n",
              "      <td>underground restaurant</td>\n",
              "      <td>0.000000</td>\n",
              "      <td>0.0</td>\n",
              "      <td>0.000000</td>\n",
              "      <td>0.000</td>\n",
              "    </tr>\n",
              "    <tr>\n",
              "      <th>39999</th>\n",
              "      <td>nice an informal</td>\n",
              "      <td>average</td>\n",
              "      <td>1.000000</td>\n",
              "      <td>0.4</td>\n",
              "      <td>0.600000</td>\n",
              "      <td>-0.150</td>\n",
              "    </tr>\n",
              "  </tbody>\n",
              "</table>\n",
              "<p>40000 rows × 6 columns</p>\n",
              "</div>"
            ],
            "text/plain": [
              "                                        first_review  \\\n",
              "0                            a good hotel restaurant   \n",
              "1                            delicious nepalese food   \n",
              "2                                    not exceptional   \n",
              "3                                         no comment   \n",
              "4       nice building but improvements need to be...   \n",
              "...                                              ...   \n",
              "39995           wonderful food, wonderful experience   \n",
              "39996   bit pricey but interesting decor and good...   \n",
              "39997  a hidden jewel in the middle of västertorp...   \n",
              "39998                    oldest restaurant in warsaw   \n",
              "39999                               nice an informal   \n",
              "\n",
              "                             last_review  subjectivity_fst  subjectivity_snd  \\\n",
              "0             good food at your doorstep          0.600000               0.6   \n",
              "1                         unique cuisine          1.000000               1.0   \n",
              "2                  catch up with friends          1.000000               0.0   \n",
              "3                             no comment          0.000000               0.0   \n",
              "4      best place to try a bavarian food          1.000000               0.3   \n",
              "...                                  ...               ...               ...   \n",
              "39995       the real italian experience!          1.000000               0.0   \n",
              "39996                parisian atmosphere          0.550000               0.0   \n",
              "39997          good by swedish standards          0.166667               0.6   \n",
              "39998             underground restaurant          0.000000               0.0   \n",
              "39999                            average          1.000000               0.4   \n",
              "\n",
              "       polarity_fst  polarity_snd  \n",
              "0          0.700000         0.700  \n",
              "1          1.000000         0.375  \n",
              "2         -0.333333         0.000  \n",
              "3          0.000000         0.000  \n",
              "4          0.600000         1.000  \n",
              "...             ...           ...  \n",
              "39995      1.000000         0.000  \n",
              "39996      0.600000         0.000  \n",
              "39997     -0.083333         0.700  \n",
              "39998      0.000000         0.000  \n",
              "39999      0.600000        -0.150  \n",
              "\n",
              "[40000 rows x 6 columns]"
            ]
          },
          "metadata": {
            "tags": []
          },
          "execution_count": 50
        }
      ]
    },
    {
      "cell_type": "markdown",
      "metadata": {
        "id": "K6fmyfZZgl2c"
      },
      "source": [
        "Let's see to most frequent words"
      ]
    },
    {
      "cell_type": "code",
      "metadata": {
        "colab": {
          "base_uri": "https://localhost:8080/",
          "height": 232
        },
        "id": "oFUTrS0QcoHu",
        "outputId": "cb55e6ed-c16b-4098-f84b-9ffc47189aab"
      },
      "source": [
        "# Plot Word Cloud\r\n",
        "all_words_1 = ' '.join( [reviews for reviews in df_sentiment['first_review'] if reviews != 'no comment'] )\r\n",
        "all_words_2 = ' '.join( [reviews for reviews in df_sentiment['last_review'] if reviews != 'no comment'] )\r\n",
        "all_words = all_words_1 +all_words_2\r\n",
        "wordCloud = WordCloud(width = 500,height = 300, random_state = 21,max_font_size = 119).generate(all_words)\r\n",
        "\r\n",
        "plt.imshow(wordCloud,interpolation = 'bilinear')\r\n",
        "plt.axis('off')\r\n",
        "plt.show()"
      ],
      "execution_count": 52,
      "outputs": [
        {
          "output_type": "display_data",
          "data": {
            "image/png": "[encoded data removed]",
            "text/plain": [
              "<Figure size 432x288 with 1 Axes>"
            ]
          },
          "metadata": {
            "tags": [],
            "needs_background": "light"
          }
        }
      ]
    },
    {
      "cell_type": "markdown",
      "metadata": {
        "id": "X3S_YhrQg9If"
      },
      "source": [
        "As we may see, the most frequent words are 'Nice, good', 'food' etc. So people tend to remain more positive reviews and oftenly mention 'food'"
      ]
    },
    {
      "cell_type": "markdown",
      "metadata": {
        "id": "PVz6r00HkIue"
      },
      "source": [
        "Let's create a new column where we identify the sentiment itself"
      ]
    },
    {
      "cell_type": "code",
      "metadata": {
        "id": "nrCrq9OocoKj"
      },
      "source": [
        "# Create a function to compute the negative, neutral and positive analysis\r\n",
        "\r\n",
        "def get_analysis(score):\r\n",
        "  if score <0:\r\n",
        "    return 'negative'\r\n",
        "  elif score == 0:\r\n",
        "    return 'neutral'\r\n",
        "  else:\r\n",
        "    return 'positive'"
      ],
      "execution_count": 54,
      "outputs": []
    },
    {
      "cell_type": "code",
      "metadata": {
        "colab": {
          "base_uri": "https://localhost:8080/",
          "height": 204
        },
        "id": "qgbfnfp6hmOM",
        "outputId": "c0449e24-9feb-4e8d-92e1-6c164e1900b0"
      },
      "source": [
        "df_sentiment['analysis_fst'] = df_sentiment['polarity_fst'].apply(get_analysis)\r\n",
        "df_sentiment['analysis_snd'] = df_sentiment['polarity_snd'].apply(get_analysis)\r\n",
        "df_sentiment.head()"
      ],
      "execution_count": 57,
      "outputs": [
        {
          "output_type": "execute_result",
          "data": {
            "text/html": [
              "<div>\n",
              "<style scoped>\n",
              "    .dataframe tbody tr th:only-of-type {\n",
              "        vertical-align: middle;\n",
              "    }\n",
              "\n",
              "    .dataframe tbody tr th {\n",
              "        vertical-align: top;\n",
              "    }\n",
              "\n",
              "    .dataframe thead th {\n",
              "        text-align: right;\n",
              "    }\n",
              "</style>\n",
              "<table border=\"1\" class=\"dataframe\">\n",
              "  <thead>\n",
              "    <tr style=\"text-align: right;\">\n",
              "      <th></th>\n",
              "      <th>first_review</th>\n",
              "      <th>last_review</th>\n",
              "      <th>subjectivity_fst</th>\n",
              "      <th>subjectivity_snd</th>\n",
              "      <th>polarity_fst</th>\n",
              "      <th>polarity_snd</th>\n",
              "      <th>analysis_fst</th>\n",
              "      <th>analysis_snd</th>\n",
              "    </tr>\n",
              "  </thead>\n",
              "  <tbody>\n",
              "    <tr>\n",
              "      <th>0</th>\n",
              "      <td>a good hotel restaurant</td>\n",
              "      <td>good food at your doorstep</td>\n",
              "      <td>0.6</td>\n",
              "      <td>0.6</td>\n",
              "      <td>0.700000</td>\n",
              "      <td>0.700</td>\n",
              "      <td>positive</td>\n",
              "      <td>positive</td>\n",
              "    </tr>\n",
              "    <tr>\n",
              "      <th>1</th>\n",
              "      <td>delicious nepalese food</td>\n",
              "      <td>unique cuisine</td>\n",
              "      <td>1.0</td>\n",
              "      <td>1.0</td>\n",
              "      <td>1.000000</td>\n",
              "      <td>0.375</td>\n",
              "      <td>positive</td>\n",
              "      <td>positive</td>\n",
              "    </tr>\n",
              "    <tr>\n",
              "      <th>2</th>\n",
              "      <td>not exceptional</td>\n",
              "      <td>catch up with friends</td>\n",
              "      <td>1.0</td>\n",
              "      <td>0.0</td>\n",
              "      <td>-0.333333</td>\n",
              "      <td>0.000</td>\n",
              "      <td>negative</td>\n",
              "      <td>neutral</td>\n",
              "    </tr>\n",
              "    <tr>\n",
              "      <th>3</th>\n",
              "      <td>no comment</td>\n",
              "      <td>no comment</td>\n",
              "      <td>0.0</td>\n",
              "      <td>0.0</td>\n",
              "      <td>0.000000</td>\n",
              "      <td>0.000</td>\n",
              "      <td>neutral</td>\n",
              "      <td>neutral</td>\n",
              "    </tr>\n",
              "    <tr>\n",
              "      <th>4</th>\n",
              "      <td>nice building but improvements need to be...</td>\n",
              "      <td>best place to try a bavarian food</td>\n",
              "      <td>1.0</td>\n",
              "      <td>0.3</td>\n",
              "      <td>0.600000</td>\n",
              "      <td>1.000</td>\n",
              "      <td>positive</td>\n",
              "      <td>positive</td>\n",
              "    </tr>\n",
              "  </tbody>\n",
              "</table>\n",
              "</div>"
            ],
            "text/plain": [
              "                                   first_review  \\\n",
              "0                       a good hotel restaurant   \n",
              "1                       delicious nepalese food   \n",
              "2                               not exceptional   \n",
              "3                                    no comment   \n",
              "4  nice building but improvements need to be...   \n",
              "\n",
              "                         last_review  subjectivity_fst  subjectivity_snd  \\\n",
              "0         good food at your doorstep               0.6               0.6   \n",
              "1                     unique cuisine               1.0               1.0   \n",
              "2              catch up with friends               1.0               0.0   \n",
              "3                         no comment               0.0               0.0   \n",
              "4  best place to try a bavarian food               1.0               0.3   \n",
              "\n",
              "   polarity_fst  polarity_snd analysis_fst analysis_snd  \n",
              "0      0.700000         0.700     positive     positive  \n",
              "1      1.000000         0.375     positive     positive  \n",
              "2     -0.333333         0.000     negative      neutral  \n",
              "3      0.000000         0.000      neutral      neutral  \n",
              "4      0.600000         1.000     positive     positive  "
            ]
          },
          "metadata": {
            "tags": []
          },
          "execution_count": 57
        }
      ]
    },
    {
      "cell_type": "code",
      "metadata": {
        "id": "ygTx-ys9hmRP"
      },
      "source": [
        "# # Print all of the positive reviews\r\n",
        "\r\n",
        "# j=1\r\n",
        "# sortedDF_1 = df_sentiment.sort_values(by='polarity_1')\r\n",
        "# for i in range(0,sortedDF_1.shape[0]):\r\n",
        "#   if (sortedDF_1['analysis_1'][i] == 'positive'):\r\n",
        "#     print(str(j)+ ')' +sortedDF_1['review_1'][i])\r\n",
        "#     print()\r\n",
        "#     j += 1"
      ],
      "execution_count": 58,
      "outputs": []
    },
    {
      "cell_type": "markdown",
      "metadata": {
        "id": "rw8krgQMiwQg"
      },
      "source": [
        "Let's check how many positive feedback we have and how they changed"
      ]
    },
    {
      "cell_type": "code",
      "metadata": {
        "colab": {
          "base_uri": "https://localhost:8080/"
        },
        "id": "EoQmYuj-hmUE",
        "outputId": "bee115a4-df05-41cc-b8a1-05f84c7671e2"
      },
      "source": [
        "# Get the percentage of positive reviews\r\n",
        "p_rev = df_sentiment[df_sentiment['analysis_fst']=='positive']\r\n",
        "p_rev = p_rev['first_review']\r\n",
        "round((p_rev.shape[0] / df_sentiment.shape[0])*100, 1)"
      ],
      "execution_count": 60,
      "outputs": [
        {
          "output_type": "execute_result",
          "data": {
            "text/plain": [
              "49.4"
            ]
          },
          "metadata": {
            "tags": []
          },
          "execution_count": 60
        }
      ]
    },
    {
      "cell_type": "code",
      "metadata": {
        "colab": {
          "base_uri": "https://localhost:8080/"
        },
        "id": "c-M20Lo-hmW9",
        "outputId": "7c466f55-e771-4e0b-a78c-c9f80fc12548"
      },
      "source": [
        "# Get the percentage of positive reviews\r\n",
        "p_rev = df_sentiment[df_sentiment['analysis_snd']=='positive']\r\n",
        "p_rev = p_rev['last_review']\r\n",
        "round((p_rev.shape[0] / df_sentiment.shape[0])*100, 1)"
      ],
      "execution_count": 61,
      "outputs": [
        {
          "output_type": "execute_result",
          "data": {
            "text/plain": [
              "57.5"
            ]
          },
          "metadata": {
            "tags": []
          },
          "execution_count": 61
        }
      ]
    },
    {
      "cell_type": "markdown",
      "metadata": {
        "id": "c1YKCzIei4p_"
      },
      "source": [
        "Well, we have increased positive feedbacks since the first review placed on the website and the last review. Interesting why?"
      ]
    },
    {
      "cell_type": "markdown",
      "metadata": {
        "id": "AFJgcc8JjiFz"
      },
      "source": [
        "Let's check how many negative feedback we have and how they changed"
      ]
    },
    {
      "cell_type": "code",
      "metadata": {
        "colab": {
          "base_uri": "https://localhost:8080/"
        },
        "id": "iZXTCniFhme4",
        "outputId": "241c2764-d76f-48f3-9c59-e6c61e965f56"
      },
      "source": [
        "# Get the percentage of negative reviews\r\n",
        "p_rev = df_sentiment[df_sentiment['analysis_fst']=='negative']\r\n",
        "p_rev = p_rev['first_review']\r\n",
        "round((p_rev.shape[0] / df_sentiment.shape[0])*100, 1)"
      ],
      "execution_count": 62,
      "outputs": [
        {
          "output_type": "execute_result",
          "data": {
            "text/plain": [
              "6.3"
            ]
          },
          "metadata": {
            "tags": []
          },
          "execution_count": 62
        }
      ]
    },
    {
      "cell_type": "code",
      "metadata": {
        "colab": {
          "base_uri": "https://localhost:8080/"
        },
        "id": "urSZb4dYhmhl",
        "outputId": "86d23b0a-6d77-4454-b84a-538a90758826"
      },
      "source": [
        "# Get the percentage of negative reviews\r\n",
        "p_rev = df_sentiment[df_sentiment['analysis_snd']=='negative']\r\n",
        "p_rev = p_rev['last_review']\r\n",
        "round((p_rev.shape[0] / df_sentiment.shape[0])*100, 1)"
      ],
      "execution_count": 63,
      "outputs": [
        {
          "output_type": "execute_result",
          "data": {
            "text/plain": [
              "7.1"
            ]
          },
          "metadata": {
            "tags": []
          },
          "execution_count": 63
        }
      ]
    },
    {
      "cell_type": "markdown",
      "metadata": {
        "id": "6ZRkImVYj5RW"
      },
      "source": [
        "Same thing in negative feedback but not so significant"
      ]
    },
    {
      "cell_type": "markdown",
      "metadata": {
        "id": "u-PK_fxdkVVW"
      },
      "source": [
        "Let's see onto distribution of negative and positive feedbacks"
      ]
    },
    {
      "cell_type": "code",
      "metadata": {
        "colab": {
          "base_uri": "https://localhost:8080/",
          "height": 401
        },
        "id": "XIArFCzhkbeV",
        "outputId": "5fa95651-6728-46b0-a342-94b237233aef"
      },
      "source": [
        "# plot and visualize\r\n",
        "\r\n",
        "plt.title('Sentiment Analysis 0f first comments')\r\n",
        "plt.xlabel('Sentiment')\r\n",
        "plt.ylabel('Counts')\r\n",
        "df_sentiment['analysis_fst'].value_counts().plot(kind='bar')\r\n",
        "plt.show()\r\n",
        "\r\n",
        "# show the value counts\r\n",
        "\r\n",
        "df_sentiment['analysis_fst'].value_counts()"
      ],
      "execution_count": 68,
      "outputs": [
        {
          "output_type": "display_data",
          "data": {
            "image/png": "[encoded data removed]",
            "text/plain": [
              "<Figure size 432x288 with 1 Axes>"
            ]
          },
          "metadata": {
            "tags": [],
            "needs_background": "light"
          }
        },
        {
          "output_type": "execute_result",
          "data": {
            "text/plain": [
              "positive    19760\n",
              "neutral     17703\n",
              "negative     2537\n",
              "Name: analysis_fst, dtype: int64"
            ]
          },
          "metadata": {
            "tags": []
          },
          "execution_count": 68
        }
      ]
    },
    {
      "cell_type": "code",
      "metadata": {
        "colab": {
          "base_uri": "https://localhost:8080/",
          "height": 401
        },
        "id": "lWAOWUN8kmeG",
        "outputId": "12843478-ee0c-4e60-adc7-1d69e60bfa6f"
      },
      "source": [
        "# plot and visualize\r\n",
        "\r\n",
        "plt.title('Sentiment Analysis 0f lastt comments')\r\n",
        "plt.xlabel('Sentiment')\r\n",
        "plt.ylabel('Counts')\r\n",
        "df_sentiment['analysis_snd'].value_counts().plot(kind='bar')\r\n",
        "plt.show()\r\n",
        "\r\n",
        "# show the value counts\r\n",
        "\r\n",
        "df_sentiment['analysis_snd'].value_counts()"
      ],
      "execution_count": 67,
      "outputs": [
        {
          "output_type": "display_data",
          "data": {
            "image/png": "[encoded data removed]",
            "text/plain": [
              "<Figure size 432x288 with 1 Axes>"
            ]
          },
          "metadata": {
            "tags": [],
            "needs_background": "light"
          }
        },
        {
          "output_type": "execute_result",
          "data": {
            "text/plain": [
              "positive    23018\n",
              "neutral     14143\n",
              "negative     2839\n",
              "Name: analysis_snd, dtype: int64"
            ]
          },
          "metadata": {
            "tags": []
          },
          "execution_count": 67
        }
      ]
    },
    {
      "cell_type": "markdown",
      "metadata": {
        "id": "fLQL5JDKlHes"
      },
      "source": [
        "As we may see, mnore or less it is same. We also note that we can't to refer into a neutral comments because we replaced the missing values with 'No comments' and it gives us neutral sentiment"
      ]
    },
    {
      "cell_type": "markdown",
      "metadata": {
        "id": "lQaqZQWRkNuO"
      },
      "source": [
        ""
      ]
    },
    {
      "cell_type": "code",
      "metadata": {
        "id": "rmVMEfckcoRx"
      },
      "source": [
        "# Create a function to compute the negative, neutral and positive analysis\r\n",
        "\r\n",
        "def get_analysis(score):\r\n",
        "  if score <0:\r\n",
        "    return 'negative'\r\n",
        "  elif score == 0:\r\n",
        "    return 'neutral'\r\n",
        "  else:\r\n",
        "    return 'positive'"
      ],
      "execution_count": null,
      "outputs": []
    },
    {
      "cell_type": "code",
      "metadata": {
        "id": "JubEhjgWcoU5"
      },
      "source": [
        ""
      ],
      "execution_count": null,
      "outputs": []
    },
    {
      "cell_type": "code",
      "metadata": {
        "id": "74_LsLsSgPgR"
      },
      "source": [
        ""
      ],
      "execution_count": 33,
      "outputs": []
    },
    {
      "cell_type": "code",
      "metadata": {
        "id": "ue9P1OTZgPgR"
      },
      "source": [
        ""
      ],
      "execution_count": 24,
      "outputs": []
    },
    {
      "cell_type": "code",
      "metadata": {
        "id": "TFArP7F3gPgR"
      },
      "source": [
        "lx = re.compile('\\[\\[.*\\]\\]')\n",
        "hui = list()\n",
        "for x in df['reviews']:\n",
        "    if type(x) == str and lx.fullmatch(x):\n",
        "        hui.append(x)\n"
      ],
      "execution_count": 25,
      "outputs": []
    },
    {
      "cell_type": "markdown",
      "metadata": {
        "id": "_FkdOR_ggPgR"
      },
      "source": [
        "## 3. Feature Engineering and tidy dataset up"
      ]
    },
    {
      "cell_type": "markdown",
      "metadata": {
        "id": "s_PDaQ5qgPgS"
      },
      "source": [
        "### 3.1 Restaurant_Id column"
      ]
    },
    {
      "cell_type": "markdown",
      "metadata": {
        "id": "8ISlVL0DgPgS"
      },
      "source": [
        "With a reference to EDA provided in Section 2, we may add one additional column which depict, whether the restaurant belongs to chain or not."
      ]
    },
    {
      "cell_type": "code",
      "metadata": {
        "colab": {
          "base_uri": "https://localhost:8080/"
        },
        "id": "5NPFWo_BgPgS",
        "outputId": "5cc16e05-c726-4954-c311-c17a41ecdf84"
      },
      "source": [
        "# Create a list with restaurants which might be in chain\n",
        "\n",
        "chained_rest_list = list(df['restaurant_id'].value_counts()[\n",
        "    df['restaurant_id'].value_counts() > 1].index)\n",
        "\n",
        "# If it is in chain, we add in a new column the identificator '1', otherwise '0'\n",
        "df['chained_rest'] = df[df['restaurant_id'].isin(\n",
        "    chained_rest_list)].restaurant_id.apply(lambda x: 1)\n",
        "df['chained_rest'] = df['chained_rest'].fillna(0)\n",
        "\n",
        "# Check\n",
        "df['chained_rest'].value_counts()"
      ],
      "execution_count": 25,
      "outputs": [
        {
          "output_type": "execute_result",
          "data": {
            "text/plain": [
              "1.0    35295\n",
              "0.0     4705\n",
              "Name: chained_rest, dtype: int64"
            ]
          },
          "metadata": {
            "tags": []
          },
          "execution_count": 25
        }
      ]
    },
    {
      "cell_type": "markdown",
      "metadata": {
        "id": "tQNb0Pq9gPgS"
      },
      "source": [
        "### 3.2 City column"
      ]
    },
    {
      "cell_type": "markdown",
      "metadata": {
        "id": "58j64KOHgPgS"
      },
      "source": [
        "Reduce the quantity of presented cities. Substitute rare cities by 'other'.\n",
        "\n",
        "Fix name Oporto"
      ]
    },
    {
      "cell_type": "code",
      "metadata": {
        "id": "6VxDhDj4gPgS"
      },
      "source": [
        "# Fix Oporto\n",
        "df['city'] = df['city'].replace(['Oporto'], 'Porto')"
      ],
      "execution_count": 26,
      "outputs": []
    },
    {
      "cell_type": "markdown",
      "metadata": {
        "id": "OJ74GdwPgPgT"
      },
      "source": [
        "# !!! It works. Add or remove depend on MAE !!!"
      ]
    },
    {
      "cell_type": "code",
      "metadata": {
        "id": "lX0wYylTgPgT"
      },
      "source": [
        "# Top cities\n",
        "\n",
        "all_cities = df['city'].value_counts().index\n",
        "\n",
        "# # Create a top Cites list (more than 20% in Dataset)\n",
        "# top_cities_list = df['city'].value_counts()[\n",
        "#     df['city'].value_counts() > np.percentile((df['city'].value_counts().values), 20)].index.tolist()\n",
        "\n",
        "# cities_to_drop = list(set(all_cities)-set(top_cities_list))\n",
        "# df.loc[df['city'].isin(cities_to_drop),'city'] = 'Other'\n",
        "\n",
        "\n",
        "\n",
        "\n",
        "# # If City is TOP, we add in new column the identificator '1', otherwise '0'\n",
        "# df['top_city'] = df[df['city'].isin(\n",
        "#     top_cities_list)].city.apply(lambda x: 1)\n",
        "# df['top_city'] = df['top_city'].fillna(0)"
      ],
      "execution_count": 27,
      "outputs": []
    },
    {
      "cell_type": "markdown",
      "metadata": {
        "id": "63vopdH-gPgT"
      },
      "source": [
        "Let's add a column with information about whether the Restaraunt in a capital or not"
      ]
    },
    {
      "cell_type": "code",
      "metadata": {
        "id": "R4K8w5A-gPgT"
      },
      "source": [
        "# Cos we don't have too many cities, let's create a dict where mention whethere the city is a capital\n",
        "capital = [True, True, True, False, True, False, True, \n",
        "           True, True, True, True, True, False, False, \n",
        "           False, True, True, True, True, True, True, \n",
        "           True, False, False, False, False, True, \n",
        "           True, True, True, True]\n",
        "\n",
        "capital_dict = dict(zip(list(all_cities), capital))"
      ],
      "execution_count": 28,
      "outputs": []
    },
    {
      "cell_type": "code",
      "metadata": {
        "id": "FQ6MZHOXgPgT"
      },
      "source": [
        "df['capital'] = df['city'].map(capital_dict)"
      ],
      "execution_count": 29,
      "outputs": []
    },
    {
      "cell_type": "markdown",
      "metadata": {
        "id": "-2uqwGlCgPgT"
      },
      "source": [
        "Encode the city Name"
      ]
    },
    {
      "cell_type": "code",
      "metadata": {
        "id": "RPXu7Z6RgPgU"
      },
      "source": [
        "# Code here"
      ],
      "execution_count": 31,
      "outputs": []
    },
    {
      "cell_type": "markdown",
      "metadata": {
        "id": "W17OlbymgPgU"
      },
      "source": [
        "Add population and add information to what country the city belongs"
      ]
    },
    {
      "cell_type": "code",
      "metadata": {
        "id": "-w2e9W2qgPgU"
      },
      "source": [
        "city_population = {\n",
        "    'London': 8787892,\n",
        "    'Paris': 2187526,\n",
        "    'Madrid': 3300000,\n",
        "    'Barcelona': 1593075,\n",
        "    'Berlin': 3726902,\n",
        "    'Milan': 1331586,\n",
        "    'Rome': 2860000,\n",
        "    'Prague': 1300000,\n",
        "    'Lisbon': 505526,\n",
        "    'Vienna': 1900000,\n",
        "    'Amsterdam': 872080,\n",
        "    'Brussels': 144784,\n",
        "    'Hamburg': 1840000,\n",
        "    'Munich': 1558395,\n",
        "    'Lyon': 506615,\n",
        "    'Stockholm': 975904,\n",
        "    'Budapest': 1752286,\n",
        "    'Warsaw': 1720398,\n",
        "    'Dublin': 1793579 ,\n",
        "    'Copenhagen': 1330993,\n",
        "    'Athens': 3090508,\n",
        "    'Edinburgh': 476100,\n",
        "    'Zurich': 402275,\n",
        "    'Porto': 237559,\n",
        "    'Geneva': 196150,\n",
        "    'Krakow': 779115,\n",
        "    'Oslo': 697549,\n",
        "    'Helsinki':  656229,\n",
        "    'Bratislava': 563682,\n",
        "    'Luxembourg': 626108,\n",
        "    'Ljubljana': 295504\n",
        "}"
      ],
      "execution_count": 30,
      "outputs": []
    },
    {
      "cell_type": "markdown",
      "metadata": {
        "id": "9quWleQIgPgU"
      },
      "source": [
        "--- "
      ]
    },
    {
      "cell_type": "code",
      "metadata": {
        "id": "259v0E7FgPgU"
      },
      "source": [
        "city_country = {\n",
        "    'London': 'United Kingdom',\n",
        "    'Paris': 'France',\n",
        "    'Madrid': 'Spain',\n",
        "    'Barcelona': 'Spain',\n",
        "    'Berlin': 'Germany',\n",
        "    'Milan': 'Italy',\n",
        "    'Rome': 'Italy',\n",
        "    'Prague': 'Czech',\n",
        "    'Lisbon': 'Portugal',\n",
        "    'Vienna': 'Austria',\n",
        "    'Amsterdam': 'Netherlands',\n",
        "    'Brussels': 'Belgium',\n",
        "    'Hamburg': 'Germany',\n",
        "    'Munich': 'Germany',\n",
        "    'Lyon': 'France',\n",
        "    'Stockholm': 'Sweden',\n",
        "    'Budapest': 'Hungary',\n",
        "    'Warsaw': 'Poland',\n",
        "    'Dublin': 'Ireland' ,\n",
        "    'Copenhagen': 'Denmark',\n",
        "    'Athens': 'Greece',\n",
        "    'Edinburgh': 'Schotland',\n",
        "    'Zurich': 'Switzerland',\n",
        "    'Porto': 'Portugal',\n",
        "    'Geneva': 'Switzerland',\n",
        "    'Krakow': 'Poland',\n",
        "    'Oslo': 'Norway',\n",
        "    'Helsinki': 'Finland',\n",
        "    'Bratislava': 'Slovakia',\n",
        "    'Luxembourg': 'Luxembourg',\n",
        "    'Ljubljana': 'Slovenija'\n",
        "}"
      ],
      "execution_count": 31,
      "outputs": []
    },
    {
      "cell_type": "code",
      "metadata": {
        "id": "QBXQRNBQgPgU"
      },
      "source": [
        "df['city_population'] = df['city'].map(city_population)\n",
        "df['country'] = df['city'].map(city_country)"
      ],
      "execution_count": 32,
      "outputs": []
    },
    {
      "cell_type": "markdown",
      "metadata": {
        "id": "N9POMko0gPgV"
      },
      "source": [
        "!!! Add Rank of city if can !!!"
      ]
    },
    {
      "cell_type": "markdown",
      "metadata": {
        "id": "YpjuaCAKgPgV"
      },
      "source": [
        "!!! Ad LEVEL OF LIFE !!!"
      ]
    },
    {
      "cell_type": "code",
      "metadata": {
        "id": "NI-ngsfGgPgV"
      },
      "source": [
        ""
      ],
      "execution_count": 34,
      "outputs": []
    },
    {
      "cell_type": "markdown",
      "metadata": {
        "id": "uiHF2l6DgPgV"
      },
      "source": [
        "### 3.3 Cuisine_style column"
      ]
    },
    {
      "cell_type": "markdown",
      "metadata": {
        "id": "lhTS-5SBgPgV"
      },
      "source": [
        "Let's add new feature - quantity of quisins in a restaurant"
      ]
    },
    {
      "cell_type": "code",
      "metadata": {
        "id": "wzAkHI74gPgV"
      },
      "source": [
        "df['cuisine_count'] = df['cuisine_style'].apply(lambda x:len(x))"
      ],
      "execution_count": 33,
      "outputs": []
    },
    {
      "cell_type": "markdown",
      "metadata": {
        "id": "7dUz7EWjgPgW"
      },
      "source": [
        "Add one more feature which tells that restaurant has in its set rare cuisine.\n",
        "\n",
        "Assume rare value if it is met in dataset les than 50 times"
      ]
    },
    {
      "cell_type": "code",
      "metadata": {
        "id": "DuLPSSzFgPgW"
      },
      "source": [
        "cuisine_rare_lst = df.explode('cuisine_style')['cuisine_style'].value_counts()[\n",
        "    df.explode('cuisine_style')['cuisine_style'].value_counts() < 50].index.tolist()"
      ],
      "execution_count": 34,
      "outputs": []
    },
    {
      "cell_type": "code",
      "metadata": {
        "id": "ONrzuHUWgPgW"
      },
      "source": [
        "def get_cuisine_rare(row):\n",
        "    \n",
        "    '''Function called for creating a number of\n",
        "    rare cuisins\n",
        "    INPUT: A cell from dataset\n",
        "    OUTPUT: Number of rare cuisins'''\n",
        "    \n",
        "    number = 0\n",
        "    for i in cuisine_rare_lst:\n",
        "        if i in row:\n",
        "            number += 1\n",
        "    return number"
      ],
      "execution_count": 35,
      "outputs": []
    },
    {
      "cell_type": "code",
      "metadata": {
        "id": "4tKNHkUEgPgW"
      },
      "source": [
        "df['rare_cuisine'] = df['cuisine_style'].apply(get_cuisine_rare)"
      ],
      "execution_count": 36,
      "outputs": []
    },
    {
      "cell_type": "markdown",
      "metadata": {
        "id": "zvW9ny4BgPgW"
      },
      "source": [
        "Is it important to know, whether the cuisine belongs to the region where it is comes from?\n",
        "\n",
        "Lets add this feature"
      ]
    },
    {
      "cell_type": "code",
      "metadata": {
        "id": "kJNKB6degPgX"
      },
      "source": [
        "# Create a global variable (dict) with cuisines and related region of it\n",
        "# I don't know how to use NLP for this case, so this work need to be done by hands :(\n",
        "\n",
        "cuisine_region = {\n",
        "    'France': ['French','Central European'],\n",
        "    'Sweden':['Swedish','Scandinavian'],\n",
        "    'United Kingdom':['British'],\n",
        "    'Germany':['German','Central European'],\n",
        "    'Italy':['Pizza','Italian'],\n",
        "    'Slovakia':['Eastern European'],\n",
        "    'Austria':['Austrian'],\n",
        "    'Spain':['Spanish'],\n",
        "    'Ireland':['Irish'],\n",
        "    'Belgium':['Belgian'],\n",
        "    'Switzerland':['Swiss'],\n",
        "    'Poland':['Polish','Ukrainian'],\n",
        "    'Hungary':['Hungarian'],\n",
        "    'Denmark':['Scandinavian'],\n",
        "    'Netherlands':['Dutch'],\n",
        "    'Portugal':['Portuguese'],\n",
        "    'Czech':['Czech'],\n",
        "    'Norway':['Norwegian','Scandinavian'],\n",
        "    'Finland':['Central European'],\n",
        "    'Schotland':['Scottish'],\n",
        "    'Slovenija':['Slovenian'],\n",
        "    'Greece':['Greek'],\n",
        "    'Luxembourg':['Central European']\n",
        "}\n"
      ],
      "execution_count": 37,
      "outputs": []
    },
    {
      "cell_type": "code",
      "metadata": {
        "id": "shVV_CS0gPgX"
      },
      "source": [
        "def get_local_cuisine (row):\n",
        "    \n",
        "    '''Function called for identifying\n",
        "    whether restaurant includes local\n",
        "    cuisine or not\n",
        "    INPUT: A cell from dataset\n",
        "    OUTPUT: 1 - if includes\n",
        "            0 - if does not include'''\n",
        "    \n",
        "    local_cuis = cuisine_region[row['country']]\n",
        "    for i in local_cuis:\n",
        "        if i in row['cuisine_style'] and i !='':\n",
        "            return 1\n",
        "    return 0"
      ],
      "execution_count": 38,
      "outputs": []
    },
    {
      "cell_type": "code",
      "metadata": {
        "id": "eHl2u7wcgPgX"
      },
      "source": [
        "df['local_cuisine'] = df.apply(get_local_cuisine,axis = 1)"
      ],
      "execution_count": 39,
      "outputs": []
    },
    {
      "cell_type": "code",
      "metadata": {
        "colab": {
          "base_uri": "https://localhost:8080/"
        },
        "id": "F_xXgOc9gPgY",
        "outputId": "5b0c75df-8195-4c84-94a8-217e45e9cd48"
      },
      "source": [
        "df['local_cuisine'].value_counts()"
      ],
      "execution_count": 40,
      "outputs": [
        {
          "output_type": "execute_result",
          "data": {
            "text/plain": [
              "0    26555\n",
              "1    13445\n",
              "Name: local_cuisine, dtype: int64"
            ]
          },
          "metadata": {
            "tags": []
          },
          "execution_count": 40
        }
      ]
    },
    {
      "cell_type": "markdown",
      "metadata": {
        "id": "-gjxo5KPgPgY"
      },
      "source": [
        "With a reference to our EDA, we noticed that the Vegan and Gluten Free Options are very likely to be reviewed by the customers. Let's add the feature, whether restaurant includes a vegan food."
      ]
    },
    {
      "cell_type": "code",
      "metadata": {
        "id": "p19iJnYcgPgY"
      },
      "source": [
        "def get_vegan(row):\n",
        "    vegan_cuis = ['Vegetarian Friendly', 'Vegan Options',\n",
        "                  'Gluten Free Options', 'Healthy', ]\n",
        "    for i in vegan_cuis:\n",
        "        if i in row['cuisine_style'] and i != '':\n",
        "            return 1\n",
        "    return 0"
      ],
      "execution_count": 41,
      "outputs": []
    },
    {
      "cell_type": "code",
      "metadata": {
        "id": "yLbn4UaWgPgY"
      },
      "source": [
        "df['vegan_include'] = df.apply(get_vegan,axis = 1)"
      ],
      "execution_count": 44,
      "outputs": []
    },
    {
      "cell_type": "markdown",
      "metadata": {
        "id": "ocvIrVuPgPgZ"
      },
      "source": [
        "### 3.4 Ranking column"
      ]
    },
    {
      "cell_type": "markdown",
      "metadata": {
        "id": "1G2akcF5gPgZ"
      },
      "source": [
        "With a reference to EDA section 2.5 let's create a column with equivalent ranking"
      ]
    },
    {
      "cell_type": "markdown",
      "metadata": {
        "id": "EDgTDT2kgPgZ"
      },
      "source": [
        "Step 1: Create a total number of a restaurants in a single city"
      ]
    },
    {
      "cell_type": "code",
      "metadata": {
        "id": "X3uOm9KKgPgZ"
      },
      "source": [
        "city_restaurant = dict(df['city'].value_counts())\n",
        "df['restaurant_qty'] = df['city'].map(city_restaurant)"
      ],
      "execution_count": 42,
      "outputs": []
    },
    {
      "cell_type": "markdown",
      "metadata": {
        "id": "M65rRvCVgPga"
      },
      "source": [
        "Step 2: Create an equivalent ranking"
      ]
    },
    {
      "cell_type": "code",
      "metadata": {
        "id": "4LjxcbxfgPga"
      },
      "source": [
        "df['equiv_ranking'] = df['ranking']/df['restaurant_qty']"
      ],
      "execution_count": 43,
      "outputs": []
    },
    {
      "cell_type": "markdown",
      "metadata": {
        "id": "4qBCwRdOgPga"
      },
      "source": [
        "Step 3. Check distribution of a normalized ranking"
      ]
    },
    {
      "cell_type": "code",
      "metadata": {
        "colab": {
          "base_uri": "https://localhost:8080/",
          "height": 498
        },
        "id": "KlpnyPATgPga",
        "outputId": "dfc748aa-1a34-4e35-e8b8-85655e6446ec"
      },
      "source": [
        "plt.figure(figsize=(15 ,7))\n",
        "\n",
        "for city in (df['city'].value_counts())[0:10].index:  \n",
        "    sns.distplot(df['equiv_ranking'][df['city'] == city],kde=False,label = city)\n",
        "    \n",
        "plt.legend(prop={'size': 10})\n",
        "plt.title('Equivalent ranking Distribution among cities\\n', fontsize=15)\n",
        "plt.xlabel('Equivalent ranking')\n",
        "plt.ylabel('Quantity (frequency)')"
      ],
      "execution_count": 44,
      "outputs": [
        {
          "output_type": "execute_result",
          "data": {
            "text/plain": [
              "Text(0, 0.5, 'Quantity (frequency)')"
            ]
          },
          "metadata": {
            "tags": []
          },
          "execution_count": 44
        },
        {
          "output_type": "display_data",
          "data": {
            "image/png": "[encoded data removed]",
            "text/plain": [
              "<Figure size 1080x504 with 1 Axes>"
            ]
          },
          "metadata": {
            "tags": [],
            "needs_background": "light"
          }
        }
      ]
    },
    {
      "cell_type": "markdown",
      "metadata": {
        "id": "ETIy5X4wgPga"
      },
      "source": [
        "Well, now it is looks better than in section 2.5. Distribution is normal"
      ]
    },
    {
      "cell_type": "markdown",
      "metadata": {
        "id": "FWN3omfWgPgb"
      },
      "source": [
        "Create a column with mean value of people to a single restaurant in a city"
      ]
    },
    {
      "cell_type": "code",
      "metadata": {
        "id": "vbTvhJwjgPgb"
      },
      "source": [
        "df['people_per_restaur'] = df['city_population']/df['restaurant_qty']"
      ],
      "execution_count": 45,
      "outputs": []
    },
    {
      "cell_type": "markdown",
      "metadata": {
        "id": "a9Nz_PIogPgb"
      },
      "source": [
        "### 3.5 Price range column"
      ]
    },
    {
      "cell_type": "markdown",
      "metadata": {
        "id": "mHd2lMeUgPgb"
      },
      "source": [
        "!!! ENcODE IT !!!"
      ]
    },
    {
      "cell_type": "code",
      "metadata": {
        "id": "3CNTwjH8gEX5"
      },
      "source": [
        ""
      ],
      "execution_count": 62,
      "outputs": []
    },
    {
      "cell_type": "code",
      "metadata": {
        "id": "XYztMgAxgEbF"
      },
      "source": [
        ""
      ],
      "execution_count": 62,
      "outputs": []
    },
    {
      "cell_type": "code",
      "metadata": {
        "id": "KTk2SD24gPgh"
      },
      "source": [
        "#df['id_ta'] = df['id_ta'].apply(lambda x: int(x[1:]))"
      ],
      "execution_count": 63,
      "outputs": []
    }
  ]
}