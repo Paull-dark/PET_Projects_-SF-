{
 "cells": [
  {
   "cell_type": "markdown",
   "metadata": {},
   "source": [
    "# FLIGHTS FROM ANAPA"
   ]
  },
  {
   "cell_type": "markdown",
   "metadata": {},
   "source": [
    "# INDEX\n",
    "1. [Load and Chek the Dataset](#sec1)\n",
    "    * [1.1  Show a basic info](#sec1.1)  \n",
    "    * [1.2 Show the data types](#sec1.2)\n",
    "    * [1.3 Missing values](#sec1.3)\n",
    "2. [Exploratory Data Analysis](#sec2)\n",
    "    * [2.1 Target Variable analysis](#sec2.1)"
   ]
  },
  {
   "cell_type": "markdown",
   "metadata": {},
   "source": [
    "The target of this analyse is determine, whether we have flights with low profits?\n",
    "\n",
    "If we have, then identify, what flight we could exclude from the airline schedule"
   ]
  },
  {
   "cell_type": "markdown",
   "metadata": {},
   "source": [
    "## Feature desription"
   ]
  },
  {
   "cell_type": "markdown",
   "metadata": {},
   "source": [
    "Flight_id - Unique flight identifier\n",
    "\n",
    "Flight_no - Flight number\n",
    "\n",
    "Arrival_airport - arrival airport code\n",
    "\n",
    "Airort_name - Airport name (there can be one or more airports in one city)\n",
    "\n",
    "city - the city where the airport is located\n",
    "\n",
    "scheduled_departue - scheduled departure\n",
    "\n",
    "scheduled_arriva l - scheduled arrival\n",
    "\n",
    "status - flight status\n",
    "\n",
    "model - the model of the aircraft making the voyage\n",
    "\n",
    "total_seat_cnt - total number of seats on the aircraft\n",
    "\n",
    "occ_seats - number of passengers on the aircraft\n",
    "\n",
    "sum_per_flight - total amount for the flight paid by passengers\n",
    "\n",
    "time_in_air - actual flight time"
   ]
  },
  {
   "cell_type": "code",
   "execution_count": 5,
   "metadata": {},
   "outputs": [],
   "source": [
    "import pandas as pd\n",
    "import numpy as np\n",
    "import seaborn as sns\n",
    "import matplotlib.pyplot as plt\n",
    "from datetime import timedelta\n",
    "import warnings\n",
    "from jupyterthemes import jtplot\n",
    "\n",
    "warnings.filterwarnings('ignore')\n",
    "\n",
    "\n",
    "pd.set_option('display.max_rows', 50)  # Show more rows\n",
    "pd.set_option('display.max_columns', 50)  # Show more columns\n",
    "plt.style.use('ggplot')  # Nice plotting\n",
    "\n",
    "%matplotlib inline\n",
    "\n",
    "jtplot.style(theme='monokai', context='notebook', ticks=True, grid=False)"
   ]
  },
  {
   "cell_type": "code",
   "execution_count": 6,
   "metadata": {},
   "outputs": [
    {
     "data": {
      "image/png": "[encoded data removed]",
      "text/plain": [
       "<Figure size 288x72 with 1 Axes>"
      ]
     },
     "metadata": {},
     "output_type": "display_data"
    }
   ],
   "source": [
    "colors = ['#001c57', '#50248f', '#a6a6a6', '#38d1ff']\n",
    "sns.palplot(sns.color_palette(colors))"
   ]
  },
  {
   "cell_type": "markdown",
   "metadata": {},
   "source": [
    "<a id=\"sec1\"></a>\n",
    "# [1.  Load and Chek the Dataset](#sec1)"
   ]
  },
  {
   "cell_type": "code",
   "execution_count": 7,
   "metadata": {},
   "outputs": [],
   "source": [
    "df = pd.read_csv('anapa_flights.csv')"
   ]
  },
  {
   "cell_type": "markdown",
   "metadata": {},
   "source": [
    "<a id=\"sec1.1\"></a>\n",
    "# [1.1  Show a basic info](#sec1.1)"
   ]
  },
  {
   "cell_type": "code",
   "execution_count": 9,
   "metadata": {},
   "outputs": [
    {
     "data": {
      "text/html": [
       "<div>\n",
       "<style scoped>\n",
       "    .dataframe tbody tr th:only-of-type {\n",
       "        vertical-align: middle;\n",
       "    }\n",
       "\n",
       "    .dataframe tbody tr th {\n",
       "        vertical-align: top;\n",
       "    }\n",
       "\n",
       "    .dataframe thead th {\n",
       "        text-align: right;\n",
       "    }\n",
       "</style>\n",
       "<table border=\"1\" class=\"dataframe\">\n",
       "  <thead>\n",
       "    <tr style=\"text-align: right;\">\n",
       "      <th></th>\n",
       "      <th>flight_id</th>\n",
       "      <th>flight_no</th>\n",
       "      <th>arrival_airport</th>\n",
       "      <th>airport_name</th>\n",
       "      <th>city</th>\n",
       "      <th>scheduled_departure</th>\n",
       "      <th>scheduled_arrival</th>\n",
       "      <th>status</th>\n",
       "      <th>model</th>\n",
       "      <th>total_seat_cnt</th>\n",
       "      <th>occ_seats</th>\n",
       "      <th>sum_per_flight</th>\n",
       "      <th>time_in_air</th>\n",
       "    </tr>\n",
       "  </thead>\n",
       "  <tbody>\n",
       "    <tr>\n",
       "      <th>263</th>\n",
       "      <td>136379</td>\n",
       "      <td>PG0252</td>\n",
       "      <td>SVO</td>\n",
       "      <td>Sheremetyevo International Airport</td>\n",
       "      <td>Moscow</td>\n",
       "      <td>2017-04-20T10:05:00Z</td>\n",
       "      <td>2017-04-20T11:45:00Z</td>\n",
       "      <td>Arrived</td>\n",
       "      <td>Boeing 737-300</td>\n",
       "      <td>130</td>\n",
       "      <td>106.0</td>\n",
       "      <td>1518800.0</td>\n",
       "      <td>100.0</td>\n",
       "    </tr>\n",
       "    <tr>\n",
       "      <th>253</th>\n",
       "      <td>136369</td>\n",
       "      <td>PG0252</td>\n",
       "      <td>SVO</td>\n",
       "      <td>Sheremetyevo International Airport</td>\n",
       "      <td>Moscow</td>\n",
       "      <td>2016-10-24T10:05:00Z</td>\n",
       "      <td>2016-10-24T11:45:00Z</td>\n",
       "      <td>Arrived</td>\n",
       "      <td>Boeing 737-300</td>\n",
       "      <td>130</td>\n",
       "      <td>117.0</td>\n",
       "      <td>1726200.0</td>\n",
       "      <td>100.0</td>\n",
       "    </tr>\n",
       "    <tr>\n",
       "      <th>277</th>\n",
       "      <td>136393</td>\n",
       "      <td>PG0252</td>\n",
       "      <td>SVO</td>\n",
       "      <td>Sheremetyevo International Airport</td>\n",
       "      <td>Moscow</td>\n",
       "      <td>2016-10-05T10:05:00Z</td>\n",
       "      <td>2016-10-05T11:45:00Z</td>\n",
       "      <td>Arrived</td>\n",
       "      <td>Boeing 737-300</td>\n",
       "      <td>130</td>\n",
       "      <td>118.0</td>\n",
       "      <td>1712800.0</td>\n",
       "      <td>99.0</td>\n",
       "    </tr>\n",
       "    <tr>\n",
       "      <th>17</th>\n",
       "      <td>136132</td>\n",
       "      <td>PG0252</td>\n",
       "      <td>SVO</td>\n",
       "      <td>Sheremetyevo International Airport</td>\n",
       "      <td>Moscow</td>\n",
       "      <td>2017-02-15T10:05:00Z</td>\n",
       "      <td>2017-02-15T11:45:00Z</td>\n",
       "      <td>Arrived</td>\n",
       "      <td>Boeing 737-300</td>\n",
       "      <td>130</td>\n",
       "      <td>116.0</td>\n",
       "      <td>1714000.0</td>\n",
       "      <td>99.0</td>\n",
       "    </tr>\n",
       "    <tr>\n",
       "      <th>215</th>\n",
       "      <td>136330</td>\n",
       "      <td>PG0252</td>\n",
       "      <td>SVO</td>\n",
       "      <td>Sheremetyevo International Airport</td>\n",
       "      <td>Moscow</td>\n",
       "      <td>2017-08-14T10:05:00Z</td>\n",
       "      <td>2017-08-14T11:45:00Z</td>\n",
       "      <td>Arrived</td>\n",
       "      <td>Boeing 737-300</td>\n",
       "      <td>130</td>\n",
       "      <td>129.0</td>\n",
       "      <td>1873800.0</td>\n",
       "      <td>100.0</td>\n",
       "    </tr>\n",
       "  </tbody>\n",
       "</table>\n",
       "</div>"
      ],
      "text/plain": [
       "     flight_id flight_no arrival_airport                        airport_name  \\\n",
       "263     136379    PG0252             SVO  Sheremetyevo International Airport   \n",
       "253     136369    PG0252             SVO  Sheremetyevo International Airport   \n",
       "277     136393    PG0252             SVO  Sheremetyevo International Airport   \n",
       "17      136132    PG0252             SVO  Sheremetyevo International Airport   \n",
       "215     136330    PG0252             SVO  Sheremetyevo International Airport   \n",
       "\n",
       "       city   scheduled_departure     scheduled_arrival   status  \\\n",
       "263  Moscow  2017-04-20T10:05:00Z  2017-04-20T11:45:00Z  Arrived   \n",
       "253  Moscow  2016-10-24T10:05:00Z  2016-10-24T11:45:00Z  Arrived   \n",
       "277  Moscow  2016-10-05T10:05:00Z  2016-10-05T11:45:00Z  Arrived   \n",
       "17   Moscow  2017-02-15T10:05:00Z  2017-02-15T11:45:00Z  Arrived   \n",
       "215  Moscow  2017-08-14T10:05:00Z  2017-08-14T11:45:00Z  Arrived   \n",
       "\n",
       "              model  total_seat_cnt  occ_seats  sum_per_flight  time_in_air  \n",
       "263  Boeing 737-300             130      106.0       1518800.0        100.0  \n",
       "253  Boeing 737-300             130      117.0       1726200.0        100.0  \n",
       "277  Boeing 737-300             130      118.0       1712800.0         99.0  \n",
       "17   Boeing 737-300             130      116.0       1714000.0         99.0  \n",
       "215  Boeing 737-300             130      129.0       1873800.0        100.0  "
      ]
     },
     "metadata": {},
     "output_type": "display_data"
    },
    {
     "name": "stdout",
     "output_type": "stream",
     "text": [
      "<class 'pandas.core.frame.DataFrame'>\n",
      "RangeIndex: 848 entries, 0 to 847\n",
      "Data columns (total 13 columns):\n",
      " #   Column               Non-Null Count  Dtype  \n",
      "---  ------               --------------  -----  \n",
      " 0   flight_id            848 non-null    int64  \n",
      " 1   flight_no            848 non-null    object \n",
      " 2   arrival_airport      848 non-null    object \n",
      " 3   airport_name         848 non-null    object \n",
      " 4   city                 848 non-null    object \n",
      " 5   scheduled_departure  848 non-null    object \n",
      " 6   scheduled_arrival    848 non-null    object \n",
      " 7   status               848 non-null    object \n",
      " 8   model                848 non-null    object \n",
      " 9   total_seat_cnt       848 non-null    int64  \n",
      " 10  occ_seats            732 non-null    float64\n",
      " 11  sum_per_flight       791 non-null    float64\n",
      " 12  time_in_air          785 non-null    float64\n",
      "dtypes: float64(3), int64(2), object(8)\n",
      "memory usage: 86.2+ KB\n"
     ]
    }
   ],
   "source": [
    "display(df.sample(5))\n",
    "df.info()"
   ]
  },
  {
   "cell_type": "markdown",
   "metadata": {},
   "source": [
    "<a id=\"sec1.2\"></a>\n",
    "# [1.2 Show the data types](#sec1.2)"
   ]
  },
  {
   "cell_type": "code",
   "execution_count": 10,
   "metadata": {},
   "outputs": [
    {
     "data": {
      "text/html": [
       "<div>\n",
       "<style scoped>\n",
       "    .dataframe tbody tr th:only-of-type {\n",
       "        vertical-align: middle;\n",
       "    }\n",
       "\n",
       "    .dataframe tbody tr th {\n",
       "        vertical-align: top;\n",
       "    }\n",
       "\n",
       "    .dataframe thead th {\n",
       "        text-align: right;\n",
       "    }\n",
       "</style>\n",
       "<table border=\"1\" class=\"dataframe\">\n",
       "  <thead>\n",
       "    <tr style=\"text-align: right;\">\n",
       "      <th></th>\n",
       "      <th>Column Type</th>\n",
       "      <th>Count</th>\n",
       "    </tr>\n",
       "  </thead>\n",
       "  <tbody>\n",
       "    <tr>\n",
       "      <th>0</th>\n",
       "      <td>int64</td>\n",
       "      <td>2</td>\n",
       "    </tr>\n",
       "    <tr>\n",
       "      <th>1</th>\n",
       "      <td>float64</td>\n",
       "      <td>3</td>\n",
       "    </tr>\n",
       "    <tr>\n",
       "      <th>2</th>\n",
       "      <td>object</td>\n",
       "      <td>8</td>\n",
       "    </tr>\n",
       "  </tbody>\n",
       "</table>\n",
       "</div>"
      ],
      "text/plain": [
       "  Column Type  Count\n",
       "0       int64      2\n",
       "1     float64      3\n",
       "2      object      8"
      ]
     },
     "execution_count": 10,
     "metadata": {},
     "output_type": "execute_result"
    }
   ],
   "source": [
    "dtype_df = df.dtypes.reset_index()\n",
    "dtype_df.columns = ['Count', 'Column Type']\n",
    "dtype_df.groupby('Column Type').agg('count').reset_index()"
   ]
  },
  {
   "cell_type": "code",
   "execution_count": 11,
   "metadata": {},
   "outputs": [
    {
     "name": "stdout",
     "output_type": "stream",
     "text": [
      "flight_id <class 'numpy.int64'>\n",
      "flight_no <class 'str'>\n",
      "arrival_airport <class 'str'>\n",
      "airport_name <class 'str'>\n",
      "city <class 'str'>\n",
      "scheduled_departure <class 'str'>\n",
      "scheduled_arrival <class 'str'>\n",
      "status <class 'str'>\n",
      "model <class 'str'>\n",
      "total_seat_cnt <class 'numpy.int64'>\n",
      "occ_seats <class 'numpy.float64'>\n",
      "sum_per_flight <class 'numpy.float64'>\n",
      "time_in_air <class 'numpy.float64'>\n"
     ]
    }
   ],
   "source": [
    "for i, j in enumerate(df.columns):\n",
    "    print(j, type(df.loc[1][i]))"
   ]
  },
  {
   "cell_type": "markdown",
   "metadata": {},
   "source": [
    "All types of data are ok. Just need to be careful with 'scheduled_departure' and 'scheduled_arrival'. \n",
    "\n",
    "If needed, we transform it to a datetime type  "
   ]
  },
  {
   "cell_type": "markdown",
   "metadata": {},
   "source": [
    "<a id=\"sec1.3\"></a>\n",
    "# [1.3 Missing values](#sec1.3)"
   ]
  },
  {
   "cell_type": "markdown",
   "metadata": {},
   "source": [
    "Let's see on to missing data"
   ]
  },
  {
   "cell_type": "code",
   "execution_count": 12,
   "metadata": {},
   "outputs": [
    {
     "name": "stdout",
     "output_type": "stream",
     "text": [
      "flight_id - 0.0%\n",
      "flight_no - 0.0%\n",
      "arrival_airport - 0.0%\n",
      "airport_name - 0.0%\n",
      "city - 0.0%\n",
      "scheduled_departure - 0.0%\n",
      "scheduled_arrival - 0.0%\n",
      "status - 0.0%\n",
      "model - 0.0%\n",
      "total_seat_cnt - 0.0%\n",
      "occ_seats - 14.0%\n",
      "sum_per_flight - 7.0%\n",
      "time_in_air - 7.0%\n"
     ]
    },
    {
     "data": {
      "image/png": "[encoded data removed]",
      "text/plain": [
       "<Figure size 504x504 with 2 Axes>"
      ]
     },
     "metadata": {},
     "output_type": "display_data"
    }
   ],
   "source": [
    "# Plot missing values\n",
    "cols = df.columns\n",
    "fig, ax = plt.subplots(figsize=(7, 7))\n",
    "sns.heatmap(df[cols].isnull(), cmap=sns.color_palette(colors))\n",
    "\n",
    "# Show in percents\n",
    "for col in df.columns:\n",
    "    pct_missing = np.mean(df[col].isnull())\n",
    "    print(f'{col} - {round(pct_missing*100)}%')"
   ]
  },
  {
   "cell_type": "markdown",
   "metadata": {},
   "source": [
    "---\n",
    "\n",
    " - Data set has 847 entries, 13 columns.\n",
    " - Column 'occ_seats' has 14.0% of missing values\n",
    " - Column 'sum_per_flight' has 7.0% of missing values\n",
    " - Column 'time_in_air' has 7.0% of missing values\n",
    "---"
   ]
  },
  {
   "cell_type": "markdown",
   "metadata": {},
   "source": [
    "<a id=\"sec2\"></a>\n",
    "# [2. Exploratory Data Analysis](#sec2)"
   ]
  },
  {
   "cell_type": "code",
   "execution_count": 13,
   "metadata": {},
   "outputs": [
    {
     "data": {
      "text/plain": [
       "array(['Boeing 737-300', 'Sukhoi Superjet-100'], dtype=object)"
      ]
     },
     "execution_count": 13,
     "metadata": {},
     "output_type": "execute_result"
    }
   ],
   "source": [
    "df['model'].unique()"
   ]
  },
  {
   "cell_type": "markdown",
   "metadata": {},
   "source": [
    "Our dataset has only two types of aircrafts. Let's add for them the fuel consumption"
   ]
  },
  {
   "cell_type": "markdown",
   "metadata": {},
   "source": [
    "Note:Fuel consumption numbers depend upon a lot of factors including flight takeoff weight, flight time, cruising altitude and the like.\n",
    "\n",
    "Read the numbers as ballpark figures.\n",
    "\n",
    "Given in kg/hour"
   ]
  },
  {
   "cell_type": "code",
   "execution_count": 14,
   "metadata": {},
   "outputs": [],
   "source": [
    "fuel_cons = {\n",
    "   'Boeing 737-300':2400,\n",
    "    'Sukhoi Superjet-100':1700\n",
    "}"
   ]
  },
  {
   "cell_type": "code",
   "execution_count": 15,
   "metadata": {},
   "outputs": [],
   "source": [
    "# add column with rated fuel consumption\n",
    "df['rated_consum'] = df['model'].map(fuel_cons)"
   ]
  },
  {
   "cell_type": "code",
   "execution_count": 16,
   "metadata": {},
   "outputs": [],
   "source": [
    "# Compute the actual fuel consumption and add it to new col\n",
    "# 'time in air' given in minutes. Transform it to hours by deviding by 60\n",
    "df['fuel_consumption']=df['time_in_air']/60*df['rated_consum']"
   ]
  },
  {
   "cell_type": "markdown",
   "metadata": {},
   "source": [
    "Let's insert an additional coefficient of fuel consumption. \n",
    "Assume that the aircraft consume an additional 4 kg of fuel per hour for each passenger with an average weight of 75 kg."
   ]
  },
  {
   "cell_type": "code",
   "execution_count": 19,
   "metadata": {},
   "outputs": [
    {
     "data": {
      "text/html": [
       "<div>\n",
       "<style scoped>\n",
       "    .dataframe tbody tr th:only-of-type {\n",
       "        vertical-align: middle;\n",
       "    }\n",
       "\n",
       "    .dataframe tbody tr th {\n",
       "        vertical-align: top;\n",
       "    }\n",
       "\n",
       "    .dataframe thead th {\n",
       "        text-align: right;\n",
       "    }\n",
       "</style>\n",
       "<table border=\"1\" class=\"dataframe\">\n",
       "  <thead>\n",
       "    <tr style=\"text-align: right;\">\n",
       "      <th></th>\n",
       "      <th>flight_id</th>\n",
       "      <th>flight_no</th>\n",
       "      <th>arrival_airport</th>\n",
       "      <th>airport_name</th>\n",
       "      <th>city</th>\n",
       "      <th>scheduled_departure</th>\n",
       "      <th>scheduled_arrival</th>\n",
       "      <th>status</th>\n",
       "      <th>model</th>\n",
       "      <th>total_seat_cnt</th>\n",
       "      <th>occ_seats</th>\n",
       "      <th>sum_per_flight</th>\n",
       "      <th>time_in_air</th>\n",
       "      <th>rated_consum</th>\n",
       "      <th>fuel_consumption</th>\n",
       "      <th>total_Fuel_cons</th>\n",
       "    </tr>\n",
       "  </thead>\n",
       "  <tbody>\n",
       "    <tr>\n",
       "      <th>653</th>\n",
       "      <td>136769</td>\n",
       "      <td>PG0480</td>\n",
       "      <td>EGO</td>\n",
       "      <td>Belgorod International Airport</td>\n",
       "      <td>Belgorod</td>\n",
       "      <td>2017-02-10T09:25:00Z</td>\n",
       "      <td>2017-02-10T10:15:00Z</td>\n",
       "      <td>Arrived</td>\n",
       "      <td>Sukhoi Superjet-100</td>\n",
       "      <td>97</td>\n",
       "      <td>88.0</td>\n",
       "      <td>696000.0</td>\n",
       "      <td>51.0</td>\n",
       "      <td>1700</td>\n",
       "      <td>1445.000000</td>\n",
       "      <td>395.969583</td>\n",
       "    </tr>\n",
       "    <tr>\n",
       "      <th>780</th>\n",
       "      <td>136896</td>\n",
       "      <td>PG0480</td>\n",
       "      <td>EGO</td>\n",
       "      <td>Belgorod International Airport</td>\n",
       "      <td>Belgorod</td>\n",
       "      <td>2017-08-13T09:25:00Z</td>\n",
       "      <td>2017-08-13T10:15:00Z</td>\n",
       "      <td>Arrived</td>\n",
       "      <td>Sukhoi Superjet-100</td>\n",
       "      <td>97</td>\n",
       "      <td>89.0</td>\n",
       "      <td>714300.0</td>\n",
       "      <td>50.0</td>\n",
       "      <td>1700</td>\n",
       "      <td>1416.666667</td>\n",
       "      <td>388.962209</td>\n",
       "    </tr>\n",
       "  </tbody>\n",
       "</table>\n",
       "</div>"
      ],
      "text/plain": [
       "     flight_id flight_no arrival_airport                    airport_name  \\\n",
       "653     136769    PG0480             EGO  Belgorod International Airport   \n",
       "780     136896    PG0480             EGO  Belgorod International Airport   \n",
       "\n",
       "         city   scheduled_departure     scheduled_arrival   status  \\\n",
       "653  Belgorod  2017-02-10T09:25:00Z  2017-02-10T10:15:00Z  Arrived   \n",
       "780  Belgorod  2017-08-13T09:25:00Z  2017-08-13T10:15:00Z  Arrived   \n",
       "\n",
       "                   model  total_seat_cnt  occ_seats  sum_per_flight  \\\n",
       "653  Sukhoi Superjet-100              97       88.0        696000.0   \n",
       "780  Sukhoi Superjet-100              97       89.0        714300.0   \n",
       "\n",
       "     time_in_air  rated_consum  fuel_consumption  total_Fuel_cons  \n",
       "653         51.0          1700       1445.000000       395.969583  \n",
       "780         50.0          1700       1416.666667       388.962209  "
      ]
     },
     "execution_count": 19,
     "metadata": {},
     "output_type": "execute_result"
    }
   ],
   "source": [
    "df['total_Fuel_cons'] = (df['time_in_air']/60 * (df['occ_seats']*4)) + df['fuel_consumption']\n",
    "\n",
    "# convert to gallons (1 gallon = 4.4 kg of kerosine)\n",
    "\n",
    "df['total_Fuel_cons'] = df['total_Fuel_cons']/4.4048838\n",
    "df.sample(2)"
   ]
  },
  {
   "cell_type": "markdown",
   "metadata": {},
   "source": [
    "Fine, now we have the fuel consumption considering the flight time and quantity of passengers on board.\n",
    "\n",
    "Drop Auxilliary columns"
   ]
  },
  {
   "cell_type": "code",
   "execution_count": 20,
   "metadata": {},
   "outputs": [],
   "source": [
    "cols_to_drop = ['rated_consum', 'fuel_consumption']\n",
    "df = df.drop(cols_to_drop, axis=1)"
   ]
  },
  {
   "cell_type": "markdown",
   "metadata": {},
   "source": [
    "Compute kerosene expenses in rubles (average price for 1 gallone of kerosine in 2016-2017 was 3$)\n",
    "\n",
    "reference: https://www.nyserda.ny.gov/Researchers-and-Policymakers/Energy-Prices/Kerosene/Average-Kerosene-Prices\n",
    "\n",
    "RUB to Dollar: in 2016-2017 is 55Rub for 1 dollar"
   ]
  },
  {
   "cell_type": "code",
   "execution_count": 21,
   "metadata": {},
   "outputs": [],
   "source": [
    "gallone_price = 3*55\n",
    "df['kerosine_expense'] = df['total_Fuel_cons']*gallone_price"
   ]
  },
  {
   "cell_type": "markdown",
   "metadata": {},
   "source": [
    "Let's calculate profits (We're not considering any other losses such salary of crew, maintenance of aircraft/ Assume only fuel costs as our main expense)"
   ]
  },
  {
   "cell_type": "code",
   "execution_count": 22,
   "metadata": {},
   "outputs": [],
   "source": [
    "df['profit'] = df['sum_per_flight'] - df['kerosine_expense']"
   ]
  },
  {
   "cell_type": "code",
   "execution_count": 23,
   "metadata": {
    "scrolled": true
   },
   "outputs": [
    {
     "data": {
      "text/html": [
       "<div>\n",
       "<style scoped>\n",
       "    .dataframe tbody tr th:only-of-type {\n",
       "        vertical-align: middle;\n",
       "    }\n",
       "\n",
       "    .dataframe tbody tr th {\n",
       "        vertical-align: top;\n",
       "    }\n",
       "\n",
       "    .dataframe thead th {\n",
       "        text-align: right;\n",
       "    }\n",
       "</style>\n",
       "<table border=\"1\" class=\"dataframe\">\n",
       "  <thead>\n",
       "    <tr style=\"text-align: right;\">\n",
       "      <th></th>\n",
       "      <th>flight_id</th>\n",
       "      <th>flight_no</th>\n",
       "      <th>arrival_airport</th>\n",
       "      <th>airport_name</th>\n",
       "      <th>city</th>\n",
       "      <th>scheduled_departure</th>\n",
       "      <th>scheduled_arrival</th>\n",
       "      <th>status</th>\n",
       "      <th>model</th>\n",
       "      <th>total_seat_cnt</th>\n",
       "      <th>occ_seats</th>\n",
       "      <th>sum_per_flight</th>\n",
       "      <th>time_in_air</th>\n",
       "      <th>total_Fuel_cons</th>\n",
       "      <th>kerosine_expense</th>\n",
       "      <th>profit</th>\n",
       "    </tr>\n",
       "  </thead>\n",
       "  <tbody>\n",
       "    <tr>\n",
       "      <th>814</th>\n",
       "      <td>136930</td>\n",
       "      <td>PG0480</td>\n",
       "      <td>EGO</td>\n",
       "      <td>Belgorod International Airport</td>\n",
       "      <td>Belgorod</td>\n",
       "      <td>2017-04-09T09:25:00Z</td>\n",
       "      <td>2017-04-09T10:15:00Z</td>\n",
       "      <td>Arrived</td>\n",
       "      <td>Sukhoi Superjet-100</td>\n",
       "      <td>97</td>\n",
       "      <td>91.0</td>\n",
       "      <td>714900.0</td>\n",
       "      <td>50.0</td>\n",
       "      <td>390.475681</td>\n",
       "      <td>64428.487308</td>\n",
       "      <td>650471.512692</td>\n",
       "    </tr>\n",
       "    <tr>\n",
       "      <th>594</th>\n",
       "      <td>136710</td>\n",
       "      <td>PG0480</td>\n",
       "      <td>EGO</td>\n",
       "      <td>Belgorod International Airport</td>\n",
       "      <td>Belgorod</td>\n",
       "      <td>2016-10-17T09:25:00Z</td>\n",
       "      <td>2016-10-17T10:15:00Z</td>\n",
       "      <td>Arrived</td>\n",
       "      <td>Sukhoi Superjet-100</td>\n",
       "      <td>97</td>\n",
       "      <td>96.0</td>\n",
       "      <td>758400.0</td>\n",
       "      <td>50.0</td>\n",
       "      <td>394.259360</td>\n",
       "      <td>65052.794355</td>\n",
       "      <td>693347.205645</td>\n",
       "    </tr>\n",
       "    <tr>\n",
       "      <th>759</th>\n",
       "      <td>136875</td>\n",
       "      <td>PG0480</td>\n",
       "      <td>EGO</td>\n",
       "      <td>Belgorod International Airport</td>\n",
       "      <td>Belgorod</td>\n",
       "      <td>2017-02-16T09:25:00Z</td>\n",
       "      <td>2017-02-16T10:15:00Z</td>\n",
       "      <td>Arrived</td>\n",
       "      <td>Sukhoi Superjet-100</td>\n",
       "      <td>97</td>\n",
       "      <td>97.0</td>\n",
       "      <td>765300.0</td>\n",
       "      <td>50.0</td>\n",
       "      <td>395.016096</td>\n",
       "      <td>65177.655765</td>\n",
       "      <td>700122.344235</td>\n",
       "    </tr>\n",
       "  </tbody>\n",
       "</table>\n",
       "</div>"
      ],
      "text/plain": [
       "     flight_id flight_no arrival_airport                    airport_name  \\\n",
       "814     136930    PG0480             EGO  Belgorod International Airport   \n",
       "594     136710    PG0480             EGO  Belgorod International Airport   \n",
       "759     136875    PG0480             EGO  Belgorod International Airport   \n",
       "\n",
       "         city   scheduled_departure     scheduled_arrival   status  \\\n",
       "814  Belgorod  2017-04-09T09:25:00Z  2017-04-09T10:15:00Z  Arrived   \n",
       "594  Belgorod  2016-10-17T09:25:00Z  2016-10-17T10:15:00Z  Arrived   \n",
       "759  Belgorod  2017-02-16T09:25:00Z  2017-02-16T10:15:00Z  Arrived   \n",
       "\n",
       "                   model  total_seat_cnt  occ_seats  sum_per_flight  \\\n",
       "814  Sukhoi Superjet-100              97       91.0        714900.0   \n",
       "594  Sukhoi Superjet-100              97       96.0        758400.0   \n",
       "759  Sukhoi Superjet-100              97       97.0        765300.0   \n",
       "\n",
       "     time_in_air  total_Fuel_cons  kerosine_expense         profit  \n",
       "814         50.0       390.475681      64428.487308  650471.512692  \n",
       "594         50.0       394.259360      65052.794355  693347.205645  \n",
       "759         50.0       395.016096      65177.655765  700122.344235  "
      ]
     },
     "execution_count": 23,
     "metadata": {},
     "output_type": "execute_result"
    }
   ],
   "source": [
    "df.sample(3)"
   ]
  },
  {
   "cell_type": "code",
   "execution_count": 24,
   "metadata": {},
   "outputs": [],
   "source": [
    "# transform date to understandable format for pandas\n",
    "df['scheduled_departure'] = pd.to_datetime(df['scheduled_departure'])"
   ]
  },
  {
   "cell_type": "code",
   "execution_count": 25,
   "metadata": {},
   "outputs": [],
   "source": [
    "df['dep_year'] = df['scheduled_departure'].dt.year\n",
    "df['dep_month'] = df['scheduled_departure'].dt.month"
   ]
  },
  {
   "cell_type": "markdown",
   "metadata": {},
   "source": [
    "Let's see how our profits distributes during the 2017"
   ]
  },
  {
   "cell_type": "code",
   "execution_count": 26,
   "metadata": {},
   "outputs": [],
   "source": [
    "# Create two data frames for each year\n",
    "df2017 =df[df['dep_year']==2017] "
   ]
  },
  {
   "cell_type": "code",
   "execution_count": 29,
   "metadata": {},
   "outputs": [
    {
     "data": {
      "image/png": "[encoded data removed]",
      "text/plain": [
       "<Figure size 1080x360 with 1 Axes>"
      ]
     },
     "metadata": {},
     "output_type": "display_data"
    }
   ],
   "source": [
    "plt.figure(figsize=(15, 5))\n",
    "sns.lineplot(x='dep_month', y = 'profit', data=df2017)\n",
    "plt.title('Profit distribution')\n",
    "plt.xlabel('Months')\n",
    "plt.ylabel('RUB (Million)')\n",
    "plt.show()"
   ]
  },
  {
   "cell_type": "code",
   "execution_count": 30,
   "metadata": {},
   "outputs": [
    {
     "data": {
      "image/png": "[encoded data removed]",
      "text/plain": [
       "<Figure size 1080x360 with 1 Axes>"
      ]
     },
     "metadata": {},
     "output_type": "display_data"
    }
   ],
   "source": [
    "profit2017 = df2017.groupby('dep_month')['profit'].sum()\n",
    "\n",
    "fig = plt.figure(figsize=(15, 5))\n",
    "ax = plt.subplot()\n",
    "\n",
    "plt.bar(x=profit2017.index, height=profit2017, color=colors[1])\n",
    "\n",
    "plt.ylabel('Profits (Million)')\n",
    "ax.spines['right'].set_visible(False)\n",
    "ax.spines['top'].set_visible(False)\n",
    "ax.spines['left'].set_visible(False)\n",
    "plt.title('Profit Distribution')\n",
    "ax.tick_params(direction='out', length=0, width=0, colors='Grey')"
   ]
  },
  {
   "cell_type": "markdown",
   "metadata": {},
   "source": [
    "Well, we can see that February 2017 has less profits than other months. \n",
    "\n",
    "Note: August is not fully presented in original dataset. \n",
    "\n",
    "Ignore August"
   ]
  },
  {
   "cell_type": "markdown",
   "metadata": {},
   "source": [
    "Then, further we will work only with February\n",
    "\n",
    "Let's see how many people traveled in Feb and where did they go."
   ]
  },
  {
   "cell_type": "code",
   "execution_count": 31,
   "metadata": {},
   "outputs": [],
   "source": [
    "df_feb = df2017[df2017['dep_month'] == 2]"
   ]
  },
  {
   "cell_type": "code",
   "execution_count": 32,
   "metadata": {},
   "outputs": [
    {
     "data": {
      "text/html": [
       "<div>\n",
       "<style scoped>\n",
       "    .dataframe tbody tr th:only-of-type {\n",
       "        vertical-align: middle;\n",
       "    }\n",
       "\n",
       "    .dataframe tbody tr th {\n",
       "        vertical-align: top;\n",
       "    }\n",
       "\n",
       "    .dataframe thead th {\n",
       "        text-align: right;\n",
       "    }\n",
       "</style>\n",
       "<table border=\"1\" class=\"dataframe\">\n",
       "  <thead>\n",
       "    <tr style=\"text-align: right;\">\n",
       "      <th></th>\n",
       "      <th>city</th>\n",
       "      <th>occ_seats</th>\n",
       "    </tr>\n",
       "  </thead>\n",
       "  <tbody>\n",
       "    <tr>\n",
       "      <th>0</th>\n",
       "      <td>Belgorod</td>\n",
       "      <td>2522.0</td>\n",
       "    </tr>\n",
       "    <tr>\n",
       "      <th>1</th>\n",
       "      <td>Moscow</td>\n",
       "      <td>3143.0</td>\n",
       "    </tr>\n",
       "    <tr>\n",
       "      <th>2</th>\n",
       "      <td>Novokuznetsk</td>\n",
       "      <td>0.0</td>\n",
       "    </tr>\n",
       "  </tbody>\n",
       "</table>\n",
       "</div>"
      ],
      "text/plain": [
       "           city  occ_seats\n",
       "0      Belgorod     2522.0\n",
       "1        Moscow     3143.0\n",
       "2  Novokuznetsk        0.0"
      ]
     },
     "execution_count": 32,
     "metadata": {},
     "output_type": "execute_result"
    }
   ],
   "source": [
    "a = df_feb.groupby('city')['occ_seats'].sum().reset_index()\n",
    "a"
   ]
  },
  {
   "cell_type": "code",
   "execution_count": 33,
   "metadata": {},
   "outputs": [
    {
     "data": {
      "text/html": [
       "<div>\n",
       "<style scoped>\n",
       "    .dataframe tbody tr th:only-of-type {\n",
       "        vertical-align: middle;\n",
       "    }\n",
       "\n",
       "    .dataframe tbody tr th {\n",
       "        vertical-align: top;\n",
       "    }\n",
       "\n",
       "    .dataframe thead th {\n",
       "        text-align: right;\n",
       "    }\n",
       "</style>\n",
       "<table border=\"1\" class=\"dataframe\">\n",
       "  <thead>\n",
       "    <tr style=\"text-align: right;\">\n",
       "      <th></th>\n",
       "      <th>city</th>\n",
       "      <th>total_seat_cnt</th>\n",
       "    </tr>\n",
       "  </thead>\n",
       "  <tbody>\n",
       "    <tr>\n",
       "      <th>0</th>\n",
       "      <td>Belgorod</td>\n",
       "      <td>2716</td>\n",
       "    </tr>\n",
       "    <tr>\n",
       "      <th>1</th>\n",
       "      <td>Moscow</td>\n",
       "      <td>3640</td>\n",
       "    </tr>\n",
       "    <tr>\n",
       "      <th>2</th>\n",
       "      <td>Novokuznetsk</td>\n",
       "      <td>520</td>\n",
       "    </tr>\n",
       "  </tbody>\n",
       "</table>\n",
       "</div>"
      ],
      "text/plain": [
       "           city  total_seat_cnt\n",
       "0      Belgorod            2716\n",
       "1        Moscow            3640\n",
       "2  Novokuznetsk             520"
      ]
     },
     "execution_count": 33,
     "metadata": {},
     "output_type": "execute_result"
    }
   ],
   "source": [
    "b = df_feb.groupby('city')['total_seat_cnt'].sum().reset_index()\n",
    "b"
   ]
  },
  {
   "cell_type": "markdown",
   "metadata": {},
   "source": [
    "Well, People traveled from Anapa to Moscow (3143) and to Belgorod (2522)\n",
    "\n",
    "While the total avalaible seats count is:\n",
    "\n",
    "for Moscow - 3640;\n",
    "\n",
    "for Belgorod - 2716;\n",
    "\n",
    "for Novokuznetsk - 520.\n",
    "\n",
    "Then,"
   ]
  },
  {
   "cell_type": "code",
   "execution_count": null,
   "metadata": {},
   "outputs": [],
   "source": [
    "a['occ_seats']/b['total_seat_cnt']*100"
   ]
  },
  {
   "cell_type": "markdown",
   "metadata": {},
   "source": [
    "Flights to Belgorod loaded on 92%, to Moscow 86%.\n",
    "\n",
    "And Most interesting thing with Novokuznetsk. We have flight overthere, but we have no even a single passenger. Is that a data mistake or nobody is traveling to that city?\n",
    "\n",
    "That need to be reflected in a conclustion"
   ]
  },
  {
   "cell_type": "code",
   "execution_count": 34,
   "metadata": {},
   "outputs": [
    {
     "data": {
      "text/html": [
       "<div>\n",
       "<style scoped>\n",
       "    .dataframe tbody tr th:only-of-type {\n",
       "        vertical-align: middle;\n",
       "    }\n",
       "\n",
       "    .dataframe tbody tr th {\n",
       "        vertical-align: top;\n",
       "    }\n",
       "\n",
       "    .dataframe thead th {\n",
       "        text-align: right;\n",
       "    }\n",
       "</style>\n",
       "<table border=\"1\" class=\"dataframe\">\n",
       "  <thead>\n",
       "    <tr style=\"text-align: right;\">\n",
       "      <th></th>\n",
       "      <th>flight_id</th>\n",
       "      <th>flight_no</th>\n",
       "      <th>arrival_airport</th>\n",
       "      <th>airport_name</th>\n",
       "      <th>city</th>\n",
       "      <th>scheduled_departure</th>\n",
       "      <th>scheduled_arrival</th>\n",
       "      <th>status</th>\n",
       "      <th>model</th>\n",
       "      <th>total_seat_cnt</th>\n",
       "      <th>occ_seats</th>\n",
       "      <th>sum_per_flight</th>\n",
       "      <th>time_in_air</th>\n",
       "      <th>total_Fuel_cons</th>\n",
       "      <th>kerosine_expense</th>\n",
       "      <th>profit</th>\n",
       "      <th>dep_year</th>\n",
       "      <th>dep_month</th>\n",
       "    </tr>\n",
       "  </thead>\n",
       "  <tbody>\n",
       "    <tr>\n",
       "      <th>395</th>\n",
       "      <td>136511</td>\n",
       "      <td>PG0194</td>\n",
       "      <td>NOZ</td>\n",
       "      <td>Spichenkovo Airport</td>\n",
       "      <td>Novokuznetsk</td>\n",
       "      <td>2017-02-21 06:10:00+00:00</td>\n",
       "      <td>2017-02-21T11:15:00Z</td>\n",
       "      <td>Arrived</td>\n",
       "      <td>Boeing 737-300</td>\n",
       "      <td>130</td>\n",
       "      <td>NaN</td>\n",
       "      <td>NaN</td>\n",
       "      <td>310.0</td>\n",
       "      <td>NaN</td>\n",
       "      <td>NaN</td>\n",
       "      <td>NaN</td>\n",
       "      <td>2017</td>\n",
       "      <td>2</td>\n",
       "    </tr>\n",
       "    <tr>\n",
       "      <th>397</th>\n",
       "      <td>136513</td>\n",
       "      <td>PG0194</td>\n",
       "      <td>NOZ</td>\n",
       "      <td>Spichenkovo Airport</td>\n",
       "      <td>Novokuznetsk</td>\n",
       "      <td>2017-02-28 06:10:00+00:00</td>\n",
       "      <td>2017-02-28T11:15:00Z</td>\n",
       "      <td>Arrived</td>\n",
       "      <td>Boeing 737-300</td>\n",
       "      <td>130</td>\n",
       "      <td>NaN</td>\n",
       "      <td>NaN</td>\n",
       "      <td>310.0</td>\n",
       "      <td>NaN</td>\n",
       "      <td>NaN</td>\n",
       "      <td>NaN</td>\n",
       "      <td>2017</td>\n",
       "      <td>2</td>\n",
       "    </tr>\n",
       "    <tr>\n",
       "      <th>398</th>\n",
       "      <td>136514</td>\n",
       "      <td>PG0194</td>\n",
       "      <td>NOZ</td>\n",
       "      <td>Spichenkovo Airport</td>\n",
       "      <td>Novokuznetsk</td>\n",
       "      <td>2017-02-07 06:10:00+00:00</td>\n",
       "      <td>2017-02-07T11:15:00Z</td>\n",
       "      <td>Arrived</td>\n",
       "      <td>Boeing 737-300</td>\n",
       "      <td>130</td>\n",
       "      <td>NaN</td>\n",
       "      <td>NaN</td>\n",
       "      <td>299.0</td>\n",
       "      <td>NaN</td>\n",
       "      <td>NaN</td>\n",
       "      <td>NaN</td>\n",
       "      <td>2017</td>\n",
       "      <td>2</td>\n",
       "    </tr>\n",
       "    <tr>\n",
       "      <th>451</th>\n",
       "      <td>136567</td>\n",
       "      <td>PG0194</td>\n",
       "      <td>NOZ</td>\n",
       "      <td>Spichenkovo Airport</td>\n",
       "      <td>Novokuznetsk</td>\n",
       "      <td>2017-02-14 06:10:00+00:00</td>\n",
       "      <td>2017-02-14T11:15:00Z</td>\n",
       "      <td>Arrived</td>\n",
       "      <td>Boeing 737-300</td>\n",
       "      <td>130</td>\n",
       "      <td>NaN</td>\n",
       "      <td>NaN</td>\n",
       "      <td>311.0</td>\n",
       "      <td>NaN</td>\n",
       "      <td>NaN</td>\n",
       "      <td>NaN</td>\n",
       "      <td>2017</td>\n",
       "      <td>2</td>\n",
       "    </tr>\n",
       "  </tbody>\n",
       "</table>\n",
       "</div>"
      ],
      "text/plain": [
       "     flight_id flight_no arrival_airport         airport_name          city  \\\n",
       "395     136511    PG0194             NOZ  Spichenkovo Airport  Novokuznetsk   \n",
       "397     136513    PG0194             NOZ  Spichenkovo Airport  Novokuznetsk   \n",
       "398     136514    PG0194             NOZ  Spichenkovo Airport  Novokuznetsk   \n",
       "451     136567    PG0194             NOZ  Spichenkovo Airport  Novokuznetsk   \n",
       "\n",
       "          scheduled_departure     scheduled_arrival   status           model  \\\n",
       "395 2017-02-21 06:10:00+00:00  2017-02-21T11:15:00Z  Arrived  Boeing 737-300   \n",
       "397 2017-02-28 06:10:00+00:00  2017-02-28T11:15:00Z  Arrived  Boeing 737-300   \n",
       "398 2017-02-07 06:10:00+00:00  2017-02-07T11:15:00Z  Arrived  Boeing 737-300   \n",
       "451 2017-02-14 06:10:00+00:00  2017-02-14T11:15:00Z  Arrived  Boeing 737-300   \n",
       "\n",
       "     total_seat_cnt  occ_seats  sum_per_flight  time_in_air  total_Fuel_cons  \\\n",
       "395             130        NaN             NaN        310.0              NaN   \n",
       "397             130        NaN             NaN        310.0              NaN   \n",
       "398             130        NaN             NaN        299.0              NaN   \n",
       "451             130        NaN             NaN        311.0              NaN   \n",
       "\n",
       "     kerosine_expense  profit  dep_year  dep_month  \n",
       "395               NaN     NaN      2017          2  \n",
       "397               NaN     NaN      2017          2  \n",
       "398               NaN     NaN      2017          2  \n",
       "451               NaN     NaN      2017          2  "
      ]
     },
     "execution_count": 34,
     "metadata": {},
     "output_type": "execute_result"
    }
   ],
   "source": [
    "df_feb[df_feb['city'] == 'Novokuznetsk']"
   ]
  },
  {
   "cell_type": "markdown",
   "metadata": {},
   "source": [
    "We have 5 flight in February to Novokuznetsk.\n",
    "\n",
    "All of them were without passengers(?)"
   ]
  },
  {
   "cell_type": "markdown",
   "metadata": {},
   "source": [
    "Conclusion:\n",
    "    \n",
    "Normally when the load of flight is less than 75%, we can cosider that such flight is detrimental.\n",
    "\n",
    "Our breaf analys does not depict such flight (in monthly slice).\n",
    "\n",
    "However, there is one flight PG0194 to Novokuznetsk, which is without passengers. \n",
    "\n",
    "It might happen because of the data mistake or nobody actually traveled. It is requered to provide addittional investigation by airline. "
   ]
  },
  {
   "cell_type": "code",
   "execution_count": null,
   "metadata": {},
   "outputs": [],
   "source": []
  }
 ],
 "metadata": {
  "kernelspec": {
   "display_name": "Python 3",
   "language": "python",
   "name": "python3"
  },
  "language_info": {
   "codemirror_mode": {
    "name": "ipython",
    "version": 3
   },
   "file_extension": ".py",
   "mimetype": "text/x-python",
   "name": "python",
   "nbconvert_exporter": "python",
   "pygments_lexer": "ipython3",
   "version": "3.8.3"
  }
 },
 "nbformat": 4,
 "nbformat_minor": 4
}
