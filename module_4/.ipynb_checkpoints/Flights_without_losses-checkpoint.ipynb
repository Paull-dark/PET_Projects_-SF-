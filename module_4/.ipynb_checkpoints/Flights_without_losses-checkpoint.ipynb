{
 "cells": [
  {
   "cell_type": "code",
   "execution_count": null,
   "metadata": {},
   "outputs": [],
   "source": []
  },
  {
   "cell_type": "markdown",
   "metadata": {},
   "source": [
    "# INDEX\n",
    "1. [Load and Chek the Dataset](#sec1)\n",
    "    * [1.1  Show a basic info](#sec1.1)  \n",
    "    * [1.2 Show the data types](#sec1.2)\n",
    "    * [1.3 Missing values](#sec1.3)\n",
    "2. [Exploratory Data Analysis](#sec2)\n",
    "    * [2.1 Target Variable analysis](#sec2.1)\n",
    "    * [2.2 Restaurant_Id column](#sec2.2)\n",
    "    * [2.3 City column](#sec2.3)\n",
    "    * [2.4 Cuisine_style column](#sec2.4)\n",
    "    * [2.5 Ranking column](#sec2.5)\n",
    "    * [2.6 Price range column](#sec2.6)\n",
    "    * [2.8 Reviews column](#sec2.8)"
   ]
  },
  {
   "cell_type": "code",
   "execution_count": null,
   "metadata": {},
   "outputs": [],
   "source": []
  },
  {
   "cell_type": "code",
   "execution_count": 1,
   "metadata": {},
   "outputs": [],
   "source": [
    "import pandas as pd\n",
    "import numpy as np\n",
    "import seaborn as sns\n",
    "import matplotlib.pyplot as plt\n",
    "from datetime import timedelta\n",
    "import warnings\n",
    "from jupyterthemes import jtplot\n",
    "\n",
    "warnings.filterwarnings('ignore')\n",
    "\n",
    "\n",
    "pd.set_option('display.max_rows', 50)  # Show more rows\n",
    "pd.set_option('display.max_columns', 50)  # Show more columns\n",
    "plt.style.use('ggplot')  # Nice plotting\n",
    "\n",
    "%matplotlib inline\n",
    "\n",
    "jtplot.style(theme='monokai', context='notebook', ticks=True, grid=False)"
   ]
  },
  {
   "cell_type": "code",
   "execution_count": null,
   "metadata": {},
   "outputs": [],
   "source": []
  },
  {
   "cell_type": "code",
   "execution_count": null,
   "metadata": {},
   "outputs": [],
   "source": []
  },
  {
   "cell_type": "code",
   "execution_count": 2,
   "metadata": {},
   "outputs": [
    {
     "data": {
      "image/png": "[encoded data removed]",
      "text/plain": [
       "<Figure size 288x72 with 1 Axes>"
      ]
     },
     "metadata": {},
     "output_type": "display_data"
    }
   ],
   "source": [
    "colors = ['#001c57', '#50248f', '#a6a6a6', '#38d1ff']\n",
    "sns.palplot(sns.color_palette(colors))"
   ]
  },
  {
   "cell_type": "markdown",
   "metadata": {},
   "source": []
  },
  {
   "cell_type": "markdown",
   "metadata": {},
   "source": [
    "<a id=\"sec1\"></a>\n",
    "# [1.  Load and Chek the Dataset](#sec1)"
   ]
  },
  {
   "cell_type": "code",
   "execution_count": 3,
   "metadata": {},
   "outputs": [],
   "source": [
    "df = pd.read_csv('anapa_flights.csv')"
   ]
  },
  {
   "cell_type": "markdown",
   "metadata": {},
   "source": [
    "<a id=\"sec1.1\"></a>\n",
    "# [1.1  Show a basic info](#sec1.1)"
   ]
  },
  {
   "cell_type": "code",
   "execution_count": 4,
   "metadata": {},
   "outputs": [
    {
     "data": {
      "text/html": [
       "<div>\n",
       "<style scoped>\n",
       "    .dataframe tbody tr th:only-of-type {\n",
       "        vertical-align: middle;\n",
       "    }\n",
       "\n",
       "    .dataframe tbody tr th {\n",
       "        vertical-align: top;\n",
       "    }\n",
       "\n",
       "    .dataframe thead th {\n",
       "        text-align: right;\n",
       "    }\n",
       "</style>\n",
       "<table border=\"1\" class=\"dataframe\">\n",
       "  <thead>\n",
       "    <tr style=\"text-align: right;\">\n",
       "      <th></th>\n",
       "      <th>flight_id</th>\n",
       "      <th>flight_no</th>\n",
       "      <th>arrival_airport</th>\n",
       "      <th>airport_name</th>\n",
       "      <th>city</th>\n",
       "      <th>scheduled_departure</th>\n",
       "      <th>scheduled_arrival</th>\n",
       "      <th>status</th>\n",
       "      <th>arival_longitude</th>\n",
       "      <th>arival_latitude</th>\n",
       "      <th>model</th>\n",
       "      <th>total_seat_cnt</th>\n",
       "      <th>occ_seats</th>\n",
       "      <th>sum_per_flight</th>\n",
       "      <th>time_in_air</th>\n",
       "    </tr>\n",
       "  </thead>\n",
       "  <tbody>\n",
       "    <tr>\n",
       "      <th>104</th>\n",
       "      <td>136219</td>\n",
       "      <td>PG0252</td>\n",
       "      <td>SVO</td>\n",
       "      <td>Sheremetyevo International Airport</td>\n",
       "      <td>Moscow</td>\n",
       "      <td>2016-08-17T10:05:00Z</td>\n",
       "      <td>2016-08-17T11:45:00Z</td>\n",
       "      <td>Arrived</td>\n",
       "      <td>37.4146</td>\n",
       "      <td>55.972599</td>\n",
       "      <td>Boeing 737-300</td>\n",
       "      <td>130</td>\n",
       "      <td>49.0</td>\n",
       "      <td>673400.0</td>\n",
       "      <td>100.0</td>\n",
       "    </tr>\n",
       "    <tr>\n",
       "      <th>69</th>\n",
       "      <td>136184</td>\n",
       "      <td>PG0252</td>\n",
       "      <td>SVO</td>\n",
       "      <td>Sheremetyevo International Airport</td>\n",
       "      <td>Moscow</td>\n",
       "      <td>2017-05-08T10:05:00Z</td>\n",
       "      <td>2017-05-08T11:45:00Z</td>\n",
       "      <td>Arrived</td>\n",
       "      <td>37.4146</td>\n",
       "      <td>55.972599</td>\n",
       "      <td>Boeing 737-300</td>\n",
       "      <td>130</td>\n",
       "      <td>130.0</td>\n",
       "      <td>1886000.0</td>\n",
       "      <td>101.0</td>\n",
       "    </tr>\n",
       "    <tr>\n",
       "      <th>131</th>\n",
       "      <td>136246</td>\n",
       "      <td>PG0252</td>\n",
       "      <td>SVO</td>\n",
       "      <td>Sheremetyevo International Airport</td>\n",
       "      <td>Moscow</td>\n",
       "      <td>2016-09-12T10:05:00Z</td>\n",
       "      <td>2016-09-12T11:45:00Z</td>\n",
       "      <td>Arrived</td>\n",
       "      <td>37.4146</td>\n",
       "      <td>55.972599</td>\n",
       "      <td>Boeing 737-300</td>\n",
       "      <td>130</td>\n",
       "      <td>107.0</td>\n",
       "      <td>1603000.0</td>\n",
       "      <td>100.0</td>\n",
       "    </tr>\n",
       "  </tbody>\n",
       "</table>\n",
       "</div>"
      ],
      "text/plain": [
       "     flight_id flight_no arrival_airport                        airport_name  \\\n",
       "104     136219    PG0252             SVO  Sheremetyevo International Airport   \n",
       "69      136184    PG0252             SVO  Sheremetyevo International Airport   \n",
       "131     136246    PG0252             SVO  Sheremetyevo International Airport   \n",
       "\n",
       "       city   scheduled_departure     scheduled_arrival   status  \\\n",
       "104  Moscow  2016-08-17T10:05:00Z  2016-08-17T11:45:00Z  Arrived   \n",
       "69   Moscow  2017-05-08T10:05:00Z  2017-05-08T11:45:00Z  Arrived   \n",
       "131  Moscow  2016-09-12T10:05:00Z  2016-09-12T11:45:00Z  Arrived   \n",
       "\n",
       "     arival_longitude  arival_latitude           model  total_seat_cnt  \\\n",
       "104           37.4146        55.972599  Boeing 737-300             130   \n",
       "69            37.4146        55.972599  Boeing 737-300             130   \n",
       "131           37.4146        55.972599  Boeing 737-300             130   \n",
       "\n",
       "     occ_seats  sum_per_flight  time_in_air  \n",
       "104       49.0        673400.0        100.0  \n",
       "69       130.0       1886000.0        101.0  \n",
       "131      107.0       1603000.0        100.0  "
      ]
     },
     "metadata": {},
     "output_type": "display_data"
    },
    {
     "name": "stdout",
     "output_type": "stream",
     "text": [
      "<class 'pandas.core.frame.DataFrame'>\n",
      "RangeIndex: 849 entries, 0 to 848\n",
      "Data columns (total 15 columns):\n",
      " #   Column               Non-Null Count  Dtype  \n",
      "---  ------               --------------  -----  \n",
      " 0   flight_id            849 non-null    int64  \n",
      " 1   flight_no            849 non-null    object \n",
      " 2   arrival_airport      849 non-null    object \n",
      " 3   airport_name         849 non-null    object \n",
      " 4   city                 849 non-null    object \n",
      " 5   scheduled_departure  849 non-null    object \n",
      " 6   scheduled_arrival    849 non-null    object \n",
      " 7   status               849 non-null    object \n",
      " 8   arival_longitude     849 non-null    float64\n",
      " 9   arival_latitude      849 non-null    float64\n",
      " 10  model                849 non-null    object \n",
      " 11  total_seat_cnt       849 non-null    int64  \n",
      " 12  occ_seats            732 non-null    float64\n",
      " 13  sum_per_flight       791 non-null    float64\n",
      " 14  time_in_air          785 non-null    float64\n",
      "dtypes: float64(5), int64(2), object(8)\n",
      "memory usage: 99.6+ KB\n"
     ]
    }
   ],
   "source": [
    "display(df.sample(3))\n",
    "df.info()"
   ]
  },
  {
   "cell_type": "markdown",
   "metadata": {},
   "source": [
    "<a id=\"sec1.2\"></a>\n",
    "# [1.2 Show the data types](#sec1.2)"
   ]
  },
  {
   "cell_type": "code",
   "execution_count": 5,
   "metadata": {},
   "outputs": [
    {
     "data": {
      "text/html": [
       "<div>\n",
       "<style scoped>\n",
       "    .dataframe tbody tr th:only-of-type {\n",
       "        vertical-align: middle;\n",
       "    }\n",
       "\n",
       "    .dataframe tbody tr th {\n",
       "        vertical-align: top;\n",
       "    }\n",
       "\n",
       "    .dataframe thead th {\n",
       "        text-align: right;\n",
       "    }\n",
       "</style>\n",
       "<table border=\"1\" class=\"dataframe\">\n",
       "  <thead>\n",
       "    <tr style=\"text-align: right;\">\n",
       "      <th></th>\n",
       "      <th>Column Type</th>\n",
       "      <th>Count</th>\n",
       "    </tr>\n",
       "  </thead>\n",
       "  <tbody>\n",
       "    <tr>\n",
       "      <th>0</th>\n",
       "      <td>int64</td>\n",
       "      <td>2</td>\n",
       "    </tr>\n",
       "    <tr>\n",
       "      <th>1</th>\n",
       "      <td>float64</td>\n",
       "      <td>5</td>\n",
       "    </tr>\n",
       "    <tr>\n",
       "      <th>2</th>\n",
       "      <td>object</td>\n",
       "      <td>8</td>\n",
       "    </tr>\n",
       "  </tbody>\n",
       "</table>\n",
       "</div>"
      ],
      "text/plain": [
       "  Column Type  Count\n",
       "0       int64      2\n",
       "1     float64      5\n",
       "2      object      8"
      ]
     },
     "execution_count": 5,
     "metadata": {},
     "output_type": "execute_result"
    }
   ],
   "source": [
    "dtype_df = df.dtypes.reset_index()\n",
    "dtype_df.columns = ['Count', 'Column Type']\n",
    "dtype_df.groupby('Column Type').agg('count').reset_index()"
   ]
  },
  {
   "cell_type": "code",
   "execution_count": 6,
   "metadata": {},
   "outputs": [
    {
     "name": "stdout",
     "output_type": "stream",
     "text": [
      "flight_id <class 'numpy.int64'>\n",
      "flight_no <class 'str'>\n",
      "arrival_airport <class 'str'>\n",
      "airport_name <class 'str'>\n",
      "city <class 'str'>\n",
      "scheduled_departure <class 'str'>\n",
      "scheduled_arrival <class 'str'>\n",
      "status <class 'str'>\n",
      "arival_longitude <class 'numpy.float64'>\n",
      "arival_latitude <class 'numpy.float64'>\n",
      "model <class 'str'>\n",
      "total_seat_cnt <class 'numpy.int64'>\n",
      "occ_seats <class 'numpy.float64'>\n",
      "sum_per_flight <class 'numpy.float64'>\n",
      "time_in_air <class 'numpy.float64'>\n"
     ]
    }
   ],
   "source": [
    "for i, j in enumerate(df.columns):\n",
    "    print(j, type(df.loc[1][i]))"
   ]
  },
  {
   "cell_type": "markdown",
   "metadata": {},
   "source": [
    "All types of data more or less are ok. Just need to be careful with 'scheduled_departure' and 'scheduled_arrival'. \n",
    "\n",
    "If need we transform it to datetime type  "
   ]
  },
  {
   "cell_type": "markdown",
   "metadata": {},
   "source": [
    "<a id=\"sec1.3\"></a>\n",
    "# [1.3 Missing values](#sec1.3)"
   ]
  },
  {
   "cell_type": "markdown",
   "metadata": {},
   "source": [
    "Let's see on to missing data"
   ]
  },
  {
   "cell_type": "code",
   "execution_count": 7,
   "metadata": {},
   "outputs": [
    {
     "name": "stdout",
     "output_type": "stream",
     "text": [
      "flight_id - 0.0%\n",
      "flight_no - 0.0%\n",
      "arrival_airport - 0.0%\n",
      "airport_name - 0.0%\n",
      "city - 0.0%\n",
      "scheduled_departure - 0.0%\n",
      "scheduled_arrival - 0.0%\n",
      "status - 0.0%\n",
      "arival_longitude - 0.0%\n",
      "arival_latitude - 0.0%\n",
      "model - 0.0%\n",
      "total_seat_cnt - 0.0%\n",
      "occ_seats - 14.0%\n",
      "sum_per_flight - 7.0%\n",
      "time_in_air - 8.0%\n"
     ]
    },
    {
     "data": {
      "image/png": "[encoded data removed]",
      "text/plain": [
       "<Figure size 504x504 with 2 Axes>"
      ]
     },
     "metadata": {},
     "output_type": "display_data"
    }
   ],
   "source": [
    "# Plot missing values\n",
    "cols = df.columns\n",
    "fig, ax = plt.subplots(figsize=(7, 7))\n",
    "sns.heatmap(df[cols].isnull(), cmap=sns.color_palette(colors))\n",
    "\n",
    "# Show in percents\n",
    "for col in df.columns:\n",
    "    pct_missing = np.mean(df[col].isnull())\n",
    "    print(f'{col} - {round(pct_missing*100)}%')"
   ]
  },
  {
   "cell_type": "markdown",
   "metadata": {},
   "source": [
    "---\n",
    "\n",
    " - Data set has 849 entries, 15 columns.\n",
    " - Column 'occ_seats' has 14.0% of missing values\n",
    " - Column 'sum_per_flight' has 7.0% of missing values\n",
    " - Column 'time_in_air' has 8.0% of missing values\n",
    "---"
   ]
  },
  {
   "cell_type": "markdown",
   "metadata": {},
   "source": [
    "<a id=\"sec2\"></a>\n",
    "# [2. Exploratory Data Analysis](#sec2)"
   ]
  },
  {
   "cell_type": "code",
   "execution_count": null,
   "metadata": {},
   "outputs": [],
   "source": [
    "df['model'].unique()"
   ]
  },
  {
   "cell_type": "markdown",
   "metadata": {},
   "source": [
    "Our dataset has only two types of aircrafts. Let's add for them the fuel consumption"
   ]
  },
  {
   "cell_type": "markdown",
   "metadata": {},
   "source": [
    "Note:Fuel consumption numbers depend upon a lot of factors including flight takeoff weight, flight time, cruising altitude and the like.\n",
    "\n",
    "Read the numbers as ballpark figures.\n",
    "\n",
    "Given in kg/hour"
   ]
  },
  {
   "cell_type": "code",
   "execution_count": 8,
   "metadata": {},
   "outputs": [],
   "source": [
    "fuel_cons = {\n",
    "   'Boeing 737-300':2400,\n",
    "    'Sukhoi Superjet-100':1700\n",
    "}"
   ]
  },
  {
   "cell_type": "code",
   "execution_count": 9,
   "metadata": {},
   "outputs": [],
   "source": [
    "# add column with rated fuel consumption\n",
    "df['rated_consum'] = df['model'].map(fuel_cons)"
   ]
  },
  {
   "cell_type": "code",
   "execution_count": 10,
   "metadata": {},
   "outputs": [],
   "source": [
    "# Compute the actual fuel consumption and add it to new col\n",
    "df['actual_consumption']=df['time_in_air']/60*df['rated_consum']"
   ]
  },
  {
   "cell_type": "markdown",
   "metadata": {},
   "source": [
    "Let's insert an additional coefficient of fuel consumption. \n",
    "Assume that the aircraft consume an additional 4 kg of fuel per hour for each passenger with an average weight of 75 kg."
   ]
  },
  {
   "cell_type": "code",
   "execution_count": 11,
   "metadata": {},
   "outputs": [],
   "source": [
    "df['actual_consumption_pass'] = (df['time_in_air']/60 * (df['occ_seats']*4)) + df['actual_consumption']"
   ]
  },
  {
   "cell_type": "markdown",
   "metadata": {},
   "source": [
    "Fine, now we have the fuel consumption considering the flight time and quantity of passengers on board.\n",
    "\n",
    "Drop Auxilliary columns"
   ]
  },
  {
   "cell_type": "code",
   "execution_count": 13,
   "metadata": {},
   "outputs": [],
   "source": [
    "cols_to_drop = ['rated_consum', 'actual_consumption']\n",
    "df = df.drop(cols_to_drop, axis=1)"
   ]
  },
  {
   "cell_type": "code",
   "execution_count": 16,
   "metadata": {},
   "outputs": [
    {
     "data": {
      "text/html": [
       "<div>\n",
       "<style scoped>\n",
       "    .dataframe tbody tr th:only-of-type {\n",
       "        vertical-align: middle;\n",
       "    }\n",
       "\n",
       "    .dataframe tbody tr th {\n",
       "        vertical-align: top;\n",
       "    }\n",
       "\n",
       "    .dataframe thead th {\n",
       "        text-align: right;\n",
       "    }\n",
       "</style>\n",
       "<table border=\"1\" class=\"dataframe\">\n",
       "  <thead>\n",
       "    <tr style=\"text-align: right;\">\n",
       "      <th></th>\n",
       "      <th>flight_id</th>\n",
       "      <th>flight_no</th>\n",
       "      <th>arrival_airport</th>\n",
       "      <th>airport_name</th>\n",
       "      <th>city</th>\n",
       "      <th>scheduled_departure</th>\n",
       "      <th>scheduled_arrival</th>\n",
       "      <th>status</th>\n",
       "      <th>arival_longitude</th>\n",
       "      <th>arival_latitude</th>\n",
       "      <th>model</th>\n",
       "      <th>total_seat_cnt</th>\n",
       "      <th>occ_seats</th>\n",
       "      <th>sum_per_flight</th>\n",
       "      <th>time_in_air</th>\n",
       "      <th>actual_consumption_pass</th>\n",
       "    </tr>\n",
       "  </thead>\n",
       "  <tbody>\n",
       "    <tr>\n",
       "      <th>816</th>\n",
       "      <td>136931</td>\n",
       "      <td>PG0480</td>\n",
       "      <td>EGO</td>\n",
       "      <td>Belgorod International Airport</td>\n",
       "      <td>Belgorod</td>\n",
       "      <td>2017-04-23T09:25:00Z</td>\n",
       "      <td>2017-04-23T10:15:00Z</td>\n",
       "      <td>Arrived</td>\n",
       "      <td>36.590099</td>\n",
       "      <td>50.643799</td>\n",
       "      <td>Sukhoi Superjet-100</td>\n",
       "      <td>97</td>\n",
       "      <td>96.0</td>\n",
       "      <td>759000.0</td>\n",
       "      <td>51.0</td>\n",
       "      <td>1771.400000</td>\n",
       "    </tr>\n",
       "    <tr>\n",
       "      <th>148</th>\n",
       "      <td>136263</td>\n",
       "      <td>PG0252</td>\n",
       "      <td>SVO</td>\n",
       "      <td>Sheremetyevo International Airport</td>\n",
       "      <td>Moscow</td>\n",
       "      <td>2016-09-29T10:05:00Z</td>\n",
       "      <td>2016-09-29T11:45:00Z</td>\n",
       "      <td>Arrived</td>\n",
       "      <td>37.414600</td>\n",
       "      <td>55.972599</td>\n",
       "      <td>Boeing 737-300</td>\n",
       "      <td>130</td>\n",
       "      <td>122.0</td>\n",
       "      <td>1787200.0</td>\n",
       "      <td>100.0</td>\n",
       "      <td>4813.333333</td>\n",
       "    </tr>\n",
       "    <tr>\n",
       "      <th>198</th>\n",
       "      <td>136313</td>\n",
       "      <td>PG0252</td>\n",
       "      <td>SVO</td>\n",
       "      <td>Sheremetyevo International Airport</td>\n",
       "      <td>Moscow</td>\n",
       "      <td>2017-05-11T10:05:00Z</td>\n",
       "      <td>2017-05-11T11:45:00Z</td>\n",
       "      <td>Arrived</td>\n",
       "      <td>37.414600</td>\n",
       "      <td>55.972599</td>\n",
       "      <td>Boeing 737-300</td>\n",
       "      <td>130</td>\n",
       "      <td>109.0</td>\n",
       "      <td>1579800.0</td>\n",
       "      <td>102.0</td>\n",
       "      <td>4821.200000</td>\n",
       "    </tr>\n",
       "  </tbody>\n",
       "</table>\n",
       "</div>"
      ],
      "text/plain": [
       "     flight_id flight_no arrival_airport                        airport_name  \\\n",
       "816     136931    PG0480             EGO      Belgorod International Airport   \n",
       "148     136263    PG0252             SVO  Sheremetyevo International Airport   \n",
       "198     136313    PG0252             SVO  Sheremetyevo International Airport   \n",
       "\n",
       "         city   scheduled_departure     scheduled_arrival   status  \\\n",
       "816  Belgorod  2017-04-23T09:25:00Z  2017-04-23T10:15:00Z  Arrived   \n",
       "148    Moscow  2016-09-29T10:05:00Z  2016-09-29T11:45:00Z  Arrived   \n",
       "198    Moscow  2017-05-11T10:05:00Z  2017-05-11T11:45:00Z  Arrived   \n",
       "\n",
       "     arival_longitude  arival_latitude                model  total_seat_cnt  \\\n",
       "816         36.590099        50.643799  Sukhoi Superjet-100              97   \n",
       "148         37.414600        55.972599       Boeing 737-300             130   \n",
       "198         37.414600        55.972599       Boeing 737-300             130   \n",
       "\n",
       "     occ_seats  sum_per_flight  time_in_air  actual_consumption_pass  \n",
       "816       96.0        759000.0         51.0              1771.400000  \n",
       "148      122.0       1787200.0        100.0              4813.333333  \n",
       "198      109.0       1579800.0        102.0              4821.200000  "
      ]
     },
     "execution_count": 16,
     "metadata": {},
     "output_type": "execute_result"
    }
   ],
   "source": [
    "df.sample(3)"
   ]
  },
  {
   "cell_type": "code",
   "execution_count": 17,
   "metadata": {},
   "outputs": [
    {
     "ename": "ValueError",
     "evalue": "Could not interpret input 'scheduled_departue'",
     "output_type": "error",
     "traceback": [
      "\u001b[1;31m---------------------------------------------------------------------------\u001b[0m",
      "\u001b[1;31mValueError\u001b[0m                                Traceback (most recent call last)",
      "\u001b[1;32m<ipython-input-17-f0ca1ad04c8a>\u001b[0m in \u001b[0;36m<module>\u001b[1;34m\u001b[0m\n\u001b[1;32m----> 1\u001b[1;33m \u001b[0msns\u001b[0m\u001b[1;33m.\u001b[0m\u001b[0mlineplot\u001b[0m\u001b[1;33m(\u001b[0m\u001b[0mx\u001b[0m\u001b[1;33m=\u001b[0m\u001b[1;34m'scheduled_departue'\u001b[0m\u001b[1;33m,\u001b[0m \u001b[0my\u001b[0m \u001b[1;33m=\u001b[0m \u001b[1;34m'sum_per_flight'\u001b[0m\u001b[1;33m,\u001b[0m \u001b[0mdata\u001b[0m\u001b[1;33m=\u001b[0m\u001b[0mdf\u001b[0m\u001b[1;33m)\u001b[0m\u001b[1;33m\u001b[0m\u001b[1;33m\u001b[0m\u001b[0m\n\u001b[0m\u001b[0;32m      2\u001b[0m \u001b[0mplt\u001b[0m\u001b[1;33m.\u001b[0m\u001b[0mxticks\u001b[0m\u001b[1;33m(\u001b[0m\u001b[0mrotation\u001b[0m\u001b[1;33m=\u001b[0m\u001b[1;36m15\u001b[0m\u001b[1;33m)\u001b[0m\u001b[1;33m\u001b[0m\u001b[1;33m\u001b[0m\u001b[0m\n\u001b[0;32m      3\u001b[0m \u001b[0mplt\u001b[0m\u001b[1;33m.\u001b[0m\u001b[0mtitle\u001b[0m\u001b[1;33m(\u001b[0m\u001b[1;34m'seaborn-matplotlib example'\u001b[0m\u001b[1;33m)\u001b[0m\u001b[1;33m\u001b[0m\u001b[1;33m\u001b[0m\u001b[0m\n\u001b[0;32m      4\u001b[0m \u001b[0mplt\u001b[0m\u001b[1;33m.\u001b[0m\u001b[0mshow\u001b[0m\u001b[1;33m(\u001b[0m\u001b[1;33m)\u001b[0m\u001b[1;33m\u001b[0m\u001b[1;33m\u001b[0m\u001b[0m\n",
      "\u001b[1;32m~\\Anaconda3\\lib\\site-packages\\seaborn\\relational.py\u001b[0m in \u001b[0;36mlineplot\u001b[1;34m(x, y, hue, size, style, data, palette, hue_order, hue_norm, sizes, size_order, size_norm, dashes, markers, style_order, units, estimator, ci, n_boot, seed, sort, err_style, err_kws, legend, ax, **kwargs)\u001b[0m\n\u001b[0;32m   1118\u001b[0m              legend=\"brief\", ax=None, **kwargs):\n\u001b[0;32m   1119\u001b[0m \u001b[1;33m\u001b[0m\u001b[0m\n\u001b[1;32m-> 1120\u001b[1;33m     p = _LinePlotter(\n\u001b[0m\u001b[0;32m   1121\u001b[0m         \u001b[0mx\u001b[0m\u001b[1;33m=\u001b[0m\u001b[0mx\u001b[0m\u001b[1;33m,\u001b[0m \u001b[0my\u001b[0m\u001b[1;33m=\u001b[0m\u001b[0my\u001b[0m\u001b[1;33m,\u001b[0m \u001b[0mhue\u001b[0m\u001b[1;33m=\u001b[0m\u001b[0mhue\u001b[0m\u001b[1;33m,\u001b[0m \u001b[0msize\u001b[0m\u001b[1;33m=\u001b[0m\u001b[0msize\u001b[0m\u001b[1;33m,\u001b[0m \u001b[0mstyle\u001b[0m\u001b[1;33m=\u001b[0m\u001b[0mstyle\u001b[0m\u001b[1;33m,\u001b[0m \u001b[0mdata\u001b[0m\u001b[1;33m=\u001b[0m\u001b[0mdata\u001b[0m\u001b[1;33m,\u001b[0m\u001b[1;33m\u001b[0m\u001b[1;33m\u001b[0m\u001b[0m\n\u001b[0;32m   1122\u001b[0m         \u001b[0mpalette\u001b[0m\u001b[1;33m=\u001b[0m\u001b[0mpalette\u001b[0m\u001b[1;33m,\u001b[0m \u001b[0mhue_order\u001b[0m\u001b[1;33m=\u001b[0m\u001b[0mhue_order\u001b[0m\u001b[1;33m,\u001b[0m \u001b[0mhue_norm\u001b[0m\u001b[1;33m=\u001b[0m\u001b[0mhue_norm\u001b[0m\u001b[1;33m,\u001b[0m\u001b[1;33m\u001b[0m\u001b[1;33m\u001b[0m\u001b[0m\n",
      "\u001b[1;32m~\\Anaconda3\\lib\\site-packages\\seaborn\\relational.py\u001b[0m in \u001b[0;36m__init__\u001b[1;34m(self, x, y, hue, size, style, data, palette, hue_order, hue_norm, sizes, size_order, size_norm, dashes, markers, style_order, units, estimator, ci, n_boot, seed, sort, err_style, err_kws, legend)\u001b[0m\n\u001b[0;32m    692\u001b[0m                  sort=True, err_style=None, err_kws=None, legend=None):\n\u001b[0;32m    693\u001b[0m \u001b[1;33m\u001b[0m\u001b[0m\n\u001b[1;32m--> 694\u001b[1;33m         plot_data = self.establish_variables(\n\u001b[0m\u001b[0;32m    695\u001b[0m             \u001b[0mx\u001b[0m\u001b[1;33m,\u001b[0m \u001b[0my\u001b[0m\u001b[1;33m,\u001b[0m \u001b[0mhue\u001b[0m\u001b[1;33m,\u001b[0m \u001b[0msize\u001b[0m\u001b[1;33m,\u001b[0m \u001b[0mstyle\u001b[0m\u001b[1;33m,\u001b[0m \u001b[0munits\u001b[0m\u001b[1;33m,\u001b[0m \u001b[0mdata\u001b[0m\u001b[1;33m\u001b[0m\u001b[1;33m\u001b[0m\u001b[0m\n\u001b[0;32m    696\u001b[0m         )\n",
      "\u001b[1;32m~\\Anaconda3\\lib\\site-packages\\seaborn\\relational.py\u001b[0m in \u001b[0;36mestablish_variables\u001b[1;34m(self, x, y, hue, size, style, units, data)\u001b[0m\n\u001b[0;32m    135\u001b[0m                 \u001b[1;32mif\u001b[0m \u001b[0misinstance\u001b[0m\u001b[1;33m(\u001b[0m\u001b[0mvar\u001b[0m\u001b[1;33m,\u001b[0m \u001b[0mstr\u001b[0m\u001b[1;33m)\u001b[0m\u001b[1;33m:\u001b[0m\u001b[1;33m\u001b[0m\u001b[1;33m\u001b[0m\u001b[0m\n\u001b[0;32m    136\u001b[0m                     \u001b[0merr\u001b[0m \u001b[1;33m=\u001b[0m \u001b[1;34m\"Could not interpret input '{}'\"\u001b[0m\u001b[1;33m.\u001b[0m\u001b[0mformat\u001b[0m\u001b[1;33m(\u001b[0m\u001b[0mvar\u001b[0m\u001b[1;33m)\u001b[0m\u001b[1;33m\u001b[0m\u001b[1;33m\u001b[0m\u001b[0m\n\u001b[1;32m--> 137\u001b[1;33m                     \u001b[1;32mraise\u001b[0m \u001b[0mValueError\u001b[0m\u001b[1;33m(\u001b[0m\u001b[0merr\u001b[0m\u001b[1;33m)\u001b[0m\u001b[1;33m\u001b[0m\u001b[1;33m\u001b[0m\u001b[0m\n\u001b[0m\u001b[0;32m    138\u001b[0m \u001b[1;33m\u001b[0m\u001b[0m\n\u001b[0;32m    139\u001b[0m             \u001b[1;31m# Extract variable names\u001b[0m\u001b[1;33m\u001b[0m\u001b[1;33m\u001b[0m\u001b[1;33m\u001b[0m\u001b[0m\n",
      "\u001b[1;31mValueError\u001b[0m: Could not interpret input 'scheduled_departue'"
     ]
    }
   ],
   "source": [
    "sns.lineplot(x='scheduled_departue', y = 'sum_per_flight', data=df)\n",
    "plt.xticks(rotation=15)\n",
    "plt.title('seaborn-matplotlib example')\n",
    "plt.show()"
   ]
  },
  {
   "cell_type": "code",
   "execution_count": null,
   "metadata": {},
   "outputs": [],
   "source": []
  }
 ],
 "metadata": {
  "kernelspec": {
   "display_name": "Python 3",
   "language": "python",
   "name": "python3"
  },
  "language_info": {
   "codemirror_mode": {
    "name": "ipython",
    "version": 3
   },
   "file_extension": ".py",
   "mimetype": "text/x-python",
   "name": "python",
   "nbconvert_exporter": "python",
   "pygments_lexer": "ipython3",
   "version": "3.8.3"
  }
 },
 "nbformat": 4,
 "nbformat_minor": 4
}
