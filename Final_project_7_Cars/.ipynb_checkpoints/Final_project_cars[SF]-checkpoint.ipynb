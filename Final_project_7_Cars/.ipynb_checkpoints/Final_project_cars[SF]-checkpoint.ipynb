{
 "cells": [
  {
   "cell_type": "markdown",
   "id": "87c4ab24",
   "metadata": {},
   "source": [
    "# [SF-DST] Car Price prediction Part2"
   ]
  },
  {
   "cell_type": "markdown",
   "id": "aea6c9fe",
   "metadata": {},
   "source": [
    "This work has made by Paul Krivchenia:\n",
    "\n",
    "[My GitHub](https://github.com/Paull-dark)"
   ]
  },
  {
   "cell_type": "markdown",
   "id": "e81bd953",
   "metadata": {},
   "source": [
    "<img src = 'https://s.auto.drom.ru/i24222/pubs/4483/61605/2852355.jpg' width= '800px'>"
   ]
  },
  {
   "cell_type": "markdown",
   "id": "d83d6feb",
   "metadata": {},
   "source": [
    "The Target of this project is to:\n",
    "- To make a exploratory data analysis\n",
    "- Creating conventional ML models\n",
    "- Building a natural language processing model.\n",
    "- Building CV models\n",
    "- Stacking models\n",
    "- Predict the price of auto by its parameters"
   ]
  },
  {
   "cell_type": "markdown",
   "id": "0f06173c",
   "metadata": {},
   "source": [
    "<a id=\"sec1\"></a>\n",
    "# 1 [Features Defination](sec1)"
   ]
  },
  {
   "cell_type": "markdown",
   "id": "3e242684",
   "metadata": {},
   "source": [
    "**BodyType** -  The type of the Body of car .\n",
    "\n",
    "**Brand** - Name of brand.\n",
    "\n",
    "**color** - Color of the car (hex).\n",
    "\n",
    "**description** - human's description of the car (given by seller).\n",
    "\n",
    "**engineDisplacement** - Working volume of the engine (in $mm^3$).\n",
    "\n",
    "**enginePower** - Power in Horses.\n",
    "\n",
    "**fuelType** - Diesel, gasoline electric etc.\n",
    "\n",
    "**mileage** - How many kilometers car passed up to the date.\n",
    "\n",
    "**modelDate** - When particular model has been designed.\n",
    "\n",
    "**model_info** - Model info. Categorical.\n",
    "\n",
    "**name** - Categorical.\n",
    "\n",
    "**numberOfDoors** - The number of doors in a single car.\n",
    "\n",
    "**PriceCurrency** - The currency of the car's price.\n",
    "\n",
    "**productionDate** - The date when the car has been released from factory.\n",
    "\n",
    "**sell_id** - id of image.\n",
    "\n",
    "**vehicleConfiguration** - shows body type, type of gear, volume of engine.\n",
    "\n",
    "**vehicleTransmission** - Gear type.\n",
    "\n",
    "**Владельцы** - How many owners had particular car before.\n",
    "\n",
    "**Владение** - How long the seller own a particular car.\n",
    "\n",
    "**ПТС** - Shows whether the car's documents in original state.\n",
    "\n",
    "**Привод** - Wheel drive (2WF,4WD etc).\n",
    "\n",
    "**Руль** - Left or right Wheel.\n",
    "\n",
    "**price** - price in RUB (TARGET)."
   ]
  },
  {
   "cell_type": "markdown",
   "id": "73d87ac6",
   "metadata": {},
   "source": [
    "<a id=\"sec2\"></a>\n",
    "# [INDEX](#sec2)\n",
    "\n",
    "<a id=\"sec1\"></a>\n",
    "1. [Description](#sec1)\n",
    "   * [1.1 Features Defination](#sec1.1)\n",
    "2. [INDEX](#sec2)\n",
    "3. [IMPORT LIBRARRIES](#sec3)\n",
    "4. [Functions and Classes](#sec4)\n",
    "5. [Load and Chek the Dataset](#sec5)\n",
    "   * [5.1 Load train and test sets](#sec5.1)\n",
    "   * [5.2 Pre-processing before stacking data sets](#sec5.2)\n",
    "   * [5.3 Missing Values](#sec5.3)\n",
    "   * [5.3 Pandas Profiling](#sec5.3)\n",
    "6. [Data Analyse](#sec6)\n",
    "     * [6.1 Target Variable](#sec6.1)\n",
    "     * [6.2 Categorical Columns analysis](#sec6.2)\n",
    "        * [6.2.1 Body_type - price - owners count](#sec6.2.1)\n",
    "        * [6.2.2 Model_name](#sec6.2.2)\n",
    "        * [6.2.3 Vehicle_transmission - price](#sec6.2.3)\n",
    "        * [6.2.4 Color - price](#sec6.2.4)\n",
    "        * [6.2.5 Body_type - price - wheel-drive](#sec6.2.5)\n",
    "        * [6.2.6 Wheel_location](#sec6.2.6)\n",
    "     * [6.3 Combination of Categorical and Numeric columns](#sec6.3)\n",
    "     * [6.4 Numeric columns](#sec6.4)\n",
    "     * [6.5 Correlation matrices](#sec6.5)\n",
    "     * [6.6 Sentiment Analyse](#sec6.6)\n",
    "     * [6.7 Draw a Conclusion](#sec6.7)"
   ]
  },
  {
   "cell_type": "markdown",
   "id": "ce0d22be",
   "metadata": {},
   "source": [
    "<a id=\"sec3\"></a>\n",
    "# [3 Import LIBRARIES](#sec3)"
   ]
  },
  {
   "cell_type": "code",
   "execution_count": 1,
   "id": "428e6baf",
   "metadata": {},
   "outputs": [],
   "source": [
    "import os\n",
    "import pandas as pd\n",
    "import numpy as np\n",
    "import re\n",
    "import pandas_profiling\n",
    "import matplotlib.pyplot as plt\n",
    "import seaborn as sns\n",
    "import plotly.express as px\n",
    "import statsmodels.api as sm\n",
    "import warnings\n",
    "from jupyterthemes import jtplot\n",
    "\n",
    "from textblob import TextBlob  # for sentiment analysis\n",
    "from wordcloud import WordCloud, STOPWORDS # for creating cloud of words\n",
    "from sklearn.cluster import DBSCAN\n",
    "\n",
    "from sklearn.preprocessing import LabelEncoder, OneHotEncoder\n",
    "from sklearn.preprocessing import StandardScaler, RobustScaler\n",
    "\n",
    "from sklearn.model_selection import train_test_split\n",
    "from sklearn.metrics import mean_absolute_error, mean_squared_error"
   ]
  },
  {
   "cell_type": "code",
   "execution_count": 2,
   "id": "a947f396",
   "metadata": {},
   "outputs": [],
   "source": [
    "warnings.filterwarnings(\"ignore\")\n",
    "\n",
    "%matplotlib inline\n",
    "pd.set_option('display.max_rows', 50)  # Show more rows\n",
    "pd.set_option('display.max_columns', 50)  # Show more columns\n",
    "plt.style.use('ggplot')  # Nice plotting\n",
    "\n",
    "jtplot.style(theme='monokai', context='notebook', ticks=True, grid=True)"
   ]
  },
  {
   "cell_type": "code",
   "execution_count": 3,
   "id": "2ae3355c",
   "metadata": {},
   "outputs": [
    {
     "data": {
      "image/png": "[encoded data removed]",
      "text/plain": [
       "<Figure size 360x72 with 1 Axes>"
      ]
     },
     "metadata": {},
     "output_type": "display_data"
    }
   ],
   "source": [
    "# Set project colors\n",
    "colors = ['#001c57', '#50248f', '#a6a6a6', '#38d1ff','#cc3181']\n",
    "sns.palplot(sns.color_palette(colors))"
   ]
  },
  {
   "cell_type": "markdown",
   "id": "8e3c6ebd",
   "metadata": {},
   "source": [
    "<a id=\"sec4\"></a>\n",
    "# [4 FUNCTIONS and CLASSES](#sec4)\n",
    "[(INDEX)](#sec2)"
   ]
  },
  {
   "cell_type": "markdown",
   "id": "383d4ab1",
   "metadata": {},
   "source": [
    "<a id=\"sec4.1\"></a>\n",
    "## [4.1 GENERAL FUNCTIONS and CLASSES](#sec4.1)\n",
    "[(INDEX)](#sec2)"
   ]
  },
  {
   "cell_type": "code",
   "execution_count": 4,
   "id": "801e5e93",
   "metadata": {},
   "outputs": [],
   "source": [
    "def pandas_report(data, title, minimal=True):\n",
    "    ''' Function is called for generating of dataset profile-report'''\n",
    "\n",
    "    profile = data.profile_report(title=title,\n",
    "                                  progress_bar=False,\n",
    "                                  minimal=minimal,\n",
    "                                  correlations={\n",
    "                                      'pearson': {\n",
    "                                          'calculate': True\n",
    "                                      },\n",
    "                                      'spearman': {\n",
    "                                          'calculate': True\n",
    "                                      },\n",
    "                                      'kendall': {\n",
    "                                          'calculate': False\n",
    "                                      },\n",
    "                                      'phi_k': {\n",
    "                                          'calculate': False\n",
    "                                      },\n",
    "                                      'cramers': {\n",
    "                                          'calculate': False\n",
    "                                      }\n",
    "                                  },\n",
    "                                  interactions={\n",
    "                                      'continuous': True,\n",
    "                                      'targets': []\n",
    "                                  },\n",
    "                                  missing_diagrams={\n",
    "                                      'heatmap': True,\n",
    "                                      'dendrogram': False,\n",
    "                                      'matrix': True\n",
    "                                  },\n",
    "                                  vars={'cat': {\n",
    "                                      'n_obs': 10\n",
    "                                  }})\n",
    "\n",
    "    return profile"
   ]
  },
  {
   "cell_type": "code",
   "execution_count": 5,
   "id": "1b575d01",
   "metadata": {},
   "outputs": [],
   "source": [
    "def get_boxplot(data,\n",
    "                X_axis,\n",
    "                Y_axis,\n",
    "                hue=None,\n",
    "                figsize=(7, 5),\n",
    "                take_less_box=False):\n",
    "    '''Function is called to plot boxplots\n",
    "    ------\n",
    "    data - pandas dataframe\n",
    "    X_axis - column need to be reflected in X axis\n",
    "    Y_axis - column need to be reflected in X axis\n",
    "    take_less_box - Default is False. If need to plot only 7 boxes\n",
    "    '''\n",
    "    if take_less_box:\n",
    "        fig, ax = plt.subplots(figsize=figsize)\n",
    "        sns.boxplot(x=X_axis,\n",
    "                    y=Y_axis,\n",
    "                    hue=hue,\n",
    "                    data=data.loc[data.loc[:, X_axis].isin(\n",
    "                        data.loc[:, X_axis].value_counts().index[:7])],\n",
    "                    palette=colors)\n",
    "        plt.xticks(rotation=45)\n",
    "        ax.set_title(f'Boxplot for {X_axis} and {Y_axis}', fontsize=14)\n",
    "        plt.show()\n",
    "\n",
    "    else:\n",
    "        fig, ax = plt.subplots(figsize=figsize)\n",
    "        sns.boxplot(x=X_axis, y=Y_axis, hue=hue, data=data, palette=colors)\n",
    "        plt.xticks(rotation=45)\n",
    "        ax.set_title(f'Boxplot for {X_axis} and {Y_axis}', fontsize=14)\n",
    "        plt.show()"
   ]
  },
  {
   "cell_type": "code",
   "execution_count": 6,
   "id": "3edcecee",
   "metadata": {},
   "outputs": [],
   "source": [
    "def get_scatter_plot(data, X_axis, Y_axis, title=None, width=600, height=500):\n",
    "\n",
    "    title = title if title is not None else f\"Scatterplot for {X_axis} VS {Y_axis}\"\n",
    "    fig = px.scatter(data, x=X_axis, y=Y_axis, size=Y_axis)\n",
    "    # Edit the layout\n",
    "    fig.update_layout(title=title)\n",
    "    fig.update_xaxes(title=(f'{X_axis}'))\n",
    "    fig.update_yaxes(title=(f'{Y_axis}'))\n",
    "    fig.update_layout(width=width)\n",
    "    fig.update_layout(height=height)\n",
    "    fig.show()"
   ]
  },
  {
   "cell_type": "code",
   "execution_count": 7,
   "id": "6b372492",
   "metadata": {},
   "outputs": [],
   "source": [
    "def get_variable_distribution(col, title=None):\n",
    "    '''Function is called to plot feture distribution'''\n",
    "\n",
    "    title = title if title is not None else f\"Distribution for '{col}\"\n",
    "    fig, (ax1, ax2, ax3) = plt.subplots(1, 3, figsize=(15, 5),)\n",
    "    fig = sm.qqplot(col, fit=True, line='45', ax=ax1)\n",
    "    fig.suptitle(title, fontsize=20)\n",
    "\n",
    "    sns.distplot(col.values, bins=20, color=colors[1], ax=ax2)\n",
    "#     sns.violinplot(col.values, color=colors[3], bw=.3, cut=1, linewidth=4)\n",
    "    sns.boxplot(col.values,color=colors[3])\n",
    "\n",
    "    ax1.set_title('QQ-plot')\n",
    "    ax2.set_title('Distribution')\n",
    "    ax3.set_title('Boxplot')\n",
    "\n",
    "    plt.show()"
   ]
  },
  {
   "cell_type": "code",
   "execution_count": 8,
   "id": "eb657feb",
   "metadata": {},
   "outputs": [],
   "source": [
    "def corr_matrix(data, det=True, pltx=10, plty=10):\n",
    "    '''Funcion is called for making a correlation matrix'''\n",
    "\n",
    "    corr = data.corr()\n",
    "    if det:\n",
    "\n",
    "        evals, evec = np.linalg.eig(corr)\n",
    "        ev_product = np.prod(evals)\n",
    "\n",
    "        print(f'Rank of Matrix: {np.linalg.matrix_rank(corr)}')\n",
    "        print(f'Determinant of matrix: {np.round(ev_product,4)}')\n",
    "        print(f'Shape of matrix: {np.shape(corr)}')\n",
    "\n",
    "    plt.figure(figsize=(pltx, plty))\n",
    "    sns.heatmap(corr[(corr >= .2) | (corr <= -.2)],\n",
    "                cmap='viridis',\n",
    "                vmin=-1.0,\n",
    "                linewidths=0.1,\n",
    "                annot=True,\n",
    "                annot_kws={\"size\": 10},\n",
    "                square=True)\n",
    "    #     sns.heatmap(X,vmin=0,vmax=.9,annot=True,square=True)\n",
    "    plt.show()"
   ]
  },
  {
   "cell_type": "code",
   "execution_count": 9,
   "id": "114c6ca7",
   "metadata": {},
   "outputs": [],
   "source": [
    "def missing_vars(data, column, random_proba=True):\n",
    "    '''Function is called for filling of missing data'''\n",
    "    # With using probability and random choise\n",
    "\n",
    "    if random_proba:\n",
    "        col_name = data[column].value_counts().index.to_list(\n",
    "        )  # get list of values\n",
    "        col_distr = data[column].value_counts(\n",
    "            normalize=True).values  # get l;ist of probs\n",
    "        missing = data[col].isnull()  # flag of missing val\n",
    "        # substitute values from the list of names in accordance with the probability of meeting the name\n",
    "        data.loc[missing, [column]] = np.random.choice(col_name,\n",
    "                                                       size=len(data[missing]),\n",
    "                                                       p=col_distr)\n",
    "\n",
    "    # Using  most common in  column\n",
    "    data[col] = data[col].fillna(data[col].value_counts().index[0])"
   ]
  },
  {
   "cell_type": "code",
   "execution_count": 10,
   "id": "414f2c12",
   "metadata": {},
   "outputs": [],
   "source": [
    "class Outliers_detector():\n",
    "    def __init__(self, df):\n",
    "        self.df = df\n",
    "\n",
    "    def get_IQR_outliers(self, column):\n",
    "        '''Method is called to detect IQR outliers'''\n",
    "        outliers = dict()\n",
    "        q1, q3 = np.percentile(sorted(self.df[column]), [25, 75])\n",
    "\n",
    "        IQR = q3 - q1\n",
    "\n",
    "        l_b = q1 - (1.5 * IQR)  # lower bound\n",
    "        u_b = q3 + (1.5 * IQR)  # upper bound\n",
    "        outl_count = len(self.df[column][self.df[column] < l_b]) + len(\n",
    "            self.df[column][self.df[column] > u_b])\n",
    "\n",
    "        outliers['lower_bound'] = round(l_b, 3)\n",
    "        outliers['upper_bound'] = round(u_b, 3)\n",
    "        outliers['outlier_count'] = outl_count\n",
    "\n",
    "        return outliers\n",
    "\n",
    "    def get_dbscan_outliers(self, column1, column2, dbscan_eps,\n",
    "                            dbscan_minsample, cluster_num):\n",
    "        '''Method is called for detecting outliers for two columns by dbscan'''\n",
    "\n",
    "        scaler = RobustScaler()\n",
    "        scale_column1 = scaler.fit_transform(pd.DataFrame(\n",
    "            self.df[column1])).reshape(1, -1)[0]\n",
    "        scale_column2 = scaler.fit_transform(pd.DataFrame(\n",
    "            self.df[column2])).reshape(1, -1)[0]\n",
    "        df_temp = pd.DataFrame({\n",
    "            'column1': scale_column1,\n",
    "            'column2': scale_column2\n",
    "        })\n",
    "        clustering = DBSCAN(eps=dbscan_eps,\n",
    "                            min_samples=dbscan_minsample).fit(df_temp.values)\n",
    "        df_temp[\"cluster\"] = clustering.labels_\n",
    "        df_temp.index = self.df.index\n",
    "        fig = px.scatter(self.df,\n",
    "                         x=scale_column1,\n",
    "                         y=scale_column2,\n",
    "                         color=clustering.labels_,\n",
    "                         size=column2)\n",
    "        # Edit the layout\n",
    "        fig.update_layout(title='Detected Custers\\n')\n",
    "        fig.update_xaxes(title=(f'{column1}'))\n",
    "        fig.update_yaxes(title=(f'{column2}'))\n",
    "        fig.update_layout(width=700)\n",
    "        fig.update_layout(height=600)\n",
    "        fig.show()\n",
    "\n",
    "        return df_temp[df_temp[\"cluster\"] == cluster_num].index\n",
    "\n",
    "    def get_dbscan_outliers3D(self, column1, column2, column3, dbscan_eps,\n",
    "                              dbscan_minsample, cluster_num):\n",
    "        '''Method is called for detecting outliers for two columns by dbscan in 3D axis'''\n",
    "\n",
    "        scaler = RobustScaler()\n",
    "        scale_column1 = scaler.fit_transform(pd.DataFrame(\n",
    "            self.df[column1])).reshape(1, -1)[0]\n",
    "        scale_column2 = scaler.fit_transform(pd.DataFrame(\n",
    "            self.df[column2])).reshape(1, -1)[0]\n",
    "        scale_column3 = scaler.fit_transform(pd.DataFrame(\n",
    "            self.df[column3])).reshape(1, -1)[0]\n",
    "        df_temp = pd.DataFrame({\n",
    "            'column1': scale_column1,\n",
    "            'column2': scale_column2,\n",
    "            'column3': scale_column3\n",
    "        })\n",
    "        clustering = DBSCAN(eps=dbscan_eps,\n",
    "                            min_samples=dbscan_minsample).fit(df_temp.values)\n",
    "        df_temp[\"cluster\"] = clustering.labels_\n",
    "        df_temp.index = self.df.index\n",
    "        fig = px.scatter_3d(self.df,\n",
    "                            x=scale_column1,\n",
    "                            y=scale_column2,\n",
    "                            z=scale_column3,\n",
    "                            color=clustering.labels_,\n",
    "                            size=column3)\n",
    "        # Edit the layout\n",
    "        fig.update_layout(title='Detected Custers\\n')\n",
    "\n",
    "        fig.update_layout(scene = dict(\n",
    "                    xaxis_title=(f'{column1}'),\n",
    "                    yaxis_title=(f'{column2}'),\n",
    "                    zaxis_title=(f'{column3}')),\n",
    "                    width=700,\n",
    "                    margin=dict(r=40, b=30, l=30, t=30)\n",
    "                         )\n",
    "\n",
    "#         fig.update_layout(width=700)\n",
    "#         fig.update_layout(height=600)\n",
    "        fig.show()\n",
    "\n",
    "        return df_temp[df_temp[\"cluster\"] == cluster_num].index"
   ]
  },
  {
   "cell_type": "code",
   "execution_count": 11,
   "id": "3773fc06",
   "metadata": {},
   "outputs": [],
   "source": [
    "class String_cleaner():\n",
    "    \n",
    "    # keep numbers and letters in a string\n",
    "    def letnum_filter(self,string):\n",
    "        f = filter(str.isalnum, string)\n",
    "        s1 = ''.join(f)\n",
    "        return s1\n",
    "    \n",
    "    # keep numbers in a string\n",
    "    def num_filter(self,string):\n",
    "        f = filter(str.isnumeric, string)\n",
    "        s2 = ''.join(f)\n",
    "        return s2  \n",
    "    \n",
    "    # Keep letters in a string\n",
    "    def letter_filter(self,string):\n",
    "        f = filter(str.isalpha, string)\n",
    "        s3 = ''.join(f)\n",
    "        return s3\n",
    "    \n",
    "    # removing spaces\n",
    "    def remove_space(self,string):\n",
    "        s4 = str(string)\n",
    "        s4 = s4.strip()\n",
    "        s4 = re.sub(r'(\\d)\\s+(\\d)', r'\\1\\2', s4)\n",
    "        return s4"
   ]
  },
  {
   "cell_type": "code",
   "execution_count": 12,
   "id": "ac5ab0ea",
   "metadata": {},
   "outputs": [],
   "source": [
    "def cleanTxt(text):\n",
    "    '''Function is called for cleaning text from trash\n",
    "    INPUT: dirty string\n",
    "    OUTPUT: More or less clean string'''\n",
    "\n",
    "    emoji_pattern = re.compile(\n",
    "        \"[\"\n",
    "        u\"\\U0001F600-\\U0001F64F\"  # emoticons\n",
    "        u\"\\U0001F300-\\U0001F5FF\"  # symbols & pictographs\n",
    "        u\"\\U0001F680-\\U0001F6FF\"  # transport & map symbols\n",
    "        u\"\\U0001F1E0-\\U0001F1FF\"  # flags (iOS)\n",
    "        \"]+\",\n",
    "        flags=re.UNICODE)\n",
    "\n",
    "    text = re.sub(r'@[А-Яа-я0-9]+', '', text)\n",
    "    text = re.sub(r'@[A-Za-z0-9]+', '', text)  # Remove @\n",
    "    text = re.sub(r'#', '', text)  # remove #\n",
    "    text = re.sub(r'{', '', text)\n",
    "    text = re.sub(r'}', '', text)\n",
    "    text = re.sub(\"[.|/|-|\\|,|!]\", '', text)  # ~~~~~~~~~~~\n",
    "    text = re.sub(r'^а-яА-Я', '', text)\n",
    "    text = re.sub('^a-zA-Z', '', text)\n",
    "    text = re.sub(r'https?:\\/\\/\\S+', '', text)  # remove hyperlink\n",
    "    text = re.sub(r'\\n', '', text)\n",
    "    text = emoji_pattern.sub(r'', text)\n",
    "\n",
    "    text = text.strip()\n",
    "    text = text.lower()\n",
    "\n",
    "    #text = text.split()\n",
    "    return text"
   ]
  },
  {
   "cell_type": "code",
   "execution_count": 13,
   "id": "c812e558",
   "metadata": {},
   "outputs": [],
   "source": [
    "class Encoder:\n",
    "    def __init__(self, dataframe):\n",
    "        self.dataframe = dataframe\n",
    "\n",
    "    def label_encoder(self, column):\n",
    "        '''Method for label encoding'''\n",
    "        le = LabelEncoder()\n",
    "        self.dataframe[column] = le.fit_transform(self.dataframe[column])\n",
    "\n",
    "    def hot_encoder(self, column):\n",
    "        '''Method for hot encoding'''\n",
    "        ohe = OneHotEncoder(handle_unknown='ignore', sparse=False)\n",
    "        aux_df = pd.DataFrame(ohe.fit_transform(self.dataframe[[column]]))\n",
    "        aux_df.columns = ohe.get_feature_names([f'hot_{column}'])\n",
    "        self.dataframe = self.dataframe.drop(col, axis=1)\n",
    "        self.dataframe = pd.concat([self.dataframe, aux_df], axis=1)\n",
    "        return self.dataframe"
   ]
  },
  {
   "cell_type": "markdown",
   "id": "257e46d7",
   "metadata": {},
   "source": [
    "<a id=\"sec4.2\"></a>\n",
    "## [4.2 Specific Functions](#sec4.2)\n",
    "[(INDEX)](#sec2)"
   ]
  },
  {
   "cell_type": "code",
   "execution_count": 14,
   "id": "4d1003a5",
   "metadata": {},
   "outputs": [],
   "source": [
    "# Defining MAPE function since it was removed from sklearn\n",
    "def mape(y_true, y_pred):\n",
    "    'Function to calculate MAPE metric'\n",
    "#     y_true, y_pred = np.expm1(y_true), np.expm1(y_pred)\n",
    "    y_true, y_pred = np.array(y_true), np.array(y_pred)\n",
    "    return np.mean(np.abs((y_true - y_pred) / y_true) * 100)"
   ]
  },
  {
   "cell_type": "code",
   "execution_count": 15,
   "id": "52468ddd",
   "metadata": {},
   "outputs": [],
   "source": [
    "def get_regression_metrics(report_df,y_true, y_pred, name, exp = True):\n",
    "    '''Create and add metrics into a pandas DF after experiment'''\n",
    "    if exp: \n",
    "        y_true, y_pred = np.expm1(y_true), np.expm1(y_pred)\n",
    "\n",
    "    report = pd.DataFrame(columns={'MAPE'}, data=[0])\n",
    "    try:\n",
    "        report['MAPE'] = mape(y_true, y_pred)\n",
    "    except:\n",
    "        report['MAPE'] = 'failed'\n",
    "    try:\n",
    "        report['MAE'] = mean_absolute_error(y_true, y_pred)\n",
    "    except:\n",
    "        report['MAE'] = 'None'\n",
    "    try:\n",
    "        report['MSE'] = mean_squared_error(y_true, y_pred)\n",
    "    except:\n",
    "        report['MSE'] = 'None'\n",
    "    try:\n",
    "        report['RMSE'] = np.sqrt(mean_squared_error(y_true, y_pred))\n",
    "    except:\n",
    "        report['RMSE'] = 'None'\n",
    "\n",
    "    report.index = [name]\n",
    "    report_df = report_df.append(report)\n",
    "    return report_df"
   ]
  },
  {
   "cell_type": "markdown",
   "id": "29f97449",
   "metadata": {},
   "source": [
    "<a id=\"sec5\"></a>\n",
    "# [5.Load and Chek the Dataset](#sec5)\n",
    "[(INDEX)](#sec2)"
   ]
  },
  {
   "cell_type": "code",
   "execution_count": 16,
   "id": "ac3f472f",
   "metadata": {},
   "outputs": [],
   "source": [
    "df_train = pd.read_csv('train.csv')\n",
    "df_test = pd.read_csv('test.csv')"
   ]
  },
  {
   "cell_type": "code",
   "execution_count": 17,
   "id": "2472140a",
   "metadata": {},
   "outputs": [
    {
     "name": "stdout",
     "output_type": "stream",
     "text": [
      "<class 'pandas.core.frame.DataFrame'>\n",
      "RangeIndex: 1671 entries, 0 to 1670\n",
      "Data columns (total 21 columns):\n",
      " #   Column                Non-Null Count  Dtype \n",
      "---  ------                --------------  ----- \n",
      " 0   bodyType              1671 non-null   object\n",
      " 1   brand                 1671 non-null   object\n",
      " 2   color                 1671 non-null   object\n",
      " 3   description           1671 non-null   object\n",
      " 4   engineDisplacement    1671 non-null   object\n",
      " 5   enginePower           1671 non-null   object\n",
      " 6   fuelType              1671 non-null   object\n",
      " 7   mileage               1671 non-null   int64 \n",
      " 8   modelDate             1671 non-null   int64 \n",
      " 9   model_info            1671 non-null   object\n",
      " 10  name                  1671 non-null   object\n",
      " 11  numberOfDoors         1671 non-null   int64 \n",
      " 12  productionDate        1671 non-null   int64 \n",
      " 13  sell_id               1671 non-null   int64 \n",
      " 14  vehicleConfiguration  1671 non-null   object\n",
      " 15  vehicleTransmission   1671 non-null   object\n",
      " 16  Владельцы             1671 non-null   object\n",
      " 17  Владение              579 non-null    object\n",
      " 18  ПТС                   1671 non-null   object\n",
      " 19  Привод                1671 non-null   object\n",
      " 20  Руль                  1671 non-null   object\n",
      "dtypes: int64(5), object(16)\n",
      "memory usage: 274.3+ KB\n"
     ]
    },
    {
     "data": {
      "text/html": [
       "<div>\n",
       "<style scoped>\n",
       "    .dataframe tbody tr th:only-of-type {\n",
       "        vertical-align: middle;\n",
       "    }\n",
       "\n",
       "    .dataframe tbody tr th {\n",
       "        vertical-align: top;\n",
       "    }\n",
       "\n",
       "    .dataframe thead th {\n",
       "        text-align: right;\n",
       "    }\n",
       "</style>\n",
       "<table border=\"1\" class=\"dataframe\">\n",
       "  <thead>\n",
       "    <tr style=\"text-align: right;\">\n",
       "      <th></th>\n",
       "      <th>bodyType</th>\n",
       "      <th>brand</th>\n",
       "      <th>color</th>\n",
       "      <th>description</th>\n",
       "      <th>engineDisplacement</th>\n",
       "      <th>enginePower</th>\n",
       "      <th>fuelType</th>\n",
       "      <th>mileage</th>\n",
       "      <th>modelDate</th>\n",
       "      <th>model_info</th>\n",
       "      <th>name</th>\n",
       "      <th>numberOfDoors</th>\n",
       "      <th>productionDate</th>\n",
       "      <th>sell_id</th>\n",
       "      <th>vehicleConfiguration</th>\n",
       "      <th>vehicleTransmission</th>\n",
       "      <th>Владельцы</th>\n",
       "      <th>Владение</th>\n",
       "      <th>ПТС</th>\n",
       "      <th>Привод</th>\n",
       "      <th>Руль</th>\n",
       "    </tr>\n",
       "  </thead>\n",
       "  <tbody>\n",
       "    <tr>\n",
       "      <th>313</th>\n",
       "      <td>купе</td>\n",
       "      <td>AUDI</td>\n",
       "      <td>серый</td>\n",
       "      <td>ОРИГИНАЛ ПТС!!!...ОДИН ВЛАДЕЛЕЦ..... (РЕГИСТРА...</td>\n",
       "      <td>3.0 LTR</td>\n",
       "      <td>354 N12</td>\n",
       "      <td>бензин</td>\n",
       "      <td>29100</td>\n",
       "      <td>2016</td>\n",
       "      <td>S5</td>\n",
       "      <td>3.0 AT (354 л.с.) 4WD</td>\n",
       "      <td>2</td>\n",
       "      <td>2017</td>\n",
       "      <td>1098515156</td>\n",
       "      <td>COUPE AUTOMATIC 3.0</td>\n",
       "      <td>автоматическая</td>\n",
       "      <td>3 или более</td>\n",
       "      <td>NaN</td>\n",
       "      <td>Оригинал</td>\n",
       "      <td>полный</td>\n",
       "      <td>Левый</td>\n",
       "    </tr>\n",
       "  </tbody>\n",
       "</table>\n",
       "</div>"
      ],
      "text/plain": [
       "    bodyType brand  color                                        description  \\\n",
       "313     купе  AUDI  серый  ОРИГИНАЛ ПТС!!!...ОДИН ВЛАДЕЛЕЦ..... (РЕГИСТРА...   \n",
       "\n",
       "    engineDisplacement enginePower fuelType  mileage  modelDate model_info  \\\n",
       "313            3.0 LTR     354 N12   бензин    29100       2016         S5   \n",
       "\n",
       "                      name  numberOfDoors  productionDate     sell_id  \\\n",
       "313  3.0 AT (354 л.с.) 4WD              2            2017  1098515156   \n",
       "\n",
       "    vehicleConfiguration vehicleTransmission    Владельцы Владение       ПТС  \\\n",
       "313  COUPE AUTOMATIC 3.0      автоматическая  3 или более      NaN  Оригинал   \n",
       "\n",
       "     Привод   Руль  \n",
       "313  полный  Левый  "
      ]
     },
     "execution_count": 17,
     "metadata": {},
     "output_type": "execute_result"
    }
   ],
   "source": [
    "df_test.info()\n",
    "df_test.sample(1)"
   ]
  },
  {
   "cell_type": "code",
   "execution_count": 18,
   "id": "950a43fc",
   "metadata": {},
   "outputs": [
    {
     "name": "stdout",
     "output_type": "stream",
     "text": [
      "<class 'pandas.core.frame.DataFrame'>\n",
      "RangeIndex: 6682 entries, 0 to 6681\n",
      "Data columns (total 22 columns):\n",
      " #   Column                Non-Null Count  Dtype  \n",
      "---  ------                --------------  -----  \n",
      " 0   bodyType              6682 non-null   object \n",
      " 1   brand                 6682 non-null   object \n",
      " 2   color                 6682 non-null   object \n",
      " 3   description           6682 non-null   object \n",
      " 4   engineDisplacement    6682 non-null   object \n",
      " 5   enginePower           6682 non-null   object \n",
      " 6   fuelType              6682 non-null   object \n",
      " 7   mileage               6682 non-null   int64  \n",
      " 8   modelDate             6682 non-null   int64  \n",
      " 9   model_info            6682 non-null   object \n",
      " 10  name                  6682 non-null   object \n",
      " 11  numberOfDoors         6682 non-null   int64  \n",
      " 12  price                 6682 non-null   float64\n",
      " 13  productionDate        6682 non-null   int64  \n",
      " 14  sell_id               6682 non-null   int64  \n",
      " 15  vehicleConfiguration  6682 non-null   object \n",
      " 16  vehicleTransmission   6682 non-null   object \n",
      " 17  Владельцы             6681 non-null   object \n",
      " 18  Владение              2356 non-null   object \n",
      " 19  ПТС                   6682 non-null   object \n",
      " 20  Привод                6682 non-null   object \n",
      " 21  Руль                  6682 non-null   object \n",
      "dtypes: float64(1), int64(5), object(16)\n",
      "memory usage: 1.1+ MB\n"
     ]
    },
    {
     "data": {
      "text/html": [
       "<div>\n",
       "<style scoped>\n",
       "    .dataframe tbody tr th:only-of-type {\n",
       "        vertical-align: middle;\n",
       "    }\n",
       "\n",
       "    .dataframe tbody tr th {\n",
       "        vertical-align: top;\n",
       "    }\n",
       "\n",
       "    .dataframe thead th {\n",
       "        text-align: right;\n",
       "    }\n",
       "</style>\n",
       "<table border=\"1\" class=\"dataframe\">\n",
       "  <thead>\n",
       "    <tr style=\"text-align: right;\">\n",
       "      <th></th>\n",
       "      <th>bodyType</th>\n",
       "      <th>brand</th>\n",
       "      <th>color</th>\n",
       "      <th>description</th>\n",
       "      <th>engineDisplacement</th>\n",
       "      <th>enginePower</th>\n",
       "      <th>fuelType</th>\n",
       "      <th>mileage</th>\n",
       "      <th>modelDate</th>\n",
       "      <th>model_info</th>\n",
       "      <th>name</th>\n",
       "      <th>numberOfDoors</th>\n",
       "      <th>price</th>\n",
       "      <th>productionDate</th>\n",
       "      <th>sell_id</th>\n",
       "      <th>vehicleConfiguration</th>\n",
       "      <th>vehicleTransmission</th>\n",
       "      <th>Владельцы</th>\n",
       "      <th>Владение</th>\n",
       "      <th>ПТС</th>\n",
       "      <th>Привод</th>\n",
       "      <th>Руль</th>\n",
       "    </tr>\n",
       "  </thead>\n",
       "  <tbody>\n",
       "    <tr>\n",
       "      <th>6248</th>\n",
       "      <td>седан</td>\n",
       "      <td>MERCEDES</td>\n",
       "      <td>серебристый</td>\n",
       "      <td>С огромным сожалением продаю уникальный автомо...</td>\n",
       "      <td>1.8 LTR</td>\n",
       "      <td>109 N12</td>\n",
       "      <td>бензин</td>\n",
       "      <td>224000</td>\n",
       "      <td>1982</td>\n",
       "      <td>W201</td>\n",
       "      <td>1.8 AT (109 л.с.)</td>\n",
       "      <td>4</td>\n",
       "      <td>499000.0</td>\n",
       "      <td>1993</td>\n",
       "      <td>1082121156</td>\n",
       "      <td>SEDAN AUTOMATIC 1.8</td>\n",
       "      <td>автоматическая</td>\n",
       "      <td>3 или более</td>\n",
       "      <td>5 лет и 9 месяцев</td>\n",
       "      <td>Оригинал</td>\n",
       "      <td>задний</td>\n",
       "      <td>Левый</td>\n",
       "    </tr>\n",
       "  </tbody>\n",
       "</table>\n",
       "</div>"
      ],
      "text/plain": [
       "     bodyType     brand        color  \\\n",
       "6248    седан  MERCEDES  серебристый   \n",
       "\n",
       "                                            description engineDisplacement  \\\n",
       "6248  С огромным сожалением продаю уникальный автомо...            1.8 LTR   \n",
       "\n",
       "     enginePower fuelType  mileage  modelDate model_info               name  \\\n",
       "6248     109 N12   бензин   224000       1982       W201  1.8 AT (109 л.с.)   \n",
       "\n",
       "      numberOfDoors     price  productionDate     sell_id  \\\n",
       "6248              4  499000.0            1993  1082121156   \n",
       "\n",
       "     vehicleConfiguration vehicleTransmission    Владельцы           Владение  \\\n",
       "6248  SEDAN AUTOMATIC 1.8      автоматическая  3 или более  5 лет и 9 месяцев   \n",
       "\n",
       "           ПТС  Привод   Руль  \n",
       "6248  Оригинал  задний  Левый  "
      ]
     },
     "execution_count": 18,
     "metadata": {},
     "output_type": "execute_result"
    }
   ],
   "source": [
    "df_train.info()\n",
    "df_train.sample(1)"
   ]
  },
  {
   "cell_type": "code",
   "execution_count": 19,
   "id": "aeb193e6",
   "metadata": {},
   "outputs": [
    {
     "name": "stdout",
     "output_type": "stream",
     "text": [
      "Shape of Train Dataset:(6682, 22)\n",
      "Shape of Test Dataset:(1671, 21) \n",
      "\n"
     ]
    }
   ],
   "source": [
    "print(\n",
    "    f'Shape of Train Dataset:{df_train.shape}\\nShape of Test Dataset:{df_test.shape} \\n'\n",
    ")"
   ]
  },
  {
   "cell_type": "markdown",
   "id": "37dbc2dd",
   "metadata": {},
   "source": [
    "<a id=\"sec6\"></a>\n",
    "# [6 BASELINE MODEL](#sec6)\n",
    "[(INDEX)](#sec2)"
   ]
  },
  {
   "cell_type": "code",
   "execution_count": 20,
   "id": "7ab5827c",
   "metadata": {},
   "outputs": [],
   "source": [
    "# split данных\n",
    "data_train, data_test = train_test_split(df_train,\n",
    "                                         test_size=0.15,\n",
    "                                         shuffle=True,\n",
    "                                         random_state=42)"
   ]
  },
  {
   "cell_type": "code",
   "execution_count": 21,
   "id": "eace5e15",
   "metadata": {
    "scrolled": true
   },
   "outputs": [
    {
     "name": "stdout",
     "output_type": "stream",
     "text": [
      "Train size: (5679, 22), Validation size: (1003, 22)\n"
     ]
    }
   ],
   "source": [
    "print(f'Train size: {data_train.shape}, Validation size: {data_test.shape}')"
   ]
  },
  {
   "cell_type": "code",
   "execution_count": 22,
   "id": "c540206d",
   "metadata": {},
   "outputs": [],
   "source": [
    "# Наивная модель\n",
    "predicts = []\n",
    "for index, row in pd.DataFrame(data_test[['model_info',\n",
    "                                          'productionDate']]).iterrows():\n",
    "#     query = f\"model_info == '{row[0]}' and productionDate == '{(row[1])}'\"\n",
    "#     predicts.append(data_train.query(query)['price'].median())\n",
    "    predicts.append(data_train[(data_train['model_info'] == row[0])\n",
    "                               & (data_train['productionDate'] == row[1])]['price'].median())"
   ]
  },
  {
   "cell_type": "code",
   "execution_count": 23,
   "id": "cf3f4ac3",
   "metadata": {},
   "outputs": [],
   "source": [
    "# заполним не найденные совпадения\n",
    "predicts = pd.DataFrame(predicts)\n",
    "predicts = predicts.fillna(predicts.median())\n",
    "# округлим\n",
    "predicts = (predicts // 1000) * 1000"
   ]
  },
  {
   "cell_type": "markdown",
   "id": "d1fd20aa",
   "metadata": {},
   "source": [
    "Check the accuracy of the model"
   ]
  },
  {
   "cell_type": "code",
   "execution_count": 24,
   "id": "94d8efa8",
   "metadata": {},
   "outputs": [],
   "source": [
    "# create empty df\n",
    "df_report = pd.DataFrame(data=None)"
   ]
  },
  {
   "cell_type": "code",
   "execution_count": 25,
   "id": "4899d9a4",
   "metadata": {
    "scrolled": true
   },
   "outputs": [
    {
     "data": {
      "text/html": [
       "<div>\n",
       "<style scoped>\n",
       "    .dataframe tbody tr th:only-of-type {\n",
       "        vertical-align: middle;\n",
       "    }\n",
       "\n",
       "    .dataframe tbody tr th {\n",
       "        vertical-align: top;\n",
       "    }\n",
       "\n",
       "    .dataframe thead th {\n",
       "        text-align: right;\n",
       "    }\n",
       "</style>\n",
       "<table border=\"1\" class=\"dataframe\">\n",
       "  <thead>\n",
       "    <tr style=\"text-align: right;\">\n",
       "      <th></th>\n",
       "      <th>MAPE</th>\n",
       "      <th>MAE</th>\n",
       "      <th>MSE</th>\n",
       "      <th>RMSE</th>\n",
       "    </tr>\n",
       "  </thead>\n",
       "  <tbody>\n",
       "    <tr>\n",
       "      <th>BaseLine</th>\n",
       "      <td>19.877351</td>\n",
       "      <td>347328.24327</td>\n",
       "      <td>8.691772e+11</td>\n",
       "      <td>932296.757864</td>\n",
       "    </tr>\n",
       "  </tbody>\n",
       "</table>\n",
       "</div>"
      ],
      "text/plain": [
       "               MAPE           MAE           MSE           RMSE\n",
       "BaseLine  19.877351  347328.24327  8.691772e+11  932296.757864"
      ]
     },
     "execution_count": 25,
     "metadata": {},
     "output_type": "execute_result"
    }
   ],
   "source": [
    "# Run func to get regression metrics\n",
    "df_report = get_regression_metrics(df_report, data_test['price'],\n",
    "                                   predicts[0].values, 'BaseLine',exp = False)\n",
    "df_report"
   ]
  },
  {
   "cell_type": "markdown",
   "id": "1c4413b9",
   "metadata": {},
   "source": [
    "<a id=\"sec7\"></a>\n",
    "# [7 Pre-processing before stacking data sets](#sec7)\n",
    "[(INDEX)](#sec2)"
   ]
  },
  {
   "cell_type": "markdown",
   "id": "1deb02db",
   "metadata": {},
   "source": [
    "Rename columns removing spaces and substituting capital letters"
   ]
  },
  {
   "cell_type": "code",
   "execution_count": 26,
   "id": "1c0f2c24",
   "metadata": {},
   "outputs": [],
   "source": [
    "columns = {\n",
    "    'bodyType': 'body_type',\n",
    "    'engineDisplacement': 'engine_displacement',\n",
    "    'enginePower': 'engine_power',\n",
    "    'fuelType': 'fuel_type',\n",
    "    'modelDate': 'model_date',\n",
    "    'numberOfDoors': 'doors_count',\n",
    "    'productionDate': 'production_date',\n",
    "    'vehicleConfiguration': 'vehicle_configuration',\n",
    "    'vehicleTransmission': 'vehicle_transmission',\n",
    "    'Владельцы': 'owner_count',\n",
    "    'Владение': 'owning_period',\n",
    "    'ПТС': 'car_passport',\n",
    "    'Привод': 'wheel_drive',\n",
    "    'Руль': 'wheel_location',\n",
    "}"
   ]
  },
  {
   "cell_type": "code",
   "execution_count": 27,
   "id": "c8617075",
   "metadata": {},
   "outputs": [],
   "source": [
    "df_test.rename(columns=columns,inplace=True)\n",
    "df_train.rename(columns=columns,inplace=True)"
   ]
  },
  {
   "cell_type": "markdown",
   "id": "4ede4895",
   "metadata": {},
   "source": [
    "Keep only float numbers in **[engine_displacement column]**."
   ]
  },
  {
   "cell_type": "code",
   "execution_count": 28,
   "id": "3e8d8c95",
   "metadata": {},
   "outputs": [],
   "source": [
    "# clear 'LTR in test set'\n",
    "df_test['engine_displacement'] = df_test['engine_displacement'].apply(\n",
    "    lambda x: str(x).replace('LTR', ''))\n",
    "# convert object to float in test set\n",
    "df_test['engine_displacement'] = df_test['engine_displacement'].apply(\n",
    "    lambda x: np.nan if x.strip() == 'undefined' else float(x))"
   ]
  },
  {
   "cell_type": "markdown",
   "id": "bf625d2d",
   "metadata": {},
   "source": [
    "Do the same for train set"
   ]
  },
  {
   "cell_type": "code",
   "execution_count": 29,
   "id": "d9e52d88",
   "metadata": {},
   "outputs": [],
   "source": [
    "# clear 'LTR in test set'\n",
    "df_train['engine_displacement'] = df_train['engine_displacement'].apply(\n",
    "    lambda x: str(x).replace('LTR', ''))\n",
    "# convert object to float in test set\n",
    "df_train['engine_displacement'] = df_train['engine_displacement'].apply(\n",
    "    lambda x: np.nan if x.strip() == 'undefined' else float(x))"
   ]
  },
  {
   "cell_type": "markdown",
   "id": "2c57482f",
   "metadata": {},
   "source": [
    "**[enginePower column]**"
   ]
  },
  {
   "cell_type": "code",
   "execution_count": 30,
   "id": "85d07c47",
   "metadata": {},
   "outputs": [],
   "source": [
    "# clear 'N12 in test set'\n",
    "df_test['engine_power'] = df_test['engine_power'].apply(\n",
    "    lambda x: str(x).replace('N12', ''))\n",
    "\n",
    "# convert object to float in test set\n",
    "df_test['engine_power'] = df_test['engine_power'].apply(\n",
    "    lambda x: np.nan if x.strip() == '' else float(x))"
   ]
  },
  {
   "cell_type": "markdown",
   "id": "acc165d6",
   "metadata": {},
   "source": [
    "Same for train set"
   ]
  },
  {
   "cell_type": "code",
   "execution_count": 31,
   "id": "dfcbd315",
   "metadata": {},
   "outputs": [],
   "source": [
    "# clear 'N12 in test set'\n",
    "df_train['engine_power'] = df_train['engine_power'].apply(\n",
    "    lambda x: str(x).replace('N12', ''))\n",
    "\n",
    "# convert object to float in test set\n",
    "df_train['engine_power'] = df_train['engine_power'].apply(\n",
    "    lambda x: np.nan if x.strip() == '' else float(x))"
   ]
  },
  {
   "cell_type": "markdown",
   "id": "65f1bf6c",
   "metadata": {},
   "source": [
    "<a id=\"sec5.1\"></a>\n",
    "# [7.1 Stacking data sets](#sec5.2)\n",
    "[(INDEX)](#sec2)"
   ]
  },
  {
   "cell_type": "markdown",
   "id": "28bb2807",
   "metadata": {},
   "source": [
    "For further feature engineering, let's combine two datasets into a one"
   ]
  },
  {
   "cell_type": "code",
   "execution_count": 32,
   "id": "614cfda4",
   "metadata": {},
   "outputs": [],
   "source": [
    "# let's mark where is train where is test set.\n",
    "df_train['sample'] = 1  # train\n",
    "df_test['sample'] = 0  # test"
   ]
  },
  {
   "cell_type": "code",
   "execution_count": 33,
   "id": "8d532704",
   "metadata": {},
   "outputs": [],
   "source": [
    "df_combined = df_train.append(df_test, sort=False).reset_index(\n",
    "    drop=True)  # combine sets"
   ]
  },
  {
   "cell_type": "markdown",
   "id": "1c62876f",
   "metadata": {},
   "source": [
    "<a id=\"sec7.2\"></a>\n",
    "## [7.2 Missing Values](#sec7.2)\n",
    "[(INDEX)](#sec2)"
   ]
  },
  {
   "cell_type": "code",
   "execution_count": 34,
   "id": "184bab61",
   "metadata": {},
   "outputs": [
    {
     "name": "stdout",
     "output_type": "stream",
     "text": [
      "body_type - 0.0%\n",
      "brand - 0.0%\n",
      "color - 0.0%\n",
      "description - 0.0%\n",
      "engine_displacement - 0.072%\n",
      "engine_power - 0.0%\n",
      "fuel_type - 0.0%\n",
      "mileage - 0.0%\n",
      "model_date - 0.0%\n",
      "model_info - 0.0%\n",
      "name - 0.0%\n",
      "doors_count - 0.0%\n",
      "price - 20.005%\n",
      "production_date - 0.0%\n",
      "sell_id - 0.0%\n",
      "vehicle_configuration - 0.0%\n",
      "vehicle_transmission - 0.0%\n",
      "owner_count - 0.012%\n",
      "owning_period - 64.863%\n",
      "car_passport - 0.0%\n",
      "wheel_drive - 0.0%\n",
      "wheel_location - 0.0%\n",
      "sample - 0.0%\n"
     ]
    },
    {
     "data": {
      "image/png": "[encoded data removed]",
      "text/plain": [
       "<Figure size 720x720 with 2 Axes>"
      ]
     },
     "metadata": {},
     "output_type": "display_data"
    }
   ],
   "source": [
    "# Plot missing values\n",
    "cols = df_combined.columns\n",
    "fig, ax = plt.subplots(figsize=(10, 10))\n",
    "sns.heatmap(df_combined[cols].isnull()) \n",
    "\n",
    "# Show in percents\n",
    "for col in df_combined.columns:\n",
    "    pct_missing = np.mean(df_combined[col].isnull())\n",
    "    print(f'{col} - {round(pct_missing*100,3)}%')"
   ]
  },
  {
   "cell_type": "markdown",
   "id": "964938ea",
   "metadata": {},
   "source": [
    "engine_displacement has some missing cells. \n",
    "\n",
    "Price has missing cells but it is ok, because our test set appended here in combined set\n",
    "\n",
    "Owning Period has shitload of missing vars :("
   ]
  },
  {
   "cell_type": "markdown",
   "id": "3565c46f",
   "metadata": {},
   "source": [
    "<a id=\"sec7.3\"></a>\n",
    "## [7.3 Pandas Profiling](#sec7.3)\n",
    "[(INDEX)](#sec2)"
   ]
  },
  {
   "cell_type": "code",
   "execution_count": 35,
   "id": "7e2bf4e9",
   "metadata": {},
   "outputs": [
    {
     "name": "stdout",
     "output_type": "stream",
     "text": [
      "Couldn't find program: 'false'\n"
     ]
    }
   ],
   "source": [
    "%%script false\n",
    "# We won't include some colums in the report\n",
    "cols_exclude = [\n",
    "    'sample', 'name', 'owning_period', 'sell_id',\n",
    "    'vehicle_configuration'\n",
    "]\n",
    "\n",
    "data_profile = pandas_report(df_train.drop(cols_exclude, axis=1),\n",
    "                             'car_price_prediction')\n",
    "# Check your folder\n",
    "data_profile.to_file('pandas_report.html')"
   ]
  },
  {
   "cell_type": "markdown",
   "id": "36e79c21",
   "metadata": {},
   "source": [
    " Link for the  **[the dataset profile report](./pandas_report.html)**."
   ]
  },
  {
   "cell_type": "markdown",
   "id": "bed733af",
   "metadata": {},
   "source": [
    " - Dataset has 23 features (excluding feature 'Sample')\n",
    " \n",
    " - Total Number Of observations is 6682\n",
    " \n",
    " - Missing values is about 0.1% \n",
    " \n",
    " - There are no potential duplicates\n",
    " \n",
    " \n",
    " - ***body_type*** 0.3% of unique entities. We need to process this column in the future sections. \n",
    " \n",
    " - ***brand*** we have 3 brand of cars.\n",
    " \n",
    " - ***color*** Consists 16 distinct categories: \n",
    "     \n",
    "  - Чёрный (42%)\n",
    " \n",
    "  - Белый (18 %)\n",
    " \n",
    "  - Серый (11%)\n",
    " \n",
    "  - other colors\n",
    " \n",
    " - ***description*** - has 92% distinct descriptions. This means some of the information is repeating. It can say us that there are some sale announcements from agency seller rs (perekup).\n",
    " \n",
    " - ***engine_displacement*** - the overwhelming majority of engines has a volume of 2 and 3 liters. This information could be converted to a categorical one with the sorting of engines like <span style=\"color:red\">low volume, middle, high engine volume.</span>\n",
    "  - mean - 2.78 l;\n",
    " \n",
    "  - median - 2.;\n",
    " \n",
    "  - Q1 - 2 l;\n",
    " \n",
    "  - Q3 - 3 l;\n",
    " \n",
    "  - maximum - 6.6 (insane :))\n",
    " \n",
    "  - minimum - 0.7\n",
    " \n",
    " - ***engine_power*** - most common power is 184 h.p. Second place takes engine with power 249 h.p.\n",
    " \n",
    "  - mean - 255;\n",
    "  \n",
    "  - median - 231;\n",
    " \n",
    "  - Q1 - 184;\n",
    " \n",
    "  - Q3 - 306;\n",
    " \n",
    "  - maximum - 639;\n",
    " \n",
    "  - minimum - 75\n",
    " \n",
    " - ***fuel_type*** - Of course, the first place takes Gasoline (бензин). Seems nothing interesting here.\n",
    " \n",
    " - ***mileage*** - We have distribution biased to left with a huge amount of cars with zero mileage (probably new cars). That is also good feature <span style=\"color:red\">insight</span> . Need to separate new cars from used.\n",
    " \n",
    " - ***model_date** - *Distribution with right tail. Most of models presented in dataset designed in 21st Century\n",
    " \n",
    "  - mean - 2010;\n",
    "  \n",
    "  - median - 2011;\n",
    " \n",
    "  - Q1 - 2007;\n",
    " \n",
    "  - Q3 - 2014;\n",
    " \n",
    "  - maximum - 2019;\n",
    " \n",
    "  - minimum - 1975\n",
    "  \n",
    " - ***model_info*** - HIGH CARDINALITY categorical variable\n",
    " \n",
    " - ***doors_count*** - Overwhelming majority of cars in dataset has 5 an 4 doors.\n",
    " \n",
    " - ***production_date*** - We have distribution biased to right. Most of cars in our dataset quite fresh. It must impact on the price.\n",
    " \n",
    " \n",
    " - ***vehicle_transmission*** - It is a categorical feature. Most of types are *automatic*. \n",
    "  \n",
    " - ***owner_count*** -  Has 1 missing cell . Category 3 or more owners  takes first place in the distribution. Then one owner\n",
    " \n",
    " -***car_passport*** 89% has original passport\n",
    " \n",
    " -***wheel_drive***  63% has 4WD.\n",
    " \n",
    " -***wheel_location*** - 99% has left location of wheel\n",
    "  \n",
    " -***price*** - is a target variable. Detailed analysis will be performed later.\n",
    " \n",
    " \n",
    "Need to be noted that we have some strong correlations such as production year correlated with a mileage, engine power and price etc.. \n",
    " "
   ]
  },
  {
   "cell_type": "markdown",
   "id": "78330eda",
   "metadata": {},
   "source": [
    "<a id=\"sec8\"></a>\n",
    "# [8.Data Analysis](#sec8)\n",
    "[(INDEX)](#sec2)"
   ]
  },
  {
   "cell_type": "markdown",
   "id": "823a5a66",
   "metadata": {},
   "source": [
    "<a id=\"sec8.1\"></a>\n",
    "## [8.1 Target Variable](#sec8.1)\n",
    "[(INDEX)](#sec2)"
   ]
  },
  {
   "cell_type": "code",
   "execution_count": 36,
   "id": "34e34aae",
   "metadata": {},
   "outputs": [
    {
     "data": {
      "text/plain": [
       "count    6.682000e+03\n",
       "mean     1.899868e+06\n",
       "std      1.914153e+06\n",
       "min      3.013010e+05\n",
       "25%      8.000000e+05\n",
       "50%      1.300000e+06\n",
       "75%      2.299283e+06\n",
       "max      2.390000e+07\n",
       "Name: price, dtype: float64"
      ]
     },
     "execution_count": 36,
     "metadata": {},
     "output_type": "execute_result"
    },
    {
     "data": {
      "image/png": "[encoded data removed]",
      "text/plain": [
       "<Figure size 1080x360 with 2 Axes>"
      ]
     },
     "metadata": {},
     "output_type": "display_data"
    }
   ],
   "source": [
    "plt.figure(figsize=(15, 5))\n",
    "plt.subplot(121)\n",
    "sns.distplot(df_train.price.values, bins=50, color=colors[4])\n",
    "plt.title('Price Distribution\\n', fontsize=15)\n",
    "plt.xlabel('Price')\n",
    "plt.ylabel('Quantity (frequency)');\n",
    "\n",
    "plt.subplot(122)\n",
    "sns.boxplot(df_train.price.values, color=colors[1])\n",
    "plt.title('Box Plot for Price\\n', fontsize=15)\n",
    "plt.xlabel('Price');\n",
    "\n",
    "df_train['price'].describe()"
   ]
  },
  {
   "cell_type": "markdown",
   "id": "19f1777c",
   "metadata": {},
   "source": [
    "The Target variable has a biased distribution shifted to the left side of 0 to 24 millions. \n",
    "\n",
    "The first and third quartiles are in the range from 800k to 2.2 million, the mean is 1.9 million. Also outliers has been observed for target variable."
   ]
  },
  {
   "cell_type": "markdown",
   "id": "83a16d19",
   "metadata": {},
   "source": [
    "<a id=\"sec8.2\"></a>\n",
    "## [8.2 Categorical Columns analysis](#sec8.2)\n",
    "[(INDEX)](#sec2)"
   ]
  },
  {
   "cell_type": "markdown",
   "id": "439c3d06",
   "metadata": {},
   "source": [
    "<a id=\"sec8.2.1\"></a>\n",
    "### [8.2.1 Body_type - price - owners count](#sec8.2.1)\n",
    "[(INDEX)](#sec2)"
   ]
  },
  {
   "cell_type": "markdown",
   "id": "378e9196",
   "metadata": {},
   "source": [
    "Check out how many body types in total we have"
   ]
  },
  {
   "cell_type": "code",
   "execution_count": 37,
   "id": "bd8343e0",
   "metadata": {},
   "outputs": [
    {
     "name": "stdout",
     "output_type": "stream",
     "text": [
      "Total Number of body types in DataSet: 17\n"
     ]
    }
   ],
   "source": [
    "print(f'Total Number of body types in DataSet: {df_train.body_type.nunique()}')"
   ]
  },
  {
   "cell_type": "code",
   "execution_count": 38,
   "id": "a635bcbe",
   "metadata": {},
   "outputs": [
    {
     "data": {
      "text/plain": [
       "седан                   2843\n",
       "внедорожник 5 дв.       2315\n",
       "купе                     427\n",
       "хэтчбек 5 дв.            296\n",
       "лифтбек                  245\n",
       "универсал 5 дв.          153\n",
       "минивэн                  146\n",
       "купе-хардтоп              91\n",
       "родстер                   60\n",
       "кабриолет                 44\n",
       "хэтчбек 3 дв.             41\n",
       "компактвэн                 8\n",
       "лимузин                    5\n",
       "внедорожник 3 дв.          3\n",
       "пикап двойная кабина       2\n",
       "внедорожник открытый       2\n",
       "седан 2 дв.                1\n",
       "Name: body_type, dtype: int64"
      ]
     },
     "execution_count": 38,
     "metadata": {},
     "output_type": "execute_result"
    }
   ],
   "source": [
    "df_train.body_type.value_counts()"
   ]
  },
  {
   "cell_type": "markdown",
   "id": "d4540585",
   "metadata": {},
   "source": [
    "It's quite a lot. Moreover, it is mentioned here the number of doors. Let's reduce quantity by extracting the key meaning."
   ]
  },
  {
   "cell_type": "code",
   "execution_count": 39,
   "id": "1ec67153",
   "metadata": {},
   "outputs": [],
   "source": [
    "pattern = re.compile('[а-я]*')\n",
    "new_column = []\n",
    "for string in df_train['body_type']:\n",
    "    new_column.append(pattern.match(str(string))[0])\n",
    "df_train['body_type'] = new_column"
   ]
  },
  {
   "cell_type": "code",
   "execution_count": 40,
   "id": "9d17b223",
   "metadata": {},
   "outputs": [
    {
     "name": "stdout",
     "output_type": "stream",
     "text": [
      "Total Number of body types in DataSet: 12\n"
     ]
    }
   ],
   "source": [
    "print(f'Total Number of body types in DataSet: {df_train.body_type.nunique()}')"
   ]
  },
  {
   "cell_type": "code",
   "execution_count": 41,
   "id": "1b338460",
   "metadata": {},
   "outputs": [
    {
     "data": {
      "image/png": "[encoded data removed]",
      "text/plain": [
       "<Figure size 1500x500 with 1 Axes>"
      ]
     },
     "metadata": {},
     "output_type": "display_data"
    }
   ],
   "source": [
    "plt.figure(figsize=(15, 5), dpi=100)\n",
    "sns.countplot(df_train['body_type'], order=df_train['body_type'].value_counts().index)\n",
    "plt.xticks(rotation=45)\n",
    "plt.title('Body Type distribution\\n', fontsize=15)\n",
    "plt.xlabel('Body Type')\n",
    "plt.ylabel('Quantity (frequency)');"
   ]
  },
  {
   "cell_type": "markdown",
   "id": "f4174cd3",
   "metadata": {},
   "source": [
    "The most popular body type is 'седан'  , then 'внедорожник'."
   ]
  },
  {
   "cell_type": "markdown",
   "id": "3047cd4e",
   "metadata": {},
   "source": [
    "Let's see how it is impact on price. In addition, let's see whether the number of owners impact on price"
   ]
  },
  {
   "cell_type": "code",
   "execution_count": 42,
   "id": "dead53d3",
   "metadata": {},
   "outputs": [
    {
     "data": {
      "image/png": "[encoded data removed]",
      "text/plain": [
       "<Figure size 1080x720 with 1 Axes>"
      ]
     },
     "metadata": {},
     "output_type": "display_data"
    }
   ],
   "source": [
    "get_boxplot(df_train, 'body_type', 'price', figsize=(\n",
    "    15, 10), hue='owner_count', take_less_box=True)"
   ]
  },
  {
   "cell_type": "markdown",
   "id": "264befb9",
   "metadata": {},
   "source": [
    "We can see that quantity of owners impacts on the final price. if car has lots of owners , then less final price. Also, body type itself impact on price car. Minivan in average more expensive than others.\n",
    "\n",
    "Or maybe it is depend on age of car? More older car has more owners? We will check bellow."
   ]
  },
  {
   "cell_type": "markdown",
   "id": "da69aa79",
   "metadata": {},
   "source": [
    "<a id=\"sec8.2.2\"></a>\n",
    "### [8.2.2 Color - price](#sec8.2.2)\n",
    "[(INDEX)](#sec2)"
   ]
  },
  {
   "cell_type": "markdown",
   "id": "bda71cba",
   "metadata": {},
   "source": [
    "Let's check how color impact on price"
   ]
  },
  {
   "cell_type": "code",
   "execution_count": 45,
   "id": "c552e503",
   "metadata": {},
   "outputs": [
    {
     "data": {
      "image/png": "[encoded data removed]",
      "text/plain": [
       "<Figure size 720x504 with 1 Axes>"
      ]
     },
     "metadata": {},
     "output_type": "display_data"
    }
   ],
   "source": [
    "get_boxplot(df_train, 'color', 'price', figsize=(10, 7), take_less_box=True)"
   ]
  },
  {
   "cell_type": "markdown",
   "id": "5f82c0a3",
   "metadata": {},
   "source": [
    "Seems there is no impact."
   ]
  },
  {
   "cell_type": "markdown",
   "id": "4cc2529b",
   "metadata": {},
   "source": [
    "<a id=\"sec6.2.5\"></a>\n",
    "### [6.2.5 Body_type - price - wheel-drive](#sec6.2.5)\n",
    "[(INDEX)](#sec2)"
   ]
  },
  {
   "cell_type": "code",
   "execution_count": 47,
   "id": "38fe81cd",
   "metadata": {},
   "outputs": [
    {
     "data": {
      "image/png": "[encoded data removed]",
      "text/plain": [
       "<Figure size 720x504 with 1 Axes>"
      ]
     },
     "metadata": {},
     "output_type": "display_data"
    }
   ],
   "source": [
    "get_boxplot(df_train,\n",
    "            'body_type',\n",
    "            'price',\n",
    "            hue='wheel_drive',\n",
    "            figsize=(10, 7),\n",
    "            take_less_box=True)"
   ]
  },
  {
   "cell_type": "markdown",
   "id": "b1b7ce32",
   "metadata": {},
   "source": [
    "Well, we may see there is more cars with 4WD for each body type and this is most expensive category."
   ]
  },
  {
   "cell_type": "code",
   "execution_count": null,
   "id": "3ba03f75",
   "metadata": {},
   "outputs": [],
   "source": []
  }
 ],
 "metadata": {
  "kernelspec": {
   "display_name": "Python 3",
   "language": "python",
   "name": "python3"
  },
  "language_info": {
   "codemirror_mode": {
    "name": "ipython",
    "version": 3
   },
   "file_extension": ".py",
   "mimetype": "text/x-python",
   "name": "python",
   "nbconvert_exporter": "python",
   "pygments_lexer": "ipython3",
   "version": "3.8.8"
  },
  "toc": {
   "base_numbering": 1,
   "nav_menu": {},
   "number_sections": true,
   "sideBar": true,
   "skip_h1_title": false,
   "title_cell": "Table of Contents",
   "title_sidebar": "Contents",
   "toc_cell": false,
   "toc_position": {
    "height": "calc(100% - 180px)",
    "left": "10px",
    "top": "150px",
    "width": "265.391px"
   },
   "toc_section_display": true,
   "toc_window_display": false
  },
  "varInspector": {
   "cols": {
    "lenName": 16,
    "lenType": 16,
    "lenVar": 40
   },
   "kernels_config": {
    "python": {
     "delete_cmd_postfix": "",
     "delete_cmd_prefix": "del ",
     "library": "var_list.py",
     "varRefreshCmd": "print(var_dic_list())"
    },
    "r": {
     "delete_cmd_postfix": ") ",
     "delete_cmd_prefix": "rm(",
     "library": "var_list.r",
     "varRefreshCmd": "cat(var_dic_list()) "
    }
   },
   "types_to_exclude": [
    "module",
    "function",
    "builtin_function_or_method",
    "instance",
    "_Feature"
   ],
   "window_display": false
  }
 },
 "nbformat": 4,
 "nbformat_minor": 5
}
