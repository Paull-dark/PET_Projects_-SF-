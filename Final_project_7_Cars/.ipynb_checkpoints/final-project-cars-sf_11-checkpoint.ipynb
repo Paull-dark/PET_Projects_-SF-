{
 "cells": [
  {
   "cell_type": "markdown",
   "metadata": {},
   "source": [
    "# [SF-DST] Car Price prediction Part2"
   ]
  },
  {
   "cell_type": "markdown",
   "metadata": {},
   "source": [
    "This work has made by Paul Krivchenia:\n",
    "\n",
    "[My GitHub](https://github.com/Paull-dark)"
   ]
  },
  {
   "cell_type": "markdown",
   "metadata": {},
   "source": [
    "<img src = 'https://s.auto.drom.ru/i24222/pubs/4483/61605/2852355.jpg' width= '800px'>"
   ]
  },
  {
   "cell_type": "markdown",
   "metadata": {},
   "source": [
    "The Target of this project is to:\n",
    "- To make a exploratory data analysis\n",
    "- Creating conventional ML models\n",
    "- Building a natural language processing model.\n",
    "- Building CV models\n",
    "- Stacking models\n",
    "- Predict the price of auto by its parameters"
   ]
  },
  {
   "cell_type": "markdown",
   "metadata": {},
   "source": [
    "<a id=\"sec1\"></a>\n",
    "# 1 [Features Defination](sec1)"
   ]
  },
  {
   "cell_type": "markdown",
   "metadata": {},
   "source": [
    "**BodyType** -  The type of the Body of car .\n",
    "\n",
    "**Brand** - Name of brand.\n",
    "\n",
    "**color** - Color of the car (hex).\n",
    "\n",
    "**description** - human's description of the car (given by seller).\n",
    "\n",
    "**engineDisplacement** - Working volume of the engine (in $mm^3$).\n",
    "\n",
    "**enginePower** - Power in Horses.\n",
    "\n",
    "**fuelType** - Diesel, gasoline electric etc.\n",
    "\n",
    "**mileage** - How many kilometers car passed up to the date.\n",
    "\n",
    "**modelDate** - When particular model has been designed.\n",
    "\n",
    "**model_info** - Model info. Categorical.\n",
    "\n",
    "**name** - Categorical.\n",
    "\n",
    "**numberOfDoors** - The number of doors in a single car.\n",
    "\n",
    "**PriceCurrency** - The currency of the car's price.\n",
    "\n",
    "**productionDate** - The date when the car has been released from factory.\n",
    "\n",
    "**sell_id** - id of image.\n",
    "\n",
    "**vehicleConfiguration** - shows body type, type of gear, volume of engine.\n",
    "\n",
    "**vehicleTransmission** - Gear type.\n",
    "\n",
    "**Владельцы** - How many owners had particular car before.\n",
    "\n",
    "**Владение** - How long the seller own a particular car.\n",
    "\n",
    "**ПТС** - Shows whether the car's documents in original state.\n",
    "\n",
    "**Привод** - Wheel drive (2WF,4WD etc).\n",
    "\n",
    "**Руль** - Left or right Wheel.\n",
    "\n",
    "**price** - price in RUB (TARGET)."
   ]
  },
  {
   "cell_type": "markdown",
   "metadata": {},
   "source": [
    "<a id=\"sec2\"></a>\n",
    "# [INDEX](#sec2)\n",
    "\n",
    "<a id=\"sec1\"></a>\n",
    "1. [Description](#sec1)\n",
    "   * [1.1 Features Defination](#sec1.1)\n",
    "2. [INDEX](#sec2)\n",
    "3. [IMPORT LIBRARRIES](#sec3)\n",
    "4. [Functions and Classes](#sec4)\n",
    "5. [Load and Chek the Dataset](#sec5)\n",
    "   * [5.1 Load train and test sets](#sec5.1)\n",
    "   * [5.2 Pre-processing before stacking data sets](#sec5.2)\n",
    "   * [5.3 Missing Values](#sec5.3)\n",
    "   * [5.3 Pandas Profiling](#sec5.3)\n",
    "6. [Data Analyse](#sec6)\n",
    "     * [6.1 Target Variable](#sec6.1)\n",
    "     * [6.2 Categorical Columns analysis](#sec6.2)\n",
    "        * [6.2.1 Body_type - price - owners count](#sec6.2.1)\n",
    "        * [6.2.2 Model_name](#sec6.2.2)\n",
    "        * [6.2.3 Vehicle_transmission - price](#sec6.2.3)\n",
    "        * [6.2.4 Color - price](#sec6.2.4)\n",
    "        * [6.2.5 Body_type - price - wheel-drive](#sec6.2.5)\n",
    "        * [6.2.6 Wheel_location](#sec6.2.6)\n",
    "     * [6.3 Combination of Categorical and Numeric columns](#sec6.3)\n",
    "     * [6.4 Numeric columns](#sec6.4)\n",
    "     * [6.5 Correlation matrices](#sec6.5)\n",
    "     * [6.6 Sentiment Analyse](#sec6.6)\n",
    "     * [6.7 Draw a Conclusion](#sec6.7)"
   ]
  },
  {
   "cell_type": "markdown",
   "metadata": {},
   "source": [
    "<a id=\"sec3\"></a>\n",
    "# [3 Import LIBRARIES](#sec3)"
   ]
  },
  {
   "cell_type": "code",
   "execution_count": 1,
   "metadata": {
    "execution": {
     "iopub.execute_input": "2021-07-09T06:29:47.052311Z",
     "iopub.status.busy": "2021-07-09T06:29:47.051913Z",
     "iopub.status.idle": "2021-07-09T06:29:54.446321Z",
     "shell.execute_reply": "2021-07-09T06:29:54.445380Z",
     "shell.execute_reply.started": "2021-07-09T06:29:47.052231Z"
    }
   },
   "outputs": [
    {
     "name": "stdout",
     "output_type": "stream",
     "text": [
      "Collecting pymystem3\n",
      "  Downloading pymystem3-0.2.0-py3-none-any.whl (10 kB)\n",
      "Requirement already satisfied: requests in c:\\programdata\\anaconda3\\lib\\site-packages (from pymystem3) (2.24.0)\n",
      "Requirement already satisfied: certifi>=2017.4.17 in c:\\programdata\\anaconda3\\lib\\site-packages (from requests->pymystem3) (2020.6.20)\n",
      "Requirement already satisfied: idna<3,>=2.5 in c:\\programdata\\anaconda3\\lib\\site-packages (from requests->pymystem3) (2.10)\n",
      "Requirement already satisfied: chardet<4,>=3.0.2 in c:\\programdata\\anaconda3\\lib\\site-packages (from requests->pymystem3) (3.0.4)\n",
      "Requirement already satisfied: urllib3!=1.25.0,!=1.25.1,<1.26,>=1.21.1 in c:\\programdata\\anaconda3\\lib\\site-packages (from requests->pymystem3) (1.25.11)\n",
      "Installing collected packages: pymystem3\n",
      "Successfully installed pymystem3-0.2.0\n"
     ]
    }
   ],
   "source": [
    "!pip install pymystem3"
   ]
  },
  {
   "cell_type": "code",
   "execution_count": 2,
   "metadata": {
    "execution": {
     "iopub.execute_input": "2021-07-09T06:29:54.449182Z",
     "iopub.status.busy": "2021-07-09T06:29:54.448911Z",
     "iopub.status.idle": "2021-07-09T06:30:04.596489Z",
     "shell.execute_reply": "2021-07-09T06:30:04.595682Z",
     "shell.execute_reply.started": "2021-07-09T06:29:54.449152Z"
    }
   },
   "outputs": [],
   "source": [
    "import os\n",
    "import pandas as pd\n",
    "import numpy as np\n",
    "import re\n",
    "import pandas_profiling\n",
    "import matplotlib.pyplot as plt\n",
    "import seaborn as sns\n",
    "import plotly.express as px\n",
    "import statsmodels.api as sm\n",
    "import warnings\n",
    "import PIL\n",
    "import cv2\n",
    "\n",
    "from textblob import TextBlob  # for sentiment analysis\n",
    "from wordcloud import WordCloud #STOPWORDS # for creating cloud of words\n",
    "from sklearn.cluster import DBSCAN\n",
    "\n",
    "from sklearn.preprocessing import LabelEncoder, OneHotEncoder\n",
    "from sklearn.preprocessing import StandardScaler, RobustScaler\n",
    "\n",
    "from sklearn.model_selection import train_test_split\n",
    "from sklearn.metrics import mean_absolute_error, mean_squared_error\n",
    "from sklearn.decomposition import PCA\n",
    "\n",
    "from catboost import CatBoostRegressor\n",
    "import xgboost as xgb\n",
    "import lightgbm  as lgb\n",
    "import lightgbm\n",
    "import optuna\n",
    "\n",
    "# # keras\n",
    "import tensorflow as tf\n",
    "#import tensorflow.keras.layers as L\n",
    "from tensorflow.keras.models import Model, Sequential\n",
    "from tensorflow.keras.preprocessing.text import Tokenizer\n",
    "from tensorflow.keras.preprocessing import sequence\n",
    "\n",
    "#from tensorflow.keras.callbacks import ModelCheckpoint, EarlyStopping\n",
    "from tensorflow.keras.callbacks import *\n",
    "from tensorflow.keras.optimizers import Adam\n",
    "from tensorflow.keras.layers import *\n",
    "from tensorflow.keras.losses import mean_absolute_percentage_error\n",
    "from tensorflow.math import expm1\n",
    "from tqdm.notebook import tqdm\n",
    "\n",
    "import albumentations\n",
    "\n",
    "from nltk.corpus import stopwords\n",
    "from pymystem3 import Mystem"
   ]
  },
  {
   "cell_type": "code",
   "execution_count": 3,
   "metadata": {
    "execution": {
     "iopub.execute_input": "2021-07-09T06:30:04.598773Z",
     "iopub.status.busy": "2021-07-09T06:30:04.598393Z",
     "iopub.status.idle": "2021-07-09T06:30:04.611659Z",
     "shell.execute_reply": "2021-07-09T06:30:04.609239Z",
     "shell.execute_reply.started": "2021-07-09T06:30:04.598733Z"
    }
   },
   "outputs": [],
   "source": [
    "warnings.filterwarnings(\"ignore\")\n",
    "\n",
    "%matplotlib inline\n",
    "pd.set_option('display.max_rows', 50)  # Show more rows\n",
    "pd.set_option('display.max_columns', 50)  # Show more columns\n",
    "plt.style.use('ggplot')  # Nice plotting"
   ]
  },
  {
   "cell_type": "code",
   "execution_count": 4,
   "metadata": {
    "execution": {
     "iopub.execute_input": "2021-07-09T06:30:04.614088Z",
     "iopub.status.busy": "2021-07-09T06:30:04.613698Z",
     "iopub.status.idle": "2021-07-09T06:30:04.692627Z",
     "shell.execute_reply": "2021-07-09T06:30:04.691877Z",
     "shell.execute_reply.started": "2021-07-09T06:30:04.614049Z"
    }
   },
   "outputs": [
    {
     "data": {
      "image/png": "[encoded data removed]",
      "text/plain": [
       "<Figure size 360x72 with 1 Axes>"
      ]
     },
     "metadata": {},
     "output_type": "display_data"
    }
   ],
   "source": [
    "# Set project colors\n",
    "colors = ['#001c57', '#50248f', '#a6a6a6', '#38d1ff','#cc3181']\n",
    "sns.palplot(sns.color_palette(colors))"
   ]
  },
  {
   "cell_type": "markdown",
   "metadata": {},
   "source": [
    "<a id=\"sec4\"></a>\n",
    "# [4 FUNCTIONS and CLASSES](#sec4)\n",
    "[(INDEX)](#sec2)"
   ]
  },
  {
   "cell_type": "markdown",
   "metadata": {},
   "source": [
    "<a id=\"sec4.1\"></a>\n",
    "## [4.1 GENERAL FUNCTIONS and CLASSES](#sec4.1)\n",
    "[(INDEX)](#sec2)"
   ]
  },
  {
   "cell_type": "code",
   "execution_count": 5,
   "metadata": {
    "execution": {
     "iopub.execute_input": "2021-07-09T06:30:04.694233Z",
     "iopub.status.busy": "2021-07-09T06:30:04.693854Z",
     "iopub.status.idle": "2021-07-09T06:30:04.704586Z",
     "shell.execute_reply": "2021-07-09T06:30:04.703672Z",
     "shell.execute_reply.started": "2021-07-09T06:30:04.694202Z"
    }
   },
   "outputs": [],
   "source": [
    "def pandas_report(data, title, minimal=True):\n",
    "    ''' Function is called for generating of dataset profile-report'''\n",
    "\n",
    "    profile = data.profile_report(title=title,\n",
    "                                  progress_bar=False,\n",
    "                                  minimal=minimal,\n",
    "                                  correlations={\n",
    "                                      'pearson': {\n",
    "                                          'calculate': True\n",
    "                                      },\n",
    "                                      'spearman': {\n",
    "                                          'calculate': True\n",
    "                                      },\n",
    "                                      'kendall': {\n",
    "                                          'calculate': False\n",
    "                                      },\n",
    "                                      'phi_k': {\n",
    "                                          'calculate': False\n",
    "                                      },\n",
    "                                      'cramers': {\n",
    "                                          'calculate': False\n",
    "                                      }\n",
    "                                  },\n",
    "                                  interactions={\n",
    "                                      'continuous': True,\n",
    "                                      'targets': []\n",
    "                                  },\n",
    "                                  missing_diagrams={\n",
    "                                      'heatmap': True,\n",
    "                                      'dendrogram': False,\n",
    "                                      'matrix': True\n",
    "                                  },\n",
    "                                  vars={'cat': {\n",
    "                                      'n_obs': 10\n",
    "                                  }})\n",
    "\n",
    "    return profile"
   ]
  },
  {
   "cell_type": "code",
   "execution_count": 6,
   "metadata": {
    "execution": {
     "iopub.execute_input": "2021-07-09T06:30:04.707111Z",
     "iopub.status.busy": "2021-07-09T06:30:04.706804Z",
     "iopub.status.idle": "2021-07-09T06:30:04.719721Z",
     "shell.execute_reply": "2021-07-09T06:30:04.718756Z",
     "shell.execute_reply.started": "2021-07-09T06:30:04.707083Z"
    }
   },
   "outputs": [],
   "source": [
    "def get_boxplot(data,\n",
    "                X_axis,\n",
    "                Y_axis,\n",
    "                hue=None,\n",
    "                figsize=(7, 5),\n",
    "                take_less_box=False):\n",
    "    '''Function is called to plot boxplots\n",
    "    ------\n",
    "    data - pandas dataframe\n",
    "    X_axis - column need to be reflected in X axis\n",
    "    Y_axis - column need to be reflected in X axis\n",
    "    take_less_box - Default is False. If need to plot only 7 boxes\n",
    "    '''\n",
    "    if take_less_box:\n",
    "        fig, ax = plt.subplots(figsize=figsize)\n",
    "        sns.boxplot(x=X_axis,\n",
    "                    y=Y_axis,\n",
    "                    hue=hue,\n",
    "                    data=data.loc[data.loc[:, X_axis].isin(\n",
    "                        data.loc[:, X_axis].value_counts().index[:7])],\n",
    "                    palette=colors)\n",
    "        plt.xticks(rotation=45)\n",
    "        ax.set_title(f'Boxplot for {X_axis} and {Y_axis}', fontsize=14)\n",
    "        plt.show()\n",
    "\n",
    "    else:\n",
    "        fig, ax = plt.subplots(figsize=figsize)\n",
    "        sns.boxplot(x=X_axis, y=Y_axis, hue=hue, data=data, palette=colors)\n",
    "        plt.xticks(rotation=45)\n",
    "        ax.set_title(f'Boxplot for {X_axis} and {Y_axis}', fontsize=14)\n",
    "        plt.show()"
   ]
  },
  {
   "cell_type": "code",
   "execution_count": 7,
   "metadata": {
    "execution": {
     "iopub.execute_input": "2021-07-09T06:30:04.721468Z",
     "iopub.status.busy": "2021-07-09T06:30:04.721012Z",
     "iopub.status.idle": "2021-07-09T06:30:04.731337Z",
     "shell.execute_reply": "2021-07-09T06:30:04.730454Z",
     "shell.execute_reply.started": "2021-07-09T06:30:04.721424Z"
    }
   },
   "outputs": [],
   "source": [
    "def get_scatter_plot(data, X_axis, Y_axis, title=None, width=600, height=500):\n",
    "\n",
    "    title = title if title is not None else f\"Scatterplot for {X_axis} VS {Y_axis}\"\n",
    "    fig = px.scatter(data, x=X_axis, y=Y_axis, size=Y_axis)\n",
    "    # Edit the layout\n",
    "    fig.update_layout(title=title)\n",
    "    fig.update_xaxes(title=(f'{X_axis}'))\n",
    "    fig.update_yaxes(title=(f'{Y_axis}'))\n",
    "    fig.update_layout(width=width)\n",
    "    fig.update_layout(height=height)\n",
    "    fig.show()"
   ]
  },
  {
   "cell_type": "code",
   "execution_count": 8,
   "metadata": {
    "execution": {
     "iopub.execute_input": "2021-07-09T06:30:04.734944Z",
     "iopub.status.busy": "2021-07-09T06:30:04.734485Z",
     "iopub.status.idle": "2021-07-09T06:30:04.743517Z",
     "shell.execute_reply": "2021-07-09T06:30:04.742320Z",
     "shell.execute_reply.started": "2021-07-09T06:30:04.734886Z"
    }
   },
   "outputs": [],
   "source": [
    "def get_variable_distribution(col, title=None):\n",
    "    '''Function is called to plot feture distribution'''\n",
    "\n",
    "    title = title if title is not None else f\"Distribution for '{col}\"\n",
    "    fig, (ax1, ax2, ax3) = plt.subplots(1, 3, figsize=(15, 5),)\n",
    "    fig = sm.qqplot(col, fit=True, line='45', ax=ax1)\n",
    "    fig.suptitle(title, fontsize=20)\n",
    "\n",
    "    sns.distplot(col.values, bins=20, color=colors[1], ax=ax2)\n",
    "#     sns.violinplot(col.values, color=colors[3], bw=.3, cut=1, linewidth=4)\n",
    "    sns.boxplot(col.values,color=colors[3])\n",
    "\n",
    "    ax1.set_title('QQ-plot')\n",
    "    ax2.set_title('Distribution')\n",
    "    ax3.set_title('Boxplot')\n",
    "\n",
    "    plt.show()"
   ]
  },
  {
   "cell_type": "code",
   "execution_count": 9,
   "metadata": {
    "execution": {
     "iopub.execute_input": "2021-07-09T06:30:04.746701Z",
     "iopub.status.busy": "2021-07-09T06:30:04.746240Z",
     "iopub.status.idle": "2021-07-09T06:30:04.757169Z",
     "shell.execute_reply": "2021-07-09T06:30:04.755858Z",
     "shell.execute_reply.started": "2021-07-09T06:30:04.746658Z"
    }
   },
   "outputs": [],
   "source": [
    "def corr_matrix(data, det=True, pltx=10, plty=10):\n",
    "    '''Funcion is called for making a correlation matrix'''\n",
    "\n",
    "    corr = data.corr()\n",
    "    if det:\n",
    "\n",
    "        evals, evec = np.linalg.eig(corr)\n",
    "        ev_product = np.prod(evals)\n",
    "\n",
    "        print(f'Rank of Matrix: {np.linalg.matrix_rank(corr)}')\n",
    "        print(f'Determinant of matrix: {np.round(ev_product,4)}')\n",
    "        print(f'Shape of matrix: {np.shape(corr)}')\n",
    "\n",
    "    plt.figure(figsize=(pltx, plty))\n",
    "    sns.heatmap(corr[(corr >= .2) | (corr <= -.2)],\n",
    "                cmap='viridis',\n",
    "                vmin=-1.0,\n",
    "                linewidths=0.1,\n",
    "                annot=True,\n",
    "                annot_kws={\"size\": 10},\n",
    "                square=True)\n",
    "    #     sns.heatmap(X,vmin=0,vmax=.9,annot=True,square=True)\n",
    "    plt.show()"
   ]
  },
  {
   "cell_type": "code",
   "execution_count": 10,
   "metadata": {
    "execution": {
     "iopub.execute_input": "2021-07-09T06:30:04.759577Z",
     "iopub.status.busy": "2021-07-09T06:30:04.759122Z",
     "iopub.status.idle": "2021-07-09T06:30:04.768607Z",
     "shell.execute_reply": "2021-07-09T06:30:04.767348Z",
     "shell.execute_reply.started": "2021-07-09T06:30:04.759534Z"
    }
   },
   "outputs": [],
   "source": [
    "def missing_vars(data, column, random_proba=True):\n",
    "    '''Function is called for filling of missing data'''\n",
    "    # With using probability and random choise\n",
    "\n",
    "    if random_proba:\n",
    "        col_name = data[column].value_counts().index.to_list(\n",
    "        )  # get list of values\n",
    "        col_distr = data[column].value_counts(\n",
    "            normalize=True).values  # get l;ist of probs\n",
    "        missing = data[col].isnull()  # flag of missing val\n",
    "        # substitute values from the list of names in accordance with the probability of meeting the name\n",
    "        data.loc[missing, [column]] = np.random.choice(col_name,\n",
    "                                                       size=len(data[missing]),\n",
    "                                                       p=col_distr)\n",
    "\n",
    "    # Using  most common in  column\n",
    "    data[col] = data[col].fillna(data[col].value_counts().index[0])"
   ]
  },
  {
   "cell_type": "code",
   "execution_count": 11,
   "metadata": {
    "execution": {
     "iopub.execute_input": "2021-07-09T06:30:04.771254Z",
     "iopub.status.busy": "2021-07-09T06:30:04.770654Z",
     "iopub.status.idle": "2021-07-09T06:30:04.793559Z",
     "shell.execute_reply": "2021-07-09T06:30:04.792400Z",
     "shell.execute_reply.started": "2021-07-09T06:30:04.771211Z"
    }
   },
   "outputs": [],
   "source": [
    "class Outliers_detector():\n",
    "    def __init__(self, df):\n",
    "        self.df = df\n",
    "\n",
    "    def get_IQR_outliers(self, column):\n",
    "        '''Method is called to detect IQR outliers'''\n",
    "        outliers = dict()\n",
    "        q1, q3 = np.percentile(sorted(self.df[column]), [25, 75])\n",
    "\n",
    "        IQR = q3 - q1\n",
    "\n",
    "        l_b = q1 - (1.5 * IQR)  # lower bound\n",
    "        u_b = q3 + (1.5 * IQR)  # upper bound\n",
    "        outl_count = len(self.df[column][self.df[column] < l_b]) + len(\n",
    "            self.df[column][self.df[column] > u_b])\n",
    "\n",
    "        outliers['lower_bound'] = round(l_b, 3)\n",
    "        outliers['upper_bound'] = round(u_b, 3)\n",
    "        outliers['outlier_count'] = outl_count\n",
    "\n",
    "        return outliers\n",
    "\n",
    "    def get_dbscan_outliers(self, column1, column2, dbscan_eps,\n",
    "                            dbscan_minsample, cluster_num):\n",
    "        '''Method is called for detecting outliers for two columns by dbscan'''\n",
    "\n",
    "        scaler = RobustScaler()\n",
    "        scale_column1 = scaler.fit_transform(pd.DataFrame(\n",
    "            self.df[column1])).reshape(1, -1)[0]\n",
    "        scale_column2 = scaler.fit_transform(pd.DataFrame(\n",
    "            self.df[column2])).reshape(1, -1)[0]\n",
    "        df_temp = pd.DataFrame({\n",
    "            'column1': scale_column1,\n",
    "            'column2': scale_column2\n",
    "        })\n",
    "        clustering = DBSCAN(eps=dbscan_eps,\n",
    "                            min_samples=dbscan_minsample).fit(df_temp.values)\n",
    "        df_temp[\"cluster\"] = clustering.labels_\n",
    "        df_temp.index = self.df.index\n",
    "        fig = px.scatter(self.df,\n",
    "                         x=scale_column1,\n",
    "                         y=scale_column2,\n",
    "                         color=clustering.labels_,\n",
    "                         size=column2)\n",
    "        # Edit the layout\n",
    "        fig.update_layout(title='Detected Custers\\n')\n",
    "        fig.update_xaxes(title=(f'{column1}'))\n",
    "        fig.update_yaxes(title=(f'{column2}'))\n",
    "        fig.update_layout(width=700)\n",
    "        fig.update_layout(height=600)\n",
    "        fig.show()\n",
    "\n",
    "        return df_temp[df_temp[\"cluster\"] == cluster_num].index\n",
    "\n",
    "    def get_dbscan_outliers3D(self, column1, column2, column3, dbscan_eps,\n",
    "                              dbscan_minsample, cluster_num):\n",
    "        '''Method is called for detecting outliers for two columns by dbscan in 3D axis'''\n",
    "\n",
    "        scaler = RobustScaler()\n",
    "        scale_column1 = scaler.fit_transform(pd.DataFrame(\n",
    "            self.df[column1])).reshape(1, -1)[0]\n",
    "        scale_column2 = scaler.fit_transform(pd.DataFrame(\n",
    "            self.df[column2])).reshape(1, -1)[0]\n",
    "        scale_column3 = scaler.fit_transform(pd.DataFrame(\n",
    "            self.df[column3])).reshape(1, -1)[0]\n",
    "        df_temp = pd.DataFrame({\n",
    "            'column1': scale_column1,\n",
    "            'column2': scale_column2,\n",
    "            'column3': scale_column3\n",
    "        })\n",
    "        clustering = DBSCAN(eps=dbscan_eps,\n",
    "                            min_samples=dbscan_minsample).fit(df_temp.values)\n",
    "        df_temp[\"cluster\"] = clustering.labels_\n",
    "        df_temp.index = self.df.index\n",
    "        fig = px.scatter_3d(self.df,\n",
    "                            x=scale_column1,\n",
    "                            y=scale_column2,\n",
    "                            z=scale_column3,\n",
    "                            color=clustering.labels_,\n",
    "                            size=column3)\n",
    "        # Edit the layout\n",
    "        fig.update_layout(title='Detected Custers\\n')\n",
    "\n",
    "        fig.update_layout(scene = dict(\n",
    "                    xaxis_title=(f'{column1}'),\n",
    "                    yaxis_title=(f'{column2}'),\n",
    "                    zaxis_title=(f'{column3}')),\n",
    "                    width=700,\n",
    "                    margin=dict(r=40, b=30, l=30, t=30)\n",
    "                         )\n",
    "\n",
    "#         fig.update_layout(width=700)\n",
    "#         fig.update_layout(height=600)\n",
    "        fig.show()\n",
    "\n",
    "        return df_temp[df_temp[\"cluster\"] == cluster_num].index"
   ]
  },
  {
   "cell_type": "code",
   "execution_count": 12,
   "metadata": {
    "execution": {
     "iopub.execute_input": "2021-07-09T06:30:04.795483Z",
     "iopub.status.busy": "2021-07-09T06:30:04.794863Z",
     "iopub.status.idle": "2021-07-09T06:30:04.806206Z",
     "shell.execute_reply": "2021-07-09T06:30:04.805170Z",
     "shell.execute_reply.started": "2021-07-09T06:30:04.795436Z"
    }
   },
   "outputs": [],
   "source": [
    "class String_cleaner():\n",
    "    \n",
    "    # keep numbers and letters in a string\n",
    "    def letnum_filter(self,string):\n",
    "        f = filter(str.isalnum, string)\n",
    "        s1 = ''.join(f)\n",
    "        return s1\n",
    "    \n",
    "    # keep numbers in a string\n",
    "    def num_filter(self,string):\n",
    "        f = filter(str.isnumeric, string)\n",
    "        s2 = ''.join(f)\n",
    "        return s2  \n",
    "    \n",
    "    # Keep letters in a string\n",
    "    def letter_filter(self,string):\n",
    "        f = filter(str.isalpha, string)\n",
    "        s3 = ''.join(f)\n",
    "        return s3\n",
    "    \n",
    "    # removing spaces\n",
    "    def remove_space(self,string):\n",
    "        s4 = str(string)\n",
    "        s4 = s4.strip()\n",
    "        s4 = re.sub(r'(\\d)\\s+(\\d)', r'\\1\\2', s4)\n",
    "        return s4"
   ]
  },
  {
   "cell_type": "code",
   "execution_count": 13,
   "metadata": {
    "execution": {
     "iopub.execute_input": "2021-07-09T06:30:04.808511Z",
     "iopub.status.busy": "2021-07-09T06:30:04.807804Z",
     "iopub.status.idle": "2021-07-09T06:30:04.819326Z",
     "shell.execute_reply": "2021-07-09T06:30:04.818250Z",
     "shell.execute_reply.started": "2021-07-09T06:30:04.808417Z"
    }
   },
   "outputs": [],
   "source": [
    "def cleanTxt(text):\n",
    "    '''Function is called for cleaning text from trash\n",
    "    INPUT: dirty string\n",
    "    OUTPUT: More or less clean string'''\n",
    "\n",
    "    emoji_pattern = re.compile(\n",
    "        \"[\"\n",
    "        u\"\\U0001F600-\\U0001F64F\"  # emoticons\n",
    "        u\"\\U0001F300-\\U0001F5FF\"  # symbols & pictographs\n",
    "        u\"\\U0001F680-\\U0001F6FF\"  # transport & map symbols\n",
    "        u\"\\U0001F1E0-\\U0001F1FF\"  # flags (iOS)\n",
    "        \"]+\",\n",
    "        flags=re.UNICODE)\n",
    "\n",
    "    text = re.sub(r'@[А-Яа-я0-9]+', '', text)\n",
    "    text = re.sub(r'@[A-Za-z0-9]+', '', text)  # Remove @\n",
    "    text = re.sub(r'#', '', text)  # remove #\n",
    "    text = re.sub(r'{', '', text)\n",
    "    text = re.sub(r'}', '', text)\n",
    "    text = re.sub(\"[.|/|-|\\|,|!]\", '', text)  # ~~~~~~~~~~~\n",
    "    text = re.sub(r'^а-яА-Я', '', text)\n",
    "    text = re.sub('^a-zA-Z', '', text)\n",
    "    text = re.sub(r'https?:\\/\\/\\S+', '', text)  # remove hyperlink\n",
    "    text = re.sub(r'\\n', '', text)\n",
    "    text = emoji_pattern.sub(r'', text)\n",
    "\n",
    "    text = text.strip()\n",
    "    text = text.lower()\n",
    "\n",
    "    #text = text.split()\n",
    "    return text"
   ]
  },
  {
   "cell_type": "code",
   "execution_count": null,
   "metadata": {},
   "outputs": [],
   "source": []
  },
  {
   "cell_type": "code",
   "execution_count": 14,
   "metadata": {
    "execution": {
     "iopub.execute_input": "2021-07-09T06:30:04.821446Z",
     "iopub.status.busy": "2021-07-09T06:30:04.820832Z",
     "iopub.status.idle": "2021-07-09T06:30:04.830349Z",
     "shell.execute_reply": "2021-07-09T06:30:04.829458Z",
     "shell.execute_reply.started": "2021-07-09T06:30:04.821396Z"
    }
   },
   "outputs": [],
   "source": [
    "class Encoder:\n",
    "    def __init__(self, dataframe):\n",
    "        self.dataframe = dataframe\n",
    "\n",
    "    def label_encoder(self, column):\n",
    "        '''Method for label encoding'''\n",
    "        le = LabelEncoder()\n",
    "        self.dataframe[column] = le.fit_transform(self.dataframe[column])\n",
    "\n",
    "    def hot_encoder(self, column):\n",
    "        '''Method for hot encoding'''\n",
    "        ohe = OneHotEncoder(handle_unknown='ignore', sparse=False)\n",
    "        aux_df = pd.DataFrame(ohe.fit_transform(self.dataframe[[column]]))\n",
    "        aux_df.columns = ohe.get_feature_names([f'hot_{column}'])\n",
    "        self.dataframe = self.dataframe.drop(col, axis=1)\n",
    "        self.dataframe = pd.concat([self.dataframe, aux_df], axis=1)\n",
    "        return self.dataframe"
   ]
  },
  {
   "cell_type": "code",
   "execution_count": 15,
   "metadata": {
    "execution": {
     "iopub.execute_input": "2021-07-09T06:30:04.833019Z",
     "iopub.status.busy": "2021-07-09T06:30:04.832695Z",
     "iopub.status.idle": "2021-07-09T06:30:04.841518Z",
     "shell.execute_reply": "2021-07-09T06:30:04.840332Z",
     "shell.execute_reply.started": "2021-07-09T06:30:04.832991Z"
    }
   },
   "outputs": [],
   "source": [
    "def to_log(df, cols_to_log):\n",
    "    'smart log'\n",
    "    for col in cols_to_log:\n",
    "        a = df[col].min()\n",
    "        if a <= 0:                        \n",
    "            df[col] = np.log(df[col] + (int(abs(df[col].min()))+2))\n",
    "        \n",
    "        df[col] = np.log(df[col])\n",
    "    return df"
   ]
  },
  {
   "cell_type": "markdown",
   "metadata": {},
   "source": [
    "<a id=\"sec4.2\"></a>\n",
    "## [4.2 Specific Functions](#sec4.2)\n",
    "[(INDEX)](#sec2)"
   ]
  },
  {
   "cell_type": "code",
   "execution_count": 16,
   "metadata": {
    "execution": {
     "iopub.execute_input": "2021-07-09T06:30:04.843653Z",
     "iopub.status.busy": "2021-07-09T06:30:04.843143Z",
     "iopub.status.idle": "2021-07-09T06:30:04.850030Z",
     "shell.execute_reply": "2021-07-09T06:30:04.849058Z",
     "shell.execute_reply.started": "2021-07-09T06:30:04.843613Z"
    }
   },
   "outputs": [],
   "source": [
    "# Defining MAPE function since it was removed from sklearn\n",
    "def mape(y_true, y_pred):\n",
    "    'Function to calculate MAPE metric'\n",
    "#     y_true, y_pred = np.expm1(y_true), np.expm1(y_pred)\n",
    "    y_true, y_pred = np.array(y_true), np.array(y_pred)\n",
    "    return np.mean(np.abs((y_true - y_pred) / y_true) * 100)"
   ]
  },
  {
   "cell_type": "code",
   "execution_count": 17,
   "metadata": {
    "execution": {
     "iopub.execute_input": "2021-07-09T06:30:04.852400Z",
     "iopub.status.busy": "2021-07-09T06:30:04.851655Z",
     "iopub.status.idle": "2021-07-09T06:30:04.862457Z",
     "shell.execute_reply": "2021-07-09T06:30:04.861379Z",
     "shell.execute_reply.started": "2021-07-09T06:30:04.852359Z"
    }
   },
   "outputs": [],
   "source": [
    "def get_regression_metrics(report_df,y_true, y_pred, name, exp = True):\n",
    "    '''Create and add metrics into a pandas DF after experiment'''\n",
    "    if exp: \n",
    "        y_true, y_pred = np.expm1(y_true), np.expm1(y_pred)\n",
    "\n",
    "    report = pd.DataFrame(columns={'MAPE'}, data=[0])\n",
    "    try:\n",
    "        report['MAPE'] = mape(y_true, y_pred)\n",
    "    except:\n",
    "        report['MAPE'] = 'failed'\n",
    "    try:\n",
    "        report['MAE'] = mean_absolute_error(y_true, y_pred)\n",
    "    except:\n",
    "        report['MAE'] = 'None'\n",
    "    try:\n",
    "        report['MSE'] = mean_squared_error(y_true, y_pred)\n",
    "    except:\n",
    "        report['MSE'] = 'None'\n",
    "    try:\n",
    "        report['RMSE'] = np.sqrt(mean_squared_error(y_true, y_pred))\n",
    "    except:\n",
    "        report['RMSE'] = 'None'\n",
    "\n",
    "    report.index = [name]\n",
    "    report_df = report_df.append(report)\n",
    "    return report_df"
   ]
  },
  {
   "cell_type": "markdown",
   "metadata": {},
   "source": [
    "<a id=\"sec4.3\"></a>\n",
    "## [4.3 FUNCTIONS FOR FEATURE ENGINEERING](#sec4.3)\n",
    "[(INDEX)](#sec2)"
   ]
  },
  {
   "cell_type": "code",
   "execution_count": 18,
   "metadata": {
    "execution": {
     "iopub.execute_input": "2021-07-09T06:30:04.864614Z",
     "iopub.status.busy": "2021-07-09T06:30:04.864016Z",
     "iopub.status.idle": "2021-07-09T06:30:04.873226Z",
     "shell.execute_reply": "2021-07-09T06:30:04.872330Z",
     "shell.execute_reply.started": "2021-07-09T06:30:04.864575Z"
    }
   },
   "outputs": [],
   "source": [
    "def get_low_registr(word):\n",
    "    '''Get lowercase for string'''\n",
    "    try:\n",
    "        return word.lower()\n",
    "    except:\n",
    "        return None"
   ]
  },
  {
   "cell_type": "markdown",
   "metadata": {},
   "source": [
    "<a id=\"sec5\"></a>\n",
    "# [5.Load and Chek the Dataset](#sec5)\n",
    "[(INDEX)](#sec2)"
   ]
  },
  {
   "cell_type": "code",
   "execution_count": null,
   "metadata": {
    "_kg_hide-output": true,
    "execution": {
     "iopub.execute_input": "2021-07-09T06:30:04.875825Z",
     "iopub.status.busy": "2021-07-09T06:30:04.875526Z",
     "iopub.status.idle": "2021-07-09T06:30:05.261866Z",
     "shell.execute_reply": "2021-07-09T06:30:05.261012Z",
     "shell.execute_reply.started": "2021-07-09T06:30:04.875798Z"
    }
   },
   "outputs": [],
   "source": [
    "df_train = pd.read_csv('train.csv')\n",
    "df_test = pd.read_csv('test.csv')"
   ]
  },
  {
   "cell_type": "code",
   "execution_count": null,
   "metadata": {
    "execution": {
     "iopub.execute_input": "2021-07-09T06:30:05.263391Z",
     "iopub.status.busy": "2021-07-09T06:30:05.263042Z",
     "iopub.status.idle": "2021-07-09T06:30:05.306827Z",
     "shell.execute_reply": "2021-07-09T06:30:05.305790Z",
     "shell.execute_reply.started": "2021-07-09T06:30:05.263356Z"
    }
   },
   "outputs": [],
   "source": [
    "df_test.info()\n",
    "df_test.sample(1)"
   ]
  },
  {
   "cell_type": "code",
   "execution_count": null,
   "metadata": {
    "execution": {
     "iopub.execute_input": "2021-07-09T06:30:05.308992Z",
     "iopub.status.busy": "2021-07-09T06:30:05.308519Z",
     "iopub.status.idle": "2021-07-09T06:30:05.349156Z",
     "shell.execute_reply": "2021-07-09T06:30:05.348070Z",
     "shell.execute_reply.started": "2021-07-09T06:30:05.308938Z"
    }
   },
   "outputs": [],
   "source": [
    "df_train.info()\n",
    "df_train.sample(1)"
   ]
  },
  {
   "cell_type": "code",
   "execution_count": null,
   "metadata": {
    "execution": {
     "iopub.execute_input": "2021-07-09T06:30:05.350767Z",
     "iopub.status.busy": "2021-07-09T06:30:05.350405Z",
     "iopub.status.idle": "2021-07-09T06:30:05.356134Z",
     "shell.execute_reply": "2021-07-09T06:30:05.354808Z",
     "shell.execute_reply.started": "2021-07-09T06:30:05.350732Z"
    }
   },
   "outputs": [],
   "source": [
    "print(\n",
    "    f'Shape of Train Dataset:{df_train.shape}\\nShape of Test Dataset:{df_test.shape} \\n'\n",
    ")"
   ]
  },
  {
   "cell_type": "markdown",
   "metadata": {},
   "source": [
    "<a id=\"sec6\"></a>\n",
    "# [6 BASELINE MODEL](#sec6)\n",
    "[(INDEX)](#sec2)"
   ]
  },
  {
   "cell_type": "code",
   "execution_count": null,
   "metadata": {
    "execution": {
     "iopub.execute_input": "2021-07-09T06:30:05.365135Z",
     "iopub.status.busy": "2021-07-09T06:30:05.364422Z",
     "iopub.status.idle": "2021-07-09T06:30:05.375220Z",
     "shell.execute_reply": "2021-07-09T06:30:05.374293Z",
     "shell.execute_reply.started": "2021-07-09T06:30:05.365090Z"
    }
   },
   "outputs": [],
   "source": [
    "# split данных\n",
    "data_train, data_test = train_test_split(df_train,\n",
    "                                         test_size=0.15,\n",
    "                                         shuffle=True,\n",
    "                                         random_state=42)"
   ]
  },
  {
   "cell_type": "code",
   "execution_count": null,
   "metadata": {
    "execution": {
     "iopub.execute_input": "2021-07-09T06:30:05.380416Z",
     "iopub.status.busy": "2021-07-09T06:30:05.379801Z",
     "iopub.status.idle": "2021-07-09T06:30:05.386829Z",
     "shell.execute_reply": "2021-07-09T06:30:05.384505Z",
     "shell.execute_reply.started": "2021-07-09T06:30:05.380375Z"
    }
   },
   "outputs": [],
   "source": [
    "print(f'Train size: {data_train.shape}, Validation size: {data_test.shape}')"
   ]
  },
  {
   "cell_type": "code",
   "execution_count": null,
   "metadata": {
    "execution": {
     "iopub.execute_input": "2021-07-09T06:30:05.388504Z",
     "iopub.status.busy": "2021-07-09T06:30:05.388128Z",
     "iopub.status.idle": "2021-07-09T06:30:07.155796Z",
     "shell.execute_reply": "2021-07-09T06:30:07.154986Z",
     "shell.execute_reply.started": "2021-07-09T06:30:05.388470Z"
    }
   },
   "outputs": [],
   "source": [
    "# Наивная модель\n",
    "predicts = []\n",
    "for index, row in pd.DataFrame(data_test[['model_info',\n",
    "                                          'productionDate']]).iterrows():\n",
    "#     query = f\"model_info == '{row[0]}' and productionDate == '{(row[1])}'\"\n",
    "#     predicts.append(data_train.query(query)['price'].median())\n",
    "    predicts.append(data_train[(data_train['model_info'] == row[0])\n",
    "                               & (data_train['productionDate'] == row[1])]['price'].median())"
   ]
  },
  {
   "cell_type": "code",
   "execution_count": null,
   "metadata": {
    "execution": {
     "iopub.execute_input": "2021-07-09T06:30:07.158375Z",
     "iopub.status.busy": "2021-07-09T06:30:07.157819Z",
     "iopub.status.idle": "2021-07-09T06:30:07.167052Z",
     "shell.execute_reply": "2021-07-09T06:30:07.166232Z",
     "shell.execute_reply.started": "2021-07-09T06:30:07.158333Z"
    }
   },
   "outputs": [],
   "source": [
    "# заполним не найденные совпадения\n",
    "predicts = pd.DataFrame(predicts)\n",
    "predicts = predicts.fillna(predicts.median())\n",
    "# округлим\n",
    "predicts = (predicts // 1000) * 1000"
   ]
  },
  {
   "cell_type": "markdown",
   "metadata": {},
   "source": [
    "Check the accuracy of the model"
   ]
  },
  {
   "cell_type": "code",
   "execution_count": null,
   "metadata": {
    "execution": {
     "iopub.execute_input": "2021-07-09T06:30:07.168901Z",
     "iopub.status.busy": "2021-07-09T06:30:07.168515Z",
     "iopub.status.idle": "2021-07-09T06:30:07.177183Z",
     "shell.execute_reply": "2021-07-09T06:30:07.176333Z",
     "shell.execute_reply.started": "2021-07-09T06:30:07.168861Z"
    }
   },
   "outputs": [],
   "source": [
    "# create empty df\n",
    "df_report = pd.DataFrame(data=None)"
   ]
  },
  {
   "cell_type": "code",
   "execution_count": null,
   "metadata": {
    "execution": {
     "iopub.execute_input": "2021-07-09T06:30:07.179040Z",
     "iopub.status.busy": "2021-07-09T06:30:07.178545Z",
     "iopub.status.idle": "2021-07-09T06:30:07.199863Z",
     "shell.execute_reply": "2021-07-09T06:30:07.198946Z",
     "shell.execute_reply.started": "2021-07-09T06:30:07.179001Z"
    }
   },
   "outputs": [],
   "source": [
    "# Run func to get regression metrics\n",
    "df_report = get_regression_metrics(df_report, data_test['price'],\n",
    "                                   predicts[0].values, 'BaseLine',exp = False)\n",
    "df_report"
   ]
  },
  {
   "cell_type": "markdown",
   "metadata": {},
   "source": [
    "<a id=\"sec7\"></a>\n",
    "# [7 Pre-processing before stacking data sets](#sec7)\n",
    "[(INDEX)](#sec2)"
   ]
  },
  {
   "cell_type": "markdown",
   "metadata": {},
   "source": [
    "Rename columns removing spaces and substituting capital letters"
   ]
  },
  {
   "cell_type": "code",
   "execution_count": null,
   "metadata": {
    "execution": {
     "iopub.execute_input": "2021-07-09T06:30:07.201854Z",
     "iopub.status.busy": "2021-07-09T06:30:07.201429Z",
     "iopub.status.idle": "2021-07-09T06:30:07.208379Z",
     "shell.execute_reply": "2021-07-09T06:30:07.207258Z",
     "shell.execute_reply.started": "2021-07-09T06:30:07.201811Z"
    }
   },
   "outputs": [],
   "source": [
    "columns = {\n",
    "    'bodyType': 'body_type',\n",
    "    'engineDisplacement': 'engine_displacement',\n",
    "    'enginePower': 'engine_power',\n",
    "    'fuelType': 'fuel_type',\n",
    "    'modelDate': 'model_date',\n",
    "    'numberOfDoors': 'doors_count',\n",
    "    'productionDate': 'production_date',\n",
    "    'vehicleConfiguration': 'vehicle_configuration',\n",
    "    'vehicleTransmission': 'vehicle_transmission',\n",
    "    'Владельцы': 'owner_count',\n",
    "    'Владение': 'owning_period',\n",
    "    'ПТС': 'car_passport',\n",
    "    'Привод': 'wheel_drive',\n",
    "    'Руль': 'wheel_location',\n",
    "}"
   ]
  },
  {
   "cell_type": "code",
   "execution_count": null,
   "metadata": {
    "execution": {
     "iopub.execute_input": "2021-07-09T06:30:07.211036Z",
     "iopub.status.busy": "2021-07-09T06:30:07.210174Z",
     "iopub.status.idle": "2021-07-09T06:30:07.218085Z",
     "shell.execute_reply": "2021-07-09T06:30:07.217127Z",
     "shell.execute_reply.started": "2021-07-09T06:30:07.210992Z"
    }
   },
   "outputs": [],
   "source": [
    "df_test.rename(columns=columns,inplace=True)\n",
    "df_train.rename(columns=columns,inplace=True)"
   ]
  },
  {
   "cell_type": "markdown",
   "metadata": {},
   "source": [
    "Keep only float numbers in **[engine_displacement column]**."
   ]
  },
  {
   "cell_type": "code",
   "execution_count": null,
   "metadata": {
    "execution": {
     "iopub.execute_input": "2021-07-09T06:30:07.220314Z",
     "iopub.status.busy": "2021-07-09T06:30:07.219807Z",
     "iopub.status.idle": "2021-07-09T06:30:07.233268Z",
     "shell.execute_reply": "2021-07-09T06:30:07.232214Z",
     "shell.execute_reply.started": "2021-07-09T06:30:07.220273Z"
    }
   },
   "outputs": [],
   "source": [
    "# clear 'LTR in test set'\n",
    "df_test['engine_displacement'] = df_test['engine_displacement'].apply(\n",
    "    lambda x: str(x).replace('LTR', ''))\n",
    "# convert object to float in test set\n",
    "df_test['engine_displacement'] = df_test['engine_displacement'].apply(\n",
    "    lambda x: np.nan if x.strip() == 'undefined' else float(x))"
   ]
  },
  {
   "cell_type": "markdown",
   "metadata": {},
   "source": [
    "Do the same for train set"
   ]
  },
  {
   "cell_type": "code",
   "execution_count": null,
   "metadata": {
    "execution": {
     "iopub.execute_input": "2021-07-09T06:30:07.235108Z",
     "iopub.status.busy": "2021-07-09T06:30:07.234709Z",
     "iopub.status.idle": "2021-07-09T06:30:07.251961Z",
     "shell.execute_reply": "2021-07-09T06:30:07.250722Z",
     "shell.execute_reply.started": "2021-07-09T06:30:07.235069Z"
    }
   },
   "outputs": [],
   "source": [
    "# clear 'LTR in test set'\n",
    "df_train['engine_displacement'] = df_train['engine_displacement'].apply(\n",
    "    lambda x: str(x).replace('LTR', ''))\n",
    "# convert object to float in test set\n",
    "df_train['engine_displacement'] = df_train['engine_displacement'].apply(\n",
    "    lambda x: np.nan if x.strip() == 'undefined' else float(x))"
   ]
  },
  {
   "cell_type": "markdown",
   "metadata": {},
   "source": [
    "**[enginePower column]**"
   ]
  },
  {
   "cell_type": "code",
   "execution_count": null,
   "metadata": {
    "execution": {
     "iopub.execute_input": "2021-07-09T06:30:07.254222Z",
     "iopub.status.busy": "2021-07-09T06:30:07.253662Z",
     "iopub.status.idle": "2021-07-09T06:30:07.265920Z",
     "shell.execute_reply": "2021-07-09T06:30:07.265070Z",
     "shell.execute_reply.started": "2021-07-09T06:30:07.254184Z"
    }
   },
   "outputs": [],
   "source": [
    "# clear 'N12 in test set'\n",
    "df_test['engine_power'] = df_test['engine_power'].apply(\n",
    "    lambda x: str(x).replace('N12', ''))\n",
    "\n",
    "# convert object to float in test set\n",
    "df_test['engine_power'] = df_test['engine_power'].apply(\n",
    "    lambda x: np.nan if x.strip() == '' else float(x))"
   ]
  },
  {
   "cell_type": "markdown",
   "metadata": {},
   "source": [
    "Same for train set"
   ]
  },
  {
   "cell_type": "code",
   "execution_count": null,
   "metadata": {
    "execution": {
     "iopub.execute_input": "2021-07-09T06:30:07.268236Z",
     "iopub.status.busy": "2021-07-09T06:30:07.267724Z",
     "iopub.status.idle": "2021-07-09T06:30:07.282702Z",
     "shell.execute_reply": "2021-07-09T06:30:07.281406Z",
     "shell.execute_reply.started": "2021-07-09T06:30:07.268196Z"
    }
   },
   "outputs": [],
   "source": [
    "# clear 'N12 in test set'\n",
    "df_train['engine_power'] = df_train['engine_power'].apply(\n",
    "    lambda x: str(x).replace('N12', ''))\n",
    "\n",
    "# convert object to float in test set\n",
    "df_train['engine_power'] = df_train['engine_power'].apply(\n",
    "    lambda x: np.nan if x.strip() == '' else float(x))"
   ]
  },
  {
   "cell_type": "markdown",
   "metadata": {},
   "source": [
    "<a id=\"sec5.1\"></a>\n",
    "# [7.1 Stacking data sets](#sec5.2)\n",
    "[(INDEX)](#sec2)"
   ]
  },
  {
   "cell_type": "markdown",
   "metadata": {},
   "source": [
    "For further feature engineering, let's combine two datasets into a one"
   ]
  },
  {
   "cell_type": "code",
   "execution_count": null,
   "metadata": {
    "execution": {
     "iopub.execute_input": "2021-07-09T06:30:07.284789Z",
     "iopub.status.busy": "2021-07-09T06:30:07.284262Z",
     "iopub.status.idle": "2021-07-09T06:30:07.293455Z",
     "shell.execute_reply": "2021-07-09T06:30:07.292539Z",
     "shell.execute_reply.started": "2021-07-09T06:30:07.284751Z"
    }
   },
   "outputs": [],
   "source": [
    "# let's mark where is train where is test set.\n",
    "df_train['sample'] = 1  # train\n",
    "df_test['sample'] = 0  # test"
   ]
  },
  {
   "cell_type": "code",
   "execution_count": null,
   "metadata": {
    "execution": {
     "iopub.execute_input": "2021-07-09T06:30:07.295336Z",
     "iopub.status.busy": "2021-07-09T06:30:07.294922Z",
     "iopub.status.idle": "2021-07-09T06:30:07.312033Z",
     "shell.execute_reply": "2021-07-09T06:30:07.311230Z",
     "shell.execute_reply.started": "2021-07-09T06:30:07.295273Z"
    }
   },
   "outputs": [],
   "source": [
    "df = df_train.append(df_test, sort=False).reset_index(\n",
    "    drop=True)  # combine sets"
   ]
  },
  {
   "cell_type": "markdown",
   "metadata": {},
   "source": [
    "<a id=\"sec7.2\"></a>\n",
    "## [7.2 Missing Values](#sec7.2)\n",
    "[(INDEX)](#sec2)"
   ]
  },
  {
   "cell_type": "code",
   "execution_count": null,
   "metadata": {
    "execution": {
     "iopub.execute_input": "2021-07-09T06:30:07.315026Z",
     "iopub.status.busy": "2021-07-09T06:30:07.314777Z",
     "iopub.status.idle": "2021-07-09T06:30:08.545466Z",
     "shell.execute_reply": "2021-07-09T06:30:08.544650Z",
     "shell.execute_reply.started": "2021-07-09T06:30:07.315003Z"
    }
   },
   "outputs": [],
   "source": [
    "# Plot missing values\n",
    "cols = df.columns\n",
    "fig, ax = plt.subplots(figsize=(10, 10))\n",
    "sns.heatmap(df[cols].isnull()) \n",
    "\n",
    "# Show in percents\n",
    "for col in df.columns:\n",
    "    pct_missing = np.mean(df[col].isnull())\n",
    "    print(f'{col} - {round(pct_missing*100,3)}%')"
   ]
  },
  {
   "cell_type": "markdown",
   "metadata": {},
   "source": [
    "engine_displacement has some missing cells. \n",
    "\n",
    "Price has missing cells but it is ok, because our test set appended here in combined set\n",
    "\n",
    "Owning Period has shitload of missing vars :("
   ]
  },
  {
   "cell_type": "markdown",
   "metadata": {},
   "source": [
    "<a id=\"sec7.3\"></a>\n",
    "## [7.3 Pandas Profiling](#sec7.3)\n",
    "[(INDEX)](#sec2)"
   ]
  },
  {
   "cell_type": "code",
   "execution_count": null,
   "metadata": {
    "execution": {
     "iopub.execute_input": "2021-07-09T06:30:08.547006Z",
     "iopub.status.busy": "2021-07-09T06:30:08.546672Z",
     "iopub.status.idle": "2021-07-09T06:30:08.572786Z",
     "shell.execute_reply": "2021-07-09T06:30:08.571676Z",
     "shell.execute_reply.started": "2021-07-09T06:30:08.546976Z"
    }
   },
   "outputs": [],
   "source": [
    "%%script False\n",
    "# We won't include some colums in the report\n",
    "cols_exclude = [\n",
    "    'sample', 'name', 'owning_period', 'sell_id',\n",
    "    'vehicle_configuration'\n",
    "]\n",
    "\n",
    "data_profile = pandas_report(df_train.drop(cols_exclude, axis=1),\n",
    "                             'car_price_prediction')\n",
    "# Check your folder\n",
    "data_profile.to_file('pandas_report.html')"
   ]
  },
  {
   "cell_type": "markdown",
   "metadata": {},
   "source": [
    "Link for the  **[the dataset profile report](./pandas_report.html)**."
   ]
  },
  {
   "cell_type": "markdown",
   "metadata": {},
   "source": [
    " - Dataset has 23 features (excluding feature 'Sample')\n",
    " \n",
    " - Total Number Of observations is 6682\n",
    " \n",
    " - Missing values is about 0.1% \n",
    " \n",
    " - There are no potential duplicates\n",
    " \n",
    " \n",
    " - ***body_type*** 0.3% of unique entities. We need to process this column in the future sections. \n",
    " \n",
    " - ***brand*** we have 3 brand of cars.\n",
    " \n",
    " - ***color*** Consists 16 distinct categories: \n",
    "     \n",
    "  - Чёрный (42%)\n",
    " \n",
    "  - Белый (18 %)\n",
    " \n",
    "  - Серый (11%)\n",
    " \n",
    "  - other colors\n",
    " \n",
    " - ***description*** - has 92% distinct descriptions. This means some of the information is repeating. It can say us that there are some sale announcements from agency seller rs (perekup).\n",
    " \n",
    " - ***engine_displacement*** - the overwhelming majority of engines has a volume of 2 and 3 liters. This information could be converted to a categorical one with the sorting of engines like <span style=\"color:red\">low volume, middle, high engine volume.</span>\n",
    "  - mean - 2.78 l;\n",
    " \n",
    "  - median - 2.;\n",
    " \n",
    "  - Q1 - 2 l;\n",
    " \n",
    "  - Q3 - 3 l;\n",
    " \n",
    "  - maximum - 6.6 (insane :))\n",
    " \n",
    "  - minimum - 0.7\n",
    " \n",
    " - ***engine_power*** - most common power is 184 h.p. Second place takes engine with power 249 h.p.\n",
    " \n",
    "  - mean - 255;\n",
    "  \n",
    "  - median - 231;\n",
    " \n",
    "  - Q1 - 184;\n",
    " \n",
    "  - Q3 - 306;\n",
    " \n",
    "  - maximum - 639;\n",
    " \n",
    "  - minimum - 75\n",
    " \n",
    " - ***fuel_type*** - Of course, the first place takes Gasoline (бензин). Seems nothing interesting here.\n",
    " \n",
    " - ***mileage*** - We have distribution biased to left with a huge amount of cars with zero mileage (probably new cars). That is also good feature <span style=\"color:red\">insight</span> . Need to separate new cars from used.\n",
    " \n",
    " - ***model_date** - *Distribution with right tail. Most of models presented in dataset designed in 21st Century\n",
    " \n",
    "  - mean - 2010;\n",
    "  \n",
    "  - median - 2011;\n",
    " \n",
    "  - Q1 - 2007;\n",
    " \n",
    "  - Q3 - 2014;\n",
    " \n",
    "  - maximum - 2019;\n",
    " \n",
    "  - minimum - 1975\n",
    "  \n",
    " - ***model_info*** - HIGH CARDINALITY categorical variable\n",
    " \n",
    " - ***doors_count*** - Overwhelming majority of cars in dataset has 5 an 4 doors.\n",
    " \n",
    " - ***production_date*** - We have distribution biased to right. Most of cars in our dataset quite fresh. It must impact on the price.\n",
    " \n",
    " \n",
    " - ***vehicle_transmission*** - It is a categorical feature. Most of types are *automatic*. \n",
    "  \n",
    " - ***owner_count*** -  Has 1 missing cell . Category 3 or more owners  takes first place in the distribution. Then one owner\n",
    " \n",
    " -***car_passport*** 89% has original passport\n",
    " \n",
    " -***wheel_drive***  63% has 4WD.\n",
    " \n",
    " -***wheel_location*** - 99% has left location of wheel\n",
    "  \n",
    " -***price*** - is a target variable. Detailed analysis will be performed later.\n",
    " \n",
    " \n",
    "Need to be noted that we have some strong correlations such as production year correlated with a mileage, engine power and price etc.. \n",
    " "
   ]
  },
  {
   "cell_type": "markdown",
   "metadata": {},
   "source": [
    "<a id=\"sec8\"></a>\n",
    "# [8.Data Analysis](#sec8)\n",
    "[(INDEX)](#sec2)"
   ]
  },
  {
   "cell_type": "markdown",
   "metadata": {},
   "source": [
    "<a id=\"sec8.1\"></a>\n",
    "## [8.1 Target Variable](#sec8.1)\n",
    "[(INDEX)](#sec2)"
   ]
  },
  {
   "cell_type": "code",
   "execution_count": null,
   "metadata": {
    "execution": {
     "iopub.execute_input": "2021-07-09T06:30:08.574958Z",
     "iopub.status.busy": "2021-07-09T06:30:08.574544Z",
     "iopub.status.idle": "2021-07-09T06:30:09.248261Z",
     "shell.execute_reply": "2021-07-09T06:30:09.247290Z",
     "shell.execute_reply.started": "2021-07-09T06:30:08.574900Z"
    }
   },
   "outputs": [],
   "source": [
    "plt.figure(figsize=(15, 5))\n",
    "plt.subplot(121)\n",
    "sns.distplot(df_train.price.values, bins=50, color=colors[4])\n",
    "plt.title('Price Distribution\\n', fontsize=15)\n",
    "plt.xlabel('Price')\n",
    "plt.ylabel('Quantity (frequency)');\n",
    "\n",
    "plt.subplot(122)\n",
    "sns.boxplot(df_train.price.values, color=colors[1])\n",
    "plt.title('Box Plot for Price\\n', fontsize=15)\n",
    "plt.xlabel('Price');\n",
    "\n",
    "df_train['price'].describe()"
   ]
  },
  {
   "cell_type": "markdown",
   "metadata": {},
   "source": [
    "The Target variable has a biased distribution shifted to the left side of 0 to 24 millions. \n",
    "\n",
    "The first and third quartiles are in the range from 800k to 2.2 million, the mean is 1.9 million. Also outliers has been observed for target variable."
   ]
  },
  {
   "cell_type": "markdown",
   "metadata": {},
   "source": [
    "<a id=\"sec8.2\"></a>\n",
    "## [8.2 Categorical Columns analysis](#sec8.2)\n",
    "[(INDEX)](#sec2)"
   ]
  },
  {
   "cell_type": "markdown",
   "metadata": {},
   "source": [
    "<a id=\"sec8.2\"></a>\n",
    "## [8.2 Categorical Columns analysis](#sec8.2)\n",
    "[(INDEX)](#sec2)"
   ]
  },
  {
   "cell_type": "markdown",
   "metadata": {},
   "source": [
    "Check out how many body types in total we have"
   ]
  },
  {
   "cell_type": "code",
   "execution_count": null,
   "metadata": {
    "execution": {
     "iopub.execute_input": "2021-07-09T06:30:09.250149Z",
     "iopub.status.busy": "2021-07-09T06:30:09.249800Z",
     "iopub.status.idle": "2021-07-09T06:30:09.256238Z",
     "shell.execute_reply": "2021-07-09T06:30:09.255401Z",
     "shell.execute_reply.started": "2021-07-09T06:30:09.250112Z"
    }
   },
   "outputs": [],
   "source": [
    "print(f'Total Number of body types in DataSet: {df_train.body_type.nunique()}')"
   ]
  },
  {
   "cell_type": "code",
   "execution_count": null,
   "metadata": {
    "execution": {
     "iopub.execute_input": "2021-07-09T06:30:09.258379Z",
     "iopub.status.busy": "2021-07-09T06:30:09.257716Z",
     "iopub.status.idle": "2021-07-09T06:30:09.270912Z",
     "shell.execute_reply": "2021-07-09T06:30:09.269954Z",
     "shell.execute_reply.started": "2021-07-09T06:30:09.258334Z"
    }
   },
   "outputs": [],
   "source": [
    "df_train.body_type.value_counts()"
   ]
  },
  {
   "cell_type": "markdown",
   "metadata": {},
   "source": [
    "It's quite a lot. Moreover, it is mentioned here the number of doors. Let's reduce quantity by extracting the key meaning."
   ]
  },
  {
   "cell_type": "code",
   "execution_count": null,
   "metadata": {
    "execution": {
     "iopub.execute_input": "2021-07-09T06:30:09.272895Z",
     "iopub.status.busy": "2021-07-09T06:30:09.272326Z",
     "iopub.status.idle": "2021-07-09T06:30:09.284756Z",
     "shell.execute_reply": "2021-07-09T06:30:09.283716Z",
     "shell.execute_reply.started": "2021-07-09T06:30:09.272861Z"
    }
   },
   "outputs": [],
   "source": [
    "pattern = re.compile('[а-я]*')\n",
    "new_column = []\n",
    "for string in df_train['body_type']:\n",
    "    new_column.append(pattern.match(str(string))[0])\n",
    "df_train['body_type'] = new_column"
   ]
  },
  {
   "cell_type": "code",
   "execution_count": null,
   "metadata": {
    "execution": {
     "iopub.execute_input": "2021-07-09T06:30:09.286646Z",
     "iopub.status.busy": "2021-07-09T06:30:09.286042Z",
     "iopub.status.idle": "2021-07-09T06:30:09.296133Z",
     "shell.execute_reply": "2021-07-09T06:30:09.295263Z",
     "shell.execute_reply.started": "2021-07-09T06:30:09.286611Z"
    }
   },
   "outputs": [],
   "source": [
    "print(f'Total Number of body types in DataSet: {df_train.body_type.nunique()}')"
   ]
  },
  {
   "cell_type": "code",
   "execution_count": null,
   "metadata": {
    "execution": {
     "iopub.execute_input": "2021-07-09T06:30:09.298215Z",
     "iopub.status.busy": "2021-07-09T06:30:09.297607Z",
     "iopub.status.idle": "2021-07-09T06:30:09.527467Z",
     "shell.execute_reply": "2021-07-09T06:30:09.526461Z",
     "shell.execute_reply.started": "2021-07-09T06:30:09.298160Z"
    }
   },
   "outputs": [],
   "source": [
    "plt.figure(figsize=(15, 5), dpi=100)\n",
    "sns.countplot(df_train['body_type'], order=df_train['body_type'].value_counts().index)\n",
    "plt.xticks(rotation=45)\n",
    "plt.title('Body Type distribution\\n', fontsize=15)\n",
    "plt.xlabel('Body Type')\n",
    "plt.ylabel('Quantity (frequency)');"
   ]
  },
  {
   "cell_type": "markdown",
   "metadata": {},
   "source": [
    "The most popular body type is 'седан'  , then 'внедорожник'."
   ]
  },
  {
   "cell_type": "markdown",
   "metadata": {},
   "source": [
    "Let's see how it is impact on price. In addition, let's see whether the number of owners impact on price"
   ]
  },
  {
   "cell_type": "code",
   "execution_count": null,
   "metadata": {
    "execution": {
     "iopub.execute_input": "2021-07-09T06:30:09.529404Z",
     "iopub.status.busy": "2021-07-09T06:30:09.529027Z",
     "iopub.status.idle": "2021-07-09T06:30:10.430904Z",
     "shell.execute_reply": "2021-07-09T06:30:10.429731Z",
     "shell.execute_reply.started": "2021-07-09T06:30:09.529368Z"
    }
   },
   "outputs": [],
   "source": [
    "get_boxplot(df_train, 'body_type', 'price', figsize=(\n",
    "    15, 10), hue='owner_count', take_less_box=True)"
   ]
  },
  {
   "cell_type": "markdown",
   "metadata": {},
   "source": [
    "We can see that quantity of owners impacts on the final price. if car has lots of owners , then less final price. Also, body type itself impact on price car. Minivan in average more expensive than others.\n",
    "\n",
    "Or maybe it is depend on age of car? More older car has more owners? We will check bellow.\n"
   ]
  },
  {
   "cell_type": "markdown",
   "metadata": {},
   "source": [
    "<a id=\"sec8.2.2\"></a>\n",
    "### [8.2.2 Color - price](#sec8.2.2)\n",
    "[(INDEX)](#sec2)"
   ]
  },
  {
   "cell_type": "markdown",
   "metadata": {},
   "source": [
    "Let's check how color impact on price"
   ]
  },
  {
   "cell_type": "code",
   "execution_count": null,
   "metadata": {
    "execution": {
     "iopub.execute_input": "2021-07-09T06:30:10.438558Z",
     "iopub.status.busy": "2021-07-09T06:30:10.435774Z",
     "iopub.status.idle": "2021-07-09T06:30:10.877328Z",
     "shell.execute_reply": "2021-07-09T06:30:10.876498Z",
     "shell.execute_reply.started": "2021-07-09T06:30:10.438470Z"
    }
   },
   "outputs": [],
   "source": [
    "get_boxplot(df_train, 'color', 'price', figsize=(10, 7), take_less_box=True)"
   ]
  },
  {
   "cell_type": "markdown",
   "metadata": {},
   "source": [
    "Seems there is no impact."
   ]
  },
  {
   "cell_type": "markdown",
   "metadata": {},
   "source": [
    "<a id=\"sec8.2.3\"></a>\n",
    "### [8.2.3 Body_type - price - wheel-drive](#sec8.2.3)\n",
    "[(INDEX)](#sec2)"
   ]
  },
  {
   "cell_type": "code",
   "execution_count": null,
   "metadata": {
    "execution": {
     "iopub.execute_input": "2021-07-09T06:30:10.879097Z",
     "iopub.status.busy": "2021-07-09T06:30:10.878710Z",
     "iopub.status.idle": "2021-07-09T06:30:11.670533Z",
     "shell.execute_reply": "2021-07-09T06:30:11.669678Z",
     "shell.execute_reply.started": "2021-07-09T06:30:10.879055Z"
    }
   },
   "outputs": [],
   "source": [
    "get_boxplot(df_train,\n",
    "            'body_type',\n",
    "            'price',\n",
    "            hue='wheel_drive',\n",
    "            figsize=(10, 7),\n",
    "            take_less_box=True)"
   ]
  },
  {
   "cell_type": "markdown",
   "metadata": {},
   "source": [
    "Well, we may see there is more cars with 4WD for each body type and this is most expensive category."
   ]
  },
  {
   "cell_type": "markdown",
   "metadata": {},
   "source": [
    "<a id=\"sec8.2.4\"></a>\n",
    "### [8.2.4 Wheel-location](#sec8.2.4)\n",
    "[(INDEX)](#sec2)"
   ]
  },
  {
   "cell_type": "code",
   "execution_count": null,
   "metadata": {
    "execution": {
     "iopub.execute_input": "2021-07-09T06:30:11.672303Z",
     "iopub.status.busy": "2021-07-09T06:30:11.671802Z",
     "iopub.status.idle": "2021-07-09T06:30:12.624973Z",
     "shell.execute_reply": "2021-07-09T06:30:12.624225Z",
     "shell.execute_reply.started": "2021-07-09T06:30:11.672264Z"
    }
   },
   "outputs": [],
   "source": [
    "fig = px.scatter_3d(df_train,x='brand',y='wheel_location',z='price',\n",
    "                   color='price')\n",
    "fig.show()"
   ]
  },
  {
   "cell_type": "markdown",
   "metadata": {},
   "source": [
    "Overwhelming majority of cars are left-wheeled."
   ]
  },
  {
   "cell_type": "markdown",
   "metadata": {},
   "source": [
    "Let's check the fuel type by brands and how it is impact on price"
   ]
  },
  {
   "cell_type": "code",
   "execution_count": null,
   "metadata": {
    "execution": {
     "iopub.execute_input": "2021-07-09T06:30:12.626298Z",
     "iopub.status.busy": "2021-07-09T06:30:12.625986Z",
     "iopub.status.idle": "2021-07-09T06:30:12.958998Z",
     "shell.execute_reply": "2021-07-09T06:30:12.958119Z",
     "shell.execute_reply.started": "2021-07-09T06:30:12.626263Z"
    }
   },
   "outputs": [],
   "source": [
    "get_boxplot(df_train,'brand','price',hue = 'fuel_type',figsize=(10, 7))"
   ]
  },
  {
   "cell_type": "markdown",
   "metadata": {},
   "source": [
    "Our data set has more cars from Mercedes. Conventional fuel type is more cheaper than electro or hybrid"
   ]
  },
  {
   "cell_type": "markdown",
   "metadata": {},
   "source": [
    "<a id=\"sec8.3\"></a>\n",
    "## [8.3 Combination of Categorical and Numeric columns](#sec8.3)\n",
    "[(INDEX)](#sec2)"
   ]
  },
  {
   "cell_type": "markdown",
   "metadata": {},
   "source": [
    "What about power? What car more powerfull?"
   ]
  },
  {
   "cell_type": "code",
   "execution_count": null,
   "metadata": {
    "execution": {
     "iopub.execute_input": "2021-07-09T06:30:12.960681Z",
     "iopub.status.busy": "2021-07-09T06:30:12.960354Z",
     "iopub.status.idle": "2021-07-09T06:30:13.145412Z",
     "shell.execute_reply": "2021-07-09T06:30:13.144600Z",
     "shell.execute_reply.started": "2021-07-09T06:30:12.960645Z"
    }
   },
   "outputs": [],
   "source": [
    "get_boxplot(df_train, 'fuel_type', 'engine_power', figsize=(10, 7))"
   ]
  },
  {
   "cell_type": "markdown",
   "metadata": {},
   "source": [
    "We have a displacement of engine. Let's check how displacement affects power."
   ]
  },
  {
   "cell_type": "markdown",
   "metadata": {},
   "source": [
    "We see that the median value of a diesel cars is slightly higher than gaasoline cars."
   ]
  },
  {
   "cell_type": "code",
   "execution_count": null,
   "metadata": {
    "execution": {
     "iopub.execute_input": "2021-07-09T06:30:13.147031Z",
     "iopub.status.busy": "2021-07-09T06:30:13.146677Z",
     "iopub.status.idle": "2021-07-09T06:30:13.275631Z",
     "shell.execute_reply": "2021-07-09T06:30:13.274861Z",
     "shell.execute_reply.started": "2021-07-09T06:30:13.146993Z"
    }
   },
   "outputs": [],
   "source": [
    "get_scatter_plot(df_train, 'engine_displacement', 'engine_power')"
   ]
  },
  {
   "cell_type": "markdown",
   "metadata": {},
   "source": [
    "Quite predictable. Bigger displacement, more power we have. But here we have couple of notes.\n",
    "\n",
    "There are couple strange cars with huge displacement but low power."
   ]
  },
  {
   "cell_type": "markdown",
   "metadata": {},
   "source": [
    "Let's check the age of car and quantity of owners"
   ]
  },
  {
   "cell_type": "code",
   "execution_count": null,
   "metadata": {
    "execution": {
     "iopub.execute_input": "2021-07-09T06:30:13.277306Z",
     "iopub.status.busy": "2021-07-09T06:30:13.276924Z",
     "iopub.status.idle": "2021-07-09T06:30:13.282631Z",
     "shell.execute_reply": "2021-07-09T06:30:13.281602Z",
     "shell.execute_reply.started": "2021-07-09T06:30:13.277266Z"
    }
   },
   "outputs": [],
   "source": [
    "# generate age of car\n",
    "df_train['car_age'] = 2021 - df_train['production_date']"
   ]
  },
  {
   "cell_type": "code",
   "execution_count": null,
   "metadata": {
    "execution": {
     "iopub.execute_input": "2021-07-09T06:30:13.284524Z",
     "iopub.status.busy": "2021-07-09T06:30:13.284145Z",
     "iopub.status.idle": "2021-07-09T06:30:13.466257Z",
     "shell.execute_reply": "2021-07-09T06:30:13.465312Z",
     "shell.execute_reply.started": "2021-07-09T06:30:13.284484Z"
    }
   },
   "outputs": [],
   "source": [
    "get_boxplot(df_train, 'owner_count', 'car_age', figsize=(10, 7))"
   ]
  },
  {
   "cell_type": "markdown",
   "metadata": {},
   "source": [
    "Old car had more owners. As we mentioned before, it may impact on price. Probably we need to take only one feature for the model. Owner count or production year."
   ]
  },
  {
   "cell_type": "markdown",
   "metadata": {},
   "source": [
    "Eventually, let's see milleage, price and year of production"
   ]
  },
  {
   "cell_type": "code",
   "execution_count": null,
   "metadata": {
    "execution": {
     "iopub.execute_input": "2021-07-09T06:30:13.467993Z",
     "iopub.status.busy": "2021-07-09T06:30:13.467649Z",
     "iopub.status.idle": "2021-07-09T06:30:13.554178Z",
     "shell.execute_reply": "2021-07-09T06:30:13.553243Z",
     "shell.execute_reply.started": "2021-07-09T06:30:13.467955Z"
    }
   },
   "outputs": [],
   "source": [
    "fig = px.scatter_3d(df_train, x='mileage', y='production_date',\n",
    "                    z='price', color='price')\n",
    "# Edit the layout\n",
    "fig.update_layout(title='Price-Mileage-Production date')\n",
    "fig.update_layout(width=600)\n",
    "fig.update_layout(height=600)\n",
    "fig.show()"
   ]
  },
  {
   "cell_type": "markdown",
   "metadata": {},
   "source": [
    "In general the production date and milage negativelly impact on a price. \n",
    "\n",
    "More older car with hige mileage has lower price. But we also have exceptions. \n",
    "\n",
    "Some old cars has extreamly high price (ned to note that their mileage not so high)."
   ]
  },
  {
   "cell_type": "markdown",
   "metadata": {},
   "source": [
    "How does this car become cheaper with age?\n",
    "\n",
    "Let's take all years for the performing analysis of dropping the price"
   ]
  },
  {
   "cell_type": "code",
   "execution_count": null,
   "metadata": {
    "execution": {
     "iopub.execute_input": "2021-07-09T06:30:13.555896Z",
     "iopub.status.busy": "2021-07-09T06:30:13.555543Z",
     "iopub.status.idle": "2021-07-09T06:30:13.567240Z",
     "shell.execute_reply": "2021-07-09T06:30:13.566101Z",
     "shell.execute_reply.started": "2021-07-09T06:30:13.555859Z"
    }
   },
   "outputs": [],
   "source": [
    "# More older cars might be more expensive\n",
    "df_aux = df_train.groupby(['production_date','brand'])['price'].mean().reset_index()"
   ]
  },
  {
   "cell_type": "code",
   "execution_count": null,
   "metadata": {
    "execution": {
     "iopub.execute_input": "2021-07-09T06:30:13.569180Z",
     "iopub.status.busy": "2021-07-09T06:30:13.568757Z",
     "iopub.status.idle": "2021-07-09T06:30:13.657724Z",
     "shell.execute_reply": "2021-07-09T06:30:13.656749Z",
     "shell.execute_reply.started": "2021-07-09T06:30:13.569139Z"
    }
   },
   "outputs": [],
   "source": [
    "fig = px.line(df_aux,\n",
    "              x='production_date',\n",
    "              y='price',\n",
    "              color='brand',\n",
    "              line_group='brand',\n",
    "              hover_name='brand')\n",
    "# Edit the layout\n",
    "fig.update_layout(title='Average price change by years',\n",
    "                  xaxis_title='Production Year',\n",
    "                  yaxis_title='Price in RUB')\n",
    "fig.update_layout(width=800)\n",
    "fig.update_layout(height=600)\n",
    "fig.show()"
   ]
  },
  {
   "cell_type": "markdown",
   "metadata": {},
   "source": [
    "Interesting picture. The average price is dropping first, and then start to growth. It can be explained that old cars become more and more expensive with time flow.\n",
    "\n",
    "Also, the price changes not linear but with some bended curve (simillar with a parabola)"
   ]
  },
  {
   "cell_type": "markdown",
   "metadata": {},
   "source": [
    "We can see that some brands price drop their price by time flow more rapidly and more stronger than others."
   ]
  },
  {
   "cell_type": "code",
   "execution_count": null,
   "metadata": {
    "execution": {
     "iopub.execute_input": "2021-07-09T06:30:13.659608Z",
     "iopub.status.busy": "2021-07-09T06:30:13.659230Z",
     "iopub.status.idle": "2021-07-09T06:30:13.666054Z",
     "shell.execute_reply": "2021-07-09T06:30:13.665029Z",
     "shell.execute_reply.started": "2021-07-09T06:30:13.659557Z"
    }
   },
   "outputs": [],
   "source": [
    "def get_price_change(df, brand_list):\n",
    "    '''Function is called to get mean change \n",
    "    of price by years for dedicated car model'''\n",
    "    # create dataframe\n",
    "    df_avg_prc = pd.DataFrame(data=None,\n",
    "                              columns=['brand', 'avg_price_change'],\n",
    "                              index=range(len(brand_list)))\n",
    "    for i, brand in enumerate(brand_list):\n",
    "        # write down the brand name in DF\n",
    "        df_avg_prc.loc[i]['brand'] = brand\n",
    "        # extract from inserted dataframe particular car brand and its price\n",
    "        mean_price = df[df['brand'] == f'{brand}']['price']\n",
    "        # Compute change of price by years and take mean from all changes in percnts\n",
    "        df_avg_prc.loc[i]['avg_price_change'] = 100 * \\\n",
    "            (mean_price.pct_change().mean())\n",
    "    return df_avg_prc"
   ]
  },
  {
   "cell_type": "code",
   "execution_count": null,
   "metadata": {
    "execution": {
     "iopub.execute_input": "2021-07-09T06:30:13.667947Z",
     "iopub.status.busy": "2021-07-09T06:30:13.667529Z",
     "iopub.status.idle": "2021-07-09T06:30:13.689564Z",
     "shell.execute_reply": "2021-07-09T06:30:13.688524Z",
     "shell.execute_reply.started": "2021-07-09T06:30:13.667893Z"
    }
   },
   "outputs": [],
   "source": [
    "# Take brands\n",
    "brands = list(df_aux['brand'].unique())\n",
    "prcnt_chng_df = get_price_change(df_aux,brands)\n",
    "prcnt_chng_df.sample(3)"
   ]
  },
  {
   "cell_type": "code",
   "execution_count": null,
   "metadata": {
    "execution": {
     "iopub.execute_input": "2021-07-09T06:30:13.691209Z",
     "iopub.status.busy": "2021-07-09T06:30:13.690843Z",
     "iopub.status.idle": "2021-07-09T06:30:13.753498Z",
     "shell.execute_reply": "2021-07-09T06:30:13.752652Z",
     "shell.execute_reply.started": "2021-07-09T06:30:13.691173Z"
    }
   },
   "outputs": [],
   "source": [
    "fig = px.scatter(prcnt_chng_df,x=brands,y='avg_price_change')\n",
    "fig.update_layout(title='Price change in percents',\n",
    "                  xaxis_title='Model',\n",
    "                  yaxis_title='Price change in Percents')\n",
    "fig.update_layout(width=600)\n",
    "fig.update_layout(height=400)\n",
    "fig.show()"
   ]
  },
  {
   "cell_type": "markdown",
   "metadata": {},
   "source": [
    "As a conclusion, we see that for all cars price rapidly drops in the next year after purchasing.\n",
    "\n",
    "But some cars in average looses price much stronger than other.\n",
    "\n",
    "In the plot above we can see that Mercedes losses (25% in average) more than other\n",
    "\n",
    "Next brand is BMW and has significant price drop (about 21% per year in average)."
   ]
  },
  {
   "cell_type": "markdown",
   "metadata": {},
   "source": [
    "<a id=\"sec8.4\"></a>\n",
    "## [8.4 Numeric columns](#sec8.4)\n",
    "[(INDEX)](#sec2)"
   ]
  },
  {
   "cell_type": "code",
   "execution_count": null,
   "metadata": {
    "execution": {
     "iopub.execute_input": "2021-07-09T06:30:13.755108Z",
     "iopub.status.busy": "2021-07-09T06:30:13.754750Z",
     "iopub.status.idle": "2021-07-09T06:30:13.759727Z",
     "shell.execute_reply": "2021-07-09T06:30:13.758252Z",
     "shell.execute_reply.started": "2021-07-09T06:30:13.755072Z"
    }
   },
   "outputs": [],
   "source": [
    "num_cols = ['engine_displacement',\n",
    "           'engine_power','mileage',\n",
    "           'model_date','doors_count',\n",
    "           'production_date',]"
   ]
  },
  {
   "cell_type": "markdown",
   "metadata": {},
   "source": [
    "For analysis purpose, let's fill missing values by median"
   ]
  },
  {
   "cell_type": "code",
   "execution_count": null,
   "metadata": {
    "execution": {
     "iopub.execute_input": "2021-07-09T06:30:13.761701Z",
     "iopub.status.busy": "2021-07-09T06:30:13.761238Z",
     "iopub.status.idle": "2021-07-09T06:30:13.777054Z",
     "shell.execute_reply": "2021-07-09T06:30:13.776135Z",
     "shell.execute_reply.started": "2021-07-09T06:30:13.761662Z"
    }
   },
   "outputs": [],
   "source": [
    "for col in num_cols:\n",
    "    df_train[col] = df_train[col].fillna(df_train[col].median())"
   ]
  },
  {
   "cell_type": "code",
   "execution_count": null,
   "metadata": {
    "execution": {
     "iopub.execute_input": "2021-07-09T06:30:13.779097Z",
     "iopub.status.busy": "2021-07-09T06:30:13.778563Z",
     "iopub.status.idle": "2021-07-09T06:30:13.783270Z",
     "shell.execute_reply": "2021-07-09T06:30:13.782145Z",
     "shell.execute_reply.started": "2021-07-09T06:30:13.779055Z"
    }
   },
   "outputs": [],
   "source": [
    "# create n instace of class for outlier detection\n",
    "outlier = Outliers_detector(df_train)"
   ]
  },
  {
   "cell_type": "code",
   "execution_count": null,
   "metadata": {
    "execution": {
     "iopub.execute_input": "2021-07-09T06:30:13.785588Z",
     "iopub.status.busy": "2021-07-09T06:30:13.784814Z",
     "iopub.status.idle": "2021-07-09T06:30:16.614577Z",
     "shell.execute_reply": "2021-07-09T06:30:16.613616Z",
     "shell.execute_reply.started": "2021-07-09T06:30:13.785493Z"
    }
   },
   "outputs": [],
   "source": [
    "for col in num_cols:\n",
    "    get_variable_distribution(df_train[col], title=col)\n",
    "    outl = outlier.get_IQR_outliers(col)\n",
    "    print(f'Outlier for {col} is {outl}')"
   ]
  },
  {
   "cell_type": "markdown",
   "metadata": {},
   "source": [
    "All our numeric data has outliers (By IQR method of identifying). However, we need to discover whetere they are outliers indeed?\n",
    "\n",
    "With a reference to a QQ-plot,unfortunatelly, we have no a normal distribution. But it is close to it.\n",
    "\n",
    "Doors count can be converted to category\n",
    "\n",
    "Mileage column has lots of cars with zero. It is not logical. Even new car must have some kilometers.\n",
    "\n",
    "Probably we need to apply logarithm function to fix this problem.\n",
    "\n",
    "Also, the data need to be scaled. We will try to use Robust Scaler as it is more stable with outliers in data set"
   ]
  },
  {
   "cell_type": "markdown",
   "metadata": {},
   "source": [
    "<a id=\"sec8.5\"></a>\n",
    "## [8.5 Correlation matrices](#sec8.5)\n",
    "[(INDEX)](#sec2)"
   ]
  },
  {
   "cell_type": "markdown",
   "metadata": {},
   "source": [
    "Let's check correlation matrix for categorical data first\n",
    "\n",
    "Before we do, we need to fill up missing values and encode categorical data"
   ]
  },
  {
   "cell_type": "code",
   "execution_count": null,
   "metadata": {
    "execution": {
     "iopub.execute_input": "2021-07-09T06:30:16.617283Z",
     "iopub.status.busy": "2021-07-09T06:30:16.616906Z",
     "iopub.status.idle": "2021-07-09T06:30:16.621547Z",
     "shell.execute_reply": "2021-07-09T06:30:16.620441Z",
     "shell.execute_reply.started": "2021-07-09T06:30:16.617252Z"
    }
   },
   "outputs": [],
   "source": [
    "# Create an instance of our encoder classs\n",
    "encoder = Encoder(df_train)"
   ]
  },
  {
   "cell_type": "code",
   "execution_count": null,
   "metadata": {
    "execution": {
     "iopub.execute_input": "2021-07-09T06:30:16.623678Z",
     "iopub.status.busy": "2021-07-09T06:30:16.623269Z",
     "iopub.status.idle": "2021-07-09T06:30:16.630925Z",
     "shell.execute_reply": "2021-07-09T06:30:16.629584Z",
     "shell.execute_reply.started": "2021-07-09T06:30:16.623636Z"
    }
   },
   "outputs": [],
   "source": [
    "cat_cols = ['body_type','brand',\n",
    "            'color','fuel_type',\n",
    "            'vehicle_transmission',\n",
    "            'owner_count',\n",
    "            'car_passport','wheel_drive',\n",
    "            'wheel_location','model_info'\n",
    "           ]"
   ]
  },
  {
   "cell_type": "code",
   "execution_count": null,
   "metadata": {
    "execution": {
     "iopub.execute_input": "2021-07-09T06:30:16.633205Z",
     "iopub.status.busy": "2021-07-09T06:30:16.632651Z",
     "iopub.status.idle": "2021-07-09T06:30:16.758441Z",
     "shell.execute_reply": "2021-07-09T06:30:16.757549Z",
     "shell.execute_reply.started": "2021-07-09T06:30:16.633161Z"
    }
   },
   "outputs": [],
   "source": [
    "# fill missing vals and encode in loop\n",
    "for col in cat_cols:\n",
    "    missing_vars(df_train,col)\n",
    "    encoder.label_encoder(col)"
   ]
  },
  {
   "cell_type": "code",
   "execution_count": null,
   "metadata": {
    "execution": {
     "iopub.execute_input": "2021-07-09T06:30:16.760217Z",
     "iopub.status.busy": "2021-07-09T06:30:16.759819Z",
     "iopub.status.idle": "2021-07-09T06:30:17.237806Z",
     "shell.execute_reply": "2021-07-09T06:30:17.237022Z",
     "shell.execute_reply.started": "2021-07-09T06:30:16.760179Z"
    }
   },
   "outputs": [],
   "source": [
    "# call function to build corr matrrix\n",
    "corr_matrix(df_train[cat_cols],det=True)"
   ]
  },
  {
   "cell_type": "markdown",
   "metadata": {},
   "source": [
    "We have quite strong correlation between model_info and body type (-0.64) and less correlated fuel_type and wheel_drive.\n",
    "\n",
    "vehicle_transmission correlated with brand.\n",
    "\n",
    "It is full rank matrix and its determinant bigger than zero.\n",
    "\n",
    "Seems nothing critical here. We will keep it as it is."
   ]
  },
  {
   "cell_type": "code",
   "execution_count": null,
   "metadata": {
    "execution": {
     "iopub.execute_input": "2021-07-09T06:30:17.246202Z",
     "iopub.status.busy": "2021-07-09T06:30:17.245947Z",
     "iopub.status.idle": "2021-07-09T06:30:17.612372Z",
     "shell.execute_reply": "2021-07-09T06:30:17.608493Z",
     "shell.execute_reply.started": "2021-07-09T06:30:17.246175Z"
    }
   },
   "outputs": [],
   "source": [
    "# call function to build corr matrrix\n",
    "corr_matrix(df_train[num_cols])"
   ]
  },
  {
   "cell_type": "markdown",
   "metadata": {},
   "source": [
    "Model date and production date almost fully correlated. Need to drop one of the column or apply PCA.\n",
    "\n",
    "Engine power correlated with engine_disaplacement\n",
    "\n",
    "Mileage and production date strongly correlated. Old car - bigger mileage.\n",
    "\n",
    "It is a full rank matrix, but determinant is close to 0. We may have a problems if use all features"
   ]
  },
  {
   "cell_type": "markdown",
   "metadata": {},
   "source": [
    "<a id=\"sec8.6\"></a>\n",
    "## [8.6 Sentiment Analyse](#sec8.6)\n",
    "[(INDEX)](#sec2)"
   ]
  },
  {
   "cell_type": "code",
   "execution_count": null,
   "metadata": {
    "execution": {
     "iopub.execute_input": "2021-07-09T06:30:17.617046Z",
     "iopub.status.busy": "2021-07-09T06:30:17.616594Z",
     "iopub.status.idle": "2021-07-09T06:30:18.658659Z",
     "shell.execute_reply": "2021-07-09T06:30:18.657804Z",
     "shell.execute_reply.started": "2021-07-09T06:30:17.616979Z"
    }
   },
   "outputs": [],
   "source": [
    "df_sentiment = df_train[['description','price']]\n",
    "df_sentiment['description'] = df_sentiment['description'].fillna('none')\n",
    "df_sentiment['description'] = df_sentiment['description'].apply(cleanTxt)"
   ]
  },
  {
   "cell_type": "code",
   "execution_count": null,
   "metadata": {
    "execution": {
     "iopub.execute_input": "2021-07-09T06:30:18.665068Z",
     "iopub.status.busy": "2021-07-09T06:30:18.663045Z",
     "iopub.status.idle": "2021-07-09T06:30:18.671496Z",
     "shell.execute_reply": "2021-07-09T06:30:18.670531Z",
     "shell.execute_reply.started": "2021-07-09T06:30:18.665027Z"
    }
   },
   "outputs": [],
   "source": [
    "# Create a function to get the subjectivity\n",
    "def get_subjectivity(text):\n",
    "    return TextBlob(text).sentiment.subjectivity\n",
    "\n",
    "# Create a function to get the polarity\n",
    "def get_polarity(text):\n",
    "    return TextBlob(text).sentiment.polarity"
   ]
  },
  {
   "cell_type": "code",
   "execution_count": null,
   "metadata": {
    "execution": {
     "iopub.execute_input": "2021-07-09T06:30:18.678972Z",
     "iopub.status.busy": "2021-07-09T06:30:18.676069Z",
     "iopub.status.idle": "2021-07-09T06:30:29.611208Z",
     "shell.execute_reply": "2021-07-09T06:30:29.609849Z",
     "shell.execute_reply.started": "2021-07-09T06:30:18.678905Z"
    }
   },
   "outputs": [],
   "source": [
    "# Create new cols and call the func\n",
    "\n",
    "df_sentiment['subjectivity'] = df_sentiment['description'].apply(\n",
    "    get_subjectivity)\n",
    "\n",
    "\n",
    "df_sentiment['polarity'] = df_sentiment['description'].apply(get_polarity)\n",
    "\n",
    "# show data\n",
    "df_sentiment.sample(4)"
   ]
  },
  {
   "cell_type": "code",
   "execution_count": null,
   "metadata": {
    "execution": {
     "iopub.execute_input": "2021-07-09T06:30:29.613212Z",
     "iopub.status.busy": "2021-07-09T06:30:29.612715Z",
     "iopub.status.idle": "2021-07-09T06:30:29.643383Z",
     "shell.execute_reply": "2021-07-09T06:30:29.642661Z",
     "shell.execute_reply.started": "2021-07-09T06:30:29.613161Z"
    }
   },
   "outputs": [],
   "source": [
    "df_sentiment['description'] = df_sentiment['description'].apply(\n",
    "    lambda x: x.lower())"
   ]
  },
  {
   "cell_type": "code",
   "execution_count": null,
   "metadata": {
    "execution": {
     "iopub.execute_input": "2021-07-09T06:30:29.644838Z",
     "iopub.status.busy": "2021-07-09T06:30:29.644509Z",
     "iopub.status.idle": "2021-07-09T06:30:29.655246Z",
     "shell.execute_reply": "2021-07-09T06:30:29.654384Z",
     "shell.execute_reply.started": "2021-07-09T06:30:29.644805Z"
    }
   },
   "outputs": [],
   "source": [
    "stopword = set(stopwords.words('russian'))\n",
    "\n",
    "newStopWords = set(['автомобиль','авто',  'продаю', 'автомобилей', \n",
    "                    'пробег','пробегом','автомобилей','машина'])"
   ]
  },
  {
   "cell_type": "code",
   "execution_count": null,
   "metadata": {
    "execution": {
     "iopub.execute_input": "2021-07-09T06:30:29.657051Z",
     "iopub.status.busy": "2021-07-09T06:30:29.656632Z",
     "iopub.status.idle": "2021-07-09T06:30:29.662034Z",
     "shell.execute_reply": "2021-07-09T06:30:29.660672Z",
     "shell.execute_reply.started": "2021-07-09T06:30:29.657010Z"
    }
   },
   "outputs": [],
   "source": [
    "stopword.update(newStopWords)"
   ]
  },
  {
   "cell_type": "code",
   "execution_count": null,
   "metadata": {
    "execution": {
     "iopub.execute_input": "2021-07-09T06:30:29.664224Z",
     "iopub.status.busy": "2021-07-09T06:30:29.663784Z",
     "iopub.status.idle": "2021-07-09T06:30:34.483859Z",
     "shell.execute_reply": "2021-07-09T06:30:34.482874Z",
     "shell.execute_reply.started": "2021-07-09T06:30:29.664190Z"
    }
   },
   "outputs": [],
   "source": [
    "# Plot Word Cloud\n",
    "all_words = ' '.join([\n",
    "    description for description in df_sentiment['description']\n",
    "    if description != 'none'\n",
    "])\n",
    "\n",
    "wordCloud = WordCloud(\n",
    "                      stopwords=stopword,\n",
    "                      width=800,\n",
    "                      height=600,\n",
    "                      random_state=42,\n",
    "                      max_font_size=119).generate(all_words)\n",
    "\n",
    "plt.figure(figsize=(15, 10))\n",
    "plt.imshow(wordCloud, interpolation='bilinear')\n",
    "plt.axis('off')\n",
    "plt.show()"
   ]
  },
  {
   "cell_type": "markdown",
   "metadata": {},
   "source": [
    "People think that the mention of airbags is a sales success while it is obligatory thing in a car.\n",
    "\n",
    "Mentioning of safety of a driver dominating above other words.\n",
    "\n",
    "Probably this information will help us in the model computing."
   ]
  },
  {
   "cell_type": "code",
   "execution_count": null,
   "metadata": {
    "execution": {
     "iopub.execute_input": "2021-07-09T06:30:34.485669Z",
     "iopub.status.busy": "2021-07-09T06:30:34.485333Z",
     "iopub.status.idle": "2021-07-09T06:30:34.490786Z",
     "shell.execute_reply": "2021-07-09T06:30:34.489694Z",
     "shell.execute_reply.started": "2021-07-09T06:30:34.485632Z"
    }
   },
   "outputs": [],
   "source": [
    "# Create a function to compute the negative, neutral and positive analysis\n",
    "def get_analysis(score):\n",
    "    if score < 0:\n",
    "        return 'negative'\n",
    "    elif score == 0:\n",
    "        return 'neutral'\n",
    "    else:\n",
    "        return 'positive'"
   ]
  },
  {
   "cell_type": "code",
   "execution_count": null,
   "metadata": {
    "execution": {
     "iopub.execute_input": "2021-07-09T06:30:34.492721Z",
     "iopub.status.busy": "2021-07-09T06:30:34.492334Z",
     "iopub.status.idle": "2021-07-09T06:30:34.507064Z",
     "shell.execute_reply": "2021-07-09T06:30:34.506167Z",
     "shell.execute_reply.started": "2021-07-09T06:30:34.492680Z"
    }
   },
   "outputs": [],
   "source": [
    "df_sentiment['analysis'] = df_sentiment['polarity'].apply(get_analysis)"
   ]
  },
  {
   "cell_type": "code",
   "execution_count": null,
   "metadata": {
    "execution": {
     "iopub.execute_input": "2021-07-09T06:30:34.509004Z",
     "iopub.status.busy": "2021-07-09T06:30:34.508548Z",
     "iopub.status.idle": "2021-07-09T06:30:34.523551Z",
     "shell.execute_reply": "2021-07-09T06:30:34.522602Z",
     "shell.execute_reply.started": "2021-07-09T06:30:34.508967Z"
    }
   },
   "outputs": [],
   "source": [
    "# Check positive and negative words in percents\n",
    "df_sentiment['analysis'].value_counts(normalize=True)*100"
   ]
  },
  {
   "cell_type": "markdown",
   "metadata": {},
   "source": [
    "We can see that most descriptions has neutral polarity.\n",
    "\n",
    "Most likely, this information is useless for the model for the reason of lack of diversity in positive/negative descriptions. But it indeed to be checked."
   ]
  },
  {
   "cell_type": "markdown",
   "metadata": {},
   "source": [
    "<a id=\"sec8.7\"></a>\n",
    "## [8.7 Draw a Conclusion](#sec8.7)\n",
    "[(INDEX)](#sec2)"
   ]
  },
  {
   "cell_type": "markdown",
   "metadata": {},
   "source": [
    "***Target*** variable has outliers.\n",
    "\n",
    "***Target*** variable has missing values.\n",
    "\n",
    "***body types*** count can be reduced and use top 5 most common.\n",
    "\n",
    "***engine_displacement*** - the overwhelming majority of engines has a volume of 2 liters. Right after it comes the engine with 1.6 liters. Has missing vals.\n",
    "\n",
    "***mileage*** - Significant amount of cars with zero mileage (probably new cars). Has zero values\n",
    "\n",
    "***model_name*** Has more models than in test set, however, train set does not include some models which presented in ttest set \n",
    "\n",
    "***model_date*** - Data set includes really old cars (minimu model day is 1908).\n",
    "\n",
    "***owning_period*** - most of data in this column is missed\n",
    "\n",
    "***Price*** of electric cars in average higher than price for cars with conventional engine type.\n",
    "\n",
    "***Engine displacement*** for electric cars is equal to zero.\n",
    "\n",
    "Bigger ***displacement*** - more ***power***.\n",
    "\n",
    "More ***power*** - ***expensive***\n",
    "\n",
    "Old car - more owners. Check which feature impact on a prediction. ***Owner count*** or ***production year***.\n",
    "\n",
    "***The production date*** and ***milage negativelly*** impact on a ***price***. More older car with hige mileage has lower price.\n",
    "\n",
    "***Model and mileage*** are strongly correlated with ***production date***.\n",
    "\n",
    "We have some features which is slightly ***correlated*** with ***target*** variable.\n",
    "\n",
    "Mentioning of ***safety*** of a driver dominating above other words\n",
    "\n",
    "Doors count convert to category"
   ]
  },
  {
   "cell_type": "markdown",
   "metadata": {},
   "source": [
    "<a id=\"sec9\"></a>\n",
    "# [9. Feature Engeneering](#sec9)\n",
    "[(INDEX)](#sec2)"
   ]
  },
  {
   "cell_type": "markdown",
   "metadata": {},
   "source": [
    "Get lowercase for all columns with object type"
   ]
  },
  {
   "cell_type": "code",
   "execution_count": null,
   "metadata": {
    "execution": {
     "iopub.execute_input": "2021-07-09T06:30:34.526795Z",
     "iopub.status.busy": "2021-07-09T06:30:34.526131Z",
     "iopub.status.idle": "2021-07-09T06:30:34.619775Z",
     "shell.execute_reply": "2021-07-09T06:30:34.618939Z",
     "shell.execute_reply.started": "2021-07-09T06:30:34.526751Z"
    }
   },
   "outputs": [],
   "source": [
    "# take cols with objects\n",
    "object_columns = df.dtypes[df.dtypes.values == object].index.to_list()\n",
    "\n",
    "for col in object_columns:\n",
    "    df[col] = df[col].apply(lambda string: get_low_registr(string))"
   ]
  },
  {
   "cell_type": "markdown",
   "metadata": {},
   "source": [
    "**[Target]**"
   ]
  },
  {
   "cell_type": "markdown",
   "metadata": {},
   "source": [
    "As our dataset includes combined train & test sets, let's extract only train part for a minute and process it"
   ]
  },
  {
   "cell_type": "code",
   "execution_count": null,
   "metadata": {
    "execution": {
     "iopub.execute_input": "2021-07-09T06:30:34.621749Z",
     "iopub.status.busy": "2021-07-09T06:30:34.621334Z",
     "iopub.status.idle": "2021-07-09T06:30:34.631541Z",
     "shell.execute_reply": "2021-07-09T06:30:34.630502Z",
     "shell.execute_reply.started": "2021-07-09T06:30:34.621707Z"
    }
   },
   "outputs": [],
   "source": [
    "# Defining features and target\n",
    "X_train = df[df['sample'] == 1]\n",
    "\n",
    "X_test = df[df['sample'] == 0]"
   ]
  },
  {
   "cell_type": "markdown",
   "metadata": {},
   "source": [
    "With a reference to EDA, we remember that target is not normally distributed.\n",
    "\n",
    "Let's apply logarithm to it and see what will happen"
   ]
  },
  {
   "cell_type": "code",
   "execution_count": null,
   "metadata": {
    "execution": {
     "iopub.execute_input": "2021-07-09T06:30:34.633569Z",
     "iopub.status.busy": "2021-07-09T06:30:34.633164Z",
     "iopub.status.idle": "2021-07-09T06:30:34.639184Z",
     "shell.execute_reply": "2021-07-09T06:30:34.638179Z",
     "shell.execute_reply.started": "2021-07-09T06:30:34.633528Z"
    }
   },
   "outputs": [],
   "source": [
    "X_train['price']= np.log(X_train['price'])"
   ]
  },
  {
   "cell_type": "code",
   "execution_count": null,
   "metadata": {
    "execution": {
     "iopub.execute_input": "2021-07-09T06:30:34.641232Z",
     "iopub.status.busy": "2021-07-09T06:30:34.640787Z",
     "iopub.status.idle": "2021-07-09T06:30:34.994214Z",
     "shell.execute_reply": "2021-07-09T06:30:34.993271Z",
     "shell.execute_reply.started": "2021-07-09T06:30:34.641192Z"
    }
   },
   "outputs": [],
   "source": [
    "plt.figure(figsize=(15, 5))\n",
    "plt.subplot(121)\n",
    "sns.distplot(X_train.price.values, bins=50, color=colors[4])\n",
    "plt.title('Price Distribution\\n', fontsize=15)\n",
    "plt.xlabel('Price')\n",
    "plt.ylabel('Quantity (frequency)')\n",
    "\n",
    "plt.subplot(122)\n",
    "sns.boxplot(X_train.price.values, color=colors[1])\n",
    "plt.title('Box Plot for Price\\n', fontsize=15)\n",
    "plt.xlabel('Price')"
   ]
  },
  {
   "cell_type": "markdown",
   "metadata": {},
   "source": [
    "Looks better. Let's again combine datasets for further engineering"
   ]
  },
  {
   "cell_type": "code",
   "execution_count": null,
   "metadata": {
    "execution": {
     "iopub.execute_input": "2021-07-09T06:30:34.996048Z",
     "iopub.status.busy": "2021-07-09T06:30:34.995692Z",
     "iopub.status.idle": "2021-07-09T06:30:35.013429Z",
     "shell.execute_reply": "2021-07-09T06:30:35.012652Z",
     "shell.execute_reply.started": "2021-07-09T06:30:34.996009Z"
    }
   },
   "outputs": [],
   "source": [
    "# combine sets\n",
    "df = X_train.append(X_test, sort=False).reset_index(drop=True)"
   ]
  },
  {
   "cell_type": "markdown",
   "metadata": {},
   "source": [
    "**[body_type & Model_info]**"
   ]
  },
  {
   "cell_type": "markdown",
   "metadata": {},
   "source": [
    "As we have quite a lot of brands in data set, and especially lot's of models in model_info,\n",
    "\n",
    "let's generate new feature for each of mentioned model and brand by taking mean price of each model/brand"
   ]
  },
  {
   "cell_type": "code",
   "execution_count": null,
   "metadata": {
    "execution": {
     "iopub.execute_input": "2021-07-09T06:30:35.015117Z",
     "iopub.status.busy": "2021-07-09T06:30:35.014751Z",
     "iopub.status.idle": "2021-07-09T06:30:35.040824Z",
     "shell.execute_reply": "2021-07-09T06:30:35.040066Z",
     "shell.execute_reply.started": "2021-07-09T06:30:35.015079Z"
    }
   },
   "outputs": [],
   "source": [
    "cols_to_process = ['model_info', 'brand', 'body_type']\n",
    "for col in cols_to_process:\n",
    "    col_mean_dict = df.groupby([col])['price'].mean().to_dict()\n",
    "    df[f'priced_{col}'] = df[col].apply(lambda x: col_mean_dict[x])"
   ]
  },
  {
   "cell_type": "markdown",
   "metadata": {},
   "source": [
    "Because the models is mismatching in train and test set, we will have some empty cells for some models after applying cell above.\n",
    "\n",
    "Let's fix it by filling it with median"
   ]
  },
  {
   "cell_type": "code",
   "execution_count": null,
   "metadata": {
    "execution": {
     "iopub.execute_input": "2021-07-09T06:30:35.042606Z",
     "iopub.status.busy": "2021-07-09T06:30:35.042268Z",
     "iopub.status.idle": "2021-07-09T06:30:35.047956Z",
     "shell.execute_reply": "2021-07-09T06:30:35.046744Z",
     "shell.execute_reply.started": "2021-07-09T06:30:35.042570Z"
    }
   },
   "outputs": [],
   "source": [
    "print(f' Missing cells  {df[\"priced_model_info\"].isna().sum()}')"
   ]
  },
  {
   "cell_type": "code",
   "execution_count": null,
   "metadata": {
    "execution": {
     "iopub.execute_input": "2021-07-09T06:30:35.050147Z",
     "iopub.status.busy": "2021-07-09T06:30:35.049721Z",
     "iopub.status.idle": "2021-07-09T06:30:35.059318Z",
     "shell.execute_reply": "2021-07-09T06:30:35.057632Z",
     "shell.execute_reply.started": "2021-07-09T06:30:35.050109Z"
    }
   },
   "outputs": [],
   "source": [
    "df['priced_model_info'] = df['priced_model_info'].fillna(\n",
    "    df['priced_model_info'].median())"
   ]
  },
  {
   "cell_type": "markdown",
   "metadata": {},
   "source": [
    "Reduce quantity of body_types"
   ]
  },
  {
   "cell_type": "code",
   "execution_count": null,
   "metadata": {
    "execution": {
     "iopub.execute_input": "2021-07-09T06:30:35.062979Z",
     "iopub.status.busy": "2021-07-09T06:30:35.062396Z",
     "iopub.status.idle": "2021-07-09T06:30:35.068827Z",
     "shell.execute_reply": "2021-07-09T06:30:35.067693Z",
     "shell.execute_reply.started": "2021-07-09T06:30:35.062941Z"
    }
   },
   "outputs": [],
   "source": [
    "print(f' Number of types before reducing:  {df.body_type.nunique()}')"
   ]
  },
  {
   "cell_type": "code",
   "execution_count": null,
   "metadata": {
    "execution": {
     "iopub.execute_input": "2021-07-09T06:30:35.070979Z",
     "iopub.status.busy": "2021-07-09T06:30:35.070496Z",
     "iopub.status.idle": "2021-07-09T06:30:35.085989Z",
     "shell.execute_reply": "2021-07-09T06:30:35.085169Z",
     "shell.execute_reply.started": "2021-07-09T06:30:35.070895Z"
    }
   },
   "outputs": [],
   "source": [
    "pattern = re.compile('[а-я]*')\n",
    "new_column = []\n",
    "for string in df['body_type']:\n",
    "    new_column.append(pattern.match(str(string))[0])\n",
    "df['body_type'] = new_column"
   ]
  },
  {
   "cell_type": "code",
   "execution_count": null,
   "metadata": {
    "execution": {
     "iopub.execute_input": "2021-07-09T06:30:35.088815Z",
     "iopub.status.busy": "2021-07-09T06:30:35.088542Z",
     "iopub.status.idle": "2021-07-09T06:30:35.097213Z",
     "shell.execute_reply": "2021-07-09T06:30:35.096242Z",
     "shell.execute_reply.started": "2021-07-09T06:30:35.088773Z"
    }
   },
   "outputs": [],
   "source": [
    "print(f' Number of types after reducing:  {df.body_type.nunique()}')"
   ]
  },
  {
   "cell_type": "code",
   "execution_count": null,
   "metadata": {
    "execution": {
     "iopub.execute_input": "2021-07-09T06:30:35.099066Z",
     "iopub.status.busy": "2021-07-09T06:30:35.098649Z",
     "iopub.status.idle": "2021-07-09T06:30:35.125193Z",
     "shell.execute_reply": "2021-07-09T06:30:35.124343Z",
     "shell.execute_reply.started": "2021-07-09T06:30:35.099028Z"
    }
   },
   "outputs": [],
   "source": [
    "# Create list with top body types\n",
    "top_bodies = df['body_type'].value_counts()[df['body_type'].value_counts(\n",
    ") > np.percentile((df['body_type'].value_counts().values), 50)].index.tolist()\n",
    "\n",
    "#take all bodies from df to a list\n",
    "all_bodies = df['body_type'].value_counts().index\n",
    "\n",
    "# Identify, what to delete\n",
    "bodies_to_drop = set(all_bodies) - set(top_bodies)\n",
    "\n",
    "# Make replacemewnt\n",
    "df.loc[df['body_type'].isin(bodies_to_drop), 'body_type'] = 'other'"
   ]
  },
  {
   "cell_type": "markdown",
   "metadata": {},
   "source": [
    "Translate it to english. (for some reason, LightGBM doesn't work with russian column names)"
   ]
  },
  {
   "cell_type": "code",
   "execution_count": null,
   "metadata": {
    "execution": {
     "iopub.execute_input": "2021-07-09T06:30:35.126809Z",
     "iopub.status.busy": "2021-07-09T06:30:35.126443Z",
     "iopub.status.idle": "2021-07-09T06:30:35.136789Z",
     "shell.execute_reply": "2021-07-09T06:30:35.136011Z",
     "shell.execute_reply.started": "2021-07-09T06:30:35.126775Z"
    }
   },
   "outputs": [],
   "source": [
    "body_type_dict = dict({\n",
    "    'седан':'sedan',\n",
    "    'внедорожник':'4wd',\n",
    "    'купе':'coupe',\n",
    "    'хэтчбек':'hatchback',\n",
    "    'other':'other',\n",
    "    'лифтбек':'liftback',\n",
    "    'универсал':'universal'\n",
    "})\n",
    "df['body_type'] = df['body_type'].map(body_type_dict)"
   ]
  },
  {
   "cell_type": "code",
   "execution_count": null,
   "metadata": {
    "execution": {
     "iopub.execute_input": "2021-07-09T06:30:35.139003Z",
     "iopub.status.busy": "2021-07-09T06:30:35.138334Z",
     "iopub.status.idle": "2021-07-09T06:30:35.145379Z",
     "shell.execute_reply": "2021-07-09T06:30:35.144374Z",
     "shell.execute_reply.started": "2021-07-09T06:30:35.138965Z"
    }
   },
   "outputs": [],
   "source": [
    "df.body_type.unique()"
   ]
  },
  {
   "cell_type": "markdown",
   "metadata": {},
   "source": [
    "Fine, we reduced number of body_types and translated it in to English"
   ]
  },
  {
   "cell_type": "markdown",
   "metadata": {},
   "source": [
    "**[Description]**"
   ]
  },
  {
   "cell_type": "markdown",
   "metadata": {},
   "source": [
    "Let's generate new features:\n",
    "- Sensitivity and polarity of each description in a column;\n",
    "- Extract keywords from description"
   ]
  },
  {
   "cell_type": "code",
   "execution_count": null,
   "metadata": {
    "execution": {
     "iopub.execute_input": "2021-07-09T06:30:35.147696Z",
     "iopub.status.busy": "2021-07-09T06:30:35.146955Z",
     "iopub.status.idle": "2021-07-09T06:30:36.034658Z",
     "shell.execute_reply": "2021-07-09T06:30:36.033837Z",
     "shell.execute_reply.started": "2021-07-09T06:30:35.147561Z"
    }
   },
   "outputs": [],
   "source": [
    "df['description'] = df['description'].fillna('none')\n",
    "df['description'] = df['description'].apply(cleanTxt)\n",
    "df['description'] = df['description'].apply(lambda x : x.lower())"
   ]
  },
  {
   "cell_type": "code",
   "execution_count": null,
   "metadata": {
    "execution": {
     "iopub.execute_input": "2021-07-09T06:30:36.036379Z",
     "iopub.status.busy": "2021-07-09T06:30:36.035899Z",
     "iopub.status.idle": "2021-07-09T06:30:36.041304Z",
     "shell.execute_reply": "2021-07-09T06:30:36.040193Z",
     "shell.execute_reply.started": "2021-07-09T06:30:36.036338Z"
    }
   },
   "outputs": [],
   "source": [
    "# Create a function to get the subjectivity\n",
    "def get_subjectivity(text):\n",
    "    return TextBlob(text).sentiment.subjectivity\n",
    "\n",
    "\n",
    "# Create a function to get the polarity\n",
    "def get_polarity(text):\n",
    "    return TextBlob(text).sentiment.polarity"
   ]
  },
  {
   "cell_type": "code",
   "execution_count": null,
   "metadata": {
    "execution": {
     "iopub.execute_input": "2021-07-09T06:30:36.042732Z",
     "iopub.status.busy": "2021-07-09T06:30:36.042425Z",
     "iopub.status.idle": "2021-07-09T06:30:49.597228Z",
     "shell.execute_reply": "2021-07-09T06:30:49.596372Z",
     "shell.execute_reply.started": "2021-07-09T06:30:36.042701Z"
    }
   },
   "outputs": [],
   "source": [
    "# Create new cols and call the func\n",
    "\n",
    "df['subjectivity'] = df['description'].apply(get_subjectivity)\n",
    "\n",
    "df['polarity'] = df['description'].apply(get_polarity)"
   ]
  },
  {
   "cell_type": "markdown",
   "metadata": {},
   "source": [
    "With a reference to EDA (Sentiment section), let's check plot of worldcloud and generate new features. \n",
    "\n",
    "If description has specified keyword, the we add 1 to new column"
   ]
  },
  {
   "cell_type": "code",
   "execution_count": null,
   "metadata": {
    "execution": {
     "iopub.execute_input": "2021-07-09T06:30:49.598780Z",
     "iopub.status.busy": "2021-07-09T06:30:49.598450Z",
     "iopub.status.idle": "2021-07-09T06:30:49.670218Z",
     "shell.execute_reply": "2021-07-09T06:30:49.669304Z",
     "shell.execute_reply.started": "2021-07-09T06:30:49.598744Z"
    }
   },
   "outputs": [],
   "source": [
    "df['airbags'] = df['description'].apply(\n",
    "    lambda x: 1 if 'подушки безопасности' in x else 0)\n",
    "df['cruise'] = df['description'].apply(\n",
    "    lambda x: 1 if 'круиз' in x else 0)\n",
    "df['steering'] = df['description'].apply(\n",
    "    lambda x: 1 if 'усилитель руля' in x else 0)\n",
    "df['loan'] = df['description'].apply(\n",
    "    lambda x: 1 if 'кредит' in x else 0)\n",
    "df['lock'] = df['description'].apply(\n",
    "    lambda x: 1 if 'центральный замок' in x else 0)\n",
    "df['climat'] = df['description'].apply(\n",
    "    lambda x: 1 if 'климат контроль' in x else 0)"
   ]
  },
  {
   "cell_type": "markdown",
   "metadata": {},
   "source": [
    "**[Fuel Type]**"
   ]
  },
  {
   "cell_type": "code",
   "execution_count": null,
   "metadata": {
    "execution": {
     "iopub.execute_input": "2021-07-09T06:30:49.671850Z",
     "iopub.status.busy": "2021-07-09T06:30:49.671495Z",
     "iopub.status.idle": "2021-07-09T06:30:49.679398Z",
     "shell.execute_reply": "2021-07-09T06:30:49.678342Z",
     "shell.execute_reply.started": "2021-07-09T06:30:49.671810Z"
    }
   },
   "outputs": [],
   "source": [
    "fuel_type_dict = dict({\n",
    "    'бензин':'gasoline',\n",
    "    'дизель':'diesel',\n",
    "    'гибрид':'hybrid',\n",
    "    'электро':'electro',\n",
    "})\n",
    "\n",
    "df['fuel_type'] = df['fuel_type'].map(fuel_type_dict)"
   ]
  },
  {
   "cell_type": "markdown",
   "metadata": {},
   "source": [
    "**[Engine Displacement]**"
   ]
  },
  {
   "cell_type": "markdown",
   "metadata": {},
   "source": [
    "We know, that there is no engine displacement for the electrical cars. We also know there is missing values in this columns.\n",
    "\n",
    "Let's fix it. If car is electric - displacement shall be 0."
   ]
  },
  {
   "cell_type": "code",
   "execution_count": null,
   "metadata": {
    "execution": {
     "iopub.execute_input": "2021-07-09T06:30:49.681728Z",
     "iopub.status.busy": "2021-07-09T06:30:49.680956Z",
     "iopub.status.idle": "2021-07-09T06:30:49.689217Z",
     "shell.execute_reply": "2021-07-09T06:30:49.688126Z",
     "shell.execute_reply.started": "2021-07-09T06:30:49.681679Z"
    }
   },
   "outputs": [],
   "source": [
    "def get_electro_displacement(engine_displacement, fuel_type):\n",
    "    '''Filling mising vars for electrocars'''\n",
    "    \n",
    "    if fuel_type == 'electro':\n",
    "        return 0\n",
    "    else:\n",
    "        return engine_displacement"
   ]
  },
  {
   "cell_type": "code",
   "execution_count": null,
   "metadata": {
    "execution": {
     "iopub.execute_input": "2021-07-09T06:30:49.691199Z",
     "iopub.status.busy": "2021-07-09T06:30:49.690736Z",
     "iopub.status.idle": "2021-07-09T06:30:49.775740Z",
     "shell.execute_reply": "2021-07-09T06:30:49.774962Z",
     "shell.execute_reply.started": "2021-07-09T06:30:49.691160Z"
    }
   },
   "outputs": [],
   "source": [
    "df['engine_displacement'] = df[['engine_displacement','fuel_type']].apply(\n",
    "    lambda x: get_electro_displacement(*x), axis=1)"
   ]
  },
  {
   "cell_type": "markdown",
   "metadata": {},
   "source": [
    "There is a special low in Russian Federation that devide cars by tax categories.\n",
    "\n",
    "More power in engine, higher grade of tax. It may impact on a prediction. Let's break our cars down by such categories"
   ]
  },
  {
   "cell_type": "code",
   "execution_count": null,
   "metadata": {
    "execution": {
     "iopub.execute_input": "2021-07-09T06:30:49.777465Z",
     "iopub.status.busy": "2021-07-09T06:30:49.777120Z",
     "iopub.status.idle": "2021-07-09T06:30:49.782727Z",
     "shell.execute_reply": "2021-07-09T06:30:49.781507Z",
     "shell.execute_reply.started": "2021-07-09T06:30:49.777428Z"
    }
   },
   "outputs": [],
   "source": [
    "# Break engine power by intervals\n",
    "bins = [10, 35, 100, 125, 150, 175, 200, 225, 250, 801]\n",
    "# Ctreate tax categories\n",
    "numbers = ['5000', '12', '25', '35', '45', '50', '65', '75', '150']"
   ]
  },
  {
   "cell_type": "code",
   "execution_count": null,
   "metadata": {
    "execution": {
     "iopub.execute_input": "2021-07-09T06:30:49.784810Z",
     "iopub.status.busy": "2021-07-09T06:30:49.784380Z",
     "iopub.status.idle": "2021-07-09T06:30:49.797679Z",
     "shell.execute_reply": "2021-07-09T06:30:49.796777Z",
     "shell.execute_reply.started": "2021-07-09T06:30:49.784770Z"
    }
   },
   "outputs": [],
   "source": [
    "# Make a column where refer each car depended by power to a tax cat\n",
    "df['tax_base'] = pd.cut(df['engine_power'], bins, labels=numbers)\n",
    "df['tax_base'] = df['tax_base'].values.astype('int64')"
   ]
  },
  {
   "cell_type": "code",
   "execution_count": null,
   "metadata": {
    "execution": {
     "iopub.execute_input": "2021-07-09T06:30:49.799656Z",
     "iopub.status.busy": "2021-07-09T06:30:49.799271Z",
     "iopub.status.idle": "2021-07-09T06:30:49.806420Z",
     "shell.execute_reply": "2021-07-09T06:30:49.805385Z",
     "shell.execute_reply.started": "2021-07-09T06:30:49.799608Z"
    }
   },
   "outputs": [],
   "source": [
    "# generate tax fee col\n",
    "df['tax'] = df['engine_power'] * df['tax_base']"
   ]
  },
  {
   "cell_type": "markdown",
   "metadata": {},
   "source": [
    "**[Wheel Drive]**"
   ]
  },
  {
   "cell_type": "code",
   "execution_count": null,
   "metadata": {
    "execution": {
     "iopub.execute_input": "2021-07-09T06:30:49.808311Z",
     "iopub.status.busy": "2021-07-09T06:30:49.807752Z",
     "iopub.status.idle": "2021-07-09T06:30:49.818177Z",
     "shell.execute_reply": "2021-07-09T06:30:49.817278Z",
     "shell.execute_reply.started": "2021-07-09T06:30:49.808267Z"
    }
   },
   "outputs": [],
   "source": [
    "drive_type_dict = dict({\n",
    "    'передний': 'front',\n",
    "    'полный': 'full',\n",
    "    'задний': 'rear',\n",
    "})\n",
    "\n",
    "df['wheel_drive'] = df['wheel_drive'].map(drive_type_dict)"
   ]
  },
  {
   "cell_type": "markdown",
   "metadata": {},
   "source": [
    "**[Owner_count]**"
   ]
  },
  {
   "cell_type": "code",
   "execution_count": null,
   "metadata": {
    "execution": {
     "iopub.execute_input": "2021-07-09T06:30:49.821000Z",
     "iopub.status.busy": "2021-07-09T06:30:49.820684Z",
     "iopub.status.idle": "2021-07-09T06:30:49.840647Z",
     "shell.execute_reply": "2021-07-09T06:30:49.839781Z",
     "shell.execute_reply.started": "2021-07-09T06:30:49.820904Z"
    }
   },
   "outputs": [],
   "source": [
    "cols_to_fill = ['owner_count',]\n",
    "for col in cols_to_fill:\n",
    "    missing_vars(df,col)"
   ]
  },
  {
   "cell_type": "markdown",
   "metadata": {},
   "source": [
    "**[Handling multocorrelation out]**"
   ]
  },
  {
   "cell_type": "code",
   "execution_count": null,
   "metadata": {
    "execution": {
     "iopub.execute_input": "2021-07-09T06:30:49.843059Z",
     "iopub.status.busy": "2021-07-09T06:30:49.842322Z",
     "iopub.status.idle": "2021-07-09T06:30:49.870502Z",
     "shell.execute_reply": "2021-07-09T06:30:49.869467Z",
     "shell.execute_reply.started": "2021-07-09T06:30:49.843019Z"
    }
   },
   "outputs": [],
   "source": [
    "# extract trhee columns from dataset, which are correlated\n",
    "data = df[['engine_displacement', 'engine_power',]].values\n",
    "# create Scaler instance\n",
    "scaler = StandardScaler()\n",
    "scaled_data = scaler.fit_transform(data)\n",
    "\n",
    "# We have 3 vectors. Reduce to two, taking most important info.\n",
    "pca = PCA(n_components=1)\n",
    "pca.fit(scaled_data)\n",
    "pca_data = pca.transform(scaled_data)\n",
    "df['pca_pwr_dsplc'] = pca_data[:, 0]"
   ]
  },
  {
   "cell_type": "markdown",
   "metadata": {},
   "source": [
    "**[Log Func]**"
   ]
  },
  {
   "cell_type": "code",
   "execution_count": null,
   "metadata": {
    "execution": {
     "iopub.execute_input": "2021-07-09T06:30:49.874279Z",
     "iopub.status.busy": "2021-07-09T06:30:49.872451Z",
     "iopub.status.idle": "2021-07-09T06:30:49.904297Z",
     "shell.execute_reply": "2021-07-09T06:30:49.903478Z",
     "shell.execute_reply.started": "2021-07-09T06:30:49.874240Z"
    }
   },
   "outputs": [],
   "source": [
    "cols_to_log = [\n",
    "    'engine_displacement', 'mileage', 'model_date', 'production_date', \n",
    "    'tax', 'pca_pwr_dsplc','priced_model_info'\n",
    "]\n",
    "\n",
    "df = to_log(df, cols_to_log)"
   ]
  },
  {
   "cell_type": "markdown",
   "metadata": {},
   "source": [
    "<a id=\"sec9.1\"></a>\n",
    "## [9.1 Encoding](#sec9.1)\n",
    "[(INDEX)](#sec2)"
   ]
  },
  {
   "cell_type": "code",
   "execution_count": null,
   "metadata": {
    "execution": {
     "iopub.execute_input": "2021-07-09T06:30:49.907468Z",
     "iopub.status.busy": "2021-07-09T06:30:49.905970Z",
     "iopub.status.idle": "2021-07-09T06:30:49.914271Z",
     "shell.execute_reply": "2021-07-09T06:30:49.913022Z",
     "shell.execute_reply.started": "2021-07-09T06:30:49.907432Z"
    }
   },
   "outputs": [],
   "source": [
    "# Re-set indexes\n",
    "df.reset_index(drop=True, inplace=True)\n",
    "encoder = Encoder(df)"
   ]
  },
  {
   "cell_type": "code",
   "execution_count": null,
   "metadata": {
    "execution": {
     "iopub.execute_input": "2021-07-09T06:30:49.918046Z",
     "iopub.status.busy": "2021-07-09T06:30:49.916487Z",
     "iopub.status.idle": "2021-07-09T06:30:49.926227Z",
     "shell.execute_reply": "2021-07-09T06:30:49.925264Z",
     "shell.execute_reply.started": "2021-07-09T06:30:49.918011Z"
    }
   },
   "outputs": [],
   "source": [
    "to_hot = [\n",
    "    'body_type', # No impact\n",
    "    'brand', # No impact\n",
    "    'color', # No impact\n",
    "    'fuel_type',   # No impact\n",
    "    'doors_count', # No impact\n",
    "    'vehicle_transmission', # No impact\n",
    "    'wheel_drive',\n",
    "    'owner_count',\n",
    "]\n",
    "\n",
    "to_label = [\n",
    "    'car_passport', 'wheel_location'\n",
    "]"
   ]
  },
  {
   "cell_type": "code",
   "execution_count": null,
   "metadata": {
    "execution": {
     "iopub.execute_input": "2021-07-09T06:30:49.934860Z",
     "iopub.status.busy": "2021-07-09T06:30:49.932012Z",
     "iopub.status.idle": "2021-07-09T06:30:50.072664Z",
     "shell.execute_reply": "2021-07-09T06:30:50.071764Z",
     "shell.execute_reply.started": "2021-07-09T06:30:49.934802Z"
    }
   },
   "outputs": [],
   "source": [
    "# hot it out\n",
    "for col in to_hot:\n",
    "    df = encoder.hot_encoder(col)"
   ]
  },
  {
   "cell_type": "code",
   "execution_count": null,
   "metadata": {
    "execution": {
     "iopub.execute_input": "2021-07-09T06:30:50.075277Z",
     "iopub.status.busy": "2021-07-09T06:30:50.074662Z",
     "iopub.status.idle": "2021-07-09T06:30:50.087247Z",
     "shell.execute_reply": "2021-07-09T06:30:50.086473Z",
     "shell.execute_reply.started": "2021-07-09T06:30:50.075235Z"
    }
   },
   "outputs": [],
   "source": [
    "# label it\n",
    "for col in to_label:\n",
    "    encoder.label_encoder(col)"
   ]
  },
  {
   "cell_type": "markdown",
   "metadata": {},
   "source": [
    "**[Dropping columns out]**"
   ]
  },
  {
   "cell_type": "code",
   "execution_count": null,
   "metadata": {
    "execution": {
     "iopub.execute_input": "2021-07-09T06:30:50.090286Z",
     "iopub.status.busy": "2021-07-09T06:30:50.089771Z",
     "iopub.status.idle": "2021-07-09T06:30:50.097878Z",
     "shell.execute_reply": "2021-07-09T06:30:50.097008Z",
     "shell.execute_reply.started": "2021-07-09T06:30:50.090256Z"
    }
   },
   "outputs": [],
   "source": [
    "df_1 = df.copy()"
   ]
  },
  {
   "cell_type": "code",
   "execution_count": null,
   "metadata": {
    "execution": {
     "iopub.execute_input": "2021-07-09T06:30:50.100645Z",
     "iopub.status.busy": "2021-07-09T06:30:50.099895Z",
     "iopub.status.idle": "2021-07-09T06:30:50.112715Z",
     "shell.execute_reply": "2021-07-09T06:30:50.111913Z",
     "shell.execute_reply.started": "2021-07-09T06:30:50.100607Z"
    }
   },
   "outputs": [],
   "source": [
    "cols_to_drop = [\n",
    "    'description',\n",
    "    'engine_power',\n",
    "    'sell_id',\n",
    "    'model_info',\n",
    "    'name',\n",
    "    'vehicle_configuration',\n",
    "    'owning_period',\n",
    "]\n",
    "df = df.drop(cols_to_drop, axis=1)"
   ]
  },
  {
   "cell_type": "markdown",
   "metadata": {},
   "source": [
    "<a id=\"sec9.2\"></a>\n",
    "## [9.2. Prepare the data for models](#sec9.2)\n",
    "[(INDEX)](#sec2)\n"
   ]
  },
  {
   "cell_type": "code",
   "execution_count": null,
   "metadata": {
    "execution": {
     "iopub.execute_input": "2021-07-09T06:30:50.114372Z",
     "iopub.status.busy": "2021-07-09T06:30:50.114043Z",
     "iopub.status.idle": "2021-07-09T06:30:50.129724Z",
     "shell.execute_reply": "2021-07-09T06:30:50.128983Z",
     "shell.execute_reply.started": "2021-07-09T06:30:50.114337Z"
    }
   },
   "outputs": [],
   "source": [
    "# Defining features and target\n",
    "X = df[df['sample'] == 1].drop(['price','sample'], axis=1)\n",
    "y = df[df['sample'] == 1]['price']\n",
    "\n",
    "X_test = df[df['sample'] == 0].drop(['price','sample'], axis=1)"
   ]
  },
  {
   "cell_type": "code",
   "execution_count": null,
   "metadata": {
    "execution": {
     "iopub.execute_input": "2021-07-09T06:30:50.131514Z",
     "iopub.status.busy": "2021-07-09T06:30:50.131095Z",
     "iopub.status.idle": "2021-07-09T06:30:50.136401Z",
     "shell.execute_reply": "2021-07-09T06:30:50.135168Z",
     "shell.execute_reply.started": "2021-07-09T06:30:50.131475Z"
    }
   },
   "outputs": [],
   "source": [
    "cols_to_scal = [\n",
    "    'engine_displacement','mileage', 'subjectivity', \n",
    "    'polarity', \n",
    "    'pca_pwr_dsplc',\n",
    "    'priced_model_info','priced_brand','priced_body_type','tax'\n",
    "]"
   ]
  },
  {
   "cell_type": "code",
   "execution_count": null,
   "metadata": {
    "execution": {
     "iopub.execute_input": "2021-07-09T06:30:50.138319Z",
     "iopub.status.busy": "2021-07-09T06:30:50.137912Z",
     "iopub.status.idle": "2021-07-09T06:30:50.176492Z",
     "shell.execute_reply": "2021-07-09T06:30:50.175727Z",
     "shell.execute_reply.started": "2021-07-09T06:30:50.138281Z"
    }
   },
   "outputs": [],
   "source": [
    "scaler = RobustScaler()\n",
    "X[cols_to_scal] = scaler.fit_transform(X[cols_to_scal])\n",
    "X_test[cols_to_scal] = scaler.transform(X_test[cols_to_scal])"
   ]
  },
  {
   "cell_type": "code",
   "execution_count": null,
   "metadata": {
    "execution": {
     "iopub.execute_input": "2021-07-09T06:30:50.178157Z",
     "iopub.status.busy": "2021-07-09T06:30:50.177799Z",
     "iopub.status.idle": "2021-07-09T06:30:50.193187Z",
     "shell.execute_reply": "2021-07-09T06:30:50.192026Z",
     "shell.execute_reply.started": "2021-07-09T06:30:50.178121Z"
    }
   },
   "outputs": [],
   "source": [
    "# Splitting the data\n",
    "X_train, X_val, y_train, y_val = train_test_split(X,\n",
    "                                                  y,\n",
    "                                                  test_size=0.15,\n",
    "                                                  shuffle=True,\n",
    "                                                  random_state=42)\n",
    "\n",
    "print(\n",
    "    f'Train size: {X_train.shape}, Validation size: {X_val.shape}, Test size: {X_test.shape}'\n",
    ")"
   ]
  },
  {
   "cell_type": "markdown",
   "metadata": {},
   "source": [
    "<a id=\"sec10\"></a>\n",
    "# [10. Models](#sec10)\n",
    "[(INDEX)](#sec2)"
   ]
  },
  {
   "cell_type": "markdown",
   "metadata": {},
   "source": [
    "<a id=\"sec10.1\"></a>\n",
    "## [10.1. CatBoost Regressor](#sec10.1)\n",
    "[(INDEX)](#sec2)"
   ]
  },
  {
   "cell_type": "code",
   "execution_count": null,
   "metadata": {
    "execution": {
     "iopub.execute_input": "2021-07-09T06:30:50.195148Z",
     "iopub.status.busy": "2021-07-09T06:30:50.194719Z",
     "iopub.status.idle": "2021-07-09T06:31:07.489674Z",
     "shell.execute_reply": "2021-07-09T06:31:07.488857Z",
     "shell.execute_reply.started": "2021-07-09T06:30:50.195110Z"
    }
   },
   "outputs": [],
   "source": [
    "cbr = CatBoostRegressor(iterations = 5000,\n",
    "                          #depth=10,\n",
    "                          #learning_rate = 0.5,\n",
    "                          random_seed = 42,\n",
    "                          eval_metric='MAPE',\n",
    "                          custom_metric=['RMSE', 'MAE'],\n",
    "                          od_wait=500,\n",
    "                          #task_type='GPU',\n",
    "                         )\n",
    "cbr.fit(X_train, y_train,\n",
    "         eval_set=(X_val, y_val),\n",
    "         verbose_eval=100,\n",
    "         use_best_model=True,\n",
    "         #plot=True\n",
    "         )"
   ]
  },
  {
   "cell_type": "code",
   "execution_count": null,
   "metadata": {
    "execution": {
     "iopub.execute_input": "2021-07-09T06:31:07.491366Z",
     "iopub.status.busy": "2021-07-09T06:31:07.491000Z",
     "iopub.status.idle": "2021-07-09T06:31:07.507752Z",
     "shell.execute_reply": "2021-07-09T06:31:07.506947Z",
     "shell.execute_reply.started": "2021-07-09T06:31:07.491328Z"
    }
   },
   "outputs": [],
   "source": [
    "cbr_pred = cbr.predict(X_val)"
   ]
  },
  {
   "cell_type": "code",
   "execution_count": null,
   "metadata": {
    "execution": {
     "iopub.execute_input": "2021-07-09T06:31:07.509473Z",
     "iopub.status.busy": "2021-07-09T06:31:07.509111Z",
     "iopub.status.idle": "2021-07-09T06:31:07.528079Z",
     "shell.execute_reply": "2021-07-09T06:31:07.527057Z",
     "shell.execute_reply.started": "2021-07-09T06:31:07.509435Z"
    }
   },
   "outputs": [],
   "source": [
    "df_report = get_regression_metrics(df_report,y_val,cbr_pred, 'CatBoost')\n",
    "df_report"
   ]
  },
  {
   "cell_type": "markdown",
   "metadata": {},
   "source": [
    "It is definitely better than the baseline. We have dropped almost 9% of error"
   ]
  },
  {
   "cell_type": "code",
   "execution_count": null,
   "metadata": {
    "execution": {
     "iopub.execute_input": "2021-07-09T06:31:07.529774Z",
     "iopub.status.busy": "2021-07-09T06:31:07.529399Z",
     "iopub.status.idle": "2021-07-09T06:31:07.566871Z",
     "shell.execute_reply": "2021-07-09T06:31:07.566167Z",
     "shell.execute_reply.started": "2021-07-09T06:31:07.529734Z"
    }
   },
   "outputs": [],
   "source": [
    "sub_predict_catboost = cbr.predict(X_test)\n",
    "sample_submission['price'] = sub_predict_catboost\n",
    "sample_submission.to_csv('catboost_submission.csv', index=False)"
   ]
  },
  {
   "cell_type": "markdown",
   "metadata": {},
   "source": [
    "<a id=\"sec10.2\"></a>\n",
    "## [10.2. LightGBM + OPTUNA](#sec10.2)\n",
    "[(INDEX)](#sec2)"
   ]
  },
  {
   "cell_type": "code",
   "execution_count": null,
   "metadata": {
    "execution": {
     "iopub.execute_input": "2021-07-09T06:31:07.569321Z",
     "iopub.status.busy": "2021-07-09T06:31:07.568742Z",
     "iopub.status.idle": "2021-07-09T06:31:07.574229Z",
     "shell.execute_reply": "2021-07-09T06:31:07.573378Z",
     "shell.execute_reply.started": "2021-07-09T06:31:07.569282Z"
    }
   },
   "outputs": [],
   "source": [
    "# Defining MAPE function since it was removed from sklearn\n",
    "# Use only for optuna\n",
    "def mape_11(y_pred,y_true): \n",
    "    y_true, y_pred = np.array(y_true), np.array(y_pred)\n",
    "    return np.mean(np.abs((y_true - y_pred) / y_true) * 100)"
   ]
  },
  {
   "cell_type": "code",
   "execution_count": null,
   "metadata": {
    "execution": {
     "iopub.execute_input": "2021-07-09T06:31:07.575984Z",
     "iopub.status.busy": "2021-07-09T06:31:07.575481Z",
     "iopub.status.idle": "2021-07-09T06:31:07.587890Z",
     "shell.execute_reply": "2021-07-09T06:31:07.586911Z",
     "shell.execute_reply.started": "2021-07-09T06:31:07.575948Z"
    }
   },
   "outputs": [],
   "source": [
    "def objective(trial,data=X,target=y):\n",
    "    \n",
    "    train_x, test_x, train_y, test_y = train_test_split(data, target, test_size=0.2,random_state=42)\n",
    "    param = {\n",
    "        'metric': 'mape', \n",
    "        'random_state': 42,\n",
    "        'n_estimators': trial.suggest_categorical('n_estimators', [50, 100,500,700]),\n",
    "        'reg_alpha': trial.suggest_loguniform('reg_alpha', 1e-3, 10.0),\n",
    "        'reg_lambda': trial.suggest_loguniform('reg_lambda', 1e-3, 10.0),\n",
    "        'colsample_bytree': trial.suggest_categorical('colsample_bytree', [0.3,0.4,0.5,0.6,0.7,0.8,0.9, 1.0]),\n",
    "        'subsample': trial.suggest_categorical('subsample', [0.4,0.5,0.6,0.7,0.8,1.0]),\n",
    "        'learning_rate': trial.suggest_categorical('learning_rate', [0.006,0.008,0.01,0.014,0.017,0.02]),\n",
    "        'max_depth': trial.suggest_categorical('max_depth', [10,20,100]),\n",
    "        'num_leaves' : trial.suggest_int('num_leaves', 1, 1000),\n",
    "        'min_child_samples': trial.suggest_int('min_child_samples', 1, 300),\n",
    "        'cat_smooth' : trial.suggest_int('min_data_per_groups', 1, 100)\n",
    "    }\n",
    "    model = lgb.LGBMRegressor(**param)  \n",
    "    \n",
    "    model.fit(train_x,train_y,eval_set=[(test_x,test_y)],early_stopping_rounds=100,verbose=False)\n",
    "    \n",
    "    preds = model.predict(test_x)\n",
    "    \n",
    "    mape = mape_11(np.expm1(test_y), np.expm1(preds))\n",
    "    \n",
    "    return mape"
   ]
  },
  {
   "cell_type": "code",
   "execution_count": null,
   "metadata": {
    "execution": {
     "iopub.execute_input": "2021-07-09T06:31:07.589812Z",
     "iopub.status.busy": "2021-07-09T06:31:07.589295Z",
     "iopub.status.idle": "2021-07-09T06:32:43.012732Z",
     "shell.execute_reply": "2021-07-09T06:32:43.011978Z",
     "shell.execute_reply.started": "2021-07-09T06:31:07.589773Z"
    }
   },
   "outputs": [],
   "source": [
    "study = optuna.create_study(direction='minimize')\n",
    "study.optimize(objective, n_trials=50)"
   ]
  },
  {
   "cell_type": "code",
   "execution_count": null,
   "metadata": {
    "execution": {
     "iopub.execute_input": "2021-07-09T06:32:43.017368Z",
     "iopub.status.busy": "2021-07-09T06:32:43.015823Z",
     "iopub.status.idle": "2021-07-09T06:32:43.022372Z",
     "shell.execute_reply": "2021-07-09T06:32:43.021614Z",
     "shell.execute_reply.started": "2021-07-09T06:32:43.017336Z"
    }
   },
   "outputs": [],
   "source": [
    "# Take best parameters\n",
    "param_lgb = study.best_params"
   ]
  },
  {
   "cell_type": "code",
   "execution_count": null,
   "metadata": {
    "execution": {
     "iopub.execute_input": "2021-07-09T06:32:43.024139Z",
     "iopub.status.busy": "2021-07-09T06:32:43.023767Z",
     "iopub.status.idle": "2021-07-09T06:32:46.066802Z",
     "shell.execute_reply": "2021-07-09T06:32:46.066018Z",
     "shell.execute_reply.started": "2021-07-09T06:32:43.024102Z"
    }
   },
   "outputs": [],
   "source": [
    "# Fit model\n",
    "lgb_opt = lgb.LGBMRegressor(**param_lgb)\n",
    "lgb_opt.fit(X_train, y_train,)"
   ]
  },
  {
   "cell_type": "code",
   "execution_count": null,
   "metadata": {
    "execution": {
     "iopub.execute_input": "2021-07-09T06:32:46.068428Z",
     "iopub.status.busy": "2021-07-09T06:32:46.067951Z",
     "iopub.status.idle": "2021-07-09T06:32:46.184112Z",
     "shell.execute_reply": "2021-07-09T06:32:46.183225Z",
     "shell.execute_reply.started": "2021-07-09T06:32:46.068390Z"
    }
   },
   "outputs": [],
   "source": [
    "#Make a predictions\n",
    "lgb_opt_pred = lgb_opt.predict(X_val)"
   ]
  },
  {
   "cell_type": "code",
   "execution_count": null,
   "metadata": {
    "execution": {
     "iopub.execute_input": "2021-07-09T06:32:46.187648Z",
     "iopub.status.busy": "2021-07-09T06:32:46.187374Z",
     "iopub.status.idle": "2021-07-09T06:32:46.207944Z",
     "shell.execute_reply": "2021-07-09T06:32:46.207179Z",
     "shell.execute_reply.started": "2021-07-09T06:32:46.187621Z"
    }
   },
   "outputs": [],
   "source": [
    "df_report = get_regression_metrics(df_report,y_val,lgb_opt_pred, 'LGB+optuna')\n",
    "df_report"
   ]
  },
  {
   "cell_type": "markdown",
   "metadata": {},
   "source": [
    "No significant improvement of the metric. \n",
    "\n",
    "We need to call heavy artillery."
   ]
  },
  {
   "cell_type": "code",
   "execution_count": null,
   "metadata": {
    "execution": {
     "iopub.execute_input": "2021-07-09T06:32:46.209660Z",
     "iopub.status.busy": "2021-07-09T06:32:46.209274Z",
     "iopub.status.idle": "2021-07-09T06:32:47.470367Z",
     "shell.execute_reply": "2021-07-09T06:32:47.469592Z",
     "shell.execute_reply.started": "2021-07-09T06:32:46.209621Z"
    }
   },
   "outputs": [],
   "source": [
    "# Check permutation\n",
    "lightgbm.plot_importance(lgb_opt, ax=None, height=0.2, xlim=None, ylim=None,\n",
    "                         title='Feature importance', xlabel='Feature importance', \n",
    "                         ylabel='Features', importance_type='split', max_num_features=None,\n",
    "                         ignore_zero=True, figsize=(10,10), dpi=None, grid=True, precision=3);"
   ]
  },
  {
   "cell_type": "markdown",
   "metadata": {},
   "source": [
    "We can see that some columns have no impact to model. LAter we can delete them"
   ]
  },
  {
   "cell_type": "markdown",
   "metadata": {},
   "source": [
    "<a id=\"sec10.3\"></a>\n",
    "## [10.3. Tabular NN](#sec10.3)\n",
    "[(INDEX)](#sec2)"
   ]
  },
  {
   "cell_type": "code",
   "execution_count": null,
   "metadata": {
    "execution": {
     "iopub.execute_input": "2021-07-09T06:32:47.471948Z",
     "iopub.status.busy": "2021-07-09T06:32:47.471590Z",
     "iopub.status.idle": "2021-07-09T06:32:49.374573Z",
     "shell.execute_reply": "2021-07-09T06:32:49.373743Z",
     "shell.execute_reply.started": "2021-07-09T06:32:47.471898Z"
    }
   },
   "outputs": [],
   "source": [
    "input_ = Input(shape=X_train.shape[1])\n",
    "output = Sequential([\n",
    "    Dense(1000, 'relu'),\n",
    "    Dropout(0.5),\n",
    "    Dense(1000, 'relu'),\n",
    "    Dropout(0.5),\n",
    "    Dense(1)\n",
    "])(input_) + Dense(1, kernel_initializer='zeros')(input_)\n",
    "\n",
    "model = Model(inputs = input_,outputs = output)"
   ]
  },
  {
   "cell_type": "code",
   "execution_count": null,
   "metadata": {
    "execution": {
     "iopub.execute_input": "2021-07-09T06:32:49.376146Z",
     "iopub.status.busy": "2021-07-09T06:32:49.375785Z",
     "iopub.status.idle": "2021-07-09T06:32:49.399403Z",
     "shell.execute_reply": "2021-07-09T06:32:49.398478Z",
     "shell.execute_reply.started": "2021-07-09T06:32:49.376110Z"
    }
   },
   "outputs": [],
   "source": [
    "scaler = StandardScaler().fit(X_train)\n",
    "X_train_for_NN = np.clip(scaler.transform(X_train), -5, 5)\n",
    "X_val_for_NN = np.clip(scaler.transform(X_val), -5, 5)"
   ]
  },
  {
   "cell_type": "markdown",
   "metadata": {},
   "source": [
    "Create a model, where in each iteration we gradually reduce the learning rate"
   ]
  },
  {
   "cell_type": "code",
   "execution_count": null,
   "metadata": {
    "execution": {
     "iopub.execute_input": "2021-07-09T06:32:49.401149Z",
     "iopub.status.busy": "2021-07-09T06:32:49.400726Z",
     "iopub.status.idle": "2021-07-09T06:33:52.937924Z",
     "shell.execute_reply": "2021-07-09T06:33:52.936617Z",
     "shell.execute_reply.started": "2021-07-09T06:32:49.401090Z"
    }
   },
   "outputs": [],
   "source": [
    "model.compile(loss='mse', optimizer=Adam(1e-2))\n",
    "progress_bar = tqdm(total=1000)\n",
    "history = model.fit(\n",
    "    X_train_for_NN,\n",
    "    y_train,\n",
    "    validation_data=(X_val_for_NN, y_val),\n",
    "    batch_size=100,\n",
    "    epochs=1000,\n",
    "    verbose=0,\n",
    "    callbacks=[\n",
    "        EarlyStopping(patience=200, restore_best_weights=True, verbose=1),\n",
    "        ReduceLROnPlateau(patience=100, verbose=1),\n",
    "        LambdaCallback(on_epoch_end=lambda epoch, logs: progress_bar.update(1))\n",
    "    ])\n"
   ]
  },
  {
   "cell_type": "code",
   "execution_count": null,
   "metadata": {
    "execution": {
     "iopub.execute_input": "2021-07-09T06:33:52.939746Z",
     "iopub.status.busy": "2021-07-09T06:33:52.939384Z",
     "iopub.status.idle": "2021-07-09T06:33:53.465969Z",
     "shell.execute_reply": "2021-07-09T06:33:53.465006Z",
     "shell.execute_reply.started": "2021-07-09T06:33:52.939707Z"
    }
   },
   "outputs": [],
   "source": [
    "plt.figure(figsize=(15, 5))\n",
    "plt.plot(history.history['loss'], label='train MSE loss')\n",
    "plt.plot(history.history['val_loss'], label='val MSE loss')\n",
    "plt.legend()\n",
    "plt.gca().set_xscale('symlog')\n",
    "plt.gca().set_yscale('log')\n",
    "plt.show()"
   ]
  },
  {
   "cell_type": "markdown",
   "metadata": {},
   "source": [
    "The model is overfitted a bit. "
   ]
  },
  {
   "cell_type": "code",
   "execution_count": null,
   "metadata": {
    "execution": {
     "iopub.execute_input": "2021-07-09T06:33:53.467708Z",
     "iopub.status.busy": "2021-07-09T06:33:53.467359Z",
     "iopub.status.idle": "2021-07-09T06:33:53.711795Z",
     "shell.execute_reply": "2021-07-09T06:33:53.710965Z",
     "shell.execute_reply.started": "2021-07-09T06:33:53.467666Z"
    }
   },
   "outputs": [],
   "source": [
    "df_report = get_regression_metrics(df_report, y_train,\n",
    "                                   model.predict(X_train_for_NN)[:, 0],\n",
    "                                   'NN_Train')"
   ]
  },
  {
   "cell_type": "code",
   "execution_count": null,
   "metadata": {
    "execution": {
     "iopub.execute_input": "2021-07-09T06:33:53.713508Z",
     "iopub.status.busy": "2021-07-09T06:33:53.713160Z",
     "iopub.status.idle": "2021-07-09T06:33:53.792849Z",
     "shell.execute_reply": "2021-07-09T06:33:53.792051Z",
     "shell.execute_reply.started": "2021-07-09T06:33:53.713470Z"
    }
   },
   "outputs": [],
   "source": [
    "df_report = get_regression_metrics(df_report, y_val,\n",
    "                                   model.predict(X_val_for_NN)[:, 0],\n",
    "                                   'NN_Test')\n",
    "df_report"
   ]
  },
  {
   "cell_type": "markdown",
   "metadata": {},
   "source": [
    "Well, it shows not bad results but yet not better than conventional ML models.\n",
    "\n",
    "We have applied clipping of data -5 +5 for cut big or small values in the features. \n",
    "\n",
    "In the next section we will try ti use NLP models as an additional layer.\n",
    "\n",
    "Perhaps it might improve the score a little bit"
   ]
  },
  {
   "cell_type": "markdown",
   "metadata": {},
   "source": [
    "<a id=\"sec10.4\"></a>\n",
    "## [10.3. Multiple NN](#sec10.4)\n",
    "[(INDEX)](#sec2)"
   ]
  },
  {
   "cell_type": "code",
   "execution_count": null,
   "metadata": {
    "execution": {
     "iopub.execute_input": "2021-07-09T06:33:53.794496Z",
     "iopub.status.busy": "2021-07-09T06:33:53.794133Z",
     "iopub.status.idle": "2021-07-09T06:33:53.799107Z",
     "shell.execute_reply": "2021-07-09T06:33:53.797777Z",
     "shell.execute_reply.started": "2021-07-09T06:33:53.794456Z"
    }
   },
   "outputs": [],
   "source": [
    "# TOKENIZER\n",
    "# The maximum number of words to be used. (most frequent)\n",
    "MAX_WORDS = 100000\n",
    "# Max number of words in each complaint.\n",
    "MAX_SEQUENCE_LENGTH = 256"
   ]
  },
  {
   "cell_type": "markdown",
   "metadata": {},
   "source": [
    "Before we do, let's preprocess the text a little bit\n",
    "\n",
    "Apply lemmatiztion and apply stopwords\n",
    "\n",
    "In the code above we have saved unscalled but preprocessed data frame with all columns.\n",
    "\n",
    "Let's take *description* column from it and work on it"
   ]
  },
  {
   "cell_type": "code",
   "execution_count": null,
   "metadata": {
    "execution": {
     "iopub.execute_input": "2021-07-09T06:33:53.801786Z",
     "iopub.status.busy": "2021-07-09T06:33:53.801101Z",
     "iopub.status.idle": "2021-07-09T06:33:53.811335Z",
     "shell.execute_reply": "2021-07-09T06:33:53.810194Z",
     "shell.execute_reply.started": "2021-07-09T06:33:53.801724Z"
    }
   },
   "outputs": [],
   "source": [
    "def get_lemma(text):\n",
    "    '''Function is called for lemmatize text'''\n",
    "    mystem = Mystem()\n",
    "    stopword = set(stopwords.words('russian'))\n",
    "    \n",
    "    text = mystem.lemmatize(text.lower())\n",
    "    clean_text = [w for w in text if len(w.strip())]\n",
    "    cl_txt = []\n",
    "    for word in clean_text:\n",
    "        if word not in stopword:\n",
    "            cl_txt.append(word)\n",
    "\n",
    "    return cl_txt"
   ]
  },
  {
   "cell_type": "code",
   "execution_count": null,
   "metadata": {
    "execution": {
     "iopub.execute_input": "2021-07-09T06:33:53.813629Z",
     "iopub.status.busy": "2021-07-09T06:33:53.812905Z",
     "iopub.status.idle": "2021-07-09T08:14:14.474171Z",
     "shell.execute_reply": "2021-07-09T08:14:14.473052Z",
     "shell.execute_reply.started": "2021-07-09T06:33:53.813583Z"
    }
   },
   "outputs": [],
   "source": [
    "#%%script False\n",
    "df_1['description_lemm'] = df_1['description'].apply(get_lemma)"
   ]
  },
  {
   "cell_type": "code",
   "execution_count": null,
   "metadata": {
    "execution": {
     "iopub.execute_input": "2021-07-09T08:14:14.476384Z",
     "iopub.status.busy": "2021-07-09T08:14:14.476003Z",
     "iopub.status.idle": "2021-07-09T08:14:15.909952Z",
     "shell.execute_reply": "2021-07-09T08:14:15.909141Z",
     "shell.execute_reply.started": "2021-07-09T08:14:14.476339Z"
    }
   },
   "outputs": [],
   "source": [
    "#%%script False\n",
    "# Save to csv. Save time while running\n",
    "df_1.to_csv('df_preproc.csv', index = False)"
   ]
  },
  {
   "cell_type": "code",
   "execution_count": null,
   "metadata": {
    "execution": {
     "iopub.execute_input": "2021-07-09T08:14:15.911627Z",
     "iopub.status.busy": "2021-07-09T08:14:15.911188Z",
     "iopub.status.idle": "2021-07-09T08:14:16.271070Z",
     "shell.execute_reply": "2021-07-09T08:14:16.270021Z",
     "shell.execute_reply.started": "2021-07-09T08:14:15.911572Z"
    }
   },
   "outputs": [],
   "source": [
    "df_lem = pd.read_csv(\"./df_preproc.csv\")"
   ]
  },
  {
   "cell_type": "code",
   "execution_count": null,
   "metadata": {
    "execution": {
     "iopub.execute_input": "2021-07-09T08:14:16.272835Z",
     "iopub.status.busy": "2021-07-09T08:14:16.272491Z",
     "iopub.status.idle": "2021-07-09T08:14:16.278809Z",
     "shell.execute_reply": "2021-07-09T08:14:16.278016Z",
     "shell.execute_reply.started": "2021-07-09T08:14:16.272800Z"
    }
   },
   "outputs": [],
   "source": [
    "# extract the data\n",
    "text_train = df_1['description_lemm'].iloc[X_train.index]\n",
    "text_val = df_1['description_lemm'].iloc[X_val.index]\n",
    "text_test = df_1['description_lemm'].iloc[X_test.index]"
   ]
  },
  {
   "cell_type": "code",
   "execution_count": null,
   "metadata": {
    "execution": {
     "iopub.execute_input": "2021-07-09T08:14:16.280703Z",
     "iopub.status.busy": "2021-07-09T08:14:16.280135Z",
     "iopub.status.idle": "2021-07-09T08:14:16.966869Z",
     "shell.execute_reply": "2021-07-09T08:14:16.966080Z",
     "shell.execute_reply.started": "2021-07-09T08:14:16.280658Z"
    }
   },
   "outputs": [],
   "source": [
    "%%time\n",
    "tokenize = Tokenizer(num_words=MAX_WORDS)\n",
    "tokenize.fit_on_texts(df_1.description_lemm)"
   ]
  },
  {
   "cell_type": "code",
   "execution_count": null,
   "metadata": {
    "execution": {
     "iopub.execute_input": "2021-07-09T08:14:16.968499Z",
     "iopub.status.busy": "2021-07-09T08:14:16.968149Z",
     "iopub.status.idle": "2021-07-09T08:14:17.665583Z",
     "shell.execute_reply": "2021-07-09T08:14:17.664590Z",
     "shell.execute_reply.started": "2021-07-09T08:14:16.968460Z"
    }
   },
   "outputs": [],
   "source": [
    "%%time\n",
    "text_train_sequences = sequence.pad_sequences(tokenize.texts_to_sequences(text_train), maxlen=MAX_SEQUENCE_LENGTH)\n",
    "text_val_sequences = sequence.pad_sequences(tokenize.texts_to_sequences(text_val), maxlen=MAX_SEQUENCE_LENGTH)\n",
    "text_test_sequences = sequence.pad_sequences(tokenize.texts_to_sequences(text_test), maxlen=MAX_SEQUENCE_LENGTH)\n",
    "\n",
    "print(text_train_sequences.shape, text_val_sequences.shape, text_test_sequences.shape, )"
   ]
  },
  {
   "cell_type": "code",
   "execution_count": null,
   "metadata": {
    "execution": {
     "iopub.execute_input": "2021-07-09T08:14:17.667402Z",
     "iopub.status.busy": "2021-07-09T08:14:17.666865Z",
     "iopub.status.idle": "2021-07-09T08:14:17.673838Z",
     "shell.execute_reply": "2021-07-09T08:14:17.672815Z",
     "shell.execute_reply.started": "2021-07-09T08:14:17.667360Z"
    }
   },
   "outputs": [],
   "source": [
    "# вот так теперь выглядит наш текст\n",
    "print(text_train.iloc[6])\n",
    "print(text_train_sequences[6])"
   ]
  },
  {
   "cell_type": "code",
   "execution_count": null,
   "metadata": {
    "execution": {
     "iopub.execute_input": "2021-07-09T08:14:17.675632Z",
     "iopub.status.busy": "2021-07-09T08:14:17.675256Z",
     "iopub.status.idle": "2021-07-09T08:14:17.685167Z",
     "shell.execute_reply": "2021-07-09T08:14:17.684318Z",
     "shell.execute_reply.started": "2021-07-09T08:14:17.675597Z"
    }
   },
   "outputs": [],
   "source": [
    "# model_nlp = Sequential()\n",
    "# model_nlp.add(L.Input(shape=MAX_SEQUENCE_LENGTH, name=\"seq_description\"))\n",
    "# model_nlp.add(L.Embedding(len(tokenize.word_index)+1, MAX_SEQUENCE_LENGTH,))\n",
    "# model_nlp.add(L.LSTM(256, return_sequences=True))\n",
    "# model_nlp.add(L.Dropout(0.5))\n",
    "# model_nlp.add(L.LSTM(128,))\n",
    "# model_nlp.add(L.Dropout(0.25))\n",
    "# model_nlp.add(L.Dense(64, activation=\"relu\"))\n",
    "# model_nlp.add(L.Dropout(0.25))"
   ]
  },
  {
   "cell_type": "code",
   "execution_count": null,
   "metadata": {
    "execution": {
     "iopub.execute_input": "2021-07-09T08:14:17.686962Z",
     "iopub.status.busy": "2021-07-09T08:14:17.686508Z",
     "iopub.status.idle": "2021-07-09T08:14:18.947487Z",
     "shell.execute_reply": "2021-07-09T08:14:18.946668Z",
     "shell.execute_reply.started": "2021-07-09T08:14:17.686906Z"
    }
   },
   "outputs": [],
   "source": [
    "input_nlp = Input(shape=MAX_SEQUENCE_LENGTH,name=\"seq_description\")\n",
    "output_nlp = Sequential([\n",
    "    Embedding(len(tokenize.word_index)+1,MAX_SEQUENCE_LENGTH),\n",
    "    LSTM(256, return_sequences=True),\n",
    "    Dropout(0.5),\n",
    "    LSTM(128),\n",
    "    Dropout(0.25),\n",
    "    Dense(64, activation=\"relu\"),\n",
    "    Dropout(0.25)    \n",
    "])(input_nlp) + Dense(1, kernel_initializer='zeros')(input_nlp)\n",
    "\n",
    "model_nlp = Model(inputs = input_nlp,outputs = output_nlp)"
   ]
  },
  {
   "cell_type": "code",
   "execution_count": null,
   "metadata": {
    "execution": {
     "iopub.execute_input": "2021-07-09T08:14:18.949123Z",
     "iopub.status.busy": "2021-07-09T08:14:18.948782Z",
     "iopub.status.idle": "2021-07-09T08:14:19.003076Z",
     "shell.execute_reply": "2021-07-09T08:14:19.002271Z",
     "shell.execute_reply.started": "2021-07-09T08:14:18.949088Z"
    }
   },
   "outputs": [],
   "source": [
    "input_ = Input(shape=X_train.shape[1])\n",
    "output = Sequential([\n",
    "    Dense(1000, 'relu'),\n",
    "    Dropout(0.5),\n",
    "    Dense(1000, 'relu'),\n",
    "    Dropout(0.5),\n",
    "    Dense(1)\n",
    "])(input_) + Dense(1, kernel_initializer='zeros')(input_)\n",
    "\n",
    "model_mlp = Model(inputs = input_,outputs = output)"
   ]
  },
  {
   "cell_type": "code",
   "execution_count": null,
   "metadata": {
    "execution": {
     "iopub.execute_input": "2021-07-09T08:14:19.004782Z",
     "iopub.status.busy": "2021-07-09T08:14:19.004434Z",
     "iopub.status.idle": "2021-07-09T08:14:19.030593Z",
     "shell.execute_reply": "2021-07-09T08:14:19.029848Z",
     "shell.execute_reply.started": "2021-07-09T08:14:19.004744Z"
    }
   },
   "outputs": [],
   "source": [
    "combinedInput = concatenate([model_nlp.output, model_mlp.output])\n",
    "# being our regression head\n",
    "head = Dense(64, activation=\"relu\")(combinedInput)\n",
    "head = Dense(1, activation=\"linear\")(head)\n",
    "\n",
    "model = Model(inputs=[model_nlp.input, model_mlp.input], outputs=head)"
   ]
  },
  {
   "cell_type": "code",
   "execution_count": null,
   "metadata": {
    "execution": {
     "iopub.execute_input": "2021-07-09T08:14:19.032225Z",
     "iopub.status.busy": "2021-07-09T08:14:19.031867Z",
     "iopub.status.idle": "2021-07-09T08:14:19.036658Z",
     "shell.execute_reply": "2021-07-09T08:14:19.035508Z",
     "shell.execute_reply.started": "2021-07-09T08:14:19.032179Z"
    }
   },
   "outputs": [],
   "source": [
    "# optimizer = tf.keras.optimizers.Adam(0.01)\n",
    "# model.compile(loss='MAPE',optimizer=optimizer, metrics=['MAPE'])"
   ]
  },
  {
   "cell_type": "code",
   "execution_count": null,
   "metadata": {
    "execution": {
     "iopub.execute_input": "2021-07-09T08:14:19.038802Z",
     "iopub.status.busy": "2021-07-09T08:14:19.038123Z",
     "iopub.status.idle": "2021-07-09T08:14:19.044758Z",
     "shell.execute_reply": "2021-07-09T08:14:19.043863Z",
     "shell.execute_reply.started": "2021-07-09T08:14:19.038766Z"
    }
   },
   "outputs": [],
   "source": [
    "# checkpoint = ModelCheckpoint('../working/best_model.hdf5', monitor=['val_MAPE'], verbose=0, mode='min')\n",
    "# earlystop = EarlyStopping(monitor='val_MAPE', patience=10, restore_best_weights=True,)\n",
    "# callbacks_list = [checkpoint, earlystop]"
   ]
  },
  {
   "cell_type": "code",
   "execution_count": null,
   "metadata": {
    "execution": {
     "iopub.execute_input": "2021-07-09T08:14:19.046566Z",
     "iopub.status.busy": "2021-07-09T08:14:19.046054Z",
     "iopub.status.idle": "2021-07-09T08:14:19.053285Z",
     "shell.execute_reply": "2021-07-09T08:14:19.052443Z",
     "shell.execute_reply.started": "2021-07-09T08:14:19.046529Z"
    }
   },
   "outputs": [],
   "source": [
    "# history = model.fit([text_train_sequences, X_train_for_NN], y_train,\n",
    "#                     batch_size=512,\n",
    "#                     epochs=500, # фактически мы обучаем пока EarlyStopping не остановит обучение\n",
    "#                     validation_data=([text_test_sequences, X_test], y_test),\n",
    "#                     callbacks=callbacks_list,\n",
    "#                     verbose=0\n",
    "#                    )"
   ]
  },
  {
   "cell_type": "code",
   "execution_count": null,
   "metadata": {
    "execution": {
     "iopub.execute_input": "2021-07-09T08:14:19.054991Z",
     "iopub.status.busy": "2021-07-09T08:14:19.054584Z",
     "iopub.status.idle": "2021-07-09T09:32:30.148360Z",
     "shell.execute_reply": "2021-07-09T09:32:30.145817Z",
     "shell.execute_reply.started": "2021-07-09T08:14:19.054954Z"
    }
   },
   "outputs": [],
   "source": [
    "model.compile(loss='mse', optimizer=Adam(1e-2))\n",
    "progress_bar = tqdm(total=1000)\n",
    "history = model.fit(\n",
    "    [text_train_sequences, X_train_for_NN],\n",
    "    y_train,\n",
    "    validation_data=([text_val_sequences, X_val_for_NN], y_val),\n",
    "    batch_size=100,\n",
    "    epochs=1000,\n",
    "    verbose=0,\n",
    "    callbacks=[\n",
    "        EarlyStopping(patience=200, restore_best_weights=True, verbose=1),\n",
    "        ReduceLROnPlateau(patience=100, verbose=1),\n",
    "        LambdaCallback(on_epoch_end=lambda epoch, logs: progress_bar.update(1))\n",
    "    ])\n"
   ]
  },
  {
   "cell_type": "code",
   "execution_count": null,
   "metadata": {
    "execution": {
     "iopub.status.busy": "2021-07-09T09:32:30.149325Z",
     "iopub.status.idle": "2021-07-09T09:32:30.149702Z"
    }
   },
   "outputs": [],
   "source": [
    "plt.figure(figsize=(15, 5))\n",
    "plt.plot(history.history['loss'], label='train MSE loss')\n",
    "plt.plot(history.history['val_loss'], label='val MSE loss')\n",
    "plt.legend()\n",
    "plt.gca().set_xscale('symlog')\n",
    "plt.gca().set_yscale('log')\n",
    "plt.show()"
   ]
  },
  {
   "cell_type": "code",
   "execution_count": null,
   "metadata": {
    "execution": {
     "iopub.status.busy": "2021-07-09T09:32:30.150775Z",
     "iopub.status.idle": "2021-07-09T09:32:30.151329Z"
    }
   },
   "outputs": [],
   "source": [
    "df_report = get_regression_metrics(df_report, y_train,\n",
    "                                   model.predict([text_train_sequences, X_train_for_NN])[:, 0],\n",
    "                                   'NN+NLP_Train')"
   ]
  },
  {
   "cell_type": "code",
   "execution_count": null,
   "metadata": {
    "execution": {
     "iopub.status.busy": "2021-07-09T09:32:30.152307Z",
     "iopub.status.idle": "2021-07-09T09:32:30.152905Z"
    }
   },
   "outputs": [],
   "source": [
    "df_report = get_regression_metrics(df_report, y_val,\n",
    "                                   model.predict([text_val_sequences, X_val_for_NN])[:, 0],\n",
    "                                   'NN+NLP_Test')\n",
    "df_report"
   ]
  },
  {
   "cell_type": "markdown",
   "metadata": {},
   "source": [
    "<a id=\"sec10.5\"></a>\n",
    "## [10.3. Add some images](#sec10.5)\n",
    "[(INDEX)](#sec2)"
   ]
  },
  {
   "cell_type": "code",
   "execution_count": null,
   "metadata": {
    "execution": {
     "iopub.execute_input": "2021-07-09T09:32:42.572813Z",
     "iopub.status.busy": "2021-07-09T09:32:42.572479Z",
     "iopub.status.idle": "2021-07-09T09:32:43.184862Z",
     "shell.execute_reply": "2021-07-09T09:32:43.184026Z",
     "shell.execute_reply.started": "2021-07-09T09:32:42.572781Z"
    }
   },
   "outputs": [],
   "source": [
    "# убедимся, что цены и фото подгрузились верно\n",
    "plt.figure(figsize = (12,8))\n",
    "\n",
    "random_image = df_train.sample(n = 9)\n",
    "random_image_paths = random_image['sell_id'].values\n",
    "random_image_cat = random_image['price'].values\n",
    "\n",
    "for index, path in enumerate(random_image_paths):\n",
    "    im = PIL.Image.open(DATA_DIR+'img/img/' + str(path) + '.jpg')\n",
    "    plt.subplot(3, 3, index + 1)\n",
    "    plt.imshow(im)\n",
    "    plt.title('price: ' + str(random_image_cat[index]))\n",
    "    plt.axis('off')\n",
    "plt.show()"
   ]
  },
  {
   "cell_type": "code",
   "execution_count": null,
   "metadata": {
    "execution": {
     "iopub.execute_input": "2021-07-09T09:32:52.023591Z",
     "iopub.status.busy": "2021-07-09T09:32:52.023275Z",
     "iopub.status.idle": "2021-07-09T09:32:52.030274Z",
     "shell.execute_reply": "2021-07-09T09:32:52.029203Z",
     "shell.execute_reply.started": "2021-07-09T09:32:52.023561Z"
    }
   },
   "outputs": [],
   "source": [
    "size = (320, 240)\n",
    "\n",
    "def get_image_array(index):\n",
    "    images_train = []\n",
    "    for index, sell_id in enumerate(df_1['sell_id'].iloc[index].values):\n",
    "        image = cv2.imread(DATA_DIR + 'img/img/' + str(sell_id) + '.jpg')\n",
    "        assert(image is not None)\n",
    "        image = cv2.resize(image, size)\n",
    "        images_train.append(image)\n",
    "    images_train = np.array(images_train)\n",
    "    print('images shape', images_train.shape, 'dtype', images_train.dtype)\n",
    "    return(images_train)"
   ]
  },
  {
   "cell_type": "code",
   "execution_count": null,
   "metadata": {
    "execution": {
     "iopub.execute_input": "2021-07-09T09:32:54.904087Z",
     "iopub.status.busy": "2021-07-09T09:32:54.903693Z",
     "iopub.status.idle": "2021-07-09T09:34:30.056825Z",
     "shell.execute_reply": "2021-07-09T09:34:30.055691Z",
     "shell.execute_reply.started": "2021-07-09T09:32:54.904050Z"
    }
   },
   "outputs": [],
   "source": [
    "images_train = get_image_array(X_train.index)\n",
    "images_val = get_image_array(X_val.index)\n",
    "images_test = get_image_array(X_test.index)"
   ]
  },
  {
   "cell_type": "markdown",
   "metadata": {},
   "source": [
    "**[albumentations]**"
   ]
  },
  {
   "cell_type": "code",
   "execution_count": null,
   "metadata": {
    "execution": {
     "iopub.execute_input": "2021-07-09T09:34:30.059168Z",
     "iopub.status.busy": "2021-07-09T09:34:30.058787Z",
     "iopub.status.idle": "2021-07-09T09:34:30.706911Z",
     "shell.execute_reply": "2021-07-09T09:34:30.705847Z",
     "shell.execute_reply.started": "2021-07-09T09:34:30.059130Z"
    }
   },
   "outputs": [],
   "source": [
    "from albumentations import (\n",
    "    HorizontalFlip, IAAPerspective, ShiftScaleRotate, CLAHE, RandomRotate90,\n",
    "    Transpose, ShiftScaleRotate, Blur, OpticalDistortion, GridDistortion, HueSaturationValue,\n",
    "    IAAAdditiveGaussianNoise, GaussNoise, MotionBlur, MedianBlur, IAAPiecewiseAffine,\n",
    "    IAASharpen, IAAEmboss, RandomBrightnessContrast, Flip, OneOf, Compose\n",
    ")\n",
    "\n",
    "\n",
    "#пример взят из официальной документации: https://albumentations.readthedocs.io/en/latest/examples.html\n",
    "augmentation = Compose([\n",
    "    HorizontalFlip(),\n",
    "    OneOf([\n",
    "        IAAAdditiveGaussianNoise(),\n",
    "        GaussNoise(),\n",
    "    ], p=0.2),\n",
    "    OneOf([\n",
    "        MotionBlur(p=0.2),\n",
    "        MedianBlur(blur_limit=3, p=0.1),\n",
    "        Blur(blur_limit=3, p=0.1),\n",
    "    ], p=0.2),\n",
    "    ShiftScaleRotate(shift_limit=0.0625, scale_limit=0.2, rotate_limit=15, p=1),\n",
    "    OneOf([\n",
    "        OpticalDistortion(p=0.3),\n",
    "        GridDistortion(p=0.1),\n",
    "        IAAPiecewiseAffine(p=0.3),\n",
    "    ], p=0.2),\n",
    "    OneOf([\n",
    "        CLAHE(clip_limit=2),\n",
    "        IAASharpen(),\n",
    "        IAAEmboss(),\n",
    "        RandomBrightnessContrast(),\n",
    "    ], p=0.3),\n",
    "    HueSaturationValue(p=0.3),\n",
    "], p=1)\n",
    "\n",
    "#пример\n",
    "plt.figure(figsize = (12,8))\n",
    "for i in range(9):\n",
    "    img = augmentation(image = images_train[10])['image']\n",
    "    plt.subplot(3, 3, i + 1)\n",
    "    plt.imshow(img)\n",
    "    plt.axis('off')\n",
    "plt.show()"
   ]
  },
  {
   "cell_type": "code",
   "execution_count": null,
   "metadata": {
    "execution": {
     "iopub.execute_input": "2021-07-09T09:34:30.708961Z",
     "iopub.status.busy": "2021-07-09T09:34:30.708619Z",
     "iopub.status.idle": "2021-07-09T09:34:30.715972Z",
     "shell.execute_reply": "2021-07-09T09:34:30.714898Z",
     "shell.execute_reply.started": "2021-07-09T09:34:30.708914Z"
    }
   },
   "outputs": [],
   "source": [
    "def make_augmentations(images):\n",
    "    print('применение аугментаций', end='')\n",
    "    augmented_images = np.empty(images.shape)\n",
    "    for i in range(images.shape[0]):\n",
    "        if i % 200 == 0:\n",
    "            print('.', end='')\n",
    "        augment_dict = augmentation(image=images[i])\n",
    "        augmented_image = augment_dict['image']\n",
    "        augmented_images[i] = augmented_image\n",
    "    print('')\n",
    "    return augmented_images"
   ]
  },
  {
   "cell_type": "code",
   "execution_count": null,
   "metadata": {
    "execution": {
     "iopub.execute_input": "2021-07-09T09:35:56.708905Z",
     "iopub.status.busy": "2021-07-09T09:35:56.708589Z",
     "iopub.status.idle": "2021-07-09T09:35:59.529950Z",
     "shell.execute_reply": "2021-07-09T09:35:59.529010Z",
     "shell.execute_reply.started": "2021-07-09T09:35:56.708875Z"
    }
   },
   "outputs": [],
   "source": [
    "def process_image(image):\n",
    "    return augmentation(image=image.numpy())['image']\n",
    "\n",
    "\n",
    "def tokenize_(descriptions):\n",
    "    return sequence.pad_sequences(tokenize.texts_to_sequences(descriptions),\n",
    "                                  maxlen=MAX_SEQUENCE_LENGTH)\n",
    "\n",
    "\n",
    "def tokenize_text(text):\n",
    "    return tokenize_([text.numpy().decode('utf-8')])[0]\n",
    "\n",
    "\n",
    "def tf_process_train_dataset_element(image, table_data, text, price):\n",
    "    im_shape = image.shape\n",
    "    [\n",
    "        image,\n",
    "    ] = tf.py_function(process_image, [image], [tf.uint8])\n",
    "    image.set_shape(im_shape)\n",
    "    [\n",
    "        text,\n",
    "    ] = tf.py_function(tokenize_text, [text], [tf.int32])\n",
    "    return (image, table_data, text), price\n",
    "\n",
    "\n",
    "def tf_process_val_dataset_element(image, table_data, text, price):\n",
    "    [\n",
    "        text,\n",
    "    ] = tf.py_function(tokenize_text, [text], [tf.int32])\n",
    "    return (image, table_data, text), price\n",
    "\n",
    "\n",
    "train_dataset = tf.data.Dataset.from_tensor_slices(\n",
    "    (images_train, X_train, df_1.description.iloc[X_train.index],\n",
    "     y_train)).map(tf_process_train_dataset_element)\n",
    "\n",
    "val_dataset = tf.data.Dataset.from_tensor_slices(\n",
    "    (images_val, X_val, df_1.description.iloc[X_val.index],\n",
    "     y_val)).map(tf_process_val_dataset_element)\n",
    "\n",
    "y_test = np.zeros(len(X_test))\n",
    "test_dataset = tf.data.Dataset.from_tensor_slices(\n",
    "    (images_test, X_test, df_1.description.iloc[X_test.index],\n",
    "     y_test)).map(tf_process_val_dataset_element)\n",
    "\n",
    "#проверяем, что нет ошибок (не будет выброшено исключение):\n",
    "train_dataset.__iter__().__next__()\n",
    "val_dataset.__iter__().__next__()\n",
    "test_dataset.__iter__().__next__()"
   ]
  },
  {
   "cell_type": "code",
   "execution_count": null,
   "metadata": {
    "execution": {
     "iopub.execute_input": "2021-07-09T09:37:42.533877Z",
     "iopub.status.busy": "2021-07-09T09:37:42.533515Z",
     "iopub.status.idle": "2021-07-09T09:37:42.538894Z",
     "shell.execute_reply": "2021-07-09T09:37:42.538060Z",
     "shell.execute_reply.started": "2021-07-09T09:37:42.533843Z"
    }
   },
   "outputs": [],
   "source": [
    "import tensorflow.keras.layers as L"
   ]
  },
  {
   "cell_type": "code",
   "execution_count": null,
   "metadata": {
    "execution": {
     "iopub.execute_input": "2021-07-09T09:37:46.677744Z",
     "iopub.status.busy": "2021-07-09T09:37:46.677423Z",
     "iopub.status.idle": "2021-07-09T09:37:49.527826Z",
     "shell.execute_reply": "2021-07-09T09:37:49.527016Z",
     "shell.execute_reply.started": "2021-07-09T09:37:46.677712Z"
    }
   },
   "outputs": [],
   "source": [
    "#нормализация включена в состав модели EfficientNetB3, поэтому на вход она принимает данные типа uint8\n",
    "efficientnet_model = tf.keras.applications.efficientnet.EfficientNetB3(weights = 'imagenet', include_top = False, input_shape = (size[1], size[0], 3))\n",
    "efficientnet_output = L.GlobalAveragePooling2D()(efficientnet_model.output)"
   ]
  },
  {
   "cell_type": "code",
   "execution_count": null,
   "metadata": {
    "execution": {
     "iopub.execute_input": "2021-07-09T09:39:16.898777Z",
     "iopub.status.busy": "2021-07-09T09:39:16.898439Z",
     "iopub.status.idle": "2021-07-09T09:39:16.955317Z",
     "shell.execute_reply": "2021-07-09T09:39:16.954522Z",
     "shell.execute_reply.started": "2021-07-09T09:39:16.898746Z"
    }
   },
   "outputs": [],
   "source": [
    "# Create tabular NN (again)\n",
    "input_ = Input(shape=X_train.shape[1])\n",
    "output = Sequential([\n",
    "    Dense(1000, 'relu'),\n",
    "    Dropout(0.5),\n",
    "    Dense(1000, 'relu'),\n",
    "    Dropout(0.5),\n",
    "    Dense(1)\n",
    "])(input_) + Dense(1, kernel_initializer='zeros')(input_)\n",
    "\n",
    "model_tab = Model(inputs = input_,outputs = output)"
   ]
  },
  {
   "cell_type": "code",
   "execution_count": null,
   "metadata": {},
   "outputs": [],
   "source": [
    "input_nlp = Input(shape=MAX_SEQUENCE_LENGTH,name=\"seq_description\")\n",
    "output_nlp = Sequential([\n",
    "    Embedding(len(tokenize.word_index)+1,MAX_SEQUENCE_LENGTH),\n",
    "    LSTM(256, return_sequences=True),\n",
    "    Dropout(0.5),\n",
    "    LSTM(128),\n",
    "    Dropout(0.25),\n",
    "    Dense(64, activation=\"relu\"),\n",
    "    Dropout(0.25)    \n",
    "])(input_nlp) + Dense(1, kernel_initializer='zeros')(input_nlp)\n",
    "\n",
    "model_nlp = Model(inputs = input_nlp,outputs = output_nlp)"
   ]
  },
  {
   "cell_type": "code",
   "execution_count": null,
   "metadata": {
    "execution": {
     "iopub.execute_input": "2021-07-09T09:42:55.694989Z",
     "iopub.status.busy": "2021-07-09T09:42:55.694578Z",
     "iopub.status.idle": "2021-07-09T09:42:55.924217Z",
     "shell.execute_reply": "2021-07-09T09:42:55.923275Z",
     "shell.execute_reply.started": "2021-07-09T09:42:55.694944Z"
    }
   },
   "outputs": [],
   "source": [
    "#объединяем выходы трех нейросетей\n",
    "combinedInput = L.concatenate([efficientnet_output, model_tab.output, model_nlp.output])\n",
    "\n",
    "# being our regression head\n",
    "head = L.Dense(256, activation=\"relu\")(combinedInput)\n",
    "head = L.Dense(1,)(head)\n",
    "\n",
    "model = Model(inputs=[efficientnet_model.input, model_tab.input, model_nlp.input], outputs=head)\n",
    "model.summary()"
   ]
  },
  {
   "cell_type": "code",
   "execution_count": null,
   "metadata": {
    "execution": {
     "iopub.execute_input": "2021-07-09T09:47:18.379430Z",
     "iopub.status.busy": "2021-07-09T09:47:18.379107Z",
     "iopub.status.idle": "2021-07-09T09:47:29.144475Z",
     "shell.execute_reply": "2021-07-09T09:47:29.139402Z",
     "shell.execute_reply.started": "2021-07-09T09:47:18.379400Z"
    }
   },
   "outputs": [],
   "source": [
    "model.compile(loss='mse', optimizer=Adam(1e-2))\n",
    "progress_bar = tqdm(total=1000)\n",
    "history = model.fit(\n",
    "    train_dataset.batch(30),\n",
    "    validation_data=(val_dataset.batch(30)),\n",
    "   # batch_size=100,\n",
    "    epochs=100,\n",
    "    verbose=0,\n",
    "    callbacks=[\n",
    "        EarlyStopping(patience=100, restore_best_weights=True, verbose=1),\n",
    "        ReduceLROnPlateau(patience=50, verbose=1),\n",
    "        LambdaCallback(on_epoch_end=lambda epoch, logs: progress_bar.update(1))\n",
    "    ])\n"
   ]
  },
  {
   "cell_type": "code",
   "execution_count": null,
   "metadata": {},
   "outputs": [],
   "source": []
  }
 ],
 "metadata": {
  "kernelspec": {
   "display_name": "Python 3",
   "language": "python",
   "name": "python3"
  },
  "language_info": {
   "codemirror_mode": {
    "name": "ipython",
    "version": 3
   },
   "file_extension": ".py",
   "mimetype": "text/x-python",
   "name": "python",
   "nbconvert_exporter": "python",
   "pygments_lexer": "ipython3",
   "version": "3.8.5"
  },
  "toc": {
   "base_numbering": 1,
   "nav_menu": {},
   "number_sections": true,
   "sideBar": true,
   "skip_h1_title": false,
   "title_cell": "Table of Contents",
   "title_sidebar": "Contents",
   "toc_cell": false,
   "toc_position": {},
   "toc_section_display": true,
   "toc_window_display": true
  },
  "varInspector": {
   "cols": {
    "lenName": 16,
    "lenType": 16,
    "lenVar": 40
   },
   "kernels_config": {
    "python": {
     "delete_cmd_postfix": "",
     "delete_cmd_prefix": "del ",
     "library": "var_list.py",
     "varRefreshCmd": "print(var_dic_list())"
    },
    "r": {
     "delete_cmd_postfix": ") ",
     "delete_cmd_prefix": "rm(",
     "library": "var_list.r",
     "varRefreshCmd": "cat(var_dic_list()) "
    }
   },
   "types_to_exclude": [
    "module",
    "function",
    "builtin_function_or_method",
    "instance",
    "_Feature"
   ],
   "window_display": false
  }
 },
 "nbformat": 4,
 "nbformat_minor": 4
}
