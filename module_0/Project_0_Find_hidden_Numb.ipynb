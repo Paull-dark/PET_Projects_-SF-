{
 "cells": [
  {
   "cell_type": "code",
   "execution_count": 1,
   "metadata": {},
   "outputs": [
    {
     "name": "stdout",
     "output_type": "stream",
     "text": [
      "I'm finding the hidden number on average for  5 attempts\n",
      "Yeah Boy! Your Algorithm is good enough!!!\n"
     ]
    },
    {
     "data": {
      "text/plain": [
       "5"
      ]
     },
     "execution_count": 1,
     "metadata": {},
     "output_type": "execute_result"
    }
   ],
   "source": [
    "import numpy as np\n",
    "\n",
    "\n",
    "def find_number(random_number):\n",
    "    '''Function Searechs the hidden number\n",
    "    Input: Hidden number\n",
    "    Output: Number of attempts or None if number not found'''\n",
    "    count = 0\n",
    "    array = [x for x in range(1, 101)]\n",
    "    lower_bound = 1\n",
    "    upper_bound = len(array) - 1\n",
    "\n",
    "    while lower_bound <= upper_bound:  # Until there is one element left\n",
    "        count += 1\n",
    "        center = (lower_bound + upper_bound) // 2\n",
    "        if array[center] == random_number:\n",
    "            return count       # broke the looping if we guessed\n",
    "        # in case the predicted number is > hidden number\n",
    "        elif array[center] > random_number:\n",
    "            upper_bound = center - 1\n",
    "        # in case the predicted number is < hidden number\n",
    "        elif array[center] < random_number:\n",
    "            lower_bound = center + 1\n",
    "    return -1   # in case the hidden number not found\n",
    "\n",
    "\n",
    "def score_game(game_core):\n",
    "    '''The function is determining the average quantity of attempts\n",
    "    Input: Function - find_number\n",
    "    Output: Average quantity of attempts'''\n",
    "\n",
    "    count_attempt = []\n",
    "    np.random.seed(1)  # Fix the seed for the playback calculations\n",
    "    random_array = np.random.randint(1, 101, size=(1000))\n",
    "    for random_number in random_array:\n",
    "        count_attempt.append(game_core(random_number))\n",
    "    score = int(np.mean(count_attempt))\n",
    "    print(f\"I'm finding the hidden number on average for  {score} attempts\")\n",
    "    if score <= 5:\n",
    "        print(\"Yeah Boy! Your Algorithm is good enough!!!\")\n",
    "    else:\n",
    "        print(\"Dude, check out your looping. Something wrong!\")\n",
    "    return score\n",
    "score_game(find_number)\n",
    "\n",
    "#  empty line"
   ]
  },
  {
   "cell_type": "code",
   "execution_count": null,
   "metadata": {},
   "outputs": [],
   "source": []
  }
 ],
 "metadata": {
  "kernelspec": {
   "display_name": "Python 3",
   "language": "python",
   "name": "python3"
  },
  "language_info": {
   "codemirror_mode": {
    "name": "ipython",
    "version": 3
   },
   "file_extension": ".py",
   "mimetype": "text/x-python",
   "name": "python",
   "nbconvert_exporter": "python",
   "pygments_lexer": "ipython3",
   "version": "3.8.3"
  }
 },
 "nbformat": 4,
 "nbformat_minor": 4
}
