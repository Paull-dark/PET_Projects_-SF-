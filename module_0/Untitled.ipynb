{
 "cells": [
  {
   "cell_type": "code",
   "execution_count": null,
   "metadata": {},
   "outputs": [],
   "source": [
    "mport numpy as np\n",
    "\n",
    "\n",
    "def find_number(random_number):\n",
    "    '''Function Searechs the hidden number\n",
    "    Input: Hidden number\n",
    "    Output: Number of attempts or None if number not found'''\n",
    "    count = 0\n",
    "    array = [x for x in range(1, 101)]\n",
    "    lower_bound = 1\n",
    "    upper_bound = len(array) - 1\n",
    "\n",
    "    while lower_bound <= upper_bound:  # Until there is one element left\n",
    "        count += 1\n",
    "        center = (lower_bound + upper_bound) // 2\n",
    "        if array[center] == random_number:\n",
    "            return count       # broke the looping if we guessed\n",
    "        # in case the predicted number is > hidden number\n",
    "        elif array[center] > random_number:\n",
    "            upper_bound = center - 1\n",
    "        # in case the predicted number is < hidden number\n",
    "        elif array[center] < random_number:\n",
    "            lower_bound = center + 1\n",
    "    return -1   # in case the hidden number not found\n"
   ]
  }
 ],
 "metadata": {
  "kernelspec": {
   "display_name": "Python 3",
   "language": "python",
   "name": "python3"
  },
  "language_info": {
   "codemirror_mode": {
    "name": "ipython",
    "version": 3
   },
   "file_extension": ".py",
   "mimetype": "text/x-python",
   "name": "python",
   "nbconvert_exporter": "python",
   "pygments_lexer": "ipython3",
   "version": "3.8.3"
  }
 },
 "nbformat": 4,
 "nbformat_minor": 4
}
