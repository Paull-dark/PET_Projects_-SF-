{
 "cells": [
  {
   "cell_type": "code",
   "execution_count": 1,
   "metadata": {},
   "outputs": [
    {
     "data": {
      "text/plain": [
       "'Mozilla/5.0 (Windows NT 5.1) AppleWebKit/537.36 (KHTML, like Gecko) Chrome/36.0.1985.67 Safari/537.36'"
      ]
     },
     "execution_count": 1,
     "metadata": {},
     "output_type": "execute_result"
    }
   ],
   "source": [
    "import pandas as pd\n",
    "from fake_useragent import UserAgent\n",
    "import requests, json\n",
    "from bs4 import BeautifulSoup as BS\n",
    "from tqdm import tqdm\n",
    "UserAgent().chrome"
   ]
  },
  {
   "cell_type": "code",
   "execution_count": 13,
   "metadata": {},
   "outputs": [],
   "source": [
    "df = pd.read_csv('test.csv')"
   ]
  },
  {
   "cell_type": "code",
   "execution_count": null,
   "metadata": {
    "scrolled": true
   },
   "outputs": [],
   "source": [
    "df.head()"
   ]
  },
  {
   "cell_type": "code",
   "execution_count": 14,
   "metadata": {},
   "outputs": [
    {
     "data": {
      "text/plain": [
       "array(['SKODA', 'AUDI', 'HONDA', 'VOLVO', 'BMW', 'NISSAN', 'INFINITI',\n",
       "       'MERCEDES', 'TOYOTA', 'LEXUS', 'VOLKSWAGEN', 'MITSUBISHI'],\n",
       "      dtype=object)"
      ]
     },
     "execution_count": 14,
     "metadata": {},
     "output_type": "execute_result"
    }
   ],
   "source": [
    "df['brand'].unique()"
   ]
  },
  {
   "cell_type": "code",
   "execution_count": null,
   "metadata": {},
   "outputs": [],
   "source": [
    "# header = {'User-Agent': UserAgent().chrome}\n",
    "# header"
   ]
  },
  {
   "cell_type": "markdown",
   "metadata": {},
   "source": [
    "# Пиздим инфу (Пока одна марка)"
   ]
  },
  {
   "cell_type": "code",
   "execution_count": 2,
   "metadata": {},
   "outputs": [
    {
     "name": "stdout",
     "output_type": "stream",
     "text": [
      "{'Host': 'auto.ru', 'User-Agent': 'Mozilla/5.0 (Windows NT 10.0; Win64; x64; rv:88.0) Gecko/20100101 Firefox/88.0', 'Accept': '*/*', 'Accept-Language': 'ru-RU,ru;q=0.8,en-US;q=0.5,en;q=0.3', 'Accept-Encoding': 'gzip, deflate, br', 'Referer': 'https://auto.ru/cars/bmw/all/?page=3', 'x-client-app-version': 'bce8a8244b5', 'x-page-request-id': '328918ce0247597eaf5327bfb58fbbf0', 'x-client-date': '1621052424675', 'x-csrf-token': '46e8e9805b1aaeb0e7e8ed06e9e61db609f825f0374f514d', 'x-requested-with': 'fetch', 'content-type': 'application/json', 'Origin': 'https://auto.ru', 'Content-Length': '78', 'Connection': 'keep-alive', 'Cookie': 'autoru_sid=a%3Ag609e770a22hv5h9nuukn7hehqvu3kep.f63513a378b5f5c6208d35b64697caa2%7C1620997898875.604800.wyDgKeg1mlEd3UgRUP-bJA.67jb8JxaCRrLGKWbo9PTOIBxTdPMTL7-ErqZR1uTZ90; autoruuid=g609e770a22hv5h9nuukn7hehqvu3kep.f63513a378b5f5c6208d35b64697caa2; autoru_gdpr=1; suid=c18f94687848ae634a3e33b24dec6d0a.4fc40ee98cea6dd87fe788cb17ac994d; yuidlt=1; yandexuid=3854193761620997913; counter_ga_all7=2; crookie=An+ejc3GId86JbaHno+3yDpWbPhSpPl+/G5iLmug8RDpM4VJDMjLzHii5iDi/5MZT+TrlHvnUdD/Khj0WeuIogIWnpE=; cmtchd=MTYyMDk5NzkyNzY0NA==; _ym_uid=162099793885069073; _ym_d=1621052333; _ym_isad=2; cycada=1+Z/guXKzEVROtphAKfMJ/7TQUH18nTGnu0U0PuR/rk=; _ga=GA1.2.1678141264.1620998016; _gid=GA1.2.1513849119.1620998016; parts_ur=; _csrf_token=46e8e9805b1aaeb0e7e8ed06e9e61db609f825f0374f514d; from_lifetime=1621052333763; from=direct; X-Vertis-DC=vla; gdpr=0', 'Pragma': 'no-cache', 'Cache-Control': 'no-cache'}\n"
     ]
    }
   ],
   "source": [
    "# Запрос для получения json\n",
    "headers = '''\n",
    "Host: auto.ru\n",
    "User-Agent: Mozilla/5.0 (Windows NT 10.0; Win64; x64; rv:88.0) Gecko/20100101 Firefox/88.0\n",
    "Accept: */*\n",
    "Accept-Language: ru-RU,ru;q=0.8,en-US;q=0.5,en;q=0.3\n",
    "Accept-Encoding: gzip, deflate, br\n",
    "Referer: https://auto.ru/cars/bmw/all/?page=3\n",
    "x-client-app-version: bce8a8244b5\n",
    "x-page-request-id: 328918ce0247597eaf5327bfb58fbbf0\n",
    "x-client-date: 1621052424675\n",
    "x-csrf-token: 46e8e9805b1aaeb0e7e8ed06e9e61db609f825f0374f514d\n",
    "x-requested-with: fetch\n",
    "content-type: application/json\n",
    "Origin: https://auto.ru\n",
    "Content-Length: 78\n",
    "Connection: keep-alive\n",
    "Cookie: autoru_sid=a%3Ag609e770a22hv5h9nuukn7hehqvu3kep.f63513a378b5f5c6208d35b64697caa2%7C1620997898875.604800.wyDgKeg1mlEd3UgRUP-bJA.67jb8JxaCRrLGKWbo9PTOIBxTdPMTL7-ErqZR1uTZ90; autoruuid=g609e770a22hv5h9nuukn7hehqvu3kep.f63513a378b5f5c6208d35b64697caa2; autoru_gdpr=1; suid=c18f94687848ae634a3e33b24dec6d0a.4fc40ee98cea6dd87fe788cb17ac994d; yuidlt=1; yandexuid=3854193761620997913; counter_ga_all7=2; crookie=An+ejc3GId86JbaHno+3yDpWbPhSpPl+/G5iLmug8RDpM4VJDMjLzHii5iDi/5MZT+TrlHvnUdD/Khj0WeuIogIWnpE=; cmtchd=MTYyMDk5NzkyNzY0NA==; _ym_uid=162099793885069073; _ym_d=1621052333; _ym_isad=2; cycada=1+Z/guXKzEVROtphAKfMJ/7TQUH18nTGnu0U0PuR/rk=; _ga=GA1.2.1678141264.1620998016; _gid=GA1.2.1513849119.1620998016; parts_ur=; _csrf_token=46e8e9805b1aaeb0e7e8ed06e9e61db609f825f0374f514d; from_lifetime=1621052333763; from=direct; X-Vertis-DC=vla; gdpr=0\n",
    "Pragma: no-cache\n",
    "Cache-Control: no-cache\n",
    "'''.strip().split(\"\\n\")\n",
    "\n",
    "# Преоб. запроса в словарь\n",
    "dict_header = {}\n",
    "for header in headers:\n",
    "    key, value = header.split(': ')\n",
    "    dict_header[key] = value\n",
    "print(dict_header)"
   ]
  },
  {
   "cell_type": "code",
   "execution_count": 3,
   "metadata": {},
   "outputs": [],
   "source": [
    "# адрес спизженный из мозилы, где находится json file\n",
    "url = \"https://auto.ru/-/ajax/desktop/listing/\""
   ]
  },
  {
   "cell_type": "code",
   "execution_count": 4,
   "metadata": {},
   "outputs": [],
   "source": [
    "# offers_bmw = []"
   ]
  },
  {
   "cell_type": "code",
   "execution_count": 29,
   "metadata": {},
   "outputs": [],
   "source": [
    "# for x in range(1,100):\n",
    "#     param = {\"category\":\"cars\",\n",
    "#              \"section\":\"all\",\n",
    "#              \"page\":x,\n",
    "#              \"catalog_filter\":[{\"mark\":\"BMW\"}]} # Параметры где искать json \n",
    "#     response = requests.post(url, json=param, headers=dict_header) #  тырим json\n",
    "#     print(response.status_code) # Статус запроса\n",
    "#     data = response.json() # извлекаем стыренное\n",
    "#     offers_bmw.extend(data['offers']) # берем из json только оферы на тачки. Мусор не берем\n",
    "#     print(f'Current_page: {x}') # Стата по страницам\n",
    "\n",
    "# print('Спизжено')"
   ]
  },
  {
   "cell_type": "code",
   "execution_count": 27,
   "metadata": {},
   "outputs": [],
   "source": [
    "def parser(model,page_range):\n",
    "    offers = []\n",
    "    try:\n",
    "        for x in range(1,page_range):\n",
    "            param = {\"category\":\"cars\",\n",
    "                     \"section\":\"all\",\n",
    "                     \"page\":x,\n",
    "                     \"catalog_filter\":[{\"mark\":model}]}\n",
    "            response = requests.post(url, json=param, headers=dict_header) #  тырим json\n",
    "            print(response.status_code) # Статус запроса\n",
    "            data = response.json() # извлекаем стыренное\n",
    "            offers.extend(data['offers']) # берем из json только оферы на тачки. Мусор не берем\n",
    "            print(f'Current_page: {x}') # Стата по страницам\n",
    "    except:\n",
    "        print('Fail')\n",
    "    print('parsing_finished')\n",
    "    with open(f'data_{model}.json','w') as f:\n",
    "        json.dump(offers,f)\n",
    "    print('File is ready')"
   ]
  },
  {
   "cell_type": "code",
   "execution_count": 30,
   "metadata": {
    "scrolled": true
   },
   "outputs": [
    {
     "name": "stdout",
     "output_type": "stream",
     "text": [
      "200\n",
      "Current_page: 1\n",
      "200\n",
      "Current_page: 2\n",
      "200\n",
      "Current_page: 3\n",
      "200\n",
      "Current_page: 4\n",
      "200\n",
      "Current_page: 5\n",
      "200\n",
      "Current_page: 6\n",
      "200\n",
      "Current_page: 7\n",
      "200\n",
      "Current_page: 8\n",
      "200\n",
      "Current_page: 9\n",
      "200\n",
      "Current_page: 10\n",
      "200\n",
      "Current_page: 11\n",
      "200\n",
      "Current_page: 12\n",
      "200\n",
      "Current_page: 13\n",
      "200\n",
      "Current_page: 14\n",
      "200\n",
      "Current_page: 15\n",
      "200\n",
      "Current_page: 16\n",
      "200\n",
      "Current_page: 17\n",
      "200\n",
      "Current_page: 18\n",
      "200\n",
      "Current_page: 19\n",
      "200\n",
      "Current_page: 20\n",
      "200\n",
      "Current_page: 21\n",
      "200\n",
      "Current_page: 22\n",
      "200\n",
      "Current_page: 23\n",
      "200\n",
      "Current_page: 24\n",
      "200\n",
      "Current_page: 25\n",
      "200\n",
      "Current_page: 26\n",
      "200\n",
      "Current_page: 27\n",
      "200\n",
      "Current_page: 28\n",
      "200\n",
      "Current_page: 29\n",
      "200\n",
      "Current_page: 30\n",
      "200\n",
      "Current_page: 31\n",
      "200\n",
      "Current_page: 32\n",
      "200\n",
      "Current_page: 33\n",
      "200\n",
      "Current_page: 34\n",
      "200\n",
      "Current_page: 35\n",
      "200\n",
      "Current_page: 36\n",
      "200\n",
      "Current_page: 37\n",
      "200\n",
      "Current_page: 38\n",
      "200\n",
      "Current_page: 39\n",
      "200\n",
      "Current_page: 40\n",
      "200\n",
      "Current_page: 41\n",
      "200\n",
      "Current_page: 42\n",
      "200\n",
      "Current_page: 43\n",
      "200\n",
      "Current_page: 44\n",
      "200\n",
      "Current_page: 45\n",
      "200\n",
      "Current_page: 46\n",
      "200\n",
      "Current_page: 47\n",
      "200\n",
      "Current_page: 48\n",
      "200\n",
      "Current_page: 49\n",
      "200\n",
      "Current_page: 50\n",
      "200\n",
      "Current_page: 51\n",
      "200\n",
      "Current_page: 52\n",
      "200\n",
      "Current_page: 53\n",
      "200\n",
      "Current_page: 54\n",
      "200\n",
      "Current_page: 55\n",
      "200\n",
      "Current_page: 56\n",
      "200\n",
      "Current_page: 57\n",
      "200\n",
      "Current_page: 58\n",
      "200\n",
      "Current_page: 59\n",
      "200\n",
      "Current_page: 60\n",
      "200\n",
      "Current_page: 61\n",
      "200\n",
      "Current_page: 62\n",
      "200\n",
      "Current_page: 63\n",
      "200\n",
      "Current_page: 64\n",
      "200\n",
      "Current_page: 65\n",
      "200\n",
      "Current_page: 66\n",
      "200\n",
      "Current_page: 67\n",
      "200\n",
      "Current_page: 68\n",
      "200\n",
      "Current_page: 69\n",
      "200\n",
      "Current_page: 70\n",
      "200\n",
      "Current_page: 71\n",
      "200\n",
      "Current_page: 72\n",
      "200\n",
      "Current_page: 73\n",
      "200\n",
      "Current_page: 74\n",
      "200\n",
      "Current_page: 75\n",
      "200\n",
      "Current_page: 76\n",
      "200\n",
      "Current_page: 77\n",
      "200\n",
      "Current_page: 78\n",
      "200\n",
      "Current_page: 79\n",
      "200\n",
      "Current_page: 80\n",
      "200\n",
      "Current_page: 81\n",
      "200\n",
      "Current_page: 82\n",
      "200\n",
      "Current_page: 83\n",
      "200\n",
      "Current_page: 84\n",
      "200\n",
      "Current_page: 85\n",
      "200\n",
      "Current_page: 86\n",
      "200\n",
      "Current_page: 87\n",
      "200\n",
      "Current_page: 88\n",
      "200\n",
      "Current_page: 89\n",
      "200\n",
      "Current_page: 90\n",
      "200\n",
      "Current_page: 91\n",
      "200\n",
      "Current_page: 92\n",
      "200\n",
      "Current_page: 93\n",
      "200\n",
      "Current_page: 94\n",
      "200\n",
      "Current_page: 95\n",
      "200\n",
      "Current_page: 96\n",
      "200\n",
      "Current_page: 97\n",
      "200\n",
      "Current_page: 98\n",
      "200\n",
      "Current_page: 99\n",
      "parsing_finished\n",
      "File is ready\n"
     ]
    }
   ],
   "source": [
    "parser('SKODA',100)"
   ]
  },
  {
   "cell_type": "code",
   "execution_count": 25,
   "metadata": {},
   "outputs": [],
   "source": []
  },
  {
   "cell_type": "code",
   "execution_count": 26,
   "metadata": {},
   "outputs": [],
   "source": [
    "# # Сохр полученное\n",
    "# with open('data_BMW.json',\"w\") as f:\n",
    "#     json.dump(offers,f)"
   ]
  },
  {
   "cell_type": "code",
   "execution_count": 33,
   "metadata": {},
   "outputs": [],
   "source": [
    "# print(len(offers))"
   ]
  },
  {
   "cell_type": "code",
   "execution_count": 31,
   "metadata": {},
   "outputs": [],
   "source": [
    "with open ('data_BMW.json', 'r', encoding='utf8') as f:\n",
    "    data = json.load(f)"
   ]
  },
  {
   "cell_type": "code",
   "execution_count": 32,
   "metadata": {},
   "outputs": [
    {
     "name": "stdout",
     "output_type": "stream",
     "text": [
      "3701\n"
     ]
    }
   ],
   "source": [
    "print(len(data))"
   ]
  },
  {
   "cell_type": "code",
   "execution_count": null,
   "metadata": {},
   "outputs": [],
   "source": [
    "# # cмотрим что внутри\n",
    "# price = []\n",
    "# for offer in data:\n",
    "#     if offer['price_info']:\n",
    "#         print(offer['price_info'])"
   ]
  },
  {
   "cell_type": "code",
   "execution_count": null,
   "metadata": {},
   "outputs": [],
   "source": [
    "# price = []\n",
    "# for offer in data:\n",
    "#     if offer['price_info']:\n",
    "#         price.append(offer['price_info']['price'])"
   ]
  },
  {
   "cell_type": "markdown",
   "metadata": {},
   "source": [
    "# Обрабатываем спизженное"
   ]
  },
  {
   "cell_type": "code",
   "execution_count": null,
   "metadata": {},
   "outputs": [],
   "source": [
    "# def Get_car(parsed_json):\n",
    "#     body_type = []\n",
    "#     brand = []\n",
    "#     owner_color = []\n",
    "#     standard_color = []\n",
    "#     owner = []\n",
    "#     pts = []\n",
    "#     complectation = []\n",
    "#     description = []\n",
    "#     engineDisplacement = []\n",
    "#     enginePower = []\n",
    "#     equipment_dict = []\n",
    "#     lk_summary = []\n",
    "#     price_segment = []\n",
    "#     for vehicle in parsed_json:\n",
    "#         body_type.append(vehicle['vehicle_info']\n",
    "#                          ['configuration']['human_name'])\n",
    "#         brand.append(vehicle['vehicle_info']['mark_info']['name'])\n",
    "#         try:\n",
    "#             for x in vehicle['vehicle_info']['complectation']['vendor_colors']:\n",
    "#                 owner_color.append(x['name_ru'])\n",
    "#                 standard_color.append(x['color_type'])\n",
    "#         except:\n",
    "#             owner_color.append('NaN')\n",
    "#             standard_color.append('NaN')\n",
    "#         try:\n",
    "#             owner.append(vehicle['documents']['owners_number'])\n",
    "#             pts.append(vehicle['documents']['pts'])\n",
    "#             complectation.append(vehicle['vehicle_info']['complectation'])\n",
    "#             description.append(vehicle['description'])\n",
    "#             engineDisplacement.append(\n",
    "#                 vehicle['vehicle_info']['tech_param']['displacement'])\n",
    "#             enginePower.append(vehicle['vehicle_info']['tech_param']['power'])\n",
    "#             equipment_dict.append(vehicle['vehicle_info']['equipment'])\n",
    "#             price_segment.append(\n",
    "#                 vehicle['vehicle_info']['super_gen']['price_segment'])\n",
    "#             lk_summary.append(vehicle['lk_summary'])\n",
    "\n",
    "#         except:\n",
    "#             owner.append('NaN')\n",
    "#             pts.append('NaN')\n",
    "#             complectation.append('NaN')\n",
    "#             description.append('NaN')\n",
    "#             price_segment.append('NaN')\n",
    "#             engineDisplacement.append('NaN')\n",
    "#             equipment_dict.append('NaN')\n",
    "#             lk_summary.append('NaN')\n",
    "#             enginePower.append('NaN')\n",
    "\n",
    "#     # Тут потом вернуть все списки\n",
    "#     return body_type, brand, owner_color, standard_color, owner, pts, complectation, description, engineDisplacement, enginePower, lk_summary, price_segment"
   ]
  },
  {
   "cell_type": "code",
   "execution_count": 40,
   "metadata": {},
   "outputs": [
    {
     "name": "stdout",
     "output_type": "stream",
     "text": [
      "3684\n"
     ]
    }
   ],
   "source": [
    "with open ('data_SKODA.json', 'r', encoding='utf8') as f:\n",
    "    data = json.load(f)\n",
    "print(len(data))"
   ]
  },
  {
   "cell_type": "code",
   "execution_count": 36,
   "metadata": {},
   "outputs": [],
   "source": [
    "cols = ['bodyType', 'brand', 'car_url', 'color', 'complectation_dict',\n",
    "       'description', 'engineDisplacement', 'enginePower', 'equipment_dict',\n",
    "       'fuelType', 'image', 'mileage', 'modelDate', 'model_info', 'model_name',\n",
    "       'name', 'numberOfDoors', 'parsing_unixtime', 'priceCurrency',\n",
    "       'productionDate', 'sell_id', 'super_gen', 'vehicleConfiguration',\n",
    "       'vehicleTransmission', 'vendor', 'Владельцы', 'Владение', 'ПТС',\n",
    "       'Привод', 'Руль', 'Состояние', 'Таможня','price_segment','price']\n",
    "# df = pd.DataFrame(data=None,columns=cols,index = range(len(data)))"
   ]
  },
  {
   "cell_type": "code",
   "execution_count": 41,
   "metadata": {},
   "outputs": [],
   "source": [
    "def get_df(parsed_json):\n",
    "    NaN = np.nan\n",
    "    df = pd.DataFrame(data=None,columns=cols,index = range(len(data)))\n",
    "    \n",
    "    for i, vehicle in enumerate(parsed_json):\n",
    "        try:\n",
    "            for x in vehicle['vehicle_info']['complectation']['vendor_colors']:\n",
    "                \n",
    "                df.loc[i].color = x['name_ru']\n",
    "                df.loc[i].standard_color = x['color_type']\n",
    "        except:\n",
    "            df.loc[i].color = NaN\n",
    "            df.loc[i].standard_color = NaN\n",
    "        try:\n",
    "            df.loc[i].bodyType = vehicle['vehicle_info']['configuration']['human_name']\n",
    "            df.loc[i].brand = vehicle['vehicle_info']['mark_info']['name']\n",
    "            df.loc[i].complectation_dict = vehicle['vehicle_info']['complectation']\n",
    "            df.loc[i].description = vehicle['description']\n",
    "            df.loc[i].engineDisplacement = vehicle['vehicle_info']['tech_param']['displacement']\n",
    "            df.loc[i].enginePower = vehicle['vehicle_info']['tech_param']['power']\n",
    "            df.loc[i].equipment_dict = vehicle['vehicle_info']['equipment']\n",
    "            \n",
    "            df.loc[i].fuelType = vehicle['lk_summary'].split(',')[-1]\n",
    "            df.loc[i].image = vehicle['state']['image_urls'][0]['sizes']['1200x900n']\n",
    "            df.loc[i].mileage = vehicle['state']['mileage']\n",
    "            df.loc[i].modelDate = vehicle['vehicle_info']['super_gen']['year_from']\n",
    "            df.loc[i].model_info = vehicle['vehicle_info']['model_info']\n",
    "            df.loc[i].model_name = vehicle['vehicle_info']['model_info']['code']\n",
    "            df.loc[i].name = vehicle['lk_summary'] #!!!!!!!!!!!!!!!!!!!\n",
    "            df.loc[i].numberOfDoors = vehicle['vehicle_info']['configuration']['doors_count']\n",
    "            df.loc[i].parsing_unixtime = 'today'\n",
    "            df.loc[i].priceCurrency = vehicle['price_info']['currency']\n",
    "            df.loc[i].productionDate = vehicle['documents']['year']\n",
    "            df.loc[i].sell_id = vehicle['id']\n",
    "            df.loc[i].super_gen = vehicle['vehicle_info']['super_gen']\n",
    "            df.loc[i].vehicleConfiguration = 'useless_col'\n",
    "            df.loc[i].vehicleTransmission = vehicle['vehicle_info']['tech_param']['transmission']\n",
    "            df.loc[i].vendor = vehicle['vehicle_info']['vendor']\n",
    "            df.loc[i].Владельцы = vehicle['documents']['owners_number']\n",
    "            df.loc[i].Владение = 'useless_col'\n",
    "            df.loc[i].ПТС = vehicle['documents']['pts']\n",
    "            df.loc[i].Привод = vehicle['lk_summary'].split(',')[2]\n",
    "            df.loc[i].Состояние = vehicle['state']['state_not_beaten']\n",
    "            df.loc[i].Таможня = vehicle['documents']['custom_cleared']\n",
    "            df.loc[i].price_segment = vehicle['vehicle_info']['super_gen']['price_segment']\n",
    "            df.loc[i].price = vehicle['price_info']['price']\n",
    "\n",
    "        except:\n",
    "            df.loc[i].bodyType = NaN\n",
    "            df.loc[i].brand = NaN \n",
    "            df.loc[i].complectation_dict = NaN \n",
    "            df.loc[i].description = NaN \n",
    "            df.loc[i].engineDisplacement =  NaN\n",
    "            df.loc[i].enginePower =  NaN\n",
    "            df.loc[i].equipment_dict = NaN\n",
    "            df.loc[i].fuelType = NaN\n",
    "            df.loc[i].image =NaN\n",
    "            df.loc[i].mileage =NaN\n",
    "            df.loc[i].modelDate =NaN\n",
    "            df.loc[i].model_info =NaN\n",
    "            df.loc[i].model_name =NaN\n",
    "            df.loc[i].name = NaN\n",
    "            df.loc[i].numberOfDoors =NaN\n",
    "            df.loc[i].parsing_unixtime =NaN\n",
    "            df.loc[i].priceCurrency =NaN\n",
    "            df.loc[i].productionDate =NaN\n",
    "            df.loc[i].sell_id = NaN\n",
    "            df.loc[i].super_gen = NaN\n",
    "            df.loc[i].vehicleConfiguration = 'useless_col'\n",
    "            df.loc[i].vehicleTransmission = NaN\n",
    "            df.loc[i].vendor = NaN\n",
    "            df.loc[i].Владельцы = NaN\n",
    "            df.loc[i].Владение = 'useless_col'\n",
    "            df.loc[i].ПТС = NaN\n",
    "            df.loc[i].Привод = NaN\n",
    "            df.loc[i].Состояние = NaN\n",
    "            df.loc[i].Таможня = NaN\n",
    "            df.loc[i].price_segment = NaN\n",
    "            df.loc[i].price = NaN\n",
    "\n",
    "    return df"
   ]
  },
  {
   "cell_type": "code",
   "execution_count": 38,
   "metadata": {},
   "outputs": [],
   "source": [
    "df_BMW = get_df(data,df)"
   ]
  },
  {
   "cell_type": "code",
   "execution_count": 42,
   "metadata": {},
   "outputs": [],
   "source": [
    "df_SKODA = get_df(data)"
   ]
  },
  {
   "cell_type": "code",
   "execution_count": null,
   "metadata": {},
   "outputs": [],
   "source": []
  },
  {
   "cell_type": "code",
   "execution_count": null,
   "metadata": {},
   "outputs": [],
   "source": []
  },
  {
   "cell_type": "code",
   "execution_count": null,
   "metadata": {},
   "outputs": [],
   "source": []
  },
  {
   "cell_type": "code",
   "execution_count": null,
   "metadata": {},
   "outputs": [],
   "source": []
  },
  {
   "cell_type": "code",
   "execution_count": null,
   "metadata": {},
   "outputs": [],
   "source": []
  }
 ],
 "metadata": {
  "kernelspec": {
   "display_name": "Python 3",
   "language": "python",
   "name": "python3"
  },
  "language_info": {
   "codemirror_mode": {
    "name": "ipython",
    "version": 3
   },
   "file_extension": ".py",
   "mimetype": "text/x-python",
   "name": "python",
   "nbconvert_exporter": "python",
   "pygments_lexer": "ipython3",
   "version": "3.8.5"
  },
  "toc": {
   "base_numbering": 1,
   "nav_menu": {},
   "number_sections": true,
   "sideBar": true,
   "skip_h1_title": false,
   "title_cell": "Table of Contents",
   "title_sidebar": "Contents",
   "toc_cell": false,
   "toc_position": {},
   "toc_section_display": true,
   "toc_window_display": false
  },
  "varInspector": {
   "cols": {
    "lenName": 16,
    "lenType": 16,
    "lenVar": 40
   },
   "kernels_config": {
    "python": {
     "delete_cmd_postfix": "",
     "delete_cmd_prefix": "del ",
     "library": "var_list.py",
     "varRefreshCmd": "print(var_dic_list())"
    },
    "r": {
     "delete_cmd_postfix": ") ",
     "delete_cmd_prefix": "rm(",
     "library": "var_list.r",
     "varRefreshCmd": "cat(var_dic_list()) "
    }
   },
   "types_to_exclude": [
    "module",
    "function",
    "builtin_function_or_method",
    "instance",
    "_Feature"
   ],
   "window_display": false
  }
 },
 "nbformat": 4,
 "nbformat_minor": 4
}
