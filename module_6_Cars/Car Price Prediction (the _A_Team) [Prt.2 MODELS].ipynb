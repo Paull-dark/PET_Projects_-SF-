{
 "cells": [
  {
   "cell_type": "markdown",
   "metadata": {},
   "source": [
    "# Choose a Car Profitably [Car Price prediction] PART.2"
   ]
  },
  {
   "cell_type": "markdown",
   "metadata": {},
   "source": [
    "This work has made by Paul Krivchenia in cooperation with Vitaliy Burlakov (a.k.a Vetak8):\n",
    "#### [My GitHub](https://github.com/Paull-dark)\n",
    "#### [Vetak's GitHub](https://github.com/vetak8)\n",
    "#### [Vetak's Kaggle](https://www.kaggle.com/vitaliyburlakov)"
   ]
  },
  {
   "cell_type": "markdown",
   "metadata": {},
   "source": [
    "<img src = 'http://3.bp.blogspot.com/--knDCWYzMOw/UqzpwyctJeI/AAAAAAAAAT8/Ui66KNd1nXM/s1600/7egylh57hbhs.jpg' width= '400px'>"
   ]
  },
  {
   "cell_type": "markdown",
   "metadata": {},
   "source": [
    "<a id=\"sec2\"></a>\n",
    "# [INDEX](#sec2)\n",
    "\n",
    "<a id=\"sec1\"></a>\n",
    "1. [Description](#sec1)\n",
    "   * [1.1 Features Defination](#sec1.1)\n",
    "2. [INDEX](#sec2)\n",
    "3. [IMPORT LIBRARRIES](#sec3)\n",
    "4. [Functions and Classes](#sec4)\n",
    "5. [Load and Chek the Dataset](#sec5)"
   ]
  },
  {
   "cell_type": "markdown",
   "metadata": {},
   "source": [
    "<a id=\"sec2\"></a>\n",
    "# [Import LIBRARIES](#sec2)"
   ]
  },
  {
   "cell_type": "code",
   "execution_count": 1,
   "metadata": {},
   "outputs": [
    {
     "name": "stdout",
     "output_type": "stream",
     "text": [
      "body_type\n",
      "brand\n",
      "color\n",
      "complectation_dict\n",
      "description\n",
      "engine_displacement\n",
      "engine_power\n",
      "equipment_dict\n",
      "fuel_type\n",
      "image\n",
      "mileage\n",
      "model_date\n",
      "model_info\n",
      "model_name\n",
      "name\n",
      "doors_count\n",
      "price_currency\n",
      "production_date\n",
      "sell_id\n",
      "super_gen\n",
      "vehicle_configuration\n",
      "vehicle_transmission\n",
      "vendor\n",
      "owner_count\n",
      "owning_period\n",
      "car_passport\n",
      "wheel_drive\n",
      "wheel_location\n",
      "condition\n",
      "custom\n",
      "price\n",
      "sample\n"
     ]
    }
   ],
   "source": [
    "from Preprocessing import df_combined\n",
    "\n",
    "import pandas as pd\n",
    "import numpy as np\n",
    "import re\n",
    "import matplotlib.pyplot as plt\n",
    "import seaborn as sns\n",
    "import plotly.express as px\n",
    "import warnings\n",
    "from jupyterthemes import jtplot\n",
    "\n",
    "from textblob import TextBlob  # for sentiment analysis\n",
    "from wordcloud import WordCloud  # for creating cloud of words\n",
    "from sklearn.cluster import DBSCAN\n",
    "\n",
    "from sklearn.decomposition import PCA \n",
    "from sklearn.preprocessing import LabelEncoder, OneHotEncoder\n",
    "from sklearn.preprocessing import StandardScaler, RobustScaler\n",
    "from sklearn.model_selection import train_test_split\n",
    "from sklearn.metrics import mean_absolute_error, mean_squared_error\n",
    "\n",
    "from sklearn.ensemble import ExtraTreesRegressor, RandomForestRegressor\n",
    "from xgboost import XGBRFRegressor\n",
    "\n",
    "\n",
    "warnings.filterwarnings(\"ignore\")\n",
    "\n",
    "%matplotlib inline\n",
    "pd.set_option('display.max_rows', 50)  # Show more rows\n",
    "pd.set_option('display.max_columns', 50)  # Show more columns\n",
    "plt.style.use('ggplot')  # Nice plotting\n",
    "\n",
    "jtplot.style(theme='monokai', context='notebook', ticks=True, grid=False)"
   ]
  },
  {
   "cell_type": "code",
   "execution_count": 2,
   "metadata": {},
   "outputs": [
    {
     "data": {
      "image/png": "[encoded data removed]",
      "text/plain": [
       "<Figure size 360x72 with 1 Axes>"
      ]
     },
     "metadata": {},
     "output_type": "display_data"
    }
   ],
   "source": [
    "# Set project colors\n",
    "colors = ['#001c57', '#50248f', '#a6a6a6', '#38d1ff','#cc3181']\n",
    "sns.palplot(sns.color_palette(colors))"
   ]
  },
  {
   "cell_type": "markdown",
   "metadata": {},
   "source": [
    "<a id=\"sec4\"></a>\n",
    "# [FUNCTIONS and CLASSES](#sec4)\n",
    "[(INDEX)](#sec2)"
   ]
  },
  {
   "cell_type": "markdown",
   "metadata": {},
   "source": [
    "<a id=\"sec4\"></a>\n",
    "## [GENERAL FUNCTIONS](#sec4)\n",
    "[(INDEX)](#sec2)"
   ]
  },
  {
   "cell_type": "code",
   "execution_count": 3,
   "metadata": {},
   "outputs": [],
   "source": [
    "def missing_vars(data, column, random_proba=True):\n",
    "    '''Function is called for filling of missing data'''\n",
    "    # With using probability and random choise\n",
    "\n",
    "    if random_proba:\n",
    "        col_name = data[column].value_counts().index.to_list(\n",
    "        )  # get list of values\n",
    "        col_distr = data[column].value_counts(\n",
    "            normalize=True).values  # get l;ist of probs\n",
    "        missing = data[col].isnull()  # flag of missing val\n",
    "        # substitute values from the list of names in accordance with the probability of meeting the name\n",
    "        data.loc[missing, [column]] = np.random.choice(col_name,\n",
    "                                                    size=len(data[missing]),\n",
    "                                                    p=col_distr)\n",
    "\n",
    "    # Using  most common in  column\n",
    "    data[col] = data[col].fillna(data[col].value_counts().index[0])"
   ]
  },
  {
   "cell_type": "code",
   "execution_count": 4,
   "metadata": {},
   "outputs": [],
   "source": [
    "def get_variable_distribution(col, title=None):\n",
    "    '''Function is called to plot feture distribution'''\n",
    "\n",
    "    title = title if title is not None else f\"Distribution for '{col}\"\n",
    "    fig, (ax1, ax2, ax3) = plt.subplots(1, 3, figsize=(15, 5),)\n",
    "    fig = sm.qqplot(col, fit=True, line='45', ax=ax1)\n",
    "    fig.suptitle(title, fontsize=20)\n",
    "\n",
    "    sns.distplot(col.values, bins=20, color=colors[1], ax=ax2)\n",
    "#     sns.violinplot(col.values, color=colors[3], bw=.3, cut=1, linewidth=4)\n",
    "    sns.boxplot(col.values,color=colors[3])\n",
    "\n",
    "    ax1.set_title('QQ-plot')\n",
    "    ax2.set_title('Distribution')\n",
    "    ax3.set_title('Boxplot')\n",
    "\n",
    "    plt.show()"
   ]
  },
  {
   "cell_type": "code",
   "execution_count": 5,
   "metadata": {},
   "outputs": [],
   "source": [
    "def corr_matrix(data, det=True, pltx=10, plty=10):\n",
    "    '''Funcion is called for making correlation matrix'''\n",
    "\n",
    "    corr = data.corr()\n",
    "    if det:\n",
    "\n",
    "        evals, evec = np.linalg.eig(corr)\n",
    "        ev_product = np.prod(evals)\n",
    "\n",
    "        print(f'Rank of Matrix: {np.linalg.matrix_rank(corr)}')\n",
    "        print(f'Determinant of matrix: {np.round(ev_product,4)}')\n",
    "        print(f'Shape of matrix: {np.shape(corr)}')\n",
    "\n",
    "    plt.figure(figsize=(pltx, plty))\n",
    "    sns.heatmap(corr[(corr >= .2) | (corr <= -.2)],\n",
    "                cmap='viridis',\n",
    "                vmin=-1.0,\n",
    "                linewidths=0.1,\n",
    "                annot=True,\n",
    "                annot_kws={\"size\": 10},\n",
    "                square=True)\n",
    "    #     sns.heatmap(X,vmin=0,vmax=.9,annot=True,square=True)\n",
    "    plt.show()"
   ]
  },
  {
   "cell_type": "code",
   "execution_count": 6,
   "metadata": {},
   "outputs": [],
   "source": [
    "def cleanTxt(text):\n",
    "    '''Function is called for cleaning text from trash\n",
    "    INPUT: dirty string\n",
    "    OUTPUT: More or less clean string'''\n",
    "\n",
    "    text = re.sub(r'@[А-Яа-я0-9]+', '', text)  # Remove @\n",
    "    text = re.sub(r'#', '', text)  # remove #\n",
    "    text = re.sub(r'{', '', text)\n",
    "    text = re.sub(r'}', '', text)\n",
    "    text = re.sub('^а-яА-Я', ' ', text)\n",
    "    text = re.sub(r'https?:\\/\\/\\S+', '', text)  # remove hyperlink\n",
    "    text = re.sub(r'\\n', '', text)\n",
    "    text = re.sub(r'👍🏻', '', text)\n",
    "    # there are much more emoji. I don't know how to identify them so far\n",
    "\n",
    "    text = text.lower()\n",
    "    text = text.strip()\n",
    "    #text = text.split()\n",
    "    return text"
   ]
  },
  {
   "cell_type": "code",
   "execution_count": 7,
   "metadata": {},
   "outputs": [],
   "source": [
    "def to_log(df, cols_to_log):\n",
    "    for col in cols_to_log:\n",
    "        a = df[col].min()\n",
    "        if a <= 0:                        \n",
    "            df[col] = np.log(df[col] + (int(abs(df[col].min()))+2))\n",
    "        \n",
    "        df[col] = np.log(df[col])\n",
    "    return df"
   ]
  },
  {
   "cell_type": "code",
   "execution_count": 8,
   "metadata": {},
   "outputs": [],
   "source": [
    "# Defining MAPE function since it was removed from sklearn\n",
    "def mape(y_true, y_pred): \n",
    "    y_true, y_pred = np.array(y_true), np.array(y_pred)\n",
    "    return np.mean(np.abs((y_true - y_pred) / y_true) * 100)"
   ]
  },
  {
   "cell_type": "code",
   "execution_count": 9,
   "metadata": {},
   "outputs": [],
   "source": [
    "def get_regression_metrics(report_df, model, X_test, y_test, name):\n",
    "    '''Create and add metrics into a pandas DF after experiment'''\n",
    "\n",
    "    report = pd.DataFrame(columns={'MAPE'}, data=[0])\n",
    "    try:\n",
    "        report['MAPE'] = mape(y_test,model.predict(X_test))\n",
    "    except:\n",
    "        report['MAPE'] = 'Fuck'\n",
    "    report['MAE'] = mean_absolute_error(y_test, model.predict(X_test))\n",
    "    report['MSE'] = mean_squared_error(y_test, model.predict(X_test))\n",
    "    report['RMSE'] = np.sqrt(mean_squared_error(y_test, model.predict(X_test)))\n",
    "\n",
    "    report.index = [name]\n",
    "    report_df = report_df.append(report)\n",
    "    return report_df"
   ]
  },
  {
   "cell_type": "markdown",
   "metadata": {},
   "source": [
    "<a id=\"sec4\"></a>\n",
    "## [Classes](#sec4)\n",
    "[(INDEX)](#sec2)"
   ]
  },
  {
   "cell_type": "code",
   "execution_count": 10,
   "metadata": {},
   "outputs": [],
   "source": [
    "class Encoder():\n",
    "    def __init__(self, dataframe):\n",
    "        self.dataframe = dataframe\n",
    "\n",
    "    def label_encoder(self, column):\n",
    "        le = LabelEncoder()\n",
    "        self.dataframe[column] = le.fit_transform(self.dataframe[column])\n",
    "\n",
    "    def hot_encoder(self, column):\n",
    "        ohe = OneHotEncoder(handle_unknown='ignore', sparse=False)\n",
    "        aux_df = pd.DataFrame(ohe.fit_transform(self.dataframe[[column]]))\n",
    "        aux_df.columns = ohe.get_feature_names([f'hot_{column}'])\n",
    "        self.dataframe = self.dataframe.drop(col, axis=1)\n",
    "        self.dataframe = pd.concat([self.dataframe, aux_df], axis=1)\n",
    "        return self.dataframe"
   ]
  },
  {
   "cell_type": "code",
   "execution_count": 11,
   "metadata": {},
   "outputs": [],
   "source": [
    "class Outliers_detector():\n",
    "    def __init__(self, df):\n",
    "        self.df = df\n",
    "\n",
    "    def get_IQR_outliers(self, column):\n",
    "        '''Method is called to detect IQR outliers'''\n",
    "        outliers = dict()\n",
    "        q1, q3 = np.percentile(sorted(self.df[column]), [25, 75])\n",
    "\n",
    "        IQR = q3 - q1\n",
    "\n",
    "        l_b = q1 - (1.5 * IQR)  # lower bound\n",
    "        u_b = q3 + (1.5 * IQR)  # upper bound\n",
    "        outl_count = len(self.df[column][self.df[column] < l_b]) + len(\n",
    "            self.df[column][self.df[column] > u_b])\n",
    "\n",
    "        outliers['lower_bound'] = round(l_b, 3)\n",
    "        outliers['upper_bound'] = round(u_b, 3)\n",
    "        outliers['outlier_count'] = outl_count\n",
    "\n",
    "        return outliers\n",
    "\n",
    "    def get_dbscan_outliers(self, column1, column2, dbscan_eps,\n",
    "                            dbscan_minsample, cluster_num):\n",
    "        '''Method is called for detecting outliers for two columns by dbscan'''\n",
    "\n",
    "        scaler = RobustScaler()\n",
    "        scale_column1 = scaler.fit_transform(pd.DataFrame(\n",
    "            self.df[column1])).reshape(1, -1)[0]\n",
    "        scale_column2 = scaler.fit_transform(pd.DataFrame(\n",
    "            self.df[column2])).reshape(1, -1)[0]\n",
    "        df_temp = pd.DataFrame({\n",
    "            'column1': scale_column1,\n",
    "            'column2': scale_column2\n",
    "        })\n",
    "        clustering = DBSCAN(eps=dbscan_eps,\n",
    "                            min_samples=dbscan_minsample).fit(df_temp.values)\n",
    "        df_temp[\"cluster\"] = clustering.labels_\n",
    "        df_temp.index = self.df.index\n",
    "        fig = px.scatter(self.df,\n",
    "                   x=scale_column1,\n",
    "                   y=scale_column2,\n",
    "                   color=clustering.labels_,\n",
    "                   size=column2)\n",
    "        # Edit the layout\n",
    "        fig.update_layout(title='Detected Custers\\n')\n",
    "        fig.update_xaxes(title=(f'{column1}'))\n",
    "        fig.update_yaxes(title=(f'{column2}'))\n",
    "        fig.update_layout(width = 700)\n",
    "        fig.update_layout(height = 600)\n",
    "        \n",
    "        fig.show()\n",
    "        #         sns.scatterplot(scale_column1, scale_column2,\n",
    "        #                         hue=clustering.labels_, alpha=0.5)\n",
    "        #         plt.title('CLUSTERS\\n', fontsize=15)\n",
    "        #         plt.xlabel(f'{column1}')\n",
    "        #         plt.ylabel(f'{column2}')\n",
    "        return df_temp[df_temp[\"cluster\"] == cluster_num].index"
   ]
  },
  {
   "cell_type": "code",
   "execution_count": null,
   "metadata": {},
   "outputs": [],
   "source": []
  },
  {
   "cell_type": "code",
   "execution_count": null,
   "metadata": {},
   "outputs": [],
   "source": []
  },
  {
   "cell_type": "markdown",
   "metadata": {},
   "source": [
    "<a id=\"sec4\"></a>\n",
    "## [FUNCTIONS FOR FEATURE ENGINEERING](#sec4)\n",
    "[(INDEX)](#sec2)"
   ]
  },
  {
   "cell_type": "code",
   "execution_count": 12,
   "metadata": {},
   "outputs": [],
   "source": [
    "def get_tax_category(engine_power):\n",
    "    '''Function breaks down the number of horse\n",
    "    power by taxation category in Russia'''\n",
    "\n",
    "    if engine_power <= 100:\n",
    "        return int(1)\n",
    "    elif 100 < engine_power <= 150:\n",
    "        return int(2)\n",
    "    elif 150 < engine_power <= 200:\n",
    "        return int(3)\n",
    "    elif 200 < engine_power <= 250:\n",
    "        return int(4)\n",
    "    elif engine_power > 250:\n",
    "        return int(5)\n",
    "\n",
    "\n",
    "def get_low_registr(word):\n",
    "    '''Get lowercase for string'''\n",
    "    try:\n",
    "        return word.lower()\n",
    "    except:\n",
    "        return None\n",
    "    \n",
    "def get_i3_displacement(engine_displacement, fuel_type, model_name):\n",
    "    '''fill mising values for  BMW i3'''\n",
    "    \n",
    "    if model_name == 'i3':\n",
    "        if fuel_type == 'гибрид':\n",
    "            return 0.7\n",
    "        else:\n",
    "            return 0\n",
    "    else:\n",
    "        return engine_displacement\n",
    "\n",
    "def get_electro_displacement(engine_displacement, fuel_type):\n",
    "    '''Filling mising vars for electrocars'''\n",
    "    \n",
    "    if fuel_type == 'электро':\n",
    "        return 0\n",
    "    else:\n",
    "        return engine_displacement\n",
    "    \n",
    "def get_acceleration(string):\n",
    "    '''Function extracting acceleration'''\n",
    "    \n",
    "    try:\n",
    "        return float(re.split(',', re.split('acceleration\\W+', str(string))[1])[0])\n",
    "    except:\n",
    "        return None\n",
    "    \n",
    "def get_fuel_rate(string):\n",
    "    '''Extrating fuel rate'''\n",
    "    try:\n",
    "        return float(re.split(',', re.split('fuel_rate\\W+', str(string))[1])[0])\n",
    "\n",
    "    except:\n",
    "        return None"
   ]
  },
  {
   "cell_type": "markdown",
   "metadata": {},
   "source": [
    "<a id=\"sec5\"></a>\n",
    "# [5.Load and Chek the Dataset](#sec5)\n",
    "[(INDEX)](#sec2)"
   ]
  },
  {
   "cell_type": "code",
   "execution_count": 13,
   "metadata": {
    "scrolled": false
   },
   "outputs": [
    {
     "data": {
      "text/html": [
       "<div>\n",
       "<style scoped>\n",
       "    .dataframe tbody tr th:only-of-type {\n",
       "        vertical-align: middle;\n",
       "    }\n",
       "\n",
       "    .dataframe tbody tr th {\n",
       "        vertical-align: top;\n",
       "    }\n",
       "\n",
       "    .dataframe thead th {\n",
       "        text-align: right;\n",
       "    }\n",
       "</style>\n",
       "<table border=\"1\" class=\"dataframe\">\n",
       "  <thead>\n",
       "    <tr style=\"text-align: right;\">\n",
       "      <th></th>\n",
       "      <th>body_type</th>\n",
       "      <th>brand</th>\n",
       "      <th>color</th>\n",
       "      <th>complectation_dict</th>\n",
       "      <th>description</th>\n",
       "      <th>engine_displacement</th>\n",
       "      <th>engine_power</th>\n",
       "      <th>equipment_dict</th>\n",
       "      <th>fuel_type</th>\n",
       "      <th>image</th>\n",
       "      <th>mileage</th>\n",
       "      <th>model_date</th>\n",
       "      <th>model_info</th>\n",
       "      <th>model_name</th>\n",
       "      <th>name</th>\n",
       "      <th>doors_count</th>\n",
       "      <th>price_currency</th>\n",
       "      <th>production_date</th>\n",
       "      <th>sell_id</th>\n",
       "      <th>super_gen</th>\n",
       "      <th>vehicle_configuration</th>\n",
       "      <th>vehicle_transmission</th>\n",
       "      <th>vendor</th>\n",
       "      <th>owner_count</th>\n",
       "      <th>owning_period</th>\n",
       "      <th>car_passport</th>\n",
       "      <th>wheel_drive</th>\n",
       "      <th>wheel_location</th>\n",
       "      <th>condition</th>\n",
       "      <th>custom</th>\n",
       "      <th>price</th>\n",
       "      <th>sample</th>\n",
       "    </tr>\n",
       "  </thead>\n",
       "  <tbody>\n",
       "    <tr>\n",
       "      <th>42381</th>\n",
       "      <td>внедорожник 5 дв</td>\n",
       "      <td>BMW</td>\n",
       "      <td>белый</td>\n",
       "      <td>{'id': '0'}</td>\n",
       "      <td>Официальный дилерский центр РОЛЬФ Сити | Автом...</td>\n",
       "      <td>3.0</td>\n",
       "      <td>249.0</td>\n",
       "      <td>{'cruise-control': True, 'asr': True, 'usb': T...</td>\n",
       "      <td>дизель</td>\n",
       "      <td>//avatars.mds.yandex.net/get-autoru-vos/198435...</td>\n",
       "      <td>95047</td>\n",
       "      <td>2014</td>\n",
       "      <td>{'code': 'X6', 'name': 'X6', 'ru_name': 'Х6', ...</td>\n",
       "      <td>X6</td>\n",
       "      <td>30d 3.0d AT (249 л.с.) 4WD</td>\n",
       "      <td>5</td>\n",
       "      <td>RUB</td>\n",
       "      <td>2018</td>\n",
       "      <td>1103001587</td>\n",
       "      <td>{'id': '20158772', 'name': '30d', 'nameplate':...</td>\n",
       "      <td>useless_col</td>\n",
       "      <td>AUTOMATIC</td>\n",
       "      <td>EUROPEAN</td>\n",
       "      <td>1</td>\n",
       "      <td>NaN</td>\n",
       "      <td>ORIGINAL</td>\n",
       "      <td>полный</td>\n",
       "      <td>LEFT</td>\n",
       "      <td>True</td>\n",
       "      <td>True</td>\n",
       "      <td>3816000.0</td>\n",
       "      <td>1</td>\n",
       "    </tr>\n",
       "    <tr>\n",
       "      <th>114791</th>\n",
       "      <td>пикап двойная кабина</td>\n",
       "      <td>Mitsubishi</td>\n",
       "      <td>чёрный</td>\n",
       "      <td>{'id': '0'}</td>\n",
       "      <td>Mitsubishi l200 номер 1 среди пикапов в РФ. Пр...</td>\n",
       "      <td>2.4</td>\n",
       "      <td>154.0</td>\n",
       "      <td>{'engine-proof': True, 'cruise-control': True,...</td>\n",
       "      <td>дизель</td>\n",
       "      <td>//avatars.mds.yandex.net/get-autoru-vos/492846...</td>\n",
       "      <td>185000</td>\n",
       "      <td>2015</td>\n",
       "      <td>{'code': 'L200', 'name': 'L200', 'ru_name': 'Л...</td>\n",
       "      <td>L200</td>\n",
       "      <td>2.4d AT (154 л.с.) 4WD</td>\n",
       "      <td>4</td>\n",
       "      <td>RUB</td>\n",
       "      <td>2015</td>\n",
       "      <td>1103497180</td>\n",
       "      <td>{'id': '20680649', 'displacement': 2442, 'engi...</td>\n",
       "      <td>useless_col</td>\n",
       "      <td>AUTOMATIC</td>\n",
       "      <td>JAPANESE</td>\n",
       "      <td>2</td>\n",
       "      <td>NaN</td>\n",
       "      <td>ORIGINAL</td>\n",
       "      <td>полный</td>\n",
       "      <td>LEFT</td>\n",
       "      <td>True</td>\n",
       "      <td>True</td>\n",
       "      <td>1550000.0</td>\n",
       "      <td>1</td>\n",
       "    </tr>\n",
       "  </tbody>\n",
       "</table>\n",
       "</div>"
      ],
      "text/plain": [
       "                   body_type       brand   color complectation_dict  \\\n",
       "42381       внедорожник 5 дв         BMW   белый        {'id': '0'}   \n",
       "114791  пикап двойная кабина  Mitsubishi  чёрный        {'id': '0'}   \n",
       "\n",
       "                                              description  \\\n",
       "42381   Официальный дилерский центр РОЛЬФ Сити | Автом...   \n",
       "114791  Mitsubishi l200 номер 1 среди пикапов в РФ. Пр...   \n",
       "\n",
       "        engine_displacement  engine_power  \\\n",
       "42381                   3.0         249.0   \n",
       "114791                  2.4         154.0   \n",
       "\n",
       "                                           equipment_dict fuel_type  \\\n",
       "42381   {'cruise-control': True, 'asr': True, 'usb': T...    дизель   \n",
       "114791  {'engine-proof': True, 'cruise-control': True,...    дизель   \n",
       "\n",
       "                                                    image  mileage  \\\n",
       "42381   //avatars.mds.yandex.net/get-autoru-vos/198435...    95047   \n",
       "114791  //avatars.mds.yandex.net/get-autoru-vos/492846...   185000   \n",
       "\n",
       "        model_date                                         model_info  \\\n",
       "42381         2014  {'code': 'X6', 'name': 'X6', 'ru_name': 'Х6', ...   \n",
       "114791        2015  {'code': 'L200', 'name': 'L200', 'ru_name': 'Л...   \n",
       "\n",
       "       model_name                        name  doors_count price_currency  \\\n",
       "42381          X6  30d 3.0d AT (249 л.с.) 4WD            5            RUB   \n",
       "114791       L200      2.4d AT (154 л.с.) 4WD            4            RUB   \n",
       "\n",
       "        production_date     sell_id  \\\n",
       "42381              2018  1103001587   \n",
       "114791             2015  1103497180   \n",
       "\n",
       "                                                super_gen  \\\n",
       "42381   {'id': '20158772', 'name': '30d', 'nameplate':...   \n",
       "114791  {'id': '20680649', 'displacement': 2442, 'engi...   \n",
       "\n",
       "       vehicle_configuration vehicle_transmission    vendor owner_count  \\\n",
       "42381            useless_col            AUTOMATIC  EUROPEAN           1   \n",
       "114791           useless_col            AUTOMATIC  JAPANESE           2   \n",
       "\n",
       "       owning_period car_passport wheel_drive wheel_location condition custom  \\\n",
       "42381            NaN     ORIGINAL      полный           LEFT      True   True   \n",
       "114791           NaN     ORIGINAL      полный           LEFT      True   True   \n",
       "\n",
       "            price  sample  \n",
       "42381   3816000.0       1  \n",
       "114791  1550000.0       1  "
      ]
     },
     "execution_count": 13,
     "metadata": {},
     "output_type": "execute_result"
    }
   ],
   "source": [
    "# import data pre-processed data set\n",
    "df = df_combined.copy()\n",
    "df.sample(2)"
   ]
  },
  {
   "cell_type": "markdown",
   "metadata": {},
   "source": [
    "<a id=\"sec6\"></a>\n",
    "# [9.FETAURE ENGINEERING](#sec6)\n",
    "[(INDEX)](#sec2)"
   ]
  },
  {
   "cell_type": "markdown",
   "metadata": {},
   "source": [
    "Get lowercase"
   ]
  },
  {
   "cell_type": "code",
   "execution_count": 14,
   "metadata": {},
   "outputs": [],
   "source": [
    "# take cols with objects\n",
    "object_columns = df.dtypes[df.dtypes.values == object].index.to_list()\n",
    "\n",
    "for col in object_columns:\n",
    "    df[col] = df[col].apply(lambda string: get_low_registr(string))"
   ]
  },
  {
   "cell_type": "markdown",
   "metadata": {},
   "source": [
    "<a id=\"sec6\"></a>\n",
    "## [Target](#sec6)\n",
    "[(INDEX)](#sec2)"
   ]
  },
  {
   "cell_type": "markdown",
   "metadata": {},
   "source": [
    "Drop rows with car price more than 30 mlns."
   ]
  },
  {
   "cell_type": "code",
   "execution_count": 15,
   "metadata": {},
   "outputs": [],
   "source": [
    "idx_to_drop = list(df[df['price'] >= 30000000].index)\n",
    "df=df.drop(idx_to_drop)"
   ]
  },
  {
   "cell_type": "markdown",
   "metadata": {},
   "source": [
    "Drop rows with missing values"
   ]
  },
  {
   "cell_type": "code",
   "execution_count": 16,
   "metadata": {},
   "outputs": [
    {
     "data": {
      "text/plain": [
       "624"
      ]
     },
     "execution_count": 16,
     "metadata": {},
     "output_type": "execute_result"
    }
   ],
   "source": [
    "df.query('sample == 1')['price'].isna().sum()"
   ]
  },
  {
   "cell_type": "code",
   "execution_count": 17,
   "metadata": {},
   "outputs": [],
   "source": [
    "indexes_to_drop = df[(df['price'].isna()) & (df['sample']==1)].index\n",
    "df = df.drop(indexes_to_drop)"
   ]
  },
  {
   "cell_type": "markdown",
   "metadata": {},
   "source": [
    "<a id=\"sec6\"></a>\n",
    "## [body_type](#sec6)\n",
    "[(INDEX)](#sec2)"
   ]
  },
  {
   "cell_type": "markdown",
   "metadata": {},
   "source": [
    "Reduce quantity of body_types"
   ]
  },
  {
   "cell_type": "code",
   "execution_count": 18,
   "metadata": {},
   "outputs": [],
   "source": [
    "pattern = re.compile('[а-я]*')\n",
    "new_column = []\n",
    "for string in df['body_type']:\n",
    "    new_column.append(pattern.match(str(string))[0])\n",
    "df['body_type'] = new_column"
   ]
  },
  {
   "cell_type": "code",
   "execution_count": 19,
   "metadata": {},
   "outputs": [],
   "source": [
    "# Create list with top colors\n",
    "top_colors = df['body_type'].value_counts()[df['body_type'].value_counts(\n",
    ") > np.percentile((df['body_type'].value_counts().values), 70)].index.tolist()\n",
    "\n",
    "#take all colors from df to a list\n",
    "all_colors = df['body_type'].value_counts().index\n",
    "\n",
    "# Identify, what to delete\n",
    "colors_to_drop = set(all_colors) - set(top_colors)\n",
    "\n",
    "# Make replacemewnt\n",
    "df.loc[df['body_type'].isin(colors_to_drop), 'body_type'] = 'other'"
   ]
  },
  {
   "cell_type": "code",
   "execution_count": 20,
   "metadata": {},
   "outputs": [
    {
     "data": {
      "text/plain": [
       "седан          66648\n",
       "внедорожник    63983\n",
       "хэтчбек        16791\n",
       "other          14990\n",
       "лифтбек         9291\n",
       "универсал       7030\n",
       "Name: body_type, dtype: int64"
      ]
     },
     "execution_count": 20,
     "metadata": {},
     "output_type": "execute_result"
    }
   ],
   "source": [
    "df['body_type'].value_counts()"
   ]
  },
  {
   "cell_type": "markdown",
   "metadata": {},
   "source": [
    "<a id=\"sec6\"></a>\n",
    "## [color](#sec6)\n",
    "[(INDEX)](#sec2)"
   ]
  },
  {
   "cell_type": "markdown",
   "metadata": {},
   "source": [
    "With a reference to EDA section we generate new feature to show whether the color is popular.\n",
    "\n",
    "Meanwhile we re-orgasnize colors in original column by taking only most common colors"
   ]
  },
  {
   "cell_type": "code",
   "execution_count": 21,
   "metadata": {},
   "outputs": [],
   "source": [
    "# List of top3 colors (see EDA)\n",
    "popular_color = ['чёрный', 'белый', 'серый']\n",
    "df['popular_color'] = df['color'].apply(\n",
    "    lambda color: 1 if color in popular_color else 0)"
   ]
  },
  {
   "cell_type": "code",
   "execution_count": 22,
   "metadata": {},
   "outputs": [],
   "source": [
    "# Create list with top colors\n",
    "top_colors = df['color'].value_counts()[df['color'].value_counts(\n",
    ") > np.percentile((df['color'].value_counts().values), 70)].index.tolist()\n",
    "\n",
    "#take all colors from df to a list\n",
    "all_colors = df['color'].value_counts().index\n",
    "\n",
    "# Identify, what to delete\n",
    "colors_to_drop = set(all_colors) - set(top_colors)\n",
    "\n",
    "# Make replacemewnt\n",
    "df.loc[df['color'].isin(colors_to_drop), 'color'] = 'other'"
   ]
  },
  {
   "cell_type": "markdown",
   "metadata": {},
   "source": [
    "<a id=\"sec6\"></a>\n",
    "## [Model_name](#sec6)\n",
    "[(INDEX)](#sec2)"
   ]
  },
  {
   "cell_type": "code",
   "execution_count": null,
   "metadata": {},
   "outputs": [],
   "source": []
  },
  {
   "cell_type": "markdown",
   "metadata": {},
   "source": [
    "<a id=\"sec6\"></a>\n",
    "## [Description](#sec6)\n",
    "[(INDEX)](#sec2)"
   ]
  },
  {
   "cell_type": "markdown",
   "metadata": {},
   "source": [
    "Let's generate new features:\n",
    "- Sensitivity and polarity for the description column"
   ]
  },
  {
   "cell_type": "code",
   "execution_count": 23,
   "metadata": {},
   "outputs": [],
   "source": [
    "df['description'] = df['description'].fillna('none')\n",
    "df['description'] = df['description'].apply(cleanTxt)"
   ]
  },
  {
   "cell_type": "code",
   "execution_count": 24,
   "metadata": {},
   "outputs": [],
   "source": [
    "# Create a function to get the subjectivity\n",
    "def get_subjectivity(text):\n",
    "    return TextBlob(text).sentiment.subjectivity\n",
    "\n",
    "# Create a function to get the polarity\n",
    "def get_polarity(text):\n",
    "    return TextBlob(text).sentiment.polarity"
   ]
  },
  {
   "cell_type": "code",
   "execution_count": 25,
   "metadata": {},
   "outputs": [],
   "source": [
    "# %%script false\n",
    "# Create new cols and call the func\n",
    "\n",
    "df['subjectivity'] = df['description'].apply(get_subjectivity)\n",
    "\n",
    "df['polarity'] = df['description'].apply(get_polarity)\n"
   ]
  },
  {
   "cell_type": "code",
   "execution_count": 26,
   "metadata": {},
   "outputs": [],
   "source": [
    "# Create a function to compute the negative, neutral and positive analysis\n",
    "def get_analysis(score):\n",
    "    if score < 0:\n",
    "        return 'negative'\n",
    "    elif score == 0:\n",
    "        return 'neutral'\n",
    "    else:\n",
    "        return 'positive'"
   ]
  },
  {
   "cell_type": "code",
   "execution_count": 27,
   "metadata": {},
   "outputs": [],
   "source": [
    "# %%script false\n",
    "df['analysis'] = df['polarity'].apply(get_analysis)"
   ]
  },
  {
   "cell_type": "code",
   "execution_count": 28,
   "metadata": {
    "scrolled": true
   },
   "outputs": [
    {
     "data": {
      "text/html": [
       "<div>\n",
       "<style scoped>\n",
       "    .dataframe tbody tr th:only-of-type {\n",
       "        vertical-align: middle;\n",
       "    }\n",
       "\n",
       "    .dataframe tbody tr th {\n",
       "        vertical-align: top;\n",
       "    }\n",
       "\n",
       "    .dataframe thead th {\n",
       "        text-align: right;\n",
       "    }\n",
       "</style>\n",
       "<table border=\"1\" class=\"dataframe\">\n",
       "  <thead>\n",
       "    <tr style=\"text-align: right;\">\n",
       "      <th></th>\n",
       "      <th>body_type</th>\n",
       "      <th>brand</th>\n",
       "      <th>color</th>\n",
       "      <th>complectation_dict</th>\n",
       "      <th>description</th>\n",
       "      <th>engine_displacement</th>\n",
       "      <th>engine_power</th>\n",
       "      <th>equipment_dict</th>\n",
       "      <th>fuel_type</th>\n",
       "      <th>image</th>\n",
       "      <th>mileage</th>\n",
       "      <th>model_date</th>\n",
       "      <th>model_info</th>\n",
       "      <th>model_name</th>\n",
       "      <th>name</th>\n",
       "      <th>doors_count</th>\n",
       "      <th>price_currency</th>\n",
       "      <th>production_date</th>\n",
       "      <th>sell_id</th>\n",
       "      <th>super_gen</th>\n",
       "      <th>vehicle_configuration</th>\n",
       "      <th>vehicle_transmission</th>\n",
       "      <th>vendor</th>\n",
       "      <th>owner_count</th>\n",
       "      <th>owning_period</th>\n",
       "      <th>car_passport</th>\n",
       "      <th>wheel_drive</th>\n",
       "      <th>wheel_location</th>\n",
       "      <th>condition</th>\n",
       "      <th>custom</th>\n",
       "      <th>price</th>\n",
       "      <th>sample</th>\n",
       "      <th>popular_color</th>\n",
       "      <th>subjectivity</th>\n",
       "      <th>polarity</th>\n",
       "      <th>analysis</th>\n",
       "    </tr>\n",
       "  </thead>\n",
       "  <tbody>\n",
       "    <tr>\n",
       "      <th>43409</th>\n",
       "      <td>внедорожник</td>\n",
       "      <td>bmw</td>\n",
       "      <td>чёрный</td>\n",
       "      <td>{'id': '0'}</td>\n",
       "      <td>вложений не требуется . возможно продажа в кре...</td>\n",
       "      <td>2.0</td>\n",
       "      <td>150.0</td>\n",
       "      <td>{'electro-window-back': true, 'tinted-glass': ...</td>\n",
       "      <td>бензин</td>\n",
       "      <td>//avatars.mds.yandex.net/get-autoru-vos/445910...</td>\n",
       "      <td>97000</td>\n",
       "      <td>2012</td>\n",
       "      <td>{'code': 'x1', 'name': 'x1', 'ru_name': 'х1', ...</td>\n",
       "      <td>x1</td>\n",
       "      <td>18i 2.0 at (150 л.с.)</td>\n",
       "      <td>5</td>\n",
       "      <td>rub</td>\n",
       "      <td>2013</td>\n",
       "      <td>1103225492</td>\n",
       "      <td>{'id': '8247065', 'name': '18i', 'nameplate': ...</td>\n",
       "      <td>useless_col</td>\n",
       "      <td>automatic</td>\n",
       "      <td>european</td>\n",
       "      <td>3</td>\n",
       "      <td>{'year': 2020, 'month': 11}</td>\n",
       "      <td>duplicate</td>\n",
       "      <td>задний</td>\n",
       "      <td>left</td>\n",
       "      <td>None</td>\n",
       "      <td>None</td>\n",
       "      <td>840000.0</td>\n",
       "      <td>1</td>\n",
       "      <td>1</td>\n",
       "      <td>0.0</td>\n",
       "      <td>0.0</td>\n",
       "      <td>neutral</td>\n",
       "    </tr>\n",
       "    <tr>\n",
       "      <th>93049</th>\n",
       "      <td>внедорожник</td>\n",
       "      <td>toyota</td>\n",
       "      <td>белый</td>\n",
       "      <td>{'id': '0'}</td>\n",
       "      <td>● автокредит от 2,9%● первоначальный взнос от ...</td>\n",
       "      <td>3.5</td>\n",
       "      <td>249.0</td>\n",
       "      <td>{'cruise-control': true, 'electro-window-back'...</td>\n",
       "      <td>бензин</td>\n",
       "      <td>//avatars.mds.yandex.net/get-autoru-vos/476234...</td>\n",
       "      <td>128000</td>\n",
       "      <td>2013</td>\n",
       "      <td>{'code': 'highlander', 'name': 'highlander', '...</td>\n",
       "      <td>highlander</td>\n",
       "      <td>3.5 at (249 л.с.) 4wd</td>\n",
       "      <td>5</td>\n",
       "      <td>rub</td>\n",
       "      <td>2014</td>\n",
       "      <td>1103514185</td>\n",
       "      <td>{'id': '20082325', 'displacement': 3456, 'engi...</td>\n",
       "      <td>useless_col</td>\n",
       "      <td>automatic</td>\n",
       "      <td>japanese</td>\n",
       "      <td>1</td>\n",
       "      <td>None</td>\n",
       "      <td>original</td>\n",
       "      <td>полный</td>\n",
       "      <td>left</td>\n",
       "      <td>None</td>\n",
       "      <td>None</td>\n",
       "      <td>2300000.0</td>\n",
       "      <td>1</td>\n",
       "      <td>1</td>\n",
       "      <td>0.0</td>\n",
       "      <td>0.0</td>\n",
       "      <td>neutral</td>\n",
       "    </tr>\n",
       "    <tr>\n",
       "      <th>23052</th>\n",
       "      <td>внедорожник</td>\n",
       "      <td>lexus</td>\n",
       "      <td>чёрный</td>\n",
       "      <td>None</td>\n",
       "      <td>нормальное состояние. пробег реальный, по сиде...</td>\n",
       "      <td>3.0</td>\n",
       "      <td>201.0</td>\n",
       "      <td>None</td>\n",
       "      <td>бензин</td>\n",
       "      <td>https://autoru.naydex.net/imflt9272/520f62i9/2...</td>\n",
       "      <td>427000</td>\n",
       "      <td>1997</td>\n",
       "      <td>{\"code\":\"rx\",\"name\":\"rx\",\"ru_name\":\"rx\",\"morph...</td>\n",
       "      <td>rx</td>\n",
       "      <td>300 3.0 at (201 л.с.) 4wd</td>\n",
       "      <td>5</td>\n",
       "      <td>rub</td>\n",
       "      <td>2001</td>\n",
       "      <td>1099900048</td>\n",
       "      <td>{\"id\":\"6422903\",\"name\":\"300\",\"nameplate\":\"300\"...</td>\n",
       "      <td>allroad_5_doors automatic 3.0</td>\n",
       "      <td>automatic</td>\n",
       "      <td>japanese</td>\n",
       "      <td>3</td>\n",
       "      <td>None</td>\n",
       "      <td>duplicate</td>\n",
       "      <td>полный</td>\n",
       "      <td>left</td>\n",
       "      <td>не требует ремонта</td>\n",
       "      <td>растаможен</td>\n",
       "      <td>NaN</td>\n",
       "      <td>0</td>\n",
       "      <td>1</td>\n",
       "      <td>0.0</td>\n",
       "      <td>0.0</td>\n",
       "      <td>neutral</td>\n",
       "    </tr>\n",
       "    <tr>\n",
       "      <th>176212</th>\n",
       "      <td>внедорожник</td>\n",
       "      <td>mazda</td>\n",
       "      <td>чёрный</td>\n",
       "      <td>{'id': '20069158', 'name': 'supreme', 'availab...</td>\n",
       "      <td>- автомобиль куплен в декабре 2013 года- один ...</td>\n",
       "      <td>2.5</td>\n",
       "      <td>192.0</td>\n",
       "      <td>{'cruise-control': true, 'tinted-glass': true,...</td>\n",
       "      <td>бензин</td>\n",
       "      <td>//avatars.mds.yandex.net/get-autoru-vos/425615...</td>\n",
       "      <td>169000</td>\n",
       "      <td>2011</td>\n",
       "      <td>{'code': 'cx_5', 'name': 'cx-5', 'ru_name': 'c...</td>\n",
       "      <td>cx_5</td>\n",
       "      <td>2.5 at (192 л.с.) 4wd</td>\n",
       "      <td>5</td>\n",
       "      <td>rub</td>\n",
       "      <td>2013</td>\n",
       "      <td>1103657569</td>\n",
       "      <td>{'id': '9280918', 'displacement': 2488, 'engin...</td>\n",
       "      <td>useless_col</td>\n",
       "      <td>automatic</td>\n",
       "      <td>japanese</td>\n",
       "      <td>1</td>\n",
       "      <td>{'year': 2013, 'month': 12}</td>\n",
       "      <td>original</td>\n",
       "      <td>полный</td>\n",
       "      <td>left</td>\n",
       "      <td>None</td>\n",
       "      <td>None</td>\n",
       "      <td>1390000.0</td>\n",
       "      <td>1</td>\n",
       "      <td>1</td>\n",
       "      <td>0.0</td>\n",
       "      <td>0.0</td>\n",
       "      <td>neutral</td>\n",
       "    </tr>\n",
       "  </tbody>\n",
       "</table>\n",
       "</div>"
      ],
      "text/plain": [
       "          body_type   brand   color  \\\n",
       "43409   внедорожник     bmw  чёрный   \n",
       "93049   внедорожник  toyota   белый   \n",
       "23052   внедорожник   lexus  чёрный   \n",
       "176212  внедорожник   mazda  чёрный   \n",
       "\n",
       "                                       complectation_dict  \\\n",
       "43409                                         {'id': '0'}   \n",
       "93049                                         {'id': '0'}   \n",
       "23052                                                None   \n",
       "176212  {'id': '20069158', 'name': 'supreme', 'availab...   \n",
       "\n",
       "                                              description  \\\n",
       "43409   вложений не требуется . возможно продажа в кре...   \n",
       "93049   ● автокредит от 2,9%● первоначальный взнос от ...   \n",
       "23052   нормальное состояние. пробег реальный, по сиде...   \n",
       "176212  - автомобиль куплен в декабре 2013 года- один ...   \n",
       "\n",
       "        engine_displacement  engine_power  \\\n",
       "43409                   2.0         150.0   \n",
       "93049                   3.5         249.0   \n",
       "23052                   3.0         201.0   \n",
       "176212                  2.5         192.0   \n",
       "\n",
       "                                           equipment_dict fuel_type  \\\n",
       "43409   {'electro-window-back': true, 'tinted-glass': ...    бензин   \n",
       "93049   {'cruise-control': true, 'electro-window-back'...    бензин   \n",
       "23052                                                None    бензин   \n",
       "176212  {'cruise-control': true, 'tinted-glass': true,...    бензин   \n",
       "\n",
       "                                                    image  mileage  \\\n",
       "43409   //avatars.mds.yandex.net/get-autoru-vos/445910...    97000   \n",
       "93049   //avatars.mds.yandex.net/get-autoru-vos/476234...   128000   \n",
       "23052   https://autoru.naydex.net/imflt9272/520f62i9/2...   427000   \n",
       "176212  //avatars.mds.yandex.net/get-autoru-vos/425615...   169000   \n",
       "\n",
       "        model_date                                         model_info  \\\n",
       "43409         2012  {'code': 'x1', 'name': 'x1', 'ru_name': 'х1', ...   \n",
       "93049         2013  {'code': 'highlander', 'name': 'highlander', '...   \n",
       "23052         1997  {\"code\":\"rx\",\"name\":\"rx\",\"ru_name\":\"rx\",\"morph...   \n",
       "176212        2011  {'code': 'cx_5', 'name': 'cx-5', 'ru_name': 'c...   \n",
       "\n",
       "        model_name                       name  doors_count price_currency  \\\n",
       "43409           x1      18i 2.0 at (150 л.с.)            5            rub   \n",
       "93049   highlander      3.5 at (249 л.с.) 4wd            5            rub   \n",
       "23052           rx  300 3.0 at (201 л.с.) 4wd            5            rub   \n",
       "176212        cx_5      2.5 at (192 л.с.) 4wd            5            rub   \n",
       "\n",
       "        production_date     sell_id  \\\n",
       "43409              2013  1103225492   \n",
       "93049              2014  1103514185   \n",
       "23052              2001  1099900048   \n",
       "176212             2013  1103657569   \n",
       "\n",
       "                                                super_gen  \\\n",
       "43409   {'id': '8247065', 'name': '18i', 'nameplate': ...   \n",
       "93049   {'id': '20082325', 'displacement': 3456, 'engi...   \n",
       "23052   {\"id\":\"6422903\",\"name\":\"300\",\"nameplate\":\"300\"...   \n",
       "176212  {'id': '9280918', 'displacement': 2488, 'engin...   \n",
       "\n",
       "                vehicle_configuration vehicle_transmission    vendor  \\\n",
       "43409                     useless_col            automatic  european   \n",
       "93049                     useless_col            automatic  japanese   \n",
       "23052   allroad_5_doors automatic 3.0            automatic  japanese   \n",
       "176212                    useless_col            automatic  japanese   \n",
       "\n",
       "       owner_count                owning_period car_passport wheel_drive  \\\n",
       "43409            3  {'year': 2020, 'month': 11}    duplicate      задний   \n",
       "93049            1                         None     original      полный   \n",
       "23052            3                         None    duplicate      полный   \n",
       "176212           1  {'year': 2013, 'month': 12}     original      полный   \n",
       "\n",
       "       wheel_location           condition      custom      price  sample  \\\n",
       "43409            left                None        None   840000.0       1   \n",
       "93049            left                None        None  2300000.0       1   \n",
       "23052            left  не требует ремонта  растаможен        NaN       0   \n",
       "176212           left                None        None  1390000.0       1   \n",
       "\n",
       "        popular_color  subjectivity  polarity analysis  \n",
       "43409               1           0.0       0.0  neutral  \n",
       "93049               1           0.0       0.0  neutral  \n",
       "23052               1           0.0       0.0  neutral  \n",
       "176212              1           0.0       0.0  neutral  "
      ]
     },
     "execution_count": 28,
     "metadata": {},
     "output_type": "execute_result"
    }
   ],
   "source": [
    "# show data\n",
    "df.sample(4)"
   ]
  },
  {
   "cell_type": "markdown",
   "metadata": {},
   "source": [
    "<a id=\"sec6\"></a>\n",
    "## [fuel_type](#sec6)\n",
    "[(INDEX)](#sec2)"
   ]
  },
  {
   "cell_type": "code",
   "execution_count": 29,
   "metadata": {},
   "outputs": [],
   "source": [
    "# lets strip fuel type\n",
    "df['fuel_type'] = df.fuel_type.apply(lambda fuel: str(fuel).strip())"
   ]
  },
  {
   "cell_type": "markdown",
   "metadata": {},
   "source": [
    "<a id=\"sec6\"></a>\n",
    "## [engine_displacement](#sec6)\n",
    "[(INDEX)](#sec2)"
   ]
  },
  {
   "cell_type": "markdown",
   "metadata": {},
   "source": [
    "We know, that there is no engine displacement for the electical cars. We also know there is missing values in this colums.\n",
    "\n",
    "Let's fix it. If car is electric - diplacement shall be 0."
   ]
  },
  {
   "cell_type": "code",
   "execution_count": 30,
   "metadata": {},
   "outputs": [],
   "source": [
    "df['engine_displacement'] = df[['engine_displacement','fuel_type']].apply(\n",
    "    lambda x: get_electro_displacement(*x), axis=1)"
   ]
  },
  {
   "cell_type": "markdown",
   "metadata": {},
   "source": [
    "It was observed that BMW model i3 has missing values in engine displacement. Let's say if it it is hybrid - then eng_displ - 0.7. If n0 - then 0"
   ]
  },
  {
   "cell_type": "code",
   "execution_count": 31,
   "metadata": {},
   "outputs": [],
   "source": [
    "df['engine_displacement'] = df[['engine_displacement','fuel_type', 'model_name']].apply(\n",
    "    lambda x: get_i3_displacement(*x), axis=1)"
   ]
  },
  {
   "cell_type": "markdown",
   "metadata": {},
   "source": [
    "<a id=\"sec6\"></a>\n",
    "## [engine_power](#sec6)\n",
    "[(INDEX)](#sec2)"
   ]
  },
  {
   "cell_type": "markdown",
   "metadata": {},
   "source": [
    "There is a special low in Russian Federation that devide cars by tax categories. \n",
    "\n",
    "More power in engine, higer grade of tax. It may impact on a prediction. Let's break our cars down by such categories"
   ]
  },
  {
   "cell_type": "code",
   "execution_count": 32,
   "metadata": {},
   "outputs": [],
   "source": [
    "df['tax_rate'] = df['engine_power'].apply(\n",
    "    lambda engine_power: get_tax_category(engine_power)).astype('category')"
   ]
  },
  {
   "cell_type": "markdown",
   "metadata": {},
   "source": [
    "<a id=\"sec6\"></a>\n",
    "## [Super_gen](#sec6)\n",
    "[(INDEX)](#sec2)"
   ]
  },
  {
   "cell_type": "markdown",
   "metadata": {},
   "source": [
    "Let's extract some information like an acceleration from supergen column.\n",
    "\n",
    "Generated new feature Acceleration"
   ]
  },
  {
   "cell_type": "code",
   "execution_count": 33,
   "metadata": {},
   "outputs": [],
   "source": [
    "# Before we do, fill up empty dictionaries with 'Nan'\n",
    "df['super_gen'] = df['super_gen'].fillna('NaN')\n",
    "df['super_gen'] = df['super_gen'].apply(cleanTxt)\n",
    "# Extract fuel rate,acceleration and generate new feature\n",
    "df['acceleration'] = df['super_gen'].apply(lambda string:get_acceleration(string))\n",
    "df['fuel_rate'] = df['super_gen'].apply(lambda string:get_fuel_rate(string))"
   ]
  },
  {
   "cell_type": "code",
   "execution_count": 34,
   "metadata": {},
   "outputs": [
    {
     "data": {
      "text/plain": [
       "11243"
      ]
     },
     "execution_count": 34,
     "metadata": {},
     "output_type": "execute_result"
    }
   ],
   "source": [
    "# missing vars in a new feature\n",
    "df['acceleration'].isna().sum()"
   ]
  },
  {
   "cell_type": "code",
   "execution_count": 35,
   "metadata": {},
   "outputs": [
    {
     "data": {
      "text/plain": [
       "21408"
      ]
     },
     "execution_count": 35,
     "metadata": {},
     "output_type": "execute_result"
    }
   ],
   "source": [
    "df['fuel_rate'].isna().sum()"
   ]
  },
  {
   "cell_type": "markdown",
   "metadata": {},
   "source": [
    "Let's fill missing values by randomly choosen value from most common in particular colums.\n",
    "\n",
    "For a company, add car pasport here and owner count"
   ]
  },
  {
   "cell_type": "code",
   "execution_count": 36,
   "metadata": {},
   "outputs": [],
   "source": [
    "cols_to_fill = ['acceleration', 'fuel_rate', 'car_passport','owner_count']\n",
    "for col in cols_to_fill:\n",
    "    missing_vars(df,col)"
   ]
  },
  {
   "cell_type": "markdown",
   "metadata": {},
   "source": [
    "<a id=\"sec6\"></a>\n",
    "## [Transmission](#sec6)\n",
    "[(INDEX)](#sec2)"
   ]
  },
  {
   "cell_type": "code",
   "execution_count": null,
   "metadata": {},
   "outputs": [],
   "source": []
  },
  {
   "cell_type": "code",
   "execution_count": null,
   "metadata": {},
   "outputs": [],
   "source": []
  },
  {
   "cell_type": "markdown",
   "metadata": {},
   "source": [
    "<a id=\"sec6\"></a>\n",
    "## [Price change index ](#sec6)\n",
    "[(INDEX)](#sec2)"
   ]
  },
  {
   "cell_type": "markdown",
   "metadata": {},
   "source": [
    "With a reference to EDA, we know, that some brands loose their price more faster than others. Let's generate such feature"
   ]
  },
  {
   "cell_type": "code",
   "execution_count": 37,
   "metadata": {},
   "outputs": [],
   "source": [
    "def get_change_index(model):\n",
    "    if model == 'ford':\n",
    "        return int(1)\n",
    "    if model == 'volvo' or model == 'mercedes-benz':\n",
    "        return int(2)\n",
    "    if model == 'honda' or model == 'audi':\n",
    "        return int(2)\n",
    "    return int(0)"
   ]
  },
  {
   "cell_type": "code",
   "execution_count": 38,
   "metadata": {},
   "outputs": [],
   "source": [
    "df['prc_chg_idx'] = df['brand'].apply(\n",
    "    lambda brand: get_change_index(brand)).astype('category')"
   ]
  },
  {
   "cell_type": "markdown",
   "metadata": {},
   "source": [
    "<a id=\"sec6\"></a>\n",
    "## [Dropping cars without info out](#sec6)\n",
    "[(INDEX)](#sec2)"
   ]
  },
  {
   "cell_type": "code",
   "execution_count": 39,
   "metadata": {},
   "outputs": [
    {
     "data": {
      "text/plain": [
       "3"
      ]
     },
     "execution_count": 39,
     "metadata": {},
     "output_type": "execute_result"
    }
   ],
   "source": [
    "df['engine_displacement'].isna().sum()"
   ]
  },
  {
   "cell_type": "code",
   "execution_count": 40,
   "metadata": {},
   "outputs": [],
   "source": [
    "df = df.dropna(axis=0, subset=['engine_displacement'])"
   ]
  },
  {
   "cell_type": "markdown",
   "metadata": {},
   "source": [
    "<a id=\"sec6\"></a>\n",
    "## [Handling multicollinearity out](#sec6)\n",
    "[(INDEX)](#sec2)"
   ]
  },
  {
   "cell_type": "code",
   "execution_count": 41,
   "metadata": {},
   "outputs": [],
   "source": [
    "# extract trhee columns from dataset, which are correlated\n",
    "data = df[['mileage', 'model_date','production_date']].values\n",
    "# create Scaler instance\n",
    "scaler = StandardScaler()\n",
    "scaled_data = scaler.fit_transform(data)\n",
    "\n",
    "# We have 3 vectors. Reduce to two, taking most important info.\n",
    "pca = PCA(n_components=2)\n",
    "pca.fit(scaled_data)\n",
    "pca_data = pca.transform(scaled_data)\n",
    "df['pca_1'],df['pca_2'] = pca_data[:,0],pca_data[:,1]\n",
    "# df = df.drop(['model_date','mileage'],axis=1)"
   ]
  },
  {
   "cell_type": "markdown",
   "metadata": {},
   "source": [
    "<a id=\"sec6\"></a>\n",
    "## [Clustering](#sec6)\n",
    "[(INDEX)](#sec2)"
   ]
  },
  {
   "cell_type": "code",
   "execution_count": 42,
   "metadata": {},
   "outputs": [],
   "source": [
    "cluster = Outliers_detector(df)"
   ]
  },
  {
   "cell_type": "code",
   "execution_count": 43,
   "metadata": {},
   "outputs": [],
   "source": [
    "# indeces = cluster.get_dbscan_outliers('model_date', 'mileage', dbscan_eps=.3,\n",
    "#                                      dbscan_minsample=12,\n",
    "#                                      cluster_num=-1)\n",
    "# print(f\"Strange guys {len(indeces)}\")"
   ]
  },
  {
   "cell_type": "markdown",
   "metadata": {},
   "source": [
    "<a id=\"sec6\"></a>\n",
    "## [Logarithm](#sec6)\n",
    "[(INDEX)](#sec2)"
   ]
  },
  {
   "cell_type": "code",
   "execution_count": 44,
   "metadata": {},
   "outputs": [],
   "source": [
    "cols_to_log = [\n",
    "    'engine_displacement',\n",
    "    'production_date',\n",
    "    'pca_1', 'pca_2',\n",
    "    'engine_power',\n",
    "    'mileage',\n",
    "    'model_date',\n",
    "    'acceleration',\n",
    "    'fuel_rate',\n",
    "]\n",
    "\n",
    "df = to_log(df, cols_to_log)"
   ]
  },
  {
   "cell_type": "markdown",
   "metadata": {},
   "source": [
    "<a id=\"sec6\"></a>\n",
    "## [ENCODING](#sec6)\n",
    "[(INDEX)](#sec2)"
   ]
  },
  {
   "cell_type": "code",
   "execution_count": 45,
   "metadata": {},
   "outputs": [],
   "source": [
    "# Re-set indeces\n",
    "df.reset_index(drop=True, inplace=True)"
   ]
  },
  {
   "cell_type": "code",
   "execution_count": 46,
   "metadata": {},
   "outputs": [],
   "source": [
    "# Save un-encoded df\n",
    "df_cat = df.copy()"
   ]
  },
  {
   "cell_type": "code",
   "execution_count": 47,
   "metadata": {},
   "outputs": [],
   "source": [
    "encoder = Encoder(df)"
   ]
  },
  {
   "cell_type": "code",
   "execution_count": 48,
   "metadata": {},
   "outputs": [],
   "source": [
    "to_hot = [\n",
    "    'body_type',\n",
    "    'brand',\n",
    "    'color',\n",
    "    'fuel_type',    \n",
    "    'doors_count',\n",
    "    'vehicle_transmission',\n",
    "    'vendor',\n",
    "    'wheel_drive',\n",
    "    'tax_rate',\n",
    "    'analysis',\n",
    "    'owner_count',\n",
    "    ]\n",
    "\n",
    "to_label = ['car_passport', 'wheel_location','prc_chg_idx']"
   ]
  },
  {
   "cell_type": "code",
   "execution_count": 49,
   "metadata": {},
   "outputs": [],
   "source": [
    "#%%script false\n",
    "for col in to_hot:\n",
    "    df = encoder.hot_encoder(col)"
   ]
  },
  {
   "cell_type": "code",
   "execution_count": 50,
   "metadata": {},
   "outputs": [],
   "source": [
    "for col in to_label:\n",
    "    encoder.label_encoder(col)"
   ]
  },
  {
   "cell_type": "markdown",
   "metadata": {},
   "source": [
    "<a id=\"sec6\"></a>\n",
    "## [DROP COLS OUT](#sec6)\n",
    "[(INDEX)](#sec2)"
   ]
  },
  {
   "cell_type": "code",
   "execution_count": 51,
   "metadata": {},
   "outputs": [],
   "source": [
    "cols_to_drop = [\n",
    "    'complectation_dict',\n",
    "    'description',\n",
    "    'equipment_dict',\n",
    "    'image',\n",
    "    'model_info',\n",
    "    'name',\n",
    "    'price_currency',\n",
    "    'vehicle_configuration',\n",
    "    'custom',\n",
    "    'condition',\n",
    "    'owning_period',\n",
    "    'super_gen', 'sell_id',\n",
    "    'model_name',\n",
    "    'engine_power',\n",
    "    'mileage', # have PCA instead\n",
    "    'model_date', # have PCA instead\n",
    "    'production_date' # have PCA instead\n",
    "]\n",
    "df = df.drop(cols_to_drop, axis=1)"
   ]
  },
  {
   "cell_type": "code",
   "execution_count": 52,
   "metadata": {},
   "outputs": [
    {
     "data": {
      "image/png": "[encoded data removed]",
      "text/plain": [
       "<Figure size 720x720 with 2 Axes>"
      ]
     },
     "metadata": {},
     "output_type": "display_data"
    }
   ],
   "source": [
    "corr_matrix(df, det=False)"
   ]
  },
  {
   "cell_type": "code",
   "execution_count": 53,
   "metadata": {},
   "outputs": [
    {
     "name": "stdout",
     "output_type": "stream",
     "text": [
      "engine_displacement - 0%\n",
      "car_passport - 0%\n",
      "wheel_location - 0%\n",
      "price - 19%\n",
      "sample - 0%\n",
      "popular_color - 0%\n",
      "subjectivity - 0%\n",
      "polarity - 0%\n",
      "acceleration - 0%\n",
      "fuel_rate - 0%\n",
      "prc_chg_idx - 0%\n",
      "pca_1 - 0%\n",
      "pca_2 - 0%\n",
      "hot_body_type_other - 0%\n",
      "hot_body_type_внедорожник - 0%\n",
      "hot_body_type_лифтбек - 0%\n",
      "hot_body_type_седан - 0%\n",
      "hot_body_type_универсал - 0%\n",
      "hot_body_type_хэтчбек - 0%\n",
      "hot_brand_audi - 0%\n",
      "hot_brand_bmw - 0%\n",
      "hot_brand_ford - 0%\n",
      "hot_brand_honda - 0%\n",
      "hot_brand_hyundai - 0%\n",
      "hot_brand_infiniti - 0%\n",
      "hot_brand_kia - 0%\n",
      "hot_brand_lexus - 0%\n",
      "hot_brand_mazda - 0%\n",
      "hot_brand_mercedes - 0%\n",
      "hot_brand_mercedes-benz - 0%\n",
      "hot_brand_mitsubishi - 0%\n",
      "hot_brand_nissan - 0%\n",
      "hot_brand_skoda - 0%\n",
      "hot_brand_toyota - 0%\n",
      "hot_brand_volkswagen - 0%\n",
      "hot_brand_volvo - 0%\n",
      "hot_color_other - 0%\n",
      "hot_color_белый - 0%\n",
      "hot_color_серебристый - 0%\n",
      "hot_color_серый - 0%\n",
      "hot_color_синий - 0%\n",
      "hot_color_чёрный - 0%\n",
      "hot_fuel_type_бензин - 0%\n",
      "hot_fuel_type_газ - 0%\n",
      "hot_fuel_type_гибрид - 0%\n",
      "hot_fuel_type_дизель - 0%\n",
      "hot_fuel_type_электро - 0%\n",
      "hot_doors_count_0 - 0%\n",
      "hot_doors_count_2 - 0%\n",
      "hot_doors_count_3 - 0%\n",
      "hot_doors_count_4 - 0%\n",
      "hot_doors_count_5 - 0%\n",
      "hot_vehicle_transmission_automatic - 0%\n",
      "hot_vehicle_transmission_mechanical - 0%\n",
      "hot_vehicle_transmission_robot - 0%\n",
      "hot_vehicle_transmission_variator - 0%\n",
      "hot_vendor_american - 0%\n",
      "hot_vendor_european - 0%\n",
      "hot_vendor_japanese - 0%\n",
      "hot_vendor_korean - 0%\n",
      "hot_wheel_drive_ задний - 0%\n",
      "hot_wheel_drive_ передний - 0%\n",
      "hot_wheel_drive_ полный - 0%\n",
      "hot_wheel_drive_задний - 0%\n",
      "hot_wheel_drive_передний - 0%\n",
      "hot_wheel_drive_полный - 0%\n",
      "hot_tax_rate_1.0 - 0%\n",
      "hot_tax_rate_2.0 - 0%\n",
      "hot_tax_rate_3.0 - 0%\n",
      "hot_tax_rate_4.0 - 0%\n",
      "hot_tax_rate_5.0 - 0%\n",
      "hot_analysis_negative - 0%\n",
      "hot_analysis_neutral - 0%\n",
      "hot_analysis_positive - 0%\n",
      "hot_owner_count_1 - 0%\n",
      "hot_owner_count_2 - 0%\n",
      "hot_owner_count_3 - 0%\n"
     ]
    },
    {
     "data": {
      "image/png": "[encoded data removed]",
      "text/plain": [
       "<Figure size 504x504 with 2 Axes>"
      ]
     },
     "metadata": {},
     "output_type": "display_data"
    }
   ],
   "source": [
    "# Plot missing values\n",
    "cols = df.columns\n",
    "fig, ax = plt.subplots(figsize=(7, 7))\n",
    "sns.heatmap(df[cols].isnull()) \n",
    "\n",
    "# Show in percents\n",
    "for col in df.columns:\n",
    "    pct_missing = np.mean(df[col].isnull())\n",
    "    print(f'{col} - {round(pct_missing*100)}%')"
   ]
  },
  {
   "cell_type": "markdown",
   "metadata": {},
   "source": [
    "<a id=\"sec6\"></a>\n",
    "## [Scaling](#sec6)\n",
    "[(INDEX)](#sec2)"
   ]
  },
  {
   "cell_type": "code",
   "execution_count": 54,
   "metadata": {},
   "outputs": [],
   "source": [
    "# Extract the part of dataframe for testing\n",
    "df_train = df.query('sample == 1').drop(['sample'], axis=1)\n",
    "df_valid = df.query('sample == 0').drop(['sample'], axis=1)\n",
    "\n",
    "# Extract data and label\n",
    "X = df_train.drop(['price'], axis=1)\n",
    "y = df_train[['price']]\n",
    "\n",
    "# Extract data for validation\n",
    "X_valid = df_valid.drop(['price'], axis=1)"
   ]
  },
  {
   "cell_type": "code",
   "execution_count": 55,
   "metadata": {},
   "outputs": [],
   "source": [
    "cols_to_scal = [\n",
    "    'engine_displacement', 'subjectivity', \n",
    "    'polarity', 'acceleration',\n",
    "    'fuel_rate', 'pca_1', 'pca_2'\n",
    "]"
   ]
  },
  {
   "cell_type": "code",
   "execution_count": 56,
   "metadata": {},
   "outputs": [],
   "source": [
    "scaler = RobustScaler()\n",
    "X[cols_to_scal] = scaler.fit_transform(X[cols_to_scal])\n",
    "X_valid[cols_to_scal] = scaler.transform(X_valid[cols_to_scal])"
   ]
  },
  {
   "cell_type": "code",
   "execution_count": 57,
   "metadata": {},
   "outputs": [
    {
     "name": "stdout",
     "output_type": "stream",
     "text": [
      "Shape of X_train:(144044, 75) \n",
      "Shape of X_Valid:(34686, 75) \n",
      "Shape of Target:(144044, 1) \n"
     ]
    }
   ],
   "source": [
    "print(\n",
    "    f'Shape of X_train:{X.shape} \\nShape of X_Valid:{X_valid.shape} \\nShape of Target:{y.shape} '\n",
    ")"
   ]
  },
  {
   "cell_type": "markdown",
   "metadata": {},
   "source": [
    "<a id=\"sec6\"></a>\n",
    "# [9.Models](#sec6)\n",
    "[(INDEX)](#sec2)"
   ]
  },
  {
   "cell_type": "code",
   "execution_count": 58,
   "metadata": {},
   "outputs": [],
   "source": [
    "X_train, X_test, y_train, y_test = train_test_split(\n",
    "    X, y, shuffle=True, random_state=42)"
   ]
  },
  {
   "cell_type": "code",
   "execution_count": 59,
   "metadata": {},
   "outputs": [],
   "source": [
    "from lazypredict.Supervised import LazyRegressor"
   ]
  },
  {
   "cell_type": "code",
   "execution_count": 60,
   "metadata": {},
   "outputs": [
    {
     "name": "stdout",
     "output_type": "stream",
     "text": [
      "Couldn't find program: 'false'\n"
     ]
    }
   ],
   "source": [
    "%%script false\n",
    "reg = LazyRegressor(verbose=1, ignore_warnings=False, custom_metric=None)"
   ]
  },
  {
   "cell_type": "code",
   "execution_count": 61,
   "metadata": {},
   "outputs": [
    {
     "name": "stdout",
     "output_type": "stream",
     "text": [
      "Couldn't find program: 'false'\n"
     ]
    }
   ],
   "source": [
    "%%script false\n",
    "models,predictions = reg.fit(X_train, X_test, y_train, y_test)"
   ]
  },
  {
   "cell_type": "code",
   "execution_count": 62,
   "metadata": {},
   "outputs": [
    {
     "name": "stdout",
     "output_type": "stream",
     "text": [
      "Couldn't find program: 'false'\n"
     ]
    }
   ],
   "source": [
    "%%script false\n",
    "models"
   ]
  },
  {
   "cell_type": "markdown",
   "metadata": {},
   "source": [
    "<a id=\"sec6\"></a>\n",
    "## [EXTRA-TREE](#sec6)\n",
    "[(INDEX)](#sec2)"
   ]
  },
  {
   "cell_type": "code",
   "execution_count": 63,
   "metadata": {},
   "outputs": [
    {
     "name": "stdout",
     "output_type": "stream",
     "text": [
      "Couldn't find program: 'false'\n"
     ]
    }
   ],
   "source": [
    "%%script false\n",
    "# Training and evaluating Random Forest\n",
    "rf = ExtraTreesRegressor(n_estimators=300, random_state=42, n_jobs=-1,\n",
    "                         bootstrap=True, verbose=1)\n",
    "rf.fit(X_train, y_train)\n",
    "y_pred = rf.predict(X_test)"
   ]
  },
  {
   "cell_type": "code",
   "execution_count": 64,
   "metadata": {},
   "outputs": [],
   "source": [
    "df_report = pd.DataFrame(data=None)"
   ]
  },
  {
   "cell_type": "code",
   "execution_count": 65,
   "metadata": {
    "scrolled": true
   },
   "outputs": [
    {
     "name": "stdout",
     "output_type": "stream",
     "text": [
      "Couldn't find program: 'false'\n"
     ]
    }
   ],
   "source": [
    "%%script false\n",
    "df_report = get_regression_metrics(df_report, rf, X_test,\n",
    "                       y_test, 'Extream_tree_BaseLine')"
   ]
  },
  {
   "cell_type": "code",
   "execution_count": 66,
   "metadata": {
    "scrolled": false
   },
   "outputs": [
    {
     "name": "stdout",
     "output_type": "stream",
     "text": [
      "Couldn't find program: 'false'\n"
     ]
    }
   ],
   "source": [
    "%%script false\n",
    "df_report"
   ]
  },
  {
   "cell_type": "code",
   "execution_count": 67,
   "metadata": {},
   "outputs": [],
   "source": [
    "df_f = df.copy()"
   ]
  },
  {
   "cell_type": "code",
   "execution_count": 68,
   "metadata": {},
   "outputs": [],
   "source": [
    "# Extract the part of dataframe for testing\n",
    "df_train_1 = df_f.query('sample == 1').drop(['sample'], axis=1)\n",
    "df_valid_1 = df_f.query('sample == 0').drop(['sample'], axis=1)"
   ]
  },
  {
   "cell_type": "code",
   "execution_count": 69,
   "metadata": {},
   "outputs": [],
   "source": [
    "# Extract data and label\n",
    "X = df_train_1.drop(['price'], axis=1)\n",
    "y = df_train_1[['price']]\n",
    "scaler = RobustScaler()\n",
    "X[cols_to_scal] = scaler.fit_transform(X[cols_to_scal])\n"
   ]
  },
  {
   "cell_type": "code",
   "execution_count": 70,
   "metadata": {},
   "outputs": [],
   "source": [
    "# extract trhee columns from dataset, which are correlated\n",
    "data = X.values\n",
    "# create Scaler instance\n",
    "scaler = StandardScaler()\n",
    "scaled_data = scaler.fit_transform(data)\n",
    "\n",
    "# We have 3 vectors. Reduce to two, taking most important info.\n",
    "pca = PCA(n_components=25)\n",
    "pca.fit(scaled_data)\n",
    "pca_data = pca.transform(scaled_data)\n",
    "\n",
    "# df['pca_1'],df['pca_2'] = pca_data[:,0],pca_data[:,1]\n",
    "# df = df.drop(['model_date','mileage'],axis=1)"
   ]
  },
  {
   "cell_type": "code",
   "execution_count": null,
   "metadata": {},
   "outputs": [],
   "source": []
  },
  {
   "cell_type": "code",
   "execution_count": 71,
   "metadata": {},
   "outputs": [],
   "source": [
    "X_train, X_test, y_train, y_test = train_test_split(\n",
    "    pca_data, y, shuffle=True, random_state=42)"
   ]
  },
  {
   "cell_type": "code",
   "execution_count": 72,
   "metadata": {},
   "outputs": [
    {
     "name": "stderr",
     "output_type": "stream",
     "text": [
      "[Parallel(n_jobs=-1)]: Using backend ThreadingBackend with 8 concurrent workers.\n",
      "[Parallel(n_jobs=-1)]: Done  34 tasks      | elapsed:    5.4s\n",
      "[Parallel(n_jobs=-1)]: Done 184 tasks      | elapsed:   28.8s\n",
      "[Parallel(n_jobs=-1)]: Done 300 out of 300 | elapsed:   48.5s finished\n"
     ]
    },
    {
     "data": {
      "text/plain": [
       "ExtraTreesRegressor(bootstrap=True, n_estimators=300, n_jobs=-1,\n",
       "                    random_state=42, verbose=1)"
      ]
     },
     "execution_count": 72,
     "metadata": {},
     "output_type": "execute_result"
    }
   ],
   "source": [
    "# Training and evaluating Random Forest\n",
    "rf = ExtraTreesRegressor(n_estimators=300, random_state=42, n_jobs=-1,\n",
    "                         bootstrap=True, verbose=1)\n",
    "rf.fit(X_train, np.log(y_train))\n",
    "# y_pred = rf.predict(X_test)"
   ]
  },
  {
   "cell_type": "code",
   "execution_count": 76,
   "metadata": {},
   "outputs": [
    {
     "name": "stderr",
     "output_type": "stream",
     "text": [
      "[Parallel(n_jobs=8)]: Using backend ThreadingBackend with 8 concurrent workers.\n",
      "[Parallel(n_jobs=8)]: Done  34 tasks      | elapsed:    0.1s\n",
      "[Parallel(n_jobs=8)]: Done 184 tasks      | elapsed:    0.9s\n",
      "[Parallel(n_jobs=8)]: Done 300 out of 300 | elapsed:    1.5s finished\n"
     ]
    },
    {
     "ename": "MemoryError",
     "evalue": "Unable to allocate 9.66 GiB for an array with shape (36011, 36011) and data type float64",
     "output_type": "error",
     "traceback": [
      "\u001b[1;31m---------------------------------------------------------------------------\u001b[0m",
      "\u001b[1;31mMemoryError\u001b[0m                               Traceback (most recent call last)",
      "\u001b[1;32m<ipython-input-76-97963c022632>\u001b[0m in \u001b[0;36m<module>\u001b[1;34m\u001b[0m\n\u001b[0;32m      1\u001b[0m \u001b[1;31m#%%script false\u001b[0m\u001b[1;33m\u001b[0m\u001b[1;33m\u001b[0m\u001b[1;33m\u001b[0m\u001b[0m\n\u001b[1;32m----> 2\u001b[1;33m \u001b[0mscore\u001b[0m \u001b[1;33m=\u001b[0m \u001b[0mmape\u001b[0m\u001b[1;33m(\u001b[0m\u001b[0my_test\u001b[0m\u001b[1;33m,\u001b[0m\u001b[0mnp\u001b[0m\u001b[1;33m.\u001b[0m\u001b[0mexpm1\u001b[0m\u001b[1;33m(\u001b[0m\u001b[0mrf\u001b[0m\u001b[1;33m.\u001b[0m\u001b[0mpredict\u001b[0m\u001b[1;33m(\u001b[0m\u001b[0mX_test\u001b[0m\u001b[1;33m)\u001b[0m\u001b[1;33m)\u001b[0m\u001b[1;33m)\u001b[0m\u001b[1;33m\u001b[0m\u001b[1;33m\u001b[0m\u001b[0m\n\u001b[0m",
      "\u001b[1;32m<ipython-input-8-94f1076a834e>\u001b[0m in \u001b[0;36mmape\u001b[1;34m(y_true, y_pred)\u001b[0m\n\u001b[0;32m      2\u001b[0m \u001b[1;32mdef\u001b[0m \u001b[0mmape\u001b[0m\u001b[1;33m(\u001b[0m\u001b[0my_true\u001b[0m\u001b[1;33m,\u001b[0m \u001b[0my_pred\u001b[0m\u001b[1;33m)\u001b[0m\u001b[1;33m:\u001b[0m\u001b[1;33m\u001b[0m\u001b[1;33m\u001b[0m\u001b[0m\n\u001b[0;32m      3\u001b[0m     \u001b[0my_true\u001b[0m\u001b[1;33m,\u001b[0m \u001b[0my_pred\u001b[0m \u001b[1;33m=\u001b[0m \u001b[0mnp\u001b[0m\u001b[1;33m.\u001b[0m\u001b[0marray\u001b[0m\u001b[1;33m(\u001b[0m\u001b[0my_true\u001b[0m\u001b[1;33m)\u001b[0m\u001b[1;33m,\u001b[0m \u001b[0mnp\u001b[0m\u001b[1;33m.\u001b[0m\u001b[0marray\u001b[0m\u001b[1;33m(\u001b[0m\u001b[0my_pred\u001b[0m\u001b[1;33m)\u001b[0m\u001b[1;33m\u001b[0m\u001b[1;33m\u001b[0m\u001b[0m\n\u001b[1;32m----> 4\u001b[1;33m     \u001b[1;32mreturn\u001b[0m \u001b[0mnp\u001b[0m\u001b[1;33m.\u001b[0m\u001b[0mmean\u001b[0m\u001b[1;33m(\u001b[0m\u001b[0mnp\u001b[0m\u001b[1;33m.\u001b[0m\u001b[0mabs\u001b[0m\u001b[1;33m(\u001b[0m\u001b[1;33m(\u001b[0m\u001b[0my_true\u001b[0m \u001b[1;33m-\u001b[0m \u001b[0my_pred\u001b[0m\u001b[1;33m)\u001b[0m \u001b[1;33m/\u001b[0m \u001b[0my_true\u001b[0m\u001b[1;33m)\u001b[0m \u001b[1;33m*\u001b[0m \u001b[1;36m100\u001b[0m\u001b[1;33m)\u001b[0m\u001b[1;33m\u001b[0m\u001b[1;33m\u001b[0m\u001b[0m\n\u001b[0m",
      "\u001b[1;31mMemoryError\u001b[0m: Unable to allocate 9.66 GiB for an array with shape (36011, 36011) and data type float64"
     ]
    }
   ],
   "source": [
    "#%%script false\n",
    "score = mape(y_test,np.expm1(rf.predict(X_test)))"
   ]
  },
  {
   "cell_type": "code",
   "execution_count": 77,
   "metadata": {},
   "outputs": [
    {
     "name": "stderr",
     "output_type": "stream",
     "text": [
      "[Parallel(n_jobs=8)]: Using backend ThreadingBackend with 8 concurrent workers.\n",
      "[Parallel(n_jobs=8)]: Done  34 tasks      | elapsed:    0.1s\n",
      "[Parallel(n_jobs=8)]: Done 184 tasks      | elapsed:    0.9s\n",
      "[Parallel(n_jobs=8)]: Done 300 out of 300 | elapsed:    1.5s finished\n"
     ]
    }
   ],
   "source": [
    "predict = rf.predict(X_test)"
   ]
  },
  {
   "cell_type": "code",
   "execution_count": 82,
   "metadata": {},
   "outputs": [],
   "source": [
    "predicted=np.expm1(predict)"
   ]
  },
  {
   "cell_type": "code",
   "execution_count": 81,
   "metadata": {},
   "outputs": [],
   "source": [
    "real=y_test.values"
   ]
  },
  {
   "cell_type": "code",
   "execution_count": 83,
   "metadata": {},
   "outputs": [
    {
     "ename": "MemoryError",
     "evalue": "Unable to allocate 9.66 GiB for an array with shape (36011, 36011) and data type float64",
     "output_type": "error",
     "traceback": [
      "\u001b[1;31m---------------------------------------------------------------------------\u001b[0m",
      "\u001b[1;31mMemoryError\u001b[0m                               Traceback (most recent call last)",
      "\u001b[1;32m<ipython-input-83-c95fa8ed6be7>\u001b[0m in \u001b[0;36m<module>\u001b[1;34m\u001b[0m\n\u001b[1;32m----> 1\u001b[1;33m \u001b[0mnp\u001b[0m\u001b[1;33m.\u001b[0m\u001b[0mabs\u001b[0m\u001b[1;33m(\u001b[0m\u001b[0mreal\u001b[0m\u001b[1;33m-\u001b[0m\u001b[0mpredicted\u001b[0m\u001b[1;33m)\u001b[0m\u001b[1;33m\u001b[0m\u001b[1;33m\u001b[0m\u001b[0m\n\u001b[0m",
      "\u001b[1;31mMemoryError\u001b[0m: Unable to allocate 9.66 GiB for an array with shape (36011, 36011) and data type float64"
     ]
    }
   ],
   "source": [
    "np.abs(real-predicted/real)"
   ]
  },
  {
   "cell_type": "code",
   "execution_count": null,
   "metadata": {},
   "outputs": [],
   "source": []
  },
  {
   "cell_type": "code",
   "execution_count": null,
   "metadata": {},
   "outputs": [],
   "source": [
    "%%script false\n",
    "df_report = get_regression_metrics(df_report, rf, X_test,\n",
    "                       y_test, 'Extream_tree_PCA')"
   ]
  },
  {
   "cell_type": "code",
   "execution_count": null,
   "metadata": {},
   "outputs": [],
   "source": [
    "df_report"
   ]
  },
  {
   "cell_type": "code",
   "execution_count": null,
   "metadata": {},
   "outputs": [],
   "source": []
  }
 ],
 "metadata": {
  "kernelspec": {
   "display_name": "Python 3",
   "language": "python",
   "name": "python3"
  },
  "language_info": {
   "codemirror_mode": {
    "name": "ipython",
    "version": 3
   },
   "file_extension": ".py",
   "mimetype": "text/x-python",
   "name": "python",
   "nbconvert_exporter": "python",
   "pygments_lexer": "ipython3",
   "version": "3.8.3"
  },
  "toc": {
   "base_numbering": 1,
   "nav_menu": {},
   "number_sections": true,
   "sideBar": true,
   "skip_h1_title": false,
   "title_cell": "Table of Contents",
   "title_sidebar": "Contents",
   "toc_cell": false,
   "toc_position": {
    "height": "calc(100% - 180px)",
    "left": "10px",
    "top": "150px",
    "width": "255.594px"
   },
   "toc_section_display": true,
   "toc_window_display": true
  },
  "varInspector": {
   "cols": {
    "lenName": 16,
    "lenType": 16,
    "lenVar": 40
   },
   "kernels_config": {
    "python": {
     "delete_cmd_postfix": "",
     "delete_cmd_prefix": "del ",
     "library": "var_list.py",
     "varRefreshCmd": "print(var_dic_list())"
    },
    "r": {
     "delete_cmd_postfix": ") ",
     "delete_cmd_prefix": "rm(",
     "library": "var_list.r",
     "varRefreshCmd": "cat(var_dic_list()) "
    }
   },
   "types_to_exclude": [
    "module",
    "function",
    "builtin_function_or_method",
    "instance",
    "_Feature"
   ],
   "window_display": false
  }
 },
 "nbformat": 4,
 "nbformat_minor": 4
}
