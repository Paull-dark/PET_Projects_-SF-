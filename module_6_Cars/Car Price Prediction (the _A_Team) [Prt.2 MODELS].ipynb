{
 "cells": [
  {
   "cell_type": "markdown",
   "metadata": {},
   "source": [
    "# Choose a Car Profitably [Car Price prediction] PART.2"
   ]
  },
  {
   "cell_type": "markdown",
   "metadata": {},
   "source": [
    "This work has made by Paul Krivchenia in cooperation with Vitaliy Burlakov (a.k.a Vetak8):\n",
    "#### [My GitHub](https://github.com/Paull-dark)\n",
    "#### [Vetak's GitHub](https://github.com/vetak8)\n",
    "#### [Vetak's Kaggle](https://www.kaggle.com/vitaliyburlakov)"
   ]
  },
  {
   "cell_type": "markdown",
   "metadata": {},
   "source": [
    "<img src = 'http://3.bp.blogspot.com/--knDCWYzMOw/UqzpwyctJeI/AAAAAAAAAT8/Ui66KNd1nXM/s1600/7egylh57hbhs.jpg' width= '400px'>"
   ]
  },
  {
   "cell_type": "markdown",
   "metadata": {},
   "source": [
    "<a id=\"sec2\"></a>\n",
    "# [INDEX](#sec2)\n",
    "\n",
    "<a id=\"sec1\"></a>\n",
    "1. [Description](#sec1)\n",
    "   * [1.1 Features Defination](#sec1.1)\n",
    "2. [INDEX](#sec2)\n",
    "3. [IMPORT LIBRARRIES](#sec3)\n",
    "4. [Functions and Classes](#sec4)\n",
    "5. [Load and Chek the Dataset](#sec5)"
   ]
  },
  {
   "cell_type": "markdown",
   "metadata": {},
   "source": [
    "<a id=\"sec2\"></a>\n",
    "# [Import LIBRARIES](#sec2)"
   ]
  },
  {
   "cell_type": "code",
   "execution_count": 1,
   "metadata": {},
   "outputs": [
    {
     "name": "stdout",
     "output_type": "stream",
     "text": [
      "body_type\n",
      "brand\n",
      "color\n",
      "complectation_dict\n",
      "description\n",
      "engine_displacement\n",
      "engine_power\n",
      "equipment_dict\n",
      "fuel_type\n",
      "image\n",
      "mileage\n",
      "model_date\n",
      "model_info\n",
      "model_name\n",
      "name\n",
      "doors_count\n",
      "price_currency\n",
      "production_date\n",
      "sell_id\n",
      "super_gen\n",
      "vehicle_configuration\n",
      "vehicle_transmission\n",
      "vendor\n",
      "owner_count\n",
      "owning_period\n",
      "car_passport\n",
      "wheel_drive\n",
      "wheel_location\n",
      "condition\n",
      "custom\n",
      "price\n",
      "sample\n"
     ]
    }
   ],
   "source": [
    "from Preprocessing import df_combined\n",
    "\n",
    "import pandas as pd\n",
    "import numpy as np\n",
    "import re\n",
    "import matplotlib.pyplot as plt\n",
    "import seaborn as sns\n",
    "import plotly.express as px\n",
    "import warnings\n",
    "from jupyterthemes import jtplot\n",
    "\n",
    "from textblob import TextBlob  # for sentiment analysis\n",
    "from wordcloud import WordCloud  # for creating cloud of words\n",
    "from sklearn.cluster import DBSCAN\n",
    "\n",
    "from sklearn.decomposition import PCA \n",
    "from sklearn.preprocessing import LabelEncoder, OneHotEncoder\n",
    "from sklearn.preprocessing import StandardScaler, RobustScaler\n",
    "from sklearn.model_selection import train_test_split\n",
    "from sklearn.metrics import mean_absolute_error\n",
    "\n",
    "\n",
    "warnings.filterwarnings(\"ignore\")\n",
    "\n",
    "%matplotlib inline\n",
    "pd.set_option('display.max_rows', 50)  # Show more rows\n",
    "pd.set_option('display.max_columns', 50)  # Show more columns\n",
    "plt.style.use('ggplot')  # Nice plotting\n",
    "\n",
    "jtplot.style(theme='monokai', context='notebook', ticks=True, grid=False)\n"
   ]
  },
  {
   "cell_type": "code",
   "execution_count": 2,
   "metadata": {},
   "outputs": [
    {
     "data": {
      "image/png": "[encoded data removed]",
      "text/plain": [
       "<Figure size 360x72 with 1 Axes>"
      ]
     },
     "metadata": {},
     "output_type": "display_data"
    }
   ],
   "source": [
    "# Set project colors\n",
    "colors = ['#001c57', '#50248f', '#a6a6a6', '#38d1ff','#cc3181']\n",
    "sns.palplot(sns.color_palette(colors))"
   ]
  },
  {
   "cell_type": "markdown",
   "metadata": {},
   "source": [
    "<a id=\"sec4\"></a>\n",
    "# [FUNCTIONS and CLASSES](#sec4)\n",
    "[(INDEX)](#sec2)"
   ]
  },
  {
   "cell_type": "markdown",
   "metadata": {},
   "source": [
    "<a id=\"sec4\"></a>\n",
    "## [GENERAL FUNCTIONS](#sec4)\n",
    "[(INDEX)](#sec2)"
   ]
  },
  {
   "cell_type": "code",
   "execution_count": 3,
   "metadata": {},
   "outputs": [],
   "source": [
    "def missing_vars(data, column, random_proba=True):\n",
    "    '''Function is called for filling of missing data'''\n",
    "    # With using probability and random choise\n",
    "\n",
    "    if random_proba:\n",
    "        col_name = data[column].value_counts().index.to_list(\n",
    "        )  # get list of values\n",
    "        col_distr = data[column].value_counts(\n",
    "            normalize=True).values  # get l;ist of probs\n",
    "        missing = data[col].isnull()  # flag of missing val\n",
    "        # substitute values from the list of names in accordance with the probability of meeting the name\n",
    "        data.loc[missing, [column]] = np.random.choice(col_name,\n",
    "                                                    size=len(data[missing]),\n",
    "                                                    p=col_distr)\n",
    "\n",
    "    # Using  most common in  column\n",
    "    data[col] = data[col].fillna(data[col].value_counts().index[0])"
   ]
  },
  {
   "cell_type": "code",
   "execution_count": 4,
   "metadata": {},
   "outputs": [],
   "source": [
    "def get_variable_distribution(col, title=None):\n",
    "    '''Function is called to plot feture distribution'''\n",
    "\n",
    "    title = title if title is not None else f\"Distribution for '{col}\"\n",
    "    fig, (ax1, ax2, ax3) = plt.subplots(1, 3, figsize=(15, 5),)\n",
    "    fig = sm.qqplot(col, fit=True, line='45', ax=ax1)\n",
    "    fig.suptitle(title, fontsize=20)\n",
    "\n",
    "    sns.distplot(col.values, bins=20, color=colors[1], ax=ax2)\n",
    "#     sns.violinplot(col.values, color=colors[3], bw=.3, cut=1, linewidth=4)\n",
    "    sns.boxplot(col.values,color=colors[3])\n",
    "\n",
    "    ax1.set_title('QQ-plot')\n",
    "    ax2.set_title('Distribution')\n",
    "    ax3.set_title('Boxplot')\n",
    "\n",
    "    plt.show()"
   ]
  },
  {
   "cell_type": "code",
   "execution_count": 5,
   "metadata": {},
   "outputs": [],
   "source": [
    "def cleanTxt(text):\n",
    "    '''Function is called for cleaning text from trash\n",
    "    INPUT: dirty string\n",
    "    OUTPUT: More or less clean string'''\n",
    "\n",
    "    text = re.sub(r'@[А-Яа-я0-9]+', '', text)  # Remove @\n",
    "    text = re.sub(r'#', '', text)  # remove #\n",
    "    text = re.sub(r'{', '', text)\n",
    "    text = re.sub(r'}', '', text)\n",
    "    text = re.sub('^а-яА-Я', ' ', text)\n",
    "    text = re.sub(r'https?:\\/\\/\\S+', '', text)  # remove hyperlink\n",
    "    text = re.sub(r'\\n', '', text)\n",
    "    text = re.sub(r'👍🏻', '', text)\n",
    "    # there are much more emoji. I don't know how to identify them so far\n",
    "\n",
    "    text = text.lower()\n",
    "    text = text.strip()\n",
    "    #text = text.split()\n",
    "    return text"
   ]
  },
  {
   "cell_type": "markdown",
   "metadata": {},
   "source": [
    "<a id=\"sec4\"></a>\n",
    "## [Classes](#sec4)\n",
    "[(INDEX)](#sec2)"
   ]
  },
  {
   "cell_type": "code",
   "execution_count": 6,
   "metadata": {},
   "outputs": [],
   "source": [
    "class Encoder:\n",
    "    def __init__(self, dataframe):\n",
    "        self.dataframe = dataframe\n",
    "\n",
    "    def label_encoder(self, column):\n",
    "        le = LabelEncoder()\n",
    "        self.dataframe[column] = le.fit_transform(self.dataframe[column])\n",
    "\n",
    "    def hot_encoder(self, column):\n",
    "        ohe = OneHotEncoder(handle_unknown='ignore', sparse=False)\n",
    "        aux_df = pd.DataFrame(ohe.fit_transform(self.dataframe[[column]]))\n",
    "        aux_df.columns = ohe.get_feature_names([f'hot_{column}'])\n",
    "        self.dataframe = self.dataframe.drop(col, axis=1)\n",
    "        self.dataframe = pd.concat([self.dataframe, aux_df], axis=1)\n",
    "        return self.dataframe"
   ]
  },
  {
   "cell_type": "code",
   "execution_count": 7,
   "metadata": {},
   "outputs": [],
   "source": [
    "class Outliers_detector():\n",
    "    def __init__(self, df):\n",
    "        self.df = df\n",
    "\n",
    "    def get_IQR_outliers(self, column):\n",
    "        '''Method is called to detect IQR outliers'''\n",
    "        outliers = dict()\n",
    "        q1, q3 = np.percentile(sorted(self.df[column]), [25, 75])\n",
    "\n",
    "        IQR = q3 - q1\n",
    "\n",
    "        l_b = q1 - (1.5 * IQR)  # lower bound\n",
    "        u_b = q3 + (1.5 * IQR)  # upper bound\n",
    "        outl_count = len(self.df[column][self.df[column] < l_b]) + len(\n",
    "            self.df[column][self.df[column] > u_b])\n",
    "\n",
    "        outliers['lower_bound'] = round(l_b, 3)\n",
    "        outliers['upper_bound'] = round(u_b, 3)\n",
    "        outliers['outlier_count'] = outl_count\n",
    "\n",
    "        return outliers\n",
    "\n",
    "    def get_dbscan_outliers(self, column1, column2, dbscan_eps,\n",
    "                            dbscan_minsample, cluster_num):\n",
    "        '''Method is called for detecting outliers for two columns by dbscan'''\n",
    "\n",
    "        scaler = RobustScaler()\n",
    "        scale_column1 = scaler.fit_transform(pd.DataFrame(\n",
    "            self.df[column1])).reshape(1, -1)[0]\n",
    "        scale_column2 = scaler.fit_transform(pd.DataFrame(\n",
    "            self.df[column2])).reshape(1, -1)[0]\n",
    "        df_temp = pd.DataFrame({\n",
    "            'column1': scale_column1,\n",
    "            'column2': scale_column2\n",
    "        })\n",
    "        clustering = DBSCAN(eps=dbscan_eps,\n",
    "                            min_samples=dbscan_minsample).fit(df_temp.values)\n",
    "        df_temp[\"cluster\"] = clustering.labels_\n",
    "        df_temp.index = self.df.index\n",
    "        fig = px.scatter(self.df,\n",
    "                   x=scale_column1,\n",
    "                   y=scale_column2,\n",
    "                   color=clustering.labels_,\n",
    "                   size=column2)\n",
    "        # Edit the layout\n",
    "        fig.update_layout(title='Detected Custers\\n')\n",
    "        fig.update_xaxes(title=(f'{column1}'))\n",
    "        fig.update_yaxes(title=(f'{column2}'))\n",
    "        fig.update_layout(width = 700)\n",
    "        fig.update_layout(height = 600)\n",
    "        \n",
    "        fig.show()\n",
    "        #         sns.scatterplot(scale_column1, scale_column2,\n",
    "        #                         hue=clustering.labels_, alpha=0.5)\n",
    "        #         plt.title('CLUSTERS\\n', fontsize=15)\n",
    "        #         plt.xlabel(f'{column1}')\n",
    "        #         plt.ylabel(f'{column2}')\n",
    "        return df_temp[df_temp[\"cluster\"] == cluster_num].index"
   ]
  },
  {
   "cell_type": "markdown",
   "metadata": {},
   "source": [
    "<a id=\"sec4\"></a>\n",
    "## [FUNCTIONS FOR FEATURE ENGINEERING](#sec4)\n",
    "[(INDEX)](#sec2)"
   ]
  },
  {
   "cell_type": "code",
   "execution_count": 8,
   "metadata": {},
   "outputs": [],
   "source": [
    "def get_tax_category(engine_power):\n",
    "    '''Function breaks down the number of horse\n",
    "    power by taxation category in Russia'''\n",
    "\n",
    "    if engine_power <= 100:\n",
    "        return int(1)\n",
    "    elif 100 < engine_power <= 150:\n",
    "        return int(2)\n",
    "    elif 150 < engine_power <= 200:\n",
    "        return int(3)\n",
    "    elif 200 < engine_power <= 250:\n",
    "        return int(4)\n",
    "    elif engine_power > 250:\n",
    "        return int(5)\n",
    "\n",
    "\n",
    "def get_low_registr(word):\n",
    "    '''Get lowercase for string'''\n",
    "    try:\n",
    "        return word.lower()\n",
    "    except:\n",
    "        return None\n",
    "    \n",
    "def get_i3_displacement(engine_displacement, fuel_type, model_name):\n",
    "    '''fill mising values for  BMW i3'''\n",
    "    \n",
    "    if model_name == 'i3':\n",
    "        if fuel_type == 'гибрид':\n",
    "            return 0.7\n",
    "        else:\n",
    "            return 0\n",
    "    else:\n",
    "        return engine_displacement\n",
    "\n",
    "def get_electro_displacement(engine_displacement, fuel_type):\n",
    "    '''Filling mising vars for electrocars'''\n",
    "    \n",
    "    if fuel_type == 'электро':\n",
    "        return 0\n",
    "    else:\n",
    "        return engine_displacement\n",
    "    \n",
    "def get_acceleration(string):\n",
    "    '''Function extracting acceleration'''\n",
    "    \n",
    "    try:\n",
    "        return float(re.split(',', re.split('acceleration\\W+', str(string))[1])[0])\n",
    "    except:\n",
    "        return None\n",
    "    \n",
    "def get_fuel_rate(string):\n",
    "    '''Extrating fuel rate'''\n",
    "    try:\n",
    "        return float(re.split(',', re.split('fuel_rate\\W+', str(string))[1])[0])\n",
    "\n",
    "    except:\n",
    "        return None"
   ]
  },
  {
   "cell_type": "markdown",
   "metadata": {},
   "source": [
    "<a id=\"sec5\"></a>\n",
    "# [5.Load and Chek the Dataset](#sec5)\n",
    "[(INDEX)](#sec2)"
   ]
  },
  {
   "cell_type": "code",
   "execution_count": 9,
   "metadata": {},
   "outputs": [
    {
     "data": {
      "text/html": [
       "<div>\n",
       "<style scoped>\n",
       "    .dataframe tbody tr th:only-of-type {\n",
       "        vertical-align: middle;\n",
       "    }\n",
       "\n",
       "    .dataframe tbody tr th {\n",
       "        vertical-align: top;\n",
       "    }\n",
       "\n",
       "    .dataframe thead th {\n",
       "        text-align: right;\n",
       "    }\n",
       "</style>\n",
       "<table border=\"1\" class=\"dataframe\">\n",
       "  <thead>\n",
       "    <tr style=\"text-align: right;\">\n",
       "      <th></th>\n",
       "      <th>body_type</th>\n",
       "      <th>brand</th>\n",
       "      <th>color</th>\n",
       "      <th>complectation_dict</th>\n",
       "      <th>description</th>\n",
       "      <th>engine_displacement</th>\n",
       "      <th>engine_power</th>\n",
       "      <th>equipment_dict</th>\n",
       "      <th>fuel_type</th>\n",
       "      <th>image</th>\n",
       "      <th>mileage</th>\n",
       "      <th>model_date</th>\n",
       "      <th>model_info</th>\n",
       "      <th>model_name</th>\n",
       "      <th>name</th>\n",
       "      <th>doors_count</th>\n",
       "      <th>price_currency</th>\n",
       "      <th>production_date</th>\n",
       "      <th>sell_id</th>\n",
       "      <th>super_gen</th>\n",
       "      <th>vehicle_configuration</th>\n",
       "      <th>vehicle_transmission</th>\n",
       "      <th>vendor</th>\n",
       "      <th>owner_count</th>\n",
       "      <th>owning_period</th>\n",
       "      <th>car_passport</th>\n",
       "      <th>wheel_drive</th>\n",
       "      <th>wheel_location</th>\n",
       "      <th>condition</th>\n",
       "      <th>custom</th>\n",
       "      <th>price</th>\n",
       "      <th>sample</th>\n",
       "    </tr>\n",
       "  </thead>\n",
       "  <tbody>\n",
       "    <tr>\n",
       "      <th>149516</th>\n",
       "      <td>седан</td>\n",
       "      <td>Kia</td>\n",
       "      <td>голубой</td>\n",
       "      <td>{'id': '0'}</td>\n",
       "      <td>КРЕДИТНЫЕ КАНИКУЛЫ В НИЖЕГОРОДЦЕ!\\nЭТО НЕ ОТСР...</td>\n",
       "      <td>1.6</td>\n",
       "      <td>122.0</td>\n",
       "      <td>{'condition': True, 'aux': True, 'electro-wind...</td>\n",
       "      <td>бензин</td>\n",
       "      <td>//avatars.mds.yandex.net/get-autoru-vos/393253...</td>\n",
       "      <td>185141</td>\n",
       "      <td>2006</td>\n",
       "      <td>{'code': 'CERATO', 'name': 'Cerato', 'ru_name'...</td>\n",
       "      <td>CERATO</td>\n",
       "      <td>1.6 AT (122 л.с.)</td>\n",
       "      <td>4</td>\n",
       "      <td>RUB</td>\n",
       "      <td>2008</td>\n",
       "      <td>1103532396</td>\n",
       "      <td>{'id': '2434109', 'displacement': 1591, 'engin...</td>\n",
       "      <td>useless_col</td>\n",
       "      <td>AUTOMATIC</td>\n",
       "      <td>KOREAN</td>\n",
       "      <td>3</td>\n",
       "      <td>NaN</td>\n",
       "      <td>ORIGINAL</td>\n",
       "      <td>передний</td>\n",
       "      <td>LEFT</td>\n",
       "      <td>True</td>\n",
       "      <td>True</td>\n",
       "      <td>379000.0</td>\n",
       "      <td>1</td>\n",
       "    </tr>\n",
       "    <tr>\n",
       "      <th>126052</th>\n",
       "      <td>универсал 5 дв</td>\n",
       "      <td>Volvo</td>\n",
       "      <td>коричневый</td>\n",
       "      <td>{'id': '0'}</td>\n",
       "      <td>Отличный автомобиль в хорошей комплектации.ГРМ...</td>\n",
       "      <td>2.4</td>\n",
       "      <td>163.0</td>\n",
       "      <td>{'engine-proof': True, 'esp': True, 'adaptive-...</td>\n",
       "      <td>дизель</td>\n",
       "      <td>//avatars.mds.yandex.net/get-autoru-vos/407780...</td>\n",
       "      <td>187000</td>\n",
       "      <td>2007</td>\n",
       "      <td>{'code': 'XC70', 'name': 'XC70', 'ru_name': 'X...</td>\n",
       "      <td>XC70</td>\n",
       "      <td>2.4d AT (163 л.с.) 4WD</td>\n",
       "      <td>5</td>\n",
       "      <td>RUB</td>\n",
       "      <td>2011</td>\n",
       "      <td>1103160461</td>\n",
       "      <td>{'id': '7970309', 'displacement': 2400, 'engin...</td>\n",
       "      <td>useless_col</td>\n",
       "      <td>AUTOMATIC</td>\n",
       "      <td>EUROPEAN</td>\n",
       "      <td>1</td>\n",
       "      <td>NaN</td>\n",
       "      <td>ORIGINAL</td>\n",
       "      <td>полный</td>\n",
       "      <td>LEFT</td>\n",
       "      <td>True</td>\n",
       "      <td>True</td>\n",
       "      <td>1200000.0</td>\n",
       "      <td>1</td>\n",
       "    </tr>\n",
       "  </tbody>\n",
       "</table>\n",
       "</div>"
      ],
      "text/plain": [
       "             body_type  brand       color complectation_dict  \\\n",
       "149516           седан    Kia     голубой        {'id': '0'}   \n",
       "126052  универсал 5 дв  Volvo  коричневый        {'id': '0'}   \n",
       "\n",
       "                                              description  \\\n",
       "149516  КРЕДИТНЫЕ КАНИКУЛЫ В НИЖЕГОРОДЦЕ!\\nЭТО НЕ ОТСР...   \n",
       "126052  Отличный автомобиль в хорошей комплектации.ГРМ...   \n",
       "\n",
       "        engine_displacement  engine_power  \\\n",
       "149516                  1.6         122.0   \n",
       "126052                  2.4         163.0   \n",
       "\n",
       "                                           equipment_dict fuel_type  \\\n",
       "149516  {'condition': True, 'aux': True, 'electro-wind...    бензин   \n",
       "126052  {'engine-proof': True, 'esp': True, 'adaptive-...    дизель   \n",
       "\n",
       "                                                    image  mileage  \\\n",
       "149516  //avatars.mds.yandex.net/get-autoru-vos/393253...   185141   \n",
       "126052  //avatars.mds.yandex.net/get-autoru-vos/407780...   187000   \n",
       "\n",
       "        model_date                                         model_info  \\\n",
       "149516        2006  {'code': 'CERATO', 'name': 'Cerato', 'ru_name'...   \n",
       "126052        2007  {'code': 'XC70', 'name': 'XC70', 'ru_name': 'X...   \n",
       "\n",
       "       model_name                    name  doors_count price_currency  \\\n",
       "149516     CERATO       1.6 AT (122 л.с.)            4            RUB   \n",
       "126052       XC70  2.4d AT (163 л.с.) 4WD            5            RUB   \n",
       "\n",
       "        production_date     sell_id  \\\n",
       "149516             2008  1103532396   \n",
       "126052             2011  1103160461   \n",
       "\n",
       "                                                super_gen  \\\n",
       "149516  {'id': '2434109', 'displacement': 1591, 'engin...   \n",
       "126052  {'id': '7970309', 'displacement': 2400, 'engin...   \n",
       "\n",
       "       vehicle_configuration vehicle_transmission    vendor owner_count  \\\n",
       "149516           useless_col            AUTOMATIC    KOREAN           3   \n",
       "126052           useless_col            AUTOMATIC  EUROPEAN           1   \n",
       "\n",
       "       owning_period car_passport wheel_drive wheel_location condition custom  \\\n",
       "149516           NaN     ORIGINAL    передний           LEFT      True   True   \n",
       "126052           NaN     ORIGINAL      полный           LEFT      True   True   \n",
       "\n",
       "            price  sample  \n",
       "149516   379000.0       1  \n",
       "126052  1200000.0       1  "
      ]
     },
     "execution_count": 9,
     "metadata": {},
     "output_type": "execute_result"
    }
   ],
   "source": [
    "# import data pre-processed data set\n",
    "df = df_combined.copy()\n",
    "df.sample(2)"
   ]
  },
  {
   "cell_type": "markdown",
   "metadata": {},
   "source": [
    "<a id=\"sec6\"></a>\n",
    "# [9.FETAURE ENGINEERING](#sec6)\n",
    "[(INDEX)](#sec2)"
   ]
  },
  {
   "cell_type": "markdown",
   "metadata": {},
   "source": [
    "Get lowercase"
   ]
  },
  {
   "cell_type": "code",
   "execution_count": 10,
   "metadata": {},
   "outputs": [],
   "source": [
    "# take cols with objects\n",
    "object_columns = df.dtypes[df.dtypes.values == object].index.to_list()\n",
    "\n",
    "for col in object_columns:\n",
    "    df[col] = df[col].apply(lambda string: get_low_registr(string))"
   ]
  },
  {
   "cell_type": "markdown",
   "metadata": {},
   "source": [
    "<a id=\"sec6\"></a>\n",
    "## [Target](#sec6)\n",
    "[(INDEX)](#sec2)"
   ]
  },
  {
   "cell_type": "markdown",
   "metadata": {},
   "source": [
    "Drop rows with car price more than 30 mlns."
   ]
  },
  {
   "cell_type": "code",
   "execution_count": 11,
   "metadata": {},
   "outputs": [],
   "source": [
    "idx_to_drop = df[df['price'] >= 30000000].index\n",
    "df=df.drop(idx_to_drop)"
   ]
  },
  {
   "cell_type": "markdown",
   "metadata": {},
   "source": [
    "Drop rows with missing values"
   ]
  },
  {
   "cell_type": "code",
   "execution_count": 12,
   "metadata": {},
   "outputs": [],
   "source": [
    "df.query('sample == 1')['price'].isna().sum()\n",
    "indexes_to_drop = df[(df['price'].isna()) & (df['sample']==1)].index\n",
    "df = df.drop(indexes_to_drop)"
   ]
  },
  {
   "cell_type": "markdown",
   "metadata": {},
   "source": [
    "<a id=\"sec6\"></a>\n",
    "## [body_type](#sec6)\n",
    "[(INDEX)](#sec2)"
   ]
  },
  {
   "cell_type": "markdown",
   "metadata": {},
   "source": [
    "Reduce quantity of body_types"
   ]
  },
  {
   "cell_type": "code",
   "execution_count": 13,
   "metadata": {},
   "outputs": [],
   "source": [
    "pattern = re.compile('[а-я]*')\n",
    "new_column = []\n",
    "for string in df['body_type']:\n",
    "    new_column.append(pattern.match(str(string))[0])\n",
    "df['body_type'] = new_column"
   ]
  },
  {
   "cell_type": "markdown",
   "metadata": {},
   "source": [
    "<a id=\"sec6\"></a>\n",
    "## [color](#sec6)\n",
    "[(INDEX)](#sec2)"
   ]
  },
  {
   "cell_type": "markdown",
   "metadata": {},
   "source": [
    "With a reference to EDA section we generate new feature to show whether the color is popular.\n",
    "\n",
    "Meanwhile we re-orgasnize colors in original column by taking only most common colors"
   ]
  },
  {
   "cell_type": "code",
   "execution_count": 14,
   "metadata": {},
   "outputs": [],
   "source": [
    "# List of top3 colors (see EDA)\n",
    "popular_color = ['чёрный', 'белый', 'серый']\n",
    "df['popular_color'] = df['color'].apply(\n",
    "    lambda color: 1 if color in popular_color else 0)"
   ]
  },
  {
   "cell_type": "code",
   "execution_count": 15,
   "metadata": {},
   "outputs": [],
   "source": [
    "# Create list with top colors\n",
    "top_colors = df['color'].value_counts()[df['color'].value_counts(\n",
    ") > np.percentile((df['color'].value_counts().values), 70)].index.tolist()\n",
    "\n",
    "#take all colors from df to a list\n",
    "all_colors = df['color'].value_counts().index\n",
    "\n",
    "# Identify, what to delete\n",
    "colors_to_drop = set(all_colors) - set(top_colors)\n",
    "\n",
    "# Make replacemewnt\n",
    "df.loc[df['color'].isin(colors_to_drop), 'color'] = 'other'"
   ]
  },
  {
   "cell_type": "markdown",
   "metadata": {},
   "source": [
    "<a id=\"sec6\"></a>\n",
    "## [Model_name](#sec6)\n",
    "[(INDEX)](#sec2)"
   ]
  },
  {
   "cell_type": "code",
   "execution_count": null,
   "metadata": {},
   "outputs": [],
   "source": []
  },
  {
   "cell_type": "markdown",
   "metadata": {},
   "source": [
    "<a id=\"sec6\"></a>\n",
    "## [Description](#sec6)\n",
    "[(INDEX)](#sec2)"
   ]
  },
  {
   "cell_type": "markdown",
   "metadata": {},
   "source": [
    "Let's generate new features:\n",
    "- Sensitivity and polarity for the description column"
   ]
  },
  {
   "cell_type": "code",
   "execution_count": 16,
   "metadata": {},
   "outputs": [],
   "source": [
    "df['description'] = df['description'].fillna('none')\n",
    "df['description'] = df['description'].apply(cleanTxt)"
   ]
  },
  {
   "cell_type": "code",
   "execution_count": 17,
   "metadata": {},
   "outputs": [],
   "source": [
    "# Create a function to get the subjectivity\n",
    "def get_subjectivity(text):\n",
    "    return TextBlob(text).sentiment.subjectivity\n",
    "\n",
    "# Create a function to get the polarity\n",
    "def get_polarity(text):\n",
    "    return TextBlob(text).sentiment.polarity"
   ]
  },
  {
   "cell_type": "code",
   "execution_count": 18,
   "metadata": {},
   "outputs": [
    {
     "name": "stdout",
     "output_type": "stream",
     "text": [
      "Couldn't find program: 'false'\n"
     ]
    }
   ],
   "source": [
    "%%script false\n",
    "# Create new cols and call the func\n",
    "\n",
    "df['subjectivity'] = df['description'].apply(get_subjectivity)\n",
    "\n",
    "df['polarity'] = df['description'].apply(get_polarity)\n",
    "# add polarity analysis\n",
    "df_sentiment['analysis'] = df_sentiment['polarity'].apply(get_analysis)\n",
    "\n",
    "# show data\n",
    "df.sample(4)"
   ]
  },
  {
   "cell_type": "code",
   "execution_count": 19,
   "metadata": {},
   "outputs": [],
   "source": [
    "# Create a function to compute the negative, neutral and positive analysis\n",
    "def get_analysis(score):\n",
    "    if score < 0:\n",
    "        return 'negative'\n",
    "    elif score == 0:\n",
    "        return 'neutral'\n",
    "    else:\n",
    "        return 'positive'"
   ]
  },
  {
   "cell_type": "code",
   "execution_count": 20,
   "metadata": {},
   "outputs": [
    {
     "name": "stdout",
     "output_type": "stream",
     "text": [
      "Couldn't find program: 'false'\n"
     ]
    }
   ],
   "source": [
    "%%script false\n",
    "# df_sentiment['analysis'] = df_sentiment['polarity'].apply(get_analysis)"
   ]
  },
  {
   "cell_type": "markdown",
   "metadata": {},
   "source": [
    "<a id=\"sec6\"></a>\n",
    "## [fuel_type](#sec6)\n",
    "[(INDEX)](#sec2)"
   ]
  },
  {
   "cell_type": "code",
   "execution_count": 21,
   "metadata": {},
   "outputs": [],
   "source": [
    "# lets strip fuel type\n",
    "df['fuel_type'] = df.fuel_type.apply(lambda fuel: str(fuel).strip())"
   ]
  },
  {
   "cell_type": "markdown",
   "metadata": {},
   "source": [
    "<a id=\"sec6\"></a>\n",
    "## [engine_displacement](#sec6)\n",
    "[(INDEX)](#sec2)"
   ]
  },
  {
   "cell_type": "markdown",
   "metadata": {},
   "source": [
    "We know, that there is no engine displacement for the electical cars. We also know there is missing values in this colums.\n",
    "\n",
    "Let's fix it. If car is electric - diplacement shall be 0."
   ]
  },
  {
   "cell_type": "code",
   "execution_count": 22,
   "metadata": {},
   "outputs": [],
   "source": [
    "df['engine_displacement'] = df[['engine_displacement','fuel_type']].apply(\n",
    "    lambda x: get_electro_displacement(*x), axis=1)"
   ]
  },
  {
   "cell_type": "markdown",
   "metadata": {},
   "source": [
    "It was observed that BMW model i3 has missing values in engine displacement. Let's say if it it is hybrid - then eng_displ - 0.7. If n0 - then 0"
   ]
  },
  {
   "cell_type": "code",
   "execution_count": 23,
   "metadata": {},
   "outputs": [],
   "source": [
    "df['engine_displacement'] = df[['engine_displacement','fuel_type', 'model_name']].apply(\n",
    "    lambda x: get_i3_displacement(*x), axis=1)"
   ]
  },
  {
   "cell_type": "markdown",
   "metadata": {},
   "source": [
    "<a id=\"sec6\"></a>\n",
    "## [engine_power](#sec6)\n",
    "[(INDEX)](#sec2)"
   ]
  },
  {
   "cell_type": "markdown",
   "metadata": {},
   "source": [
    "There is a special low in Russian Federation that devide cars by tax categories. \n",
    "\n",
    "More power in engine, higer grade of tax. It may impact on a prediction. Let's break our cars down by such categories"
   ]
  },
  {
   "cell_type": "code",
   "execution_count": 24,
   "metadata": {},
   "outputs": [],
   "source": [
    "df['tax_rate'] = df['engine_power'].apply(\n",
    "    lambda engine_power: get_tax_category(engine_power)).astype('category')"
   ]
  },
  {
   "cell_type": "markdown",
   "metadata": {},
   "source": [
    "<a id=\"sec6\"></a>\n",
    "## [Super_gen](#sec6)\n",
    "[(INDEX)](#sec2)"
   ]
  },
  {
   "cell_type": "markdown",
   "metadata": {},
   "source": [
    "Let's extract some information like an acceleration from supergen column.\n",
    "\n",
    "Generated new feature Acceleration"
   ]
  },
  {
   "cell_type": "code",
   "execution_count": 25,
   "metadata": {},
   "outputs": [],
   "source": [
    "# Before we do, fill up empty dictionaries with 'Nan'\n",
    "df['super_gen'] = df['super_gen'].fillna('NaN')\n",
    "df['super_gen'] = df['super_gen'].apply(cleanTxt)\n",
    "# Extract fuel rate,acceleration and generate new feature\n",
    "df['acceleration'] = df['super_gen'].apply(lambda string:get_acceleration(string))\n",
    "df['fuel_rate'] = df['super_gen'].apply(lambda string:get_fuel_rate(string))"
   ]
  },
  {
   "cell_type": "code",
   "execution_count": 26,
   "metadata": {},
   "outputs": [
    {
     "data": {
      "text/plain": [
       "11243"
      ]
     },
     "execution_count": 26,
     "metadata": {},
     "output_type": "execute_result"
    }
   ],
   "source": [
    "# missing vars in a new feature\n",
    "df['acceleration'].isna().sum()"
   ]
  },
  {
   "cell_type": "code",
   "execution_count": 27,
   "metadata": {},
   "outputs": [
    {
     "data": {
      "text/plain": [
       "21408"
      ]
     },
     "execution_count": 27,
     "metadata": {},
     "output_type": "execute_result"
    }
   ],
   "source": [
    "df['fuel_rate'].isna().sum()"
   ]
  },
  {
   "cell_type": "markdown",
   "metadata": {},
   "source": [
    "Let's fill missing values by randomly choosen value from most common in particular colums.\n",
    "\n",
    "For a company, add car pasport here and owner count"
   ]
  },
  {
   "cell_type": "code",
   "execution_count": 28,
   "metadata": {},
   "outputs": [],
   "source": [
    "cols_to_fill = ['acceleration', 'fuel_rate', 'car_passport','owner_count']\n",
    "for col in cols_to_fill:\n",
    "    missing_vars(df,col)"
   ]
  },
  {
   "cell_type": "markdown",
   "metadata": {},
   "source": [
    "<a id=\"sec6\"></a>\n",
    "## [Transmission](#sec6)\n",
    "[(INDEX)](#sec2)"
   ]
  },
  {
   "cell_type": "code",
   "execution_count": null,
   "metadata": {},
   "outputs": [],
   "source": []
  },
  {
   "cell_type": "code",
   "execution_count": null,
   "metadata": {},
   "outputs": [],
   "source": []
  },
  {
   "cell_type": "code",
   "execution_count": null,
   "metadata": {},
   "outputs": [],
   "source": []
  },
  {
   "cell_type": "markdown",
   "metadata": {},
   "source": [
    "<a id=\"sec6\"></a>\n",
    "## [Price change index ](#sec6)\n",
    "[(INDEX)](#sec2)"
   ]
  },
  {
   "cell_type": "markdown",
   "metadata": {},
   "source": [
    "With a reference to EDA, we know, that some brands loose their price more faster than others. Let's generate such feature"
   ]
  },
  {
   "cell_type": "code",
   "execution_count": 50,
   "metadata": {},
   "outputs": [],
   "source": [
    "def get_change_index(model):\n",
    "    if model == 'ford':\n",
    "        return int(1)\n",
    "    if model == 'volvo' or model == 'mercedes-benz':\n",
    "        return int(2)\n",
    "    if model == 'honda' or model == 'audi':\n",
    "        return int(2)\n",
    "    return int(0)"
   ]
  },
  {
   "cell_type": "code",
   "execution_count": 52,
   "metadata": {},
   "outputs": [],
   "source": [
    "df['prc_chg_idx'] = df['brand'].apply(\n",
    "    lambda brand: get_change_index(brand)).astype('category')"
   ]
  },
  {
   "cell_type": "markdown",
   "metadata": {},
   "source": [
    "<a id=\"sec6\"></a>\n",
    "## [Dropping cars without info out](#sec6)\n",
    "[(INDEX)](#sec2)"
   ]
  },
  {
   "cell_type": "code",
   "execution_count": 29,
   "metadata": {},
   "outputs": [
    {
     "data": {
      "text/plain": [
       "3"
      ]
     },
     "execution_count": 29,
     "metadata": {},
     "output_type": "execute_result"
    }
   ],
   "source": [
    "df['engine_displacement'].isna().sum()"
   ]
  },
  {
   "cell_type": "code",
   "execution_count": 30,
   "metadata": {},
   "outputs": [],
   "source": [
    "df = df.dropna(axis=0, subset=['engine_displacement'])"
   ]
  },
  {
   "cell_type": "markdown",
   "metadata": {},
   "source": [
    "<a id=\"sec6\"></a>\n",
    "## [Handling multicollinearity out](#sec6)\n",
    "[(INDEX)](#sec2)"
   ]
  },
  {
   "cell_type": "code",
   "execution_count": 31,
   "metadata": {},
   "outputs": [],
   "source": [
    "# extract trhee columns from dataset, which are correlated\n",
    "data = df[['mileage', 'model_date','production_date']].values\n",
    "# create Scaler instance\n",
    "scaler = StandardScaler()\n",
    "scaled_data = scaler.fit_transform(data)\n",
    "\n",
    "# We have 3 vectors. Reduce to two, taking most important info.\n",
    "pca = PCA(n_components=2)\n",
    "pca.fit(scaled_data)\n",
    "pca_data = pca.transform(scaled_data)\n",
    "df['pca_1'],df['pca_2'] = pca_data[:,0],pca_data[:,1]\n",
    "# df = df.drop(['model_date','mileage'],axis=1)"
   ]
  },
  {
   "cell_type": "markdown",
   "metadata": {},
   "source": [
    "<a id=\"sec6\"></a>\n",
    "## [Clustering](#sec6)\n",
    "[(INDEX)](#sec2)"
   ]
  },
  {
   "cell_type": "code",
   "execution_count": 32,
   "metadata": {},
   "outputs": [],
   "source": [
    "cluster = Outliers_detector(df)"
   ]
  },
  {
   "cell_type": "code",
   "execution_count": 33,
   "metadata": {},
   "outputs": [],
   "source": [
    "# indeces = outlier.get_dbscan_outliers('model_date', 'mileage', dbscan_eps=.7,\n",
    "#                                      dbscan_minsample=12,\n",
    "#                                      cluster_num=-1)\n",
    "# print(f\"Strange guys {len(indeces)}\")"
   ]
  },
  {
   "cell_type": "markdown",
   "metadata": {},
   "source": [
    "<a id=\"sec6\"></a>\n",
    "## [Dropping cols out](#sec6)\n",
    "[(INDEX)](#sec2)"
   ]
  },
  {
   "cell_type": "code",
   "execution_count": 34,
   "metadata": {},
   "outputs": [],
   "source": [
    "cols_to_drop = [\n",
    "    'complectation_dict',\n",
    "    'description',\n",
    "    'equipment_dict',\n",
    "    'image',\n",
    "    'model_info',\n",
    "    'name',\n",
    "    'price_currency',\n",
    "    'vehicle_configuration',\n",
    "    'custom',\n",
    "    'condition',\n",
    "    'owning_period',\n",
    "    'super_gen',  #'engine_power'\n",
    "]\n",
    "df = df.drop(cols_to_drop, axis=1)"
   ]
  },
  {
   "cell_type": "markdown",
   "metadata": {},
   "source": [
    "<a id=\"sec6\"></a>\n",
    "## [ENCODING](#sec6)\n",
    "[(INDEX)](#sec2)"
   ]
  },
  {
   "cell_type": "code",
   "execution_count": null,
   "metadata": {},
   "outputs": [],
   "source": []
  }
 ],
 "metadata": {
  "kernelspec": {
   "display_name": "Python 3",
   "language": "python",
   "name": "python3"
  },
  "language_info": {
   "codemirror_mode": {
    "name": "ipython",
    "version": 3
   },
   "file_extension": ".py",
   "mimetype": "text/x-python",
   "name": "python",
   "nbconvert_exporter": "python",
   "pygments_lexer": "ipython3",
   "version": "3.8.3"
  },
  "toc": {
   "base_numbering": 1,
   "nav_menu": {},
   "number_sections": true,
   "sideBar": true,
   "skip_h1_title": false,
   "title_cell": "Table of Contents",
   "title_sidebar": "Contents",
   "toc_cell": false,
   "toc_position": {},
   "toc_section_display": true,
   "toc_window_display": false
  }
 },
 "nbformat": 4,
 "nbformat_minor": 4
}
