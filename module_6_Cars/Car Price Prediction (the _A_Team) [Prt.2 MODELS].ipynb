{
 "cells": [
  {
   "cell_type": "markdown",
   "metadata": {},
   "source": [
    "# Choose a Car Profitably [Car Price prediction] PART.2"
   ]
  },
  {
   "cell_type": "markdown",
   "metadata": {},
   "source": [
    "This work has made by Paul Krivchenia in cooperation with Vitaliy Burlakov (a.k.a Vetak8):\n",
    "#### [My GitHub](https://github.com/Paull-dark)\n",
    "#### [Vetak's GitHub](https://github.com/vetak8)\n",
    "#### [Vetak's Kaggle](https://www.kaggle.com/vitaliyburlakov)"
   ]
  },
  {
   "cell_type": "markdown",
   "metadata": {},
   "source": [
    "<img src = 'http://3.bp.blogspot.com/--knDCWYzMOw/UqzpwyctJeI/AAAAAAAAAT8/Ui66KNd1nXM/s1600/7egylh57hbhs.jpg' width= '400px'>"
   ]
  },
  {
   "cell_type": "markdown",
   "metadata": {},
   "source": [
    "<a id=\"sec2\"></a>\n",
    "# [INDEX](#sec2)\n",
    "\n",
    "<a id=\"sec1\"></a>\n",
    "1. [Description](#sec1)\n",
    "   * [1.1 Features Defination](#sec1.1)\n",
    "2. [INDEX](#sec2)\n",
    "3. [IMPORT LIBRARRIES](#sec3)\n",
    "4. [Functions and Classes](#sec4)\n",
    "5. [Load and Chek the Dataset](#sec5)"
   ]
  },
  {
   "cell_type": "markdown",
   "metadata": {},
   "source": [
    "<a id=\"sec2\"></a>\n",
    "# [Import LIBRARIES](#sec2)"
   ]
  },
  {
   "cell_type": "code",
   "execution_count": 1,
   "metadata": {},
   "outputs": [
    {
     "name": "stdout",
     "output_type": "stream",
     "text": [
      "body_type\n",
      "brand\n",
      "color\n",
      "complectation_dict\n",
      "description\n",
      "engine_displacement\n",
      "engine_power\n",
      "equipment_dict\n",
      "fuel_type\n",
      "image\n",
      "mileage\n",
      "model_date\n",
      "model_info\n",
      "model_name\n",
      "name\n",
      "doors_count\n",
      "price_currency\n",
      "production_date\n",
      "sell_id\n",
      "super_gen\n",
      "vehicle_configuration\n",
      "vehicle_transmission\n",
      "vendor\n",
      "owner_count\n",
      "owning_period\n",
      "car_passport\n",
      "wheel_drive\n",
      "wheel_location\n",
      "condition\n",
      "custom\n",
      "price\n",
      "sample\n"
     ]
    }
   ],
   "source": [
    "from Preprocessing import df_combined\n",
    "\n",
    "import pandas as pd\n",
    "import numpy as np\n",
    "import re\n",
    "import matplotlib.pyplot as plt\n",
    "import seaborn as sns\n",
    "import plotly.express as px\n",
    "import warnings\n",
    "from jupyterthemes import jtplot\n",
    "\n",
    "from textblob import TextBlob  # for sentiment analysis\n",
    "from wordcloud import WordCloud  # for creating cloud of words\n",
    "from sklearn.cluster import DBSCAN\n",
    "\n",
    "from sklearn.decomposition import PCA \n",
    "from sklearn.preprocessing import LabelEncoder, OneHotEncoder\n",
    "from sklearn.preprocessing import StandardScaler, RobustScaler\n",
    "from sklearn.model_selection import train_test_split\n",
    "from sklearn.metrics import mean_absolute_error\n",
    "\n",
    "\n",
    "warnings.filterwarnings(\"ignore\")\n",
    "\n",
    "%matplotlib inline\n",
    "pd.set_option('display.max_rows', 50)  # Show more rows\n",
    "pd.set_option('display.max_columns', 50)  # Show more columns\n",
    "plt.style.use('ggplot')  # Nice plotting\n",
    "\n",
    "jtplot.style(theme='monokai', context='notebook', ticks=True, grid=False)\n"
   ]
  },
  {
   "cell_type": "code",
   "execution_count": 2,
   "metadata": {},
   "outputs": [
    {
     "data": {
      "image/png": "[encoded data removed]",
      "text/plain": [
       "<Figure size 360x72 with 1 Axes>"
      ]
     },
     "metadata": {},
     "output_type": "display_data"
    }
   ],
   "source": [
    "# Set project colors\n",
    "colors = ['#001c57', '#50248f', '#a6a6a6', '#38d1ff','#cc3181']\n",
    "sns.palplot(sns.color_palette(colors))"
   ]
  },
  {
   "cell_type": "markdown",
   "metadata": {},
   "source": [
    "<a id=\"sec4\"></a>\n",
    "# [FUNCTIONS and CLASSES](#sec4)\n",
    "[(INDEX)](#sec2)"
   ]
  },
  {
   "cell_type": "markdown",
   "metadata": {},
   "source": [
    "<a id=\"sec4\"></a>\n",
    "## [GENERAL FUNCTIONS](#sec4)\n",
    "[(INDEX)](#sec2)"
   ]
  },
  {
   "cell_type": "code",
   "execution_count": 3,
   "metadata": {},
   "outputs": [],
   "source": [
    "def missing_vars(data, column, random_proba=True):\n",
    "    '''Function is called for filling of missing data'''\n",
    "    # With using probability and random choise\n",
    "\n",
    "    if random_proba:\n",
    "        col_name = data[column].value_counts().index.to_list(\n",
    "        )  # get list of values\n",
    "        col_distr = data[column].value_counts(\n",
    "            normalize=True).values  # get l;ist of probs\n",
    "        missing = data[col].isnull()  # flag of missing val\n",
    "        # substitute values from the list of names in accordance with the probability of meeting the name\n",
    "        data.loc[missing, [column]] = np.random.choice(col_name,\n",
    "                                                    size=len(data[missing]),\n",
    "                                                    p=col_distr)\n",
    "\n",
    "    # Using  most common in  column\n",
    "    data[col] = data[col].fillna(data[col].value_counts().index[0])"
   ]
  },
  {
   "cell_type": "code",
   "execution_count": 4,
   "metadata": {},
   "outputs": [],
   "source": [
    "def get_variable_distribution(col, title=None):\n",
    "    '''Function is called to plot feture distribution'''\n",
    "\n",
    "    title = title if title is not None else f\"Distribution for '{col}\"\n",
    "    fig, (ax1, ax2, ax3) = plt.subplots(1, 3, figsize=(15, 5),)\n",
    "    fig = sm.qqplot(col, fit=True, line='45', ax=ax1)\n",
    "    fig.suptitle(title, fontsize=20)\n",
    "\n",
    "    sns.distplot(col.values, bins=20, color=colors[1], ax=ax2)\n",
    "#     sns.violinplot(col.values, color=colors[3], bw=.3, cut=1, linewidth=4)\n",
    "    sns.boxplot(col.values,color=colors[3])\n",
    "\n",
    "    ax1.set_title('QQ-plot')\n",
    "    ax2.set_title('Distribution')\n",
    "    ax3.set_title('Boxplot')\n",
    "\n",
    "    plt.show()"
   ]
  },
  {
   "cell_type": "code",
   "execution_count": 5,
   "metadata": {},
   "outputs": [],
   "source": [
    "def cleanTxt(text):\n",
    "    '''Function is called for cleaning text from trash\n",
    "    INPUT: dirty string\n",
    "    OUTPUT: More or less clean string'''\n",
    "\n",
    "    text = re.sub(r'@[А-Яа-я0-9]+', '', text)  # Remove @\n",
    "    text = re.sub(r'#', '', text)  # remove #\n",
    "    text = re.sub(r'{', '', text)\n",
    "    text = re.sub(r'}', '', text)\n",
    "    text = re.sub('^а-яА-Я', ' ', text)\n",
    "    text = re.sub(r'https?:\\/\\/\\S+', '', text)  # remove hyperlink\n",
    "    text = re.sub(r'\\n', '', text)\n",
    "    text = re.sub(r'👍🏻', '', text)\n",
    "    # there are much more emoji. I don't know how to identify them so far\n",
    "\n",
    "    text = text.lower()\n",
    "    text = text.strip()\n",
    "    #text = text.split()\n",
    "    return text"
   ]
  },
  {
   "cell_type": "code",
   "execution_count": 6,
   "metadata": {},
   "outputs": [],
   "source": [
    "def to_log(df, cols_to_log):\n",
    "    for col in cols_to_log:\n",
    "        a = df[col].min()\n",
    "        if a <= 0:                        \n",
    "            df[col] = np.log(df[col] + (int(abs(df[col].min()))+1))\n",
    "        \n",
    "        df[col] = np.log(df[col])\n",
    "    return df"
   ]
  },
  {
   "cell_type": "markdown",
   "metadata": {},
   "source": [
    "<a id=\"sec4\"></a>\n",
    "## [Classes](#sec4)\n",
    "[(INDEX)](#sec2)"
   ]
  },
  {
   "cell_type": "code",
   "execution_count": 7,
   "metadata": {},
   "outputs": [],
   "source": [
    "class Encoder():\n",
    "    def __init__(self, dataframe):\n",
    "        self.dataframe = dataframe\n",
    "\n",
    "    def label_encoder(self, column):\n",
    "        le = LabelEncoder()\n",
    "        self.dataframe[column] = le.fit_transform(self.dataframe[column])\n",
    "\n",
    "    def hot_encoder(self, column):\n",
    "        ohe = OneHotEncoder(handle_unknown='ignore', sparse=False)\n",
    "        aux_df = pd.DataFrame(ohe.fit_transform(self.dataframe[[column]]))\n",
    "        aux_df.columns = ohe.get_feature_names([f'hot_{column}'])\n",
    "        self.dataframe = self.dataframe.drop(col, axis=1)\n",
    "        self.dataframe = pd.concat([self.dataframe, aux_df], axis=1)\n",
    "        return self.dataframe"
   ]
  },
  {
   "cell_type": "code",
   "execution_count": 8,
   "metadata": {},
   "outputs": [],
   "source": [
    "class Outliers_detector():\n",
    "    def __init__(self, df):\n",
    "        self.df = df\n",
    "\n",
    "    def get_IQR_outliers(self, column):\n",
    "        '''Method is called to detect IQR outliers'''\n",
    "        outliers = dict()\n",
    "        q1, q3 = np.percentile(sorted(self.df[column]), [25, 75])\n",
    "\n",
    "        IQR = q3 - q1\n",
    "\n",
    "        l_b = q1 - (1.5 * IQR)  # lower bound\n",
    "        u_b = q3 + (1.5 * IQR)  # upper bound\n",
    "        outl_count = len(self.df[column][self.df[column] < l_b]) + len(\n",
    "            self.df[column][self.df[column] > u_b])\n",
    "\n",
    "        outliers['lower_bound'] = round(l_b, 3)\n",
    "        outliers['upper_bound'] = round(u_b, 3)\n",
    "        outliers['outlier_count'] = outl_count\n",
    "\n",
    "        return outliers\n",
    "\n",
    "    def get_dbscan_outliers(self, column1, column2, dbscan_eps,\n",
    "                            dbscan_minsample, cluster_num):\n",
    "        '''Method is called for detecting outliers for two columns by dbscan'''\n",
    "\n",
    "        scaler = RobustScaler()\n",
    "        scale_column1 = scaler.fit_transform(pd.DataFrame(\n",
    "            self.df[column1])).reshape(1, -1)[0]\n",
    "        scale_column2 = scaler.fit_transform(pd.DataFrame(\n",
    "            self.df[column2])).reshape(1, -1)[0]\n",
    "        df_temp = pd.DataFrame({\n",
    "            'column1': scale_column1,\n",
    "            'column2': scale_column2\n",
    "        })\n",
    "        clustering = DBSCAN(eps=dbscan_eps,\n",
    "                            min_samples=dbscan_minsample).fit(df_temp.values)\n",
    "        df_temp[\"cluster\"] = clustering.labels_\n",
    "        df_temp.index = self.df.index\n",
    "        fig = px.scatter(self.df,\n",
    "                   x=scale_column1,\n",
    "                   y=scale_column2,\n",
    "                   color=clustering.labels_,\n",
    "                   size=column2)\n",
    "        # Edit the layout\n",
    "        fig.update_layout(title='Detected Custers\\n')\n",
    "        fig.update_xaxes(title=(f'{column1}'))\n",
    "        fig.update_yaxes(title=(f'{column2}'))\n",
    "        fig.update_layout(width = 700)\n",
    "        fig.update_layout(height = 600)\n",
    "        \n",
    "        fig.show()\n",
    "        #         sns.scatterplot(scale_column1, scale_column2,\n",
    "        #                         hue=clustering.labels_, alpha=0.5)\n",
    "        #         plt.title('CLUSTERS\\n', fontsize=15)\n",
    "        #         plt.xlabel(f'{column1}')\n",
    "        #         plt.ylabel(f'{column2}')\n",
    "        return df_temp[df_temp[\"cluster\"] == cluster_num].index"
   ]
  },
  {
   "cell_type": "markdown",
   "metadata": {},
   "source": [
    "<a id=\"sec4\"></a>\n",
    "## [FUNCTIONS FOR FEATURE ENGINEERING](#sec4)\n",
    "[(INDEX)](#sec2)"
   ]
  },
  {
   "cell_type": "code",
   "execution_count": 9,
   "metadata": {},
   "outputs": [],
   "source": [
    "def get_tax_category(engine_power):\n",
    "    '''Function breaks down the number of horse\n",
    "    power by taxation category in Russia'''\n",
    "\n",
    "    if engine_power <= 100:\n",
    "        return int(1)\n",
    "    elif 100 < engine_power <= 150:\n",
    "        return int(2)\n",
    "    elif 150 < engine_power <= 200:\n",
    "        return int(3)\n",
    "    elif 200 < engine_power <= 250:\n",
    "        return int(4)\n",
    "    elif engine_power > 250:\n",
    "        return int(5)\n",
    "\n",
    "\n",
    "def get_low_registr(word):\n",
    "    '''Get lowercase for string'''\n",
    "    try:\n",
    "        return word.lower()\n",
    "    except:\n",
    "        return None\n",
    "    \n",
    "def get_i3_displacement(engine_displacement, fuel_type, model_name):\n",
    "    '''fill mising values for  BMW i3'''\n",
    "    \n",
    "    if model_name == 'i3':\n",
    "        if fuel_type == 'гибрид':\n",
    "            return 0.7\n",
    "        else:\n",
    "            return 0\n",
    "    else:\n",
    "        return engine_displacement\n",
    "\n",
    "def get_electro_displacement(engine_displacement, fuel_type):\n",
    "    '''Filling mising vars for electrocars'''\n",
    "    \n",
    "    if fuel_type == 'электро':\n",
    "        return 0\n",
    "    else:\n",
    "        return engine_displacement\n",
    "    \n",
    "def get_acceleration(string):\n",
    "    '''Function extracting acceleration'''\n",
    "    \n",
    "    try:\n",
    "        return float(re.split(',', re.split('acceleration\\W+', str(string))[1])[0])\n",
    "    except:\n",
    "        return None\n",
    "    \n",
    "def get_fuel_rate(string):\n",
    "    '''Extrating fuel rate'''\n",
    "    try:\n",
    "        return float(re.split(',', re.split('fuel_rate\\W+', str(string))[1])[0])\n",
    "\n",
    "    except:\n",
    "        return None"
   ]
  },
  {
   "cell_type": "markdown",
   "metadata": {},
   "source": [
    "<a id=\"sec5\"></a>\n",
    "# [5.Load and Chek the Dataset](#sec5)\n",
    "[(INDEX)](#sec2)"
   ]
  },
  {
   "cell_type": "code",
   "execution_count": 67,
   "metadata": {
    "scrolled": false
   },
   "outputs": [
    {
     "data": {
      "text/html": [
       "<div>\n",
       "<style scoped>\n",
       "    .dataframe tbody tr th:only-of-type {\n",
       "        vertical-align: middle;\n",
       "    }\n",
       "\n",
       "    .dataframe tbody tr th {\n",
       "        vertical-align: top;\n",
       "    }\n",
       "\n",
       "    .dataframe thead th {\n",
       "        text-align: right;\n",
       "    }\n",
       "</style>\n",
       "<table border=\"1\" class=\"dataframe\">\n",
       "  <thead>\n",
       "    <tr style=\"text-align: right;\">\n",
       "      <th></th>\n",
       "      <th>body_type</th>\n",
       "      <th>brand</th>\n",
       "      <th>color</th>\n",
       "      <th>complectation_dict</th>\n",
       "      <th>description</th>\n",
       "      <th>engine_displacement</th>\n",
       "      <th>engine_power</th>\n",
       "      <th>equipment_dict</th>\n",
       "      <th>fuel_type</th>\n",
       "      <th>image</th>\n",
       "      <th>mileage</th>\n",
       "      <th>model_date</th>\n",
       "      <th>model_info</th>\n",
       "      <th>model_name</th>\n",
       "      <th>name</th>\n",
       "      <th>doors_count</th>\n",
       "      <th>price_currency</th>\n",
       "      <th>production_date</th>\n",
       "      <th>sell_id</th>\n",
       "      <th>super_gen</th>\n",
       "      <th>vehicle_configuration</th>\n",
       "      <th>vehicle_transmission</th>\n",
       "      <th>vendor</th>\n",
       "      <th>owner_count</th>\n",
       "      <th>owning_period</th>\n",
       "      <th>car_passport</th>\n",
       "      <th>wheel_drive</th>\n",
       "      <th>wheel_location</th>\n",
       "      <th>condition</th>\n",
       "      <th>custom</th>\n",
       "      <th>price</th>\n",
       "      <th>sample</th>\n",
       "    </tr>\n",
       "  </thead>\n",
       "  <tbody>\n",
       "    <tr>\n",
       "      <th>28482</th>\n",
       "      <td>пикап двойная кабина</td>\n",
       "      <td>MITSUBISHI</td>\n",
       "      <td>серебристый</td>\n",
       "      <td>{\"id\":\"20104174\",\"name\":\"Instyle\",\"available_o...</td>\n",
       "      <td>Прочее: 2. Комфорт: 10. Безопасность: 11. Сало...</td>\n",
       "      <td>2.5</td>\n",
       "      <td>178.0</td>\n",
       "      <td>{\"engine-proof\":true,\"cruise-control\":true,\"as...</td>\n",
       "      <td>дизель</td>\n",
       "      <td>https://avatars.mds.yandex.net/get-autoru-vos/...</td>\n",
       "      <td>131440</td>\n",
       "      <td>2013</td>\n",
       "      <td>{\"code\":\"L200\",\"name\":\"L200\",\"ru_name\":\"Л200\",...</td>\n",
       "      <td>L200</td>\n",
       "      <td>2.5d AT (178 л.с.) 4WD</td>\n",
       "      <td>4</td>\n",
       "      <td>RUB</td>\n",
       "      <td>2015</td>\n",
       "      <td>1101192797</td>\n",
       "      <td>{\"id\":\"20104170\",\"displacement\":2477,\"engine_t...</td>\n",
       "      <td>PICKUP_TWO AUTOMATIC 2.5</td>\n",
       "      <td>AUTOMATIC</td>\n",
       "      <td>JAPANESE</td>\n",
       "      <td>1</td>\n",
       "      <td>5 лет и 1 месяц</td>\n",
       "      <td>ORIGINAL</td>\n",
       "      <td>полный</td>\n",
       "      <td>LEFT</td>\n",
       "      <td>Не требует ремонта</td>\n",
       "      <td>Растаможен</td>\n",
       "      <td>NaN</td>\n",
       "      <td>0</td>\n",
       "    </tr>\n",
       "    <tr>\n",
       "      <th>167617</th>\n",
       "      <td>внедорожник 5 дв</td>\n",
       "      <td>Hyundai</td>\n",
       "      <td>серебристый</td>\n",
       "      <td>{'id': '21831852', 'name': 'Active', 'availabl...</td>\n",
       "      <td>Комплектация Active, цвет серебряный.</td>\n",
       "      <td>1.6</td>\n",
       "      <td>123.0</td>\n",
       "      <td>{'glonass': True, 'asr': True, 'esp': True, 'a...</td>\n",
       "      <td>бензин</td>\n",
       "      <td>//avatars.mds.yandex.net/get-autoru-vos/419427...</td>\n",
       "      <td>0</td>\n",
       "      <td>2020</td>\n",
       "      <td>{'code': 'CRETA', 'name': 'Creta', 'ru_name': ...</td>\n",
       "      <td>CRETA</td>\n",
       "      <td>1.6 MT (123 л.с.)</td>\n",
       "      <td>5</td>\n",
       "      <td>RUB</td>\n",
       "      <td>2021</td>\n",
       "      <td>1103081493</td>\n",
       "      <td>{'id': '21831491', 'displacement': 1591, 'engi...</td>\n",
       "      <td>useless_col</td>\n",
       "      <td>MECHANICAL</td>\n",
       "      <td>KOREAN</td>\n",
       "      <td>NaN</td>\n",
       "      <td>NaN</td>\n",
       "      <td>ORIGINAL</td>\n",
       "      <td>передний</td>\n",
       "      <td>LEFT</td>\n",
       "      <td>True</td>\n",
       "      <td>True</td>\n",
       "      <td>1452000.0</td>\n",
       "      <td>1</td>\n",
       "    </tr>\n",
       "  </tbody>\n",
       "</table>\n",
       "</div>"
      ],
      "text/plain": [
       "                   body_type       brand        color  \\\n",
       "28482   пикап двойная кабина  MITSUBISHI  серебристый   \n",
       "167617      внедорожник 5 дв     Hyundai  серебристый   \n",
       "\n",
       "                                       complectation_dict  \\\n",
       "28482   {\"id\":\"20104174\",\"name\":\"Instyle\",\"available_o...   \n",
       "167617  {'id': '21831852', 'name': 'Active', 'availabl...   \n",
       "\n",
       "                                              description  \\\n",
       "28482   Прочее: 2. Комфорт: 10. Безопасность: 11. Сало...   \n",
       "167617              Комплектация Active, цвет серебряный.   \n",
       "\n",
       "        engine_displacement  engine_power  \\\n",
       "28482                   2.5         178.0   \n",
       "167617                  1.6         123.0   \n",
       "\n",
       "                                           equipment_dict fuel_type  \\\n",
       "28482   {\"engine-proof\":true,\"cruise-control\":true,\"as...    дизель   \n",
       "167617  {'glonass': True, 'asr': True, 'esp': True, 'a...    бензин   \n",
       "\n",
       "                                                    image  mileage  \\\n",
       "28482   https://avatars.mds.yandex.net/get-autoru-vos/...   131440   \n",
       "167617  //avatars.mds.yandex.net/get-autoru-vos/419427...        0   \n",
       "\n",
       "        model_date                                         model_info  \\\n",
       "28482         2013  {\"code\":\"L200\",\"name\":\"L200\",\"ru_name\":\"Л200\",...   \n",
       "167617        2020  {'code': 'CRETA', 'name': 'Creta', 'ru_name': ...   \n",
       "\n",
       "       model_name                    name  doors_count price_currency  \\\n",
       "28482        L200  2.5d AT (178 л.с.) 4WD            4            RUB   \n",
       "167617      CRETA       1.6 MT (123 л.с.)            5            RUB   \n",
       "\n",
       "        production_date     sell_id  \\\n",
       "28482              2015  1101192797   \n",
       "167617             2021  1103081493   \n",
       "\n",
       "                                                super_gen  \\\n",
       "28482   {\"id\":\"20104170\",\"displacement\":2477,\"engine_t...   \n",
       "167617  {'id': '21831491', 'displacement': 1591, 'engi...   \n",
       "\n",
       "           vehicle_configuration vehicle_transmission    vendor owner_count  \\\n",
       "28482   PICKUP_TWO AUTOMATIC 2.5            AUTOMATIC  JAPANESE           1   \n",
       "167617               useless_col           MECHANICAL    KOREAN         NaN   \n",
       "\n",
       "          owning_period car_passport wheel_drive wheel_location  \\\n",
       "28482   5 лет и 1 месяц     ORIGINAL      полный           LEFT   \n",
       "167617              NaN     ORIGINAL    передний           LEFT   \n",
       "\n",
       "                 condition      custom      price  sample  \n",
       "28482   Не требует ремонта  Растаможен        NaN       0  \n",
       "167617                True        True  1452000.0       1  "
      ]
     },
     "execution_count": 67,
     "metadata": {},
     "output_type": "execute_result"
    }
   ],
   "source": [
    "# import data pre-processed data set\n",
    "df = df_combined.copy()\n",
    "df.sample(2)"
   ]
  },
  {
   "cell_type": "markdown",
   "metadata": {},
   "source": [
    "<a id=\"sec6\"></a>\n",
    "# [9.FETAURE ENGINEERING](#sec6)\n",
    "[(INDEX)](#sec2)"
   ]
  },
  {
   "cell_type": "markdown",
   "metadata": {},
   "source": [
    "Get lowercase"
   ]
  },
  {
   "cell_type": "code",
   "execution_count": 79,
   "metadata": {},
   "outputs": [],
   "source": [
    "# take cols with objects\n",
    "object_columns = df.dtypes[df.dtypes.values == object].index.to_list()\n",
    "\n",
    "for col in object_columns:\n",
    "    df[col] = df[col].apply(lambda string: get_low_registr(string))"
   ]
  },
  {
   "cell_type": "markdown",
   "metadata": {},
   "source": [
    "<a id=\"sec6\"></a>\n",
    "## [Target](#sec6)\n",
    "[(INDEX)](#sec2)"
   ]
  },
  {
   "cell_type": "markdown",
   "metadata": {},
   "source": [
    "Drop rows with car price more than 30 mlns."
   ]
  },
  {
   "cell_type": "code",
   "execution_count": 80,
   "metadata": {},
   "outputs": [
    {
     "ename": "ValueError",
     "evalue": "cannot insert level_0, already exists",
     "output_type": "error",
     "traceback": [
      "\u001b[1;31m---------------------------------------------------------------------------\u001b[0m",
      "\u001b[1;31mValueError\u001b[0m                                Traceback (most recent call last)",
      "\u001b[1;32m<ipython-input-80-1166b635570c>\u001b[0m in \u001b[0;36m<module>\u001b[1;34m\u001b[0m\n\u001b[0;32m      1\u001b[0m \u001b[0midx_to_drop\u001b[0m \u001b[1;33m=\u001b[0m \u001b[0mlist\u001b[0m\u001b[1;33m(\u001b[0m\u001b[0mdf\u001b[0m\u001b[1;33m[\u001b[0m\u001b[0mdf\u001b[0m\u001b[1;33m[\u001b[0m\u001b[1;34m'price'\u001b[0m\u001b[1;33m]\u001b[0m \u001b[1;33m>=\u001b[0m \u001b[1;36m30000000\u001b[0m\u001b[1;33m]\u001b[0m\u001b[1;33m.\u001b[0m\u001b[0mindex\u001b[0m\u001b[1;33m)\u001b[0m\u001b[1;33m\u001b[0m\u001b[1;33m\u001b[0m\u001b[0m\n\u001b[1;32m----> 2\u001b[1;33m \u001b[0mdf\u001b[0m\u001b[1;33m=\u001b[0m\u001b[0mdf\u001b[0m\u001b[1;33m.\u001b[0m\u001b[0mdrop\u001b[0m\u001b[1;33m(\u001b[0m\u001b[0midx_to_drop\u001b[0m\u001b[1;33m)\u001b[0m\u001b[1;33m.\u001b[0m\u001b[0mreset_index\u001b[0m\u001b[1;33m(\u001b[0m\u001b[1;33m)\u001b[0m\u001b[1;33m\u001b[0m\u001b[1;33m\u001b[0m\u001b[0m\n\u001b[0m",
      "\u001b[1;32mC:\\ProgramData\\Anaconda3\\lib\\site-packages\\pandas\\core\\frame.py\u001b[0m in \u001b[0;36mreset_index\u001b[1;34m(self, level, drop, inplace, col_level, col_fill)\u001b[0m\n\u001b[0;32m   5014\u001b[0m                 \u001b[1;31m# to ndarray and maybe infer different dtype\u001b[0m\u001b[1;33m\u001b[0m\u001b[1;33m\u001b[0m\u001b[1;33m\u001b[0m\u001b[0m\n\u001b[0;32m   5015\u001b[0m                 \u001b[0mlevel_values\u001b[0m \u001b[1;33m=\u001b[0m \u001b[0mmaybe_casted_values\u001b[0m\u001b[1;33m(\u001b[0m\u001b[0mlev\u001b[0m\u001b[1;33m,\u001b[0m \u001b[0mlab\u001b[0m\u001b[1;33m)\u001b[0m\u001b[1;33m\u001b[0m\u001b[1;33m\u001b[0m\u001b[0m\n\u001b[1;32m-> 5016\u001b[1;33m                 \u001b[0mnew_obj\u001b[0m\u001b[1;33m.\u001b[0m\u001b[0minsert\u001b[0m\u001b[1;33m(\u001b[0m\u001b[1;36m0\u001b[0m\u001b[1;33m,\u001b[0m \u001b[0mname\u001b[0m\u001b[1;33m,\u001b[0m \u001b[0mlevel_values\u001b[0m\u001b[1;33m)\u001b[0m\u001b[1;33m\u001b[0m\u001b[1;33m\u001b[0m\u001b[0m\n\u001b[0m\u001b[0;32m   5017\u001b[0m \u001b[1;33m\u001b[0m\u001b[0m\n\u001b[0;32m   5018\u001b[0m         \u001b[0mnew_obj\u001b[0m\u001b[1;33m.\u001b[0m\u001b[0mindex\u001b[0m \u001b[1;33m=\u001b[0m \u001b[0mnew_index\u001b[0m\u001b[1;33m\u001b[0m\u001b[1;33m\u001b[0m\u001b[0m\n",
      "\u001b[1;32mC:\\ProgramData\\Anaconda3\\lib\\site-packages\\pandas\\core\\frame.py\u001b[0m in \u001b[0;36minsert\u001b[1;34m(self, loc, column, value, allow_duplicates)\u001b[0m\n\u001b[0;32m   3761\u001b[0m         \u001b[0mself\u001b[0m\u001b[1;33m.\u001b[0m\u001b[0m_ensure_valid_index\u001b[0m\u001b[1;33m(\u001b[0m\u001b[0mvalue\u001b[0m\u001b[1;33m)\u001b[0m\u001b[1;33m\u001b[0m\u001b[1;33m\u001b[0m\u001b[0m\n\u001b[0;32m   3762\u001b[0m         \u001b[0mvalue\u001b[0m \u001b[1;33m=\u001b[0m \u001b[0mself\u001b[0m\u001b[1;33m.\u001b[0m\u001b[0m_sanitize_column\u001b[0m\u001b[1;33m(\u001b[0m\u001b[0mcolumn\u001b[0m\u001b[1;33m,\u001b[0m \u001b[0mvalue\u001b[0m\u001b[1;33m,\u001b[0m \u001b[0mbroadcast\u001b[0m\u001b[1;33m=\u001b[0m\u001b[1;32mFalse\u001b[0m\u001b[1;33m)\u001b[0m\u001b[1;33m\u001b[0m\u001b[1;33m\u001b[0m\u001b[0m\n\u001b[1;32m-> 3763\u001b[1;33m         \u001b[0mself\u001b[0m\u001b[1;33m.\u001b[0m\u001b[0m_mgr\u001b[0m\u001b[1;33m.\u001b[0m\u001b[0minsert\u001b[0m\u001b[1;33m(\u001b[0m\u001b[0mloc\u001b[0m\u001b[1;33m,\u001b[0m \u001b[0mcolumn\u001b[0m\u001b[1;33m,\u001b[0m \u001b[0mvalue\u001b[0m\u001b[1;33m,\u001b[0m \u001b[0mallow_duplicates\u001b[0m\u001b[1;33m=\u001b[0m\u001b[0mallow_duplicates\u001b[0m\u001b[1;33m)\u001b[0m\u001b[1;33m\u001b[0m\u001b[1;33m\u001b[0m\u001b[0m\n\u001b[0m\u001b[0;32m   3764\u001b[0m \u001b[1;33m\u001b[0m\u001b[0m\n\u001b[0;32m   3765\u001b[0m     \u001b[1;32mdef\u001b[0m \u001b[0massign\u001b[0m\u001b[1;33m(\u001b[0m\u001b[0mself\u001b[0m\u001b[1;33m,\u001b[0m \u001b[1;33m**\u001b[0m\u001b[0mkwargs\u001b[0m\u001b[1;33m)\u001b[0m \u001b[1;33m->\u001b[0m \u001b[0mDataFrame\u001b[0m\u001b[1;33m:\u001b[0m\u001b[1;33m\u001b[0m\u001b[1;33m\u001b[0m\u001b[0m\n",
      "\u001b[1;32mC:\\ProgramData\\Anaconda3\\lib\\site-packages\\pandas\\core\\internals\\managers.py\u001b[0m in \u001b[0;36minsert\u001b[1;34m(self, loc, item, value, allow_duplicates)\u001b[0m\n\u001b[0;32m   1189\u001b[0m         \u001b[1;32mif\u001b[0m \u001b[1;32mnot\u001b[0m \u001b[0mallow_duplicates\u001b[0m \u001b[1;32mand\u001b[0m \u001b[0mitem\u001b[0m \u001b[1;32min\u001b[0m \u001b[0mself\u001b[0m\u001b[1;33m.\u001b[0m\u001b[0mitems\u001b[0m\u001b[1;33m:\u001b[0m\u001b[1;33m\u001b[0m\u001b[1;33m\u001b[0m\u001b[0m\n\u001b[0;32m   1190\u001b[0m             \u001b[1;31m# Should this be a different kind of error??\u001b[0m\u001b[1;33m\u001b[0m\u001b[1;33m\u001b[0m\u001b[1;33m\u001b[0m\u001b[0m\n\u001b[1;32m-> 1191\u001b[1;33m             \u001b[1;32mraise\u001b[0m \u001b[0mValueError\u001b[0m\u001b[1;33m(\u001b[0m\u001b[1;34mf\"cannot insert {item}, already exists\"\u001b[0m\u001b[1;33m)\u001b[0m\u001b[1;33m\u001b[0m\u001b[1;33m\u001b[0m\u001b[0m\n\u001b[0m\u001b[0;32m   1192\u001b[0m \u001b[1;33m\u001b[0m\u001b[0m\n\u001b[0;32m   1193\u001b[0m         \u001b[1;32mif\u001b[0m \u001b[1;32mnot\u001b[0m \u001b[0misinstance\u001b[0m\u001b[1;33m(\u001b[0m\u001b[0mloc\u001b[0m\u001b[1;33m,\u001b[0m \u001b[0mint\u001b[0m\u001b[1;33m)\u001b[0m\u001b[1;33m:\u001b[0m\u001b[1;33m\u001b[0m\u001b[1;33m\u001b[0m\u001b[0m\n",
      "\u001b[1;31mValueError\u001b[0m: cannot insert level_0, already exists"
     ]
    }
   ],
   "source": [
    "idx_to_drop = list(df[df['price'] >= 30000000].index)\n",
    "df=df.drop(idx_to_drop).reset_index()"
   ]
  },
  {
   "cell_type": "code",
   "execution_count": null,
   "metadata": {},
   "outputs": [],
   "source": [
    "df"
   ]
  },
  {
   "cell_type": "markdown",
   "metadata": {},
   "source": [
    "Drop rows with missing values"
   ]
  },
  {
   "cell_type": "code",
   "execution_count": 56,
   "metadata": {},
   "outputs": [
    {
     "data": {
      "text/plain": [
       "624"
      ]
     },
     "execution_count": 56,
     "metadata": {},
     "output_type": "execute_result"
    }
   ],
   "source": [
    "df.query('sample == 1')['price'].isna().sum()"
   ]
  },
  {
   "cell_type": "code",
   "execution_count": 57,
   "metadata": {},
   "outputs": [],
   "source": [
    "indexes_to_drop = df[(df['price'].isna()) & (df['sample']==1)].index\n",
    "df = df.drop(indexes_to_drop).reset_index()"
   ]
  },
  {
   "cell_type": "code",
   "execution_count": 58,
   "metadata": {},
   "outputs": [
    {
     "data": {
      "text/html": [
       "<div>\n",
       "<style scoped>\n",
       "    .dataframe tbody tr th:only-of-type {\n",
       "        vertical-align: middle;\n",
       "    }\n",
       "\n",
       "    .dataframe tbody tr th {\n",
       "        vertical-align: top;\n",
       "    }\n",
       "\n",
       "    .dataframe thead th {\n",
       "        text-align: right;\n",
       "    }\n",
       "</style>\n",
       "<table border=\"1\" class=\"dataframe\">\n",
       "  <thead>\n",
       "    <tr style=\"text-align: right;\">\n",
       "      <th></th>\n",
       "      <th>level_0</th>\n",
       "      <th>index</th>\n",
       "      <th>body_type</th>\n",
       "      <th>brand</th>\n",
       "      <th>color</th>\n",
       "      <th>complectation_dict</th>\n",
       "      <th>description</th>\n",
       "      <th>engine_displacement</th>\n",
       "      <th>engine_power</th>\n",
       "      <th>equipment_dict</th>\n",
       "      <th>fuel_type</th>\n",
       "      <th>image</th>\n",
       "      <th>mileage</th>\n",
       "      <th>model_date</th>\n",
       "      <th>model_info</th>\n",
       "      <th>model_name</th>\n",
       "      <th>name</th>\n",
       "      <th>doors_count</th>\n",
       "      <th>price_currency</th>\n",
       "      <th>production_date</th>\n",
       "      <th>sell_id</th>\n",
       "      <th>super_gen</th>\n",
       "      <th>vehicle_configuration</th>\n",
       "      <th>vehicle_transmission</th>\n",
       "      <th>vendor</th>\n",
       "      <th>owner_count</th>\n",
       "      <th>owning_period</th>\n",
       "      <th>car_passport</th>\n",
       "      <th>wheel_drive</th>\n",
       "      <th>wheel_location</th>\n",
       "      <th>condition</th>\n",
       "      <th>custom</th>\n",
       "      <th>price</th>\n",
       "      <th>sample</th>\n",
       "    </tr>\n",
       "  </thead>\n",
       "  <tbody>\n",
       "    <tr>\n",
       "      <th>0</th>\n",
       "      <td>0</td>\n",
       "      <td>0</td>\n",
       "      <td>лифтбек</td>\n",
       "      <td>skoda</td>\n",
       "      <td>синий</td>\n",
       "      <td>None</td>\n",
       "      <td>все автомобили, представленные в продаже, прох...</td>\n",
       "      <td>1.2</td>\n",
       "      <td>105.0</td>\n",
       "      <td>{\"engine-proof\":true,\"tinted-glass\":true,\"airb...</td>\n",
       "      <td>бензин</td>\n",
       "      <td>https://autoru.naydex.net/o9dbxq270/5ac010hay0...</td>\n",
       "      <td>74000</td>\n",
       "      <td>2013</td>\n",
       "      <td>{\"code\":\"octavia\",\"name\":\"octavia\",\"ru_name\":\"...</td>\n",
       "      <td>octavia</td>\n",
       "      <td>1.2 amt (105 л.с.)</td>\n",
       "      <td>5</td>\n",
       "      <td>rub</td>\n",
       "      <td>2014</td>\n",
       "      <td>1100575026</td>\n",
       "      <td>{\"id\":\"10373605\",\"displacement\":1197,\"engine_t...</td>\n",
       "      <td>liftback robot 1.2</td>\n",
       "      <td>robot</td>\n",
       "      <td>european</td>\n",
       "      <td>3</td>\n",
       "      <td>None</td>\n",
       "      <td>original</td>\n",
       "      <td>передний</td>\n",
       "      <td>left</td>\n",
       "      <td>не требует ремонта</td>\n",
       "      <td>растаможен</td>\n",
       "      <td>NaN</td>\n",
       "      <td>0</td>\n",
       "    </tr>\n",
       "    <tr>\n",
       "      <th>1</th>\n",
       "      <td>1</td>\n",
       "      <td>1</td>\n",
       "      <td>лифтбек</td>\n",
       "      <td>skoda</td>\n",
       "      <td>чёрный</td>\n",
       "      <td>None</td>\n",
       "      <td>лот: 01217195\\nавтопрага север\\nданный автомоб...</td>\n",
       "      <td>1.6</td>\n",
       "      <td>110.0</td>\n",
       "      <td>{\"cruise-control\":true,\"asr\":true,\"esp\":true,\"...</td>\n",
       "      <td>бензин</td>\n",
       "      <td>https://autoru.naydex.net/o9dbxq270/5ac010hay0...</td>\n",
       "      <td>60563</td>\n",
       "      <td>2017</td>\n",
       "      <td>{\"code\":\"octavia\",\"name\":\"octavia\",\"ru_name\":\"...</td>\n",
       "      <td>octavia</td>\n",
       "      <td>1.6 mt (110 л.с.)</td>\n",
       "      <td>5</td>\n",
       "      <td>rub</td>\n",
       "      <td>2017</td>\n",
       "      <td>1100549428</td>\n",
       "      <td>{\"id\":\"20913311\",\"displacement\":1598,\"engine_t...</td>\n",
       "      <td>liftback mechanical 1.6</td>\n",
       "      <td>mechanical</td>\n",
       "      <td>european</td>\n",
       "      <td>1</td>\n",
       "      <td>None</td>\n",
       "      <td>original</td>\n",
       "      <td>передний</td>\n",
       "      <td>left</td>\n",
       "      <td>не требует ремонта</td>\n",
       "      <td>растаможен</td>\n",
       "      <td>NaN</td>\n",
       "      <td>0</td>\n",
       "    </tr>\n",
       "    <tr>\n",
       "      <th>2</th>\n",
       "      <td>2</td>\n",
       "      <td>2</td>\n",
       "      <td>лифтбек</td>\n",
       "      <td>skoda</td>\n",
       "      <td>серый</td>\n",
       "      <td>{\"id\":\"20026336\",\"name\":\"ambition\",\"available_...</td>\n",
       "      <td>все автомобили, представленные в продаже, прох...</td>\n",
       "      <td>1.8</td>\n",
       "      <td>152.0</td>\n",
       "      <td>{\"cruise-control\":true,\"tinted-glass\":true,\"es...</td>\n",
       "      <td>бензин</td>\n",
       "      <td>https://avatars.mds.yandex.net/get-autoru-vos/...</td>\n",
       "      <td>88000</td>\n",
       "      <td>2013</td>\n",
       "      <td>{\"code\":\"superb\",\"name\":\"superb\",\"ru_name\":\"су...</td>\n",
       "      <td>superb</td>\n",
       "      <td>dsg 1.8 amt (152 л.с.)</td>\n",
       "      <td>5</td>\n",
       "      <td>rub</td>\n",
       "      <td>2014</td>\n",
       "      <td>1100658222</td>\n",
       "      <td>{\"id\":\"20026323\",\"nameplate\":\"dsg\",\"displaceme...</td>\n",
       "      <td>liftback robot 1.8</td>\n",
       "      <td>robot</td>\n",
       "      <td>european</td>\n",
       "      <td>1</td>\n",
       "      <td>None</td>\n",
       "      <td>original</td>\n",
       "      <td>передний</td>\n",
       "      <td>left</td>\n",
       "      <td>не требует ремонта</td>\n",
       "      <td>растаможен</td>\n",
       "      <td>NaN</td>\n",
       "      <td>0</td>\n",
       "    </tr>\n",
       "    <tr>\n",
       "      <th>3</th>\n",
       "      <td>3</td>\n",
       "      <td>3</td>\n",
       "      <td>лифтбек</td>\n",
       "      <td>skoda</td>\n",
       "      <td>коричневый</td>\n",
       "      <td>{\"id\":\"20803582\",\"name\":\"ambition\",\"available_...</td>\n",
       "      <td>комплект зимней (летней) резины по сезону в по...</td>\n",
       "      <td>1.6</td>\n",
       "      <td>110.0</td>\n",
       "      <td>{\"cruise-control\":true,\"roller-blind-for-rear-...</td>\n",
       "      <td>бензин</td>\n",
       "      <td>https://autoru.naydex.net/o9dbxq270/5ac010hay0...</td>\n",
       "      <td>95000</td>\n",
       "      <td>2013</td>\n",
       "      <td>{\"code\":\"octavia\",\"name\":\"octavia\",\"ru_name\":\"...</td>\n",
       "      <td>octavia</td>\n",
       "      <td>1.6 at (110 л.с.)</td>\n",
       "      <td>5</td>\n",
       "      <td>rub</td>\n",
       "      <td>2014</td>\n",
       "      <td>1100937408</td>\n",
       "      <td>{\"id\":\"20105521\",\"displacement\":1598,\"engine_t...</td>\n",
       "      <td>liftback automatic 1.6</td>\n",
       "      <td>automatic</td>\n",
       "      <td>european</td>\n",
       "      <td>1</td>\n",
       "      <td>None</td>\n",
       "      <td>original</td>\n",
       "      <td>передний</td>\n",
       "      <td>left</td>\n",
       "      <td>не требует ремонта</td>\n",
       "      <td>растаможен</td>\n",
       "      <td>NaN</td>\n",
       "      <td>0</td>\n",
       "    </tr>\n",
       "    <tr>\n",
       "      <th>4</th>\n",
       "      <td>4</td>\n",
       "      <td>4</td>\n",
       "      <td>лифтбек</td>\n",
       "      <td>skoda</td>\n",
       "      <td>белый</td>\n",
       "      <td>None</td>\n",
       "      <td>лот: 01220889\\nавтопрага север\\n\\nвы можете по...</td>\n",
       "      <td>1.8</td>\n",
       "      <td>152.0</td>\n",
       "      <td>{\"cruise-control\":true,\"asr\":true,\"esp\":true,\"...</td>\n",
       "      <td>бензин</td>\n",
       "      <td>https://autoru.naydex.net/o9dbxq270/5ac010hay0...</td>\n",
       "      <td>58536</td>\n",
       "      <td>2008</td>\n",
       "      <td>{\"code\":\"octavia\",\"name\":\"octavia\",\"ru_name\":\"...</td>\n",
       "      <td>octavia</td>\n",
       "      <td>1.8 at (152 л.с.)</td>\n",
       "      <td>5</td>\n",
       "      <td>rub</td>\n",
       "      <td>2012</td>\n",
       "      <td>1101037972</td>\n",
       "      <td>{\"id\":\"4561004\",\"displacement\":1798,\"engine_ty...</td>\n",
       "      <td>liftback automatic 1.8</td>\n",
       "      <td>automatic</td>\n",
       "      <td>european</td>\n",
       "      <td>1</td>\n",
       "      <td>None</td>\n",
       "      <td>original</td>\n",
       "      <td>передний</td>\n",
       "      <td>left</td>\n",
       "      <td>не требует ремонта</td>\n",
       "      <td>растаможен</td>\n",
       "      <td>NaN</td>\n",
       "      <td>0</td>\n",
       "    </tr>\n",
       "    <tr>\n",
       "      <th>...</th>\n",
       "      <td>...</td>\n",
       "      <td>...</td>\n",
       "      <td>...</td>\n",
       "      <td>...</td>\n",
       "      <td>...</td>\n",
       "      <td>...</td>\n",
       "      <td>...</td>\n",
       "      <td>...</td>\n",
       "      <td>...</td>\n",
       "      <td>...</td>\n",
       "      <td>...</td>\n",
       "      <td>...</td>\n",
       "      <td>...</td>\n",
       "      <td>...</td>\n",
       "      <td>...</td>\n",
       "      <td>...</td>\n",
       "      <td>...</td>\n",
       "      <td>...</td>\n",
       "      <td>...</td>\n",
       "      <td>...</td>\n",
       "      <td>...</td>\n",
       "      <td>...</td>\n",
       "      <td>...</td>\n",
       "      <td>...</td>\n",
       "      <td>...</td>\n",
       "      <td>...</td>\n",
       "      <td>...</td>\n",
       "      <td>...</td>\n",
       "      <td>...</td>\n",
       "      <td>...</td>\n",
       "      <td>...</td>\n",
       "      <td>...</td>\n",
       "      <td>...</td>\n",
       "      <td>...</td>\n",
       "    </tr>\n",
       "    <tr>\n",
       "      <th>178728</th>\n",
       "      <td>179352</td>\n",
       "      <td>179354</td>\n",
       "      <td>внедорожник 5 дв</td>\n",
       "      <td>mazda</td>\n",
       "      <td>белый</td>\n",
       "      <td>{'id': '22461501', 'name': 'supreme', 'availab...</td>\n",
       "      <td>официальный дилер mazda автоград к вашим услуг...</td>\n",
       "      <td>2.5</td>\n",
       "      <td>194.0</td>\n",
       "      <td>{'cruise-control': true, 'asr': true, 'tinted-...</td>\n",
       "      <td>бензин</td>\n",
       "      <td>//avatars.mds.yandex.net/get-autoru-vos/494866...</td>\n",
       "      <td>0</td>\n",
       "      <td>2017</td>\n",
       "      <td>{'code': 'cx_5', 'name': 'cx-5', 'ru_name': 'c...</td>\n",
       "      <td>cx_5</td>\n",
       "      <td>2.5 at (194 л.с.) 4wd</td>\n",
       "      <td>5</td>\n",
       "      <td>rub</td>\n",
       "      <td>2021</td>\n",
       "      <td>1103635415</td>\n",
       "      <td>{'id': '21026245', 'displacement': 2488, 'engi...</td>\n",
       "      <td>useless_col</td>\n",
       "      <td>automatic</td>\n",
       "      <td>japanese</td>\n",
       "      <td>NaN</td>\n",
       "      <td>None</td>\n",
       "      <td>original</td>\n",
       "      <td>полный</td>\n",
       "      <td>left</td>\n",
       "      <td>None</td>\n",
       "      <td>None</td>\n",
       "      <td>2579000.0</td>\n",
       "      <td>1</td>\n",
       "    </tr>\n",
       "    <tr>\n",
       "      <th>178729</th>\n",
       "      <td>179353</td>\n",
       "      <td>179355</td>\n",
       "      <td>внедорожник 5 дв</td>\n",
       "      <td>mazda</td>\n",
       "      <td>синий</td>\n",
       "      <td>{'id': '22461378', 'name': 'supreme', 'availab...</td>\n",
       "      <td>None</td>\n",
       "      <td>2.0</td>\n",
       "      <td>150.0</td>\n",
       "      <td>{'cruise-control': true, 'asr': true, 'tinted-...</td>\n",
       "      <td>бензин</td>\n",
       "      <td>//avatars.mds.yandex.net/get-verba/1604130/2a0...</td>\n",
       "      <td>0</td>\n",
       "      <td>2017</td>\n",
       "      <td>{'code': 'cx_5', 'name': 'cx-5', 'ru_name': 'c...</td>\n",
       "      <td>cx_5</td>\n",
       "      <td>2.0 at (150 л.с.) 4wd</td>\n",
       "      <td>5</td>\n",
       "      <td>rub</td>\n",
       "      <td>2021</td>\n",
       "      <td>1103261362</td>\n",
       "      <td>{'id': '21026226', 'displacement': 1998, 'engi...</td>\n",
       "      <td>useless_col</td>\n",
       "      <td>automatic</td>\n",
       "      <td>japanese</td>\n",
       "      <td>NaN</td>\n",
       "      <td>None</td>\n",
       "      <td>original</td>\n",
       "      <td>полный</td>\n",
       "      <td>left</td>\n",
       "      <td>None</td>\n",
       "      <td>None</td>\n",
       "      <td>2535000.0</td>\n",
       "      <td>1</td>\n",
       "    </tr>\n",
       "    <tr>\n",
       "      <th>178730</th>\n",
       "      <td>179354</td>\n",
       "      <td>179356</td>\n",
       "      <td>седан</td>\n",
       "      <td>mazda</td>\n",
       "      <td>серый</td>\n",
       "      <td>{'id': '21419829', 'name': 'supreme plus', 'av...</td>\n",
       "      <td>None</td>\n",
       "      <td>2.5</td>\n",
       "      <td>194.0</td>\n",
       "      <td>{'cruise-control': true, 'asr': true, 'tinted-...</td>\n",
       "      <td>бензин</td>\n",
       "      <td>//avatars.mds.yandex.net/get-verba/216201/2a00...</td>\n",
       "      <td>0</td>\n",
       "      <td>2018</td>\n",
       "      <td>{'code': '6', 'name': '6', 'ru_name': '6', 'mo...</td>\n",
       "      <td>6</td>\n",
       "      <td>2.5 at (194 л.с.)</td>\n",
       "      <td>4</td>\n",
       "      <td>rub</td>\n",
       "      <td>2021</td>\n",
       "      <td>1103513708</td>\n",
       "      <td>{'id': '21357844', 'displacement': 2488, 'engi...</td>\n",
       "      <td>useless_col</td>\n",
       "      <td>automatic</td>\n",
       "      <td>japanese</td>\n",
       "      <td>NaN</td>\n",
       "      <td>None</td>\n",
       "      <td>original</td>\n",
       "      <td>передний</td>\n",
       "      <td>left</td>\n",
       "      <td>None</td>\n",
       "      <td>None</td>\n",
       "      <td>2226000.0</td>\n",
       "      <td>1</td>\n",
       "    </tr>\n",
       "    <tr>\n",
       "      <th>178731</th>\n",
       "      <td>179355</td>\n",
       "      <td>179357</td>\n",
       "      <td>внедорожник 5 дв</td>\n",
       "      <td>mazda</td>\n",
       "      <td>белый</td>\n",
       "      <td>{'id': '22461318', 'name': 'active', 'availabl...</td>\n",
       "      <td>None</td>\n",
       "      <td>2.0</td>\n",
       "      <td>150.0</td>\n",
       "      <td>{'cruise-control': true, 'asr': true, 'esp': t...</td>\n",
       "      <td>бензин</td>\n",
       "      <td>//avatars.mds.yandex.net/get-verba/1535139/2a0...</td>\n",
       "      <td>0</td>\n",
       "      <td>2017</td>\n",
       "      <td>{'code': 'cx_5', 'name': 'cx-5', 'ru_name': 'c...</td>\n",
       "      <td>cx_5</td>\n",
       "      <td>2.0 at (150 л.с.)</td>\n",
       "      <td>5</td>\n",
       "      <td>rub</td>\n",
       "      <td>2021</td>\n",
       "      <td>1103353326</td>\n",
       "      <td>{'id': '21026215', 'displacement': 1998, 'engi...</td>\n",
       "      <td>useless_col</td>\n",
       "      <td>automatic</td>\n",
       "      <td>japanese</td>\n",
       "      <td>NaN</td>\n",
       "      <td>None</td>\n",
       "      <td>original</td>\n",
       "      <td>передний</td>\n",
       "      <td>left</td>\n",
       "      <td>None</td>\n",
       "      <td>None</td>\n",
       "      <td>2189000.0</td>\n",
       "      <td>1</td>\n",
       "    </tr>\n",
       "    <tr>\n",
       "      <th>178732</th>\n",
       "      <td>179356</td>\n",
       "      <td>179358</td>\n",
       "      <td>внедорожник 5 дв</td>\n",
       "      <td>mazda</td>\n",
       "      <td>коричневый</td>\n",
       "      <td>{'id': '22693204', 'name': 'supreme', 'availab...</td>\n",
       "      <td>None</td>\n",
       "      <td>2.0</td>\n",
       "      <td>150.0</td>\n",
       "      <td>{'cruise-control': true, 'asr': true, 'tinted-...</td>\n",
       "      <td>бензин</td>\n",
       "      <td>//avatars.mds.yandex.net/get-verba/1540742/2a0...</td>\n",
       "      <td>0</td>\n",
       "      <td>2019</td>\n",
       "      <td>{'code': 'cx_30', 'name': 'cx-30', 'ru_name': ...</td>\n",
       "      <td>cx_30</td>\n",
       "      <td>2.0 at (150 л.с.)</td>\n",
       "      <td>5</td>\n",
       "      <td>rub</td>\n",
       "      <td>2021</td>\n",
       "      <td>1103353327</td>\n",
       "      <td>{'id': '22692032', 'displacement': 1998, 'engi...</td>\n",
       "      <td>useless_col</td>\n",
       "      <td>automatic</td>\n",
       "      <td>japanese</td>\n",
       "      <td>NaN</td>\n",
       "      <td>None</td>\n",
       "      <td>original</td>\n",
       "      <td>передний</td>\n",
       "      <td>left</td>\n",
       "      <td>None</td>\n",
       "      <td>None</td>\n",
       "      <td>2182000.0</td>\n",
       "      <td>1</td>\n",
       "    </tr>\n",
       "  </tbody>\n",
       "</table>\n",
       "<p>178733 rows × 34 columns</p>\n",
       "</div>"
      ],
      "text/plain": [
       "        level_0   index         body_type  brand       color  \\\n",
       "0             0       0           лифтбек  skoda       синий   \n",
       "1             1       1           лифтбек  skoda      чёрный   \n",
       "2             2       2           лифтбек  skoda       серый   \n",
       "3             3       3           лифтбек  skoda  коричневый   \n",
       "4             4       4           лифтбек  skoda       белый   \n",
       "...         ...     ...               ...    ...         ...   \n",
       "178728   179352  179354  внедорожник 5 дв  mazda       белый   \n",
       "178729   179353  179355  внедорожник 5 дв  mazda       синий   \n",
       "178730   179354  179356             седан  mazda       серый   \n",
       "178731   179355  179357  внедорожник 5 дв  mazda       белый   \n",
       "178732   179356  179358  внедорожник 5 дв  mazda  коричневый   \n",
       "\n",
       "                                       complectation_dict  \\\n",
       "0                                                    None   \n",
       "1                                                    None   \n",
       "2       {\"id\":\"20026336\",\"name\":\"ambition\",\"available_...   \n",
       "3       {\"id\":\"20803582\",\"name\":\"ambition\",\"available_...   \n",
       "4                                                    None   \n",
       "...                                                   ...   \n",
       "178728  {'id': '22461501', 'name': 'supreme', 'availab...   \n",
       "178729  {'id': '22461378', 'name': 'supreme', 'availab...   \n",
       "178730  {'id': '21419829', 'name': 'supreme plus', 'av...   \n",
       "178731  {'id': '22461318', 'name': 'active', 'availabl...   \n",
       "178732  {'id': '22693204', 'name': 'supreme', 'availab...   \n",
       "\n",
       "                                              description  \\\n",
       "0       все автомобили, представленные в продаже, прох...   \n",
       "1       лот: 01217195\\nавтопрага север\\nданный автомоб...   \n",
       "2       все автомобили, представленные в продаже, прох...   \n",
       "3       комплект зимней (летней) резины по сезону в по...   \n",
       "4       лот: 01220889\\nавтопрага север\\n\\nвы можете по...   \n",
       "...                                                   ...   \n",
       "178728  официальный дилер mazda автоград к вашим услуг...   \n",
       "178729                                               None   \n",
       "178730                                               None   \n",
       "178731                                               None   \n",
       "178732                                               None   \n",
       "\n",
       "        engine_displacement  engine_power  \\\n",
       "0                       1.2         105.0   \n",
       "1                       1.6         110.0   \n",
       "2                       1.8         152.0   \n",
       "3                       1.6         110.0   \n",
       "4                       1.8         152.0   \n",
       "...                     ...           ...   \n",
       "178728                  2.5         194.0   \n",
       "178729                  2.0         150.0   \n",
       "178730                  2.5         194.0   \n",
       "178731                  2.0         150.0   \n",
       "178732                  2.0         150.0   \n",
       "\n",
       "                                           equipment_dict fuel_type  \\\n",
       "0       {\"engine-proof\":true,\"tinted-glass\":true,\"airb...    бензин   \n",
       "1       {\"cruise-control\":true,\"asr\":true,\"esp\":true,\"...    бензин   \n",
       "2       {\"cruise-control\":true,\"tinted-glass\":true,\"es...    бензин   \n",
       "3       {\"cruise-control\":true,\"roller-blind-for-rear-...    бензин   \n",
       "4       {\"cruise-control\":true,\"asr\":true,\"esp\":true,\"...    бензин   \n",
       "...                                                   ...       ...   \n",
       "178728  {'cruise-control': true, 'asr': true, 'tinted-...    бензин   \n",
       "178729  {'cruise-control': true, 'asr': true, 'tinted-...    бензин   \n",
       "178730  {'cruise-control': true, 'asr': true, 'tinted-...    бензин   \n",
       "178731  {'cruise-control': true, 'asr': true, 'esp': t...    бензин   \n",
       "178732  {'cruise-control': true, 'asr': true, 'tinted-...    бензин   \n",
       "\n",
       "                                                    image  mileage  \\\n",
       "0       https://autoru.naydex.net/o9dbxq270/5ac010hay0...    74000   \n",
       "1       https://autoru.naydex.net/o9dbxq270/5ac010hay0...    60563   \n",
       "2       https://avatars.mds.yandex.net/get-autoru-vos/...    88000   \n",
       "3       https://autoru.naydex.net/o9dbxq270/5ac010hay0...    95000   \n",
       "4       https://autoru.naydex.net/o9dbxq270/5ac010hay0...    58536   \n",
       "...                                                   ...      ...   \n",
       "178728  //avatars.mds.yandex.net/get-autoru-vos/494866...        0   \n",
       "178729  //avatars.mds.yandex.net/get-verba/1604130/2a0...        0   \n",
       "178730  //avatars.mds.yandex.net/get-verba/216201/2a00...        0   \n",
       "178731  //avatars.mds.yandex.net/get-verba/1535139/2a0...        0   \n",
       "178732  //avatars.mds.yandex.net/get-verba/1540742/2a0...        0   \n",
       "\n",
       "        model_date                                         model_info  \\\n",
       "0             2013  {\"code\":\"octavia\",\"name\":\"octavia\",\"ru_name\":\"...   \n",
       "1             2017  {\"code\":\"octavia\",\"name\":\"octavia\",\"ru_name\":\"...   \n",
       "2             2013  {\"code\":\"superb\",\"name\":\"superb\",\"ru_name\":\"су...   \n",
       "3             2013  {\"code\":\"octavia\",\"name\":\"octavia\",\"ru_name\":\"...   \n",
       "4             2008  {\"code\":\"octavia\",\"name\":\"octavia\",\"ru_name\":\"...   \n",
       "...            ...                                                ...   \n",
       "178728        2017  {'code': 'cx_5', 'name': 'cx-5', 'ru_name': 'c...   \n",
       "178729        2017  {'code': 'cx_5', 'name': 'cx-5', 'ru_name': 'c...   \n",
       "178730        2018  {'code': '6', 'name': '6', 'ru_name': '6', 'mo...   \n",
       "178731        2017  {'code': 'cx_5', 'name': 'cx-5', 'ru_name': 'c...   \n",
       "178732        2019  {'code': 'cx_30', 'name': 'cx-30', 'ru_name': ...   \n",
       "\n",
       "       model_name                    name  doors_count price_currency  \\\n",
       "0         octavia      1.2 amt (105 л.с.)            5            rub   \n",
       "1         octavia       1.6 mt (110 л.с.)            5            rub   \n",
       "2          superb  dsg 1.8 amt (152 л.с.)            5            rub   \n",
       "3         octavia       1.6 at (110 л.с.)            5            rub   \n",
       "4         octavia       1.8 at (152 л.с.)            5            rub   \n",
       "...           ...                     ...          ...            ...   \n",
       "178728       cx_5   2.5 at (194 л.с.) 4wd            5            rub   \n",
       "178729       cx_5   2.0 at (150 л.с.) 4wd            5            rub   \n",
       "178730          6       2.5 at (194 л.с.)            4            rub   \n",
       "178731       cx_5       2.0 at (150 л.с.)            5            rub   \n",
       "178732      cx_30       2.0 at (150 л.с.)            5            rub   \n",
       "\n",
       "        production_date     sell_id  \\\n",
       "0                  2014  1100575026   \n",
       "1                  2017  1100549428   \n",
       "2                  2014  1100658222   \n",
       "3                  2014  1100937408   \n",
       "4                  2012  1101037972   \n",
       "...                 ...         ...   \n",
       "178728             2021  1103635415   \n",
       "178729             2021  1103261362   \n",
       "178730             2021  1103513708   \n",
       "178731             2021  1103353326   \n",
       "178732             2021  1103353327   \n",
       "\n",
       "                                                super_gen  \\\n",
       "0       {\"id\":\"10373605\",\"displacement\":1197,\"engine_t...   \n",
       "1       {\"id\":\"20913311\",\"displacement\":1598,\"engine_t...   \n",
       "2       {\"id\":\"20026323\",\"nameplate\":\"dsg\",\"displaceme...   \n",
       "3       {\"id\":\"20105521\",\"displacement\":1598,\"engine_t...   \n",
       "4       {\"id\":\"4561004\",\"displacement\":1798,\"engine_ty...   \n",
       "...                                                   ...   \n",
       "178728  {'id': '21026245', 'displacement': 2488, 'engi...   \n",
       "178729  {'id': '21026226', 'displacement': 1998, 'engi...   \n",
       "178730  {'id': '21357844', 'displacement': 2488, 'engi...   \n",
       "178731  {'id': '21026215', 'displacement': 1998, 'engi...   \n",
       "178732  {'id': '22692032', 'displacement': 1998, 'engi...   \n",
       "\n",
       "          vehicle_configuration vehicle_transmission    vendor owner_count  \\\n",
       "0            liftback robot 1.2                robot  european           3   \n",
       "1       liftback mechanical 1.6           mechanical  european           1   \n",
       "2            liftback robot 1.8                robot  european           1   \n",
       "3        liftback automatic 1.6            automatic  european           1   \n",
       "4        liftback automatic 1.8            automatic  european           1   \n",
       "...                         ...                  ...       ...         ...   \n",
       "178728              useless_col            automatic  japanese         NaN   \n",
       "178729              useless_col            automatic  japanese         NaN   \n",
       "178730              useless_col            automatic  japanese         NaN   \n",
       "178731              useless_col            automatic  japanese         NaN   \n",
       "178732              useless_col            automatic  japanese         NaN   \n",
       "\n",
       "       owning_period car_passport wheel_drive wheel_location  \\\n",
       "0               None     original    передний           left   \n",
       "1               None     original    передний           left   \n",
       "2               None     original    передний           left   \n",
       "3               None     original    передний           left   \n",
       "4               None     original    передний           left   \n",
       "...              ...          ...         ...            ...   \n",
       "178728          None     original      полный           left   \n",
       "178729          None     original      полный           left   \n",
       "178730          None     original    передний           left   \n",
       "178731          None     original    передний           left   \n",
       "178732          None     original    передний           left   \n",
       "\n",
       "                 condition      custom      price  sample  \n",
       "0       не требует ремонта  растаможен        NaN       0  \n",
       "1       не требует ремонта  растаможен        NaN       0  \n",
       "2       не требует ремонта  растаможен        NaN       0  \n",
       "3       не требует ремонта  растаможен        NaN       0  \n",
       "4       не требует ремонта  растаможен        NaN       0  \n",
       "...                    ...         ...        ...     ...  \n",
       "178728                None        None  2579000.0       1  \n",
       "178729                None        None  2535000.0       1  \n",
       "178730                None        None  2226000.0       1  \n",
       "178731                None        None  2189000.0       1  \n",
       "178732                None        None  2182000.0       1  \n",
       "\n",
       "[178733 rows x 34 columns]"
      ]
     },
     "execution_count": 58,
     "metadata": {},
     "output_type": "execute_result"
    }
   ],
   "source": [
    "df"
   ]
  },
  {
   "cell_type": "markdown",
   "metadata": {},
   "source": [
    "<a id=\"sec6\"></a>\n",
    "## [body_type](#sec6)\n",
    "[(INDEX)](#sec2)"
   ]
  },
  {
   "cell_type": "markdown",
   "metadata": {},
   "source": [
    "Reduce quantity of body_types"
   ]
  },
  {
   "cell_type": "code",
   "execution_count": 15,
   "metadata": {},
   "outputs": [],
   "source": [
    "pattern = re.compile('[а-я]*')\n",
    "new_column = []\n",
    "for string in df['body_type']:\n",
    "    new_column.append(pattern.match(str(string))[0])\n",
    "df['body_type'] = new_column"
   ]
  },
  {
   "cell_type": "code",
   "execution_count": 16,
   "metadata": {},
   "outputs": [],
   "source": [
    "# Create list with top colors\n",
    "top_colors = df['body_type'].value_counts()[df['body_type'].value_counts(\n",
    ") > np.percentile((df['body_type'].value_counts().values), 70)].index.tolist()\n",
    "\n",
    "#take all colors from df to a list\n",
    "all_colors = df['body_type'].value_counts().index\n",
    "\n",
    "# Identify, what to delete\n",
    "colors_to_drop = set(all_colors) - set(top_colors)\n",
    "\n",
    "# Make replacemewnt\n",
    "df.loc[df['body_type'].isin(colors_to_drop), 'body_type'] = 'other'"
   ]
  },
  {
   "cell_type": "code",
   "execution_count": 17,
   "metadata": {},
   "outputs": [
    {
     "data": {
      "text/plain": [
       "седан          66648\n",
       "внедорожник    63983\n",
       "хэтчбек        16791\n",
       "other          14990\n",
       "лифтбек         9291\n",
       "универсал       7030\n",
       "Name: body_type, dtype: int64"
      ]
     },
     "execution_count": 17,
     "metadata": {},
     "output_type": "execute_result"
    }
   ],
   "source": [
    "df['body_type'].value_counts()"
   ]
  },
  {
   "cell_type": "markdown",
   "metadata": {},
   "source": [
    "<a id=\"sec6\"></a>\n",
    "## [color](#sec6)\n",
    "[(INDEX)](#sec2)"
   ]
  },
  {
   "cell_type": "markdown",
   "metadata": {},
   "source": [
    "With a reference to EDA section we generate new feature to show whether the color is popular.\n",
    "\n",
    "Meanwhile we re-orgasnize colors in original column by taking only most common colors"
   ]
  },
  {
   "cell_type": "code",
   "execution_count": 18,
   "metadata": {},
   "outputs": [],
   "source": [
    "# List of top3 colors (see EDA)\n",
    "popular_color = ['чёрный', 'белый', 'серый']\n",
    "df['popular_color'] = df['color'].apply(\n",
    "    lambda color: 1 if color in popular_color else 0)"
   ]
  },
  {
   "cell_type": "code",
   "execution_count": 19,
   "metadata": {},
   "outputs": [],
   "source": [
    "# Create list with top colors\n",
    "top_colors = df['color'].value_counts()[df['color'].value_counts(\n",
    ") > np.percentile((df['color'].value_counts().values), 70)].index.tolist()\n",
    "\n",
    "#take all colors from df to a list\n",
    "all_colors = df['color'].value_counts().index\n",
    "\n",
    "# Identify, what to delete\n",
    "colors_to_drop = set(all_colors) - set(top_colors)\n",
    "\n",
    "# Make replacemewnt\n",
    "df.loc[df['color'].isin(colors_to_drop), 'color'] = 'other'"
   ]
  },
  {
   "cell_type": "markdown",
   "metadata": {},
   "source": [
    "<a id=\"sec6\"></a>\n",
    "## [Model_name](#sec6)\n",
    "[(INDEX)](#sec2)"
   ]
  },
  {
   "cell_type": "code",
   "execution_count": null,
   "metadata": {},
   "outputs": [],
   "source": []
  },
  {
   "cell_type": "markdown",
   "metadata": {},
   "source": [
    "<a id=\"sec6\"></a>\n",
    "## [Description](#sec6)\n",
    "[(INDEX)](#sec2)"
   ]
  },
  {
   "cell_type": "markdown",
   "metadata": {},
   "source": [
    "Let's generate new features:\n",
    "- Sensitivity and polarity for the description column"
   ]
  },
  {
   "cell_type": "code",
   "execution_count": 20,
   "metadata": {},
   "outputs": [],
   "source": [
    "df['description'] = df['description'].fillna('none')\n",
    "df['description'] = df['description'].apply(cleanTxt)"
   ]
  },
  {
   "cell_type": "code",
   "execution_count": 21,
   "metadata": {},
   "outputs": [],
   "source": [
    "# Create a function to get the subjectivity\n",
    "def get_subjectivity(text):\n",
    "    return TextBlob(text).sentiment.subjectivity\n",
    "\n",
    "# Create a function to get the polarity\n",
    "def get_polarity(text):\n",
    "    return TextBlob(text).sentiment.polarity"
   ]
  },
  {
   "cell_type": "code",
   "execution_count": 22,
   "metadata": {},
   "outputs": [
    {
     "name": "stdout",
     "output_type": "stream",
     "text": [
      "Couldn't find program: 'false'\n"
     ]
    }
   ],
   "source": [
    "%%script false\n",
    "# Create new cols and call the func\n",
    "\n",
    "df['subjectivity'] = df['description'].apply(get_subjectivity)\n",
    "\n",
    "df['polarity'] = df['description'].apply(get_polarity)\n",
    "# add polarity analysis\n",
    "df_sentiment['analysis'] = df_sentiment['polarity'].apply(get_analysis)\n",
    "\n",
    "# show data\n",
    "df.sample(4)"
   ]
  },
  {
   "cell_type": "code",
   "execution_count": 23,
   "metadata": {},
   "outputs": [],
   "source": [
    "# Create a function to compute the negative, neutral and positive analysis\n",
    "def get_analysis(score):\n",
    "    if score < 0:\n",
    "        return 'negative'\n",
    "    elif score == 0:\n",
    "        return 'neutral'\n",
    "    else:\n",
    "        return 'positive'"
   ]
  },
  {
   "cell_type": "code",
   "execution_count": 24,
   "metadata": {},
   "outputs": [],
   "source": [
    "# %%script false\n",
    "# df_sentiment['analysis'] = df_sentiment['polarity'].apply(get_analysis)"
   ]
  },
  {
   "cell_type": "markdown",
   "metadata": {},
   "source": [
    "<a id=\"sec6\"></a>\n",
    "## [fuel_type](#sec6)\n",
    "[(INDEX)](#sec2)"
   ]
  },
  {
   "cell_type": "code",
   "execution_count": 25,
   "metadata": {},
   "outputs": [],
   "source": [
    "# lets strip fuel type\n",
    "df['fuel_type'] = df.fuel_type.apply(lambda fuel: str(fuel).strip())"
   ]
  },
  {
   "cell_type": "markdown",
   "metadata": {},
   "source": [
    "<a id=\"sec6\"></a>\n",
    "## [engine_displacement](#sec6)\n",
    "[(INDEX)](#sec2)"
   ]
  },
  {
   "cell_type": "markdown",
   "metadata": {},
   "source": [
    "We know, that there is no engine displacement for the electical cars. We also know there is missing values in this colums.\n",
    "\n",
    "Let's fix it. If car is electric - diplacement shall be 0."
   ]
  },
  {
   "cell_type": "code",
   "execution_count": 26,
   "metadata": {},
   "outputs": [],
   "source": [
    "df['engine_displacement'] = df[['engine_displacement','fuel_type']].apply(\n",
    "    lambda x: get_electro_displacement(*x), axis=1)"
   ]
  },
  {
   "cell_type": "markdown",
   "metadata": {},
   "source": [
    "It was observed that BMW model i3 has missing values in engine displacement. Let's say if it it is hybrid - then eng_displ - 0.7. If n0 - then 0"
   ]
  },
  {
   "cell_type": "code",
   "execution_count": 27,
   "metadata": {},
   "outputs": [],
   "source": [
    "df['engine_displacement'] = df[['engine_displacement','fuel_type', 'model_name']].apply(\n",
    "    lambda x: get_i3_displacement(*x), axis=1)"
   ]
  },
  {
   "cell_type": "markdown",
   "metadata": {},
   "source": [
    "<a id=\"sec6\"></a>\n",
    "## [engine_power](#sec6)\n",
    "[(INDEX)](#sec2)"
   ]
  },
  {
   "cell_type": "markdown",
   "metadata": {},
   "source": [
    "There is a special low in Russian Federation that devide cars by tax categories. \n",
    "\n",
    "More power in engine, higer grade of tax. It may impact on a prediction. Let's break our cars down by such categories"
   ]
  },
  {
   "cell_type": "code",
   "execution_count": 28,
   "metadata": {},
   "outputs": [],
   "source": [
    "df['tax_rate'] = df['engine_power'].apply(\n",
    "    lambda engine_power: get_tax_category(engine_power)).astype('category')"
   ]
  },
  {
   "cell_type": "markdown",
   "metadata": {},
   "source": [
    "<a id=\"sec6\"></a>\n",
    "## [Super_gen](#sec6)\n",
    "[(INDEX)](#sec2)"
   ]
  },
  {
   "cell_type": "markdown",
   "metadata": {},
   "source": [
    "Let's extract some information like an acceleration from supergen column.\n",
    "\n",
    "Generated new feature Acceleration"
   ]
  },
  {
   "cell_type": "code",
   "execution_count": 29,
   "metadata": {},
   "outputs": [],
   "source": [
    "# Before we do, fill up empty dictionaries with 'Nan'\n",
    "df['super_gen'] = df['super_gen'].fillna('NaN')\n",
    "df['super_gen'] = df['super_gen'].apply(cleanTxt)\n",
    "# Extract fuel rate,acceleration and generate new feature\n",
    "df['acceleration'] = df['super_gen'].apply(lambda string:get_acceleration(string))\n",
    "df['fuel_rate'] = df['super_gen'].apply(lambda string:get_fuel_rate(string))"
   ]
  },
  {
   "cell_type": "code",
   "execution_count": 30,
   "metadata": {},
   "outputs": [
    {
     "data": {
      "text/plain": [
       "11243"
      ]
     },
     "execution_count": 30,
     "metadata": {},
     "output_type": "execute_result"
    }
   ],
   "source": [
    "# missing vars in a new feature\n",
    "df['acceleration'].isna().sum()"
   ]
  },
  {
   "cell_type": "code",
   "execution_count": 31,
   "metadata": {},
   "outputs": [
    {
     "data": {
      "text/plain": [
       "21408"
      ]
     },
     "execution_count": 31,
     "metadata": {},
     "output_type": "execute_result"
    }
   ],
   "source": [
    "df['fuel_rate'].isna().sum()"
   ]
  },
  {
   "cell_type": "markdown",
   "metadata": {},
   "source": [
    "Let's fill missing values by randomly choosen value from most common in particular colums.\n",
    "\n",
    "For a company, add car pasport here and owner count"
   ]
  },
  {
   "cell_type": "code",
   "execution_count": 32,
   "metadata": {},
   "outputs": [],
   "source": [
    "cols_to_fill = ['acceleration', 'fuel_rate', 'car_passport','owner_count']\n",
    "for col in cols_to_fill:\n",
    "    missing_vars(df,col)"
   ]
  },
  {
   "cell_type": "markdown",
   "metadata": {},
   "source": [
    "<a id=\"sec6\"></a>\n",
    "## [Transmission](#sec6)\n",
    "[(INDEX)](#sec2)"
   ]
  },
  {
   "cell_type": "code",
   "execution_count": null,
   "metadata": {},
   "outputs": [],
   "source": []
  },
  {
   "cell_type": "code",
   "execution_count": null,
   "metadata": {},
   "outputs": [],
   "source": []
  },
  {
   "cell_type": "markdown",
   "metadata": {},
   "source": [
    "<a id=\"sec6\"></a>\n",
    "## [Price change index ](#sec6)\n",
    "[(INDEX)](#sec2)"
   ]
  },
  {
   "cell_type": "markdown",
   "metadata": {},
   "source": [
    "With a reference to EDA, we know, that some brands loose their price more faster than others. Let's generate such feature"
   ]
  },
  {
   "cell_type": "code",
   "execution_count": 33,
   "metadata": {},
   "outputs": [],
   "source": [
    "def get_change_index(model):\n",
    "    if model == 'ford':\n",
    "        return int(1)\n",
    "    if model == 'volvo' or model == 'mercedes-benz':\n",
    "        return int(2)\n",
    "    if model == 'honda' or model == 'audi':\n",
    "        return int(2)\n",
    "    return int(0)"
   ]
  },
  {
   "cell_type": "code",
   "execution_count": 34,
   "metadata": {},
   "outputs": [],
   "source": [
    "df['prc_chg_idx'] = df['brand'].apply(\n",
    "    lambda brand: get_change_index(brand)).astype('category')"
   ]
  },
  {
   "cell_type": "markdown",
   "metadata": {},
   "source": [
    "<a id=\"sec6\"></a>\n",
    "## [Dropping cars without info out](#sec6)\n",
    "[(INDEX)](#sec2)"
   ]
  },
  {
   "cell_type": "code",
   "execution_count": 35,
   "metadata": {},
   "outputs": [
    {
     "data": {
      "text/plain": [
       "3"
      ]
     },
     "execution_count": 35,
     "metadata": {},
     "output_type": "execute_result"
    }
   ],
   "source": [
    "df['engine_displacement'].isna().sum()"
   ]
  },
  {
   "cell_type": "code",
   "execution_count": 36,
   "metadata": {},
   "outputs": [],
   "source": [
    "# somehow parameter subset doesn't work properly\n",
    "# indexes_to_drop = df[engine_displacement].isna().reset_index()\n",
    "# idx = indexes_to_drop[indexes_to_drop['engine_displacement'] == True]['index']\n",
    "# idx = list(idx)\n",
    "# df = df.drop(idx).reset_index()"
   ]
  },
  {
   "cell_type": "code",
   "execution_count": 37,
   "metadata": {},
   "outputs": [],
   "source": [
    "# df = df.dropna(axis=0, subset=['engine_displacement'])\n",
    "# df = df.reset_index()"
   ]
  },
  {
   "cell_type": "code",
   "execution_count": 38,
   "metadata": {
    "scrolled": true
   },
   "outputs": [],
   "source": [
    "df['engine_displacement'] = df['engine_displacement'].fillna(\n",
    "    df['engine_displacement'].mean())"
   ]
  },
  {
   "cell_type": "markdown",
   "metadata": {},
   "source": [
    "<a id=\"sec6\"></a>\n",
    "## [Handling multicollinearity out](#sec6)\n",
    "[(INDEX)](#sec2)"
   ]
  },
  {
   "cell_type": "code",
   "execution_count": 39,
   "metadata": {},
   "outputs": [],
   "source": [
    "# extract trhee columns from dataset, which are correlated\n",
    "data = df[['mileage', 'model_date','production_date']].values\n",
    "# create Scaler instance\n",
    "scaler = StandardScaler()\n",
    "scaled_data = scaler.fit_transform(data)\n",
    "\n",
    "# We have 3 vectors. Reduce to two, taking most important info.\n",
    "pca = PCA(n_components=2)\n",
    "pca.fit(scaled_data)\n",
    "pca_data = pca.transform(scaled_data)\n",
    "df['pca_1'],df['pca_2'] = pca_data[:,0],pca_data[:,1]\n",
    "# df = df.drop(['model_date','mileage'],axis=1)"
   ]
  },
  {
   "cell_type": "markdown",
   "metadata": {},
   "source": [
    "<a id=\"sec6\"></a>\n",
    "## [Clustering](#sec6)\n",
    "[(INDEX)](#sec2)"
   ]
  },
  {
   "cell_type": "code",
   "execution_count": 40,
   "metadata": {},
   "outputs": [],
   "source": [
    "cluster = Outliers_detector(df)"
   ]
  },
  {
   "cell_type": "code",
   "execution_count": 41,
   "metadata": {},
   "outputs": [],
   "source": [
    "# indeces = cluster.get_dbscan_outliers('model_date', 'mileage', dbscan_eps=.3,\n",
    "#                                      dbscan_minsample=12,\n",
    "#                                      cluster_num=-1)\n",
    "# print(f\"Strange guys {len(indeces)}\")"
   ]
  },
  {
   "cell_type": "markdown",
   "metadata": {},
   "source": [
    "<a id=\"sec6\"></a>\n",
    "## [Logarithm](#sec6)\n",
    "[(INDEX)](#sec2)"
   ]
  },
  {
   "cell_type": "code",
   "execution_count": 42,
   "metadata": {},
   "outputs": [],
   "source": [
    "cols_to_log = [\n",
    "    'engine_displacement',\n",
    "    'production_date',  'pca_1', 'pca_2'\n",
    "]\n",
    "np.log(df['engine_displacement']+5)\n",
    "df = to_log(df, cols_to_log)"
   ]
  },
  {
   "cell_type": "markdown",
   "metadata": {},
   "source": [
    "<a id=\"sec6\"></a>\n",
    "## [Dropping cols out](#sec6)\n",
    "[(INDEX)](#sec2)"
   ]
  },
  {
   "cell_type": "code",
   "execution_count": 43,
   "metadata": {},
   "outputs": [],
   "source": [
    "cols_to_drop = [\n",
    "    'complectation_dict',\n",
    "    'description',\n",
    "    'equipment_dict',\n",
    "    'image',\n",
    "    'model_info',\n",
    "    'name',\n",
    "    'price_currency',\n",
    "    'vehicle_configuration',\n",
    "    'custom',\n",
    "    'condition',\n",
    "    'owning_period',\n",
    "    'super_gen', 'sell_id',\n",
    "    'model_name',\n",
    "    #'engine_power'\n",
    "]\n",
    "df = df.drop(cols_to_drop, axis=1)"
   ]
  },
  {
   "cell_type": "markdown",
   "metadata": {},
   "source": [
    "<a id=\"sec6\"></a>\n",
    "## [ENCODING](#sec6)\n",
    "[(INDEX)](#sec2)"
   ]
  },
  {
   "cell_type": "code",
   "execution_count": 44,
   "metadata": {},
   "outputs": [],
   "source": [
    "encoder = Encoder(df)"
   ]
  },
  {
   "cell_type": "code",
   "execution_count": 45,
   "metadata": {},
   "outputs": [],
   "source": [
    "to_hot = [\n",
    "    'body_type',\n",
    "    'brand',\n",
    "    'color',\n",
    "    'fuel_type',    \n",
    "    'doors_count',\n",
    "    'vehicle_transmission',\n",
    "    'vendor',\n",
    "    'wheel_drive',\n",
    "    'tax_rate'\n",
    "    ]"
   ]
  },
  {
   "cell_type": "code",
   "execution_count": 48,
   "metadata": {},
   "outputs": [],
   "source": [
    "df1 = df.copy()"
   ]
  },
  {
   "cell_type": "code",
   "execution_count": 51,
   "metadata": {},
   "outputs": [
    {
     "name": "stdout",
     "output_type": "stream",
     "text": [
      "body_type - 0%\n",
      "brand - 0%\n",
      "color - 0%\n"
     ]
    },
    {
     "ename": "KeyError",
     "evalue": "'complectation_dict'",
     "output_type": "error",
     "traceback": [
      "\u001b[1;31m---------------------------------------------------------------------------\u001b[0m",
      "\u001b[1;31mKeyError\u001b[0m                                  Traceback (most recent call last)",
      "\u001b[1;32mC:\\ProgramData\\Anaconda3\\lib\\site-packages\\pandas\\core\\indexes\\base.py\u001b[0m in \u001b[0;36mget_loc\u001b[1;34m(self, key, method, tolerance)\u001b[0m\n\u001b[0;32m   3079\u001b[0m             \u001b[1;32mtry\u001b[0m\u001b[1;33m:\u001b[0m\u001b[1;33m\u001b[0m\u001b[1;33m\u001b[0m\u001b[0m\n\u001b[1;32m-> 3080\u001b[1;33m                 \u001b[1;32mreturn\u001b[0m \u001b[0mself\u001b[0m\u001b[1;33m.\u001b[0m\u001b[0m_engine\u001b[0m\u001b[1;33m.\u001b[0m\u001b[0mget_loc\u001b[0m\u001b[1;33m(\u001b[0m\u001b[0mcasted_key\u001b[0m\u001b[1;33m)\u001b[0m\u001b[1;33m\u001b[0m\u001b[1;33m\u001b[0m\u001b[0m\n\u001b[0m\u001b[0;32m   3081\u001b[0m             \u001b[1;32mexcept\u001b[0m \u001b[0mKeyError\u001b[0m \u001b[1;32mas\u001b[0m \u001b[0merr\u001b[0m\u001b[1;33m:\u001b[0m\u001b[1;33m\u001b[0m\u001b[1;33m\u001b[0m\u001b[0m\n",
      "\u001b[1;32mpandas\\_libs\\index.pyx\u001b[0m in \u001b[0;36mpandas._libs.index.IndexEngine.get_loc\u001b[1;34m()\u001b[0m\n",
      "\u001b[1;32mpandas\\_libs\\index.pyx\u001b[0m in \u001b[0;36mpandas._libs.index.IndexEngine.get_loc\u001b[1;34m()\u001b[0m\n",
      "\u001b[1;32mpandas\\_libs\\hashtable_class_helper.pxi\u001b[0m in \u001b[0;36mpandas._libs.hashtable.PyObjectHashTable.get_item\u001b[1;34m()\u001b[0m\n",
      "\u001b[1;32mpandas\\_libs\\hashtable_class_helper.pxi\u001b[0m in \u001b[0;36mpandas._libs.hashtable.PyObjectHashTable.get_item\u001b[1;34m()\u001b[0m\n",
      "\u001b[1;31mKeyError\u001b[0m: 'complectation_dict'",
      "\nThe above exception was the direct cause of the following exception:\n",
      "\u001b[1;31mKeyError\u001b[0m                                  Traceback (most recent call last)",
      "\u001b[1;32m<ipython-input-51-026da6701dbf>\u001b[0m in \u001b[0;36m<module>\u001b[1;34m\u001b[0m\n\u001b[0;32m      6\u001b[0m \u001b[1;31m# Show in percents\u001b[0m\u001b[1;33m\u001b[0m\u001b[1;33m\u001b[0m\u001b[1;33m\u001b[0m\u001b[0m\n\u001b[0;32m      7\u001b[0m \u001b[1;32mfor\u001b[0m \u001b[0mcol\u001b[0m \u001b[1;32min\u001b[0m \u001b[0mdf_combined\u001b[0m\u001b[1;33m.\u001b[0m\u001b[0mcolumns\u001b[0m\u001b[1;33m:\u001b[0m\u001b[1;33m\u001b[0m\u001b[1;33m\u001b[0m\u001b[0m\n\u001b[1;32m----> 8\u001b[1;33m     \u001b[0mpct_missing\u001b[0m \u001b[1;33m=\u001b[0m \u001b[0mnp\u001b[0m\u001b[1;33m.\u001b[0m\u001b[0mmean\u001b[0m\u001b[1;33m(\u001b[0m\u001b[0mdf\u001b[0m\u001b[1;33m[\u001b[0m\u001b[0mcol\u001b[0m\u001b[1;33m]\u001b[0m\u001b[1;33m.\u001b[0m\u001b[0misnull\u001b[0m\u001b[1;33m(\u001b[0m\u001b[1;33m)\u001b[0m\u001b[1;33m)\u001b[0m\u001b[1;33m\u001b[0m\u001b[1;33m\u001b[0m\u001b[0m\n\u001b[0m\u001b[0;32m      9\u001b[0m     \u001b[0mprint\u001b[0m\u001b[1;33m(\u001b[0m\u001b[1;34mf'{col} - {round(pct_missing*100)}%'\u001b[0m\u001b[1;33m)\u001b[0m\u001b[1;33m\u001b[0m\u001b[1;33m\u001b[0m\u001b[0m\n",
      "\u001b[1;32mC:\\ProgramData\\Anaconda3\\lib\\site-packages\\pandas\\core\\frame.py\u001b[0m in \u001b[0;36m__getitem__\u001b[1;34m(self, key)\u001b[0m\n\u001b[0;32m   3022\u001b[0m             \u001b[1;32mif\u001b[0m \u001b[0mself\u001b[0m\u001b[1;33m.\u001b[0m\u001b[0mcolumns\u001b[0m\u001b[1;33m.\u001b[0m\u001b[0mnlevels\u001b[0m \u001b[1;33m>\u001b[0m \u001b[1;36m1\u001b[0m\u001b[1;33m:\u001b[0m\u001b[1;33m\u001b[0m\u001b[1;33m\u001b[0m\u001b[0m\n\u001b[0;32m   3023\u001b[0m                 \u001b[1;32mreturn\u001b[0m \u001b[0mself\u001b[0m\u001b[1;33m.\u001b[0m\u001b[0m_getitem_multilevel\u001b[0m\u001b[1;33m(\u001b[0m\u001b[0mkey\u001b[0m\u001b[1;33m)\u001b[0m\u001b[1;33m\u001b[0m\u001b[1;33m\u001b[0m\u001b[0m\n\u001b[1;32m-> 3024\u001b[1;33m             \u001b[0mindexer\u001b[0m \u001b[1;33m=\u001b[0m \u001b[0mself\u001b[0m\u001b[1;33m.\u001b[0m\u001b[0mcolumns\u001b[0m\u001b[1;33m.\u001b[0m\u001b[0mget_loc\u001b[0m\u001b[1;33m(\u001b[0m\u001b[0mkey\u001b[0m\u001b[1;33m)\u001b[0m\u001b[1;33m\u001b[0m\u001b[1;33m\u001b[0m\u001b[0m\n\u001b[0m\u001b[0;32m   3025\u001b[0m             \u001b[1;32mif\u001b[0m \u001b[0mis_integer\u001b[0m\u001b[1;33m(\u001b[0m\u001b[0mindexer\u001b[0m\u001b[1;33m)\u001b[0m\u001b[1;33m:\u001b[0m\u001b[1;33m\u001b[0m\u001b[1;33m\u001b[0m\u001b[0m\n\u001b[0;32m   3026\u001b[0m                 \u001b[0mindexer\u001b[0m \u001b[1;33m=\u001b[0m \u001b[1;33m[\u001b[0m\u001b[0mindexer\u001b[0m\u001b[1;33m]\u001b[0m\u001b[1;33m\u001b[0m\u001b[1;33m\u001b[0m\u001b[0m\n",
      "\u001b[1;32mC:\\ProgramData\\Anaconda3\\lib\\site-packages\\pandas\\core\\indexes\\base.py\u001b[0m in \u001b[0;36mget_loc\u001b[1;34m(self, key, method, tolerance)\u001b[0m\n\u001b[0;32m   3080\u001b[0m                 \u001b[1;32mreturn\u001b[0m \u001b[0mself\u001b[0m\u001b[1;33m.\u001b[0m\u001b[0m_engine\u001b[0m\u001b[1;33m.\u001b[0m\u001b[0mget_loc\u001b[0m\u001b[1;33m(\u001b[0m\u001b[0mcasted_key\u001b[0m\u001b[1;33m)\u001b[0m\u001b[1;33m\u001b[0m\u001b[1;33m\u001b[0m\u001b[0m\n\u001b[0;32m   3081\u001b[0m             \u001b[1;32mexcept\u001b[0m \u001b[0mKeyError\u001b[0m \u001b[1;32mas\u001b[0m \u001b[0merr\u001b[0m\u001b[1;33m:\u001b[0m\u001b[1;33m\u001b[0m\u001b[1;33m\u001b[0m\u001b[0m\n\u001b[1;32m-> 3082\u001b[1;33m                 \u001b[1;32mraise\u001b[0m \u001b[0mKeyError\u001b[0m\u001b[1;33m(\u001b[0m\u001b[0mkey\u001b[0m\u001b[1;33m)\u001b[0m \u001b[1;32mfrom\u001b[0m \u001b[0merr\u001b[0m\u001b[1;33m\u001b[0m\u001b[1;33m\u001b[0m\u001b[0m\n\u001b[0m\u001b[0;32m   3083\u001b[0m \u001b[1;33m\u001b[0m\u001b[0m\n\u001b[0;32m   3084\u001b[0m         \u001b[1;32mif\u001b[0m \u001b[0mtolerance\u001b[0m \u001b[1;32mis\u001b[0m \u001b[1;32mnot\u001b[0m \u001b[1;32mNone\u001b[0m\u001b[1;33m:\u001b[0m\u001b[1;33m\u001b[0m\u001b[1;33m\u001b[0m\u001b[0m\n",
      "\u001b[1;31mKeyError\u001b[0m: 'complectation_dict'"
     ]
    },
    {
     "data": {
      "image/png": "[encoded data removed]",
      "text/plain": [
       "<Figure size 1080x1080 with 2 Axes>"
      ]
     },
     "metadata": {},
     "output_type": "display_data"
    }
   ],
   "source": [
    "# Plot missing values\n",
    "cols = df.columns\n",
    "fig, ax = plt.subplots(figsize=(15, 15))\n",
    "sns.heatmap(df[cols].isnull()) \n",
    "\n",
    "# Show in percents\n",
    "for col in df_combined.columns:\n",
    "    pct_missing = np.mean(df[col].isnull())\n",
    "    print(f'{col} - {round(pct_missing*100)}%')"
   ]
  },
  {
   "cell_type": "code",
   "execution_count": null,
   "metadata": {},
   "outputs": [],
   "source": [
    "encoder = Encoder(df)"
   ]
  },
  {
   "cell_type": "code",
   "execution_count": null,
   "metadata": {},
   "outputs": [],
   "source": [
    "# %%script false\n",
    "for col in to_hot:\n",
    "    df = encoder.hot_encoder(col)"
   ]
  },
  {
   "cell_type": "code",
   "execution_count": null,
   "metadata": {},
   "outputs": [],
   "source": [
    "df"
   ]
  },
  {
   "cell_type": "code",
   "execution_count": null,
   "metadata": {},
   "outputs": [],
   "source": []
  }
 ],
 "metadata": {
  "kernelspec": {
   "display_name": "Python 3",
   "language": "python",
   "name": "python3"
  },
  "language_info": {
   "codemirror_mode": {
    "name": "ipython",
    "version": 3
   },
   "file_extension": ".py",
   "mimetype": "text/x-python",
   "name": "python",
   "nbconvert_exporter": "python",
   "pygments_lexer": "ipython3",
   "version": "3.8.5"
  },
  "toc": {
   "base_numbering": 1,
   "nav_menu": {},
   "number_sections": true,
   "sideBar": true,
   "skip_h1_title": false,
   "title_cell": "Table of Contents",
   "title_sidebar": "Contents",
   "toc_cell": false,
   "toc_position": {},
   "toc_section_display": true,
   "toc_window_display": true
  },
  "varInspector": {
   "cols": {
    "lenName": 16,
    "lenType": 16,
    "lenVar": 40
   },
   "kernels_config": {
    "python": {
     "delete_cmd_postfix": "",
     "delete_cmd_prefix": "del ",
     "library": "var_list.py",
     "varRefreshCmd": "print(var_dic_list())"
    },
    "r": {
     "delete_cmd_postfix": ") ",
     "delete_cmd_prefix": "rm(",
     "library": "var_list.r",
     "varRefreshCmd": "cat(var_dic_list()) "
    }
   },
   "types_to_exclude": [
    "module",
    "function",
    "builtin_function_or_method",
    "instance",
    "_Feature"
   ],
   "window_display": false
  }
 },
 "nbformat": 4,
 "nbformat_minor": 4
}
