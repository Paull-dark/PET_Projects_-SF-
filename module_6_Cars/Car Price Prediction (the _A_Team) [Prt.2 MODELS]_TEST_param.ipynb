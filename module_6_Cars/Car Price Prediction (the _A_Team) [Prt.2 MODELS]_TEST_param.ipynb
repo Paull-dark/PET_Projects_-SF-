{
 "cells": [
  {
   "cell_type": "markdown",
   "metadata": {},
   "source": [
    "# Choose a Car Profitably [Car Price prediction] PART.2"
   ]
  },
  {
   "cell_type": "markdown",
   "metadata": {},
   "source": [
    "In this part we will focus on feature engineering and building a several models"
   ]
  },
  {
   "cell_type": "markdown",
   "metadata": {},
   "source": [
    "This work has made by Paul Krivchenia in cooperation with Vitaliy Burlakov (a.k.a Vetak8):\n",
    "#### [My GitHub](https://github.com/Paull-dark)\n",
    "#### [Vetak's GitHub](https://github.com/vetak8)\n",
    "#### [Vetak's Kaggle](https://www.kaggle.com/vitaliyburlakov)"
   ]
  },
  {
   "cell_type": "markdown",
   "metadata": {},
   "source": [
    "<img src = 'http://3.bp.blogspot.com/--knDCWYzMOw/UqzpwyctJeI/AAAAAAAAAT8/Ui66KNd1nXM/s1600/7egylh57hbhs.jpg' width= '400px'>"
   ]
  },
  {
   "cell_type": "markdown",
   "metadata": {},
   "source": [
    "<a id=\"sec2\"></a>\n",
    "# [INDEX](#sec2)\n",
    "\n",
    "<a id=\"sec1\"></a>\n",
    "1. [Description](#sec1)\n",
    "   * [1.1 Features Defination](#sec1.1)\n",
    "2. [INDEX](#sec2)\n",
    "3. [IMPORT LIBRARRIES](#sec3)\n",
    "4. [Functions and Classes](#sec4)\n",
    "5. [Load and Chek the Dataset](#sec5)"
   ]
  },
  {
   "cell_type": "markdown",
   "metadata": {},
   "source": [
    "<a id=\"sec2\"></a>\n",
    "# [Import LIBRARIES](#sec2)"
   ]
  },
  {
   "cell_type": "code",
   "execution_count": 85,
   "metadata": {},
   "outputs": [],
   "source": [
    "from Preprocessing import df_combined\n",
    "\n",
    "import pandas as pd\n",
    "import numpy as np\n",
    "import re\n",
    "import matplotlib.pyplot as plt\n",
    "import seaborn as sns\n",
    "import plotly.express as px\n",
    "import statsmodels.api as sm\n",
    "import ast\n",
    "import warnings\n",
    "from jupyterthemes import jtplot\n",
    "\n",
    "from textblob import TextBlob  # for sentiment analysis\n",
    "from wordcloud import WordCloud, STOPWORDS  # for creating cloud of words\n",
    "from sklearn.cluster import DBSCAN\n",
    "\n",
    "from sklearn.decomposition import PCA \n",
    "from sklearn.preprocessing import LabelEncoder, OneHotEncoder\n",
    "from sklearn.preprocessing import StandardScaler, RobustScaler\n",
    "from sklearn.model_selection import train_test_split\n",
    "from sklearn.metrics import mean_absolute_error, mean_squared_error\n",
    "from sklearn.feature_extraction import DictVectorizer\n",
    "from sklearn.feature_selection import f_regression\n",
    "from sklearn.model_selection import StratifiedShuffleSplit\n",
    "\n",
    "\n",
    "#from lazypredict.Supervised import LazyRegressor\n",
    "from sklearn.ensemble import ExtraTreesRegressor, RandomForestRegressor\n",
    "from sklearn.ensemble import GradientBoostingRegressor\n",
    "from sklearn.linear_model import ElasticNet\n",
    "from xgboost import XGBRFRegressor\n",
    "from catboost import CatBoostRegressor\n",
    "import xgboost as xgb\n",
    "import lightgbm  as lgb\n",
    "import lightgbm\n",
    "import optuna\n",
    "\n",
    "\n",
    "from xgboost import plot_importance\n",
    "\n",
    "warnings.filterwarnings(\"ignore\")\n",
    "\n",
    "%matplotlib inline\n",
    "pd.set_option('display.max_rows', 50)  # Show more rows\n",
    "pd.set_option('display.max_columns', 50)  # Show more columns\n",
    "plt.style.use('ggplot')  # Nice plotting\n",
    "\n",
    "jtplot.style(theme='monokai', context='notebook', ticks=True, grid=False)"
   ]
  },
  {
   "cell_type": "code",
   "execution_count": 2,
   "metadata": {},
   "outputs": [
    {
     "data": {
      "image/png": "[encoded data removed]",
      "text/plain": [
       "<Figure size 360x72 with 1 Axes>"
      ]
     },
     "metadata": {},
     "output_type": "display_data"
    }
   ],
   "source": [
    "# Set project colors\n",
    "colors = ['#001c57', '#50248f', '#a6a6a6', '#38d1ff','#cc3181']\n",
    "sns.palplot(sns.color_palette(colors))"
   ]
  },
  {
   "cell_type": "markdown",
   "metadata": {},
   "source": [
    "<a id=\"sec4\"></a>\n",
    "# [FUNCTIONS and CLASSES](#sec4)\n",
    "[(INDEX)](#sec2)"
   ]
  },
  {
   "cell_type": "markdown",
   "metadata": {},
   "source": [
    "<a id=\"sec4\"></a>\n",
    "## [GENERAL FUNCTIONS](#sec4)\n",
    "[(INDEX)](#sec2)"
   ]
  },
  {
   "cell_type": "code",
   "execution_count": 3,
   "metadata": {},
   "outputs": [],
   "source": [
    "def missing_vars(data, column, random_proba=True):\n",
    "    '''Function is called for filling of missing data'''\n",
    "    # With using probability and random choise\n",
    "\n",
    "    if random_proba:\n",
    "        col_name = data[column].value_counts().index.to_list(\n",
    "        )  # get list of values\n",
    "        col_distr = data[column].value_counts(\n",
    "            normalize=True).values  # get l;ist of probs\n",
    "        missing = data[col].isnull()  # flag of missing val\n",
    "        # substitute values from the list of names in accordance with the probability of meeting the name\n",
    "        data.loc[missing, [column]] = np.random.choice(col_name,\n",
    "                                                    size=len(data[missing]),\n",
    "                                                    p=col_distr)\n",
    "\n",
    "    # Using  most common in  column\n",
    "    data[col] = data[col].fillna(data[col].value_counts().index[0])"
   ]
  },
  {
   "cell_type": "code",
   "execution_count": 4,
   "metadata": {},
   "outputs": [],
   "source": [
    "def get_variable_distribution(col, title=None):\n",
    "    '''Function is called to plot feture distribution'''\n",
    "\n",
    "    title = title if title is not None else f\"Distribution for '{col}\"\n",
    "    fig, (ax1, ax2, ax3) = plt.subplots(1, 3, figsize=(15, 5),)\n",
    "    fig = sm.qqplot(col, fit=True, line='45', ax=ax1)\n",
    "    fig.suptitle(title, fontsize=20)\n",
    "\n",
    "    sns.distplot(col.values, bins=20, color=colors[1], ax=ax2)\n",
    "#     sns.violinplot(col.values, color=colors[3], bw=.3, cut=1, linewidth=4)\n",
    "    sns.boxplot(col.values,color=colors[3])\n",
    "\n",
    "    ax1.set_title('QQ-plot')\n",
    "    ax2.set_title('Distribution')\n",
    "    ax3.set_title('Boxplot')\n",
    "\n",
    "    plt.show()"
   ]
  },
  {
   "cell_type": "code",
   "execution_count": 5,
   "metadata": {},
   "outputs": [],
   "source": [
    "def corr_matrix(data, det=True, pltx=10, plty=10):\n",
    "    '''Funcion is called for making correlation matrix'''\n",
    "\n",
    "    corr = data.corr()\n",
    "    if det:\n",
    "\n",
    "        evals, evec = np.linalg.eig(corr)\n",
    "        ev_product = np.prod(evals)\n",
    "\n",
    "        print(f'Rank of Matrix: {np.linalg.matrix_rank(corr)}')\n",
    "        print(f'Determinant of matrix: {np.round(ev_product,4)}')\n",
    "        print(f'Shape of matrix: {np.shape(corr)}')\n",
    "\n",
    "    plt.figure(figsize=(pltx, plty))\n",
    "    sns.heatmap(corr[(corr >= .2) | (corr <= -.2)],\n",
    "                cmap='viridis',\n",
    "                vmin=-1.0,\n",
    "                linewidths=0.1,\n",
    "                annot=True,\n",
    "                annot_kws={\"size\": 10},\n",
    "                square=True)\n",
    "    #     sns.heatmap(X,vmin=0,vmax=.9,annot=True,square=True)\n",
    "    plt.show()"
   ]
  },
  {
   "cell_type": "code",
   "execution_count": 6,
   "metadata": {},
   "outputs": [],
   "source": [
    "def cleanTxt(text):\n",
    "    '''Function is called for cleaning text from trash\n",
    "    INPUT: dirty string\n",
    "    OUTPUT: More or less clean string'''\n",
    "\n",
    "    text = re.sub(r'@[А-Яа-я0-9]+', '', text)  # Remove @\n",
    "    text = re.sub(r'#', '', text)  # remove #\n",
    "    text = re.sub(r'{', '', text)\n",
    "    text = re.sub(r'}', '', text)\n",
    "    text = re.sub('^а-яА-Я', ' ', text)\n",
    "    text = re.sub(r'https?:\\/\\/\\S+', '', text)  # remove hyperlink\n",
    "    text = re.sub(r'\\n', '', text)\n",
    "    text = re.sub(r'✅', '', text)\n",
    "    text = re.sub(r'👍🏻', '', text)\n",
    "    text = re.sub(r'✨', '', text)\n",
    "    \n",
    "    \n",
    "    # there are much more emoji. I don't know how to identify them so far\n",
    "\n",
    "    text = text.strip()\n",
    "    text = text.lower()\n",
    "    #text = text.split()\n",
    "    return text"
   ]
  },
  {
   "cell_type": "code",
   "execution_count": 7,
   "metadata": {},
   "outputs": [],
   "source": [
    "def to_log(df, cols_to_log):\n",
    "    'smart log'\n",
    "    for col in cols_to_log:\n",
    "        a = df[col].min()\n",
    "        if a <= 0:                        \n",
    "            df[col] = np.log(df[col] + (int(abs(df[col].min()))+2))\n",
    "        \n",
    "        df[col] = np.log(df[col])\n",
    "    return df"
   ]
  },
  {
   "cell_type": "code",
   "execution_count": 8,
   "metadata": {},
   "outputs": [],
   "source": [
    "# Defining MAPE function since it was removed from sklearn\n",
    "def mape(y_true, y_pred):\n",
    "    'Function to calculate MAPE metric'\n",
    "#     y_true, y_pred = np.expm1(y_true), np.expm1(y_pred)\n",
    "    y_true, y_pred = np.array(y_true), np.array(y_pred)\n",
    "    return np.mean(np.abs((y_true - y_pred) / y_true) * 100)"
   ]
  },
  {
   "cell_type": "code",
   "execution_count": 9,
   "metadata": {},
   "outputs": [],
   "source": [
    "def get_regression_metrics(report_df,y_true, y_pred, name):\n",
    "    '''Create and add metrics into a pandas DF after experiment'''\n",
    "    y_true, y_pred = np.expm1(y_true), np.expm1(y_pred)\n",
    "\n",
    "    report = pd.DataFrame(columns={'MAPE'}, data=[0])\n",
    "    try:\n",
    "        report['MAPE'] = mape(y_true, y_pred)\n",
    "    except:\n",
    "        report['MAPE'] = 'failed'\n",
    "    report['MAE'] = mean_absolute_error(y_true, y_pred)\n",
    "    report['MSE'] = mean_squared_error(y_true, y_pred)\n",
    "    report['RMSE'] = np.sqrt(mean_squared_error(y_true, y_pred))\n",
    "\n",
    "    report.index = [name]\n",
    "    report_df = report_df.append(report)\n",
    "    return report_df"
   ]
  },
  {
   "cell_type": "markdown",
   "metadata": {},
   "source": [
    "<a id=\"sec4\"></a>\n",
    "## [Classes](#sec4)\n",
    "[(INDEX)](#sec2)"
   ]
  },
  {
   "cell_type": "code",
   "execution_count": 10,
   "metadata": {},
   "outputs": [],
   "source": [
    "class Encoder():\n",
    "    def __init__(self, dataframe):\n",
    "        self.dataframe = dataframe\n",
    "\n",
    "    def label_encoder(self, column):\n",
    "        '''Method is called for label encoding'''\n",
    "        le = LabelEncoder()\n",
    "        self.dataframe[column] = le.fit_transform(self.dataframe[column])\n",
    "\n",
    "    def hot_encoder(self, column):\n",
    "        '''Method is calling for hot encoding'''\n",
    "        ohe = OneHotEncoder(handle_unknown='ignore', sparse=False)\n",
    "        aux_df = pd.DataFrame(ohe.fit_transform(self.dataframe[[column]]))\n",
    "        aux_df.columns = ohe.get_feature_names([f'hot_{column}'])\n",
    "        self.dataframe = self.dataframe.drop(col, axis=1)\n",
    "        self.dataframe = pd.concat([self.dataframe, aux_df], axis=1)\n",
    "        return self.dataframe"
   ]
  },
  {
   "cell_type": "code",
   "execution_count": 11,
   "metadata": {},
   "outputs": [],
   "source": [
    "class Outliers_detector():\n",
    "    def __init__(self, df):\n",
    "        self.df = df\n",
    "\n",
    "    def get_IQR_outliers(self, column):\n",
    "        '''Method is called to detect IQR outliers'''\n",
    "        outliers = dict()\n",
    "        q1, q3 = np.percentile(sorted(self.df[column]), [25, 75])\n",
    "\n",
    "        IQR = q3 - q1\n",
    "\n",
    "        l_b = q1 - (1.5 * IQR)  # lower bound\n",
    "        u_b = q3 + (1.5 * IQR)  # upper bound\n",
    "        outl_count = len(self.df[column][self.df[column] < l_b]) + len(\n",
    "            self.df[column][self.df[column] > u_b])\n",
    "\n",
    "        outliers['lower_bound'] = round(l_b, 3)\n",
    "        outliers['upper_bound'] = round(u_b, 3)\n",
    "        outliers['outlier_count'] = outl_count\n",
    "\n",
    "        return outliers\n",
    "\n",
    "    def get_dbscan_outliers(self, column1, column2, dbscan_eps,\n",
    "                            dbscan_minsample, cluster_num):\n",
    "        '''Method is called for detecting outliers for two columns by dbscan'''\n",
    "\n",
    "        scaler = RobustScaler()\n",
    "        scale_column1 = scaler.fit_transform(pd.DataFrame(\n",
    "            self.df[column1])).reshape(1, -1)[0]\n",
    "        scale_column2 = scaler.fit_transform(pd.DataFrame(\n",
    "            self.df[column2])).reshape(1, -1)[0]\n",
    "        df_temp = pd.DataFrame({\n",
    "            'column1': scale_column1,\n",
    "            'column2': scale_column2\n",
    "        })\n",
    "        clustering = DBSCAN(eps=dbscan_eps,\n",
    "                            min_samples=dbscan_minsample).fit(df_temp.values)\n",
    "        df_temp[\"cluster\"] = clustering.labels_\n",
    "        df_temp.index = self.df.index\n",
    "        fig = px.scatter(self.df,\n",
    "                   x=scale_column1,\n",
    "                   y=scale_column2,\n",
    "                   color=clustering.labels_,\n",
    "                   size=column2)\n",
    "        # Edit the layout\n",
    "        fig.update_layout(title='Detected Custers\\n')\n",
    "        fig.update_xaxes(title=(f'{column1}'))\n",
    "        fig.update_yaxes(title=(f'{column2}'))\n",
    "        fig.update_layout(width = 700)\n",
    "        fig.update_layout(height = 600)\n",
    "        \n",
    "        fig.show()\n",
    "        #         sns.scatterplot(scale_column1, scale_column2,\n",
    "        #                         hue=clustering.labels_, alpha=0.5)\n",
    "        #         plt.title('CLUSTERS\\n', fontsize=15)\n",
    "        #         plt.xlabel(f'{column1}')\n",
    "        #         plt.ylabel(f'{column2}')\n",
    "        return df_temp[df_temp[\"cluster\"] == cluster_num].index"
   ]
  },
  {
   "cell_type": "markdown",
   "metadata": {},
   "source": [
    "<a id=\"sec4\"></a>\n",
    "## [FUNCTIONS FOR FEATURE ENGINEERING](#sec4)\n",
    "[(INDEX)](#sec2)"
   ]
  },
  {
   "cell_type": "code",
   "execution_count": 12,
   "metadata": {},
   "outputs": [],
   "source": [
    "def get_tax_category(engine_power):\n",
    "    '''Function breaks down the number of horse\n",
    "    power by taxation category in Russia'''\n",
    "\n",
    "    if engine_power <= 100:\n",
    "        return int(1)\n",
    "    elif 100 < engine_power <= 150:\n",
    "        return int(2)\n",
    "    elif 150 < engine_power <= 200:\n",
    "        return int(3)\n",
    "    elif 200 < engine_power <= 250:\n",
    "        return int(4)\n",
    "    elif engine_power > 250:\n",
    "        return int(5)\n",
    "\n",
    "\n",
    "def get_low_registr(word):\n",
    "    '''Get lowercase for string'''\n",
    "    try:\n",
    "        return word.lower()\n",
    "    except:\n",
    "        return None\n",
    "    \n",
    "def get_i3_displacement(engine_displacement, fuel_type, model_name):\n",
    "    '''fill mising values for  BMW i3'''\n",
    "    \n",
    "    if model_name == 'i3':\n",
    "        if fuel_type == 'hybrid':\n",
    "            return 0.7\n",
    "        else:\n",
    "            return 0\n",
    "    else:\n",
    "        return engine_displacement\n",
    "\n",
    "def get_electro_displacement(engine_displacement, fuel_type):\n",
    "    '''Filling mising vars for electrocars'''\n",
    "    \n",
    "    if fuel_type == 'electro':\n",
    "        return 0\n",
    "    else:\n",
    "        return engine_displacement\n",
    "    \n",
    "def get_acceleration(string):\n",
    "    '''Function extracting acceleration'''\n",
    "    \n",
    "    try:\n",
    "        return float(re.split(',', re.split('acceleration\\W+', str(string))[1])[0])\n",
    "    except:\n",
    "        return None\n",
    "    \n",
    "def get_fuel_rate(string):\n",
    "    '''Extrating fuel rate'''\n",
    "    try:\n",
    "        return float(re.split(',', re.split('fuel_rate\\W+', str(string))[1])[0])\n",
    "\n",
    "    except:\n",
    "        return None"
   ]
  },
  {
   "cell_type": "markdown",
   "metadata": {},
   "source": [
    "<a id=\"sec5\"></a>\n",
    "# [5.Load and Chek the Dataset](#sec5)\n",
    "[(INDEX)](#sec2)"
   ]
  },
  {
   "cell_type": "code",
   "execution_count": 13,
   "metadata": {
    "scrolled": false
   },
   "outputs": [
    {
     "data": {
      "text/html": [
       "<div>\n",
       "<style scoped>\n",
       "    .dataframe tbody tr th:only-of-type {\n",
       "        vertical-align: middle;\n",
       "    }\n",
       "\n",
       "    .dataframe tbody tr th {\n",
       "        vertical-align: top;\n",
       "    }\n",
       "\n",
       "    .dataframe thead th {\n",
       "        text-align: right;\n",
       "    }\n",
       "</style>\n",
       "<table border=\"1\" class=\"dataframe\">\n",
       "  <thead>\n",
       "    <tr style=\"text-align: right;\">\n",
       "      <th></th>\n",
       "      <th>body_type</th>\n",
       "      <th>brand</th>\n",
       "      <th>color</th>\n",
       "      <th>complectation_dict</th>\n",
       "      <th>description</th>\n",
       "      <th>engine_displacement</th>\n",
       "      <th>engine_power</th>\n",
       "      <th>equipment_dict</th>\n",
       "      <th>fuel_type</th>\n",
       "      <th>image</th>\n",
       "      <th>mileage</th>\n",
       "      <th>model_date</th>\n",
       "      <th>model_info</th>\n",
       "      <th>model_name</th>\n",
       "      <th>name</th>\n",
       "      <th>doors_count</th>\n",
       "      <th>price_currency</th>\n",
       "      <th>production_date</th>\n",
       "      <th>sell_id</th>\n",
       "      <th>super_gen</th>\n",
       "      <th>vehicle_configuration</th>\n",
       "      <th>vehicle_transmission</th>\n",
       "      <th>vendor</th>\n",
       "      <th>owner_count</th>\n",
       "      <th>owning_period</th>\n",
       "      <th>car_passport</th>\n",
       "      <th>wheel_drive</th>\n",
       "      <th>wheel_location</th>\n",
       "      <th>condition</th>\n",
       "      <th>custom</th>\n",
       "      <th>price</th>\n",
       "      <th>sample</th>\n",
       "    </tr>\n",
       "  </thead>\n",
       "  <tbody>\n",
       "    <tr>\n",
       "      <th>79309</th>\n",
       "      <td>седан</td>\n",
       "      <td>MERCEDES</td>\n",
       "      <td>коричневый</td>\n",
       "      <td>{'id': '20884178', 'name': 'C 200 4MATIC Sport...</td>\n",
       "      <td>💸Выгода до 100 000 рублей при покупке в кредит...</td>\n",
       "      <td>2.0</td>\n",
       "      <td>184.0</td>\n",
       "      <td>{'esp': True, 'usb': True, 'sport-seats': True...</td>\n",
       "      <td>бензин</td>\n",
       "      <td>//avatars.mds.yandex.net/get-autoru-vos/433371...</td>\n",
       "      <td>65020</td>\n",
       "      <td>2014</td>\n",
       "      <td>{'code': 'C_KLASSE', 'name': 'C-Класс', 'ru_na...</td>\n",
       "      <td>C_KLASSE</td>\n",
       "      <td>200 2.0 AT (184 л.с.) 4WD</td>\n",
       "      <td>4</td>\n",
       "      <td>RUB</td>\n",
       "      <td>2015</td>\n",
       "      <td>1103399499</td>\n",
       "      <td>{'id': '20541497', 'name': '200', 'nameplate':...</td>\n",
       "      <td>useless_col</td>\n",
       "      <td>AUTOMATIC</td>\n",
       "      <td>EUROPEAN</td>\n",
       "      <td>1</td>\n",
       "      <td>NaN</td>\n",
       "      <td>ORIGINAL</td>\n",
       "      <td>полный</td>\n",
       "      <td>LEFT</td>\n",
       "      <td>True</td>\n",
       "      <td>True</td>\n",
       "      <td>1857000.0</td>\n",
       "      <td>1</td>\n",
       "    </tr>\n",
       "    <tr>\n",
       "      <th>19872</th>\n",
       "      <td>минивэн</td>\n",
       "      <td>TOYOTA</td>\n",
       "      <td>серебристый</td>\n",
       "      <td>NaN</td>\n",
       "      <td>Машина в хорошем состоянии. Категория\"В\". Оста...</td>\n",
       "      <td>2.0</td>\n",
       "      <td>110.0</td>\n",
       "      <td>NaN</td>\n",
       "      <td>бензин</td>\n",
       "      <td>https://autoru.naydex.net/LxPU17803/f5b8d77S/u...</td>\n",
       "      <td>300000</td>\n",
       "      <td>1989</td>\n",
       "      <td>{\"code\":\"HIACE\",\"name\":\"HiAce\",\"ru_name\":\"Хайс...</td>\n",
       "      <td>HIACE</td>\n",
       "      <td>2.0 MT (110 л.с.)</td>\n",
       "      <td>4</td>\n",
       "      <td>RUB</td>\n",
       "      <td>1998</td>\n",
       "      <td>1093833760</td>\n",
       "      <td>{\"id\":\"20500100\",\"displacement\":1995,\"engine_t...</td>\n",
       "      <td>MINIVAN MECHANICAL 2.0</td>\n",
       "      <td>MECHANICAL</td>\n",
       "      <td>JAPANESE</td>\n",
       "      <td>3</td>\n",
       "      <td>NaN</td>\n",
       "      <td>ORIGINAL</td>\n",
       "      <td>задний</td>\n",
       "      <td>LEFT</td>\n",
       "      <td>Не требует ремонта</td>\n",
       "      <td>Растаможен</td>\n",
       "      <td>NaN</td>\n",
       "      <td>0</td>\n",
       "    </tr>\n",
       "  </tbody>\n",
       "</table>\n",
       "</div>"
      ],
      "text/plain": [
       "      body_type     brand        color  \\\n",
       "79309     седан  MERCEDES   коричневый   \n",
       "19872   минивэн    TOYOTA  серебристый   \n",
       "\n",
       "                                      complectation_dict  \\\n",
       "79309  {'id': '20884178', 'name': 'C 200 4MATIC Sport...   \n",
       "19872                                                NaN   \n",
       "\n",
       "                                             description  engine_displacement  \\\n",
       "79309  💸Выгода до 100 000 рублей при покупке в кредит...                  2.0   \n",
       "19872  Машина в хорошем состоянии. Категория\"В\". Оста...                  2.0   \n",
       "\n",
       "       engine_power                                     equipment_dict  \\\n",
       "79309         184.0  {'esp': True, 'usb': True, 'sport-seats': True...   \n",
       "19872         110.0                                                NaN   \n",
       "\n",
       "      fuel_type                                              image  mileage  \\\n",
       "79309    бензин  //avatars.mds.yandex.net/get-autoru-vos/433371...    65020   \n",
       "19872    бензин  https://autoru.naydex.net/LxPU17803/f5b8d77S/u...   300000   \n",
       "\n",
       "       model_date                                         model_info  \\\n",
       "79309        2014  {'code': 'C_KLASSE', 'name': 'C-Класс', 'ru_na...   \n",
       "19872        1989  {\"code\":\"HIACE\",\"name\":\"HiAce\",\"ru_name\":\"Хайс...   \n",
       "\n",
       "      model_name                       name  doors_count price_currency  \\\n",
       "79309   C_KLASSE  200 2.0 AT (184 л.с.) 4WD            4            RUB   \n",
       "19872      HIACE          2.0 MT (110 л.с.)            4            RUB   \n",
       "\n",
       "       production_date     sell_id  \\\n",
       "79309             2015  1103399499   \n",
       "19872             1998  1093833760   \n",
       "\n",
       "                                               super_gen  \\\n",
       "79309  {'id': '20541497', 'name': '200', 'nameplate':...   \n",
       "19872  {\"id\":\"20500100\",\"displacement\":1995,\"engine_t...   \n",
       "\n",
       "        vehicle_configuration vehicle_transmission    vendor owner_count  \\\n",
       "79309             useless_col            AUTOMATIC  EUROPEAN           1   \n",
       "19872  MINIVAN MECHANICAL 2.0           MECHANICAL  JAPANESE           3   \n",
       "\n",
       "      owning_period car_passport wheel_drive wheel_location  \\\n",
       "79309           NaN     ORIGINAL      полный           LEFT   \n",
       "19872           NaN     ORIGINAL      задний           LEFT   \n",
       "\n",
       "                condition      custom      price  sample  \n",
       "79309                True        True  1857000.0       1  \n",
       "19872  Не требует ремонта  Растаможен        NaN       0  "
      ]
     },
     "execution_count": 13,
     "metadata": {},
     "output_type": "execute_result"
    }
   ],
   "source": [
    "# import data pre-processed data set\n",
    "df = df_combined.copy()\n",
    "df.sample(2)"
   ]
  },
  {
   "cell_type": "markdown",
   "metadata": {},
   "source": [
    "<a id=\"sec6\"></a>\n",
    "# [9.FETAURE ENGINEERING](#sec6)\n",
    "[(INDEX)](#sec2)"
   ]
  },
  {
   "cell_type": "markdown",
   "metadata": {},
   "source": [
    "Get lowercase for all unpreceed columns"
   ]
  },
  {
   "cell_type": "code",
   "execution_count": 14,
   "metadata": {},
   "outputs": [],
   "source": [
    "# take cols with objects\n",
    "object_columns = df.dtypes[df.dtypes.values == object].index.to_list()\n",
    "\n",
    "for col in object_columns:\n",
    "    df[col] = df[col].apply(lambda string: get_low_registr(string))"
   ]
  },
  {
   "cell_type": "markdown",
   "metadata": {},
   "source": [
    "<a id=\"sec6\"></a>\n",
    "## [Target](#sec6)\n",
    "[(INDEX)](#sec2)"
   ]
  },
  {
   "cell_type": "markdown",
   "metadata": {},
   "source": [
    "As our dataset includes combined train & test stes, and test set contains \n",
    "\n",
    "Nan values in price column, let's extract only train part for a minute and process it "
   ]
  },
  {
   "cell_type": "code",
   "execution_count": 15,
   "metadata": {},
   "outputs": [],
   "source": [
    "# Defining features and target\n",
    "X_train = df[df['sample'] == 1]\n",
    "\n",
    "X_test = df[df['sample'] == 0]"
   ]
  },
  {
   "cell_type": "code",
   "execution_count": null,
   "metadata": {},
   "outputs": [],
   "source": [
    "# idx_to_drop = list(X_train[X_train['price'] >= 30000000].index)\n",
    "# X_train=X_train.drop(idx_to_drop)"
   ]
  },
  {
   "cell_type": "markdown",
   "metadata": {},
   "source": [
    "Dropping outliers has bad impact on MAPE. Comment above cell"
   ]
  },
  {
   "cell_type": "markdown",
   "metadata": {},
   "source": [
    "Scraped data has missing values in price column. Drop these rows:"
   ]
  },
  {
   "cell_type": "code",
   "execution_count": 17,
   "metadata": {},
   "outputs": [
    {
     "data": {
      "text/plain": [
       "624"
      ]
     },
     "execution_count": 17,
     "metadata": {},
     "output_type": "execute_result"
    }
   ],
   "source": [
    "X_train['price'].isna().sum()"
   ]
  },
  {
   "cell_type": "code",
   "execution_count": 18,
   "metadata": {},
   "outputs": [],
   "source": [
    "indexes_to_drop = X_train[(df['price'].isna())].index\n",
    "X_train = X_train.drop(indexes_to_drop)"
   ]
  },
  {
   "cell_type": "markdown",
   "metadata": {},
   "source": [
    "With a reference to EDA, we remember that target is not normally distributed.\n",
    "\n",
    "Let's apply logarithm to it and see what will happen"
   ]
  },
  {
   "cell_type": "code",
   "execution_count": 19,
   "metadata": {},
   "outputs": [],
   "source": [
    "X_train['price']= np.log(X_train['price'])"
   ]
  },
  {
   "cell_type": "code",
   "execution_count": 20,
   "metadata": {},
   "outputs": [
    {
     "data": {
      "image/png": "[encoded data removed]",
      "text/plain": [
       "<Figure size 1080x360 with 2 Axes>"
      ]
     },
     "metadata": {},
     "output_type": "display_data"
    }
   ],
   "source": [
    "plt.figure(figsize=(15, 5))\n",
    "plt.subplot(121)\n",
    "sns.distplot(X_train.price.values, bins=50, color=colors[4])\n",
    "plt.title('Price Distribution\\n', fontsize=15)\n",
    "plt.xlabel('Price')\n",
    "plt.ylabel('Quantity (frequency)')\n",
    "\n",
    "plt.subplot(122)\n",
    "sns.boxplot(X_train.price.values, color=colors[1])\n",
    "plt.title('Box Plot for Price\\n', fontsize=15)\n",
    "plt.xlabel('Price')"
   ]
  },
  {
   "cell_type": "markdown",
   "metadata": {},
   "source": [
    "Looks better.\n",
    "Let's again combine datasets for further engineering"
   ]
  },
  {
   "cell_type": "code",
   "execution_count": 21,
   "metadata": {},
   "outputs": [],
   "source": [
    "# combine sets\n",
    "df = X_train.append(X_test, sort=False).reset_index(drop=True)"
   ]
  },
  {
   "cell_type": "markdown",
   "metadata": {},
   "source": [
    "<a id=\"sec6\"></a>\n",
    "## [body_type & Model_name](#sec6)\n",
    "[(INDEX)](#sec2)"
   ]
  },
  {
   "cell_type": "markdown",
   "metadata": {},
   "source": [
    "As we have quite a lot of brands in data set, and especially lot's of models,\n",
    "\n",
    "let's generate new feature for each of mentioned model and brand by taking mean price of each model/brand"
   ]
  },
  {
   "cell_type": "code",
   "execution_count": 22,
   "metadata": {},
   "outputs": [],
   "source": [
    "cols_to_process = ['model_name', 'brand', 'body_type']\n",
    "for col in cols_to_process:\n",
    "    col_mean_dict = df.groupby([col])['price'].mean().to_dict()\n",
    "    df[f'priced_{col}'] = df[col].apply(lambda x: col_mean_dict[x])"
   ]
  },
  {
   "cell_type": "markdown",
   "metadata": {},
   "source": [
    "We remember (EDA) that models number mismatch in train and test set.\n",
    "\n",
    "So our new feature definately will have missing vars. Let's fix it by filling it with median"
   ]
  },
  {
   "cell_type": "code",
   "execution_count": 23,
   "metadata": {},
   "outputs": [
    {
     "data": {
      "text/plain": [
       "17"
      ]
     },
     "execution_count": 23,
     "metadata": {},
     "output_type": "execute_result"
    }
   ],
   "source": [
    "df['priced_model_name'].isna().sum()"
   ]
  },
  {
   "cell_type": "code",
   "execution_count": 24,
   "metadata": {},
   "outputs": [],
   "source": [
    "df['priced_model_name'] = df['priced_model_name'].fillna(df['priced_model_name'].median())"
   ]
  },
  {
   "cell_type": "markdown",
   "metadata": {},
   "source": [
    "Reduce quantity of body_types"
   ]
  },
  {
   "cell_type": "code",
   "execution_count": 25,
   "metadata": {},
   "outputs": [],
   "source": [
    "pattern = re.compile('[а-я]*')\n",
    "new_column = []\n",
    "for string in df['body_type']:\n",
    "    new_column.append(pattern.match(str(string))[0])\n",
    "df['body_type'] = new_column"
   ]
  },
  {
   "cell_type": "code",
   "execution_count": 26,
   "metadata": {},
   "outputs": [],
   "source": [
    "# Create list with top body types\n",
    "top_colors = df['body_type'].value_counts()[df['body_type'].value_counts(\n",
    ") > np.percentile((df['body_type'].value_counts().values), 70)].index.tolist()\n",
    "\n",
    "#take all bodies from df to a list\n",
    "all_colors = df['body_type'].value_counts().index\n",
    "\n",
    "# Identify, what to delete\n",
    "colors_to_drop = set(all_colors) - set(top_colors)\n",
    "\n",
    "# Make replacemewnt\n",
    "df.loc[df['body_type'].isin(colors_to_drop), 'body_type'] = 'other'"
   ]
  },
  {
   "cell_type": "code",
   "execution_count": 27,
   "metadata": {
    "scrolled": true
   },
   "outputs": [
    {
     "data": {
      "text/plain": [
       "седан          66649\n",
       "внедорожник    63984\n",
       "хэтчбек        16791\n",
       "other          14990\n",
       "лифтбек         9291\n",
       "универсал       7030\n",
       "Name: body_type, dtype: int64"
      ]
     },
     "execution_count": 27,
     "metadata": {},
     "output_type": "execute_result"
    }
   ],
   "source": [
    "df['body_type'].value_counts()"
   ]
  },
  {
   "cell_type": "markdown",
   "metadata": {},
   "source": [
    "Translate it to english. (for some reason, LightGBM doesn't work with russian column names)"
   ]
  },
  {
   "cell_type": "code",
   "execution_count": 28,
   "metadata": {},
   "outputs": [],
   "source": [
    "body_type_dict = dict({\n",
    "    'седан':'sedan',\n",
    "    'внедорожник':'4wd',\n",
    "    'хэтчбек':'hachtback',\n",
    "    'other':'other',\n",
    "    'лифтбек':'liftback',\n",
    "    'универсал':'universal'\n",
    "})\n",
    "df['body_type'] = df['body_type'].map(body_type_dict)"
   ]
  },
  {
   "cell_type": "code",
   "execution_count": 29,
   "metadata": {},
   "outputs": [
    {
     "data": {
      "text/plain": [
       "array(['sedan', 'universal', 'other', '4wd', 'hachtback', 'liftback'],\n",
       "      dtype=object)"
      ]
     },
     "execution_count": 29,
     "metadata": {},
     "output_type": "execute_result"
    }
   ],
   "source": [
    "df.body_type.unique()"
   ]
  },
  {
   "cell_type": "markdown",
   "metadata": {},
   "source": [
    "Fine, we reduced number of body_types and translated it in to English"
   ]
  },
  {
   "cell_type": "markdown",
   "metadata": {},
   "source": [
    "<a id=\"sec6\"></a>\n",
    "## [color](#sec6)\n",
    "[(INDEX)](#sec2)"
   ]
  },
  {
   "cell_type": "markdown",
   "metadata": {},
   "source": [
    "NOTE: After some experiments, it was decided to do not include this column in to a model. Bad impact on MAPE"
   ]
  },
  {
   "cell_type": "markdown",
   "metadata": {},
   "source": [
    "With a reference to EDA section we generate new feature to show whether the color is popular.\n",
    "\n",
    "Meanwhile we re-orgasnize colors in original column by taking only most common colors"
   ]
  },
  {
   "cell_type": "code",
   "execution_count": null,
   "metadata": {},
   "outputs": [],
   "source": [
    "# # List of top3 colors (see EDA)\n",
    "# # Has no impact\n",
    "# popular_color = ['чёрный', 'белый', 'серый']\n",
    "# df['popular_color'] = df['color'].apply(\n",
    "#     lambda color: 1 if color in popular_color else 0)"
   ]
  },
  {
   "cell_type": "code",
   "execution_count": null,
   "metadata": {},
   "outputs": [],
   "source": [
    "# # Create list with top colors\n",
    "# # Has no impact\n",
    "# top_colors = df['color'].value_counts()[df['color'].value_counts(\n",
    "# ) > np.percentile((df['color'].value_counts().values), 80)].index.tolist()\n",
    "\n",
    "# #take all colors from df to a list\n",
    "# all_colors = df['color'].value_counts().index\n",
    "\n",
    "# # Identify, what to delete\n",
    "# colors_to_drop = set(all_colors) - set(top_colors)\n",
    "\n",
    "# # Make replacemewnt\n",
    "# df.loc[df['color'].isin(colors_to_drop), 'color'] = 'other'"
   ]
  },
  {
   "cell_type": "code",
   "execution_count": null,
   "metadata": {},
   "outputs": [],
   "source": [
    "# df['color'].unique()"
   ]
  },
  {
   "cell_type": "code",
   "execution_count": null,
   "metadata": {},
   "outputs": [],
   "source": [
    "# color_dict = dict({\n",
    "#     #'синий':'blue',\n",
    "#     'чёрный':'black',\n",
    "#     'серый':'gray',\n",
    "#     'other':'other',\n",
    "#     'белый':'white',\n",
    "#     #'серебристый':'silver'\n",
    "# })\n",
    "# df['color'] = df['color'].map(color_dict)"
   ]
  },
  {
   "cell_type": "markdown",
   "metadata": {},
   "source": [
    "<a id=\"sec6\"></a>\n",
    "## [Model_name](#sec6)\n",
    "[(INDEX)](#sec2)"
   ]
  },
  {
   "cell_type": "markdown",
   "metadata": {},
   "source": [
    "NOTE: Already proceed above"
   ]
  },
  {
   "cell_type": "markdown",
   "metadata": {},
   "source": [
    "<a id=\"sec6\"></a>\n",
    "## [Description](#sec6)\n",
    "[(INDEX)](#sec2)"
   ]
  },
  {
   "cell_type": "markdown",
   "metadata": {},
   "source": [
    "Let's generate new features:\n",
    "- Sensitivity and polarity of each description in a column;\n",
    "- Extract keywords from description"
   ]
  },
  {
   "cell_type": "code",
   "execution_count": 30,
   "metadata": {},
   "outputs": [],
   "source": [
    "df['description'] = df['description'].fillna('none')\n",
    "df['description'] = df['description'].apply(cleanTxt)\n",
    "df['description'] = df['description'].apply(lambda x : x.lower())"
   ]
  },
  {
   "cell_type": "code",
   "execution_count": 31,
   "metadata": {},
   "outputs": [],
   "source": [
    "# Create a function to get the subjectivity\n",
    "def get_subjectivity(text):\n",
    "    return TextBlob(text).sentiment.subjectivity\n",
    "\n",
    "\n",
    "# Create a function to get the polarity\n",
    "def get_polarity(text):\n",
    "    return TextBlob(text).sentiment.polarity"
   ]
  },
  {
   "cell_type": "code",
   "execution_count": 32,
   "metadata": {},
   "outputs": [],
   "source": [
    "# Create new cols and call the func\n",
    "\n",
    "df['subjectivity'] = df['description'].apply(get_subjectivity)\n",
    "\n",
    "df['polarity'] = df['description'].apply(get_polarity)"
   ]
  },
  {
   "cell_type": "code",
   "execution_count": 33,
   "metadata": {},
   "outputs": [
    {
     "name": "stdout",
     "output_type": "stream",
     "text": [
      "Couldn't find program: 'false'\n"
     ]
    }
   ],
   "source": [
    "%%script false\n",
    "# Note: useless insight. Do not include in the final set\n",
    "# Create a function to compute the negative, neutral and positive analysis\n",
    "def get_analysis(score):\n",
    "    if score < 0:\n",
    "        return 'negative'\n",
    "    elif score == 0:\n",
    "        return 'neutral'\n",
    "    else:\n",
    "        return 'positive'"
   ]
  },
  {
   "cell_type": "code",
   "execution_count": 34,
   "metadata": {},
   "outputs": [
    {
     "name": "stdout",
     "output_type": "stream",
     "text": [
      "Couldn't find program: 'false'\n"
     ]
    }
   ],
   "source": [
    "%%script false\n",
    "# Has no impact\n",
    "df['analysis'] = df['polarity'].apply(get_analysis)"
   ]
  },
  {
   "cell_type": "markdown",
   "metadata": {},
   "source": [
    "With a reference to EDA (Sentiment section), let's check plot of worldcloud and generate new features. \n",
    "\n",
    "If description has specified keyword, the we add 1 to new column"
   ]
  },
  {
   "cell_type": "code",
   "execution_count": 35,
   "metadata": {},
   "outputs": [],
   "source": [
    "df['airbags'] = df['description'].apply(\n",
    "    lambda x: 1 if 'подушки безопасности' in x else 0)\n",
    "df['cruise'] = df['description'].apply(\n",
    "    lambda x: 1 if 'круиз' in x else 0)\n",
    "df['steering'] = df['description'].apply(\n",
    "    lambda x: 1 if 'усилитель руля' in x else 0)\n",
    "df['loan'] = df['description'].apply(\n",
    "    lambda x: 1 if 'кредит' in x else 0)\n",
    "df['anti_block'] = df['description'].apply(\n",
    "    lambda x: 1 if 'антиблокировочная' in x else 0)\n",
    "df['lock'] = df['description'].apply(\n",
    "    lambda x: 1 if 'центральный замок' in x else 0)\n",
    "df['climat'] = df['description'].apply(\n",
    "    lambda x: 1 if 'климат контроль' in x else 0)\n",
    "df['rain_sens'] = df['description'].apply(\n",
    "    lambda x: 1 if 'датчик дождя' in x else 0)"
   ]
  },
  {
   "cell_type": "code",
   "execution_count": 36,
   "metadata": {},
   "outputs": [
    {
     "data": {
      "text/html": [
       "<div>\n",
       "<style scoped>\n",
       "    .dataframe tbody tr th:only-of-type {\n",
       "        vertical-align: middle;\n",
       "    }\n",
       "\n",
       "    .dataframe tbody tr th {\n",
       "        vertical-align: top;\n",
       "    }\n",
       "\n",
       "    .dataframe thead th {\n",
       "        text-align: right;\n",
       "    }\n",
       "</style>\n",
       "<table border=\"1\" class=\"dataframe\">\n",
       "  <thead>\n",
       "    <tr style=\"text-align: right;\">\n",
       "      <th></th>\n",
       "      <th>body_type</th>\n",
       "      <th>brand</th>\n",
       "      <th>color</th>\n",
       "      <th>complectation_dict</th>\n",
       "      <th>description</th>\n",
       "      <th>engine_displacement</th>\n",
       "      <th>engine_power</th>\n",
       "      <th>equipment_dict</th>\n",
       "      <th>fuel_type</th>\n",
       "      <th>image</th>\n",
       "      <th>mileage</th>\n",
       "      <th>model_date</th>\n",
       "      <th>model_info</th>\n",
       "      <th>model_name</th>\n",
       "      <th>name</th>\n",
       "      <th>doors_count</th>\n",
       "      <th>price_currency</th>\n",
       "      <th>production_date</th>\n",
       "      <th>sell_id</th>\n",
       "      <th>super_gen</th>\n",
       "      <th>vehicle_configuration</th>\n",
       "      <th>vehicle_transmission</th>\n",
       "      <th>vendor</th>\n",
       "      <th>owner_count</th>\n",
       "      <th>owning_period</th>\n",
       "      <th>car_passport</th>\n",
       "      <th>wheel_drive</th>\n",
       "      <th>wheel_location</th>\n",
       "      <th>condition</th>\n",
       "      <th>custom</th>\n",
       "      <th>price</th>\n",
       "      <th>sample</th>\n",
       "      <th>priced_model_name</th>\n",
       "      <th>priced_brand</th>\n",
       "      <th>priced_body_type</th>\n",
       "      <th>subjectivity</th>\n",
       "      <th>polarity</th>\n",
       "      <th>airbags</th>\n",
       "      <th>cruise</th>\n",
       "      <th>steering</th>\n",
       "      <th>loan</th>\n",
       "      <th>anti_block</th>\n",
       "      <th>lock</th>\n",
       "      <th>climat</th>\n",
       "      <th>rain_sens</th>\n",
       "    </tr>\n",
       "  </thead>\n",
       "  <tbody>\n",
       "    <tr>\n",
       "      <th>158420</th>\n",
       "      <td>4wd</td>\n",
       "      <td>nissan</td>\n",
       "      <td>серый</td>\n",
       "      <td>None</td>\n",
       "      <td>отличный авто. причина продажи- покупка нового</td>\n",
       "      <td>2.0</td>\n",
       "      <td>141.0</td>\n",
       "      <td>None</td>\n",
       "      <td>бензин</td>\n",
       "      <td>https://autoru.naydex.net/lxpu17803/f5b8d77s/u...</td>\n",
       "      <td>114000</td>\n",
       "      <td>2010</td>\n",
       "      <td>{\"code\":\"qashqai\",\"name\":\"qashqai\",\"ru_name\":\"...</td>\n",
       "      <td>qashqai</td>\n",
       "      <td>2.0 cvt (141 л.с.) 4wd</td>\n",
       "      <td>5</td>\n",
       "      <td>rub</td>\n",
       "      <td>2010</td>\n",
       "      <td>1101262928</td>\n",
       "      <td>{\"id\":\"6129638\",\"displacement\":1997,\"engine_ty...</td>\n",
       "      <td>allroad_5_doors variator 2.0</td>\n",
       "      <td>variator</td>\n",
       "      <td>japanese</td>\n",
       "      <td>3</td>\n",
       "      <td>None</td>\n",
       "      <td>original</td>\n",
       "      <td>полный</td>\n",
       "      <td>left</td>\n",
       "      <td>не требует ремонта</td>\n",
       "      <td>растаможен</td>\n",
       "      <td>NaN</td>\n",
       "      <td>0</td>\n",
       "      <td>14.037933</td>\n",
       "      <td>13.098955</td>\n",
       "      <td>14.356460</td>\n",
       "      <td>0.000000</td>\n",
       "      <td>0.00000</td>\n",
       "      <td>0</td>\n",
       "      <td>0</td>\n",
       "      <td>0</td>\n",
       "      <td>0</td>\n",
       "      <td>0</td>\n",
       "      <td>0</td>\n",
       "      <td>0</td>\n",
       "      <td>0</td>\n",
       "    </tr>\n",
       "    <tr>\n",
       "      <th>52011</th>\n",
       "      <td>sedan</td>\n",
       "      <td>toyota</td>\n",
       "      <td>белый</td>\n",
       "      <td>{'id': '0'}</td>\n",
       "      <td>автомобиль был куплен в январе этого года, тех...</td>\n",
       "      <td>2.0</td>\n",
       "      <td>135.0</td>\n",
       "      <td>{'alloy-wheel-disks': true, 'tinted-glass': tr...</td>\n",
       "      <td>бензин</td>\n",
       "      <td>//avatars.mds.yandex.net/get-autoru-vos/473688...</td>\n",
       "      <td>337000</td>\n",
       "      <td>1992</td>\n",
       "      <td>{'code': 'mark_ii', 'name': 'mark ii', 'ru_nam...</td>\n",
       "      <td>mark_ii</td>\n",
       "      <td>2.0 at (135 л.с.)</td>\n",
       "      <td>4</td>\n",
       "      <td>rub</td>\n",
       "      <td>1993</td>\n",
       "      <td>1103245871</td>\n",
       "      <td>{'id': '8304669', 'displacement': 1988, 'engin...</td>\n",
       "      <td>useless_col</td>\n",
       "      <td>automatic</td>\n",
       "      <td>japanese</td>\n",
       "      <td>3</td>\n",
       "      <td>{'year': 2021, 'month': 1}</td>\n",
       "      <td>original</td>\n",
       "      <td>задний</td>\n",
       "      <td>right</td>\n",
       "      <td>None</td>\n",
       "      <td>None</td>\n",
       "      <td>13.017003</td>\n",
       "      <td>1</td>\n",
       "      <td>12.653909</td>\n",
       "      <td>13.470231</td>\n",
       "      <td>13.098326</td>\n",
       "      <td>0.000000</td>\n",
       "      <td>0.00000</td>\n",
       "      <td>0</td>\n",
       "      <td>0</td>\n",
       "      <td>0</td>\n",
       "      <td>0</td>\n",
       "      <td>0</td>\n",
       "      <td>0</td>\n",
       "      <td>0</td>\n",
       "      <td>0</td>\n",
       "    </tr>\n",
       "    <tr>\n",
       "      <th>1090</th>\n",
       "      <td>sedan</td>\n",
       "      <td>bmw</td>\n",
       "      <td>чёрный</td>\n",
       "      <td>{'id': '0'}</td>\n",
       "      <td>мотор в хорошем состояние ходовая вхорошем сос...</td>\n",
       "      <td>2.0</td>\n",
       "      <td>150.0</td>\n",
       "      <td>{'cruise-control': true, 'tinted-glass': true,...</td>\n",
       "      <td>бензин</td>\n",
       "      <td>//avatars.mds.yandex.net/get-autoru-vos/207920...</td>\n",
       "      <td>320000</td>\n",
       "      <td>1995</td>\n",
       "      <td>{'code': '5er', 'name': '5 серии', 'ru_name': ...</td>\n",
       "      <td>5er</td>\n",
       "      <td>520i 2.0 mt (150 л.с.)</td>\n",
       "      <td>4</td>\n",
       "      <td>rub</td>\n",
       "      <td>1999</td>\n",
       "      <td>1101545010</td>\n",
       "      <td>{'id': '5139710', 'name': '520', 'nameplate': ...</td>\n",
       "      <td>useless_col</td>\n",
       "      <td>mechanical</td>\n",
       "      <td>european</td>\n",
       "      <td>2</td>\n",
       "      <td>None</td>\n",
       "      <td>duplicate</td>\n",
       "      <td>задний</td>\n",
       "      <td>left</td>\n",
       "      <td>None</td>\n",
       "      <td>None</td>\n",
       "      <td>12.506177</td>\n",
       "      <td>1</td>\n",
       "      <td>13.475687</td>\n",
       "      <td>14.254039</td>\n",
       "      <td>13.098326</td>\n",
       "      <td>0.000000</td>\n",
       "      <td>0.00000</td>\n",
       "      <td>0</td>\n",
       "      <td>0</td>\n",
       "      <td>0</td>\n",
       "      <td>0</td>\n",
       "      <td>0</td>\n",
       "      <td>0</td>\n",
       "      <td>0</td>\n",
       "      <td>0</td>\n",
       "    </tr>\n",
       "    <tr>\n",
       "      <th>88360</th>\n",
       "      <td>liftback</td>\n",
       "      <td>skoda</td>\n",
       "      <td>красный</td>\n",
       "      <td>{'id': '22128725', 'name': 'style', 'available...</td>\n",
       "      <td>———————————————————————————функциональное обор...</td>\n",
       "      <td>1.6</td>\n",
       "      <td>110.0</td>\n",
       "      <td>{'cruise-control': true, 'asr': true, 'tinted-...</td>\n",
       "      <td>бензин</td>\n",
       "      <td>//avatars.mds.yandex.net/get-autoru-vos/469755...</td>\n",
       "      <td>0</td>\n",
       "      <td>2020</td>\n",
       "      <td>{'code': 'rapid', 'name': 'rapid', 'ru_name': ...</td>\n",
       "      <td>rapid</td>\n",
       "      <td>1.6 at (110 л.с.)</td>\n",
       "      <td>5</td>\n",
       "      <td>rub</td>\n",
       "      <td>2021</td>\n",
       "      <td>1103633610</td>\n",
       "      <td>{'id': '21738489', 'displacement': 1598, 'engi...</td>\n",
       "      <td>useless_col</td>\n",
       "      <td>automatic</td>\n",
       "      <td>european</td>\n",
       "      <td>NaN</td>\n",
       "      <td>None</td>\n",
       "      <td>original</td>\n",
       "      <td>передний</td>\n",
       "      <td>left</td>\n",
       "      <td>None</td>\n",
       "      <td>None</td>\n",
       "      <td>14.187764</td>\n",
       "      <td>1</td>\n",
       "      <td>13.813064</td>\n",
       "      <td>13.558353</td>\n",
       "      <td>13.636565</td>\n",
       "      <td>0.445238</td>\n",
       "      <td>0.04619</td>\n",
       "      <td>1</td>\n",
       "      <td>1</td>\n",
       "      <td>1</td>\n",
       "      <td>0</td>\n",
       "      <td>1</td>\n",
       "      <td>1</td>\n",
       "      <td>0</td>\n",
       "      <td>1</td>\n",
       "    </tr>\n",
       "  </tbody>\n",
       "</table>\n",
       "</div>"
      ],
      "text/plain": [
       "       body_type   brand    color  \\\n",
       "158420       4wd  nissan    серый   \n",
       "52011      sedan  toyota    белый   \n",
       "1090       sedan     bmw   чёрный   \n",
       "88360   liftback   skoda  красный   \n",
       "\n",
       "                                       complectation_dict  \\\n",
       "158420                                               None   \n",
       "52011                                         {'id': '0'}   \n",
       "1090                                          {'id': '0'}   \n",
       "88360   {'id': '22128725', 'name': 'style', 'available...   \n",
       "\n",
       "                                              description  \\\n",
       "158420     отличный авто. причина продажи- покупка нового   \n",
       "52011   автомобиль был куплен в январе этого года, тех...   \n",
       "1090    мотор в хорошем состояние ходовая вхорошем сос...   \n",
       "88360   ———————————————————————————функциональное обор...   \n",
       "\n",
       "        engine_displacement  engine_power  \\\n",
       "158420                  2.0         141.0   \n",
       "52011                   2.0         135.0   \n",
       "1090                    2.0         150.0   \n",
       "88360                   1.6         110.0   \n",
       "\n",
       "                                           equipment_dict fuel_type  \\\n",
       "158420                                               None    бензин   \n",
       "52011   {'alloy-wheel-disks': true, 'tinted-glass': tr...    бензин   \n",
       "1090    {'cruise-control': true, 'tinted-glass': true,...    бензин   \n",
       "88360   {'cruise-control': true, 'asr': true, 'tinted-...    бензин   \n",
       "\n",
       "                                                    image  mileage  \\\n",
       "158420  https://autoru.naydex.net/lxpu17803/f5b8d77s/u...   114000   \n",
       "52011   //avatars.mds.yandex.net/get-autoru-vos/473688...   337000   \n",
       "1090    //avatars.mds.yandex.net/get-autoru-vos/207920...   320000   \n",
       "88360   //avatars.mds.yandex.net/get-autoru-vos/469755...        0   \n",
       "\n",
       "        model_date                                         model_info  \\\n",
       "158420        2010  {\"code\":\"qashqai\",\"name\":\"qashqai\",\"ru_name\":\"...   \n",
       "52011         1992  {'code': 'mark_ii', 'name': 'mark ii', 'ru_nam...   \n",
       "1090          1995  {'code': '5er', 'name': '5 серии', 'ru_name': ...   \n",
       "88360         2020  {'code': 'rapid', 'name': 'rapid', 'ru_name': ...   \n",
       "\n",
       "       model_name                    name  doors_count price_currency  \\\n",
       "158420    qashqai  2.0 cvt (141 л.с.) 4wd            5            rub   \n",
       "52011     mark_ii       2.0 at (135 л.с.)            4            rub   \n",
       "1090          5er  520i 2.0 mt (150 л.с.)            4            rub   \n",
       "88360       rapid       1.6 at (110 л.с.)            5            rub   \n",
       "\n",
       "        production_date     sell_id  \\\n",
       "158420             2010  1101262928   \n",
       "52011              1993  1103245871   \n",
       "1090               1999  1101545010   \n",
       "88360              2021  1103633610   \n",
       "\n",
       "                                                super_gen  \\\n",
       "158420  {\"id\":\"6129638\",\"displacement\":1997,\"engine_ty...   \n",
       "52011   {'id': '8304669', 'displacement': 1988, 'engin...   \n",
       "1090    {'id': '5139710', 'name': '520', 'nameplate': ...   \n",
       "88360   {'id': '21738489', 'displacement': 1598, 'engi...   \n",
       "\n",
       "               vehicle_configuration vehicle_transmission    vendor  \\\n",
       "158420  allroad_5_doors variator 2.0             variator  japanese   \n",
       "52011                    useless_col            automatic  japanese   \n",
       "1090                     useless_col           mechanical  european   \n",
       "88360                    useless_col            automatic  european   \n",
       "\n",
       "       owner_count               owning_period car_passport wheel_drive  \\\n",
       "158420           3                        None     original      полный   \n",
       "52011            3  {'year': 2021, 'month': 1}     original      задний   \n",
       "1090             2                        None    duplicate      задний   \n",
       "88360          NaN                        None     original    передний   \n",
       "\n",
       "       wheel_location           condition      custom      price  sample  \\\n",
       "158420           left  не требует ремонта  растаможен        NaN       0   \n",
       "52011           right                None        None  13.017003       1   \n",
       "1090             left                None        None  12.506177       1   \n",
       "88360            left                None        None  14.187764       1   \n",
       "\n",
       "        priced_model_name  priced_brand  priced_body_type  subjectivity  \\\n",
       "158420          14.037933     13.098955         14.356460      0.000000   \n",
       "52011           12.653909     13.470231         13.098326      0.000000   \n",
       "1090            13.475687     14.254039         13.098326      0.000000   \n",
       "88360           13.813064     13.558353         13.636565      0.445238   \n",
       "\n",
       "        polarity  airbags  cruise  steering  loan  anti_block  lock  climat  \\\n",
       "158420   0.00000        0       0         0     0           0     0       0   \n",
       "52011    0.00000        0       0         0     0           0     0       0   \n",
       "1090     0.00000        0       0         0     0           0     0       0   \n",
       "88360    0.04619        1       1         1     0           1     1       0   \n",
       "\n",
       "        rain_sens  \n",
       "158420          0  \n",
       "52011           0  \n",
       "1090            0  \n",
       "88360           1  "
      ]
     },
     "execution_count": 36,
     "metadata": {},
     "output_type": "execute_result"
    }
   ],
   "source": [
    "# show data\n",
    "df.sample(4)"
   ]
  },
  {
   "cell_type": "markdown",
   "metadata": {},
   "source": [
    "<a id=\"sec6\"></a>\n",
    "## [Equipment_dict](#sec6)\n",
    "[(INDEX)](#sec2)"
   ]
  },
  {
   "cell_type": "markdown",
   "metadata": {},
   "source": [
    "Let's exctrat the number of equipments listed in the subjected column"
   ]
  },
  {
   "cell_type": "code",
   "execution_count": 37,
   "metadata": {},
   "outputs": [
    {
     "data": {
      "text/plain": [
       "9996"
      ]
     },
     "execution_count": 37,
     "metadata": {},
     "output_type": "execute_result"
    }
   ],
   "source": [
    "df['equipment_dict'].isna().sum()"
   ]
  },
  {
   "cell_type": "markdown",
   "metadata": {},
   "source": [
    "First of all, fill up missing values in the column"
   ]
  },
  {
   "cell_type": "code",
   "execution_count": 38,
   "metadata": {},
   "outputs": [],
   "source": [
    "def fill_empty_equipment(model, dict_):\n",
    "    if dict_=={}:\n",
    "        return tipical_equipment_dict[model]\n",
    "    return dict_"
   ]
  },
  {
   "cell_type": "code",
   "execution_count": 39,
   "metadata": {},
   "outputs": [],
   "source": [
    "def fill_na_equip_lenght(model_name,value):\n",
    "    if value==0:\n",
    "        return int(mean_equip_lenhgt_dict[model_name])\n",
    "    return value"
   ]
  },
  {
   "cell_type": "code",
   "execution_count": 40,
   "metadata": {},
   "outputs": [],
   "source": [
    "df['equipment_dict'] = df['equipment_dict'].str.replace('\\\"', '\\'').str.replace(\n",
    "    ' ', '').str.replace(':t', ':T')  #  General view\n",
    "df['equipment_dict'] = df['equipment_dict'].apply(lambda string: {} if pd.isna(\n",
    "    string) else ast.literal_eval(string))  # transform string to dicts"
   ]
  },
  {
   "cell_type": "code",
   "execution_count": 41,
   "metadata": {},
   "outputs": [],
   "source": [
    "# The idea is to create a dictionary: the most complete set of\n",
    "# cars, then fill in the gaps with this dictionary\n",
    "model_names = df['model_name'].unique()\n",
    "tipical_equipment_dict = dict.fromkeys(model_names)\n",
    "for model in model_names[:]:\n",
    "    max_len = 0\n",
    "    for dict_ in df[df['model_name'] ==\n",
    "                    model]['equipment_dict'].value_counts().index:\n",
    "        tipical_equipment_dict.update({model: dict_})\n",
    "        if len(dict_) > max_len:\n",
    "            tipical_equipment_dict.update({model: dict_})"
   ]
  },
  {
   "cell_type": "code",
   "execution_count": 42,
   "metadata": {},
   "outputs": [],
   "source": [
    "df['equipment_dict'] = df[['model_name', 'equipment_dict']].apply(\n",
    "    lambda x: fill_empty_equipment(*x), axis=1)"
   ]
  },
  {
   "cell_type": "code",
   "execution_count": 43,
   "metadata": {},
   "outputs": [],
   "source": [
    "df['equipment_length'] = df['equipment_dict'].apply(lambda dict_: len(dict_))\n",
    "\n",
    "mean_equip_lenhgt_dict = df.groupby('model_name')['equipment_length'].mean(\n",
    ").round().to_dict()  # Словарь с среднимим значениями длин словарей экипировки\n",
    "\n",
    "df['equipment_length'] = df[['model_name', 'equipment_length'\n",
    "                             ]].apply(lambda x: fill_na_equip_lenght(*x),\n",
    "                                      axis=1)  # filling"
   ]
  },
  {
   "cell_type": "code",
   "execution_count": 44,
   "metadata": {},
   "outputs": [
    {
     "data": {
      "text/plain": [
       "0"
      ]
     },
     "execution_count": 44,
     "metadata": {},
     "output_type": "execute_result"
    }
   ],
   "source": [
    "# Check if dictionaries contain False \n",
    "count_false=0\n",
    "for dict_ in df['equipment_dict']:\n",
    "    for i in dict_:\n",
    "        if dict_[i]==False:\n",
    "            count_false+=1\n",
    "count_false"
   ]
  },
  {
   "cell_type": "markdown",
   "metadata": {},
   "source": [
    "The length of the equipment_dict characterizes the number of functions in the auto "
   ]
  },
  {
   "cell_type": "code",
   "execution_count": null,
   "metadata": {},
   "outputs": [],
   "source": [
    "# df[df['equipment_dict']=={}]['model_name'].unique()"
   ]
  },
  {
   "cell_type": "code",
   "execution_count": null,
   "metadata": {},
   "outputs": [],
   "source": [
    "# # Создадим множество всех атрибутов в авто\n",
    "# attributes = set()\n",
    "# for dict_ in df['equipment_dict']:    \n",
    "#     attributes.update(dict_.keys())"
   ]
  },
  {
   "cell_type": "code",
   "execution_count": null,
   "metadata": {},
   "outputs": [],
   "source": [
    "# dv = DictVectorizer()\n",
    "# equipment_features = dv.fit_transform(\n",
    "#     df.query('sample==1')['equipment_dict']).toarray()\n",
    "# equipment_df = pd.DataFrame(equipment_features, columns=dv.get_feature_names())\n",
    "# equipment_attributes = equipment_df.columns.values"
   ]
  },
  {
   "cell_type": "code",
   "execution_count": null,
   "metadata": {},
   "outputs": [],
   "source": [
    "# f_scores, p_values = f_regression(equipment_df, df.query('sample==1')['price'])"
   ]
  },
  {
   "cell_type": "code",
   "execution_count": null,
   "metadata": {},
   "outputs": [],
   "source": [
    "# # Visualizing 50 best equipment features\n",
    "# plt.figure(figsize=(20, 10))\n",
    "# f_scores = pd.Series(f_scores, equipment_attributes).sort_values(ascending=False)\n",
    "# best_attributes = f_scores[:50].index\n",
    "# f_scores[:50].plot(kind='barh', color='green')\n",
    "# plt.xlabel('F-Score')\n",
    "# plt.title('50 best equipment features', size=16);"
   ]
  },
  {
   "cell_type": "code",
   "execution_count": null,
   "metadata": {},
   "outputs": [],
   "source": [
    "# 25% самых важных атрибутов в авто\n",
    "# f_scores[f_scores.values > f_scores.values.max()*0.75]"
   ]
  },
  {
   "cell_type": "code",
   "execution_count": null,
   "metadata": {},
   "outputs": [],
   "source": [
    "# most_important_attributes = set(f_scores[f_scores.values > f_scores.values.max(\n",
    "# )*0.75].index)  # Множество самых важных атрибутов"
   ]
  },
  {
   "cell_type": "code",
   "execution_count": null,
   "metadata": {},
   "outputs": [],
   "source": [
    "# def has_important_equipment(dict_):\n",
    "#     # Проверка на принадлежность важнейших атрибутов атрибутам авто\n",
    "#     if most_important_attributes.issubset(set(dict_.keys())):\n",
    "#         return 1\n",
    "#     return 0"
   ]
  },
  {
   "cell_type": "code",
   "execution_count": null,
   "metadata": {},
   "outputs": [],
   "source": [
    "# df['has_important_attrs'] = df['equipment_dict'].apply(\n",
    "#     lambda x: has_important_equipment(x))"
   ]
  },
  {
   "cell_type": "code",
   "execution_count": null,
   "metadata": {},
   "outputs": [],
   "source": [
    "# df['has_important_attrs'].value_counts()"
   ]
  },
  {
   "cell_type": "markdown",
   "metadata": {},
   "source": [
    "<a id=\"sec6\"></a>\n",
    "## [fuel_type](#sec6)\n",
    "[(INDEX)](#sec2)"
   ]
  },
  {
   "cell_type": "code",
   "execution_count": 45,
   "metadata": {},
   "outputs": [],
   "source": [
    "# lets strip fuel type\n",
    "df['fuel_type'] = df.fuel_type.apply(lambda fuel: str(fuel).strip())"
   ]
  },
  {
   "cell_type": "code",
   "execution_count": 46,
   "metadata": {},
   "outputs": [],
   "source": [
    "fuel_type_dict = dict({\n",
    "    'бензин':'benzin',\n",
    "    'дизель':'dizel',\n",
    "    'гибрид':'hybrid',\n",
    "    'электро':'electro',\n",
    "    'газ':'gas'\n",
    "})\n",
    "\n",
    "df['fuel_type'] = df['fuel_type'].map(fuel_type_dict)"
   ]
  },
  {
   "cell_type": "markdown",
   "metadata": {},
   "source": [
    "<a id=\"sec6\"></a>\n",
    "## [Mileage](#sec6)\n",
    "[(INDEX)](#sec2)"
   ]
  },
  {
   "cell_type": "markdown",
   "metadata": {},
   "source": [
    "With  a reference to EDA section (plot numerical distribution), outcomes, we remember, that some cars has milage = 0 which is incorrect or unlogical. Fix it here"
   ]
  },
  {
   "cell_type": "markdown",
   "metadata": {},
   "source": [
    "Save information where mileage was equal to zero \n",
    "\n",
    "NOTE: Has no impact on MAPE"
   ]
  },
  {
   "cell_type": "code",
   "execution_count": 47,
   "metadata": {},
   "outputs": [],
   "source": [
    "#df['mileage_zero'] = df['mileage'].apply(lambda x: 1 if x == 0 else 0)"
   ]
  },
  {
   "cell_type": "markdown",
   "metadata": {},
   "source": [
    "<a id=\"sec6\"></a>\n",
    "## [engine_displacement](#sec6)\n",
    "[(INDEX)](#sec2)"
   ]
  },
  {
   "cell_type": "markdown",
   "metadata": {},
   "source": [
    "We know, that there is no engine displacement for the electical cars. We also know there is missing values in this colums.\n",
    "\n",
    "Let's fix it. If car is electric - diplacement shall be 0."
   ]
  },
  {
   "cell_type": "code",
   "execution_count": 48,
   "metadata": {},
   "outputs": [],
   "source": [
    "df['engine_displacement'] = df[['engine_displacement','fuel_type']].apply(\n",
    "    lambda x: get_electro_displacement(*x), axis=1)"
   ]
  },
  {
   "cell_type": "markdown",
   "metadata": {},
   "source": [
    "It was observed that BMW model i3 has missing values in engine displacement. \n",
    "\n",
    "Let's say if it is a hybrid - then eng_displ - 0.7. If not - then 0"
   ]
  },
  {
   "cell_type": "code",
   "execution_count": 49,
   "metadata": {},
   "outputs": [],
   "source": [
    "df['engine_displacement'] = df[[\n",
    "    'engine_displacement', 'fuel_type', 'model_name'\n",
    "]].apply(lambda x: get_i3_displacement(*x), axis=1)"
   ]
  },
  {
   "cell_type": "markdown",
   "metadata": {},
   "source": [
    "<a id=\"sec6\"></a>\n",
    "## [engine_power](#sec6)\n",
    "[(INDEX)](#sec2)"
   ]
  },
  {
   "cell_type": "markdown",
   "metadata": {},
   "source": [
    "There is a special low in Russian Federation that devide cars by tax categories. \n",
    "\n",
    "More power in engine, higer grade of tax. It may impact on a prediction. Let's break our cars down by such categories"
   ]
  },
  {
   "cell_type": "code",
   "execution_count": null,
   "metadata": {},
   "outputs": [],
   "source": [
    "# No impact on MAPE\n",
    "# df['tax_rate'] = df['engine_power'].apply(\n",
    "#     lambda engine_power: get_tax_category(engine_power)).astype('category')"
   ]
  },
  {
   "cell_type": "code",
   "execution_count": 50,
   "metadata": {},
   "outputs": [],
   "source": [
    "# Fill up for 3 missing cars (civic)\n",
    "df['engine_power'] = df['engine_power'].fillna(100) # CIVIC"
   ]
  },
  {
   "cell_type": "code",
   "execution_count": 51,
   "metadata": {},
   "outputs": [],
   "source": [
    "# Break engine power by intervals\n",
    "bins = [10, 35, 100, 125, 150, 175, 200, 225, 250, 801]\n",
    "# Ctreate tax categories\n",
    "numbers = ['5000', '12', '25', '35', '45', '50', '65', '75', '150']"
   ]
  },
  {
   "cell_type": "code",
   "execution_count": 52,
   "metadata": {},
   "outputs": [],
   "source": [
    "# Make a column where refer each car depended by power to a tax cat\n",
    "df['tax_base'] = pd.cut(df['engine_power'], bins, labels=numbers)\n",
    "df['tax_base'] = df['tax_base'].values.astype('int64')"
   ]
  },
  {
   "cell_type": "code",
   "execution_count": 53,
   "metadata": {},
   "outputs": [],
   "source": [
    "# generate tax fee col\n",
    "df['tax'] = df['engine_power'] * df['tax_base']"
   ]
  },
  {
   "cell_type": "markdown",
   "metadata": {},
   "source": [
    "<a id=\"sec6\"></a>\n",
    "## [Super_gen](#sec6)\n",
    "[(INDEX)](#sec2)"
   ]
  },
  {
   "cell_type": "markdown",
   "metadata": {},
   "source": [
    "Let's extract some information like an acceleration from supergen column.\n",
    "\n",
    "Generate new feature Acceleration"
   ]
  },
  {
   "cell_type": "code",
   "execution_count": 54,
   "metadata": {},
   "outputs": [],
   "source": [
    "# Before we do, fill up empty dictionaries with 'Nan'\n",
    "df['super_gen'] = df['super_gen'].fillna('NaN')\n",
    "df['super_gen'] = df['super_gen'].apply(cleanTxt)\n",
    "# Extract fuel rate,acceleration and generate new feature\n",
    "df['acceleration'] = df['super_gen'].apply(lambda string:get_acceleration(string))\n",
    "df['fuel_rate'] = df['super_gen'].apply(lambda string:get_fuel_rate(string))"
   ]
  },
  {
   "cell_type": "code",
   "execution_count": 55,
   "metadata": {},
   "outputs": [
    {
     "data": {
      "text/plain": [
       "11243"
      ]
     },
     "execution_count": 55,
     "metadata": {},
     "output_type": "execute_result"
    }
   ],
   "source": [
    "# missing vars in a new feature\n",
    "df['acceleration'].isna().sum()"
   ]
  },
  {
   "cell_type": "code",
   "execution_count": 56,
   "metadata": {},
   "outputs": [
    {
     "data": {
      "text/plain": [
       "21408"
      ]
     },
     "execution_count": 56,
     "metadata": {},
     "output_type": "execute_result"
    }
   ],
   "source": [
    "df['fuel_rate'].isna().sum()"
   ]
  },
  {
   "cell_type": "markdown",
   "metadata": {},
   "source": [
    "Let's fill missing values by randomly choosen value from most common in particular colums.\n",
    "\n",
    "For a company, add car pasport here and owner count"
   ]
  },
  {
   "cell_type": "code",
   "execution_count": 57,
   "metadata": {},
   "outputs": [],
   "source": [
    "cols_to_fill = ['acceleration', 'fuel_rate', 'car_passport','owner_count']\n",
    "for col in cols_to_fill:\n",
    "    missing_vars(df,col)"
   ]
  },
  {
   "cell_type": "markdown",
   "metadata": {},
   "source": [
    "<a id=\"sec6\"></a>\n",
    "## [Wheel drive](#sec6)\n",
    "[(INDEX)](#sec2)"
   ]
  },
  {
   "cell_type": "code",
   "execution_count": 58,
   "metadata": {},
   "outputs": [],
   "source": [
    "# lets strip fuel type\n",
    "df['wheel_drive'] = df.wheel_drive.apply(lambda drive: str(drive).strip())"
   ]
  },
  {
   "cell_type": "code",
   "execution_count": 59,
   "metadata": {},
   "outputs": [],
   "source": [
    "drive_type_dict = dict({\n",
    "    'передний': 'front',\n",
    "    'полный': 'full',\n",
    "    'задний': 'rear',\n",
    "})\n",
    "\n",
    "df['wheel_drive'] = df['wheel_drive'].map(drive_type_dict)"
   ]
  },
  {
   "cell_type": "code",
   "execution_count": 60,
   "metadata": {},
   "outputs": [
    {
     "data": {
      "text/html": [
       "<div>\n",
       "<style scoped>\n",
       "    .dataframe tbody tr th:only-of-type {\n",
       "        vertical-align: middle;\n",
       "    }\n",
       "\n",
       "    .dataframe tbody tr th {\n",
       "        vertical-align: top;\n",
       "    }\n",
       "\n",
       "    .dataframe thead th {\n",
       "        text-align: right;\n",
       "    }\n",
       "</style>\n",
       "<table border=\"1\" class=\"dataframe\">\n",
       "  <thead>\n",
       "    <tr style=\"text-align: right;\">\n",
       "      <th></th>\n",
       "      <th>body_type</th>\n",
       "      <th>brand</th>\n",
       "      <th>color</th>\n",
       "      <th>complectation_dict</th>\n",
       "      <th>description</th>\n",
       "      <th>engine_displacement</th>\n",
       "      <th>engine_power</th>\n",
       "      <th>equipment_dict</th>\n",
       "      <th>fuel_type</th>\n",
       "      <th>image</th>\n",
       "      <th>mileage</th>\n",
       "      <th>model_date</th>\n",
       "      <th>model_info</th>\n",
       "      <th>model_name</th>\n",
       "      <th>name</th>\n",
       "      <th>doors_count</th>\n",
       "      <th>price_currency</th>\n",
       "      <th>production_date</th>\n",
       "      <th>sell_id</th>\n",
       "      <th>super_gen</th>\n",
       "      <th>vehicle_configuration</th>\n",
       "      <th>vehicle_transmission</th>\n",
       "      <th>vendor</th>\n",
       "      <th>owner_count</th>\n",
       "      <th>owning_period</th>\n",
       "      <th>...</th>\n",
       "      <th>wheel_drive</th>\n",
       "      <th>wheel_location</th>\n",
       "      <th>condition</th>\n",
       "      <th>custom</th>\n",
       "      <th>price</th>\n",
       "      <th>sample</th>\n",
       "      <th>priced_model_name</th>\n",
       "      <th>priced_brand</th>\n",
       "      <th>priced_body_type</th>\n",
       "      <th>subjectivity</th>\n",
       "      <th>polarity</th>\n",
       "      <th>airbags</th>\n",
       "      <th>cruise</th>\n",
       "      <th>steering</th>\n",
       "      <th>loan</th>\n",
       "      <th>anti_block</th>\n",
       "      <th>lock</th>\n",
       "      <th>climat</th>\n",
       "      <th>rain_sens</th>\n",
       "      <th>equipment_length</th>\n",
       "      <th>mileage_zero</th>\n",
       "      <th>tax_base</th>\n",
       "      <th>tax</th>\n",
       "      <th>acceleration</th>\n",
       "      <th>fuel_rate</th>\n",
       "    </tr>\n",
       "  </thead>\n",
       "  <tbody>\n",
       "    <tr>\n",
       "      <th>56730</th>\n",
       "      <td>other</td>\n",
       "      <td>toyota</td>\n",
       "      <td>серебристый</td>\n",
       "      <td>{'id': '0', 'name': ''}</td>\n",
       "      <td>авто в хорошем тех. состоянии..гаражное хранен...</td>\n",
       "      <td>NaN</td>\n",
       "      <td>100.0</td>\n",
       "      <td>{'abs': True, 'alarm': True, 'audiosystem-cd':...</td>\n",
       "      <td>NaN</td>\n",
       "      <td>//avatars.mds.yandex.net/get-autoru-vos/202337...</td>\n",
       "      <td>180000</td>\n",
       "      <td>1984</td>\n",
       "      <td>{'code': 'noah', 'name': 'noah', 'ru_name': 'н...</td>\n",
       "      <td>noah</td>\n",
       "      <td>None</td>\n",
       "      <td>4</td>\n",
       "      <td>rub</td>\n",
       "      <td>2008</td>\n",
       "      <td>1092703248</td>\n",
       "      <td>nan</td>\n",
       "      <td>useless_col</td>\n",
       "      <td>None</td>\n",
       "      <td>japanese</td>\n",
       "      <td>3</td>\n",
       "      <td>None</td>\n",
       "      <td>...</td>\n",
       "      <td>NaN</td>\n",
       "      <td>right</td>\n",
       "      <td>None</td>\n",
       "      <td>None</td>\n",
       "      <td>13.444447</td>\n",
       "      <td>1</td>\n",
       "      <td>13.351231</td>\n",
       "      <td>13.470231</td>\n",
       "      <td>12.24931</td>\n",
       "      <td>0.0</td>\n",
       "      <td>0.0</td>\n",
       "      <td>0</td>\n",
       "      <td>0</td>\n",
       "      <td>0</td>\n",
       "      <td>0</td>\n",
       "      <td>0</td>\n",
       "      <td>0</td>\n",
       "      <td>0</td>\n",
       "      <td>0</td>\n",
       "      <td>4</td>\n",
       "      <td>0</td>\n",
       "      <td>12</td>\n",
       "      <td>1200.0</td>\n",
       "      <td>6.8</td>\n",
       "      <td>8.7</td>\n",
       "    </tr>\n",
       "    <tr>\n",
       "      <th>93719</th>\n",
       "      <td>other</td>\n",
       "      <td>honda</td>\n",
       "      <td>серебристый</td>\n",
       "      <td>{'id': '0', 'name': ''}</td>\n",
       "      <td>продаю honda civic suttle 1989 г. выпуска, неу...</td>\n",
       "      <td>NaN</td>\n",
       "      <td>100.0</td>\n",
       "      <td>{'electro-window-back': True, 'cruise-control'...</td>\n",
       "      <td>NaN</td>\n",
       "      <td>//avatars.mds.yandex.net/get-autoru-vos/216179...</td>\n",
       "      <td>400000</td>\n",
       "      <td>2012</td>\n",
       "      <td>{'code': 'civic', 'name': 'civic', 'ru_name': ...</td>\n",
       "      <td>civic</td>\n",
       "      <td>None</td>\n",
       "      <td>5</td>\n",
       "      <td>rub</td>\n",
       "      <td>1989</td>\n",
       "      <td>1097454742</td>\n",
       "      <td>nan</td>\n",
       "      <td>useless_col</td>\n",
       "      <td>None</td>\n",
       "      <td>japanese</td>\n",
       "      <td>3</td>\n",
       "      <td>None</td>\n",
       "      <td>...</td>\n",
       "      <td>NaN</td>\n",
       "      <td>left</td>\n",
       "      <td>None</td>\n",
       "      <td>None</td>\n",
       "      <td>11.695247</td>\n",
       "      <td>1</td>\n",
       "      <td>12.708966</td>\n",
       "      <td>13.003090</td>\n",
       "      <td>12.24931</td>\n",
       "      <td>0.0</td>\n",
       "      <td>0.0</td>\n",
       "      <td>0</td>\n",
       "      <td>0</td>\n",
       "      <td>0</td>\n",
       "      <td>0</td>\n",
       "      <td>0</td>\n",
       "      <td>0</td>\n",
       "      <td>0</td>\n",
       "      <td>0</td>\n",
       "      <td>11</td>\n",
       "      <td>0</td>\n",
       "      <td>12</td>\n",
       "      <td>1200.0</td>\n",
       "      <td>6.8</td>\n",
       "      <td>7.0</td>\n",
       "    </tr>\n",
       "    <tr>\n",
       "      <th>94094</th>\n",
       "      <td>other</td>\n",
       "      <td>honda</td>\n",
       "      <td>пурпурный</td>\n",
       "      <td>{'id': '0', 'name': ''}</td>\n",
       "      <td>в хорошем состоянии на ходу</td>\n",
       "      <td>NaN</td>\n",
       "      <td>100.0</td>\n",
       "      <td>{'electro-window-back': True, 'cruise-control'...</td>\n",
       "      <td>NaN</td>\n",
       "      <td>//avatars.mds.yandex.net/get-autoru-vos/215360...</td>\n",
       "      <td>220000</td>\n",
       "      <td>2003</td>\n",
       "      <td>{'code': 'civic', 'name': 'civic', 'ru_name': ...</td>\n",
       "      <td>civic</td>\n",
       "      <td>None</td>\n",
       "      <td>4</td>\n",
       "      <td>rub</td>\n",
       "      <td>1989</td>\n",
       "      <td>1096777604</td>\n",
       "      <td>nan</td>\n",
       "      <td>useless_col</td>\n",
       "      <td>None</td>\n",
       "      <td>japanese</td>\n",
       "      <td>3</td>\n",
       "      <td>None</td>\n",
       "      <td>...</td>\n",
       "      <td>NaN</td>\n",
       "      <td>left</td>\n",
       "      <td>None</td>\n",
       "      <td>None</td>\n",
       "      <td>11.608236</td>\n",
       "      <td>1</td>\n",
       "      <td>12.708966</td>\n",
       "      <td>13.003090</td>\n",
       "      <td>12.24931</td>\n",
       "      <td>0.0</td>\n",
       "      <td>0.0</td>\n",
       "      <td>0</td>\n",
       "      <td>0</td>\n",
       "      <td>0</td>\n",
       "      <td>0</td>\n",
       "      <td>0</td>\n",
       "      <td>0</td>\n",
       "      <td>0</td>\n",
       "      <td>0</td>\n",
       "      <td>11</td>\n",
       "      <td>0</td>\n",
       "      <td>12</td>\n",
       "      <td>1200.0</td>\n",
       "      <td>17.6</td>\n",
       "      <td>7.6</td>\n",
       "    </tr>\n",
       "  </tbody>\n",
       "</table>\n",
       "<p>3 rows × 51 columns</p>\n",
       "</div>"
      ],
      "text/plain": [
       "      body_type   brand        color       complectation_dict  \\\n",
       "56730     other  toyota  серебристый  {'id': '0', 'name': ''}   \n",
       "93719     other   honda  серебристый  {'id': '0', 'name': ''}   \n",
       "94094     other   honda    пурпурный  {'id': '0', 'name': ''}   \n",
       "\n",
       "                                             description  engine_displacement  \\\n",
       "56730  авто в хорошем тех. состоянии..гаражное хранен...                  NaN   \n",
       "93719  продаю honda civic suttle 1989 г. выпуска, неу...                  NaN   \n",
       "94094                        в хорошем состоянии на ходу                  NaN   \n",
       "\n",
       "       engine_power                                     equipment_dict  \\\n",
       "56730         100.0  {'abs': True, 'alarm': True, 'audiosystem-cd':...   \n",
       "93719         100.0  {'electro-window-back': True, 'cruise-control'...   \n",
       "94094         100.0  {'electro-window-back': True, 'cruise-control'...   \n",
       "\n",
       "      fuel_type                                              image  mileage  \\\n",
       "56730       NaN  //avatars.mds.yandex.net/get-autoru-vos/202337...   180000   \n",
       "93719       NaN  //avatars.mds.yandex.net/get-autoru-vos/216179...   400000   \n",
       "94094       NaN  //avatars.mds.yandex.net/get-autoru-vos/215360...   220000   \n",
       "\n",
       "       model_date                                         model_info  \\\n",
       "56730        1984  {'code': 'noah', 'name': 'noah', 'ru_name': 'н...   \n",
       "93719        2012  {'code': 'civic', 'name': 'civic', 'ru_name': ...   \n",
       "94094        2003  {'code': 'civic', 'name': 'civic', 'ru_name': ...   \n",
       "\n",
       "      model_name  name  doors_count price_currency  production_date  \\\n",
       "56730       noah  None            4            rub             2008   \n",
       "93719      civic  None            5            rub             1989   \n",
       "94094      civic  None            4            rub             1989   \n",
       "\n",
       "          sell_id super_gen vehicle_configuration vehicle_transmission  \\\n",
       "56730  1092703248       nan           useless_col                 None   \n",
       "93719  1097454742       nan           useless_col                 None   \n",
       "94094  1096777604       nan           useless_col                 None   \n",
       "\n",
       "         vendor owner_count owning_period  ... wheel_drive wheel_location  \\\n",
       "56730  japanese           3          None  ...         NaN          right   \n",
       "93719  japanese           3          None  ...         NaN           left   \n",
       "94094  japanese           3          None  ...         NaN           left   \n",
       "\n",
       "      condition custom      price  sample  priced_model_name  priced_brand  \\\n",
       "56730      None   None  13.444447       1          13.351231     13.470231   \n",
       "93719      None   None  11.695247       1          12.708966     13.003090   \n",
       "94094      None   None  11.608236       1          12.708966     13.003090   \n",
       "\n",
       "       priced_body_type  subjectivity  polarity  airbags  cruise  steering  \\\n",
       "56730          12.24931           0.0       0.0        0       0         0   \n",
       "93719          12.24931           0.0       0.0        0       0         0   \n",
       "94094          12.24931           0.0       0.0        0       0         0   \n",
       "\n",
       "       loan  anti_block  lock  climat  rain_sens  equipment_length  \\\n",
       "56730     0           0     0       0          0                 4   \n",
       "93719     0           0     0       0          0                11   \n",
       "94094     0           0     0       0          0                11   \n",
       "\n",
       "       mileage_zero  tax_base     tax  acceleration  fuel_rate  \n",
       "56730             0        12  1200.0           6.8        8.7  \n",
       "93719             0        12  1200.0           6.8        7.0  \n",
       "94094             0        12  1200.0          17.6        7.6  \n",
       "\n",
       "[3 rows x 51 columns]"
      ]
     },
     "execution_count": 60,
     "metadata": {},
     "output_type": "execute_result"
    }
   ],
   "source": [
    "df[df['wheel_drive'].isna()]"
   ]
  },
  {
   "cell_type": "markdown",
   "metadata": {},
   "source": [
    "Civic. Fill With front"
   ]
  },
  {
   "cell_type": "code",
   "execution_count": 61,
   "metadata": {},
   "outputs": [],
   "source": [
    "df['wheel_drive'] = df['wheel_drive'].fillna('front')"
   ]
  },
  {
   "cell_type": "markdown",
   "metadata": {},
   "source": [
    "<a id=\"sec6\"></a>\n",
    "## [Price change index ](#sec6)\n",
    "[(INDEX)](#sec2)"
   ]
  },
  {
   "cell_type": "markdown",
   "metadata": {},
   "source": [
    "With a reference to EDA, we know, that some brands loose their price more faster than others. \n",
    "\n",
    "Let's generate such feature"
   ]
  },
  {
   "cell_type": "code",
   "execution_count": 63,
   "metadata": {},
   "outputs": [],
   "source": [
    "def get_change_index(model):\n",
    "    if model == 'ford':\n",
    "        return int(1)\n",
    "    if model == 'volvo' or model == 'mercedes':\n",
    "        return int(2)\n",
    "    if model == 'honda' or model == 'audi':\n",
    "        return int(2)\n",
    "    return int(0)"
   ]
  },
  {
   "cell_type": "code",
   "execution_count": 64,
   "metadata": {},
   "outputs": [],
   "source": [
    "df['prc_chg_idx'] = df['brand'].apply(\n",
    "    lambda brand: get_change_index(brand)).astype('category')"
   ]
  },
  {
   "cell_type": "markdown",
   "metadata": {},
   "source": [
    "<a id=\"sec6\"></a>\n",
    "## [Dropping cars without info out](#sec6)\n",
    "[(INDEX)](#sec2)"
   ]
  },
  {
   "cell_type": "code",
   "execution_count": 65,
   "metadata": {},
   "outputs": [
    {
     "data": {
      "text/plain": [
       "3"
      ]
     },
     "execution_count": 65,
     "metadata": {},
     "output_type": "execute_result"
    }
   ],
   "source": [
    "df['engine_displacement'].isna().sum()"
   ]
  },
  {
   "cell_type": "code",
   "execution_count": 66,
   "metadata": {},
   "outputs": [],
   "source": [
    "df = df.dropna(axis=0, subset=['engine_displacement'])"
   ]
  },
  {
   "cell_type": "markdown",
   "metadata": {},
   "source": [
    "<a id=\"sec6\"></a>\n",
    "## [Vendor](#sec6)\n",
    "[(INDEX)](#sec2)"
   ]
  },
  {
   "cell_type": "markdown",
   "metadata": {},
   "source": [
    "During scraping of a dataset we gathered more vendors than were in a test data set. Let's replace those who are not in test dataset by 'Other'\n",
    "\n",
    "Note: It was decided to not include this to a model"
   ]
  },
  {
   "cell_type": "code",
   "execution_count": 67,
   "metadata": {},
   "outputs": [],
   "source": [
    "df['vendor'] = df['vendor'].apply(\n",
    "    lambda x: x if x == 'european' else(x if x == 'japanese' else 'other'))"
   ]
  },
  {
   "cell_type": "markdown",
   "metadata": {},
   "source": [
    "<a id=\"sec6\"></a>\n",
    "## [Handling multicollinearity out](#sec6)\n",
    "[(INDEX)](#sec2)"
   ]
  },
  {
   "cell_type": "code",
   "execution_count": 68,
   "metadata": {},
   "outputs": [],
   "source": [
    "# extract trhee columns from dataset, which are correlated\n",
    "data = df[['mileage', 'model_date', 'production_date']].values\n",
    "# create Scaler instance\n",
    "scaler = StandardScaler()\n",
    "scaled_data = scaler.fit_transform(data)\n",
    "\n",
    "# We have 3 vectors. Reduce to two, taking most important info.\n",
    "pca = PCA(n_components=2)\n",
    "pca.fit(scaled_data)\n",
    "pca_data = pca.transform(scaled_data)\n",
    "df['pca_1'], df['pca_2'] = pca_data[:, 0], pca_data[:, 1]"
   ]
  },
  {
   "cell_type": "markdown",
   "metadata": {},
   "source": [
    "<a id=\"sec6\"></a>\n",
    "## [Clustering](#sec6)\n",
    "[(INDEX)](#sec2)"
   ]
  },
  {
   "cell_type": "code",
   "execution_count": null,
   "metadata": {},
   "outputs": [],
   "source": [
    "#cluster = Outliers_detector(df)"
   ]
  },
  {
   "cell_type": "code",
   "execution_count": null,
   "metadata": {
    "scrolled": true
   },
   "outputs": [],
   "source": [
    "# indeces = cluster.get_dbscan_outliers('model_date', 'mileage', dbscan_eps=.3,\n",
    "#                                      dbscan_minsample=12,\n",
    "#                                      cluster_num=-1)\n",
    "# print(f\"Strange guys {len(indeces)}\")"
   ]
  },
  {
   "cell_type": "code",
   "execution_count": null,
   "metadata": {},
   "outputs": [],
   "source": [
    "# Defining features and target\n",
    "# X = df[df['sample'] == 1]\n",
    "\n",
    "# X_test = df[df['sample'] == 0]\n",
    "\n",
    "# print(f'X size: {X.shape}, X_testn size: {X_test.shape}')"
   ]
  },
  {
   "cell_type": "code",
   "execution_count": null,
   "metadata": {},
   "outputs": [],
   "source": [
    "# cluster = Outliers_detector(X)"
   ]
  },
  {
   "cell_type": "code",
   "execution_count": null,
   "metadata": {
    "scrolled": false
   },
   "outputs": [],
   "source": [
    "# indeces = cluster.get_dbscan_outliers('model_date', 'price', dbscan_eps=.5,\n",
    "#                                      dbscan_minsample=12,\n",
    "#                                      cluster_num=-1)\n",
    "# print(f\"Strange guys {len(indeces)}\")"
   ]
  },
  {
   "cell_type": "code",
   "execution_count": null,
   "metadata": {},
   "outputs": [],
   "source": [
    "# X=X.drop(indeces)\n",
    "# X.reset_index(drop=True, inplace=True)"
   ]
  },
  {
   "cell_type": "code",
   "execution_count": null,
   "metadata": {},
   "outputs": [],
   "source": [
    "# df = X_test.append(X, sort=False).reset_index(drop=True)  # combine sets"
   ]
  },
  {
   "cell_type": "markdown",
   "metadata": {},
   "source": [
    "<a id=\"sec6\"></a>\n",
    "## [Logarithm](#sec6)\n",
    "[(INDEX)](#sec2)"
   ]
  },
  {
   "cell_type": "code",
   "execution_count": 70,
   "metadata": {},
   "outputs": [],
   "source": [
    "cols_to_log = [\n",
    "    'engine_displacement', 'mileage', 'model_date', 'production_date',\n",
    "    'equipment_length', 'tax', 'acceleration', 'fuel_rate', 'pca_1', 'pca_2'\n",
    "]\n",
    "\n",
    "df = to_log(df, cols_to_log)"
   ]
  },
  {
   "cell_type": "markdown",
   "metadata": {},
   "source": [
    "<a id=\"sec6\"></a>\n",
    "## [ENCODING](#sec6)\n",
    "[(INDEX)](#sec2)"
   ]
  },
  {
   "cell_type": "code",
   "execution_count": 71,
   "metadata": {},
   "outputs": [],
   "source": [
    "# Re-set indeces\n",
    "df.reset_index(drop=True, inplace=True)"
   ]
  },
  {
   "cell_type": "code",
   "execution_count": null,
   "metadata": {},
   "outputs": [],
   "source": [
    "# Save un-encoded df\n",
    "df_cat = df.copy()"
   ]
  },
  {
   "cell_type": "code",
   "execution_count": 72,
   "metadata": {},
   "outputs": [],
   "source": [
    "encoder = Encoder(df)"
   ]
  },
  {
   "cell_type": "code",
   "execution_count": 73,
   "metadata": {},
   "outputs": [],
   "source": [
    "to_hot = [\n",
    "    #'body_type', # No impact\n",
    "    #'brand', # No impact\n",
    "    #'color', # No impact\n",
    "    #'fuel_type',   # No impact\n",
    "    #'doors_count', # No impact\n",
    "    #'vehicle_transmission', # No impact\n",
    "    'vendor',\n",
    "    'wheel_drive',\n",
    "    'owner_count',\n",
    "]\n",
    "\n",
    "to_label = [\n",
    "    'car_passport', 'wheel_location', 'prc_chg_idx', 'vehicle_transmission'\n",
    "]"
   ]
  },
  {
   "cell_type": "code",
   "execution_count": 74,
   "metadata": {},
   "outputs": [],
   "source": [
    "# hot it out\n",
    "for col in to_hot:\n",
    "    df = encoder.hot_encoder(col)"
   ]
  },
  {
   "cell_type": "code",
   "execution_count": 75,
   "metadata": {},
   "outputs": [],
   "source": [
    "# label it\n",
    "for col in to_label:\n",
    "    encoder.label_encoder(col)"
   ]
  },
  {
   "cell_type": "markdown",
   "metadata": {},
   "source": [
    "<a id=\"sec6\"></a>\n",
    "## [DROP COLS OUT](#sec6)\n",
    "[(INDEX)](#sec2)"
   ]
  },
  {
   "cell_type": "code",
   "execution_count": 76,
   "metadata": {},
   "outputs": [],
   "source": [
    "cols_to_drop = [\n",
    "    'complectation_dict',\n",
    "    'description',\n",
    "    'equipment_dict',\n",
    "    'image',\n",
    "    'model_info',\n",
    "    'name',\n",
    "    'price_currency',\n",
    "    'vehicle_configuration',\n",
    "    'custom',\n",
    "    'condition',\n",
    "    'owning_period',\n",
    "    'super_gen',\n",
    "    'sell_id',\n",
    "    'model_name',\n",
    "    'engine_power',\n",
    "    'mileage',  # have PCA instead\n",
    "    'model_date',  # have PCA instead \n",
    "    'body_type',\n",
    "    'brand',\n",
    "    'color',\n",
    "    'tax_base',\n",
    "    'mileage_zero',  # No impact\n",
    "    'fuel_type',  # No impact\n",
    "    'doors_count'  # No impact\n",
    "]\n",
    "df = df.drop(cols_to_drop, axis=1)"
   ]
  },
  {
   "cell_type": "markdown",
   "metadata": {},
   "source": [
    "Let's check what do we have now"
   ]
  },
  {
   "cell_type": "code",
   "execution_count": 77,
   "metadata": {
    "scrolled": false
   },
   "outputs": [
    {
     "name": "stdout",
     "output_type": "stream",
     "text": [
      "engine_displacement - 0.0%\n",
      "production_date - 0.0%\n",
      "vehicle_transmission - 0.0%\n",
      "car_passport - 0.0%\n",
      "wheel_location - 0.0%\n",
      "price - 19.407%\n",
      "sample - 0.0%\n",
      "priced_model_name - 0.0%\n",
      "priced_brand - 0.0%\n",
      "priced_body_type - 0.0%\n",
      "subjectivity - 0.0%\n",
      "polarity - 0.0%\n",
      "airbags - 0.0%\n",
      "cruise - 0.0%\n",
      "steering - 0.0%\n",
      "loan - 0.0%\n",
      "anti_block - 0.0%\n",
      "lock - 0.0%\n",
      "climat - 0.0%\n",
      "rain_sens - 0.0%\n",
      "equipment_length - 0.0%\n",
      "tax - 0.0%\n",
      "acceleration - 0.0%\n",
      "fuel_rate - 0.0%\n",
      "prc_chg_idx - 0.0%\n",
      "pca_1 - 0.0%\n",
      "pca_2 - 0.0%\n",
      "hot_vendor_european - 0.0%\n",
      "hot_vendor_japanese - 0.0%\n",
      "hot_vendor_other - 0.0%\n",
      "hot_wheel_drive_front - 0.0%\n",
      "hot_wheel_drive_full - 0.0%\n",
      "hot_wheel_drive_rear - 0.0%\n",
      "hot_owner_count_1 - 0.0%\n",
      "hot_owner_count_2 - 0.0%\n",
      "hot_owner_count_3 - 0.0%\n"
     ]
    },
    {
     "data": {
      "image/png": "[encoded data removed]",
      "text/plain": [
       "<Figure size 1080x1080 with 2 Axes>"
      ]
     },
     "metadata": {},
     "output_type": "display_data"
    }
   ],
   "source": [
    "# Plot missing values\n",
    "cols = df.columns\n",
    "fig, ax = plt.subplots(figsize=(15, 15))\n",
    "sns.heatmap(df[cols].isnull()) \n",
    "\n",
    "# Show in percents\n",
    "for col in df.columns:\n",
    "    pct_missing = np.mean(df[col].isnull())\n",
    "    print(f'{col} - {round(pct_missing*100,3)}%')"
   ]
  },
  {
   "cell_type": "markdown",
   "metadata": {},
   "source": [
    "The data set is ready."
   ]
  },
  {
   "cell_type": "markdown",
   "metadata": {},
   "source": [
    "<a id=\"sec6\"></a>\n",
    "# [Prepare Set For Model](#sec6)\n",
    "[(INDEX)](#sec2)"
   ]
  },
  {
   "cell_type": "code",
   "execution_count": 79,
   "metadata": {},
   "outputs": [],
   "source": [
    "# Defining features and target\n",
    "X = df[df['sample'] == 1].drop(['price','sample'], axis=1)\n",
    "y = df[df['sample'] == 1]['price']\n",
    "\n",
    "X_test = df[df['sample'] == 0].drop(['price','sample'], axis=1)\n",
    "y_test = df[df['sample'] == 0]['price']"
   ]
  },
  {
   "cell_type": "code",
   "execution_count": 80,
   "metadata": {},
   "outputs": [],
   "source": [
    "cols_to_scal = [\n",
    "    'engine_displacement', 'subjectivity', \n",
    "    'polarity', 'acceleration',\n",
    "    'fuel_rate', 'pca_1','pca_2','equipment_length',\n",
    "    'priced_model_name','priced_brand','priced_body_type','tax'\n",
    "]"
   ]
  },
  {
   "cell_type": "code",
   "execution_count": 81,
   "metadata": {},
   "outputs": [],
   "source": [
    "scaler = RobustScaler()\n",
    "X[cols_to_scal] = scaler.fit_transform(X[cols_to_scal])\n",
    "X_test[cols_to_scal] = scaler.transform(X_test[cols_to_scal])"
   ]
  },
  {
   "cell_type": "code",
   "execution_count": 82,
   "metadata": {},
   "outputs": [
    {
     "name": "stdout",
     "output_type": "stream",
     "text": [
      "Train size: (115236, 34), Validation size: (28810, 34), Test size: (34686, 34)\n"
     ]
    }
   ],
   "source": [
    "# Splitting the data\n",
    "X_train, X_val, y_train, y_val = train_test_split(X,\n",
    "                                                  y,\n",
    "                                                  test_size=0.2,\n",
    "                                                  shuffle=True,\n",
    "                                                  random_state=42)\n",
    "\n",
    "print(\n",
    "    f'Train size: {X_train.shape}, Validation size: {X_val.shape}, Test size: {X_test.shape}'\n",
    ")"
   ]
  },
  {
   "cell_type": "markdown",
   "metadata": {},
   "source": [
    "<a id=\"sec6\"></a>\n",
    "# [MODELS](#sec6)\n",
    "[(INDEX)](#sec2)"
   ]
  },
  {
   "cell_type": "code",
   "execution_count": null,
   "metadata": {},
   "outputs": [],
   "source": [
    "# reg = LazyRegressor(verbose=1, ignore_warnings=False, custom_metric=None)\n",
    "# models,predictions = reg.fit(X_train, X_val, y_train, y_val)\n",
    "# models"
   ]
  },
  {
   "cell_type": "code",
   "execution_count": null,
   "metadata": {},
   "outputs": [],
   "source": []
  },
  {
   "cell_type": "markdown",
   "metadata": {},
   "source": [
    "<a id=\"sec6\"></a>\n",
    "## [EXTRA-TREE](#sec6)\n",
    "[(INDEX)](#sec2)"
   ]
  },
  {
   "cell_type": "code",
   "execution_count": 86,
   "metadata": {
    "scrolled": false
   },
   "outputs": [],
   "source": [
    "# Training and evaluating Extra Tree\n",
    "rf = ExtraTreesRegressor(n_estimators=300, random_state=42, n_jobs=-1,\n",
    "                         bootstrap=True, verbose=0)\n",
    "rf.fit(X_train, y_train)\n",
    "y_pred = rf.predict(X_val)"
   ]
  },
  {
   "cell_type": "code",
   "execution_count": 87,
   "metadata": {},
   "outputs": [],
   "source": [
    "df_report = pd.DataFrame(data=None)"
   ]
  },
  {
   "cell_type": "code",
   "execution_count": 88,
   "metadata": {},
   "outputs": [
    {
     "data": {
      "text/html": [
       "<div>\n",
       "<style scoped>\n",
       "    .dataframe tbody tr th:only-of-type {\n",
       "        vertical-align: middle;\n",
       "    }\n",
       "\n",
       "    .dataframe tbody tr th {\n",
       "        vertical-align: top;\n",
       "    }\n",
       "\n",
       "    .dataframe thead th {\n",
       "        text-align: right;\n",
       "    }\n",
       "</style>\n",
       "<table border=\"1\" class=\"dataframe\">\n",
       "  <thead>\n",
       "    <tr style=\"text-align: right;\">\n",
       "      <th></th>\n",
       "      <th>MAPE</th>\n",
       "      <th>MAE</th>\n",
       "      <th>MSE</th>\n",
       "      <th>RMSE</th>\n",
       "    </tr>\n",
       "  </thead>\n",
       "  <tbody>\n",
       "    <tr>\n",
       "      <th>ExtraTree_baseline</th>\n",
       "      <td>15.282322</td>\n",
       "      <td>117142.087775</td>\n",
       "      <td>9.258594e+10</td>\n",
       "      <td>304279.377166</td>\n",
       "    </tr>\n",
       "  </tbody>\n",
       "</table>\n",
       "</div>"
      ],
      "text/plain": [
       "                         MAPE            MAE           MSE           RMSE\n",
       "ExtraTree_baseline  15.282322  117142.087775  9.258594e+10  304279.377166"
      ]
     },
     "execution_count": 88,
     "metadata": {},
     "output_type": "execute_result"
    }
   ],
   "source": [
    "df_report = get_regression_metrics(df_report,y_val,y_pred, 'ExtraTree_baseline')\n",
    "df_report"
   ]
  },
  {
   "cell_type": "code",
   "execution_count": null,
   "metadata": {},
   "outputs": [],
   "source": [
    "# rf.fit(X, y) # Обучим для сабмита на всей выборке"
   ]
  },
  {
   "cell_type": "code",
   "execution_count": 89,
   "metadata": {},
   "outputs": [],
   "source": [
    "sell_id = pd.read_csv('test.csv')['sell_id']"
   ]
  },
  {
   "cell_type": "code",
   "execution_count": null,
   "metadata": {},
   "outputs": [],
   "source": [
    "# submission_tree = pd.DataFrame({'sell_id': sell_id,\n",
    "#                            'price': np.exp(rf.predict(X_test))*0.905})"
   ]
  },
  {
   "cell_type": "code",
   "execution_count": null,
   "metadata": {},
   "outputs": [],
   "source": [
    "# submission_tree.to_csv('submission_tree.csv', index=False)"
   ]
  },
  {
   "cell_type": "markdown",
   "metadata": {},
   "source": [
    "<a id=\"sec6\"></a>\n",
    "## [CAT_boost](#sec6)\n",
    "[(INDEX)](#sec2)"
   ]
  },
  {
   "cell_type": "code",
   "execution_count": null,
   "metadata": {},
   "outputs": [],
   "source": [
    "# Training the model\n",
    "cbr = CatBoostRegressor()\n",
    "\n",
    "# Grid search for catboost model\n",
    "param_grid = {'iterations': [500],\n",
    "              'learning_rate': [0.01, 0.1, 0.25, 0.5],\n",
    "              'l2_leaf_reg': [1, 3, 5, 10],\n",
    "              'depth': np.arange(10, 14),\n",
    "              'thread_count': [4]}\n",
    "\n",
    "cbr.grid_search(param_grid=param_grid,\n",
    "                X=X,\n",
    "                y=y,\n",
    "                cv=5,\n",
    "                partition_random_seed=42,\n",
    "                calc_cv_statistics=True,\n",
    "                search_by_train_test_split=True,\n",
    "                refit=True,\n",
    "                shuffle=True,\n",
    "                stratified=None,\n",
    "                train_size=0.8,\n",
    "                verbose=False,\n",
    "                plot=True)"
   ]
  },
  {
   "cell_type": "code",
   "execution_count": null,
   "metadata": {},
   "outputs": [],
   "source": [
    "cbr.fit(X_train,y_train)"
   ]
  },
  {
   "cell_type": "code",
   "execution_count": 114,
   "metadata": {},
   "outputs": [],
   "source": [
    "cbr_pred = cbr.predict(X_val)"
   ]
  },
  {
   "cell_type": "code",
   "execution_count": null,
   "metadata": {
    "scrolled": true
   },
   "outputs": [],
   "source": [
    "# Best model parameters\n",
    "cbr.get_params()"
   ]
  },
  {
   "cell_type": "code",
   "execution_count": 115,
   "metadata": {},
   "outputs": [
    {
     "data": {
      "text/html": [
       "<div>\n",
       "<style scoped>\n",
       "    .dataframe tbody tr th:only-of-type {\n",
       "        vertical-align: middle;\n",
       "    }\n",
       "\n",
       "    .dataframe tbody tr th {\n",
       "        vertical-align: top;\n",
       "    }\n",
       "\n",
       "    .dataframe thead th {\n",
       "        text-align: right;\n",
       "    }\n",
       "</style>\n",
       "<table border=\"1\" class=\"dataframe\">\n",
       "  <thead>\n",
       "    <tr style=\"text-align: right;\">\n",
       "      <th></th>\n",
       "      <th>MAPE</th>\n",
       "      <th>MAE</th>\n",
       "      <th>MSE</th>\n",
       "      <th>RMSE</th>\n",
       "    </tr>\n",
       "  </thead>\n",
       "  <tbody>\n",
       "    <tr>\n",
       "      <th>ExtraTree_baseline</th>\n",
       "      <td>15.282322</td>\n",
       "      <td>117142.087775</td>\n",
       "      <td>9.258594e+10</td>\n",
       "      <td>304279.377166</td>\n",
       "    </tr>\n",
       "    <tr>\n",
       "      <th>XGBoost_1</th>\n",
       "      <td>15.227861</td>\n",
       "      <td>118196.924462</td>\n",
       "      <td>9.005006e+10</td>\n",
       "      <td>300083.415508</td>\n",
       "    </tr>\n",
       "    <tr>\n",
       "      <th>XGBoost_opt</th>\n",
       "      <td>16.514804</td>\n",
       "      <td>147951.373157</td>\n",
       "      <td>1.178385e+11</td>\n",
       "      <td>343276.129743</td>\n",
       "    </tr>\n",
       "    <tr>\n",
       "      <th>LGB</th>\n",
       "      <td>15.757142</td>\n",
       "      <td>131982.177877</td>\n",
       "      <td>1.047078e+11</td>\n",
       "      <td>323585.842181</td>\n",
       "    </tr>\n",
       "    <tr>\n",
       "      <th>LGB+optuna</th>\n",
       "      <td>15.141508</td>\n",
       "      <td>124591.832130</td>\n",
       "      <td>1.179839e+11</td>\n",
       "      <td>343487.873636</td>\n",
       "    </tr>\n",
       "    <tr>\n",
       "      <th>CatBoost</th>\n",
       "      <td>15.591592</td>\n",
       "      <td>134115.271278</td>\n",
       "      <td>1.125135e+11</td>\n",
       "      <td>335430.298839</td>\n",
       "    </tr>\n",
       "  </tbody>\n",
       "</table>\n",
       "</div>"
      ],
      "text/plain": [
       "                         MAPE            MAE           MSE           RMSE\n",
       "ExtraTree_baseline  15.282322  117142.087775  9.258594e+10  304279.377166\n",
       "XGBoost_1           15.227861  118196.924462  9.005006e+10  300083.415508\n",
       "XGBoost_opt         16.514804  147951.373157  1.178385e+11  343276.129743\n",
       "LGB                 15.757142  131982.177877  1.047078e+11  323585.842181\n",
       "LGB+optuna          15.141508  124591.832130  1.179839e+11  343487.873636\n",
       "CatBoost            15.591592  134115.271278  1.125135e+11  335430.298839"
      ]
     },
     "execution_count": 115,
     "metadata": {},
     "output_type": "execute_result"
    }
   ],
   "source": [
    "df_report = get_regression_metrics(df_report,y_val,cbr_pred, 'CatBoost')\n",
    "df_report"
   ]
  },
  {
   "cell_type": "code",
   "execution_count": 112,
   "metadata": {
    "scrolled": true
   },
   "outputs": [
    {
     "name": "stdout",
     "output_type": "stream",
     "text": [
      "0:\tlearn: 1.0813048\ttotal: 185ms\tremaining: 1m 32s\n",
      "1:\tlearn: 0.9884348\ttotal: 227ms\tremaining: 56.6s\n",
      "2:\tlearn: 0.9043122\ttotal: 269ms\tremaining: 44.6s\n",
      "3:\tlearn: 0.8300291\ttotal: 313ms\tremaining: 38.8s\n",
      "4:\tlearn: 0.7637742\ttotal: 355ms\tremaining: 35.1s\n",
      "5:\tlearn: 0.7052262\ttotal: 397ms\tremaining: 32.7s\n",
      "6:\tlearn: 0.6519320\ttotal: 440ms\tremaining: 31s\n",
      "7:\tlearn: 0.6047225\ttotal: 483ms\tremaining: 29.7s\n",
      "8:\tlearn: 0.5631916\ttotal: 525ms\tremaining: 28.6s\n",
      "9:\tlearn: 0.5267751\ttotal: 570ms\tremaining: 27.9s\n",
      "10:\tlearn: 0.4943857\ttotal: 610ms\tremaining: 27.1s\n",
      "11:\tlearn: 0.4659232\ttotal: 653ms\tremaining: 26.5s\n",
      "12:\tlearn: 0.4409626\ttotal: 694ms\tremaining: 26s\n",
      "13:\tlearn: 0.4189551\ttotal: 737ms\tremaining: 25.6s\n",
      "14:\tlearn: 0.3998706\ttotal: 777ms\tremaining: 25.1s\n",
      "15:\tlearn: 0.3834331\ttotal: 834ms\tremaining: 25.2s\n",
      "16:\tlearn: 0.3688268\ttotal: 875ms\tremaining: 24.9s\n",
      "17:\tlearn: 0.3565467\ttotal: 916ms\tremaining: 24.5s\n",
      "18:\tlearn: 0.3458542\ttotal: 962ms\tremaining: 24.3s\n",
      "19:\tlearn: 0.3367076\ttotal: 1s\tremaining: 24.1s\n",
      "20:\tlearn: 0.3287693\ttotal: 1.05s\tremaining: 23.9s\n",
      "21:\tlearn: 0.3218637\ttotal: 1.09s\tremaining: 23.6s\n",
      "22:\tlearn: 0.3151701\ttotal: 1.13s\tremaining: 23.4s\n",
      "23:\tlearn: 0.3097396\ttotal: 1.17s\tremaining: 23.2s\n",
      "24:\tlearn: 0.3049581\ttotal: 1.21s\tremaining: 23.1s\n",
      "25:\tlearn: 0.3010420\ttotal: 1.25s\tremaining: 22.9s\n",
      "26:\tlearn: 0.2974289\ttotal: 1.3s\tremaining: 22.7s\n",
      "27:\tlearn: 0.2940745\ttotal: 1.34s\tremaining: 22.6s\n",
      "28:\tlearn: 0.2911884\ttotal: 1.38s\tremaining: 22.5s\n",
      "29:\tlearn: 0.2890076\ttotal: 1.43s\tremaining: 22.3s\n",
      "30:\tlearn: 0.2867704\ttotal: 1.47s\tremaining: 22.2s\n",
      "31:\tlearn: 0.2848950\ttotal: 1.51s\tremaining: 22.1s\n",
      "32:\tlearn: 0.2831292\ttotal: 1.55s\tremaining: 21.9s\n",
      "33:\tlearn: 0.2813840\ttotal: 1.59s\tremaining: 21.8s\n",
      "34:\tlearn: 0.2800953\ttotal: 1.63s\tremaining: 21.7s\n",
      "35:\tlearn: 0.2787514\ttotal: 1.68s\tremaining: 21.6s\n",
      "36:\tlearn: 0.2772962\ttotal: 1.72s\tremaining: 21.5s\n",
      "37:\tlearn: 0.2762586\ttotal: 1.76s\tremaining: 21.4s\n",
      "38:\tlearn: 0.2750837\ttotal: 1.8s\tremaining: 21.3s\n",
      "39:\tlearn: 0.2738922\ttotal: 1.84s\tremaining: 21.2s\n",
      "40:\tlearn: 0.2729452\ttotal: 1.88s\tremaining: 21.1s\n",
      "41:\tlearn: 0.2719493\ttotal: 1.92s\tremaining: 21s\n",
      "42:\tlearn: 0.2710648\ttotal: 1.96s\tremaining: 20.9s\n",
      "43:\tlearn: 0.2701376\ttotal: 2s\tremaining: 20.7s\n",
      "44:\tlearn: 0.2694694\ttotal: 2.04s\tremaining: 20.6s\n",
      "45:\tlearn: 0.2685150\ttotal: 2.08s\tremaining: 20.6s\n",
      "46:\tlearn: 0.2678149\ttotal: 2.13s\tremaining: 20.5s\n",
      "47:\tlearn: 0.2667249\ttotal: 2.17s\tremaining: 20.4s\n",
      "48:\tlearn: 0.2656831\ttotal: 2.21s\tremaining: 20.3s\n",
      "49:\tlearn: 0.2650213\ttotal: 2.25s\tremaining: 20.3s\n",
      "50:\tlearn: 0.2643748\ttotal: 2.29s\tremaining: 20.2s\n",
      "51:\tlearn: 0.2638340\ttotal: 2.33s\tremaining: 20.1s\n",
      "52:\tlearn: 0.2630746\ttotal: 2.37s\tremaining: 20s\n",
      "53:\tlearn: 0.2623396\ttotal: 2.42s\tremaining: 20s\n",
      "54:\tlearn: 0.2616463\ttotal: 2.46s\tremaining: 19.9s\n",
      "55:\tlearn: 0.2612060\ttotal: 2.5s\tremaining: 19.8s\n",
      "56:\tlearn: 0.2605714\ttotal: 2.54s\tremaining: 19.7s\n",
      "57:\tlearn: 0.2601777\ttotal: 2.58s\tremaining: 19.7s\n",
      "58:\tlearn: 0.2597031\ttotal: 2.63s\tremaining: 19.6s\n",
      "59:\tlearn: 0.2591977\ttotal: 2.67s\tremaining: 19.6s\n",
      "60:\tlearn: 0.2586431\ttotal: 2.71s\tremaining: 19.5s\n",
      "61:\tlearn: 0.2582750\ttotal: 2.75s\tremaining: 19.4s\n",
      "62:\tlearn: 0.2576337\ttotal: 2.79s\tremaining: 19.3s\n",
      "63:\tlearn: 0.2569663\ttotal: 2.83s\tremaining: 19.3s\n",
      "64:\tlearn: 0.2564724\ttotal: 2.87s\tremaining: 19.2s\n",
      "65:\tlearn: 0.2560469\ttotal: 2.91s\tremaining: 19.2s\n",
      "66:\tlearn: 0.2554652\ttotal: 2.96s\tremaining: 19.1s\n",
      "67:\tlearn: 0.2548585\ttotal: 3s\tremaining: 19s\n",
      "68:\tlearn: 0.2543706\ttotal: 3.04s\tremaining: 19s\n",
      "69:\tlearn: 0.2538370\ttotal: 3.08s\tremaining: 18.9s\n",
      "70:\tlearn: 0.2533810\ttotal: 3.12s\tremaining: 18.8s\n",
      "71:\tlearn: 0.2528330\ttotal: 3.16s\tremaining: 18.8s\n",
      "72:\tlearn: 0.2522739\ttotal: 3.2s\tremaining: 18.7s\n",
      "73:\tlearn: 0.2517130\ttotal: 3.24s\tremaining: 18.7s\n",
      "74:\tlearn: 0.2512687\ttotal: 3.29s\tremaining: 18.6s\n",
      "75:\tlearn: 0.2509821\ttotal: 3.33s\tremaining: 18.6s\n",
      "76:\tlearn: 0.2505396\ttotal: 3.37s\tremaining: 18.5s\n",
      "77:\tlearn: 0.2503662\ttotal: 3.41s\tremaining: 18.5s\n",
      "78:\tlearn: 0.2499685\ttotal: 3.45s\tremaining: 18.4s\n",
      "79:\tlearn: 0.2494488\ttotal: 3.5s\tremaining: 18.4s\n",
      "80:\tlearn: 0.2489408\ttotal: 3.54s\tremaining: 18.3s\n",
      "81:\tlearn: 0.2485118\ttotal: 3.58s\tremaining: 18.2s\n",
      "82:\tlearn: 0.2483133\ttotal: 3.62s\tremaining: 18.2s\n",
      "83:\tlearn: 0.2479866\ttotal: 3.66s\tremaining: 18.1s\n",
      "84:\tlearn: 0.2476268\ttotal: 3.7s\tremaining: 18.1s\n",
      "85:\tlearn: 0.2472443\ttotal: 3.74s\tremaining: 18s\n",
      "86:\tlearn: 0.2468111\ttotal: 3.78s\tremaining: 18s\n",
      "87:\tlearn: 0.2466340\ttotal: 3.82s\tremaining: 17.9s\n",
      "88:\tlearn: 0.2463844\ttotal: 3.86s\tremaining: 17.8s\n",
      "89:\tlearn: 0.2461350\ttotal: 3.91s\tremaining: 17.8s\n",
      "90:\tlearn: 0.2458408\ttotal: 3.95s\tremaining: 17.8s\n",
      "91:\tlearn: 0.2455379\ttotal: 3.99s\tremaining: 17.7s\n",
      "92:\tlearn: 0.2452650\ttotal: 4.03s\tremaining: 17.6s\n",
      "93:\tlearn: 0.2448238\ttotal: 4.07s\tremaining: 17.6s\n",
      "94:\tlearn: 0.2445470\ttotal: 4.11s\tremaining: 17.5s\n",
      "95:\tlearn: 0.2443990\ttotal: 4.16s\tremaining: 17.5s\n",
      "96:\tlearn: 0.2442077\ttotal: 4.19s\tremaining: 17.4s\n",
      "97:\tlearn: 0.2439628\ttotal: 4.24s\tremaining: 17.4s\n",
      "98:\tlearn: 0.2435915\ttotal: 4.29s\tremaining: 17.4s\n",
      "99:\tlearn: 0.2433269\ttotal: 4.33s\tremaining: 17.3s\n",
      "100:\tlearn: 0.2429717\ttotal: 4.37s\tremaining: 17.3s\n",
      "101:\tlearn: 0.2425398\ttotal: 4.41s\tremaining: 17.2s\n",
      "102:\tlearn: 0.2422331\ttotal: 4.46s\tremaining: 17.2s\n",
      "103:\tlearn: 0.2419805\ttotal: 4.5s\tremaining: 17.1s\n",
      "104:\tlearn: 0.2416794\ttotal: 4.54s\tremaining: 17.1s\n",
      "105:\tlearn: 0.2415047\ttotal: 4.58s\tremaining: 17s\n",
      "106:\tlearn: 0.2411767\ttotal: 4.62s\tremaining: 17s\n",
      "107:\tlearn: 0.2407270\ttotal: 4.67s\tremaining: 16.9s\n",
      "108:\tlearn: 0.2405118\ttotal: 4.71s\tremaining: 16.9s\n",
      "109:\tlearn: 0.2401693\ttotal: 4.75s\tremaining: 16.8s\n",
      "110:\tlearn: 0.2398681\ttotal: 4.79s\tremaining: 16.8s\n",
      "111:\tlearn: 0.2395350\ttotal: 4.83s\tremaining: 16.7s\n",
      "112:\tlearn: 0.2392040\ttotal: 4.87s\tremaining: 16.7s\n",
      "113:\tlearn: 0.2390627\ttotal: 4.91s\tremaining: 16.6s\n",
      "114:\tlearn: 0.2388421\ttotal: 4.95s\tremaining: 16.6s\n",
      "115:\tlearn: 0.2387225\ttotal: 4.99s\tremaining: 16.5s\n",
      "116:\tlearn: 0.2384856\ttotal: 5.04s\tremaining: 16.5s\n",
      "117:\tlearn: 0.2381964\ttotal: 5.08s\tremaining: 16.4s\n",
      "118:\tlearn: 0.2378697\ttotal: 5.12s\tremaining: 16.4s\n",
      "119:\tlearn: 0.2375638\ttotal: 5.16s\tremaining: 16.3s\n",
      "120:\tlearn: 0.2374351\ttotal: 5.2s\tremaining: 16.3s\n",
      "121:\tlearn: 0.2370393\ttotal: 5.25s\tremaining: 16.3s\n",
      "122:\tlearn: 0.2367807\ttotal: 5.29s\tremaining: 16.2s\n",
      "123:\tlearn: 0.2364816\ttotal: 5.33s\tremaining: 16.2s\n",
      "124:\tlearn: 0.2362952\ttotal: 5.37s\tremaining: 16.1s\n",
      "125:\tlearn: 0.2360639\ttotal: 5.41s\tremaining: 16.1s\n",
      "126:\tlearn: 0.2357930\ttotal: 5.45s\tremaining: 16s\n",
      "127:\tlearn: 0.2355646\ttotal: 5.5s\tremaining: 16s\n",
      "128:\tlearn: 0.2353461\ttotal: 5.54s\tremaining: 15.9s\n",
      "129:\tlearn: 0.2351719\ttotal: 5.58s\tremaining: 15.9s\n",
      "130:\tlearn: 0.2348943\ttotal: 5.62s\tremaining: 15.8s\n",
      "131:\tlearn: 0.2345667\ttotal: 5.66s\tremaining: 15.8s\n",
      "132:\tlearn: 0.2343908\ttotal: 5.71s\tremaining: 15.8s\n",
      "133:\tlearn: 0.2342224\ttotal: 5.75s\tremaining: 15.7s\n",
      "134:\tlearn: 0.2338207\ttotal: 5.79s\tremaining: 15.7s\n",
      "135:\tlearn: 0.2335744\ttotal: 5.83s\tremaining: 15.6s\n",
      "136:\tlearn: 0.2334088\ttotal: 5.88s\tremaining: 15.6s\n",
      "137:\tlearn: 0.2331889\ttotal: 5.92s\tremaining: 15.5s\n",
      "138:\tlearn: 0.2330055\ttotal: 5.96s\tremaining: 15.5s\n",
      "139:\tlearn: 0.2327974\ttotal: 6s\tremaining: 15.4s\n",
      "140:\tlearn: 0.2326100\ttotal: 6.04s\tremaining: 15.4s\n",
      "141:\tlearn: 0.2324623\ttotal: 6.08s\tremaining: 15.3s\n",
      "142:\tlearn: 0.2322671\ttotal: 6.12s\tremaining: 15.3s\n",
      "143:\tlearn: 0.2320175\ttotal: 6.16s\tremaining: 15.2s\n",
      "144:\tlearn: 0.2317358\ttotal: 6.21s\tremaining: 15.2s\n",
      "145:\tlearn: 0.2313843\ttotal: 6.25s\tremaining: 15.2s\n",
      "146:\tlearn: 0.2311313\ttotal: 6.29s\tremaining: 15.1s\n",
      "147:\tlearn: 0.2308979\ttotal: 6.33s\tremaining: 15.1s\n",
      "148:\tlearn: 0.2307490\ttotal: 6.37s\tremaining: 15s\n",
      "149:\tlearn: 0.2306002\ttotal: 6.42s\tremaining: 15s\n",
      "150:\tlearn: 0.2303827\ttotal: 6.46s\tremaining: 14.9s\n",
      "151:\tlearn: 0.2302607\ttotal: 6.5s\tremaining: 14.9s\n",
      "152:\tlearn: 0.2299061\ttotal: 6.54s\tremaining: 14.8s\n",
      "153:\tlearn: 0.2297954\ttotal: 6.58s\tremaining: 14.8s\n",
      "154:\tlearn: 0.2294990\ttotal: 6.62s\tremaining: 14.7s\n",
      "155:\tlearn: 0.2293189\ttotal: 6.66s\tremaining: 14.7s\n",
      "156:\tlearn: 0.2292023\ttotal: 6.71s\tremaining: 14.6s\n",
      "157:\tlearn: 0.2290788\ttotal: 6.75s\tremaining: 14.6s\n",
      "158:\tlearn: 0.2288815\ttotal: 6.79s\tremaining: 14.6s\n",
      "159:\tlearn: 0.2287444\ttotal: 6.84s\tremaining: 14.5s\n",
      "160:\tlearn: 0.2284618\ttotal: 6.88s\tremaining: 14.5s\n",
      "161:\tlearn: 0.2282817\ttotal: 6.92s\tremaining: 14.4s\n",
      "162:\tlearn: 0.2280191\ttotal: 6.96s\tremaining: 14.4s\n",
      "163:\tlearn: 0.2278094\ttotal: 7.01s\tremaining: 14.4s\n"
     ]
    },
    {
     "name": "stdout",
     "output_type": "stream",
     "text": [
      "164:\tlearn: 0.2276866\ttotal: 7.05s\tremaining: 14.3s\n",
      "165:\tlearn: 0.2275350\ttotal: 7.09s\tremaining: 14.3s\n",
      "166:\tlearn: 0.2273925\ttotal: 7.13s\tremaining: 14.2s\n",
      "167:\tlearn: 0.2271930\ttotal: 7.17s\tremaining: 14.2s\n",
      "168:\tlearn: 0.2269422\ttotal: 7.21s\tremaining: 14.1s\n",
      "169:\tlearn: 0.2268648\ttotal: 7.26s\tremaining: 14.1s\n",
      "170:\tlearn: 0.2267061\ttotal: 7.3s\tremaining: 14s\n",
      "171:\tlearn: 0.2265626\ttotal: 7.34s\tremaining: 14s\n",
      "172:\tlearn: 0.2262753\ttotal: 7.38s\tremaining: 14s\n",
      "173:\tlearn: 0.2260275\ttotal: 7.42s\tremaining: 13.9s\n",
      "174:\tlearn: 0.2258205\ttotal: 7.47s\tremaining: 13.9s\n",
      "175:\tlearn: 0.2256141\ttotal: 7.51s\tremaining: 13.8s\n",
      "176:\tlearn: 0.2254971\ttotal: 7.55s\tremaining: 13.8s\n",
      "177:\tlearn: 0.2253126\ttotal: 7.59s\tremaining: 13.7s\n",
      "178:\tlearn: 0.2250544\ttotal: 7.64s\tremaining: 13.7s\n",
      "179:\tlearn: 0.2248026\ttotal: 7.67s\tremaining: 13.6s\n",
      "180:\tlearn: 0.2246522\ttotal: 7.72s\tremaining: 13.6s\n",
      "181:\tlearn: 0.2245576\ttotal: 7.76s\tremaining: 13.6s\n",
      "182:\tlearn: 0.2244203\ttotal: 7.8s\tremaining: 13.5s\n",
      "183:\tlearn: 0.2241994\ttotal: 7.84s\tremaining: 13.5s\n",
      "184:\tlearn: 0.2240089\ttotal: 7.88s\tremaining: 13.4s\n",
      "185:\tlearn: 0.2237831\ttotal: 7.92s\tremaining: 13.4s\n",
      "186:\tlearn: 0.2235809\ttotal: 7.96s\tremaining: 13.3s\n",
      "187:\tlearn: 0.2233798\ttotal: 8.01s\tremaining: 13.3s\n",
      "188:\tlearn: 0.2231980\ttotal: 8.05s\tremaining: 13.2s\n",
      "189:\tlearn: 0.2230300\ttotal: 8.09s\tremaining: 13.2s\n",
      "190:\tlearn: 0.2227611\ttotal: 8.13s\tremaining: 13.2s\n",
      "191:\tlearn: 0.2225321\ttotal: 8.18s\tremaining: 13.1s\n",
      "192:\tlearn: 0.2222680\ttotal: 8.22s\tremaining: 13.1s\n",
      "193:\tlearn: 0.2221245\ttotal: 8.26s\tremaining: 13s\n",
      "194:\tlearn: 0.2219526\ttotal: 8.31s\tremaining: 13s\n",
      "195:\tlearn: 0.2218112\ttotal: 8.35s\tremaining: 12.9s\n",
      "196:\tlearn: 0.2217495\ttotal: 8.39s\tremaining: 12.9s\n",
      "197:\tlearn: 0.2216184\ttotal: 8.43s\tremaining: 12.9s\n",
      "198:\tlearn: 0.2213742\ttotal: 8.47s\tremaining: 12.8s\n",
      "199:\tlearn: 0.2211333\ttotal: 8.51s\tremaining: 12.8s\n",
      "200:\tlearn: 0.2209941\ttotal: 8.55s\tremaining: 12.7s\n",
      "201:\tlearn: 0.2208434\ttotal: 8.6s\tremaining: 12.7s\n",
      "202:\tlearn: 0.2206786\ttotal: 8.64s\tremaining: 12.6s\n",
      "203:\tlearn: 0.2205804\ttotal: 8.68s\tremaining: 12.6s\n",
      "204:\tlearn: 0.2204758\ttotal: 8.74s\tremaining: 12.6s\n",
      "205:\tlearn: 0.2203532\ttotal: 8.78s\tremaining: 12.5s\n",
      "206:\tlearn: 0.2202445\ttotal: 8.82s\tremaining: 12.5s\n",
      "207:\tlearn: 0.2200109\ttotal: 8.87s\tremaining: 12.4s\n",
      "208:\tlearn: 0.2198540\ttotal: 8.91s\tremaining: 12.4s\n",
      "209:\tlearn: 0.2196687\ttotal: 8.95s\tremaining: 12.4s\n",
      "210:\tlearn: 0.2195808\ttotal: 8.99s\tremaining: 12.3s\n",
      "211:\tlearn: 0.2193148\ttotal: 9.04s\tremaining: 12.3s\n",
      "212:\tlearn: 0.2191543\ttotal: 9.08s\tremaining: 12.2s\n",
      "213:\tlearn: 0.2189539\ttotal: 9.12s\tremaining: 12.2s\n",
      "214:\tlearn: 0.2187663\ttotal: 9.16s\tremaining: 12.1s\n",
      "215:\tlearn: 0.2186063\ttotal: 9.21s\tremaining: 12.1s\n",
      "216:\tlearn: 0.2184554\ttotal: 9.25s\tremaining: 12.1s\n",
      "217:\tlearn: 0.2183173\ttotal: 9.29s\tremaining: 12s\n",
      "218:\tlearn: 0.2180781\ttotal: 9.33s\tremaining: 12s\n",
      "219:\tlearn: 0.2179765\ttotal: 9.37s\tremaining: 11.9s\n",
      "220:\tlearn: 0.2178237\ttotal: 9.41s\tremaining: 11.9s\n",
      "221:\tlearn: 0.2177143\ttotal: 9.46s\tremaining: 11.8s\n",
      "222:\tlearn: 0.2176248\ttotal: 9.5s\tremaining: 11.8s\n",
      "223:\tlearn: 0.2174639\ttotal: 9.54s\tremaining: 11.8s\n",
      "224:\tlearn: 0.2172800\ttotal: 9.58s\tremaining: 11.7s\n",
      "225:\tlearn: 0.2172261\ttotal: 9.63s\tremaining: 11.7s\n",
      "226:\tlearn: 0.2171229\ttotal: 9.67s\tremaining: 11.6s\n",
      "227:\tlearn: 0.2169670\ttotal: 9.71s\tremaining: 11.6s\n",
      "228:\tlearn: 0.2168629\ttotal: 9.75s\tremaining: 11.5s\n",
      "229:\tlearn: 0.2166784\ttotal: 9.79s\tremaining: 11.5s\n",
      "230:\tlearn: 0.2165740\ttotal: 9.83s\tremaining: 11.4s\n",
      "231:\tlearn: 0.2165213\ttotal: 9.87s\tremaining: 11.4s\n",
      "232:\tlearn: 0.2163966\ttotal: 9.91s\tremaining: 11.4s\n",
      "233:\tlearn: 0.2162621\ttotal: 9.96s\tremaining: 11.3s\n",
      "234:\tlearn: 0.2161044\ttotal: 10s\tremaining: 11.3s\n",
      "235:\tlearn: 0.2160188\ttotal: 10s\tremaining: 11.2s\n",
      "236:\tlearn: 0.2159666\ttotal: 10.1s\tremaining: 11.2s\n",
      "237:\tlearn: 0.2158559\ttotal: 10.1s\tremaining: 11.1s\n",
      "238:\tlearn: 0.2156947\ttotal: 10.2s\tremaining: 11.1s\n",
      "239:\tlearn: 0.2155968\ttotal: 10.2s\tremaining: 11.1s\n",
      "240:\tlearn: 0.2155186\ttotal: 10.3s\tremaining: 11s\n",
      "241:\tlearn: 0.2152892\ttotal: 10.3s\tremaining: 11s\n",
      "242:\tlearn: 0.2151312\ttotal: 10.3s\tremaining: 10.9s\n",
      "243:\tlearn: 0.2149926\ttotal: 10.4s\tremaining: 10.9s\n",
      "244:\tlearn: 0.2148989\ttotal: 10.4s\tremaining: 10.8s\n",
      "245:\tlearn: 0.2148365\ttotal: 10.5s\tremaining: 10.8s\n",
      "246:\tlearn: 0.2146899\ttotal: 10.5s\tremaining: 10.7s\n",
      "247:\tlearn: 0.2145631\ttotal: 10.5s\tremaining: 10.7s\n",
      "248:\tlearn: 0.2145275\ttotal: 10.6s\tremaining: 10.7s\n",
      "249:\tlearn: 0.2144315\ttotal: 10.6s\tremaining: 10.6s\n",
      "250:\tlearn: 0.2143369\ttotal: 10.7s\tremaining: 10.6s\n",
      "251:\tlearn: 0.2141478\ttotal: 10.7s\tremaining: 10.5s\n",
      "252:\tlearn: 0.2140543\ttotal: 10.7s\tremaining: 10.5s\n",
      "253:\tlearn: 0.2139825\ttotal: 10.8s\tremaining: 10.4s\n",
      "254:\tlearn: 0.2138341\ttotal: 10.8s\tremaining: 10.4s\n",
      "255:\tlearn: 0.2136700\ttotal: 10.9s\tremaining: 10.4s\n",
      "256:\tlearn: 0.2135115\ttotal: 10.9s\tremaining: 10.3s\n",
      "257:\tlearn: 0.2133266\ttotal: 10.9s\tremaining: 10.3s\n",
      "258:\tlearn: 0.2132668\ttotal: 11s\tremaining: 10.2s\n",
      "259:\tlearn: 0.2131367\ttotal: 11s\tremaining: 10.2s\n",
      "260:\tlearn: 0.2129282\ttotal: 11.1s\tremaining: 10.1s\n",
      "261:\tlearn: 0.2127954\ttotal: 11.1s\tremaining: 10.1s\n",
      "262:\tlearn: 0.2127318\ttotal: 11.2s\tremaining: 10.1s\n",
      "263:\tlearn: 0.2126276\ttotal: 11.2s\tremaining: 10s\n",
      "264:\tlearn: 0.2125456\ttotal: 11.2s\tremaining: 9.97s\n",
      "265:\tlearn: 0.2124657\ttotal: 11.3s\tremaining: 9.93s\n",
      "266:\tlearn: 0.2122483\ttotal: 11.3s\tremaining: 9.89s\n",
      "267:\tlearn: 0.2120554\ttotal: 11.4s\tremaining: 9.85s\n",
      "268:\tlearn: 0.2119100\ttotal: 11.4s\tremaining: 9.8s\n",
      "269:\tlearn: 0.2117708\ttotal: 11.5s\tremaining: 9.76s\n",
      "270:\tlearn: 0.2116686\ttotal: 11.5s\tremaining: 9.72s\n",
      "271:\tlearn: 0.2116140\ttotal: 11.5s\tremaining: 9.67s\n",
      "272:\tlearn: 0.2114109\ttotal: 11.6s\tremaining: 9.63s\n",
      "273:\tlearn: 0.2112072\ttotal: 11.6s\tremaining: 9.59s\n",
      "274:\tlearn: 0.2109995\ttotal: 11.7s\tremaining: 9.54s\n",
      "275:\tlearn: 0.2108383\ttotal: 11.7s\tremaining: 9.51s\n",
      "276:\tlearn: 0.2107175\ttotal: 11.8s\tremaining: 9.47s\n",
      "277:\tlearn: 0.2106356\ttotal: 11.8s\tremaining: 9.42s\n",
      "278:\tlearn: 0.2105502\ttotal: 11.8s\tremaining: 9.38s\n",
      "279:\tlearn: 0.2104465\ttotal: 11.9s\tremaining: 9.33s\n",
      "280:\tlearn: 0.2102376\ttotal: 11.9s\tremaining: 9.29s\n",
      "281:\tlearn: 0.2101505\ttotal: 12s\tremaining: 9.25s\n",
      "282:\tlearn: 0.2100193\ttotal: 12s\tremaining: 9.21s\n",
      "283:\tlearn: 0.2098549\ttotal: 12s\tremaining: 9.16s\n",
      "284:\tlearn: 0.2097773\ttotal: 12.1s\tremaining: 9.12s\n",
      "285:\tlearn: 0.2096441\ttotal: 12.1s\tremaining: 9.08s\n",
      "286:\tlearn: 0.2095387\ttotal: 12.2s\tremaining: 9.03s\n",
      "287:\tlearn: 0.2094275\ttotal: 12.2s\tremaining: 8.99s\n",
      "288:\tlearn: 0.2093498\ttotal: 12.3s\tremaining: 8.95s\n",
      "289:\tlearn: 0.2092719\ttotal: 12.3s\tremaining: 8.9s\n",
      "290:\tlearn: 0.2091904\ttotal: 12.3s\tremaining: 8.86s\n",
      "291:\tlearn: 0.2090444\ttotal: 12.4s\tremaining: 8.82s\n",
      "292:\tlearn: 0.2089367\ttotal: 12.4s\tremaining: 8.77s\n",
      "293:\tlearn: 0.2088637\ttotal: 12.5s\tremaining: 8.73s\n",
      "294:\tlearn: 0.2087732\ttotal: 12.5s\tremaining: 8.69s\n",
      "295:\tlearn: 0.2087076\ttotal: 12.5s\tremaining: 8.64s\n",
      "296:\tlearn: 0.2085839\ttotal: 12.6s\tremaining: 8.6s\n",
      "297:\tlearn: 0.2085248\ttotal: 12.6s\tremaining: 8.56s\n",
      "298:\tlearn: 0.2084059\ttotal: 12.7s\tremaining: 8.51s\n",
      "299:\tlearn: 0.2083536\ttotal: 12.7s\tremaining: 8.47s\n",
      "300:\tlearn: 0.2082720\ttotal: 12.7s\tremaining: 8.43s\n",
      "301:\tlearn: 0.2081359\ttotal: 12.8s\tremaining: 8.38s\n",
      "302:\tlearn: 0.2080310\ttotal: 12.8s\tremaining: 8.34s\n",
      "303:\tlearn: 0.2079062\ttotal: 12.9s\tremaining: 8.3s\n",
      "304:\tlearn: 0.2077488\ttotal: 12.9s\tremaining: 8.25s\n",
      "305:\tlearn: 0.2076094\ttotal: 13s\tremaining: 8.21s\n",
      "306:\tlearn: 0.2074557\ttotal: 13s\tremaining: 8.17s\n",
      "307:\tlearn: 0.2073473\ttotal: 13s\tremaining: 8.12s\n",
      "308:\tlearn: 0.2072146\ttotal: 13.1s\tremaining: 8.08s\n",
      "309:\tlearn: 0.2071324\ttotal: 13.1s\tremaining: 8.04s\n",
      "310:\tlearn: 0.2070216\ttotal: 13.2s\tremaining: 8s\n",
      "311:\tlearn: 0.2069436\ttotal: 13.2s\tremaining: 7.95s\n",
      "312:\tlearn: 0.2068692\ttotal: 13.2s\tremaining: 7.91s\n",
      "313:\tlearn: 0.2067569\ttotal: 13.3s\tremaining: 7.87s\n",
      "314:\tlearn: 0.2066733\ttotal: 13.3s\tremaining: 7.82s\n",
      "315:\tlearn: 0.2066261\ttotal: 13.4s\tremaining: 7.78s\n",
      "316:\tlearn: 0.2064965\ttotal: 13.4s\tremaining: 7.74s\n",
      "317:\tlearn: 0.2064580\ttotal: 13.4s\tremaining: 7.69s\n",
      "318:\tlearn: 0.2063733\ttotal: 13.5s\tremaining: 7.65s\n",
      "319:\tlearn: 0.2062474\ttotal: 13.5s\tremaining: 7.61s\n",
      "320:\tlearn: 0.2061143\ttotal: 13.6s\tremaining: 7.56s\n",
      "321:\tlearn: 0.2060339\ttotal: 13.6s\tremaining: 7.52s\n",
      "322:\tlearn: 0.2059866\ttotal: 13.6s\tremaining: 7.47s\n",
      "323:\tlearn: 0.2058905\ttotal: 13.7s\tremaining: 7.43s\n",
      "324:\tlearn: 0.2057846\ttotal: 13.7s\tremaining: 7.39s\n"
     ]
    },
    {
     "name": "stdout",
     "output_type": "stream",
     "text": [
      "325:\tlearn: 0.2056330\ttotal: 13.8s\tremaining: 7.35s\n",
      "326:\tlearn: 0.2055302\ttotal: 13.8s\tremaining: 7.3s\n",
      "327:\tlearn: 0.2054892\ttotal: 13.8s\tremaining: 7.26s\n",
      "328:\tlearn: 0.2053339\ttotal: 13.9s\tremaining: 7.22s\n",
      "329:\tlearn: 0.2052426\ttotal: 13.9s\tremaining: 7.17s\n",
      "330:\tlearn: 0.2051797\ttotal: 14s\tremaining: 7.13s\n",
      "331:\tlearn: 0.2050294\ttotal: 14s\tremaining: 7.09s\n",
      "332:\tlearn: 0.2049059\ttotal: 14s\tremaining: 7.04s\n",
      "333:\tlearn: 0.2048014\ttotal: 14.1s\tremaining: 7s\n",
      "334:\tlearn: 0.2046985\ttotal: 14.1s\tremaining: 6.96s\n",
      "335:\tlearn: 0.2045829\ttotal: 14.2s\tremaining: 6.91s\n",
      "336:\tlearn: 0.2045093\ttotal: 14.2s\tremaining: 6.87s\n",
      "337:\tlearn: 0.2044360\ttotal: 14.2s\tremaining: 6.83s\n",
      "338:\tlearn: 0.2043948\ttotal: 14.3s\tremaining: 6.79s\n",
      "339:\tlearn: 0.2042693\ttotal: 14.3s\tremaining: 6.75s\n",
      "340:\tlearn: 0.2042185\ttotal: 14.4s\tremaining: 6.71s\n",
      "341:\tlearn: 0.2041416\ttotal: 14.4s\tremaining: 6.66s\n",
      "342:\tlearn: 0.2040440\ttotal: 14.5s\tremaining: 6.62s\n",
      "343:\tlearn: 0.2039757\ttotal: 14.5s\tremaining: 6.58s\n",
      "344:\tlearn: 0.2038450\ttotal: 14.5s\tremaining: 6.53s\n",
      "345:\tlearn: 0.2037570\ttotal: 14.6s\tremaining: 6.49s\n",
      "346:\tlearn: 0.2036175\ttotal: 14.6s\tremaining: 6.45s\n",
      "347:\tlearn: 0.2035291\ttotal: 14.7s\tremaining: 6.4s\n",
      "348:\tlearn: 0.2034497\ttotal: 14.7s\tremaining: 6.36s\n",
      "349:\tlearn: 0.2033851\ttotal: 14.7s\tremaining: 6.32s\n",
      "350:\tlearn: 0.2032758\ttotal: 14.8s\tremaining: 6.28s\n",
      "351:\tlearn: 0.2031776\ttotal: 14.8s\tremaining: 6.23s\n",
      "352:\tlearn: 0.2030757\ttotal: 14.9s\tremaining: 6.19s\n",
      "353:\tlearn: 0.2029207\ttotal: 14.9s\tremaining: 6.15s\n",
      "354:\tlearn: 0.2028564\ttotal: 14.9s\tremaining: 6.11s\n",
      "355:\tlearn: 0.2027699\ttotal: 15s\tremaining: 6.06s\n",
      "356:\tlearn: 0.2026686\ttotal: 15s\tremaining: 6.02s\n",
      "357:\tlearn: 0.2026154\ttotal: 15.1s\tremaining: 5.97s\n",
      "358:\tlearn: 0.2024874\ttotal: 15.1s\tremaining: 5.93s\n",
      "359:\tlearn: 0.2023510\ttotal: 15.1s\tremaining: 5.89s\n",
      "360:\tlearn: 0.2022912\ttotal: 15.2s\tremaining: 5.85s\n",
      "361:\tlearn: 0.2021804\ttotal: 15.2s\tremaining: 5.81s\n",
      "362:\tlearn: 0.2020617\ttotal: 15.3s\tremaining: 5.76s\n",
      "363:\tlearn: 0.2019061\ttotal: 15.3s\tremaining: 5.72s\n",
      "364:\tlearn: 0.2017947\ttotal: 15.4s\tremaining: 5.68s\n",
      "365:\tlearn: 0.2016983\ttotal: 15.4s\tremaining: 5.64s\n",
      "366:\tlearn: 0.2016076\ttotal: 15.4s\tremaining: 5.59s\n",
      "367:\tlearn: 0.2014831\ttotal: 15.5s\tremaining: 5.55s\n",
      "368:\tlearn: 0.2013684\ttotal: 15.5s\tremaining: 5.51s\n",
      "369:\tlearn: 0.2012034\ttotal: 15.6s\tremaining: 5.47s\n",
      "370:\tlearn: 0.2011303\ttotal: 15.6s\tremaining: 5.43s\n",
      "371:\tlearn: 0.2010264\ttotal: 15.6s\tremaining: 5.38s\n",
      "372:\tlearn: 0.2008527\ttotal: 15.7s\tremaining: 5.34s\n",
      "373:\tlearn: 0.2007796\ttotal: 15.7s\tremaining: 5.3s\n",
      "374:\tlearn: 0.2007016\ttotal: 15.8s\tremaining: 5.25s\n",
      "375:\tlearn: 0.2005746\ttotal: 15.8s\tremaining: 5.21s\n",
      "376:\tlearn: 0.2004433\ttotal: 15.8s\tremaining: 5.17s\n",
      "377:\tlearn: 0.2003889\ttotal: 15.9s\tremaining: 5.13s\n",
      "378:\tlearn: 0.2003241\ttotal: 15.9s\tremaining: 5.08s\n",
      "379:\tlearn: 0.2002710\ttotal: 16s\tremaining: 5.04s\n",
      "380:\tlearn: 0.2001221\ttotal: 16s\tremaining: 5s\n",
      "381:\tlearn: 0.2000779\ttotal: 16s\tremaining: 4.96s\n",
      "382:\tlearn: 0.2000110\ttotal: 16.1s\tremaining: 4.91s\n",
      "383:\tlearn: 0.1998706\ttotal: 16.1s\tremaining: 4.87s\n",
      "384:\tlearn: 0.1997551\ttotal: 16.2s\tremaining: 4.83s\n",
      "385:\tlearn: 0.1996630\ttotal: 16.2s\tremaining: 4.79s\n",
      "386:\tlearn: 0.1995927\ttotal: 16.2s\tremaining: 4.74s\n",
      "387:\tlearn: 0.1995590\ttotal: 16.3s\tremaining: 4.7s\n",
      "388:\tlearn: 0.1994345\ttotal: 16.3s\tremaining: 4.66s\n",
      "389:\tlearn: 0.1992793\ttotal: 16.4s\tremaining: 4.62s\n",
      "390:\tlearn: 0.1991890\ttotal: 16.4s\tremaining: 4.57s\n",
      "391:\tlearn: 0.1991341\ttotal: 16.5s\tremaining: 4.53s\n",
      "392:\tlearn: 0.1990996\ttotal: 16.5s\tremaining: 4.49s\n",
      "393:\tlearn: 0.1990154\ttotal: 16.5s\tremaining: 4.45s\n",
      "394:\tlearn: 0.1989045\ttotal: 16.6s\tremaining: 4.41s\n",
      "395:\tlearn: 0.1987787\ttotal: 16.6s\tremaining: 4.36s\n",
      "396:\tlearn: 0.1986990\ttotal: 16.7s\tremaining: 4.32s\n",
      "397:\tlearn: 0.1986786\ttotal: 16.7s\tremaining: 4.28s\n",
      "398:\tlearn: 0.1986189\ttotal: 16.7s\tremaining: 4.24s\n",
      "399:\tlearn: 0.1985212\ttotal: 16.8s\tremaining: 4.19s\n",
      "400:\tlearn: 0.1984290\ttotal: 16.8s\tremaining: 4.15s\n",
      "401:\tlearn: 0.1981735\ttotal: 16.9s\tremaining: 4.11s\n",
      "402:\tlearn: 0.1980975\ttotal: 16.9s\tremaining: 4.07s\n",
      "403:\tlearn: 0.1980030\ttotal: 16.9s\tremaining: 4.03s\n",
      "404:\tlearn: 0.1979130\ttotal: 17s\tremaining: 3.98s\n",
      "405:\tlearn: 0.1977725\ttotal: 17s\tremaining: 3.94s\n",
      "406:\tlearn: 0.1977366\ttotal: 17.1s\tremaining: 3.9s\n",
      "407:\tlearn: 0.1977072\ttotal: 17.1s\tremaining: 3.86s\n",
      "408:\tlearn: 0.1975730\ttotal: 17.1s\tremaining: 3.81s\n",
      "409:\tlearn: 0.1974977\ttotal: 17.2s\tremaining: 3.77s\n",
      "410:\tlearn: 0.1973949\ttotal: 17.2s\tremaining: 3.73s\n",
      "411:\tlearn: 0.1973334\ttotal: 17.3s\tremaining: 3.69s\n",
      "412:\tlearn: 0.1972928\ttotal: 17.3s\tremaining: 3.65s\n",
      "413:\tlearn: 0.1971892\ttotal: 17.3s\tremaining: 3.6s\n",
      "414:\tlearn: 0.1971561\ttotal: 17.4s\tremaining: 3.56s\n",
      "415:\tlearn: 0.1970448\ttotal: 17.4s\tremaining: 3.52s\n",
      "416:\tlearn: 0.1969407\ttotal: 17.5s\tremaining: 3.48s\n",
      "417:\tlearn: 0.1968368\ttotal: 17.5s\tremaining: 3.44s\n",
      "418:\tlearn: 0.1967409\ttotal: 17.6s\tremaining: 3.39s\n",
      "419:\tlearn: 0.1966700\ttotal: 17.6s\tremaining: 3.35s\n",
      "420:\tlearn: 0.1965902\ttotal: 17.6s\tremaining: 3.31s\n",
      "421:\tlearn: 0.1965345\ttotal: 17.7s\tremaining: 3.27s\n",
      "422:\tlearn: 0.1964153\ttotal: 17.7s\tremaining: 3.23s\n",
      "423:\tlearn: 0.1963230\ttotal: 17.8s\tremaining: 3.18s\n",
      "424:\tlearn: 0.1962700\ttotal: 17.8s\tremaining: 3.14s\n",
      "425:\tlearn: 0.1962350\ttotal: 17.8s\tremaining: 3.1s\n",
      "426:\tlearn: 0.1961807\ttotal: 17.9s\tremaining: 3.06s\n",
      "427:\tlearn: 0.1960505\ttotal: 17.9s\tremaining: 3.01s\n",
      "428:\tlearn: 0.1959449\ttotal: 18s\tremaining: 2.97s\n",
      "429:\tlearn: 0.1958538\ttotal: 18s\tremaining: 2.93s\n",
      "430:\tlearn: 0.1957902\ttotal: 18s\tremaining: 2.89s\n",
      "431:\tlearn: 0.1957282\ttotal: 18.1s\tremaining: 2.85s\n",
      "432:\tlearn: 0.1955896\ttotal: 18.1s\tremaining: 2.8s\n",
      "433:\tlearn: 0.1955149\ttotal: 18.2s\tremaining: 2.76s\n",
      "434:\tlearn: 0.1954027\ttotal: 18.2s\tremaining: 2.72s\n",
      "435:\tlearn: 0.1953440\ttotal: 18.2s\tremaining: 2.68s\n",
      "436:\tlearn: 0.1952978\ttotal: 18.3s\tremaining: 2.63s\n",
      "437:\tlearn: 0.1952483\ttotal: 18.3s\tremaining: 2.59s\n",
      "438:\tlearn: 0.1951393\ttotal: 18.4s\tremaining: 2.55s\n",
      "439:\tlearn: 0.1949815\ttotal: 18.4s\tremaining: 2.51s\n",
      "440:\tlearn: 0.1949470\ttotal: 18.4s\tremaining: 2.47s\n",
      "441:\tlearn: 0.1948872\ttotal: 18.5s\tremaining: 2.43s\n",
      "442:\tlearn: 0.1948579\ttotal: 18.5s\tremaining: 2.38s\n",
      "443:\tlearn: 0.1947526\ttotal: 18.6s\tremaining: 2.34s\n",
      "444:\tlearn: 0.1946876\ttotal: 18.6s\tremaining: 2.3s\n",
      "445:\tlearn: 0.1946207\ttotal: 18.7s\tremaining: 2.26s\n",
      "446:\tlearn: 0.1945638\ttotal: 18.7s\tremaining: 2.22s\n",
      "447:\tlearn: 0.1944786\ttotal: 18.7s\tremaining: 2.17s\n",
      "448:\tlearn: 0.1943762\ttotal: 18.8s\tremaining: 2.13s\n",
      "449:\tlearn: 0.1943255\ttotal: 18.8s\tremaining: 2.09s\n",
      "450:\tlearn: 0.1942520\ttotal: 18.9s\tremaining: 2.05s\n",
      "451:\tlearn: 0.1941415\ttotal: 18.9s\tremaining: 2.01s\n",
      "452:\tlearn: 0.1940055\ttotal: 18.9s\tremaining: 1.97s\n",
      "453:\tlearn: 0.1939691\ttotal: 19s\tremaining: 1.92s\n",
      "454:\tlearn: 0.1938762\ttotal: 19s\tremaining: 1.88s\n",
      "455:\tlearn: 0.1937622\ttotal: 19.1s\tremaining: 1.84s\n",
      "456:\tlearn: 0.1936428\ttotal: 19.1s\tremaining: 1.8s\n",
      "457:\tlearn: 0.1935343\ttotal: 19.1s\tremaining: 1.75s\n",
      "458:\tlearn: 0.1934682\ttotal: 19.2s\tremaining: 1.71s\n",
      "459:\tlearn: 0.1933445\ttotal: 19.2s\tremaining: 1.67s\n",
      "460:\tlearn: 0.1933122\ttotal: 19.3s\tremaining: 1.63s\n",
      "461:\tlearn: 0.1932519\ttotal: 19.3s\tremaining: 1.59s\n",
      "462:\tlearn: 0.1931730\ttotal: 19.3s\tremaining: 1.55s\n",
      "463:\tlearn: 0.1930235\ttotal: 19.4s\tremaining: 1.5s\n",
      "464:\tlearn: 0.1929664\ttotal: 19.4s\tremaining: 1.46s\n",
      "465:\tlearn: 0.1928865\ttotal: 19.5s\tremaining: 1.42s\n",
      "466:\tlearn: 0.1928097\ttotal: 19.5s\tremaining: 1.38s\n",
      "467:\tlearn: 0.1926828\ttotal: 19.6s\tremaining: 1.34s\n",
      "468:\tlearn: 0.1926374\ttotal: 19.6s\tremaining: 1.29s\n",
      "469:\tlearn: 0.1924776\ttotal: 19.6s\tremaining: 1.25s\n",
      "470:\tlearn: 0.1924378\ttotal: 19.7s\tremaining: 1.21s\n",
      "471:\tlearn: 0.1923558\ttotal: 19.7s\tremaining: 1.17s\n",
      "472:\tlearn: 0.1923052\ttotal: 19.8s\tremaining: 1.13s\n",
      "473:\tlearn: 0.1921978\ttotal: 19.8s\tremaining: 1.09s\n",
      "474:\tlearn: 0.1921078\ttotal: 19.9s\tremaining: 1.04s\n",
      "475:\tlearn: 0.1920668\ttotal: 19.9s\tremaining: 1s\n",
      "476:\tlearn: 0.1920226\ttotal: 19.9s\tremaining: 961ms\n",
      "477:\tlearn: 0.1919487\ttotal: 20s\tremaining: 920ms\n",
      "478:\tlearn: 0.1918949\ttotal: 20s\tremaining: 878ms\n",
      "479:\tlearn: 0.1918149\ttotal: 20.1s\tremaining: 836ms\n",
      "480:\tlearn: 0.1917527\ttotal: 20.1s\tremaining: 794ms\n",
      "481:\tlearn: 0.1917160\ttotal: 20.2s\tremaining: 753ms\n",
      "482:\tlearn: 0.1916024\ttotal: 20.2s\tremaining: 711ms\n",
      "483:\tlearn: 0.1914892\ttotal: 20.2s\tremaining: 669ms\n",
      "484:\tlearn: 0.1913995\ttotal: 20.3s\tremaining: 627ms\n"
     ]
    },
    {
     "name": "stdout",
     "output_type": "stream",
     "text": [
      "485:\tlearn: 0.1913152\ttotal: 20.3s\tremaining: 586ms\n",
      "486:\tlearn: 0.1912622\ttotal: 20.4s\tremaining: 544ms\n",
      "487:\tlearn: 0.1911327\ttotal: 20.4s\tremaining: 502ms\n",
      "488:\tlearn: 0.1910297\ttotal: 20.5s\tremaining: 460ms\n",
      "489:\tlearn: 0.1909796\ttotal: 20.5s\tremaining: 418ms\n",
      "490:\tlearn: 0.1909049\ttotal: 20.5s\tremaining: 376ms\n",
      "491:\tlearn: 0.1908178\ttotal: 20.6s\tremaining: 335ms\n",
      "492:\tlearn: 0.1907961\ttotal: 20.6s\tremaining: 293ms\n",
      "493:\tlearn: 0.1907080\ttotal: 20.7s\tremaining: 251ms\n",
      "494:\tlearn: 0.1906385\ttotal: 20.7s\tremaining: 209ms\n",
      "495:\tlearn: 0.1906008\ttotal: 20.7s\tremaining: 167ms\n",
      "496:\tlearn: 0.1905538\ttotal: 20.8s\tremaining: 125ms\n",
      "497:\tlearn: 0.1904772\ttotal: 20.8s\tremaining: 83.6ms\n",
      "498:\tlearn: 0.1904425\ttotal: 20.9s\tremaining: 41.8ms\n",
      "499:\tlearn: 0.1904127\ttotal: 20.9s\tremaining: 0us\n"
     ]
    },
    {
     "data": {
      "text/plain": [
       "<catboost.core.CatBoostRegressor at 0x230b4485b20>"
      ]
     },
     "execution_count": 112,
     "metadata": {},
     "output_type": "execute_result"
    }
   ],
   "source": [
    "cbr = CatBoostRegressor(loss_function='RMSE',\n",
    "                        thread_count=4,\n",
    "                        depth=10,\n",
    "                        l2_leaf_reg=1,\n",
    "                        iterations=500,\n",
    "                        learning_rate=0.1)\n",
    "\n",
    "cbr.fit(X_train, y_train)"
   ]
  },
  {
   "cell_type": "code",
   "execution_count": null,
   "metadata": {},
   "outputs": [],
   "source": [
    "submission_cat_boost = pd.DataFrame({\n",
    "    'sell_id':\n",
    "    sell_id,\n",
    "    'price':\n",
    "    np.exp(cbr.predict(X_test)) * 0.905\n",
    "})"
   ]
  },
  {
   "cell_type": "code",
   "execution_count": null,
   "metadata": {},
   "outputs": [],
   "source": [
    "submission_cat_boost.to_csv('submission_cat_boost.csv', index=False)"
   ]
  },
  {
   "cell_type": "markdown",
   "metadata": {},
   "source": [
    "# XGBoost"
   ]
  },
  {
   "cell_type": "code",
   "execution_count": 90,
   "metadata": {},
   "outputs": [
    {
     "name": "stdout",
     "output_type": "stream",
     "text": [
      "[17:30:51] WARNING: C:/Users/Administrator/workspace/xgboost-win64_release_1.4.0/src/learner.cc:573: \n",
      "Parameters: { \"silent\" } might not be used.\n",
      "\n",
      "  This may not be accurate due to some parameters are only used in language bindings but\n",
      "  passed down to XGBoost core.  Or some parameters are not used but slip through this\n",
      "  verification. Please open an issue if you find above cases.\n",
      "\n",
      "\n"
     ]
    }
   ],
   "source": [
    "# Training xgboost model\n",
    "xg_reg = xgb.XGBRegressor(objective='reg:squarederror', colsample_bytree=0.5,\n",
    "                          learning_rate=0.05, max_depth=12, alpha=1,\n",
    "                          n_estimators=1000, silent=1)\n",
    "xg_reg.fit(X_train, y_train)\n",
    "xg_red_pred = xg_reg.predict(X_val)"
   ]
  },
  {
   "cell_type": "code",
   "execution_count": 91,
   "metadata": {
    "scrolled": true
   },
   "outputs": [
    {
     "data": {
      "text/html": [
       "<div>\n",
       "<style scoped>\n",
       "    .dataframe tbody tr th:only-of-type {\n",
       "        vertical-align: middle;\n",
       "    }\n",
       "\n",
       "    .dataframe tbody tr th {\n",
       "        vertical-align: top;\n",
       "    }\n",
       "\n",
       "    .dataframe thead th {\n",
       "        text-align: right;\n",
       "    }\n",
       "</style>\n",
       "<table border=\"1\" class=\"dataframe\">\n",
       "  <thead>\n",
       "    <tr style=\"text-align: right;\">\n",
       "      <th></th>\n",
       "      <th>MAPE</th>\n",
       "      <th>MAE</th>\n",
       "      <th>MSE</th>\n",
       "      <th>RMSE</th>\n",
       "    </tr>\n",
       "  </thead>\n",
       "  <tbody>\n",
       "    <tr>\n",
       "      <th>ExtraTree_baseline</th>\n",
       "      <td>15.282322</td>\n",
       "      <td>117142.087775</td>\n",
       "      <td>9.258594e+10</td>\n",
       "      <td>304279.377166</td>\n",
       "    </tr>\n",
       "    <tr>\n",
       "      <th>XGBoost_1</th>\n",
       "      <td>15.227861</td>\n",
       "      <td>118196.924462</td>\n",
       "      <td>9.005006e+10</td>\n",
       "      <td>300083.415508</td>\n",
       "    </tr>\n",
       "  </tbody>\n",
       "</table>\n",
       "</div>"
      ],
      "text/plain": [
       "                         MAPE            MAE           MSE           RMSE\n",
       "ExtraTree_baseline  15.282322  117142.087775  9.258594e+10  304279.377166\n",
       "XGBoost_1           15.227861  118196.924462  9.005006e+10  300083.415508"
      ]
     },
     "execution_count": 91,
     "metadata": {},
     "output_type": "execute_result"
    }
   ],
   "source": [
    "df_report = get_regression_metrics(df_report,y_val,xg_red_pred, 'XGBoost_1')\n",
    "df_report"
   ]
  },
  {
   "cell_type": "code",
   "execution_count": 92,
   "metadata": {
    "scrolled": false
   },
   "outputs": [
    {
     "data": {
      "image/png": "[encoded data removed]",
      "text/plain": [
       "<Figure size 1080x1080 with 1 Axes>"
      ]
     },
     "metadata": {},
     "output_type": "display_data"
    }
   ],
   "source": [
    "fig, ax = plt.subplots(1,1,figsize=(15,15))\n",
    "plot_importance(xg_reg,ax=ax);"
   ]
  },
  {
   "cell_type": "code",
   "execution_count": null,
   "metadata": {},
   "outputs": [],
   "source": [
    "# submission_XGboost = pd.DataFrame({'sell_id': sell_id,\n",
    "#                            'price': np.exp(xg_reg.predict(X_test))*0.905})\n",
    "\n",
    "# submission_XGboost.to_csv('submission_XGboost.csv', index=False)"
   ]
  },
  {
   "cell_type": "markdown",
   "metadata": {},
   "source": [
    "# LGBM"
   ]
  },
  {
   "cell_type": "code",
   "execution_count": 101,
   "metadata": {},
   "outputs": [
    {
     "name": "stdout",
     "output_type": "stream",
     "text": [
      "[1]\tvalid_0's l1: 0.906772\tvalid_0's mape: 0.067942\n",
      "Training until validation scores don't improve for 100 rounds\n",
      "[2]\tvalid_0's l1: 0.863771\tvalid_0's mape: 0.0647327\n",
      "[3]\tvalid_0's l1: 0.823213\tvalid_0's mape: 0.0617061\n",
      "[4]\tvalid_0's l1: 0.784584\tvalid_0's mape: 0.0588227\n",
      "[5]\tvalid_0's l1: 0.747833\tvalid_0's mape: 0.0560792\n",
      "[6]\tvalid_0's l1: 0.713135\tvalid_0's mape: 0.0534895\n",
      "[7]\tvalid_0's l1: 0.680279\tvalid_0's mape: 0.0510366\n",
      "[8]\tvalid_0's l1: 0.649146\tvalid_0's mape: 0.0487128\n",
      "[9]\tvalid_0's l1: 0.619689\tvalid_0's mape: 0.046514\n",
      "[10]\tvalid_0's l1: 0.591875\tvalid_0's mape: 0.0444382\n",
      "[11]\tvalid_0's l1: 0.565365\tvalid_0's mape: 0.0424596\n",
      "[12]\tvalid_0's l1: 0.540402\tvalid_0's mape: 0.0405974\n",
      "[13]\tvalid_0's l1: 0.516909\tvalid_0's mape: 0.0388442\n",
      "[14]\tvalid_0's l1: 0.49461\tvalid_0's mape: 0.0371809\n",
      "[15]\tvalid_0's l1: 0.473478\tvalid_0's mape: 0.0356038\n",
      "[16]\tvalid_0's l1: 0.453621\tvalid_0's mape: 0.0341237\n",
      "[17]\tvalid_0's l1: 0.434658\tvalid_0's mape: 0.0327087\n",
      "[18]\tvalid_0's l1: 0.416896\tvalid_0's mape: 0.0313832\n",
      "[19]\tvalid_0's l1: 0.400036\tvalid_0's mape: 0.0301262\n",
      "[20]\tvalid_0's l1: 0.384192\tvalid_0's mape: 0.0289447\n",
      "[21]\tvalid_0's l1: 0.369186\tvalid_0's mape: 0.0278277\n",
      "[22]\tvalid_0's l1: 0.355222\tvalid_0's mape: 0.0267878\n",
      "[23]\tvalid_0's l1: 0.342147\tvalid_0's mape: 0.025815\n",
      "[24]\tvalid_0's l1: 0.329771\tvalid_0's mape: 0.0248945\n",
      "[25]\tvalid_0's l1: 0.318277\tvalid_0's mape: 0.0240394\n",
      "[26]\tvalid_0's l1: 0.307442\tvalid_0's mape: 0.0232343\n",
      "[27]\tvalid_0's l1: 0.297238\tvalid_0's mape: 0.0224772\n",
      "[28]\tvalid_0's l1: 0.287584\tvalid_0's mape: 0.0217603\n",
      "[29]\tvalid_0's l1: 0.278533\tvalid_0's mape: 0.0210887\n",
      "[30]\tvalid_0's l1: 0.270034\tvalid_0's mape: 0.0204583\n",
      "[31]\tvalid_0's l1: 0.262135\tvalid_0's mape: 0.0198731\n",
      "[32]\tvalid_0's l1: 0.254669\tvalid_0's mape: 0.0193204\n",
      "[33]\tvalid_0's l1: 0.24779\tvalid_0's mape: 0.0188118\n",
      "[34]\tvalid_0's l1: 0.24132\tvalid_0's mape: 0.0183336\n",
      "[35]\tvalid_0's l1: 0.235306\tvalid_0's mape: 0.01789\n",
      "[36]\tvalid_0's l1: 0.229695\tvalid_0's mape: 0.0174764\n",
      "[37]\tvalid_0's l1: 0.224556\tvalid_0's mape: 0.0170978\n",
      "[38]\tvalid_0's l1: 0.219774\tvalid_0's mape: 0.0167462\n",
      "[39]\tvalid_0's l1: 0.215268\tvalid_0's mape: 0.0164152\n",
      "[40]\tvalid_0's l1: 0.211066\tvalid_0's mape: 0.0161069\n",
      "[41]\tvalid_0's l1: 0.20724\tvalid_0's mape: 0.0158273\n",
      "[42]\tvalid_0's l1: 0.203573\tvalid_0's mape: 0.0155591\n",
      "[43]\tvalid_0's l1: 0.200254\tvalid_0's mape: 0.0153172\n",
      "[44]\tvalid_0's l1: 0.19706\tvalid_0's mape: 0.0150844\n",
      "[45]\tvalid_0's l1: 0.194108\tvalid_0's mape: 0.0148689\n",
      "[46]\tvalid_0's l1: 0.191394\tvalid_0's mape: 0.0146711\n",
      "[47]\tvalid_0's l1: 0.188864\tvalid_0's mape: 0.0144872\n",
      "[48]\tvalid_0's l1: 0.18643\tvalid_0's mape: 0.0143104\n",
      "[49]\tvalid_0's l1: 0.184239\tvalid_0's mape: 0.0141514\n",
      "[50]\tvalid_0's l1: 0.182075\tvalid_0's mape: 0.0139942\n",
      "[51]\tvalid_0's l1: 0.180186\tvalid_0's mape: 0.0138571\n",
      "[52]\tvalid_0's l1: 0.178276\tvalid_0's mape: 0.0137187\n",
      "[53]\tvalid_0's l1: 0.176696\tvalid_0's mape: 0.0136042\n",
      "[54]\tvalid_0's l1: 0.175174\tvalid_0's mape: 0.0134937\n",
      "[55]\tvalid_0's l1: 0.173739\tvalid_0's mape: 0.0133901\n",
      "[56]\tvalid_0's l1: 0.172472\tvalid_0's mape: 0.013298\n",
      "[57]\tvalid_0's l1: 0.171281\tvalid_0's mape: 0.0132119\n",
      "[58]\tvalid_0's l1: 0.170113\tvalid_0's mape: 0.0131282\n",
      "[59]\tvalid_0's l1: 0.168944\tvalid_0's mape: 0.013044\n",
      "[60]\tvalid_0's l1: 0.16801\tvalid_0's mape: 0.0129771\n",
      "[61]\tvalid_0's l1: 0.16714\tvalid_0's mape: 0.0129136\n",
      "[62]\tvalid_0's l1: 0.166344\tvalid_0's mape: 0.0128559\n",
      "[63]\tvalid_0's l1: 0.165578\tvalid_0's mape: 0.0127999\n",
      "[64]\tvalid_0's l1: 0.164792\tvalid_0's mape: 0.0127434\n",
      "[65]\tvalid_0's l1: 0.164095\tvalid_0's mape: 0.012693\n",
      "[66]\tvalid_0's l1: 0.16346\tvalid_0's mape: 0.0126471\n",
      "[67]\tvalid_0's l1: 0.162908\tvalid_0's mape: 0.0126073\n",
      "[68]\tvalid_0's l1: 0.162388\tvalid_0's mape: 0.0125701\n",
      "[69]\tvalid_0's l1: 0.161904\tvalid_0's mape: 0.0125352\n",
      "[70]\tvalid_0's l1: 0.161477\tvalid_0's mape: 0.012504\n",
      "[71]\tvalid_0's l1: 0.160926\tvalid_0's mape: 0.0124647\n",
      "[72]\tvalid_0's l1: 0.160464\tvalid_0's mape: 0.0124312\n",
      "[73]\tvalid_0's l1: 0.160072\tvalid_0's mape: 0.012403\n",
      "[74]\tvalid_0's l1: 0.159664\tvalid_0's mape: 0.0123735\n",
      "[75]\tvalid_0's l1: 0.15931\tvalid_0's mape: 0.0123473\n",
      "[76]\tvalid_0's l1: 0.159003\tvalid_0's mape: 0.0123246\n",
      "[77]\tvalid_0's l1: 0.158714\tvalid_0's mape: 0.0123033\n",
      "[78]\tvalid_0's l1: 0.158381\tvalid_0's mape: 0.0122791\n",
      "[79]\tvalid_0's l1: 0.158107\tvalid_0's mape: 0.0122593\n",
      "[80]\tvalid_0's l1: 0.157795\tvalid_0's mape: 0.0122368\n",
      "[81]\tvalid_0's l1: 0.157501\tvalid_0's mape: 0.0122159\n",
      "[82]\tvalid_0's l1: 0.157264\tvalid_0's mape: 0.0121989\n",
      "[83]\tvalid_0's l1: 0.157068\tvalid_0's mape: 0.0121847\n",
      "[84]\tvalid_0's l1: 0.156851\tvalid_0's mape: 0.012169\n",
      "[85]\tvalid_0's l1: 0.1566\tvalid_0's mape: 0.0121509\n",
      "[86]\tvalid_0's l1: 0.156465\tvalid_0's mape: 0.0121412\n",
      "[87]\tvalid_0's l1: 0.156278\tvalid_0's mape: 0.0121279\n",
      "[88]\tvalid_0's l1: 0.156052\tvalid_0's mape: 0.0121117\n",
      "[89]\tvalid_0's l1: 0.155909\tvalid_0's mape: 0.0121013\n",
      "[90]\tvalid_0's l1: 0.155706\tvalid_0's mape: 0.0120869\n",
      "[91]\tvalid_0's l1: 0.155452\tvalid_0's mape: 0.0120689\n",
      "[92]\tvalid_0's l1: 0.155261\tvalid_0's mape: 0.0120555\n",
      "[93]\tvalid_0's l1: 0.155034\tvalid_0's mape: 0.0120392\n",
      "[94]\tvalid_0's l1: 0.154872\tvalid_0's mape: 0.0120277\n",
      "[95]\tvalid_0's l1: 0.154759\tvalid_0's mape: 0.0120199\n",
      "[96]\tvalid_0's l1: 0.154562\tvalid_0's mape: 0.0120059\n",
      "[97]\tvalid_0's l1: 0.154378\tvalid_0's mape: 0.0119931\n",
      "[98]\tvalid_0's l1: 0.154281\tvalid_0's mape: 0.0119858\n",
      "[99]\tvalid_0's l1: 0.154092\tvalid_0's mape: 0.0119722\n",
      "[100]\tvalid_0's l1: 0.154018\tvalid_0's mape: 0.011967\n",
      "[101]\tvalid_0's l1: 0.153927\tvalid_0's mape: 0.0119601\n",
      "[102]\tvalid_0's l1: 0.15382\tvalid_0's mape: 0.0119522\n",
      "[103]\tvalid_0's l1: 0.153654\tvalid_0's mape: 0.0119398\n",
      "[104]\tvalid_0's l1: 0.153517\tvalid_0's mape: 0.01193\n",
      "[105]\tvalid_0's l1: 0.153413\tvalid_0's mape: 0.0119224\n",
      "[106]\tvalid_0's l1: 0.15334\tvalid_0's mape: 0.0119171\n",
      "[107]\tvalid_0's l1: 0.153166\tvalid_0's mape: 0.0119047\n",
      "[108]\tvalid_0's l1: 0.153024\tvalid_0's mape: 0.0118942\n",
      "[109]\tvalid_0's l1: 0.152949\tvalid_0's mape: 0.0118889\n",
      "[110]\tvalid_0's l1: 0.152864\tvalid_0's mape: 0.0118826\n",
      "[111]\tvalid_0's l1: 0.152773\tvalid_0's mape: 0.0118759\n",
      "[112]\tvalid_0's l1: 0.152735\tvalid_0's mape: 0.011873\n",
      "[113]\tvalid_0's l1: 0.152684\tvalid_0's mape: 0.0118692\n",
      "[114]\tvalid_0's l1: 0.152618\tvalid_0's mape: 0.0118642\n",
      "[115]\tvalid_0's l1: 0.152573\tvalid_0's mape: 0.0118609\n",
      "[116]\tvalid_0's l1: 0.152527\tvalid_0's mape: 0.0118574\n",
      "[117]\tvalid_0's l1: 0.152508\tvalid_0's mape: 0.0118559\n",
      "[118]\tvalid_0's l1: 0.152462\tvalid_0's mape: 0.0118525\n",
      "[119]\tvalid_0's l1: 0.152426\tvalid_0's mape: 0.0118498\n",
      "[120]\tvalid_0's l1: 0.152365\tvalid_0's mape: 0.0118451\n",
      "[121]\tvalid_0's l1: 0.152226\tvalid_0's mape: 0.0118351\n",
      "[122]\tvalid_0's l1: 0.152087\tvalid_0's mape: 0.0118251\n",
      "[123]\tvalid_0's l1: 0.151959\tvalid_0's mape: 0.0118159\n",
      "[124]\tvalid_0's l1: 0.151864\tvalid_0's mape: 0.0118092\n",
      "[125]\tvalid_0's l1: 0.151746\tvalid_0's mape: 0.0118007\n",
      "[126]\tvalid_0's l1: 0.151665\tvalid_0's mape: 0.0117948\n",
      "[127]\tvalid_0's l1: 0.151531\tvalid_0's mape: 0.0117853\n",
      "[128]\tvalid_0's l1: 0.151435\tvalid_0's mape: 0.0117784\n",
      "[129]\tvalid_0's l1: 0.151406\tvalid_0's mape: 0.011776\n",
      "[130]\tvalid_0's l1: 0.151306\tvalid_0's mape: 0.0117691\n",
      "[131]\tvalid_0's l1: 0.15124\tvalid_0's mape: 0.0117645\n",
      "[132]\tvalid_0's l1: 0.15118\tvalid_0's mape: 0.0117602\n",
      "[133]\tvalid_0's l1: 0.15113\tvalid_0's mape: 0.0117565\n",
      "[134]\tvalid_0's l1: 0.151059\tvalid_0's mape: 0.0117514\n",
      "[135]\tvalid_0's l1: 0.150969\tvalid_0's mape: 0.011745\n",
      "[136]\tvalid_0's l1: 0.150912\tvalid_0's mape: 0.0117411\n",
      "[137]\tvalid_0's l1: 0.150851\tvalid_0's mape: 0.0117367\n",
      "[138]\tvalid_0's l1: 0.150813\tvalid_0's mape: 0.0117343\n",
      "[139]\tvalid_0's l1: 0.15078\tvalid_0's mape: 0.0117318\n",
      "[140]\tvalid_0's l1: 0.150759\tvalid_0's mape: 0.0117304\n",
      "[141]\tvalid_0's l1: 0.150706\tvalid_0's mape: 0.0117266\n",
      "[142]\tvalid_0's l1: 0.150695\tvalid_0's mape: 0.0117259\n",
      "[143]\tvalid_0's l1: 0.150655\tvalid_0's mape: 0.0117231\n",
      "[144]\tvalid_0's l1: 0.150632\tvalid_0's mape: 0.0117212\n",
      "[145]\tvalid_0's l1: 0.1506\tvalid_0's mape: 0.0117189\n",
      "[146]\tvalid_0's l1: 0.150579\tvalid_0's mape: 0.0117174\n",
      "[147]\tvalid_0's l1: 0.150561\tvalid_0's mape: 0.0117161\n",
      "[148]\tvalid_0's l1: 0.150554\tvalid_0's mape: 0.0117158\n",
      "[149]\tvalid_0's l1: 0.150489\tvalid_0's mape: 0.011711\n",
      "[150]\tvalid_0's l1: 0.150468\tvalid_0's mape: 0.0117094\n",
      "[151]\tvalid_0's l1: 0.150463\tvalid_0's mape: 0.0117092\n",
      "[152]\tvalid_0's l1: 0.150439\tvalid_0's mape: 0.0117073\n",
      "[153]\tvalid_0's l1: 0.15045\tvalid_0's mape: 0.0117083\n"
     ]
    },
    {
     "name": "stdout",
     "output_type": "stream",
     "text": [
      "[154]\tvalid_0's l1: 0.150393\tvalid_0's mape: 0.0117044\n",
      "[155]\tvalid_0's l1: 0.150387\tvalid_0's mape: 0.011704\n",
      "[156]\tvalid_0's l1: 0.150311\tvalid_0's mape: 0.0116985\n",
      "[157]\tvalid_0's l1: 0.150267\tvalid_0's mape: 0.0116951\n",
      "[158]\tvalid_0's l1: 0.150258\tvalid_0's mape: 0.0116944\n",
      "[159]\tvalid_0's l1: 0.150229\tvalid_0's mape: 0.0116923\n",
      "[160]\tvalid_0's l1: 0.150179\tvalid_0's mape: 0.0116887\n",
      "[161]\tvalid_0's l1: 0.150144\tvalid_0's mape: 0.0116864\n",
      "[162]\tvalid_0's l1: 0.150057\tvalid_0's mape: 0.0116805\n",
      "[163]\tvalid_0's l1: 0.150042\tvalid_0's mape: 0.0116793\n",
      "[164]\tvalid_0's l1: 0.150048\tvalid_0's mape: 0.01168\n",
      "[165]\tvalid_0's l1: 0.150004\tvalid_0's mape: 0.011677\n",
      "[166]\tvalid_0's l1: 0.14992\tvalid_0's mape: 0.0116711\n",
      "[167]\tvalid_0's l1: 0.149909\tvalid_0's mape: 0.0116703\n",
      "[168]\tvalid_0's l1: 0.149912\tvalid_0's mape: 0.0116708\n",
      "[169]\tvalid_0's l1: 0.1499\tvalid_0's mape: 0.0116703\n",
      "[170]\tvalid_0's l1: 0.149888\tvalid_0's mape: 0.0116697\n",
      "[171]\tvalid_0's l1: 0.14988\tvalid_0's mape: 0.011669\n",
      "[172]\tvalid_0's l1: 0.149854\tvalid_0's mape: 0.0116671\n",
      "[173]\tvalid_0's l1: 0.149839\tvalid_0's mape: 0.0116661\n",
      "[174]\tvalid_0's l1: 0.149835\tvalid_0's mape: 0.0116658\n",
      "[175]\tvalid_0's l1: 0.149811\tvalid_0's mape: 0.0116636\n",
      "[176]\tvalid_0's l1: 0.149718\tvalid_0's mape: 0.0116574\n",
      "[177]\tvalid_0's l1: 0.149718\tvalid_0's mape: 0.0116574\n",
      "[178]\tvalid_0's l1: 0.149683\tvalid_0's mape: 0.011655\n",
      "[179]\tvalid_0's l1: 0.149624\tvalid_0's mape: 0.0116509\n",
      "[180]\tvalid_0's l1: 0.149623\tvalid_0's mape: 0.0116508\n",
      "[181]\tvalid_0's l1: 0.149556\tvalid_0's mape: 0.0116463\n",
      "[182]\tvalid_0's l1: 0.149552\tvalid_0's mape: 0.011646\n",
      "[183]\tvalid_0's l1: 0.149536\tvalid_0's mape: 0.0116451\n",
      "[184]\tvalid_0's l1: 0.149515\tvalid_0's mape: 0.0116437\n",
      "[185]\tvalid_0's l1: 0.14951\tvalid_0's mape: 0.0116436\n",
      "[186]\tvalid_0's l1: 0.149487\tvalid_0's mape: 0.0116421\n",
      "[187]\tvalid_0's l1: 0.149484\tvalid_0's mape: 0.0116419\n",
      "[188]\tvalid_0's l1: 0.14948\tvalid_0's mape: 0.0116416\n",
      "[189]\tvalid_0's l1: 0.149433\tvalid_0's mape: 0.0116384\n",
      "[190]\tvalid_0's l1: 0.149376\tvalid_0's mape: 0.0116344\n",
      "[191]\tvalid_0's l1: 0.149359\tvalid_0's mape: 0.0116331\n",
      "[192]\tvalid_0's l1: 0.149332\tvalid_0's mape: 0.0116308\n",
      "[193]\tvalid_0's l1: 0.149329\tvalid_0's mape: 0.0116305\n",
      "[194]\tvalid_0's l1: 0.149307\tvalid_0's mape: 0.0116289\n",
      "[195]\tvalid_0's l1: 0.149292\tvalid_0's mape: 0.0116278\n",
      "[196]\tvalid_0's l1: 0.14927\tvalid_0's mape: 0.0116262\n",
      "[197]\tvalid_0's l1: 0.149267\tvalid_0's mape: 0.0116261\n",
      "[198]\tvalid_0's l1: 0.149263\tvalid_0's mape: 0.0116258\n",
      "[199]\tvalid_0's l1: 0.149266\tvalid_0's mape: 0.0116259\n",
      "[200]\tvalid_0's l1: 0.149258\tvalid_0's mape: 0.0116255\n",
      "[201]\tvalid_0's l1: 0.149218\tvalid_0's mape: 0.0116227\n",
      "[202]\tvalid_0's l1: 0.149212\tvalid_0's mape: 0.0116223\n",
      "[203]\tvalid_0's l1: 0.149168\tvalid_0's mape: 0.0116191\n",
      "[204]\tvalid_0's l1: 0.149144\tvalid_0's mape: 0.0116175\n",
      "[205]\tvalid_0's l1: 0.149143\tvalid_0's mape: 0.0116175\n",
      "[206]\tvalid_0's l1: 0.14913\tvalid_0's mape: 0.0116168\n",
      "[207]\tvalid_0's l1: 0.149114\tvalid_0's mape: 0.0116158\n",
      "[208]\tvalid_0's l1: 0.149106\tvalid_0's mape: 0.0116151\n",
      "[209]\tvalid_0's l1: 0.149053\tvalid_0's mape: 0.0116114\n",
      "[210]\tvalid_0's l1: 0.148992\tvalid_0's mape: 0.0116072\n",
      "[211]\tvalid_0's l1: 0.148979\tvalid_0's mape: 0.0116061\n",
      "[212]\tvalid_0's l1: 0.148959\tvalid_0's mape: 0.0116045\n",
      "[213]\tvalid_0's l1: 0.148955\tvalid_0's mape: 0.0116043\n",
      "[214]\tvalid_0's l1: 0.148928\tvalid_0's mape: 0.0116023\n",
      "[215]\tvalid_0's l1: 0.148893\tvalid_0's mape: 0.0116\n",
      "[216]\tvalid_0's l1: 0.148854\tvalid_0's mape: 0.0115971\n",
      "[217]\tvalid_0's l1: 0.14885\tvalid_0's mape: 0.0115966\n",
      "[218]\tvalid_0's l1: 0.148809\tvalid_0's mape: 0.0115939\n",
      "[219]\tvalid_0's l1: 0.148805\tvalid_0's mape: 0.0115935\n",
      "[220]\tvalid_0's l1: 0.148792\tvalid_0's mape: 0.0115925\n",
      "[221]\tvalid_0's l1: 0.148731\tvalid_0's mape: 0.0115882\n",
      "[222]\tvalid_0's l1: 0.148677\tvalid_0's mape: 0.0115844\n",
      "[223]\tvalid_0's l1: 0.148667\tvalid_0's mape: 0.0115839\n",
      "[224]\tvalid_0's l1: 0.148665\tvalid_0's mape: 0.0115837\n",
      "[225]\tvalid_0's l1: 0.148656\tvalid_0's mape: 0.0115832\n",
      "[226]\tvalid_0's l1: 0.148646\tvalid_0's mape: 0.0115827\n",
      "[227]\tvalid_0's l1: 0.148641\tvalid_0's mape: 0.0115824\n",
      "[228]\tvalid_0's l1: 0.148611\tvalid_0's mape: 0.0115804\n",
      "[229]\tvalid_0's l1: 0.148589\tvalid_0's mape: 0.0115791\n",
      "[230]\tvalid_0's l1: 0.148569\tvalid_0's mape: 0.0115777\n",
      "[231]\tvalid_0's l1: 0.148568\tvalid_0's mape: 0.0115777\n",
      "[232]\tvalid_0's l1: 0.148565\tvalid_0's mape: 0.0115776\n",
      "[233]\tvalid_0's l1: 0.148573\tvalid_0's mape: 0.0115783\n",
      "[234]\tvalid_0's l1: 0.148565\tvalid_0's mape: 0.0115777\n",
      "[235]\tvalid_0's l1: 0.148552\tvalid_0's mape: 0.0115768\n",
      "[236]\tvalid_0's l1: 0.148547\tvalid_0's mape: 0.0115766\n",
      "[237]\tvalid_0's l1: 0.148548\tvalid_0's mape: 0.0115769\n",
      "[238]\tvalid_0's l1: 0.148491\tvalid_0's mape: 0.011573\n",
      "[239]\tvalid_0's l1: 0.14843\tvalid_0's mape: 0.0115689\n",
      "[240]\tvalid_0's l1: 0.148421\tvalid_0's mape: 0.0115682\n",
      "[241]\tvalid_0's l1: 0.148371\tvalid_0's mape: 0.0115648\n",
      "[242]\tvalid_0's l1: 0.148332\tvalid_0's mape: 0.0115619\n",
      "[243]\tvalid_0's l1: 0.148286\tvalid_0's mape: 0.0115588\n",
      "[244]\tvalid_0's l1: 0.148247\tvalid_0's mape: 0.0115562\n",
      "[245]\tvalid_0's l1: 0.148214\tvalid_0's mape: 0.0115541\n",
      "[246]\tvalid_0's l1: 0.148208\tvalid_0's mape: 0.0115536\n",
      "[247]\tvalid_0's l1: 0.148174\tvalid_0's mape: 0.0115512\n",
      "[248]\tvalid_0's l1: 0.148175\tvalid_0's mape: 0.0115513\n",
      "[249]\tvalid_0's l1: 0.148175\tvalid_0's mape: 0.0115514\n",
      "[250]\tvalid_0's l1: 0.148138\tvalid_0's mape: 0.0115489\n",
      "[251]\tvalid_0's l1: 0.148121\tvalid_0's mape: 0.0115476\n",
      "[252]\tvalid_0's l1: 0.148109\tvalid_0's mape: 0.0115467\n",
      "[253]\tvalid_0's l1: 0.148077\tvalid_0's mape: 0.0115444\n",
      "[254]\tvalid_0's l1: 0.14807\tvalid_0's mape: 0.0115439\n",
      "[255]\tvalid_0's l1: 0.148038\tvalid_0's mape: 0.0115415\n",
      "[256]\tvalid_0's l1: 0.148011\tvalid_0's mape: 0.0115395\n",
      "[257]\tvalid_0's l1: 0.148006\tvalid_0's mape: 0.0115391\n",
      "[258]\tvalid_0's l1: 0.14799\tvalid_0's mape: 0.0115378\n",
      "[259]\tvalid_0's l1: 0.147995\tvalid_0's mape: 0.0115382\n",
      "[260]\tvalid_0's l1: 0.148\tvalid_0's mape: 0.0115386\n",
      "[261]\tvalid_0's l1: 0.147992\tvalid_0's mape: 0.0115379\n",
      "[262]\tvalid_0's l1: 0.147943\tvalid_0's mape: 0.0115343\n",
      "[263]\tvalid_0's l1: 0.147889\tvalid_0's mape: 0.0115302\n",
      "[264]\tvalid_0's l1: 0.147872\tvalid_0's mape: 0.0115289\n",
      "[265]\tvalid_0's l1: 0.147881\tvalid_0's mape: 0.0115295\n",
      "[266]\tvalid_0's l1: 0.147857\tvalid_0's mape: 0.0115278\n",
      "[267]\tvalid_0's l1: 0.147834\tvalid_0's mape: 0.0115263\n",
      "[268]\tvalid_0's l1: 0.147799\tvalid_0's mape: 0.0115238\n",
      "[269]\tvalid_0's l1: 0.147794\tvalid_0's mape: 0.0115234\n",
      "[270]\tvalid_0's l1: 0.147766\tvalid_0's mape: 0.0115214\n",
      "[271]\tvalid_0's l1: 0.14778\tvalid_0's mape: 0.0115226\n",
      "[272]\tvalid_0's l1: 0.147777\tvalid_0's mape: 0.0115225\n",
      "[273]\tvalid_0's l1: 0.147788\tvalid_0's mape: 0.0115236\n",
      "[274]\tvalid_0's l1: 0.147794\tvalid_0's mape: 0.0115241\n",
      "[275]\tvalid_0's l1: 0.147789\tvalid_0's mape: 0.0115238\n",
      "[276]\tvalid_0's l1: 0.147795\tvalid_0's mape: 0.0115244\n",
      "[277]\tvalid_0's l1: 0.147786\tvalid_0's mape: 0.0115238\n",
      "[278]\tvalid_0's l1: 0.147747\tvalid_0's mape: 0.0115212\n",
      "[279]\tvalid_0's l1: 0.147756\tvalid_0's mape: 0.011522\n",
      "[280]\tvalid_0's l1: 0.147747\tvalid_0's mape: 0.0115213\n",
      "[281]\tvalid_0's l1: 0.147748\tvalid_0's mape: 0.0115215\n",
      "[282]\tvalid_0's l1: 0.147766\tvalid_0's mape: 0.011523\n",
      "[283]\tvalid_0's l1: 0.147768\tvalid_0's mape: 0.0115234\n",
      "[284]\tvalid_0's l1: 0.147771\tvalid_0's mape: 0.0115237\n",
      "[285]\tvalid_0's l1: 0.147746\tvalid_0's mape: 0.0115219\n",
      "[286]\tvalid_0's l1: 0.147741\tvalid_0's mape: 0.0115217\n",
      "[287]\tvalid_0's l1: 0.147735\tvalid_0's mape: 0.0115213\n",
      "[288]\tvalid_0's l1: 0.147717\tvalid_0's mape: 0.01152\n",
      "[289]\tvalid_0's l1: 0.1477\tvalid_0's mape: 0.0115187\n",
      "[290]\tvalid_0's l1: 0.147699\tvalid_0's mape: 0.0115188\n",
      "[291]\tvalid_0's l1: 0.147688\tvalid_0's mape: 0.011518\n",
      "[292]\tvalid_0's l1: 0.147694\tvalid_0's mape: 0.0115184\n",
      "[293]\tvalid_0's l1: 0.147681\tvalid_0's mape: 0.0115174\n",
      "[294]\tvalid_0's l1: 0.147672\tvalid_0's mape: 0.0115169\n",
      "[295]\tvalid_0's l1: 0.147671\tvalid_0's mape: 0.0115167\n",
      "[296]\tvalid_0's l1: 0.147674\tvalid_0's mape: 0.0115168\n",
      "[297]\tvalid_0's l1: 0.147664\tvalid_0's mape: 0.0115159\n",
      "[298]\tvalid_0's l1: 0.147676\tvalid_0's mape: 0.0115169\n",
      "[299]\tvalid_0's l1: 0.147661\tvalid_0's mape: 0.0115157\n",
      "[300]\tvalid_0's l1: 0.147659\tvalid_0's mape: 0.0115156\n",
      "[301]\tvalid_0's l1: 0.147651\tvalid_0's mape: 0.0115149\n",
      "[302]\tvalid_0's l1: 0.147647\tvalid_0's mape: 0.0115147\n",
      "[303]\tvalid_0's l1: 0.147645\tvalid_0's mape: 0.0115146\n",
      "[304]\tvalid_0's l1: 0.147652\tvalid_0's mape: 0.0115153\n",
      "[305]\tvalid_0's l1: 0.147633\tvalid_0's mape: 0.0115137\n",
      "[306]\tvalid_0's l1: 0.147629\tvalid_0's mape: 0.0115134\n",
      "[307]\tvalid_0's l1: 0.147621\tvalid_0's mape: 0.0115128\n",
      "[308]\tvalid_0's l1: 0.147616\tvalid_0's mape: 0.0115126\n",
      "[309]\tvalid_0's l1: 0.147616\tvalid_0's mape: 0.0115126\n",
      "[310]\tvalid_0's l1: 0.147611\tvalid_0's mape: 0.0115123\n",
      "[311]\tvalid_0's l1: 0.147607\tvalid_0's mape: 0.0115121\n",
      "[312]\tvalid_0's l1: 0.147594\tvalid_0's mape: 0.0115113\n",
      "[313]\tvalid_0's l1: 0.147598\tvalid_0's mape: 0.0115117\n",
      "[314]\tvalid_0's l1: 0.147566\tvalid_0's mape: 0.0115095\n",
      "[315]\tvalid_0's l1: 0.147538\tvalid_0's mape: 0.0115075\n",
      "[316]\tvalid_0's l1: 0.147548\tvalid_0's mape: 0.0115085\n",
      "[317]\tvalid_0's l1: 0.147521\tvalid_0's mape: 0.0115065\n",
      "[318]\tvalid_0's l1: 0.147483\tvalid_0's mape: 0.0115038\n",
      "[319]\tvalid_0's l1: 0.147469\tvalid_0's mape: 0.0115029\n",
      "[320]\tvalid_0's l1: 0.147453\tvalid_0's mape: 0.0115017\n",
      "[321]\tvalid_0's l1: 0.147475\tvalid_0's mape: 0.0115034\n"
     ]
    },
    {
     "name": "stdout",
     "output_type": "stream",
     "text": [
      "[322]\tvalid_0's l1: 0.147478\tvalid_0's mape: 0.0115036\n",
      "[323]\tvalid_0's l1: 0.147489\tvalid_0's mape: 0.0115045\n",
      "[324]\tvalid_0's l1: 0.147513\tvalid_0's mape: 0.0115064\n",
      "[325]\tvalid_0's l1: 0.147529\tvalid_0's mape: 0.0115078\n",
      "[326]\tvalid_0's l1: 0.147537\tvalid_0's mape: 0.0115083\n",
      "[327]\tvalid_0's l1: 0.147538\tvalid_0's mape: 0.0115084\n",
      "[328]\tvalid_0's l1: 0.147494\tvalid_0's mape: 0.0115053\n",
      "[329]\tvalid_0's l1: 0.147502\tvalid_0's mape: 0.0115059\n",
      "[330]\tvalid_0's l1: 0.147474\tvalid_0's mape: 0.0115038\n",
      "[331]\tvalid_0's l1: 0.147468\tvalid_0's mape: 0.0115034\n",
      "[332]\tvalid_0's l1: 0.147468\tvalid_0's mape: 0.0115034\n",
      "[333]\tvalid_0's l1: 0.147471\tvalid_0's mape: 0.0115036\n",
      "[334]\tvalid_0's l1: 0.147472\tvalid_0's mape: 0.0115038\n",
      "[335]\tvalid_0's l1: 0.147465\tvalid_0's mape: 0.0115032\n",
      "[336]\tvalid_0's l1: 0.147472\tvalid_0's mape: 0.0115038\n",
      "[337]\tvalid_0's l1: 0.147453\tvalid_0's mape: 0.0115024\n",
      "[338]\tvalid_0's l1: 0.147429\tvalid_0's mape: 0.0115008\n",
      "[339]\tvalid_0's l1: 0.147434\tvalid_0's mape: 0.0115013\n",
      "[340]\tvalid_0's l1: 0.14743\tvalid_0's mape: 0.0115012\n",
      "[341]\tvalid_0's l1: 0.147415\tvalid_0's mape: 0.0115002\n",
      "[342]\tvalid_0's l1: 0.147411\tvalid_0's mape: 0.0114998\n",
      "[343]\tvalid_0's l1: 0.147399\tvalid_0's mape: 0.0114989\n",
      "[344]\tvalid_0's l1: 0.147396\tvalid_0's mape: 0.0114987\n",
      "[345]\tvalid_0's l1: 0.14738\tvalid_0's mape: 0.0114975\n",
      "[346]\tvalid_0's l1: 0.14738\tvalid_0's mape: 0.0114976\n",
      "[347]\tvalid_0's l1: 0.147399\tvalid_0's mape: 0.011499\n",
      "[348]\tvalid_0's l1: 0.147383\tvalid_0's mape: 0.0114978\n",
      "[349]\tvalid_0's l1: 0.147383\tvalid_0's mape: 0.0114978\n",
      "[350]\tvalid_0's l1: 0.147377\tvalid_0's mape: 0.0114974\n",
      "[351]\tvalid_0's l1: 0.147369\tvalid_0's mape: 0.0114967\n",
      "[352]\tvalid_0's l1: 0.147362\tvalid_0's mape: 0.0114962\n",
      "[353]\tvalid_0's l1: 0.147339\tvalid_0's mape: 0.0114947\n",
      "[354]\tvalid_0's l1: 0.147342\tvalid_0's mape: 0.0114951\n",
      "[355]\tvalid_0's l1: 0.147359\tvalid_0's mape: 0.0114966\n",
      "[356]\tvalid_0's l1: 0.147318\tvalid_0's mape: 0.0114938\n",
      "[357]\tvalid_0's l1: 0.147301\tvalid_0's mape: 0.0114925\n",
      "[358]\tvalid_0's l1: 0.147281\tvalid_0's mape: 0.0114913\n",
      "[359]\tvalid_0's l1: 0.14726\tvalid_0's mape: 0.0114899\n",
      "[360]\tvalid_0's l1: 0.147222\tvalid_0's mape: 0.0114873\n",
      "[361]\tvalid_0's l1: 0.147195\tvalid_0's mape: 0.0114853\n",
      "[362]\tvalid_0's l1: 0.147183\tvalid_0's mape: 0.0114843\n",
      "[363]\tvalid_0's l1: 0.147169\tvalid_0's mape: 0.0114833\n",
      "[364]\tvalid_0's l1: 0.147166\tvalid_0's mape: 0.0114831\n",
      "[365]\tvalid_0's l1: 0.147157\tvalid_0's mape: 0.0114825\n",
      "[366]\tvalid_0's l1: 0.147144\tvalid_0's mape: 0.0114816\n",
      "[367]\tvalid_0's l1: 0.14713\tvalid_0's mape: 0.0114806\n",
      "[368]\tvalid_0's l1: 0.147107\tvalid_0's mape: 0.0114789\n",
      "[369]\tvalid_0's l1: 0.147089\tvalid_0's mape: 0.0114777\n",
      "[370]\tvalid_0's l1: 0.147095\tvalid_0's mape: 0.0114782\n",
      "[371]\tvalid_0's l1: 0.147102\tvalid_0's mape: 0.0114788\n",
      "[372]\tvalid_0's l1: 0.147099\tvalid_0's mape: 0.0114785\n",
      "[373]\tvalid_0's l1: 0.147099\tvalid_0's mape: 0.0114784\n",
      "[374]\tvalid_0's l1: 0.147091\tvalid_0's mape: 0.0114777\n",
      "[375]\tvalid_0's l1: 0.147107\tvalid_0's mape: 0.0114791\n",
      "[376]\tvalid_0's l1: 0.147106\tvalid_0's mape: 0.0114791\n",
      "[377]\tvalid_0's l1: 0.147077\tvalid_0's mape: 0.0114771\n",
      "[378]\tvalid_0's l1: 0.147054\tvalid_0's mape: 0.0114756\n",
      "[379]\tvalid_0's l1: 0.147038\tvalid_0's mape: 0.0114746\n",
      "[380]\tvalid_0's l1: 0.147033\tvalid_0's mape: 0.0114743\n",
      "[381]\tvalid_0's l1: 0.146997\tvalid_0's mape: 0.0114719\n",
      "[382]\tvalid_0's l1: 0.146959\tvalid_0's mape: 0.0114692\n",
      "[383]\tvalid_0's l1: 0.146974\tvalid_0's mape: 0.0114704\n",
      "[384]\tvalid_0's l1: 0.14695\tvalid_0's mape: 0.0114688\n",
      "[385]\tvalid_0's l1: 0.146936\tvalid_0's mape: 0.0114679\n",
      "[386]\tvalid_0's l1: 0.146915\tvalid_0's mape: 0.0114664\n",
      "[387]\tvalid_0's l1: 0.146905\tvalid_0's mape: 0.0114657\n",
      "[388]\tvalid_0's l1: 0.146911\tvalid_0's mape: 0.0114661\n",
      "[389]\tvalid_0's l1: 0.146917\tvalid_0's mape: 0.0114666\n",
      "[390]\tvalid_0's l1: 0.14692\tvalid_0's mape: 0.0114669\n",
      "[391]\tvalid_0's l1: 0.146926\tvalid_0's mape: 0.0114676\n",
      "[392]\tvalid_0's l1: 0.146918\tvalid_0's mape: 0.011467\n",
      "[393]\tvalid_0's l1: 0.146923\tvalid_0's mape: 0.0114675\n",
      "[394]\tvalid_0's l1: 0.146918\tvalid_0's mape: 0.0114672\n",
      "[395]\tvalid_0's l1: 0.14693\tvalid_0's mape: 0.0114683\n",
      "[396]\tvalid_0's l1: 0.146919\tvalid_0's mape: 0.0114676\n",
      "[397]\tvalid_0's l1: 0.146904\tvalid_0's mape: 0.0114664\n",
      "[398]\tvalid_0's l1: 0.146881\tvalid_0's mape: 0.0114646\n",
      "[399]\tvalid_0's l1: 0.146873\tvalid_0's mape: 0.0114642\n",
      "[400]\tvalid_0's l1: 0.146865\tvalid_0's mape: 0.0114637\n",
      "[401]\tvalid_0's l1: 0.146845\tvalid_0's mape: 0.0114624\n",
      "[402]\tvalid_0's l1: 0.146833\tvalid_0's mape: 0.0114614\n",
      "[403]\tvalid_0's l1: 0.146815\tvalid_0's mape: 0.0114602\n",
      "[404]\tvalid_0's l1: 0.146805\tvalid_0's mape: 0.0114594\n",
      "[405]\tvalid_0's l1: 0.146805\tvalid_0's mape: 0.0114594\n",
      "[406]\tvalid_0's l1: 0.14679\tvalid_0's mape: 0.0114583\n",
      "[407]\tvalid_0's l1: 0.14677\tvalid_0's mape: 0.0114569\n",
      "[408]\tvalid_0's l1: 0.146755\tvalid_0's mape: 0.0114557\n",
      "[409]\tvalid_0's l1: 0.146738\tvalid_0's mape: 0.0114545\n",
      "[410]\tvalid_0's l1: 0.146733\tvalid_0's mape: 0.0114541\n",
      "[411]\tvalid_0's l1: 0.146728\tvalid_0's mape: 0.0114536\n",
      "[412]\tvalid_0's l1: 0.14671\tvalid_0's mape: 0.0114522\n",
      "[413]\tvalid_0's l1: 0.146697\tvalid_0's mape: 0.0114511\n",
      "[414]\tvalid_0's l1: 0.146663\tvalid_0's mape: 0.0114485\n",
      "[415]\tvalid_0's l1: 0.146668\tvalid_0's mape: 0.0114489\n",
      "[416]\tvalid_0's l1: 0.146667\tvalid_0's mape: 0.0114488\n",
      "[417]\tvalid_0's l1: 0.146675\tvalid_0's mape: 0.0114493\n",
      "[418]\tvalid_0's l1: 0.146662\tvalid_0's mape: 0.0114484\n",
      "[419]\tvalid_0's l1: 0.146657\tvalid_0's mape: 0.0114479\n",
      "[420]\tvalid_0's l1: 0.146641\tvalid_0's mape: 0.0114469\n",
      "[421]\tvalid_0's l1: 0.14665\tvalid_0's mape: 0.0114477\n",
      "[422]\tvalid_0's l1: 0.146666\tvalid_0's mape: 0.011449\n",
      "[423]\tvalid_0's l1: 0.146688\tvalid_0's mape: 0.0114508\n",
      "[424]\tvalid_0's l1: 0.146684\tvalid_0's mape: 0.0114506\n",
      "[425]\tvalid_0's l1: 0.146677\tvalid_0's mape: 0.0114501\n",
      "[426]\tvalid_0's l1: 0.146679\tvalid_0's mape: 0.0114502\n",
      "[427]\tvalid_0's l1: 0.146687\tvalid_0's mape: 0.011451\n",
      "[428]\tvalid_0's l1: 0.146688\tvalid_0's mape: 0.011451\n",
      "[429]\tvalid_0's l1: 0.146672\tvalid_0's mape: 0.0114498\n",
      "[430]\tvalid_0's l1: 0.146659\tvalid_0's mape: 0.011449\n",
      "[431]\tvalid_0's l1: 0.14668\tvalid_0's mape: 0.0114508\n",
      "[432]\tvalid_0's l1: 0.146692\tvalid_0's mape: 0.0114518\n",
      "[433]\tvalid_0's l1: 0.146701\tvalid_0's mape: 0.0114525\n",
      "[434]\tvalid_0's l1: 0.146706\tvalid_0's mape: 0.0114531\n",
      "[435]\tvalid_0's l1: 0.146709\tvalid_0's mape: 0.0114533\n",
      "[436]\tvalid_0's l1: 0.146681\tvalid_0's mape: 0.0114514\n",
      "[437]\tvalid_0's l1: 0.146693\tvalid_0's mape: 0.0114526\n",
      "[438]\tvalid_0's l1: 0.146714\tvalid_0's mape: 0.0114543\n",
      "[439]\tvalid_0's l1: 0.146697\tvalid_0's mape: 0.011453\n",
      "[440]\tvalid_0's l1: 0.146674\tvalid_0's mape: 0.0114515\n",
      "[441]\tvalid_0's l1: 0.146633\tvalid_0's mape: 0.0114487\n",
      "[442]\tvalid_0's l1: 0.146598\tvalid_0's mape: 0.0114463\n",
      "[443]\tvalid_0's l1: 0.146576\tvalid_0's mape: 0.0114449\n",
      "[444]\tvalid_0's l1: 0.146574\tvalid_0's mape: 0.0114449\n",
      "[445]\tvalid_0's l1: 0.146568\tvalid_0's mape: 0.0114445\n",
      "[446]\tvalid_0's l1: 0.146549\tvalid_0's mape: 0.0114431\n",
      "[447]\tvalid_0's l1: 0.146554\tvalid_0's mape: 0.0114435\n",
      "[448]\tvalid_0's l1: 0.146559\tvalid_0's mape: 0.0114439\n",
      "[449]\tvalid_0's l1: 0.146546\tvalid_0's mape: 0.0114431\n",
      "[450]\tvalid_0's l1: 0.146543\tvalid_0's mape: 0.011443\n",
      "[451]\tvalid_0's l1: 0.146544\tvalid_0's mape: 0.0114432\n",
      "[452]\tvalid_0's l1: 0.146542\tvalid_0's mape: 0.0114431\n",
      "[453]\tvalid_0's l1: 0.146547\tvalid_0's mape: 0.0114435\n",
      "[454]\tvalid_0's l1: 0.146551\tvalid_0's mape: 0.0114438\n",
      "[455]\tvalid_0's l1: 0.146565\tvalid_0's mape: 0.011445\n",
      "[456]\tvalid_0's l1: 0.146564\tvalid_0's mape: 0.011445\n",
      "[457]\tvalid_0's l1: 0.146568\tvalid_0's mape: 0.0114452\n",
      "[458]\tvalid_0's l1: 0.146571\tvalid_0's mape: 0.0114455\n",
      "[459]\tvalid_0's l1: 0.146568\tvalid_0's mape: 0.0114453\n",
      "[460]\tvalid_0's l1: 0.146557\tvalid_0's mape: 0.0114446\n",
      "[461]\tvalid_0's l1: 0.146543\tvalid_0's mape: 0.0114436\n",
      "[462]\tvalid_0's l1: 0.14654\tvalid_0's mape: 0.0114434\n",
      "[463]\tvalid_0's l1: 0.146532\tvalid_0's mape: 0.0114428\n",
      "[464]\tvalid_0's l1: 0.146508\tvalid_0's mape: 0.0114411\n",
      "[465]\tvalid_0's l1: 0.146506\tvalid_0's mape: 0.0114409\n",
      "[466]\tvalid_0's l1: 0.146507\tvalid_0's mape: 0.0114411\n",
      "[467]\tvalid_0's l1: 0.146502\tvalid_0's mape: 0.0114408\n",
      "[468]\tvalid_0's l1: 0.146514\tvalid_0's mape: 0.0114418\n",
      "[469]\tvalid_0's l1: 0.146511\tvalid_0's mape: 0.0114416\n",
      "[470]\tvalid_0's l1: 0.146494\tvalid_0's mape: 0.0114404\n",
      "[471]\tvalid_0's l1: 0.146483\tvalid_0's mape: 0.0114394\n",
      "[472]\tvalid_0's l1: 0.146486\tvalid_0's mape: 0.0114396\n",
      "[473]\tvalid_0's l1: 0.146487\tvalid_0's mape: 0.0114397\n",
      "[474]\tvalid_0's l1: 0.146495\tvalid_0's mape: 0.0114402\n",
      "[475]\tvalid_0's l1: 0.146485\tvalid_0's mape: 0.0114395\n",
      "[476]\tvalid_0's l1: 0.146485\tvalid_0's mape: 0.0114394\n",
      "[477]\tvalid_0's l1: 0.146486\tvalid_0's mape: 0.0114394\n",
      "[478]\tvalid_0's l1: 0.146491\tvalid_0's mape: 0.0114397\n",
      "[479]\tvalid_0's l1: 0.146482\tvalid_0's mape: 0.0114391\n",
      "[480]\tvalid_0's l1: 0.146485\tvalid_0's mape: 0.0114393\n",
      "[481]\tvalid_0's l1: 0.146491\tvalid_0's mape: 0.0114399\n",
      "[482]\tvalid_0's l1: 0.146495\tvalid_0's mape: 0.0114403\n",
      "[483]\tvalid_0's l1: 0.146493\tvalid_0's mape: 0.0114403\n",
      "[484]\tvalid_0's l1: 0.146502\tvalid_0's mape: 0.011441\n",
      "[485]\tvalid_0's l1: 0.146514\tvalid_0's mape: 0.011442\n",
      "[486]\tvalid_0's l1: 0.14652\tvalid_0's mape: 0.0114426\n",
      "[487]\tvalid_0's l1: 0.146524\tvalid_0's mape: 0.0114429\n",
      "[488]\tvalid_0's l1: 0.146528\tvalid_0's mape: 0.0114433\n",
      "[489]\tvalid_0's l1: 0.14653\tvalid_0's mape: 0.0114435\n"
     ]
    },
    {
     "name": "stdout",
     "output_type": "stream",
     "text": [
      "[490]\tvalid_0's l1: 0.146531\tvalid_0's mape: 0.0114435\n",
      "[491]\tvalid_0's l1: 0.14653\tvalid_0's mape: 0.0114435\n",
      "[492]\tvalid_0's l1: 0.146533\tvalid_0's mape: 0.0114438\n",
      "[493]\tvalid_0's l1: 0.146526\tvalid_0's mape: 0.0114435\n",
      "[494]\tvalid_0's l1: 0.146525\tvalid_0's mape: 0.0114435\n",
      "[495]\tvalid_0's l1: 0.146545\tvalid_0's mape: 0.0114452\n",
      "[496]\tvalid_0's l1: 0.14652\tvalid_0's mape: 0.0114434\n",
      "[497]\tvalid_0's l1: 0.146463\tvalid_0's mape: 0.0114394\n",
      "[498]\tvalid_0's l1: 0.14647\tvalid_0's mape: 0.01144\n",
      "[499]\tvalid_0's l1: 0.14646\tvalid_0's mape: 0.0114393\n",
      "[500]\tvalid_0's l1: 0.146462\tvalid_0's mape: 0.0114395\n",
      "[501]\tvalid_0's l1: 0.146473\tvalid_0's mape: 0.0114404\n",
      "[502]\tvalid_0's l1: 0.146475\tvalid_0's mape: 0.0114405\n",
      "[503]\tvalid_0's l1: 0.146463\tvalid_0's mape: 0.0114397\n",
      "[504]\tvalid_0's l1: 0.146456\tvalid_0's mape: 0.0114392\n",
      "[505]\tvalid_0's l1: 0.14643\tvalid_0's mape: 0.0114373\n",
      "[506]\tvalid_0's l1: 0.146414\tvalid_0's mape: 0.0114361\n",
      "[507]\tvalid_0's l1: 0.146418\tvalid_0's mape: 0.0114364\n",
      "[508]\tvalid_0's l1: 0.146425\tvalid_0's mape: 0.0114369\n",
      "[509]\tvalid_0's l1: 0.146446\tvalid_0's mape: 0.0114387\n",
      "[510]\tvalid_0's l1: 0.146419\tvalid_0's mape: 0.0114369\n",
      "[511]\tvalid_0's l1: 0.146418\tvalid_0's mape: 0.0114368\n",
      "[512]\tvalid_0's l1: 0.146425\tvalid_0's mape: 0.0114374\n",
      "[513]\tvalid_0's l1: 0.146431\tvalid_0's mape: 0.0114379\n",
      "[514]\tvalid_0's l1: 0.146435\tvalid_0's mape: 0.0114382\n",
      "[515]\tvalid_0's l1: 0.146431\tvalid_0's mape: 0.0114379\n",
      "[516]\tvalid_0's l1: 0.146428\tvalid_0's mape: 0.0114376\n",
      "[517]\tvalid_0's l1: 0.146414\tvalid_0's mape: 0.0114366\n",
      "[518]\tvalid_0's l1: 0.146423\tvalid_0's mape: 0.0114374\n",
      "[519]\tvalid_0's l1: 0.146431\tvalid_0's mape: 0.0114381\n",
      "[520]\tvalid_0's l1: 0.146424\tvalid_0's mape: 0.0114377\n",
      "[521]\tvalid_0's l1: 0.146434\tvalid_0's mape: 0.0114386\n",
      "[522]\tvalid_0's l1: 0.146429\tvalid_0's mape: 0.0114383\n",
      "[523]\tvalid_0's l1: 0.146447\tvalid_0's mape: 0.0114398\n",
      "[524]\tvalid_0's l1: 0.146461\tvalid_0's mape: 0.0114411\n",
      "[525]\tvalid_0's l1: 0.146458\tvalid_0's mape: 0.0114409\n",
      "[526]\tvalid_0's l1: 0.146445\tvalid_0's mape: 0.01144\n",
      "[527]\tvalid_0's l1: 0.146446\tvalid_0's mape: 0.0114401\n",
      "[528]\tvalid_0's l1: 0.146452\tvalid_0's mape: 0.0114407\n",
      "[529]\tvalid_0's l1: 0.146432\tvalid_0's mape: 0.0114393\n",
      "[530]\tvalid_0's l1: 0.146448\tvalid_0's mape: 0.0114406\n",
      "[531]\tvalid_0's l1: 0.146449\tvalid_0's mape: 0.0114407\n",
      "[532]\tvalid_0's l1: 0.146442\tvalid_0's mape: 0.0114402\n",
      "[533]\tvalid_0's l1: 0.146449\tvalid_0's mape: 0.0114407\n",
      "[534]\tvalid_0's l1: 0.146457\tvalid_0's mape: 0.0114414\n",
      "[535]\tvalid_0's l1: 0.146456\tvalid_0's mape: 0.0114413\n",
      "[536]\tvalid_0's l1: 0.146449\tvalid_0's mape: 0.0114408\n",
      "[537]\tvalid_0's l1: 0.146446\tvalid_0's mape: 0.0114405\n",
      "[538]\tvalid_0's l1: 0.146452\tvalid_0's mape: 0.0114411\n",
      "[539]\tvalid_0's l1: 0.146447\tvalid_0's mape: 0.0114406\n",
      "[540]\tvalid_0's l1: 0.146444\tvalid_0's mape: 0.0114404\n",
      "[541]\tvalid_0's l1: 0.146441\tvalid_0's mape: 0.0114402\n",
      "[542]\tvalid_0's l1: 0.146438\tvalid_0's mape: 0.01144\n",
      "[543]\tvalid_0's l1: 0.146449\tvalid_0's mape: 0.011441\n",
      "[544]\tvalid_0's l1: 0.146447\tvalid_0's mape: 0.0114408\n",
      "[545]\tvalid_0's l1: 0.14645\tvalid_0's mape: 0.0114411\n",
      "[546]\tvalid_0's l1: 0.146424\tvalid_0's mape: 0.0114393\n",
      "[547]\tvalid_0's l1: 0.14643\tvalid_0's mape: 0.0114399\n",
      "[548]\tvalid_0's l1: 0.146432\tvalid_0's mape: 0.01144\n",
      "[549]\tvalid_0's l1: 0.146427\tvalid_0's mape: 0.0114396\n",
      "[550]\tvalid_0's l1: 0.146426\tvalid_0's mape: 0.0114395\n",
      "[551]\tvalid_0's l1: 0.146421\tvalid_0's mape: 0.0114391\n",
      "[552]\tvalid_0's l1: 0.146418\tvalid_0's mape: 0.0114388\n",
      "[553]\tvalid_0's l1: 0.14643\tvalid_0's mape: 0.0114398\n",
      "[554]\tvalid_0's l1: 0.146434\tvalid_0's mape: 0.0114401\n",
      "[555]\tvalid_0's l1: 0.146452\tvalid_0's mape: 0.0114416\n",
      "[556]\tvalid_0's l1: 0.146454\tvalid_0's mape: 0.0114419\n",
      "[557]\tvalid_0's l1: 0.146455\tvalid_0's mape: 0.011442\n",
      "[558]\tvalid_0's l1: 0.146465\tvalid_0's mape: 0.0114428\n",
      "[559]\tvalid_0's l1: 0.146469\tvalid_0's mape: 0.011443\n",
      "[560]\tvalid_0's l1: 0.146433\tvalid_0's mape: 0.0114406\n",
      "[561]\tvalid_0's l1: 0.146429\tvalid_0's mape: 0.0114403\n",
      "[562]\tvalid_0's l1: 0.146442\tvalid_0's mape: 0.0114415\n",
      "[563]\tvalid_0's l1: 0.146415\tvalid_0's mape: 0.0114396\n",
      "[564]\tvalid_0's l1: 0.146411\tvalid_0's mape: 0.0114393\n",
      "[565]\tvalid_0's l1: 0.14638\tvalid_0's mape: 0.0114372\n",
      "[566]\tvalid_0's l1: 0.146385\tvalid_0's mape: 0.0114376\n",
      "[567]\tvalid_0's l1: 0.146372\tvalid_0's mape: 0.0114365\n",
      "[568]\tvalid_0's l1: 0.146355\tvalid_0's mape: 0.0114353\n",
      "[569]\tvalid_0's l1: 0.146355\tvalid_0's mape: 0.0114354\n",
      "[570]\tvalid_0's l1: 0.146356\tvalid_0's mape: 0.0114355\n",
      "[571]\tvalid_0's l1: 0.146358\tvalid_0's mape: 0.0114355\n",
      "[572]\tvalid_0's l1: 0.146363\tvalid_0's mape: 0.0114359\n",
      "[573]\tvalid_0's l1: 0.146379\tvalid_0's mape: 0.0114372\n",
      "[574]\tvalid_0's l1: 0.146373\tvalid_0's mape: 0.0114368\n",
      "[575]\tvalid_0's l1: 0.146382\tvalid_0's mape: 0.0114375\n",
      "[576]\tvalid_0's l1: 0.146381\tvalid_0's mape: 0.0114375\n",
      "[577]\tvalid_0's l1: 0.146363\tvalid_0's mape: 0.0114362\n",
      "[578]\tvalid_0's l1: 0.146361\tvalid_0's mape: 0.0114361\n",
      "[579]\tvalid_0's l1: 0.146329\tvalid_0's mape: 0.0114338\n",
      "[580]\tvalid_0's l1: 0.146331\tvalid_0's mape: 0.011434\n",
      "[581]\tvalid_0's l1: 0.146327\tvalid_0's mape: 0.0114338\n",
      "[582]\tvalid_0's l1: 0.146322\tvalid_0's mape: 0.0114334\n",
      "[583]\tvalid_0's l1: 0.146317\tvalid_0's mape: 0.011433\n",
      "[584]\tvalid_0's l1: 0.146316\tvalid_0's mape: 0.0114329\n",
      "[585]\tvalid_0's l1: 0.146319\tvalid_0's mape: 0.0114333\n",
      "[586]\tvalid_0's l1: 0.14632\tvalid_0's mape: 0.0114334\n",
      "[587]\tvalid_0's l1: 0.146321\tvalid_0's mape: 0.0114336\n",
      "[588]\tvalid_0's l1: 0.146319\tvalid_0's mape: 0.0114335\n",
      "[589]\tvalid_0's l1: 0.146325\tvalid_0's mape: 0.011434\n",
      "[590]\tvalid_0's l1: 0.146328\tvalid_0's mape: 0.0114343\n",
      "[591]\tvalid_0's l1: 0.146335\tvalid_0's mape: 0.0114348\n",
      "[592]\tvalid_0's l1: 0.146333\tvalid_0's mape: 0.0114347\n",
      "[593]\tvalid_0's l1: 0.146344\tvalid_0's mape: 0.0114356\n",
      "[594]\tvalid_0's l1: 0.146357\tvalid_0's mape: 0.0114366\n",
      "[595]\tvalid_0's l1: 0.146355\tvalid_0's mape: 0.0114364\n",
      "[596]\tvalid_0's l1: 0.146364\tvalid_0's mape: 0.0114372\n",
      "[597]\tvalid_0's l1: 0.146367\tvalid_0's mape: 0.0114374\n",
      "[598]\tvalid_0's l1: 0.146364\tvalid_0's mape: 0.0114372\n",
      "[599]\tvalid_0's l1: 0.146366\tvalid_0's mape: 0.0114372\n",
      "[600]\tvalid_0's l1: 0.146354\tvalid_0's mape: 0.0114363\n",
      "[601]\tvalid_0's l1: 0.146322\tvalid_0's mape: 0.011434\n",
      "[602]\tvalid_0's l1: 0.146297\tvalid_0's mape: 0.0114322\n",
      "[603]\tvalid_0's l1: 0.146302\tvalid_0's mape: 0.0114325\n",
      "[604]\tvalid_0's l1: 0.146294\tvalid_0's mape: 0.011432\n",
      "[605]\tvalid_0's l1: 0.146282\tvalid_0's mape: 0.0114312\n",
      "[606]\tvalid_0's l1: 0.146294\tvalid_0's mape: 0.0114321\n",
      "[607]\tvalid_0's l1: 0.146286\tvalid_0's mape: 0.0114317\n",
      "[608]\tvalid_0's l1: 0.146268\tvalid_0's mape: 0.0114304\n",
      "[609]\tvalid_0's l1: 0.146254\tvalid_0's mape: 0.0114294\n",
      "[610]\tvalid_0's l1: 0.146247\tvalid_0's mape: 0.0114289\n",
      "[611]\tvalid_0's l1: 0.146251\tvalid_0's mape: 0.0114293\n",
      "[612]\tvalid_0's l1: 0.146263\tvalid_0's mape: 0.0114303\n",
      "[613]\tvalid_0's l1: 0.146271\tvalid_0's mape: 0.011431\n",
      "[614]\tvalid_0's l1: 0.14626\tvalid_0's mape: 0.0114303\n",
      "[615]\tvalid_0's l1: 0.146265\tvalid_0's mape: 0.0114307\n",
      "[616]\tvalid_0's l1: 0.146266\tvalid_0's mape: 0.0114309\n",
      "[617]\tvalid_0's l1: 0.146263\tvalid_0's mape: 0.0114307\n",
      "[618]\tvalid_0's l1: 0.146261\tvalid_0's mape: 0.0114305\n",
      "[619]\tvalid_0's l1: 0.146251\tvalid_0's mape: 0.0114297\n",
      "[620]\tvalid_0's l1: 0.146255\tvalid_0's mape: 0.01143\n",
      "[621]\tvalid_0's l1: 0.146259\tvalid_0's mape: 0.0114304\n",
      "[622]\tvalid_0's l1: 0.14627\tvalid_0's mape: 0.0114314\n",
      "[623]\tvalid_0's l1: 0.146256\tvalid_0's mape: 0.0114303\n",
      "[624]\tvalid_0's l1: 0.146262\tvalid_0's mape: 0.0114308\n",
      "[625]\tvalid_0's l1: 0.14627\tvalid_0's mape: 0.0114315\n",
      "[626]\tvalid_0's l1: 0.146274\tvalid_0's mape: 0.0114319\n",
      "[627]\tvalid_0's l1: 0.146273\tvalid_0's mape: 0.0114318\n",
      "[628]\tvalid_0's l1: 0.146273\tvalid_0's mape: 0.0114319\n",
      "[629]\tvalid_0's l1: 0.146282\tvalid_0's mape: 0.0114326\n",
      "[630]\tvalid_0's l1: 0.146284\tvalid_0's mape: 0.0114329\n",
      "[631]\tvalid_0's l1: 0.146277\tvalid_0's mape: 0.0114324\n",
      "[632]\tvalid_0's l1: 0.146276\tvalid_0's mape: 0.0114324\n",
      "[633]\tvalid_0's l1: 0.146265\tvalid_0's mape: 0.0114315\n",
      "[634]\tvalid_0's l1: 0.146271\tvalid_0's mape: 0.011432\n",
      "[635]\tvalid_0's l1: 0.146267\tvalid_0's mape: 0.0114318\n",
      "[636]\tvalid_0's l1: 0.146264\tvalid_0's mape: 0.0114315\n",
      "[637]\tvalid_0's l1: 0.146244\tvalid_0's mape: 0.0114299\n",
      "[638]\tvalid_0's l1: 0.146246\tvalid_0's mape: 0.0114301\n",
      "[639]\tvalid_0's l1: 0.146221\tvalid_0's mape: 0.0114285\n",
      "[640]\tvalid_0's l1: 0.146222\tvalid_0's mape: 0.0114286\n",
      "[641]\tvalid_0's l1: 0.146222\tvalid_0's mape: 0.0114288\n",
      "[642]\tvalid_0's l1: 0.146224\tvalid_0's mape: 0.011429\n",
      "[643]\tvalid_0's l1: 0.14623\tvalid_0's mape: 0.0114297\n",
      "[644]\tvalid_0's l1: 0.146234\tvalid_0's mape: 0.01143\n",
      "[645]\tvalid_0's l1: 0.146242\tvalid_0's mape: 0.0114307\n",
      "[646]\tvalid_0's l1: 0.146244\tvalid_0's mape: 0.0114309\n",
      "[647]\tvalid_0's l1: 0.146252\tvalid_0's mape: 0.0114316\n",
      "[648]\tvalid_0's l1: 0.146251\tvalid_0's mape: 0.0114316\n",
      "[649]\tvalid_0's l1: 0.146256\tvalid_0's mape: 0.011432\n",
      "[650]\tvalid_0's l1: 0.146267\tvalid_0's mape: 0.0114331\n",
      "[651]\tvalid_0's l1: 0.146279\tvalid_0's mape: 0.0114339\n",
      "[652]\tvalid_0's l1: 0.146282\tvalid_0's mape: 0.0114342\n",
      "[653]\tvalid_0's l1: 0.146285\tvalid_0's mape: 0.0114346\n",
      "[654]\tvalid_0's l1: 0.146291\tvalid_0's mape: 0.0114351\n",
      "[655]\tvalid_0's l1: 0.146291\tvalid_0's mape: 0.0114351\n",
      "[656]\tvalid_0's l1: 0.146288\tvalid_0's mape: 0.011435\n",
      "[657]\tvalid_0's l1: 0.146263\tvalid_0's mape: 0.0114332\n",
      "[658]\tvalid_0's l1: 0.146262\tvalid_0's mape: 0.0114332\n",
      "[659]\tvalid_0's l1: 0.146257\tvalid_0's mape: 0.0114327\n",
      "[660]\tvalid_0's l1: 0.146259\tvalid_0's mape: 0.0114329\n",
      "[661]\tvalid_0's l1: 0.146246\tvalid_0's mape: 0.0114319\n",
      "[662]\tvalid_0's l1: 0.14625\tvalid_0's mape: 0.0114323\n",
      "[663]\tvalid_0's l1: 0.146249\tvalid_0's mape: 0.0114322\n",
      "[664]\tvalid_0's l1: 0.146251\tvalid_0's mape: 0.0114324\n",
      "[665]\tvalid_0's l1: 0.146271\tvalid_0's mape: 0.0114339\n",
      "[666]\tvalid_0's l1: 0.146278\tvalid_0's mape: 0.0114344\n",
      "[667]\tvalid_0's l1: 0.146286\tvalid_0's mape: 0.011435\n",
      "[668]\tvalid_0's l1: 0.146297\tvalid_0's mape: 0.0114358\n"
     ]
    },
    {
     "name": "stdout",
     "output_type": "stream",
     "text": [
      "[669]\tvalid_0's l1: 0.146267\tvalid_0's mape: 0.0114337\n",
      "[670]\tvalid_0's l1: 0.146267\tvalid_0's mape: 0.0114336\n",
      "[671]\tvalid_0's l1: 0.146254\tvalid_0's mape: 0.0114328\n",
      "[672]\tvalid_0's l1: 0.146256\tvalid_0's mape: 0.011433\n",
      "[673]\tvalid_0's l1: 0.146252\tvalid_0's mape: 0.0114327\n",
      "[674]\tvalid_0's l1: 0.146247\tvalid_0's mape: 0.0114323\n",
      "[675]\tvalid_0's l1: 0.146256\tvalid_0's mape: 0.0114331\n",
      "[676]\tvalid_0's l1: 0.146243\tvalid_0's mape: 0.0114322\n",
      "[677]\tvalid_0's l1: 0.146224\tvalid_0's mape: 0.0114306\n",
      "[678]\tvalid_0's l1: 0.146222\tvalid_0's mape: 0.0114304\n",
      "[679]\tvalid_0's l1: 0.146205\tvalid_0's mape: 0.0114294\n",
      "[680]\tvalid_0's l1: 0.146216\tvalid_0's mape: 0.0114303\n",
      "[681]\tvalid_0's l1: 0.146211\tvalid_0's mape: 0.0114297\n",
      "[682]\tvalid_0's l1: 0.14621\tvalid_0's mape: 0.0114297\n",
      "[683]\tvalid_0's l1: 0.146211\tvalid_0's mape: 0.0114297\n",
      "[684]\tvalid_0's l1: 0.146195\tvalid_0's mape: 0.0114284\n",
      "[685]\tvalid_0's l1: 0.146189\tvalid_0's mape: 0.0114278\n",
      "[686]\tvalid_0's l1: 0.146188\tvalid_0's mape: 0.0114278\n",
      "[687]\tvalid_0's l1: 0.146196\tvalid_0's mape: 0.0114283\n",
      "[688]\tvalid_0's l1: 0.146208\tvalid_0's mape: 0.0114292\n",
      "[689]\tvalid_0's l1: 0.146215\tvalid_0's mape: 0.0114298\n",
      "[690]\tvalid_0's l1: 0.146216\tvalid_0's mape: 0.0114299\n",
      "[691]\tvalid_0's l1: 0.146214\tvalid_0's mape: 0.0114297\n",
      "[692]\tvalid_0's l1: 0.146219\tvalid_0's mape: 0.01143\n",
      "[693]\tvalid_0's l1: 0.146224\tvalid_0's mape: 0.0114305\n",
      "[694]\tvalid_0's l1: 0.146218\tvalid_0's mape: 0.01143\n",
      "[695]\tvalid_0's l1: 0.146209\tvalid_0's mape: 0.0114293\n",
      "[696]\tvalid_0's l1: 0.146188\tvalid_0's mape: 0.0114278\n",
      "[697]\tvalid_0's l1: 0.14618\tvalid_0's mape: 0.0114272\n",
      "[698]\tvalid_0's l1: 0.146173\tvalid_0's mape: 0.0114267\n",
      "[699]\tvalid_0's l1: 0.14615\tvalid_0's mape: 0.011425\n",
      "[700]\tvalid_0's l1: 0.146157\tvalid_0's mape: 0.0114256\n",
      "[701]\tvalid_0's l1: 0.146162\tvalid_0's mape: 0.0114261\n",
      "[702]\tvalid_0's l1: 0.146161\tvalid_0's mape: 0.0114261\n",
      "[703]\tvalid_0's l1: 0.146163\tvalid_0's mape: 0.0114264\n",
      "[704]\tvalid_0's l1: 0.14616\tvalid_0's mape: 0.0114261\n",
      "[705]\tvalid_0's l1: 0.146169\tvalid_0's mape: 0.0114269\n",
      "[706]\tvalid_0's l1: 0.146155\tvalid_0's mape: 0.0114258\n",
      "[707]\tvalid_0's l1: 0.146144\tvalid_0's mape: 0.0114251\n",
      "[708]\tvalid_0's l1: 0.146145\tvalid_0's mape: 0.0114251\n",
      "[709]\tvalid_0's l1: 0.146151\tvalid_0's mape: 0.0114257\n",
      "[710]\tvalid_0's l1: 0.146145\tvalid_0's mape: 0.0114252\n",
      "[711]\tvalid_0's l1: 0.146133\tvalid_0's mape: 0.0114243\n",
      "[712]\tvalid_0's l1: 0.146131\tvalid_0's mape: 0.0114241\n",
      "[713]\tvalid_0's l1: 0.146125\tvalid_0's mape: 0.0114236\n",
      "[714]\tvalid_0's l1: 0.146123\tvalid_0's mape: 0.0114236\n",
      "[715]\tvalid_0's l1: 0.146137\tvalid_0's mape: 0.0114247\n",
      "[716]\tvalid_0's l1: 0.146147\tvalid_0's mape: 0.0114256\n",
      "[717]\tvalid_0's l1: 0.146146\tvalid_0's mape: 0.0114257\n",
      "[718]\tvalid_0's l1: 0.146157\tvalid_0's mape: 0.0114266\n",
      "[719]\tvalid_0's l1: 0.146146\tvalid_0's mape: 0.0114258\n",
      "[720]\tvalid_0's l1: 0.146132\tvalid_0's mape: 0.0114247\n",
      "[721]\tvalid_0's l1: 0.146132\tvalid_0's mape: 0.0114248\n",
      "[722]\tvalid_0's l1: 0.146137\tvalid_0's mape: 0.0114255\n",
      "[723]\tvalid_0's l1: 0.146139\tvalid_0's mape: 0.0114258\n",
      "[724]\tvalid_0's l1: 0.146139\tvalid_0's mape: 0.0114258\n",
      "[725]\tvalid_0's l1: 0.146123\tvalid_0's mape: 0.0114248\n",
      "[726]\tvalid_0's l1: 0.146122\tvalid_0's mape: 0.0114248\n",
      "[727]\tvalid_0's l1: 0.146123\tvalid_0's mape: 0.011425\n",
      "[728]\tvalid_0's l1: 0.146111\tvalid_0's mape: 0.011424\n",
      "[729]\tvalid_0's l1: 0.146122\tvalid_0's mape: 0.0114251\n",
      "[730]\tvalid_0's l1: 0.146109\tvalid_0's mape: 0.0114242\n",
      "[731]\tvalid_0's l1: 0.146116\tvalid_0's mape: 0.0114247\n",
      "[732]\tvalid_0's l1: 0.146114\tvalid_0's mape: 0.0114244\n",
      "[733]\tvalid_0's l1: 0.146111\tvalid_0's mape: 0.0114242\n",
      "[734]\tvalid_0's l1: 0.146111\tvalid_0's mape: 0.0114242\n",
      "[735]\tvalid_0's l1: 0.146111\tvalid_0's mape: 0.0114242\n",
      "[736]\tvalid_0's l1: 0.146119\tvalid_0's mape: 0.0114249\n",
      "[737]\tvalid_0's l1: 0.146111\tvalid_0's mape: 0.0114243\n",
      "[738]\tvalid_0's l1: 0.14609\tvalid_0's mape: 0.0114227\n",
      "[739]\tvalid_0's l1: 0.14609\tvalid_0's mape: 0.0114227\n",
      "[740]\tvalid_0's l1: 0.146087\tvalid_0's mape: 0.0114225\n",
      "[741]\tvalid_0's l1: 0.146094\tvalid_0's mape: 0.0114231\n",
      "[742]\tvalid_0's l1: 0.146099\tvalid_0's mape: 0.0114235\n",
      "[743]\tvalid_0's l1: 0.1461\tvalid_0's mape: 0.0114236\n",
      "[744]\tvalid_0's l1: 0.146098\tvalid_0's mape: 0.0114233\n",
      "[745]\tvalid_0's l1: 0.146076\tvalid_0's mape: 0.0114217\n",
      "[746]\tvalid_0's l1: 0.146079\tvalid_0's mape: 0.0114221\n",
      "[747]\tvalid_0's l1: 0.146051\tvalid_0's mape: 0.0114202\n",
      "[748]\tvalid_0's l1: 0.146054\tvalid_0's mape: 0.0114204\n",
      "[749]\tvalid_0's l1: 0.146015\tvalid_0's mape: 0.0114178\n",
      "[750]\tvalid_0's l1: 0.146023\tvalid_0's mape: 0.0114184\n",
      "[751]\tvalid_0's l1: 0.146018\tvalid_0's mape: 0.011418\n",
      "[752]\tvalid_0's l1: 0.146027\tvalid_0's mape: 0.0114187\n",
      "[753]\tvalid_0's l1: 0.146036\tvalid_0's mape: 0.0114194\n",
      "[754]\tvalid_0's l1: 0.146028\tvalid_0's mape: 0.0114189\n",
      "[755]\tvalid_0's l1: 0.146017\tvalid_0's mape: 0.0114182\n",
      "[756]\tvalid_0's l1: 0.146002\tvalid_0's mape: 0.0114172\n",
      "[757]\tvalid_0's l1: 0.145999\tvalid_0's mape: 0.011417\n",
      "[758]\tvalid_0's l1: 0.146001\tvalid_0's mape: 0.0114172\n",
      "[759]\tvalid_0's l1: 0.145986\tvalid_0's mape: 0.0114161\n",
      "[760]\tvalid_0's l1: 0.145995\tvalid_0's mape: 0.0114169\n",
      "[761]\tvalid_0's l1: 0.145982\tvalid_0's mape: 0.011416\n",
      "[762]\tvalid_0's l1: 0.145987\tvalid_0's mape: 0.0114163\n",
      "[763]\tvalid_0's l1: 0.145987\tvalid_0's mape: 0.0114165\n",
      "[764]\tvalid_0's l1: 0.145979\tvalid_0's mape: 0.0114158\n",
      "[765]\tvalid_0's l1: 0.14598\tvalid_0's mape: 0.0114159\n",
      "[766]\tvalid_0's l1: 0.145986\tvalid_0's mape: 0.0114165\n",
      "[767]\tvalid_0's l1: 0.145984\tvalid_0's mape: 0.0114163\n",
      "[768]\tvalid_0's l1: 0.145977\tvalid_0's mape: 0.0114158\n",
      "[769]\tvalid_0's l1: 0.145979\tvalid_0's mape: 0.011416\n",
      "[770]\tvalid_0's l1: 0.145982\tvalid_0's mape: 0.0114163\n",
      "[771]\tvalid_0's l1: 0.145984\tvalid_0's mape: 0.0114165\n",
      "[772]\tvalid_0's l1: 0.145982\tvalid_0's mape: 0.0114164\n",
      "[773]\tvalid_0's l1: 0.145987\tvalid_0's mape: 0.0114168\n",
      "[774]\tvalid_0's l1: 0.145971\tvalid_0's mape: 0.0114158\n",
      "[775]\tvalid_0's l1: 0.145974\tvalid_0's mape: 0.0114161\n",
      "[776]\tvalid_0's l1: 0.14597\tvalid_0's mape: 0.0114158\n",
      "[777]\tvalid_0's l1: 0.145971\tvalid_0's mape: 0.0114159\n",
      "[778]\tvalid_0's l1: 0.145963\tvalid_0's mape: 0.0114154\n",
      "[779]\tvalid_0's l1: 0.14594\tvalid_0's mape: 0.0114138\n",
      "[780]\tvalid_0's l1: 0.145941\tvalid_0's mape: 0.0114139\n",
      "[781]\tvalid_0's l1: 0.145948\tvalid_0's mape: 0.0114143\n",
      "[782]\tvalid_0's l1: 0.145953\tvalid_0's mape: 0.0114147\n",
      "[783]\tvalid_0's l1: 0.145957\tvalid_0's mape: 0.011415\n",
      "[784]\tvalid_0's l1: 0.145962\tvalid_0's mape: 0.0114153\n",
      "[785]\tvalid_0's l1: 0.145976\tvalid_0's mape: 0.0114165\n",
      "[786]\tvalid_0's l1: 0.145969\tvalid_0's mape: 0.011416\n",
      "[787]\tvalid_0's l1: 0.145966\tvalid_0's mape: 0.0114157\n",
      "[788]\tvalid_0's l1: 0.145981\tvalid_0's mape: 0.0114169\n",
      "[789]\tvalid_0's l1: 0.145979\tvalid_0's mape: 0.0114167\n",
      "[790]\tvalid_0's l1: 0.145987\tvalid_0's mape: 0.0114172\n",
      "[791]\tvalid_0's l1: 0.145983\tvalid_0's mape: 0.0114168\n",
      "[792]\tvalid_0's l1: 0.145992\tvalid_0's mape: 0.0114175\n",
      "[793]\tvalid_0's l1: 0.145999\tvalid_0's mape: 0.0114181\n",
      "[794]\tvalid_0's l1: 0.146001\tvalid_0's mape: 0.0114182\n",
      "[795]\tvalid_0's l1: 0.145998\tvalid_0's mape: 0.0114179\n",
      "[796]\tvalid_0's l1: 0.146001\tvalid_0's mape: 0.0114181\n",
      "[797]\tvalid_0's l1: 0.146\tvalid_0's mape: 0.011418\n",
      "[798]\tvalid_0's l1: 0.145999\tvalid_0's mape: 0.0114179\n",
      "[799]\tvalid_0's l1: 0.146008\tvalid_0's mape: 0.0114187\n",
      "[800]\tvalid_0's l1: 0.146011\tvalid_0's mape: 0.0114188\n",
      "[801]\tvalid_0's l1: 0.146007\tvalid_0's mape: 0.0114185\n",
      "[802]\tvalid_0's l1: 0.145996\tvalid_0's mape: 0.0114177\n",
      "[803]\tvalid_0's l1: 0.145979\tvalid_0's mape: 0.0114163\n",
      "[804]\tvalid_0's l1: 0.145987\tvalid_0's mape: 0.0114171\n",
      "[805]\tvalid_0's l1: 0.145994\tvalid_0's mape: 0.0114177\n",
      "[806]\tvalid_0's l1: 0.145995\tvalid_0's mape: 0.0114178\n",
      "[807]\tvalid_0's l1: 0.145997\tvalid_0's mape: 0.011418\n",
      "[808]\tvalid_0's l1: 0.145995\tvalid_0's mape: 0.0114179\n",
      "[809]\tvalid_0's l1: 0.145999\tvalid_0's mape: 0.0114182\n",
      "[810]\tvalid_0's l1: 0.145997\tvalid_0's mape: 0.011418\n",
      "[811]\tvalid_0's l1: 0.146006\tvalid_0's mape: 0.0114187\n",
      "[812]\tvalid_0's l1: 0.146006\tvalid_0's mape: 0.0114186\n",
      "[813]\tvalid_0's l1: 0.146018\tvalid_0's mape: 0.0114197\n",
      "[814]\tvalid_0's l1: 0.146022\tvalid_0's mape: 0.01142\n",
      "[815]\tvalid_0's l1: 0.14603\tvalid_0's mape: 0.0114206\n",
      "[816]\tvalid_0's l1: 0.146028\tvalid_0's mape: 0.0114204\n",
      "[817]\tvalid_0's l1: 0.146028\tvalid_0's mape: 0.0114205\n",
      "[818]\tvalid_0's l1: 0.146029\tvalid_0's mape: 0.0114205\n",
      "[819]\tvalid_0's l1: 0.146023\tvalid_0's mape: 0.0114201\n"
     ]
    },
    {
     "name": "stdout",
     "output_type": "stream",
     "text": [
      "[820]\tvalid_0's l1: 0.146027\tvalid_0's mape: 0.0114205\n",
      "[821]\tvalid_0's l1: 0.146033\tvalid_0's mape: 0.011421\n",
      "[822]\tvalid_0's l1: 0.146034\tvalid_0's mape: 0.011421\n",
      "[823]\tvalid_0's l1: 0.146041\tvalid_0's mape: 0.0114216\n",
      "[824]\tvalid_0's l1: 0.146047\tvalid_0's mape: 0.0114221\n",
      "[825]\tvalid_0's l1: 0.146058\tvalid_0's mape: 0.0114231\n",
      "[826]\tvalid_0's l1: 0.146064\tvalid_0's mape: 0.0114236\n",
      "[827]\tvalid_0's l1: 0.14607\tvalid_0's mape: 0.0114241\n",
      "[828]\tvalid_0's l1: 0.146078\tvalid_0's mape: 0.0114248\n",
      "[829]\tvalid_0's l1: 0.146089\tvalid_0's mape: 0.0114257\n",
      "[830]\tvalid_0's l1: 0.146094\tvalid_0's mape: 0.0114261\n",
      "[831]\tvalid_0's l1: 0.146088\tvalid_0's mape: 0.0114256\n",
      "[832]\tvalid_0's l1: 0.14608\tvalid_0's mape: 0.011425\n",
      "[833]\tvalid_0's l1: 0.146085\tvalid_0's mape: 0.0114254\n",
      "[834]\tvalid_0's l1: 0.146088\tvalid_0's mape: 0.0114257\n",
      "[835]\tvalid_0's l1: 0.146082\tvalid_0's mape: 0.0114253\n",
      "[836]\tvalid_0's l1: 0.146072\tvalid_0's mape: 0.0114245\n",
      "[837]\tvalid_0's l1: 0.146072\tvalid_0's mape: 0.0114244\n",
      "[838]\tvalid_0's l1: 0.146074\tvalid_0's mape: 0.0114247\n",
      "[839]\tvalid_0's l1: 0.146075\tvalid_0's mape: 0.0114248\n",
      "[840]\tvalid_0's l1: 0.146083\tvalid_0's mape: 0.0114255\n",
      "[841]\tvalid_0's l1: 0.146089\tvalid_0's mape: 0.011426\n",
      "[842]\tvalid_0's l1: 0.146086\tvalid_0's mape: 0.0114259\n",
      "[843]\tvalid_0's l1: 0.146081\tvalid_0's mape: 0.0114255\n",
      "[844]\tvalid_0's l1: 0.146082\tvalid_0's mape: 0.0114257\n",
      "[845]\tvalid_0's l1: 0.146081\tvalid_0's mape: 0.0114256\n",
      "[846]\tvalid_0's l1: 0.146087\tvalid_0's mape: 0.0114262\n",
      "[847]\tvalid_0's l1: 0.146086\tvalid_0's mape: 0.0114262\n",
      "[848]\tvalid_0's l1: 0.146056\tvalid_0's mape: 0.0114241\n",
      "[849]\tvalid_0's l1: 0.146052\tvalid_0's mape: 0.0114238\n",
      "[850]\tvalid_0's l1: 0.146042\tvalid_0's mape: 0.0114232\n",
      "[851]\tvalid_0's l1: 0.146045\tvalid_0's mape: 0.0114234\n",
      "[852]\tvalid_0's l1: 0.146048\tvalid_0's mape: 0.0114236\n",
      "[853]\tvalid_0's l1: 0.146041\tvalid_0's mape: 0.0114232\n",
      "[854]\tvalid_0's l1: 0.146047\tvalid_0's mape: 0.0114236\n",
      "[855]\tvalid_0's l1: 0.146047\tvalid_0's mape: 0.0114237\n",
      "[856]\tvalid_0's l1: 0.146056\tvalid_0's mape: 0.0114245\n",
      "[857]\tvalid_0's l1: 0.146068\tvalid_0's mape: 0.0114254\n",
      "[858]\tvalid_0's l1: 0.146075\tvalid_0's mape: 0.011426\n",
      "[859]\tvalid_0's l1: 0.146075\tvalid_0's mape: 0.0114261\n",
      "[860]\tvalid_0's l1: 0.146076\tvalid_0's mape: 0.0114262\n",
      "[861]\tvalid_0's l1: 0.146085\tvalid_0's mape: 0.0114269\n",
      "[862]\tvalid_0's l1: 0.146092\tvalid_0's mape: 0.0114275\n",
      "[863]\tvalid_0's l1: 0.1461\tvalid_0's mape: 0.0114281\n",
      "[864]\tvalid_0's l1: 0.146112\tvalid_0's mape: 0.0114291\n",
      "[865]\tvalid_0's l1: 0.146119\tvalid_0's mape: 0.0114297\n",
      "[866]\tvalid_0's l1: 0.14613\tvalid_0's mape: 0.0114306\n",
      "[867]\tvalid_0's l1: 0.146137\tvalid_0's mape: 0.0114312\n",
      "[868]\tvalid_0's l1: 0.146135\tvalid_0's mape: 0.011431\n",
      "[869]\tvalid_0's l1: 0.146142\tvalid_0's mape: 0.0114315\n",
      "[870]\tvalid_0's l1: 0.146148\tvalid_0's mape: 0.0114321\n",
      "[871]\tvalid_0's l1: 0.146143\tvalid_0's mape: 0.0114317\n",
      "[872]\tvalid_0's l1: 0.146133\tvalid_0's mape: 0.011431\n",
      "[873]\tvalid_0's l1: 0.146129\tvalid_0's mape: 0.0114307\n",
      "[874]\tvalid_0's l1: 0.146119\tvalid_0's mape: 0.0114299\n",
      "[875]\tvalid_0's l1: 0.146102\tvalid_0's mape: 0.0114285\n",
      "[876]\tvalid_0's l1: 0.146098\tvalid_0's mape: 0.0114283\n",
      "[877]\tvalid_0's l1: 0.146095\tvalid_0's mape: 0.011428\n",
      "[878]\tvalid_0's l1: 0.146092\tvalid_0's mape: 0.0114279\n",
      "[879]\tvalid_0's l1: 0.146091\tvalid_0's mape: 0.0114278\n",
      "Early stopping, best iteration is:\n",
      "[779]\tvalid_0's l1: 0.14594\tvalid_0's mape: 0.0114138\n"
     ]
    },
    {
     "data": {
      "text/plain": [
       "LGBMRegressor(bagging_fraction=0.7, bagging_freq=10, feature_fraction=0.9,\n",
       "              learning_rate=0.05, max_bin=512, max_depth=12, metric=['mape'],\n",
       "              n_estimators=1000, num_iterations=1000, num_leaves=128,\n",
       "              objective='regression', task='train', verbose=0)"
      ]
     },
     "execution_count": 101,
     "metadata": {},
     "output_type": "execute_result"
    }
   ],
   "source": [
    "# Defining lightgbm hyper-parameters\n",
    "hyper_params = {\n",
    "                'task': 'train',\n",
    "                'boosting_type': 'gbdt',\n",
    "                'objective': 'regression',\n",
    "                'metric': ['mape'],\n",
    "                'learning_rate': 0.05,\n",
    "                'feature_fraction': 0.9,\n",
    "                'bagging_fraction': 0.7,\n",
    "                'bagging_freq': 10,\n",
    "                'verbose': 0,\n",
    "                \"max_depth\": 12,\n",
    "                \"num_leaves\": 128,  \n",
    "                \"max_bin\": 512,\n",
    "                \"num_iterations\": 1000,\n",
    "                \"n_estimators\": 1000\n",
    "            }\n",
    "\n",
    "# Training lightgbm model\n",
    "lgbm = lgb.LGBMRegressor(**hyper_params)\n",
    "lgbm.fit(X_train, y_train,\n",
    "         eval_set=[(X_val, y_val)],\n",
    "         eval_metric='l1',\n",
    "         early_stopping_rounds=100)"
   ]
  },
  {
   "cell_type": "code",
   "execution_count": 102,
   "metadata": {},
   "outputs": [],
   "source": [
    "lgb_pred = lgbm.predict(X_val)"
   ]
  },
  {
   "cell_type": "code",
   "execution_count": 103,
   "metadata": {
    "scrolled": true
   },
   "outputs": [
    {
     "data": {
      "text/html": [
       "<div>\n",
       "<style scoped>\n",
       "    .dataframe tbody tr th:only-of-type {\n",
       "        vertical-align: middle;\n",
       "    }\n",
       "\n",
       "    .dataframe tbody tr th {\n",
       "        vertical-align: top;\n",
       "    }\n",
       "\n",
       "    .dataframe thead th {\n",
       "        text-align: right;\n",
       "    }\n",
       "</style>\n",
       "<table border=\"1\" class=\"dataframe\">\n",
       "  <thead>\n",
       "    <tr style=\"text-align: right;\">\n",
       "      <th></th>\n",
       "      <th>MAPE</th>\n",
       "      <th>MAE</th>\n",
       "      <th>MSE</th>\n",
       "      <th>RMSE</th>\n",
       "    </tr>\n",
       "  </thead>\n",
       "  <tbody>\n",
       "    <tr>\n",
       "      <th>ExtraTree_baseline</th>\n",
       "      <td>15.282322</td>\n",
       "      <td>117142.087775</td>\n",
       "      <td>9.258594e+10</td>\n",
       "      <td>304279.377166</td>\n",
       "    </tr>\n",
       "    <tr>\n",
       "      <th>XGBoost_1</th>\n",
       "      <td>15.227861</td>\n",
       "      <td>118196.924462</td>\n",
       "      <td>9.005006e+10</td>\n",
       "      <td>300083.415508</td>\n",
       "    </tr>\n",
       "    <tr>\n",
       "      <th>XGBoost_opt</th>\n",
       "      <td>16.514804</td>\n",
       "      <td>147951.373157</td>\n",
       "      <td>1.178385e+11</td>\n",
       "      <td>343276.129743</td>\n",
       "    </tr>\n",
       "    <tr>\n",
       "      <th>LGB</th>\n",
       "      <td>15.757142</td>\n",
       "      <td>131982.177877</td>\n",
       "      <td>1.047078e+11</td>\n",
       "      <td>323585.842181</td>\n",
       "    </tr>\n",
       "  </tbody>\n",
       "</table>\n",
       "</div>"
      ],
      "text/plain": [
       "                         MAPE            MAE           MSE           RMSE\n",
       "ExtraTree_baseline  15.282322  117142.087775  9.258594e+10  304279.377166\n",
       "XGBoost_1           15.227861  118196.924462  9.005006e+10  300083.415508\n",
       "XGBoost_opt         16.514804  147951.373157  1.178385e+11  343276.129743\n",
       "LGB                 15.757142  131982.177877  1.047078e+11  323585.842181"
      ]
     },
     "execution_count": 103,
     "metadata": {},
     "output_type": "execute_result"
    }
   ],
   "source": [
    "df_report = get_regression_metrics(df_report,y_val,lgb_pred, 'LGB')\n",
    "df_report"
   ]
  },
  {
   "cell_type": "code",
   "execution_count": 104,
   "metadata": {
    "scrolled": false
   },
   "outputs": [
    {
     "data": {
      "image/png": "[encoded data removed]",
      "text/plain": [
       "<Figure size 720x720 with 1 Axes>"
      ]
     },
     "metadata": {},
     "output_type": "display_data"
    }
   ],
   "source": [
    "# Check permutation\n",
    "lightgbm.plot_importance(lgbm, ax=None, height=0.2, xlim=None, ylim=None,\n",
    "                         title='Feature importance', xlabel='Feature importance', \n",
    "                         ylabel='Features', importance_type='split', max_num_features=None,\n",
    "                         ignore_zero=True, figsize=(10,10), dpi=None, grid=True, precision=3);"
   ]
  },
  {
   "cell_type": "markdown",
   "metadata": {},
   "source": [
    "# LGBM Optuna"
   ]
  },
  {
   "cell_type": "code",
   "execution_count": 105,
   "metadata": {},
   "outputs": [],
   "source": [
    "# Defining MAPE function since it was removed from sklearn\n",
    "def mape_11(y_pred,y_true): \n",
    "    y_true, y_pred = np.array(y_true), np.array(y_pred)\n",
    "    return np.mean(np.abs((y_true - y_pred) / y_true) * 100)"
   ]
  },
  {
   "cell_type": "code",
   "execution_count": 106,
   "metadata": {},
   "outputs": [],
   "source": [
    "def objective(trial,data=X,target=y):\n",
    "    \n",
    "    train_x, test_x, train_y, test_y = train_test_split(data, target, test_size=0.2,random_state=42)\n",
    "    param = {\n",
    "        'metric': 'mape', \n",
    "        'random_state': 42,\n",
    "        'n_estimators': trial.suggest_categorical('n_estimators', [50, 100,500,700]),\n",
    "        'reg_alpha': trial.suggest_loguniform('reg_alpha', 1e-3, 10.0),\n",
    "        'reg_lambda': trial.suggest_loguniform('reg_lambda', 1e-3, 10.0),\n",
    "        'colsample_bytree': trial.suggest_categorical('colsample_bytree', [0.3,0.4,0.5,0.6,0.7,0.8,0.9, 1.0]),\n",
    "        'subsample': trial.suggest_categorical('subsample', [0.4,0.5,0.6,0.7,0.8,1.0]),\n",
    "        'learning_rate': trial.suggest_categorical('learning_rate', [0.006,0.008,0.01,0.014,0.017,0.02]),\n",
    "        'max_depth': trial.suggest_categorical('max_depth', [10,20,100]),\n",
    "        'num_leaves' : trial.suggest_int('num_leaves', 1, 1000),\n",
    "        'min_child_samples': trial.suggest_int('min_child_samples', 1, 300),\n",
    "        'cat_smooth' : trial.suggest_int('min_data_per_groups', 1, 100)\n",
    "    }\n",
    "    model = lgb.LGBMRegressor(**param)  \n",
    "    \n",
    "    model.fit(train_x,train_y,eval_set=[(test_x,test_y)],early_stopping_rounds=100,verbose=False)\n",
    "    \n",
    "    preds = model.predict(test_x)\n",
    "    \n",
    "    mape = mape_11(np.expm1(test_y), np.expm1(preds))\n",
    "    \n",
    "    return mape"
   ]
  },
  {
   "cell_type": "code",
   "execution_count": 107,
   "metadata": {
    "scrolled": false
   },
   "outputs": [
    {
     "name": "stderr",
     "output_type": "stream",
     "text": [
      "\u001b[32m[I 2021-05-30 18:28:54,085]\u001b[0m A new study created in memory with name: no-name-7ac1d558-79a7-44d9-8d2a-56a59ce81972\u001b[0m\n",
      "\u001b[32m[I 2021-05-30 18:29:00,535]\u001b[0m Trial 0 finished with value: 15.344642993036146 and parameters: {'n_estimators': 500, 'reg_alpha': 0.001788283309040378, 'reg_lambda': 0.013546086674783327, 'colsample_bytree': 1.0, 'subsample': 1.0, 'learning_rate': 0.02, 'max_depth': 20, 'num_leaves': 977, 'min_child_samples': 189, 'min_data_per_groups': 57}. Best is trial 0 with value: 15.344642993036146.\u001b[0m\n",
      "\u001b[32m[I 2021-05-30 18:29:05,298]\u001b[0m Trial 1 finished with value: 15.738346166282739 and parameters: {'n_estimators': 700, 'reg_alpha': 0.21981320832444287, 'reg_lambda': 0.02615624057804746, 'colsample_bytree': 0.7, 'subsample': 0.6, 'learning_rate': 0.014, 'max_depth': 10, 'num_leaves': 207, 'min_child_samples': 246, 'min_data_per_groups': 61}. Best is trial 0 with value: 15.344642993036146.\u001b[0m\n",
      "\u001b[32m[I 2021-05-30 18:29:19,519]\u001b[0m Trial 2 finished with value: 15.05873187358379 and parameters: {'n_estimators': 700, 'reg_alpha': 0.05732954270417669, 'reg_lambda': 0.04444259207946763, 'colsample_bytree': 0.7, 'subsample': 0.6, 'learning_rate': 0.01, 'max_depth': 100, 'num_leaves': 611, 'min_child_samples': 139, 'min_data_per_groups': 82}. Best is trial 2 with value: 15.05873187358379.\u001b[0m\n",
      "\u001b[32m[I 2021-05-30 18:29:21,354]\u001b[0m Trial 3 finished with value: 23.364894676374142 and parameters: {'n_estimators': 700, 'reg_alpha': 0.25367758456444534, 'reg_lambda': 0.6698368936438402, 'colsample_bytree': 0.6, 'subsample': 1.0, 'learning_rate': 0.006, 'max_depth': 100, 'num_leaves': 6, 'min_child_samples': 109, 'min_data_per_groups': 45}. Best is trial 2 with value: 15.05873187358379.\u001b[0m\n",
      "\u001b[32m[I 2021-05-30 18:29:22,513]\u001b[0m Trial 4 finished with value: 25.270511900193846 and parameters: {'n_estimators': 100, 'reg_alpha': 0.008130022014858485, 'reg_lambda': 0.06650526437727897, 'colsample_bytree': 1.0, 'subsample': 0.8, 'learning_rate': 0.017, 'max_depth': 20, 'num_leaves': 136, 'min_child_samples': 229, 'min_data_per_groups': 48}. Best is trial 2 with value: 15.05873187358379.\u001b[0m\n",
      "\u001b[32m[I 2021-05-30 18:29:35,431]\u001b[0m Trial 5 finished with value: 15.196092112754059 and parameters: {'n_estimators': 700, 'reg_alpha': 0.0019009131456765947, 'reg_lambda': 0.018337849108112102, 'colsample_bytree': 0.3, 'subsample': 0.7, 'learning_rate': 0.014, 'max_depth': 20, 'num_leaves': 669, 'min_child_samples': 63, 'min_data_per_groups': 75}. Best is trial 2 with value: 15.05873187358379.\u001b[0m\n",
      "\u001b[32m[I 2021-05-30 18:29:46,389]\u001b[0m Trial 6 finished with value: 15.323790491374828 and parameters: {'n_estimators': 700, 'reg_alpha': 2.629739879453763, 'reg_lambda': 0.14877152077805858, 'colsample_bytree': 0.6, 'subsample': 0.6, 'learning_rate': 0.008, 'max_depth': 20, 'num_leaves': 725, 'min_child_samples': 81, 'min_data_per_groups': 54}. Best is trial 2 with value: 15.05873187358379.\u001b[0m\n",
      "\u001b[32m[I 2021-05-30 18:29:47,761]\u001b[0m Trial 7 finished with value: 24.91558882964653 and parameters: {'n_estimators': 100, 'reg_alpha': 6.834258039028383, 'reg_lambda': 0.005958289509283059, 'colsample_bytree': 1.0, 'subsample': 1.0, 'learning_rate': 0.017, 'max_depth': 100, 'num_leaves': 858, 'min_child_samples': 95, 'min_data_per_groups': 18}. Best is trial 2 with value: 15.05873187358379.\u001b[0m\n",
      "\u001b[32m[I 2021-05-30 18:29:57,518]\u001b[0m Trial 8 finished with value: 16.41259024953491 and parameters: {'n_estimators': 700, 'reg_alpha': 0.5856135568385742, 'reg_lambda': 0.012024487733782292, 'colsample_bytree': 0.3, 'subsample': 0.8, 'learning_rate': 0.006, 'max_depth': 100, 'num_leaves': 420, 'min_child_samples': 29, 'min_data_per_groups': 82}. Best is trial 2 with value: 15.05873187358379.\u001b[0m\n",
      "\u001b[32m[I 2021-05-30 18:30:04,420]\u001b[0m Trial 9 finished with value: 16.105234559639737 and parameters: {'n_estimators': 500, 'reg_alpha': 0.01602658270934709, 'reg_lambda': 0.014326819921689738, 'colsample_bytree': 1.0, 'subsample': 0.4, 'learning_rate': 0.008, 'max_depth': 10, 'num_leaves': 461, 'min_child_samples': 159, 'min_data_per_groups': 56}. Best is trial 2 with value: 15.05873187358379.\u001b[0m\n",
      "\u001b[32m[I 2021-05-30 18:30:05,217]\u001b[0m Trial 10 finished with value: 70.8778606617569 and parameters: {'n_estimators': 50, 'reg_alpha': 0.022537753910388456, 'reg_lambda': 8.456127338835383, 'colsample_bytree': 0.8, 'subsample': 0.5, 'learning_rate': 0.01, 'max_depth': 100, 'num_leaves': 619, 'min_child_samples': 297, 'min_data_per_groups': 98}. Best is trial 2 with value: 15.05873187358379.\u001b[0m\n",
      "\u001b[32m[I 2021-05-30 18:30:22,486]\u001b[0m Trial 11 finished with value: 15.157890762525042 and parameters: {'n_estimators': 700, 'reg_alpha': 0.001277853989343422, 'reg_lambda': 0.0015602595671114587, 'colsample_bytree': 0.9, 'subsample': 0.7, 'learning_rate': 0.01, 'max_depth': 20, 'num_leaves': 680, 'min_child_samples': 4, 'min_data_per_groups': 83}. Best is trial 2 with value: 15.05873187358379.\u001b[0m\n",
      "\u001b[32m[I 2021-05-30 18:30:24,425]\u001b[0m Trial 12 finished with value: 68.90394541139155 and parameters: {'n_estimators': 50, 'reg_alpha': 0.050139172234441885, 'reg_lambda': 0.001392798854948214, 'colsample_bytree': 0.9, 'subsample': 0.7, 'learning_rate': 0.01, 'max_depth': 100, 'num_leaves': 848, 'min_child_samples': 4, 'min_data_per_groups': 96}. Best is trial 2 with value: 15.05873187358379.\u001b[0m\n",
      "\u001b[32m[I 2021-05-30 18:30:35,746]\u001b[0m Trial 13 finished with value: 15.135606031499577 and parameters: {'n_estimators': 700, 'reg_alpha': 0.005581470905584407, 'reg_lambda': 0.0013993162485285968, 'colsample_bytree': 0.5, 'subsample': 0.6, 'learning_rate': 0.01, 'max_depth': 20, 'num_leaves': 531, 'min_child_samples': 138, 'min_data_per_groups': 79}. Best is trial 2 with value: 15.05873187358379.\u001b[0m\n",
      "\u001b[32m[I 2021-05-30 18:30:45,088]\u001b[0m Trial 14 finished with value: 15.22920433905039 and parameters: {'n_estimators': 700, 'reg_alpha': 0.006583919794348364, 'reg_lambda': 1.1661757006904578, 'colsample_bytree': 0.5, 'subsample': 0.6, 'learning_rate': 0.01, 'max_depth': 100, 'num_leaves': 361, 'min_child_samples': 135, 'min_data_per_groups': 73}. Best is trial 2 with value: 15.05873187358379.\u001b[0m\n",
      "\u001b[32m[I 2021-05-30 18:30:51,405]\u001b[0m Trial 15 finished with value: 15.81454117700684 and parameters: {'n_estimators': 700, 'reg_alpha': 0.07545340291752883, 'reg_lambda': 0.3502411843257472, 'colsample_bytree': 0.4, 'subsample': 0.6, 'learning_rate': 0.01, 'max_depth': 10, 'num_leaves': 548, 'min_child_samples': 178, 'min_data_per_groups': 31}. Best is trial 2 with value: 15.05873187358379.\u001b[0m\n",
      "\u001b[32m[I 2021-05-30 18:31:00,324]\u001b[0m Trial 16 finished with value: 15.203902915163793 and parameters: {'n_estimators': 700, 'reg_alpha': 0.00477799375458306, 'reg_lambda': 3.465132419951469, 'colsample_bytree': 0.7, 'subsample': 0.6, 'learning_rate': 0.01, 'max_depth': 20, 'num_leaves': 325, 'min_child_samples': 126, 'min_data_per_groups': 100}. Best is trial 2 with value: 15.05873187358379.\u001b[0m\n",
      "\u001b[32m[I 2021-05-30 18:31:01,240]\u001b[0m Trial 17 finished with value: 42.06273764352306 and parameters: {'n_estimators': 50, 'reg_alpha': 0.031021845852335896, 'reg_lambda': 0.002831090068873021, 'colsample_bytree': 0.5, 'subsample': 0.4, 'learning_rate': 0.02, 'max_depth': 20, 'num_leaves': 527, 'min_child_samples': 205, 'min_data_per_groups': 86}. Best is trial 2 with value: 15.05873187358379.\u001b[0m\n",
      "\u001b[32m[I 2021-05-30 18:31:12,961]\u001b[0m Trial 18 finished with value: 15.040343156047093 and parameters: {'n_estimators': 500, 'reg_alpha': 0.19688451378926447, 'reg_lambda': 0.06800414264036239, 'colsample_bytree': 0.5, 'subsample': 0.5, 'learning_rate': 0.01, 'max_depth': 100, 'num_leaves': 829, 'min_child_samples': 51, 'min_data_per_groups': 73}. Best is trial 18 with value: 15.040343156047093.\u001b[0m\n",
      "\u001b[32m[I 2021-05-30 18:31:23,823]\u001b[0m Trial 19 finished with value: 15.104312029630657 and parameters: {'n_estimators': 500, 'reg_alpha': 1.0471458364268937, 'reg_lambda': 0.055499499733035355, 'colsample_bytree': 0.7, 'subsample': 0.5, 'learning_rate': 0.01, 'max_depth': 100, 'num_leaves': 858, 'min_child_samples': 63, 'min_data_per_groups': 39}. Best is trial 18 with value: 15.040343156047093.\u001b[0m\n",
      "\u001b[32m[I 2021-05-30 18:31:36,631]\u001b[0m Trial 20 finished with value: 15.030563319731202 and parameters: {'n_estimators': 500, 'reg_alpha': 0.17198610254518687, 'reg_lambda': 0.14368570214989265, 'colsample_bytree': 0.8, 'subsample': 0.5, 'learning_rate': 0.02, 'max_depth': 100, 'num_leaves': 772, 'min_child_samples': 35, 'min_data_per_groups': 67}. Best is trial 20 with value: 15.030563319731202.\u001b[0m\n"
     ]
    },
    {
     "name": "stderr",
     "output_type": "stream",
     "text": [
      "\u001b[32m[I 2021-05-30 18:31:51,794]\u001b[0m Trial 21 finished with value: 15.082075424362001 and parameters: {'n_estimators': 500, 'reg_alpha': 0.1889627841879038, 'reg_lambda': 0.16410106603498373, 'colsample_bytree': 0.8, 'subsample': 0.5, 'learning_rate': 0.02, 'max_depth': 100, 'num_leaves': 972, 'min_child_samples': 30, 'min_data_per_groups': 66}. Best is trial 20 with value: 15.030563319731202.\u001b[0m\n",
      "\u001b[32m[I 2021-05-30 18:32:04,426]\u001b[0m Trial 22 finished with value: 15.039572072934675 and parameters: {'n_estimators': 500, 'reg_alpha': 0.11182499898003706, 'reg_lambda': 0.05380610205778333, 'colsample_bytree': 0.8, 'subsample': 0.5, 'learning_rate': 0.02, 'max_depth': 100, 'num_leaves': 786, 'min_child_samples': 35, 'min_data_per_groups': 69}. Best is trial 20 with value: 15.030563319731202.\u001b[0m\n",
      "\u001b[32m[I 2021-05-30 18:32:17,414]\u001b[0m Trial 23 finished with value: 15.013493378953546 and parameters: {'n_estimators': 500, 'reg_alpha': 0.7392166518857533, 'reg_lambda': 0.3164862768202664, 'colsample_bytree': 0.8, 'subsample': 0.5, 'learning_rate': 0.02, 'max_depth': 100, 'num_leaves': 830, 'min_child_samples': 38, 'min_data_per_groups': 67}. Best is trial 23 with value: 15.013493378953546.\u001b[0m\n",
      "\u001b[32m[I 2021-05-30 18:32:29,670]\u001b[0m Trial 24 finished with value: 15.039986142999071 and parameters: {'n_estimators': 500, 'reg_alpha': 0.6494743107147402, 'reg_lambda': 0.3840076166864989, 'colsample_bytree': 0.8, 'subsample': 0.5, 'learning_rate': 0.02, 'max_depth': 100, 'num_leaves': 783, 'min_child_samples': 29, 'min_data_per_groups': 66}. Best is trial 23 with value: 15.013493378953546.\u001b[0m\n",
      "\u001b[32m[I 2021-05-30 18:32:44,356]\u001b[0m Trial 25 finished with value: 15.071868569972747 and parameters: {'n_estimators': 500, 'reg_alpha': 2.485570615793861, 'reg_lambda': 1.7289883767075096, 'colsample_bytree': 0.8, 'subsample': 0.5, 'learning_rate': 0.02, 'max_depth': 100, 'num_leaves': 934, 'min_child_samples': 4, 'min_data_per_groups': 91}. Best is trial 23 with value: 15.013493378953546.\u001b[0m\n",
      "\u001b[32m[I 2021-05-30 18:32:56,363]\u001b[0m Trial 26 finished with value: 15.01659129808066 and parameters: {'n_estimators': 500, 'reg_alpha': 0.12176580633018445, 'reg_lambda': 0.205113901424596, 'colsample_bytree': 0.8, 'subsample': 0.5, 'learning_rate': 0.02, 'max_depth': 100, 'num_leaves': 756, 'min_child_samples': 45, 'min_data_per_groups': 66}. Best is trial 23 with value: 15.013493378953546.\u001b[0m\n",
      "\u001b[32m[I 2021-05-30 18:33:08,144]\u001b[0m Trial 27 finished with value: 14.997509690864984 and parameters: {'n_estimators': 500, 'reg_alpha': 1.203156939942709, 'reg_lambda': 0.2726783008731634, 'colsample_bytree': 0.8, 'subsample': 0.5, 'learning_rate': 0.02, 'max_depth': 100, 'num_leaves': 917, 'min_child_samples': 83, 'min_data_per_groups': 39}. Best is trial 27 with value: 14.997509690864984.\u001b[0m\n",
      "\u001b[32m[I 2021-05-30 18:33:18,386]\u001b[0m Trial 28 finished with value: 15.033523363016364 and parameters: {'n_estimators': 500, 'reg_alpha': 2.0363582714691213, 'reg_lambda': 0.3179268620690586, 'colsample_bytree': 0.8, 'subsample': 0.5, 'learning_rate': 0.02, 'max_depth': 100, 'num_leaves': 923, 'min_child_samples': 83, 'min_data_per_groups': 1}. Best is trial 27 with value: 14.997509690864984.\u001b[0m\n",
      "\u001b[32m[I 2021-05-30 18:33:22,624]\u001b[0m Trial 29 finished with value: 15.684449259510814 and parameters: {'n_estimators': 500, 'reg_alpha': 6.99934745474051, 'reg_lambda': 0.659806604436756, 'colsample_bytree': 0.8, 'subsample': 0.5, 'learning_rate': 0.02, 'max_depth': 10, 'num_leaves': 985, 'min_child_samples': 113, 'min_data_per_groups': 26}. Best is trial 27 with value: 14.997509690864984.\u001b[0m\n",
      "\u001b[32m[I 2021-05-30 18:33:34,365]\u001b[0m Trial 30 finished with value: 14.92337274017298 and parameters: {'n_estimators': 500, 'reg_alpha': 0.3665584490638586, 'reg_lambda': 2.973879426946476, 'colsample_bytree': 0.4, 'subsample': 0.5, 'learning_rate': 0.02, 'max_depth': 100, 'num_leaves': 908, 'min_child_samples': 66, 'min_data_per_groups': 39}. Best is trial 30 with value: 14.92337274017298.\u001b[0m\n",
      "\u001b[32m[I 2021-05-30 18:33:45,725]\u001b[0m Trial 31 finished with value: 14.960533534001572 and parameters: {'n_estimators': 500, 'reg_alpha': 0.4828479841581235, 'reg_lambda': 8.460929311183747, 'colsample_bytree': 0.4, 'subsample': 0.5, 'learning_rate': 0.02, 'max_depth': 100, 'num_leaves': 893, 'min_child_samples': 58, 'min_data_per_groups': 41}. Best is trial 30 with value: 14.92337274017298.\u001b[0m\n",
      "\u001b[32m[I 2021-05-30 18:33:57,108]\u001b[0m Trial 32 finished with value: 14.930126915759502 and parameters: {'n_estimators': 500, 'reg_alpha': 0.3499833620799678, 'reg_lambda': 8.250584162910997, 'colsample_bytree': 0.4, 'subsample': 0.5, 'learning_rate': 0.02, 'max_depth': 100, 'num_leaves': 932, 'min_child_samples': 68, 'min_data_per_groups': 39}. Best is trial 30 with value: 14.92337274017298.\u001b[0m\n",
      "\u001b[32m[I 2021-05-30 18:34:08,690]\u001b[0m Trial 33 finished with value: 14.926389038908745 and parameters: {'n_estimators': 500, 'reg_alpha': 0.36332128116491896, 'reg_lambda': 8.00753502990848, 'colsample_bytree': 0.4, 'subsample': 0.5, 'learning_rate': 0.02, 'max_depth': 100, 'num_leaves': 921, 'min_child_samples': 73, 'min_data_per_groups': 37}. Best is trial 30 with value: 14.92337274017298.\u001b[0m\n",
      "\u001b[32m[I 2021-05-30 18:34:20,029]\u001b[0m Trial 34 finished with value: 15.065690315581252 and parameters: {'n_estimators': 500, 'reg_alpha': 0.35096245756919514, 'reg_lambda': 9.090767639796413, 'colsample_bytree': 0.4, 'subsample': 1.0, 'learning_rate': 0.014, 'max_depth': 100, 'num_leaves': 994, 'min_child_samples': 66, 'min_data_per_groups': 17}. Best is trial 30 with value: 14.92337274017298.\u001b[0m\n",
      "\u001b[32m[I 2021-05-30 18:34:21,750]\u001b[0m Trial 35 finished with value: 22.116725787462208 and parameters: {'n_estimators': 100, 'reg_alpha': 0.35248140520913396, 'reg_lambda': 4.66767833527066, 'colsample_bytree': 0.4, 'subsample': 0.5, 'learning_rate': 0.02, 'max_depth': 100, 'num_leaves': 903, 'min_child_samples': 112, 'min_data_per_groups': 42}. Best is trial 30 with value: 14.92337274017298.\u001b[0m\n",
      "\u001b[32m[I 2021-05-30 18:34:30,383]\u001b[0m Trial 36 finished with value: 17.02477068354345 and parameters: {'n_estimators': 500, 'reg_alpha': 0.3410910779856742, 'reg_lambda': 4.164609566255054, 'colsample_bytree': 0.4, 'subsample': 0.8, 'learning_rate': 0.006, 'max_depth': 100, 'num_leaves': 998, 'min_child_samples': 99, 'min_data_per_groups': 33}. Best is trial 30 with value: 14.92337274017298.\u001b[0m\n",
      "\u001b[32m[I 2021-05-30 18:34:39,506]\u001b[0m Trial 37 finished with value: 15.087266087257412 and parameters: {'n_estimators': 500, 'reg_alpha': 1.3748162446935017, 'reg_lambda': 2.2746522377522407, 'colsample_bytree': 0.4, 'subsample': 0.4, 'learning_rate': 0.017, 'max_depth': 100, 'num_leaves': 710, 'min_child_samples': 68, 'min_data_per_groups': 50}. Best is trial 30 with value: 14.92337274017298.\u001b[0m\n",
      "\u001b[32m[I 2021-05-30 18:34:41,097]\u001b[0m Trial 38 finished with value: 22.22688387400116 and parameters: {'n_estimators': 100, 'reg_alpha': 0.6030377806237947, 'reg_lambda': 7.523231568998302, 'colsample_bytree': 0.4, 'subsample': 0.5, 'learning_rate': 0.02, 'max_depth': 10, 'num_leaves': 951, 'min_child_samples': 12, 'min_data_per_groups': 21}. Best is trial 30 with value: 14.92337274017298.\u001b[0m\n",
      "\u001b[32m[I 2021-05-30 18:34:47,067]\u001b[0m Trial 39 finished with value: 16.484048126927878 and parameters: {'n_estimators': 500, 'reg_alpha': 3.620930479512473, 'reg_lambda': 5.1825241749042545, 'colsample_bytree': 0.4, 'subsample': 1.0, 'learning_rate': 0.008, 'max_depth': 100, 'num_leaves': 878, 'min_child_samples': 93, 'min_data_per_groups': 35}. Best is trial 30 with value: 14.92337274017298.\u001b[0m\n",
      "\u001b[32m[I 2021-05-30 18:34:55,968]\u001b[0m Trial 40 finished with value: 15.094588452811465 and parameters: {'n_estimators': 500, 'reg_alpha': 0.3954542853315839, 'reg_lambda': 2.5920244771560434, 'colsample_bytree': 0.4, 'subsample': 0.5, 'learning_rate': 0.014, 'max_depth': 100, 'num_leaves': 611, 'min_child_samples': 58, 'min_data_per_groups': 8}. Best is trial 30 with value: 14.92337274017298.\u001b[0m\n",
      "\u001b[32m[I 2021-05-30 18:35:05,778]\u001b[0m Trial 41 finished with value: 15.030667625927707 and parameters: {'n_estimators': 500, 'reg_alpha': 1.214063838764309, 'reg_lambda': 1.107587811869572, 'colsample_bytree': 0.4, 'subsample': 0.5, 'learning_rate': 0.02, 'max_depth': 100, 'num_leaves': 914, 'min_child_samples': 79, 'min_data_per_groups': 44}. Best is trial 30 with value: 14.92337274017298.\u001b[0m\n"
     ]
    },
    {
     "name": "stderr",
     "output_type": "stream",
     "text": [
      "\u001b[32m[I 2021-05-30 18:35:17,070]\u001b[0m Trial 42 finished with value: 14.911286501255802 and parameters: {'n_estimators': 500, 'reg_alpha': 0.9189135311238178, 'reg_lambda': 6.62847941103371, 'colsample_bytree': 0.6, 'subsample': 0.5, 'learning_rate': 0.02, 'max_depth': 100, 'num_leaves': 999, 'min_child_samples': 80, 'min_data_per_groups': 40}. Best is trial 42 with value: 14.911286501255802.\u001b[0m\n",
      "\u001b[32m[I 2021-05-30 18:35:26,024]\u001b[0m Trial 43 finished with value: 15.01115120120384 and parameters: {'n_estimators': 500, 'reg_alpha': 0.2788632443782095, 'reg_lambda': 9.771021268165224, 'colsample_bytree': 0.6, 'subsample': 0.5, 'learning_rate': 0.02, 'max_depth': 100, 'num_leaves': 965, 'min_child_samples': 158, 'min_data_per_groups': 28}. Best is trial 42 with value: 14.911286501255802.\u001b[0m\n",
      "\u001b[32m[I 2021-05-30 18:35:28,260]\u001b[0m Trial 44 finished with value: 16.992470036573447 and parameters: {'n_estimators': 500, 'reg_alpha': 3.8753002460634196, 'reg_lambda': 5.870011630698922, 'colsample_bytree': 0.6, 'subsample': 0.8, 'learning_rate': 0.02, 'max_depth': 100, 'num_leaves': 29, 'min_child_samples': 75, 'min_data_per_groups': 59}. Best is trial 42 with value: 14.911286501255802.\u001b[0m\n",
      "\u001b[32m[I 2021-05-30 18:35:29,603]\u001b[0m Trial 45 finished with value: 91.76083065205594 and parameters: {'n_estimators': 50, 'reg_alpha': 0.490671854414241, 'reg_lambda': 6.555539546237588, 'colsample_bytree': 0.6, 'subsample': 0.7, 'learning_rate': 0.006, 'max_depth': 100, 'num_leaves': 815, 'min_child_samples': 17, 'min_data_per_groups': 48}. Best is trial 42 with value: 14.911286501255802.\u001b[0m\n",
      "\u001b[32m[I 2021-05-30 18:35:37,878]\u001b[0m Trial 46 finished with value: 15.614550570762818 and parameters: {'n_estimators': 500, 'reg_alpha': 0.870904198774283, 'reg_lambda': 2.843832369199597, 'colsample_bytree': 0.3, 'subsample': 0.5, 'learning_rate': 0.017, 'max_depth': 100, 'num_leaves': 881, 'min_child_samples': 99, 'min_data_per_groups': 52}. Best is trial 42 with value: 14.911286501255802.\u001b[0m\n",
      "\u001b[32m[I 2021-05-30 18:35:39,694]\u001b[0m Trial 47 finished with value: 21.744684241118275 and parameters: {'n_estimators': 100, 'reg_alpha': 1.8870348872897325, 'reg_lambda': 1.6320148667908803, 'colsample_bytree': 0.4, 'subsample': 0.5, 'learning_rate': 0.02, 'max_depth': 100, 'num_leaves': 737, 'min_child_samples': 48, 'min_data_per_groups': 38}. Best is trial 42 with value: 14.911286501255802.\u001b[0m\n",
      "\u001b[32m[I 2021-05-30 18:35:45,400]\u001b[0m Trial 48 finished with value: 16.469439418013422 and parameters: {'n_estimators': 500, 'reg_alpha': 0.0751085776743232, 'reg_lambda': 8.857943716601966, 'colsample_bytree': 0.4, 'subsample': 0.5, 'learning_rate': 0.008, 'max_depth': 10, 'num_leaves': 1000, 'min_child_samples': 115, 'min_data_per_groups': 24}. Best is trial 42 with value: 14.911286501255802.\u001b[0m\n",
      "\u001b[32m[I 2021-05-30 18:36:01,536]\u001b[0m Trial 49 finished with value: 15.252732653771819 and parameters: {'n_estimators': 500, 'reg_alpha': 0.14891630240031975, 'reg_lambda': 4.1287086241582145, 'colsample_bytree': 1.0, 'subsample': 0.4, 'learning_rate': 0.02, 'max_depth': 100, 'num_leaves': 1000, 'min_child_samples': 17, 'min_data_per_groups': 30}. Best is trial 42 with value: 14.911286501255802.\u001b[0m\n"
     ]
    }
   ],
   "source": [
    "study = optuna.create_study(direction='minimize')\n",
    "study.optimize(objective, n_trials=50)"
   ]
  },
  {
   "cell_type": "code",
   "execution_count": null,
   "metadata": {},
   "outputs": [],
   "source": [
    "# plot_optimization_histor: shows the scores from all trials as \n",
    "# well as the best score so far at each point.\n",
    "optuna.visualization.plot_optimization_history(study)"
   ]
  },
  {
   "cell_type": "code",
   "execution_count": null,
   "metadata": {},
   "outputs": [],
   "source": [
    "#plot_parallel_coordinate: interactively visualizes the hyperparameters and scores\n",
    "optuna.visualization.plot_parallel_coordinate(study)"
   ]
  },
  {
   "cell_type": "code",
   "execution_count": null,
   "metadata": {},
   "outputs": [],
   "source": [
    "'''plot_slice: shows the evolution of the search. You can see where in the hyperparameter space your search\n",
    "went and which parts of the space were explored more.'''\n",
    "optuna.visualization.plot_slice(study)"
   ]
  },
  {
   "cell_type": "code",
   "execution_count": null,
   "metadata": {},
   "outputs": [],
   "source": [
    "#Visualize parameter importances.\n",
    "optuna.visualization.plot_param_importances(study)"
   ]
  },
  {
   "cell_type": "code",
   "execution_count": null,
   "metadata": {},
   "outputs": [],
   "source": [
    "#Visualize empirical distribution function\n",
    "optuna.visualization.plot_edf(study)"
   ]
  },
  {
   "cell_type": "code",
   "execution_count": 108,
   "metadata": {},
   "outputs": [],
   "source": [
    "param_lgb = study.best_params"
   ]
  },
  {
   "cell_type": "code",
   "execution_count": 109,
   "metadata": {
    "scrolled": true
   },
   "outputs": [
    {
     "data": {
      "text/plain": [
       "LGBMRegressor(colsample_bytree=0.6, learning_rate=0.02, max_depth=100,\n",
       "              min_child_samples=80, min_data_per_groups=40, n_estimators=500,\n",
       "              num_leaves=999, reg_alpha=0.9189135311238178,\n",
       "              reg_lambda=6.62847941103371, subsample=0.5)"
      ]
     },
     "execution_count": 109,
     "metadata": {},
     "output_type": "execute_result"
    }
   ],
   "source": [
    "lgb_opt = lgb.LGBMRegressor(**param_lgb)\n",
    "lgb_opt.fit(X_train, y_train,)\n",
    "#          eval_set=[(X_val, y_val)],\n",
    "#          eval_metric='l1',\n",
    "#          early_stopping_rounds=100)\n"
   ]
  },
  {
   "cell_type": "code",
   "execution_count": 110,
   "metadata": {},
   "outputs": [],
   "source": [
    "lgb_opt_pred = lgb_opt.predict(X_val)"
   ]
  },
  {
   "cell_type": "code",
   "execution_count": 111,
   "metadata": {},
   "outputs": [
    {
     "data": {
      "text/html": [
       "<div>\n",
       "<style scoped>\n",
       "    .dataframe tbody tr th:only-of-type {\n",
       "        vertical-align: middle;\n",
       "    }\n",
       "\n",
       "    .dataframe tbody tr th {\n",
       "        vertical-align: top;\n",
       "    }\n",
       "\n",
       "    .dataframe thead th {\n",
       "        text-align: right;\n",
       "    }\n",
       "</style>\n",
       "<table border=\"1\" class=\"dataframe\">\n",
       "  <thead>\n",
       "    <tr style=\"text-align: right;\">\n",
       "      <th></th>\n",
       "      <th>MAPE</th>\n",
       "      <th>MAE</th>\n",
       "      <th>MSE</th>\n",
       "      <th>RMSE</th>\n",
       "    </tr>\n",
       "  </thead>\n",
       "  <tbody>\n",
       "    <tr>\n",
       "      <th>ExtraTree_baseline</th>\n",
       "      <td>15.282322</td>\n",
       "      <td>117142.087775</td>\n",
       "      <td>9.258594e+10</td>\n",
       "      <td>304279.377166</td>\n",
       "    </tr>\n",
       "    <tr>\n",
       "      <th>XGBoost_1</th>\n",
       "      <td>15.227861</td>\n",
       "      <td>118196.924462</td>\n",
       "      <td>9.005006e+10</td>\n",
       "      <td>300083.415508</td>\n",
       "    </tr>\n",
       "    <tr>\n",
       "      <th>XGBoost_opt</th>\n",
       "      <td>16.514804</td>\n",
       "      <td>147951.373157</td>\n",
       "      <td>1.178385e+11</td>\n",
       "      <td>343276.129743</td>\n",
       "    </tr>\n",
       "    <tr>\n",
       "      <th>LGB</th>\n",
       "      <td>15.757142</td>\n",
       "      <td>131982.177877</td>\n",
       "      <td>1.047078e+11</td>\n",
       "      <td>323585.842181</td>\n",
       "    </tr>\n",
       "    <tr>\n",
       "      <th>LGB+optuna</th>\n",
       "      <td>15.141508</td>\n",
       "      <td>124591.832130</td>\n",
       "      <td>1.179839e+11</td>\n",
       "      <td>343487.873636</td>\n",
       "    </tr>\n",
       "  </tbody>\n",
       "</table>\n",
       "</div>"
      ],
      "text/plain": [
       "                         MAPE            MAE           MSE           RMSE\n",
       "ExtraTree_baseline  15.282322  117142.087775  9.258594e+10  304279.377166\n",
       "XGBoost_1           15.227861  118196.924462  9.005006e+10  300083.415508\n",
       "XGBoost_opt         16.514804  147951.373157  1.178385e+11  343276.129743\n",
       "LGB                 15.757142  131982.177877  1.047078e+11  323585.842181\n",
       "LGB+optuna          15.141508  124591.832130  1.179839e+11  343487.873636"
      ]
     },
     "execution_count": 111,
     "metadata": {},
     "output_type": "execute_result"
    }
   ],
   "source": [
    "df_report = get_regression_metrics(df_report,y_val,lgb_opt_pred, 'LGB+optuna')\n",
    "df_report"
   ]
  },
  {
   "cell_type": "markdown",
   "metadata": {},
   "source": [
    "## Gradient boost"
   ]
  },
  {
   "cell_type": "code",
   "execution_count": null,
   "metadata": {},
   "outputs": [],
   "source": [
    "params = {'n_estimators': 800,\n",
    "          'max_depth': 8,\n",
    "          'min_samples_split': 7,\n",
    "          'learning_rate': 0.01,\n",
    "          'loss': 'ls'}"
   ]
  },
  {
   "cell_type": "code",
   "execution_count": null,
   "metadata": {},
   "outputs": [],
   "source": [
    "gboost = GradientBoostingRegressor(**params)\n",
    "gboost.fit(X_train, y_train)\n",
    "gboost_pred = gboost.predict(X_val)"
   ]
  },
  {
   "cell_type": "code",
   "execution_count": null,
   "metadata": {
    "scrolled": true
   },
   "outputs": [],
   "source": [
    "df_report = get_regression_metrics(df_report,y_val,gboost_pred, 'GBOOST')\n",
    "df_report"
   ]
  },
  {
   "cell_type": "code",
   "execution_count": null,
   "metadata": {},
   "outputs": [],
   "source": [
    "test_score = np.zeros((params['n_estimators'],), dtype=np.float64)\n",
    "for i, gboost_pred in enumerate(gboost.staged_predict(X_val)):\n",
    "    test_score[i] = gboost.loss_(y_val, gboost_pred)\n",
    "\n",
    "fig = plt.figure(figsize=(6, 6))\n",
    "plt.subplot(1, 1, 1)\n",
    "plt.title('Deviance')\n",
    "plt.plot(np.arange(params['n_estimators']) + 1, gboost.train_score_, 'b-',\n",
    "         label='Training Set Deviance')\n",
    "plt.plot(np.arange(params['n_estimators']) + 1, test_score, 'r-',\n",
    "         label='Test Set Deviance')\n",
    "plt.legend(loc='upper right')\n",
    "plt.xlabel('Boosting Iterations')\n",
    "plt.ylabel('Deviance')\n",
    "fig.tight_layout()\n",
    "plt.show()"
   ]
  },
  {
   "cell_type": "code",
   "execution_count": null,
   "metadata": {},
   "outputs": [],
   "source": [
    "gboost.fit(X_train, y_train)"
   ]
  },
  {
   "cell_type": "code",
   "execution_count": null,
   "metadata": {},
   "outputs": [],
   "source": [
    "submission_gboost = pd.DataFrame({'sell_id': sell_id,\n",
    "                           'price': np.exp(gboost.predict(X_test))*0.905})\n",
    "\n",
    "submission_gboost.to_csv('submission_gboost.csv', index=False)"
   ]
  },
  {
   "cell_type": "markdown",
   "metadata": {},
   "source": [
    "## STACKING"
   ]
  },
  {
   "cell_type": "code",
   "execution_count": null,
   "metadata": {},
   "outputs": [],
   "source": [
    "from mlxtend.regressor import StackingRegressor"
   ]
  },
  {
   "cell_type": "code",
   "execution_count": null,
   "metadata": {},
   "outputs": [],
   "source": [
    "ENet = ElasticNet()"
   ]
  },
  {
   "cell_type": "code",
   "execution_count": null,
   "metadata": {},
   "outputs": [],
   "source": [
    "from sklearn.linear_model import LinearRegression\n",
    "lr = LinearRegression()"
   ]
  },
  {
   "cell_type": "code",
   "execution_count": null,
   "metadata": {},
   "outputs": [],
   "source": [
    "stck_regrs = StackingRegressor(regressors=[rf,cbr,xg_reg,lgbm,gboost],\n",
    "                               meta_regressor=lr)"
   ]
  },
  {
   "cell_type": "code",
   "execution_count": null,
   "metadata": {
    "scrolled": true
   },
   "outputs": [],
   "source": [
    "stck_regrs.fit(X_train,y_train)"
   ]
  },
  {
   "cell_type": "code",
   "execution_count": null,
   "metadata": {},
   "outputs": [],
   "source": [
    "y_pred_stck_regrs = stck_regrs.predict(X_val)"
   ]
  },
  {
   "cell_type": "code",
   "execution_count": null,
   "metadata": {},
   "outputs": [],
   "source": [
    "df_report = get_regression_metrics(df_report,y_val,y_pred_stck_regrs, 'Stack')\n",
    "df_report"
   ]
  },
  {
   "cell_type": "code",
   "execution_count": 118,
   "metadata": {},
   "outputs": [],
   "source": [
    "extra_pred = rf.predict(X_test)\n",
    "cbr_pred = cbr.predict(X_test)\n",
    "xgboost_pred = xg_reg.predict(X_test)\n",
    "lgb_opt_pred = lgb_opt.predict(X_test)\n",
    "# lgb_pred = lgbm.predict(X_test)\n",
    "# gboost = gboost.predict(X_test)\n",
    "# stck = stck_regrs.predict(X_test)"
   ]
  },
  {
   "cell_type": "code",
   "execution_count": 116,
   "metadata": {},
   "outputs": [
    {
     "data": {
      "text/html": [
       "<div>\n",
       "<style scoped>\n",
       "    .dataframe tbody tr th:only-of-type {\n",
       "        vertical-align: middle;\n",
       "    }\n",
       "\n",
       "    .dataframe tbody tr th {\n",
       "        vertical-align: top;\n",
       "    }\n",
       "\n",
       "    .dataframe thead th {\n",
       "        text-align: right;\n",
       "    }\n",
       "</style>\n",
       "<table border=\"1\" class=\"dataframe\">\n",
       "  <thead>\n",
       "    <tr style=\"text-align: right;\">\n",
       "      <th></th>\n",
       "      <th>MAPE</th>\n",
       "      <th>MAE</th>\n",
       "      <th>MSE</th>\n",
       "      <th>RMSE</th>\n",
       "    </tr>\n",
       "  </thead>\n",
       "  <tbody>\n",
       "    <tr>\n",
       "      <th>ExtraTree_baseline</th>\n",
       "      <td>15.282322</td>\n",
       "      <td>117142.087775</td>\n",
       "      <td>9.258594e+10</td>\n",
       "      <td>304279.377166</td>\n",
       "    </tr>\n",
       "    <tr>\n",
       "      <th>XGBoost_1</th>\n",
       "      <td>15.227861</td>\n",
       "      <td>118196.924462</td>\n",
       "      <td>9.005006e+10</td>\n",
       "      <td>300083.415508</td>\n",
       "    </tr>\n",
       "    <tr>\n",
       "      <th>XGBoost_opt</th>\n",
       "      <td>16.514804</td>\n",
       "      <td>147951.373157</td>\n",
       "      <td>1.178385e+11</td>\n",
       "      <td>343276.129743</td>\n",
       "    </tr>\n",
       "    <tr>\n",
       "      <th>LGB</th>\n",
       "      <td>15.757142</td>\n",
       "      <td>131982.177877</td>\n",
       "      <td>1.047078e+11</td>\n",
       "      <td>323585.842181</td>\n",
       "    </tr>\n",
       "    <tr>\n",
       "      <th>LGB+optuna</th>\n",
       "      <td>15.141508</td>\n",
       "      <td>124591.832130</td>\n",
       "      <td>1.179839e+11</td>\n",
       "      <td>343487.873636</td>\n",
       "    </tr>\n",
       "    <tr>\n",
       "      <th>CatBoost</th>\n",
       "      <td>15.591592</td>\n",
       "      <td>134115.271278</td>\n",
       "      <td>1.125135e+11</td>\n",
       "      <td>335430.298839</td>\n",
       "    </tr>\n",
       "  </tbody>\n",
       "</table>\n",
       "</div>"
      ],
      "text/plain": [
       "                         MAPE            MAE           MSE           RMSE\n",
       "ExtraTree_baseline  15.282322  117142.087775  9.258594e+10  304279.377166\n",
       "XGBoost_1           15.227861  118196.924462  9.005006e+10  300083.415508\n",
       "XGBoost_opt         16.514804  147951.373157  1.178385e+11  343276.129743\n",
       "LGB                 15.757142  131982.177877  1.047078e+11  323585.842181\n",
       "LGB+optuna          15.141508  124591.832130  1.179839e+11  343487.873636\n",
       "CatBoost            15.591592  134115.271278  1.125135e+11  335430.298839"
      ]
     },
     "execution_count": 116,
     "metadata": {},
     "output_type": "execute_result"
    }
   ],
   "source": [
    "df_report"
   ]
  },
  {
   "cell_type": "code",
   "execution_count": 119,
   "metadata": {},
   "outputs": [],
   "source": [
    "ensemble = (xgboost_pred*.1 + extra_pred*.1 + cbr_pred*.1 + lgb_opt_pred* .7)"
   ]
  },
  {
   "cell_type": "code",
   "execution_count": null,
   "metadata": {},
   "outputs": [],
   "source": [
    "# #Submission\n",
    "# stck_regrs = StackingRegressor(regressors=[lgbm, xg_reg, rf,cbr],\n",
    "#                                meta_regressor=lr)\n",
    "# stck_regrs.fit(X,y)"
   ]
  },
  {
   "cell_type": "code",
   "execution_count": 120,
   "metadata": {},
   "outputs": [],
   "source": [
    "submission_stack = pd.DataFrame({'sell_id': sell_id,\n",
    "                           'price': np.exp(ensemble)*.92})\n",
    "\n",
    "submission_stack.to_csv('submission_stack.csv', index=False)"
   ]
  }
 ],
 "metadata": {
  "kernelspec": {
   "display_name": "Python 3",
   "language": "python",
   "name": "python3"
  },
  "language_info": {
   "codemirror_mode": {
    "name": "ipython",
    "version": 3
   },
   "file_extension": ".py",
   "mimetype": "text/x-python",
   "name": "python",
   "nbconvert_exporter": "python",
   "pygments_lexer": "ipython3",
   "version": "3.8.5"
  },
  "toc": {
   "base_numbering": 1,
   "nav_menu": {},
   "number_sections": true,
   "sideBar": true,
   "skip_h1_title": false,
   "title_cell": "Table of Contents",
   "title_sidebar": "Contents",
   "toc_cell": false,
   "toc_position": {
    "height": "calc(100% - 180px)",
    "left": "10px",
    "top": "150px",
    "width": "255.594px"
   },
   "toc_section_display": true,
   "toc_window_display": true
  },
  "varInspector": {
   "cols": {
    "lenName": 16,
    "lenType": 16,
    "lenVar": 40
   },
   "kernels_config": {
    "python": {
     "delete_cmd_postfix": "",
     "delete_cmd_prefix": "del ",
     "library": "var_list.py",
     "varRefreshCmd": "print(var_dic_list())"
    },
    "r": {
     "delete_cmd_postfix": ") ",
     "delete_cmd_prefix": "rm(",
     "library": "var_list.r",
     "varRefreshCmd": "cat(var_dic_list()) "
    }
   },
   "types_to_exclude": [
    "module",
    "function",
    "builtin_function_or_method",
    "instance",
    "_Feature"
   ],
   "window_display": false
  }
 },
 "nbformat": 4,
 "nbformat_minor": 4
}
