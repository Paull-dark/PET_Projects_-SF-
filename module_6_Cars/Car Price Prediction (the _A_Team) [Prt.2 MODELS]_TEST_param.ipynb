{
 "cells": [
  {
   "cell_type": "markdown",
   "metadata": {},
   "source": [
    "# Choose a Car Profitably [Car Price prediction] PART.2"
   ]
  },
  {
   "cell_type": "markdown",
   "metadata": {},
   "source": [
    "In this part we will focus on feature engineering and building a several models.\n",
    "Reference: Car Price Prediction (the _A_Team) [Prt.2 EDA]"
   ]
  },
  {
   "cell_type": "markdown",
   "metadata": {},
   "source": [
    "This work has made by Paul Krivchenia in cooperation with Vitaliy Burlakov (a.k.a Vetak8):\n",
    "\n",
    "[My GitHub](https://github.com/Paull-dark)\n",
    "\n",
    "[Vetak's GitHub](https://github.com/vetak8)\n",
    "\n",
    "[Vetak's Kaggle](https://www.kaggle.com/vitaliyburlakov)"
   ]
  },
  {
   "cell_type": "markdown",
   "metadata": {},
   "source": [
    "<img src = 'http://3.bp.blogspot.com/--knDCWYzMOw/UqzpwyctJeI/AAAAAAAAAT8/Ui66KNd1nXM/s1600/7egylh57hbhs.jpg' width= '400px'>"
   ]
  },
  {
   "cell_type": "markdown",
   "metadata": {},
   "source": [
    "<a id=\"sec2\"></a>\n",
    "# [1. INDEX](#sec1)\n",
    "\n",
    "<a id=\"sec1\"></a>\n",
    "1. [INDEX](#sec1)\n",
    "2. [IMPORT LIBRARRIES](#sec2)\n",
    "3. [Functions and Classes](#sec3)\n",
    "    * [3.1 General Functions](#sec3.1)\n",
    "    * [3.2 Classes](#sec3.2)\n",
    "    * [3.3 Functions for feature engineering](#sec3.3)\n",
    "4. [Load and Chek the Dataset](#sec4)\n",
    "5. [Feature Engeneering](#sec5)\n",
    "    * [5.1 Target](#sec5.1)\n",
    "    * [5.2 Body_type & Model_name](#sec5.2)\n",
    "    * [5.3 Color](#sec5.3)\n",
    "    * [5.4 Model_name](#sec5.4)\n",
    "    * [5.5 Description](#sec5.5)\n",
    "    * [5.6 Equipment dict](#sec5.6)\n",
    "    * [5.7 Fuel_type](#sec5.7)\n",
    "    * [5.8 Mileage](#sec5.8)\n",
    "    * [5.9 Engine displacement](#sec5.9)\n",
    "    * [5.10 Engine Power](#sec5.10)\n",
    "    * [5.11 Super Gen](#sec5.11)\n",
    "    * [5.12 Wheel Drive](#sec5.12)\n",
    "    * [5.13 Price drop index](#sec5.13)\n",
    "    * [5.14 Dropping cols without content](#sec5.14)\n",
    "    * [5.15 Vendor](#sec5.15)\n",
    "    * [5.16 Handling multocorrelation out](#sec5.16)\n",
    "    * [5.17 Clustering](#sec5.17)\n",
    "    * [5.18 Log Func](#sec5.18)\n",
    "    * [5.19 Encoding](#sec5.19)\n",
    "    * [5.20 Dropping columns out](#sec5.20)\n",
    "6. [Prepare the data for models](#sec6)"
   ]
  },
  {
   "cell_type": "markdown",
   "metadata": {},
   "source": [
    "<a id=\"sec2\"></a>\n",
    "# [2. Import LIBRARIES](#sec2)"
   ]
  },
  {
   "cell_type": "code",
   "execution_count": 1,
   "metadata": {},
   "outputs": [
    {
     "name": "stderr",
     "output_type": "stream",
     "text": [
      "C:\\ProgramData\\Anaconda3\\lib\\site-packages\\sklearn\\utils\\deprecation.py:143: FutureWarning: The sklearn.utils.testing module is  deprecated in version 0.22 and will be removed in version 0.24. The corresponding classes / functions should instead be imported from sklearn.utils. Anything that cannot be imported from sklearn.utils is now part of the private API.\n",
      "  warnings.warn(message, FutureWarning)\n"
     ]
    }
   ],
   "source": [
    "from Preprocessing import df_combined\n",
    "\n",
    "import pandas as pd\n",
    "import numpy as np\n",
    "import re\n",
    "import matplotlib.pyplot as plt\n",
    "import seaborn as sns\n",
    "import plotly.express as px\n",
    "import statsmodels.api as sm\n",
    "import ast\n",
    "import warnings\n",
    "from jupyterthemes import jtplot\n",
    "\n",
    "from textblob import TextBlob  # for sentiment analysis\n",
    "from wordcloud import WordCloud, STOPWORDS  # for creating cloud of words\n",
    "from sklearn.cluster import DBSCAN\n",
    "\n",
    "from sklearn.decomposition import PCA \n",
    "from sklearn.preprocessing import LabelEncoder, OneHotEncoder\n",
    "from sklearn.preprocessing import StandardScaler, RobustScaler\n",
    "from sklearn.model_selection import train_test_split\n",
    "from sklearn.metrics import mean_absolute_error, mean_squared_error\n",
    "from sklearn.feature_extraction import DictVectorizer\n",
    "from sklearn.feature_selection import f_regression\n",
    "from sklearn.model_selection import StratifiedShuffleSplit\n",
    "from sklearn.model_selection import GridSearchCV\n",
    "\n",
    "\n",
    "from lazypredict.Supervised import LazyRegressor\n",
    "from sklearn.ensemble import ExtraTreesRegressor, RandomForestRegressor\n",
    "from sklearn.ensemble import GradientBoostingRegressor\n",
    "from sklearn.linear_model import ElasticNet\n",
    "from xgboost import XGBRFRegressor\n",
    "from catboost import CatBoostRegressor\n",
    "import xgboost as xgb\n",
    "import lightgbm  as lgb\n",
    "import lightgbm\n",
    "import optuna\n",
    "\n",
    "\n",
    "from xgboost import plot_importance\n",
    "\n",
    "warnings.filterwarnings(\"ignore\")\n",
    "\n",
    "%matplotlib inline\n",
    "pd.set_option('display.max_rows', 50)  # Show more rows\n",
    "pd.set_option('display.max_columns', 50)  # Show more columns\n",
    "plt.style.use('ggplot')  # Nice plotting\n",
    "\n",
    "jtplot.style(theme='monokai', context='notebook', ticks=True, grid=False)"
   ]
  },
  {
   "cell_type": "code",
   "execution_count": 2,
   "metadata": {},
   "outputs": [
    {
     "data": {
      "image/png": "[encoded data removed]",
      "text/plain": [
       "<Figure size 360x72 with 1 Axes>"
      ]
     },
     "metadata": {},
     "output_type": "display_data"
    }
   ],
   "source": [
    "# Set project colors\n",
    "colors = ['#001c57', '#50248f', '#a6a6a6', '#38d1ff','#cc3181']\n",
    "sns.palplot(sns.color_palette(colors))"
   ]
  },
  {
   "cell_type": "markdown",
   "metadata": {},
   "source": [
    "<a id=\"sec3\"></a>\n",
    "# [3. Functions and Classes](#sec3)\n",
    "[(INDEX)](#sec1)"
   ]
  },
  {
   "cell_type": "markdown",
   "metadata": {},
   "source": [
    "<a id=\"sec3.1\"></a>\n",
    "## [3.1 GENERAL FUNCTIONS](#sec3.1)\n",
    "[(INDEX)](#sec1)"
   ]
  },
  {
   "cell_type": "code",
   "execution_count": 3,
   "metadata": {},
   "outputs": [],
   "source": [
    "def missing_vars(data, column, random_proba=True):\n",
    "    '''Function is called for filling of missing data'''\n",
    "    # With using probability and random choise\n",
    "\n",
    "    if random_proba:\n",
    "        col_name = data[column].value_counts().index.to_list(\n",
    "        )  # get list of values\n",
    "        col_distr = data[column].value_counts(\n",
    "            normalize=True).values  # get l;ist of probs\n",
    "        missing = data[col].isnull()  # flag of missing val\n",
    "        # substitute values from the list of names in accordance with the probability of meeting the name\n",
    "        data.loc[missing, [column]] = np.random.choice(col_name,\n",
    "                                                    size=len(data[missing]),\n",
    "                                                    p=col_distr)\n",
    "\n",
    "    # Using  most common in  column\n",
    "    data[col] = data[col].fillna(data[col].value_counts().index[0])"
   ]
  },
  {
   "cell_type": "code",
   "execution_count": 4,
   "metadata": {},
   "outputs": [],
   "source": [
    "def get_variable_distribution(col, title=None):\n",
    "    '''Function is called to plot feture distribution'''\n",
    "\n",
    "    title = title if title is not None else f\"Distribution for '{col}\"\n",
    "    fig, (ax1, ax2, ax3) = plt.subplots(1, 3, figsize=(15, 5),)\n",
    "    fig = sm.qqplot(col, fit=True, line='45', ax=ax1)\n",
    "    fig.suptitle(title, fontsize=20)\n",
    "\n",
    "    sns.distplot(col.values, bins=20, color=colors[1], ax=ax2)\n",
    "#     sns.violinplot(col.values, color=colors[3], bw=.3, cut=1, linewidth=4)\n",
    "    sns.boxplot(col.values,color=colors[3])\n",
    "\n",
    "    ax1.set_title('QQ-plot')\n",
    "    ax2.set_title('Distribution')\n",
    "    ax3.set_title('Boxplot')\n",
    "\n",
    "    plt.show()"
   ]
  },
  {
   "cell_type": "code",
   "execution_count": 5,
   "metadata": {},
   "outputs": [],
   "source": [
    "def corr_matrix(data, det=True, pltx=10, plty=10):\n",
    "    '''Funcion is called for making correlation matrix'''\n",
    "\n",
    "    corr = data.corr()\n",
    "    if det:\n",
    "\n",
    "        evals, evec = np.linalg.eig(corr)\n",
    "        ev_product = np.prod(evals)\n",
    "\n",
    "        print(f'Rank of Matrix: {np.linalg.matrix_rank(corr)}')\n",
    "        print(f'Determinant of matrix: {np.round(ev_product,4)}')\n",
    "        print(f'Shape of matrix: {np.shape(corr)}')\n",
    "\n",
    "    plt.figure(figsize=(pltx, plty))\n",
    "    sns.heatmap(corr[(corr >= .2) | (corr <= -.2)],\n",
    "                cmap='viridis',\n",
    "                vmin=-1.0,\n",
    "                linewidths=0.1,\n",
    "                annot=True,\n",
    "                annot_kws={\"size\": 10},\n",
    "                square=True)\n",
    "    #     sns.heatmap(X,vmin=0,vmax=.9,annot=True,square=True)\n",
    "    plt.show()"
   ]
  },
  {
   "cell_type": "code",
   "execution_count": 6,
   "metadata": {},
   "outputs": [],
   "source": [
    "def cleanTxt(text):\n",
    "    '''Function is called for cleaning text from trash\n",
    "    INPUT: dirty string\n",
    "    OUTPUT: More or less clean string'''\n",
    "\n",
    "    text = re.sub(r'@[А-Яа-я0-9]+', '', text)  # Remove @\n",
    "    text = re.sub(r'#', '', text)  # remove #\n",
    "    text = re.sub(r'{', '', text)\n",
    "    text = re.sub(r'}', '', text)\n",
    "    text = re.sub('^а-яА-Я', ' ', text)\n",
    "    text = re.sub(r'https?:\\/\\/\\S+', '', text)  # remove hyperlink\n",
    "    text = re.sub(r'\\n', '', text)\n",
    "    text = re.sub(r'✅', '', text)\n",
    "    text = re.sub(r'👍🏻', '', text)\n",
    "    text = re.sub(r'✨', '', text)\n",
    "    \n",
    "    \n",
    "    # there are much more emoji. I don't know how to identify them so far\n",
    "\n",
    "    text = text.strip()\n",
    "    text = text.lower()\n",
    "    #text = text.split()\n",
    "    return text"
   ]
  },
  {
   "cell_type": "code",
   "execution_count": 7,
   "metadata": {},
   "outputs": [],
   "source": [
    "def to_log(df, cols_to_log):\n",
    "    'smart log'\n",
    "    for col in cols_to_log:\n",
    "        a = df[col].min()\n",
    "        if a <= 0:                        \n",
    "            df[col] = np.log(df[col] + (int(abs(df[col].min()))+2))\n",
    "        \n",
    "        df[col] = np.log(df[col])\n",
    "    return df"
   ]
  },
  {
   "cell_type": "code",
   "execution_count": 8,
   "metadata": {},
   "outputs": [],
   "source": [
    "# Defining MAPE function since it was removed from sklearn\n",
    "def mape(y_true, y_pred):\n",
    "    'Function to calculate MAPE metric'\n",
    "#     y_true, y_pred = np.expm1(y_true), np.expm1(y_pred)\n",
    "    y_true, y_pred = np.array(y_true), np.array(y_pred)\n",
    "    return np.mean(np.abs((y_true - y_pred) / y_true) * 100)"
   ]
  },
  {
   "cell_type": "code",
   "execution_count": 9,
   "metadata": {},
   "outputs": [],
   "source": [
    "def get_regression_metrics(report_df,y_true, y_pred, name):\n",
    "    '''Create and add metrics into a pandas DF after experiment'''\n",
    "    y_true, y_pred = np.expm1(y_true), np.expm1(y_pred)\n",
    "\n",
    "    report = pd.DataFrame(columns={'MAPE'}, data=[0])\n",
    "    try:\n",
    "        report['MAPE'] = mape(y_true, y_pred)\n",
    "    except:\n",
    "        report['MAPE'] = 'failed'\n",
    "    report['MAE'] = mean_absolute_error(y_true, y_pred)\n",
    "    report['MSE'] = mean_squared_error(y_true, y_pred)\n",
    "    report['RMSE'] = np.sqrt(mean_squared_error(y_true, y_pred))\n",
    "\n",
    "    report.index = [name]\n",
    "    report_df = report_df.append(report)\n",
    "    return report_df"
   ]
  },
  {
   "cell_type": "markdown",
   "metadata": {},
   "source": [
    "<a id=\"sec3.2\"></a>\n",
    "## [3.2 Classes](#sec3.2)\n",
    "[(INDEX)](#sec1)"
   ]
  },
  {
   "cell_type": "code",
   "execution_count": 10,
   "metadata": {},
   "outputs": [],
   "source": [
    "class Encoder():\n",
    "    def __init__(self, dataframe):\n",
    "        self.dataframe = dataframe\n",
    "\n",
    "    def label_encoder(self, column):\n",
    "        '''Method is called for label encoding'''\n",
    "        le = LabelEncoder()\n",
    "        self.dataframe[column] = le.fit_transform(self.dataframe[column])\n",
    "\n",
    "    def hot_encoder(self, column):\n",
    "        '''Method is calling for hot encoding'''\n",
    "        ohe = OneHotEncoder(handle_unknown='ignore', sparse=False)\n",
    "        aux_df = pd.DataFrame(ohe.fit_transform(self.dataframe[[column]]))\n",
    "        aux_df.columns = ohe.get_feature_names([f'hot_{column}'])\n",
    "        self.dataframe = self.dataframe.drop(col, axis=1)\n",
    "        self.dataframe = pd.concat([self.dataframe, aux_df], axis=1)\n",
    "        return self.dataframe"
   ]
  },
  {
   "cell_type": "code",
   "execution_count": 11,
   "metadata": {},
   "outputs": [],
   "source": [
    "class Outliers_detector():\n",
    "    def __init__(self, df):\n",
    "        self.df = df\n",
    "\n",
    "    def get_IQR_outliers(self, column):\n",
    "        '''Method is called to detect IQR outliers'''\n",
    "        outliers = dict()\n",
    "        q1, q3 = np.percentile(sorted(self.df[column]), [25, 75])\n",
    "\n",
    "        IQR = q3 - q1\n",
    "\n",
    "        l_b = q1 - (1.5 * IQR)  # lower bound\n",
    "        u_b = q3 + (1.5 * IQR)  # upper bound\n",
    "        outl_count = len(self.df[column][self.df[column] < l_b]) + len(\n",
    "            self.df[column][self.df[column] > u_b])\n",
    "\n",
    "        outliers['lower_bound'] = round(l_b, 3)\n",
    "        outliers['upper_bound'] = round(u_b, 3)\n",
    "        outliers['outlier_count'] = outl_count\n",
    "\n",
    "        return outliers\n",
    "\n",
    "    def get_dbscan_outliers(self, column1, column2, dbscan_eps,\n",
    "                            dbscan_minsample, cluster_num):\n",
    "        '''Method is called for detecting outliers for two columns by dbscan'''\n",
    "\n",
    "        scaler = RobustScaler()\n",
    "        scale_column1 = scaler.fit_transform(pd.DataFrame(\n",
    "            self.df[column1])).reshape(1, -1)[0]\n",
    "        scale_column2 = scaler.fit_transform(pd.DataFrame(\n",
    "            self.df[column2])).reshape(1, -1)[0]\n",
    "        df_temp = pd.DataFrame({\n",
    "            'column1': scale_column1,\n",
    "            'column2': scale_column2\n",
    "        })\n",
    "        clustering = DBSCAN(eps=dbscan_eps,\n",
    "                            min_samples=dbscan_minsample).fit(df_temp.values)\n",
    "        df_temp[\"cluster\"] = clustering.labels_\n",
    "        df_temp.index = self.df.index\n",
    "        fig = px.scatter(self.df,\n",
    "                   x=scale_column1,\n",
    "                   y=scale_column2,\n",
    "                   color=clustering.labels_,\n",
    "                   size=column2)\n",
    "        # Edit the layout\n",
    "        fig.update_layout(title='Detected Custers\\n')\n",
    "        fig.update_xaxes(title=(f'{column1}'))\n",
    "        fig.update_yaxes(title=(f'{column2}'))\n",
    "        fig.update_layout(width = 700)\n",
    "        fig.update_layout(height = 600)\n",
    "        \n",
    "        fig.show()\n",
    "        #         sns.scatterplot(scale_column1, scale_column2,\n",
    "        #                         hue=clustering.labels_, alpha=0.5)\n",
    "        #         plt.title('CLUSTERS\\n', fontsize=15)\n",
    "        #         plt.xlabel(f'{column1}')\n",
    "        #         plt.ylabel(f'{column2}')\n",
    "        return df_temp[df_temp[\"cluster\"] == cluster_num].index"
   ]
  },
  {
   "cell_type": "markdown",
   "metadata": {},
   "source": [
    "<a id=\"sec3.3\"></a>\n",
    "## [3.3 FUNCTIONS FOR FEATURE ENGINEERING](#sec3.3)\n",
    "[(INDEX)](#sec1)"
   ]
  },
  {
   "cell_type": "code",
   "execution_count": 12,
   "metadata": {},
   "outputs": [],
   "source": [
    "def get_tax_category(engine_power):\n",
    "    '''Function breaks down the number of horse\n",
    "    power by taxation category in Russia'''\n",
    "\n",
    "    if engine_power <= 100:\n",
    "        return int(1)\n",
    "    elif 100 < engine_power <= 150:\n",
    "        return int(2)\n",
    "    elif 150 < engine_power <= 200:\n",
    "        return int(3)\n",
    "    elif 200 < engine_power <= 250:\n",
    "        return int(4)\n",
    "    elif engine_power > 250:\n",
    "        return int(5)\n",
    "\n",
    "\n",
    "def get_low_registr(word):\n",
    "    '''Get lowercase for string'''\n",
    "    try:\n",
    "        return word.lower()\n",
    "    except:\n",
    "        return None\n",
    "    \n",
    "def get_i3_displacement(engine_displacement, fuel_type, model_name):\n",
    "    '''fill mising values for  BMW i3'''\n",
    "    \n",
    "    if model_name == 'i3':\n",
    "        if fuel_type == 'hybrid':\n",
    "            return 0.7\n",
    "        else:\n",
    "            return 0\n",
    "    else:\n",
    "        return engine_displacement\n",
    "\n",
    "def get_electro_displacement(engine_displacement, fuel_type):\n",
    "    '''Filling mising vars for electrocars'''\n",
    "    \n",
    "    if fuel_type == 'electro':\n",
    "        return 0\n",
    "    else:\n",
    "        return engine_displacement\n",
    "    \n",
    "def get_acceleration(string):\n",
    "    '''Function extracting acceleration'''\n",
    "    \n",
    "    try:\n",
    "        return float(re.split(',', re.split('acceleration\\W+', str(string))[1])[0])\n",
    "    except:\n",
    "        return None\n",
    "    \n",
    "def get_fuel_rate(string):\n",
    "    '''Extrating fuel rate'''\n",
    "    try:\n",
    "        return float(re.split(',', re.split('fuel_rate\\W+', str(string))[1])[0])\n",
    "\n",
    "    except:\n",
    "        return None"
   ]
  },
  {
   "cell_type": "markdown",
   "metadata": {},
   "source": [
    "<a id=\"sec4\"></a>\n",
    "# [4.Load and Chek the Dataset](#sec4)\n",
    "[(INDEX)](#sec1)"
   ]
  },
  {
   "cell_type": "code",
   "execution_count": 13,
   "metadata": {
    "scrolled": false
   },
   "outputs": [
    {
     "data": {
      "text/html": [
       "<div>\n",
       "<style scoped>\n",
       "    .dataframe tbody tr th:only-of-type {\n",
       "        vertical-align: middle;\n",
       "    }\n",
       "\n",
       "    .dataframe tbody tr th {\n",
       "        vertical-align: top;\n",
       "    }\n",
       "\n",
       "    .dataframe thead th {\n",
       "        text-align: right;\n",
       "    }\n",
       "</style>\n",
       "<table border=\"1\" class=\"dataframe\">\n",
       "  <thead>\n",
       "    <tr style=\"text-align: right;\">\n",
       "      <th></th>\n",
       "      <th>body_type</th>\n",
       "      <th>brand</th>\n",
       "      <th>color</th>\n",
       "      <th>complectation_dict</th>\n",
       "      <th>description</th>\n",
       "      <th>engine_displacement</th>\n",
       "      <th>engine_power</th>\n",
       "      <th>equipment_dict</th>\n",
       "      <th>fuel_type</th>\n",
       "      <th>image</th>\n",
       "      <th>mileage</th>\n",
       "      <th>model_date</th>\n",
       "      <th>model_info</th>\n",
       "      <th>model_name</th>\n",
       "      <th>name</th>\n",
       "      <th>doors_count</th>\n",
       "      <th>price_currency</th>\n",
       "      <th>production_date</th>\n",
       "      <th>sell_id</th>\n",
       "      <th>super_gen</th>\n",
       "      <th>vehicle_configuration</th>\n",
       "      <th>vehicle_transmission</th>\n",
       "      <th>vendor</th>\n",
       "      <th>owner_count</th>\n",
       "      <th>owning_period</th>\n",
       "      <th>car_passport</th>\n",
       "      <th>wheel_drive</th>\n",
       "      <th>wheel_location</th>\n",
       "      <th>condition</th>\n",
       "      <th>custom</th>\n",
       "      <th>price</th>\n",
       "      <th>sample</th>\n",
       "    </tr>\n",
       "  </thead>\n",
       "  <tbody>\n",
       "    <tr>\n",
       "      <th>36260</th>\n",
       "      <td>седан</td>\n",
       "      <td>BMW</td>\n",
       "      <td>синий</td>\n",
       "      <td>{'id': '0'}</td>\n",
       "      <td>По технике автомобиль в очень хорошем состояни...</td>\n",
       "      <td>2.00</td>\n",
       "      <td>150.00</td>\n",
       "      <td>{'alloy-wheel-disks': True}</td>\n",
       "      <td>бензин</td>\n",
       "      <td>NaN</td>\n",
       "      <td>450000</td>\n",
       "      <td>1987</td>\n",
       "      <td>{'code': '5ER', 'name': '5 серии', 'ru_name': ...</td>\n",
       "      <td>5ER</td>\n",
       "      <td>520i 2.0 MT (150 л.с.)</td>\n",
       "      <td>4</td>\n",
       "      <td>RUB</td>\n",
       "      <td>1994</td>\n",
       "      <td>1103326916</td>\n",
       "      <td>{'id': '21268458', 'name': '520', 'nameplate':...</td>\n",
       "      <td>useless_col</td>\n",
       "      <td>MECHANICAL</td>\n",
       "      <td>EUROPEAN</td>\n",
       "      <td>3</td>\n",
       "      <td>NaN</td>\n",
       "      <td>DUPLICATE</td>\n",
       "      <td>задний</td>\n",
       "      <td>LEFT</td>\n",
       "      <td>True</td>\n",
       "      <td>True</td>\n",
       "      <td>210000.00</td>\n",
       "      <td>1</td>\n",
       "    </tr>\n",
       "    <tr>\n",
       "      <th>21980</th>\n",
       "      <td>внедорожник 5 дв</td>\n",
       "      <td>TOYOTA</td>\n",
       "      <td>белый</td>\n",
       "      <td>NaN</td>\n",
       "      <td>Бережная эксплуатация. Крашеных деталей нет. О...</td>\n",
       "      <td>3.00</td>\n",
       "      <td>173.00</td>\n",
       "      <td>NaN</td>\n",
       "      <td>дизель</td>\n",
       "      <td>https://autoru.naydex.net/imflT9272/520f62I9/2...</td>\n",
       "      <td>160000</td>\n",
       "      <td>2009</td>\n",
       "      <td>{\"code\":\"LAND_CRUISER_PRADO\",\"name\":\"Land Crui...</td>\n",
       "      <td>LAND_CRUISER_PRADO</td>\n",
       "      <td>3.0d AT (173 л.с.) 4WD</td>\n",
       "      <td>5</td>\n",
       "      <td>RUB</td>\n",
       "      <td>2010</td>\n",
       "      <td>1100975988</td>\n",
       "      <td>{\"id\":\"6020187\",\"displacement\":2982,\"engine_ty...</td>\n",
       "      <td>ALLROAD_5_DOORS AUTOMATIC 3.0</td>\n",
       "      <td>AUTOMATIC</td>\n",
       "      <td>JAPANESE</td>\n",
       "      <td>2</td>\n",
       "      <td>9 лет и 2 месяца</td>\n",
       "      <td>ORIGINAL</td>\n",
       "      <td>полный</td>\n",
       "      <td>LEFT</td>\n",
       "      <td>Не требует ремонта</td>\n",
       "      <td>Растаможен</td>\n",
       "      <td>nan</td>\n",
       "      <td>0</td>\n",
       "    </tr>\n",
       "  </tbody>\n",
       "</table>\n",
       "</div>"
      ],
      "text/plain": [
       "              body_type   brand  color complectation_dict  \\\n",
       "36260             седан     BMW  синий        {'id': '0'}   \n",
       "21980  внедорожник 5 дв  TOYOTA  белый                NaN   \n",
       "\n",
       "                                             description  engine_displacement  \\\n",
       "36260  По технике автомобиль в очень хорошем состояни...                 2.00   \n",
       "21980  Бережная эксплуатация. Крашеных деталей нет. О...                 3.00   \n",
       "\n",
       "       engine_power               equipment_dict fuel_type  \\\n",
       "36260        150.00  {'alloy-wheel-disks': True}    бензин   \n",
       "21980        173.00                          NaN    дизель   \n",
       "\n",
       "                                                   image  mileage  model_date  \\\n",
       "36260                                                NaN   450000        1987   \n",
       "21980  https://autoru.naydex.net/imflT9272/520f62I9/2...   160000        2009   \n",
       "\n",
       "                                              model_info          model_name  \\\n",
       "36260  {'code': '5ER', 'name': '5 серии', 'ru_name': ...                 5ER   \n",
       "21980  {\"code\":\"LAND_CRUISER_PRADO\",\"name\":\"Land Crui...  LAND_CRUISER_PRADO   \n",
       "\n",
       "                         name  doors_count price_currency  production_date  \\\n",
       "36260  520i 2.0 MT (150 л.с.)            4            RUB             1994   \n",
       "21980  3.0d AT (173 л.с.) 4WD            5            RUB             2010   \n",
       "\n",
       "          sell_id                                          super_gen  \\\n",
       "36260  1103326916  {'id': '21268458', 'name': '520', 'nameplate':...   \n",
       "21980  1100975988  {\"id\":\"6020187\",\"displacement\":2982,\"engine_ty...   \n",
       "\n",
       "               vehicle_configuration vehicle_transmission    vendor  \\\n",
       "36260                    useless_col           MECHANICAL  EUROPEAN   \n",
       "21980  ALLROAD_5_DOORS AUTOMATIC 3.0            AUTOMATIC  JAPANESE   \n",
       "\n",
       "      owner_count     owning_period car_passport wheel_drive wheel_location  \\\n",
       "36260           3               NaN    DUPLICATE      задний           LEFT   \n",
       "21980           2  9 лет и 2 месяца     ORIGINAL      полный           LEFT   \n",
       "\n",
       "                condition      custom     price  sample  \n",
       "36260                True        True 210000.00       1  \n",
       "21980  Не требует ремонта  Растаможен       nan       0  "
      ]
     },
     "execution_count": 13,
     "metadata": {},
     "output_type": "execute_result"
    }
   ],
   "source": [
    "# import data pre-processed data set\n",
    "df = df_combined.copy()\n",
    "df.sample(2)"
   ]
  },
  {
   "cell_type": "markdown",
   "metadata": {},
   "source": [
    "<a id=\"sec5\"></a>\n",
    "# [5. Feature Engeneering](#sec5)\n",
    "[(INDEX)](#sec1)"
   ]
  },
  {
   "cell_type": "markdown",
   "metadata": {},
   "source": [
    "Get lowercase for all unpreceed columns"
   ]
  },
  {
   "cell_type": "code",
   "execution_count": 14,
   "metadata": {},
   "outputs": [],
   "source": [
    "# take cols with objects\n",
    "object_columns = df.dtypes[df.dtypes.values == object].index.to_list()\n",
    "\n",
    "for col in object_columns:\n",
    "    df[col] = df[col].apply(lambda string: get_low_registr(string))"
   ]
  },
  {
   "cell_type": "markdown",
   "metadata": {},
   "source": [
    "<a id=\"sec5.1\"></a>\n",
    "## [Target](#sec5.1)\n",
    "[(INDEX)](#sec1)"
   ]
  },
  {
   "cell_type": "markdown",
   "metadata": {},
   "source": [
    "As our dataset includes combined train & test stes, and test set contains \n",
    "\n",
    "Nan values in price column, let's extract only train part for a minute and process it "
   ]
  },
  {
   "cell_type": "code",
   "execution_count": 15,
   "metadata": {},
   "outputs": [],
   "source": [
    "# Defining features and target\n",
    "X_train = df[df['sample'] == 1]\n",
    "\n",
    "X_test = df[df['sample'] == 0]"
   ]
  },
  {
   "cell_type": "code",
   "execution_count": 16,
   "metadata": {},
   "outputs": [],
   "source": [
    "# idx_to_drop = list(X_train[X_train['price'] >= 30000000].index)\n",
    "# X_train=X_train.drop(idx_to_drop)"
   ]
  },
  {
   "cell_type": "markdown",
   "metadata": {},
   "source": [
    "NOTE: Dropping outliers has bad impact on MAPE. Comment above cell"
   ]
  },
  {
   "cell_type": "markdown",
   "metadata": {},
   "source": [
    "Scraped data has missing values in price column. Drop these rows:"
   ]
  },
  {
   "cell_type": "code",
   "execution_count": 17,
   "metadata": {},
   "outputs": [
    {
     "data": {
      "text/plain": [
       "624"
      ]
     },
     "execution_count": 17,
     "metadata": {},
     "output_type": "execute_result"
    }
   ],
   "source": [
    "X_train['price'].isna().sum()"
   ]
  },
  {
   "cell_type": "code",
   "execution_count": 18,
   "metadata": {},
   "outputs": [],
   "source": [
    "indexes_to_drop = X_train[(df['price'].isna())].index\n",
    "X_train = X_train.drop(indexes_to_drop)"
   ]
  },
  {
   "cell_type": "markdown",
   "metadata": {},
   "source": [
    "With a reference to EDA, we remember that target is not normally distributed.\n",
    "\n",
    "Let's apply logarithm to it and see what will happen"
   ]
  },
  {
   "cell_type": "code",
   "execution_count": 19,
   "metadata": {},
   "outputs": [],
   "source": [
    "X_train['price']= np.log(X_train['price'])"
   ]
  },
  {
   "cell_type": "code",
   "execution_count": 20,
   "metadata": {},
   "outputs": [
    {
     "data": {
      "text/plain": [
       "Text(0.5, 0, 'Price')"
      ]
     },
     "execution_count": 20,
     "metadata": {},
     "output_type": "execute_result"
    },
    {
     "data": {
      "image/png": "[encoded data removed]",
      "text/plain": [
       "<Figure size 1080x360 with 2 Axes>"
      ]
     },
     "metadata": {},
     "output_type": "display_data"
    }
   ],
   "source": [
    "plt.figure(figsize=(15, 5))\n",
    "plt.subplot(121)\n",
    "sns.distplot(X_train.price.values, bins=50, color=colors[4])\n",
    "plt.title('Price Distribution\\n', fontsize=15)\n",
    "plt.xlabel('Price')\n",
    "plt.ylabel('Quantity (frequency)')\n",
    "\n",
    "plt.subplot(122)\n",
    "sns.boxplot(X_train.price.values, color=colors[1])\n",
    "plt.title('Box Plot for Price\\n', fontsize=15)\n",
    "plt.xlabel('Price')"
   ]
  },
  {
   "cell_type": "markdown",
   "metadata": {},
   "source": [
    "Looks better.\n",
    "Let's again combine datasets for further engineering"
   ]
  },
  {
   "cell_type": "code",
   "execution_count": 21,
   "metadata": {},
   "outputs": [],
   "source": [
    "# combine sets\n",
    "df = X_train.append(X_test, sort=False).reset_index(drop=True)"
   ]
  },
  {
   "cell_type": "markdown",
   "metadata": {},
   "source": [
    "<a id=\"sec5.2\"></a>\n",
    "## [5.2 body_type & Model_name](#sec5.2)\n",
    "[(INDEX)](#sec1)"
   ]
  },
  {
   "cell_type": "markdown",
   "metadata": {},
   "source": [
    "As we have quite a lot of brands in data set, and especially lot's of models,\n",
    "\n",
    "let's generate new feature for each of mentioned model and brand by taking mean price of each model/brand"
   ]
  },
  {
   "cell_type": "code",
   "execution_count": 22,
   "metadata": {},
   "outputs": [],
   "source": [
    "cols_to_process = ['model_name', 'brand', 'body_type']\n",
    "for col in cols_to_process:\n",
    "    col_mean_dict = df.groupby([col])['price'].mean().to_dict()\n",
    "    df[f'priced_{col}'] = df[col].apply(lambda x: col_mean_dict[x])"
   ]
  },
  {
   "cell_type": "markdown",
   "metadata": {},
   "source": [
    "We remember (EDA) that models number mismatch in train and test set.\n",
    "\n",
    "So our new feature definately will have missing vars. Let's fix it by filling it with median"
   ]
  },
  {
   "cell_type": "code",
   "execution_count": 23,
   "metadata": {},
   "outputs": [
    {
     "data": {
      "text/plain": [
       "17"
      ]
     },
     "execution_count": 23,
     "metadata": {},
     "output_type": "execute_result"
    }
   ],
   "source": [
    "df['priced_model_name'].isna().sum()"
   ]
  },
  {
   "cell_type": "code",
   "execution_count": 24,
   "metadata": {},
   "outputs": [],
   "source": [
    "df['priced_model_name'] = df['priced_model_name'].fillna(df['priced_model_name'].median())"
   ]
  },
  {
   "cell_type": "markdown",
   "metadata": {},
   "source": [
    "Reduce quantity of body_types"
   ]
  },
  {
   "cell_type": "code",
   "execution_count": 25,
   "metadata": {},
   "outputs": [],
   "source": [
    "pattern = re.compile('[а-я]*')\n",
    "new_column = []\n",
    "for string in df['body_type']:\n",
    "    new_column.append(pattern.match(str(string))[0])\n",
    "df['body_type'] = new_column"
   ]
  },
  {
   "cell_type": "code",
   "execution_count": 26,
   "metadata": {},
   "outputs": [],
   "source": [
    "# Create list with top body types\n",
    "top_colors = df['body_type'].value_counts()[df['body_type'].value_counts(\n",
    ") > np.percentile((df['body_type'].value_counts().values), 70)].index.tolist()\n",
    "\n",
    "#take all bodies from df to a list\n",
    "all_colors = df['body_type'].value_counts().index\n",
    "\n",
    "# Identify, what to delete\n",
    "colors_to_drop = set(all_colors) - set(top_colors)\n",
    "\n",
    "# Make replacemewnt\n",
    "df.loc[df['body_type'].isin(colors_to_drop), 'body_type'] = 'other'"
   ]
  },
  {
   "cell_type": "code",
   "execution_count": 27,
   "metadata": {
    "scrolled": true
   },
   "outputs": [
    {
     "data": {
      "text/plain": [
       "седан          66649\n",
       "внедорожник    63984\n",
       "хэтчбек        16791\n",
       "other          14990\n",
       "лифтбек         9291\n",
       "универсал       7030\n",
       "Name: body_type, dtype: int64"
      ]
     },
     "execution_count": 27,
     "metadata": {},
     "output_type": "execute_result"
    }
   ],
   "source": [
    "df['body_type'].value_counts()"
   ]
  },
  {
   "cell_type": "markdown",
   "metadata": {},
   "source": [
    "Translate it to english. (for some reason, LightGBM doesn't work with russian column names)"
   ]
  },
  {
   "cell_type": "code",
   "execution_count": 28,
   "metadata": {},
   "outputs": [],
   "source": [
    "body_type_dict = dict({\n",
    "    'седан':'sedan',\n",
    "    'внедорожник':'4wd',\n",
    "    'хэтчбек':'hachtback',\n",
    "    'other':'other',\n",
    "    'лифтбек':'liftback',\n",
    "    'универсал':'universal'\n",
    "})\n",
    "df['body_type'] = df['body_type'].map(body_type_dict)"
   ]
  },
  {
   "cell_type": "code",
   "execution_count": 29,
   "metadata": {},
   "outputs": [
    {
     "data": {
      "text/plain": [
       "array(['sedan', 'universal', 'other', '4wd', 'hachtback', 'liftback'],\n",
       "      dtype=object)"
      ]
     },
     "execution_count": 29,
     "metadata": {},
     "output_type": "execute_result"
    }
   ],
   "source": [
    "df.body_type.unique()"
   ]
  },
  {
   "cell_type": "markdown",
   "metadata": {},
   "source": [
    "Fine, we reduced number of body_types and translated it in to English"
   ]
  },
  {
   "cell_type": "markdown",
   "metadata": {},
   "source": [
    "<a id=\"sec5.2\"></a>\n",
    "## [5.3 Color](#sec5.2)\n",
    "[(INDEX)](#sec1)"
   ]
  },
  {
   "cell_type": "markdown",
   "metadata": {},
   "source": [
    "NOTE: After some experiments, it was decided to do not include this column in to a model. Bad impact on MAPE"
   ]
  },
  {
   "cell_type": "markdown",
   "metadata": {},
   "source": [
    "With a reference to EDA section we generate new feature to show whether the color is popular.\n",
    "\n",
    "Meanwhile we re-orgasnize colors in original column by taking only most common colors"
   ]
  },
  {
   "cell_type": "code",
   "execution_count": 30,
   "metadata": {},
   "outputs": [],
   "source": [
    "# # List of top3 colors (see EDA)\n",
    "# # Has no impact\n",
    "# popular_color = ['чёрный', 'белый', 'серый']\n",
    "# df['popular_color'] = df['color'].apply(\n",
    "#     lambda color: 1 if color in popular_color else 0)"
   ]
  },
  {
   "cell_type": "code",
   "execution_count": 31,
   "metadata": {},
   "outputs": [],
   "source": [
    "# # Create list with top colors\n",
    "# # Has no impact\n",
    "# top_colors = df['color'].value_counts()[df['color'].value_counts(\n",
    "# ) > np.percentile((df['color'].value_counts().values), 80)].index.tolist()\n",
    "\n",
    "# #take all colors from df to a list\n",
    "# all_colors = df['color'].value_counts().index\n",
    "\n",
    "# # Identify, what to delete\n",
    "# colors_to_drop = set(all_colors) - set(top_colors)\n",
    "\n",
    "# # Make replacemewnt\n",
    "# df.loc[df['color'].isin(colors_to_drop), 'color'] = 'other'"
   ]
  },
  {
   "cell_type": "code",
   "execution_count": 32,
   "metadata": {},
   "outputs": [],
   "source": [
    "# df['color'].unique()"
   ]
  },
  {
   "cell_type": "code",
   "execution_count": 33,
   "metadata": {},
   "outputs": [],
   "source": [
    "# color_dict = dict({\n",
    "#     #'синий':'blue',\n",
    "#     'чёрный':'black',\n",
    "#     'серый':'gray',\n",
    "#     'other':'other',\n",
    "#     'белый':'white',\n",
    "#     #'серебристый':'silver'\n",
    "# })\n",
    "# df['color'] = df['color'].map(color_dict)"
   ]
  },
  {
   "cell_type": "markdown",
   "metadata": {},
   "source": [
    "<a id=\"sec5.4\"></a>\n",
    "## [5.4 Model_name](#sec5.4)\n",
    "[(INDEX)](#sec1)"
   ]
  },
  {
   "cell_type": "markdown",
   "metadata": {},
   "source": [
    "NOTE: Already proceed above"
   ]
  },
  {
   "cell_type": "markdown",
   "metadata": {},
   "source": [
    "<a id=\"sec5.5\"></a>\n",
    "## [5.5 Description](#sec5.5)\n",
    "[(INDEX)](#sec1)"
   ]
  },
  {
   "cell_type": "markdown",
   "metadata": {},
   "source": [
    "Let's generate new features:\n",
    "- Sensitivity and polarity of each description in a column;\n",
    "- Extract keywords from description"
   ]
  },
  {
   "cell_type": "code",
   "execution_count": 34,
   "metadata": {},
   "outputs": [],
   "source": [
    "df['description'] = df['description'].fillna('none')\n",
    "df['description'] = df['description'].apply(cleanTxt)\n",
    "df['description'] = df['description'].apply(lambda x : x.lower())"
   ]
  },
  {
   "cell_type": "code",
   "execution_count": 35,
   "metadata": {},
   "outputs": [],
   "source": [
    "# Create a function to get the subjectivity\n",
    "def get_subjectivity(text):\n",
    "    return TextBlob(text).sentiment.subjectivity\n",
    "\n",
    "\n",
    "# Create a function to get the polarity\n",
    "def get_polarity(text):\n",
    "    return TextBlob(text).sentiment.polarity"
   ]
  },
  {
   "cell_type": "code",
   "execution_count": 36,
   "metadata": {},
   "outputs": [],
   "source": [
    "# Create new cols and call the func\n",
    "\n",
    "df['subjectivity'] = df['description'].apply(get_subjectivity)\n",
    "\n",
    "df['polarity'] = df['description'].apply(get_polarity)"
   ]
  },
  {
   "cell_type": "code",
   "execution_count": 37,
   "metadata": {},
   "outputs": [
    {
     "name": "stdout",
     "output_type": "stream",
     "text": [
      "Couldn't find program: 'false'\n"
     ]
    }
   ],
   "source": [
    "%%script false\n",
    "# Note: useless insight. Do not include in the final set\n",
    "# Create a function to compute the negative, neutral and positive analysis\n",
    "def get_analysis(score):\n",
    "    if score < 0:\n",
    "        return 'negative'\n",
    "    elif score == 0:\n",
    "        return 'neutral'\n",
    "    else:\n",
    "        return 'positive'"
   ]
  },
  {
   "cell_type": "code",
   "execution_count": 38,
   "metadata": {},
   "outputs": [
    {
     "name": "stdout",
     "output_type": "stream",
     "text": [
      "Couldn't find program: 'false'\n"
     ]
    }
   ],
   "source": [
    "%%script false\n",
    "# Has no impact\n",
    "df['analysis'] = df['polarity'].apply(get_analysis)"
   ]
  },
  {
   "cell_type": "markdown",
   "metadata": {},
   "source": [
    "With a reference to EDA (Sentiment section), let's check plot of worldcloud and generate new features. \n",
    "\n",
    "If description has specified keyword, the we add 1 to new column"
   ]
  },
  {
   "cell_type": "code",
   "execution_count": 39,
   "metadata": {},
   "outputs": [],
   "source": [
    "df['airbags'] = df['description'].apply(\n",
    "    lambda x: 1 if 'подушки безопасности' in x else 0)\n",
    "df['cruise'] = df['description'].apply(\n",
    "    lambda x: 1 if 'круиз' in x else 0)\n",
    "df['steering'] = df['description'].apply(\n",
    "    lambda x: 1 if 'усилитель руля' in x else 0)\n",
    "df['loan'] = df['description'].apply(\n",
    "    lambda x: 1 if 'кредит' in x else 0)\n",
    "df['anti_block'] = df['description'].apply(\n",
    "    lambda x: 1 if 'антиблокировочная' in x else 0)\n",
    "df['lock'] = df['description'].apply(\n",
    "    lambda x: 1 if 'центральный замок' in x else 0)\n",
    "df['climat'] = df['description'].apply(\n",
    "    lambda x: 1 if 'климат контроль' in x else 0)\n",
    "df['rain_sens'] = df['description'].apply(\n",
    "    lambda x: 1 if 'датчик дождя' in x else 0)"
   ]
  },
  {
   "cell_type": "code",
   "execution_count": 40,
   "metadata": {},
   "outputs": [
    {
     "data": {
      "text/html": [
       "<div>\n",
       "<style scoped>\n",
       "    .dataframe tbody tr th:only-of-type {\n",
       "        vertical-align: middle;\n",
       "    }\n",
       "\n",
       "    .dataframe tbody tr th {\n",
       "        vertical-align: top;\n",
       "    }\n",
       "\n",
       "    .dataframe thead th {\n",
       "        text-align: right;\n",
       "    }\n",
       "</style>\n",
       "<table border=\"1\" class=\"dataframe\">\n",
       "  <thead>\n",
       "    <tr style=\"text-align: right;\">\n",
       "      <th></th>\n",
       "      <th>body_type</th>\n",
       "      <th>brand</th>\n",
       "      <th>color</th>\n",
       "      <th>complectation_dict</th>\n",
       "      <th>description</th>\n",
       "      <th>engine_displacement</th>\n",
       "      <th>engine_power</th>\n",
       "      <th>equipment_dict</th>\n",
       "      <th>fuel_type</th>\n",
       "      <th>image</th>\n",
       "      <th>mileage</th>\n",
       "      <th>model_date</th>\n",
       "      <th>model_info</th>\n",
       "      <th>model_name</th>\n",
       "      <th>name</th>\n",
       "      <th>doors_count</th>\n",
       "      <th>price_currency</th>\n",
       "      <th>production_date</th>\n",
       "      <th>sell_id</th>\n",
       "      <th>super_gen</th>\n",
       "      <th>vehicle_configuration</th>\n",
       "      <th>vehicle_transmission</th>\n",
       "      <th>vendor</th>\n",
       "      <th>owner_count</th>\n",
       "      <th>owning_period</th>\n",
       "      <th>car_passport</th>\n",
       "      <th>wheel_drive</th>\n",
       "      <th>wheel_location</th>\n",
       "      <th>condition</th>\n",
       "      <th>custom</th>\n",
       "      <th>price</th>\n",
       "      <th>sample</th>\n",
       "      <th>priced_model_name</th>\n",
       "      <th>priced_brand</th>\n",
       "      <th>priced_body_type</th>\n",
       "      <th>subjectivity</th>\n",
       "      <th>polarity</th>\n",
       "      <th>airbags</th>\n",
       "      <th>cruise</th>\n",
       "      <th>steering</th>\n",
       "      <th>loan</th>\n",
       "      <th>anti_block</th>\n",
       "      <th>lock</th>\n",
       "      <th>climat</th>\n",
       "      <th>rain_sens</th>\n",
       "    </tr>\n",
       "  </thead>\n",
       "  <tbody>\n",
       "    <tr>\n",
       "      <th>45518</th>\n",
       "      <td>4wd</td>\n",
       "      <td>mercedes</td>\n",
       "      <td>чёрный</td>\n",
       "      <td>{'id': '0'}</td>\n",
       "      <td>автомобиль приобретен на юридическое лицо. юри...</td>\n",
       "      <td>4.00</td>\n",
       "      <td>585.00</td>\n",
       "      <td>{}</td>\n",
       "      <td>бензин</td>\n",
       "      <td>//avatars.mds.yandex.net/get-autoru-vos/196497...</td>\n",
       "      <td>43439</td>\n",
       "      <td>2018</td>\n",
       "      <td>{'code': 'g_klasse_amg', 'name': 'g-класс amg'...</td>\n",
       "      <td>g_klasse_amg</td>\n",
       "      <td>63 amg 4.0 at (585 л.с.) 4wd</td>\n",
       "      <td>5</td>\n",
       "      <td>rub</td>\n",
       "      <td>2020</td>\n",
       "      <td>1103435232</td>\n",
       "      <td>{'id': '21203530', 'name': '63 amg', 'nameplat...</td>\n",
       "      <td>useless_col</td>\n",
       "      <td>automatic</td>\n",
       "      <td>european</td>\n",
       "      <td>1</td>\n",
       "      <td>None</td>\n",
       "      <td>original</td>\n",
       "      <td>полный</td>\n",
       "      <td>left</td>\n",
       "      <td>None</td>\n",
       "      <td>None</td>\n",
       "      <td>16.71</td>\n",
       "      <td>1</td>\n",
       "      <td>16.13</td>\n",
       "      <td>14.37</td>\n",
       "      <td>14.36</td>\n",
       "      <td>0.00</td>\n",
       "      <td>0.00</td>\n",
       "      <td>0</td>\n",
       "      <td>0</td>\n",
       "      <td>0</td>\n",
       "      <td>1</td>\n",
       "      <td>0</td>\n",
       "      <td>0</td>\n",
       "      <td>0</td>\n",
       "      <td>0</td>\n",
       "    </tr>\n",
       "    <tr>\n",
       "      <th>172466</th>\n",
       "      <td>sedan</td>\n",
       "      <td>mitsubishi</td>\n",
       "      <td>чёрный</td>\n",
       "      <td>None</td>\n",
       "      <td>ремень грм  помпа был заменён на 150т км 2000т...</td>\n",
       "      <td>1.60</td>\n",
       "      <td>98.00</td>\n",
       "      <td>None</td>\n",
       "      <td>бензин</td>\n",
       "      <td>https://autoru.naydex.net/mcqh17801/f1b5751dci...</td>\n",
       "      <td>176500</td>\n",
       "      <td>2005</td>\n",
       "      <td>{\"code\":\"lancer\",\"name\":\"lancer\",\"ru_name\":\"ла...</td>\n",
       "      <td>lancer</td>\n",
       "      <td>1.6 at (98 л.с.)</td>\n",
       "      <td>4</td>\n",
       "      <td>rub</td>\n",
       "      <td>2005</td>\n",
       "      <td>1100457340</td>\n",
       "      <td>{\"id\":\"3480641\",\"displacement\":1584,\"engine_ty...</td>\n",
       "      <td>sedan automatic 1.6</td>\n",
       "      <td>automatic</td>\n",
       "      <td>japanese</td>\n",
       "      <td>3</td>\n",
       "      <td>None</td>\n",
       "      <td>original</td>\n",
       "      <td>передний</td>\n",
       "      <td>left</td>\n",
       "      <td>не требует ремонта</td>\n",
       "      <td>растаможен</td>\n",
       "      <td>nan</td>\n",
       "      <td>0</td>\n",
       "      <td>12.57</td>\n",
       "      <td>13.21</td>\n",
       "      <td>13.10</td>\n",
       "      <td>0.00</td>\n",
       "      <td>0.00</td>\n",
       "      <td>0</td>\n",
       "      <td>0</td>\n",
       "      <td>0</td>\n",
       "      <td>0</td>\n",
       "      <td>0</td>\n",
       "      <td>0</td>\n",
       "      <td>0</td>\n",
       "      <td>0</td>\n",
       "    </tr>\n",
       "    <tr>\n",
       "      <th>33887</th>\n",
       "      <td>4wd</td>\n",
       "      <td>nissan</td>\n",
       "      <td>серебристый</td>\n",
       "      <td>{'id': '0'}</td>\n",
       "      <td>.куплена официального дилера  08.2016обслужива...</td>\n",
       "      <td>2.50</td>\n",
       "      <td>171.00</td>\n",
       "      <td>{'cruise-control': true, 'engine-proof': true,...</td>\n",
       "      <td>бензин</td>\n",
       "      <td>//avatars.mds.yandex.net/get-autoru-vos/458170...</td>\n",
       "      <td>101000</td>\n",
       "      <td>2013</td>\n",
       "      <td>{'code': 'x_trail', 'name': 'x-trail', 'ru_nam...</td>\n",
       "      <td>x_trail</td>\n",
       "      <td>2.5 cvt (171 л.с.) 4wd</td>\n",
       "      <td>5</td>\n",
       "      <td>rub</td>\n",
       "      <td>2015</td>\n",
       "      <td>1103125262</td>\n",
       "      <td>{'id': '20416563', 'displacement': 2488, 'engi...</td>\n",
       "      <td>useless_col</td>\n",
       "      <td>variator</td>\n",
       "      <td>japanese</td>\n",
       "      <td>1</td>\n",
       "      <td>None</td>\n",
       "      <td>original</td>\n",
       "      <td>полный</td>\n",
       "      <td>left</td>\n",
       "      <td>None</td>\n",
       "      <td>None</td>\n",
       "      <td>14.21</td>\n",
       "      <td>1</td>\n",
       "      <td>14.16</td>\n",
       "      <td>13.10</td>\n",
       "      <td>14.36</td>\n",
       "      <td>0.00</td>\n",
       "      <td>0.00</td>\n",
       "      <td>0</td>\n",
       "      <td>0</td>\n",
       "      <td>0</td>\n",
       "      <td>1</td>\n",
       "      <td>0</td>\n",
       "      <td>0</td>\n",
       "      <td>0</td>\n",
       "      <td>0</td>\n",
       "    </tr>\n",
       "    <tr>\n",
       "      <th>65290</th>\n",
       "      <td>sedan</td>\n",
       "      <td>audi</td>\n",
       "      <td>чёрный</td>\n",
       "      <td>{'id': '0'}</td>\n",
       "      <td>none</td>\n",
       "      <td>1.80</td>\n",
       "      <td>120.00</td>\n",
       "      <td>{}</td>\n",
       "      <td>бензин</td>\n",
       "      <td>//avatars.mds.yandex.net/get-autoru-vos/436552...</td>\n",
       "      <td>285000</td>\n",
       "      <td>2007</td>\n",
       "      <td>{'code': 'a4', 'name': 'a4', 'ru_name': 'а4', ...</td>\n",
       "      <td>a4</td>\n",
       "      <td>1.8 cvt (120 л.с.)</td>\n",
       "      <td>4</td>\n",
       "      <td>rub</td>\n",
       "      <td>2008</td>\n",
       "      <td>1103643961</td>\n",
       "      <td>{'id': '4693252', 'displacement': 1798, 'engin...</td>\n",
       "      <td>useless_col</td>\n",
       "      <td>variator</td>\n",
       "      <td>european</td>\n",
       "      <td>1</td>\n",
       "      <td>{'year': 2021, 'month': 1}</td>\n",
       "      <td>original</td>\n",
       "      <td>передний</td>\n",
       "      <td>left</td>\n",
       "      <td>None</td>\n",
       "      <td>None</td>\n",
       "      <td>13.38</td>\n",
       "      <td>1</td>\n",
       "      <td>13.66</td>\n",
       "      <td>13.76</td>\n",
       "      <td>13.10</td>\n",
       "      <td>0.00</td>\n",
       "      <td>0.00</td>\n",
       "      <td>0</td>\n",
       "      <td>0</td>\n",
       "      <td>0</td>\n",
       "      <td>0</td>\n",
       "      <td>0</td>\n",
       "      <td>0</td>\n",
       "      <td>0</td>\n",
       "      <td>0</td>\n",
       "    </tr>\n",
       "  </tbody>\n",
       "</table>\n",
       "</div>"
      ],
      "text/plain": [
       "       body_type       brand        color complectation_dict  \\\n",
       "45518        4wd    mercedes       чёрный        {'id': '0'}   \n",
       "172466     sedan  mitsubishi       чёрный               None   \n",
       "33887        4wd      nissan  серебристый        {'id': '0'}   \n",
       "65290      sedan        audi       чёрный        {'id': '0'}   \n",
       "\n",
       "                                              description  \\\n",
       "45518   автомобиль приобретен на юридическое лицо. юри...   \n",
       "172466  ремень грм  помпа был заменён на 150т км 2000т...   \n",
       "33887   .куплена официального дилера  08.2016обслужива...   \n",
       "65290                                                none   \n",
       "\n",
       "        engine_displacement  engine_power  \\\n",
       "45518                  4.00        585.00   \n",
       "172466                 1.60         98.00   \n",
       "33887                  2.50        171.00   \n",
       "65290                  1.80        120.00   \n",
       "\n",
       "                                           equipment_dict fuel_type  \\\n",
       "45518                                                  {}    бензин   \n",
       "172466                                               None    бензин   \n",
       "33887   {'cruise-control': true, 'engine-proof': true,...    бензин   \n",
       "65290                                                  {}    бензин   \n",
       "\n",
       "                                                    image  mileage  \\\n",
       "45518   //avatars.mds.yandex.net/get-autoru-vos/196497...    43439   \n",
       "172466  https://autoru.naydex.net/mcqh17801/f1b5751dci...   176500   \n",
       "33887   //avatars.mds.yandex.net/get-autoru-vos/458170...   101000   \n",
       "65290   //avatars.mds.yandex.net/get-autoru-vos/436552...   285000   \n",
       "\n",
       "        model_date                                         model_info  \\\n",
       "45518         2018  {'code': 'g_klasse_amg', 'name': 'g-класс amg'...   \n",
       "172466        2005  {\"code\":\"lancer\",\"name\":\"lancer\",\"ru_name\":\"ла...   \n",
       "33887         2013  {'code': 'x_trail', 'name': 'x-trail', 'ru_nam...   \n",
       "65290         2007  {'code': 'a4', 'name': 'a4', 'ru_name': 'а4', ...   \n",
       "\n",
       "          model_name                          name  doors_count  \\\n",
       "45518   g_klasse_amg  63 amg 4.0 at (585 л.с.) 4wd            5   \n",
       "172466        lancer              1.6 at (98 л.с.)            4   \n",
       "33887        x_trail        2.5 cvt (171 л.с.) 4wd            5   \n",
       "65290             a4            1.8 cvt (120 л.с.)            4   \n",
       "\n",
       "       price_currency  production_date     sell_id  \\\n",
       "45518             rub             2020  1103435232   \n",
       "172466            rub             2005  1100457340   \n",
       "33887             rub             2015  1103125262   \n",
       "65290             rub             2008  1103643961   \n",
       "\n",
       "                                                super_gen  \\\n",
       "45518   {'id': '21203530', 'name': '63 amg', 'nameplat...   \n",
       "172466  {\"id\":\"3480641\",\"displacement\":1584,\"engine_ty...   \n",
       "33887   {'id': '20416563', 'displacement': 2488, 'engi...   \n",
       "65290   {'id': '4693252', 'displacement': 1798, 'engin...   \n",
       "\n",
       "       vehicle_configuration vehicle_transmission    vendor owner_count  \\\n",
       "45518            useless_col            automatic  european           1   \n",
       "172466   sedan automatic 1.6            automatic  japanese           3   \n",
       "33887            useless_col             variator  japanese           1   \n",
       "65290            useless_col             variator  european           1   \n",
       "\n",
       "                     owning_period car_passport wheel_drive wheel_location  \\\n",
       "45518                         None     original      полный           left   \n",
       "172466                        None     original    передний           left   \n",
       "33887                         None     original      полный           left   \n",
       "65290   {'year': 2021, 'month': 1}     original    передний           left   \n",
       "\n",
       "                 condition      custom  price  sample  priced_model_name  \\\n",
       "45518                 None        None  16.71       1              16.13   \n",
       "172466  не требует ремонта  растаможен    nan       0              12.57   \n",
       "33887                 None        None  14.21       1              14.16   \n",
       "65290                 None        None  13.38       1              13.66   \n",
       "\n",
       "        priced_brand  priced_body_type  subjectivity  polarity  airbags  \\\n",
       "45518          14.37             14.36          0.00      0.00        0   \n",
       "172466         13.21             13.10          0.00      0.00        0   \n",
       "33887          13.10             14.36          0.00      0.00        0   \n",
       "65290          13.76             13.10          0.00      0.00        0   \n",
       "\n",
       "        cruise  steering  loan  anti_block  lock  climat  rain_sens  \n",
       "45518        0         0     1           0     0       0          0  \n",
       "172466       0         0     0           0     0       0          0  \n",
       "33887        0         0     1           0     0       0          0  \n",
       "65290        0         0     0           0     0       0          0  "
      ]
     },
     "execution_count": 40,
     "metadata": {},
     "output_type": "execute_result"
    }
   ],
   "source": [
    "# show data\n",
    "df.sample(4)"
   ]
  },
  {
   "cell_type": "markdown",
   "metadata": {},
   "source": [
    "<a id=\"sec5.6\"></a>\n",
    "## [5.6 Equipment Dict](#sec5.6)\n",
    "[(INDEX)](#sec1)"
   ]
  },
  {
   "cell_type": "markdown",
   "metadata": {},
   "source": [
    "Let's exctrat the number of equipments listed in the subjected column"
   ]
  },
  {
   "cell_type": "code",
   "execution_count": 41,
   "metadata": {},
   "outputs": [
    {
     "data": {
      "text/plain": [
       "9996"
      ]
     },
     "execution_count": 41,
     "metadata": {},
     "output_type": "execute_result"
    }
   ],
   "source": [
    "df['equipment_dict'].isna().sum()"
   ]
  },
  {
   "cell_type": "markdown",
   "metadata": {},
   "source": [
    "First of all, fill up missing values in the column"
   ]
  },
  {
   "cell_type": "code",
   "execution_count": 42,
   "metadata": {},
   "outputs": [],
   "source": [
    "def fill_empty_equipment(model, dict_):\n",
    "    if dict_=={}:\n",
    "        return tipical_equipment_dict[model]\n",
    "    return dict_"
   ]
  },
  {
   "cell_type": "code",
   "execution_count": 43,
   "metadata": {},
   "outputs": [],
   "source": [
    "def fill_na_equip_lenght(model_name,value):\n",
    "    if value==0:\n",
    "        return int(mean_equip_lenhgt_dict[model_name])\n",
    "    return value"
   ]
  },
  {
   "cell_type": "code",
   "execution_count": 44,
   "metadata": {},
   "outputs": [],
   "source": [
    "df['equipment_dict'] = df['equipment_dict'].str.replace('\\\"', '\\'').str.replace(\n",
    "    ' ', '').str.replace(':t', ':T')  #  General view\n",
    "df['equipment_dict'] = df['equipment_dict'].apply(lambda string: {} if pd.isna(\n",
    "    string) else ast.literal_eval(string))  # transform string to dicts"
   ]
  },
  {
   "cell_type": "code",
   "execution_count": 45,
   "metadata": {},
   "outputs": [],
   "source": [
    "# The idea is to create a dictionary: the most complete set of\n",
    "# cars, then fill in the gaps with this dictionary\n",
    "model_names = df['model_name'].unique()\n",
    "tipical_equipment_dict = dict.fromkeys(model_names)\n",
    "for model in model_names[:]:\n",
    "    max_len = 0\n",
    "    for dict_ in df[df['model_name'] ==\n",
    "                    model]['equipment_dict'].value_counts().index:\n",
    "        tipical_equipment_dict.update({model: dict_})\n",
    "        if len(dict_) > max_len:\n",
    "            tipical_equipment_dict.update({model: dict_})"
   ]
  },
  {
   "cell_type": "code",
   "execution_count": 46,
   "metadata": {},
   "outputs": [],
   "source": [
    "df['equipment_dict'] = df[['model_name', 'equipment_dict']].apply(\n",
    "    lambda x: fill_empty_equipment(*x), axis=1)"
   ]
  },
  {
   "cell_type": "code",
   "execution_count": 47,
   "metadata": {},
   "outputs": [],
   "source": [
    "df['equipment_length'] = df['equipment_dict'].apply(lambda dict_: len(dict_))\n",
    "\n",
    "mean_equip_lenhgt_dict = df.groupby('model_name')['equipment_length'].mean(\n",
    ").round().to_dict()  # Словарь с среднимим значениями длин словарей экипировки\n",
    "\n",
    "df['equipment_length'] = df[['model_name', 'equipment_length'\n",
    "                             ]].apply(lambda x: fill_na_equip_lenght(*x),\n",
    "                                      axis=1)  # filling"
   ]
  },
  {
   "cell_type": "code",
   "execution_count": 48,
   "metadata": {},
   "outputs": [
    {
     "data": {
      "text/plain": [
       "0"
      ]
     },
     "execution_count": 48,
     "metadata": {},
     "output_type": "execute_result"
    }
   ],
   "source": [
    "# Check if dictionaries contain False \n",
    "count_false=0\n",
    "for dict_ in df['equipment_dict']:\n",
    "    for i in dict_:\n",
    "        if dict_[i]==False:\n",
    "            count_false+=1\n",
    "count_false"
   ]
  },
  {
   "cell_type": "markdown",
   "metadata": {},
   "source": [
    "The length of the equipment_dict characterizes the number of functions in the auto "
   ]
  },
  {
   "cell_type": "code",
   "execution_count": 49,
   "metadata": {},
   "outputs": [],
   "source": [
    "# df[df['equipment_dict']=={}]['model_name'].unique()"
   ]
  },
  {
   "cell_type": "code",
   "execution_count": 50,
   "metadata": {},
   "outputs": [],
   "source": [
    "# # Создадим множество всех атрибутов в авто\n",
    "# attributes = set()\n",
    "# for dict_ in df['equipment_dict']:    \n",
    "#     attributes.update(dict_.keys())"
   ]
  },
  {
   "cell_type": "code",
   "execution_count": 51,
   "metadata": {},
   "outputs": [],
   "source": [
    "# dv = DictVectorizer()\n",
    "# equipment_features = dv.fit_transform(\n",
    "#     df.query('sample==1')['equipment_dict']).toarray()\n",
    "# equipment_df = pd.DataFrame(equipment_features, columns=dv.get_feature_names())\n",
    "# equipment_attributes = equipment_df.columns.values"
   ]
  },
  {
   "cell_type": "code",
   "execution_count": 52,
   "metadata": {},
   "outputs": [],
   "source": [
    "# f_scores, p_values = f_regression(equipment_df, df.query('sample==1')['price'])"
   ]
  },
  {
   "cell_type": "code",
   "execution_count": 53,
   "metadata": {},
   "outputs": [],
   "source": [
    "# # Visualizing 50 best equipment features\n",
    "# plt.figure(figsize=(20, 10))\n",
    "# f_scores = pd.Series(f_scores, equipment_attributes).sort_values(ascending=False)\n",
    "# best_attributes = f_scores[:50].index\n",
    "# f_scores[:50].plot(kind='barh', color='green')\n",
    "# plt.xlabel('F-Score')\n",
    "# plt.title('50 best equipment features', size=16);"
   ]
  },
  {
   "cell_type": "code",
   "execution_count": 54,
   "metadata": {},
   "outputs": [],
   "source": [
    "# 25% самых важных атрибутов в авто\n",
    "# f_scores[f_scores.values > f_scores.values.max()*0.75]"
   ]
  },
  {
   "cell_type": "code",
   "execution_count": 55,
   "metadata": {},
   "outputs": [],
   "source": [
    "# most_important_attributes = set(f_scores[f_scores.values > f_scores.values.max(\n",
    "# )*0.75].index)  # Множество самых важных атрибутов"
   ]
  },
  {
   "cell_type": "code",
   "execution_count": 56,
   "metadata": {},
   "outputs": [],
   "source": [
    "# def has_important_equipment(dict_):\n",
    "#     # Проверка на принадлежность важнейших атрибутов атрибутам авто\n",
    "#     if most_important_attributes.issubset(set(dict_.keys())):\n",
    "#         return 1\n",
    "#     return 0"
   ]
  },
  {
   "cell_type": "code",
   "execution_count": 57,
   "metadata": {},
   "outputs": [],
   "source": [
    "# df['has_important_attrs'] = df['equipment_dict'].apply(\n",
    "#     lambda x: has_important_equipment(x))"
   ]
  },
  {
   "cell_type": "code",
   "execution_count": 58,
   "metadata": {},
   "outputs": [],
   "source": [
    "# df['has_important_attrs'].value_counts()"
   ]
  },
  {
   "cell_type": "markdown",
   "metadata": {},
   "source": [
    "<a id=\"sec5.7\"></a>\n",
    "## [5.7 Fuel Type](#sec5.7)\n",
    "[(INDEX)](#sec1)"
   ]
  },
  {
   "cell_type": "code",
   "execution_count": 59,
   "metadata": {},
   "outputs": [],
   "source": [
    "# lets strip fuel type\n",
    "df['fuel_type'] = df.fuel_type.apply(lambda fuel: str(fuel).strip())"
   ]
  },
  {
   "cell_type": "code",
   "execution_count": 60,
   "metadata": {},
   "outputs": [],
   "source": [
    "fuel_type_dict = dict({\n",
    "    'бензин':'benzin',\n",
    "    'дизель':'dizel',\n",
    "    'гибрид':'hybrid',\n",
    "    'электро':'electro',\n",
    "    'газ':'gas'\n",
    "})\n",
    "\n",
    "df['fuel_type'] = df['fuel_type'].map(fuel_type_dict)"
   ]
  },
  {
   "cell_type": "markdown",
   "metadata": {},
   "source": [
    "<a id=\"sec5.8\"></a>\n",
    "## [5.8 Mileage](#sec5.8)\n",
    "[(INDEX)](#sec1)"
   ]
  },
  {
   "cell_type": "markdown",
   "metadata": {},
   "source": [
    "With  a reference to EDA section (plot numerical distribution), outcomes, we remember, that some cars has milage = 0 which is incorrect or unlogical. Fix it here"
   ]
  },
  {
   "cell_type": "markdown",
   "metadata": {},
   "source": [
    "Save information where mileage was equal to zero \n",
    "\n",
    "NOTE: Has no impact on MAPE"
   ]
  },
  {
   "cell_type": "code",
   "execution_count": 61,
   "metadata": {},
   "outputs": [],
   "source": [
    "#df['mileage_zero'] = df['mileage'].apply(lambda x: 1 if x == 0 else 0)"
   ]
  },
  {
   "cell_type": "markdown",
   "metadata": {},
   "source": [
    "<a id=\"sec5.9\"></a>\n",
    "## [5.9 Engine Displacement](#sec5.9)\n",
    "[(INDEX)](#sec1)"
   ]
  },
  {
   "cell_type": "markdown",
   "metadata": {},
   "source": [
    "We know, that there is no engine displacement for the electical cars. We also know there is missing values in this colums.\n",
    "\n",
    "Let's fix it. If car is electric - diplacement shall be 0."
   ]
  },
  {
   "cell_type": "code",
   "execution_count": 62,
   "metadata": {},
   "outputs": [],
   "source": [
    "df['engine_displacement'] = df[['engine_displacement','fuel_type']].apply(\n",
    "    lambda x: get_electro_displacement(*x), axis=1)"
   ]
  },
  {
   "cell_type": "markdown",
   "metadata": {},
   "source": [
    "It was observed that BMW model i3 has missing values in engine displacement. \n",
    "\n",
    "Let's say if it is a hybrid - then eng_displ - 0.7. If not - then 0"
   ]
  },
  {
   "cell_type": "code",
   "execution_count": 63,
   "metadata": {},
   "outputs": [],
   "source": [
    "df['engine_displacement'] = df[[\n",
    "    'engine_displacement', 'fuel_type', 'model_name'\n",
    "]].apply(lambda x: get_i3_displacement(*x), axis=1)"
   ]
  },
  {
   "cell_type": "markdown",
   "metadata": {},
   "source": [
    "<a id=\"sec5.10\"></a>\n",
    "## [5.10 Engine Power](#sec5.10)\n",
    "[(INDEX)](#sec1)"
   ]
  },
  {
   "cell_type": "markdown",
   "metadata": {},
   "source": [
    "There is a special low in Russian Federation that devide cars by tax categories. \n",
    "\n",
    "More power in engine, higer grade of tax. It may impact on a prediction. Let's break our cars down by such categories"
   ]
  },
  {
   "cell_type": "code",
   "execution_count": 64,
   "metadata": {},
   "outputs": [],
   "source": [
    "# No impact on MAPE\n",
    "# df['tax_rate'] = df['engine_power'].apply(\n",
    "#     lambda engine_power: get_tax_category(engine_power)).astype('category')"
   ]
  },
  {
   "cell_type": "code",
   "execution_count": 65,
   "metadata": {},
   "outputs": [],
   "source": [
    "# Fill up for 3 missing cars (civic)\n",
    "df['engine_power'] = df['engine_power'].fillna(100) # CIVIC"
   ]
  },
  {
   "cell_type": "code",
   "execution_count": 66,
   "metadata": {},
   "outputs": [],
   "source": [
    "# Break engine power by intervals\n",
    "bins = [10, 35, 100, 125, 150, 175, 200, 225, 250, 801]\n",
    "# Ctreate tax categories\n",
    "numbers = ['5000', '12', '25', '35', '45', '50', '65', '75', '150']"
   ]
  },
  {
   "cell_type": "code",
   "execution_count": 67,
   "metadata": {},
   "outputs": [],
   "source": [
    "# Make a column where refer each car depended by power to a tax cat\n",
    "df['tax_base'] = pd.cut(df['engine_power'], bins, labels=numbers)\n",
    "df['tax_base'] = df['tax_base'].values.astype('int64')"
   ]
  },
  {
   "cell_type": "code",
   "execution_count": 68,
   "metadata": {},
   "outputs": [],
   "source": [
    "# generate tax fee col\n",
    "df['tax'] = df['engine_power'] * df['tax_base']"
   ]
  },
  {
   "cell_type": "markdown",
   "metadata": {},
   "source": [
    "<a id=\"sec5.11\"></a>\n",
    "## [5.11 Super Gen](#sec5.11)\n",
    "[(INDEX)](#sec1)"
   ]
  },
  {
   "cell_type": "markdown",
   "metadata": {},
   "source": [
    "Let's extract some information like an acceleration from supergen column.\n",
    "\n",
    "Generate new feature Acceleration"
   ]
  },
  {
   "cell_type": "code",
   "execution_count": 69,
   "metadata": {},
   "outputs": [],
   "source": [
    "# Before we do, fill up empty dictionaries with 'Nan'\n",
    "df['super_gen'] = df['super_gen'].fillna('NaN')\n",
    "df['super_gen'] = df['super_gen'].apply(cleanTxt)\n",
    "# Extract fuel rate,acceleration and generate new feature\n",
    "df['acceleration'] = df['super_gen'].apply(lambda string:get_acceleration(string))\n",
    "df['fuel_rate'] = df['super_gen'].apply(lambda string:get_fuel_rate(string))"
   ]
  },
  {
   "cell_type": "code",
   "execution_count": 70,
   "metadata": {},
   "outputs": [
    {
     "data": {
      "text/plain": [
       "11243"
      ]
     },
     "execution_count": 70,
     "metadata": {},
     "output_type": "execute_result"
    }
   ],
   "source": [
    "# missing vars in a new feature\n",
    "df['acceleration'].isna().sum()"
   ]
  },
  {
   "cell_type": "code",
   "execution_count": 71,
   "metadata": {},
   "outputs": [
    {
     "data": {
      "text/plain": [
       "21408"
      ]
     },
     "execution_count": 71,
     "metadata": {},
     "output_type": "execute_result"
    }
   ],
   "source": [
    "df['fuel_rate'].isna().sum()"
   ]
  },
  {
   "cell_type": "markdown",
   "metadata": {},
   "source": [
    "Let's fill missing values by randomly choosen value from most common in particular colums.\n",
    "\n",
    "For a company, add car pasport here and owner count"
   ]
  },
  {
   "cell_type": "code",
   "execution_count": 72,
   "metadata": {},
   "outputs": [],
   "source": [
    "cols_to_fill = ['acceleration', 'fuel_rate', 'car_passport','owner_count']\n",
    "for col in cols_to_fill:\n",
    "    missing_vars(df,col)"
   ]
  },
  {
   "cell_type": "markdown",
   "metadata": {},
   "source": [
    "<a id=\"sec5.12\"></a>\n",
    "## [5.12 Wheel Drive](#sec5.12)\n",
    "[(INDEX)](#sec1)"
   ]
  },
  {
   "cell_type": "code",
   "execution_count": 73,
   "metadata": {},
   "outputs": [],
   "source": [
    "# lets strip fuel type\n",
    "df['wheel_drive'] = df.wheel_drive.apply(lambda drive: str(drive).strip())"
   ]
  },
  {
   "cell_type": "code",
   "execution_count": 74,
   "metadata": {},
   "outputs": [],
   "source": [
    "drive_type_dict = dict({\n",
    "    'передний': 'front',\n",
    "    'полный': 'full',\n",
    "    'задний': 'rear',\n",
    "})\n",
    "\n",
    "df['wheel_drive'] = df['wheel_drive'].map(drive_type_dict)"
   ]
  },
  {
   "cell_type": "code",
   "execution_count": 75,
   "metadata": {},
   "outputs": [
    {
     "data": {
      "text/html": [
       "<div>\n",
       "<style scoped>\n",
       "    .dataframe tbody tr th:only-of-type {\n",
       "        vertical-align: middle;\n",
       "    }\n",
       "\n",
       "    .dataframe tbody tr th {\n",
       "        vertical-align: top;\n",
       "    }\n",
       "\n",
       "    .dataframe thead th {\n",
       "        text-align: right;\n",
       "    }\n",
       "</style>\n",
       "<table border=\"1\" class=\"dataframe\">\n",
       "  <thead>\n",
       "    <tr style=\"text-align: right;\">\n",
       "      <th></th>\n",
       "      <th>body_type</th>\n",
       "      <th>brand</th>\n",
       "      <th>color</th>\n",
       "      <th>complectation_dict</th>\n",
       "      <th>description</th>\n",
       "      <th>engine_displacement</th>\n",
       "      <th>engine_power</th>\n",
       "      <th>equipment_dict</th>\n",
       "      <th>fuel_type</th>\n",
       "      <th>image</th>\n",
       "      <th>mileage</th>\n",
       "      <th>model_date</th>\n",
       "      <th>model_info</th>\n",
       "      <th>model_name</th>\n",
       "      <th>name</th>\n",
       "      <th>doors_count</th>\n",
       "      <th>price_currency</th>\n",
       "      <th>production_date</th>\n",
       "      <th>sell_id</th>\n",
       "      <th>super_gen</th>\n",
       "      <th>vehicle_configuration</th>\n",
       "      <th>vehicle_transmission</th>\n",
       "      <th>vendor</th>\n",
       "      <th>owner_count</th>\n",
       "      <th>owning_period</th>\n",
       "      <th>car_passport</th>\n",
       "      <th>wheel_drive</th>\n",
       "      <th>wheel_location</th>\n",
       "      <th>condition</th>\n",
       "      <th>custom</th>\n",
       "      <th>price</th>\n",
       "      <th>sample</th>\n",
       "      <th>priced_model_name</th>\n",
       "      <th>priced_brand</th>\n",
       "      <th>priced_body_type</th>\n",
       "      <th>subjectivity</th>\n",
       "      <th>polarity</th>\n",
       "      <th>airbags</th>\n",
       "      <th>cruise</th>\n",
       "      <th>steering</th>\n",
       "      <th>loan</th>\n",
       "      <th>anti_block</th>\n",
       "      <th>lock</th>\n",
       "      <th>climat</th>\n",
       "      <th>rain_sens</th>\n",
       "      <th>equipment_length</th>\n",
       "      <th>tax_base</th>\n",
       "      <th>tax</th>\n",
       "      <th>acceleration</th>\n",
       "      <th>fuel_rate</th>\n",
       "    </tr>\n",
       "  </thead>\n",
       "  <tbody>\n",
       "    <tr>\n",
       "      <th>56730</th>\n",
       "      <td>other</td>\n",
       "      <td>toyota</td>\n",
       "      <td>серебристый</td>\n",
       "      <td>{'id': '0', 'name': ''}</td>\n",
       "      <td>авто в хорошем тех. состоянии..гаражное хранен...</td>\n",
       "      <td>nan</td>\n",
       "      <td>100.00</td>\n",
       "      <td>{'engine-proof': True, 'cruise-control': True,...</td>\n",
       "      <td>NaN</td>\n",
       "      <td>//avatars.mds.yandex.net/get-autoru-vos/202337...</td>\n",
       "      <td>180000</td>\n",
       "      <td>1997</td>\n",
       "      <td>{'code': 'noah', 'name': 'noah', 'ru_name': 'н...</td>\n",
       "      <td>noah</td>\n",
       "      <td>None</td>\n",
       "      <td>5</td>\n",
       "      <td>rub</td>\n",
       "      <td>2008</td>\n",
       "      <td>1092703248</td>\n",
       "      <td>nan</td>\n",
       "      <td>useless_col</td>\n",
       "      <td>None</td>\n",
       "      <td>japanese</td>\n",
       "      <td>3</td>\n",
       "      <td>None</td>\n",
       "      <td>original</td>\n",
       "      <td>NaN</td>\n",
       "      <td>right</td>\n",
       "      <td>None</td>\n",
       "      <td>None</td>\n",
       "      <td>13.44</td>\n",
       "      <td>1</td>\n",
       "      <td>13.35</td>\n",
       "      <td>13.47</td>\n",
       "      <td>12.25</td>\n",
       "      <td>0.00</td>\n",
       "      <td>0.00</td>\n",
       "      <td>0</td>\n",
       "      <td>0</td>\n",
       "      <td>0</td>\n",
       "      <td>0</td>\n",
       "      <td>0</td>\n",
       "      <td>0</td>\n",
       "      <td>0</td>\n",
       "      <td>0</td>\n",
       "      <td>38</td>\n",
       "      <td>12</td>\n",
       "      <td>1200.00</td>\n",
       "      <td>14.90</td>\n",
       "      <td>8.20</td>\n",
       "    </tr>\n",
       "    <tr>\n",
       "      <th>93719</th>\n",
       "      <td>other</td>\n",
       "      <td>honda</td>\n",
       "      <td>серебристый</td>\n",
       "      <td>{'id': '0', 'name': ''}</td>\n",
       "      <td>продаю honda civic suttle 1989 г. выпуска, неу...</td>\n",
       "      <td>nan</td>\n",
       "      <td>100.00</td>\n",
       "      <td>{'engine-proof': True, 'cruise-control': True,...</td>\n",
       "      <td>NaN</td>\n",
       "      <td>//avatars.mds.yandex.net/get-autoru-vos/216179...</td>\n",
       "      <td>400000</td>\n",
       "      <td>2006</td>\n",
       "      <td>{'code': 'civic', 'name': 'civic', 'ru_name': ...</td>\n",
       "      <td>civic</td>\n",
       "      <td>None</td>\n",
       "      <td>4</td>\n",
       "      <td>rub</td>\n",
       "      <td>1989</td>\n",
       "      <td>1097454742</td>\n",
       "      <td>nan</td>\n",
       "      <td>useless_col</td>\n",
       "      <td>None</td>\n",
       "      <td>japanese</td>\n",
       "      <td>3</td>\n",
       "      <td>None</td>\n",
       "      <td>original</td>\n",
       "      <td>NaN</td>\n",
       "      <td>left</td>\n",
       "      <td>None</td>\n",
       "      <td>None</td>\n",
       "      <td>11.70</td>\n",
       "      <td>1</td>\n",
       "      <td>12.71</td>\n",
       "      <td>13.00</td>\n",
       "      <td>12.25</td>\n",
       "      <td>0.00</td>\n",
       "      <td>0.00</td>\n",
       "      <td>0</td>\n",
       "      <td>0</td>\n",
       "      <td>0</td>\n",
       "      <td>0</td>\n",
       "      <td>0</td>\n",
       "      <td>0</td>\n",
       "      <td>0</td>\n",
       "      <td>0</td>\n",
       "      <td>43</td>\n",
       "      <td>12</td>\n",
       "      <td>1200.00</td>\n",
       "      <td>6.90</td>\n",
       "      <td>6.80</td>\n",
       "    </tr>\n",
       "    <tr>\n",
       "      <th>94094</th>\n",
       "      <td>other</td>\n",
       "      <td>honda</td>\n",
       "      <td>пурпурный</td>\n",
       "      <td>{'id': '0', 'name': ''}</td>\n",
       "      <td>в хорошем состоянии на ходу</td>\n",
       "      <td>nan</td>\n",
       "      <td>100.00</td>\n",
       "      <td>{'engine-proof': True, 'cruise-control': True,...</td>\n",
       "      <td>NaN</td>\n",
       "      <td>//avatars.mds.yandex.net/get-autoru-vos/215360...</td>\n",
       "      <td>220000</td>\n",
       "      <td>2005</td>\n",
       "      <td>{'code': 'civic', 'name': 'civic', 'ru_name': ...</td>\n",
       "      <td>civic</td>\n",
       "      <td>None</td>\n",
       "      <td>4</td>\n",
       "      <td>rub</td>\n",
       "      <td>1989</td>\n",
       "      <td>1096777604</td>\n",
       "      <td>nan</td>\n",
       "      <td>useless_col</td>\n",
       "      <td>None</td>\n",
       "      <td>japanese</td>\n",
       "      <td>3</td>\n",
       "      <td>None</td>\n",
       "      <td>original</td>\n",
       "      <td>NaN</td>\n",
       "      <td>left</td>\n",
       "      <td>None</td>\n",
       "      <td>None</td>\n",
       "      <td>11.61</td>\n",
       "      <td>1</td>\n",
       "      <td>12.71</td>\n",
       "      <td>13.00</td>\n",
       "      <td>12.25</td>\n",
       "      <td>0.00</td>\n",
       "      <td>0.00</td>\n",
       "      <td>0</td>\n",
       "      <td>0</td>\n",
       "      <td>0</td>\n",
       "      <td>0</td>\n",
       "      <td>0</td>\n",
       "      <td>0</td>\n",
       "      <td>0</td>\n",
       "      <td>0</td>\n",
       "      <td>43</td>\n",
       "      <td>12</td>\n",
       "      <td>1200.00</td>\n",
       "      <td>12.30</td>\n",
       "      <td>6.60</td>\n",
       "    </tr>\n",
       "  </tbody>\n",
       "</table>\n",
       "</div>"
      ],
      "text/plain": [
       "      body_type   brand        color       complectation_dict  \\\n",
       "56730     other  toyota  серебристый  {'id': '0', 'name': ''}   \n",
       "93719     other   honda  серебристый  {'id': '0', 'name': ''}   \n",
       "94094     other   honda    пурпурный  {'id': '0', 'name': ''}   \n",
       "\n",
       "                                             description  engine_displacement  \\\n",
       "56730  авто в хорошем тех. состоянии..гаражное хранен...                  nan   \n",
       "93719  продаю honda civic suttle 1989 г. выпуска, неу...                  nan   \n",
       "94094                        в хорошем состоянии на ходу                  nan   \n",
       "\n",
       "       engine_power                                     equipment_dict  \\\n",
       "56730        100.00  {'engine-proof': True, 'cruise-control': True,...   \n",
       "93719        100.00  {'engine-proof': True, 'cruise-control': True,...   \n",
       "94094        100.00  {'engine-proof': True, 'cruise-control': True,...   \n",
       "\n",
       "      fuel_type                                              image  mileage  \\\n",
       "56730       NaN  //avatars.mds.yandex.net/get-autoru-vos/202337...   180000   \n",
       "93719       NaN  //avatars.mds.yandex.net/get-autoru-vos/216179...   400000   \n",
       "94094       NaN  //avatars.mds.yandex.net/get-autoru-vos/215360...   220000   \n",
       "\n",
       "       model_date                                         model_info  \\\n",
       "56730        1997  {'code': 'noah', 'name': 'noah', 'ru_name': 'н...   \n",
       "93719        2006  {'code': 'civic', 'name': 'civic', 'ru_name': ...   \n",
       "94094        2005  {'code': 'civic', 'name': 'civic', 'ru_name': ...   \n",
       "\n",
       "      model_name  name  doors_count price_currency  production_date  \\\n",
       "56730       noah  None            5            rub             2008   \n",
       "93719      civic  None            4            rub             1989   \n",
       "94094      civic  None            4            rub             1989   \n",
       "\n",
       "          sell_id super_gen vehicle_configuration vehicle_transmission  \\\n",
       "56730  1092703248       nan           useless_col                 None   \n",
       "93719  1097454742       nan           useless_col                 None   \n",
       "94094  1096777604       nan           useless_col                 None   \n",
       "\n",
       "         vendor owner_count owning_period car_passport wheel_drive  \\\n",
       "56730  japanese           3          None     original         NaN   \n",
       "93719  japanese           3          None     original         NaN   \n",
       "94094  japanese           3          None     original         NaN   \n",
       "\n",
       "      wheel_location condition custom  price  sample  priced_model_name  \\\n",
       "56730          right      None   None  13.44       1              13.35   \n",
       "93719           left      None   None  11.70       1              12.71   \n",
       "94094           left      None   None  11.61       1              12.71   \n",
       "\n",
       "       priced_brand  priced_body_type  subjectivity  polarity  airbags  \\\n",
       "56730         13.47             12.25          0.00      0.00        0   \n",
       "93719         13.00             12.25          0.00      0.00        0   \n",
       "94094         13.00             12.25          0.00      0.00        0   \n",
       "\n",
       "       cruise  steering  loan  anti_block  lock  climat  rain_sens  \\\n",
       "56730       0         0     0           0     0       0          0   \n",
       "93719       0         0     0           0     0       0          0   \n",
       "94094       0         0     0           0     0       0          0   \n",
       "\n",
       "       equipment_length  tax_base     tax  acceleration  fuel_rate  \n",
       "56730                38        12 1200.00         14.90       8.20  \n",
       "93719                43        12 1200.00          6.90       6.80  \n",
       "94094                43        12 1200.00         12.30       6.60  "
      ]
     },
     "execution_count": 75,
     "metadata": {},
     "output_type": "execute_result"
    }
   ],
   "source": [
    "df[df['wheel_drive'].isna()]"
   ]
  },
  {
   "cell_type": "markdown",
   "metadata": {},
   "source": [
    "Civic. Fill With front"
   ]
  },
  {
   "cell_type": "code",
   "execution_count": 76,
   "metadata": {},
   "outputs": [],
   "source": [
    "df['wheel_drive'] = df['wheel_drive'].fillna('front')"
   ]
  },
  {
   "cell_type": "markdown",
   "metadata": {},
   "source": [
    "<a id=\"sec5.13\"></a>\n",
    "## [5.13 Price Drop Index](#sec5.13)\n",
    "[(INDEX)](#sec1)"
   ]
  },
  {
   "cell_type": "markdown",
   "metadata": {},
   "source": [
    "With a reference to EDA, we know, that some brands loose their price more faster than others. \n",
    "\n",
    "Let's generate such feature"
   ]
  },
  {
   "cell_type": "code",
   "execution_count": 77,
   "metadata": {},
   "outputs": [],
   "source": [
    "def get_change_index(model):\n",
    "    if model == 'ford':\n",
    "        return int(1)\n",
    "    if model == 'volvo' or model == 'mercedes':\n",
    "        return int(2)\n",
    "    if model == 'honda' or model == 'audi':\n",
    "        return int(2)\n",
    "    return int(0)"
   ]
  },
  {
   "cell_type": "code",
   "execution_count": 78,
   "metadata": {},
   "outputs": [],
   "source": [
    "df['prc_chg_idx'] = df['brand'].apply(\n",
    "    lambda brand: get_change_index(brand)).astype('category')"
   ]
  },
  {
   "cell_type": "markdown",
   "metadata": {},
   "source": [
    "<a id=\"sec5.14\"></a>\n",
    "## [5.14 Dropping cols without content](#sec5.14)\n",
    "[(INDEX)](#sec1)"
   ]
  },
  {
   "cell_type": "code",
   "execution_count": 79,
   "metadata": {},
   "outputs": [
    {
     "data": {
      "text/plain": [
       "3"
      ]
     },
     "execution_count": 79,
     "metadata": {},
     "output_type": "execute_result"
    }
   ],
   "source": [
    "df['engine_displacement'].isna().sum()"
   ]
  },
  {
   "cell_type": "code",
   "execution_count": 80,
   "metadata": {},
   "outputs": [],
   "source": [
    "df = df.dropna(axis=0, subset=['engine_displacement'])"
   ]
  },
  {
   "cell_type": "markdown",
   "metadata": {},
   "source": [
    "<a id=\"sec5.15\"></a>\n",
    "## [5.15 Vendor](#sec5.15)\n",
    "[(INDEX)](#sec1)"
   ]
  },
  {
   "cell_type": "markdown",
   "metadata": {},
   "source": [
    "During scraping of a dataset we gathered more vendors than were in a test data set. Let's replace those who are not in test dataset by 'Other'\n",
    "\n",
    "Note: It was decided to not include this to a model"
   ]
  },
  {
   "cell_type": "code",
   "execution_count": 81,
   "metadata": {},
   "outputs": [],
   "source": [
    "df['vendor'] = df['vendor'].apply(\n",
    "    lambda x: x if x == 'european' else(x if x == 'japanese' else 'other'))"
   ]
  },
  {
   "cell_type": "markdown",
   "metadata": {},
   "source": [
    "<a id=\"sec5.16\"></a>\n",
    "## [5.16 Handling multocorrelation out](#sec5.16)\n",
    "[(INDEX)](#sec1)"
   ]
  },
  {
   "cell_type": "code",
   "execution_count": 82,
   "metadata": {},
   "outputs": [],
   "source": [
    "# extract trhee columns from dataset, which are correlated\n",
    "data = df[['mileage', 'model_date', 'production_date']].values\n",
    "# create Scaler instance\n",
    "scaler = StandardScaler()\n",
    "scaled_data = scaler.fit_transform(data)\n",
    "\n",
    "# We have 3 vectors. Reduce to two, taking most important info.\n",
    "pca = PCA(n_components=2)\n",
    "pca.fit(scaled_data)\n",
    "pca_data = pca.transform(scaled_data)\n",
    "df['pca_1'], df['pca_2'] = pca_data[:, 0], pca_data[:, 1]"
   ]
  },
  {
   "cell_type": "markdown",
   "metadata": {},
   "source": [
    "<a id=\"sec5.17\"></a>\n",
    "## [5.17 Clustering](#sec5.17)\n",
    "[(INDEX)](#sec1)"
   ]
  },
  {
   "cell_type": "markdown",
   "metadata": {},
   "source": [
    "Note: I have failed to use clustering... :("
   ]
  },
  {
   "cell_type": "code",
   "execution_count": 83,
   "metadata": {},
   "outputs": [],
   "source": [
    "df_clus1 = df.copy()"
   ]
  },
  {
   "cell_type": "code",
   "execution_count": 84,
   "metadata": {},
   "outputs": [],
   "source": [
    "# cluster = Outliers_detector(df_clus1)"
   ]
  },
  {
   "cell_type": "code",
   "execution_count": 85,
   "metadata": {
    "scrolled": true
   },
   "outputs": [],
   "source": [
    "# indeces = cluster.get_dbscan_outliers('production_date', 'engine_displacement', dbscan_eps=.4,\n",
    "#                                      dbscan_minsample=12,\n",
    "#                                      cluster_num=-1)\n",
    "# print(f\"Strange guys {len(indeces)}\")"
   ]
  },
  {
   "cell_type": "code",
   "execution_count": 86,
   "metadata": {},
   "outputs": [],
   "source": [
    "# Defining features and target\n",
    "# X = df[df['sample'] == 1]\n",
    "\n",
    "# X_test = df[df['sample'] == 0]\n",
    "\n",
    "# print(f'X size: {X.shape}, X_testn size: {X_test.shape}')"
   ]
  },
  {
   "cell_type": "code",
   "execution_count": 87,
   "metadata": {},
   "outputs": [],
   "source": [
    "# cluster = Outliers_detector(X)"
   ]
  },
  {
   "cell_type": "code",
   "execution_count": 88,
   "metadata": {
    "scrolled": false
   },
   "outputs": [],
   "source": [
    "# indeces = cluster.get_dbscan_outliers('model_date', 'price', dbscan_eps=.5,\n",
    "#                                      dbscan_minsample=12,\n",
    "#                                      cluster_num=-1)\n",
    "# print(f\"Strange guys {len(indeces)}\")"
   ]
  },
  {
   "cell_type": "code",
   "execution_count": 89,
   "metadata": {},
   "outputs": [],
   "source": [
    "# X=X.drop(indeces)\n",
    "# X.reset_index(drop=True, inplace=True)"
   ]
  },
  {
   "cell_type": "code",
   "execution_count": 90,
   "metadata": {},
   "outputs": [],
   "source": [
    "# df = X_test.append(X, sort=False).reset_index(drop=True)  # combine sets"
   ]
  },
  {
   "cell_type": "markdown",
   "metadata": {},
   "source": [
    "<a id=\"sec5.18\"></a>\n",
    "## [5.18 Log Func](#sec5.18)\n",
    "[(INDEX)](#sec1)"
   ]
  },
  {
   "cell_type": "markdown",
   "metadata": {},
   "source": [
    "Try to make distribution normal for the propper fitting of the model "
   ]
  },
  {
   "cell_type": "code",
   "execution_count": 91,
   "metadata": {},
   "outputs": [],
   "source": [
    "cols_to_log = [\n",
    "    'engine_displacement', 'mileage', 'model_date', 'production_date',\n",
    "    'equipment_length', 'tax', 'acceleration', 'fuel_rate', 'pca_1', 'pca_2'\n",
    "]\n",
    "\n",
    "df = to_log(df, cols_to_log)"
   ]
  },
  {
   "cell_type": "markdown",
   "metadata": {},
   "source": [
    "<a id=\"sec5.19\"></a>\n",
    "## [5.19 Encoding](#sec5.19)\n",
    "[(INDEX)](#sec1)"
   ]
  },
  {
   "cell_type": "markdown",
   "metadata": {},
   "source": [
    "After all manipulations with dataset, we have to reset indexes"
   ]
  },
  {
   "cell_type": "code",
   "execution_count": 92,
   "metadata": {},
   "outputs": [],
   "source": [
    "# Re-set indexes\n",
    "df.reset_index(drop=True, inplace=True)"
   ]
  },
  {
   "cell_type": "code",
   "execution_count": 93,
   "metadata": {},
   "outputs": [],
   "source": [
    "encoder = Encoder(df)"
   ]
  },
  {
   "cell_type": "code",
   "execution_count": 94,
   "metadata": {},
   "outputs": [],
   "source": [
    "to_hot = [\n",
    "    #'body_type', # No impact\n",
    "    #'brand', # No impact\n",
    "    #'color', # No impact\n",
    "    #'fuel_type',   # No impact\n",
    "    #'doors_count', # No impact\n",
    "    #'vehicle_transmission', # No impact\n",
    "    'vendor',\n",
    "    'wheel_drive',\n",
    "    'owner_count',\n",
    "]\n",
    "\n",
    "to_label = [\n",
    "    'car_passport', 'wheel_location', 'prc_chg_idx', 'vehicle_transmission'\n",
    "]"
   ]
  },
  {
   "cell_type": "code",
   "execution_count": 95,
   "metadata": {},
   "outputs": [],
   "source": [
    "# hot it out\n",
    "for col in to_hot:\n",
    "    df = encoder.hot_encoder(col)"
   ]
  },
  {
   "cell_type": "code",
   "execution_count": 96,
   "metadata": {},
   "outputs": [],
   "source": [
    "# label it\n",
    "for col in to_label:\n",
    "    encoder.label_encoder(col)"
   ]
  },
  {
   "cell_type": "markdown",
   "metadata": {},
   "source": [
    "<a id=\"sec5.20\"></a>\n",
    "## [5.20 Dropping columns out](#sec5.20)\n",
    "[(INDEX)](#sec1)"
   ]
  },
  {
   "cell_type": "code",
   "execution_count": 97,
   "metadata": {},
   "outputs": [],
   "source": [
    "df_clus2 = df.copy()"
   ]
  },
  {
   "cell_type": "code",
   "execution_count": 192,
   "metadata": {},
   "outputs": [],
   "source": [
    "df = df_clus2.copy()"
   ]
  },
  {
   "cell_type": "code",
   "execution_count": 193,
   "metadata": {},
   "outputs": [],
   "source": [
    "cols_to_drop = [\n",
    "    'complectation_dict',\n",
    "    'description',\n",
    "    'equipment_dict',\n",
    "    'image',\n",
    "    'model_info',\n",
    "    'name',\n",
    "    'price_currency',\n",
    "    'vehicle_configuration',\n",
    "    'custom',\n",
    "    'condition',\n",
    "    'owning_period',\n",
    "    'super_gen',\n",
    "    'sell_id',\n",
    "    'model_name',\n",
    "    'engine_power',\n",
    "    'mileage',  # have PCA instead\n",
    "    'model_date',  # have PCA instead \n",
    "    'body_type',\n",
    "    #'brand', !!!!!!!!!!!!!!!!\n",
    "    'color',\n",
    "    'tax_base',\n",
    "    #'mileage_zero',  # No impact\n",
    "    'fuel_type',  # No impact\n",
    "    'doors_count'  # No impact\n",
    "]\n",
    "df = df.drop(cols_to_drop, axis=1)"
   ]
  },
  {
   "cell_type": "markdown",
   "metadata": {},
   "source": [
    "Let's check what do we have now"
   ]
  },
  {
   "cell_type": "code",
   "execution_count": 172,
   "metadata": {
    "scrolled": true
   },
   "outputs": [
    {
     "name": "stdout",
     "output_type": "stream",
     "text": [
      "brand - 0.0%\n",
      "engine_displacement - 0.0%\n",
      "production_date - 0.0%\n",
      "vehicle_transmission - 0.0%\n",
      "car_passport - 0.0%\n",
      "wheel_location - 0.0%\n",
      "price - 19.407%\n",
      "sample - 0.0%\n",
      "priced_model_name - 0.0%\n",
      "priced_brand - 0.0%\n",
      "priced_body_type - 0.0%\n",
      "subjectivity - 0.0%\n",
      "polarity - 0.0%\n",
      "airbags - 0.0%\n",
      "cruise - 0.0%\n",
      "steering - 0.0%\n",
      "loan - 0.0%\n",
      "anti_block - 0.0%\n",
      "lock - 0.0%\n",
      "climat - 0.0%\n",
      "rain_sens - 0.0%\n",
      "equipment_length - 0.0%\n",
      "tax - 0.0%\n",
      "acceleration - 0.0%\n",
      "fuel_rate - 0.0%\n",
      "prc_chg_idx - 0.0%\n",
      "pca_1 - 0.0%\n",
      "pca_2 - 0.0%\n",
      "hot_vendor_european - 0.0%\n",
      "hot_vendor_japanese - 0.0%\n",
      "hot_vendor_other - 0.0%\n",
      "hot_wheel_drive_front - 0.0%\n",
      "hot_wheel_drive_full - 0.0%\n",
      "hot_wheel_drive_rear - 0.0%\n",
      "hot_owner_count_1 - 0.0%\n",
      "hot_owner_count_2 - 0.0%\n",
      "hot_owner_count_3 - 0.0%\n"
     ]
    },
    {
     "data": {
      "image/png": "[encoded data removed]",
      "text/plain": [
       "<Figure size 1080x1080 with 2 Axes>"
      ]
     },
     "metadata": {},
     "output_type": "display_data"
    }
   ],
   "source": [
    "# Plot missing values\n",
    "cols = df.columns\n",
    "fig, ax = plt.subplots(figsize=(15, 15))\n",
    "sns.heatmap(df[cols].isnull()) \n",
    "\n",
    "# Show in percents\n",
    "for col in df.columns:\n",
    "    pct_missing = np.mean(df[col].isnull())\n",
    "    print(f'{col} - {round(pct_missing*100,3)}%')"
   ]
  },
  {
   "cell_type": "markdown",
   "metadata": {},
   "source": [
    "The data set is ready."
   ]
  },
  {
   "cell_type": "markdown",
   "metadata": {},
   "source": [
    "<a id=\"sec6\"></a>\n",
    "# [Prepare the data for models](#sec6)\n",
    "[(INDEX)](#sec2)"
   ]
  },
  {
   "cell_type": "code",
   "execution_count": 245,
   "metadata": {},
   "outputs": [],
   "source": [
    "# TEST\n",
    "df1 = df[(df['brand'] == 'bmw') | (df['brand'] == 'mercedes')]\n",
    "df2 = df[(df['brand'] != 'bmw') & (df['brand'] != 'mercedes')]\n",
    "df1 = df1.drop('brand',axis=1)\n",
    "df2 = df2.drop('brand',axis=1)"
   ]
  },
  {
   "cell_type": "code",
   "execution_count": 246,
   "metadata": {},
   "outputs": [],
   "source": [
    "# TEST\n",
    "X1 = df1[df1['sample'] == 1].drop(['price','sample'], axis=1)\n",
    "y1 = df1[df1['sample'] == 1]['price']\n",
    "\n",
    "X_test1 = df1[df1['sample'] == 0].drop(['price','sample'], axis=1)\n",
    "y_test1 = df1[df1['sample'] == 0]['price']\n",
    "\n",
    "\n",
    "# Defining features and target\n",
    "X2 = df2[df2['sample'] == 1].drop(['price','sample'], axis=1)\n",
    "y2 = df2[df2['sample'] == 1]['price']\n",
    "\n",
    "X_test2 = df2[df2['sample'] == 0].drop(['price','sample'], axis=1)\n",
    "y_test2 = df2[df2['sample'] == 0]['price']"
   ]
  },
  {
   "cell_type": "code",
   "execution_count": 173,
   "metadata": {},
   "outputs": [],
   "source": [
    "# Defining features and target\n",
    "X = df[df['sample'] == 1].drop(['price','sample'], axis=1)\n",
    "y = df[df['sample'] == 1]['price']\n",
    "\n",
    "X_test = df[df['sample'] == 0].drop(['price','sample'], axis=1)\n",
    "y_test = df[df['sample'] == 0]['price']"
   ]
  },
  {
   "cell_type": "code",
   "execution_count": 247,
   "metadata": {},
   "outputs": [],
   "source": [
    "cols_to_scal = [\n",
    "    'engine_displacement', \n",
    "    'subjectivity', \n",
    "    'polarity', \n",
    "    'acceleration',\n",
    "    'fuel_rate', \n",
    "    'pca_1', 'pca_2', \n",
    "    'equipment_length', \n",
    "    'priced_model_name',\n",
    "    'priced_brand', \n",
    "    'priced_body_type', \n",
    "    'tax', \n",
    "]"
   ]
  },
  {
   "cell_type": "code",
   "execution_count": null,
   "metadata": {},
   "outputs": [],
   "source": [
    "# test"
   ]
  },
  {
   "cell_type": "code",
   "execution_count": 248,
   "metadata": {},
   "outputs": [],
   "source": [
    "scaler = RobustScaler()\n",
    "X1[cols_to_scal] = scaler.fit_transform(X1[cols_to_scal])\n",
    "X_test1[cols_to_scal] = scaler.transform(X_test1[cols_to_scal])\n",
    "\n",
    "X2[cols_to_scal] = scaler.fit_transform(X2[cols_to_scal])\n",
    "X_test2[cols_to_scal] = scaler.transform(X_test2[cols_to_scal])"
   ]
  },
  {
   "cell_type": "code",
   "execution_count": 175,
   "metadata": {},
   "outputs": [],
   "source": [
    "scaler = RobustScaler()\n",
    "X[cols_to_scal] = scaler.fit_transform(X[cols_to_scal])\n",
    "X_test[cols_to_scal] = scaler.transform(X_test[cols_to_scal])"
   ]
  },
  {
   "cell_type": "code",
   "execution_count": 249,
   "metadata": {},
   "outputs": [],
   "source": [
    "# TEST\n",
    "# Splitting the data\n",
    "X_train1, X_val1, y_train1, y_val1 = train_test_split(X1,\n",
    "                                                  y1,\n",
    "                                                  test_size=0.2,\n",
    "                                                  shuffle=True,\n",
    "                                                  random_state=42)\n",
    "\n",
    "X_train2, X_val2, y_train2, y_val2 = train_test_split(X2,\n",
    "                                                  y2,\n",
    "                                                  test_size=0.2,\n",
    "                                                  shuffle=True,\n",
    "                                                  random_state=42)\n",
    "\n"
   ]
  },
  {
   "cell_type": "code",
   "execution_count": 176,
   "metadata": {},
   "outputs": [
    {
     "name": "stdout",
     "output_type": "stream",
     "text": [
      "Train size: (115236, 35), Validation size: (28810, 35), Test size: (34686, 35)\n"
     ]
    }
   ],
   "source": [
    "# Splitting the data\n",
    "X_train, X_val, y_train, y_val = train_test_split(X,\n",
    "                                                  y,\n",
    "                                                  test_size=0.2,\n",
    "                                                  shuffle=True,\n",
    "                                                  random_state=42)\n",
    "\n",
    "print(\n",
    "    f'Train size: {X_train.shape}, Validation size: {X_val.shape}, Test size: {X_test.shape}'\n",
    ")"
   ]
  },
  {
   "cell_type": "markdown",
   "metadata": {},
   "source": [
    "<a id=\"sec6\"></a>\n",
    "# [MODELS](#sec6)\n",
    "[(INDEX)](#sec2)"
   ]
  },
  {
   "cell_type": "markdown",
   "metadata": {},
   "source": [
    "There are plenty of algorithms could be applied but which one is best, which one is works faster?\n",
    "\n",
    "Let's try to new instrument, to compare most common algorithms and then select the best.\n",
    "\n",
    "We will use LazyPredict for such purpose"
   ]
  },
  {
   "cell_type": "code",
   "execution_count": null,
   "metadata": {
    "scrolled": true
   },
   "outputs": [],
   "source": [
    "lazy = LazyRegressor(verbose=1, ignore_warnings=False, custom_metric=None)\n",
    "models,predictions = lazy.fit(X_train, X_val, y_train, y_val)\n",
    "models"
   ]
  },
  {
   "cell_type": "markdown",
   "metadata": {},
   "source": [
    "We will take the RMSE metric as a starting point.\n",
    "\n",
    "It is noted, that RandomForest regressor takes first place by giving lowest RMSE value.\n",
    "\n",
    "Then two booster come: \n",
    "    -XGB\n",
    "    -LGBM\n",
    "We can see, that the time of computing significantly lower than in RandomForest.\n",
    "Extra Tree regressor works faster than Random Forest but gives worse RMSE.\n",
    "\n",
    "We will try to implement some of those algorithms for our dataset."
   ]
  },
  {
   "cell_type": "markdown",
   "metadata": {},
   "source": [
    "<a id=\"sec6\"></a>\n",
    "## [Random Forest](#sec6)\n",
    "[(INDEX)](#sec2)"
   ]
  },
  {
   "cell_type": "markdown",
   "metadata": {},
   "source": [
    "We will start with random forest.\n",
    "\n",
    "Apply the gridsearch for best parameters search"
   ]
  },
  {
   "cell_type": "code",
   "execution_count": 125,
   "metadata": {},
   "outputs": [],
   "source": [
    "rf_reg = RandomForestRegressor(random_state=42)\n",
    "param = {\n",
    "    'bootstrap': [True],\n",
    "    'max_depth': [10, 30],\n",
    "    'n_estimators': [100, 200, 300]\n",
    "}\n",
    "reg_rf = GridSearchCV(rf_reg, param, scoring='neg_mean_absolute_error',\n",
    "                      refit=True, cv=5, verbose=0, n_jobs=-1)"
   ]
  },
  {
   "cell_type": "code",
   "execution_count": 126,
   "metadata": {},
   "outputs": [
    {
     "name": "stdout",
     "output_type": "stream",
     "text": [
      "Fitting 5 folds for each of 6 candidates, totalling 30 fits\n"
     ]
    },
    {
     "name": "stderr",
     "output_type": "stream",
     "text": [
      "[Parallel(n_jobs=-1)]: Using backend LokyBackend with 8 concurrent workers.\n",
      "[Parallel(n_jobs=-1)]: Done  30 out of  30 | elapsed: 49.3min finished\n"
     ]
    },
    {
     "data": {
      "text/plain": [
       "GridSearchCV(cv=5, estimator=RandomForestRegressor(), n_jobs=-1,\n",
       "             param_grid={'bootstrap': [True], 'max_depth': [10, 30],\n",
       "                         'n_estimators': [300, 600, 1000]},\n",
       "             scoring='neg_mean_absolute_error', verbose=1)"
      ]
     },
     "execution_count": 126,
     "metadata": {},
     "output_type": "execute_result"
    }
   ],
   "source": [
    "reg_rf.fit(X_train, y_train)\n",
    "print('Best MAE: {:.4}, with best C: {}'.format(reg_rf.best_score_,\n",
    "                                                reg_rf.best_params_))"
   ]
  },
  {
   "cell_type": "code",
   "execution_count": 115,
   "metadata": {},
   "outputs": [],
   "source": [
    "y_pred_rf = reg_rf.predict(X_val)"
   ]
  },
  {
   "cell_type": "code",
   "execution_count": 117,
   "metadata": {},
   "outputs": [],
   "source": [
    "df_report = pd.DataFrame(data=None)"
   ]
  },
  {
   "cell_type": "code",
   "execution_count": 129,
   "metadata": {},
   "outputs": [
    {
     "data": {
      "text/html": [
       "<div>\n",
       "<style scoped>\n",
       "    .dataframe tbody tr th:only-of-type {\n",
       "        vertical-align: middle;\n",
       "    }\n",
       "\n",
       "    .dataframe tbody tr th {\n",
       "        vertical-align: top;\n",
       "    }\n",
       "\n",
       "    .dataframe thead th {\n",
       "        text-align: right;\n",
       "    }\n",
       "</style>\n",
       "<table border=\"1\" class=\"dataframe\">\n",
       "  <thead>\n",
       "    <tr style=\"text-align: right;\">\n",
       "      <th></th>\n",
       "      <th>MAPE</th>\n",
       "      <th>MAE</th>\n",
       "      <th>MSE</th>\n",
       "      <th>RMSE</th>\n",
       "    </tr>\n",
       "  </thead>\n",
       "  <tbody>\n",
       "    <tr>\n",
       "      <th>RandomForest</th>\n",
       "      <td>15.57</td>\n",
       "      <td>119448.62</td>\n",
       "      <td>95352149458.24</td>\n",
       "      <td>308791.43</td>\n",
       "    </tr>\n",
       "  </tbody>\n",
       "</table>\n",
       "</div>"
      ],
      "text/plain": [
       "              MAPE       MAE            MSE      RMSE\n",
       "RandomForest 15.57 119448.62 95352149458.24 308791.43"
      ]
     },
     "execution_count": 129,
     "metadata": {},
     "output_type": "execute_result"
    }
   ],
   "source": [
    "df_report = get_regression_metrics(df_report,y_val,y_pred_rf, 'RandomForest')\n",
    "df_report"
   ]
  },
  {
   "cell_type": "markdown",
   "metadata": {},
   "source": [
    "For the first attempt it is not so bad. MAPE is 15.6%\n",
    "\n",
    "The best score has been obtained with n_estimators = 300.\n",
    "\n",
    "Let's check another algorithm"
   ]
  },
  {
   "cell_type": "markdown",
   "metadata": {},
   "source": [
    "<a id=\"sec6\"></a>\n",
    "## [EXTRA-TREE](#sec6)\n",
    "[(INDEX)](#sec2)"
   ]
  },
  {
   "cell_type": "code",
   "execution_count": 131,
   "metadata": {},
   "outputs": [],
   "source": [
    "etr_reg = ExtraTreesRegressor(random_state=42)\n",
    "param = {\n",
    "    'bootstrap': [True],\n",
    "    'max_depth': [10, 30],\n",
    "    'n_estimators': [100, 200, 300,400]\n",
    "}\n",
    "etr_reg_gs = GridSearchCV(etr_reg, param, scoring='neg_mean_absolute_error',\n",
    "                      refit=True, cv=5, verbose=0, n_jobs=-1,)"
   ]
  },
  {
   "cell_type": "code",
   "execution_count": 132,
   "metadata": {},
   "outputs": [
    {
     "name": "stdout",
     "output_type": "stream",
     "text": [
      "Best MAE: -0.1456, with best C: {'bootstrap': True, 'max_depth': 30, 'n_estimators': 100}\n"
     ]
    }
   ],
   "source": [
    "etr_reg_gs.fit(X_train, y_train)\n",
    "print('Best MAE: {:.4}, with best C: {}'.format(etr_reg_gs.best_score_,\n",
    "                                                etr_reg_gs.best_params_))"
   ]
  },
  {
   "cell_type": "code",
   "execution_count": 133,
   "metadata": {},
   "outputs": [],
   "source": [
    "y_pred_etr_gs = etr_reg_gs.predict(X_val)"
   ]
  },
  {
   "cell_type": "code",
   "execution_count": 134,
   "metadata": {},
   "outputs": [
    {
     "data": {
      "text/html": [
       "<div>\n",
       "<style scoped>\n",
       "    .dataframe tbody tr th:only-of-type {\n",
       "        vertical-align: middle;\n",
       "    }\n",
       "\n",
       "    .dataframe tbody tr th {\n",
       "        vertical-align: top;\n",
       "    }\n",
       "\n",
       "    .dataframe thead th {\n",
       "        text-align: right;\n",
       "    }\n",
       "</style>\n",
       "<table border=\"1\" class=\"dataframe\">\n",
       "  <thead>\n",
       "    <tr style=\"text-align: right;\">\n",
       "      <th></th>\n",
       "      <th>MAPE</th>\n",
       "      <th>MAE</th>\n",
       "      <th>MSE</th>\n",
       "      <th>RMSE</th>\n",
       "    </tr>\n",
       "  </thead>\n",
       "  <tbody>\n",
       "    <tr>\n",
       "      <th>RandomForest</th>\n",
       "      <td>15.57</td>\n",
       "      <td>119448.62</td>\n",
       "      <td>95352149458.24</td>\n",
       "      <td>308791.43</td>\n",
       "    </tr>\n",
       "    <tr>\n",
       "      <th>ExtraTree_GS</th>\n",
       "      <td>15.31</td>\n",
       "      <td>117543.86</td>\n",
       "      <td>92968637935.73</td>\n",
       "      <td>304907.59</td>\n",
       "    </tr>\n",
       "  </tbody>\n",
       "</table>\n",
       "</div>"
      ],
      "text/plain": [
       "              MAPE       MAE            MSE      RMSE\n",
       "RandomForest 15.57 119448.62 95352149458.24 308791.43\n",
       "ExtraTree_GS 15.31 117543.86 92968637935.73 304907.59"
      ]
     },
     "execution_count": 134,
     "metadata": {},
     "output_type": "execute_result"
    }
   ],
   "source": [
    "df_report = get_regression_metrics(\n",
    "    df_report, y_val, y_pred_etr_gs, 'ExtraTree_GS')\n",
    "df_report"
   ]
  },
  {
   "cell_type": "code",
   "execution_count": 135,
   "metadata": {
    "scrolled": true
   },
   "outputs": [
    {
     "ename": "NameError",
     "evalue": "name 'rf' is not defined",
     "output_type": "error",
     "traceback": [
      "\u001b[1;31m---------------------------------------------------------------------------\u001b[0m",
      "\u001b[1;31mNameError\u001b[0m                                 Traceback (most recent call last)",
      "\u001b[1;32m<ipython-input-135-8311bfba94f6>\u001b[0m in \u001b[0;36m<module>\u001b[1;34m\u001b[0m\n\u001b[0;32m      3\u001b[0m                          bootstrap=True, verbose=0)\n\u001b[0;32m      4\u001b[0m \u001b[0metr\u001b[0m\u001b[1;33m.\u001b[0m\u001b[0mfit\u001b[0m\u001b[1;33m(\u001b[0m\u001b[0mX_train\u001b[0m\u001b[1;33m,\u001b[0m \u001b[0my_train\u001b[0m\u001b[1;33m)\u001b[0m\u001b[1;33m\u001b[0m\u001b[1;33m\u001b[0m\u001b[0m\n\u001b[1;32m----> 5\u001b[1;33m \u001b[0my_pred_etr\u001b[0m \u001b[1;33m=\u001b[0m \u001b[0mrf\u001b[0m\u001b[1;33m.\u001b[0m\u001b[0mpredict\u001b[0m\u001b[1;33m(\u001b[0m\u001b[0mX_val\u001b[0m\u001b[1;33m)\u001b[0m\u001b[1;33m\u001b[0m\u001b[1;33m\u001b[0m\u001b[0m\n\u001b[0m",
      "\u001b[1;31mNameError\u001b[0m: name 'rf' is not defined"
     ]
    }
   ],
   "source": [
    "# Training and evaluating Extra Tree\n",
    "etr = ExtraTreesRegressor(n_estimators=300, random_state=42, n_jobs=-1,\n",
    "                         bootstrap=True, verbose=0)\n",
    "etr.fit(X_train, y_train)\n",
    "y_pred_etr = etr.predict(X_val)"
   ]
  },
  {
   "cell_type": "code",
   "execution_count": 137,
   "metadata": {
    "scrolled": true
   },
   "outputs": [
    {
     "data": {
      "text/html": [
       "<div>\n",
       "<style scoped>\n",
       "    .dataframe tbody tr th:only-of-type {\n",
       "        vertical-align: middle;\n",
       "    }\n",
       "\n",
       "    .dataframe tbody tr th {\n",
       "        vertical-align: top;\n",
       "    }\n",
       "\n",
       "    .dataframe thead th {\n",
       "        text-align: right;\n",
       "    }\n",
       "</style>\n",
       "<table border=\"1\" class=\"dataframe\">\n",
       "  <thead>\n",
       "    <tr style=\"text-align: right;\">\n",
       "      <th></th>\n",
       "      <th>MAPE</th>\n",
       "      <th>MAE</th>\n",
       "      <th>MSE</th>\n",
       "      <th>RMSE</th>\n",
       "    </tr>\n",
       "  </thead>\n",
       "  <tbody>\n",
       "    <tr>\n",
       "      <th>RandomForest</th>\n",
       "      <td>15.57</td>\n",
       "      <td>119448.62</td>\n",
       "      <td>95352149458.24</td>\n",
       "      <td>308791.43</td>\n",
       "    </tr>\n",
       "    <tr>\n",
       "      <th>ExtraTree_GS</th>\n",
       "      <td>15.31</td>\n",
       "      <td>117543.86</td>\n",
       "      <td>92968637935.73</td>\n",
       "      <td>304907.59</td>\n",
       "    </tr>\n",
       "    <tr>\n",
       "      <th>ExtraTree_WO_GS</th>\n",
       "      <td>15.26</td>\n",
       "      <td>116998.52</td>\n",
       "      <td>93744649406.88</td>\n",
       "      <td>306177.48</td>\n",
       "    </tr>\n",
       "  </tbody>\n",
       "</table>\n",
       "</div>"
      ],
      "text/plain": [
       "                 MAPE       MAE            MSE      RMSE\n",
       "RandomForest    15.57 119448.62 95352149458.24 308791.43\n",
       "ExtraTree_GS    15.31 117543.86 92968637935.73 304907.59\n",
       "ExtraTree_WO_GS 15.26 116998.52 93744649406.88 306177.48"
      ]
     },
     "execution_count": 137,
     "metadata": {},
     "output_type": "execute_result"
    }
   ],
   "source": [
    "df_report = get_regression_metrics(df_report,y_val,y_pred_etr, 'ExtraTree_WO_GS')\n",
    "df_report"
   ]
  },
  {
   "cell_type": "markdown",
   "metadata": {},
   "source": [
    "That's a little strange. We specified to minimize MAE in gridsearch for Etxta Tree Regressor, but looking at the output presented in df_report, we see, that if we slelect more estimators than GridSearch suggested, then better score can be obtained. Seems GridSearch minimizer RMSE instead of MAE.\n",
    "\n",
    "Anyway, Extra Tree Regressor shows better results than Random forest what is contradicts with Lazy Predictor."
   ]
  },
  {
   "cell_type": "code",
   "execution_count": null,
   "metadata": {},
   "outputs": [],
   "source": [
    "# rf.fit(X, y) # Обучим для сабмита на всей выборке"
   ]
  },
  {
   "cell_type": "code",
   "execution_count": null,
   "metadata": {},
   "outputs": [],
   "source": [
    "sell_id = pd.read_csv('test.csv')['sell_id']"
   ]
  },
  {
   "cell_type": "code",
   "execution_count": null,
   "metadata": {},
   "outputs": [],
   "source": [
    "# submission_tree = pd.DataFrame({'sell_id': sell_id,\n",
    "#                            'price': np.exp(rf.predict(X_test))*0.905})"
   ]
  },
  {
   "cell_type": "code",
   "execution_count": null,
   "metadata": {},
   "outputs": [],
   "source": [
    "# submission_tree.to_csv('submission_tree.csv', index=False)"
   ]
  },
  {
   "cell_type": "markdown",
   "metadata": {},
   "source": [
    "<a id=\"sec6\"></a>\n",
    "## [CAT_boost](#sec6)\n",
    "[(INDEX)](#sec2)"
   ]
  },
  {
   "cell_type": "code",
   "execution_count": null,
   "metadata": {},
   "outputs": [],
   "source": [
    "# Training the model\n",
    "cbr = CatBoostRegressor()\n",
    "\n",
    "# Grid search for catboost model\n",
    "param_grid = {'iterations': [500],\n",
    "              'learning_rate': [0.01, 0.1, 0.25, 0.5],\n",
    "              'l2_leaf_reg': [1, 3, 5, 10],\n",
    "              'depth': np.arange(10, 14),\n",
    "              'thread_count': [4]}\n",
    "\n",
    "cbr.grid_search(param_grid=param_grid,\n",
    "                X=X,\n",
    "                y=y,\n",
    "                cv=5,\n",
    "                partition_random_seed=42,\n",
    "                calc_cv_statistics=True,\n",
    "                search_by_train_test_split=True,\n",
    "                refit=True,\n",
    "                shuffle=True,\n",
    "                stratified=None,\n",
    "                train_size=0.8,\n",
    "                verbose=False,\n",
    "                plot=True)"
   ]
  },
  {
   "cell_type": "code",
   "execution_count": null,
   "metadata": {},
   "outputs": [],
   "source": [
    "cbr.fit(X_train,y_train)"
   ]
  },
  {
   "cell_type": "code",
   "execution_count": null,
   "metadata": {},
   "outputs": [],
   "source": [
    "cbr_pred = cbr.predict(X_val)"
   ]
  },
  {
   "cell_type": "code",
   "execution_count": null,
   "metadata": {
    "scrolled": true
   },
   "outputs": [],
   "source": [
    "# Best model parameters\n",
    "cbr.get_params()"
   ]
  },
  {
   "cell_type": "code",
   "execution_count": null,
   "metadata": {},
   "outputs": [],
   "source": [
    "df_report = get_regression_metrics(df_report,y_val,cbr_pred, 'CatBoost')\n",
    "df_report"
   ]
  },
  {
   "cell_type": "code",
   "execution_count": null,
   "metadata": {
    "scrolled": true
   },
   "outputs": [],
   "source": [
    "cbr = CatBoostRegressor(loss_function='RMSE',\n",
    "                        thread_count=4,\n",
    "                        depth=10,\n",
    "                        l2_leaf_reg=1,\n",
    "                        iterations=500,\n",
    "                        learning_rate=0.1)\n",
    "\n",
    "cbr.fit(X_train, y_train)"
   ]
  },
  {
   "cell_type": "code",
   "execution_count": null,
   "metadata": {},
   "outputs": [],
   "source": [
    "submission_cat_boost = pd.DataFrame({\n",
    "    'sell_id':\n",
    "    sell_id,\n",
    "    'price':\n",
    "    np.exp(cbr.predict(X_test)) * 0.905\n",
    "})"
   ]
  },
  {
   "cell_type": "code",
   "execution_count": null,
   "metadata": {},
   "outputs": [],
   "source": [
    "submission_cat_boost.to_csv('submission_cat_boost.csv', index=False)"
   ]
  },
  {
   "cell_type": "markdown",
   "metadata": {},
   "source": [
    "# XGBoost"
   ]
  },
  {
   "cell_type": "code",
   "execution_count": null,
   "metadata": {},
   "outputs": [],
   "source": [
    "# Training xgboost model\n",
    "xg_reg = xgb.XGBRegressor(objective='reg:squarederror', colsample_bytree=0.5,\n",
    "                          learning_rate=0.05, max_depth=12, alpha=1,\n",
    "                          n_estimators=1000, silent=1)\n",
    "xg_reg.fit(X_train, y_train)\n",
    "xg_red_pred = xg_reg.predict(X_val)"
   ]
  },
  {
   "cell_type": "code",
   "execution_count": null,
   "metadata": {
    "scrolled": true
   },
   "outputs": [],
   "source": [
    "df_report = get_regression_metrics(df_report,y_val,xg_red_pred, 'XGBoost_1')\n",
    "df_report"
   ]
  },
  {
   "cell_type": "code",
   "execution_count": null,
   "metadata": {
    "scrolled": false
   },
   "outputs": [],
   "source": [
    "fig, ax = plt.subplots(1,1,figsize=(15,15))\n",
    "plot_importance(xg_reg,ax=ax);"
   ]
  },
  {
   "cell_type": "code",
   "execution_count": null,
   "metadata": {},
   "outputs": [],
   "source": [
    "# submission_XGboost = pd.DataFrame({'sell_id': sell_id,\n",
    "#                            'price': np.exp(xg_reg.predict(X_test))*0.905})\n",
    "\n",
    "# submission_XGboost.to_csv('submission_XGboost.csv', index=False)"
   ]
  },
  {
   "cell_type": "markdown",
   "metadata": {},
   "source": [
    "# LGBM"
   ]
  },
  {
   "cell_type": "code",
   "execution_count": 250,
   "metadata": {},
   "outputs": [],
   "source": [
    "def lgbt(X_train, y_train, X_val, y_val):\n",
    "    # Defining lightgbm hyper-parameters\n",
    "    hyper_params = {\n",
    "        'task': 'train',\n",
    "        'boosting_type': 'gbdt',\n",
    "        'objective': 'regression',\n",
    "        'metric': ['mape'],\n",
    "        'learning_rate': 0.05,\n",
    "        'feature_fraction': 0.9,\n",
    "        'bagging_fraction': 0.7,\n",
    "        'bagging_freq': 10,\n",
    "        'verbose': 0,\n",
    "        \"max_depth\": 12,\n",
    "        \"num_leaves\": 128,\n",
    "        \"max_bin\": 512,\n",
    "        \"num_iterations\": 1000,\n",
    "        \"n_estimators\": 1000\n",
    "    }\n",
    "    # Training lightgbm model\n",
    "    lgbm = lgb.LGBMRegressor(**hyper_params)\n",
    "    lgbm.fit(X_train, y_train,\n",
    "             eval_set=[(X_val, y_val)],\n",
    "             eval_metric='l1',\n",
    "             early_stopping_rounds=100)\n",
    "    lgb_pred = lgbm.predict(X_val)\n",
    "    return lgb_pred"
   ]
  },
  {
   "cell_type": "code",
   "execution_count": 253,
   "metadata": {},
   "outputs": [
    {
     "name": "stdout",
     "output_type": "stream",
     "text": [
      "[1]\tvalid_0's l1: 1.07519\tvalid_0's mape: 0.0769835\n",
      "Training until validation scores don't improve for 100 rounds\n",
      "[2]\tvalid_0's l1: 1.02316\tvalid_0's mape: 0.0732693\n",
      "[3]\tvalid_0's l1: 0.973805\tvalid_0's mape: 0.069746\n",
      "[4]\tvalid_0's l1: 0.926917\tvalid_0's mape: 0.0663979\n",
      "[5]\tvalid_0's l1: 0.882678\tvalid_0's mape: 0.0632402\n",
      "[6]\tvalid_0's l1: 0.840614\tvalid_0's mape: 0.0602367\n",
      "[7]\tvalid_0's l1: 0.800991\tvalid_0's mape: 0.057409\n",
      "[8]\tvalid_0's l1: 0.765511\tvalid_0's mape: 0.0548794\n",
      "[9]\tvalid_0's l1: 0.729686\tvalid_0's mape: 0.0523207\n",
      "[10]\tvalid_0's l1: 0.697711\tvalid_0's mape: 0.0500404\n",
      "[11]\tvalid_0's l1: 0.665606\tvalid_0's mape: 0.0477487\n",
      "[12]\tvalid_0's l1: 0.635175\tvalid_0's mape: 0.0455766\n",
      "[13]\tvalid_0's l1: 0.606657\tvalid_0's mape: 0.0435429\n",
      "[14]\tvalid_0's l1: 0.579466\tvalid_0's mape: 0.0416017\n",
      "[15]\tvalid_0's l1: 0.553712\tvalid_0's mape: 0.0397634\n",
      "[16]\tvalid_0's l1: 0.529393\tvalid_0's mape: 0.038029\n",
      "[17]\tvalid_0's l1: 0.506405\tvalid_0's mape: 0.0363888\n",
      "[18]\tvalid_0's l1: 0.484901\tvalid_0's mape: 0.0348563\n",
      "[19]\tvalid_0's l1: 0.464217\tvalid_0's mape: 0.033382\n",
      "[20]\tvalid_0's l1: 0.444831\tvalid_0's mape: 0.0319995\n",
      "[21]\tvalid_0's l1: 0.426747\tvalid_0's mape: 0.0307104\n",
      "[22]\tvalid_0's l1: 0.410455\tvalid_0's mape: 0.0295533\n",
      "[23]\tvalid_0's l1: 0.394225\tvalid_0's mape: 0.0283973\n",
      "[24]\tvalid_0's l1: 0.379064\tvalid_0's mape: 0.0273192\n",
      "[25]\tvalid_0's l1: 0.364863\tvalid_0's mape: 0.0263095\n",
      "[26]\tvalid_0's l1: 0.351394\tvalid_0's mape: 0.0253528\n",
      "[27]\tvalid_0's l1: 0.338558\tvalid_0's mape: 0.02444\n",
      "[28]\tvalid_0's l1: 0.326524\tvalid_0's mape: 0.023586\n",
      "[29]\tvalid_0's l1: 0.315103\tvalid_0's mape: 0.0227762\n",
      "[30]\tvalid_0's l1: 0.304589\tvalid_0's mape: 0.0220325\n",
      "[31]\tvalid_0's l1: 0.29456\tvalid_0's mape: 0.0213232\n",
      "[32]\tvalid_0's l1: 0.284984\tvalid_0's mape: 0.0206467\n",
      "[33]\tvalid_0's l1: 0.276007\tvalid_0's mape: 0.0200118\n",
      "[34]\tvalid_0's l1: 0.267724\tvalid_0's mape: 0.0194266\n",
      "[35]\tvalid_0's l1: 0.260001\tvalid_0's mape: 0.0188823\n",
      "[36]\tvalid_0's l1: 0.252953\tvalid_0's mape: 0.018387\n",
      "[37]\tvalid_0's l1: 0.246093\tvalid_0's mape: 0.0179044\n",
      "[38]\tvalid_0's l1: 0.23983\tvalid_0's mape: 0.0174649\n",
      "[39]\tvalid_0's l1: 0.234003\tvalid_0's mape: 0.017057\n",
      "[40]\tvalid_0's l1: 0.228699\tvalid_0's mape: 0.0166858\n",
      "[41]\tvalid_0's l1: 0.223502\tvalid_0's mape: 0.0163229\n",
      "[42]\tvalid_0's l1: 0.21893\tvalid_0's mape: 0.016004\n",
      "[43]\tvalid_0's l1: 0.214362\tvalid_0's mape: 0.0156862\n",
      "[44]\tvalid_0's l1: 0.210131\tvalid_0's mape: 0.0153916\n",
      "[45]\tvalid_0's l1: 0.206204\tvalid_0's mape: 0.0151181\n",
      "[46]\tvalid_0's l1: 0.202789\tvalid_0's mape: 0.0148811\n",
      "[47]\tvalid_0's l1: 0.199658\tvalid_0's mape: 0.0146647\n",
      "[48]\tvalid_0's l1: 0.196403\tvalid_0's mape: 0.014439\n",
      "[49]\tvalid_0's l1: 0.19352\tvalid_0's mape: 0.0142395\n",
      "[50]\tvalid_0's l1: 0.190825\tvalid_0's mape: 0.0140527\n",
      "[51]\tvalid_0's l1: 0.188401\tvalid_0's mape: 0.0138847\n",
      "[52]\tvalid_0's l1: 0.185943\tvalid_0's mape: 0.0137138\n",
      "[53]\tvalid_0's l1: 0.183716\tvalid_0's mape: 0.0135595\n",
      "[54]\tvalid_0's l1: 0.181586\tvalid_0's mape: 0.0134122\n",
      "[55]\tvalid_0's l1: 0.179753\tvalid_0's mape: 0.013286\n",
      "[56]\tvalid_0's l1: 0.177955\tvalid_0's mape: 0.0131623\n",
      "[57]\tvalid_0's l1: 0.176299\tvalid_0's mape: 0.0130479\n",
      "[58]\tvalid_0's l1: 0.174657\tvalid_0's mape: 0.0129349\n",
      "[59]\tvalid_0's l1: 0.173143\tvalid_0's mape: 0.0128309\n",
      "[60]\tvalid_0's l1: 0.171707\tvalid_0's mape: 0.0127324\n",
      "[61]\tvalid_0's l1: 0.170478\tvalid_0's mape: 0.0126489\n",
      "[62]\tvalid_0's l1: 0.169208\tvalid_0's mape: 0.0125623\n",
      "[63]\tvalid_0's l1: 0.1682\tvalid_0's mape: 0.0124935\n",
      "[64]\tvalid_0's l1: 0.167196\tvalid_0's mape: 0.0124252\n",
      "[65]\tvalid_0's l1: 0.166258\tvalid_0's mape: 0.0123611\n",
      "[66]\tvalid_0's l1: 0.165446\tvalid_0's mape: 0.0123059\n",
      "[67]\tvalid_0's l1: 0.164636\tvalid_0's mape: 0.0122512\n",
      "[68]\tvalid_0's l1: 0.163817\tvalid_0's mape: 0.0121961\n",
      "[69]\tvalid_0's l1: 0.163062\tvalid_0's mape: 0.0121453\n",
      "[70]\tvalid_0's l1: 0.162367\tvalid_0's mape: 0.0120982\n",
      "[71]\tvalid_0's l1: 0.161753\tvalid_0's mape: 0.0120558\n",
      "[72]\tvalid_0's l1: 0.161125\tvalid_0's mape: 0.0120117\n",
      "[73]\tvalid_0's l1: 0.160577\tvalid_0's mape: 0.0119739\n",
      "[74]\tvalid_0's l1: 0.160139\tvalid_0's mape: 0.0119434\n",
      "[75]\tvalid_0's l1: 0.159724\tvalid_0's mape: 0.0119152\n",
      "[76]\tvalid_0's l1: 0.159271\tvalid_0's mape: 0.0118841\n",
      "[77]\tvalid_0's l1: 0.158817\tvalid_0's mape: 0.0118533\n",
      "[78]\tvalid_0's l1: 0.158416\tvalid_0's mape: 0.0118259\n",
      "[79]\tvalid_0's l1: 0.158106\tvalid_0's mape: 0.0118046\n",
      "[80]\tvalid_0's l1: 0.157721\tvalid_0's mape: 0.0117784\n",
      "[81]\tvalid_0's l1: 0.157423\tvalid_0's mape: 0.0117574\n",
      "[82]\tvalid_0's l1: 0.157051\tvalid_0's mape: 0.0117318\n",
      "[83]\tvalid_0's l1: 0.156735\tvalid_0's mape: 0.0117111\n",
      "[84]\tvalid_0's l1: 0.156449\tvalid_0's mape: 0.0116917\n",
      "[85]\tvalid_0's l1: 0.156174\tvalid_0's mape: 0.0116737\n",
      "[86]\tvalid_0's l1: 0.155965\tvalid_0's mape: 0.0116602\n",
      "[87]\tvalid_0's l1: 0.155825\tvalid_0's mape: 0.0116511\n",
      "[88]\tvalid_0's l1: 0.155639\tvalid_0's mape: 0.011639\n",
      "[89]\tvalid_0's l1: 0.155478\tvalid_0's mape: 0.0116295\n",
      "[90]\tvalid_0's l1: 0.155307\tvalid_0's mape: 0.0116186\n",
      "[91]\tvalid_0's l1: 0.155213\tvalid_0's mape: 0.011612\n",
      "[92]\tvalid_0's l1: 0.155043\tvalid_0's mape: 0.0116006\n",
      "[93]\tvalid_0's l1: 0.154904\tvalid_0's mape: 0.0115915\n",
      "[94]\tvalid_0's l1: 0.15478\tvalid_0's mape: 0.0115842\n",
      "[95]\tvalid_0's l1: 0.154677\tvalid_0's mape: 0.011578\n",
      "[96]\tvalid_0's l1: 0.154588\tvalid_0's mape: 0.0115724\n",
      "[97]\tvalid_0's l1: 0.154516\tvalid_0's mape: 0.0115685\n",
      "[98]\tvalid_0's l1: 0.154483\tvalid_0's mape: 0.011566\n",
      "[99]\tvalid_0's l1: 0.154348\tvalid_0's mape: 0.0115572\n",
      "[100]\tvalid_0's l1: 0.154162\tvalid_0's mape: 0.0115444\n",
      "[101]\tvalid_0's l1: 0.154125\tvalid_0's mape: 0.0115422\n",
      "[102]\tvalid_0's l1: 0.153979\tvalid_0's mape: 0.0115315\n",
      "[103]\tvalid_0's l1: 0.153852\tvalid_0's mape: 0.0115222\n",
      "[104]\tvalid_0's l1: 0.153818\tvalid_0's mape: 0.0115197\n",
      "[105]\tvalid_0's l1: 0.153679\tvalid_0's mape: 0.01151\n",
      "[106]\tvalid_0's l1: 0.153591\tvalid_0's mape: 0.0115039\n",
      "[107]\tvalid_0's l1: 0.153523\tvalid_0's mape: 0.011499\n",
      "[108]\tvalid_0's l1: 0.153492\tvalid_0's mape: 0.0114965\n",
      "[109]\tvalid_0's l1: 0.153481\tvalid_0's mape: 0.0114954\n",
      "[110]\tvalid_0's l1: 0.153482\tvalid_0's mape: 0.0114956\n",
      "[111]\tvalid_0's l1: 0.15346\tvalid_0's mape: 0.0114951\n",
      "[112]\tvalid_0's l1: 0.153495\tvalid_0's mape: 0.0114982\n",
      "[113]\tvalid_0's l1: 0.153444\tvalid_0's mape: 0.0114951\n",
      "[114]\tvalid_0's l1: 0.15345\tvalid_0's mape: 0.0114961\n",
      "[115]\tvalid_0's l1: 0.153414\tvalid_0's mape: 0.0114941\n",
      "[116]\tvalid_0's l1: 0.153396\tvalid_0's mape: 0.0114935\n",
      "[117]\tvalid_0's l1: 0.153378\tvalid_0's mape: 0.0114928\n",
      "[118]\tvalid_0's l1: 0.153379\tvalid_0's mape: 0.0114932\n",
      "[119]\tvalid_0's l1: 0.153409\tvalid_0's mape: 0.0114961\n",
      "[120]\tvalid_0's l1: 0.1534\tvalid_0's mape: 0.0114959\n",
      "[121]\tvalid_0's l1: 0.153348\tvalid_0's mape: 0.0114926\n",
      "[122]\tvalid_0's l1: 0.153317\tvalid_0's mape: 0.0114914\n",
      "[123]\tvalid_0's l1: 0.153305\tvalid_0's mape: 0.011491\n",
      "[124]\tvalid_0's l1: 0.153361\tvalid_0's mape: 0.0114947\n",
      "[125]\tvalid_0's l1: 0.153363\tvalid_0's mape: 0.0114957\n",
      "[126]\tvalid_0's l1: 0.153302\tvalid_0's mape: 0.0114915\n",
      "[127]\tvalid_0's l1: 0.153341\tvalid_0's mape: 0.0114946\n",
      "[128]\tvalid_0's l1: 0.153324\tvalid_0's mape: 0.0114943\n",
      "[129]\tvalid_0's l1: 0.153357\tvalid_0's mape: 0.0114973\n",
      "[130]\tvalid_0's l1: 0.153386\tvalid_0's mape: 0.0115001\n",
      "[131]\tvalid_0's l1: 0.153338\tvalid_0's mape: 0.0114963\n",
      "[132]\tvalid_0's l1: 0.153304\tvalid_0's mape: 0.0114935\n",
      "[133]\tvalid_0's l1: 0.153318\tvalid_0's mape: 0.0114946\n",
      "[134]\tvalid_0's l1: 0.153339\tvalid_0's mape: 0.0114959\n",
      "[135]\tvalid_0's l1: 0.153355\tvalid_0's mape: 0.011497\n",
      "[136]\tvalid_0's l1: 0.15341\tvalid_0's mape: 0.0115014\n",
      "[137]\tvalid_0's l1: 0.153404\tvalid_0's mape: 0.011501\n",
      "[138]\tvalid_0's l1: 0.153399\tvalid_0's mape: 0.0115006\n",
      "[139]\tvalid_0's l1: 0.153419\tvalid_0's mape: 0.0115021\n",
      "[140]\tvalid_0's l1: 0.153407\tvalid_0's mape: 0.0115008\n",
      "[141]\tvalid_0's l1: 0.15338\tvalid_0's mape: 0.0114991\n",
      "[142]\tvalid_0's l1: 0.153345\tvalid_0's mape: 0.0114966\n",
      "[143]\tvalid_0's l1: 0.153318\tvalid_0's mape: 0.0114944\n",
      "[144]\tvalid_0's l1: 0.153311\tvalid_0's mape: 0.0114942\n",
      "[145]\tvalid_0's l1: 0.153343\tvalid_0's mape: 0.011497\n",
      "[146]\tvalid_0's l1: 0.153358\tvalid_0's mape: 0.0114975\n",
      "[147]\tvalid_0's l1: 0.153392\tvalid_0's mape: 0.0115003\n",
      "[148]\tvalid_0's l1: 0.153376\tvalid_0's mape: 0.0114993\n",
      "[149]\tvalid_0's l1: 0.153409\tvalid_0's mape: 0.0115019\n",
      "[150]\tvalid_0's l1: 0.153413\tvalid_0's mape: 0.0115022\n",
      "[151]\tvalid_0's l1: 0.153393\tvalid_0's mape: 0.0115013\n",
      "[152]\tvalid_0's l1: 0.153375\tvalid_0's mape: 0.0115006\n",
      "[153]\tvalid_0's l1: 0.1533\tvalid_0's mape: 0.0114953\n",
      "[154]\tvalid_0's l1: 0.153273\tvalid_0's mape: 0.0114939\n",
      "[155]\tvalid_0's l1: 0.153295\tvalid_0's mape: 0.011496\n",
      "[156]\tvalid_0's l1: 0.153274\tvalid_0's mape: 0.0114952\n",
      "[157]\tvalid_0's l1: 0.153212\tvalid_0's mape: 0.0114908\n",
      "[158]\tvalid_0's l1: 0.15318\tvalid_0's mape: 0.0114888\n",
      "[159]\tvalid_0's l1: 0.153154\tvalid_0's mape: 0.0114875\n",
      "[160]\tvalid_0's l1: 0.153124\tvalid_0's mape: 0.011486\n",
      "[161]\tvalid_0's l1: 0.153109\tvalid_0's mape: 0.0114846\n",
      "[162]\tvalid_0's l1: 0.153122\tvalid_0's mape: 0.0114858\n",
      "[163]\tvalid_0's l1: 0.15311\tvalid_0's mape: 0.0114849\n",
      "[164]\tvalid_0's l1: 0.153052\tvalid_0's mape: 0.0114805\n",
      "[165]\tvalid_0's l1: 0.153054\tvalid_0's mape: 0.0114809\n",
      "[166]\tvalid_0's l1: 0.153032\tvalid_0's mape: 0.0114791\n",
      "[167]\tvalid_0's l1: 0.153049\tvalid_0's mape: 0.0114804\n",
      "[168]\tvalid_0's l1: 0.153027\tvalid_0's mape: 0.0114788\n",
      "[169]\tvalid_0's l1: 0.153037\tvalid_0's mape: 0.0114794\n",
      "[170]\tvalid_0's l1: 0.153038\tvalid_0's mape: 0.0114798\n",
      "[171]\tvalid_0's l1: 0.153079\tvalid_0's mape: 0.0114831\n",
      "[172]\tvalid_0's l1: 0.153057\tvalid_0's mape: 0.0114813\n",
      "[173]\tvalid_0's l1: 0.153054\tvalid_0's mape: 0.0114811\n",
      "[174]\tvalid_0's l1: 0.153079\tvalid_0's mape: 0.0114833\n",
      "[175]\tvalid_0's l1: 0.153113\tvalid_0's mape: 0.011486\n",
      "[176]\tvalid_0's l1: 0.153117\tvalid_0's mape: 0.0114863\n",
      "[177]\tvalid_0's l1: 0.153116\tvalid_0's mape: 0.0114862\n",
      "[178]\tvalid_0's l1: 0.153141\tvalid_0's mape: 0.0114882\n",
      "[179]\tvalid_0's l1: 0.15316\tvalid_0's mape: 0.01149\n",
      "[180]\tvalid_0's l1: 0.153166\tvalid_0's mape: 0.0114904\n",
      "[181]\tvalid_0's l1: 0.153146\tvalid_0's mape: 0.0114895\n",
      "[182]\tvalid_0's l1: 0.153053\tvalid_0's mape: 0.0114823\n",
      "[183]\tvalid_0's l1: 0.15304\tvalid_0's mape: 0.0114815\n",
      "[184]\tvalid_0's l1: 0.15301\tvalid_0's mape: 0.01148\n",
      "[185]\tvalid_0's l1: 0.152979\tvalid_0's mape: 0.0114781\n",
      "[186]\tvalid_0's l1: 0.152986\tvalid_0's mape: 0.0114791\n",
      "[187]\tvalid_0's l1: 0.152936\tvalid_0's mape: 0.0114756\n",
      "[188]\tvalid_0's l1: 0.152935\tvalid_0's mape: 0.0114755\n",
      "[189]\tvalid_0's l1: 0.152947\tvalid_0's mape: 0.0114768\n",
      "[190]\tvalid_0's l1: 0.152979\tvalid_0's mape: 0.0114793\n",
      "[191]\tvalid_0's l1: 0.153015\tvalid_0's mape: 0.0114823\n",
      "[192]\tvalid_0's l1: 0.153019\tvalid_0's mape: 0.0114826\n",
      "[193]\tvalid_0's l1: 0.152978\tvalid_0's mape: 0.0114794\n",
      "[194]\tvalid_0's l1: 0.152979\tvalid_0's mape: 0.0114799\n",
      "[195]\tvalid_0's l1: 0.152959\tvalid_0's mape: 0.0114784\n",
      "[196]\tvalid_0's l1: 0.152918\tvalid_0's mape: 0.011475\n",
      "[197]\tvalid_0's l1: 0.152952\tvalid_0's mape: 0.0114775\n",
      "[198]\tvalid_0's l1: 0.152946\tvalid_0's mape: 0.0114771\n",
      "[199]\tvalid_0's l1: 0.152933\tvalid_0's mape: 0.0114761\n",
      "[200]\tvalid_0's l1: 0.152915\tvalid_0's mape: 0.0114746\n",
      "[201]\tvalid_0's l1: 0.152933\tvalid_0's mape: 0.0114762\n",
      "[202]\tvalid_0's l1: 0.152975\tvalid_0's mape: 0.0114798\n",
      "[203]\tvalid_0's l1: 0.153015\tvalid_0's mape: 0.011483\n",
      "[204]\tvalid_0's l1: 0.153075\tvalid_0's mape: 0.0114875\n",
      "[205]\tvalid_0's l1: 0.153125\tvalid_0's mape: 0.0114914\n",
      "[206]\tvalid_0's l1: 0.153152\tvalid_0's mape: 0.0114935\n",
      "[207]\tvalid_0's l1: 0.153174\tvalid_0's mape: 0.0114952\n",
      "[208]\tvalid_0's l1: 0.15322\tvalid_0's mape: 0.0114987\n",
      "[209]\tvalid_0's l1: 0.15319\tvalid_0's mape: 0.0114967\n",
      "[210]\tvalid_0's l1: 0.153223\tvalid_0's mape: 0.0114993\n",
      "[211]\tvalid_0's l1: 0.153219\tvalid_0's mape: 0.0114992\n",
      "[212]\tvalid_0's l1: 0.153231\tvalid_0's mape: 0.0115004\n"
     ]
    },
    {
     "name": "stdout",
     "output_type": "stream",
     "text": [
      "[213]\tvalid_0's l1: 0.153238\tvalid_0's mape: 0.0115014\n",
      "[214]\tvalid_0's l1: 0.153234\tvalid_0's mape: 0.0115012\n",
      "[215]\tvalid_0's l1: 0.153238\tvalid_0's mape: 0.0115015\n",
      "[216]\tvalid_0's l1: 0.153255\tvalid_0's mape: 0.011503\n",
      "[217]\tvalid_0's l1: 0.153248\tvalid_0's mape: 0.0115026\n",
      "[218]\tvalid_0's l1: 0.153247\tvalid_0's mape: 0.0115028\n",
      "[219]\tvalid_0's l1: 0.153235\tvalid_0's mape: 0.0115015\n",
      "[220]\tvalid_0's l1: 0.153192\tvalid_0's mape: 0.0114988\n",
      "[221]\tvalid_0's l1: 0.153231\tvalid_0's mape: 0.0115021\n",
      "[222]\tvalid_0's l1: 0.153291\tvalid_0's mape: 0.0115067\n",
      "[223]\tvalid_0's l1: 0.153297\tvalid_0's mape: 0.0115075\n",
      "[224]\tvalid_0's l1: 0.153264\tvalid_0's mape: 0.0115052\n",
      "[225]\tvalid_0's l1: 0.153271\tvalid_0's mape: 0.0115061\n",
      "[226]\tvalid_0's l1: 0.153316\tvalid_0's mape: 0.0115095\n",
      "[227]\tvalid_0's l1: 0.153357\tvalid_0's mape: 0.0115128\n",
      "[228]\tvalid_0's l1: 0.153327\tvalid_0's mape: 0.011511\n",
      "[229]\tvalid_0's l1: 0.153327\tvalid_0's mape: 0.0115109\n",
      "[230]\tvalid_0's l1: 0.153351\tvalid_0's mape: 0.0115128\n",
      "[231]\tvalid_0's l1: 0.153367\tvalid_0's mape: 0.011514\n",
      "[232]\tvalid_0's l1: 0.153367\tvalid_0's mape: 0.0115142\n",
      "[233]\tvalid_0's l1: 0.153393\tvalid_0's mape: 0.0115162\n",
      "[234]\tvalid_0's l1: 0.153408\tvalid_0's mape: 0.0115173\n",
      "[235]\tvalid_0's l1: 0.153463\tvalid_0's mape: 0.0115213\n",
      "[236]\tvalid_0's l1: 0.153482\tvalid_0's mape: 0.0115229\n",
      "[237]\tvalid_0's l1: 0.153526\tvalid_0's mape: 0.0115261\n",
      "[238]\tvalid_0's l1: 0.153505\tvalid_0's mape: 0.0115247\n",
      "[239]\tvalid_0's l1: 0.153506\tvalid_0's mape: 0.0115247\n",
      "[240]\tvalid_0's l1: 0.153462\tvalid_0's mape: 0.0115214\n",
      "[241]\tvalid_0's l1: 0.153449\tvalid_0's mape: 0.0115204\n",
      "[242]\tvalid_0's l1: 0.153455\tvalid_0's mape: 0.0115208\n",
      "[243]\tvalid_0's l1: 0.153447\tvalid_0's mape: 0.0115201\n",
      "[244]\tvalid_0's l1: 0.153489\tvalid_0's mape: 0.0115232\n",
      "[245]\tvalid_0's l1: 0.15351\tvalid_0's mape: 0.0115247\n",
      "[246]\tvalid_0's l1: 0.153539\tvalid_0's mape: 0.0115265\n",
      "[247]\tvalid_0's l1: 0.153545\tvalid_0's mape: 0.0115272\n",
      "[248]\tvalid_0's l1: 0.153515\tvalid_0's mape: 0.0115248\n",
      "[249]\tvalid_0's l1: 0.153522\tvalid_0's mape: 0.0115252\n",
      "[250]\tvalid_0's l1: 0.153515\tvalid_0's mape: 0.0115245\n",
      "[251]\tvalid_0's l1: 0.153497\tvalid_0's mape: 0.0115233\n",
      "[252]\tvalid_0's l1: 0.153503\tvalid_0's mape: 0.0115239\n",
      "[253]\tvalid_0's l1: 0.153471\tvalid_0's mape: 0.0115216\n",
      "[254]\tvalid_0's l1: 0.15342\tvalid_0's mape: 0.0115179\n",
      "[255]\tvalid_0's l1: 0.153446\tvalid_0's mape: 0.01152\n",
      "[256]\tvalid_0's l1: 0.153438\tvalid_0's mape: 0.0115196\n",
      "[257]\tvalid_0's l1: 0.153446\tvalid_0's mape: 0.0115204\n",
      "[258]\tvalid_0's l1: 0.153458\tvalid_0's mape: 0.0115218\n",
      "[259]\tvalid_0's l1: 0.153471\tvalid_0's mape: 0.0115229\n",
      "[260]\tvalid_0's l1: 0.15347\tvalid_0's mape: 0.0115228\n",
      "[261]\tvalid_0's l1: 0.153503\tvalid_0's mape: 0.0115253\n",
      "[262]\tvalid_0's l1: 0.153488\tvalid_0's mape: 0.0115243\n",
      "[263]\tvalid_0's l1: 0.153492\tvalid_0's mape: 0.0115245\n",
      "[264]\tvalid_0's l1: 0.153525\tvalid_0's mape: 0.0115272\n",
      "[265]\tvalid_0's l1: 0.153533\tvalid_0's mape: 0.011528\n",
      "[266]\tvalid_0's l1: 0.153564\tvalid_0's mape: 0.0115305\n",
      "[267]\tvalid_0's l1: 0.153594\tvalid_0's mape: 0.0115326\n",
      "[268]\tvalid_0's l1: 0.153586\tvalid_0's mape: 0.0115319\n",
      "[269]\tvalid_0's l1: 0.153616\tvalid_0's mape: 0.0115341\n",
      "[270]\tvalid_0's l1: 0.153606\tvalid_0's mape: 0.0115334\n",
      "[271]\tvalid_0's l1: 0.153622\tvalid_0's mape: 0.0115352\n",
      "[272]\tvalid_0's l1: 0.153622\tvalid_0's mape: 0.011536\n",
      "[273]\tvalid_0's l1: 0.153627\tvalid_0's mape: 0.011537\n",
      "[274]\tvalid_0's l1: 0.153611\tvalid_0's mape: 0.011536\n",
      "[275]\tvalid_0's l1: 0.153607\tvalid_0's mape: 0.0115361\n",
      "[276]\tvalid_0's l1: 0.153634\tvalid_0's mape: 0.0115385\n",
      "[277]\tvalid_0's l1: 0.153641\tvalid_0's mape: 0.0115394\n",
      "[278]\tvalid_0's l1: 0.153658\tvalid_0's mape: 0.011541\n",
      "[279]\tvalid_0's l1: 0.153658\tvalid_0's mape: 0.0115411\n",
      "[280]\tvalid_0's l1: 0.153637\tvalid_0's mape: 0.0115397\n",
      "[281]\tvalid_0's l1: 0.15363\tvalid_0's mape: 0.0115395\n",
      "[282]\tvalid_0's l1: 0.153574\tvalid_0's mape: 0.0115353\n",
      "[283]\tvalid_0's l1: 0.153563\tvalid_0's mape: 0.0115345\n",
      "[284]\tvalid_0's l1: 0.153549\tvalid_0's mape: 0.0115335\n",
      "[285]\tvalid_0's l1: 0.153529\tvalid_0's mape: 0.011532\n",
      "[286]\tvalid_0's l1: 0.153558\tvalid_0's mape: 0.0115342\n",
      "[287]\tvalid_0's l1: 0.153542\tvalid_0's mape: 0.0115331\n",
      "[288]\tvalid_0's l1: 0.15352\tvalid_0's mape: 0.0115314\n",
      "[289]\tvalid_0's l1: 0.15352\tvalid_0's mape: 0.0115314\n",
      "[290]\tvalid_0's l1: 0.153535\tvalid_0's mape: 0.0115324\n",
      "[291]\tvalid_0's l1: 0.153592\tvalid_0's mape: 0.0115367\n",
      "[292]\tvalid_0's l1: 0.153627\tvalid_0's mape: 0.0115395\n",
      "[293]\tvalid_0's l1: 0.153638\tvalid_0's mape: 0.0115402\n",
      "[294]\tvalid_0's l1: 0.153671\tvalid_0's mape: 0.0115424\n",
      "[295]\tvalid_0's l1: 0.15369\tvalid_0's mape: 0.0115437\n",
      "[296]\tvalid_0's l1: 0.153708\tvalid_0's mape: 0.0115452\n",
      "[297]\tvalid_0's l1: 0.153739\tvalid_0's mape: 0.0115477\n",
      "[298]\tvalid_0's l1: 0.153758\tvalid_0's mape: 0.011549\n",
      "[299]\tvalid_0's l1: 0.153763\tvalid_0's mape: 0.0115492\n",
      "[300]\tvalid_0's l1: 0.153783\tvalid_0's mape: 0.0115505\n",
      "Early stopping, best iteration is:\n",
      "[200]\tvalid_0's l1: 0.152915\tvalid_0's mape: 0.0114746\n"
     ]
    }
   ],
   "source": [
    "y_pred = lgbt(X_train1,y_train1,X_val1,y_val1)"
   ]
  },
  {
   "cell_type": "code",
   "execution_count": 254,
   "metadata": {},
   "outputs": [
    {
     "data": {
      "text/html": [
       "<div>\n",
       "<style scoped>\n",
       "    .dataframe tbody tr th:only-of-type {\n",
       "        vertical-align: middle;\n",
       "    }\n",
       "\n",
       "    .dataframe tbody tr th {\n",
       "        vertical-align: top;\n",
       "    }\n",
       "\n",
       "    .dataframe thead th {\n",
       "        text-align: right;\n",
       "    }\n",
       "</style>\n",
       "<table border=\"1\" class=\"dataframe\">\n",
       "  <thead>\n",
       "    <tr style=\"text-align: right;\">\n",
       "      <th></th>\n",
       "      <th>MAPE</th>\n",
       "      <th>MAE</th>\n",
       "      <th>MSE</th>\n",
       "      <th>RMSE</th>\n",
       "    </tr>\n",
       "  </thead>\n",
       "  <tbody>\n",
       "    <tr>\n",
       "      <th>LGB</th>\n",
       "      <td>15.70</td>\n",
       "      <td>133392.89</td>\n",
       "      <td>108904291196.16</td>\n",
       "      <td>330006.50</td>\n",
       "    </tr>\n",
       "    <tr>\n",
       "      <th>LGB_1</th>\n",
       "      <td>15.75</td>\n",
       "      <td>135418.87</td>\n",
       "      <td>111588091790.53</td>\n",
       "      <td>334048.04</td>\n",
       "    </tr>\n",
       "    <tr>\n",
       "      <th>LGB_2</th>\n",
       "      <td>15.73</td>\n",
       "      <td>136672.30</td>\n",
       "      <td>115253419078.53</td>\n",
       "      <td>339489.94</td>\n",
       "    </tr>\n",
       "    <tr>\n",
       "      <th>LGB_3</th>\n",
       "      <td>15.78</td>\n",
       "      <td>133684.43</td>\n",
       "      <td>107261985793.74</td>\n",
       "      <td>327508.76</td>\n",
       "    </tr>\n",
       "    <tr>\n",
       "      <th>LGB_4</th>\n",
       "      <td>15.70</td>\n",
       "      <td>133311.73</td>\n",
       "      <td>107025924945.50</td>\n",
       "      <td>327148.17</td>\n",
       "    </tr>\n",
       "    <tr>\n",
       "      <th>Test BMW</th>\n",
       "      <td>15.85</td>\n",
       "      <td>272654.09</td>\n",
       "      <td>649000471147.42</td>\n",
       "      <td>805605.65</td>\n",
       "    </tr>\n",
       "    <tr>\n",
       "      <th>Test rest</th>\n",
       "      <td>15.36</td>\n",
       "      <td>102232.27</td>\n",
       "      <td>41679412935.60</td>\n",
       "      <td>204155.36</td>\n",
       "    </tr>\n",
       "    <tr>\n",
       "      <th>Test BMW2</th>\n",
       "      <td>197.30</td>\n",
       "      <td>2665049.63</td>\n",
       "      <td>17882088335907.81</td>\n",
       "      <td>4228721.83</td>\n",
       "    </tr>\n",
       "    <tr>\n",
       "      <th>Test BMW3</th>\n",
       "      <td>16.19</td>\n",
       "      <td>273996.46</td>\n",
       "      <td>658931330250.55</td>\n",
       "      <td>811745.85</td>\n",
       "    </tr>\n",
       "  </tbody>\n",
       "</table>\n",
       "</div>"
      ],
      "text/plain": [
       "            MAPE        MAE               MSE       RMSE\n",
       "LGB        15.70  133392.89   108904291196.16  330006.50\n",
       "LGB_1      15.75  135418.87   111588091790.53  334048.04\n",
       "LGB_2      15.73  136672.30   115253419078.53  339489.94\n",
       "LGB_3      15.78  133684.43   107261985793.74  327508.76\n",
       "LGB_4      15.70  133311.73   107025924945.50  327148.17\n",
       "Test BMW   15.85  272654.09   649000471147.42  805605.65\n",
       "Test rest  15.36  102232.27    41679412935.60  204155.36\n",
       "Test BMW2 197.30 2665049.63 17882088335907.81 4228721.83\n",
       "Test BMW3  16.19  273996.46   658931330250.55  811745.85"
      ]
     },
     "execution_count": 254,
     "metadata": {},
     "output_type": "execute_result"
    }
   ],
   "source": [
    "df_report = get_regression_metrics(df_report,y_val1,y_pred, 'Test BMW3')\n",
    "df_report"
   ]
  },
  {
   "cell_type": "code",
   "execution_count": 255,
   "metadata": {},
   "outputs": [
    {
     "name": "stdout",
     "output_type": "stream",
     "text": [
      "[1]\tvalid_0's l1: 0.841463\tvalid_0's mape: 0.0639277\n",
      "Training until validation scores don't improve for 100 rounds\n",
      "[2]\tvalid_0's l1: 0.802157\tvalid_0's mape: 0.0609514\n",
      "[3]\tvalid_0's l1: 0.765127\tvalid_0's mape: 0.0581494\n",
      "[4]\tvalid_0's l1: 0.729775\tvalid_0's mape: 0.0554735\n",
      "[5]\tvalid_0's l1: 0.696324\tvalid_0's mape: 0.0529408\n",
      "[6]\tvalid_0's l1: 0.66471\tvalid_0's mape: 0.0505473\n",
      "[7]\tvalid_0's l1: 0.634771\tvalid_0's mape: 0.0482798\n",
      "[8]\tvalid_0's l1: 0.606463\tvalid_0's mape: 0.0461359\n",
      "[9]\tvalid_0's l1: 0.579712\tvalid_0's mape: 0.0441095\n",
      "[10]\tvalid_0's l1: 0.554305\tvalid_0's mape: 0.0421855\n",
      "[11]\tvalid_0's l1: 0.5303\tvalid_0's mape: 0.0403676\n",
      "[12]\tvalid_0's l1: 0.507578\tvalid_0's mape: 0.0386465\n",
      "[13]\tvalid_0's l1: 0.48611\tvalid_0's mape: 0.0370211\n",
      "[14]\tvalid_0's l1: 0.465699\tvalid_0's mape: 0.035476\n",
      "[15]\tvalid_0's l1: 0.446522\tvalid_0's mape: 0.0340243\n",
      "[16]\tvalid_0's l1: 0.428208\tvalid_0's mape: 0.0326384\n",
      "[17]\tvalid_0's l1: 0.41111\tvalid_0's mape: 0.0313443\n",
      "[18]\tvalid_0's l1: 0.394934\tvalid_0's mape: 0.0301207\n",
      "[19]\tvalid_0's l1: 0.379753\tvalid_0's mape: 0.0289725\n",
      "[20]\tvalid_0's l1: 0.365368\tvalid_0's mape: 0.0278852\n",
      "[21]\tvalid_0's l1: 0.352763\tvalid_0's mape: 0.026933\n",
      "[22]\tvalid_0's l1: 0.339993\tvalid_0's mape: 0.0259686\n",
      "[23]\tvalid_0's l1: 0.328074\tvalid_0's mape: 0.0250691\n",
      "[24]\tvalid_0's l1: 0.316805\tvalid_0's mape: 0.0242193\n",
      "[25]\tvalid_0's l1: 0.306249\tvalid_0's mape: 0.0234232\n",
      "[26]\tvalid_0's l1: 0.296216\tvalid_0's mape: 0.0226672\n",
      "[27]\tvalid_0's l1: 0.287407\tvalid_0's mape: 0.0220033\n",
      "[28]\tvalid_0's l1: 0.27858\tvalid_0's mape: 0.0213388\n",
      "[29]\tvalid_0's l1: 0.27039\tvalid_0's mape: 0.0207234\n",
      "[30]\tvalid_0's l1: 0.262655\tvalid_0's mape: 0.0201424\n",
      "[31]\tvalid_0's l1: 0.255891\tvalid_0's mape: 0.0196341\n",
      "[32]\tvalid_0's l1: 0.249065\tvalid_0's mape: 0.0191221\n",
      "[33]\tvalid_0's l1: 0.24271\tvalid_0's mape: 0.0186463\n",
      "[34]\tvalid_0's l1: 0.236782\tvalid_0's mape: 0.0182028\n",
      "[35]\tvalid_0's l1: 0.231359\tvalid_0's mape: 0.0177973\n",
      "[36]\tvalid_0's l1: 0.22628\tvalid_0's mape: 0.0174182\n",
      "[37]\tvalid_0's l1: 0.221487\tvalid_0's mape: 0.0170603\n",
      "[38]\tvalid_0's l1: 0.217059\tvalid_0's mape: 0.0167306\n",
      "[39]\tvalid_0's l1: 0.212841\tvalid_0's mape: 0.0164168\n",
      "[40]\tvalid_0's l1: 0.208947\tvalid_0's mape: 0.0161273\n",
      "[41]\tvalid_0's l1: 0.205553\tvalid_0's mape: 0.0158749\n",
      "[42]\tvalid_0's l1: 0.202056\tvalid_0's mape: 0.0156143\n",
      "[43]\tvalid_0's l1: 0.1991\tvalid_0's mape: 0.0153945\n",
      "[44]\tvalid_0's l1: 0.196095\tvalid_0's mape: 0.0151711\n",
      "[45]\tvalid_0's l1: 0.193326\tvalid_0's mape: 0.0149659\n",
      "[46]\tvalid_0's l1: 0.190689\tvalid_0's mape: 0.0147705\n",
      "[47]\tvalid_0's l1: 0.18819\tvalid_0's mape: 0.0145852\n",
      "[48]\tvalid_0's l1: 0.185875\tvalid_0's mape: 0.0144136\n",
      "[49]\tvalid_0's l1: 0.183682\tvalid_0's mape: 0.0142512\n",
      "[50]\tvalid_0's l1: 0.181724\tvalid_0's mape: 0.0141062\n",
      "[51]\tvalid_0's l1: 0.179881\tvalid_0's mape: 0.0139701\n",
      "[52]\tvalid_0's l1: 0.17816\tvalid_0's mape: 0.0138427\n",
      "[53]\tvalid_0's l1: 0.176636\tvalid_0's mape: 0.0137301\n",
      "[54]\tvalid_0's l1: 0.175202\tvalid_0's mape: 0.0136239\n",
      "[55]\tvalid_0's l1: 0.173855\tvalid_0's mape: 0.0135249\n",
      "[56]\tvalid_0's l1: 0.172616\tvalid_0's mape: 0.0134334\n",
      "[57]\tvalid_0's l1: 0.171463\tvalid_0's mape: 0.0133481\n",
      "[58]\tvalid_0's l1: 0.170408\tvalid_0's mape: 0.0132705\n",
      "[59]\tvalid_0's l1: 0.16941\tvalid_0's mape: 0.0131968\n",
      "[60]\tvalid_0's l1: 0.168478\tvalid_0's mape: 0.0131284\n",
      "[61]\tvalid_0's l1: 0.167624\tvalid_0's mape: 0.0130654\n",
      "[62]\tvalid_0's l1: 0.166809\tvalid_0's mape: 0.013005\n",
      "[63]\tvalid_0's l1: 0.166027\tvalid_0's mape: 0.0129472\n",
      "[64]\tvalid_0's l1: 0.165273\tvalid_0's mape: 0.0128917\n",
      "[65]\tvalid_0's l1: 0.164629\tvalid_0's mape: 0.0128444\n",
      "[66]\tvalid_0's l1: 0.16399\tvalid_0's mape: 0.0127975\n",
      "[67]\tvalid_0's l1: 0.16337\tvalid_0's mape: 0.0127516\n",
      "[68]\tvalid_0's l1: 0.162834\tvalid_0's mape: 0.0127119\n",
      "[69]\tvalid_0's l1: 0.162329\tvalid_0's mape: 0.0126748\n",
      "[70]\tvalid_0's l1: 0.161858\tvalid_0's mape: 0.01264\n",
      "[71]\tvalid_0's l1: 0.161404\tvalid_0's mape: 0.0126062\n",
      "[72]\tvalid_0's l1: 0.160942\tvalid_0's mape: 0.0125717\n",
      "[73]\tvalid_0's l1: 0.160558\tvalid_0's mape: 0.0125432\n",
      "[74]\tvalid_0's l1: 0.160173\tvalid_0's mape: 0.0125145\n",
      "[75]\tvalid_0's l1: 0.159828\tvalid_0's mape: 0.0124893\n",
      "[76]\tvalid_0's l1: 0.159451\tvalid_0's mape: 0.0124613\n",
      "[77]\tvalid_0's l1: 0.159136\tvalid_0's mape: 0.0124381\n",
      "[78]\tvalid_0's l1: 0.158803\tvalid_0's mape: 0.0124133\n",
      "[79]\tvalid_0's l1: 0.158492\tvalid_0's mape: 0.0123907\n",
      "[80]\tvalid_0's l1: 0.158222\tvalid_0's mape: 0.0123706\n",
      "[81]\tvalid_0's l1: 0.157918\tvalid_0's mape: 0.0123484\n",
      "[82]\tvalid_0's l1: 0.157641\tvalid_0's mape: 0.0123282\n",
      "[83]\tvalid_0's l1: 0.157365\tvalid_0's mape: 0.012308\n",
      "[84]\tvalid_0's l1: 0.157048\tvalid_0's mape: 0.012285\n",
      "[85]\tvalid_0's l1: 0.156785\tvalid_0's mape: 0.012266\n",
      "[86]\tvalid_0's l1: 0.156564\tvalid_0's mape: 0.0122501\n",
      "[87]\tvalid_0's l1: 0.156336\tvalid_0's mape: 0.0122334\n",
      "[88]\tvalid_0's l1: 0.156112\tvalid_0's mape: 0.012217\n",
      "[89]\tvalid_0's l1: 0.155881\tvalid_0's mape: 0.0121996\n",
      "[90]\tvalid_0's l1: 0.155707\tvalid_0's mape: 0.0121869\n",
      "[91]\tvalid_0's l1: 0.155535\tvalid_0's mape: 0.0121741\n",
      "[92]\tvalid_0's l1: 0.155379\tvalid_0's mape: 0.0121624\n",
      "[93]\tvalid_0's l1: 0.155233\tvalid_0's mape: 0.0121515\n",
      "[94]\tvalid_0's l1: 0.155126\tvalid_0's mape: 0.0121433\n",
      "[95]\tvalid_0's l1: 0.155011\tvalid_0's mape: 0.0121347\n",
      "[96]\tvalid_0's l1: 0.154911\tvalid_0's mape: 0.0121276\n",
      "[97]\tvalid_0's l1: 0.154836\tvalid_0's mape: 0.0121219\n",
      "[98]\tvalid_0's l1: 0.154635\tvalid_0's mape: 0.0121074\n",
      "[99]\tvalid_0's l1: 0.154508\tvalid_0's mape: 0.012098\n",
      "[100]\tvalid_0's l1: 0.154426\tvalid_0's mape: 0.0120917\n",
      "[101]\tvalid_0's l1: 0.154358\tvalid_0's mape: 0.0120864\n",
      "[102]\tvalid_0's l1: 0.154327\tvalid_0's mape: 0.0120838\n",
      "[103]\tvalid_0's l1: 0.154189\tvalid_0's mape: 0.0120734\n",
      "[104]\tvalid_0's l1: 0.154005\tvalid_0's mape: 0.0120597\n",
      "[105]\tvalid_0's l1: 0.153983\tvalid_0's mape: 0.012058\n",
      "[106]\tvalid_0's l1: 0.1539\tvalid_0's mape: 0.0120517\n",
      "[107]\tvalid_0's l1: 0.153843\tvalid_0's mape: 0.0120471\n",
      "[108]\tvalid_0's l1: 0.153754\tvalid_0's mape: 0.0120406\n",
      "[109]\tvalid_0's l1: 0.153675\tvalid_0's mape: 0.012035\n",
      "[110]\tvalid_0's l1: 0.153574\tvalid_0's mape: 0.0120273\n",
      "[111]\tvalid_0's l1: 0.153501\tvalid_0's mape: 0.0120222\n",
      "[112]\tvalid_0's l1: 0.153401\tvalid_0's mape: 0.0120148\n",
      "[113]\tvalid_0's l1: 0.153305\tvalid_0's mape: 0.012008\n",
      "[114]\tvalid_0's l1: 0.153266\tvalid_0's mape: 0.012005\n",
      "[115]\tvalid_0's l1: 0.153196\tvalid_0's mape: 0.0119999\n",
      "[116]\tvalid_0's l1: 0.153099\tvalid_0's mape: 0.0119929\n",
      "[117]\tvalid_0's l1: 0.153029\tvalid_0's mape: 0.0119876\n",
      "[118]\tvalid_0's l1: 0.153011\tvalid_0's mape: 0.0119864\n",
      "[119]\tvalid_0's l1: 0.152957\tvalid_0's mape: 0.0119822\n",
      "[120]\tvalid_0's l1: 0.15284\tvalid_0's mape: 0.011974\n",
      "[121]\tvalid_0's l1: 0.152789\tvalid_0's mape: 0.0119704\n",
      "[122]\tvalid_0's l1: 0.15267\tvalid_0's mape: 0.0119619\n",
      "[123]\tvalid_0's l1: 0.152592\tvalid_0's mape: 0.0119563\n",
      "[124]\tvalid_0's l1: 0.152478\tvalid_0's mape: 0.011948\n",
      "[125]\tvalid_0's l1: 0.152426\tvalid_0's mape: 0.0119442\n",
      "[126]\tvalid_0's l1: 0.152322\tvalid_0's mape: 0.0119365\n",
      "[127]\tvalid_0's l1: 0.152257\tvalid_0's mape: 0.011932\n",
      "[128]\tvalid_0's l1: 0.152217\tvalid_0's mape: 0.0119294\n",
      "[129]\tvalid_0's l1: 0.152152\tvalid_0's mape: 0.0119243\n",
      "[130]\tvalid_0's l1: 0.152069\tvalid_0's mape: 0.0119183\n",
      "[131]\tvalid_0's l1: 0.15204\tvalid_0's mape: 0.0119163\n",
      "[132]\tvalid_0's l1: 0.152021\tvalid_0's mape: 0.0119148\n",
      "[133]\tvalid_0's l1: 0.151981\tvalid_0's mape: 0.0119118\n",
      "[134]\tvalid_0's l1: 0.151927\tvalid_0's mape: 0.0119075\n",
      "[135]\tvalid_0's l1: 0.151887\tvalid_0's mape: 0.0119047\n",
      "[136]\tvalid_0's l1: 0.151815\tvalid_0's mape: 0.0118996\n",
      "[137]\tvalid_0's l1: 0.151793\tvalid_0's mape: 0.0118981\n",
      "[138]\tvalid_0's l1: 0.151734\tvalid_0's mape: 0.0118938\n",
      "[139]\tvalid_0's l1: 0.151659\tvalid_0's mape: 0.0118881\n",
      "[140]\tvalid_0's l1: 0.151623\tvalid_0's mape: 0.0118854\n",
      "[141]\tvalid_0's l1: 0.151536\tvalid_0's mape: 0.0118788\n",
      "[142]\tvalid_0's l1: 0.151494\tvalid_0's mape: 0.0118759\n",
      "[143]\tvalid_0's l1: 0.151439\tvalid_0's mape: 0.0118719\n",
      "[144]\tvalid_0's l1: 0.151379\tvalid_0's mape: 0.0118677\n",
      "[145]\tvalid_0's l1: 0.151311\tvalid_0's mape: 0.0118627\n",
      "[146]\tvalid_0's l1: 0.151257\tvalid_0's mape: 0.0118587\n",
      "[147]\tvalid_0's l1: 0.151183\tvalid_0's mape: 0.0118529\n",
      "[148]\tvalid_0's l1: 0.151144\tvalid_0's mape: 0.0118502\n",
      "[149]\tvalid_0's l1: 0.151052\tvalid_0's mape: 0.0118435\n",
      "[150]\tvalid_0's l1: 0.150992\tvalid_0's mape: 0.0118389\n",
      "[151]\tvalid_0's l1: 0.150936\tvalid_0's mape: 0.0118347\n",
      "[152]\tvalid_0's l1: 0.150907\tvalid_0's mape: 0.0118325\n"
     ]
    },
    {
     "name": "stdout",
     "output_type": "stream",
     "text": [
      "[153]\tvalid_0's l1: 0.150856\tvalid_0's mape: 0.0118286\n",
      "[154]\tvalid_0's l1: 0.150817\tvalid_0's mape: 0.0118257\n",
      "[155]\tvalid_0's l1: 0.150749\tvalid_0's mape: 0.0118205\n",
      "[156]\tvalid_0's l1: 0.150684\tvalid_0's mape: 0.0118155\n",
      "[157]\tvalid_0's l1: 0.150666\tvalid_0's mape: 0.0118144\n",
      "[158]\tvalid_0's l1: 0.150626\tvalid_0's mape: 0.0118115\n",
      "[159]\tvalid_0's l1: 0.150585\tvalid_0's mape: 0.0118084\n",
      "[160]\tvalid_0's l1: 0.150523\tvalid_0's mape: 0.0118038\n",
      "[161]\tvalid_0's l1: 0.150457\tvalid_0's mape: 0.011799\n",
      "[162]\tvalid_0's l1: 0.150374\tvalid_0's mape: 0.011793\n",
      "[163]\tvalid_0's l1: 0.150299\tvalid_0's mape: 0.0117873\n",
      "[164]\tvalid_0's l1: 0.150261\tvalid_0's mape: 0.0117847\n",
      "[165]\tvalid_0's l1: 0.150205\tvalid_0's mape: 0.0117806\n",
      "[166]\tvalid_0's l1: 0.150116\tvalid_0's mape: 0.0117739\n",
      "[167]\tvalid_0's l1: 0.150099\tvalid_0's mape: 0.0117726\n",
      "[168]\tvalid_0's l1: 0.150059\tvalid_0's mape: 0.0117697\n",
      "[169]\tvalid_0's l1: 0.150048\tvalid_0's mape: 0.011769\n",
      "[170]\tvalid_0's l1: 0.150014\tvalid_0's mape: 0.0117664\n",
      "[171]\tvalid_0's l1: 0.149907\tvalid_0's mape: 0.0117587\n",
      "[172]\tvalid_0's l1: 0.14988\tvalid_0's mape: 0.0117569\n",
      "[173]\tvalid_0's l1: 0.149828\tvalid_0's mape: 0.0117533\n",
      "[174]\tvalid_0's l1: 0.149771\tvalid_0's mape: 0.0117491\n",
      "[175]\tvalid_0's l1: 0.149723\tvalid_0's mape: 0.0117454\n",
      "[176]\tvalid_0's l1: 0.149696\tvalid_0's mape: 0.0117436\n",
      "[177]\tvalid_0's l1: 0.149626\tvalid_0's mape: 0.0117384\n",
      "[178]\tvalid_0's l1: 0.14954\tvalid_0's mape: 0.0117322\n",
      "[179]\tvalid_0's l1: 0.149511\tvalid_0's mape: 0.0117302\n",
      "[180]\tvalid_0's l1: 0.149481\tvalid_0's mape: 0.011728\n",
      "[181]\tvalid_0's l1: 0.149464\tvalid_0's mape: 0.0117265\n",
      "[182]\tvalid_0's l1: 0.149465\tvalid_0's mape: 0.0117266\n",
      "[183]\tvalid_0's l1: 0.149435\tvalid_0's mape: 0.0117242\n",
      "[184]\tvalid_0's l1: 0.149427\tvalid_0's mape: 0.0117236\n",
      "[185]\tvalid_0's l1: 0.14943\tvalid_0's mape: 0.0117237\n",
      "[186]\tvalid_0's l1: 0.149412\tvalid_0's mape: 0.0117223\n",
      "[187]\tvalid_0's l1: 0.149407\tvalid_0's mape: 0.0117221\n",
      "[188]\tvalid_0's l1: 0.149354\tvalid_0's mape: 0.0117184\n",
      "[189]\tvalid_0's l1: 0.149374\tvalid_0's mape: 0.0117201\n",
      "[190]\tvalid_0's l1: 0.149309\tvalid_0's mape: 0.0117153\n",
      "[191]\tvalid_0's l1: 0.149296\tvalid_0's mape: 0.0117146\n",
      "[192]\tvalid_0's l1: 0.149276\tvalid_0's mape: 0.0117135\n",
      "[193]\tvalid_0's l1: 0.149272\tvalid_0's mape: 0.0117135\n",
      "[194]\tvalid_0's l1: 0.149236\tvalid_0's mape: 0.0117112\n",
      "[195]\tvalid_0's l1: 0.149233\tvalid_0's mape: 0.011711\n",
      "[196]\tvalid_0's l1: 0.149218\tvalid_0's mape: 0.01171\n",
      "[197]\tvalid_0's l1: 0.149216\tvalid_0's mape: 0.0117101\n",
      "[198]\tvalid_0's l1: 0.149185\tvalid_0's mape: 0.0117082\n",
      "[199]\tvalid_0's l1: 0.149145\tvalid_0's mape: 0.0117052\n",
      "[200]\tvalid_0's l1: 0.149103\tvalid_0's mape: 0.0117024\n",
      "[201]\tvalid_0's l1: 0.149085\tvalid_0's mape: 0.0117012\n",
      "[202]\tvalid_0's l1: 0.14906\tvalid_0's mape: 0.0116995\n",
      "[203]\tvalid_0's l1: 0.149054\tvalid_0's mape: 0.0116991\n",
      "[204]\tvalid_0's l1: 0.149044\tvalid_0's mape: 0.0116984\n",
      "[205]\tvalid_0's l1: 0.149021\tvalid_0's mape: 0.0116967\n",
      "[206]\tvalid_0's l1: 0.148965\tvalid_0's mape: 0.0116925\n",
      "[207]\tvalid_0's l1: 0.148949\tvalid_0's mape: 0.0116913\n",
      "[208]\tvalid_0's l1: 0.148956\tvalid_0's mape: 0.011692\n",
      "[209]\tvalid_0's l1: 0.148871\tvalid_0's mape: 0.0116858\n",
      "[210]\tvalid_0's l1: 0.14884\tvalid_0's mape: 0.0116837\n",
      "[211]\tvalid_0's l1: 0.148828\tvalid_0's mape: 0.0116829\n",
      "[212]\tvalid_0's l1: 0.148799\tvalid_0's mape: 0.0116809\n",
      "[213]\tvalid_0's l1: 0.148757\tvalid_0's mape: 0.011678\n",
      "[214]\tvalid_0's l1: 0.148719\tvalid_0's mape: 0.0116752\n",
      "[215]\tvalid_0's l1: 0.148651\tvalid_0's mape: 0.0116702\n",
      "[216]\tvalid_0's l1: 0.148611\tvalid_0's mape: 0.0116673\n",
      "[217]\tvalid_0's l1: 0.148554\tvalid_0's mape: 0.0116631\n",
      "[218]\tvalid_0's l1: 0.148548\tvalid_0's mape: 0.0116629\n",
      "[219]\tvalid_0's l1: 0.148504\tvalid_0's mape: 0.0116598\n",
      "[220]\tvalid_0's l1: 0.148432\tvalid_0's mape: 0.0116548\n",
      "[221]\tvalid_0's l1: 0.148392\tvalid_0's mape: 0.0116519\n",
      "[222]\tvalid_0's l1: 0.14836\tvalid_0's mape: 0.0116496\n",
      "[223]\tvalid_0's l1: 0.148335\tvalid_0's mape: 0.0116477\n",
      "[224]\tvalid_0's l1: 0.148321\tvalid_0's mape: 0.0116467\n",
      "[225]\tvalid_0's l1: 0.148325\tvalid_0's mape: 0.0116474\n",
      "[226]\tvalid_0's l1: 0.14828\tvalid_0's mape: 0.0116442\n",
      "[227]\tvalid_0's l1: 0.148271\tvalid_0's mape: 0.0116437\n",
      "[228]\tvalid_0's l1: 0.148234\tvalid_0's mape: 0.0116411\n",
      "[229]\tvalid_0's l1: 0.148219\tvalid_0's mape: 0.0116402\n",
      "[230]\tvalid_0's l1: 0.14818\tvalid_0's mape: 0.0116376\n",
      "[231]\tvalid_0's l1: 0.148175\tvalid_0's mape: 0.0116373\n",
      "[232]\tvalid_0's l1: 0.148158\tvalid_0's mape: 0.011636\n",
      "[233]\tvalid_0's l1: 0.14814\tvalid_0's mape: 0.0116346\n",
      "[234]\tvalid_0's l1: 0.148128\tvalid_0's mape: 0.0116338\n",
      "[235]\tvalid_0's l1: 0.148116\tvalid_0's mape: 0.0116328\n",
      "[236]\tvalid_0's l1: 0.148096\tvalid_0's mape: 0.0116316\n",
      "[237]\tvalid_0's l1: 0.148079\tvalid_0's mape: 0.0116304\n",
      "[238]\tvalid_0's l1: 0.148072\tvalid_0's mape: 0.0116298\n",
      "[239]\tvalid_0's l1: 0.148041\tvalid_0's mape: 0.0116276\n",
      "[240]\tvalid_0's l1: 0.148015\tvalid_0's mape: 0.0116256\n",
      "[241]\tvalid_0's l1: 0.147981\tvalid_0's mape: 0.0116231\n",
      "[242]\tvalid_0's l1: 0.147963\tvalid_0's mape: 0.0116218\n",
      "[243]\tvalid_0's l1: 0.147945\tvalid_0's mape: 0.0116205\n",
      "[244]\tvalid_0's l1: 0.14793\tvalid_0's mape: 0.0116194\n",
      "[245]\tvalid_0's l1: 0.14794\tvalid_0's mape: 0.0116202\n",
      "[246]\tvalid_0's l1: 0.14791\tvalid_0's mape: 0.011618\n",
      "[247]\tvalid_0's l1: 0.147879\tvalid_0's mape: 0.0116156\n",
      "[248]\tvalid_0's l1: 0.147866\tvalid_0's mape: 0.0116149\n",
      "[249]\tvalid_0's l1: 0.147798\tvalid_0's mape: 0.0116101\n",
      "[250]\tvalid_0's l1: 0.147798\tvalid_0's mape: 0.0116102\n",
      "[251]\tvalid_0's l1: 0.147763\tvalid_0's mape: 0.0116077\n",
      "[252]\tvalid_0's l1: 0.147735\tvalid_0's mape: 0.0116057\n",
      "[253]\tvalid_0's l1: 0.147705\tvalid_0's mape: 0.0116035\n",
      "[254]\tvalid_0's l1: 0.147702\tvalid_0's mape: 0.0116033\n",
      "[255]\tvalid_0's l1: 0.147666\tvalid_0's mape: 0.0116008\n",
      "[256]\tvalid_0's l1: 0.14765\tvalid_0's mape: 0.0115996\n",
      "[257]\tvalid_0's l1: 0.147621\tvalid_0's mape: 0.0115977\n",
      "[258]\tvalid_0's l1: 0.14759\tvalid_0's mape: 0.0115955\n",
      "[259]\tvalid_0's l1: 0.147565\tvalid_0's mape: 0.0115938\n",
      "[260]\tvalid_0's l1: 0.147513\tvalid_0's mape: 0.0115902\n",
      "[261]\tvalid_0's l1: 0.147492\tvalid_0's mape: 0.0115889\n",
      "[262]\tvalid_0's l1: 0.147486\tvalid_0's mape: 0.0115886\n",
      "[263]\tvalid_0's l1: 0.14745\tvalid_0's mape: 0.0115861\n",
      "[264]\tvalid_0's l1: 0.147411\tvalid_0's mape: 0.0115832\n",
      "[265]\tvalid_0's l1: 0.147425\tvalid_0's mape: 0.0115845\n",
      "[266]\tvalid_0's l1: 0.14743\tvalid_0's mape: 0.0115851\n",
      "[267]\tvalid_0's l1: 0.147421\tvalid_0's mape: 0.0115845\n",
      "[268]\tvalid_0's l1: 0.147353\tvalid_0's mape: 0.0115796\n",
      "[269]\tvalid_0's l1: 0.147335\tvalid_0's mape: 0.0115782\n",
      "[270]\tvalid_0's l1: 0.147327\tvalid_0's mape: 0.0115776\n",
      "[271]\tvalid_0's l1: 0.147311\tvalid_0's mape: 0.0115765\n",
      "[272]\tvalid_0's l1: 0.147296\tvalid_0's mape: 0.0115755\n",
      "[273]\tvalid_0's l1: 0.147292\tvalid_0's mape: 0.0115754\n",
      "[274]\tvalid_0's l1: 0.147289\tvalid_0's mape: 0.0115753\n",
      "[275]\tvalid_0's l1: 0.147272\tvalid_0's mape: 0.011574\n",
      "[276]\tvalid_0's l1: 0.147263\tvalid_0's mape: 0.0115733\n",
      "[277]\tvalid_0's l1: 0.147233\tvalid_0's mape: 0.0115712\n",
      "[278]\tvalid_0's l1: 0.147226\tvalid_0's mape: 0.0115706\n",
      "[279]\tvalid_0's l1: 0.147217\tvalid_0's mape: 0.01157\n",
      "[280]\tvalid_0's l1: 0.147186\tvalid_0's mape: 0.0115679\n",
      "[281]\tvalid_0's l1: 0.147176\tvalid_0's mape: 0.0115671\n",
      "[282]\tvalid_0's l1: 0.147153\tvalid_0's mape: 0.0115653\n",
      "[283]\tvalid_0's l1: 0.147135\tvalid_0's mape: 0.011564\n",
      "[284]\tvalid_0's l1: 0.147102\tvalid_0's mape: 0.0115613\n",
      "[285]\tvalid_0's l1: 0.147101\tvalid_0's mape: 0.0115613\n",
      "[286]\tvalid_0's l1: 0.147087\tvalid_0's mape: 0.0115601\n",
      "[287]\tvalid_0's l1: 0.147061\tvalid_0's mape: 0.0115583\n",
      "[288]\tvalid_0's l1: 0.147059\tvalid_0's mape: 0.0115582\n",
      "[289]\tvalid_0's l1: 0.147068\tvalid_0's mape: 0.0115592\n",
      "[290]\tvalid_0's l1: 0.147071\tvalid_0's mape: 0.0115594\n",
      "[291]\tvalid_0's l1: 0.147071\tvalid_0's mape: 0.0115595\n",
      "[292]\tvalid_0's l1: 0.147083\tvalid_0's mape: 0.0115606\n",
      "[293]\tvalid_0's l1: 0.147096\tvalid_0's mape: 0.0115616\n",
      "[294]\tvalid_0's l1: 0.147059\tvalid_0's mape: 0.0115589\n",
      "[295]\tvalid_0's l1: 0.147075\tvalid_0's mape: 0.0115604\n",
      "[296]\tvalid_0's l1: 0.147049\tvalid_0's mape: 0.0115586\n",
      "[297]\tvalid_0's l1: 0.147025\tvalid_0's mape: 0.0115569\n",
      "[298]\tvalid_0's l1: 0.147034\tvalid_0's mape: 0.0115577\n",
      "[299]\tvalid_0's l1: 0.147042\tvalid_0's mape: 0.0115586\n",
      "[300]\tvalid_0's l1: 0.147023\tvalid_0's mape: 0.0115572\n",
      "[301]\tvalid_0's l1: 0.147029\tvalid_0's mape: 0.0115578\n",
      "[302]\tvalid_0's l1: 0.147025\tvalid_0's mape: 0.0115576\n",
      "[303]\tvalid_0's l1: 0.147042\tvalid_0's mape: 0.011559\n",
      "[304]\tvalid_0's l1: 0.147046\tvalid_0's mape: 0.0115593\n",
      "[305]\tvalid_0's l1: 0.147059\tvalid_0's mape: 0.0115603\n",
      "[306]\tvalid_0's l1: 0.147059\tvalid_0's mape: 0.0115603\n",
      "[307]\tvalid_0's l1: 0.147048\tvalid_0's mape: 0.0115595\n",
      "[308]\tvalid_0's l1: 0.147056\tvalid_0's mape: 0.0115603\n",
      "[309]\tvalid_0's l1: 0.147052\tvalid_0's mape: 0.01156\n",
      "[310]\tvalid_0's l1: 0.147061\tvalid_0's mape: 0.0115608\n",
      "[311]\tvalid_0's l1: 0.147058\tvalid_0's mape: 0.0115607\n",
      "[312]\tvalid_0's l1: 0.147064\tvalid_0's mape: 0.0115612\n",
      "[313]\tvalid_0's l1: 0.147074\tvalid_0's mape: 0.0115622\n",
      "[314]\tvalid_0's l1: 0.147058\tvalid_0's mape: 0.011561\n",
      "[315]\tvalid_0's l1: 0.147043\tvalid_0's mape: 0.0115599\n",
      "[316]\tvalid_0's l1: 0.147042\tvalid_0's mape: 0.01156\n",
      "[317]\tvalid_0's l1: 0.147051\tvalid_0's mape: 0.0115609\n",
      "[318]\tvalid_0's l1: 0.147043\tvalid_0's mape: 0.0115604\n",
      "[319]\tvalid_0's l1: 0.147036\tvalid_0's mape: 0.0115599\n",
      "[320]\tvalid_0's l1: 0.146997\tvalid_0's mape: 0.0115569\n",
      "[321]\tvalid_0's l1: 0.146981\tvalid_0's mape: 0.0115557\n",
      "[322]\tvalid_0's l1: 0.146958\tvalid_0's mape: 0.0115538\n",
      "[323]\tvalid_0's l1: 0.146954\tvalid_0's mape: 0.0115535\n",
      "[324]\tvalid_0's l1: 0.146951\tvalid_0's mape: 0.0115533\n",
      "[325]\tvalid_0's l1: 0.146942\tvalid_0's mape: 0.0115525\n",
      "[326]\tvalid_0's l1: 0.146922\tvalid_0's mape: 0.0115511\n",
      "[327]\tvalid_0's l1: 0.146918\tvalid_0's mape: 0.0115509\n",
      "[328]\tvalid_0's l1: 0.146896\tvalid_0's mape: 0.0115491\n",
      "[329]\tvalid_0's l1: 0.146863\tvalid_0's mape: 0.0115468\n"
     ]
    },
    {
     "name": "stdout",
     "output_type": "stream",
     "text": [
      "[330]\tvalid_0's l1: 0.146854\tvalid_0's mape: 0.0115461\n",
      "[331]\tvalid_0's l1: 0.146847\tvalid_0's mape: 0.0115457\n",
      "[332]\tvalid_0's l1: 0.146849\tvalid_0's mape: 0.011546\n",
      "[333]\tvalid_0's l1: 0.146866\tvalid_0's mape: 0.0115473\n",
      "[334]\tvalid_0's l1: 0.146874\tvalid_0's mape: 0.0115481\n",
      "[335]\tvalid_0's l1: 0.146855\tvalid_0's mape: 0.0115467\n",
      "[336]\tvalid_0's l1: 0.146872\tvalid_0's mape: 0.0115481\n",
      "[337]\tvalid_0's l1: 0.146873\tvalid_0's mape: 0.0115482\n",
      "[338]\tvalid_0's l1: 0.146852\tvalid_0's mape: 0.0115467\n",
      "[339]\tvalid_0's l1: 0.146849\tvalid_0's mape: 0.0115465\n",
      "[340]\tvalid_0's l1: 0.146849\tvalid_0's mape: 0.0115465\n",
      "[341]\tvalid_0's l1: 0.146852\tvalid_0's mape: 0.0115467\n",
      "[342]\tvalid_0's l1: 0.146858\tvalid_0's mape: 0.0115472\n",
      "[343]\tvalid_0's l1: 0.146859\tvalid_0's mape: 0.0115472\n",
      "[344]\tvalid_0's l1: 0.146864\tvalid_0's mape: 0.0115476\n",
      "[345]\tvalid_0's l1: 0.14686\tvalid_0's mape: 0.0115474\n",
      "[346]\tvalid_0's l1: 0.146855\tvalid_0's mape: 0.011547\n",
      "[347]\tvalid_0's l1: 0.146868\tvalid_0's mape: 0.0115481\n",
      "[348]\tvalid_0's l1: 0.146862\tvalid_0's mape: 0.0115477\n",
      "[349]\tvalid_0's l1: 0.14686\tvalid_0's mape: 0.0115475\n",
      "[350]\tvalid_0's l1: 0.146858\tvalid_0's mape: 0.0115476\n",
      "[351]\tvalid_0's l1: 0.146851\tvalid_0's mape: 0.0115471\n",
      "[352]\tvalid_0's l1: 0.146837\tvalid_0's mape: 0.0115462\n",
      "[353]\tvalid_0's l1: 0.146827\tvalid_0's mape: 0.0115456\n",
      "[354]\tvalid_0's l1: 0.14682\tvalid_0's mape: 0.011545\n",
      "[355]\tvalid_0's l1: 0.146825\tvalid_0's mape: 0.0115454\n",
      "[356]\tvalid_0's l1: 0.146829\tvalid_0's mape: 0.0115458\n",
      "[357]\tvalid_0's l1: 0.146833\tvalid_0's mape: 0.0115463\n",
      "[358]\tvalid_0's l1: 0.146849\tvalid_0's mape: 0.0115476\n",
      "[359]\tvalid_0's l1: 0.146847\tvalid_0's mape: 0.0115475\n",
      "[360]\tvalid_0's l1: 0.14684\tvalid_0's mape: 0.0115471\n",
      "[361]\tvalid_0's l1: 0.14684\tvalid_0's mape: 0.011547\n",
      "[362]\tvalid_0's l1: 0.146846\tvalid_0's mape: 0.0115475\n",
      "[363]\tvalid_0's l1: 0.14685\tvalid_0's mape: 0.0115478\n",
      "[364]\tvalid_0's l1: 0.146866\tvalid_0's mape: 0.011549\n",
      "[365]\tvalid_0's l1: 0.146844\tvalid_0's mape: 0.0115474\n",
      "[366]\tvalid_0's l1: 0.146838\tvalid_0's mape: 0.0115468\n",
      "[367]\tvalid_0's l1: 0.146826\tvalid_0's mape: 0.0115458\n",
      "[368]\tvalid_0's l1: 0.146834\tvalid_0's mape: 0.0115464\n",
      "[369]\tvalid_0's l1: 0.146834\tvalid_0's mape: 0.0115463\n",
      "[370]\tvalid_0's l1: 0.146769\tvalid_0's mape: 0.0115418\n",
      "[371]\tvalid_0's l1: 0.146756\tvalid_0's mape: 0.0115408\n",
      "[372]\tvalid_0's l1: 0.146749\tvalid_0's mape: 0.0115404\n",
      "[373]\tvalid_0's l1: 0.146739\tvalid_0's mape: 0.0115399\n",
      "[374]\tvalid_0's l1: 0.146728\tvalid_0's mape: 0.0115392\n",
      "[375]\tvalid_0's l1: 0.146716\tvalid_0's mape: 0.0115383\n",
      "[376]\tvalid_0's l1: 0.146713\tvalid_0's mape: 0.0115382\n",
      "[377]\tvalid_0's l1: 0.146711\tvalid_0's mape: 0.0115381\n",
      "[378]\tvalid_0's l1: 0.146695\tvalid_0's mape: 0.011537\n",
      "[379]\tvalid_0's l1: 0.146648\tvalid_0's mape: 0.0115337\n",
      "[380]\tvalid_0's l1: 0.146646\tvalid_0's mape: 0.0115336\n",
      "[381]\tvalid_0's l1: 0.14666\tvalid_0's mape: 0.0115348\n",
      "[382]\tvalid_0's l1: 0.146662\tvalid_0's mape: 0.011535\n",
      "[383]\tvalid_0's l1: 0.14665\tvalid_0's mape: 0.011534\n",
      "[384]\tvalid_0's l1: 0.146667\tvalid_0's mape: 0.0115354\n",
      "[385]\tvalid_0's l1: 0.146672\tvalid_0's mape: 0.0115358\n",
      "[386]\tvalid_0's l1: 0.14667\tvalid_0's mape: 0.0115356\n",
      "[387]\tvalid_0's l1: 0.146662\tvalid_0's mape: 0.0115351\n",
      "[388]\tvalid_0's l1: 0.146658\tvalid_0's mape: 0.0115347\n",
      "[389]\tvalid_0's l1: 0.146638\tvalid_0's mape: 0.0115333\n",
      "[390]\tvalid_0's l1: 0.146634\tvalid_0's mape: 0.0115329\n",
      "[391]\tvalid_0's l1: 0.146638\tvalid_0's mape: 0.0115332\n",
      "[392]\tvalid_0's l1: 0.146623\tvalid_0's mape: 0.0115322\n",
      "[393]\tvalid_0's l1: 0.14662\tvalid_0's mape: 0.0115321\n",
      "[394]\tvalid_0's l1: 0.146608\tvalid_0's mape: 0.0115313\n",
      "[395]\tvalid_0's l1: 0.146596\tvalid_0's mape: 0.0115305\n",
      "[396]\tvalid_0's l1: 0.146586\tvalid_0's mape: 0.0115298\n",
      "[397]\tvalid_0's l1: 0.146577\tvalid_0's mape: 0.0115292\n",
      "[398]\tvalid_0's l1: 0.146561\tvalid_0's mape: 0.0115281\n",
      "[399]\tvalid_0's l1: 0.146537\tvalid_0's mape: 0.0115263\n",
      "[400]\tvalid_0's l1: 0.146535\tvalid_0's mape: 0.0115263\n",
      "[401]\tvalid_0's l1: 0.146541\tvalid_0's mape: 0.0115267\n",
      "[402]\tvalid_0's l1: 0.146544\tvalid_0's mape: 0.0115271\n",
      "[403]\tvalid_0's l1: 0.14655\tvalid_0's mape: 0.0115275\n",
      "[404]\tvalid_0's l1: 0.146537\tvalid_0's mape: 0.0115266\n",
      "[405]\tvalid_0's l1: 0.146526\tvalid_0's mape: 0.0115258\n",
      "[406]\tvalid_0's l1: 0.14653\tvalid_0's mape: 0.0115261\n",
      "[407]\tvalid_0's l1: 0.146504\tvalid_0's mape: 0.0115243\n",
      "[408]\tvalid_0's l1: 0.146501\tvalid_0's mape: 0.011524\n",
      "[409]\tvalid_0's l1: 0.146495\tvalid_0's mape: 0.0115235\n",
      "[410]\tvalid_0's l1: 0.146505\tvalid_0's mape: 0.0115243\n",
      "[411]\tvalid_0's l1: 0.146505\tvalid_0's mape: 0.0115245\n",
      "[412]\tvalid_0's l1: 0.1465\tvalid_0's mape: 0.0115241\n",
      "[413]\tvalid_0's l1: 0.146508\tvalid_0's mape: 0.0115249\n",
      "[414]\tvalid_0's l1: 0.146494\tvalid_0's mape: 0.0115241\n",
      "[415]\tvalid_0's l1: 0.14649\tvalid_0's mape: 0.0115239\n",
      "[416]\tvalid_0's l1: 0.146492\tvalid_0's mape: 0.0115242\n",
      "[417]\tvalid_0's l1: 0.146488\tvalid_0's mape: 0.011524\n",
      "[418]\tvalid_0's l1: 0.146486\tvalid_0's mape: 0.0115239\n",
      "[419]\tvalid_0's l1: 0.146469\tvalid_0's mape: 0.0115228\n",
      "[420]\tvalid_0's l1: 0.14646\tvalid_0's mape: 0.0115222\n",
      "[421]\tvalid_0's l1: 0.146472\tvalid_0's mape: 0.0115231\n",
      "[422]\tvalid_0's l1: 0.146471\tvalid_0's mape: 0.0115231\n",
      "[423]\tvalid_0's l1: 0.146472\tvalid_0's mape: 0.0115231\n",
      "[424]\tvalid_0's l1: 0.146474\tvalid_0's mape: 0.0115232\n",
      "[425]\tvalid_0's l1: 0.146483\tvalid_0's mape: 0.0115241\n",
      "[426]\tvalid_0's l1: 0.146482\tvalid_0's mape: 0.011524\n",
      "[427]\tvalid_0's l1: 0.146487\tvalid_0's mape: 0.0115244\n",
      "[428]\tvalid_0's l1: 0.146472\tvalid_0's mape: 0.0115233\n",
      "[429]\tvalid_0's l1: 0.146468\tvalid_0's mape: 0.0115231\n",
      "[430]\tvalid_0's l1: 0.14647\tvalid_0's mape: 0.0115233\n",
      "[431]\tvalid_0's l1: 0.146472\tvalid_0's mape: 0.0115235\n",
      "[432]\tvalid_0's l1: 0.146475\tvalid_0's mape: 0.0115238\n",
      "[433]\tvalid_0's l1: 0.146482\tvalid_0's mape: 0.0115244\n",
      "[434]\tvalid_0's l1: 0.146461\tvalid_0's mape: 0.011523\n",
      "[435]\tvalid_0's l1: 0.146458\tvalid_0's mape: 0.0115228\n",
      "[436]\tvalid_0's l1: 0.146452\tvalid_0's mape: 0.0115223\n",
      "[437]\tvalid_0's l1: 0.146458\tvalid_0's mape: 0.0115229\n",
      "[438]\tvalid_0's l1: 0.146442\tvalid_0's mape: 0.0115217\n",
      "[439]\tvalid_0's l1: 0.146455\tvalid_0's mape: 0.0115229\n",
      "[440]\tvalid_0's l1: 0.146454\tvalid_0's mape: 0.0115228\n",
      "[441]\tvalid_0's l1: 0.146451\tvalid_0's mape: 0.0115227\n",
      "[442]\tvalid_0's l1: 0.146439\tvalid_0's mape: 0.0115219\n",
      "[443]\tvalid_0's l1: 0.146419\tvalid_0's mape: 0.0115205\n",
      "[444]\tvalid_0's l1: 0.146419\tvalid_0's mape: 0.0115206\n",
      "[445]\tvalid_0's l1: 0.146392\tvalid_0's mape: 0.0115187\n",
      "[446]\tvalid_0's l1: 0.146404\tvalid_0's mape: 0.0115197\n",
      "[447]\tvalid_0's l1: 0.146408\tvalid_0's mape: 0.0115202\n",
      "[448]\tvalid_0's l1: 0.146392\tvalid_0's mape: 0.011519\n",
      "[449]\tvalid_0's l1: 0.146372\tvalid_0's mape: 0.0115176\n",
      "[450]\tvalid_0's l1: 0.146367\tvalid_0's mape: 0.0115172\n",
      "[451]\tvalid_0's l1: 0.146373\tvalid_0's mape: 0.0115178\n",
      "[452]\tvalid_0's l1: 0.146376\tvalid_0's mape: 0.0115181\n",
      "[453]\tvalid_0's l1: 0.14638\tvalid_0's mape: 0.0115185\n",
      "[454]\tvalid_0's l1: 0.14639\tvalid_0's mape: 0.0115193\n",
      "[455]\tvalid_0's l1: 0.146394\tvalid_0's mape: 0.0115197\n",
      "[456]\tvalid_0's l1: 0.146392\tvalid_0's mape: 0.0115196\n",
      "[457]\tvalid_0's l1: 0.146386\tvalid_0's mape: 0.0115192\n",
      "[458]\tvalid_0's l1: 0.146403\tvalid_0's mape: 0.0115206\n",
      "[459]\tvalid_0's l1: 0.146396\tvalid_0's mape: 0.0115202\n",
      "[460]\tvalid_0's l1: 0.146392\tvalid_0's mape: 0.0115199\n",
      "[461]\tvalid_0's l1: 0.146391\tvalid_0's mape: 0.0115198\n",
      "[462]\tvalid_0's l1: 0.146396\tvalid_0's mape: 0.0115202\n",
      "[463]\tvalid_0's l1: 0.146398\tvalid_0's mape: 0.0115203\n",
      "[464]\tvalid_0's l1: 0.146396\tvalid_0's mape: 0.0115201\n",
      "[465]\tvalid_0's l1: 0.146403\tvalid_0's mape: 0.0115207\n",
      "[466]\tvalid_0's l1: 0.146405\tvalid_0's mape: 0.011521\n",
      "[467]\tvalid_0's l1: 0.146403\tvalid_0's mape: 0.0115209\n",
      "[468]\tvalid_0's l1: 0.14641\tvalid_0's mape: 0.0115215\n",
      "[469]\tvalid_0's l1: 0.146413\tvalid_0's mape: 0.0115216\n",
      "[470]\tvalid_0's l1: 0.146417\tvalid_0's mape: 0.011522\n",
      "[471]\tvalid_0's l1: 0.146429\tvalid_0's mape: 0.011523\n",
      "[472]\tvalid_0's l1: 0.14642\tvalid_0's mape: 0.0115222\n",
      "[473]\tvalid_0's l1: 0.146404\tvalid_0's mape: 0.011521\n",
      "[474]\tvalid_0's l1: 0.146399\tvalid_0's mape: 0.0115206\n",
      "[475]\tvalid_0's l1: 0.146399\tvalid_0's mape: 0.0115207\n",
      "[476]\tvalid_0's l1: 0.146414\tvalid_0's mape: 0.011522\n",
      "[477]\tvalid_0's l1: 0.146426\tvalid_0's mape: 0.011523\n",
      "[478]\tvalid_0's l1: 0.146431\tvalid_0's mape: 0.0115234\n",
      "[479]\tvalid_0's l1: 0.14644\tvalid_0's mape: 0.0115241\n",
      "[480]\tvalid_0's l1: 0.146432\tvalid_0's mape: 0.0115235\n",
      "[481]\tvalid_0's l1: 0.146424\tvalid_0's mape: 0.0115229\n",
      "[482]\tvalid_0's l1: 0.146418\tvalid_0's mape: 0.0115224\n",
      "[483]\tvalid_0's l1: 0.146421\tvalid_0's mape: 0.0115228\n",
      "[484]\tvalid_0's l1: 0.146424\tvalid_0's mape: 0.0115231\n",
      "[485]\tvalid_0's l1: 0.146424\tvalid_0's mape: 0.011523\n",
      "[486]\tvalid_0's l1: 0.146432\tvalid_0's mape: 0.0115238\n",
      "[487]\tvalid_0's l1: 0.146438\tvalid_0's mape: 0.0115243\n",
      "[488]\tvalid_0's l1: 0.146435\tvalid_0's mape: 0.0115241\n",
      "[489]\tvalid_0's l1: 0.146429\tvalid_0's mape: 0.0115237\n",
      "[490]\tvalid_0's l1: 0.146401\tvalid_0's mape: 0.0115217\n",
      "[491]\tvalid_0's l1: 0.146394\tvalid_0's mape: 0.0115212\n",
      "[492]\tvalid_0's l1: 0.146403\tvalid_0's mape: 0.0115221\n",
      "[493]\tvalid_0's l1: 0.146411\tvalid_0's mape: 0.0115227\n",
      "[494]\tvalid_0's l1: 0.146411\tvalid_0's mape: 0.0115228\n"
     ]
    },
    {
     "name": "stdout",
     "output_type": "stream",
     "text": [
      "[495]\tvalid_0's l1: 0.146387\tvalid_0's mape: 0.011521\n",
      "[496]\tvalid_0's l1: 0.146374\tvalid_0's mape: 0.01152\n",
      "[497]\tvalid_0's l1: 0.14633\tvalid_0's mape: 0.0115169\n",
      "[498]\tvalid_0's l1: 0.146326\tvalid_0's mape: 0.0115168\n",
      "[499]\tvalid_0's l1: 0.146313\tvalid_0's mape: 0.0115157\n",
      "[500]\tvalid_0's l1: 0.146306\tvalid_0's mape: 0.0115152\n",
      "[501]\tvalid_0's l1: 0.146295\tvalid_0's mape: 0.0115146\n",
      "[502]\tvalid_0's l1: 0.146287\tvalid_0's mape: 0.011514\n",
      "[503]\tvalid_0's l1: 0.146277\tvalid_0's mape: 0.0115133\n",
      "[504]\tvalid_0's l1: 0.146263\tvalid_0's mape: 0.0115122\n",
      "[505]\tvalid_0's l1: 0.146251\tvalid_0's mape: 0.0115114\n",
      "[506]\tvalid_0's l1: 0.146264\tvalid_0's mape: 0.0115125\n",
      "[507]\tvalid_0's l1: 0.146256\tvalid_0's mape: 0.0115118\n",
      "[508]\tvalid_0's l1: 0.146256\tvalid_0's mape: 0.0115119\n",
      "[509]\tvalid_0's l1: 0.14624\tvalid_0's mape: 0.0115106\n",
      "[510]\tvalid_0's l1: 0.146251\tvalid_0's mape: 0.0115116\n",
      "[511]\tvalid_0's l1: 0.146244\tvalid_0's mape: 0.0115111\n",
      "[512]\tvalid_0's l1: 0.146236\tvalid_0's mape: 0.0115105\n",
      "[513]\tvalid_0's l1: 0.146213\tvalid_0's mape: 0.0115087\n",
      "[514]\tvalid_0's l1: 0.146212\tvalid_0's mape: 0.0115086\n",
      "[515]\tvalid_0's l1: 0.146209\tvalid_0's mape: 0.0115084\n",
      "[516]\tvalid_0's l1: 0.146171\tvalid_0's mape: 0.0115056\n",
      "[517]\tvalid_0's l1: 0.146183\tvalid_0's mape: 0.0115066\n",
      "[518]\tvalid_0's l1: 0.146205\tvalid_0's mape: 0.0115083\n",
      "[519]\tvalid_0's l1: 0.146203\tvalid_0's mape: 0.0115082\n",
      "[520]\tvalid_0's l1: 0.146204\tvalid_0's mape: 0.0115083\n",
      "[521]\tvalid_0's l1: 0.146203\tvalid_0's mape: 0.0115082\n",
      "[522]\tvalid_0's l1: 0.146209\tvalid_0's mape: 0.0115088\n",
      "[523]\tvalid_0's l1: 0.146199\tvalid_0's mape: 0.011508\n",
      "[524]\tvalid_0's l1: 0.146178\tvalid_0's mape: 0.0115065\n",
      "[525]\tvalid_0's l1: 0.146179\tvalid_0's mape: 0.0115067\n",
      "[526]\tvalid_0's l1: 0.146198\tvalid_0's mape: 0.0115082\n",
      "[527]\tvalid_0's l1: 0.146182\tvalid_0's mape: 0.011507\n",
      "[528]\tvalid_0's l1: 0.14619\tvalid_0's mape: 0.0115078\n",
      "[529]\tvalid_0's l1: 0.146188\tvalid_0's mape: 0.0115076\n",
      "[530]\tvalid_0's l1: 0.146181\tvalid_0's mape: 0.0115072\n",
      "[531]\tvalid_0's l1: 0.146186\tvalid_0's mape: 0.0115076\n",
      "[532]\tvalid_0's l1: 0.146174\tvalid_0's mape: 0.0115066\n",
      "[533]\tvalid_0's l1: 0.14617\tvalid_0's mape: 0.0115064\n",
      "[534]\tvalid_0's l1: 0.146179\tvalid_0's mape: 0.0115071\n",
      "[535]\tvalid_0's l1: 0.146186\tvalid_0's mape: 0.0115076\n",
      "[536]\tvalid_0's l1: 0.146173\tvalid_0's mape: 0.0115064\n",
      "[537]\tvalid_0's l1: 0.146178\tvalid_0's mape: 0.0115068\n",
      "[538]\tvalid_0's l1: 0.146178\tvalid_0's mape: 0.0115069\n",
      "[539]\tvalid_0's l1: 0.146144\tvalid_0's mape: 0.0115045\n",
      "[540]\tvalid_0's l1: 0.146155\tvalid_0's mape: 0.0115054\n",
      "[541]\tvalid_0's l1: 0.14614\tvalid_0's mape: 0.0115042\n",
      "[542]\tvalid_0's l1: 0.146127\tvalid_0's mape: 0.0115033\n",
      "[543]\tvalid_0's l1: 0.146117\tvalid_0's mape: 0.0115025\n",
      "[544]\tvalid_0's l1: 0.146122\tvalid_0's mape: 0.0115029\n",
      "[545]\tvalid_0's l1: 0.146119\tvalid_0's mape: 0.0115026\n",
      "[546]\tvalid_0's l1: 0.146117\tvalid_0's mape: 0.0115024\n",
      "[547]\tvalid_0's l1: 0.146109\tvalid_0's mape: 0.0115018\n",
      "[548]\tvalid_0's l1: 0.146112\tvalid_0's mape: 0.0115021\n",
      "[549]\tvalid_0's l1: 0.146108\tvalid_0's mape: 0.0115018\n",
      "[550]\tvalid_0's l1: 0.146102\tvalid_0's mape: 0.0115014\n",
      "[551]\tvalid_0's l1: 0.146092\tvalid_0's mape: 0.0115005\n",
      "[552]\tvalid_0's l1: 0.146097\tvalid_0's mape: 0.0115009\n",
      "[553]\tvalid_0's l1: 0.146097\tvalid_0's mape: 0.0115009\n",
      "[554]\tvalid_0's l1: 0.1461\tvalid_0's mape: 0.0115012\n",
      "[555]\tvalid_0's l1: 0.146095\tvalid_0's mape: 0.0115009\n",
      "[556]\tvalid_0's l1: 0.146085\tvalid_0's mape: 0.0115001\n",
      "[557]\tvalid_0's l1: 0.146079\tvalid_0's mape: 0.0114995\n",
      "[558]\tvalid_0's l1: 0.146068\tvalid_0's mape: 0.0114987\n",
      "[559]\tvalid_0's l1: 0.146061\tvalid_0's mape: 0.011498\n",
      "[560]\tvalid_0's l1: 0.146069\tvalid_0's mape: 0.0114987\n",
      "[561]\tvalid_0's l1: 0.146058\tvalid_0's mape: 0.0114979\n",
      "[562]\tvalid_0's l1: 0.146048\tvalid_0's mape: 0.011497\n",
      "[563]\tvalid_0's l1: 0.146035\tvalid_0's mape: 0.0114961\n",
      "[564]\tvalid_0's l1: 0.146027\tvalid_0's mape: 0.0114955\n",
      "[565]\tvalid_0's l1: 0.146017\tvalid_0's mape: 0.0114946\n",
      "[566]\tvalid_0's l1: 0.146011\tvalid_0's mape: 0.0114941\n",
      "[567]\tvalid_0's l1: 0.145998\tvalid_0's mape: 0.0114931\n",
      "[568]\tvalid_0's l1: 0.14599\tvalid_0's mape: 0.0114925\n",
      "[569]\tvalid_0's l1: 0.145984\tvalid_0's mape: 0.0114921\n",
      "[570]\tvalid_0's l1: 0.145984\tvalid_0's mape: 0.0114921\n",
      "[571]\tvalid_0's l1: 0.145983\tvalid_0's mape: 0.0114921\n",
      "[572]\tvalid_0's l1: 0.145994\tvalid_0's mape: 0.011493\n",
      "[573]\tvalid_0's l1: 0.146003\tvalid_0's mape: 0.0114938\n",
      "[574]\tvalid_0's l1: 0.146001\tvalid_0's mape: 0.0114937\n",
      "[575]\tvalid_0's l1: 0.145974\tvalid_0's mape: 0.0114917\n",
      "[576]\tvalid_0's l1: 0.145962\tvalid_0's mape: 0.0114908\n",
      "[577]\tvalid_0's l1: 0.145949\tvalid_0's mape: 0.0114899\n",
      "[578]\tvalid_0's l1: 0.145928\tvalid_0's mape: 0.0114881\n",
      "[579]\tvalid_0's l1: 0.145924\tvalid_0's mape: 0.011488\n",
      "[580]\tvalid_0's l1: 0.145912\tvalid_0's mape: 0.0114871\n",
      "[581]\tvalid_0's l1: 0.145904\tvalid_0's mape: 0.0114865\n",
      "[582]\tvalid_0's l1: 0.145898\tvalid_0's mape: 0.011486\n",
      "[583]\tvalid_0's l1: 0.145888\tvalid_0's mape: 0.0114853\n",
      "[584]\tvalid_0's l1: 0.145896\tvalid_0's mape: 0.0114859\n",
      "[585]\tvalid_0's l1: 0.145897\tvalid_0's mape: 0.011486\n",
      "[586]\tvalid_0's l1: 0.145889\tvalid_0's mape: 0.0114854\n",
      "[587]\tvalid_0's l1: 0.14586\tvalid_0's mape: 0.0114832\n",
      "[588]\tvalid_0's l1: 0.145852\tvalid_0's mape: 0.0114827\n",
      "[589]\tvalid_0's l1: 0.145851\tvalid_0's mape: 0.0114826\n",
      "[590]\tvalid_0's l1: 0.145848\tvalid_0's mape: 0.0114825\n",
      "[591]\tvalid_0's l1: 0.145846\tvalid_0's mape: 0.0114824\n",
      "[592]\tvalid_0's l1: 0.14584\tvalid_0's mape: 0.011482\n",
      "[593]\tvalid_0's l1: 0.145839\tvalid_0's mape: 0.011482\n",
      "[594]\tvalid_0's l1: 0.145831\tvalid_0's mape: 0.0114815\n",
      "[595]\tvalid_0's l1: 0.145823\tvalid_0's mape: 0.0114809\n",
      "[596]\tvalid_0's l1: 0.145819\tvalid_0's mape: 0.0114805\n",
      "[597]\tvalid_0's l1: 0.145807\tvalid_0's mape: 0.0114797\n",
      "[598]\tvalid_0's l1: 0.145789\tvalid_0's mape: 0.0114784\n",
      "[599]\tvalid_0's l1: 0.145785\tvalid_0's mape: 0.0114782\n",
      "[600]\tvalid_0's l1: 0.14578\tvalid_0's mape: 0.0114778\n",
      "[601]\tvalid_0's l1: 0.145774\tvalid_0's mape: 0.0114775\n",
      "[602]\tvalid_0's l1: 0.145776\tvalid_0's mape: 0.0114778\n",
      "[603]\tvalid_0's l1: 0.145774\tvalid_0's mape: 0.0114777\n",
      "[604]\tvalid_0's l1: 0.145762\tvalid_0's mape: 0.0114769\n",
      "[605]\tvalid_0's l1: 0.145749\tvalid_0's mape: 0.0114761\n",
      "[606]\tvalid_0's l1: 0.145756\tvalid_0's mape: 0.0114767\n",
      "[607]\tvalid_0's l1: 0.145752\tvalid_0's mape: 0.0114766\n",
      "[608]\tvalid_0's l1: 0.145757\tvalid_0's mape: 0.0114771\n",
      "[609]\tvalid_0's l1: 0.145746\tvalid_0's mape: 0.0114763\n",
      "[610]\tvalid_0's l1: 0.145742\tvalid_0's mape: 0.0114761\n",
      "[611]\tvalid_0's l1: 0.145732\tvalid_0's mape: 0.0114752\n",
      "[612]\tvalid_0's l1: 0.145724\tvalid_0's mape: 0.0114746\n",
      "[613]\tvalid_0's l1: 0.145711\tvalid_0's mape: 0.0114735\n",
      "[614]\tvalid_0's l1: 0.145697\tvalid_0's mape: 0.0114725\n",
      "[615]\tvalid_0's l1: 0.145685\tvalid_0's mape: 0.0114716\n",
      "[616]\tvalid_0's l1: 0.145686\tvalid_0's mape: 0.0114719\n",
      "[617]\tvalid_0's l1: 0.145676\tvalid_0's mape: 0.0114711\n",
      "[618]\tvalid_0's l1: 0.14568\tvalid_0's mape: 0.0114715\n",
      "[619]\tvalid_0's l1: 0.145667\tvalid_0's mape: 0.0114705\n",
      "[620]\tvalid_0's l1: 0.14566\tvalid_0's mape: 0.01147\n",
      "[621]\tvalid_0's l1: 0.145648\tvalid_0's mape: 0.0114692\n",
      "[622]\tvalid_0's l1: 0.145653\tvalid_0's mape: 0.0114696\n",
      "[623]\tvalid_0's l1: 0.145645\tvalid_0's mape: 0.0114691\n",
      "[624]\tvalid_0's l1: 0.145623\tvalid_0's mape: 0.0114674\n",
      "[625]\tvalid_0's l1: 0.145634\tvalid_0's mape: 0.0114683\n",
      "[626]\tvalid_0's l1: 0.145629\tvalid_0's mape: 0.0114679\n",
      "[627]\tvalid_0's l1: 0.14561\tvalid_0's mape: 0.0114665\n",
      "[628]\tvalid_0's l1: 0.145592\tvalid_0's mape: 0.0114651\n",
      "[629]\tvalid_0's l1: 0.145593\tvalid_0's mape: 0.0114652\n",
      "[630]\tvalid_0's l1: 0.14558\tvalid_0's mape: 0.0114643\n",
      "[631]\tvalid_0's l1: 0.145563\tvalid_0's mape: 0.0114629\n",
      "[632]\tvalid_0's l1: 0.145566\tvalid_0's mape: 0.0114633\n",
      "[633]\tvalid_0's l1: 0.145556\tvalid_0's mape: 0.0114626\n",
      "[634]\tvalid_0's l1: 0.145546\tvalid_0's mape: 0.011462\n",
      "[635]\tvalid_0's l1: 0.145555\tvalid_0's mape: 0.0114627\n",
      "[636]\tvalid_0's l1: 0.145537\tvalid_0's mape: 0.0114614\n",
      "[637]\tvalid_0's l1: 0.145547\tvalid_0's mape: 0.0114622\n",
      "[638]\tvalid_0's l1: 0.145542\tvalid_0's mape: 0.0114619\n",
      "[639]\tvalid_0's l1: 0.145532\tvalid_0's mape: 0.0114612\n",
      "[640]\tvalid_0's l1: 0.145544\tvalid_0's mape: 0.0114622\n",
      "[641]\tvalid_0's l1: 0.145538\tvalid_0's mape: 0.0114617\n",
      "[642]\tvalid_0's l1: 0.145519\tvalid_0's mape: 0.0114602\n",
      "[643]\tvalid_0's l1: 0.145514\tvalid_0's mape: 0.0114598\n",
      "[644]\tvalid_0's l1: 0.14551\tvalid_0's mape: 0.0114596\n",
      "[645]\tvalid_0's l1: 0.145509\tvalid_0's mape: 0.0114595\n",
      "[646]\tvalid_0's l1: 0.145484\tvalid_0's mape: 0.0114577\n",
      "[647]\tvalid_0's l1: 0.145479\tvalid_0's mape: 0.0114573\n",
      "[648]\tvalid_0's l1: 0.145465\tvalid_0's mape: 0.0114562\n",
      "[649]\tvalid_0's l1: 0.145458\tvalid_0's mape: 0.0114557\n",
      "[650]\tvalid_0's l1: 0.145459\tvalid_0's mape: 0.0114558\n",
      "[651]\tvalid_0's l1: 0.145454\tvalid_0's mape: 0.0114556\n",
      "[652]\tvalid_0's l1: 0.145459\tvalid_0's mape: 0.011456\n",
      "[653]\tvalid_0's l1: 0.145474\tvalid_0's mape: 0.0114571\n",
      "[654]\tvalid_0's l1: 0.145477\tvalid_0's mape: 0.0114573\n"
     ]
    },
    {
     "name": "stdout",
     "output_type": "stream",
     "text": [
      "[655]\tvalid_0's l1: 0.14547\tvalid_0's mape: 0.0114569\n",
      "[656]\tvalid_0's l1: 0.145476\tvalid_0's mape: 0.0114573\n",
      "[657]\tvalid_0's l1: 0.145479\tvalid_0's mape: 0.0114576\n",
      "[658]\tvalid_0's l1: 0.145474\tvalid_0's mape: 0.0114573\n",
      "[659]\tvalid_0's l1: 0.145489\tvalid_0's mape: 0.0114585\n",
      "[660]\tvalid_0's l1: 0.145497\tvalid_0's mape: 0.0114592\n",
      "[661]\tvalid_0's l1: 0.145491\tvalid_0's mape: 0.0114587\n",
      "[662]\tvalid_0's l1: 0.145484\tvalid_0's mape: 0.0114582\n",
      "[663]\tvalid_0's l1: 0.145487\tvalid_0's mape: 0.0114584\n",
      "[664]\tvalid_0's l1: 0.145476\tvalid_0's mape: 0.0114575\n",
      "[665]\tvalid_0's l1: 0.145465\tvalid_0's mape: 0.0114566\n",
      "[666]\tvalid_0's l1: 0.145465\tvalid_0's mape: 0.0114567\n",
      "[667]\tvalid_0's l1: 0.145473\tvalid_0's mape: 0.0114574\n",
      "[668]\tvalid_0's l1: 0.145482\tvalid_0's mape: 0.0114581\n",
      "[669]\tvalid_0's l1: 0.14549\tvalid_0's mape: 0.0114589\n",
      "[670]\tvalid_0's l1: 0.145484\tvalid_0's mape: 0.0114584\n",
      "[671]\tvalid_0's l1: 0.145494\tvalid_0's mape: 0.0114592\n",
      "[672]\tvalid_0's l1: 0.145509\tvalid_0's mape: 0.0114603\n",
      "[673]\tvalid_0's l1: 0.14549\tvalid_0's mape: 0.0114588\n",
      "[674]\tvalid_0's l1: 0.145491\tvalid_0's mape: 0.0114589\n",
      "[675]\tvalid_0's l1: 0.145488\tvalid_0's mape: 0.0114586\n",
      "[676]\tvalid_0's l1: 0.145494\tvalid_0's mape: 0.0114592\n",
      "[677]\tvalid_0's l1: 0.145498\tvalid_0's mape: 0.0114596\n",
      "[678]\tvalid_0's l1: 0.145489\tvalid_0's mape: 0.011459\n",
      "[679]\tvalid_0's l1: 0.14549\tvalid_0's mape: 0.011459\n",
      "[680]\tvalid_0's l1: 0.145508\tvalid_0's mape: 0.0114605\n",
      "[681]\tvalid_0's l1: 0.145489\tvalid_0's mape: 0.011459\n",
      "[682]\tvalid_0's l1: 0.145475\tvalid_0's mape: 0.0114579\n",
      "[683]\tvalid_0's l1: 0.145481\tvalid_0's mape: 0.0114585\n",
      "[684]\tvalid_0's l1: 0.145493\tvalid_0's mape: 0.0114595\n",
      "[685]\tvalid_0's l1: 0.145488\tvalid_0's mape: 0.0114592\n",
      "[686]\tvalid_0's l1: 0.145481\tvalid_0's mape: 0.0114588\n",
      "[687]\tvalid_0's l1: 0.145484\tvalid_0's mape: 0.0114591\n",
      "[688]\tvalid_0's l1: 0.145483\tvalid_0's mape: 0.0114591\n",
      "[689]\tvalid_0's l1: 0.145479\tvalid_0's mape: 0.0114588\n",
      "[690]\tvalid_0's l1: 0.145475\tvalid_0's mape: 0.0114584\n",
      "[691]\tvalid_0's l1: 0.145486\tvalid_0's mape: 0.0114593\n",
      "[692]\tvalid_0's l1: 0.145498\tvalid_0's mape: 0.0114602\n",
      "[693]\tvalid_0's l1: 0.145491\tvalid_0's mape: 0.0114598\n",
      "[694]\tvalid_0's l1: 0.1455\tvalid_0's mape: 0.0114604\n",
      "[695]\tvalid_0's l1: 0.14551\tvalid_0's mape: 0.0114612\n",
      "[696]\tvalid_0's l1: 0.145514\tvalid_0's mape: 0.0114616\n",
      "[697]\tvalid_0's l1: 0.145517\tvalid_0's mape: 0.0114619\n",
      "[698]\tvalid_0's l1: 0.145505\tvalid_0's mape: 0.011461\n",
      "[699]\tvalid_0's l1: 0.145509\tvalid_0's mape: 0.0114613\n",
      "[700]\tvalid_0's l1: 0.145497\tvalid_0's mape: 0.0114605\n",
      "[701]\tvalid_0's l1: 0.145488\tvalid_0's mape: 0.0114599\n",
      "[702]\tvalid_0's l1: 0.14549\tvalid_0's mape: 0.0114601\n",
      "[703]\tvalid_0's l1: 0.145487\tvalid_0's mape: 0.01146\n",
      "[704]\tvalid_0's l1: 0.145499\tvalid_0's mape: 0.011461\n",
      "[705]\tvalid_0's l1: 0.145509\tvalid_0's mape: 0.0114618\n",
      "[706]\tvalid_0's l1: 0.145513\tvalid_0's mape: 0.0114622\n",
      "[707]\tvalid_0's l1: 0.14551\tvalid_0's mape: 0.011462\n",
      "[708]\tvalid_0's l1: 0.145512\tvalid_0's mape: 0.0114622\n",
      "[709]\tvalid_0's l1: 0.145514\tvalid_0's mape: 0.0114626\n",
      "[710]\tvalid_0's l1: 0.145516\tvalid_0's mape: 0.0114627\n",
      "[711]\tvalid_0's l1: 0.145509\tvalid_0's mape: 0.0114622\n",
      "[712]\tvalid_0's l1: 0.145507\tvalid_0's mape: 0.0114621\n",
      "[713]\tvalid_0's l1: 0.145515\tvalid_0's mape: 0.0114628\n",
      "[714]\tvalid_0's l1: 0.14552\tvalid_0's mape: 0.0114631\n",
      "[715]\tvalid_0's l1: 0.145519\tvalid_0's mape: 0.0114631\n",
      "[716]\tvalid_0's l1: 0.145526\tvalid_0's mape: 0.0114638\n",
      "[717]\tvalid_0's l1: 0.145521\tvalid_0's mape: 0.0114634\n",
      "[718]\tvalid_0's l1: 0.145523\tvalid_0's mape: 0.0114635\n",
      "[719]\tvalid_0's l1: 0.145519\tvalid_0's mape: 0.0114633\n",
      "[720]\tvalid_0's l1: 0.145516\tvalid_0's mape: 0.0114631\n",
      "[721]\tvalid_0's l1: 0.14551\tvalid_0's mape: 0.0114628\n",
      "[722]\tvalid_0's l1: 0.145497\tvalid_0's mape: 0.011462\n",
      "[723]\tvalid_0's l1: 0.145487\tvalid_0's mape: 0.0114613\n",
      "[724]\tvalid_0's l1: 0.145494\tvalid_0's mape: 0.0114619\n",
      "[725]\tvalid_0's l1: 0.145479\tvalid_0's mape: 0.0114608\n",
      "[726]\tvalid_0's l1: 0.145469\tvalid_0's mape: 0.0114602\n",
      "[727]\tvalid_0's l1: 0.145474\tvalid_0's mape: 0.0114606\n",
      "[728]\tvalid_0's l1: 0.145467\tvalid_0's mape: 0.0114601\n",
      "[729]\tvalid_0's l1: 0.14546\tvalid_0's mape: 0.0114596\n",
      "[730]\tvalid_0's l1: 0.145446\tvalid_0's mape: 0.0114586\n",
      "[731]\tvalid_0's l1: 0.145446\tvalid_0's mape: 0.0114586\n",
      "[732]\tvalid_0's l1: 0.145438\tvalid_0's mape: 0.011458\n",
      "[733]\tvalid_0's l1: 0.145437\tvalid_0's mape: 0.0114579\n",
      "[734]\tvalid_0's l1: 0.145425\tvalid_0's mape: 0.011457\n",
      "[735]\tvalid_0's l1: 0.145418\tvalid_0's mape: 0.0114564\n",
      "[736]\tvalid_0's l1: 0.145408\tvalid_0's mape: 0.0114557\n",
      "[737]\tvalid_0's l1: 0.145411\tvalid_0's mape: 0.0114559\n",
      "[738]\tvalid_0's l1: 0.145406\tvalid_0's mape: 0.0114556\n",
      "[739]\tvalid_0's l1: 0.145411\tvalid_0's mape: 0.011456\n",
      "[740]\tvalid_0's l1: 0.145401\tvalid_0's mape: 0.0114554\n",
      "[741]\tvalid_0's l1: 0.145413\tvalid_0's mape: 0.0114564\n",
      "[742]\tvalid_0's l1: 0.145416\tvalid_0's mape: 0.0114567\n",
      "[743]\tvalid_0's l1: 0.145406\tvalid_0's mape: 0.0114559\n",
      "[744]\tvalid_0's l1: 0.145403\tvalid_0's mape: 0.0114558\n",
      "[745]\tvalid_0's l1: 0.145413\tvalid_0's mape: 0.0114566\n",
      "[746]\tvalid_0's l1: 0.145413\tvalid_0's mape: 0.0114566\n",
      "[747]\tvalid_0's l1: 0.145393\tvalid_0's mape: 0.0114552\n",
      "[748]\tvalid_0's l1: 0.145401\tvalid_0's mape: 0.0114559\n",
      "[749]\tvalid_0's l1: 0.145389\tvalid_0's mape: 0.0114548\n",
      "[750]\tvalid_0's l1: 0.145389\tvalid_0's mape: 0.0114549\n",
      "[751]\tvalid_0's l1: 0.145392\tvalid_0's mape: 0.0114552\n",
      "[752]\tvalid_0's l1: 0.145398\tvalid_0's mape: 0.0114556\n",
      "[753]\tvalid_0's l1: 0.145403\tvalid_0's mape: 0.0114561\n",
      "[754]\tvalid_0's l1: 0.1454\tvalid_0's mape: 0.0114559\n",
      "[755]\tvalid_0's l1: 0.145398\tvalid_0's mape: 0.0114557\n",
      "[756]\tvalid_0's l1: 0.145396\tvalid_0's mape: 0.0114556\n",
      "[757]\tvalid_0's l1: 0.145404\tvalid_0's mape: 0.0114562\n",
      "[758]\tvalid_0's l1: 0.145405\tvalid_0's mape: 0.0114562\n",
      "[759]\tvalid_0's l1: 0.145404\tvalid_0's mape: 0.0114561\n",
      "[760]\tvalid_0's l1: 0.145403\tvalid_0's mape: 0.011456\n",
      "[761]\tvalid_0's l1: 0.145402\tvalid_0's mape: 0.011456\n",
      "[762]\tvalid_0's l1: 0.145403\tvalid_0's mape: 0.0114561\n",
      "[763]\tvalid_0's l1: 0.145408\tvalid_0's mape: 0.0114564\n",
      "[764]\tvalid_0's l1: 0.145399\tvalid_0's mape: 0.0114558\n",
      "[765]\tvalid_0's l1: 0.145401\tvalid_0's mape: 0.0114559\n",
      "[766]\tvalid_0's l1: 0.145393\tvalid_0's mape: 0.0114553\n",
      "[767]\tvalid_0's l1: 0.145384\tvalid_0's mape: 0.0114547\n",
      "[768]\tvalid_0's l1: 0.145381\tvalid_0's mape: 0.0114545\n",
      "[769]\tvalid_0's l1: 0.145385\tvalid_0's mape: 0.0114548\n",
      "[770]\tvalid_0's l1: 0.145387\tvalid_0's mape: 0.0114549\n",
      "[771]\tvalid_0's l1: 0.145392\tvalid_0's mape: 0.0114554\n",
      "[772]\tvalid_0's l1: 0.145398\tvalid_0's mape: 0.0114561\n",
      "[773]\tvalid_0's l1: 0.145402\tvalid_0's mape: 0.0114564\n",
      "[774]\tvalid_0's l1: 0.145398\tvalid_0's mape: 0.0114561\n",
      "[775]\tvalid_0's l1: 0.145394\tvalid_0's mape: 0.0114558\n",
      "[776]\tvalid_0's l1: 0.145394\tvalid_0's mape: 0.0114559\n",
      "[777]\tvalid_0's l1: 0.145395\tvalid_0's mape: 0.011456\n",
      "[778]\tvalid_0's l1: 0.145396\tvalid_0's mape: 0.011456\n",
      "[779]\tvalid_0's l1: 0.145404\tvalid_0's mape: 0.0114566\n",
      "[780]\tvalid_0's l1: 0.145407\tvalid_0's mape: 0.0114569\n",
      "[781]\tvalid_0's l1: 0.145393\tvalid_0's mape: 0.011456\n",
      "[782]\tvalid_0's l1: 0.145398\tvalid_0's mape: 0.0114563\n",
      "[783]\tvalid_0's l1: 0.1454\tvalid_0's mape: 0.0114565\n",
      "[784]\tvalid_0's l1: 0.145391\tvalid_0's mape: 0.0114558\n",
      "[785]\tvalid_0's l1: 0.145385\tvalid_0's mape: 0.0114553\n",
      "[786]\tvalid_0's l1: 0.145378\tvalid_0's mape: 0.0114548\n",
      "[787]\tvalid_0's l1: 0.145369\tvalid_0's mape: 0.0114542\n",
      "[788]\tvalid_0's l1: 0.145361\tvalid_0's mape: 0.0114537\n",
      "[789]\tvalid_0's l1: 0.145352\tvalid_0's mape: 0.011453\n",
      "[790]\tvalid_0's l1: 0.145355\tvalid_0's mape: 0.0114532\n",
      "[791]\tvalid_0's l1: 0.145361\tvalid_0's mape: 0.0114538\n",
      "[792]\tvalid_0's l1: 0.145355\tvalid_0's mape: 0.0114533\n",
      "[793]\tvalid_0's l1: 0.145355\tvalid_0's mape: 0.0114534\n",
      "[794]\tvalid_0's l1: 0.145356\tvalid_0's mape: 0.0114535\n",
      "[795]\tvalid_0's l1: 0.145362\tvalid_0's mape: 0.011454\n",
      "[796]\tvalid_0's l1: 0.145369\tvalid_0's mape: 0.0114546\n",
      "[797]\tvalid_0's l1: 0.145373\tvalid_0's mape: 0.0114549\n",
      "[798]\tvalid_0's l1: 0.145373\tvalid_0's mape: 0.011455\n",
      "[799]\tvalid_0's l1: 0.145364\tvalid_0's mape: 0.0114542\n",
      "[800]\tvalid_0's l1: 0.145373\tvalid_0's mape: 0.0114549\n",
      "[801]\tvalid_0's l1: 0.145372\tvalid_0's mape: 0.0114549\n",
      "[802]\tvalid_0's l1: 0.145372\tvalid_0's mape: 0.0114549\n",
      "[803]\tvalid_0's l1: 0.145368\tvalid_0's mape: 0.0114546\n",
      "[804]\tvalid_0's l1: 0.145375\tvalid_0's mape: 0.0114552\n",
      "[805]\tvalid_0's l1: 0.145367\tvalid_0's mape: 0.0114546\n",
      "[806]\tvalid_0's l1: 0.145362\tvalid_0's mape: 0.0114543\n",
      "[807]\tvalid_0's l1: 0.145366\tvalid_0's mape: 0.0114546\n",
      "[808]\tvalid_0's l1: 0.14536\tvalid_0's mape: 0.0114541\n",
      "[809]\tvalid_0's l1: 0.145363\tvalid_0's mape: 0.0114546\n",
      "[810]\tvalid_0's l1: 0.145358\tvalid_0's mape: 0.0114542\n"
     ]
    },
    {
     "name": "stdout",
     "output_type": "stream",
     "text": [
      "[811]\tvalid_0's l1: 0.145356\tvalid_0's mape: 0.0114541\n",
      "[812]\tvalid_0's l1: 0.145364\tvalid_0's mape: 0.0114548\n",
      "[813]\tvalid_0's l1: 0.145358\tvalid_0's mape: 0.0114544\n",
      "[814]\tvalid_0's l1: 0.145361\tvalid_0's mape: 0.0114546\n",
      "[815]\tvalid_0's l1: 0.145369\tvalid_0's mape: 0.0114555\n",
      "[816]\tvalid_0's l1: 0.145384\tvalid_0's mape: 0.0114566\n",
      "[817]\tvalid_0's l1: 0.145393\tvalid_0's mape: 0.0114574\n",
      "[818]\tvalid_0's l1: 0.145402\tvalid_0's mape: 0.0114581\n",
      "[819]\tvalid_0's l1: 0.145398\tvalid_0's mape: 0.0114579\n",
      "[820]\tvalid_0's l1: 0.14541\tvalid_0's mape: 0.0114588\n",
      "[821]\tvalid_0's l1: 0.145415\tvalid_0's mape: 0.0114592\n",
      "[822]\tvalid_0's l1: 0.145423\tvalid_0's mape: 0.0114598\n",
      "[823]\tvalid_0's l1: 0.145427\tvalid_0's mape: 0.0114602\n",
      "[824]\tvalid_0's l1: 0.145429\tvalid_0's mape: 0.0114604\n",
      "[825]\tvalid_0's l1: 0.145436\tvalid_0's mape: 0.011461\n",
      "[826]\tvalid_0's l1: 0.145441\tvalid_0's mape: 0.0114615\n",
      "[827]\tvalid_0's l1: 0.145448\tvalid_0's mape: 0.011462\n",
      "[828]\tvalid_0's l1: 0.145451\tvalid_0's mape: 0.0114623\n",
      "[829]\tvalid_0's l1: 0.145452\tvalid_0's mape: 0.0114623\n",
      "[830]\tvalid_0's l1: 0.145457\tvalid_0's mape: 0.0114627\n",
      "[831]\tvalid_0's l1: 0.145458\tvalid_0's mape: 0.0114629\n",
      "[832]\tvalid_0's l1: 0.145453\tvalid_0's mape: 0.0114625\n",
      "[833]\tvalid_0's l1: 0.145456\tvalid_0's mape: 0.0114628\n",
      "[834]\tvalid_0's l1: 0.145459\tvalid_0's mape: 0.0114631\n",
      "[835]\tvalid_0's l1: 0.145459\tvalid_0's mape: 0.0114632\n",
      "[836]\tvalid_0's l1: 0.14546\tvalid_0's mape: 0.0114633\n",
      "[837]\tvalid_0's l1: 0.145459\tvalid_0's mape: 0.0114633\n",
      "[838]\tvalid_0's l1: 0.145441\tvalid_0's mape: 0.0114621\n",
      "[839]\tvalid_0's l1: 0.145441\tvalid_0's mape: 0.011462\n",
      "[840]\tvalid_0's l1: 0.145432\tvalid_0's mape: 0.0114614\n",
      "[841]\tvalid_0's l1: 0.145431\tvalid_0's mape: 0.0114613\n",
      "[842]\tvalid_0's l1: 0.14543\tvalid_0's mape: 0.0114612\n",
      "[843]\tvalid_0's l1: 0.145426\tvalid_0's mape: 0.0114609\n",
      "[844]\tvalid_0's l1: 0.145425\tvalid_0's mape: 0.0114609\n",
      "[845]\tvalid_0's l1: 0.145424\tvalid_0's mape: 0.0114608\n",
      "[846]\tvalid_0's l1: 0.145417\tvalid_0's mape: 0.0114602\n",
      "[847]\tvalid_0's l1: 0.145419\tvalid_0's mape: 0.0114604\n",
      "[848]\tvalid_0's l1: 0.145415\tvalid_0's mape: 0.01146\n",
      "[849]\tvalid_0's l1: 0.1454\tvalid_0's mape: 0.0114589\n",
      "[850]\tvalid_0's l1: 0.145401\tvalid_0's mape: 0.011459\n",
      "[851]\tvalid_0's l1: 0.145404\tvalid_0's mape: 0.0114594\n",
      "[852]\tvalid_0's l1: 0.145402\tvalid_0's mape: 0.0114592\n",
      "[853]\tvalid_0's l1: 0.145399\tvalid_0's mape: 0.011459\n",
      "[854]\tvalid_0's l1: 0.14539\tvalid_0's mape: 0.0114583\n",
      "[855]\tvalid_0's l1: 0.14539\tvalid_0's mape: 0.0114583\n",
      "[856]\tvalid_0's l1: 0.145395\tvalid_0's mape: 0.0114588\n",
      "[857]\tvalid_0's l1: 0.145407\tvalid_0's mape: 0.0114599\n",
      "[858]\tvalid_0's l1: 0.145411\tvalid_0's mape: 0.0114603\n",
      "[859]\tvalid_0's l1: 0.145416\tvalid_0's mape: 0.0114607\n",
      "[860]\tvalid_0's l1: 0.145424\tvalid_0's mape: 0.0114615\n",
      "[861]\tvalid_0's l1: 0.145422\tvalid_0's mape: 0.0114614\n",
      "[862]\tvalid_0's l1: 0.145424\tvalid_0's mape: 0.0114615\n",
      "[863]\tvalid_0's l1: 0.145435\tvalid_0's mape: 0.0114625\n",
      "[864]\tvalid_0's l1: 0.145429\tvalid_0's mape: 0.0114621\n",
      "[865]\tvalid_0's l1: 0.145446\tvalid_0's mape: 0.0114635\n",
      "[866]\tvalid_0's l1: 0.145452\tvalid_0's mape: 0.011464\n",
      "[867]\tvalid_0's l1: 0.145439\tvalid_0's mape: 0.0114631\n",
      "[868]\tvalid_0's l1: 0.145459\tvalid_0's mape: 0.0114648\n",
      "[869]\tvalid_0's l1: 0.145464\tvalid_0's mape: 0.0114652\n",
      "[870]\tvalid_0's l1: 0.145465\tvalid_0's mape: 0.0114654\n",
      "[871]\tvalid_0's l1: 0.145473\tvalid_0's mape: 0.0114661\n",
      "[872]\tvalid_0's l1: 0.145458\tvalid_0's mape: 0.011465\n",
      "[873]\tvalid_0's l1: 0.145457\tvalid_0's mape: 0.0114649\n",
      "[874]\tvalid_0's l1: 0.145463\tvalid_0's mape: 0.0114653\n",
      "[875]\tvalid_0's l1: 0.145463\tvalid_0's mape: 0.0114653\n",
      "[876]\tvalid_0's l1: 0.145446\tvalid_0's mape: 0.0114641\n",
      "[877]\tvalid_0's l1: 0.145444\tvalid_0's mape: 0.0114638\n",
      "[878]\tvalid_0's l1: 0.145452\tvalid_0's mape: 0.0114645\n",
      "[879]\tvalid_0's l1: 0.145445\tvalid_0's mape: 0.011464\n",
      "[880]\tvalid_0's l1: 0.145445\tvalid_0's mape: 0.011464\n",
      "[881]\tvalid_0's l1: 0.145449\tvalid_0's mape: 0.0114643\n",
      "[882]\tvalid_0's l1: 0.145451\tvalid_0's mape: 0.0114645\n",
      "[883]\tvalid_0's l1: 0.145452\tvalid_0's mape: 0.0114645\n",
      "[884]\tvalid_0's l1: 0.145454\tvalid_0's mape: 0.0114646\n",
      "[885]\tvalid_0's l1: 0.145457\tvalid_0's mape: 0.0114648\n",
      "[886]\tvalid_0's l1: 0.145455\tvalid_0's mape: 0.0114647\n",
      "[887]\tvalid_0's l1: 0.145459\tvalid_0's mape: 0.011465\n",
      "[888]\tvalid_0's l1: 0.14545\tvalid_0's mape: 0.0114643\n",
      "[889]\tvalid_0's l1: 0.145445\tvalid_0's mape: 0.0114639\n",
      "Early stopping, best iteration is:\n",
      "[789]\tvalid_0's l1: 0.145352\tvalid_0's mape: 0.011453\n"
     ]
    }
   ],
   "source": [
    "y_pred2 = lgbt(X_train2,y_train2,X_val2,y_val2)"
   ]
  },
  {
   "cell_type": "code",
   "execution_count": 256,
   "metadata": {},
   "outputs": [
    {
     "data": {
      "text/html": [
       "<div>\n",
       "<style scoped>\n",
       "    .dataframe tbody tr th:only-of-type {\n",
       "        vertical-align: middle;\n",
       "    }\n",
       "\n",
       "    .dataframe tbody tr th {\n",
       "        vertical-align: top;\n",
       "    }\n",
       "\n",
       "    .dataframe thead th {\n",
       "        text-align: right;\n",
       "    }\n",
       "</style>\n",
       "<table border=\"1\" class=\"dataframe\">\n",
       "  <thead>\n",
       "    <tr style=\"text-align: right;\">\n",
       "      <th></th>\n",
       "      <th>MAPE</th>\n",
       "      <th>MAE</th>\n",
       "      <th>MSE</th>\n",
       "      <th>RMSE</th>\n",
       "    </tr>\n",
       "  </thead>\n",
       "  <tbody>\n",
       "    <tr>\n",
       "      <th>LGB</th>\n",
       "      <td>15.70</td>\n",
       "      <td>133392.89</td>\n",
       "      <td>108904291196.16</td>\n",
       "      <td>330006.50</td>\n",
       "    </tr>\n",
       "    <tr>\n",
       "      <th>LGB_1</th>\n",
       "      <td>15.75</td>\n",
       "      <td>135418.87</td>\n",
       "      <td>111588091790.53</td>\n",
       "      <td>334048.04</td>\n",
       "    </tr>\n",
       "    <tr>\n",
       "      <th>LGB_2</th>\n",
       "      <td>15.73</td>\n",
       "      <td>136672.30</td>\n",
       "      <td>115253419078.53</td>\n",
       "      <td>339489.94</td>\n",
       "    </tr>\n",
       "    <tr>\n",
       "      <th>LGB_3</th>\n",
       "      <td>15.78</td>\n",
       "      <td>133684.43</td>\n",
       "      <td>107261985793.74</td>\n",
       "      <td>327508.76</td>\n",
       "    </tr>\n",
       "    <tr>\n",
       "      <th>LGB_4</th>\n",
       "      <td>15.70</td>\n",
       "      <td>133311.73</td>\n",
       "      <td>107025924945.50</td>\n",
       "      <td>327148.17</td>\n",
       "    </tr>\n",
       "    <tr>\n",
       "      <th>Test BMW</th>\n",
       "      <td>15.85</td>\n",
       "      <td>272654.09</td>\n",
       "      <td>649000471147.42</td>\n",
       "      <td>805605.65</td>\n",
       "    </tr>\n",
       "    <tr>\n",
       "      <th>Test rest</th>\n",
       "      <td>15.36</td>\n",
       "      <td>102232.27</td>\n",
       "      <td>41679412935.60</td>\n",
       "      <td>204155.36</td>\n",
       "    </tr>\n",
       "    <tr>\n",
       "      <th>Test BMW2</th>\n",
       "      <td>197.30</td>\n",
       "      <td>2665049.63</td>\n",
       "      <td>17882088335907.81</td>\n",
       "      <td>4228721.83</td>\n",
       "    </tr>\n",
       "    <tr>\n",
       "      <th>Test BMW3</th>\n",
       "      <td>16.19</td>\n",
       "      <td>273996.46</td>\n",
       "      <td>658931330250.55</td>\n",
       "      <td>811745.85</td>\n",
       "    </tr>\n",
       "    <tr>\n",
       "      <th>Test rest</th>\n",
       "      <td>15.56</td>\n",
       "      <td>101053.71</td>\n",
       "      <td>40426789840.66</td>\n",
       "      <td>201064.14</td>\n",
       "    </tr>\n",
       "  </tbody>\n",
       "</table>\n",
       "</div>"
      ],
      "text/plain": [
       "            MAPE        MAE               MSE       RMSE\n",
       "LGB        15.70  133392.89   108904291196.16  330006.50\n",
       "LGB_1      15.75  135418.87   111588091790.53  334048.04\n",
       "LGB_2      15.73  136672.30   115253419078.53  339489.94\n",
       "LGB_3      15.78  133684.43   107261985793.74  327508.76\n",
       "LGB_4      15.70  133311.73   107025924945.50  327148.17\n",
       "Test BMW   15.85  272654.09   649000471147.42  805605.65\n",
       "Test rest  15.36  102232.27    41679412935.60  204155.36\n",
       "Test BMW2 197.30 2665049.63 17882088335907.81 4228721.83\n",
       "Test BMW3  16.19  273996.46   658931330250.55  811745.85\n",
       "Test rest  15.56  101053.71    40426789840.66  201064.14"
      ]
     },
     "execution_count": 256,
     "metadata": {},
     "output_type": "execute_result"
    }
   ],
   "source": [
    "df_report = get_regression_metrics(df_report,y_val2,y_pred2, 'Test rest')\n",
    "df_report"
   ]
  },
  {
   "cell_type": "code",
   "execution_count": null,
   "metadata": {},
   "outputs": [],
   "source": []
  },
  {
   "cell_type": "code",
   "execution_count": 177,
   "metadata": {},
   "outputs": [
    {
     "ename": "ValueError",
     "evalue": "DataFrame.dtypes for data must be int, float or bool.\nDid not expect the data types in the following fields: brand",
     "output_type": "error",
     "traceback": [
      "\u001b[1;31m---------------------------------------------------------------------------\u001b[0m",
      "\u001b[1;31mValueError\u001b[0m                                Traceback (most recent call last)",
      "\u001b[1;32m<ipython-input-177-2e28057886a2>\u001b[0m in \u001b[0;36m<module>\u001b[1;34m\u001b[0m\n\u001b[0;32m     19\u001b[0m \u001b[1;31m# Training lightgbm model\u001b[0m\u001b[1;33m\u001b[0m\u001b[1;33m\u001b[0m\u001b[1;33m\u001b[0m\u001b[0m\n\u001b[0;32m     20\u001b[0m \u001b[0mlgbm\u001b[0m \u001b[1;33m=\u001b[0m \u001b[0mlgb\u001b[0m\u001b[1;33m.\u001b[0m\u001b[0mLGBMRegressor\u001b[0m\u001b[1;33m(\u001b[0m\u001b[1;33m**\u001b[0m\u001b[0mhyper_params\u001b[0m\u001b[1;33m)\u001b[0m\u001b[1;33m\u001b[0m\u001b[1;33m\u001b[0m\u001b[0m\n\u001b[1;32m---> 21\u001b[1;33m lgbm.fit(X_train, y_train,\n\u001b[0m\u001b[0;32m     22\u001b[0m          \u001b[0meval_set\u001b[0m\u001b[1;33m=\u001b[0m\u001b[1;33m[\u001b[0m\u001b[1;33m(\u001b[0m\u001b[0mX_val\u001b[0m\u001b[1;33m,\u001b[0m \u001b[0my_val\u001b[0m\u001b[1;33m)\u001b[0m\u001b[1;33m]\u001b[0m\u001b[1;33m,\u001b[0m\u001b[1;33m\u001b[0m\u001b[1;33m\u001b[0m\u001b[0m\n\u001b[0;32m     23\u001b[0m          \u001b[0meval_metric\u001b[0m\u001b[1;33m=\u001b[0m\u001b[1;34m'l1'\u001b[0m\u001b[1;33m,\u001b[0m\u001b[1;33m\u001b[0m\u001b[1;33m\u001b[0m\u001b[0m\n",
      "\u001b[1;32mC:\\ProgramData\\Anaconda3\\lib\\site-packages\\lightgbm\\sklearn.py\u001b[0m in \u001b[0;36mfit\u001b[1;34m(self, X, y, sample_weight, init_score, eval_set, eval_names, eval_sample_weight, eval_init_score, eval_metric, early_stopping_rounds, verbose, feature_name, categorical_feature, callbacks)\u001b[0m\n\u001b[0;32m    732\u001b[0m             verbose=True, feature_name='auto', categorical_feature='auto', callbacks=None):\n\u001b[0;32m    733\u001b[0m         \u001b[1;34m\"\"\"Docstring is inherited from the LGBMModel.\"\"\"\u001b[0m\u001b[1;33m\u001b[0m\u001b[1;33m\u001b[0m\u001b[0m\n\u001b[1;32m--> 734\u001b[1;33m         super(LGBMRegressor, self).fit(X, y, sample_weight=sample_weight,\n\u001b[0m\u001b[0;32m    735\u001b[0m                                        \u001b[0minit_score\u001b[0m\u001b[1;33m=\u001b[0m\u001b[0minit_score\u001b[0m\u001b[1;33m,\u001b[0m \u001b[0meval_set\u001b[0m\u001b[1;33m=\u001b[0m\u001b[0meval_set\u001b[0m\u001b[1;33m,\u001b[0m\u001b[1;33m\u001b[0m\u001b[1;33m\u001b[0m\u001b[0m\n\u001b[0;32m    736\u001b[0m                                        \u001b[0meval_names\u001b[0m\u001b[1;33m=\u001b[0m\u001b[0meval_names\u001b[0m\u001b[1;33m,\u001b[0m\u001b[1;33m\u001b[0m\u001b[1;33m\u001b[0m\u001b[0m\n",
      "\u001b[1;32mC:\\ProgramData\\Anaconda3\\lib\\site-packages\\lightgbm\\sklearn.py\u001b[0m in \u001b[0;36mfit\u001b[1;34m(self, X, y, sample_weight, init_score, group, eval_set, eval_names, eval_sample_weight, eval_class_weight, eval_init_score, eval_group, eval_metric, early_stopping_rounds, verbose, feature_name, categorical_feature, callbacks)\u001b[0m\n\u001b[0;32m    592\u001b[0m                 \u001b[0mvalid_sets\u001b[0m\u001b[1;33m.\u001b[0m\u001b[0mappend\u001b[0m\u001b[1;33m(\u001b[0m\u001b[0mvalid_set\u001b[0m\u001b[1;33m)\u001b[0m\u001b[1;33m\u001b[0m\u001b[1;33m\u001b[0m\u001b[0m\n\u001b[0;32m    593\u001b[0m \u001b[1;33m\u001b[0m\u001b[0m\n\u001b[1;32m--> 594\u001b[1;33m         self._Booster = train(params, train_set,\n\u001b[0m\u001b[0;32m    595\u001b[0m                               \u001b[0mself\u001b[0m\u001b[1;33m.\u001b[0m\u001b[0mn_estimators\u001b[0m\u001b[1;33m,\u001b[0m \u001b[0mvalid_sets\u001b[0m\u001b[1;33m=\u001b[0m\u001b[0mvalid_sets\u001b[0m\u001b[1;33m,\u001b[0m \u001b[0mvalid_names\u001b[0m\u001b[1;33m=\u001b[0m\u001b[0meval_names\u001b[0m\u001b[1;33m,\u001b[0m\u001b[1;33m\u001b[0m\u001b[1;33m\u001b[0m\u001b[0m\n\u001b[0;32m    596\u001b[0m                               \u001b[0mearly_stopping_rounds\u001b[0m\u001b[1;33m=\u001b[0m\u001b[0mearly_stopping_rounds\u001b[0m\u001b[1;33m,\u001b[0m\u001b[1;33m\u001b[0m\u001b[1;33m\u001b[0m\u001b[0m\n",
      "\u001b[1;32mC:\\ProgramData\\Anaconda3\\lib\\site-packages\\lightgbm\\engine.py\u001b[0m in \u001b[0;36mtrain\u001b[1;34m(params, train_set, num_boost_round, valid_sets, valid_names, fobj, feval, init_model, feature_name, categorical_feature, early_stopping_rounds, evals_result, verbose_eval, learning_rates, keep_training_booster, callbacks)\u001b[0m\n\u001b[0;32m    226\u001b[0m     \u001b[1;31m# construct booster\u001b[0m\u001b[1;33m\u001b[0m\u001b[1;33m\u001b[0m\u001b[1;33m\u001b[0m\u001b[0m\n\u001b[0;32m    227\u001b[0m     \u001b[1;32mtry\u001b[0m\u001b[1;33m:\u001b[0m\u001b[1;33m\u001b[0m\u001b[1;33m\u001b[0m\u001b[0m\n\u001b[1;32m--> 228\u001b[1;33m         \u001b[0mbooster\u001b[0m \u001b[1;33m=\u001b[0m \u001b[0mBooster\u001b[0m\u001b[1;33m(\u001b[0m\u001b[0mparams\u001b[0m\u001b[1;33m=\u001b[0m\u001b[0mparams\u001b[0m\u001b[1;33m,\u001b[0m \u001b[0mtrain_set\u001b[0m\u001b[1;33m=\u001b[0m\u001b[0mtrain_set\u001b[0m\u001b[1;33m)\u001b[0m\u001b[1;33m\u001b[0m\u001b[1;33m\u001b[0m\u001b[0m\n\u001b[0m\u001b[0;32m    229\u001b[0m         \u001b[1;32mif\u001b[0m \u001b[0mis_valid_contain_train\u001b[0m\u001b[1;33m:\u001b[0m\u001b[1;33m\u001b[0m\u001b[1;33m\u001b[0m\u001b[0m\n\u001b[0;32m    230\u001b[0m             \u001b[0mbooster\u001b[0m\u001b[1;33m.\u001b[0m\u001b[0mset_train_data_name\u001b[0m\u001b[1;33m(\u001b[0m\u001b[0mtrain_data_name\u001b[0m\u001b[1;33m)\u001b[0m\u001b[1;33m\u001b[0m\u001b[1;33m\u001b[0m\u001b[0m\n",
      "\u001b[1;32mC:\\ProgramData\\Anaconda3\\lib\\site-packages\\lightgbm\\basic.py\u001b[0m in \u001b[0;36m__init__\u001b[1;34m(self, params, train_set, model_file, model_str, silent)\u001b[0m\n\u001b[0;32m   1712\u001b[0m             \u001b[0mself\u001b[0m\u001b[1;33m.\u001b[0m\u001b[0mhandle\u001b[0m \u001b[1;33m=\u001b[0m \u001b[0mctypes\u001b[0m\u001b[1;33m.\u001b[0m\u001b[0mc_void_p\u001b[0m\u001b[1;33m(\u001b[0m\u001b[1;33m)\u001b[0m\u001b[1;33m\u001b[0m\u001b[1;33m\u001b[0m\u001b[0m\n\u001b[0;32m   1713\u001b[0m             _safe_call(_LIB.LGBM_BoosterCreate(\n\u001b[1;32m-> 1714\u001b[1;33m                 \u001b[0mtrain_set\u001b[0m\u001b[1;33m.\u001b[0m\u001b[0mconstruct\u001b[0m\u001b[1;33m(\u001b[0m\u001b[1;33m)\u001b[0m\u001b[1;33m.\u001b[0m\u001b[0mhandle\u001b[0m\u001b[1;33m,\u001b[0m\u001b[1;33m\u001b[0m\u001b[1;33m\u001b[0m\u001b[0m\n\u001b[0m\u001b[0;32m   1715\u001b[0m                 \u001b[0mc_str\u001b[0m\u001b[1;33m(\u001b[0m\u001b[0mparams_str\u001b[0m\u001b[1;33m)\u001b[0m\u001b[1;33m,\u001b[0m\u001b[1;33m\u001b[0m\u001b[1;33m\u001b[0m\u001b[0m\n\u001b[0;32m   1716\u001b[0m                 ctypes.byref(self.handle)))\n",
      "\u001b[1;32mC:\\ProgramData\\Anaconda3\\lib\\site-packages\\lightgbm\\basic.py\u001b[0m in \u001b[0;36mconstruct\u001b[1;34m(self)\u001b[0m\n\u001b[0;32m   1079\u001b[0m             \u001b[1;32melse\u001b[0m\u001b[1;33m:\u001b[0m\u001b[1;33m\u001b[0m\u001b[1;33m\u001b[0m\u001b[0m\n\u001b[0;32m   1080\u001b[0m                 \u001b[1;31m# create train\u001b[0m\u001b[1;33m\u001b[0m\u001b[1;33m\u001b[0m\u001b[1;33m\u001b[0m\u001b[0m\n\u001b[1;32m-> 1081\u001b[1;33m                 self._lazy_init(self.data, label=self.label,\n\u001b[0m\u001b[0;32m   1082\u001b[0m                                 \u001b[0mweight\u001b[0m\u001b[1;33m=\u001b[0m\u001b[0mself\u001b[0m\u001b[1;33m.\u001b[0m\u001b[0mweight\u001b[0m\u001b[1;33m,\u001b[0m \u001b[0mgroup\u001b[0m\u001b[1;33m=\u001b[0m\u001b[0mself\u001b[0m\u001b[1;33m.\u001b[0m\u001b[0mgroup\u001b[0m\u001b[1;33m,\u001b[0m\u001b[1;33m\u001b[0m\u001b[1;33m\u001b[0m\u001b[0m\n\u001b[0;32m   1083\u001b[0m                                 \u001b[0minit_score\u001b[0m\u001b[1;33m=\u001b[0m\u001b[0mself\u001b[0m\u001b[1;33m.\u001b[0m\u001b[0minit_score\u001b[0m\u001b[1;33m,\u001b[0m \u001b[0mpredictor\u001b[0m\u001b[1;33m=\u001b[0m\u001b[0mself\u001b[0m\u001b[1;33m.\u001b[0m\u001b[0m_predictor\u001b[0m\u001b[1;33m,\u001b[0m\u001b[1;33m\u001b[0m\u001b[1;33m\u001b[0m\u001b[0m\n",
      "\u001b[1;32mC:\\ProgramData\\Anaconda3\\lib\\site-packages\\lightgbm\\basic.py\u001b[0m in \u001b[0;36m_lazy_init\u001b[1;34m(self, data, label, reference, weight, group, init_score, predictor, silent, feature_name, categorical_feature, params)\u001b[0m\n\u001b[0;32m    825\u001b[0m             \u001b[0mself\u001b[0m\u001b[1;33m.\u001b[0m\u001b[0mpandas_categorical\u001b[0m \u001b[1;33m=\u001b[0m \u001b[0mreference\u001b[0m\u001b[1;33m.\u001b[0m\u001b[0mpandas_categorical\u001b[0m\u001b[1;33m\u001b[0m\u001b[1;33m\u001b[0m\u001b[0m\n\u001b[0;32m    826\u001b[0m             \u001b[0mcategorical_feature\u001b[0m \u001b[1;33m=\u001b[0m \u001b[0mreference\u001b[0m\u001b[1;33m.\u001b[0m\u001b[0mcategorical_feature\u001b[0m\u001b[1;33m\u001b[0m\u001b[1;33m\u001b[0m\u001b[0m\n\u001b[1;32m--> 827\u001b[1;33m         data, feature_name, categorical_feature, self.pandas_categorical = _data_from_pandas(data,\n\u001b[0m\u001b[0;32m    828\u001b[0m                                                                                              \u001b[0mfeature_name\u001b[0m\u001b[1;33m,\u001b[0m\u001b[1;33m\u001b[0m\u001b[1;33m\u001b[0m\u001b[0m\n\u001b[0;32m    829\u001b[0m                                                                                              \u001b[0mcategorical_feature\u001b[0m\u001b[1;33m,\u001b[0m\u001b[1;33m\u001b[0m\u001b[1;33m\u001b[0m\u001b[0m\n",
      "\u001b[1;32mC:\\ProgramData\\Anaconda3\\lib\\site-packages\\lightgbm\\basic.py\u001b[0m in \u001b[0;36m_data_from_pandas\u001b[1;34m(data, feature_name, categorical_feature, pandas_categorical)\u001b[0m\n\u001b[0;32m    340\u001b[0m         \u001b[0mbad_indices\u001b[0m \u001b[1;33m=\u001b[0m \u001b[0m_get_bad_pandas_dtypes\u001b[0m\u001b[1;33m(\u001b[0m\u001b[0mdata\u001b[0m\u001b[1;33m.\u001b[0m\u001b[0mdtypes\u001b[0m\u001b[1;33m)\u001b[0m\u001b[1;33m\u001b[0m\u001b[1;33m\u001b[0m\u001b[0m\n\u001b[0;32m    341\u001b[0m         \u001b[1;32mif\u001b[0m \u001b[0mbad_indices\u001b[0m\u001b[1;33m:\u001b[0m\u001b[1;33m\u001b[0m\u001b[1;33m\u001b[0m\u001b[0m\n\u001b[1;32m--> 342\u001b[1;33m             raise ValueError(\"DataFrame.dtypes for data must be int, float or bool.\\n\"\n\u001b[0m\u001b[0;32m    343\u001b[0m                              \u001b[1;34m\"Did not expect the data types in the following fields: \"\u001b[0m\u001b[1;33m\u001b[0m\u001b[1;33m\u001b[0m\u001b[0m\n\u001b[0;32m    344\u001b[0m                              + ', '.join(data.columns[bad_indices]))\n",
      "\u001b[1;31mValueError\u001b[0m: DataFrame.dtypes for data must be int, float or bool.\nDid not expect the data types in the following fields: brand"
     ]
    }
   ],
   "source": [
    "# Defining lightgbm hyper-parameters\n",
    "hyper_params = {\n",
    "                'task': 'train',\n",
    "                'boosting_type': 'gbdt',\n",
    "                'objective': 'regression',\n",
    "                'metric': ['mape'],\n",
    "                'learning_rate': 0.05,\n",
    "                'feature_fraction': 0.9,\n",
    "                'bagging_fraction': 0.7,\n",
    "                'bagging_freq': 10,\n",
    "                'verbose': 0,\n",
    "                \"max_depth\": 12,\n",
    "                \"num_leaves\": 128,  \n",
    "                \"max_bin\": 512,\n",
    "                \"num_iterations\": 1000,\n",
    "                \"n_estimators\": 1000\n",
    "            }\n",
    "\n",
    "# Training lightgbm model\n",
    "lgbm = lgb.LGBMRegressor(**hyper_params)\n",
    "lgbm.fit(X_train, y_train,\n",
    "         eval_set=[(X_val, y_val)],\n",
    "         eval_metric='l1',\n",
    "         early_stopping_rounds=100)"
   ]
  },
  {
   "cell_type": "code",
   "execution_count": 166,
   "metadata": {},
   "outputs": [],
   "source": [
    "lgb_pred = lgbm.predict(X_val)"
   ]
  },
  {
   "cell_type": "code",
   "execution_count": 167,
   "metadata": {
    "scrolled": true
   },
   "outputs": [
    {
     "data": {
      "text/html": [
       "<div>\n",
       "<style scoped>\n",
       "    .dataframe tbody tr th:only-of-type {\n",
       "        vertical-align: middle;\n",
       "    }\n",
       "\n",
       "    .dataframe tbody tr th {\n",
       "        vertical-align: top;\n",
       "    }\n",
       "\n",
       "    .dataframe thead th {\n",
       "        text-align: right;\n",
       "    }\n",
       "</style>\n",
       "<table border=\"1\" class=\"dataframe\">\n",
       "  <thead>\n",
       "    <tr style=\"text-align: right;\">\n",
       "      <th></th>\n",
       "      <th>MAPE</th>\n",
       "      <th>MAE</th>\n",
       "      <th>MSE</th>\n",
       "      <th>RMSE</th>\n",
       "    </tr>\n",
       "  </thead>\n",
       "  <tbody>\n",
       "    <tr>\n",
       "      <th>LGB</th>\n",
       "      <td>15.70</td>\n",
       "      <td>133392.89</td>\n",
       "      <td>108904291196.16</td>\n",
       "      <td>330006.50</td>\n",
       "    </tr>\n",
       "    <tr>\n",
       "      <th>LGB_1</th>\n",
       "      <td>15.75</td>\n",
       "      <td>135418.87</td>\n",
       "      <td>111588091790.53</td>\n",
       "      <td>334048.04</td>\n",
       "    </tr>\n",
       "    <tr>\n",
       "      <th>LGB_2</th>\n",
       "      <td>15.73</td>\n",
       "      <td>136672.30</td>\n",
       "      <td>115253419078.53</td>\n",
       "      <td>339489.94</td>\n",
       "    </tr>\n",
       "    <tr>\n",
       "      <th>LGB_3</th>\n",
       "      <td>15.78</td>\n",
       "      <td>133684.43</td>\n",
       "      <td>107261985793.74</td>\n",
       "      <td>327508.76</td>\n",
       "    </tr>\n",
       "    <tr>\n",
       "      <th>LGB_4</th>\n",
       "      <td>15.70</td>\n",
       "      <td>133311.73</td>\n",
       "      <td>107025924945.50</td>\n",
       "      <td>327148.17</td>\n",
       "    </tr>\n",
       "  </tbody>\n",
       "</table>\n",
       "</div>"
      ],
      "text/plain": [
       "       MAPE       MAE             MSE      RMSE\n",
       "LGB   15.70 133392.89 108904291196.16 330006.50\n",
       "LGB_1 15.75 135418.87 111588091790.53 334048.04\n",
       "LGB_2 15.73 136672.30 115253419078.53 339489.94\n",
       "LGB_3 15.78 133684.43 107261985793.74 327508.76\n",
       "LGB_4 15.70 133311.73 107025924945.50 327148.17"
      ]
     },
     "execution_count": 167,
     "metadata": {},
     "output_type": "execute_result"
    }
   ],
   "source": [
    "df_report = get_regression_metrics(df_report,y_val,lgb_pred, 'LGB_4')\n",
    "df_report"
   ]
  },
  {
   "cell_type": "code",
   "execution_count": 168,
   "metadata": {
    "scrolled": false
   },
   "outputs": [
    {
     "data": {
      "image/png": "[encoded data removed]",
      "text/plain": [
       "<Figure size 720x720 with 1 Axes>"
      ]
     },
     "metadata": {},
     "output_type": "display_data"
    }
   ],
   "source": [
    "# Check permutation\n",
    "lightgbm.plot_importance(lgbm, ax=None, height=0.2, xlim=None, ylim=None,\n",
    "                         title='Feature importance', xlabel='Feature importance', \n",
    "                         ylabel='Features', importance_type='split', max_num_features=None,\n",
    "                         ignore_zero=True, figsize=(10,10), dpi=None, grid=True, precision=3);"
   ]
  },
  {
   "cell_type": "markdown",
   "metadata": {},
   "source": [
    "# LGBM Optuna"
   ]
  },
  {
   "cell_type": "code",
   "execution_count": null,
   "metadata": {},
   "outputs": [],
   "source": [
    "# Defining MAPE function since it was removed from sklearn\n",
    "def mape_11(y_pred,y_true): \n",
    "    y_true, y_pred = np.array(y_true), np.array(y_pred)\n",
    "    return np.mean(np.abs((y_true - y_pred) / y_true) * 100)"
   ]
  },
  {
   "cell_type": "code",
   "execution_count": null,
   "metadata": {},
   "outputs": [],
   "source": [
    "def objective(trial,data=X,target=y):\n",
    "    \n",
    "    train_x, test_x, train_y, test_y = train_test_split(data, target, test_size=0.2,random_state=42)\n",
    "    param = {\n",
    "        'metric': 'mape', \n",
    "        'random_state': 42,\n",
    "        'n_estimators': trial.suggest_categorical('n_estimators', [50, 100,500,700]),\n",
    "        'reg_alpha': trial.suggest_loguniform('reg_alpha', 1e-3, 10.0),\n",
    "        'reg_lambda': trial.suggest_loguniform('reg_lambda', 1e-3, 10.0),\n",
    "        'colsample_bytree': trial.suggest_categorical('colsample_bytree', [0.3,0.4,0.5,0.6,0.7,0.8,0.9, 1.0]),\n",
    "        'subsample': trial.suggest_categorical('subsample', [0.4,0.5,0.6,0.7,0.8,1.0]),\n",
    "        'learning_rate': trial.suggest_categorical('learning_rate', [0.006,0.008,0.01,0.014,0.017,0.02]),\n",
    "        'max_depth': trial.suggest_categorical('max_depth', [10,20,100]),\n",
    "        'num_leaves' : trial.suggest_int('num_leaves', 1, 1000),\n",
    "        'min_child_samples': trial.suggest_int('min_child_samples', 1, 300),\n",
    "        'cat_smooth' : trial.suggest_int('min_data_per_groups', 1, 100)\n",
    "    }\n",
    "    model = lgb.LGBMRegressor(**param)  \n",
    "    \n",
    "    model.fit(train_x,train_y,eval_set=[(test_x,test_y)],early_stopping_rounds=100,verbose=False)\n",
    "    \n",
    "    preds = model.predict(test_x)\n",
    "    \n",
    "    mape = mape_11(np.expm1(test_y), np.expm1(preds))\n",
    "    \n",
    "    return mape"
   ]
  },
  {
   "cell_type": "code",
   "execution_count": null,
   "metadata": {
    "scrolled": false
   },
   "outputs": [],
   "source": [
    "study = optuna.create_study(direction='minimize')\n",
    "study.optimize(objective, n_trials=50)"
   ]
  },
  {
   "cell_type": "code",
   "execution_count": null,
   "metadata": {},
   "outputs": [],
   "source": [
    "# plot_optimization_histor: shows the scores from all trials as \n",
    "# well as the best score so far at each point.\n",
    "optuna.visualization.plot_optimization_history(study)"
   ]
  },
  {
   "cell_type": "code",
   "execution_count": null,
   "metadata": {},
   "outputs": [],
   "source": [
    "#plot_parallel_coordinate: interactively visualizes the hyperparameters and scores\n",
    "optuna.visualization.plot_parallel_coordinate(study)"
   ]
  },
  {
   "cell_type": "code",
   "execution_count": null,
   "metadata": {},
   "outputs": [],
   "source": [
    "'''plot_slice: shows the evolution of the search. You can see where in the hyperparameter space your search\n",
    "went and which parts of the space were explored more.'''\n",
    "optuna.visualization.plot_slice(study)"
   ]
  },
  {
   "cell_type": "code",
   "execution_count": null,
   "metadata": {},
   "outputs": [],
   "source": [
    "#Visualize parameter importances.\n",
    "optuna.visualization.plot_param_importances(study)"
   ]
  },
  {
   "cell_type": "code",
   "execution_count": null,
   "metadata": {},
   "outputs": [],
   "source": [
    "#Visualize empirical distribution function\n",
    "optuna.visualization.plot_edf(study)"
   ]
  },
  {
   "cell_type": "code",
   "execution_count": null,
   "metadata": {},
   "outputs": [],
   "source": [
    "param_lgb = study.best_params"
   ]
  },
  {
   "cell_type": "code",
   "execution_count": null,
   "metadata": {
    "scrolled": true
   },
   "outputs": [],
   "source": [
    "lgb_opt = lgb.LGBMRegressor(**param_lgb)\n",
    "lgb_opt.fit(X_train, y_train,)\n",
    "#          eval_set=[(X_val, y_val)],\n",
    "#          eval_metric='l1',\n",
    "#          early_stopping_rounds=100)\n"
   ]
  },
  {
   "cell_type": "code",
   "execution_count": null,
   "metadata": {},
   "outputs": [],
   "source": [
    "lgb_opt_pred = lgb_opt.predict(X_val)"
   ]
  },
  {
   "cell_type": "code",
   "execution_count": null,
   "metadata": {},
   "outputs": [],
   "source": [
    "df_report = get_regression_metrics(df_report,y_val,lgb_opt_pred, 'LGB+optuna')\n",
    "df_report"
   ]
  },
  {
   "cell_type": "markdown",
   "metadata": {},
   "source": [
    "## Gradient boost"
   ]
  },
  {
   "cell_type": "code",
   "execution_count": null,
   "metadata": {},
   "outputs": [],
   "source": [
    "params = {'n_estimators': 800,\n",
    "          'max_depth': 8,\n",
    "          'min_samples_split': 7,\n",
    "          'learning_rate': 0.01,\n",
    "          'loss': 'ls'}"
   ]
  },
  {
   "cell_type": "code",
   "execution_count": null,
   "metadata": {},
   "outputs": [],
   "source": [
    "gboost = GradientBoostingRegressor(**params)\n",
    "gboost.fit(X_train, y_train)\n",
    "gboost_pred = gboost.predict(X_val)"
   ]
  },
  {
   "cell_type": "code",
   "execution_count": null,
   "metadata": {
    "scrolled": true
   },
   "outputs": [],
   "source": [
    "df_report = get_regression_metrics(df_report,y_val,gboost_pred, 'GBOOST')\n",
    "df_report"
   ]
  },
  {
   "cell_type": "code",
   "execution_count": null,
   "metadata": {},
   "outputs": [],
   "source": [
    "test_score = np.zeros((params['n_estimators'],), dtype=np.float64)\n",
    "for i, gboost_pred in enumerate(gboost.staged_predict(X_val)):\n",
    "    test_score[i] = gboost.loss_(y_val, gboost_pred)\n",
    "\n",
    "fig = plt.figure(figsize=(6, 6))\n",
    "plt.subplot(1, 1, 1)\n",
    "plt.title('Deviance')\n",
    "plt.plot(np.arange(params['n_estimators']) + 1, gboost.train_score_, 'b-',\n",
    "         label='Training Set Deviance')\n",
    "plt.plot(np.arange(params['n_estimators']) + 1, test_score, 'r-',\n",
    "         label='Test Set Deviance')\n",
    "plt.legend(loc='upper right')\n",
    "plt.xlabel('Boosting Iterations')\n",
    "plt.ylabel('Deviance')\n",
    "fig.tight_layout()\n",
    "plt.show()"
   ]
  },
  {
   "cell_type": "code",
   "execution_count": null,
   "metadata": {},
   "outputs": [],
   "source": [
    "gboost.fit(X_train, y_train)"
   ]
  },
  {
   "cell_type": "code",
   "execution_count": null,
   "metadata": {},
   "outputs": [],
   "source": [
    "submission_gboost = pd.DataFrame({'sell_id': sell_id,\n",
    "                           'price': np.exp(gboost.predict(X_test))*0.905})\n",
    "\n",
    "submission_gboost.to_csv('submission_gboost.csv', index=False)"
   ]
  },
  {
   "cell_type": "markdown",
   "metadata": {},
   "source": [
    "## STACKING"
   ]
  },
  {
   "cell_type": "code",
   "execution_count": null,
   "metadata": {},
   "outputs": [],
   "source": [
    "from mlxtend.regressor import StackingRegressor"
   ]
  },
  {
   "cell_type": "code",
   "execution_count": null,
   "metadata": {},
   "outputs": [],
   "source": [
    "ENet = ElasticNet()"
   ]
  },
  {
   "cell_type": "code",
   "execution_count": null,
   "metadata": {},
   "outputs": [],
   "source": [
    "from sklearn.linear_model import LinearRegression\n",
    "lr = LinearRegression()"
   ]
  },
  {
   "cell_type": "code",
   "execution_count": null,
   "metadata": {},
   "outputs": [],
   "source": [
    "stck_regrs = StackingRegressor(regressors=[rf,cbr,xg_reg,lgbm,gboost],\n",
    "                               meta_regressor=lr)"
   ]
  },
  {
   "cell_type": "code",
   "execution_count": null,
   "metadata": {
    "scrolled": true
   },
   "outputs": [],
   "source": [
    "stck_regrs.fit(X_train,y_train)"
   ]
  },
  {
   "cell_type": "code",
   "execution_count": null,
   "metadata": {},
   "outputs": [],
   "source": [
    "y_pred_stck_regrs = stck_regrs.predict(X_val)"
   ]
  },
  {
   "cell_type": "code",
   "execution_count": null,
   "metadata": {},
   "outputs": [],
   "source": [
    "df_report = get_regression_metrics(df_report,y_val,y_pred_stck_regrs, 'Stack')\n",
    "df_report"
   ]
  },
  {
   "cell_type": "code",
   "execution_count": null,
   "metadata": {},
   "outputs": [],
   "source": [
    "extra_pred = rf.predict(X_test)\n",
    "cbr_pred = cbr.predict(X_test)\n",
    "xgboost_pred = xg_reg.predict(X_test)\n",
    "lgb_opt_pred = lgb_opt.predict(X_test)\n",
    "# lgb_pred = lgbm.predict(X_test)\n",
    "# gboost = gboost.predict(X_test)\n",
    "# stck = stck_regrs.predict(X_test)"
   ]
  },
  {
   "cell_type": "code",
   "execution_count": null,
   "metadata": {},
   "outputs": [],
   "source": [
    "df_report"
   ]
  },
  {
   "cell_type": "code",
   "execution_count": null,
   "metadata": {},
   "outputs": [],
   "source": [
    "ensemble = (xgboost_pred*.1 + extra_pred*.1 + cbr_pred*.1 + lgb_opt_pred* .7)"
   ]
  },
  {
   "cell_type": "code",
   "execution_count": null,
   "metadata": {},
   "outputs": [],
   "source": [
    "# #Submission\n",
    "# stck_regrs = StackingRegressor(regressors=[lgbm, xg_reg, rf,cbr],\n",
    "#                                meta_regressor=lr)\n",
    "# stck_regrs.fit(X,y)"
   ]
  },
  {
   "cell_type": "code",
   "execution_count": null,
   "metadata": {},
   "outputs": [],
   "source": [
    "submission_stack = pd.DataFrame({'sell_id': sell_id,\n",
    "                           'price': np.exp(ensemble)*.92})\n",
    "\n",
    "submission_stack.to_csv('submission_stack.csv', index=False)"
   ]
  },
  {
   "cell_type": "code",
   "execution_count": 139,
   "metadata": {},
   "outputs": [],
   "source": [
    "import pwlf"
   ]
  },
  {
   "cell_type": "code",
   "execution_count": null,
   "metadata": {},
   "outputs": [],
   "source": []
  },
  {
   "cell_type": "code",
   "execution_count": null,
   "metadata": {},
   "outputs": [],
   "source": []
  },
  {
   "cell_type": "code",
   "execution_count": null,
   "metadata": {},
   "outputs": [],
   "source": []
  },
  {
   "cell_type": "code",
   "execution_count": null,
   "metadata": {},
   "outputs": [],
   "source": []
  }
 ],
 "metadata": {
  "kernelspec": {
   "display_name": "Python 3",
   "language": "python",
   "name": "python3"
  },
  "language_info": {
   "codemirror_mode": {
    "name": "ipython",
    "version": 3
   },
   "file_extension": ".py",
   "mimetype": "text/x-python",
   "name": "python",
   "nbconvert_exporter": "python",
   "pygments_lexer": "ipython3",
   "version": "3.8.5"
  },
  "toc": {
   "base_numbering": 1,
   "nav_menu": {},
   "number_sections": true,
   "sideBar": true,
   "skip_h1_title": false,
   "title_cell": "Table of Contents",
   "title_sidebar": "Contents",
   "toc_cell": false,
   "toc_position": {
    "height": "calc(100% - 180px)",
    "left": "10px",
    "top": "150px",
    "width": "255.594px"
   },
   "toc_section_display": true,
   "toc_window_display": true
  },
  "varInspector": {
   "cols": {
    "lenName": 16,
    "lenType": 16,
    "lenVar": 40
   },
   "kernels_config": {
    "python": {
     "delete_cmd_postfix": "",
     "delete_cmd_prefix": "del ",
     "library": "var_list.py",
     "varRefreshCmd": "print(var_dic_list())"
    },
    "r": {
     "delete_cmd_postfix": ") ",
     "delete_cmd_prefix": "rm(",
     "library": "var_list.r",
     "varRefreshCmd": "cat(var_dic_list()) "
    }
   },
   "types_to_exclude": [
    "module",
    "function",
    "builtin_function_or_method",
    "instance",
    "_Feature"
   ],
   "window_display": false
  }
 },
 "nbformat": 4,
 "nbformat_minor": 4
}
