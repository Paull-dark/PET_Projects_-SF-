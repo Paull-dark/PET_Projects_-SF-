{
 "cells": [
  {
   "cell_type": "markdown",
   "metadata": {},
   "source": [
    "# Choose a Car Profitably [Car Price prediction] PART.2"
   ]
  },
  {
   "cell_type": "markdown",
   "metadata": {},
   "source": [
    "In this part we will focus on feature engineering and building a several models.\n",
    "Reference: Car Price Prediction (the _A_Team) [Prt.2 EDA]"
   ]
  },
  {
   "cell_type": "markdown",
   "metadata": {},
   "source": [
    "This work has made by Paul Krivchenia in cooperation with Vitaliy Burlakov (a.k.a Vetak8):\n",
    "\n",
    "[My GitHub](https://github.com/Paull-dark)\n",
    "\n",
    "[Vetak's GitHub](https://github.com/vetak8)\n",
    "\n",
    "[Vetak's Kaggle](https://www.kaggle.com/vitaliyburlakov)"
   ]
  },
  {
   "cell_type": "markdown",
   "metadata": {},
   "source": [
    "<img src = 'http://3.bp.blogspot.com/--knDCWYzMOw/UqzpwyctJeI/AAAAAAAAAT8/Ui66KNd1nXM/s1600/7egylh57hbhs.jpg' width= '400px'>"
   ]
  },
  {
   "cell_type": "markdown",
   "metadata": {},
   "source": [
    "<a id=\"sec2\"></a>\n",
    "# [1. INDEX](#sec1)\n",
    "\n",
    "<a id=\"sec1\"></a>\n",
    "1. [INDEX](#sec1)\n",
    "2. [IMPORT LIBRARRIES](#sec2)\n",
    "3. [Functions and Classes](#sec3)\n",
    "    * [3.1 General Functions](#sec3.1)\n",
    "    * [3.2 Classes](#sec3.2)\n",
    "    * [3.3 Functions for feature engineering](#sec3.3)\n",
    "4. [Load and Chek the Dataset](#sec4)\n",
    "5. [Feature Engeneering](#sec5)\n",
    "    * [5.1 Target](#sec5.1)\n",
    "    * [5.2 Body_type & Model_name](#sec5.2)\n",
    "    * [5.3 Color](#sec5.3)\n",
    "    * [5.4 Model_name](#sec5.4)\n",
    "    * [5.5 Description](#sec5.5)\n",
    "    * [5.6 Equipment dict](#sec5.6)\n",
    "    * [5.7 Fuel_type](#sec5.7)\n",
    "    * [5.8 Mileage](#sec5.8)\n",
    "    * [5.9 Engine displacement](#sec5.9)\n",
    "    * [5.10 Engine Power](#sec5.10)\n",
    "    * [5.11 Super Gen](#sec5.11)\n",
    "    * [5.12 Wheel Drive](#sec5.12)\n",
    "    * [5.13 Price drop index](#sec5.13)\n",
    "    * [5.14 Dropping cols without content](#sec5.14)\n",
    "    * [5.15 Vendor](#sec5.15)\n",
    "    * [5.16 Handling multocorrelation out](#sec5.16)\n",
    "    * [5.17 Clustering](#sec5.17)\n",
    "    * [5.18 Log Func](#sec5.18)\n",
    "    * [5.19 Encoding](#sec5.19)\n",
    "    * [5.20 Dropping columns out](#sec5.20)\n",
    "6. [Prepare the data for models](#sec6)"
   ]
  },
  {
   "cell_type": "markdown",
   "metadata": {},
   "source": [
    "<a id=\"sec2\"></a>\n",
    "# [2. Import LIBRARIES](#sec2)"
   ]
  },
  {
   "cell_type": "code",
   "execution_count": 1,
   "metadata": {},
   "outputs": [
    {
     "name": "stderr",
     "output_type": "stream",
     "text": [
      "C:\\ProgramData\\Anaconda3\\lib\\site-packages\\sklearn\\utils\\deprecation.py:143: FutureWarning: The sklearn.utils.testing module is  deprecated in version 0.22 and will be removed in version 0.24. The corresponding classes / functions should instead be imported from sklearn.utils. Anything that cannot be imported from sklearn.utils is now part of the private API.\n",
      "  warnings.warn(message, FutureWarning)\n"
     ]
    }
   ],
   "source": [
    "from Preprocessing import df_combined\n",
    "\n",
    "import pandas as pd\n",
    "import numpy as np\n",
    "import re\n",
    "import matplotlib.pyplot as plt\n",
    "import seaborn as sns\n",
    "import plotly.express as px\n",
    "import statsmodels.api as sm\n",
    "import ast\n",
    "import warnings\n",
    "from jupyterthemes import jtplot\n",
    "\n",
    "from textblob import TextBlob  # for sentiment analysis\n",
    "from wordcloud import WordCloud, STOPWORDS  # for creating cloud of words\n",
    "from sklearn.cluster import DBSCAN\n",
    "\n",
    "from sklearn.decomposition import PCA \n",
    "from sklearn.preprocessing import LabelEncoder, OneHotEncoder\n",
    "from sklearn.preprocessing import StandardScaler, RobustScaler\n",
    "from sklearn.model_selection import train_test_split\n",
    "from sklearn.metrics import mean_absolute_error, mean_squared_error\n",
    "from sklearn.feature_extraction import DictVectorizer\n",
    "from sklearn.feature_selection import f_regression\n",
    "from sklearn.model_selection import StratifiedShuffleSplit\n",
    "from sklearn.model_selection import GridSearchCV\n",
    "\n",
    "\n",
    "from lazypredict.Supervised import LazyRegressor\n",
    "from sklearn.ensemble import ExtraTreesRegressor, RandomForestRegressor\n",
    "from sklearn.ensemble import GradientBoostingRegressor\n",
    "from sklearn.linear_model import ElasticNet\n",
    "from xgboost import XGBRFRegressor\n",
    "from catboost import CatBoostRegressor\n",
    "import xgboost as xgb\n",
    "import lightgbm  as lgb\n",
    "import lightgbm\n",
    "import optuna\n",
    "\n",
    "\n",
    "from xgboost import plot_importance\n",
    "\n",
    "warnings.filterwarnings(\"ignore\")\n",
    "\n",
    "%matplotlib inline\n",
    "pd.set_option('display.max_rows', 50)  # Show more rows\n",
    "pd.set_option('display.max_columns', 50)  # Show more columns\n",
    "plt.style.use('ggplot')  # Nice plotting\n",
    "\n",
    "jtplot.style(theme='monokai', context='notebook', ticks=True, grid=False)"
   ]
  },
  {
   "cell_type": "code",
   "execution_count": 2,
   "metadata": {},
   "outputs": [
    {
     "data": {
      "image/png": "[encoded data removed]",
      "text/plain": [
       "<Figure size 360x72 with 1 Axes>"
      ]
     },
     "metadata": {},
     "output_type": "display_data"
    }
   ],
   "source": [
    "# Set project colors\n",
    "colors = ['#001c57', '#50248f', '#a6a6a6', '#38d1ff','#cc3181']\n",
    "sns.palplot(sns.color_palette(colors))"
   ]
  },
  {
   "cell_type": "markdown",
   "metadata": {},
   "source": [
    "<a id=\"sec3\"></a>\n",
    "# [3. Functions and Classes](#sec3)\n",
    "[(INDEX)](#sec1)"
   ]
  },
  {
   "cell_type": "markdown",
   "metadata": {},
   "source": [
    "<a id=\"sec3.1\"></a>\n",
    "## [3.1 GENERAL FUNCTIONS](#sec3.1)\n",
    "[(INDEX)](#sec1)"
   ]
  },
  {
   "cell_type": "code",
   "execution_count": 3,
   "metadata": {},
   "outputs": [],
   "source": [
    "def missing_vars(data, column, random_proba=True):\n",
    "    '''Function is called for filling of missing data'''\n",
    "    # With using probability and random choise\n",
    "\n",
    "    if random_proba:\n",
    "        col_name = data[column].value_counts().index.to_list(\n",
    "        )  # get list of values\n",
    "        col_distr = data[column].value_counts(\n",
    "            normalize=True).values  # get l;ist of probs\n",
    "        missing = data[col].isnull()  # flag of missing val\n",
    "        # substitute values from the list of names in accordance with the probability of meeting the name\n",
    "        data.loc[missing, [column]] = np.random.choice(col_name,\n",
    "                                                    size=len(data[missing]),\n",
    "                                                    p=col_distr)\n",
    "\n",
    "    # Using  most common in  column\n",
    "    data[col] = data[col].fillna(data[col].value_counts().index[0])"
   ]
  },
  {
   "cell_type": "code",
   "execution_count": 4,
   "metadata": {},
   "outputs": [],
   "source": [
    "def get_variable_distribution(col, title=None):\n",
    "    '''Function is called to plot feture distribution'''\n",
    "\n",
    "    title = title if title is not None else f\"Distribution for '{col}\"\n",
    "    fig, (ax1, ax2, ax3) = plt.subplots(1, 3, figsize=(15, 5),)\n",
    "    fig = sm.qqplot(col, fit=True, line='45', ax=ax1)\n",
    "    fig.suptitle(title, fontsize=20)\n",
    "\n",
    "    sns.distplot(col.values, bins=20, color=colors[1], ax=ax2)\n",
    "#     sns.violinplot(col.values, color=colors[3], bw=.3, cut=1, linewidth=4)\n",
    "    sns.boxplot(col.values,color=colors[3])\n",
    "\n",
    "    ax1.set_title('QQ-plot')\n",
    "    ax2.set_title('Distribution')\n",
    "    ax3.set_title('Boxplot')\n",
    "\n",
    "    plt.show()"
   ]
  },
  {
   "cell_type": "code",
   "execution_count": 5,
   "metadata": {},
   "outputs": [],
   "source": [
    "def corr_matrix(data, det=True, pltx=10, plty=10):\n",
    "    '''Funcion is called for making correlation matrix'''\n",
    "\n",
    "    corr = data.corr()\n",
    "    if det:\n",
    "\n",
    "        evals, evec = np.linalg.eig(corr)\n",
    "        ev_product = np.prod(evals)\n",
    "\n",
    "        print(f'Rank of Matrix: {np.linalg.matrix_rank(corr)}')\n",
    "        print(f'Determinant of matrix: {np.round(ev_product,4)}')\n",
    "        print(f'Shape of matrix: {np.shape(corr)}')\n",
    "\n",
    "    plt.figure(figsize=(pltx, plty))\n",
    "    sns.heatmap(corr[(corr >= .2) | (corr <= -.2)],\n",
    "                cmap='viridis',\n",
    "                vmin=-1.0,\n",
    "                linewidths=0.1,\n",
    "                annot=True,\n",
    "                annot_kws={\"size\": 10},\n",
    "                square=True)\n",
    "    #     sns.heatmap(X,vmin=0,vmax=.9,annot=True,square=True)\n",
    "    plt.show()"
   ]
  },
  {
   "cell_type": "code",
   "execution_count": 6,
   "metadata": {},
   "outputs": [],
   "source": [
    "def cleanTxt(text):\n",
    "    '''Function is called for cleaning text from trash\n",
    "    INPUT: dirty string\n",
    "    OUTPUT: More or less clean string'''\n",
    "\n",
    "    text = re.sub(r'@[А-Яа-я0-9]+', '', text)  # Remove @\n",
    "    text = re.sub(r'#', '', text)  # remove #\n",
    "    text = re.sub(r'{', '', text)\n",
    "    text = re.sub(r'}', '', text)\n",
    "    text = re.sub('^а-яА-Я', ' ', text)\n",
    "    text = re.sub(r'https?:\\/\\/\\S+', '', text)  # remove hyperlink\n",
    "    text = re.sub(r'\\n', '', text)\n",
    "    text = re.sub(r'✅', '', text)\n",
    "    text = re.sub(r'👍🏻', '', text)\n",
    "    text = re.sub(r'✨', '', text)\n",
    "    \n",
    "    \n",
    "    # there are much more emoji. I don't know how to identify them so far\n",
    "\n",
    "    text = text.strip()\n",
    "    text = text.lower()\n",
    "    #text = text.split()\n",
    "    return text"
   ]
  },
  {
   "cell_type": "code",
   "execution_count": 7,
   "metadata": {},
   "outputs": [],
   "source": [
    "def to_log(df, cols_to_log):\n",
    "    'smart log'\n",
    "    for col in cols_to_log:\n",
    "        a = df[col].min()\n",
    "        if a <= 0:                        \n",
    "            df[col] = np.log(df[col] + (int(abs(df[col].min()))+2))\n",
    "        \n",
    "        df[col] = np.log(df[col])\n",
    "    return df"
   ]
  },
  {
   "cell_type": "code",
   "execution_count": 8,
   "metadata": {},
   "outputs": [],
   "source": [
    "# Defining MAPE function since it was removed from sklearn\n",
    "def mape(y_true, y_pred):\n",
    "    'Function to calculate MAPE metric'\n",
    "#     y_true, y_pred = np.expm1(y_true), np.expm1(y_pred)\n",
    "    y_true, y_pred = np.array(y_true), np.array(y_pred)\n",
    "    return np.mean(np.abs((y_true - y_pred) / y_true) * 100)"
   ]
  },
  {
   "cell_type": "code",
   "execution_count": 9,
   "metadata": {},
   "outputs": [],
   "source": [
    "def get_regression_metrics(report_df,y_true, y_pred, name):\n",
    "    '''Create and add metrics into a pandas DF after experiment'''\n",
    "    y_true, y_pred = np.expm1(y_true), np.expm1(y_pred)\n",
    "\n",
    "    report = pd.DataFrame(columns={'MAPE'}, data=[0])\n",
    "    try:\n",
    "        report['MAPE'] = mape(y_true, y_pred)\n",
    "    except:\n",
    "        report['MAPE'] = 'failed'\n",
    "    report['MAE'] = mean_absolute_error(y_true, y_pred)\n",
    "    report['MSE'] = mean_squared_error(y_true, y_pred)\n",
    "    report['RMSE'] = np.sqrt(mean_squared_error(y_true, y_pred))\n",
    "\n",
    "    report.index = [name]\n",
    "    report_df = report_df.append(report)\n",
    "    return report_df"
   ]
  },
  {
   "cell_type": "markdown",
   "metadata": {},
   "source": [
    "<a id=\"sec3.2\"></a>\n",
    "## [3.2 Classes](#sec3.2)\n",
    "[(INDEX)](#sec1)"
   ]
  },
  {
   "cell_type": "code",
   "execution_count": 10,
   "metadata": {},
   "outputs": [],
   "source": [
    "class Encoder():\n",
    "    def __init__(self, dataframe):\n",
    "        self.dataframe = dataframe\n",
    "\n",
    "    def label_encoder(self, column):\n",
    "        '''Method is called for label encoding'''\n",
    "        le = LabelEncoder()\n",
    "        self.dataframe[column] = le.fit_transform(self.dataframe[column])\n",
    "\n",
    "    def hot_encoder(self, column):\n",
    "        '''Method is calling for hot encoding'''\n",
    "        ohe = OneHotEncoder(handle_unknown='ignore', sparse=False)\n",
    "        aux_df = pd.DataFrame(ohe.fit_transform(self.dataframe[[column]]))\n",
    "        aux_df.columns = ohe.get_feature_names([f'hot_{column}'])\n",
    "        self.dataframe = self.dataframe.drop(col, axis=1)\n",
    "        self.dataframe = pd.concat([self.dataframe, aux_df], axis=1)\n",
    "        return self.dataframe"
   ]
  },
  {
   "cell_type": "code",
   "execution_count": 11,
   "metadata": {},
   "outputs": [],
   "source": [
    "class Outliers_detector():\n",
    "    def __init__(self, df):\n",
    "        self.df = df\n",
    "\n",
    "    def get_IQR_outliers(self, column):\n",
    "        '''Method is called to detect IQR outliers'''\n",
    "        outliers = dict()\n",
    "        q1, q3 = np.percentile(sorted(self.df[column]), [25, 75])\n",
    "\n",
    "        IQR = q3 - q1\n",
    "\n",
    "        l_b = q1 - (1.5 * IQR)  # lower bound\n",
    "        u_b = q3 + (1.5 * IQR)  # upper bound\n",
    "        outl_count = len(self.df[column][self.df[column] < l_b]) + len(\n",
    "            self.df[column][self.df[column] > u_b])\n",
    "\n",
    "        outliers['lower_bound'] = round(l_b, 3)\n",
    "        outliers['upper_bound'] = round(u_b, 3)\n",
    "        outliers['outlier_count'] = outl_count\n",
    "\n",
    "        return outliers\n",
    "\n",
    "    def get_dbscan_outliers(self, column1, column2, dbscan_eps,\n",
    "                            dbscan_minsample, cluster_num):\n",
    "        '''Method is called for detecting outliers for two columns by dbscan'''\n",
    "\n",
    "        scaler = RobustScaler()\n",
    "        scale_column1 = scaler.fit_transform(pd.DataFrame(\n",
    "            self.df[column1])).reshape(1, -1)[0]\n",
    "        scale_column2 = scaler.fit_transform(pd.DataFrame(\n",
    "            self.df[column2])).reshape(1, -1)[0]\n",
    "        df_temp = pd.DataFrame({\n",
    "            'column1': scale_column1,\n",
    "            'column2': scale_column2\n",
    "        })\n",
    "        clustering = DBSCAN(eps=dbscan_eps,\n",
    "                            min_samples=dbscan_minsample).fit(df_temp.values)\n",
    "        df_temp[\"cluster\"] = clustering.labels_\n",
    "        df_temp.index = self.df.index\n",
    "        fig = px.scatter(self.df,\n",
    "                   x=scale_column1,\n",
    "                   y=scale_column2,\n",
    "                   color=clustering.labels_,\n",
    "                   size=column2)\n",
    "        # Edit the layout\n",
    "        fig.update_layout(title='Detected Custers\\n')\n",
    "        fig.update_xaxes(title=(f'{column1}'))\n",
    "        fig.update_yaxes(title=(f'{column2}'))\n",
    "        fig.update_layout(width = 700)\n",
    "        fig.update_layout(height = 600)\n",
    "        \n",
    "        fig.show()\n",
    "        #         sns.scatterplot(scale_column1, scale_column2,\n",
    "        #                         hue=clustering.labels_, alpha=0.5)\n",
    "        #         plt.title('CLUSTERS\\n', fontsize=15)\n",
    "        #         plt.xlabel(f'{column1}')\n",
    "        #         plt.ylabel(f'{column2}')\n",
    "        return df_temp[df_temp[\"cluster\"] == cluster_num].index"
   ]
  },
  {
   "cell_type": "markdown",
   "metadata": {},
   "source": [
    "<a id=\"sec3.3\"></a>\n",
    "## [3.3 FUNCTIONS FOR FEATURE ENGINEERING](#sec3.3)\n",
    "[(INDEX)](#sec1)"
   ]
  },
  {
   "cell_type": "code",
   "execution_count": 12,
   "metadata": {},
   "outputs": [],
   "source": [
    "def get_tax_category(engine_power):\n",
    "    '''Function breaks down the number of horse\n",
    "    power by taxation category in Russia'''\n",
    "\n",
    "    if engine_power <= 100:\n",
    "        return int(1)\n",
    "    elif 100 < engine_power <= 150:\n",
    "        return int(2)\n",
    "    elif 150 < engine_power <= 200:\n",
    "        return int(3)\n",
    "    elif 200 < engine_power <= 250:\n",
    "        return int(4)\n",
    "    elif engine_power > 250:\n",
    "        return int(5)\n",
    "\n",
    "\n",
    "def get_low_registr(word):\n",
    "    '''Get lowercase for string'''\n",
    "    try:\n",
    "        return word.lower()\n",
    "    except:\n",
    "        return None\n",
    "    \n",
    "def get_i3_displacement(engine_displacement, fuel_type, model_name):\n",
    "    '''fill mising values for  BMW i3'''\n",
    "    \n",
    "    if model_name == 'i3':\n",
    "        if fuel_type == 'hybrid':\n",
    "            return 0.7\n",
    "        else:\n",
    "            return 0\n",
    "    else:\n",
    "        return engine_displacement\n",
    "\n",
    "def get_electro_displacement(engine_displacement, fuel_type):\n",
    "    '''Filling mising vars for electrocars'''\n",
    "    \n",
    "    if fuel_type == 'electro':\n",
    "        return 0\n",
    "    else:\n",
    "        return engine_displacement\n",
    "    \n",
    "def get_acceleration(string):\n",
    "    '''Function extracting acceleration'''\n",
    "    \n",
    "    try:\n",
    "        return float(re.split(',', re.split('acceleration\\W+', str(string))[1])[0])\n",
    "    except:\n",
    "        return None\n",
    "    \n",
    "def get_fuel_rate(string):\n",
    "    '''Extrating fuel rate'''\n",
    "    try:\n",
    "        return float(re.split(',', re.split('fuel_rate\\W+', str(string))[1])[0])\n",
    "\n",
    "    except:\n",
    "        return None"
   ]
  },
  {
   "cell_type": "markdown",
   "metadata": {},
   "source": [
    "<a id=\"sec4\"></a>\n",
    "# [4.Load and Chek the Dataset](#sec4)\n",
    "[(INDEX)](#sec1)"
   ]
  },
  {
   "cell_type": "code",
   "execution_count": 13,
   "metadata": {
    "scrolled": false
   },
   "outputs": [
    {
     "data": {
      "text/html": [
       "<div>\n",
       "<style scoped>\n",
       "    .dataframe tbody tr th:only-of-type {\n",
       "        vertical-align: middle;\n",
       "    }\n",
       "\n",
       "    .dataframe tbody tr th {\n",
       "        vertical-align: top;\n",
       "    }\n",
       "\n",
       "    .dataframe thead th {\n",
       "        text-align: right;\n",
       "    }\n",
       "</style>\n",
       "<table border=\"1\" class=\"dataframe\">\n",
       "  <thead>\n",
       "    <tr style=\"text-align: right;\">\n",
       "      <th></th>\n",
       "      <th>body_type</th>\n",
       "      <th>brand</th>\n",
       "      <th>color</th>\n",
       "      <th>complectation_dict</th>\n",
       "      <th>description</th>\n",
       "      <th>engine_displacement</th>\n",
       "      <th>engine_power</th>\n",
       "      <th>equipment_dict</th>\n",
       "      <th>fuel_type</th>\n",
       "      <th>image</th>\n",
       "      <th>mileage</th>\n",
       "      <th>model_date</th>\n",
       "      <th>model_info</th>\n",
       "      <th>model_name</th>\n",
       "      <th>name</th>\n",
       "      <th>doors_count</th>\n",
       "      <th>price_currency</th>\n",
       "      <th>production_date</th>\n",
       "      <th>sell_id</th>\n",
       "      <th>super_gen</th>\n",
       "      <th>vehicle_configuration</th>\n",
       "      <th>vehicle_transmission</th>\n",
       "      <th>vendor</th>\n",
       "      <th>owner_count</th>\n",
       "      <th>owning_period</th>\n",
       "      <th>car_passport</th>\n",
       "      <th>wheel_drive</th>\n",
       "      <th>wheel_location</th>\n",
       "      <th>condition</th>\n",
       "      <th>custom</th>\n",
       "      <th>price</th>\n",
       "      <th>sample</th>\n",
       "    </tr>\n",
       "  </thead>\n",
       "  <tbody>\n",
       "    <tr>\n",
       "      <th>72465</th>\n",
       "      <td>седан</td>\n",
       "      <td>MERCEDES</td>\n",
       "      <td>синий</td>\n",
       "      <td>{'id': '0'}</td>\n",
       "      <td>Продаю нeплoxой отличный  для своих лет Мeрcед...</td>\n",
       "      <td>1.80</td>\n",
       "      <td>122.00</td>\n",
       "      <td>{'condition': True, 'abs': True}</td>\n",
       "      <td>бензин</td>\n",
       "      <td>//avatars.mds.yandex.net/get-autoru-vos/472196...</td>\n",
       "      <td>499000</td>\n",
       "      <td>1997</td>\n",
       "      <td>{'code': 'C_KLASSE', 'name': 'C-Класс', 'ru_na...</td>\n",
       "      <td>C_KLASSE</td>\n",
       "      <td>180 1.8 MT (122 л.с.)</td>\n",
       "      <td>4</td>\n",
       "      <td>RUB</td>\n",
       "      <td>1998</td>\n",
       "      <td>1102313006</td>\n",
       "      <td>{'id': '21287122', 'name': '180', 'nameplate':...</td>\n",
       "      <td>useless_col</td>\n",
       "      <td>MECHANICAL</td>\n",
       "      <td>EUROPEAN</td>\n",
       "      <td>3</td>\n",
       "      <td>NaN</td>\n",
       "      <td>ORIGINAL</td>\n",
       "      <td>задний</td>\n",
       "      <td>LEFT</td>\n",
       "      <td>True</td>\n",
       "      <td>True</td>\n",
       "      <td>185000.00</td>\n",
       "      <td>1</td>\n",
       "    </tr>\n",
       "    <tr>\n",
       "      <th>14260</th>\n",
       "      <td>внедорожник 5 дв</td>\n",
       "      <td>NISSAN</td>\n",
       "      <td>коричневый</td>\n",
       "      <td>NaN</td>\n",
       "      <td>Автомобиль в отличном состоянии, хорошая компл...</td>\n",
       "      <td>3.50</td>\n",
       "      <td>249.00</td>\n",
       "      <td>{\"cruise-control\":true,\"asr\":true,\"tinted-glas...</td>\n",
       "      <td>бензин</td>\n",
       "      <td>https://avatars.mds.yandex.net/get-autoru-vos/...</td>\n",
       "      <td>136000</td>\n",
       "      <td>2011</td>\n",
       "      <td>{\"code\":\"MURANO\",\"name\":\"Murano\",\"ru_name\":\"Му...</td>\n",
       "      <td>MURANO</td>\n",
       "      <td>3.5 CVT (249 л.с.) 4WD</td>\n",
       "      <td>5</td>\n",
       "      <td>RUB</td>\n",
       "      <td>2012</td>\n",
       "      <td>1100965882</td>\n",
       "      <td>{\"id\":\"20288907\",\"displacement\":3498,\"engine_t...</td>\n",
       "      <td>ALLROAD_5_DOORS VARIATOR 3.5</td>\n",
       "      <td>VARIATOR</td>\n",
       "      <td>JAPANESE</td>\n",
       "      <td>3</td>\n",
       "      <td>1 год и 6 месяцев</td>\n",
       "      <td>DUPLICATE</td>\n",
       "      <td>полный</td>\n",
       "      <td>LEFT</td>\n",
       "      <td>Не требует ремонта</td>\n",
       "      <td>Растаможен</td>\n",
       "      <td>nan</td>\n",
       "      <td>0</td>\n",
       "    </tr>\n",
       "  </tbody>\n",
       "</table>\n",
       "</div>"
      ],
      "text/plain": [
       "              body_type     brand       color complectation_dict  \\\n",
       "72465             седан  MERCEDES       синий        {'id': '0'}   \n",
       "14260  внедорожник 5 дв    NISSAN  коричневый                NaN   \n",
       "\n",
       "                                             description  engine_displacement  \\\n",
       "72465  Продаю нeплoxой отличный  для своих лет Мeрcед...                 1.80   \n",
       "14260  Автомобиль в отличном состоянии, хорошая компл...                 3.50   \n",
       "\n",
       "       engine_power                                     equipment_dict  \\\n",
       "72465        122.00                   {'condition': True, 'abs': True}   \n",
       "14260        249.00  {\"cruise-control\":true,\"asr\":true,\"tinted-glas...   \n",
       "\n",
       "      fuel_type                                              image  mileage  \\\n",
       "72465    бензин  //avatars.mds.yandex.net/get-autoru-vos/472196...   499000   \n",
       "14260    бензин  https://avatars.mds.yandex.net/get-autoru-vos/...   136000   \n",
       "\n",
       "       model_date                                         model_info  \\\n",
       "72465        1997  {'code': 'C_KLASSE', 'name': 'C-Класс', 'ru_na...   \n",
       "14260        2011  {\"code\":\"MURANO\",\"name\":\"Murano\",\"ru_name\":\"Му...   \n",
       "\n",
       "      model_name                    name  doors_count price_currency  \\\n",
       "72465   C_KLASSE   180 1.8 MT (122 л.с.)            4            RUB   \n",
       "14260     MURANO  3.5 CVT (249 л.с.) 4WD            5            RUB   \n",
       "\n",
       "       production_date     sell_id  \\\n",
       "72465             1998  1102313006   \n",
       "14260             2012  1100965882   \n",
       "\n",
       "                                               super_gen  \\\n",
       "72465  {'id': '21287122', 'name': '180', 'nameplate':...   \n",
       "14260  {\"id\":\"20288907\",\"displacement\":3498,\"engine_t...   \n",
       "\n",
       "              vehicle_configuration vehicle_transmission    vendor  \\\n",
       "72465                   useless_col           MECHANICAL  EUROPEAN   \n",
       "14260  ALLROAD_5_DOORS VARIATOR 3.5             VARIATOR  JAPANESE   \n",
       "\n",
       "      owner_count      owning_period car_passport wheel_drive wheel_location  \\\n",
       "72465           3                NaN     ORIGINAL      задний           LEFT   \n",
       "14260           3  1 год и 6 месяцев    DUPLICATE      полный           LEFT   \n",
       "\n",
       "                condition      custom     price  sample  \n",
       "72465                True        True 185000.00       1  \n",
       "14260  Не требует ремонта  Растаможен       nan       0  "
      ]
     },
     "execution_count": 13,
     "metadata": {},
     "output_type": "execute_result"
    }
   ],
   "source": [
    "# import data pre-processed data set\n",
    "df = df_combined.copy()\n",
    "df.sample(2)"
   ]
  },
  {
   "cell_type": "markdown",
   "metadata": {},
   "source": [
    "<a id=\"sec5\"></a>\n",
    "# [5. Feature Engeneering](#sec5)\n",
    "[(INDEX)](#sec1)"
   ]
  },
  {
   "cell_type": "markdown",
   "metadata": {},
   "source": [
    "Get lowercase for all unpreceed columns"
   ]
  },
  {
   "cell_type": "code",
   "execution_count": 14,
   "metadata": {},
   "outputs": [],
   "source": [
    "# take cols with objects\n",
    "object_columns = df.dtypes[df.dtypes.values == object].index.to_list()\n",
    "\n",
    "for col in object_columns:\n",
    "    df[col] = df[col].apply(lambda string: get_low_registr(string))"
   ]
  },
  {
   "cell_type": "markdown",
   "metadata": {},
   "source": [
    "<a id=\"sec5.1\"></a>\n",
    "## [Target](#sec5.1)\n",
    "[(INDEX)](#sec1)"
   ]
  },
  {
   "cell_type": "markdown",
   "metadata": {},
   "source": [
    "As our dataset includes combined train & test stes, and test set contains \n",
    "\n",
    "Nan values in price column, let's extract only train part for a minute and process it "
   ]
  },
  {
   "cell_type": "code",
   "execution_count": 15,
   "metadata": {},
   "outputs": [],
   "source": [
    "# Defining features and target\n",
    "X_train = df[df['sample'] == 1]\n",
    "\n",
    "X_test = df[df['sample'] == 0]"
   ]
  },
  {
   "cell_type": "code",
   "execution_count": 16,
   "metadata": {},
   "outputs": [],
   "source": [
    "# idx_to_drop = list(X_train[X_train['price'] >= 30000000].index)\n",
    "# X_train=X_train.drop(idx_to_drop)"
   ]
  },
  {
   "cell_type": "markdown",
   "metadata": {},
   "source": [
    "NOTE: Dropping outliers has bad impact on MAPE. Comment above cell"
   ]
  },
  {
   "cell_type": "markdown",
   "metadata": {},
   "source": [
    "Scraped data has missing values in price column. Drop these rows:"
   ]
  },
  {
   "cell_type": "code",
   "execution_count": 17,
   "metadata": {},
   "outputs": [
    {
     "data": {
      "text/plain": [
       "624"
      ]
     },
     "execution_count": 17,
     "metadata": {},
     "output_type": "execute_result"
    }
   ],
   "source": [
    "X_train['price'].isna().sum()"
   ]
  },
  {
   "cell_type": "code",
   "execution_count": 18,
   "metadata": {},
   "outputs": [],
   "source": [
    "indexes_to_drop = X_train[(df['price'].isna())].index\n",
    "X_train = X_train.drop(indexes_to_drop)"
   ]
  },
  {
   "cell_type": "markdown",
   "metadata": {},
   "source": [
    "With a reference to EDA, we remember that target is not normally distributed.\n",
    "\n",
    "Let's apply logarithm to it and see what will happen"
   ]
  },
  {
   "cell_type": "code",
   "execution_count": 19,
   "metadata": {},
   "outputs": [],
   "source": [
    "X_train['price']= np.log(X_train['price'])"
   ]
  },
  {
   "cell_type": "code",
   "execution_count": 20,
   "metadata": {},
   "outputs": [
    {
     "data": {
      "text/plain": [
       "Text(0.5, 0, 'Price')"
      ]
     },
     "execution_count": 20,
     "metadata": {},
     "output_type": "execute_result"
    },
    {
     "data": {
      "image/png": "[encoded data removed]",
      "text/plain": [
       "<Figure size 1080x360 with 2 Axes>"
      ]
     },
     "metadata": {},
     "output_type": "display_data"
    }
   ],
   "source": [
    "plt.figure(figsize=(15, 5))\n",
    "plt.subplot(121)\n",
    "sns.distplot(X_train.price.values, bins=50, color=colors[4])\n",
    "plt.title('Price Distribution\\n', fontsize=15)\n",
    "plt.xlabel('Price')\n",
    "plt.ylabel('Quantity (frequency)')\n",
    "\n",
    "plt.subplot(122)\n",
    "sns.boxplot(X_train.price.values, color=colors[1])\n",
    "plt.title('Box Plot for Price\\n', fontsize=15)\n",
    "plt.xlabel('Price')"
   ]
  },
  {
   "cell_type": "markdown",
   "metadata": {},
   "source": [
    "Looks better.\n",
    "Let's again combine datasets for further engineering"
   ]
  },
  {
   "cell_type": "code",
   "execution_count": 21,
   "metadata": {},
   "outputs": [],
   "source": [
    "# combine sets\n",
    "df = X_train.append(X_test, sort=False).reset_index(drop=True)"
   ]
  },
  {
   "cell_type": "markdown",
   "metadata": {},
   "source": [
    "<a id=\"sec5.2\"></a>\n",
    "## [5.2 body_type & Model_name](#sec5.2)\n",
    "[(INDEX)](#sec1)"
   ]
  },
  {
   "cell_type": "markdown",
   "metadata": {},
   "source": [
    "As we have quite a lot of brands in data set, and especially lot's of models,\n",
    "\n",
    "let's generate new feature for each of mentioned model and brand by taking mean price of each model/brand"
   ]
  },
  {
   "cell_type": "code",
   "execution_count": 22,
   "metadata": {},
   "outputs": [],
   "source": [
    "cols_to_process = ['model_name', 'brand', 'body_type']\n",
    "for col in cols_to_process:\n",
    "    col_mean_dict = df.groupby([col])['price'].mean().to_dict()\n",
    "    df[f'priced_{col}'] = df[col].apply(lambda x: col_mean_dict[x])"
   ]
  },
  {
   "cell_type": "markdown",
   "metadata": {},
   "source": [
    "We remember (EDA) that models number mismatch in train and test set.\n",
    "\n",
    "So our new feature definately will have missing vars. Let's fix it by filling it with median"
   ]
  },
  {
   "cell_type": "code",
   "execution_count": 23,
   "metadata": {},
   "outputs": [
    {
     "data": {
      "text/plain": [
       "17"
      ]
     },
     "execution_count": 23,
     "metadata": {},
     "output_type": "execute_result"
    }
   ],
   "source": [
    "df['priced_model_name'].isna().sum()"
   ]
  },
  {
   "cell_type": "code",
   "execution_count": 24,
   "metadata": {},
   "outputs": [],
   "source": [
    "df['priced_model_name'] = df['priced_model_name'].fillna(df['priced_model_name'].median())"
   ]
  },
  {
   "cell_type": "markdown",
   "metadata": {},
   "source": [
    "Reduce quantity of body_types"
   ]
  },
  {
   "cell_type": "code",
   "execution_count": 25,
   "metadata": {},
   "outputs": [],
   "source": [
    "pattern = re.compile('[а-я]*')\n",
    "new_column = []\n",
    "for string in df['body_type']:\n",
    "    new_column.append(pattern.match(str(string))[0])\n",
    "df['body_type'] = new_column"
   ]
  },
  {
   "cell_type": "code",
   "execution_count": 26,
   "metadata": {},
   "outputs": [],
   "source": [
    "# Create list with top body types\n",
    "top_colors = df['body_type'].value_counts()[df['body_type'].value_counts(\n",
    ") > np.percentile((df['body_type'].value_counts().values), 70)].index.tolist()\n",
    "\n",
    "#take all bodies from df to a list\n",
    "all_colors = df['body_type'].value_counts().index\n",
    "\n",
    "# Identify, what to delete\n",
    "colors_to_drop = set(all_colors) - set(top_colors)\n",
    "\n",
    "# Make replacemewnt\n",
    "df.loc[df['body_type'].isin(colors_to_drop), 'body_type'] = 'other'"
   ]
  },
  {
   "cell_type": "code",
   "execution_count": 27,
   "metadata": {
    "scrolled": true
   },
   "outputs": [
    {
     "data": {
      "text/plain": [
       "седан          66649\n",
       "внедорожник    63984\n",
       "хэтчбек        16791\n",
       "other          14990\n",
       "лифтбек         9291\n",
       "универсал       7030\n",
       "Name: body_type, dtype: int64"
      ]
     },
     "execution_count": 27,
     "metadata": {},
     "output_type": "execute_result"
    }
   ],
   "source": [
    "df['body_type'].value_counts()"
   ]
  },
  {
   "cell_type": "markdown",
   "metadata": {},
   "source": [
    "Translate it to english. (for some reason, LightGBM doesn't work with russian column names)"
   ]
  },
  {
   "cell_type": "code",
   "execution_count": 28,
   "metadata": {},
   "outputs": [],
   "source": [
    "body_type_dict = dict({\n",
    "    'седан':'sedan',\n",
    "    'внедорожник':'4wd',\n",
    "    'хэтчбек':'hachtback',\n",
    "    'other':'other',\n",
    "    'лифтбек':'liftback',\n",
    "    'универсал':'universal'\n",
    "})\n",
    "df['body_type'] = df['body_type'].map(body_type_dict)"
   ]
  },
  {
   "cell_type": "code",
   "execution_count": 29,
   "metadata": {},
   "outputs": [
    {
     "data": {
      "text/plain": [
       "array(['sedan', 'universal', 'other', '4wd', 'hachtback', 'liftback'],\n",
       "      dtype=object)"
      ]
     },
     "execution_count": 29,
     "metadata": {},
     "output_type": "execute_result"
    }
   ],
   "source": [
    "df.body_type.unique()"
   ]
  },
  {
   "cell_type": "markdown",
   "metadata": {},
   "source": [
    "Fine, we reduced number of body_types and translated it in to English"
   ]
  },
  {
   "cell_type": "markdown",
   "metadata": {},
   "source": [
    "<a id=\"sec5.2\"></a>\n",
    "## [5.3 Color](#sec5.2)\n",
    "[(INDEX)](#sec1)"
   ]
  },
  {
   "cell_type": "markdown",
   "metadata": {},
   "source": [
    "NOTE: After some experiments, it was decided to do not include this column in to a model. Bad impact on MAPE"
   ]
  },
  {
   "cell_type": "markdown",
   "metadata": {},
   "source": [
    "With a reference to EDA section we generate new feature to show whether the color is popular.\n",
    "\n",
    "Meanwhile we re-orgasnize colors in original column by taking only most common colors"
   ]
  },
  {
   "cell_type": "code",
   "execution_count": 30,
   "metadata": {},
   "outputs": [],
   "source": [
    "# # List of top3 colors (see EDA)\n",
    "# # Has no impact\n",
    "# popular_color = ['чёрный', 'белый', 'серый']\n",
    "# df['popular_color'] = df['color'].apply(\n",
    "#     lambda color: 1 if color in popular_color else 0)"
   ]
  },
  {
   "cell_type": "code",
   "execution_count": 31,
   "metadata": {},
   "outputs": [],
   "source": [
    "# # Create list with top colors\n",
    "# # Has no impact\n",
    "# top_colors = df['color'].value_counts()[df['color'].value_counts(\n",
    "# ) > np.percentile((df['color'].value_counts().values), 80)].index.tolist()\n",
    "\n",
    "# #take all colors from df to a list\n",
    "# all_colors = df['color'].value_counts().index\n",
    "\n",
    "# # Identify, what to delete\n",
    "# colors_to_drop = set(all_colors) - set(top_colors)\n",
    "\n",
    "# # Make replacemewnt\n",
    "# df.loc[df['color'].isin(colors_to_drop), 'color'] = 'other'"
   ]
  },
  {
   "cell_type": "code",
   "execution_count": 32,
   "metadata": {},
   "outputs": [],
   "source": [
    "# df['color'].unique()"
   ]
  },
  {
   "cell_type": "code",
   "execution_count": 33,
   "metadata": {},
   "outputs": [],
   "source": [
    "# color_dict = dict({\n",
    "#     #'синий':'blue',\n",
    "#     'чёрный':'black',\n",
    "#     'серый':'gray',\n",
    "#     'other':'other',\n",
    "#     'белый':'white',\n",
    "#     #'серебристый':'silver'\n",
    "# })\n",
    "# df['color'] = df['color'].map(color_dict)"
   ]
  },
  {
   "cell_type": "markdown",
   "metadata": {},
   "source": [
    "<a id=\"sec5.4\"></a>\n",
    "## [5.4 Model_name](#sec5.4)\n",
    "[(INDEX)](#sec1)"
   ]
  },
  {
   "cell_type": "markdown",
   "metadata": {},
   "source": [
    "NOTE: Already proceed above"
   ]
  },
  {
   "cell_type": "markdown",
   "metadata": {},
   "source": [
    "<a id=\"sec5.5\"></a>\n",
    "## [5.5 Description](#sec5.5)\n",
    "[(INDEX)](#sec1)"
   ]
  },
  {
   "cell_type": "markdown",
   "metadata": {},
   "source": [
    "Let's generate new features:\n",
    "- Sensitivity and polarity of each description in a column;\n",
    "- Extract keywords from description"
   ]
  },
  {
   "cell_type": "code",
   "execution_count": 34,
   "metadata": {},
   "outputs": [],
   "source": [
    "df['description'] = df['description'].fillna('none')\n",
    "df['description'] = df['description'].apply(cleanTxt)\n",
    "df['description'] = df['description'].apply(lambda x : x.lower())"
   ]
  },
  {
   "cell_type": "code",
   "execution_count": 35,
   "metadata": {},
   "outputs": [],
   "source": [
    "# Create a function to get the subjectivity\n",
    "def get_subjectivity(text):\n",
    "    return TextBlob(text).sentiment.subjectivity\n",
    "\n",
    "\n",
    "# Create a function to get the polarity\n",
    "def get_polarity(text):\n",
    "    return TextBlob(text).sentiment.polarity"
   ]
  },
  {
   "cell_type": "code",
   "execution_count": 36,
   "metadata": {},
   "outputs": [],
   "source": [
    "# Create new cols and call the func\n",
    "\n",
    "df['subjectivity'] = df['description'].apply(get_subjectivity)\n",
    "\n",
    "df['polarity'] = df['description'].apply(get_polarity)"
   ]
  },
  {
   "cell_type": "code",
   "execution_count": 37,
   "metadata": {},
   "outputs": [
    {
     "name": "stdout",
     "output_type": "stream",
     "text": [
      "Couldn't find program: 'false'\n"
     ]
    }
   ],
   "source": [
    "%%script false\n",
    "# Note: useless insight. Do not include in the final set\n",
    "# Create a function to compute the negative, neutral and positive analysis\n",
    "def get_analysis(score):\n",
    "    if score < 0:\n",
    "        return 'negative'\n",
    "    elif score == 0:\n",
    "        return 'neutral'\n",
    "    else:\n",
    "        return 'positive'"
   ]
  },
  {
   "cell_type": "code",
   "execution_count": 38,
   "metadata": {},
   "outputs": [
    {
     "name": "stdout",
     "output_type": "stream",
     "text": [
      "Couldn't find program: 'false'\n"
     ]
    }
   ],
   "source": [
    "%%script false\n",
    "# Has no impact\n",
    "df['analysis'] = df['polarity'].apply(get_analysis)"
   ]
  },
  {
   "cell_type": "markdown",
   "metadata": {},
   "source": [
    "With a reference to EDA (Sentiment section), let's check plot of worldcloud and generate new features. \n",
    "\n",
    "If description has specified keyword, the we add 1 to new column"
   ]
  },
  {
   "cell_type": "code",
   "execution_count": 39,
   "metadata": {},
   "outputs": [],
   "source": [
    "df['airbags'] = df['description'].apply(\n",
    "    lambda x: 1 if 'подушки безопасности' in x else 0)\n",
    "df['cruise'] = df['description'].apply(\n",
    "    lambda x: 1 if 'круиз' in x else 0)\n",
    "df['steering'] = df['description'].apply(\n",
    "    lambda x: 1 if 'усилитель руля' in x else 0)\n",
    "df['loan'] = df['description'].apply(\n",
    "    lambda x: 1 if 'кредит' in x else 0)\n",
    "df['anti_block'] = df['description'].apply(\n",
    "    lambda x: 1 if 'антиблокировочная' in x else 0)\n",
    "df['lock'] = df['description'].apply(\n",
    "    lambda x: 1 if 'центральный замок' in x else 0)\n",
    "df['climat'] = df['description'].apply(\n",
    "    lambda x: 1 if 'климат контроль' in x else 0)\n",
    "df['rain_sens'] = df['description'].apply(\n",
    "    lambda x: 1 if 'датчик дождя' in x else 0)"
   ]
  },
  {
   "cell_type": "code",
   "execution_count": 40,
   "metadata": {},
   "outputs": [
    {
     "data": {
      "text/html": [
       "<div>\n",
       "<style scoped>\n",
       "    .dataframe tbody tr th:only-of-type {\n",
       "        vertical-align: middle;\n",
       "    }\n",
       "\n",
       "    .dataframe tbody tr th {\n",
       "        vertical-align: top;\n",
       "    }\n",
       "\n",
       "    .dataframe thead th {\n",
       "        text-align: right;\n",
       "    }\n",
       "</style>\n",
       "<table border=\"1\" class=\"dataframe\">\n",
       "  <thead>\n",
       "    <tr style=\"text-align: right;\">\n",
       "      <th></th>\n",
       "      <th>body_type</th>\n",
       "      <th>brand</th>\n",
       "      <th>color</th>\n",
       "      <th>complectation_dict</th>\n",
       "      <th>description</th>\n",
       "      <th>engine_displacement</th>\n",
       "      <th>engine_power</th>\n",
       "      <th>equipment_dict</th>\n",
       "      <th>fuel_type</th>\n",
       "      <th>image</th>\n",
       "      <th>mileage</th>\n",
       "      <th>model_date</th>\n",
       "      <th>model_info</th>\n",
       "      <th>model_name</th>\n",
       "      <th>name</th>\n",
       "      <th>doors_count</th>\n",
       "      <th>price_currency</th>\n",
       "      <th>production_date</th>\n",
       "      <th>sell_id</th>\n",
       "      <th>super_gen</th>\n",
       "      <th>vehicle_configuration</th>\n",
       "      <th>vehicle_transmission</th>\n",
       "      <th>vendor</th>\n",
       "      <th>owner_count</th>\n",
       "      <th>owning_period</th>\n",
       "      <th>car_passport</th>\n",
       "      <th>wheel_drive</th>\n",
       "      <th>wheel_location</th>\n",
       "      <th>condition</th>\n",
       "      <th>custom</th>\n",
       "      <th>price</th>\n",
       "      <th>sample</th>\n",
       "      <th>priced_model_name</th>\n",
       "      <th>priced_brand</th>\n",
       "      <th>priced_body_type</th>\n",
       "      <th>subjectivity</th>\n",
       "      <th>polarity</th>\n",
       "      <th>airbags</th>\n",
       "      <th>cruise</th>\n",
       "      <th>steering</th>\n",
       "      <th>loan</th>\n",
       "      <th>anti_block</th>\n",
       "      <th>lock</th>\n",
       "      <th>climat</th>\n",
       "      <th>rain_sens</th>\n",
       "    </tr>\n",
       "  </thead>\n",
       "  <tbody>\n",
       "    <tr>\n",
       "      <th>119302</th>\n",
       "      <td>hachtback</td>\n",
       "      <td>kia</td>\n",
       "      <td>белый</td>\n",
       "      <td>{'id': '0'}</td>\n",
       "      <td>достоинства автомобиля:- оригинальный птс;- те...</td>\n",
       "      <td>1.60</td>\n",
       "      <td>123.00</td>\n",
       "      <td>{'condition': true, 'front-seats-heat': true, ...</td>\n",
       "      <td>бензин</td>\n",
       "      <td>//avatars.mds.yandex.net/get-autoru-vos/393961...</td>\n",
       "      <td>92000</td>\n",
       "      <td>2015</td>\n",
       "      <td>{'code': 'rio', 'name': 'rio', 'ru_name': 'рио...</td>\n",
       "      <td>rio</td>\n",
       "      <td>1.6 mt (123 л.с.)</td>\n",
       "      <td>5</td>\n",
       "      <td>rub</td>\n",
       "      <td>2017</td>\n",
       "      <td>1102782334</td>\n",
       "      <td>{'id': '20550767', 'displacement': 1591, 'engi...</td>\n",
       "      <td>useless_col</td>\n",
       "      <td>mechanical</td>\n",
       "      <td>korean</td>\n",
       "      <td>1</td>\n",
       "      <td>None</td>\n",
       "      <td>original</td>\n",
       "      <td>передний</td>\n",
       "      <td>left</td>\n",
       "      <td>None</td>\n",
       "      <td>None</td>\n",
       "      <td>13.46</td>\n",
       "      <td>1</td>\n",
       "      <td>13.42</td>\n",
       "      <td>13.57</td>\n",
       "      <td>12.78</td>\n",
       "      <td>0.00</td>\n",
       "      <td>0.00</td>\n",
       "      <td>0</td>\n",
       "      <td>0</td>\n",
       "      <td>0</td>\n",
       "      <td>1</td>\n",
       "      <td>0</td>\n",
       "      <td>0</td>\n",
       "      <td>0</td>\n",
       "      <td>0</td>\n",
       "    </tr>\n",
       "    <tr>\n",
       "      <th>113883</th>\n",
       "      <td>sedan</td>\n",
       "      <td>kia</td>\n",
       "      <td>зелёный</td>\n",
       "      <td>{'id': '0'}</td>\n",
       "      <td>машина на ходу, в хорошем состоянии, вложений ...</td>\n",
       "      <td>1.50</td>\n",
       "      <td>88.00</td>\n",
       "      <td>{'front-centre-armrest': true, 'condition': tr...</td>\n",
       "      <td>бензин</td>\n",
       "      <td>//avatars.mds.yandex.net/get-autoru-vos/433765...</td>\n",
       "      <td>208000</td>\n",
       "      <td>1997</td>\n",
       "      <td>{'code': 'sephia', 'name': 'sephia', 'ru_name'...</td>\n",
       "      <td>sephia</td>\n",
       "      <td>1.5 at (88 л.с.)</td>\n",
       "      <td>4</td>\n",
       "      <td>rub</td>\n",
       "      <td>2000</td>\n",
       "      <td>1103055299</td>\n",
       "      <td>{'id': '20393387', 'displacement': 1498, 'engi...</td>\n",
       "      <td>useless_col</td>\n",
       "      <td>automatic</td>\n",
       "      <td>korean</td>\n",
       "      <td>3</td>\n",
       "      <td>{'year': 2019, 'month': 9}</td>\n",
       "      <td>original</td>\n",
       "      <td>передний</td>\n",
       "      <td>left</td>\n",
       "      <td>None</td>\n",
       "      <td>None</td>\n",
       "      <td>11.23</td>\n",
       "      <td>1</td>\n",
       "      <td>11.23</td>\n",
       "      <td>13.57</td>\n",
       "      <td>13.10</td>\n",
       "      <td>0.00</td>\n",
       "      <td>0.00</td>\n",
       "      <td>0</td>\n",
       "      <td>0</td>\n",
       "      <td>0</td>\n",
       "      <td>0</td>\n",
       "      <td>0</td>\n",
       "      <td>0</td>\n",
       "      <td>0</td>\n",
       "      <td>0</td>\n",
       "    </tr>\n",
       "    <tr>\n",
       "      <th>75306</th>\n",
       "      <td>sedan</td>\n",
       "      <td>mitsubishi</td>\n",
       "      <td>чёрный</td>\n",
       "      <td>{'id': '0'}</td>\n",
       "      <td>mitsubishi lancer evolution 8 gsr- американец....</td>\n",
       "      <td>2.00</td>\n",
       "      <td>280.00</td>\n",
       "      <td>{'feedback-alarm': true, 'sport-seats': true, ...</td>\n",
       "      <td>бензин</td>\n",
       "      <td>//avatars.mds.yandex.net/get-autoru-vos/472196...</td>\n",
       "      <td>108000</td>\n",
       "      <td>2003</td>\n",
       "      <td>{'code': 'lancer_evolution', 'name': 'lancer e...</td>\n",
       "      <td>lancer_evolution</td>\n",
       "      <td>5-speed 2.0 mt (280 л.с.) 4wd</td>\n",
       "      <td>4</td>\n",
       "      <td>rub</td>\n",
       "      <td>2003</td>\n",
       "      <td>1103528542</td>\n",
       "      <td>{'id': '4601972', 'nameplate': '5-speed', 'dis...</td>\n",
       "      <td>useless_col</td>\n",
       "      <td>mechanical</td>\n",
       "      <td>japanese</td>\n",
       "      <td>3</td>\n",
       "      <td>{'year': 2017, 'month': 11}</td>\n",
       "      <td>original</td>\n",
       "      <td>полный</td>\n",
       "      <td>left</td>\n",
       "      <td>None</td>\n",
       "      <td>None</td>\n",
       "      <td>14.35</td>\n",
       "      <td>1</td>\n",
       "      <td>14.19</td>\n",
       "      <td>13.21</td>\n",
       "      <td>13.10</td>\n",
       "      <td>0.00</td>\n",
       "      <td>0.00</td>\n",
       "      <td>0</td>\n",
       "      <td>0</td>\n",
       "      <td>0</td>\n",
       "      <td>0</td>\n",
       "      <td>0</td>\n",
       "      <td>0</td>\n",
       "      <td>1</td>\n",
       "      <td>0</td>\n",
       "    </tr>\n",
       "    <tr>\n",
       "      <th>38614</th>\n",
       "      <td>other</td>\n",
       "      <td>mercedes</td>\n",
       "      <td>чёрный</td>\n",
       "      <td>{'id': '0'}</td>\n",
       "      <td>для любителей купе, машина на ходу, сел и поех...</td>\n",
       "      <td>2.20</td>\n",
       "      <td>150.00</td>\n",
       "      <td>{'front-centre-armrest': true, 'abs': true, 'w...</td>\n",
       "      <td>бензин</td>\n",
       "      <td>//avatars.mds.yandex.net/get-autoru-vos/219193...</td>\n",
       "      <td>158245</td>\n",
       "      <td>1984</td>\n",
       "      <td>{'code': 'w124', 'name': 'w124', 'ru_name': 'w...</td>\n",
       "      <td>w124</td>\n",
       "      <td>220 2.2 at (150 л.с.)</td>\n",
       "      <td>2</td>\n",
       "      <td>rub</td>\n",
       "      <td>1992</td>\n",
       "      <td>1100614726</td>\n",
       "      <td>{'id': '20394801', 'name': '220', 'nameplate':...</td>\n",
       "      <td>useless_col</td>\n",
       "      <td>automatic</td>\n",
       "      <td>european</td>\n",
       "      <td>1</td>\n",
       "      <td>{'year': 2008, 'month': 10}</td>\n",
       "      <td>duplicate</td>\n",
       "      <td>задний</td>\n",
       "      <td>left</td>\n",
       "      <td>None</td>\n",
       "      <td>None</td>\n",
       "      <td>12.72</td>\n",
       "      <td>1</td>\n",
       "      <td>12.02</td>\n",
       "      <td>14.37</td>\n",
       "      <td>13.84</td>\n",
       "      <td>0.00</td>\n",
       "      <td>0.00</td>\n",
       "      <td>0</td>\n",
       "      <td>0</td>\n",
       "      <td>0</td>\n",
       "      <td>0</td>\n",
       "      <td>0</td>\n",
       "      <td>1</td>\n",
       "      <td>0</td>\n",
       "      <td>0</td>\n",
       "    </tr>\n",
       "  </tbody>\n",
       "</table>\n",
       "</div>"
      ],
      "text/plain": [
       "        body_type       brand    color complectation_dict  \\\n",
       "119302  hachtback         kia    белый        {'id': '0'}   \n",
       "113883      sedan         kia  зелёный        {'id': '0'}   \n",
       "75306       sedan  mitsubishi   чёрный        {'id': '0'}   \n",
       "38614       other    mercedes   чёрный        {'id': '0'}   \n",
       "\n",
       "                                              description  \\\n",
       "119302  достоинства автомобиля:- оригинальный птс;- те...   \n",
       "113883  машина на ходу, в хорошем состоянии, вложений ...   \n",
       "75306   mitsubishi lancer evolution 8 gsr- американец....   \n",
       "38614   для любителей купе, машина на ходу, сел и поех...   \n",
       "\n",
       "        engine_displacement  engine_power  \\\n",
       "119302                 1.60        123.00   \n",
       "113883                 1.50         88.00   \n",
       "75306                  2.00        280.00   \n",
       "38614                  2.20        150.00   \n",
       "\n",
       "                                           equipment_dict fuel_type  \\\n",
       "119302  {'condition': true, 'front-seats-heat': true, ...    бензин   \n",
       "113883  {'front-centre-armrest': true, 'condition': tr...    бензин   \n",
       "75306   {'feedback-alarm': true, 'sport-seats': true, ...    бензин   \n",
       "38614   {'front-centre-armrest': true, 'abs': true, 'w...    бензин   \n",
       "\n",
       "                                                    image  mileage  \\\n",
       "119302  //avatars.mds.yandex.net/get-autoru-vos/393961...    92000   \n",
       "113883  //avatars.mds.yandex.net/get-autoru-vos/433765...   208000   \n",
       "75306   //avatars.mds.yandex.net/get-autoru-vos/472196...   108000   \n",
       "38614   //avatars.mds.yandex.net/get-autoru-vos/219193...   158245   \n",
       "\n",
       "        model_date                                         model_info  \\\n",
       "119302        2015  {'code': 'rio', 'name': 'rio', 'ru_name': 'рио...   \n",
       "113883        1997  {'code': 'sephia', 'name': 'sephia', 'ru_name'...   \n",
       "75306         2003  {'code': 'lancer_evolution', 'name': 'lancer e...   \n",
       "38614         1984  {'code': 'w124', 'name': 'w124', 'ru_name': 'w...   \n",
       "\n",
       "              model_name                           name  doors_count  \\\n",
       "119302               rio              1.6 mt (123 л.с.)            5   \n",
       "113883            sephia               1.5 at (88 л.с.)            4   \n",
       "75306   lancer_evolution  5-speed 2.0 mt (280 л.с.) 4wd            4   \n",
       "38614               w124          220 2.2 at (150 л.с.)            2   \n",
       "\n",
       "       price_currency  production_date     sell_id  \\\n",
       "119302            rub             2017  1102782334   \n",
       "113883            rub             2000  1103055299   \n",
       "75306             rub             2003  1103528542   \n",
       "38614             rub             1992  1100614726   \n",
       "\n",
       "                                                super_gen  \\\n",
       "119302  {'id': '20550767', 'displacement': 1591, 'engi...   \n",
       "113883  {'id': '20393387', 'displacement': 1498, 'engi...   \n",
       "75306   {'id': '4601972', 'nameplate': '5-speed', 'dis...   \n",
       "38614   {'id': '20394801', 'name': '220', 'nameplate':...   \n",
       "\n",
       "       vehicle_configuration vehicle_transmission    vendor owner_count  \\\n",
       "119302           useless_col           mechanical    korean           1   \n",
       "113883           useless_col            automatic    korean           3   \n",
       "75306            useless_col           mechanical  japanese           3   \n",
       "38614            useless_col            automatic  european           1   \n",
       "\n",
       "                      owning_period car_passport wheel_drive wheel_location  \\\n",
       "119302                         None     original    передний           left   \n",
       "113883   {'year': 2019, 'month': 9}     original    передний           left   \n",
       "75306   {'year': 2017, 'month': 11}     original      полный           left   \n",
       "38614   {'year': 2008, 'month': 10}    duplicate      задний           left   \n",
       "\n",
       "       condition custom  price  sample  priced_model_name  priced_brand  \\\n",
       "119302      None   None  13.46       1              13.42         13.57   \n",
       "113883      None   None  11.23       1              11.23         13.57   \n",
       "75306       None   None  14.35       1              14.19         13.21   \n",
       "38614       None   None  12.72       1              12.02         14.37   \n",
       "\n",
       "        priced_body_type  subjectivity  polarity  airbags  cruise  steering  \\\n",
       "119302             12.78          0.00      0.00        0       0         0   \n",
       "113883             13.10          0.00      0.00        0       0         0   \n",
       "75306              13.10          0.00      0.00        0       0         0   \n",
       "38614              13.84          0.00      0.00        0       0         0   \n",
       "\n",
       "        loan  anti_block  lock  climat  rain_sens  \n",
       "119302     1           0     0       0          0  \n",
       "113883     0           0     0       0          0  \n",
       "75306      0           0     0       1          0  \n",
       "38614      0           0     1       0          0  "
      ]
     },
     "execution_count": 40,
     "metadata": {},
     "output_type": "execute_result"
    }
   ],
   "source": [
    "# show data\n",
    "df.sample(4)"
   ]
  },
  {
   "cell_type": "markdown",
   "metadata": {},
   "source": [
    "<a id=\"sec5.6\"></a>\n",
    "## [5.6 Equipment Dict](#sec5.6)\n",
    "[(INDEX)](#sec1)"
   ]
  },
  {
   "cell_type": "markdown",
   "metadata": {},
   "source": [
    "Let's exctrat the number of equipments listed in the subjected column"
   ]
  },
  {
   "cell_type": "code",
   "execution_count": 41,
   "metadata": {},
   "outputs": [
    {
     "data": {
      "text/plain": [
       "9996"
      ]
     },
     "execution_count": 41,
     "metadata": {},
     "output_type": "execute_result"
    }
   ],
   "source": [
    "df['equipment_dict'].isna().sum()"
   ]
  },
  {
   "cell_type": "markdown",
   "metadata": {},
   "source": [
    "First of all, fill up missing values in the column"
   ]
  },
  {
   "cell_type": "code",
   "execution_count": 42,
   "metadata": {},
   "outputs": [],
   "source": [
    "def fill_empty_equipment(model, dict_):\n",
    "    if dict_=={}:\n",
    "        return tipical_equipment_dict[model]\n",
    "    return dict_"
   ]
  },
  {
   "cell_type": "code",
   "execution_count": 43,
   "metadata": {},
   "outputs": [],
   "source": [
    "def fill_na_equip_lenght(model_name,value):\n",
    "    if value==0:\n",
    "        return int(mean_equip_lenhgt_dict[model_name])\n",
    "    return value"
   ]
  },
  {
   "cell_type": "code",
   "execution_count": 44,
   "metadata": {},
   "outputs": [],
   "source": [
    "df['equipment_dict'] = df['equipment_dict'].str.replace('\\\"', '\\'').str.replace(\n",
    "    ' ', '').str.replace(':t', ':T')  #  General view\n",
    "df['equipment_dict'] = df['equipment_dict'].apply(lambda string: {} if pd.isna(\n",
    "    string) else ast.literal_eval(string))  # transform string to dicts"
   ]
  },
  {
   "cell_type": "code",
   "execution_count": 45,
   "metadata": {},
   "outputs": [],
   "source": [
    "# The idea is to create a dictionary: the most complete set of\n",
    "# cars, then fill in the gaps with this dictionary\n",
    "model_names = df['model_name'].unique()\n",
    "tipical_equipment_dict = dict.fromkeys(model_names)\n",
    "for model in model_names[:]:\n",
    "    max_len = 0\n",
    "    for dict_ in df[df['model_name'] ==\n",
    "                    model]['equipment_dict'].value_counts().index:\n",
    "        tipical_equipment_dict.update({model: dict_})\n",
    "        if len(dict_) > max_len:\n",
    "            tipical_equipment_dict.update({model: dict_})"
   ]
  },
  {
   "cell_type": "code",
   "execution_count": 46,
   "metadata": {},
   "outputs": [],
   "source": [
    "df['equipment_dict'] = df[['model_name', 'equipment_dict']].apply(\n",
    "    lambda x: fill_empty_equipment(*x), axis=1)"
   ]
  },
  {
   "cell_type": "code",
   "execution_count": 47,
   "metadata": {},
   "outputs": [],
   "source": [
    "df['equipment_length'] = df['equipment_dict'].apply(lambda dict_: len(dict_))\n",
    "\n",
    "mean_equip_lenhgt_dict = df.groupby('model_name')['equipment_length'].mean(\n",
    ").round().to_dict()  # Словарь с среднимим значениями длин словарей экипировки\n",
    "\n",
    "df['equipment_length'] = df[['model_name', 'equipment_length'\n",
    "                             ]].apply(lambda x: fill_na_equip_lenght(*x),\n",
    "                                      axis=1)  # filling"
   ]
  },
  {
   "cell_type": "code",
   "execution_count": 48,
   "metadata": {},
   "outputs": [
    {
     "data": {
      "text/plain": [
       "0"
      ]
     },
     "execution_count": 48,
     "metadata": {},
     "output_type": "execute_result"
    }
   ],
   "source": [
    "# Check if dictionaries contain False \n",
    "count_false=0\n",
    "for dict_ in df['equipment_dict']:\n",
    "    for i in dict_:\n",
    "        if dict_[i]==False:\n",
    "            count_false+=1\n",
    "count_false"
   ]
  },
  {
   "cell_type": "markdown",
   "metadata": {},
   "source": [
    "The length of the equipment_dict characterizes the number of functions in the auto "
   ]
  },
  {
   "cell_type": "code",
   "execution_count": 49,
   "metadata": {},
   "outputs": [],
   "source": [
    "# df[df['equipment_dict']=={}]['model_name'].unique()"
   ]
  },
  {
   "cell_type": "code",
   "execution_count": 50,
   "metadata": {},
   "outputs": [],
   "source": [
    "# # Создадим множество всех атрибутов в авто\n",
    "# attributes = set()\n",
    "# for dict_ in df['equipment_dict']:    \n",
    "#     attributes.update(dict_.keys())"
   ]
  },
  {
   "cell_type": "code",
   "execution_count": 51,
   "metadata": {},
   "outputs": [],
   "source": [
    "# dv = DictVectorizer()\n",
    "# equipment_features = dv.fit_transform(\n",
    "#     df.query('sample==1')['equipment_dict']).toarray()\n",
    "# equipment_df = pd.DataFrame(equipment_features, columns=dv.get_feature_names())\n",
    "# equipment_attributes = equipment_df.columns.values"
   ]
  },
  {
   "cell_type": "code",
   "execution_count": 52,
   "metadata": {},
   "outputs": [],
   "source": [
    "# f_scores, p_values = f_regression(equipment_df, df.query('sample==1')['price'])"
   ]
  },
  {
   "cell_type": "code",
   "execution_count": 53,
   "metadata": {},
   "outputs": [],
   "source": [
    "# # Visualizing 50 best equipment features\n",
    "# plt.figure(figsize=(20, 10))\n",
    "# f_scores = pd.Series(f_scores, equipment_attributes).sort_values(ascending=False)\n",
    "# best_attributes = f_scores[:50].index\n",
    "# f_scores[:50].plot(kind='barh', color='green')\n",
    "# plt.xlabel('F-Score')\n",
    "# plt.title('50 best equipment features', size=16);"
   ]
  },
  {
   "cell_type": "code",
   "execution_count": 54,
   "metadata": {},
   "outputs": [],
   "source": [
    "# 25% самых важных атрибутов в авто\n",
    "# f_scores[f_scores.values > f_scores.values.max()*0.75]"
   ]
  },
  {
   "cell_type": "code",
   "execution_count": 55,
   "metadata": {},
   "outputs": [],
   "source": [
    "# most_important_attributes = set(f_scores[f_scores.values > f_scores.values.max(\n",
    "# )*0.75].index)  # Множество самых важных атрибутов"
   ]
  },
  {
   "cell_type": "code",
   "execution_count": 56,
   "metadata": {},
   "outputs": [],
   "source": [
    "# def has_important_equipment(dict_):\n",
    "#     # Проверка на принадлежность важнейших атрибутов атрибутам авто\n",
    "#     if most_important_attributes.issubset(set(dict_.keys())):\n",
    "#         return 1\n",
    "#     return 0"
   ]
  },
  {
   "cell_type": "code",
   "execution_count": 57,
   "metadata": {},
   "outputs": [],
   "source": [
    "# df['has_important_attrs'] = df['equipment_dict'].apply(\n",
    "#     lambda x: has_important_equipment(x))"
   ]
  },
  {
   "cell_type": "code",
   "execution_count": 58,
   "metadata": {},
   "outputs": [],
   "source": [
    "# df['has_important_attrs'].value_counts()"
   ]
  },
  {
   "cell_type": "markdown",
   "metadata": {},
   "source": [
    "<a id=\"sec5.7\"></a>\n",
    "## [5.7 Fuel Type](#sec5.7)\n",
    "[(INDEX)](#sec1)"
   ]
  },
  {
   "cell_type": "code",
   "execution_count": 59,
   "metadata": {},
   "outputs": [],
   "source": [
    "# lets strip fuel type\n",
    "df['fuel_type'] = df.fuel_type.apply(lambda fuel: str(fuel).strip())"
   ]
  },
  {
   "cell_type": "code",
   "execution_count": 60,
   "metadata": {},
   "outputs": [],
   "source": [
    "fuel_type_dict = dict({\n",
    "    'бензин':'benzin',\n",
    "    'дизель':'dizel',\n",
    "    'гибрид':'hybrid',\n",
    "    'электро':'electro',\n",
    "    'газ':'gas'\n",
    "})\n",
    "\n",
    "df['fuel_type'] = df['fuel_type'].map(fuel_type_dict)"
   ]
  },
  {
   "cell_type": "markdown",
   "metadata": {},
   "source": [
    "<a id=\"sec5.8\"></a>\n",
    "## [5.8 Mileage](#sec5.8)\n",
    "[(INDEX)](#sec1)"
   ]
  },
  {
   "cell_type": "markdown",
   "metadata": {},
   "source": [
    "With  a reference to EDA section (plot numerical distribution), outcomes, we remember, that some cars has milage = 0 which is incorrect or unlogical. Fix it here"
   ]
  },
  {
   "cell_type": "markdown",
   "metadata": {},
   "source": [
    "Save information where mileage was equal to zero \n",
    "\n",
    "NOTE: Has no impact on MAPE"
   ]
  },
  {
   "cell_type": "code",
   "execution_count": 61,
   "metadata": {},
   "outputs": [],
   "source": [
    "#df['mileage_zero'] = df['mileage'].apply(lambda x: 1 if x == 0 else 0)"
   ]
  },
  {
   "cell_type": "markdown",
   "metadata": {},
   "source": [
    "<a id=\"sec5.9\"></a>\n",
    "## [5.9 Engine Displacement](#sec5.9)\n",
    "[(INDEX)](#sec1)"
   ]
  },
  {
   "cell_type": "markdown",
   "metadata": {},
   "source": [
    "We know, that there is no engine displacement for the electical cars. We also know there is missing values in this colums.\n",
    "\n",
    "Let's fix it. If car is electric - diplacement shall be 0."
   ]
  },
  {
   "cell_type": "code",
   "execution_count": 62,
   "metadata": {},
   "outputs": [],
   "source": [
    "df['engine_displacement'] = df[['engine_displacement','fuel_type']].apply(\n",
    "    lambda x: get_electro_displacement(*x), axis=1)"
   ]
  },
  {
   "cell_type": "markdown",
   "metadata": {},
   "source": [
    "It was observed that BMW model i3 has missing values in engine displacement. \n",
    "\n",
    "Let's say if it is a hybrid - then eng_displ - 0.7. If not - then 0"
   ]
  },
  {
   "cell_type": "code",
   "execution_count": 63,
   "metadata": {},
   "outputs": [],
   "source": [
    "df['engine_displacement'] = df[[\n",
    "    'engine_displacement', 'fuel_type', 'model_name'\n",
    "]].apply(lambda x: get_i3_displacement(*x), axis=1)"
   ]
  },
  {
   "cell_type": "markdown",
   "metadata": {},
   "source": [
    "<a id=\"sec5.10\"></a>\n",
    "## [5.10 Engine Power](#sec5.10)\n",
    "[(INDEX)](#sec1)"
   ]
  },
  {
   "cell_type": "markdown",
   "metadata": {},
   "source": [
    "There is a special low in Russian Federation that devide cars by tax categories. \n",
    "\n",
    "More power in engine, higer grade of tax. It may impact on a prediction. Let's break our cars down by such categories"
   ]
  },
  {
   "cell_type": "code",
   "execution_count": 64,
   "metadata": {},
   "outputs": [],
   "source": [
    "# No impact on MAPE\n",
    "# df['tax_rate'] = df['engine_power'].apply(\n",
    "#     lambda engine_power: get_tax_category(engine_power)).astype('category')"
   ]
  },
  {
   "cell_type": "code",
   "execution_count": 65,
   "metadata": {},
   "outputs": [],
   "source": [
    "# Fill up for 3 missing cars (civic)\n",
    "df['engine_power'] = df['engine_power'].fillna(100) # CIVIC"
   ]
  },
  {
   "cell_type": "code",
   "execution_count": 66,
   "metadata": {},
   "outputs": [],
   "source": [
    "# Break engine power by intervals\n",
    "bins = [10, 35, 100, 125, 150, 175, 200, 225, 250, 801]\n",
    "# Ctreate tax categories\n",
    "numbers = ['5000', '12', '25', '35', '45', '50', '65', '75', '150']"
   ]
  },
  {
   "cell_type": "code",
   "execution_count": 67,
   "metadata": {},
   "outputs": [],
   "source": [
    "# Make a column where refer each car depended by power to a tax cat\n",
    "df['tax_base'] = pd.cut(df['engine_power'], bins, labels=numbers)\n",
    "df['tax_base'] = df['tax_base'].values.astype('int64')"
   ]
  },
  {
   "cell_type": "code",
   "execution_count": 68,
   "metadata": {},
   "outputs": [],
   "source": [
    "# generate tax fee col\n",
    "df['tax'] = df['engine_power'] * df['tax_base']"
   ]
  },
  {
   "cell_type": "markdown",
   "metadata": {},
   "source": [
    "<a id=\"sec5.11\"></a>\n",
    "## [5.11 Super Gen](#sec5.11)\n",
    "[(INDEX)](#sec1)"
   ]
  },
  {
   "cell_type": "markdown",
   "metadata": {},
   "source": [
    "Let's extract some information like an acceleration from supergen column.\n",
    "\n",
    "Generate new feature Acceleration"
   ]
  },
  {
   "cell_type": "code",
   "execution_count": 69,
   "metadata": {},
   "outputs": [],
   "source": [
    "# Before we do, fill up empty dictionaries with 'Nan'\n",
    "df['super_gen'] = df['super_gen'].fillna('NaN')\n",
    "df['super_gen'] = df['super_gen'].apply(cleanTxt)\n",
    "# Extract fuel rate,acceleration and generate new feature\n",
    "df['acceleration'] = df['super_gen'].apply(lambda string:get_acceleration(string))\n",
    "df['fuel_rate'] = df['super_gen'].apply(lambda string:get_fuel_rate(string))"
   ]
  },
  {
   "cell_type": "code",
   "execution_count": 70,
   "metadata": {},
   "outputs": [
    {
     "data": {
      "text/plain": [
       "11243"
      ]
     },
     "execution_count": 70,
     "metadata": {},
     "output_type": "execute_result"
    }
   ],
   "source": [
    "# missing vars in a new feature\n",
    "df['acceleration'].isna().sum()"
   ]
  },
  {
   "cell_type": "code",
   "execution_count": 71,
   "metadata": {},
   "outputs": [
    {
     "data": {
      "text/plain": [
       "21408"
      ]
     },
     "execution_count": 71,
     "metadata": {},
     "output_type": "execute_result"
    }
   ],
   "source": [
    "df['fuel_rate'].isna().sum()"
   ]
  },
  {
   "cell_type": "markdown",
   "metadata": {},
   "source": [
    "Let's fill missing values by randomly choosen value from most common in particular colums.\n",
    "\n",
    "For a company, add car pasport here and owner count"
   ]
  },
  {
   "cell_type": "code",
   "execution_count": 72,
   "metadata": {},
   "outputs": [],
   "source": [
    "cols_to_fill = ['acceleration', 'fuel_rate', 'car_passport','owner_count']\n",
    "for col in cols_to_fill:\n",
    "    missing_vars(df,col)"
   ]
  },
  {
   "cell_type": "markdown",
   "metadata": {},
   "source": [
    "<a id=\"sec5.12\"></a>\n",
    "## [5.12 Wheel Drive](#sec5.12)\n",
    "[(INDEX)](#sec1)"
   ]
  },
  {
   "cell_type": "code",
   "execution_count": 73,
   "metadata": {},
   "outputs": [],
   "source": [
    "# lets strip fuel type\n",
    "df['wheel_drive'] = df.wheel_drive.apply(lambda drive: str(drive).strip())"
   ]
  },
  {
   "cell_type": "code",
   "execution_count": 74,
   "metadata": {},
   "outputs": [],
   "source": [
    "drive_type_dict = dict({\n",
    "    'передний': 'front',\n",
    "    'полный': 'full',\n",
    "    'задний': 'rear',\n",
    "})\n",
    "\n",
    "df['wheel_drive'] = df['wheel_drive'].map(drive_type_dict)"
   ]
  },
  {
   "cell_type": "code",
   "execution_count": 75,
   "metadata": {},
   "outputs": [
    {
     "data": {
      "text/html": [
       "<div>\n",
       "<style scoped>\n",
       "    .dataframe tbody tr th:only-of-type {\n",
       "        vertical-align: middle;\n",
       "    }\n",
       "\n",
       "    .dataframe tbody tr th {\n",
       "        vertical-align: top;\n",
       "    }\n",
       "\n",
       "    .dataframe thead th {\n",
       "        text-align: right;\n",
       "    }\n",
       "</style>\n",
       "<table border=\"1\" class=\"dataframe\">\n",
       "  <thead>\n",
       "    <tr style=\"text-align: right;\">\n",
       "      <th></th>\n",
       "      <th>body_type</th>\n",
       "      <th>brand</th>\n",
       "      <th>color</th>\n",
       "      <th>complectation_dict</th>\n",
       "      <th>description</th>\n",
       "      <th>engine_displacement</th>\n",
       "      <th>engine_power</th>\n",
       "      <th>equipment_dict</th>\n",
       "      <th>fuel_type</th>\n",
       "      <th>image</th>\n",
       "      <th>mileage</th>\n",
       "      <th>model_date</th>\n",
       "      <th>model_info</th>\n",
       "      <th>model_name</th>\n",
       "      <th>name</th>\n",
       "      <th>doors_count</th>\n",
       "      <th>price_currency</th>\n",
       "      <th>production_date</th>\n",
       "      <th>sell_id</th>\n",
       "      <th>super_gen</th>\n",
       "      <th>vehicle_configuration</th>\n",
       "      <th>vehicle_transmission</th>\n",
       "      <th>vendor</th>\n",
       "      <th>owner_count</th>\n",
       "      <th>owning_period</th>\n",
       "      <th>car_passport</th>\n",
       "      <th>wheel_drive</th>\n",
       "      <th>wheel_location</th>\n",
       "      <th>condition</th>\n",
       "      <th>custom</th>\n",
       "      <th>price</th>\n",
       "      <th>sample</th>\n",
       "      <th>priced_model_name</th>\n",
       "      <th>priced_brand</th>\n",
       "      <th>priced_body_type</th>\n",
       "      <th>subjectivity</th>\n",
       "      <th>polarity</th>\n",
       "      <th>airbags</th>\n",
       "      <th>cruise</th>\n",
       "      <th>steering</th>\n",
       "      <th>loan</th>\n",
       "      <th>anti_block</th>\n",
       "      <th>lock</th>\n",
       "      <th>climat</th>\n",
       "      <th>rain_sens</th>\n",
       "      <th>equipment_length</th>\n",
       "      <th>tax_base</th>\n",
       "      <th>tax</th>\n",
       "      <th>acceleration</th>\n",
       "      <th>fuel_rate</th>\n",
       "    </tr>\n",
       "  </thead>\n",
       "  <tbody>\n",
       "    <tr>\n",
       "      <th>56730</th>\n",
       "      <td>other</td>\n",
       "      <td>toyota</td>\n",
       "      <td>серебристый</td>\n",
       "      <td>{'id': '0', 'name': ''}</td>\n",
       "      <td>авто в хорошем тех. состоянии..гаражное хранен...</td>\n",
       "      <td>nan</td>\n",
       "      <td>100.00</td>\n",
       "      <td>{'engine-proof': True, 'cruise-control': True,...</td>\n",
       "      <td>NaN</td>\n",
       "      <td>//avatars.mds.yandex.net/get-autoru-vos/202337...</td>\n",
       "      <td>180000</td>\n",
       "      <td>2013</td>\n",
       "      <td>{'code': 'noah', 'name': 'noah', 'ru_name': 'н...</td>\n",
       "      <td>noah</td>\n",
       "      <td>None</td>\n",
       "      <td>4</td>\n",
       "      <td>rub</td>\n",
       "      <td>2008</td>\n",
       "      <td>1092703248</td>\n",
       "      <td>nan</td>\n",
       "      <td>useless_col</td>\n",
       "      <td>None</td>\n",
       "      <td>japanese</td>\n",
       "      <td>3</td>\n",
       "      <td>None</td>\n",
       "      <td>original</td>\n",
       "      <td>NaN</td>\n",
       "      <td>right</td>\n",
       "      <td>None</td>\n",
       "      <td>None</td>\n",
       "      <td>13.44</td>\n",
       "      <td>1</td>\n",
       "      <td>13.35</td>\n",
       "      <td>13.47</td>\n",
       "      <td>12.25</td>\n",
       "      <td>0.00</td>\n",
       "      <td>0.00</td>\n",
       "      <td>0</td>\n",
       "      <td>0</td>\n",
       "      <td>0</td>\n",
       "      <td>0</td>\n",
       "      <td>0</td>\n",
       "      <td>0</td>\n",
       "      <td>0</td>\n",
       "      <td>0</td>\n",
       "      <td>38</td>\n",
       "      <td>12</td>\n",
       "      <td>1200.00</td>\n",
       "      <td>14.10</td>\n",
       "      <td>8.00</td>\n",
       "    </tr>\n",
       "    <tr>\n",
       "      <th>93719</th>\n",
       "      <td>other</td>\n",
       "      <td>honda</td>\n",
       "      <td>серебристый</td>\n",
       "      <td>{'id': '0', 'name': ''}</td>\n",
       "      <td>продаю honda civic suttle 1989 г. выпуска, неу...</td>\n",
       "      <td>nan</td>\n",
       "      <td>100.00</td>\n",
       "      <td>{'engine-proof': True, 'cruise-control': True,...</td>\n",
       "      <td>NaN</td>\n",
       "      <td>//avatars.mds.yandex.net/get-autoru-vos/216179...</td>\n",
       "      <td>400000</td>\n",
       "      <td>1995</td>\n",
       "      <td>{'code': 'civic', 'name': 'civic', 'ru_name': ...</td>\n",
       "      <td>civic</td>\n",
       "      <td>None</td>\n",
       "      <td>5</td>\n",
       "      <td>rub</td>\n",
       "      <td>1989</td>\n",
       "      <td>1097454742</td>\n",
       "      <td>nan</td>\n",
       "      <td>useless_col</td>\n",
       "      <td>None</td>\n",
       "      <td>japanese</td>\n",
       "      <td>3</td>\n",
       "      <td>None</td>\n",
       "      <td>original</td>\n",
       "      <td>NaN</td>\n",
       "      <td>left</td>\n",
       "      <td>None</td>\n",
       "      <td>None</td>\n",
       "      <td>11.70</td>\n",
       "      <td>1</td>\n",
       "      <td>12.71</td>\n",
       "      <td>13.00</td>\n",
       "      <td>12.25</td>\n",
       "      <td>0.00</td>\n",
       "      <td>0.00</td>\n",
       "      <td>0</td>\n",
       "      <td>0</td>\n",
       "      <td>0</td>\n",
       "      <td>0</td>\n",
       "      <td>0</td>\n",
       "      <td>0</td>\n",
       "      <td>0</td>\n",
       "      <td>0</td>\n",
       "      <td>43</td>\n",
       "      <td>12</td>\n",
       "      <td>1200.00</td>\n",
       "      <td>10.00</td>\n",
       "      <td>8.70</td>\n",
       "    </tr>\n",
       "    <tr>\n",
       "      <th>94094</th>\n",
       "      <td>other</td>\n",
       "      <td>honda</td>\n",
       "      <td>пурпурный</td>\n",
       "      <td>{'id': '0', 'name': ''}</td>\n",
       "      <td>в хорошем состоянии на ходу</td>\n",
       "      <td>nan</td>\n",
       "      <td>100.00</td>\n",
       "      <td>{'engine-proof': True, 'cruise-control': True,...</td>\n",
       "      <td>NaN</td>\n",
       "      <td>//avatars.mds.yandex.net/get-autoru-vos/215360...</td>\n",
       "      <td>220000</td>\n",
       "      <td>2018</td>\n",
       "      <td>{'code': 'civic', 'name': 'civic', 'ru_name': ...</td>\n",
       "      <td>civic</td>\n",
       "      <td>None</td>\n",
       "      <td>4</td>\n",
       "      <td>rub</td>\n",
       "      <td>1989</td>\n",
       "      <td>1096777604</td>\n",
       "      <td>nan</td>\n",
       "      <td>useless_col</td>\n",
       "      <td>None</td>\n",
       "      <td>japanese</td>\n",
       "      <td>3</td>\n",
       "      <td>None</td>\n",
       "      <td>original</td>\n",
       "      <td>NaN</td>\n",
       "      <td>left</td>\n",
       "      <td>None</td>\n",
       "      <td>None</td>\n",
       "      <td>11.61</td>\n",
       "      <td>1</td>\n",
       "      <td>12.71</td>\n",
       "      <td>13.00</td>\n",
       "      <td>12.25</td>\n",
       "      <td>0.00</td>\n",
       "      <td>0.00</td>\n",
       "      <td>0</td>\n",
       "      <td>0</td>\n",
       "      <td>0</td>\n",
       "      <td>0</td>\n",
       "      <td>0</td>\n",
       "      <td>0</td>\n",
       "      <td>0</td>\n",
       "      <td>0</td>\n",
       "      <td>43</td>\n",
       "      <td>12</td>\n",
       "      <td>1200.00</td>\n",
       "      <td>6.60</td>\n",
       "      <td>11.00</td>\n",
       "    </tr>\n",
       "  </tbody>\n",
       "</table>\n",
       "</div>"
      ],
      "text/plain": [
       "      body_type   brand        color       complectation_dict  \\\n",
       "56730     other  toyota  серебристый  {'id': '0', 'name': ''}   \n",
       "93719     other   honda  серебристый  {'id': '0', 'name': ''}   \n",
       "94094     other   honda    пурпурный  {'id': '0', 'name': ''}   \n",
       "\n",
       "                                             description  engine_displacement  \\\n",
       "56730  авто в хорошем тех. состоянии..гаражное хранен...                  nan   \n",
       "93719  продаю honda civic suttle 1989 г. выпуска, неу...                  nan   \n",
       "94094                        в хорошем состоянии на ходу                  nan   \n",
       "\n",
       "       engine_power                                     equipment_dict  \\\n",
       "56730        100.00  {'engine-proof': True, 'cruise-control': True,...   \n",
       "93719        100.00  {'engine-proof': True, 'cruise-control': True,...   \n",
       "94094        100.00  {'engine-proof': True, 'cruise-control': True,...   \n",
       "\n",
       "      fuel_type                                              image  mileage  \\\n",
       "56730       NaN  //avatars.mds.yandex.net/get-autoru-vos/202337...   180000   \n",
       "93719       NaN  //avatars.mds.yandex.net/get-autoru-vos/216179...   400000   \n",
       "94094       NaN  //avatars.mds.yandex.net/get-autoru-vos/215360...   220000   \n",
       "\n",
       "       model_date                                         model_info  \\\n",
       "56730        2013  {'code': 'noah', 'name': 'noah', 'ru_name': 'н...   \n",
       "93719        1995  {'code': 'civic', 'name': 'civic', 'ru_name': ...   \n",
       "94094        2018  {'code': 'civic', 'name': 'civic', 'ru_name': ...   \n",
       "\n",
       "      model_name  name  doors_count price_currency  production_date  \\\n",
       "56730       noah  None            4            rub             2008   \n",
       "93719      civic  None            5            rub             1989   \n",
       "94094      civic  None            4            rub             1989   \n",
       "\n",
       "          sell_id super_gen vehicle_configuration vehicle_transmission  \\\n",
       "56730  1092703248       nan           useless_col                 None   \n",
       "93719  1097454742       nan           useless_col                 None   \n",
       "94094  1096777604       nan           useless_col                 None   \n",
       "\n",
       "         vendor owner_count owning_period car_passport wheel_drive  \\\n",
       "56730  japanese           3          None     original         NaN   \n",
       "93719  japanese           3          None     original         NaN   \n",
       "94094  japanese           3          None     original         NaN   \n",
       "\n",
       "      wheel_location condition custom  price  sample  priced_model_name  \\\n",
       "56730          right      None   None  13.44       1              13.35   \n",
       "93719           left      None   None  11.70       1              12.71   \n",
       "94094           left      None   None  11.61       1              12.71   \n",
       "\n",
       "       priced_brand  priced_body_type  subjectivity  polarity  airbags  \\\n",
       "56730         13.47             12.25          0.00      0.00        0   \n",
       "93719         13.00             12.25          0.00      0.00        0   \n",
       "94094         13.00             12.25          0.00      0.00        0   \n",
       "\n",
       "       cruise  steering  loan  anti_block  lock  climat  rain_sens  \\\n",
       "56730       0         0     0           0     0       0          0   \n",
       "93719       0         0     0           0     0       0          0   \n",
       "94094       0         0     0           0     0       0          0   \n",
       "\n",
       "       equipment_length  tax_base     tax  acceleration  fuel_rate  \n",
       "56730                38        12 1200.00         14.10       8.00  \n",
       "93719                43        12 1200.00         10.00       8.70  \n",
       "94094                43        12 1200.00          6.60      11.00  "
      ]
     },
     "execution_count": 75,
     "metadata": {},
     "output_type": "execute_result"
    }
   ],
   "source": [
    "df[df['wheel_drive'].isna()]"
   ]
  },
  {
   "cell_type": "markdown",
   "metadata": {},
   "source": [
    "Civic. Fill With front"
   ]
  },
  {
   "cell_type": "code",
   "execution_count": 76,
   "metadata": {},
   "outputs": [],
   "source": [
    "df['wheel_drive'] = df['wheel_drive'].fillna('front')"
   ]
  },
  {
   "cell_type": "markdown",
   "metadata": {},
   "source": [
    "<a id=\"sec5.13\"></a>\n",
    "## [5.13 Price Drop Index](#sec5.13)\n",
    "[(INDEX)](#sec1)"
   ]
  },
  {
   "cell_type": "markdown",
   "metadata": {},
   "source": [
    "With a reference to EDA, we know, that some brands loose their price more faster than others. \n",
    "\n",
    "Let's generate such feature"
   ]
  },
  {
   "cell_type": "code",
   "execution_count": 77,
   "metadata": {},
   "outputs": [],
   "source": [
    "def get_change_index(model):\n",
    "    if model == 'ford':\n",
    "        return int(1)\n",
    "    if model == 'volvo' or model == 'mercedes':\n",
    "        return int(2)\n",
    "    if model == 'honda' or model == 'audi':\n",
    "        return int(2)\n",
    "    return int(0)"
   ]
  },
  {
   "cell_type": "code",
   "execution_count": 78,
   "metadata": {},
   "outputs": [],
   "source": [
    "df['prc_chg_idx'] = df['brand'].apply(\n",
    "    lambda brand: get_change_index(brand)).astype('category')"
   ]
  },
  {
   "cell_type": "markdown",
   "metadata": {},
   "source": [
    "<a id=\"sec5.14\"></a>\n",
    "## [5.14 Dropping cols without content](#sec5.14)\n",
    "[(INDEX)](#sec1)"
   ]
  },
  {
   "cell_type": "code",
   "execution_count": 79,
   "metadata": {},
   "outputs": [
    {
     "data": {
      "text/plain": [
       "3"
      ]
     },
     "execution_count": 79,
     "metadata": {},
     "output_type": "execute_result"
    }
   ],
   "source": [
    "df['engine_displacement'].isna().sum()"
   ]
  },
  {
   "cell_type": "code",
   "execution_count": 80,
   "metadata": {},
   "outputs": [],
   "source": [
    "df = df.dropna(axis=0, subset=['engine_displacement'])"
   ]
  },
  {
   "cell_type": "markdown",
   "metadata": {},
   "source": [
    "<a id=\"sec5.15\"></a>\n",
    "## [5.15 Vendor](#sec5.15)\n",
    "[(INDEX)](#sec1)"
   ]
  },
  {
   "cell_type": "markdown",
   "metadata": {},
   "source": [
    "During scraping of a dataset we gathered more vendors than were in a test data set. Let's replace those who are not in test dataset by 'Other'\n",
    "\n",
    "Note: It was decided to not include this to a model"
   ]
  },
  {
   "cell_type": "code",
   "execution_count": 81,
   "metadata": {},
   "outputs": [],
   "source": [
    "df['vendor'] = df['vendor'].apply(\n",
    "    lambda x: x if x == 'european' else(x if x == 'japanese' else 'other'))"
   ]
  },
  {
   "cell_type": "markdown",
   "metadata": {},
   "source": [
    "<a id=\"sec5.16\"></a>\n",
    "## [5.16 Handling multocorrelation out](#sec5.16)\n",
    "[(INDEX)](#sec1)"
   ]
  },
  {
   "cell_type": "code",
   "execution_count": 82,
   "metadata": {},
   "outputs": [],
   "source": [
    "# extract trhee columns from dataset, which are correlated\n",
    "data = df[['mileage', 'model_date', 'production_date']].values\n",
    "# create Scaler instance\n",
    "scaler = StandardScaler()\n",
    "scaled_data = scaler.fit_transform(data)\n",
    "\n",
    "# We have 3 vectors. Reduce to two, taking most important info.\n",
    "pca = PCA(n_components=2)\n",
    "pca.fit(scaled_data)\n",
    "pca_data = pca.transform(scaled_data)\n",
    "df['pca_1'], df['pca_2'] = pca_data[:, 0], pca_data[:, 1]"
   ]
  },
  {
   "cell_type": "markdown",
   "metadata": {},
   "source": [
    "<a id=\"sec5.17\"></a>\n",
    "## [5.17 Clustering](#sec5.17)\n",
    "[(INDEX)](#sec1)"
   ]
  },
  {
   "cell_type": "markdown",
   "metadata": {},
   "source": [
    "Note: I have failed to use clustering... :("
   ]
  },
  {
   "cell_type": "code",
   "execution_count": 83,
   "metadata": {},
   "outputs": [],
   "source": [
    "df_clus1 = df.copy()"
   ]
  },
  {
   "cell_type": "code",
   "execution_count": 84,
   "metadata": {},
   "outputs": [],
   "source": [
    "# cluster = Outliers_detector(df_clus1)"
   ]
  },
  {
   "cell_type": "code",
   "execution_count": 85,
   "metadata": {
    "scrolled": true
   },
   "outputs": [],
   "source": [
    "# indeces = cluster.get_dbscan_outliers('production_date', 'engine_displacement', dbscan_eps=.4,\n",
    "#                                      dbscan_minsample=12,\n",
    "#                                      cluster_num=-1)\n",
    "# print(f\"Strange guys {len(indeces)}\")"
   ]
  },
  {
   "cell_type": "code",
   "execution_count": 86,
   "metadata": {},
   "outputs": [],
   "source": [
    "# Defining features and target\n",
    "# X = df[df['sample'] == 1]\n",
    "\n",
    "# X_test = df[df['sample'] == 0]\n",
    "\n",
    "# print(f'X size: {X.shape}, X_testn size: {X_test.shape}')"
   ]
  },
  {
   "cell_type": "code",
   "execution_count": 87,
   "metadata": {},
   "outputs": [],
   "source": [
    "# cluster = Outliers_detector(X)"
   ]
  },
  {
   "cell_type": "code",
   "execution_count": 88,
   "metadata": {
    "scrolled": false
   },
   "outputs": [],
   "source": [
    "# indeces = cluster.get_dbscan_outliers('model_date', 'price', dbscan_eps=.5,\n",
    "#                                      dbscan_minsample=12,\n",
    "#                                      cluster_num=-1)\n",
    "# print(f\"Strange guys {len(indeces)}\")"
   ]
  },
  {
   "cell_type": "code",
   "execution_count": 89,
   "metadata": {},
   "outputs": [],
   "source": [
    "# X=X.drop(indeces)\n",
    "# X.reset_index(drop=True, inplace=True)"
   ]
  },
  {
   "cell_type": "code",
   "execution_count": 90,
   "metadata": {},
   "outputs": [],
   "source": [
    "# df = X_test.append(X, sort=False).reset_index(drop=True)  # combine sets"
   ]
  },
  {
   "cell_type": "markdown",
   "metadata": {},
   "source": [
    "<a id=\"sec5.18\"></a>\n",
    "## [5.18 Log Func](#sec5.18)\n",
    "[(INDEX)](#sec1)"
   ]
  },
  {
   "cell_type": "markdown",
   "metadata": {},
   "source": [
    "Try to make distribution normal for the propper fitting of the model "
   ]
  },
  {
   "cell_type": "code",
   "execution_count": 91,
   "metadata": {},
   "outputs": [],
   "source": [
    "cols_to_log = [\n",
    "    'engine_displacement', 'mileage', 'model_date', 'production_date',\n",
    "    'equipment_length', 'tax', 'acceleration', 'fuel_rate', 'pca_1', 'pca_2'\n",
    "]\n",
    "\n",
    "df = to_log(df, cols_to_log)"
   ]
  },
  {
   "cell_type": "markdown",
   "metadata": {},
   "source": [
    "<a id=\"sec5.19\"></a>\n",
    "## [5.19 Encoding](#sec5.19)\n",
    "[(INDEX)](#sec1)"
   ]
  },
  {
   "cell_type": "markdown",
   "metadata": {},
   "source": [
    "After all manipulations with dataset, we have to reset indexes"
   ]
  },
  {
   "cell_type": "code",
   "execution_count": 92,
   "metadata": {},
   "outputs": [],
   "source": [
    "# Re-set indexes\n",
    "df.reset_index(drop=True, inplace=True)"
   ]
  },
  {
   "cell_type": "code",
   "execution_count": 93,
   "metadata": {},
   "outputs": [],
   "source": [
    "encoder = Encoder(df)"
   ]
  },
  {
   "cell_type": "code",
   "execution_count": 94,
   "metadata": {},
   "outputs": [],
   "source": [
    "to_hot = [\n",
    "    #'body_type', # No impact\n",
    "    #'brand', # No impact\n",
    "    #'color', # No impact\n",
    "    #'fuel_type',   # No impact\n",
    "    #'doors_count', # No impact\n",
    "    #'vehicle_transmission', # No impact\n",
    "    'vendor',\n",
    "    'wheel_drive',\n",
    "    'owner_count',\n",
    "]\n",
    "\n",
    "to_label = [\n",
    "    'car_passport', 'wheel_location', 'prc_chg_idx', 'vehicle_transmission'\n",
    "]"
   ]
  },
  {
   "cell_type": "code",
   "execution_count": 95,
   "metadata": {},
   "outputs": [],
   "source": [
    "# hot it out\n",
    "for col in to_hot:\n",
    "    df = encoder.hot_encoder(col)"
   ]
  },
  {
   "cell_type": "code",
   "execution_count": 96,
   "metadata": {},
   "outputs": [],
   "source": [
    "# label it\n",
    "for col in to_label:\n",
    "    encoder.label_encoder(col)"
   ]
  },
  {
   "cell_type": "markdown",
   "metadata": {},
   "source": [
    "<a id=\"sec5.20\"></a>\n",
    "## [5.20 Dropping columns out](#sec5.20)\n",
    "[(INDEX)](#sec1)"
   ]
  },
  {
   "cell_type": "code",
   "execution_count": 97,
   "metadata": {},
   "outputs": [],
   "source": [
    "cols_to_drop = [\n",
    "    'complectation_dict',\n",
    "    'description',\n",
    "    'equipment_dict',\n",
    "    'image',\n",
    "    'model_info',\n",
    "    'name',\n",
    "    'price_currency',\n",
    "    'vehicle_configuration',\n",
    "    'custom',\n",
    "    'condition',\n",
    "    'owning_period',\n",
    "    'super_gen',\n",
    "    'sell_id',\n",
    "    'model_name',\n",
    "    'engine_power',\n",
    "    'mileage',  # have PCA instead\n",
    "    'model_date',  # have PCA instead \n",
    "    'body_type',\n",
    "    'brand',\n",
    "    'color',\n",
    "    'tax_base',\n",
    "    #'mileage_zero',  # No impact\n",
    "    'fuel_type',  # No impact\n",
    "    'doors_count'  # No impact\n",
    "]\n",
    "df = df.drop(cols_to_drop, axis=1)"
   ]
  },
  {
   "cell_type": "markdown",
   "metadata": {},
   "source": [
    "Let's check what do we have now"
   ]
  },
  {
   "cell_type": "code",
   "execution_count": 98,
   "metadata": {
    "scrolled": true
   },
   "outputs": [
    {
     "name": "stdout",
     "output_type": "stream",
     "text": [
      "engine_displacement - 0.0%\n",
      "production_date - 0.0%\n",
      "vehicle_transmission - 0.0%\n",
      "car_passport - 0.0%\n",
      "wheel_location - 0.0%\n",
      "price - 19.407%\n",
      "sample - 0.0%\n",
      "priced_model_name - 0.0%\n",
      "priced_brand - 0.0%\n",
      "priced_body_type - 0.0%\n",
      "subjectivity - 0.0%\n",
      "polarity - 0.0%\n",
      "airbags - 0.0%\n",
      "cruise - 0.0%\n",
      "steering - 0.0%\n",
      "loan - 0.0%\n",
      "anti_block - 0.0%\n",
      "lock - 0.0%\n",
      "climat - 0.0%\n",
      "rain_sens - 0.0%\n",
      "equipment_length - 0.0%\n",
      "tax - 0.0%\n",
      "acceleration - 0.0%\n",
      "fuel_rate - 0.0%\n",
      "prc_chg_idx - 0.0%\n",
      "pca_1 - 0.0%\n",
      "pca_2 - 0.0%\n",
      "hot_vendor_european - 0.0%\n",
      "hot_vendor_japanese - 0.0%\n",
      "hot_vendor_other - 0.0%\n",
      "hot_wheel_drive_front - 0.0%\n",
      "hot_wheel_drive_full - 0.0%\n",
      "hot_wheel_drive_rear - 0.0%\n",
      "hot_owner_count_1 - 0.0%\n",
      "hot_owner_count_2 - 0.0%\n",
      "hot_owner_count_3 - 0.0%\n"
     ]
    },
    {
     "data": {
      "image/png": "[encoded data removed]",
      "text/plain": [
       "<Figure size 1080x1080 with 2 Axes>"
      ]
     },
     "metadata": {},
     "output_type": "display_data"
    }
   ],
   "source": [
    "# Plot missing values\n",
    "cols = df.columns\n",
    "fig, ax = plt.subplots(figsize=(15, 15))\n",
    "sns.heatmap(df[cols].isnull()) \n",
    "\n",
    "# Show in percents\n",
    "for col in df.columns:\n",
    "    pct_missing = np.mean(df[col].isnull())\n",
    "    print(f'{col} - {round(pct_missing*100,3)}%')"
   ]
  },
  {
   "cell_type": "markdown",
   "metadata": {},
   "source": [
    "The data set is ready."
   ]
  },
  {
   "cell_type": "markdown",
   "metadata": {},
   "source": [
    "<a id=\"sec6\"></a>\n",
    "# [Prepare the data for models](#sec6)\n",
    "[(INDEX)](#sec2)"
   ]
  },
  {
   "cell_type": "code",
   "execution_count": 99,
   "metadata": {},
   "outputs": [],
   "source": [
    "# Defining features and target\n",
    "X = df[df['sample'] == 1].drop(['price','sample'], axis=1)\n",
    "y = df[df['sample'] == 1]['price']\n",
    "\n",
    "X_test = df[df['sample'] == 0].drop(['price','sample'], axis=1)\n",
    "y_test = df[df['sample'] == 0]['price']"
   ]
  },
  {
   "cell_type": "code",
   "execution_count": 100,
   "metadata": {},
   "outputs": [],
   "source": [
    "cols_to_scal = [\n",
    "    'engine_displacement', 'subjectivity', \n",
    "    'polarity', 'acceleration',\n",
    "    'fuel_rate', 'pca_1','pca_2','equipment_length',\n",
    "    'priced_model_name','priced_brand','priced_body_type','tax'\n",
    "]"
   ]
  },
  {
   "cell_type": "code",
   "execution_count": 101,
   "metadata": {},
   "outputs": [],
   "source": [
    "scaler = RobustScaler()\n",
    "X[cols_to_scal] = scaler.fit_transform(X[cols_to_scal])\n",
    "X_test[cols_to_scal] = scaler.transform(X_test[cols_to_scal])"
   ]
  },
  {
   "cell_type": "code",
   "execution_count": 102,
   "metadata": {},
   "outputs": [
    {
     "name": "stdout",
     "output_type": "stream",
     "text": [
      "Train size: (115236, 34), Validation size: (28810, 34), Test size: (34686, 34)\n"
     ]
    }
   ],
   "source": [
    "# Splitting the data\n",
    "X_train, X_val, y_train, y_val = train_test_split(X,\n",
    "                                                  y,\n",
    "                                                  test_size=0.2,\n",
    "                                                  shuffle=True,\n",
    "                                                  random_state=42)\n",
    "\n",
    "print(\n",
    "    f'Train size: {X_train.shape}, Validation size: {X_val.shape}, Test size: {X_test.shape}'\n",
    ")"
   ]
  },
  {
   "cell_type": "markdown",
   "metadata": {},
   "source": [
    "<a id=\"sec6\"></a>\n",
    "# [MODELS](#sec6)\n",
    "[(INDEX)](#sec2)"
   ]
  },
  {
   "cell_type": "markdown",
   "metadata": {},
   "source": [
    "There are plenty of algorithms could be applied but which one is best, which one is works faster?\n",
    "\n",
    "Let's try to new instrument, to compare most common algorithms and then select the best.\n",
    "\n",
    "We will use LazyPredict for such purpose"
   ]
  },
  {
   "cell_type": "code",
   "execution_count": null,
   "metadata": {
    "scrolled": true
   },
   "outputs": [
    {
     "name": "stderr",
     "output_type": "stream",
     "text": [
      "  2%|█▉                                                                                 | 1/42 [00:12<08:15, 12.09s/it]"
     ]
    },
    {
     "name": "stdout",
     "output_type": "stream",
     "text": [
      "{'Model': 'AdaBoostRegressor', 'R-Squared': 0.8413201455826147, 'Adjusted R-Squared': 0.8411326524444673, 'RMSE': 0.4692281325892555, 'Time taken': 12.088605403900146}\n"
     ]
    },
    {
     "name": "stderr",
     "output_type": "stream",
     "text": [
      "\r",
      "  5%|███▉                                                                               | 2/42 [00:19<06:11,  9.29s/it]"
     ]
    },
    {
     "name": "stdout",
     "output_type": "stream",
     "text": [
      "{'Model': 'BaggingRegressor', 'R-Squared': 0.950802233548801, 'Adjusted R-Squared': 0.9507441023912219, 'RMSE': 0.26127378627749737, 'Time taken': 7.324437618255615}\n"
     ]
    },
    {
     "name": "stderr",
     "output_type": "stream",
     "text": [
      "\r",
      "  7%|█████▉                                                                             | 3/42 [00:19<03:22,  5.20s/it]"
     ]
    },
    {
     "name": "stdout",
     "output_type": "stream",
     "text": [
      "{'Model': 'BayesianRidge', 'R-Squared': 0.9010408030305779, 'Adjusted R-Squared': 0.9009238747005358, 'RMSE': 0.3705537621385101, 'Time taken': 0.32610011100769043}\n"
     ]
    },
    {
     "name": "stderr",
     "output_type": "stream",
     "text": [
      " 12%|█████████▉                                                                         | 5/42 [00:21<01:28,  2.38s/it]"
     ]
    },
    {
     "name": "stdout",
     "output_type": "stream",
     "text": [
      "{'Model': 'DecisionTreeRegressor', 'R-Squared': 0.913912736786054, 'Adjusted R-Squared': 0.913811017691379, 'RMSE': 0.3456150106875218, 'Time taken': 1.2446706295013428}\n",
      "{'Model': 'DummyRegressor', 'R-Squared': -4.197612033962628e-06, 'Adjusted R-Squared': -0.0011857838055635561, 'RMSE': 1.1779424073392812, 'Time taken': 0.15259194374084473}\n"
     ]
    },
    {
     "name": "stderr",
     "output_type": "stream",
     "text": [
      "\r",
      " 14%|███████████▊                                                                       | 6/42 [00:21<00:59,  1.64s/it]"
     ]
    },
    {
     "name": "stdout",
     "output_type": "stream",
     "text": [
      "{'Model': 'ElasticNet', 'R-Squared': 0.540414875717504, 'Adjusted R-Squared': 0.5398718385593595, 'RMSE': 0.7985573792843575, 'Time taken': 0.20709466934204102}\n"
     ]
    },
    {
     "name": "stderr",
     "output_type": "stream",
     "text": [
      "\r",
      " 17%|█████████████▊                                                                     | 7/42 [00:22<00:51,  1.46s/it]"
     ]
    },
    {
     "name": "stdout",
     "output_type": "stream",
     "text": [
      "{'Model': 'ElasticNetCV', 'R-Squared': 0.9010896710838858, 'Adjusted R-Squared': 0.9009728004954185, 'RMSE': 0.3704622573685525, 'Time taken': 1.100264549255371}\n"
     ]
    },
    {
     "name": "stderr",
     "output_type": "stream",
     "text": [
      "\r",
      " 19%|███████████████▊                                                                   | 8/42 [00:23<00:41,  1.24s/it]"
     ]
    },
    {
     "name": "stdout",
     "output_type": "stream",
     "text": [
      "{'Model': 'ExtraTreeRegressor', 'R-Squared': 0.9127775793410068, 'Adjusted R-Squared': 0.9126745189655974, 'RMSE': 0.34788620955868427, 'Time taken': 0.7430400848388672}\n"
     ]
    },
    {
     "name": "stderr",
     "output_type": "stream",
     "text": [
      "\r",
      " 21%|█████████████████▊                                                                 | 9/42 [01:22<10:38, 19.35s/it]"
     ]
    },
    {
     "name": "stdout",
     "output_type": "stream",
     "text": [
      "{'Model': 'ExtraTreesRegressor', 'R-Squared': 0.9526761664124532, 'Adjusted R-Squared': 0.952620249458779, 'RMSE': 0.2562495461905236, 'Time taken': 59.16477346420288}\n"
     ]
    },
    {
     "name": "stderr",
     "output_type": "stream",
     "text": [
      " 26%|█████████████████████▍                                                            | 11/42 [01:22<04:50,  9.38s/it]"
     ]
    },
    {
     "name": "stdout",
     "output_type": "stream",
     "text": [
      "{'Model': 'GammaRegressor', 'R-Squared': 0.8513009387666612, 'Adjusted R-Squared': 0.8511252387464376, 'RMSE': 0.4542315112142853, 'Time taken': 0.25074076652526855}\n",
      "GaussianProcessRegressor model failed to execute\n",
      "Unable to allocate 98.9 GiB for an array with shape (115236, 115236) and data type float64\n"
     ]
    },
    {
     "name": "stderr",
     "output_type": "stream",
     "text": [
      "\r",
      " 29%|███████████████████████▍                                                          | 12/42 [01:22<03:17,  6.60s/it]"
     ]
    },
    {
     "name": "stdout",
     "output_type": "stream",
     "text": [
      "{'Model': 'GeneralizedLinearRegressor', 'R-Squared': 0.8508041519056293, 'Adjusted R-Squared': 0.8506278648913735, 'RMSE': 0.4549896467596691, 'Time taken': 0.23938727378845215}\n"
     ]
    },
    {
     "name": "stderr",
     "output_type": "stream",
     "text": [
      "\r",
      " 31%|█████████████████████████▍                                                        | 13/42 [01:41<04:55, 10.20s/it]"
     ]
    },
    {
     "name": "stdout",
     "output_type": "stream",
     "text": [
      "{'Model': 'GradientBoostingRegressor', 'R-Squared': 0.940951735848846, 'Adjusted R-Squared': 0.9408819655280418, 'RMSE': 0.28623762070777875, 'Time taken': 18.488525390625}\n"
     ]
    },
    {
     "name": "stderr",
     "output_type": "stream",
     "text": [
      "\r",
      " 33%|███████████████████████████▎                                                      | 14/42 [01:43<03:36,  7.74s/it]"
     ]
    },
    {
     "name": "stdout",
     "output_type": "stream",
     "text": [
      "{'Model': 'HistGradientBoostingRegressor', 'R-Squared': 0.9522880320931509, 'Adjusted R-Squared': 0.9522316565272488, 'RMSE': 0.25729823703818483, 'Time taken': 2.04986572265625}\n"
     ]
    },
    {
     "name": "stderr",
     "output_type": "stream",
     "text": [
      "\r",
      " 36%|█████████████████████████████▎                                                    | 15/42 [01:44<02:36,  5.78s/it]"
     ]
    },
    {
     "name": "stdout",
     "output_type": "stream",
     "text": [
      "{'Model': 'HuberRegressor', 'R-Squared': 0.8967008372563008, 'Adjusted R-Squared': 0.8965787809041449, 'RMSE': 0.3785920991710607, 'Time taken': 1.2432947158813477}\n"
     ]
    },
    {
     "name": "stderr",
     "output_type": "stream",
     "text": [
      " 40%|█████████████████████████████████▏                                                | 17/42 [03:24<09:56, 23.84s/it]"
     ]
    },
    {
     "name": "stdout",
     "output_type": "stream",
     "text": [
      "{'Model': 'KNeighborsRegressor', 'R-Squared': 0.9158866437782684, 'Adjusted R-Squared': 0.9157872570150525, 'RMSE': 0.3416297056584227, 'Time taken': 99.63462376594543}\n",
      "KernelRidge model failed to execute\n",
      "Unable to allocate 98.9 GiB for an array with shape (115236, 115236) and data type float64\n"
     ]
    },
    {
     "name": "stderr",
     "output_type": "stream",
     "text": [
      "\r",
      " 43%|███████████████████████████████████▏                                              | 18/42 [03:24<06:41, 16.74s/it]"
     ]
    },
    {
     "name": "stdout",
     "output_type": "stream",
     "text": [
      "{'Model': 'Lars', 'R-Squared': 0.8998502835597824, 'Adjusted R-Squared': 0.8997319485342752, 'RMSE': 0.37277605473886094, 'Time taken': 0.20207500457763672}\n"
     ]
    },
    {
     "name": "stderr",
     "output_type": "stream",
     "text": [
      "\r",
      " 45%|█████████████████████████████████████                                             | 19/42 [03:25<04:34, 11.95s/it]"
     ]
    },
    {
     "name": "stdout",
     "output_type": "stream",
     "text": [
      "{'Model': 'LarsCV', 'R-Squared': 0.9004981995070793, 'Adjusted R-Squared': 0.9003806300468965, 'RMSE': 0.37156826570555024, 'Time taken': 0.7995333671569824}\n",
      "{'Model': 'Lasso', 'R-Squared': -4.197612033962628e-06, 'Adjusted R-Squared': -0.0011857838055635561, 'RMSE': 1.1779424073392812, 'Time taken': 0.18724536895751953}"
     ]
    },
    {
     "name": "stderr",
     "output_type": "stream",
     "text": [
      "\r",
      " 48%|███████████████████████████████████████                                           | 20/42 [03:25<03:05,  8.42s/it]"
     ]
    },
    {
     "name": "stdout",
     "output_type": "stream",
     "text": [
      "\n"
     ]
    },
    {
     "name": "stderr",
     "output_type": "stream",
     "text": [
      "\r",
      " 50%|█████████████████████████████████████████                                         | 21/42 [03:26<02:10,  6.23s/it]"
     ]
    },
    {
     "name": "stdout",
     "output_type": "stream",
     "text": [
      "{'Model': 'LassoCV', 'R-Squared': 0.9010760183852204, 'Adjusted R-Squared': 0.9009591316649805, 'RMSE': 0.3704878241374658, 'Time taken': 1.1401495933532715}\n"
     ]
    },
    {
     "name": "stderr",
     "output_type": "stream",
     "text": [
      "\r",
      " 52%|██████████████████████████████████████████▉                                       | 22/42 [03:27<01:28,  4.43s/it]"
     ]
    },
    {
     "name": "stdout",
     "output_type": "stream",
     "text": [
      "{'Model': 'LassoLars', 'R-Squared': -4.197612033962628e-06, 'Adjusted R-Squared': -0.0011857838055635561, 'RMSE': 1.1779424073392812, 'Time taken': 0.213456392288208}\n"
     ]
    },
    {
     "name": "stderr",
     "output_type": "stream",
     "text": [
      "\r",
      " 55%|████████████████████████████████████████████▉                                     | 23/42 [03:27<01:03,  3.34s/it]"
     ]
    },
    {
     "name": "stdout",
     "output_type": "stream",
     "text": [
      "{'Model': 'LassoLarsCV', 'R-Squared': 0.9010393070233067, 'Adjusted R-Squared': 0.9009223769256105, 'RMSE': 0.3705565630354678, 'Time taken': 0.8058178424835205}\n"
     ]
    },
    {
     "name": "stderr",
     "output_type": "stream",
     "text": [
      "\r",
      " 57%|██████████████████████████████████████████████▊                                   | 24/42 [03:28<00:43,  2.42s/it]"
     ]
    },
    {
     "name": "stdout",
     "output_type": "stream",
     "text": [
      "{'Model': 'LassoLarsIC', 'R-Squared': 0.9010735911744042, 'Adjusted R-Squared': 0.9009567015862175, 'RMSE': 0.37049236927668977, 'Time taken': 0.2782552242279053}\n"
     ]
    },
    {
     "name": "stderr",
     "output_type": "stream",
     "text": [
      "\r",
      " 60%|████████████████████████████████████████████████▊                                 | 25/42 [03:28<00:30,  1.77s/it]"
     ]
    },
    {
     "name": "stdout",
     "output_type": "stream",
     "text": [
      "{'Model': 'LinearRegression', 'R-Squared': 0.9010283893804585, 'Adjusted R-Squared': 0.9009114463826804, 'RMSE': 0.37057700293192514, 'Time taken': 0.2466871738433838}\n"
     ]
    },
    {
     "name": "stderr",
     "output_type": "stream",
     "text": [
      "\r",
      " 62%|██████████████████████████████████████████████████▊                               | 26/42 [03:46<01:48,  6.75s/it]"
     ]
    },
    {
     "name": "stdout",
     "output_type": "stream",
     "text": [
      "{'Model': 'LinearSVR', 'R-Squared': 0.8958624825511489, 'Adjusted R-Squared': 0.8957394356148062, 'RMSE': 0.38012528241407345, 'Time taken': 18.369885444641113}\n"
     ]
    },
    {
     "name": "stderr",
     "output_type": "stream",
     "text": [
      "\r",
      " 64%|████████████████████████████████████████████████████▋                             | 27/42 [04:49<05:53, 23.60s/it]"
     ]
    },
    {
     "name": "stdout",
     "output_type": "stream",
     "text": [
      "{'Model': 'MLPRegressor', 'R-Squared': 0.9436978606649999, 'Adjusted R-Squared': 0.943631335113744, 'RMSE': 0.27950243405277664, 'Time taken': 62.91178321838379}\n"
     ]
    }
   ],
   "source": [
    "lazy = LazyRegressor(verbose=1, ignore_warnings=False, custom_metric=None)\n",
    "models,predictions = lazy.fit(X_train, X_val, y_train, y_val)\n",
    "models"
   ]
  },
  {
   "cell_type": "markdown",
   "metadata": {},
   "source": [
    "We will take the RMSE metric as a starting point.\n",
    "\n",
    "It is noted, that RandomForest regressor takes first place by giving lowest RMSE value.\n",
    "\n",
    "Then two booster come: \n",
    "    -XGB\n",
    "    -LGBM\n",
    "We can see, that the time of computing significantly lower than in RandomForest.\n",
    "Extra Tree regressor works faster than Random Forest but gives worse RMSE.\n",
    "\n",
    "We will try to implement some of those algorithms for our dataset."
   ]
  },
  {
   "cell_type": "code",
   "execution_count": null,
   "metadata": {},
   "outputs": [],
   "source": [
    "рпило"
   ]
  },
  {
   "cell_type": "markdown",
   "metadata": {},
   "source": [
    "<a id=\"sec6\"></a>\n",
    "## [Random Forest](#sec6)\n",
    "[(INDEX)](#sec2)"
   ]
  },
  {
   "cell_type": "markdown",
   "metadata": {},
   "source": [
    "We will start with random forest.\n",
    "\n",
    "Apply the gridsearch for best parameters search"
   ]
  },
  {
   "cell_type": "code",
   "execution_count": null,
   "metadata": {},
   "outputs": [],
   "source": [
    "rf_reg = RandomForestRegressor(random_state=42)\n",
    "param = {\n",
    "    'bootstrap': [True],\n",
    "    'max_depth': [10, 30],\n",
    "    'n_estimators': [100, 200, 300]\n",
    "}\n",
    "reg_rf = GridSearchCV(rf_reg, param, scoring='neg_mean_absolute_error',\n",
    "                      refit=True, cv=5, verbose=0, n_jobs=-1)"
   ]
  },
  {
   "cell_type": "code",
   "execution_count": null,
   "metadata": {},
   "outputs": [],
   "source": [
    "reg_rf.fit(X_train, y_train)\n",
    "print('Best MAE: {:.4}, with best C: {}'.format(reg_rf.best_score_,\n",
    "                                                reg_rf.best_params_))"
   ]
  },
  {
   "cell_type": "code",
   "execution_count": null,
   "metadata": {},
   "outputs": [],
   "source": [
    "y_pred_rf = reg_rf.predict(X_val)"
   ]
  },
  {
   "cell_type": "code",
   "execution_count": null,
   "metadata": {},
   "outputs": [],
   "source": [
    "df_report = pd.DataFrame(data=None)"
   ]
  },
  {
   "cell_type": "code",
   "execution_count": null,
   "metadata": {},
   "outputs": [],
   "source": [
    "df_report = get_regression_metrics(df_report,y_val,y_pred_rf, 'RandomForest')\n",
    "df_report"
   ]
  },
  {
   "cell_type": "markdown",
   "metadata": {},
   "source": [
    "For the first attempt it is not so bad. MAPE is 15.6%\n",
    "\n",
    "The best score has been obtained with n_estimators = 300.\n",
    "\n",
    "Let's check another algorithm"
   ]
  },
  {
   "cell_type": "markdown",
   "metadata": {},
   "source": [
    "<a id=\"sec6\"></a>\n",
    "## [EXTRA-TREE](#sec6)\n",
    "[(INDEX)](#sec2)"
   ]
  },
  {
   "cell_type": "code",
   "execution_count": null,
   "metadata": {},
   "outputs": [],
   "source": [
    "etr_reg = ExtraTreesRegressor(random_state=42)\n",
    "param = {\n",
    "    'bootstrap': [True],\n",
    "    'max_depth': [10, 30],\n",
    "    'n_estimators': [100, 200, 300,400]\n",
    "}\n",
    "etr_reg_gs = GridSearchCV(etr_reg, param, scoring='neg_mean_absolute_error',\n",
    "                      refit=True, cv=5, verbose=0, n_jobs=-1,)"
   ]
  },
  {
   "cell_type": "code",
   "execution_count": null,
   "metadata": {},
   "outputs": [],
   "source": [
    "etr_reg_gs.fit(X_train, y_train)\n",
    "print('Best MAE: {:.4}, with best C: {}'.format(etr_reg_gs.best_score_,\n",
    "                                                etr_reg_gs.best_params_))"
   ]
  },
  {
   "cell_type": "code",
   "execution_count": null,
   "metadata": {},
   "outputs": [],
   "source": [
    "y_pred_etr_gs = etr_reg_gs.predict(X_val)"
   ]
  },
  {
   "cell_type": "code",
   "execution_count": null,
   "metadata": {},
   "outputs": [],
   "source": [
    "df_report = get_regression_metrics(\n",
    "    df_report, y_val, y_pred_etr_gs, 'ExtraTree_GS')\n",
    "df_report"
   ]
  },
  {
   "cell_type": "code",
   "execution_count": null,
   "metadata": {
    "scrolled": true
   },
   "outputs": [],
   "source": [
    "# Training and evaluating Extra Tree\n",
    "etr = ExtraTreesRegressor(n_estimators=300, random_state=42, n_jobs=-1,\n",
    "                         bootstrap=True, verbose=0)\n",
    "etr.fit(X_train, y_train)\n",
    "y_pred_etr = etr.predict(X_val)"
   ]
  },
  {
   "cell_type": "code",
   "execution_count": null,
   "metadata": {
    "scrolled": true
   },
   "outputs": [],
   "source": [
    "df_report = get_regression_metrics(df_report,y_val,y_pred_etr, 'ExtraTree_WO_GS')\n",
    "df_report"
   ]
  },
  {
   "cell_type": "markdown",
   "metadata": {},
   "source": [
    "That's a little strange. We specified to minimize MAE in gridsearch for Etxta Tree Regressor, but looking at the output presented in df_report, we see, that if we slelect more estimators than GridSearch suggested, then better score can be obtained. Seems GridSearch minimizer RMSE instead of MAE.\n",
    "\n",
    "Anyway, Extra Tree Regressor shows better results than Random forest what is contradicts with Lazy Predictor."
   ]
  },
  {
   "cell_type": "code",
   "execution_count": null,
   "metadata": {},
   "outputs": [],
   "source": [
    "# rf.fit(X, y) # Обучим для сабмита на всей выборке"
   ]
  },
  {
   "cell_type": "code",
   "execution_count": null,
   "metadata": {},
   "outputs": [],
   "source": [
    "sell_id = pd.read_csv('test.csv')['sell_id']"
   ]
  },
  {
   "cell_type": "code",
   "execution_count": null,
   "metadata": {},
   "outputs": [],
   "source": [
    "# submission_tree = pd.DataFrame({'sell_id': sell_id,\n",
    "#                            'price': np.exp(rf.predict(X_test))*0.905})"
   ]
  },
  {
   "cell_type": "code",
   "execution_count": null,
   "metadata": {},
   "outputs": [],
   "source": [
    "# submission_tree.to_csv('submission_tree.csv', index=False)"
   ]
  },
  {
   "cell_type": "markdown",
   "metadata": {},
   "source": [
    "<a id=\"sec6\"></a>\n",
    "## [CAT_boost](#sec6)\n",
    "[(INDEX)](#sec2)"
   ]
  },
  {
   "cell_type": "code",
   "execution_count": null,
   "metadata": {},
   "outputs": [],
   "source": [
    "одбд"
   ]
  },
  {
   "cell_type": "code",
   "execution_count": null,
   "metadata": {},
   "outputs": [],
   "source": [
    "# Training the model\n",
    "cbr = CatBoostRegressor()\n",
    "\n",
    "# Grid search for catboost model\n",
    "param_grid = {'iterations': [500],\n",
    "              'learning_rate': [0.01, 0.1, 0.25, 0.5],\n",
    "              'l2_leaf_reg': [1, 3, 5, 10],\n",
    "              'depth': np.arange(10, 14),\n",
    "              'thread_count': [4]}\n",
    "\n",
    "cbr.grid_search(param_grid=param_grid,\n",
    "                X=X,\n",
    "                y=y,\n",
    "                cv=5,\n",
    "                partition_random_seed=42,\n",
    "                calc_cv_statistics=True,\n",
    "                search_by_train_test_split=True,\n",
    "                refit=True,\n",
    "                shuffle=True,\n",
    "                stratified=None,\n",
    "                train_size=0.8,\n",
    "                verbose=False,\n",
    "                plot=True)"
   ]
  },
  {
   "cell_type": "code",
   "execution_count": null,
   "metadata": {},
   "outputs": [],
   "source": [
    "cbr.fit(X_train,y_train)"
   ]
  },
  {
   "cell_type": "code",
   "execution_count": null,
   "metadata": {},
   "outputs": [],
   "source": [
    "cbr_pred = cbr.predict(X_val)"
   ]
  },
  {
   "cell_type": "code",
   "execution_count": null,
   "metadata": {
    "scrolled": true
   },
   "outputs": [],
   "source": [
    "# Best model parameters\n",
    "cbr.get_params()"
   ]
  },
  {
   "cell_type": "code",
   "execution_count": null,
   "metadata": {},
   "outputs": [],
   "source": [
    "df_report = get_regression_metrics(df_report,y_val,cbr_pred, 'CatBoost')\n",
    "df_report"
   ]
  },
  {
   "cell_type": "code",
   "execution_count": null,
   "metadata": {
    "scrolled": true
   },
   "outputs": [],
   "source": [
    "cbr = CatBoostRegressor(loss_function='RMSE',\n",
    "                        thread_count=4,\n",
    "                        depth=10,\n",
    "                        l2_leaf_reg=1,\n",
    "                        iterations=500,\n",
    "                        learning_rate=0.1)\n",
    "\n",
    "cbr.fit(X_train, y_train)"
   ]
  },
  {
   "cell_type": "code",
   "execution_count": null,
   "metadata": {},
   "outputs": [],
   "source": [
    "submission_cat_boost = pd.DataFrame({\n",
    "    'sell_id':\n",
    "    sell_id,\n",
    "    'price':\n",
    "    np.exp(cbr.predict(X_test)) * 0.905\n",
    "})"
   ]
  },
  {
   "cell_type": "code",
   "execution_count": null,
   "metadata": {},
   "outputs": [],
   "source": [
    "submission_cat_boost.to_csv('submission_cat_boost.csv', index=False)"
   ]
  },
  {
   "cell_type": "markdown",
   "metadata": {},
   "source": [
    "# XGBoost"
   ]
  },
  {
   "cell_type": "code",
   "execution_count": null,
   "metadata": {},
   "outputs": [],
   "source": [
    "# Training xgboost model\n",
    "xg_reg = xgb.XGBRegressor(objective='reg:squarederror', colsample_bytree=0.5,\n",
    "                          learning_rate=0.05, max_depth=12, alpha=1,\n",
    "                          n_estimators=1000, silent=1)\n",
    "xg_reg.fit(X_train, y_train)\n",
    "xg_red_pred = xg_reg.predict(X_val)"
   ]
  },
  {
   "cell_type": "code",
   "execution_count": null,
   "metadata": {
    "scrolled": true
   },
   "outputs": [],
   "source": [
    "df_report = get_regression_metrics(df_report,y_val,xg_red_pred, 'XGBoost_1')\n",
    "df_report"
   ]
  },
  {
   "cell_type": "code",
   "execution_count": null,
   "metadata": {
    "scrolled": false
   },
   "outputs": [],
   "source": [
    "fig, ax = plt.subplots(1,1,figsize=(15,15))\n",
    "plot_importance(xg_reg,ax=ax);"
   ]
  },
  {
   "cell_type": "code",
   "execution_count": null,
   "metadata": {},
   "outputs": [],
   "source": [
    "# submission_XGboost = pd.DataFrame({'sell_id': sell_id,\n",
    "#                            'price': np.exp(xg_reg.predict(X_test))*0.905})\n",
    "\n",
    "# submission_XGboost.to_csv('submission_XGboost.csv', index=False)"
   ]
  },
  {
   "cell_type": "markdown",
   "metadata": {},
   "source": [
    "# LGBM"
   ]
  },
  {
   "cell_type": "code",
   "execution_count": null,
   "metadata": {},
   "outputs": [],
   "source": [
    "# Defining lightgbm hyper-parameters\n",
    "hyper_params = {\n",
    "                'task': 'train',\n",
    "                'boosting_type': 'gbdt',\n",
    "                'objective': 'regression',\n",
    "                'metric': ['mape'],\n",
    "                'learning_rate': 0.05,\n",
    "                'feature_fraction': 0.9,\n",
    "                'bagging_fraction': 0.7,\n",
    "                'bagging_freq': 10,\n",
    "                'verbose': 0,\n",
    "                \"max_depth\": 12,\n",
    "                \"num_leaves\": 128,  \n",
    "                \"max_bin\": 512,\n",
    "                \"num_iterations\": 1000,\n",
    "                \"n_estimators\": 1000\n",
    "            }\n",
    "\n",
    "# Training lightgbm model\n",
    "lgbm = lgb.LGBMRegressor(**hyper_params)\n",
    "lgbm.fit(X_train, y_train,\n",
    "         eval_set=[(X_val, y_val)],\n",
    "         eval_metric='l1',\n",
    "         early_stopping_rounds=100)"
   ]
  },
  {
   "cell_type": "code",
   "execution_count": null,
   "metadata": {},
   "outputs": [],
   "source": [
    "lgb_pred = lgbm.predict(X_val)"
   ]
  },
  {
   "cell_type": "code",
   "execution_count": null,
   "metadata": {
    "scrolled": true
   },
   "outputs": [],
   "source": [
    "df_report = get_regression_metrics(df_report,y_val,lgb_pred, 'LGB')\n",
    "df_report"
   ]
  },
  {
   "cell_type": "code",
   "execution_count": null,
   "metadata": {
    "scrolled": false
   },
   "outputs": [],
   "source": [
    "# Check permutation\n",
    "lightgbm.plot_importance(lgbm, ax=None, height=0.2, xlim=None, ylim=None,\n",
    "                         title='Feature importance', xlabel='Feature importance', \n",
    "                         ylabel='Features', importance_type='split', max_num_features=None,\n",
    "                         ignore_zero=True, figsize=(10,10), dpi=None, grid=True, precision=3);"
   ]
  },
  {
   "cell_type": "markdown",
   "metadata": {},
   "source": [
    "# LGBM Optuna"
   ]
  },
  {
   "cell_type": "code",
   "execution_count": null,
   "metadata": {},
   "outputs": [],
   "source": [
    "# Defining MAPE function since it was removed from sklearn\n",
    "def mape_11(y_pred,y_true): \n",
    "    y_true, y_pred = np.array(y_true), np.array(y_pred)\n",
    "    return np.mean(np.abs((y_true - y_pred) / y_true) * 100)"
   ]
  },
  {
   "cell_type": "code",
   "execution_count": null,
   "metadata": {},
   "outputs": [],
   "source": [
    "def objective(trial,data=X,target=y):\n",
    "    \n",
    "    train_x, test_x, train_y, test_y = train_test_split(data, target, test_size=0.2,random_state=42)\n",
    "    param = {\n",
    "        'metric': 'mape', \n",
    "        'random_state': 42,\n",
    "        'n_estimators': trial.suggest_categorical('n_estimators', [50, 100,500,700]),\n",
    "        'reg_alpha': trial.suggest_loguniform('reg_alpha', 1e-3, 10.0),\n",
    "        'reg_lambda': trial.suggest_loguniform('reg_lambda', 1e-3, 10.0),\n",
    "        'colsample_bytree': trial.suggest_categorical('colsample_bytree', [0.3,0.4,0.5,0.6,0.7,0.8,0.9, 1.0]),\n",
    "        'subsample': trial.suggest_categorical('subsample', [0.4,0.5,0.6,0.7,0.8,1.0]),\n",
    "        'learning_rate': trial.suggest_categorical('learning_rate', [0.006,0.008,0.01,0.014,0.017,0.02]),\n",
    "        'max_depth': trial.suggest_categorical('max_depth', [10,20,100]),\n",
    "        'num_leaves' : trial.suggest_int('num_leaves', 1, 1000),\n",
    "        'min_child_samples': trial.suggest_int('min_child_samples', 1, 300),\n",
    "        'cat_smooth' : trial.suggest_int('min_data_per_groups', 1, 100)\n",
    "    }\n",
    "    model = lgb.LGBMRegressor(**param)  \n",
    "    \n",
    "    model.fit(train_x,train_y,eval_set=[(test_x,test_y)],early_stopping_rounds=100,verbose=False)\n",
    "    \n",
    "    preds = model.predict(test_x)\n",
    "    \n",
    "    mape = mape_11(np.expm1(test_y), np.expm1(preds))\n",
    "    \n",
    "    return mape"
   ]
  },
  {
   "cell_type": "code",
   "execution_count": null,
   "metadata": {
    "scrolled": false
   },
   "outputs": [],
   "source": [
    "study = optuna.create_study(direction='minimize')\n",
    "study.optimize(objective, n_trials=50)"
   ]
  },
  {
   "cell_type": "code",
   "execution_count": null,
   "metadata": {},
   "outputs": [],
   "source": [
    "# plot_optimization_histor: shows the scores from all trials as \n",
    "# well as the best score so far at each point.\n",
    "optuna.visualization.plot_optimization_history(study)"
   ]
  },
  {
   "cell_type": "code",
   "execution_count": null,
   "metadata": {},
   "outputs": [],
   "source": [
    "#plot_parallel_coordinate: interactively visualizes the hyperparameters and scores\n",
    "optuna.visualization.plot_parallel_coordinate(study)"
   ]
  },
  {
   "cell_type": "code",
   "execution_count": null,
   "metadata": {},
   "outputs": [],
   "source": [
    "'''plot_slice: shows the evolution of the search. You can see where in the hyperparameter space your search\n",
    "went and which parts of the space were explored more.'''\n",
    "optuna.visualization.plot_slice(study)"
   ]
  },
  {
   "cell_type": "code",
   "execution_count": null,
   "metadata": {},
   "outputs": [],
   "source": [
    "#Visualize parameter importances.\n",
    "optuna.visualization.plot_param_importances(study)"
   ]
  },
  {
   "cell_type": "code",
   "execution_count": null,
   "metadata": {},
   "outputs": [],
   "source": [
    "#Visualize empirical distribution function\n",
    "optuna.visualization.plot_edf(study)"
   ]
  },
  {
   "cell_type": "code",
   "execution_count": null,
   "metadata": {},
   "outputs": [],
   "source": [
    "param_lgb = study.best_params"
   ]
  },
  {
   "cell_type": "code",
   "execution_count": null,
   "metadata": {
    "scrolled": true
   },
   "outputs": [],
   "source": [
    "lgb_opt = lgb.LGBMRegressor(**param_lgb)\n",
    "lgb_opt.fit(X_train, y_train,)\n",
    "#          eval_set=[(X_val, y_val)],\n",
    "#          eval_metric='l1',\n",
    "#          early_stopping_rounds=100)\n"
   ]
  },
  {
   "cell_type": "code",
   "execution_count": null,
   "metadata": {},
   "outputs": [],
   "source": [
    "lgb_opt_pred = lgb_opt.predict(X_val)"
   ]
  },
  {
   "cell_type": "code",
   "execution_count": null,
   "metadata": {},
   "outputs": [],
   "source": [
    "df_report = get_regression_metrics(df_report,y_val,lgb_opt_pred, 'LGB+optuna')\n",
    "df_report"
   ]
  },
  {
   "cell_type": "markdown",
   "metadata": {},
   "source": [
    "## Gradient boost"
   ]
  },
  {
   "cell_type": "code",
   "execution_count": null,
   "metadata": {},
   "outputs": [],
   "source": [
    "params = {'n_estimators': 800,\n",
    "          'max_depth': 8,\n",
    "          'min_samples_split': 7,\n",
    "          'learning_rate': 0.01,\n",
    "          'loss': 'ls'}"
   ]
  },
  {
   "cell_type": "code",
   "execution_count": null,
   "metadata": {},
   "outputs": [],
   "source": [
    "gboost = GradientBoostingRegressor(**params)\n",
    "gboost.fit(X_train, y_train)\n",
    "gboost_pred = gboost.predict(X_val)"
   ]
  },
  {
   "cell_type": "code",
   "execution_count": null,
   "metadata": {
    "scrolled": true
   },
   "outputs": [],
   "source": [
    "df_report = get_regression_metrics(df_report,y_val,gboost_pred, 'GBOOST')\n",
    "df_report"
   ]
  },
  {
   "cell_type": "code",
   "execution_count": null,
   "metadata": {},
   "outputs": [],
   "source": [
    "test_score = np.zeros((params['n_estimators'],), dtype=np.float64)\n",
    "for i, gboost_pred in enumerate(gboost.staged_predict(X_val)):\n",
    "    test_score[i] = gboost.loss_(y_val, gboost_pred)\n",
    "\n",
    "fig = plt.figure(figsize=(6, 6))\n",
    "plt.subplot(1, 1, 1)\n",
    "plt.title('Deviance')\n",
    "plt.plot(np.arange(params['n_estimators']) + 1, gboost.train_score_, 'b-',\n",
    "         label='Training Set Deviance')\n",
    "plt.plot(np.arange(params['n_estimators']) + 1, test_score, 'r-',\n",
    "         label='Test Set Deviance')\n",
    "plt.legend(loc='upper right')\n",
    "plt.xlabel('Boosting Iterations')\n",
    "plt.ylabel('Deviance')\n",
    "fig.tight_layout()\n",
    "plt.show()"
   ]
  },
  {
   "cell_type": "code",
   "execution_count": null,
   "metadata": {},
   "outputs": [],
   "source": [
    "gboost.fit(X_train, y_train)"
   ]
  },
  {
   "cell_type": "code",
   "execution_count": null,
   "metadata": {},
   "outputs": [],
   "source": [
    "submission_gboost = pd.DataFrame({'sell_id': sell_id,\n",
    "                           'price': np.exp(gboost.predict(X_test))*0.905})\n",
    "\n",
    "submission_gboost.to_csv('submission_gboost.csv', index=False)"
   ]
  },
  {
   "cell_type": "markdown",
   "metadata": {},
   "source": [
    "## STACKING"
   ]
  },
  {
   "cell_type": "code",
   "execution_count": null,
   "metadata": {},
   "outputs": [],
   "source": [
    "from mlxtend.regressor import StackingRegressor"
   ]
  },
  {
   "cell_type": "code",
   "execution_count": null,
   "metadata": {},
   "outputs": [],
   "source": [
    "ENet = ElasticNet()"
   ]
  },
  {
   "cell_type": "code",
   "execution_count": null,
   "metadata": {},
   "outputs": [],
   "source": [
    "from sklearn.linear_model import LinearRegression\n",
    "lr = LinearRegression()"
   ]
  },
  {
   "cell_type": "code",
   "execution_count": null,
   "metadata": {},
   "outputs": [],
   "source": [
    "stck_regrs = StackingRegressor(regressors=[rf,cbr,xg_reg,lgbm,gboost],\n",
    "                               meta_regressor=lr)"
   ]
  },
  {
   "cell_type": "code",
   "execution_count": null,
   "metadata": {
    "scrolled": true
   },
   "outputs": [],
   "source": [
    "stck_regrs.fit(X_train,y_train)"
   ]
  },
  {
   "cell_type": "code",
   "execution_count": null,
   "metadata": {},
   "outputs": [],
   "source": [
    "y_pred_stck_regrs = stck_regrs.predict(X_val)"
   ]
  },
  {
   "cell_type": "code",
   "execution_count": null,
   "metadata": {},
   "outputs": [],
   "source": [
    "df_report = get_regression_metrics(df_report,y_val,y_pred_stck_regrs, 'Stack')\n",
    "df_report"
   ]
  },
  {
   "cell_type": "code",
   "execution_count": null,
   "metadata": {},
   "outputs": [],
   "source": [
    "extra_pred = rf.predict(X_test)\n",
    "cbr_pred = cbr.predict(X_test)\n",
    "xgboost_pred = xg_reg.predict(X_test)\n",
    "lgb_opt_pred = lgb_opt.predict(X_test)\n",
    "# lgb_pred = lgbm.predict(X_test)\n",
    "# gboost = gboost.predict(X_test)\n",
    "# stck = stck_regrs.predict(X_test)"
   ]
  },
  {
   "cell_type": "code",
   "execution_count": null,
   "metadata": {},
   "outputs": [],
   "source": [
    "df_report"
   ]
  },
  {
   "cell_type": "code",
   "execution_count": null,
   "metadata": {},
   "outputs": [],
   "source": [
    "ensemble = (xgboost_pred*.1 + extra_pred*.1 + cbr_pred*.1 + lgb_opt_pred* .7)"
   ]
  },
  {
   "cell_type": "code",
   "execution_count": null,
   "metadata": {},
   "outputs": [],
   "source": [
    "# #Submission\n",
    "# stck_regrs = StackingRegressor(regressors=[lgbm, xg_reg, rf,cbr],\n",
    "#                                meta_regressor=lr)\n",
    "# stck_regrs.fit(X,y)"
   ]
  },
  {
   "cell_type": "code",
   "execution_count": null,
   "metadata": {},
   "outputs": [],
   "source": [
    "submission_stack = pd.DataFrame({'sell_id': sell_id,\n",
    "                           'price': np.exp(ensemble)*.92})\n",
    "\n",
    "submission_stack.to_csv('submission_stack.csv', index=False)"
   ]
  },
  {
   "cell_type": "code",
   "execution_count": null,
   "metadata": {},
   "outputs": [],
   "source": [
    "import pwlf"
   ]
  },
  {
   "cell_type": "code",
   "execution_count": null,
   "metadata": {},
   "outputs": [],
   "source": []
  },
  {
   "cell_type": "code",
   "execution_count": null,
   "metadata": {},
   "outputs": [],
   "source": []
  },
  {
   "cell_type": "code",
   "execution_count": null,
   "metadata": {},
   "outputs": [],
   "source": []
  },
  {
   "cell_type": "code",
   "execution_count": null,
   "metadata": {},
   "outputs": [],
   "source": []
  }
 ],
 "metadata": {
  "kernelspec": {
   "display_name": "Python 3",
   "language": "python",
   "name": "python3"
  },
  "language_info": {
   "codemirror_mode": {
    "name": "ipython",
    "version": 3
   },
   "file_extension": ".py",
   "mimetype": "text/x-python",
   "name": "python",
   "nbconvert_exporter": "python",
   "pygments_lexer": "ipython3",
   "version": "3.8.5"
  },
  "toc": {
   "base_numbering": 1,
   "nav_menu": {},
   "number_sections": true,
   "sideBar": true,
   "skip_h1_title": false,
   "title_cell": "Table of Contents",
   "title_sidebar": "Contents",
   "toc_cell": false,
   "toc_position": {
    "height": "calc(100% - 180px)",
    "left": "10px",
    "top": "150px",
    "width": "255.594px"
   },
   "toc_section_display": true,
   "toc_window_display": true
  },
  "varInspector": {
   "cols": {
    "lenName": 16,
    "lenType": 16,
    "lenVar": 40
   },
   "kernels_config": {
    "python": {
     "delete_cmd_postfix": "",
     "delete_cmd_prefix": "del ",
     "library": "var_list.py",
     "varRefreshCmd": "print(var_dic_list())"
    },
    "r": {
     "delete_cmd_postfix": ") ",
     "delete_cmd_prefix": "rm(",
     "library": "var_list.r",
     "varRefreshCmd": "cat(var_dic_list()) "
    }
   },
   "types_to_exclude": [
    "module",
    "function",
    "builtin_function_or_method",
    "instance",
    "_Feature"
   ],
   "window_display": false
  }
 },
 "nbformat": 4,
 "nbformat_minor": 4
}
