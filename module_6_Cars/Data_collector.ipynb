{
 "cells": [
  {
   "cell_type": "code",
   "execution_count": 14,
   "metadata": {},
   "outputs": [],
   "source": [
    "import pandas as pd\n",
    "import requests, json\n",
    "import numpy as np\n",
    "import matplotlib.pyplot as plt\n",
    "import seaborn as sns\n",
    "import time"
   ]
  },
  {
   "cell_type": "markdown",
   "metadata": {},
   "source": [
    "# Пиздим инфу"
   ]
  },
  {
   "cell_type": "code",
   "execution_count": 19,
   "metadata": {},
   "outputs": [
    {
     "name": "stdout",
     "output_type": "stream",
     "text": [
      "{'Host': 'auto.ru', 'User-Agent': 'Mozilla/5.0 (Windows NT 10.0; Win64; x64; rv:88.0) Gecko/20100101 Firefox/88.0', 'Accept': '*/*', 'Accept-Language': 'ru-RU,ru;q=0.8,en-US;q=0.5,en;q=0.3', 'Accept-Encoding': 'gzip, deflate, br', 'Referer': 'https://auto.ru/cars/bmw/all/?page=3', 'x-client-app-version': 'bce8a8244b5', 'x-page-request-id': '328918ce0247597eaf5327bfb58fbbf0', 'x-client-date': '1621052424675', 'x-csrf-token': '46e8e9805b1aaeb0e7e8ed06e9e61db609f825f0374f514d', 'x-requested-with': 'fetch', 'content-type': 'application/json', 'Origin': 'https://auto.ru', 'Content-Length': '78', 'Connection': 'keep-alive', 'Cookie': 'autoru_sid=a%3Ag609e770a22hv5h9nuukn7hehqvu3kep.f63513a378b5f5c6208d35b64697caa2%7C1620997898875.604800.wyDgKeg1mlEd3UgRUP-bJA.67jb8JxaCRrLGKWbo9PTOIBxTdPMTL7-ErqZR1uTZ90; autoruuid=g609e770a22hv5h9nuukn7hehqvu3kep.f63513a378b5f5c6208d35b64697caa2; autoru_gdpr=1; suid=c18f94687848ae634a3e33b24dec6d0a.4fc40ee98cea6dd87fe788cb17ac994d; yuidlt=1; yandexuid=3854193761620997913; counter_ga_all7=2; crookie=An+ejc3GId86JbaHno+3yDpWbPhSpPl+/G5iLmug8RDpM4VJDMjLzHii5iDi/5MZT+TrlHvnUdD/Khj0WeuIogIWnpE=; cmtchd=MTYyMDk5NzkyNzY0NA==; _ym_uid=162099793885069073; _ym_d=1621052333; _ym_isad=2; cycada=1+Z/guXKzEVROtphAKfMJ/7TQUH18nTGnu0U0PuR/rk=; _ga=GA1.2.1678141264.1620998016; _gid=GA1.2.1513849119.1620998016; parts_ur=; _csrf_token=46e8e9805b1aaeb0e7e8ed06e9e61db609f825f0374f514d; from_lifetime=1621052333763; from=direct; X-Vertis-DC=vla; gdpr=0', 'Pragma': 'no-cache', 'Cache-Control': 'no-cache'}\n"
     ]
    }
   ],
   "source": [
    "# Запрос для получения json\n",
    "headers = '''\n",
    "Host: auto.ru\n",
    "User-Agent: Mozilla/5.0 (Windows NT 10.0; Win64; x64; rv:88.0) Gecko/20100101 Firefox/88.0\n",
    "Accept: */*\n",
    "Accept-Language: ru-RU,ru;q=0.8,en-US;q=0.5,en;q=0.3\n",
    "Accept-Encoding: gzip, deflate, br\n",
    "Referer: https://auto.ru/cars/bmw/all/?page=3\n",
    "x-client-app-version: bce8a8244b5\n",
    "x-page-request-id: 328918ce0247597eaf5327bfb58fbbf0\n",
    "x-client-date: 1621052424675\n",
    "x-csrf-token: 46e8e9805b1aaeb0e7e8ed06e9e61db609f825f0374f514d\n",
    "x-requested-with: fetch\n",
    "content-type: application/json\n",
    "Origin: https://auto.ru\n",
    "Content-Length: 78\n",
    "Connection: keep-alive\n",
    "Cookie: autoru_sid=a%3Ag609e770a22hv5h9nuukn7hehqvu3kep.f63513a378b5f5c6208d35b64697caa2%7C1620997898875.604800.wyDgKeg1mlEd3UgRUP-bJA.67jb8JxaCRrLGKWbo9PTOIBxTdPMTL7-ErqZR1uTZ90; autoruuid=g609e770a22hv5h9nuukn7hehqvu3kep.f63513a378b5f5c6208d35b64697caa2; autoru_gdpr=1; suid=c18f94687848ae634a3e33b24dec6d0a.4fc40ee98cea6dd87fe788cb17ac994d; yuidlt=1; yandexuid=3854193761620997913; counter_ga_all7=2; crookie=An+ejc3GId86JbaHno+3yDpWbPhSpPl+/G5iLmug8RDpM4VJDMjLzHii5iDi/5MZT+TrlHvnUdD/Khj0WeuIogIWnpE=; cmtchd=MTYyMDk5NzkyNzY0NA==; _ym_uid=162099793885069073; _ym_d=1621052333; _ym_isad=2; cycada=1+Z/guXKzEVROtphAKfMJ/7TQUH18nTGnu0U0PuR/rk=; _ga=GA1.2.1678141264.1620998016; _gid=GA1.2.1513849119.1620998016; parts_ur=; _csrf_token=46e8e9805b1aaeb0e7e8ed06e9e61db609f825f0374f514d; from_lifetime=1621052333763; from=direct; X-Vertis-DC=vla; gdpr=0\n",
    "Pragma: no-cache\n",
    "Cache-Control: no-cache\n",
    "'''.strip().split(\"\\n\")\n",
    "\n",
    "# Преоб. запроса в словарь\n",
    "dict_header = {}\n",
    "for header in headers:\n",
    "    key, value = header.split(': ')\n",
    "    dict_header[key] = value\n",
    "print(dict_header)"
   ]
  },
  {
   "cell_type": "code",
   "execution_count": 20,
   "metadata": {},
   "outputs": [],
   "source": [
    "# адрес спизженный из мозилы, где находится json file\n",
    "url = \"https://auto.ru/-/ajax/desktop/listing/\""
   ]
  },
  {
   "cell_type": "code",
   "execution_count": null,
   "metadata": {},
   "outputs": [],
   "source": [
    "def parser(model, page_range):\n",
    "    offers = []\n",
    "    try:\n",
    "        for x in range(1, page_range):\n",
    "            param = {\"color\": [\"FFD600\", \"660099\", \"DEA522\", \"007F00\", \"040001\", \"C49648\", \"CACECB\", \"EE1D19\", \"0000CC\", \"22A0F8\", \"FFC0CB\", \"4A2197\", \"FF8649\", \"200204\", \"97948F\", \"FAFBFB\"],\n",
    "                     \"year_from\": 1900, \n",
    "                     \"year_to\": 2021, \n",
    "                     \"catalog_filter\": [{\"mark\":model}], \n",
    "                     \"damage_group\": \"ANY\", \n",
    "                     'sort': \"fresh_relevance_1-desc\", #\n",
    "                     \"top_days\":\"900\",#\n",
    "                     \"customs_state_group\": \"DOESNT_MATTER\", \n",
    "                     \"section\": \"all\", \n",
    "                     \"category\": \"cars\",\n",
    "                     \"page\":x\n",
    "                    }\n",
    "            \n",
    "            response = requests.post(\n",
    "                url, json=param, headers=dict_header)  # тырим json\n",
    "            print(response.status_code)  # Статус запроса\n",
    "            data = response.json()  # извлекаем стыренное\n",
    "            # берем из json только оферы на тачки. Мусор не берем\n",
    "            offers.extend(data['offers'])\n",
    "            print(f'Current_page: {x}')  # Стата по страницам\n",
    "    except:\n",
    "        print('Fail')\n",
    "    with open(f'data_{model}.json', 'w') as f:\n",
    "        json.dump(offers, f)\n",
    "    print(f'File \"data_{model}\" is ready')\n",
    "    "
   ]
  },
  {
   "cell_type": "code",
   "execution_count": 21,
   "metadata": {},
   "outputs": [],
   "source": [
    "brand_list = ['BMW',\n",
    "#               'VOLKSWAGEN',\n",
    "#               'NISSAN',\n",
    "#               'MERCEDES',\n",
    "#               'TOYOTA',\n",
    "#               'AUDI',\n",
    "#               'MITSUBISHI',\n",
    "#               'SKODA',\n",
    "#               'VOLVO',\n",
    "#               'HONDA',\n",
    "#               'INFINITI',\n",
    "#               'LEXUS',\n",
    "#               'FORD',\n",
    "#               'KIA',\n",
    "#               'HYUNDAI',\n",
    "#               'MAZDA',\n",
    "#               'RENO',\n",
    "#               'Peugeot'\n",
    "]"
   ]
  },
  {
   "cell_type": "code",
   "execution_count": null,
   "metadata": {
    "scrolled": true
   },
   "outputs": [],
   "source": [
    "for i in brand_list:\n",
    "    parser(i,100)"
   ]
  },
  {
   "cell_type": "markdown",
   "metadata": {},
   "source": [
    "# Обрабатываем спизженное"
   ]
  },
  {
   "cell_type": "code",
   "execution_count": null,
   "metadata": {},
   "outputs": [],
   "source": [
    "cols = ['bodyType', 'brand', 'car_url', 'color', 'complectation_dict',\n",
    "       'description', 'engineDisplacement', 'enginePower', 'equipment_dict',\n",
    "       'fuelType', 'image', 'mileage', 'modelDate', 'model_info', 'model_name',\n",
    "       'name', 'numberOfDoors', 'parsing_unixtime', 'priceCurrency',\n",
    "       'productionDate', 'sell_id', 'super_gen', 'vehicleConfiguration',\n",
    "       'vehicleTransmission', 'vendor', 'Владельцы', 'Владение', 'ПТС',\n",
    "       'Привод', 'Руль', 'Состояние', 'Таможня','price']#'price_segment'"
   ]
  },
  {
   "cell_type": "code",
   "execution_count": null,
   "metadata": {},
   "outputs": [],
   "source": [
    "def get_df(parsed_json):\n",
    "    df = pd.DataFrame(data=None,columns=cols,index = range(len(parsed_json)))\n",
    "    NaN = np.nan\n",
    "    for i, vehicle in enumerate(parsed_json):\n",
    "        try:\n",
    "            df.loc[i]['color'] = vehicle['color_hex']\n",
    "        except:\n",
    "            df.loc[i]['color'] = NaN\n",
    "        try:\n",
    "            df.loc[i].brand = vehicle['vehicle_info']['mark_info']['name']\n",
    "        except:\n",
    "            df.loc[i].brand = NaN\n",
    "        try:\n",
    "            df.loc[i].complectation_dict = vehicle['vehicle_info']['complectation']\n",
    "        except:\n",
    "            df.loc[i].complectation_dict = NaN\n",
    "        try:\n",
    "            df.loc[i].engineDisplacement = vehicle['vehicle_info']['tech_param']['displacement']\n",
    "        except:\n",
    "            df.loc[i].engineDisplacement = NaN\n",
    "        try:\n",
    "            df.loc[i].enginePower = vehicle['vehicle_info']['tech_param']['power']\n",
    "        except:\n",
    "            df.loc[i].enginePower = NaN\n",
    "        try:\n",
    "            df.loc[i].equipment_dict = vehicle['vehicle_info']['equipment']\n",
    "        except:\n",
    "            df.loc[i].equipment_dict = NaN\n",
    "        try:\n",
    "            df.loc[i].fuelType = vehicle['lk_summary'].split(',')[-1]\n",
    "        except:\n",
    "            df.loc[i].fuelType = NaN\n",
    "        try:\n",
    "            df.loc[i].image = vehicle['state']['image_urls'][0]['sizes']['1200x900n']\n",
    "        except:\n",
    "            df.loc[i].image = NaN\n",
    "        try:\n",
    "            df.loc[i].mileage = vehicle['state']['mileage']\n",
    "        except:\n",
    "            df.loc[i].mileage = NaN\n",
    "        try:\n",
    "            df.loc[i].modelDate = vehicle['vehicle_info']['super_gen']['year_from']\n",
    "        except:\n",
    "            df.loc[i].modelDate = NaN\n",
    "        try:\n",
    "            df.loc[i].model_info = vehicle['vehicle_info']['model_info']\n",
    "        except:\n",
    "            df.loc[i].model_info = NaN\n",
    "        try:\n",
    "            df.loc[i].model_name = vehicle['vehicle_info']['model_info']['code']\n",
    "        except:\n",
    "            df.loc[i].model_name = NaN\n",
    "        try:\n",
    "            df.loc[i]['name'] = vehicle['vehicle_info']['tech_param']['human_name']\n",
    "#             df.loc[i]['name'] = vehicle['lk_summary']  # !!!!!!!!!!!!!!!!!!!\n",
    "        except:\n",
    "            df.loc[i]['name'] = NaN\n",
    "        try:\n",
    "            df.loc[i].numberOfDoors = vehicle['vehicle_info']['configuration']['doors_count']\n",
    "        except:\n",
    "            df.loc[i].numberOfDoors = NaN\n",
    "        try:\n",
    "            df.loc[i].parsing_unixtime = 'today'\n",
    "        except:\n",
    "            df.loc[i].parsing_unixtime = NaN\n",
    "        try:\n",
    "            df.loc[i].productionDate = vehicle['documents']['year']\n",
    "        except:\n",
    "            df.loc[i].productionDate = NaN\n",
    "        try:\n",
    "            df.loc[i].sell_id = vehicle['id']\n",
    "        except:\n",
    "            df.loc[i].sell_id = NaN\n",
    "        try:\n",
    "            df.loc[i].super_gen = vehicle['vehicle_info']['tech_param'] #!!!\n",
    "        except:\n",
    "            df.loc[i].super_gen = NaN\n",
    "        try:\n",
    "            df.loc[i].vehicleConfiguration = 'useless_col'\n",
    "        except:\n",
    "            df.loc[i].vehicleConfiguration = NaN\n",
    "        try:\n",
    "            df.loc[i].vehicleTransmission = vehicle['vehicle_info']['tech_param']['transmission']\n",
    "        except:\n",
    "            df.loc[i].vehicleTransmission = NaN\n",
    "        try:\n",
    "            df.loc[i].vendor = vehicle['vehicle_info']['vendor']\n",
    "        except:\n",
    "            df.loc[i].vendor = NaN\n",
    "        try:\n",
    "            df.loc[i].Владение = vehicle['documents']['purchase_date'] #!!!\n",
    "        except:\n",
    "            df.loc[i].Владение = NaN\n",
    "        try:\n",
    "            df.loc[i].Привод = vehicle['lk_summary'].split(',')[2]\n",
    "        except:\n",
    "            df.loc[i].Привод = NaN\n",
    "        try:\n",
    "            df.loc[i].Состояние = vehicle['state']['state_not_beaten']\n",
    "        except:\n",
    "            df.loc[i].Состояние = NaN\n",
    "        try:\n",
    "            df.loc[i].Таможня = vehicle['documents']['custom_cleared']\n",
    "        except:\n",
    "            df.loc[i].Таможня = NaN\n",
    "#         try:\n",
    "#             df.loc[i].price_segment = vehicle['vehicle_info']['super_gen']['price_segment']\n",
    "#         except:\n",
    "#             df.loc[i].price_segmen = NaN\n",
    "        try:\n",
    "            df.loc[i].bodyType = vehicle['vehicle_info']['configuration']['human_name']\n",
    "        except:\n",
    "            df.loc[i].bodyType = NaN\n",
    "        try:\n",
    "            df.loc[i].description = vehicle['description']\n",
    "        except:\n",
    "            df.loc[i].description = NaN\n",
    "        try:\n",
    "            df.loc[i].Владельцы = vehicle['documents']['owners_number']\n",
    "        except:\n",
    "            df.loc[i].Владельцы = NaN\n",
    "        try:\n",
    "            df.loc[i].price = vehicle['price_info']['price']\n",
    "        except:\n",
    "            df.loc[i].price = NaN\n",
    "        try:\n",
    "            df.loc[i].priceCurrency = vehicle['price_info']['currency']\n",
    "        except:\n",
    "            df.loc[i].priceCurrency = NaN\n",
    "        try:\n",
    "            df.loc[i].ПТС = vehicle['documents']['pts']\n",
    "        except:\n",
    "            df.loc[i].ПТС = NaN\n",
    "        try:\n",
    "            df.loc[i].Руль = vehicle['vehicle_info']['steering_wheel']\n",
    "        except:\n",
    "            df.loc[i].Руль = NaN\n",
    "            \n",
    "    return df"
   ]
  },
  {
   "cell_type": "code",
   "execution_count": null,
   "metadata": {},
   "outputs": [],
   "source": [
    "def get_train(car_name):\n",
    "    df = pd.DataFrame(data=None)\n",
    "    with open (f'data_{car_name}.json', 'r', encoding='utf8') as f:\n",
    "        data = json.load(f)\n",
    "    df = get_df(data)\n",
    "    return df"
   ]
  },
  {
   "cell_type": "code",
   "execution_count": null,
   "metadata": {},
   "outputs": [],
   "source": [
    "AUDI = get_train('AUDI')\n",
    "BMW = get_train('BMW')\n",
    "HONDA = get_train('HONDA')\n",
    "INFINITI = get_train('INFINITI')\n",
    "LEXUS = get_train('LEXUS')\n",
    "MERCEDES = get_train('MERCEDES')\n",
    "MITSUBISHI = get_train('MITSUBISHI')\n",
    "NISSAN = get_train('NISSAN')\n",
    "SKODA = get_train('SKODA')\n",
    "TOYOTA = get_train('TOYOTA')\n",
    "VOLKSWAGEN = get_train('VOLKSWAGEN')\n",
    "FORD = get_train('FORD')\n",
    "HYUNDAI = get_train('HYUNDAI')\n",
    "KIA = get_train('KIA')\n",
    "VOLVO = get_train('VOLVO')\n",
    "MAZDA = get_train('MAZDA')\n",
    "RENO = get_train('RENO')\n",
    "Peugeot = get_train('Peugeot')\n"
   ]
  },
  {
   "cell_type": "code",
   "execution_count": null,
   "metadata": {},
   "outputs": [],
   "source": [
    "df_list = [BMW,\n",
    "           VOLKSWAGEN,NISSAN,\n",
    "           MERCEDES,TOYOTA,AUDI,\n",
    "           MITSUBISHI,SKODA,VOLVO,\n",
    "           HONDA,INFINITI,LEXUS,\n",
    "           FORD,KIA,HYUNDAI,MAZDA,RENO,Peugeot]\n",
    "df = pd.concat(df_list, sort=False)"
   ]
  },
  {
   "cell_type": "code",
   "execution_count": null,
   "metadata": {},
   "outputs": [],
   "source": [
    "# Plot missing values\n",
    "colors = ['#50248f', '#38d1ff']\n",
    "cols = df.columns\n",
    "fig, ax = plt.subplots(figsize=(15, 15))\n",
    "sns.heatmap(df[cols].isnull(), cmap=sns.color_palette(colors))\n",
    "\n",
    "# Show in percents\n",
    "for col in df.columns:\n",
    "    pct_missing = np.mean(df[col].isnull())\n",
    "    print(f'{col} - {round(pct_missing*100)}%')"
   ]
  },
  {
   "cell_type": "code",
   "execution_count": null,
   "metadata": {},
   "outputs": [],
   "source": [
    "# colors = {'FFD600':'Жёлтый',\n",
    "#           \"660099\":'Пурпурный',\n",
    "#           \"DEA522\":'Золотистый',\n",
    "#           \"007F00\":'Зелёный',\n",
    "#           \"040001\":'Чёрный',\n",
    "#           \"C49648\":'Бежевый',\n",
    "#           \"CACECB\":'Серебристый',\n",
    "#           \"EE1D19\":'Красный',\n",
    "#           \"0000CC\":'Синий',\n",
    "#           \"22A0F8\":'Голубой',\n",
    "#           \"FFC0CB\":'Розовый',\n",
    "#           \"4A2197\":'Фиолетовый',\n",
    "#           \"FF8649\":'Оранжевый',\n",
    "#           \"200204\":'Коричневый',\n",
    "#           \"97948F\":'Серый',\n",
    "#           \"FAFBFB\":'Белый'}"
   ]
  },
  {
   "cell_type": "code",
   "execution_count": null,
   "metadata": {},
   "outputs": [],
   "source": [
    "# df['color'] = df['color'].map(colors)"
   ]
  },
  {
   "cell_type": "code",
   "execution_count": null,
   "metadata": {},
   "outputs": [],
   "source": [
    "df.to_csv('train_parsed_20_05_21.csv', index = False)"
   ]
  },
  {
   "cell_type": "markdown",
   "metadata": {},
   "source": [
    "### уДАЛИТЬ"
   ]
  },
  {
   "cell_type": "code",
   "execution_count": 22,
   "metadata": {},
   "outputs": [],
   "source": [
    "def parser(model, page_range):\n",
    "    offers = []\n",
    "    years = [1980,1990,2000,2010,2020,2021]\n",
    "    try:\n",
    "        for x in range(1, page_range):\n",
    "            for year_to in years:\n",
    "                time.sleep(.2)\n",
    "                param = {\n",
    "                    \"color\": [\n",
    "                        \"FFD600\", \"660099\", \"DEA522\", \"007F00\", \"040001\",\n",
    "                        \"C49648\", \"CACECB\", \"EE1D19\", \"0000CC\", \"22A0F8\",\n",
    "                        \"FFC0CB\", \"4A2197\", \"FF8649\", \"200204\", \"97948F\",\n",
    "                        \"FAFBFB\"\n",
    "                    ],\n",
    "                    \"year_from\":\n",
    "                    1900,\n",
    "                    \"year_to\":\n",
    "                    year_to,\n",
    "                    \"catalog_filter\": [{\n",
    "                        \"mark\": model\n",
    "                    }],\n",
    "                    \"damage_group\":\n",
    "                    \"ANY\",\n",
    "                    'sort':\n",
    "                    \"fresh_relevance_1-desc\",  #\n",
    "                    \"top_days\":\n",
    "                    \"900\",  #\n",
    "                    \"customs_state_group\":\n",
    "                    \"DOESNT_MATTER\",\n",
    "                    \"section\":\n",
    "                    \"all\",\n",
    "                    \"category\":\n",
    "                    \"cars\",\n",
    "                    \"page\":\n",
    "                    x\n",
    "                }\n",
    "\n",
    "            response = requests.post(url, json=param,\n",
    "                                     headers=dict_header)  # тырим json\n",
    "            print(response.status_code)  # Статус запроса\n",
    "            data = response.json()  # извлекаем стыренное\n",
    "            # берем из json только оферы на тачки. Мусор не берем\n",
    "            offers.extend(data['offers'])\n",
    "            print(f'Current_page: {x}')  # Стата по страницам\n",
    "    except:\n",
    "        print('Fail')\n",
    "    with open(f'data_{model}.json', 'w') as f:\n",
    "        json.dump(offers, f)\n",
    "    print(f'File \"data_{model}\" is ready')"
   ]
  },
  {
   "cell_type": "code",
   "execution_count": 24,
   "metadata": {},
   "outputs": [
    {
     "name": "stdout",
     "output_type": "stream",
     "text": [
      "200\n",
      "Current_page: 1\n",
      "200\n",
      "Current_page: 2\n",
      "200\n",
      "Current_page: 3\n",
      "200\n",
      "Current_page: 4\n",
      "200\n",
      "Current_page: 5\n",
      "200\n",
      "Current_page: 6\n",
      "200\n",
      "Current_page: 7\n",
      "Fail\n",
      "File \"data_BMW\" is ready\n"
     ]
    }
   ],
   "source": [
    "for i in brand_list:\n",
    "    parser(i,100)"
   ]
  },
  {
   "cell_type": "code",
   "execution_count": null,
   "metadata": {},
   "outputs": [],
   "source": []
  },
  {
   "cell_type": "code",
   "execution_count": null,
   "metadata": {},
   "outputs": [],
   "source": []
  },
  {
   "cell_type": "code",
   "execution_count": null,
   "metadata": {},
   "outputs": [],
   "source": [
    "columns = {\n",
    "    'bodyType': 'body_type',\n",
    "    'engineDisplacement': 'engine_displacement',\n",
    "    'enginePower': 'engine_power',\n",
    "    'fuelType': 'fuel_type',\n",
    "    'modelDate': 'model_date',\n",
    "    'numberOfDoors': 'doors_count',\n",
    "    'priceCurrency': 'price_currency',\n",
    "    'productionDate': 'production_date',\n",
    "    'vehicleConfiguration': 'vehicle_configuration',\n",
    "    'vehicleTransmission': 'vehicle_transmission',\n",
    "    'Владельцы': 'owner_count',\n",
    "    'Владение': 'owning_period',\n",
    "    'ПТС': 'car_passport',\n",
    "    'Привод': 'wheel_drive',\n",
    "    'Руль': 'wheel_location',\n",
    "    'Состояние': 'condition',\n",
    "    'Таможня': 'custom'\n",
    "}"
   ]
  },
  {
   "cell_type": "code",
   "execution_count": null,
   "metadata": {},
   "outputs": [],
   "source": [
    "df_train = pd.read_csv('train_parsed_20_05_21.csv')"
   ]
  },
  {
   "cell_type": "code",
   "execution_count": null,
   "metadata": {
    "scrolled": true
   },
   "outputs": [],
   "source": [
    "df_train"
   ]
  },
  {
   "cell_type": "code",
   "execution_count": null,
   "metadata": {},
   "outputs": [],
   "source": []
  },
  {
   "cell_type": "code",
   "execution_count": null,
   "metadata": {},
   "outputs": [],
   "source": [
    "df_train.rename(columns=columns,inplace=True)"
   ]
  },
  {
   "cell_type": "code",
   "execution_count": null,
   "metadata": {},
   "outputs": [],
   "source": [
    "df_train['engine_displacement'] = round(df_train['engine_displacement']/1000, 1)"
   ]
  },
  {
   "cell_type": "code",
   "execution_count": null,
   "metadata": {},
   "outputs": [],
   "source": [
    "df_train['owner_count'] = df_train['owner_count'].map({1.0:'1',2.0:'2',3.0:'3',4.0:'3'}).astype('category')"
   ]
  },
  {
   "cell_type": "code",
   "execution_count": null,
   "metadata": {},
   "outputs": [],
   "source": [
    "def missing_vars(data, column, random_proba=True):\n",
    "    '''Function is called for filling of missing data'''\n",
    "    # With using probability and random choise\n",
    "\n",
    "    if random_proba:\n",
    "        col_name = data[column].value_counts().index.to_list(\n",
    "        )  # get list of values\n",
    "        col_distr = data[column].value_counts(\n",
    "            normalize=True).values  # get l;ist of probs\n",
    "        missing = data[col].isnull()  # flag of missing val\n",
    "        # substitute values from the list of names in accordance with the probability of meeting the name\n",
    "        data.loc[missing, [column]] = np.random.choice(col_name,\n",
    "                                                    size=len(data[missing]),\n",
    "                                                    p=col_distr)\n",
    "\n",
    "    # Using  most common in  column\n",
    "    data[col] = data[col].fillna(data[col].value_counts().index[0])"
   ]
  },
  {
   "cell_type": "code",
   "execution_count": null,
   "metadata": {},
   "outputs": [],
   "source": [
    "cols_to_int64 = ['model_date', 'doors_count']\n",
    "\n",
    "for col in cols_to_int64:\n",
    "    missing_vars(df_train, col)\n",
    "    df_train[col] = df_train[col].astype('int64')"
   ]
  },
  {
   "cell_type": "code",
   "execution_count": null,
   "metadata": {},
   "outputs": [],
   "source": [
    "df_train['body_type'] = list(str(x).lower().replace('.','') for x in df_train['body_type'])"
   ]
  },
  {
   "cell_type": "code",
   "execution_count": null,
   "metadata": {},
   "outputs": [],
   "source": [
    "df_train.duplicated(keep='first').sum()"
   ]
  },
  {
   "cell_type": "code",
   "execution_count": null,
   "metadata": {},
   "outputs": [],
   "source": [
    "dubl = df_train[df_train.duplicated(keep=False)]"
   ]
  },
  {
   "cell_type": "code",
   "execution_count": null,
   "metadata": {},
   "outputs": [],
   "source": []
  }
 ],
 "metadata": {
  "kernelspec": {
   "display_name": "Python 3",
   "language": "python",
   "name": "python3"
  },
  "language_info": {
   "codemirror_mode": {
    "name": "ipython",
    "version": 3
   },
   "file_extension": ".py",
   "mimetype": "text/x-python",
   "name": "python",
   "nbconvert_exporter": "python",
   "pygments_lexer": "ipython3",
   "version": "3.8.5"
  },
  "toc": {
   "base_numbering": 1,
   "nav_menu": {},
   "number_sections": true,
   "sideBar": true,
   "skip_h1_title": false,
   "title_cell": "Table of Contents",
   "title_sidebar": "Contents",
   "toc_cell": false,
   "toc_position": {},
   "toc_section_display": true,
   "toc_window_display": true
  },
  "varInspector": {
   "cols": {
    "lenName": 16,
    "lenType": 16,
    "lenVar": 40
   },
   "kernels_config": {
    "python": {
     "delete_cmd_postfix": "",
     "delete_cmd_prefix": "del ",
     "library": "var_list.py",
     "varRefreshCmd": "print(var_dic_list())"
    },
    "r": {
     "delete_cmd_postfix": ") ",
     "delete_cmd_prefix": "rm(",
     "library": "var_list.r",
     "varRefreshCmd": "cat(var_dic_list()) "
    }
   },
   "types_to_exclude": [
    "module",
    "function",
    "builtin_function_or_method",
    "instance",
    "_Feature"
   ],
   "window_display": false
  }
 },
 "nbformat": 4,
 "nbformat_minor": 4
}
